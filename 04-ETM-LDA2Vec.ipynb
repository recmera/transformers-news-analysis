{
 "cells": [
  {
   "cell_type": "code",
   "execution_count": 2,
   "id": "928df22e",
   "metadata": {
    "scrolled": false
   },
   "outputs": [
    {
     "ename": "ModuleNotFoundError",
     "evalue": "No module named 'pandas'",
     "output_type": "error",
     "traceback": [
      "\u001b[0;31m---------------------------------------------------------------------------\u001b[0m",
      "\u001b[0;31mModuleNotFoundError\u001b[0m                       Traceback (most recent call last)",
      "Input \u001b[0;32mIn [2]\u001b[0m, in \u001b[0;36m<cell line: 2>\u001b[0;34m()\u001b[0m\n\u001b[1;32m      1\u001b[0m \u001b[38;5;28;01mimport\u001b[39;00m \u001b[38;5;21;01mwarnings\u001b[39;00m\n\u001b[0;32m----> 2\u001b[0m \u001b[38;5;28;01mimport\u001b[39;00m \u001b[38;5;21;01mpandas\u001b[39;00m \u001b[38;5;28;01mas\u001b[39;00m \u001b[38;5;21;01mpd\u001b[39;00m\n\u001b[1;32m      4\u001b[0m warnings\u001b[38;5;241m.\u001b[39mfilterwarnings(\u001b[38;5;124m\"\u001b[39m\u001b[38;5;124mignore\u001b[39m\u001b[38;5;124m\"\u001b[39m, category\u001b[38;5;241m=\u001b[39m\u001b[38;5;167;01mDeprecationWarning\u001b[39;00m)\n",
      "\u001b[0;31mModuleNotFoundError\u001b[0m: No module named 'pandas'"
     ]
    }
   ],
   "source": [
    "import warnings\n",
    "import pandas as pd\n",
    "\n",
    "warnings.filterwarnings(\"ignore\", category=DeprecationWarning)"
   ]
  },
  {
   "cell_type": "code",
   "execution_count": null,
   "id": "e722455b",
   "metadata": {},
   "outputs": [],
   "source": []
  },
  {
   "cell_type": "code",
   "execution_count": null,
   "id": "b642ca43",
   "metadata": {},
   "outputs": [],
   "source": []
  },
  {
   "cell_type": "code",
   "execution_count": null,
   "id": "d7b97fa8",
   "metadata": {},
   "outputs": [],
   "source": []
  },
  {
   "cell_type": "code",
   "execution_count": null,
   "id": "b5a2d76f",
   "metadata": {},
   "outputs": [],
   "source": []
  },
  {
   "cell_type": "code",
   "execution_count": 6,
   "id": "d0a29a4f",
   "metadata": {},
   "outputs": [
    {
     "ename": "ModuleNotFoundError",
     "evalue": "No module named 'pandas'",
     "output_type": "error",
     "traceback": [
      "\u001b[0;31m---------------------------------------------------------------------------\u001b[0m",
      "\u001b[0;31mModuleNotFoundError\u001b[0m                       Traceback (most recent call last)",
      "Input \u001b[0;32mIn [6]\u001b[0m, in \u001b[0;36m<cell line: 1>\u001b[0;34m()\u001b[0m\n\u001b[0;32m----> 1\u001b[0m \u001b[38;5;28;01mimport\u001b[39;00m \u001b[38;5;21;01mpandas\u001b[39;00m \u001b[38;5;28;01mas\u001b[39;00m \u001b[38;5;21;01mpd\u001b[39;00m\n\u001b[1;32m      3\u001b[0m df \u001b[38;5;241m=\u001b[39m pd\u001b[38;5;241m.\u001b[39mread_csv(\u001b[38;5;124m\"\u001b[39m\u001b[38;5;124mdataset-loslagos-8months.csv\u001b[39m\u001b[38;5;124m\"\u001b[39m, \n\u001b[1;32m      4\u001b[0m                  sep\u001b[38;5;241m=\u001b[39m\u001b[38;5;124m\"\u001b[39m\u001b[38;5;124m;\u001b[39m\u001b[38;5;124m\"\u001b[39m, \n\u001b[1;32m      5\u001b[0m                  engine\u001b[38;5;241m=\u001b[39m\u001b[38;5;124m'\u001b[39m\u001b[38;5;124mpython\u001b[39m\u001b[38;5;124m'\u001b[39m)\n\u001b[1;32m      6\u001b[0m df\u001b[38;5;241m.\u001b[39mcolumns \u001b[38;5;241m=\u001b[39m [\u001b[38;5;124m\"\u001b[39m\u001b[38;5;124mdate\u001b[39m\u001b[38;5;124m\"\u001b[39m, \u001b[38;5;124m\"\u001b[39m\u001b[38;5;124mmedia_outlet\u001b[39m\u001b[38;5;124m\"\u001b[39m, \u001b[38;5;124m\"\u001b[39m\u001b[38;5;124murl\u001b[39m\u001b[38;5;124m\"\u001b[39m, \u001b[38;5;124m\"\u001b[39m\u001b[38;5;124mtitle\u001b[39m\u001b[38;5;124m\"\u001b[39m, \u001b[38;5;124m\"\u001b[39m\u001b[38;5;124mtext\u001b[39m\u001b[38;5;124m\"\u001b[39m]\n",
      "\u001b[0;31mModuleNotFoundError\u001b[0m: No module named 'pandas'"
     ]
    }
   ],
   "source": [
    "df = pd.read_csv(\"dataset-loslagos-8months.csv\", \n",
    "                 sep=\";\", \n",
    "                 engine='python')\n",
    "df.columns = [\"date\", \"media_outlet\", \"url\", \"title\", \"text\"]\n",
    "df[\"content\"] = \"\"\n",
    "df.content = df.title + \" \" + df.text\n",
    "print(\"Largo del dataset: \", len(df))\n",
    "df.head()"
   ]
  },
  {
   "cell_type": "markdown",
   "id": "16e4878d",
   "metadata": {},
   "source": [
    "<img src=\"img/los_lagos.png\" />\n",
    "\n",
    "Fuente: [wikipedia](https://es.wikipedia.org/wiki/Portal:Regi%C3%B3n_de_Los_Lagos/Comunas_de_Los_Lagos)"
   ]
  },
  {
   "cell_type": "code",
   "execution_count": 3,
   "id": "c3949f3f",
   "metadata": {},
   "outputs": [],
   "source": [
    "comunas = [\"ancud\", \"castro\", \"chonchi\", \"curaco de vélez\", \"dalcahue\", \n",
    "           \"puqueldón\", \"queilén\", \"quemchi\", \"quellón\", \"quinchao\"\n",
    "           \"calbuco\", \"cochamó\", \"fresia\", \"frutillar\", \"llanquihue\"\n",
    "           \"los muermos\", \"maullin\", \"puerto montt\", \"puerto varas\", \"osorno\"\n",
    "           \"puerto octay\", \"purranque\", \"puyehue\", \"rio negro\", \"san juan de la costa\",\n",
    "           \"san pablo\", \"chaitén\", \"futaleufú\", \"hualaihué\", \"palena\"]"
   ]
  },
  {
   "cell_type": "code",
   "execution_count": 4,
   "id": "8023a231",
   "metadata": {},
   "outputs": [
    {
     "data": {
      "application/vnd.jupyter.widget-view+json": {
       "model_id": "6d693df7e245455fb9ad88419d7903ee",
       "version_major": 2,
       "version_minor": 0
      },
      "text/plain": [
       "buscando comunas en content: 0it [00:00, ?it/s]"
      ]
     },
     "metadata": {},
     "output_type": "display_data"
    }
   ],
   "source": [
    "from tqdm.notebook import tqdm_notebook\n",
    "\n",
    "df['comuna'] = \"\"\n",
    "for index, row in tqdm_notebook(df.iterrows(), desc=\"buscando comunas en content\"):\n",
    "    found = [comuna for comuna in comunas if(comuna in str(row[\"content\"]).lower())]\n",
    "    if(len(found)!= 0): df.at[index, 'comuna'] = found\n"
   ]
  },
  {
   "cell_type": "code",
   "execution_count": 5,
   "id": "c6f2e1a6",
   "metadata": {
    "scrolled": true
   },
   "outputs": [
    {
     "data": {
      "text/plain": [
       "                                               19122\n",
       "[puerto montt]                                  2418\n",
       "[castro]                                        1148\n",
       "[puerto varas]                                   708\n",
       "[ancud]                                          543\n",
       "[puerto montt, puerto varas]                     270\n",
       "[castro, puerto montt]                           205\n",
       "[quellón]                                        205\n",
       "[purranque]                                      191\n",
       "[ancud, castro, chonchi, dalcahue, quellón]      183\n",
       "[puyehue]                                        163\n",
       "[ancud, castro]                                  136\n",
       "[frutillar]                                      130\n",
       "[palena]                                         127\n",
       "[san juan de la costa]                           124\n",
       "Name: comuna, dtype: int64"
      ]
     },
     "execution_count": 5,
     "metadata": {},
     "output_type": "execute_result"
    }
   ],
   "source": [
    "df['comuna'].value_counts()[:15]"
   ]
  },
  {
   "cell_type": "code",
   "execution_count": 6,
   "id": "a7e6b009",
   "metadata": {
    "scrolled": true
   },
   "outputs": [
    {
     "data": {
      "text/html": [
       "<div>\n",
       "<style scoped>\n",
       "    .dataframe tbody tr th:only-of-type {\n",
       "        vertical-align: middle;\n",
       "    }\n",
       "\n",
       "    .dataframe tbody tr th {\n",
       "        vertical-align: top;\n",
       "    }\n",
       "\n",
       "    .dataframe thead th {\n",
       "        text-align: right;\n",
       "    }\n",
       "</style>\n",
       "<table border=\"1\" class=\"dataframe\">\n",
       "  <thead>\n",
       "    <tr style=\"text-align: right;\">\n",
       "      <th></th>\n",
       "      <th>date</th>\n",
       "      <th>media_outlet</th>\n",
       "      <th>url</th>\n",
       "      <th>title</th>\n",
       "      <th>text</th>\n",
       "      <th>content</th>\n",
       "      <th>comuna</th>\n",
       "    </tr>\n",
       "  </thead>\n",
       "  <tbody>\n",
       "    <tr>\n",
       "      <th>7</th>\n",
       "      <td>2021-10-01</td>\n",
       "      <td>seminariolocal</td>\n",
       "      <td>https://www.semanariolocal.cl/archivos/2207</td>\n",
       "      <td>Gremio médico rechaza cierre de camas críticas...</td>\n",
       "      <td>El Capítulo Médico Ancud y el Consejo Regional...</td>\n",
       "      <td>Gremio médico rechaza cierre de camas críticas...</td>\n",
       "      <td>[ancud, puerto montt]</td>\n",
       "    </tr>\n",
       "    <tr>\n",
       "      <th>33</th>\n",
       "      <td>2021-10-01</td>\n",
       "      <td>laestrelladechiloe</td>\n",
       "      <td>https://www.laestrellachiloe.cl/impresa/2021/1...</td>\n",
       "      <td>Acercan atención de salud a los vecinos de Tri...</td>\n",
       "      <td>El corte de cinta de la Estación Médico Rural ...</td>\n",
       "      <td>Acercan atención de salud a los vecinos de Tri...</td>\n",
       "      <td>[ancud, quellón]</td>\n",
       "    </tr>\n",
       "    <tr>\n",
       "      <th>34</th>\n",
       "      <td>2021-10-01</td>\n",
       "      <td>laestrelladechiloe</td>\n",
       "      <td>https://www.laestrellachiloe.cl/impresa/2021/1...</td>\n",
       "      <td>Puqueldón avanza a apertura en el fin del Esta...</td>\n",
       "      <td>El avance de Puqueldón a la apertura inicial, ...</td>\n",
       "      <td>Puqueldón avanza a apertura en el fin del Esta...</td>\n",
       "      <td>[ancud, castro, puqueldón, quellón]</td>\n",
       "    </tr>\n",
       "    <tr>\n",
       "      <th>36</th>\n",
       "      <td>2021-10-01</td>\n",
       "      <td>laestrelladechiloe</td>\n",
       "      <td>https://www.laestrellachiloe.cl/impresa/2021/1...</td>\n",
       "      <td>Celebran Día de la Rabia con acciones preventivas</td>\n",
       "      <td>Una demostración de adiestramiento de mascotas...</td>\n",
       "      <td>Celebran Día de la Rabia con acciones preventi...</td>\n",
       "      <td>[ancud, quemchi]</td>\n",
       "    </tr>\n",
       "    <tr>\n",
       "      <th>39</th>\n",
       "      <td>2021-10-01</td>\n",
       "      <td>laestrelladechiloe</td>\n",
       "      <td>https://www.laestrellachiloe.cl/impresa/2021/1...</td>\n",
       "      <td>denuncia y ayuda</td>\n",
       "      <td>no espere de más por atenciones en cesfam.- El...</td>\n",
       "      <td>denuncia y ayuda no espere de más por atencion...</td>\n",
       "      <td>[ancud, castro, chonchi, dalcahue, quellón]</td>\n",
       "    </tr>\n",
       "  </tbody>\n",
       "</table>\n",
       "</div>"
      ],
      "text/plain": [
       "          date        media_outlet  \\\n",
       "7   2021-10-01      seminariolocal   \n",
       "33  2021-10-01  laestrelladechiloe   \n",
       "34  2021-10-01  laestrelladechiloe   \n",
       "36  2021-10-01  laestrelladechiloe   \n",
       "39  2021-10-01  laestrelladechiloe   \n",
       "\n",
       "                                                  url  \\\n",
       "7         https://www.semanariolocal.cl/archivos/2207   \n",
       "33  https://www.laestrellachiloe.cl/impresa/2021/1...   \n",
       "34  https://www.laestrellachiloe.cl/impresa/2021/1...   \n",
       "36  https://www.laestrellachiloe.cl/impresa/2021/1...   \n",
       "39  https://www.laestrellachiloe.cl/impresa/2021/1...   \n",
       "\n",
       "                                                title  \\\n",
       "7   Gremio médico rechaza cierre de camas críticas...   \n",
       "33  Acercan atención de salud a los vecinos de Tri...   \n",
       "34  Puqueldón avanza a apertura en el fin del Esta...   \n",
       "36  Celebran Día de la Rabia con acciones preventivas   \n",
       "39                                   denuncia y ayuda   \n",
       "\n",
       "                                                 text  \\\n",
       "7   El Capítulo Médico Ancud y el Consejo Regional...   \n",
       "33  El corte de cinta de la Estación Médico Rural ...   \n",
       "34  El avance de Puqueldón a la apertura inicial, ...   \n",
       "36  Una demostración de adiestramiento de mascotas...   \n",
       "39  no espere de más por atenciones en cesfam.- El...   \n",
       "\n",
       "                                              content  \\\n",
       "7   Gremio médico rechaza cierre de camas críticas...   \n",
       "33  Acercan atención de salud a los vecinos de Tri...   \n",
       "34  Puqueldón avanza a apertura en el fin del Esta...   \n",
       "36  Celebran Día de la Rabia con acciones preventi...   \n",
       "39  denuncia y ayuda no espere de más por atencion...   \n",
       "\n",
       "                                         comuna  \n",
       "7                         [ancud, puerto montt]  \n",
       "33                             [ancud, quellón]  \n",
       "34          [ancud, castro, puqueldón, quellón]  \n",
       "36                             [ancud, quemchi]  \n",
       "39  [ancud, castro, chonchi, dalcahue, quellón]  "
      ]
     },
     "execution_count": 6,
     "metadata": {},
     "output_type": "execute_result"
    }
   ],
   "source": [
    "selection = ['ancud']\n",
    "mask = df.comuna.apply(lambda x: any(item for item in selection if item in x))\n",
    "\n",
    "df1 = df[mask]\n",
    "df1.head()"
   ]
  },
  {
   "cell_type": "code",
   "execution_count": null,
   "id": "e8a665f7",
   "metadata": {},
   "outputs": [],
   "source": []
  },
  {
   "cell_type": "markdown",
   "id": "c4f31062",
   "metadata": {},
   "source": [
    "### [Topic Modelling in Embedding Spaces](https://github.com/lffloyd/embedded-topic-model)"
   ]
  },
  {
   "cell_type": "code",
   "execution_count": 7,
   "id": "4628a1aa",
   "metadata": {},
   "outputs": [
    {
     "name": "stdout",
     "output_type": "stream",
     "text": [
      "1.11.0\n"
     ]
    }
   ],
   "source": [
    "import torch \n",
    "print(torch.__version__)"
   ]
  },
  {
   "cell_type": "code",
   "execution_count": 9,
   "id": "5c1dee27",
   "metadata": {
    "scrolled": false
   },
   "outputs": [
    {
     "name": "stdout",
     "output_type": "stream",
     "text": [
      "Collecting embedded_topic_model\n",
      "  Using cached embedded_topic_model-1.0.2-py3-none-any.whl (17 kB)\n",
      "Collecting numpy==1.19.5\n",
      "  Using cached numpy-1.19.5-cp39-cp39-manylinux2010_x86_64.whl (14.9 MB)\n",
      "Collecting scikit-learn==0.23.2\n",
      "  Using cached scikit-learn-0.23.2.tar.gz (7.2 MB)\n",
      "  Installing build dependencies ... \u001b[?25ldone\n",
      "\u001b[?25h  Getting requirements to build wheel ... \u001b[?25ldone\n",
      "\u001b[?25h  Preparing metadata (pyproject.toml) ... \u001b[?25ldone\n",
      "\u001b[?25hCollecting scipy==1.5.2\n",
      "  Using cached scipy-1.5.2.tar.gz (25.4 MB)\n",
      "  Installing build dependencies ... \u001b[?25ldone\n",
      "\u001b[?25h  Getting requirements to build wheel ... \u001b[?25ldone\n",
      "\u001b[?25h  Preparing metadata (pyproject.toml) ... \u001b[?25ldone\n",
      "\u001b[?25hCollecting gensim==3.8.3\n",
      "  Downloading gensim-3.8.3.tar.gz (23.4 MB)\n",
      "\u001b[2K     \u001b[38;2;114;156;31m━━━━━━━━━━━━━━━━━━━━━━━━━━━━━━━━━━━━━━━━\u001b[0m \u001b[32m23.4/23.4 MB\u001b[0m \u001b[31m5.8 MB/s\u001b[0m eta \u001b[36m0:00:00\u001b[0mm eta \u001b[36m0:00:01\u001b[0m[36m0:00:01\u001b[0mm\n",
      "\u001b[?25h  Preparing metadata (setup.py) ... \u001b[?25ldone\n",
      "\u001b[?25hCollecting embedded_topic_model\n",
      "  Using cached embedded_topic_model-1.0.1-py3-none-any.whl (17 kB)\n",
      "  Using cached embedded_topic_model-1.0.0-py3-none-any.whl (17 kB)\n",
      "  Using cached embedded_topic_model-0.1.1-py3-none-any.whl (17 kB)\n",
      "  Using cached embedded_topic_model-0.1.0-py3-none-any.whl (17 kB)\n",
      "Collecting numpy==1.20.0\n",
      "  Using cached numpy-1.20.0-cp39-cp39-manylinux2010_x86_64.whl (15.4 MB)\n",
      "\u001b[31mERROR: Cannot install embedded-topic-model==0.1.0, embedded-topic-model==0.1.1, embedded-topic-model==1.0.0, embedded-topic-model==1.0.1 and embedded-topic-model==1.0.2 because these package versions have conflicting dependencies.\u001b[0m\u001b[31m\n",
      "\u001b[0m\n",
      "The conflict is caused by:\n",
      "    embedded-topic-model 1.0.2 depends on torch==1.6.0\n",
      "    embedded-topic-model 1.0.1 depends on torch==1.6.0\n",
      "    embedded-topic-model 1.0.0 depends on torch==1.6.0\n",
      "    embedded-topic-model 0.1.1 depends on torch==1.6.0\n",
      "    embedded-topic-model 0.1.0 depends on torch==1.6.0\n",
      "\n",
      "To fix this you could try to:\n",
      "1. loosen the range of package versions you've specified\n",
      "2. remove package versions to allow pip attempt to solve the dependency conflict\n",
      "\n",
      "\u001b[31mERROR: ResolutionImpossible: for help visit https://pip.pypa.io/en/latest/topics/dependency-resolution/#dealing-with-dependency-conflicts\u001b[0m\u001b[31m\n",
      "\u001b[0m"
     ]
    }
   ],
   "source": [
    "#!pip install -U embedded_topic_model"
   ]
  },
  {
   "cell_type": "code",
   "execution_count": 8,
   "id": "6cc29a6d",
   "metadata": {},
   "outputs": [
    {
     "ename": "ModuleNotFoundError",
     "evalue": "No module named 'embedded_topic_model'",
     "output_type": "error",
     "traceback": [
      "\u001b[0;31m---------------------------------------------------------------------------\u001b[0m",
      "\u001b[0;31mModuleNotFoundError\u001b[0m                       Traceback (most recent call last)",
      "Input \u001b[0;32mIn [8]\u001b[0m, in \u001b[0;36m<cell line: 1>\u001b[0;34m()\u001b[0m\n\u001b[0;32m----> 1\u001b[0m \u001b[38;5;28;01mfrom\u001b[39;00m \u001b[38;5;21;01membedded_topic_model\u001b[39;00m\u001b[38;5;21;01m.\u001b[39;00m\u001b[38;5;21;01mutils\u001b[39;00m \u001b[38;5;28;01mimport\u001b[39;00m preprocessing\n\u001b[1;32m      3\u001b[0m \u001b[38;5;66;03m# Preprocessing the dataset\u001b[39;00m\n\u001b[1;32m      4\u001b[0m vocabulary, train_dataset, _, \u001b[38;5;241m=\u001b[39m preprocessing\u001b[38;5;241m.\u001b[39mcreate_etm_datasets(\n\u001b[1;32m      5\u001b[0m     ancud\u001b[38;5;241m.\u001b[39mcontent, \n\u001b[1;32m      6\u001b[0m     min_df\u001b[38;5;241m=\u001b[39m\u001b[38;5;241m0.01\u001b[39m, \n\u001b[1;32m      7\u001b[0m     max_df\u001b[38;5;241m=\u001b[39m\u001b[38;5;241m0.75\u001b[39m, \n\u001b[1;32m      8\u001b[0m     train_size\u001b[38;5;241m=\u001b[39m\u001b[38;5;241m0.85\u001b[39m, \n\u001b[1;32m      9\u001b[0m )\n",
      "\u001b[0;31mModuleNotFoundError\u001b[0m: No module named 'embedded_topic_model'"
     ]
    }
   ],
   "source": [
    "from embedded_topic_model.utils import preprocessing\n",
    "\n",
    "# Preprocessing the dataset\n",
    "vocabulary, train_dataset, _, = preprocessing.create_etm_datasets(\n",
    "    ancud.content, \n",
    "    min_df=0.01, \n",
    "    max_df=0.75, \n",
    "    train_size=0.85, \n",
    ")"
   ]
  },
  {
   "cell_type": "code",
   "execution_count": null,
   "id": "d3355ccf",
   "metadata": {},
   "outputs": [],
   "source": [
    "from embedded_topic_model.utils import embedding\n",
    "\n",
    "# Training word2vec embeddings\n",
    "embeddings_mapping = embedding.create_word2vec_embedding_from_dataset(ancud.content)"
   ]
  },
  {
   "cell_type": "code",
   "execution_count": null,
   "id": "015cfe31",
   "metadata": {},
   "outputs": [],
   "source": [
    "from embedded_topic_model.models.etm import ETM\n",
    "\n",
    "# Training an ETM instance\n",
    "etm_instance = ETM(\n",
    "    vocabulary,\n",
    "    embeddings=embeddings_mapping, # You can pass here the path to a word2vec file or\n",
    "                                   # a KeyedVectors instance\n",
    "    num_topics=8,\n",
    "    epochs=300,\n",
    "    debug_mode=True,\n",
    "    train_embeddings=False, # Optional. If True, ETM will learn word embeddings jointly with\n",
    "                            # topic embeddings. By default, is False. If 'embeddings' argument\n",
    "                            # is being passed, this argument must not be True\n",
    ")\n",
    "\n",
    "etm_instance.fit(train_dataset)"
   ]
  },
  {
   "cell_type": "code",
   "execution_count": null,
   "id": "dad1ac52",
   "metadata": {},
   "outputs": [],
   "source": [
    "topics = etm_instance.get_topics(20)\n",
    "topic_coherence = etm_instance.get_topic_coherence()\n",
    "topic_diversity = etm_instance.get_topic_diversity()"
   ]
  }
 ],
 "metadata": {
  "kernelspec": {
   "display_name": "Python 3 (ipykernel)",
   "language": "python",
   "name": "python3"
  },
  "language_info": {
   "codemirror_mode": {
    "name": "ipython",
    "version": 3
   },
   "file_extension": ".py",
   "mimetype": "text/x-python",
   "name": "python",
   "nbconvert_exporter": "python",
   "pygments_lexer": "ipython3",
   "version": "3.9.12"
  }
 },
 "nbformat": 4,
 "nbformat_minor": 5
}
