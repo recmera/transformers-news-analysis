{
 "cells": [
  {
   "cell_type": "code",
   "execution_count": 1,
   "id": "928df22e",
   "metadata": {
    "scrolled": false
   },
   "outputs": [],
   "source": [
    "import warnings\n",
    "warnings.filterwarnings('ignore')"
   ]
  },
  {
   "cell_type": "code",
   "execution_count": 2,
   "id": "d0a29a4f",
   "metadata": {},
   "outputs": [
    {
     "name": "stdout",
     "output_type": "stream",
     "text": [
      "Largo del dataset:  29598\n"
     ]
    },
    {
     "data": {
      "text/html": [
       "<div>\n",
       "<style scoped>\n",
       "    .dataframe tbody tr th:only-of-type {\n",
       "        vertical-align: middle;\n",
       "    }\n",
       "\n",
       "    .dataframe tbody tr th {\n",
       "        vertical-align: top;\n",
       "    }\n",
       "\n",
       "    .dataframe thead th {\n",
       "        text-align: right;\n",
       "    }\n",
       "</style>\n",
       "<table border=\"1\" class=\"dataframe\">\n",
       "  <thead>\n",
       "    <tr style=\"text-align: right;\">\n",
       "      <th></th>\n",
       "      <th>date</th>\n",
       "      <th>media_outlet</th>\n",
       "      <th>url</th>\n",
       "      <th>title</th>\n",
       "      <th>text</th>\n",
       "      <th>content</th>\n",
       "    </tr>\n",
       "  </thead>\n",
       "  <tbody>\n",
       "    <tr>\n",
       "      <th>0</th>\n",
       "      <td>2021-10-01</td>\n",
       "      <td>elheraldoaustral</td>\n",
       "      <td>https://www.eha.cl/noticia/local/reconocen-a-g...</td>\n",
       "      <td>Reconocen a guardaparques de la Región de Los ...</td>\n",
       "      <td>Distintos protagonistas de los parques naciona...</td>\n",
       "      <td>Reconocen a guardaparques de la Región de Los ...</td>\n",
       "    </tr>\n",
       "    <tr>\n",
       "      <th>1</th>\n",
       "      <td>2021-10-01</td>\n",
       "      <td>elheraldoaustral</td>\n",
       "      <td>https://www.eha.cl/noticia/local/con-nuevos-ma...</td>\n",
       "      <td>Con nuevos materiales comienza plan piloto en ...</td>\n",
       "      <td>Centro de negocios Sercotec coordina acuerdos ...</td>\n",
       "      <td>Con nuevos materiales comienza plan piloto en ...</td>\n",
       "    </tr>\n",
       "    <tr>\n",
       "      <th>2</th>\n",
       "      <td>2021-10-01</td>\n",
       "      <td>elheraldoaustral</td>\n",
       "      <td>https://www.eha.cl/noticia/local/centro-de-sal...</td>\n",
       "      <td>Centro de Salud Familiar CESFAM Puerto Varas i...</td>\n",
       "      <td>Las horas se solicitan en el SOME o bien a tra...</td>\n",
       "      <td>Centro de Salud Familiar CESFAM Puerto Varas i...</td>\n",
       "    </tr>\n",
       "    <tr>\n",
       "      <th>3</th>\n",
       "      <td>2021-10-01</td>\n",
       "      <td>elheraldoaustral</td>\n",
       "      <td>https://www.eha.cl/noticia/local/alcalde-tomas...</td>\n",
       "      <td>Alcalde Tomás Gárate presidió por primera vez ...</td>\n",
       "      <td>Los y las consejeras destacaron el hecho de vo...</td>\n",
       "      <td>Alcalde Tomás Gárate presidió por primera vez ...</td>\n",
       "    </tr>\n",
       "    <tr>\n",
       "      <th>4</th>\n",
       "      <td>2021-10-01</td>\n",
       "      <td>elheraldoaustral</td>\n",
       "      <td>https://www.eha.cl/noticia/local/galeria-de-ar...</td>\n",
       "      <td>Galería de Arte Machacoya realizará remate de ...</td>\n",
       "      <td>Hoy viernes a las 18:30 horas, en Machacoya At...</td>\n",
       "      <td>Galería de Arte Machacoya realizará remate de ...</td>\n",
       "    </tr>\n",
       "  </tbody>\n",
       "</table>\n",
       "</div>"
      ],
      "text/plain": [
       "         date      media_outlet  \\\n",
       "0  2021-10-01  elheraldoaustral   \n",
       "1  2021-10-01  elheraldoaustral   \n",
       "2  2021-10-01  elheraldoaustral   \n",
       "3  2021-10-01  elheraldoaustral   \n",
       "4  2021-10-01  elheraldoaustral   \n",
       "\n",
       "                                                 url  \\\n",
       "0  https://www.eha.cl/noticia/local/reconocen-a-g...   \n",
       "1  https://www.eha.cl/noticia/local/con-nuevos-ma...   \n",
       "2  https://www.eha.cl/noticia/local/centro-de-sal...   \n",
       "3  https://www.eha.cl/noticia/local/alcalde-tomas...   \n",
       "4  https://www.eha.cl/noticia/local/galeria-de-ar...   \n",
       "\n",
       "                                               title  \\\n",
       "0  Reconocen a guardaparques de la Región de Los ...   \n",
       "1  Con nuevos materiales comienza plan piloto en ...   \n",
       "2  Centro de Salud Familiar CESFAM Puerto Varas i...   \n",
       "3  Alcalde Tomás Gárate presidió por primera vez ...   \n",
       "4  Galería de Arte Machacoya realizará remate de ...   \n",
       "\n",
       "                                                text  \\\n",
       "0  Distintos protagonistas de los parques naciona...   \n",
       "1  Centro de negocios Sercotec coordina acuerdos ...   \n",
       "2  Las horas se solicitan en el SOME o bien a tra...   \n",
       "3  Los y las consejeras destacaron el hecho de vo...   \n",
       "4  Hoy viernes a las 18:30 horas, en Machacoya At...   \n",
       "\n",
       "                                             content  \n",
       "0  Reconocen a guardaparques de la Región de Los ...  \n",
       "1  Con nuevos materiales comienza plan piloto en ...  \n",
       "2  Centro de Salud Familiar CESFAM Puerto Varas i...  \n",
       "3  Alcalde Tomás Gárate presidió por primera vez ...  \n",
       "4  Galería de Arte Machacoya realizará remate de ...  "
      ]
     },
     "execution_count": 2,
     "metadata": {},
     "output_type": "execute_result"
    }
   ],
   "source": [
    "import pandas as pd\n",
    "df = pd.read_csv(\"dataset-loslagos-8months.csv\", \n",
    "                 sep=\";\", \n",
    "                 engine='python')\n",
    "df.columns = [\"date\", \"media_outlet\", \"url\", \"title\", \"text\"]\n",
    "df[\"content\"] = \"\"\n",
    "df.content = df.title + \" \" + df.text\n",
    "print(\"Largo del dataset: \", len(df))\n",
    "df.head()"
   ]
  },
  {
   "cell_type": "markdown",
   "id": "16e4878d",
   "metadata": {},
   "source": [
    "<img src=\"img/los_lagos.png\" />\n",
    "\n",
    "Fuente: [wikipedia](https://es.wikipedia.org/wiki/Portal:Regi%C3%B3n_de_Los_Lagos/Comunas_de_Los_Lagos)"
   ]
  },
  {
   "cell_type": "code",
   "execution_count": 3,
   "id": "c3949f3f",
   "metadata": {},
   "outputs": [],
   "source": [
    "comunas = [\"ancud\", \"castro\", \"chonchi\", \"curaco de vélez\", \"dalcahue\", \n",
    "           \"puqueldón\", \"queilén\", \"quemchi\", \"quellón\", \"quinchao\"\n",
    "           \"calbuco\", \"cochamó\", \"fresia\", \"frutillar\", \"llanquihue\"\n",
    "           \"los muermos\", \"maullin\", \"puerto montt\", \"puerto varas\", \"osorno\"\n",
    "           \"puerto octay\", \"purranque\", \"puyehue\", \"rio negro\", \"san juan de la costa\",\n",
    "           \"san pablo\", \"chaitén\", \"futaleufú\", \"hualaihué\", \"palena\"]"
   ]
  },
  {
   "cell_type": "code",
   "execution_count": 4,
   "id": "8023a231",
   "metadata": {},
   "outputs": [
    {
     "data": {
      "application/vnd.jupyter.widget-view+json": {
       "model_id": "fb70958e60604bd5b5a98372402d9791",
       "version_major": 2,
       "version_minor": 0
      },
      "text/plain": [
       "buscando comunas en content: 0it [00:00, ?it/s]"
      ]
     },
     "metadata": {},
     "output_type": "display_data"
    }
   ],
   "source": [
    "from tqdm.notebook import tqdm_notebook\n",
    "\n",
    "df['comuna'] = \"\"\n",
    "for index, row in tqdm_notebook(df.iterrows(), desc=\"buscando comunas en content\"):\n",
    "    found = [comuna for comuna in comunas if(comuna in str(row[\"content\"]).lower())]\n",
    "    if(len(found)!= 0): df.at[index, 'comuna'] = found\n"
   ]
  },
  {
   "cell_type": "code",
   "execution_count": 5,
   "id": "c6f2e1a6",
   "metadata": {
    "scrolled": true
   },
   "outputs": [
    {
     "data": {
      "text/plain": [
       "[puerto montt]                                 2418\n",
       "[castro]                                       1148\n",
       "[puerto varas]                                  708\n",
       "[ancud]                                         543\n",
       "[puerto montt, puerto varas]                    270\n",
       "[castro, puerto montt]                          205\n",
       "[quellón]                                       205\n",
       "[purranque]                                     191\n",
       "[ancud, castro, chonchi, dalcahue, quellón]     183\n",
       "Name: comuna, dtype: int64"
      ]
     },
     "execution_count": 5,
     "metadata": {},
     "output_type": "execute_result"
    }
   ],
   "source": [
    "df['comuna'].value_counts()[1:10]"
   ]
  },
  {
   "cell_type": "code",
   "execution_count": 6,
   "id": "a7e6b009",
   "metadata": {
    "scrolled": true
   },
   "outputs": [
    {
     "data": {
      "text/html": [
       "<div>\n",
       "<style scoped>\n",
       "    .dataframe tbody tr th:only-of-type {\n",
       "        vertical-align: middle;\n",
       "    }\n",
       "\n",
       "    .dataframe tbody tr th {\n",
       "        vertical-align: top;\n",
       "    }\n",
       "\n",
       "    .dataframe thead th {\n",
       "        text-align: right;\n",
       "    }\n",
       "</style>\n",
       "<table border=\"1\" class=\"dataframe\">\n",
       "  <thead>\n",
       "    <tr style=\"text-align: right;\">\n",
       "      <th></th>\n",
       "      <th>date</th>\n",
       "      <th>media_outlet</th>\n",
       "      <th>url</th>\n",
       "      <th>title</th>\n",
       "      <th>text</th>\n",
       "      <th>content</th>\n",
       "      <th>comuna</th>\n",
       "    </tr>\n",
       "  </thead>\n",
       "  <tbody>\n",
       "    <tr>\n",
       "      <th>7</th>\n",
       "      <td>2021-10-01</td>\n",
       "      <td>seminariolocal</td>\n",
       "      <td>https://www.semanariolocal.cl/archivos/2207</td>\n",
       "      <td>Gremio médico rechaza cierre de camas críticas...</td>\n",
       "      <td>El Capítulo Médico Ancud y el Consejo Regional...</td>\n",
       "      <td>Gremio médico rechaza cierre de camas críticas...</td>\n",
       "      <td>[ancud, puerto montt]</td>\n",
       "    </tr>\n",
       "    <tr>\n",
       "      <th>33</th>\n",
       "      <td>2021-10-01</td>\n",
       "      <td>laestrelladechiloe</td>\n",
       "      <td>https://www.laestrellachiloe.cl/impresa/2021/1...</td>\n",
       "      <td>Acercan atención de salud a los vecinos de Tri...</td>\n",
       "      <td>El corte de cinta de la Estación Médico Rural ...</td>\n",
       "      <td>Acercan atención de salud a los vecinos de Tri...</td>\n",
       "      <td>[ancud, quellón]</td>\n",
       "    </tr>\n",
       "    <tr>\n",
       "      <th>34</th>\n",
       "      <td>2021-10-01</td>\n",
       "      <td>laestrelladechiloe</td>\n",
       "      <td>https://www.laestrellachiloe.cl/impresa/2021/1...</td>\n",
       "      <td>Puqueldón avanza a apertura en el fin del Esta...</td>\n",
       "      <td>El avance de Puqueldón a la apertura inicial, ...</td>\n",
       "      <td>Puqueldón avanza a apertura en el fin del Esta...</td>\n",
       "      <td>[ancud, castro, puqueldón, quellón]</td>\n",
       "    </tr>\n",
       "    <tr>\n",
       "      <th>36</th>\n",
       "      <td>2021-10-01</td>\n",
       "      <td>laestrelladechiloe</td>\n",
       "      <td>https://www.laestrellachiloe.cl/impresa/2021/1...</td>\n",
       "      <td>Celebran Día de la Rabia con acciones preventivas</td>\n",
       "      <td>Una demostración de adiestramiento de mascotas...</td>\n",
       "      <td>Celebran Día de la Rabia con acciones preventi...</td>\n",
       "      <td>[ancud, quemchi]</td>\n",
       "    </tr>\n",
       "    <tr>\n",
       "      <th>39</th>\n",
       "      <td>2021-10-01</td>\n",
       "      <td>laestrelladechiloe</td>\n",
       "      <td>https://www.laestrellachiloe.cl/impresa/2021/1...</td>\n",
       "      <td>denuncia y ayuda</td>\n",
       "      <td>no espere de más por atenciones en cesfam.- El...</td>\n",
       "      <td>denuncia y ayuda no espere de más por atencion...</td>\n",
       "      <td>[ancud, castro, chonchi, dalcahue, quellón]</td>\n",
       "    </tr>\n",
       "  </tbody>\n",
       "</table>\n",
       "</div>"
      ],
      "text/plain": [
       "          date        media_outlet  \\\n",
       "7   2021-10-01      seminariolocal   \n",
       "33  2021-10-01  laestrelladechiloe   \n",
       "34  2021-10-01  laestrelladechiloe   \n",
       "36  2021-10-01  laestrelladechiloe   \n",
       "39  2021-10-01  laestrelladechiloe   \n",
       "\n",
       "                                                  url  \\\n",
       "7         https://www.semanariolocal.cl/archivos/2207   \n",
       "33  https://www.laestrellachiloe.cl/impresa/2021/1...   \n",
       "34  https://www.laestrellachiloe.cl/impresa/2021/1...   \n",
       "36  https://www.laestrellachiloe.cl/impresa/2021/1...   \n",
       "39  https://www.laestrellachiloe.cl/impresa/2021/1...   \n",
       "\n",
       "                                                title  \\\n",
       "7   Gremio médico rechaza cierre de camas críticas...   \n",
       "33  Acercan atención de salud a los vecinos de Tri...   \n",
       "34  Puqueldón avanza a apertura en el fin del Esta...   \n",
       "36  Celebran Día de la Rabia con acciones preventivas   \n",
       "39                                   denuncia y ayuda   \n",
       "\n",
       "                                                 text  \\\n",
       "7   El Capítulo Médico Ancud y el Consejo Regional...   \n",
       "33  El corte de cinta de la Estación Médico Rural ...   \n",
       "34  El avance de Puqueldón a la apertura inicial, ...   \n",
       "36  Una demostración de adiestramiento de mascotas...   \n",
       "39  no espere de más por atenciones en cesfam.- El...   \n",
       "\n",
       "                                              content  \\\n",
       "7   Gremio médico rechaza cierre de camas críticas...   \n",
       "33  Acercan atención de salud a los vecinos de Tri...   \n",
       "34  Puqueldón avanza a apertura en el fin del Esta...   \n",
       "36  Celebran Día de la Rabia con acciones preventi...   \n",
       "39  denuncia y ayuda no espere de más por atencion...   \n",
       "\n",
       "                                         comuna  \n",
       "7                         [ancud, puerto montt]  \n",
       "33                             [ancud, quellón]  \n",
       "34          [ancud, castro, puqueldón, quellón]  \n",
       "36                             [ancud, quemchi]  \n",
       "39  [ancud, castro, chonchi, dalcahue, quellón]  "
      ]
     },
     "execution_count": 6,
     "metadata": {},
     "output_type": "execute_result"
    }
   ],
   "source": [
    "selection = ['ancud']\n",
    "mask = df.comuna.apply(lambda x: any(item for item in selection if item in x))\n",
    "\n",
    "df1 = df[mask]\n",
    "df1.head()"
   ]
  },
  {
   "cell_type": "code",
   "execution_count": null,
   "id": "e8a665f7",
   "metadata": {},
   "outputs": [],
   "source": []
  },
  {
   "cell_type": "markdown",
   "id": "656466f3",
   "metadata": {},
   "source": [
    "### LDA"
   ]
  },
  {
   "cell_type": "code",
   "execution_count": null,
   "id": "961bbcce",
   "metadata": {},
   "outputs": [],
   "source": [
    "import spacy\n",
    "nlp = spacy.load(\"es_core_news_md\")\n",
    "\n",
    "def spacy_tokenizer(texto):\n",
    "    # crea lista de tokens a partir de un texto\n",
    "    mytokens = []\n",
    "    doc = nlp(texto.lower().strip())\n",
    "    for token in doc:\n",
    "        if not token.is_stop and not token.is_punct and not token.is_space and not token.is_digit and not token.like_num:\n",
    "            mytokens.append(token.lemma_)\n",
    "    return mytokens"
   ]
  },
  {
   "cell_type": "code",
   "execution_count": null,
   "id": "ede60974",
   "metadata": {},
   "outputs": [],
   "source": [
    "#Utilizando Kmeans y tf-idf para realizar un primer agrupamiento de las noticias\n",
    "import re\n",
    "from sklearn.feature_extraction.text import TfidfVectorizer, CountVectorizer\n",
    "from sklearn.cluster import KMeans\n",
    "from sklearn.metrics import adjusted_rand_score\n",
    "\n",
    "myStopWords=['gnl','=','$','+','a','e','o','u','y',' ','  ','   ','    ']\n",
    "vectorizer = TfidfVectorizer(tokenizer=spacy_tokenizer, stop_words=myStopWords, ngram_range=(1,1))\n",
    "\n",
    "X=vectorizer.fit_transform(df1.content) \n",
    "X_term = vectorizer.get_feature_names()\n",
    "\n"
   ]
  },
  {
   "cell_type": "code",
   "execution_count": null,
   "id": "97f011d7",
   "metadata": {},
   "outputs": [],
   "source": [
    "import numpy as np\n",
    "print(df1.content[:1])\n",
    "\n",
    "print(len(X_term))\n",
    "print(X_term[:20])\n",
    "print(X.shape)\n",
    "print(X[:1])"
   ]
  },
  {
   "cell_type": "code",
   "execution_count": null,
   "id": "af8c3ced",
   "metadata": {},
   "outputs": [],
   "source": [
    "import matplotlib\n",
    "import numpy as np\n",
    "import matplotlib.pyplot as plt\n",
    "\n",
    "\n",
    "num_k = range(1, 10)\n",
    "inertias = []\n",
    "\n",
    "for k in num_k:\n",
    "    # Create a KMeans instance with k clusters: model\n",
    "    model = KMeans(n_clusters=k, n_init=10)\n",
    "\n",
    "    # Fit model to samples\n",
    "    model.fit(X)\n",
    "\n",
    "    # Append the inertia to the list of inertias\n",
    "    inertias.append(model.inertia_)\n",
    "\n",
    "\n",
    "# Plot ks vs inertias\n",
    "plt.plot(num_k, inertias, '-o')\n",
    "plt.xlabel('number of clusters, k')\n",
    "plt.ylabel('inertia')\n",
    "plt.xticks(num_k)\n",
    "plt.show()"
   ]
  },
  {
   "cell_type": "code",
   "execution_count": null,
   "id": "101924af",
   "metadata": {},
   "outputs": [],
   "source": [
    "from matplotlib.pylab import hist, show\n",
    "true_k = 3\n",
    "model = KMeans(n_clusters=true_k, init='k-means++', max_iter=100, n_init=10)\n",
    "model.fit(X)\n",
    "print(\"Top terms per cluster:\")\n",
    "order_centroids = model.cluster_centers_.argsort()[:, ::-1]\n",
    "terms = vectorizer.get_feature_names()\n",
    "\n",
    "for i in range(true_k):\n",
    "    cluster_words = np.array(terms)[order_centroids[i, :15]]\n",
    "    print('Cluster {}: {}'.format(i, '-'.join(cluster_words)))\n"
   ]
  },
  {
   "cell_type": "code",
   "execution_count": null,
   "id": "43b3199d",
   "metadata": {
    "scrolled": true
   },
   "outputs": [],
   "source": [
    "#Aplicando Modelos Probabilistas de Tópicos y LDA\n",
    "from sklearn.decomposition import LatentDirichletAllocation\n",
    "\n",
    "def print_top_words(model, feature_names, n_top_words):\n",
    "    for topic_idx, topic in enumerate(model.components_):\n",
    "        message = \"Topic #%d: \" % topic_idx\n",
    "        message += \" \".join([feature_names[i]\n",
    "                             for i in topic.argsort()[:-n_top_words - 1:-1]])\n",
    "        print(message)\n",
    "    print()\n",
    "    \n",
    "\n",
    "tf_vectorizer = CountVectorizer(max_df=0.95, min_df=2,\n",
    "                                stop_words=myStopWords,tokenizer=spacy_tokenizer, ngram_range=(1,1))\n",
    "tf = tf_vectorizer.fit_transform(df1.content)\n",
    "diccionario= tf_vectorizer.get_feature_names()\n",
    "\n",
    "\n",
    "perp = []\n",
    "for k in num_k:\n",
    "    #Estimación de LDA con Bayes Variacional\n",
    "    lda = LatentDirichletAllocation(n_components=k, max_iter=10,\n",
    "                                learning_method='online',\n",
    "                                learning_offset=50.,\n",
    "                                random_state=0)\n",
    "\n",
    "    lda.fit(tf)\n",
    "    #Cálculo de índice de ajuste de los datos\n",
    "    perp.append(lda.perplexity(tf))\n",
    "\n",
    "plt.plot(num_k, perp, '-o')\n",
    "plt.xlabel('number of topics, k')\n",
    "plt.ylabel('perplexity')\n",
    "plt.xticks(num_k)\n",
    "plt.show()\n",
    "\n",
    "#print(\"\\nTopics in LDA model:\")\n",
    "#print_top_words(lda, diccionario, 15)"
   ]
  },
  {
   "cell_type": "code",
   "execution_count": null,
   "id": "57a208d8",
   "metadata": {},
   "outputs": [],
   "source": [
    "#Generando algunos gráficos de los resultados\n",
    "from matplotlib.pylab import hist, show\n",
    "import seaborn as sns\n",
    "\n",
    "lda = LatentDirichletAllocation(n_components=true_k, max_iter=1000,\n",
    "                                learning_method='online',\n",
    "                                learning_offset=10.,\n",
    "                                random_state=0)\n",
    "y=lda.fit_transform(tf)\n",
    "\n",
    "print(y)\n",
    "#distribución de tópicos en todos los documentos\n",
    "dist = sum(y)/len(noticias)\n",
    "print(dist)\n",
    "\n",
    "w=np.arange(0,true_k)\n",
    "print(w)\n",
    "plt.bar(w,height=dist,alpha=0.5,tick_label=w)\n",
    "show()\n",
    "#distribución de tópicos en el documento 51\n",
    "plt.bar(w,height=y[50],alpha=0.5,tick_label=w)\n",
    "show()\n",
    "\n",
    "\n",
    "#frecuencia de palabras por tópico\n",
    "n_top_words=15\n",
    "numo =np.arange(0,n_top_words)\n",
    "for idx,topic in enumerate(lda.components_):\n",
    "    d =[]\n",
    "    s = []\n",
    "    for i in topic.argsort()[:-n_top_words - 1:-1]:\n",
    "        s.append(diccionario[i])\n",
    "        d.append(topic[i])\n",
    "    \n",
    "    plt.barh(numo,width=d,alpha=0.5,tick_label=s)\n",
    "    show()\n"
   ]
  },
  {
   "cell_type": "code",
   "execution_count": null,
   "id": "a8ddc82b",
   "metadata": {},
   "outputs": [],
   "source": [
    "import pyLDAvis\n",
    "import pyLDAvis.sklearn\n",
    "pyLDAvis.enable_notebook()"
   ]
  },
  {
   "cell_type": "code",
   "execution_count": null,
   "id": "38ce4281",
   "metadata": {},
   "outputs": [],
   "source": [
    "prepared = pyLDAvis.sklearn.prepare(lda,tf,tf_vectorizer)\n",
    "pyLDAvis.display(prepared)"
   ]
  },
  {
   "cell_type": "code",
   "execution_count": null,
   "id": "0df7991c",
   "metadata": {},
   "outputs": [],
   "source": [
    "import lda\n",
    "\n",
    "model = lda.LDA(n_topics=true_k, n_iter=5000, alpha=0.1, eta=0.1, random_state=3)\n",
    "model.fit(tf)  # model.fit_transform(X) is also available\n",
    "\n",
    "topic_word = model.topic_word_  # model.components_ also works\n",
    "n_top_words=10\n",
    "for i, topic_dist in enumerate(topic_word):\n",
    "    topic_words = np.array(diccionario)[np.argsort(topic_dist)][:-(n_top_words+1):-1]\n",
    "    print('Topic {}: {}'.format(i, ' '.join(topic_words)))\n",
    "    "
   ]
  },
  {
   "cell_type": "code",
   "execution_count": null,
   "id": "7583b13c",
   "metadata": {},
   "outputs": [],
   "source": [
    "plt.plot(model.loglikelihoods_[5:])"
   ]
  },
  {
   "cell_type": "code",
   "execution_count": null,
   "id": "258b4dc7",
   "metadata": {},
   "outputs": [],
   "source": [
    "#Generando algunos gráficos de los resultados\n",
    "from matplotlib.pylab import hist, show\n",
    "\n",
    "y=model.doc_topic_\n",
    "#distribución de tópicos en todos los documentos\n",
    "dist = sum(y)/len(noticias)\n",
    "w=np.arange(0,true_k)\n",
    "plt.bar(w,height=dist,alpha=0.5,tick_label=w)\n",
    "show()\n",
    "\n",
    "#distribución de tópicos en el documento 100\n",
    "plt.bar(w,height=y[51],alpha=0.5,tick_label=w)\n",
    "show()\n",
    "\n",
    "#frecuencia de palabras por tópico\n",
    "n_top_words=15\n",
    "numo =np.arange(0,n_top_words)\n",
    "\n",
    "for idx,topic in enumerate(model.topic_word_):\n",
    "    d =[]\n",
    "    s = []\n",
    "    for i in topic.argsort()[:-n_top_words - 1:-1]:\n",
    "        s.append(diccionario[i])\n",
    "        d.append(topic[i])\n",
    "    \n",
    "    plt.barh(numo,width=d,alpha=0.5,tick_label=s)\n",
    "    show()"
   ]
  },
  {
   "cell_type": "code",
   "execution_count": null,
   "id": "0a33d83f",
   "metadata": {},
   "outputs": [],
   "source": [
    "#calculando cluster en base al tópico mas frecuente\n",
    "z=[]\n",
    "for i in range(len(noticias)):\n",
    "    z.append(np.argmax(y[i]))\n",
    "plt.scatter(range(88),z,c=z)\n",
    "show()\n",
    "\n",
    "#distribución de cluster de acuerdo a la definición anterior\n",
    "hist(z,bins=np.arange(-0.5,5.6,1),alpha=0.5,rwidth=0.9,density=True)\n",
    "show()"
   ]
  },
  {
   "cell_type": "code",
   "execution_count": null,
   "id": "f03b53a7",
   "metadata": {},
   "outputs": [],
   "source": [
    "prepared = pyLDAvis.sklearn.prepare(model,tf,tf_vectorizer)\n",
    "pyLDAvis.display(prepared)"
   ]
  },
  {
   "cell_type": "code",
   "execution_count": null,
   "id": "5f837d17",
   "metadata": {},
   "outputs": [],
   "source": []
  },
  {
   "cell_type": "markdown",
   "id": "c4f31062",
   "metadata": {},
   "source": [
    "### [Topic Modelling in Embedding Spaces](https://github.com/lffloyd/embedded-topic-model)"
   ]
  },
  {
   "cell_type": "code",
   "execution_count": null,
   "id": "4628a1aa",
   "metadata": {},
   "outputs": [],
   "source": [
    "import torch \n",
    "print(torch.__version__)"
   ]
  },
  {
   "cell_type": "code",
   "execution_count": null,
   "id": "5c1dee27",
   "metadata": {
    "scrolled": false
   },
   "outputs": [],
   "source": [
    "#!pip install -U embedded_topic_model"
   ]
  },
  {
   "cell_type": "code",
   "execution_count": null,
   "id": "6cc29a6d",
   "metadata": {},
   "outputs": [],
   "source": [
    "from embedded_topic_model.utils import preprocessing\n",
    "\n",
    "# Preprocessing the dataset\n",
    "vocabulary, train_dataset, _, = preprocessing.create_etm_datasets(\n",
    "    ancud.content, \n",
    "    min_df=0.01, \n",
    "    max_df=0.75, \n",
    "    train_size=0.85, \n",
    ")"
   ]
  },
  {
   "cell_type": "code",
   "execution_count": null,
   "id": "d3355ccf",
   "metadata": {},
   "outputs": [],
   "source": [
    "from embedded_topic_model.utils import embedding\n",
    "\n",
    "# Training word2vec embeddings\n",
    "embeddings_mapping = embedding.create_word2vec_embedding_from_dataset(ancud.content)"
   ]
  },
  {
   "cell_type": "code",
   "execution_count": null,
   "id": "015cfe31",
   "metadata": {},
   "outputs": [],
   "source": [
    "from embedded_topic_model.models.etm import ETM\n",
    "\n",
    "# Training an ETM instance\n",
    "etm_instance = ETM(\n",
    "    vocabulary,\n",
    "    embeddings=embeddings_mapping, # You can pass here the path to a word2vec file or\n",
    "                                   # a KeyedVectors instance\n",
    "    num_topics=8,\n",
    "    epochs=300,\n",
    "    debug_mode=True,\n",
    "    train_embeddings=False, # Optional. If True, ETM will learn word embeddings jointly with\n",
    "                            # topic embeddings. By default, is False. If 'embeddings' argument\n",
    "                            # is being passed, this argument must not be True\n",
    ")\n",
    "\n",
    "etm_instance.fit(train_dataset)"
   ]
  },
  {
   "cell_type": "code",
   "execution_count": null,
   "id": "dad1ac52",
   "metadata": {},
   "outputs": [],
   "source": [
    "topics = etm_instance.get_topics(20)\n",
    "topic_coherence = etm_instance.get_topic_coherence()\n",
    "topic_diversity = etm_instance.get_topic_diversity()"
   ]
  }
 ],
 "metadata": {
  "kernelspec": {
   "display_name": "Python 3 (ipykernel)",
   "language": "python",
   "name": "python3"
  },
  "language_info": {
   "codemirror_mode": {
    "name": "ipython",
    "version": 3
   },
   "file_extension": ".py",
   "mimetype": "text/x-python",
   "name": "python",
   "nbconvert_exporter": "python",
   "pygments_lexer": "ipython3",
   "version": "3.9.12"
  }
 },
 "nbformat": 4,
 "nbformat_minor": 5
}
