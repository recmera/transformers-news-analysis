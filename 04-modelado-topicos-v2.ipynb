{
 "cells": [
  {
   "cell_type": "code",
   "execution_count": 18,
   "id": "928df22e",
   "metadata": {
    "scrolled": false
   },
   "outputs": [
    {
     "name": "stdout",
     "output_type": "stream",
     "text": [
      "Largo del dataset:  29598\n"
     ]
    },
    {
     "data": {
      "text/html": [
       "<div>\n",
       "<style scoped>\n",
       "    .dataframe tbody tr th:only-of-type {\n",
       "        vertical-align: middle;\n",
       "    }\n",
       "\n",
       "    .dataframe tbody tr th {\n",
       "        vertical-align: top;\n",
       "    }\n",
       "\n",
       "    .dataframe thead th {\n",
       "        text-align: right;\n",
       "    }\n",
       "</style>\n",
       "<table border=\"1\" class=\"dataframe\">\n",
       "  <thead>\n",
       "    <tr style=\"text-align: right;\">\n",
       "      <th></th>\n",
       "      <th>date</th>\n",
       "      <th>media_outlet</th>\n",
       "      <th>url</th>\n",
       "      <th>title</th>\n",
       "      <th>text</th>\n",
       "      <th>content</th>\n",
       "    </tr>\n",
       "  </thead>\n",
       "  <tbody>\n",
       "    <tr>\n",
       "      <th>0</th>\n",
       "      <td>2021-10-01</td>\n",
       "      <td>elheraldoaustral</td>\n",
       "      <td>https://www.eha.cl/noticia/local/reconocen-a-g...</td>\n",
       "      <td>Reconocen a guardaparques de la Región de Los ...</td>\n",
       "      <td>Distintos protagonistas de los parques naciona...</td>\n",
       "      <td>Reconocen a guardaparques de la Región de Los ...</td>\n",
       "    </tr>\n",
       "    <tr>\n",
       "      <th>1</th>\n",
       "      <td>2021-10-01</td>\n",
       "      <td>elheraldoaustral</td>\n",
       "      <td>https://www.eha.cl/noticia/local/con-nuevos-ma...</td>\n",
       "      <td>Con nuevos materiales comienza plan piloto en ...</td>\n",
       "      <td>Centro de negocios Sercotec coordina acuerdos ...</td>\n",
       "      <td>Con nuevos materiales comienza plan piloto en ...</td>\n",
       "    </tr>\n",
       "    <tr>\n",
       "      <th>2</th>\n",
       "      <td>2021-10-01</td>\n",
       "      <td>elheraldoaustral</td>\n",
       "      <td>https://www.eha.cl/noticia/local/centro-de-sal...</td>\n",
       "      <td>Centro de Salud Familiar CESFAM Puerto Varas i...</td>\n",
       "      <td>Las horas se solicitan en el SOME o bien a tra...</td>\n",
       "      <td>Centro de Salud Familiar CESFAM Puerto Varas i...</td>\n",
       "    </tr>\n",
       "    <tr>\n",
       "      <th>3</th>\n",
       "      <td>2021-10-01</td>\n",
       "      <td>elheraldoaustral</td>\n",
       "      <td>https://www.eha.cl/noticia/local/alcalde-tomas...</td>\n",
       "      <td>Alcalde Tomás Gárate presidió por primera vez ...</td>\n",
       "      <td>Los y las consejeras destacaron el hecho de vo...</td>\n",
       "      <td>Alcalde Tomás Gárate presidió por primera vez ...</td>\n",
       "    </tr>\n",
       "    <tr>\n",
       "      <th>4</th>\n",
       "      <td>2021-10-01</td>\n",
       "      <td>elheraldoaustral</td>\n",
       "      <td>https://www.eha.cl/noticia/local/galeria-de-ar...</td>\n",
       "      <td>Galería de Arte Machacoya realizará remate de ...</td>\n",
       "      <td>Hoy viernes a las 18:30 horas, en Machacoya At...</td>\n",
       "      <td>Galería de Arte Machacoya realizará remate de ...</td>\n",
       "    </tr>\n",
       "  </tbody>\n",
       "</table>\n",
       "</div>"
      ],
      "text/plain": [
       "         date      media_outlet  \\\n",
       "0  2021-10-01  elheraldoaustral   \n",
       "1  2021-10-01  elheraldoaustral   \n",
       "2  2021-10-01  elheraldoaustral   \n",
       "3  2021-10-01  elheraldoaustral   \n",
       "4  2021-10-01  elheraldoaustral   \n",
       "\n",
       "                                                 url  \\\n",
       "0  https://www.eha.cl/noticia/local/reconocen-a-g...   \n",
       "1  https://www.eha.cl/noticia/local/con-nuevos-ma...   \n",
       "2  https://www.eha.cl/noticia/local/centro-de-sal...   \n",
       "3  https://www.eha.cl/noticia/local/alcalde-tomas...   \n",
       "4  https://www.eha.cl/noticia/local/galeria-de-ar...   \n",
       "\n",
       "                                               title  \\\n",
       "0  Reconocen a guardaparques de la Región de Los ...   \n",
       "1  Con nuevos materiales comienza plan piloto en ...   \n",
       "2  Centro de Salud Familiar CESFAM Puerto Varas i...   \n",
       "3  Alcalde Tomás Gárate presidió por primera vez ...   \n",
       "4  Galería de Arte Machacoya realizará remate de ...   \n",
       "\n",
       "                                                text  \\\n",
       "0  Distintos protagonistas de los parques naciona...   \n",
       "1  Centro de negocios Sercotec coordina acuerdos ...   \n",
       "2  Las horas se solicitan en el SOME o bien a tra...   \n",
       "3  Los y las consejeras destacaron el hecho de vo...   \n",
       "4  Hoy viernes a las 18:30 horas, en Machacoya At...   \n",
       "\n",
       "                                             content  \n",
       "0  Reconocen a guardaparques de la Región de Los ...  \n",
       "1  Con nuevos materiales comienza plan piloto en ...  \n",
       "2  Centro de Salud Familiar CESFAM Puerto Varas i...  \n",
       "3  Alcalde Tomás Gárate presidió por primera vez ...  \n",
       "4  Galería de Arte Machacoya realizará remate de ...  "
      ]
     },
     "execution_count": 18,
     "metadata": {},
     "output_type": "execute_result"
    }
   ],
   "source": [
    "import pandas as pd\n",
    "df = pd.read_csv(\"dataset-loslagos-8months.csv\", \n",
    "                 sep=\";\", \n",
    "                 engine='python')\n",
    "df.columns = [\"date\", \"media_outlet\", \"url\", \"title\", \"text\"]\n",
    "df[\"content\"] = \"\"\n",
    "df.content = df.title + \" \" + df.text\n",
    "print(\"Largo del dataset: \", len(df))\n",
    "df.head()"
   ]
  },
  {
   "cell_type": "markdown",
   "id": "03bad317",
   "metadata": {},
   "source": [
    "<img src=\"img/los_lagos.png\" />\n",
    "\n",
    "Fuente: [wikipedia](https://es.wikipedia.org/wiki/Portal:Regi%C3%B3n_de_Los_Lagos/Comunas_de_Los_Lagos)"
   ]
  },
  {
   "cell_type": "code",
   "execution_count": 19,
   "id": "a5f3eda9",
   "metadata": {},
   "outputs": [],
   "source": [
    "comunas = [\"ancud\", \"castro\", \"chonchi\", \"curaco de vélez\", \"dalcahue\", \n",
    "           \"puqueldón\", \"queilén\", \"quemchi\", \"quellón\", \"quinchao\"\n",
    "           \"calbuco\", \"cochamó\", \"fresia\", \"frutillar\", \"llanquihue\"\n",
    "           \"los muermos\", \"maullin\", \"puerto montt\", \"puerto varas\", \"osorno\"\n",
    "           \"puerto octay\", \"purranque\", \"puyehue\", \"rio negro\", \"san juan de la costa\",\n",
    "           \"san pablo\", \"chaitén\", \"futaleufú\", \"hualaihué\", \"palena\"]"
   ]
  },
  {
   "cell_type": "code",
   "execution_count": 46,
   "id": "20a98714",
   "metadata": {},
   "outputs": [
    {
     "data": {
      "application/vnd.jupyter.widget-view+json": {
       "model_id": "be708640e13443048e3e80654396a83b",
       "version_major": 2,
       "version_minor": 0
      },
      "text/plain": [
       "buscando comunas en content: 0it [00:00, ?it/s]"
      ]
     },
     "metadata": {},
     "output_type": "display_data"
    }
   ],
   "source": [
    "from tqdm.notebook import tqdm_notebook\n",
    "\n",
    "df['comuna'] = \"\"\n",
    "for index, row in tqdm_notebook(df.iterrows(), desc=\"buscando comunas en content\"):\n",
    "    found = [comuna for comuna in comunas if(comuna in str(row[\"content\"]).lower())]\n",
    "    if(len(found)!= 0): df.at[index, 'comuna'] = found\n"
   ]
  },
  {
   "cell_type": "code",
   "execution_count": 48,
   "id": "f6750937",
   "metadata": {},
   "outputs": [
    {
     "data": {
      "text/plain": [
       "                  19388\n",
       "[puerto montt]     2545\n",
       "[castro]           1212\n",
       "[puerto varas]      726\n",
       "[ancud]             570\n",
       "Name: comuna, dtype: int64"
      ]
     },
     "execution_count": 48,
     "metadata": {},
     "output_type": "execute_result"
    }
   ],
   "source": [
    "df['comuna'].value_counts()[:5]"
   ]
  },
  {
   "cell_type": "code",
   "execution_count": null,
   "id": "f71c4476",
   "metadata": {},
   "outputs": [],
   "source": []
  }
 ],
 "metadata": {
  "kernelspec": {
   "display_name": "Python 3 (ipykernel)",
   "language": "python",
   "name": "python3"
  },
  "language_info": {
   "codemirror_mode": {
    "name": "ipython",
    "version": 3
   },
   "file_extension": ".py",
   "mimetype": "text/x-python",
   "name": "python",
   "nbconvert_exporter": "python",
   "pygments_lexer": "ipython3",
   "version": "3.9.12"
  }
 },
 "nbformat": 4,
 "nbformat_minor": 5
}
