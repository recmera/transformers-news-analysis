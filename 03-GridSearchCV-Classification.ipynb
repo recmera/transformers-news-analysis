{
 "cells": [
  {
   "cell_type": "code",
   "execution_count": 11,
   "id": "867b3b95",
   "metadata": {},
   "outputs": [],
   "source": [
    "from sklearn.model_selection import train_test_split\n",
    "from sklearn.feature_extraction.text import TfidfTransformer\n",
    "from sklearn.feature_extraction.text import TfidfVectorizer\n",
    "\n",
    "from imblearn.over_sampling import RandomOverSampler"
   ]
  },
  {
   "cell_type": "code",
   "execution_count": null,
   "id": "f8116ed5",
   "metadata": {},
   "outputs": [],
   "source": [
    "import warnings\n",
    "\n",
    "def warn(*args, **kwargs):\n",
    "    pass\n",
    "\n",
    "warnings.warn = warn"
   ]
  },
  {
   "cell_type": "code",
   "execution_count": 12,
   "id": "27bf7869",
   "metadata": {},
   "outputs": [],
   "source": [
    "import pandas as pd\n",
    "from tqdm import tqdm\n",
    "import spacy\n",
    "#from dframcy import DframCy\n",
    "\n",
    "tqdm.pandas()"
   ]
  },
  {
   "cell_type": "code",
   "execution_count": 17,
   "id": "e5ee0aaf",
   "metadata": {},
   "outputs": [
    {
     "name": "stdout",
     "output_type": "stream",
     "text": [
      "29598\n"
     ]
    }
   ],
   "source": [
    "df = pd.read_csv(\"data/dataset-loslagos-8months.csv\", \n",
    "                 sep=\";\", \n",
    "                 engine='python')\n",
    "df.columns = [\"date\", \"media_outlet\", \"url\", \"title\", \"text\"]\n",
    "df.dropna()\n",
    "print(len(df))"
   ]
  },
  {
   "cell_type": "code",
   "execution_count": 18,
   "id": "939733af",
   "metadata": {
    "scrolled": false
   },
   "outputs": [
    {
     "data": {
      "text/html": [
       "<div>\n",
       "<style scoped>\n",
       "    .dataframe tbody tr th:only-of-type {\n",
       "        vertical-align: middle;\n",
       "    }\n",
       "\n",
       "    .dataframe tbody tr th {\n",
       "        vertical-align: top;\n",
       "    }\n",
       "\n",
       "    .dataframe thead th {\n",
       "        text-align: right;\n",
       "    }\n",
       "</style>\n",
       "<table border=\"1\" class=\"dataframe\">\n",
       "  <thead>\n",
       "    <tr style=\"text-align: right;\">\n",
       "      <th></th>\n",
       "      <th>date</th>\n",
       "      <th>media_outlet</th>\n",
       "      <th>url</th>\n",
       "      <th>title</th>\n",
       "      <th>text</th>\n",
       "    </tr>\n",
       "  </thead>\n",
       "  <tbody>\n",
       "    <tr>\n",
       "      <th>0</th>\n",
       "      <td>2021-10-01</td>\n",
       "      <td>elheraldoaustral</td>\n",
       "      <td>https://www.eha.cl/noticia/local/reconocen-a-g...</td>\n",
       "      <td>Reconocen a guardaparques de la Región de Los ...</td>\n",
       "      <td>Distintos protagonistas de los parques naciona...</td>\n",
       "    </tr>\n",
       "    <tr>\n",
       "      <th>1</th>\n",
       "      <td>2021-10-01</td>\n",
       "      <td>elheraldoaustral</td>\n",
       "      <td>https://www.eha.cl/noticia/local/con-nuevos-ma...</td>\n",
       "      <td>Con nuevos materiales comienza plan piloto en ...</td>\n",
       "      <td>Centro de negocios Sercotec coordina acuerdos ...</td>\n",
       "    </tr>\n",
       "    <tr>\n",
       "      <th>2</th>\n",
       "      <td>2021-10-01</td>\n",
       "      <td>elheraldoaustral</td>\n",
       "      <td>https://www.eha.cl/noticia/local/centro-de-sal...</td>\n",
       "      <td>Centro de Salud Familiar CESFAM Puerto Varas i...</td>\n",
       "      <td>Las horas se solicitan en el SOME o bien a tra...</td>\n",
       "    </tr>\n",
       "    <tr>\n",
       "      <th>3</th>\n",
       "      <td>2021-10-01</td>\n",
       "      <td>elheraldoaustral</td>\n",
       "      <td>https://www.eha.cl/noticia/local/alcalde-tomas...</td>\n",
       "      <td>Alcalde Tomás Gárate presidió por primera vez ...</td>\n",
       "      <td>Los y las consejeras destacaron el hecho de vo...</td>\n",
       "    </tr>\n",
       "    <tr>\n",
       "      <th>4</th>\n",
       "      <td>2021-10-01</td>\n",
       "      <td>elheraldoaustral</td>\n",
       "      <td>https://www.eha.cl/noticia/local/galeria-de-ar...</td>\n",
       "      <td>Galería de Arte Machacoya realizará remate de ...</td>\n",
       "      <td>Hoy viernes a las 18:30 horas, en Machacoya At...</td>\n",
       "    </tr>\n",
       "  </tbody>\n",
       "</table>\n",
       "</div>"
      ],
      "text/plain": [
       "         date      media_outlet  \\\n",
       "0  2021-10-01  elheraldoaustral   \n",
       "1  2021-10-01  elheraldoaustral   \n",
       "2  2021-10-01  elheraldoaustral   \n",
       "3  2021-10-01  elheraldoaustral   \n",
       "4  2021-10-01  elheraldoaustral   \n",
       "\n",
       "                                                 url  \\\n",
       "0  https://www.eha.cl/noticia/local/reconocen-a-g...   \n",
       "1  https://www.eha.cl/noticia/local/con-nuevos-ma...   \n",
       "2  https://www.eha.cl/noticia/local/centro-de-sal...   \n",
       "3  https://www.eha.cl/noticia/local/alcalde-tomas...   \n",
       "4  https://www.eha.cl/noticia/local/galeria-de-ar...   \n",
       "\n",
       "                                               title  \\\n",
       "0  Reconocen a guardaparques de la Región de Los ...   \n",
       "1  Con nuevos materiales comienza plan piloto en ...   \n",
       "2  Centro de Salud Familiar CESFAM Puerto Varas i...   \n",
       "3  Alcalde Tomás Gárate presidió por primera vez ...   \n",
       "4  Galería de Arte Machacoya realizará remate de ...   \n",
       "\n",
       "                                                text  \n",
       "0  Distintos protagonistas de los parques naciona...  \n",
       "1  Centro de negocios Sercotec coordina acuerdos ...  \n",
       "2  Las horas se solicitan en el SOME o bien a tra...  \n",
       "3  Los y las consejeras destacaron el hecho de vo...  \n",
       "4  Hoy viernes a las 18:30 horas, en Machacoya At...  "
      ]
     },
     "execution_count": 18,
     "metadata": {},
     "output_type": "execute_result"
    }
   ],
   "source": [
    "df.head()"
   ]
  },
  {
   "cell_type": "code",
   "execution_count": null,
   "id": "614d12aa",
   "metadata": {},
   "outputs": [],
   "source": []
  },
  {
   "cell_type": "markdown",
   "id": "b156094a",
   "metadata": {},
   "source": [
    "## IDENTIFICAR CATEGORIAS - ETIQUETAR DATOS"
   ]
  },
  {
   "cell_type": "code",
   "execution_count": 39,
   "id": "561f5384",
   "metadata": {
    "scrolled": false
   },
   "outputs": [],
   "source": [
    "#df.media_outlet.value_counts()"
   ]
  },
  {
   "cell_type": "code",
   "execution_count": null,
   "id": "c0a89116",
   "metadata": {},
   "outputs": [],
   "source": []
  },
  {
   "cell_type": "code",
   "execution_count": null,
   "id": "ce4e6a18",
   "metadata": {},
   "outputs": [],
   "source": []
  },
  {
   "cell_type": "code",
   "execution_count": null,
   "id": "276c6dfb",
   "metadata": {},
   "outputs": [],
   "source": []
  },
  {
   "cell_type": "code",
   "execution_count": null,
   "id": "0b97e8b6",
   "metadata": {},
   "outputs": [],
   "source": []
  },
  {
   "cell_type": "code",
   "execution_count": 19,
   "id": "88da61d5",
   "metadata": {},
   "outputs": [],
   "source": [
    "from sklearn.linear_model import SGDClassifier\n",
    "from sklearn.pipeline import Pipeline\n",
    "from sklearn.ensemble import RandomForestClassifier\n",
    "\n",
    "import numpy as np\n",
    "from sklearn import metrics"
   ]
  },
  {
   "cell_type": "code",
   "execution_count": 20,
   "id": "e8482eb4",
   "metadata": {},
   "outputs": [],
   "source": [
    "def clf_pred_pipeline(clf, x_train, y_train, x_test, y_test):\n",
    "    print(type(clf).__name__)\n",
    "    text_clf = Pipeline([\n",
    "        ('vect', TfidfVectorizer(lowercase=False, tokenizer=None)),\n",
    "        ('clf', clf),\n",
    "    ])\n",
    "    text_clf.fit(x_train.data, y_train)\n",
    "    predicted = text_clf.predict(x_test.data)\n",
    "    print(metrics.classification_report(y_test, predicted))\n",
    "    metrics.confusion_matrix(y_test, predicted)\n",
    "    mean = np.mean(predicted == y_test)\n",
    "    print(\"mean: \", mean)\n",
    "    return mean"
   ]
  },
  {
   "cell_type": "code",
   "execution_count": null,
   "id": "7699d707",
   "metadata": {},
   "outputs": [],
   "source": [
    "from sklearn.model_selection import GridSearchCV\n",
    "from time import time\n",
    "\n",
    "clf = SGDClassifier()\n",
    "\n",
    "sgd_losses = [\n",
    "            'hinge', 'log_loss',\n",
    "            'modified_huber', 'squared_hinge',\n",
    "            'perceptron', 'squared_error', 'huber',\n",
    "            'epsilon_insensitive', 'squared_epsilon_insensitive'\n",
    "]\n",
    "\n",
    "sgd_params = {\n",
    "    'penalty':['l2', 'l1', 'elasticnet'],\n",
    "    'alpha':np.power(10, np.arange(-5, 1, dtype=float)),\n",
    "    'max_iter':np.linspace(10, 100, 10),\n",
    "    'tol': np.power(10, np.arange(-5, 1, dtype=float)),\n",
    "    'loss': sgd_losses\n",
    "}"
   ]
  },
  {
   "cell_type": "code",
   "execution_count": null,
   "id": "14e00cf7",
   "metadata": {},
   "outputs": [],
   "source": [
    "# Utility function to report best scores\n",
    "def report(results, n_top=3):\n",
    "    for i in range(1, n_top + 1):\n",
    "        candidates = np.flatnonzero(results[\"rank_test_score\"] == i)\n",
    "        for candidate in candidates:\n",
    "            print(\"Model with rank: {0}\".format(i))\n",
    "            print(\n",
    "                \"Mean validation score: {0:.3f} (std: {1:.3f})\".format(\n",
    "                    results[\"mean_test_score\"][candidate],\n",
    "                    results[\"std_test_score\"][candidate],\n",
    "                )\n",
    "            )\n",
    "            print(\"Parameters: {0}\".format(results[\"params\"][candidate]))\n",
    "            print(\"\")"
   ]
  },
  {
   "cell_type": "code",
   "execution_count": null,
   "id": "853bb04a",
   "metadata": {},
   "outputs": [],
   "source": [
    "vectorizer = TfidfVectorizer(lowercase=False, tokenizer=None)\n",
    "X_train_counts = vectorizer.fit_transform(X.data)"
   ]
  },
  {
   "cell_type": "markdown",
   "id": "3daf2560",
   "metadata": {},
   "source": [
    "## 1. SGD"
   ]
  },
  {
   "cell_type": "code",
   "execution_count": null,
   "id": "4759cb2d",
   "metadata": {},
   "outputs": [],
   "source": [
    "grid_search_sgd = GridSearchCV(clf, param_grid=sgd_params, verbose=0)\n",
    "\n",
    "start = time()\n",
    "grid_search_sgd.fit(X_train_counts, y)\n",
    "\n",
    "print(\n",
    "    \"GridSearchCV took %.2f seconds for %d candidate parameter settings.\"\n",
    "    % (time() - start, len(grid_search_sgd.cv_results_[\"params\"]))\n",
    ")\n",
    "report(grid_search_sgd.cv_results_)"
   ]
  },
  {
   "cell_type": "markdown",
   "id": "6cf985e1",
   "metadata": {},
   "source": [
    "#### Obtención de mejores hiperparámetros"
   ]
  },
  {
   "cell_type": "code",
   "execution_count": null,
   "id": "9d2cd49f",
   "metadata": {},
   "outputs": [],
   "source": [
    "grid_search_sgd.best_params_"
   ]
  },
  {
   "cell_type": "markdown",
   "id": "dbc18b7e",
   "metadata": {},
   "source": [
    "#### Clasificación SGD"
   ]
  },
  {
   "cell_type": "code",
   "execution_count": null,
   "id": "31eb1060",
   "metadata": {},
   "outputs": [],
   "source": [
    "sgd = SGDClassifier(**grid_search_sgd.best_params_)\n",
    "clf_pred_pipeline(sgd, x_train, y_train, x_test, y_test)"
   ]
  },
  {
   "cell_type": "markdown",
   "id": "c606450e",
   "metadata": {},
   "source": [
    "## 2. RandomForest"
   ]
  },
  {
   "cell_type": "code",
   "execution_count": null,
   "id": "9c24967b",
   "metadata": {},
   "outputs": [],
   "source": [
    "r_clf = RandomForestClassifier()\n",
    "\n",
    "rfc_params = {\n",
    "    'n_estimators' : np.linspace(50, 200, num=5, dtype=int),\n",
    "    'criterion' : ['gini', 'entropy', 'log_loss'],\n",
    "    'max_depth' : np.linspace(50, 200, num=5, dtype=int),\n",
    "    'max_features' : ['sqrt', 'log2', None],\n",
    "}"
   ]
  },
  {
   "cell_type": "code",
   "execution_count": null,
   "id": "07a79112",
   "metadata": {},
   "outputs": [],
   "source": [
    "grid_search_rfc = GridSearchCV(r_clf, param_grid=rfc_params, verbose=0)\n",
    "\n",
    "start = time()\n",
    "grid_search_rfc.fit(X_train_counts, y)\n",
    "print(\n",
    "    \"GridSearchCV took %.2f seconds for %d candidate parameter settings.\"\n",
    "    % (time() - start, len(grid_search_rfc.cv_results_[\"params\"]))\n",
    ")\n",
    "report(grid_search_rfc.cv_results_)"
   ]
  },
  {
   "cell_type": "markdown",
   "id": "1334be7b",
   "metadata": {},
   "source": [
    "#### Obtención de mejores hiperparámetros"
   ]
  },
  {
   "cell_type": "code",
   "execution_count": null,
   "id": "4198f454",
   "metadata": {},
   "outputs": [],
   "source": [
    "grid_search_rfc.best_params_"
   ]
  },
  {
   "cell_type": "markdown",
   "id": "e24f8bd9",
   "metadata": {},
   "source": [
    "#### Clasificación RandomForest"
   ]
  },
  {
   "cell_type": "code",
   "execution_count": null,
   "id": "d1004439",
   "metadata": {},
   "outputs": [],
   "source": [
    "rfc = RandomForestClassifier(**grid_search_rfc.best_params_)\n",
    "clf_pred_pipeline(rfc, x_train, y_train, x_test, y_test)"
   ]
  },
  {
   "cell_type": "code",
   "execution_count": null,
   "id": "98f94ec5",
   "metadata": {},
   "outputs": [],
   "source": []
  },
  {
   "cell_type": "markdown",
   "id": "46ee33b5",
   "metadata": {},
   "source": [
    "## Métricas de evaluación"
   ]
  },
  {
   "cell_type": "code",
   "execution_count": null,
   "id": "3d0bfc70",
   "metadata": {},
   "outputs": [],
   "source": [
    "from sklearn.metrics import confusion_matrix, classification_report\n",
    "import matplotlib.pyplot as plt\n",
    "\n",
    "def plot_confusion_matrix(cm, labels, cmap=plt.cm.Blues):\n",
    "    fig, ax = plt.subplots(figsize=(7, 7), tight_layout=True)\n",
    "    ax.imshow(cm, interpolation='nearest', cmap=cmap)\n",
    "    for i in range(cm.shape[1]):\n",
    "        for j in range(cm.shape[0]):\n",
    "            ax.text(j, i, \"{:,}\".format(cm[i, j]), \n",
    "                    horizontalalignment=\"center\", verticalalignment=\"center\",\n",
    "                    color=\"white\" if cm[i, j] > np.amax(cm)/2 else \"black\")\n",
    "    ax.set_title(\"Matriz de confusión\")\n",
    "    tick_marks = np.arange(len(labels))\n",
    "    plt.xticks(tick_marks, labels, rotation='vertical')\n",
    "    plt.yticks(tick_marks, labels)\n",
    "    plt.ylabel('Etiqueta real')\n",
    "    plt.xlabel('Predicción')\n",
    "    plt.show()"
   ]
  },
  {
   "cell_type": "code",
   "execution_count": null,
   "id": "20e9efb7",
   "metadata": {},
   "outputs": [],
   "source": [
    "validation = vectorizer.transform(x_valid.data)\n",
    "y_pred = grid_search_rfc.best_estimator_.predict(validation)"
   ]
  },
  {
   "cell_type": "code",
   "execution_count": null,
   "id": "48d321c7",
   "metadata": {},
   "outputs": [],
   "source": [
    "cm = confusion_matrix(y_true=y_valid, y_pred=y_pred)\n",
    "plot_confusion_matrix(cm, labels=x_train['Tipo Movimiento'].value_counts().keys()) #No estoy seguro si son las labels correctas\n",
    "print(classification_report(y_valid, y_pred, digits=3))"
   ]
  },
  {
   "cell_type": "code",
   "execution_count": null,
   "id": "e2e3733e",
   "metadata": {},
   "outputs": [],
   "source": []
  }
 ],
 "metadata": {
  "kernelspec": {
   "display_name": "Python 3 (ipykernel)",
   "language": "python",
   "name": "python3"
  },
  "language_info": {
   "codemirror_mode": {
    "name": "ipython",
    "version": 3
   },
   "file_extension": ".py",
   "mimetype": "text/x-python",
   "name": "python",
   "nbconvert_exporter": "python",
   "pygments_lexer": "ipython3",
   "version": "3.10.4"
  }
 },
 "nbformat": 4,
 "nbformat_minor": 5
}
