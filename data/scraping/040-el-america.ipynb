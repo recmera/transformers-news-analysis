{
 "cells": [
  {
   "cell_type": "code",
   "execution_count": 1,
   "id": "e42c42ef",
   "metadata": {},
   "outputs": [],
   "source": [
    "import json\n",
    "import w3lib.html\n",
    "import random\n",
    "import os\n",
    "from datetime import datetime\n",
    "import requests\n",
    "import string\n",
    "import calendar\n",
    "import html\n",
    "import locale \n",
    "from requests_html import HTMLSession\n",
    "from requests_html import HTML\n",
    "import validators\n",
    "import pandas as pd\n",
    "from tqdm.notebook import tqdm\n",
    "\n",
    "import warnings\n",
    "warnings.filterwarnings('ignore')"
   ]
  },
  {
   "cell_type": "code",
   "execution_count": 2,
   "id": "79bb0b1d",
   "metadata": {},
   "outputs": [],
   "source": [
    "URL_SEED = 'https://elamerica.cl/category/region-antofagasta/page/1/'\n",
    "XPATH_HREF = \"//h2/a/@href\""
   ]
  },
  {
   "cell_type": "code",
   "execution_count": 3,
   "id": "c8a6236e",
   "metadata": {},
   "outputs": [],
   "source": [
    "class Crawler():\n",
    "    \n",
    "    USER_AGENT_LIST = [\n",
    "        \"Mozilla/5.0 (Windows NT 6.1; WOW64) AppleWebKit/537.1 (KHTML, like Gecko) Chrome/22.0.1207.1 Safari/537.1\",\n",
    "        \"Mozilla/5.0 (X11; CrOS i686 2268.111.0) AppleWebKit/536.11 (KHTML, like Gecko) Chrome/20.0.1132.57 Safari/536.11\",\n",
    "        \"Mozilla/5.0 (Windows NT 6.1; WOW64) AppleWebKit/536.6 (KHTML, like Gecko) Chrome/20.0.1092.0 Safari/536.6\",\n",
    "        \"Mozilla/5.0 (Windows NT 6.2) AppleWebKit/536.6 (KHTML, like Gecko) Chrome/20.0.1090.0 Safari/536.6\",\n",
    "        \"Mozilla/5.0 (Windows NT 6.2; WOW64) AppleWebKit/537.1 (KHTML, like Gecko) Chrome/19.77.34.5 Safari/537.1\",\n",
    "        \"Mozilla/5.0 (X11; Linux x86_64) AppleWebKit/536.5 (KHTML, like Gecko) Chrome/19.0.1084.9 Safari/536.5\",\n",
    "        \"Mozilla/5.0 (Windows NT 6.0) AppleWebKit/536.5 (KHTML, like Gecko) Chrome/19.0.1084.36 Safari/536.5\",\n",
    "        \"Mozilla/5.0 (Windows NT 6.1; WOW64) AppleWebKit/536.3 (KHTML, like Gecko) Chrome/19.0.1063.0 Safari/536.3\",\n",
    "        \"Mozilla/5.0 (Windows NT 5.1) AppleWebKit/536.3 (KHTML, like Gecko) Chrome/19.0.1063.0 Safari/536.3\",\n",
    "        \"Mozilla/5.0 (Macintosh; Intel Mac OS X 10_8_0) AppleWebKit/536.3 (KHTML, like Gecko) Chrome/19.0.1063.0 Safari/536.3\",\n",
    "        \"Mozilla/5.0 (Windows NT 6.2) AppleWebKit/536.3 (KHTML, like Gecko) Chrome/19.0.1062.0 Safari/536.3\",\n",
    "        \"Mozilla/5.0 (Windows NT 6.1; WOW64) AppleWebKit/536.3 (KHTML, like Gecko) Chrome/19.0.1062.0 Safari/536.3\",\n",
    "        \"Mozilla/5.0 (Windows NT 6.2) AppleWebKit/536.3 (KHTML, like Gecko) Chrome/19.0.1061.1 Safari/536.3\",\n",
    "        \"Mozilla/5.0 (Windows NT 6.1; WOW64) AppleWebKit/536.3 (KHTML, like Gecko) Chrome/19.0.1061.1 Safari/536.3\",\n",
    "        \"Mozilla/5.0 (Windows NT 6.1) AppleWebKit/536.3 (KHTML, like Gecko) Chrome/19.0.1061.1 Safari/536.3\",\n",
    "        \"Mozilla/5.0 (Windows NT 6.2) AppleWebKit/536.3 (KHTML, like Gecko) Chrome/19.0.1061.0 Safari/536.3\",\n",
    "        \"Mozilla/5.0 (X11; Linux x86_64) AppleWebKit/535.24 (KHTML, like Gecko) Chrome/19.0.1055.1 Safari/535.24\",\n",
    "        \"Mozilla/5.0 (Windows NT 6.2; WOW64) AppleWebKit/535.24 (KHTML, like Gecko) Chrome/19.0.1055.1 Safari/535.24\"\n",
    "    ]\n",
    "\n",
    "    #Ruta XPATH hacia los enlaces que queremos recopilar\n",
    "    xpath_href=XPATH_HREF\n",
    "\n",
    "    #variable que permite listar todos los enlaces recopilado\n",
    "    url_list = []\n",
    "    \n",
    "    def _init_(self, URL_SEED, XPATH_HREF):        \n",
    "        pass\n",
    "\n",
    "    \n",
    "    def get(self,url):\n",
    "        session = HTMLSession()\n",
    "        header = dict()\n",
    "        header['user-agent'] = random.choice(self.USER_AGENT_LIST)\n",
    "        response = session.get(url,headers=header)        \n",
    "        return response\n",
    "    \n",
    "    def parse(self, response):\n",
    "        self.url_list = []\n",
    "        urls = response.html.xpath(self.xpath_href)\n",
    "        for url in urls:\n",
    "            self.url_list.append(url)\n"
   ]
  },
  {
   "cell_type": "code",
   "execution_count": 4,
   "id": "e016daec",
   "metadata": {
    "scrolled": true
   },
   "outputs": [
    {
     "data": {
      "application/vnd.jupyter.widget-view+json": {
       "model_id": "7b439111741f4ef88ba17f278e0b4e8b",
       "version_major": 2,
       "version_minor": 0
      },
      "text/plain": [
       "  0%|          | 0/3 [00:00<?, ?it/s]"
      ]
     },
     "metadata": {},
     "output_type": "display_data"
    },
    {
     "data": {
      "text/plain": [
       "['https://elamerica.cl/2022/04/01/comenzo-el-deporte-escolar-en-la-region-de-antofagasta/',\n",
       " 'https://elamerica.cl/2022/04/01/gobierno-regional-inspecciona-inicio-de-obras-del-proyecto-de-restauracion-del-teatro-pedro-de-la-barra-de-antofagasta/',\n",
       " 'https://elamerica.cl/2022/04/01/seremi-de-educacion-aborda-principales-desafios-junto-a-la-cmds-ante-hechos-acaecidos-en-establecimientos-escolares/',\n",
       " 'https://elamerica.cl/2022/03/31/continuan-talleres-medioambientales-para-vecinos-as-de-antofagasta/',\n",
       " 'https://elamerica.cl/2022/03/31/mejoran-calidad-de-vida-y-alivio-al-dolor-a-pediatricos-oncologicos-en-antofagasta/',\n",
       " 'https://elamerica.cl/2022/03/30/emprendedoras-del-sernameg-comenzaron-marzo-con-la-comercializacion-de-mas-de-80-productos/',\n",
       " 'https://elamerica.cl/2022/03/30/esgrimistas-regionales-representaran-al-pais-en-los-iii-juegos-suramericanos-de-la-juventud-rosario-2022/',\n",
       " 'https://elamerica.cl/2022/03/29/programa-icec-capacitara-a-50-profesores-en-metodologia-de-indagacion-cientifica/',\n",
       " 'https://elamerica.cl/2022/03/29/investigadora-de-la-universidad-de-antofagasta-desarrolla-sistema-para-que-hogares-tengan-agua-caliente-a-menor-costo/',\n",
       " 'https://elamerica.cl/2022/03/26/siguen-los-coletazos-por-caso-fuga-de-karen-rojo-abren-investigacion-administrativa/',\n",
       " 'https://elamerica.cl/2022/04/01/comenzo-el-deporte-escolar-en-la-region-de-antofagasta/',\n",
       " 'https://elamerica.cl/2022/04/01/gobierno-regional-inspecciona-inicio-de-obras-del-proyecto-de-restauracion-del-teatro-pedro-de-la-barra-de-antofagasta/',\n",
       " 'https://elamerica.cl/2022/04/01/seremi-de-educacion-aborda-principales-desafios-junto-a-la-cmds-ante-hechos-acaecidos-en-establecimientos-escolares/',\n",
       " 'https://elamerica.cl/2022/03/31/continuan-talleres-medioambientales-para-vecinos-as-de-antofagasta/',\n",
       " 'https://elamerica.cl/2022/03/31/mejoran-calidad-de-vida-y-alivio-al-dolor-a-pediatricos-oncologicos-en-antofagasta/',\n",
       " 'https://elamerica.cl/2022/03/30/emprendedoras-del-sernameg-comenzaron-marzo-con-la-comercializacion-de-mas-de-80-productos/',\n",
       " 'https://elamerica.cl/2022/03/30/esgrimistas-regionales-representaran-al-pais-en-los-iii-juegos-suramericanos-de-la-juventud-rosario-2022/',\n",
       " 'https://elamerica.cl/2022/03/29/programa-icec-capacitara-a-50-profesores-en-metodologia-de-indagacion-cientifica/',\n",
       " 'https://elamerica.cl/2022/03/29/investigadora-de-la-universidad-de-antofagasta-desarrolla-sistema-para-que-hogares-tengan-agua-caliente-a-menor-costo/',\n",
       " 'https://elamerica.cl/2022/03/26/siguen-los-coletazos-por-caso-fuga-de-karen-rojo-abren-investigacion-administrativa/',\n",
       " 'https://elamerica.cl/2022/03/26/ucn-recibe-en-comodato-casona-patrimonial-en-antofagasta/',\n",
       " 'https://elamerica.cl/2022/03/26/municipio-adelanta-proyecto-de-mejoramiento-de-sede-genova/',\n",
       " 'https://elamerica.cl/2022/03/25/cinco-infraccionados-en-menos-de-una-semana-llevan-los-operativos-de-televigilancia-en-avenida-salvador-allende/',\n",
       " 'https://elamerica.cl/2022/03/25/junaeb-entrego-47-computadores-a-estudiantes-de-7basico-de-establecimientos-diferenciales/',\n",
       " 'https://elamerica.cl/2022/03/25/40-ninos-ninas-y-adolescentes-de-la-chimba-seran-beneficiados-con-talleres-formativos-de-futbol/',\n",
       " 'https://elamerica.cl/2022/03/24/locomotora-de-la-diversidad-de-fcab-inicia-su-recorrido-por-antofagasta/',\n",
       " 'https://elamerica.cl/2022/03/24/municipalidad-de-tocopilla-reclama-ante-primer-tribunal-ambiental-por-multa-aplicada-por-deficiencias-en-manejo-de-relleno-sanitario/',\n",
       " 'https://elamerica.cl/2022/03/24/adultos-mayores-de-las-poblaciones-favorecedora-y-chango-lopez-se-la-juegan-por-el-deporte/',\n",
       " 'https://elamerica.cl/2022/03/24/sec-antofagasta-recuerda-que-en-sec-cl-la-comunidad-puede-reportar-dudas-o-reclamos-al-usar-los-energeticos/',\n",
       " 'https://elamerica.cl/2022/03/23/corte-suprema-rechaza-recurso-de-nulidad-y-confirma-condena-a-karen-rojo-como-autora-del-delito-de-fraude-al-fisco-y-debera-cumplir-carcel-efectiva/']"
      ]
     },
     "execution_count": 4,
     "metadata": {},
     "output_type": "execute_result"
    }
   ],
   "source": [
    "urls=[]\n",
    "\n",
    "for page in tqdm(range(3)): # revisemos sólo 2 páginas\n",
    "    crawler = Crawler()\n",
    "    response = crawler.get('https://elamerica.cl/category/region-antofagasta/page/'+str(page))\n",
    "    crawler.parse(response)\n",
    "\n",
    "    \n",
    "    for url in crawler.url_list:\n",
    "        urls.append(url)\n",
    "\n",
    "    crawler.url_list = urls\n",
    "    \n",
    "crawler.url_list"
   ]
  },
  {
   "cell_type": "code",
   "execution_count": 5,
   "id": "e6099483",
   "metadata": {},
   "outputs": [
    {
     "data": {
      "text/plain": [
       "30"
      ]
     },
     "execution_count": 5,
     "metadata": {},
     "output_type": "execute_result"
    }
   ],
   "source": [
    "len(urls)"
   ]
  },
  {
   "cell_type": "code",
   "execution_count": 6,
   "id": "928cdb23",
   "metadata": {},
   "outputs": [
    {
     "data": {
      "text/plain": [
       "'https://elamerica.cl/2022/04/01/comenzo-el-deporte-escolar-en-la-region-de-antofagasta/'"
      ]
     },
     "execution_count": 6,
     "metadata": {},
     "output_type": "execute_result"
    }
   ],
   "source": [
    "urls[0]"
   ]
  },
  {
   "cell_type": "code",
   "execution_count": null,
   "id": "f8c2d5b1",
   "metadata": {},
   "outputs": [],
   "source": []
  },
  {
   "cell_type": "code",
   "execution_count": 7,
   "id": "d446e5df",
   "metadata": {},
   "outputs": [],
   "source": [
    "URL_NEWS = urls[0]\n",
    "XPATH_TITLE = \"//h1\"\n",
    "XPATH_CONTENT =\"//div[@class='entry-content entry clearfix']//p\""
   ]
  },
  {
   "cell_type": "code",
   "execution_count": 8,
   "id": "fcc5edaf",
   "metadata": {},
   "outputs": [],
   "source": [
    "class Scraper:\n",
    "    \n",
    "    USER_AGENT_LIST = [\n",
    "        \"Mozilla/5.0 (Windows NT 6.1; WOW64) AppleWebKit/537.1 (KHTML, like Gecko) Chrome/22.0.1207.1 Safari/537.1\",\n",
    "        \"Mozilla/5.0 (X11; CrOS i686 2268.111.0) AppleWebKit/536.11 (KHTML, like Gecko) Chrome/20.0.1132.57 Safari/536.11\",\n",
    "        \"Mozilla/5.0 (Windows NT 6.1; WOW64) AppleWebKit/536.6 (KHTML, like Gecko) Chrome/20.0.1092.0 Safari/536.6\",\n",
    "        \"Mozilla/5.0 (Windows NT 6.2) AppleWebKit/536.6 (KHTML, like Gecko) Chrome/20.0.1090.0 Safari/536.6\",\n",
    "        \"Mozilla/5.0 (Windows NT 6.2; WOW64) AppleWebKit/537.1 (KHTML, like Gecko) Chrome/19.77.34.5 Safari/537.1\",\n",
    "        \"Mozilla/5.0 (X11; Linux x86_64) AppleWebKit/536.5 (KHTML, like Gecko) Chrome/19.0.1084.9 Safari/536.5\",\n",
    "        \"Mozilla/5.0 (Windows NT 6.0) AppleWebKit/536.5 (KHTML, like Gecko) Chrome/19.0.1084.36 Safari/536.5\",\n",
    "        \"Mozilla/5.0 (Windows NT 6.1; WOW64) AppleWebKit/536.3 (KHTML, like Gecko) Chrome/19.0.1063.0 Safari/536.3\",\n",
    "        \"Mozilla/5.0 (Windows NT 5.1) AppleWebKit/536.3 (KHTML, like Gecko) Chrome/19.0.1063.0 Safari/536.3\",\n",
    "        \"Mozilla/5.0 (Macintosh; Intel Mac OS X 10_8_0) AppleWebKit/536.3 (KHTML, like Gecko) Chrome/19.0.1063.0 Safari/536.3\",\n",
    "        \"Mozilla/5.0 (Windows NT 6.2) AppleWebKit/536.3 (KHTML, like Gecko) Chrome/19.0.1062.0 Safari/536.3\",\n",
    "        \"Mozilla/5.0 (Windows NT 6.1; WOW64) AppleWebKit/536.3 (KHTML, like Gecko) Chrome/19.0.1062.0 Safari/536.3\",\n",
    "        \"Mozilla/5.0 (Windows NT 6.2) AppleWebKit/536.3 (KHTML, like Gecko) Chrome/19.0.1061.1 Safari/536.3\",\n",
    "        \"Mozilla/5.0 (Windows NT 6.1; WOW64) AppleWebKit/536.3 (KHTML, like Gecko) Chrome/19.0.1061.1 Safari/536.3\",\n",
    "        \"Mozilla/5.0 (Windows NT 6.1) AppleWebKit/536.3 (KHTML, like Gecko) Chrome/19.0.1061.1 Safari/536.3\",\n",
    "        \"Mozilla/5.0 (Windows NT 6.2) AppleWebKit/536.3 (KHTML, like Gecko) Chrome/19.0.1061.0 Safari/536.3\",\n",
    "        \"Mozilla/5.0 (X11; Linux x86_64) AppleWebKit/535.24 (KHTML, like Gecko) Chrome/19.0.1055.1 Safari/535.24\",\n",
    "        \"Mozilla/5.0 (Windows NT 6.2; WOW64) AppleWebKit/535.24 (KHTML, like Gecko) Chrome/19.0.1055.1 Safari/535.24\"\n",
    "    ]\n",
    "\n",
    "    query_extract_title = XPATH_TITLE\n",
    "    query_extract_text =  XPATH_CONTENT\n",
    "\n",
    "    def _init_(self):\n",
    "        pass\n",
    "   \n",
    "    def get(self,url):\n",
    "        headers = {'user-agent':random.choice(self.USER_AGENT_LIST) }\n",
    "        session = HTMLSession()\n",
    "        response = session.get(url,headers=headers) \n",
    "        return response\n",
    "    \n",
    "    def clean_text(self, html_text):\n",
    "        text_without_tags = w3lib.html.remove_tags(html_text)\n",
    "        text_without_escape_chars = w3lib.html.replace_escape_chars(text_without_tags)\n",
    "        text_without_escape_chars = html.unescape(text_without_escape_chars)\n",
    "        text_without_whitespace = text_without_escape_chars.strip()\n",
    "        return text_without_whitespace\n",
    "\n",
    "    \n",
    "    #### main function ####\n",
    "    def parse(self, response):\n",
    "        \n",
    "        #URL\n",
    "        self.news_url = response.url\n",
    "        \n",
    "        #TITLE\n",
    "        self.news_title = response.html.xpath(self.query_extract_title)[0].text\n",
    "        self.news_title = self.clean_text(self.news_title)\n",
    "       \n",
    "        \n",
    "        #CONTENT\n",
    "        self.news_text = \"\"\n",
    "        \n",
    "        html_paragraphs = response.html.xpath(self.query_extract_text)\n",
    "        \n",
    "        for paragraph in html_paragraphs:\n",
    "            paragraph_content = w3lib.html.remove_tags(paragraph.text)    \n",
    "            text_cleaned = self.clean_text(paragraph_content)\n",
    "            self.news_text = self.news_text+text_cleaned\n"
   ]
  },
  {
   "cell_type": "code",
   "execution_count": 9,
   "id": "d9482704",
   "metadata": {},
   "outputs": [],
   "source": [
    "scraper = Scraper()\n",
    "response =scraper.get(URL_NEWS)"
   ]
  },
  {
   "cell_type": "code",
   "execution_count": 10,
   "id": "d72bc32e",
   "metadata": {},
   "outputs": [],
   "source": [
    "scraper.parse(response)"
   ]
  },
  {
   "cell_type": "code",
   "execution_count": 11,
   "id": "a2e4d401",
   "metadata": {},
   "outputs": [
    {
     "data": {
      "text/plain": [
       "'COMENZÓ EL DEPORTE ESCOLAR EN LA REGIÓN DE ANTOFAGASTA'"
      ]
     },
     "execution_count": 11,
     "metadata": {},
     "output_type": "execute_result"
    }
   ],
   "source": [
    "scraper.news_title"
   ]
  },
  {
   "cell_type": "code",
   "execution_count": 12,
   "id": "162264db",
   "metadata": {},
   "outputs": [
    {
     "data": {
      "text/plain": [
       "'Mindep-IND dio el vamos a los Juegos Deportivos Escolares y a las escuelas autogestionadas del programa Crecer en Movimiento. Este año, el objetivo es mejorar la salud física y mental de las comunidades educativas, como así también propiciar la convivencia escolar.Antofagasta, 1 abril 2022.-Por: Carla Anziani R.Mindep-IND dio el vamos al deporte escolar en la región de Antofagasta, iniciativas competitivas, formativas y recreativas que beneficiarán a más de 50 establecimientos educativos de la zona, teniendo como principal objetivo mejorar la salud física y mental del alumnado, como así también propiciar la convivencia escolar.El Sistema Nacional de Competencias Deportivas dio el puntapié inicial a los Juegos Deportivos Escolares en el Instituto Bicentenario de Excelencia Científico Educacional “José Maza Sancho” (ICEDUC) de Antofagasta, el que recibió implementación deportiva para la realización de torneos internos de futsal, básquetbol, vóleibol y hándbol, en los que se espera participen cerca de 400 alumnos desde cuarto año básico a 4to medio.Vilma Tapia, Directora del ICEDUC, sostuvo que “el deporte es un factor protector de la salud mental de nuestros estudiantes, porque favorece habilidades y aptitudes tan importantes como el trabajo colaborativo y en equipo, el respeto por el otro, la solidaridad y la empatía”.La totalidad de las unidades educativas de la región pueden ser parte de los Juegos Deportivos Escolares, los que están dirigidos a estudiantes de las categorías Sub 10, 12, 14 y Juvenil. Actualmente, Mindep-IND está en coordinación con los departamentos de Educación Extraescolar para fomentar una mayor participación en esta instancia.Respecto a las escuelas autogestionadas del programa Crecer en Movimiento, el Colegio Netland School de la capital regional fue el escenario escogido para el lanzamiento de esta iniciativa, que considera el desarrollo de tres escuelas de deporte formativo ejecutadas por docentes del mismo establecimiento, utilizando para ello implementación entregada por el IND y que beneficiará a más de 500 estudiantes de 2do, 5to y 8vos básicos, además de 3er año medio.Juan Silva Correa, Rector del Netland School, explicó que “el deporte es una válvula de escape para mejorar la convivencia escolar, todos los colegios tenemos dificultades al interior de nuestras aulas pero la práctica de actividad física nos va a servir mucho para fortalecer la salud del alumnado”.Nellie Miranda Eldan, Directora Regional de IND, recalcó que “inyectar el deporte al quehacer de los establecimientos educacionales, puede contribuir a aumentar y mejorar los factores protectores de la salud mental de nuestros chicos, en particular de aquellos que se vienen incorporando después de dos años de confinamiento”.En el marco de la celebración del Día de la Actividad Física a celebrarse el próximo miércoles 6 de abril, el programa Crecer en Movimiento lanzará sus talleres de deporte formativo dictados por instructores de IND, los que beneficiarán directamente a cerca de 40 unidades educativas de Antofagasta, Calama, Tocopilla, Mejillones, Taltal, María Elena y San Pedro de Atacama.En cuanto al deporte recreativo, el programa Deporte y Participación Social está presente en diversas unidades educativas de la región; en Antofagasta hay talleres disponibles en el Instituto Superior de Comercio, en la Escuela Especial “Juan Sandoval Carrasco” y en los colegios Netland School, New Heaven e Instituto Santa María. En Calama, el Liceo “Jorge Alessandri Rodríguez” y el Colegio Chuquicamata son parte de esta red, a la que se suma el Liceo Politécnico “José Miguel Quiroz” de Taltal.'"
      ]
     },
     "execution_count": 12,
     "metadata": {},
     "output_type": "execute_result"
    }
   ],
   "source": [
    "scraper.news_text"
   ]
  },
  {
   "cell_type": "code",
   "execution_count": 13,
   "id": "a455d5d3",
   "metadata": {},
   "outputs": [],
   "source": [
    "#Verificamos que el scraper devuelve algo\n",
    "assert(len(scraper.news_title)>0)\n",
    "assert(len(scraper.news_text)>0)"
   ]
  },
  {
   "cell_type": "code",
   "execution_count": 15,
   "id": "524ce41b",
   "metadata": {},
   "outputs": [
    {
     "data": {
      "text/html": [
       "<div>\n",
       "<style scoped>\n",
       "    .dataframe tbody tr th:only-of-type {\n",
       "        vertical-align: middle;\n",
       "    }\n",
       "\n",
       "    .dataframe tbody tr th {\n",
       "        vertical-align: top;\n",
       "    }\n",
       "\n",
       "    .dataframe thead th {\n",
       "        text-align: right;\n",
       "    }\n",
       "</style>\n",
       "<table border=\"1\" class=\"dataframe\">\n",
       "  <thead>\n",
       "    <tr style=\"text-align: right;\">\n",
       "      <th></th>\n",
       "      <th>url</th>\n",
       "      <th>title</th>\n",
       "      <th>content</th>\n",
       "    </tr>\n",
       "  </thead>\n",
       "  <tbody>\n",
       "    <tr>\n",
       "      <th>0</th>\n",
       "      <td>https://elamerica.cl/2022/04/01/comenzo-el-dep...</td>\n",
       "      <td>COMENZÓ EL DEPORTE ESCOLAR EN LA REGIÓN DE ANT...</td>\n",
       "      <td>Mindep-IND dio el vamos a los Juegos Deportivo...</td>\n",
       "    </tr>\n",
       "  </tbody>\n",
       "</table>\n",
       "</div>"
      ],
      "text/plain": [
       "                                                 url  \\\n",
       "0  https://elamerica.cl/2022/04/01/comenzo-el-dep...   \n",
       "\n",
       "                                               title  \\\n",
       "0  COMENZÓ EL DEPORTE ESCOLAR EN LA REGIÓN DE ANT...   \n",
       "\n",
       "                                             content  \n",
       "0  Mindep-IND dio el vamos a los Juegos Deportivo...  "
      ]
     },
     "execution_count": 15,
     "metadata": {},
     "output_type": "execute_result"
    }
   ],
   "source": [
    "df = pd.DataFrame(data={'url': [URL_NEWS],'title':[scraper.news_title], 'content':[scraper.news_text]})\n",
    "df"
   ]
  },
  {
   "cell_type": "code",
   "execution_count": 16,
   "id": "267a48c8",
   "metadata": {},
   "outputs": [
    {
     "data": {
      "application/vnd.jupyter.widget-view+json": {
       "model_id": "c79c27b7d9204abca25f017c18d8a996",
       "version_major": 2,
       "version_minor": 0
      },
      "text/plain": [
       "  0%|          | 0/30 [00:00<?, ?it/s]"
      ]
     },
     "metadata": {},
     "output_type": "display_data"
    }
   ],
   "source": [
    "XPATH_TITLE = \"//h1\"\n",
    "XPATH_CONTENT =\"//div[@class='entry-content entry clearfix']//p\"\n",
    "\n",
    "for url in tqdm(urls):\n",
    "    URL_NEWS = url\n",
    "    scraper = Scraper()\n",
    "    response =scraper.get(URL_NEWS)\n",
    "    scraper.parse(response)\n",
    "    df1 = pd.DataFrame(data={'url': url, 'title':scraper.news_title, 'content':scraper.news_text},index=['url', 'title', 'content'])\n",
    "    df = df.append(df1, ignore_index=True)\n",
    "df = df.drop_duplicates()\n"
   ]
  },
  {
   "cell_type": "code",
   "execution_count": 17,
   "id": "e9c55424",
   "metadata": {},
   "outputs": [
    {
     "data": {
      "text/html": [
       "<div>\n",
       "<style scoped>\n",
       "    .dataframe tbody tr th:only-of-type {\n",
       "        vertical-align: middle;\n",
       "    }\n",
       "\n",
       "    .dataframe tbody tr th {\n",
       "        vertical-align: top;\n",
       "    }\n",
       "\n",
       "    .dataframe thead th {\n",
       "        text-align: right;\n",
       "    }\n",
       "</style>\n",
       "<table border=\"1\" class=\"dataframe\">\n",
       "  <thead>\n",
       "    <tr style=\"text-align: right;\">\n",
       "      <th></th>\n",
       "      <th>url</th>\n",
       "      <th>title</th>\n",
       "      <th>content</th>\n",
       "    </tr>\n",
       "  </thead>\n",
       "  <tbody>\n",
       "    <tr>\n",
       "      <th>0</th>\n",
       "      <td>https://elamerica.cl/2022/04/01/comenzo-el-dep...</td>\n",
       "      <td>COMENZÓ EL DEPORTE ESCOLAR EN LA REGIÓN DE ANT...</td>\n",
       "      <td>Mindep-IND dio el vamos a los Juegos Deportivo...</td>\n",
       "    </tr>\n",
       "    <tr>\n",
       "      <th>4</th>\n",
       "      <td>https://elamerica.cl/2022/04/01/gobierno-regio...</td>\n",
       "      <td>Gobierno Regional inspecciona inicio de obras ...</td>\n",
       "      <td>Los trabajos presentan un 4% de avance corresp...</td>\n",
       "    </tr>\n",
       "    <tr>\n",
       "      <th>7</th>\n",
       "      <td>https://elamerica.cl/2022/04/01/seremi-de-educ...</td>\n",
       "      <td>Seremi de Educación aborda principales desafío...</td>\n",
       "      <td>Antofagasta, 1 abril 2022.-Una productiva y co...</td>\n",
       "    </tr>\n",
       "    <tr>\n",
       "      <th>10</th>\n",
       "      <td>https://elamerica.cl/2022/03/31/continuan-tall...</td>\n",
       "      <td>Continúan talleres medioambientales para vecin...</td>\n",
       "      <td>Antofagasta, 31 marzo 2022.-Por: Nadeska Garcé...</td>\n",
       "    </tr>\n",
       "    <tr>\n",
       "      <th>13</th>\n",
       "      <td>https://elamerica.cl/2022/03/31/mejoran-calida...</td>\n",
       "      <td>Mejoran calidad de vida y alivio al dolor a pe...</td>\n",
       "      <td>Antofagasta, 31 marzo 2022.-Por: Anibal Reyes....</td>\n",
       "    </tr>\n",
       "    <tr>\n",
       "      <th>16</th>\n",
       "      <td>https://elamerica.cl/2022/03/30/emprendedoras-...</td>\n",
       "      <td>Emprendedoras del SernamEG comenzaron marzo co...</td>\n",
       "      <td>Apostadas a un costado de la Plaza Colón de An...</td>\n",
       "    </tr>\n",
       "    <tr>\n",
       "      <th>19</th>\n",
       "      <td>https://elamerica.cl/2022/03/30/esgrimistas-re...</td>\n",
       "      <td>ESGRIMISTAS REGIONALES REPRESENTARÁN AL PAÍS E...</td>\n",
       "      <td>Cinco deportistas locales se darán cita en est...</td>\n",
       "    </tr>\n",
       "    <tr>\n",
       "      <th>22</th>\n",
       "      <td>https://elamerica.cl/2022/03/29/programa-icec-...</td>\n",
       "      <td>Programa ICEC capacitará a 50 profesores en me...</td>\n",
       "      <td>Antofagasta, 29 marzo 2022.-En plena etapa de ...</td>\n",
       "    </tr>\n",
       "    <tr>\n",
       "      <th>25</th>\n",
       "      <td>https://elamerica.cl/2022/03/29/investigadora-...</td>\n",
       "      <td>Investigadora de la Universidad de Antofagasta...</td>\n",
       "      <td>Proyecto de la doctora en Química, Svetlana Us...</td>\n",
       "    </tr>\n",
       "    <tr>\n",
       "      <th>28</th>\n",
       "      <td>https://elamerica.cl/2022/03/26/siguen-los-col...</td>\n",
       "      <td>Siguen los coletazos por caso fuga de Karen Ro...</td>\n",
       "      <td>Antofagasta, 26 marzo 2022.-La fuga de la ex a...</td>\n",
       "    </tr>\n",
       "    <tr>\n",
       "      <th>61</th>\n",
       "      <td>https://elamerica.cl/2022/03/26/ucn-recibe-en-...</td>\n",
       "      <td>UCN recibe en comodato casona patrimonial en A...</td>\n",
       "      <td>Convenio con el IND permitirá que algunas unid...</td>\n",
       "    </tr>\n",
       "    <tr>\n",
       "      <th>64</th>\n",
       "      <td>https://elamerica.cl/2022/03/26/municipio-adel...</td>\n",
       "      <td>MUNICIPIO ADELANTA PROYECTO DE MEJORAMIENTO DE...</td>\n",
       "      <td>El proyecto se enmarca en una serie de mejoram...</td>\n",
       "    </tr>\n",
       "    <tr>\n",
       "      <th>67</th>\n",
       "      <td>https://elamerica.cl/2022/03/25/cinco-infracci...</td>\n",
       "      <td>Cinco infraccionados en menos de una semana ll...</td>\n",
       "      <td>Antofagasta, 25 marzo 2022.-En el contexto de ...</td>\n",
       "    </tr>\n",
       "    <tr>\n",
       "      <th>70</th>\n",
       "      <td>https://elamerica.cl/2022/03/25/junaeb-entrego...</td>\n",
       "      <td>Junaeb entregó 47 computadores a estudiantes d...</td>\n",
       "      <td>Antofagasta, 25 marzo 2022.-A partir del 02 de...</td>\n",
       "    </tr>\n",
       "    <tr>\n",
       "      <th>73</th>\n",
       "      <td>https://elamerica.cl/2022/03/25/40-ninos-ninas...</td>\n",
       "      <td>40 NIÑOS, NIÑAS Y ADOLESCENTES DE LA CHIMBA SE...</td>\n",
       "      <td>Gracias a una alianza entre Mindep-IND y la Fu...</td>\n",
       "    </tr>\n",
       "    <tr>\n",
       "      <th>76</th>\n",
       "      <td>https://elamerica.cl/2022/03/24/locomotora-de-...</td>\n",
       "      <td>Locomotora de la Diversidad de FCAB inicia su ...</td>\n",
       "      <td>Antofagasta, 24 marzo 2022.- / 17:50 pmPor: Na...</td>\n",
       "    </tr>\n",
       "    <tr>\n",
       "      <th>79</th>\n",
       "      <td>https://elamerica.cl/2022/03/24/municipalidad-...</td>\n",
       "      <td>Municipalidad de Tocopilla reclama ante Primer...</td>\n",
       "      <td>La multa, cercana a los 19 millones de pesos, ...</td>\n",
       "    </tr>\n",
       "    <tr>\n",
       "      <th>82</th>\n",
       "      <td>https://elamerica.cl/2022/03/24/adultos-mayore...</td>\n",
       "      <td>ADULTOS MAYORES DE LAS POBLACIONES FAVORECEDOR...</td>\n",
       "      <td>Cerca de 60 personas de la tercera edad partic...</td>\n",
       "    </tr>\n",
       "    <tr>\n",
       "      <th>85</th>\n",
       "      <td>https://elamerica.cl/2022/03/24/sec-antofagast...</td>\n",
       "      <td>SEC Antofagasta recuerda que en sec.cl la comu...</td>\n",
       "      <td>Antofagasta, 24 marzo 2022.-La Dirección Regio...</td>\n",
       "    </tr>\n",
       "    <tr>\n",
       "      <th>88</th>\n",
       "      <td>https://elamerica.cl/2022/03/23/corte-suprema-...</td>\n",
       "      <td>Corte Suprema rechaza recurso de nulidad y con...</td>\n",
       "      <td>El Fiscal Jefe de Antofagasta, Cristian Aguila...</td>\n",
       "    </tr>\n",
       "  </tbody>\n",
       "</table>\n",
       "</div>"
      ],
      "text/plain": [
       "                                                  url  \\\n",
       "0   https://elamerica.cl/2022/04/01/comenzo-el-dep...   \n",
       "4   https://elamerica.cl/2022/04/01/gobierno-regio...   \n",
       "7   https://elamerica.cl/2022/04/01/seremi-de-educ...   \n",
       "10  https://elamerica.cl/2022/03/31/continuan-tall...   \n",
       "13  https://elamerica.cl/2022/03/31/mejoran-calida...   \n",
       "16  https://elamerica.cl/2022/03/30/emprendedoras-...   \n",
       "19  https://elamerica.cl/2022/03/30/esgrimistas-re...   \n",
       "22  https://elamerica.cl/2022/03/29/programa-icec-...   \n",
       "25  https://elamerica.cl/2022/03/29/investigadora-...   \n",
       "28  https://elamerica.cl/2022/03/26/siguen-los-col...   \n",
       "61  https://elamerica.cl/2022/03/26/ucn-recibe-en-...   \n",
       "64  https://elamerica.cl/2022/03/26/municipio-adel...   \n",
       "67  https://elamerica.cl/2022/03/25/cinco-infracci...   \n",
       "70  https://elamerica.cl/2022/03/25/junaeb-entrego...   \n",
       "73  https://elamerica.cl/2022/03/25/40-ninos-ninas...   \n",
       "76  https://elamerica.cl/2022/03/24/locomotora-de-...   \n",
       "79  https://elamerica.cl/2022/03/24/municipalidad-...   \n",
       "82  https://elamerica.cl/2022/03/24/adultos-mayore...   \n",
       "85  https://elamerica.cl/2022/03/24/sec-antofagast...   \n",
       "88  https://elamerica.cl/2022/03/23/corte-suprema-...   \n",
       "\n",
       "                                                title  \\\n",
       "0   COMENZÓ EL DEPORTE ESCOLAR EN LA REGIÓN DE ANT...   \n",
       "4   Gobierno Regional inspecciona inicio de obras ...   \n",
       "7   Seremi de Educación aborda principales desafío...   \n",
       "10  Continúan talleres medioambientales para vecin...   \n",
       "13  Mejoran calidad de vida y alivio al dolor a pe...   \n",
       "16  Emprendedoras del SernamEG comenzaron marzo co...   \n",
       "19  ESGRIMISTAS REGIONALES REPRESENTARÁN AL PAÍS E...   \n",
       "22  Programa ICEC capacitará a 50 profesores en me...   \n",
       "25  Investigadora de la Universidad de Antofagasta...   \n",
       "28  Siguen los coletazos por caso fuga de Karen Ro...   \n",
       "61  UCN recibe en comodato casona patrimonial en A...   \n",
       "64  MUNICIPIO ADELANTA PROYECTO DE MEJORAMIENTO DE...   \n",
       "67  Cinco infraccionados en menos de una semana ll...   \n",
       "70  Junaeb entregó 47 computadores a estudiantes d...   \n",
       "73  40 NIÑOS, NIÑAS Y ADOLESCENTES DE LA CHIMBA SE...   \n",
       "76  Locomotora de la Diversidad de FCAB inicia su ...   \n",
       "79  Municipalidad de Tocopilla reclama ante Primer...   \n",
       "82  ADULTOS MAYORES DE LAS POBLACIONES FAVORECEDOR...   \n",
       "85  SEC Antofagasta recuerda que en sec.cl la comu...   \n",
       "88  Corte Suprema rechaza recurso de nulidad y con...   \n",
       "\n",
       "                                              content  \n",
       "0   Mindep-IND dio el vamos a los Juegos Deportivo...  \n",
       "4   Los trabajos presentan un 4% de avance corresp...  \n",
       "7   Antofagasta, 1 abril 2022.-Una productiva y co...  \n",
       "10  Antofagasta, 31 marzo 2022.-Por: Nadeska Garcé...  \n",
       "13  Antofagasta, 31 marzo 2022.-Por: Anibal Reyes....  \n",
       "16  Apostadas a un costado de la Plaza Colón de An...  \n",
       "19  Cinco deportistas locales se darán cita en est...  \n",
       "22  Antofagasta, 29 marzo 2022.-En plena etapa de ...  \n",
       "25  Proyecto de la doctora en Química, Svetlana Us...  \n",
       "28  Antofagasta, 26 marzo 2022.-La fuga de la ex a...  \n",
       "61  Convenio con el IND permitirá que algunas unid...  \n",
       "64  El proyecto se enmarca en una serie de mejoram...  \n",
       "67  Antofagasta, 25 marzo 2022.-En el contexto de ...  \n",
       "70  Antofagasta, 25 marzo 2022.-A partir del 02 de...  \n",
       "73  Gracias a una alianza entre Mindep-IND y la Fu...  \n",
       "76  Antofagasta, 24 marzo 2022.- / 17:50 pmPor: Na...  \n",
       "79  La multa, cercana a los 19 millones de pesos, ...  \n",
       "82  Cerca de 60 personas de la tercera edad partic...  \n",
       "85  Antofagasta, 24 marzo 2022.-La Dirección Regio...  \n",
       "88  El Fiscal Jefe de Antofagasta, Cristian Aguila...  "
      ]
     },
     "execution_count": 17,
     "metadata": {},
     "output_type": "execute_result"
    }
   ],
   "source": [
    "df"
   ]
  },
  {
   "cell_type": "code",
   "execution_count": null,
   "id": "2e565eca",
   "metadata": {},
   "outputs": [],
   "source": []
  }
 ],
 "metadata": {
  "kernelspec": {
   "display_name": "Python 3 (ipykernel)",
   "language": "python",
   "name": "python3"
  },
  "language_info": {
   "codemirror_mode": {
    "name": "ipython",
    "version": 3
   },
   "file_extension": ".py",
   "mimetype": "text/x-python",
   "name": "python",
   "nbconvert_exporter": "python",
   "pygments_lexer": "ipython3",
   "version": "3.8.10"
  }
 },
 "nbformat": 4,
 "nbformat_minor": 5
}
