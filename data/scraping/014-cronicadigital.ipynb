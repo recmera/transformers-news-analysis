{
 "cells": [
  {
   "cell_type": "code",
   "execution_count": 1,
   "id": "e42c42ef",
   "metadata": {},
   "outputs": [],
   "source": [
    "import json\n",
    "import w3lib.html\n",
    "import random\n",
    "import os\n",
    "from datetime import datetime\n",
    "import requests\n",
    "import string\n",
    "import calendar\n",
    "import html\n",
    "import locale \n",
    "from requests_html import HTMLSession\n",
    "from requests_html import HTML\n",
    "import validators\n",
    "import pandas as pd\n",
    "from tqdm.notebook import tqdm\n",
    "\n",
    "import warnings\n",
    "warnings.filterwarnings('ignore')"
   ]
  },
  {
   "cell_type": "code",
   "execution_count": 2,
   "id": "79bb0b1d",
   "metadata": {},
   "outputs": [],
   "source": [
    "URL_SEED = 'https://www.cronicadigital.cl/category/nacional/page/1/'\n",
    "XPATH_HREF = \"//h2/a/@href\""
   ]
  },
  {
   "cell_type": "code",
   "execution_count": 3,
   "id": "c8a6236e",
   "metadata": {},
   "outputs": [],
   "source": [
    "class Crawler():\n",
    "    \n",
    "    USER_AGENT_LIST = [\n",
    "        \"Mozilla/5.0 (Windows NT 6.1; WOW64) AppleWebKit/537.1 (KHTML, like Gecko) Chrome/22.0.1207.1 Safari/537.1\",\n",
    "        \"Mozilla/5.0 (X11; CrOS i686 2268.111.0) AppleWebKit/536.11 (KHTML, like Gecko) Chrome/20.0.1132.57 Safari/536.11\",\n",
    "        \"Mozilla/5.0 (Windows NT 6.1; WOW64) AppleWebKit/536.6 (KHTML, like Gecko) Chrome/20.0.1092.0 Safari/536.6\",\n",
    "        \"Mozilla/5.0 (Windows NT 6.2) AppleWebKit/536.6 (KHTML, like Gecko) Chrome/20.0.1090.0 Safari/536.6\",\n",
    "        \"Mozilla/5.0 (Windows NT 6.2; WOW64) AppleWebKit/537.1 (KHTML, like Gecko) Chrome/19.77.34.5 Safari/537.1\",\n",
    "        \"Mozilla/5.0 (X11; Linux x86_64) AppleWebKit/536.5 (KHTML, like Gecko) Chrome/19.0.1084.9 Safari/536.5\",\n",
    "        \"Mozilla/5.0 (Windows NT 6.0) AppleWebKit/536.5 (KHTML, like Gecko) Chrome/19.0.1084.36 Safari/536.5\",\n",
    "        \"Mozilla/5.0 (Windows NT 6.1; WOW64) AppleWebKit/536.3 (KHTML, like Gecko) Chrome/19.0.1063.0 Safari/536.3\",\n",
    "        \"Mozilla/5.0 (Windows NT 5.1) AppleWebKit/536.3 (KHTML, like Gecko) Chrome/19.0.1063.0 Safari/536.3\",\n",
    "        \"Mozilla/5.0 (Macintosh; Intel Mac OS X 10_8_0) AppleWebKit/536.3 (KHTML, like Gecko) Chrome/19.0.1063.0 Safari/536.3\",\n",
    "        \"Mozilla/5.0 (Windows NT 6.2) AppleWebKit/536.3 (KHTML, like Gecko) Chrome/19.0.1062.0 Safari/536.3\",\n",
    "        \"Mozilla/5.0 (Windows NT 6.1; WOW64) AppleWebKit/536.3 (KHTML, like Gecko) Chrome/19.0.1062.0 Safari/536.3\",\n",
    "        \"Mozilla/5.0 (Windows NT 6.2) AppleWebKit/536.3 (KHTML, like Gecko) Chrome/19.0.1061.1 Safari/536.3\",\n",
    "        \"Mozilla/5.0 (Windows NT 6.1; WOW64) AppleWebKit/536.3 (KHTML, like Gecko) Chrome/19.0.1061.1 Safari/536.3\",\n",
    "        \"Mozilla/5.0 (Windows NT 6.1) AppleWebKit/536.3 (KHTML, like Gecko) Chrome/19.0.1061.1 Safari/536.3\",\n",
    "        \"Mozilla/5.0 (Windows NT 6.2) AppleWebKit/536.3 (KHTML, like Gecko) Chrome/19.0.1061.0 Safari/536.3\",\n",
    "        \"Mozilla/5.0 (X11; Linux x86_64) AppleWebKit/535.24 (KHTML, like Gecko) Chrome/19.0.1055.1 Safari/535.24\",\n",
    "        \"Mozilla/5.0 (Windows NT 6.2; WOW64) AppleWebKit/535.24 (KHTML, like Gecko) Chrome/19.0.1055.1 Safari/535.24\"\n",
    "    ]\n",
    "\n",
    "    #Ruta XPATH hacia los enlaces que queremos recopilar\n",
    "    xpath_href=XPATH_HREF\n",
    "\n",
    "    #variable que permite listar todos los enlaces recopilado\n",
    "    url_list = []\n",
    "    \n",
    "    def _init_(self, URL_SEED, XPATH_HREF):        \n",
    "        pass\n",
    "\n",
    "    \n",
    "    def get(self,url):\n",
    "        session = HTMLSession()\n",
    "        header = dict()\n",
    "        header['user-agent'] = random.choice(self.USER_AGENT_LIST)\n",
    "        response = session.get(url,headers=header)        \n",
    "        return response\n",
    "    \n",
    "    def parse(self, response):\n",
    "        self.url_list = []\n",
    "        urls = response.html.xpath(self.xpath_href)\n",
    "        for url in urls:\n",
    "            self.url_list.append(url)\n"
   ]
  },
  {
   "cell_type": "code",
   "execution_count": 4,
   "id": "e016daec",
   "metadata": {
    "scrolled": true
   },
   "outputs": [
    {
     "data": {
      "application/vnd.jupyter.widget-view+json": {
       "model_id": "80618eacac5f4956a0a8dca899ca4962",
       "version_major": 2,
       "version_minor": 0
      },
      "text/plain": [
       "  0%|          | 0/3 [00:00<?, ?it/s]"
      ]
     },
     "metadata": {},
     "output_type": "display_data"
    },
    {
     "data": {
      "text/plain": [
       "['https://www.cronicadigital.cl/2022/03/28/especialista-llama-a-modificar-el-esquema-de-vacunacion-en-los-colegios/',\n",
       " 'https://www.cronicadigital.cl/2022/03/28/continuan-los-dialogos-ministra-jara-aborda-con-la-sofofa-temas-laborales-y-de-reforma-previsional/',\n",
       " 'https://www.cronicadigital.cl/2022/03/28/operacion-renta-2022-conoce-en-que-casos-tus-criptomonedas-deben-pagar-impuestos/',\n",
       " 'https://www.cronicadigital.cl/2022/03/28/por-violencia-escolar-ofician-a-superintendencia-para-levantar-informacion-sobre-protocolos-de-convivencia-y-reacciones-ante-denuncias/',\n",
       " 'https://www.cronicadigital.cl/2022/03/25/trabajadores-contratistas-de-enap-solicitan-negociacion-de-nuevo-acuerdo-marco-a-la-refineria-estatal/',\n",
       " 'https://www.cronicadigital.cl/2022/03/25/conaf-confirma-presencia-de-4-especies-de-felinos-nativos-en-parque-nacional-cerro-castillo/',\n",
       " 'https://www.cronicadigital.cl/2022/03/24/chile-decide-enviar-us100-mil-en-ayuda-a-ucrania-mientras-regimen-de-zelenski-suspende-a-los-partidos-politicos-opositores/',\n",
       " 'https://www.cronicadigital.cl/2022/03/24/por-unanimidad-jaime-quintana-es-eligido-presidente-de-la-comision-de-rr-ee-del-senado/',\n",
       " 'https://www.cronicadigital.cl/2022/03/24/ante-crisis-y-falta-de-respaldo-estatal-senadora-carvajal-solicita-creacion-de-comision-especial-del-vino/',\n",
       " 'https://www.cronicadigital.cl/2022/03/24/delegada-presidencial-de-valparaiso-confirma-vuelo-humanitario-hacia-y-desde-isla-de-pascua/',\n",
       " 'https://www.cronicadigital.cl/2022/03/28/especialista-llama-a-modificar-el-esquema-de-vacunacion-en-los-colegios/',\n",
       " 'https://www.cronicadigital.cl/2022/03/28/continuan-los-dialogos-ministra-jara-aborda-con-la-sofofa-temas-laborales-y-de-reforma-previsional/',\n",
       " 'https://www.cronicadigital.cl/2022/03/28/operacion-renta-2022-conoce-en-que-casos-tus-criptomonedas-deben-pagar-impuestos/',\n",
       " 'https://www.cronicadigital.cl/2022/03/28/por-violencia-escolar-ofician-a-superintendencia-para-levantar-informacion-sobre-protocolos-de-convivencia-y-reacciones-ante-denuncias/',\n",
       " 'https://www.cronicadigital.cl/2022/03/25/trabajadores-contratistas-de-enap-solicitan-negociacion-de-nuevo-acuerdo-marco-a-la-refineria-estatal/',\n",
       " 'https://www.cronicadigital.cl/2022/03/25/conaf-confirma-presencia-de-4-especies-de-felinos-nativos-en-parque-nacional-cerro-castillo/',\n",
       " 'https://www.cronicadigital.cl/2022/03/24/chile-decide-enviar-us100-mil-en-ayuda-a-ucrania-mientras-regimen-de-zelenski-suspende-a-los-partidos-politicos-opositores/',\n",
       " 'https://www.cronicadigital.cl/2022/03/24/por-unanimidad-jaime-quintana-es-eligido-presidente-de-la-comision-de-rr-ee-del-senado/',\n",
       " 'https://www.cronicadigital.cl/2022/03/24/ante-crisis-y-falta-de-respaldo-estatal-senadora-carvajal-solicita-creacion-de-comision-especial-del-vino/',\n",
       " 'https://www.cronicadigital.cl/2022/03/24/delegada-presidencial-de-valparaiso-confirma-vuelo-humanitario-hacia-y-desde-isla-de-pascua/',\n",
       " 'https://www.cronicadigital.cl/2022/03/23/diputada-bulnes-oficia-al-mineduc-sobre-protocolos-para-prevenir-violencia-escolar/',\n",
       " 'https://www.cronicadigital.cl/2022/03/23/jeannette-jara-se-reune-con-noafp-y-los-invita-a-sumarse-a-los-dialogos-para-reforma-al-sistema-de-pensiones/',\n",
       " 'https://www.cronicadigital.cl/2022/03/23/economista-sostiene-que-aumento-de-recursos-para-el-mepco-no-frenara-el-alza-de-la-bencina/',\n",
       " 'https://www.cronicadigital.cl/2022/03/23/ministra-jara-convoca-a-lideres-de-la-cpc-a-dialogo-tripartito-por-reforma-de-pensiones/',\n",
       " 'https://www.cronicadigital.cl/2022/03/23/luis-cuello-participa-en-la-destruccion-de-material-falsificado-destinado-a-famae/',\n",
       " 'https://www.cronicadigital.cl/2022/03/23/bancada-disidente-presenta-prioridades-legislativas-a-ministro-jackson/',\n",
       " 'https://www.cronicadigital.cl/2022/03/23/prorrogan-trabajos-de-la-convencion-constitucional/',\n",
       " 'https://www.cronicadigital.cl/2022/03/23/cplt-y-acuerdo-de-escazu-es-gran-avance-en-materia-de-transparencia-y-acceso-a-la-informacion-medio-ambiental/',\n",
       " 'https://www.cronicadigital.cl/2022/03/22/rector-de-la-usach-sostiene-primera-reunion-presencial-con-nuevas-autoridades-del-mineduc/',\n",
       " 'https://www.cronicadigital.cl/2022/03/22/camara-de-diputados-aprobo-mecanismo-de-estabilizacion-de-precios-de-los-combustibles/']"
      ]
     },
     "execution_count": 4,
     "metadata": {},
     "output_type": "execute_result"
    }
   ],
   "source": [
    "urls=[]\n",
    "\n",
    "for page in tqdm(range(3)): # revisemos sólo 2 páginas\n",
    "    crawler = Crawler()\n",
    "    response = crawler.get('https://www.cronicadigital.cl/category/nacional/page/'+str(page))\n",
    "    crawler.parse(response)\n",
    "\n",
    "    \n",
    "    for url in crawler.url_list:\n",
    "        urls.append(url)\n",
    "\n",
    "    crawler.url_list = urls\n",
    "    \n",
    "crawler.url_list"
   ]
  },
  {
   "cell_type": "code",
   "execution_count": 5,
   "id": "e6099483",
   "metadata": {},
   "outputs": [
    {
     "data": {
      "text/plain": [
       "30"
      ]
     },
     "execution_count": 5,
     "metadata": {},
     "output_type": "execute_result"
    }
   ],
   "source": [
    "len(urls)"
   ]
  },
  {
   "cell_type": "code",
   "execution_count": 6,
   "id": "928cdb23",
   "metadata": {},
   "outputs": [
    {
     "data": {
      "text/plain": [
       "'https://www.cronicadigital.cl/2022/03/28/especialista-llama-a-modificar-el-esquema-de-vacunacion-en-los-colegios/'"
      ]
     },
     "execution_count": 6,
     "metadata": {},
     "output_type": "execute_result"
    }
   ],
   "source": [
    "urls[0]"
   ]
  },
  {
   "cell_type": "code",
   "execution_count": null,
   "id": "f8c2d5b1",
   "metadata": {},
   "outputs": [],
   "source": []
  },
  {
   "cell_type": "code",
   "execution_count": 7,
   "id": "d446e5df",
   "metadata": {},
   "outputs": [],
   "source": [
    "URL_NEWS = urls[0]\n",
    "XPATH_TITLE = \"//h1\"\n",
    "XPATH_CONTENT =\"//div[@class='entry-content']//p\""
   ]
  },
  {
   "cell_type": "code",
   "execution_count": 8,
   "id": "fcc5edaf",
   "metadata": {},
   "outputs": [],
   "source": [
    "class Scraper:\n",
    "    \n",
    "    USER_AGENT_LIST = [\n",
    "        \"Mozilla/5.0 (Windows NT 6.1; WOW64) AppleWebKit/537.1 (KHTML, like Gecko) Chrome/22.0.1207.1 Safari/537.1\",\n",
    "        \"Mozilla/5.0 (X11; CrOS i686 2268.111.0) AppleWebKit/536.11 (KHTML, like Gecko) Chrome/20.0.1132.57 Safari/536.11\",\n",
    "        \"Mozilla/5.0 (Windows NT 6.1; WOW64) AppleWebKit/536.6 (KHTML, like Gecko) Chrome/20.0.1092.0 Safari/536.6\",\n",
    "        \"Mozilla/5.0 (Windows NT 6.2) AppleWebKit/536.6 (KHTML, like Gecko) Chrome/20.0.1090.0 Safari/536.6\",\n",
    "        \"Mozilla/5.0 (Windows NT 6.2; WOW64) AppleWebKit/537.1 (KHTML, like Gecko) Chrome/19.77.34.5 Safari/537.1\",\n",
    "        \"Mozilla/5.0 (X11; Linux x86_64) AppleWebKit/536.5 (KHTML, like Gecko) Chrome/19.0.1084.9 Safari/536.5\",\n",
    "        \"Mozilla/5.0 (Windows NT 6.0) AppleWebKit/536.5 (KHTML, like Gecko) Chrome/19.0.1084.36 Safari/536.5\",\n",
    "        \"Mozilla/5.0 (Windows NT 6.1; WOW64) AppleWebKit/536.3 (KHTML, like Gecko) Chrome/19.0.1063.0 Safari/536.3\",\n",
    "        \"Mozilla/5.0 (Windows NT 5.1) AppleWebKit/536.3 (KHTML, like Gecko) Chrome/19.0.1063.0 Safari/536.3\",\n",
    "        \"Mozilla/5.0 (Macintosh; Intel Mac OS X 10_8_0) AppleWebKit/536.3 (KHTML, like Gecko) Chrome/19.0.1063.0 Safari/536.3\",\n",
    "        \"Mozilla/5.0 (Windows NT 6.2) AppleWebKit/536.3 (KHTML, like Gecko) Chrome/19.0.1062.0 Safari/536.3\",\n",
    "        \"Mozilla/5.0 (Windows NT 6.1; WOW64) AppleWebKit/536.3 (KHTML, like Gecko) Chrome/19.0.1062.0 Safari/536.3\",\n",
    "        \"Mozilla/5.0 (Windows NT 6.2) AppleWebKit/536.3 (KHTML, like Gecko) Chrome/19.0.1061.1 Safari/536.3\",\n",
    "        \"Mozilla/5.0 (Windows NT 6.1; WOW64) AppleWebKit/536.3 (KHTML, like Gecko) Chrome/19.0.1061.1 Safari/536.3\",\n",
    "        \"Mozilla/5.0 (Windows NT 6.1) AppleWebKit/536.3 (KHTML, like Gecko) Chrome/19.0.1061.1 Safari/536.3\",\n",
    "        \"Mozilla/5.0 (Windows NT 6.2) AppleWebKit/536.3 (KHTML, like Gecko) Chrome/19.0.1061.0 Safari/536.3\",\n",
    "        \"Mozilla/5.0 (X11; Linux x86_64) AppleWebKit/535.24 (KHTML, like Gecko) Chrome/19.0.1055.1 Safari/535.24\",\n",
    "        \"Mozilla/5.0 (Windows NT 6.2; WOW64) AppleWebKit/535.24 (KHTML, like Gecko) Chrome/19.0.1055.1 Safari/535.24\"\n",
    "    ]\n",
    "\n",
    "    query_extract_title = XPATH_TITLE\n",
    "    query_extract_text =  XPATH_CONTENT\n",
    "\n",
    "    def _init_(self):\n",
    "        pass\n",
    "   \n",
    "    def get(self,url):\n",
    "        headers = {'user-agent':random.choice(self.USER_AGENT_LIST) }\n",
    "        session = HTMLSession()\n",
    "        response = session.get(url,headers=headers) \n",
    "        return response\n",
    "    \n",
    "    def clean_text(self, html_text):\n",
    "        text_without_tags = w3lib.html.remove_tags(html_text)\n",
    "        text_without_escape_chars = w3lib.html.replace_escape_chars(text_without_tags)\n",
    "        text_without_escape_chars = html.unescape(text_without_escape_chars)\n",
    "        text_without_whitespace = text_without_escape_chars.strip()\n",
    "        return text_without_whitespace\n",
    "\n",
    "    \n",
    "    #### main function ####\n",
    "    def parse(self, response):\n",
    "        \n",
    "        #URL\n",
    "        self.news_url = response.url\n",
    "        \n",
    "        #TITLE\n",
    "        self.news_title = response.html.xpath(self.query_extract_title)[0].text\n",
    "        self.news_title = self.clean_text(self.news_title)\n",
    "       \n",
    "        \n",
    "        #CONTENT\n",
    "        self.news_text = \"\"\n",
    "        \n",
    "        html_paragraphs = response.html.xpath(self.query_extract_text)\n",
    "        \n",
    "        for paragraph in html_paragraphs:\n",
    "            paragraph_content = w3lib.html.remove_tags(paragraph.text)    \n",
    "            text_cleaned = self.clean_text(paragraph_content)\n",
    "            self.news_text = self.news_text+text_cleaned\n"
   ]
  },
  {
   "cell_type": "code",
   "execution_count": 9,
   "id": "d9482704",
   "metadata": {},
   "outputs": [],
   "source": [
    "scraper = Scraper()\n",
    "response =scraper.get(URL_NEWS)"
   ]
  },
  {
   "cell_type": "code",
   "execution_count": 10,
   "id": "d72bc32e",
   "metadata": {},
   "outputs": [],
   "source": [
    "scraper.parse(response)"
   ]
  },
  {
   "cell_type": "code",
   "execution_count": 11,
   "id": "a2e4d401",
   "metadata": {},
   "outputs": [
    {
     "data": {
      "text/plain": [
       "'Especialista llama a modificar el esquema de vacunación en los colegios'"
      ]
     },
     "execution_count": 11,
     "metadata": {},
     "output_type": "execute_result"
    }
   ],
   "source": [
    "scraper.news_title"
   ]
  },
  {
   "cell_type": "code",
   "execution_count": 12,
   "id": "162264db",
   "metadata": {},
   "outputs": [
    {
     "data": {
      "text/plain": [
       "'Desde el mes de abril, los equipos de salud de la atención primaria llevarán la vacuna contra el Covid-19 a los colegios. La iniciativa fue acordada por la Comisión Nacional de Respuesta Pandémica del Minsal, cuyo objetivo es reforzar la seguridad del retorno a los colegios.Para Vivienne Bachelet, epidemióloga y académica Usach, es una medida que va en la dirección correcta. Sin embargo, pone un reparo: “Debemos entender que la población más pequeña se está vacunando con Coronavac, que se ideó para la variante original. Y de las vacunas es la que tiene más baja efectividad”.“La protección que puede brindar es bastante menor a la que brindan otras vacunas, hay que considerar modificar el esquema de vacunación que se está usando en el país”, sostuvo la especialista.Por otra parte, se refirió al umbral de 80% que definió el Gobierno. “Fijar un umbral de 80% parece ser bastante arbitrario, el umbral depende de, por una parte, las efectividades que están en juego y por otra, el objetivo que se quiere lograr en la política pública. Si uno quiere tener la mayor protección posible hay que apostar al 100%”, sostuvo.Además, Bachelet habló de la importancia de apuntar no solo al Covid-19. “Estamos expuestos a otros tipos de virus respiratorios, donde es más difícil que los niños pequeños tomen las medidas de distanciamiento social y uso de mascarillas, ahí es importante un sistema de ventilación en todos los sistemas educacionales, en todo tipo de instancia”.“Junto con la vacuna, es fundamental realizar un rediseño de los sistemas ventilatorios de las clases y eso pasa por una inversión país importante. No podemos obviar este punto, no olvidemos que estamos avanzando al invierno y se van a juntar varios virus respiratorios al mismo tiempo”, cerró.'"
      ]
     },
     "execution_count": 12,
     "metadata": {},
     "output_type": "execute_result"
    }
   ],
   "source": [
    "scraper.news_text"
   ]
  },
  {
   "cell_type": "code",
   "execution_count": 13,
   "id": "a455d5d3",
   "metadata": {},
   "outputs": [],
   "source": [
    "#Verificamos que el scraper devuelve algo\n",
    "assert(len(scraper.news_title)>0)\n",
    "assert(len(scraper.news_text)>0)"
   ]
  },
  {
   "cell_type": "code",
   "execution_count": 16,
   "id": "524ce41b",
   "metadata": {},
   "outputs": [
    {
     "data": {
      "text/html": [
       "<div>\n",
       "<style scoped>\n",
       "    .dataframe tbody tr th:only-of-type {\n",
       "        vertical-align: middle;\n",
       "    }\n",
       "\n",
       "    .dataframe tbody tr th {\n",
       "        vertical-align: top;\n",
       "    }\n",
       "\n",
       "    .dataframe thead th {\n",
       "        text-align: right;\n",
       "    }\n",
       "</style>\n",
       "<table border=\"1\" class=\"dataframe\">\n",
       "  <thead>\n",
       "    <tr style=\"text-align: right;\">\n",
       "      <th></th>\n",
       "      <th>url</th>\n",
       "      <th>title</th>\n",
       "      <th>content</th>\n",
       "    </tr>\n",
       "  </thead>\n",
       "  <tbody>\n",
       "    <tr>\n",
       "      <th>0</th>\n",
       "      <td>https://www.cronicadigital.cl/2022/03/28/espec...</td>\n",
       "      <td>Especialista llama a modificar el esquema de v...</td>\n",
       "      <td>Desde el mes de abril, los equipos de salud de...</td>\n",
       "    </tr>\n",
       "  </tbody>\n",
       "</table>\n",
       "</div>"
      ],
      "text/plain": [
       "                                                 url  \\\n",
       "0  https://www.cronicadigital.cl/2022/03/28/espec...   \n",
       "\n",
       "                                               title  \\\n",
       "0  Especialista llama a modificar el esquema de v...   \n",
       "\n",
       "                                             content  \n",
       "0  Desde el mes de abril, los equipos de salud de...  "
      ]
     },
     "execution_count": 16,
     "metadata": {},
     "output_type": "execute_result"
    }
   ],
   "source": [
    "df = pd.DataFrame(data={'url': [URL_NEWS],'title':[scraper.news_title], 'content':[scraper.news_text]})\n",
    "df"
   ]
  },
  {
   "cell_type": "code",
   "execution_count": 17,
   "id": "267a48c8",
   "metadata": {},
   "outputs": [
    {
     "data": {
      "application/vnd.jupyter.widget-view+json": {
       "model_id": "e308badaf935400681a47f0bca7e9fb6",
       "version_major": 2,
       "version_minor": 0
      },
      "text/plain": [
       "  0%|          | 0/30 [00:00<?, ?it/s]"
      ]
     },
     "metadata": {},
     "output_type": "display_data"
    }
   ],
   "source": [
    "XPATH_TITLE = \"//h1\"\n",
    "XPATH_CONTENT =\"//div[@class='entry-content']//p\"\n",
    "\n",
    "for url in tqdm(urls):\n",
    "    URL_NEWS = url\n",
    "    scraper = Scraper()\n",
    "    response =scraper.get(URL_NEWS)\n",
    "    scraper.parse(response)\n",
    "    df1 = pd.DataFrame(data={'url': url, 'title':scraper.news_title, 'content':scraper.news_text},index=['url', 'title', 'content'])\n",
    "    df = df.append(df1, ignore_index=True)\n",
    "df = df.drop_duplicates()\n"
   ]
  },
  {
   "cell_type": "code",
   "execution_count": 18,
   "id": "e9c55424",
   "metadata": {
    "scrolled": true
   },
   "outputs": [
    {
     "data": {
      "text/html": [
       "<div>\n",
       "<style scoped>\n",
       "    .dataframe tbody tr th:only-of-type {\n",
       "        vertical-align: middle;\n",
       "    }\n",
       "\n",
       "    .dataframe tbody tr th {\n",
       "        vertical-align: top;\n",
       "    }\n",
       "\n",
       "    .dataframe thead th {\n",
       "        text-align: right;\n",
       "    }\n",
       "</style>\n",
       "<table border=\"1\" class=\"dataframe\">\n",
       "  <thead>\n",
       "    <tr style=\"text-align: right;\">\n",
       "      <th></th>\n",
       "      <th>url</th>\n",
       "      <th>title</th>\n",
       "      <th>content</th>\n",
       "    </tr>\n",
       "  </thead>\n",
       "  <tbody>\n",
       "    <tr>\n",
       "      <th>0</th>\n",
       "      <td>https://www.cronicadigital.cl/2022/03/28/espec...</td>\n",
       "      <td>Especialista llama a modificar el esquema de v...</td>\n",
       "      <td>Desde el mes de abril, los equipos de salud de...</td>\n",
       "    </tr>\n",
       "    <tr>\n",
       "      <th>4</th>\n",
       "      <td>https://www.cronicadigital.cl/2022/03/28/conti...</td>\n",
       "      <td>Continúan los diálogos: Ministra Jara aborda c...</td>\n",
       "      <td>La ministra del Trabajo y Previsión Social, Je...</td>\n",
       "    </tr>\n",
       "    <tr>\n",
       "      <th>7</th>\n",
       "      <td>https://www.cronicadigital.cl/2022/03/28/opera...</td>\n",
       "      <td>Operación Renta 2022: Conoce en qué casos tus ...</td>\n",
       "      <td>El Servicio de Impuestos Internos (SII) ya hab...</td>\n",
       "    </tr>\n",
       "    <tr>\n",
       "      <th>10</th>\n",
       "      <td>https://www.cronicadigital.cl/2022/03/28/por-v...</td>\n",
       "      <td>Por violencia escolar: Ofician a Superintenden...</td>\n",
       "      <td>Con la finalidad de levantar información públi...</td>\n",
       "    </tr>\n",
       "    <tr>\n",
       "      <th>13</th>\n",
       "      <td>https://www.cronicadigital.cl/2022/03/25/traba...</td>\n",
       "      <td>Trabajadores contratistas de ENAP solicitan ne...</td>\n",
       "      <td>Este lunes 21 de marzo, los dirigentes de la F...</td>\n",
       "    </tr>\n",
       "    <tr>\n",
       "      <th>16</th>\n",
       "      <td>https://www.cronicadigital.cl/2022/03/25/conaf...</td>\n",
       "      <td>CONAF confirma presencia de 4 especies de feli...</td>\n",
       "      <td>El buen trabajo de conservación en el Parque N...</td>\n",
       "    </tr>\n",
       "    <tr>\n",
       "      <th>19</th>\n",
       "      <td>https://www.cronicadigital.cl/2022/03/24/chile...</td>\n",
       "      <td>Chile decide enviar US$100 mil en ayuda a Ucra...</td>\n",
       "      <td>Esta tarde mediante un comunicado la Canciller...</td>\n",
       "    </tr>\n",
       "    <tr>\n",
       "      <th>22</th>\n",
       "      <td>https://www.cronicadigital.cl/2022/03/24/por-u...</td>\n",
       "      <td>Por unanimidad Jaime Quintana es eligido presi...</td>\n",
       "      <td>El pasado 23 de marzo el senador Jaime Quintan...</td>\n",
       "    </tr>\n",
       "    <tr>\n",
       "      <th>25</th>\n",
       "      <td>https://www.cronicadigital.cl/2022/03/24/ante-...</td>\n",
       "      <td>Ante crisis y falta de respaldo estatal, senad...</td>\n",
       "      <td>El pasado 23 de marzo la senadora Loreto Carva...</td>\n",
       "    </tr>\n",
       "    <tr>\n",
       "      <th>28</th>\n",
       "      <td>https://www.cronicadigital.cl/2022/03/24/deleg...</td>\n",
       "      <td>Delegada Presidencial de Valparaíso confirma v...</td>\n",
       "      <td>Gracias a la gestión y coordinación de la Dele...</td>\n",
       "    </tr>\n",
       "    <tr>\n",
       "      <th>61</th>\n",
       "      <td>https://www.cronicadigital.cl/2022/03/23/diput...</td>\n",
       "      <td>Diputada Bulnes oficia al Mineduc sobre protoc...</td>\n",
       "      <td>Un oficio que solicita al Ministerio de Educac...</td>\n",
       "    </tr>\n",
       "    <tr>\n",
       "      <th>64</th>\n",
       "      <td>https://www.cronicadigital.cl/2022/03/23/jeann...</td>\n",
       "      <td>Jeannette Jara se reúne con No+AFP y los invit...</td>\n",
       "      <td>“Es muy importante para nuestro Gobierno lleva...</td>\n",
       "    </tr>\n",
       "    <tr>\n",
       "      <th>67</th>\n",
       "      <td>https://www.cronicadigital.cl/2022/03/23/econo...</td>\n",
       "      <td>Economista sostiene que aumento de recursos pa...</td>\n",
       "      <td>La Cámara aprobó el aumento de los recursos pa...</td>\n",
       "    </tr>\n",
       "    <tr>\n",
       "      <th>70</th>\n",
       "      <td>https://www.cronicadigital.cl/2022/03/23/minis...</td>\n",
       "      <td>Ministra Jara convoca a líderes de la CPC a di...</td>\n",
       "      <td>“Hay un ánimo de diálogo y de construcción en ...</td>\n",
       "    </tr>\n",
       "    <tr>\n",
       "      <th>73</th>\n",
       "      <td>https://www.cronicadigital.cl/2022/03/23/luis-...</td>\n",
       "      <td>Luis Cuello participa en la destrucción de mat...</td>\n",
       "      <td>En dependencias de la empresa Midas en la comu...</td>\n",
       "    </tr>\n",
       "    <tr>\n",
       "      <th>76</th>\n",
       "      <td>https://www.cronicadigital.cl/2022/03/23/banca...</td>\n",
       "      <td>Bancada Disidente presenta prioridades legisla...</td>\n",
       "      <td>Garantizar el derecho a una vida libre de viol...</td>\n",
       "    </tr>\n",
       "    <tr>\n",
       "      <th>79</th>\n",
       "      <td>https://www.cronicadigital.cl/2022/03/23/prorr...</td>\n",
       "      <td>Prorrogan trabajos de la Convención Constituci...</td>\n",
       "      <td>La Convención Constitucional chilena prorrogó ...</td>\n",
       "    </tr>\n",
       "    <tr>\n",
       "      <th>82</th>\n",
       "      <td>https://www.cronicadigital.cl/2022/03/23/cplt-...</td>\n",
       "      <td>CPLT y Acuerdo de Escazú: Es gran avance en ma...</td>\n",
       "      <td>La ratificación de Chile se traduce, entre otr...</td>\n",
       "    </tr>\n",
       "    <tr>\n",
       "      <th>85</th>\n",
       "      <td>https://www.cronicadigital.cl/2022/03/22/recto...</td>\n",
       "      <td>Rector de la Usach sostiene primera reunión pr...</td>\n",
       "      <td>A las 9.30 horas de este martes 22 de marzo se...</td>\n",
       "    </tr>\n",
       "    <tr>\n",
       "      <th>88</th>\n",
       "      <td>https://www.cronicadigital.cl/2022/03/22/camar...</td>\n",
       "      <td>Cámara de Diputados aprobó Mecanismo de Estabi...</td>\n",
       "      <td>La contingencia internacional ha mantenido vol...</td>\n",
       "    </tr>\n",
       "  </tbody>\n",
       "</table>\n",
       "</div>"
      ],
      "text/plain": [
       "                                                  url  \\\n",
       "0   https://www.cronicadigital.cl/2022/03/28/espec...   \n",
       "4   https://www.cronicadigital.cl/2022/03/28/conti...   \n",
       "7   https://www.cronicadigital.cl/2022/03/28/opera...   \n",
       "10  https://www.cronicadigital.cl/2022/03/28/por-v...   \n",
       "13  https://www.cronicadigital.cl/2022/03/25/traba...   \n",
       "16  https://www.cronicadigital.cl/2022/03/25/conaf...   \n",
       "19  https://www.cronicadigital.cl/2022/03/24/chile...   \n",
       "22  https://www.cronicadigital.cl/2022/03/24/por-u...   \n",
       "25  https://www.cronicadigital.cl/2022/03/24/ante-...   \n",
       "28  https://www.cronicadigital.cl/2022/03/24/deleg...   \n",
       "61  https://www.cronicadigital.cl/2022/03/23/diput...   \n",
       "64  https://www.cronicadigital.cl/2022/03/23/jeann...   \n",
       "67  https://www.cronicadigital.cl/2022/03/23/econo...   \n",
       "70  https://www.cronicadigital.cl/2022/03/23/minis...   \n",
       "73  https://www.cronicadigital.cl/2022/03/23/luis-...   \n",
       "76  https://www.cronicadigital.cl/2022/03/23/banca...   \n",
       "79  https://www.cronicadigital.cl/2022/03/23/prorr...   \n",
       "82  https://www.cronicadigital.cl/2022/03/23/cplt-...   \n",
       "85  https://www.cronicadigital.cl/2022/03/22/recto...   \n",
       "88  https://www.cronicadigital.cl/2022/03/22/camar...   \n",
       "\n",
       "                                                title  \\\n",
       "0   Especialista llama a modificar el esquema de v...   \n",
       "4   Continúan los diálogos: Ministra Jara aborda c...   \n",
       "7   Operación Renta 2022: Conoce en qué casos tus ...   \n",
       "10  Por violencia escolar: Ofician a Superintenden...   \n",
       "13  Trabajadores contratistas de ENAP solicitan ne...   \n",
       "16  CONAF confirma presencia de 4 especies de feli...   \n",
       "19  Chile decide enviar US$100 mil en ayuda a Ucra...   \n",
       "22  Por unanimidad Jaime Quintana es eligido presi...   \n",
       "25  Ante crisis y falta de respaldo estatal, senad...   \n",
       "28  Delegada Presidencial de Valparaíso confirma v...   \n",
       "61  Diputada Bulnes oficia al Mineduc sobre protoc...   \n",
       "64  Jeannette Jara se reúne con No+AFP y los invit...   \n",
       "67  Economista sostiene que aumento de recursos pa...   \n",
       "70  Ministra Jara convoca a líderes de la CPC a di...   \n",
       "73  Luis Cuello participa en la destrucción de mat...   \n",
       "76  Bancada Disidente presenta prioridades legisla...   \n",
       "79  Prorrogan trabajos de la Convención Constituci...   \n",
       "82  CPLT y Acuerdo de Escazú: Es gran avance en ma...   \n",
       "85  Rector de la Usach sostiene primera reunión pr...   \n",
       "88  Cámara de Diputados aprobó Mecanismo de Estabi...   \n",
       "\n",
       "                                              content  \n",
       "0   Desde el mes de abril, los equipos de salud de...  \n",
       "4   La ministra del Trabajo y Previsión Social, Je...  \n",
       "7   El Servicio de Impuestos Internos (SII) ya hab...  \n",
       "10  Con la finalidad de levantar información públi...  \n",
       "13  Este lunes 21 de marzo, los dirigentes de la F...  \n",
       "16  El buen trabajo de conservación en el Parque N...  \n",
       "19  Esta tarde mediante un comunicado la Canciller...  \n",
       "22  El pasado 23 de marzo el senador Jaime Quintan...  \n",
       "25  El pasado 23 de marzo la senadora Loreto Carva...  \n",
       "28  Gracias a la gestión y coordinación de la Dele...  \n",
       "61  Un oficio que solicita al Ministerio de Educac...  \n",
       "64  “Es muy importante para nuestro Gobierno lleva...  \n",
       "67  La Cámara aprobó el aumento de los recursos pa...  \n",
       "70  “Hay un ánimo de diálogo y de construcción en ...  \n",
       "73  En dependencias de la empresa Midas en la comu...  \n",
       "76  Garantizar el derecho a una vida libre de viol...  \n",
       "79  La Convención Constitucional chilena prorrogó ...  \n",
       "82  La ratificación de Chile se traduce, entre otr...  \n",
       "85  A las 9.30 horas de este martes 22 de marzo se...  \n",
       "88  La contingencia internacional ha mantenido vol...  "
      ]
     },
     "execution_count": 18,
     "metadata": {},
     "output_type": "execute_result"
    }
   ],
   "source": [
    "df"
   ]
  },
  {
   "cell_type": "code",
   "execution_count": null,
   "id": "2e565eca",
   "metadata": {},
   "outputs": [],
   "source": []
  }
 ],
 "metadata": {
  "kernelspec": {
   "display_name": "Python 3 (ipykernel)",
   "language": "python",
   "name": "python3"
  },
  "language_info": {
   "codemirror_mode": {
    "name": "ipython",
    "version": 3
   },
   "file_extension": ".py",
   "mimetype": "text/x-python",
   "name": "python",
   "nbconvert_exporter": "python",
   "pygments_lexer": "ipython3",
   "version": "3.8.10"
  }
 },
 "nbformat": 4,
 "nbformat_minor": 5
}
