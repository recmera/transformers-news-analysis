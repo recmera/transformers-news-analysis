{
 "cells": [
  {
   "cell_type": "code",
   "execution_count": 1,
   "id": "e42c42ef",
   "metadata": {},
   "outputs": [],
   "source": [
    "import json\n",
    "import w3lib.html\n",
    "import random\n",
    "import os\n",
    "from datetime import datetime\n",
    "import requests\n",
    "import string\n",
    "import calendar\n",
    "import html\n",
    "import locale \n",
    "from requests_html import HTMLSession\n",
    "from requests_html import HTML\n",
    "import validators\n",
    "import pandas as pd\n",
    "from tqdm.notebook import tqdm\n",
    "\n",
    "import warnings\n",
    "warnings.filterwarnings('ignore')"
   ]
  },
  {
   "cell_type": "code",
   "execution_count": 2,
   "id": "79bb0b1d",
   "metadata": {},
   "outputs": [],
   "source": [
    "URL_SEED = 'https://www.elmostrador.cl/noticias/pais/page/1'\n",
    "XPATH_HREF = \"//h4/a/@href\""
   ]
  },
  {
   "cell_type": "code",
   "execution_count": 3,
   "id": "c8a6236e",
   "metadata": {},
   "outputs": [],
   "source": [
    "class Crawler():\n",
    "    \n",
    "    USER_AGENT_LIST = [\n",
    "        \"Mozilla/5.0 (Windows NT 6.1; WOW64) AppleWebKit/537.1 (KHTML, like Gecko) Chrome/22.0.1207.1 Safari/537.1\",\n",
    "        \"Mozilla/5.0 (X11; CrOS i686 2268.111.0) AppleWebKit/536.11 (KHTML, like Gecko) Chrome/20.0.1132.57 Safari/536.11\",\n",
    "        \"Mozilla/5.0 (Windows NT 6.1; WOW64) AppleWebKit/536.6 (KHTML, like Gecko) Chrome/20.0.1092.0 Safari/536.6\",\n",
    "        \"Mozilla/5.0 (Windows NT 6.2) AppleWebKit/536.6 (KHTML, like Gecko) Chrome/20.0.1090.0 Safari/536.6\",\n",
    "        \"Mozilla/5.0 (Windows NT 6.2; WOW64) AppleWebKit/537.1 (KHTML, like Gecko) Chrome/19.77.34.5 Safari/537.1\",\n",
    "        \"Mozilla/5.0 (X11; Linux x86_64) AppleWebKit/536.5 (KHTML, like Gecko) Chrome/19.0.1084.9 Safari/536.5\",\n",
    "        \"Mozilla/5.0 (Windows NT 6.0) AppleWebKit/536.5 (KHTML, like Gecko) Chrome/19.0.1084.36 Safari/536.5\",\n",
    "        \"Mozilla/5.0 (Windows NT 6.1; WOW64) AppleWebKit/536.3 (KHTML, like Gecko) Chrome/19.0.1063.0 Safari/536.3\",\n",
    "        \"Mozilla/5.0 (Windows NT 5.1) AppleWebKit/536.3 (KHTML, like Gecko) Chrome/19.0.1063.0 Safari/536.3\",\n",
    "        \"Mozilla/5.0 (Macintosh; Intel Mac OS X 10_8_0) AppleWebKit/536.3 (KHTML, like Gecko) Chrome/19.0.1063.0 Safari/536.3\",\n",
    "        \"Mozilla/5.0 (Windows NT 6.2) AppleWebKit/536.3 (KHTML, like Gecko) Chrome/19.0.1062.0 Safari/536.3\",\n",
    "        \"Mozilla/5.0 (Windows NT 6.1; WOW64) AppleWebKit/536.3 (KHTML, like Gecko) Chrome/19.0.1062.0 Safari/536.3\",\n",
    "        \"Mozilla/5.0 (Windows NT 6.2) AppleWebKit/536.3 (KHTML, like Gecko) Chrome/19.0.1061.1 Safari/536.3\",\n",
    "        \"Mozilla/5.0 (Windows NT 6.1; WOW64) AppleWebKit/536.3 (KHTML, like Gecko) Chrome/19.0.1061.1 Safari/536.3\",\n",
    "        \"Mozilla/5.0 (Windows NT 6.1) AppleWebKit/536.3 (KHTML, like Gecko) Chrome/19.0.1061.1 Safari/536.3\",\n",
    "        \"Mozilla/5.0 (Windows NT 6.2) AppleWebKit/536.3 (KHTML, like Gecko) Chrome/19.0.1061.0 Safari/536.3\",\n",
    "        \"Mozilla/5.0 (X11; Linux x86_64) AppleWebKit/535.24 (KHTML, like Gecko) Chrome/19.0.1055.1 Safari/535.24\",\n",
    "        \"Mozilla/5.0 (Windows NT 6.2; WOW64) AppleWebKit/535.24 (KHTML, like Gecko) Chrome/19.0.1055.1 Safari/535.24\"\n",
    "    ]\n",
    "\n",
    "    #Ruta XPATH hacia los enlaces que queremos recopilar\n",
    "    xpath_href=XPATH_HREF\n",
    "\n",
    "    #variable que permite listar todos los enlaces recopilado\n",
    "    url_list = []\n",
    "    \n",
    "    def _init_(self, URL_SEED, XPATH_HREF):        \n",
    "        pass\n",
    "\n",
    "    \n",
    "    def get(self,url):\n",
    "        session = HTMLSession()\n",
    "        header = dict()\n",
    "        header['user-agent'] = random.choice(self.USER_AGENT_LIST)\n",
    "        response = session.get(url,headers=header)        \n",
    "        return response\n",
    "    \n",
    "    def parse(self, response):\n",
    "        self.url_list = []\n",
    "        urls = response.html.xpath(self.xpath_href)\n",
    "        for url in urls:\n",
    "            self.url_list.append(url)\n"
   ]
  },
  {
   "cell_type": "code",
   "execution_count": 4,
   "id": "e016daec",
   "metadata": {
    "scrolled": true
   },
   "outputs": [
    {
     "data": {
      "application/vnd.jupyter.widget-view+json": {
       "model_id": "646b9158314c4210ad27637342aeb675",
       "version_major": 2,
       "version_minor": 0
      },
      "text/plain": [
       "  0%|          | 0/3 [00:00<?, ?it/s]"
      ]
     },
     "metadata": {},
     "output_type": "display_data"
    },
    {
     "data": {
      "text/plain": [
       "['https://www.elmostrador.cl/destacado/2022/03/27/senador-francisco-huenchumilla-dc-el-dialogo-es-un-metodo-de-trabajo-no-una-solucion-a-los-problemas-de-los-habitantes-de-la-araucania/',\n",
       " 'https://www.elmostrador.cl/noticias/2022/03/27/ministro-jackson-en-el-oficialismo-no-hay-nadie-que-me-haya-dicho-que-votara-en-contra-de-amnistia-a-presos-del-estallido/',\n",
       " 'https://www.elmostrador.cl/noticias/2022/03/27/contagios-siguen-a-la-baja-pero-se-registra-alza-de-fallecidos-respecto-de-la-semana-pasada-minsal-reporta-6-480-nuevos-casos-covid-19-y-una-positividad-de-78/',\n",
       " 'https://www.elmostrador.cl/destacado/2022/03/27/la-generacion-de-los-nietos-isabel-cademartori-los-viejos-tambien-son-importantes/',\n",
       " 'https://www.elmostrador.cl/noticias/2022/03/26/carabinero-que-disparo-en-marcha-quedo-en-libertad-tras-peritajes/',\n",
       " 'https://www.elmostrador.cl/destacado/2022/03/26/subsecretario-del-interior-manuel-monsalve-adelanta-que-ha-tenido-reuniones-para-impulsar-reforma-a-las-policias/',\n",
       " 'https://www.elmostrador.cl/noticias/2022/03/26/monsalve-y-fin-del-estado-de-excepcion-en-el-sur-eso-no-implica-que-el-gobierno-no-tenga-la-tarea-de-garantizar-la-seguridad-de-todos/',\n",
       " 'https://www.elmostrador.cl/destacado/2022/03/26/estado-de-excepcion-en-jaque-en-el-norte-pese-a-militarizacion-mas-de-5-600-inmigrantes-ingresaron-clandestinamente/',\n",
       " 'https://www.elmostrador.cl/noticias/2022/03/26/exministro-alberto-espina-sufrio-ataque-cerebro-vascular/',\n",
       " 'https://www.elmostrador.cl/destacado/2022/03/27/senador-francisco-huenchumilla-dc-el-dialogo-es-un-metodo-de-trabajo-no-una-solucion-a-los-problemas-de-los-habitantes-de-la-araucania/',\n",
       " 'https://www.elmostrador.cl/noticias/2022/03/27/ministro-jackson-en-el-oficialismo-no-hay-nadie-que-me-haya-dicho-que-votara-en-contra-de-amnistia-a-presos-del-estallido/',\n",
       " 'https://www.elmostrador.cl/noticias/2022/03/27/contagios-siguen-a-la-baja-pero-se-registra-alza-de-fallecidos-respecto-de-la-semana-pasada-minsal-reporta-6-480-nuevos-casos-covid-19-y-una-positividad-de-78/',\n",
       " 'https://www.elmostrador.cl/destacado/2022/03/27/la-generacion-de-los-nietos-isabel-cademartori-los-viejos-tambien-son-importantes/',\n",
       " 'https://www.elmostrador.cl/noticias/2022/03/26/carabinero-que-disparo-en-marcha-quedo-en-libertad-tras-peritajes/',\n",
       " 'https://www.elmostrador.cl/destacado/2022/03/26/subsecretario-del-interior-manuel-monsalve-adelanta-que-ha-tenido-reuniones-para-impulsar-reforma-a-las-policias/',\n",
       " 'https://www.elmostrador.cl/noticias/2022/03/26/monsalve-y-fin-del-estado-de-excepcion-en-el-sur-eso-no-implica-que-el-gobierno-no-tenga-la-tarea-de-garantizar-la-seguridad-de-todos/',\n",
       " 'https://www.elmostrador.cl/destacado/2022/03/26/estado-de-excepcion-en-jaque-en-el-norte-pese-a-militarizacion-mas-de-5-600-inmigrantes-ingresaron-clandestinamente/',\n",
       " 'https://www.elmostrador.cl/noticias/2022/03/26/exministro-alberto-espina-sufrio-ataque-cerebro-vascular/',\n",
       " 'https://www.elmostrador.cl/noticias/2022/03/26/covid-19-minsal-reporta-7-448-nuevos-casos-y-una-positividad-de-875/',\n",
       " 'https://www.elmostrador.cl/destacado/2022/03/26/las-diferencias-se-tratan-en-casa-bancadas-parlamentarias-se-comprometen-en-cerro-castillo-a-fortalecer-el-dialogo-entre-coaliciones-de-gobierno/',\n",
       " 'https://www.elmostrador.cl/tv/2022/03/26/daniel-quinteros-delegado-presidencial-de-tarapaca-la-irregularidad-migratoria-en-realidad-la-produce-el-estado-a-traves-de-las-politicas-y-medidas-que-dispone/',\n",
       " 'https://www.elmostrador.cl/dia/2022/03/25/diputada-cariola-por-criticas-de-alcalde-jadue-al-gobierno-la-ropa-sucia-se-lava-en-casa/',\n",
       " 'https://www.elmostrador.cl/destacado/2022/03/25/el-llamado-a-cerrar-filas-del-presidente-gabriel-boric-al-oficialismo-no-hay-partidos-de-primera-o-segunda-categoria/',\n",
       " 'https://www.elmostrador.cl/noticias/pais/2022/03/25/suspenden-militancia-de-kena-lorenzini-de-rd-por-acusacion-de-acoso-laboral-y-sexual/',\n",
       " 'https://www.elmostrador.cl/noticias/pais/2022/03/25/senador-keitel-sobre-el-quinto-retiro-entre-tanto-retiro-bono-la-gente-no-quiere-trabajar/',\n",
       " 'https://www.elmostrador.cl/dia/2022/03/25/ex-posta-central-confirma-que-estudiante-baleado-en-marcha-esta-fuera-de-riesgo-vital/',\n",
       " 'https://www.elmostrador.cl/noticias/pais/2022/03/25/indh-evalua-presentar-acciones-legales-contra-carabinero-que-hirio-a-joven-durante-marcha/',\n",
       " 'https://www.elmostrador.cl/dia/2022/03/25/agrupacion-dejan-lienzo-contra-manuel-monsalve-tras-ataque-incendiario-en-la-araucania-y-subsecretario-responde-el-gobierno-va-a-seguir-en-la-senda-del-dialogo/']"
      ]
     },
     "execution_count": 4,
     "metadata": {},
     "output_type": "execute_result"
    }
   ],
   "source": [
    "urls=[]\n",
    "\n",
    "for page in tqdm(range(3)): # revisemos sólo 2 páginas\n",
    "    crawler = Crawler()\n",
    "    response = crawler.get('https://www.elmostrador.cl/noticias/pais/page/'+str(page))\n",
    "    crawler.parse(response)\n",
    "\n",
    "    \n",
    "    for url in crawler.url_list:\n",
    "        urls.append(url)\n",
    "\n",
    "    crawler.url_list = urls\n",
    "    \n",
    "crawler.url_list"
   ]
  },
  {
   "cell_type": "code",
   "execution_count": 5,
   "id": "e6099483",
   "metadata": {},
   "outputs": [
    {
     "data": {
      "text/plain": [
       "28"
      ]
     },
     "execution_count": 5,
     "metadata": {},
     "output_type": "execute_result"
    }
   ],
   "source": [
    "len(urls)"
   ]
  },
  {
   "cell_type": "code",
   "execution_count": 6,
   "id": "928cdb23",
   "metadata": {},
   "outputs": [
    {
     "data": {
      "text/plain": [
       "'https://www.elmostrador.cl/destacado/2022/03/27/senador-francisco-huenchumilla-dc-el-dialogo-es-un-metodo-de-trabajo-no-una-solucion-a-los-problemas-de-los-habitantes-de-la-araucania/'"
      ]
     },
     "execution_count": 6,
     "metadata": {},
     "output_type": "execute_result"
    }
   ],
   "source": [
    "urls[0]"
   ]
  },
  {
   "cell_type": "code",
   "execution_count": null,
   "id": "f8c2d5b1",
   "metadata": {},
   "outputs": [],
   "source": []
  },
  {
   "cell_type": "code",
   "execution_count": 14,
   "id": "d446e5df",
   "metadata": {},
   "outputs": [],
   "source": [
    "URL_NEWS = urls[0]\n",
    "XPATH_TITLE = \"//h2[@class='titulo-single']\"\n",
    "XPATH_CONTENT =\"//div[@id='noticia']/p\""
   ]
  },
  {
   "cell_type": "code",
   "execution_count": 15,
   "id": "fcc5edaf",
   "metadata": {},
   "outputs": [],
   "source": [
    "class Scraper:\n",
    "    \n",
    "    USER_AGENT_LIST = [\n",
    "        \"Mozilla/5.0 (Windows NT 6.1; WOW64) AppleWebKit/537.1 (KHTML, like Gecko) Chrome/22.0.1207.1 Safari/537.1\",\n",
    "        \"Mozilla/5.0 (X11; CrOS i686 2268.111.0) AppleWebKit/536.11 (KHTML, like Gecko) Chrome/20.0.1132.57 Safari/536.11\",\n",
    "        \"Mozilla/5.0 (Windows NT 6.1; WOW64) AppleWebKit/536.6 (KHTML, like Gecko) Chrome/20.0.1092.0 Safari/536.6\",\n",
    "        \"Mozilla/5.0 (Windows NT 6.2) AppleWebKit/536.6 (KHTML, like Gecko) Chrome/20.0.1090.0 Safari/536.6\",\n",
    "        \"Mozilla/5.0 (Windows NT 6.2; WOW64) AppleWebKit/537.1 (KHTML, like Gecko) Chrome/19.77.34.5 Safari/537.1\",\n",
    "        \"Mozilla/5.0 (X11; Linux x86_64) AppleWebKit/536.5 (KHTML, like Gecko) Chrome/19.0.1084.9 Safari/536.5\",\n",
    "        \"Mozilla/5.0 (Windows NT 6.0) AppleWebKit/536.5 (KHTML, like Gecko) Chrome/19.0.1084.36 Safari/536.5\",\n",
    "        \"Mozilla/5.0 (Windows NT 6.1; WOW64) AppleWebKit/536.3 (KHTML, like Gecko) Chrome/19.0.1063.0 Safari/536.3\",\n",
    "        \"Mozilla/5.0 (Windows NT 5.1) AppleWebKit/536.3 (KHTML, like Gecko) Chrome/19.0.1063.0 Safari/536.3\",\n",
    "        \"Mozilla/5.0 (Macintosh; Intel Mac OS X 10_8_0) AppleWebKit/536.3 (KHTML, like Gecko) Chrome/19.0.1063.0 Safari/536.3\",\n",
    "        \"Mozilla/5.0 (Windows NT 6.2) AppleWebKit/536.3 (KHTML, like Gecko) Chrome/19.0.1062.0 Safari/536.3\",\n",
    "        \"Mozilla/5.0 (Windows NT 6.1; WOW64) AppleWebKit/536.3 (KHTML, like Gecko) Chrome/19.0.1062.0 Safari/536.3\",\n",
    "        \"Mozilla/5.0 (Windows NT 6.2) AppleWebKit/536.3 (KHTML, like Gecko) Chrome/19.0.1061.1 Safari/536.3\",\n",
    "        \"Mozilla/5.0 (Windows NT 6.1; WOW64) AppleWebKit/536.3 (KHTML, like Gecko) Chrome/19.0.1061.1 Safari/536.3\",\n",
    "        \"Mozilla/5.0 (Windows NT 6.1) AppleWebKit/536.3 (KHTML, like Gecko) Chrome/19.0.1061.1 Safari/536.3\",\n",
    "        \"Mozilla/5.0 (Windows NT 6.2) AppleWebKit/536.3 (KHTML, like Gecko) Chrome/19.0.1061.0 Safari/536.3\",\n",
    "        \"Mozilla/5.0 (X11; Linux x86_64) AppleWebKit/535.24 (KHTML, like Gecko) Chrome/19.0.1055.1 Safari/535.24\",\n",
    "        \"Mozilla/5.0 (Windows NT 6.2; WOW64) AppleWebKit/535.24 (KHTML, like Gecko) Chrome/19.0.1055.1 Safari/535.24\"\n",
    "    ]\n",
    "\n",
    "    query_extract_title = XPATH_TITLE\n",
    "    query_extract_text =  XPATH_CONTENT\n",
    "\n",
    "    def _init_(self):\n",
    "        pass\n",
    "   \n",
    "    def get(self,url):\n",
    "        headers = {'user-agent':random.choice(self.USER_AGENT_LIST) }\n",
    "        session = HTMLSession()\n",
    "        response = session.get(url,headers=headers) \n",
    "        return response\n",
    "    \n",
    "    def clean_text(self, html_text):\n",
    "        text_without_tags = w3lib.html.remove_tags(html_text)\n",
    "        text_without_escape_chars = w3lib.html.replace_escape_chars(text_without_tags)\n",
    "        text_without_escape_chars = html.unescape(text_without_escape_chars)\n",
    "        text_without_whitespace = text_without_escape_chars.strip()\n",
    "        return text_without_whitespace\n",
    "\n",
    "    \n",
    "    #### main function ####\n",
    "    def parse(self, response):\n",
    "        \n",
    "        #URL\n",
    "        self.news_url = response.url\n",
    "        \n",
    "        #TITLE\n",
    "        self.news_title = response.html.xpath(self.query_extract_title)[0].text\n",
    "        self.news_title = self.clean_text(self.news_title)\n",
    "       \n",
    "        \n",
    "        #CONTENT\n",
    "        self.news_text = \"\"\n",
    "        \n",
    "        html_paragraphs = response.html.xpath(self.query_extract_text)\n",
    "        \n",
    "        for paragraph in html_paragraphs:\n",
    "            paragraph_content = w3lib.html.remove_tags(paragraph.text)    \n",
    "            text_cleaned = self.clean_text(paragraph_content)\n",
    "            self.news_text = self.news_text+text_cleaned\n"
   ]
  },
  {
   "cell_type": "code",
   "execution_count": 16,
   "id": "d9482704",
   "metadata": {},
   "outputs": [],
   "source": [
    "scraper = Scraper()\n",
    "response =scraper.get(URL_NEWS)"
   ]
  },
  {
   "cell_type": "code",
   "execution_count": 17,
   "id": "d72bc32e",
   "metadata": {},
   "outputs": [],
   "source": [
    "scraper.parse(response)"
   ]
  },
  {
   "cell_type": "code",
   "execution_count": 18,
   "id": "a2e4d401",
   "metadata": {},
   "outputs": [
    {
     "data": {
      "text/plain": [
       "'Senador Francisco Huenchumilla (DC): \"El diálogo es un método de trabajo, no una solución a los problemas de los habitantes de La Araucanía\"'"
      ]
     },
     "execution_count": 18,
     "metadata": {},
     "output_type": "execute_result"
    }
   ],
   "source": [
    "scraper.news_title"
   ]
  },
  {
   "cell_type": "code",
   "execution_count": 19,
   "id": "162264db",
   "metadata": {},
   "outputs": [
    {
     "data": {
      "text/plain": [
       "'El senador Francisco Huenchumilla abordó la frustrada visita de la ministra Izkia Siches a La Araucanía. Dijo que se enteró por la prensa, aunque no pretende ser \"tan especial\" como para que le avisen. Eso sí, apuntó a que el diálogo es un método de trabajo y no una solución a los problemas de los habitantes de la zona sur; donde hasta hace poco aún regía el Estado de Excepción Constitucional decretado por el gobierno anterior.En entrevista con El Mercurio, el parlamentario DC recalcó que \"una buena gestión política en una visita de esa naturaleza debe ser conversada, al menos, con los senadores y diputados, actores políticos importantes en la zona\".También te puede interesar:Consultado por si el gobierno del Presidente Gabriel Boric pecó de ingenuidad o improvisación, como mencionó Marcelo Catrillanca, en su fallida visita a Temucuicui, el senador Huenchumilla apuntó a que \"no\\xa0se preparó bien la visita de la ministra\" y a que La Araucanía \"no es cualquier región\" debido a que hay \"muchos actores\".\"No se puede exponer a la ministra que recién asume, una figura nueva y ascendente en la política nacional, a un bochorno así. Hubo un error de su equipo y de la ministra, al punto que han pasado 10 días y el Gobierno no nos dice qué va a hacer. El diálogo es un método de trabajo, no una solución a los problemas de los habitantes de La Araucanía\", sentenció el congresista y militante de la Democracia Cristiana (DC), en conversación con el matutino.Huenchumilla, quien reconoce que trabajó y votó por el Presidente Gabriel Boric y comparte los cambios que propone pero a quince días del arranque del nuevo Gobierno está preocupado porque pareciera que \"el gobierno está haciendo todo lo posible para que nos transformemos en oposición\", sostuvo que debe haber respuesta a \"las tierras, agrícolas y forestales; a las víctimas que han sufrido atentados y daños; al rol de Carabineros en los servicios de inteligencia, a la violencia, y al crimen organizado\".\"Se supone que los equipos de Gobierno lo estudiaron en su programa y tendrían respuesta\", añadió el senador falangista, remarcando que hay que dar el beneficio de la duda al Ejecutivo. En sus palabras, \"que esto fue un simple tropiezo y pronto darán respuestas concretas\".Respecto de si hay o no presos políticos mapuche en Chile, el senador Huenchumilla enfatizó: \"hay que distinguir lo jurídico de lo político\".\"En La Araucanía tenemos un problema político en la relación del mundo mapuche y el Estado. Existen presos producto de este proceso político que podríamos llamar presos políticos, pero jurídicamente en Chile no tenemos presos políticos\", explicó.El senador Huenchumila también aclaró que no es opositor ni tampoco forma parte del Ejecutivo. \"Me considero senador independiente dispuesto a colaborar, pero el Gobierno está haciendo todo lo posible para que nos transformemos en oposición, a 16 días de llegar a La Moneda\".\"Lo digo como parlamentario que no soy de Gobierno, pero tengo la mejor disposición a colaborar con los cambios que promete esta nueva administración\", concluyó el\\xa0Senador de la República\\xa0en representación la Circunscripción n° 11,\\xa0Región de La Araucanía, periodo legislativo 2018-2026.También te puede interesar:'"
      ]
     },
     "execution_count": 19,
     "metadata": {},
     "output_type": "execute_result"
    }
   ],
   "source": [
    "scraper.news_text"
   ]
  },
  {
   "cell_type": "code",
   "execution_count": 20,
   "id": "a455d5d3",
   "metadata": {},
   "outputs": [],
   "source": [
    "#Verificamos que el scraper devuelve algo\n",
    "assert(len(scraper.news_title)>0)\n",
    "assert(len(scraper.news_text)>0)"
   ]
  },
  {
   "cell_type": "code",
   "execution_count": 21,
   "id": "524ce41b",
   "metadata": {},
   "outputs": [
    {
     "data": {
      "text/html": [
       "<div>\n",
       "<style scoped>\n",
       "    .dataframe tbody tr th:only-of-type {\n",
       "        vertical-align: middle;\n",
       "    }\n",
       "\n",
       "    .dataframe tbody tr th {\n",
       "        vertical-align: top;\n",
       "    }\n",
       "\n",
       "    .dataframe thead th {\n",
       "        text-align: right;\n",
       "    }\n",
       "</style>\n",
       "<table border=\"1\" class=\"dataframe\">\n",
       "  <thead>\n",
       "    <tr style=\"text-align: right;\">\n",
       "      <th></th>\n",
       "      <th>url</th>\n",
       "      <th>title</th>\n",
       "      <th>content</th>\n",
       "    </tr>\n",
       "  </thead>\n",
       "  <tbody>\n",
       "    <tr>\n",
       "      <th>0</th>\n",
       "      <td>https://www.elmostrador.cl/destacado/2022/03/2...</td>\n",
       "      <td>Senador Francisco Huenchumilla (DC): \"El diálo...</td>\n",
       "      <td>El senador Francisco Huenchumilla abordó la fr...</td>\n",
       "    </tr>\n",
       "  </tbody>\n",
       "</table>\n",
       "</div>"
      ],
      "text/plain": [
       "                                                 url  \\\n",
       "0  https://www.elmostrador.cl/destacado/2022/03/2...   \n",
       "\n",
       "                                               title  \\\n",
       "0  Senador Francisco Huenchumilla (DC): \"El diálo...   \n",
       "\n",
       "                                             content  \n",
       "0  El senador Francisco Huenchumilla abordó la fr...  "
      ]
     },
     "execution_count": 21,
     "metadata": {},
     "output_type": "execute_result"
    }
   ],
   "source": [
    "df = pd.DataFrame(data={'url': [URL_NEWS],'title':[scraper.news_title], 'content':[scraper.news_text]})\n",
    "df"
   ]
  },
  {
   "cell_type": "code",
   "execution_count": 22,
   "id": "267a48c8",
   "metadata": {},
   "outputs": [
    {
     "data": {
      "application/vnd.jupyter.widget-view+json": {
       "model_id": "7b4e6cb027c54b1191ff79ef190f0239",
       "version_major": 2,
       "version_minor": 0
      },
      "text/plain": [
       "  0%|          | 0/28 [00:00<?, ?it/s]"
      ]
     },
     "metadata": {},
     "output_type": "display_data"
    }
   ],
   "source": [
    "XPATH_TITLE = \"//h2[@class='titulo-single']\"\n",
    "XPATH_CONTENT =\"//div[@id='noticia']/p\"\n",
    "\n",
    "for url in tqdm(urls):\n",
    "    URL_NEWS = url\n",
    "    scraper = Scraper()\n",
    "    response =scraper.get(URL_NEWS)\n",
    "    scraper.parse(response)\n",
    "    \n",
    "    # el content está sucio con 'También te puede interesar:'\n",
    "    scraper.news_text = scraper.news_text.replace(\"También te puede interesar:\", \" \")\n",
    "    \n",
    "    df1 = pd.DataFrame(data={'url': url, 'title':scraper.news_title, 'content':scraper.news_text},index=['url', 'title', 'content'])\n",
    "    df = df.append(df1, ignore_index=True)\n",
    "df = df.drop_duplicates()\n"
   ]
  },
  {
   "cell_type": "code",
   "execution_count": 23,
   "id": "e9c55424",
   "metadata": {},
   "outputs": [
    {
     "data": {
      "text/html": [
       "<div>\n",
       "<style scoped>\n",
       "    .dataframe tbody tr th:only-of-type {\n",
       "        vertical-align: middle;\n",
       "    }\n",
       "\n",
       "    .dataframe tbody tr th {\n",
       "        vertical-align: top;\n",
       "    }\n",
       "\n",
       "    .dataframe thead th {\n",
       "        text-align: right;\n",
       "    }\n",
       "</style>\n",
       "<table border=\"1\" class=\"dataframe\">\n",
       "  <thead>\n",
       "    <tr style=\"text-align: right;\">\n",
       "      <th></th>\n",
       "      <th>url</th>\n",
       "      <th>title</th>\n",
       "      <th>content</th>\n",
       "    </tr>\n",
       "  </thead>\n",
       "  <tbody>\n",
       "    <tr>\n",
       "      <th>0</th>\n",
       "      <td>https://www.elmostrador.cl/destacado/2022/03/2...</td>\n",
       "      <td>Senador Francisco Huenchumilla (DC): \"El diálo...</td>\n",
       "      <td>El senador Francisco Huenchumilla abordó la fr...</td>\n",
       "    </tr>\n",
       "    <tr>\n",
       "      <th>1</th>\n",
       "      <td>https://www.elmostrador.cl/destacado/2022/03/2...</td>\n",
       "      <td>Senador Francisco Huenchumilla (DC): \"El diálo...</td>\n",
       "      <td>El senador Francisco Huenchumilla abordó la fr...</td>\n",
       "    </tr>\n",
       "    <tr>\n",
       "      <th>4</th>\n",
       "      <td>https://www.elmostrador.cl/noticias/2022/03/27...</td>\n",
       "      <td>Ministro Jackson: en el oficialismo \"no hay na...</td>\n",
       "      <td>El ministro de la Secretaría General de la Pre...</td>\n",
       "    </tr>\n",
       "    <tr>\n",
       "      <th>7</th>\n",
       "      <td>https://www.elmostrador.cl/noticias/2022/03/27...</td>\n",
       "      <td>Covid-19 en Chile: contagios siguen a la baja,...</td>\n",
       "      <td>El Ministerio de Salud informó 6.480 casos nue...</td>\n",
       "    </tr>\n",
       "    <tr>\n",
       "      <th>10</th>\n",
       "      <td>https://www.elmostrador.cl/destacado/2022/03/2...</td>\n",
       "      <td>La generación de los nietos, Isabel Cademartor...</td>\n",
       "      <td>-Diputada Cademartori, su abuelo José Cademart...</td>\n",
       "    </tr>\n",
       "    <tr>\n",
       "      <th>13</th>\n",
       "      <td>https://www.elmostrador.cl/noticias/2022/03/26...</td>\n",
       "      <td>Fiscalía determinó que carabinero que disparó ...</td>\n",
       "      <td>El carabinero que disparó durante una marcha d...</td>\n",
       "    </tr>\n",
       "    <tr>\n",
       "      <th>16</th>\n",
       "      <td>https://www.elmostrador.cl/destacado/2022/03/2...</td>\n",
       "      <td>Subsecretario del Interior Manuel Monsalve ade...</td>\n",
       "      <td>\"Reformas hay en todo gobierno y todas las ins...</td>\n",
       "    </tr>\n",
       "    <tr>\n",
       "      <th>19</th>\n",
       "      <td>https://www.elmostrador.cl/noticias/2022/03/26...</td>\n",
       "      <td>Gobierno: fin de Estado de Excepción en el sur...</td>\n",
       "      <td>El subsecretario del Interior, Manuel Monsalve...</td>\n",
       "    </tr>\n",
       "    <tr>\n",
       "      <th>22</th>\n",
       "      <td>https://www.elmostrador.cl/destacado/2022/03/2...</td>\n",
       "      <td>Estado de excepción en jaque en el norte: pese...</td>\n",
       "      <td>El Gobierno del Presidente Gabriel Boric decid...</td>\n",
       "    </tr>\n",
       "    <tr>\n",
       "      <th>25</th>\n",
       "      <td>https://www.elmostrador.cl/noticias/2022/03/26...</td>\n",
       "      <td>Exministro Alberto Espina sufrió ataque cerebr...</td>\n",
       "      <td>El exministro de Defensa, Alberto Espina, sufr...</td>\n",
       "    </tr>\n",
       "    <tr>\n",
       "      <th>55</th>\n",
       "      <td>https://www.elmostrador.cl/noticias/2022/03/26...</td>\n",
       "      <td>Covid-19: Minsal reporta 7.448 nuevos casos y ...</td>\n",
       "      <td>El Ministerio de Salud informó 7.448 casos nue...</td>\n",
       "    </tr>\n",
       "    <tr>\n",
       "      <th>58</th>\n",
       "      <td>https://www.elmostrador.cl/destacado/2022/03/2...</td>\n",
       "      <td>\"Las diferencias se tratan en casa\": bancadas ...</td>\n",
       "      <td>El Presidente de la República, Gabriel Boric, ...</td>\n",
       "    </tr>\n",
       "    <tr>\n",
       "      <th>61</th>\n",
       "      <td>https://www.elmostrador.cl/tv/2022/03/26/danie...</td>\n",
       "      <td>Daniel Quinteros, delegado presidencial de Tar...</td>\n",
       "      <td></td>\n",
       "    </tr>\n",
       "    <tr>\n",
       "      <th>64</th>\n",
       "      <td>https://www.elmostrador.cl/dia/2022/03/25/dipu...</td>\n",
       "      <td>Diputada Cariola por críticas de alcalde Jadue...</td>\n",
       "      <td>La diputada del Partido Comunista (PC) Karol C...</td>\n",
       "    </tr>\n",
       "    <tr>\n",
       "      <th>67</th>\n",
       "      <td>https://www.elmostrador.cl/destacado/2022/03/2...</td>\n",
       "      <td>El llamado a cerrar filas del Presidente Gabri...</td>\n",
       "      <td>Durante esta jornada, el Presidente Gabriel Bo...</td>\n",
       "    </tr>\n",
       "    <tr>\n",
       "      <th>70</th>\n",
       "      <td>https://www.elmostrador.cl/noticias/pais/2022/...</td>\n",
       "      <td>Suspenden militancia de Kena Lorenzini de RD p...</td>\n",
       "      <td>Durante este viernes el Tribunal Metropolitano...</td>\n",
       "    </tr>\n",
       "    <tr>\n",
       "      <th>73</th>\n",
       "      <td>https://www.elmostrador.cl/noticias/pais/2022/...</td>\n",
       "      <td>Senador Keitel sobre el quinto retiro: \"Entre ...</td>\n",
       "      <td>El senador de Evópoli, Sebastián Keitel, se re...</td>\n",
       "    </tr>\n",
       "    <tr>\n",
       "      <th>76</th>\n",
       "      <td>https://www.elmostrador.cl/dia/2022/03/25/ex-p...</td>\n",
       "      <td>Ex-Posta Central confirma que estudiante balea...</td>\n",
       "      <td>El Hospital de Urgencia Asistencia Pública con...</td>\n",
       "    </tr>\n",
       "    <tr>\n",
       "      <th>79</th>\n",
       "      <td>https://www.elmostrador.cl/noticias/pais/2022/...</td>\n",
       "      <td>INDH evalúa presentar acciones legales contra ...</td>\n",
       "      <td>El Instituto Nacional de Derechos Humanos (IND...</td>\n",
       "    </tr>\n",
       "    <tr>\n",
       "      <th>82</th>\n",
       "      <td>https://www.elmostrador.cl/dia/2022/03/25/agru...</td>\n",
       "      <td>Agrupación deja lienzo contra Manuel Monsalve ...</td>\n",
       "      <td>Un grupo armado realizó un ataque incendiario ...</td>\n",
       "    </tr>\n",
       "  </tbody>\n",
       "</table>\n",
       "</div>"
      ],
      "text/plain": [
       "                                                  url  \\\n",
       "0   https://www.elmostrador.cl/destacado/2022/03/2...   \n",
       "1   https://www.elmostrador.cl/destacado/2022/03/2...   \n",
       "4   https://www.elmostrador.cl/noticias/2022/03/27...   \n",
       "7   https://www.elmostrador.cl/noticias/2022/03/27...   \n",
       "10  https://www.elmostrador.cl/destacado/2022/03/2...   \n",
       "13  https://www.elmostrador.cl/noticias/2022/03/26...   \n",
       "16  https://www.elmostrador.cl/destacado/2022/03/2...   \n",
       "19  https://www.elmostrador.cl/noticias/2022/03/26...   \n",
       "22  https://www.elmostrador.cl/destacado/2022/03/2...   \n",
       "25  https://www.elmostrador.cl/noticias/2022/03/26...   \n",
       "55  https://www.elmostrador.cl/noticias/2022/03/26...   \n",
       "58  https://www.elmostrador.cl/destacado/2022/03/2...   \n",
       "61  https://www.elmostrador.cl/tv/2022/03/26/danie...   \n",
       "64  https://www.elmostrador.cl/dia/2022/03/25/dipu...   \n",
       "67  https://www.elmostrador.cl/destacado/2022/03/2...   \n",
       "70  https://www.elmostrador.cl/noticias/pais/2022/...   \n",
       "73  https://www.elmostrador.cl/noticias/pais/2022/...   \n",
       "76  https://www.elmostrador.cl/dia/2022/03/25/ex-p...   \n",
       "79  https://www.elmostrador.cl/noticias/pais/2022/...   \n",
       "82  https://www.elmostrador.cl/dia/2022/03/25/agru...   \n",
       "\n",
       "                                                title  \\\n",
       "0   Senador Francisco Huenchumilla (DC): \"El diálo...   \n",
       "1   Senador Francisco Huenchumilla (DC): \"El diálo...   \n",
       "4   Ministro Jackson: en el oficialismo \"no hay na...   \n",
       "7   Covid-19 en Chile: contagios siguen a la baja,...   \n",
       "10  La generación de los nietos, Isabel Cademartor...   \n",
       "13  Fiscalía determinó que carabinero que disparó ...   \n",
       "16  Subsecretario del Interior Manuel Monsalve ade...   \n",
       "19  Gobierno: fin de Estado de Excepción en el sur...   \n",
       "22  Estado de excepción en jaque en el norte: pese...   \n",
       "25  Exministro Alberto Espina sufrió ataque cerebr...   \n",
       "55  Covid-19: Minsal reporta 7.448 nuevos casos y ...   \n",
       "58  \"Las diferencias se tratan en casa\": bancadas ...   \n",
       "61  Daniel Quinteros, delegado presidencial de Tar...   \n",
       "64  Diputada Cariola por críticas de alcalde Jadue...   \n",
       "67  El llamado a cerrar filas del Presidente Gabri...   \n",
       "70  Suspenden militancia de Kena Lorenzini de RD p...   \n",
       "73  Senador Keitel sobre el quinto retiro: \"Entre ...   \n",
       "76  Ex-Posta Central confirma que estudiante balea...   \n",
       "79  INDH evalúa presentar acciones legales contra ...   \n",
       "82  Agrupación deja lienzo contra Manuel Monsalve ...   \n",
       "\n",
       "                                              content  \n",
       "0   El senador Francisco Huenchumilla abordó la fr...  \n",
       "1   El senador Francisco Huenchumilla abordó la fr...  \n",
       "4   El ministro de la Secretaría General de la Pre...  \n",
       "7   El Ministerio de Salud informó 6.480 casos nue...  \n",
       "10  -Diputada Cademartori, su abuelo José Cademart...  \n",
       "13  El carabinero que disparó durante una marcha d...  \n",
       "16  \"Reformas hay en todo gobierno y todas las ins...  \n",
       "19  El subsecretario del Interior, Manuel Monsalve...  \n",
       "22  El Gobierno del Presidente Gabriel Boric decid...  \n",
       "25  El exministro de Defensa, Alberto Espina, sufr...  \n",
       "55  El Ministerio de Salud informó 7.448 casos nue...  \n",
       "58  El Presidente de la República, Gabriel Boric, ...  \n",
       "61                                                     \n",
       "64  La diputada del Partido Comunista (PC) Karol C...  \n",
       "67  Durante esta jornada, el Presidente Gabriel Bo...  \n",
       "70  Durante este viernes el Tribunal Metropolitano...  \n",
       "73  El senador de Evópoli, Sebastián Keitel, se re...  \n",
       "76  El Hospital de Urgencia Asistencia Pública con...  \n",
       "79  El Instituto Nacional de Derechos Humanos (IND...  \n",
       "82  Un grupo armado realizó un ataque incendiario ...  "
      ]
     },
     "execution_count": 23,
     "metadata": {},
     "output_type": "execute_result"
    }
   ],
   "source": [
    "df"
   ]
  },
  {
   "cell_type": "code",
   "execution_count": null,
   "id": "2e565eca",
   "metadata": {},
   "outputs": [],
   "source": []
  }
 ],
 "metadata": {
  "kernelspec": {
   "display_name": "Python 3 (ipykernel)",
   "language": "python",
   "name": "python3"
  },
  "language_info": {
   "codemirror_mode": {
    "name": "ipython",
    "version": 3
   },
   "file_extension": ".py",
   "mimetype": "text/x-python",
   "name": "python",
   "nbconvert_exporter": "python",
   "pygments_lexer": "ipython3",
   "version": "3.8.10"
  }
 },
 "nbformat": 4,
 "nbformat_minor": 5
}
