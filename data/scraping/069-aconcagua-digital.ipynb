{
 "cells": [
  {
   "cell_type": "code",
   "execution_count": 1,
   "id": "e42c42ef",
   "metadata": {},
   "outputs": [],
   "source": [
    "import json\n",
    "import w3lib.html\n",
    "import random\n",
    "import os\n",
    "from datetime import datetime\n",
    "import requests\n",
    "import string\n",
    "import calendar\n",
    "import html\n",
    "import locale \n",
    "from requests_html import HTMLSession\n",
    "from requests_html import HTML\n",
    "import validators\n",
    "import pandas as pd\n",
    "from tqdm.notebook import tqdm\n",
    "\n",
    "import warnings\n",
    "warnings.filterwarnings('ignore')"
   ]
  },
  {
   "cell_type": "code",
   "execution_count": 2,
   "id": "79bb0b1d",
   "metadata": {},
   "outputs": [],
   "source": [
    "URL_SEED = 'https://www.aconcaguadigital.cl/category/region/page/1/'\n",
    "XPATH_HREF = \"//h5/a/@href\""
   ]
  },
  {
   "cell_type": "code",
   "execution_count": 3,
   "id": "c8a6236e",
   "metadata": {},
   "outputs": [],
   "source": [
    "class Crawler():\n",
    "    \n",
    "    USER_AGENT_LIST = [\n",
    "        \"Mozilla/5.0 (Windows NT 6.1; WOW64) AppleWebKit/537.1 (KHTML, like Gecko) Chrome/22.0.1207.1 Safari/537.1\",\n",
    "        \"Mozilla/5.0 (X11; CrOS i686 2268.111.0) AppleWebKit/536.11 (KHTML, like Gecko) Chrome/20.0.1132.57 Safari/536.11\",\n",
    "        \"Mozilla/5.0 (Windows NT 6.1; WOW64) AppleWebKit/536.6 (KHTML, like Gecko) Chrome/20.0.1092.0 Safari/536.6\",\n",
    "        \"Mozilla/5.0 (Windows NT 6.2) AppleWebKit/536.6 (KHTML, like Gecko) Chrome/20.0.1090.0 Safari/536.6\",\n",
    "        \"Mozilla/5.0 (Windows NT 6.2; WOW64) AppleWebKit/537.1 (KHTML, like Gecko) Chrome/19.77.34.5 Safari/537.1\",\n",
    "        \"Mozilla/5.0 (X11; Linux x86_64) AppleWebKit/536.5 (KHTML, like Gecko) Chrome/19.0.1084.9 Safari/536.5\",\n",
    "        \"Mozilla/5.0 (Windows NT 6.0) AppleWebKit/536.5 (KHTML, like Gecko) Chrome/19.0.1084.36 Safari/536.5\",\n",
    "        \"Mozilla/5.0 (Windows NT 6.1; WOW64) AppleWebKit/536.3 (KHTML, like Gecko) Chrome/19.0.1063.0 Safari/536.3\",\n",
    "        \"Mozilla/5.0 (Windows NT 5.1) AppleWebKit/536.3 (KHTML, like Gecko) Chrome/19.0.1063.0 Safari/536.3\",\n",
    "        \"Mozilla/5.0 (Macintosh; Intel Mac OS X 10_8_0) AppleWebKit/536.3 (KHTML, like Gecko) Chrome/19.0.1063.0 Safari/536.3\",\n",
    "        \"Mozilla/5.0 (Windows NT 6.2) AppleWebKit/536.3 (KHTML, like Gecko) Chrome/19.0.1062.0 Safari/536.3\",\n",
    "        \"Mozilla/5.0 (Windows NT 6.1; WOW64) AppleWebKit/536.3 (KHTML, like Gecko) Chrome/19.0.1062.0 Safari/536.3\",\n",
    "        \"Mozilla/5.0 (Windows NT 6.2) AppleWebKit/536.3 (KHTML, like Gecko) Chrome/19.0.1061.1 Safari/536.3\",\n",
    "        \"Mozilla/5.0 (Windows NT 6.1; WOW64) AppleWebKit/536.3 (KHTML, like Gecko) Chrome/19.0.1061.1 Safari/536.3\",\n",
    "        \"Mozilla/5.0 (Windows NT 6.1) AppleWebKit/536.3 (KHTML, like Gecko) Chrome/19.0.1061.1 Safari/536.3\",\n",
    "        \"Mozilla/5.0 (Windows NT 6.2) AppleWebKit/536.3 (KHTML, like Gecko) Chrome/19.0.1061.0 Safari/536.3\",\n",
    "        \"Mozilla/5.0 (X11; Linux x86_64) AppleWebKit/535.24 (KHTML, like Gecko) Chrome/19.0.1055.1 Safari/535.24\",\n",
    "        \"Mozilla/5.0 (Windows NT 6.2; WOW64) AppleWebKit/535.24 (KHTML, like Gecko) Chrome/19.0.1055.1 Safari/535.24\"\n",
    "    ]\n",
    "\n",
    "    #Ruta XPATH hacia los enlaces que queremos recopilar\n",
    "    xpath_href=XPATH_HREF\n",
    "\n",
    "    #variable que permite listar todos los enlaces recopilado\n",
    "    url_list = []\n",
    "    \n",
    "    def _init_(self, URL_SEED, XPATH_HREF):        \n",
    "        pass\n",
    "\n",
    "    \n",
    "    def get(self,url):\n",
    "        session = HTMLSession()\n",
    "        header = dict()\n",
    "        header['user-agent'] = random.choice(self.USER_AGENT_LIST)\n",
    "        response = session.get(url,headers=header)        \n",
    "        return response\n",
    "    \n",
    "    def parse(self, response):\n",
    "        self.url_list = []\n",
    "        urls = response.html.xpath(self.xpath_href)\n",
    "        for url in urls:\n",
    "            self.url_list.append(url)\n"
   ]
  },
  {
   "cell_type": "code",
   "execution_count": 4,
   "id": "e016daec",
   "metadata": {
    "scrolled": true
   },
   "outputs": [
    {
     "data": {
      "application/vnd.jupyter.widget-view+json": {
       "model_id": "0d4dd0abc0e14ce89197ea0428ca54e1",
       "version_major": 2,
       "version_minor": 0
      },
      "text/plain": [
       "  0%|          | 0/3 [00:00<?, ?it/s]"
      ]
     },
     "metadata": {},
     "output_type": "display_data"
    },
    {
     "data": {
      "text/plain": [
       "['https://www.aconcaguadigital.cl/avanza-proyecto-de-ley-de-autismo/',\n",
       " 'https://www.aconcaguadigital.cl/estudio-de-fundacion-integra-revela-la-importancia-de-retornar-al-jardin-para-disminuir-brechas-de-aprendizajes/',\n",
       " 'https://www.aconcaguadigital.cl/operativo-antidrogas-evita-la-venta-de-9-millones-de-dosis-de-marihuana/',\n",
       " 'https://www.aconcaguadigital.cl/en-jornada-historica-asumio-nueva-jefa-regional-de-la-pdi-en-valparaiso/',\n",
       " 'https://www.aconcaguadigital.cl/diputada-carolina-marzan-pide-al-gobierno-establecer-un-subsidio-para-disminuir-y-controlar-el-precio-del-pan/',\n",
       " 'https://www.aconcaguadigital.cl/pdi-detiene-a-autor-de-violacion-en-cabildo/',\n",
       " 'https://www.aconcaguadigital.cl/pdi-detuvo-a-sujetos-que-comercializaban-droga-en-sectores-turisticos-de-vina-del-mar/',\n",
       " 'https://www.aconcaguadigital.cl/diputada-marzan-solicito-a-ministro-de-educacion-fiscalizacion-e-informe-sobre-recursos-destinados-para-prevenir-contagios-covid-19-en-establecimientos-educacionales/',\n",
       " 'https://www.aconcaguadigital.cl/vina-del-mar-pdi-incauta-granadas-en-procedimiento-antidrogas/',\n",
       " 'https://www.aconcaguadigital.cl/escolares-de-2-a-6-anos-de-la-region-de-valparaiso-participaron-en-programa-que-les-permitio-conocer-y-comprender-su-entorno-a-traves-de-las-ciencias/',\n",
       " 'https://www.aconcaguadigital.cl/avanza-proyecto-de-ley-de-autismo/',\n",
       " 'https://www.aconcaguadigital.cl/estudio-de-fundacion-integra-revela-la-importancia-de-retornar-al-jardin-para-disminuir-brechas-de-aprendizajes/',\n",
       " 'https://www.aconcaguadigital.cl/operativo-antidrogas-evita-la-venta-de-9-millones-de-dosis-de-marihuana/',\n",
       " 'https://www.aconcaguadigital.cl/en-jornada-historica-asumio-nueva-jefa-regional-de-la-pdi-en-valparaiso/',\n",
       " 'https://www.aconcaguadigital.cl/diputada-carolina-marzan-pide-al-gobierno-establecer-un-subsidio-para-disminuir-y-controlar-el-precio-del-pan/',\n",
       " 'https://www.aconcaguadigital.cl/pdi-detiene-a-autor-de-violacion-en-cabildo/',\n",
       " 'https://www.aconcaguadigital.cl/pdi-detuvo-a-sujetos-que-comercializaban-droga-en-sectores-turisticos-de-vina-del-mar/',\n",
       " 'https://www.aconcaguadigital.cl/diputada-marzan-solicito-a-ministro-de-educacion-fiscalizacion-e-informe-sobre-recursos-destinados-para-prevenir-contagios-covid-19-en-establecimientos-educacionales/',\n",
       " 'https://www.aconcaguadigital.cl/vina-del-mar-pdi-incauta-granadas-en-procedimiento-antidrogas/',\n",
       " 'https://www.aconcaguadigital.cl/escolares-de-2-a-6-anos-de-la-region-de-valparaiso-participaron-en-programa-que-les-permitio-conocer-y-comprender-su-entorno-a-traves-de-las-ciencias/',\n",
       " 'https://www.aconcaguadigital.cl/pdi-valparaiso-incauta-millonario-cargamento-de-droga-en-el-marco-de-la-operacion-patron-de-fundo-2/',\n",
       " 'https://www.aconcaguadigital.cl/gendarmes-repelen-lanzamiento-de-droga-realizado-en-carcel-de-valparaiso/',\n",
       " 'https://www.aconcaguadigital.cl/la-reactivacion-de-la-empleabilidad-se-mantiene-region-de-valparaiso-registro-una-tasa-de-desocupacion-de-un-74/',\n",
       " 'https://www.aconcaguadigital.cl/anuncian-extension-de-ife-laboral-y-subsidio-protege-hasta-junio-de-2022-beneficios-ya-ha-llegado-a-mas-de-75-mil-personas-en-la-region/',\n",
       " 'https://www.aconcaguadigital.cl/miles-de-personas-seran-parte-de-estudio-de-investigacion-sobre-el-entendimiento-y-legitimidad-de-la-ciudadania-para-la-nueva-constitucion/',\n",
       " 'https://www.aconcaguadigital.cl/fundacion-las-rosas-presenta-el-seguro-bueno-soap-2022-una-forma-practica-de-ayudar-a-las-personas-mayores-que-mas-lo-necesitan/',\n",
       " 'https://www.aconcaguadigital.cl/reporte-de-esval-revela-impacto-de-la-mega-sequia-en-el-estado-de-los-principales-embalses/',\n",
       " 'https://www.aconcaguadigital.cl/indap-flexibiliza-instrumentos-de-creditos-productores-pueden-adquirir-insumos-tecnologicos-para-digitalizar-sus-emprendimientos/',\n",
       " 'https://www.aconcaguadigital.cl/el-rey-de-la-quinoa-se-reinvento-en-pandemia-ademas-de-venta-online-ofrece-alfajores-veganos-y-servicio-de-banqueteria/',\n",
       " 'https://www.aconcaguadigital.cl/hijuelas-vuelve-a-ser-la-capital-de-las-flores/']"
      ]
     },
     "execution_count": 4,
     "metadata": {},
     "output_type": "execute_result"
    }
   ],
   "source": [
    "urls=[]\n",
    "\n",
    "for page in tqdm(range(3)): # revisemos sólo 2 páginas\n",
    "    crawler = Crawler()\n",
    "    response = crawler.get('https://www.aconcaguadigital.cl/category/region/page/'+str(page))\n",
    "    crawler.parse(response)\n",
    "\n",
    "    \n",
    "    for url in crawler.url_list:\n",
    "        urls.append(url)\n",
    "\n",
    "    crawler.url_list = urls\n",
    "    \n",
    "crawler.url_list"
   ]
  },
  {
   "cell_type": "code",
   "execution_count": 5,
   "id": "e6099483",
   "metadata": {},
   "outputs": [
    {
     "data": {
      "text/plain": [
       "30"
      ]
     },
     "execution_count": 5,
     "metadata": {},
     "output_type": "execute_result"
    }
   ],
   "source": [
    "len(urls)"
   ]
  },
  {
   "cell_type": "code",
   "execution_count": 6,
   "id": "928cdb23",
   "metadata": {},
   "outputs": [
    {
     "data": {
      "text/plain": [
       "'https://www.aconcaguadigital.cl/avanza-proyecto-de-ley-de-autismo/'"
      ]
     },
     "execution_count": 6,
     "metadata": {},
     "output_type": "execute_result"
    }
   ],
   "source": [
    "urls[0]"
   ]
  },
  {
   "cell_type": "code",
   "execution_count": null,
   "id": "f8c2d5b1",
   "metadata": {},
   "outputs": [],
   "source": []
  },
  {
   "cell_type": "code",
   "execution_count": 9,
   "id": "d446e5df",
   "metadata": {},
   "outputs": [],
   "source": [
    "URL_NEWS = urls[0]\n",
    "XPATH_TITLE = \"//h1[@class='post-title entry-title']\"\n",
    "XPATH_CONTENT =\"//div[@class='post-content']//p\""
   ]
  },
  {
   "cell_type": "code",
   "execution_count": 10,
   "id": "fcc5edaf",
   "metadata": {},
   "outputs": [],
   "source": [
    "class Scraper:\n",
    "    \n",
    "    USER_AGENT_LIST = [\n",
    "        \"Mozilla/5.0 (Windows NT 6.1; WOW64) AppleWebKit/537.1 (KHTML, like Gecko) Chrome/22.0.1207.1 Safari/537.1\",\n",
    "        \"Mozilla/5.0 (X11; CrOS i686 2268.111.0) AppleWebKit/536.11 (KHTML, like Gecko) Chrome/20.0.1132.57 Safari/536.11\",\n",
    "        \"Mozilla/5.0 (Windows NT 6.1; WOW64) AppleWebKit/536.6 (KHTML, like Gecko) Chrome/20.0.1092.0 Safari/536.6\",\n",
    "        \"Mozilla/5.0 (Windows NT 6.2) AppleWebKit/536.6 (KHTML, like Gecko) Chrome/20.0.1090.0 Safari/536.6\",\n",
    "        \"Mozilla/5.0 (Windows NT 6.2; WOW64) AppleWebKit/537.1 (KHTML, like Gecko) Chrome/19.77.34.5 Safari/537.1\",\n",
    "        \"Mozilla/5.0 (X11; Linux x86_64) AppleWebKit/536.5 (KHTML, like Gecko) Chrome/19.0.1084.9 Safari/536.5\",\n",
    "        \"Mozilla/5.0 (Windows NT 6.0) AppleWebKit/536.5 (KHTML, like Gecko) Chrome/19.0.1084.36 Safari/536.5\",\n",
    "        \"Mozilla/5.0 (Windows NT 6.1; WOW64) AppleWebKit/536.3 (KHTML, like Gecko) Chrome/19.0.1063.0 Safari/536.3\",\n",
    "        \"Mozilla/5.0 (Windows NT 5.1) AppleWebKit/536.3 (KHTML, like Gecko) Chrome/19.0.1063.0 Safari/536.3\",\n",
    "        \"Mozilla/5.0 (Macintosh; Intel Mac OS X 10_8_0) AppleWebKit/536.3 (KHTML, like Gecko) Chrome/19.0.1063.0 Safari/536.3\",\n",
    "        \"Mozilla/5.0 (Windows NT 6.2) AppleWebKit/536.3 (KHTML, like Gecko) Chrome/19.0.1062.0 Safari/536.3\",\n",
    "        \"Mozilla/5.0 (Windows NT 6.1; WOW64) AppleWebKit/536.3 (KHTML, like Gecko) Chrome/19.0.1062.0 Safari/536.3\",\n",
    "        \"Mozilla/5.0 (Windows NT 6.2) AppleWebKit/536.3 (KHTML, like Gecko) Chrome/19.0.1061.1 Safari/536.3\",\n",
    "        \"Mozilla/5.0 (Windows NT 6.1; WOW64) AppleWebKit/536.3 (KHTML, like Gecko) Chrome/19.0.1061.1 Safari/536.3\",\n",
    "        \"Mozilla/5.0 (Windows NT 6.1) AppleWebKit/536.3 (KHTML, like Gecko) Chrome/19.0.1061.1 Safari/536.3\",\n",
    "        \"Mozilla/5.0 (Windows NT 6.2) AppleWebKit/536.3 (KHTML, like Gecko) Chrome/19.0.1061.0 Safari/536.3\",\n",
    "        \"Mozilla/5.0 (X11; Linux x86_64) AppleWebKit/535.24 (KHTML, like Gecko) Chrome/19.0.1055.1 Safari/535.24\",\n",
    "        \"Mozilla/5.0 (Windows NT 6.2; WOW64) AppleWebKit/535.24 (KHTML, like Gecko) Chrome/19.0.1055.1 Safari/535.24\"\n",
    "    ]\n",
    "\n",
    "    query_extract_title = XPATH_TITLE\n",
    "    query_extract_text =  XPATH_CONTENT\n",
    "\n",
    "    def _init_(self):\n",
    "        pass\n",
    "   \n",
    "    def get(self,url):\n",
    "        headers = {'user-agent':random.choice(self.USER_AGENT_LIST) }\n",
    "        session = HTMLSession()\n",
    "        response = session.get(url,headers=headers) \n",
    "        return response\n",
    "    \n",
    "    def clean_text(self, html_text):\n",
    "        text_without_tags = w3lib.html.remove_tags(html_text)\n",
    "        text_without_escape_chars = w3lib.html.replace_escape_chars(text_without_tags)\n",
    "        text_without_escape_chars = html.unescape(text_without_escape_chars)\n",
    "        text_without_whitespace = text_without_escape_chars.strip()\n",
    "        return text_without_whitespace\n",
    "\n",
    "    \n",
    "    #### main function ####\n",
    "    def parse(self, response):\n",
    "        \n",
    "        #URL\n",
    "        self.news_url = response.url\n",
    "        \n",
    "        #TITLE\n",
    "        self.news_title = response.html.xpath(self.query_extract_title)[0].text\n",
    "        self.news_title = self.clean_text(self.news_title)\n",
    "       \n",
    "        \n",
    "        #CONTENT\n",
    "        self.news_text = \"\"\n",
    "        \n",
    "        html_paragraphs = response.html.xpath(self.query_extract_text)\n",
    "        \n",
    "        for paragraph in html_paragraphs:\n",
    "            paragraph_content = w3lib.html.remove_tags(paragraph.text)    \n",
    "            text_cleaned = self.clean_text(paragraph_content)\n",
    "            self.news_text = self.news_text+text_cleaned\n"
   ]
  },
  {
   "cell_type": "code",
   "execution_count": 11,
   "id": "d9482704",
   "metadata": {},
   "outputs": [],
   "source": [
    "scraper = Scraper()\n",
    "response =scraper.get(URL_NEWS)"
   ]
  },
  {
   "cell_type": "code",
   "execution_count": 12,
   "id": "d72bc32e",
   "metadata": {},
   "outputs": [],
   "source": [
    "scraper.parse(response)"
   ]
  },
  {
   "cell_type": "code",
   "execution_count": 13,
   "id": "a2e4d401",
   "metadata": {},
   "outputs": [
    {
     "data": {
      "text/plain": [
       "'Avanza proyecto de ley de autismo'"
      ]
     },
     "execution_count": 13,
     "metadata": {},
     "output_type": "execute_result"
    }
   ],
   "source": [
    "scraper.news_title"
   ]
  },
  {
   "cell_type": "code",
   "execution_count": 14,
   "id": "162264db",
   "metadata": {},
   "outputs": [
    {
     "data": {
      "text/plain": [
       "'La Comisión de Hacienda de la Cámara de Diputadas y Diputados aprobó el financiamiento para la implementación de la moción, una vez que sea leyEste martes, en la Comisión de Hacienda de la Cámara de Diputadas y Diputados, se continuó con la discusión del Proyecto de ley de autismo; oportunidad en la que la Dirección de Presupuesto de Chile, presentó el informe económico que fue aprobado por dicha comisión y que define que más de 60 mil millones de pesos serán destinados a la implementación de la moción, una vez que sea ley de la república.Ante ello, la autora y principal impulsora el proyecto, la diputada Carolina Marzán, manifestó que “esto es un gran avance para este proyecto de ley que desde hace un año hemos estado trabajando en la Comisión de Personas Mayores y Discapacidad, junto a más de 100 organizaciones de todo el país. Hoy la Comisión de Hacienda aprobó el presupuesto para que se implemente el proyecto una vez que ya sea ley de la república”, dijo la diputada Carolina Marzán.La parlamentaria, presidenta de la Comisión de Personas Mayores y Discapacidad, agregó que “el siguiente paso, es que se vote en la sala para su aprobación, lo cual nos pone muy contentos y contentas porque es el resultado de una lucha de años de tantas familias que, a nivel nacional, esperan que este sueño sea una realidad. Esta es una gran conquista, es una de las pocas mociones parlamentarias que consiguen financiamiento. Ahora gestionaremos la posibilidad de que el Gobierno le ponga urgencia en el Senado. Ya el presidente Gabriel Borich cumplió su palabra y agilizó los trámites necesarios para que hoy podamos dar esta gran noticia y confiamos en que continuamos con su apoyo”, aclaró Marzán.Cabe señalar, que esta moción busca el reconocimiento de un listado de derechos de las personas del espectro autista; como tener acceso a un diagnóstico oportuno, al desarrollo de acciones de rehabilitación y habilitación, atención preferente y acompañamiento, entre otros.El proyecto también establece normas para el acceso a la información, como la adecuación de información contenidas en señaléticas, utilizando señalizaciones accesibles, apoyos visuales o pictogramas e incorpora la capacitación para docentes, asistentes de la educación y funcionarios, además del desarrollo personas, la autonomía y la igualdad de oportunidades de las personas en el espectro autista.'"
      ]
     },
     "execution_count": 14,
     "metadata": {},
     "output_type": "execute_result"
    }
   ],
   "source": [
    "scraper.news_text"
   ]
  },
  {
   "cell_type": "code",
   "execution_count": 15,
   "id": "a455d5d3",
   "metadata": {},
   "outputs": [],
   "source": [
    "#Verificamos que el scraper devuelve algo\n",
    "assert(len(scraper.news_title)>0)\n",
    "assert(len(scraper.news_text)>0)"
   ]
  },
  {
   "cell_type": "code",
   "execution_count": 16,
   "id": "524ce41b",
   "metadata": {},
   "outputs": [
    {
     "data": {
      "text/html": [
       "<div>\n",
       "<style scoped>\n",
       "    .dataframe tbody tr th:only-of-type {\n",
       "        vertical-align: middle;\n",
       "    }\n",
       "\n",
       "    .dataframe tbody tr th {\n",
       "        vertical-align: top;\n",
       "    }\n",
       "\n",
       "    .dataframe thead th {\n",
       "        text-align: right;\n",
       "    }\n",
       "</style>\n",
       "<table border=\"1\" class=\"dataframe\">\n",
       "  <thead>\n",
       "    <tr style=\"text-align: right;\">\n",
       "      <th></th>\n",
       "      <th>url</th>\n",
       "      <th>title</th>\n",
       "      <th>content</th>\n",
       "    </tr>\n",
       "  </thead>\n",
       "  <tbody>\n",
       "    <tr>\n",
       "      <th>0</th>\n",
       "      <td>https://www.aconcaguadigital.cl/avanza-proyect...</td>\n",
       "      <td>Avanza proyecto de ley de autismo</td>\n",
       "      <td>La Comisión de Hacienda de la Cámara de Diputa...</td>\n",
       "    </tr>\n",
       "  </tbody>\n",
       "</table>\n",
       "</div>"
      ],
      "text/plain": [
       "                                                 url  \\\n",
       "0  https://www.aconcaguadigital.cl/avanza-proyect...   \n",
       "\n",
       "                               title  \\\n",
       "0  Avanza proyecto de ley de autismo   \n",
       "\n",
       "                                             content  \n",
       "0  La Comisión de Hacienda de la Cámara de Diputa...  "
      ]
     },
     "execution_count": 16,
     "metadata": {},
     "output_type": "execute_result"
    }
   ],
   "source": [
    "df = pd.DataFrame(data={'url': [URL_NEWS],'title':[scraper.news_title], 'content':[scraper.news_text]})\n",
    "df"
   ]
  },
  {
   "cell_type": "code",
   "execution_count": 17,
   "id": "267a48c8",
   "metadata": {},
   "outputs": [
    {
     "data": {
      "application/vnd.jupyter.widget-view+json": {
       "model_id": "e455573cdfdc4f56810e6ee24a8a7f67",
       "version_major": 2,
       "version_minor": 0
      },
      "text/plain": [
       "  0%|          | 0/30 [00:00<?, ?it/s]"
      ]
     },
     "metadata": {},
     "output_type": "display_data"
    }
   ],
   "source": [
    "XPATH_TITLE = \"//h1[@class='post-title entry-title']\"\n",
    "XPATH_CONTENT =\"//div[@class='post-content']//p\"\n",
    "\n",
    "for url in tqdm(urls):\n",
    "    URL_NEWS = url\n",
    "    scraper = Scraper()\n",
    "    response =scraper.get(URL_NEWS)\n",
    "    scraper.parse(response)\n",
    "    df1 = pd.DataFrame(data={'url': url, 'title':scraper.news_title, 'content':scraper.news_text},index=['url', 'title', 'content'])\n",
    "    df = df.append(df1, ignore_index=True)\n",
    "df = df.drop_duplicates()\n"
   ]
  },
  {
   "cell_type": "code",
   "execution_count": 18,
   "id": "e9c55424",
   "metadata": {},
   "outputs": [
    {
     "data": {
      "text/html": [
       "<div>\n",
       "<style scoped>\n",
       "    .dataframe tbody tr th:only-of-type {\n",
       "        vertical-align: middle;\n",
       "    }\n",
       "\n",
       "    .dataframe tbody tr th {\n",
       "        vertical-align: top;\n",
       "    }\n",
       "\n",
       "    .dataframe thead th {\n",
       "        text-align: right;\n",
       "    }\n",
       "</style>\n",
       "<table border=\"1\" class=\"dataframe\">\n",
       "  <thead>\n",
       "    <tr style=\"text-align: right;\">\n",
       "      <th></th>\n",
       "      <th>url</th>\n",
       "      <th>title</th>\n",
       "      <th>content</th>\n",
       "    </tr>\n",
       "  </thead>\n",
       "  <tbody>\n",
       "    <tr>\n",
       "      <th>0</th>\n",
       "      <td>https://www.aconcaguadigital.cl/avanza-proyect...</td>\n",
       "      <td>Avanza proyecto de ley de autismo</td>\n",
       "      <td>La Comisión de Hacienda de la Cámara de Diputa...</td>\n",
       "    </tr>\n",
       "    <tr>\n",
       "      <th>4</th>\n",
       "      <td>https://www.aconcaguadigital.cl/estudio-de-fun...</td>\n",
       "      <td>Estudio de Fundación Integra revela la importa...</td>\n",
       "      <td>La investigación realizada a fines del año pas...</td>\n",
       "    </tr>\n",
       "    <tr>\n",
       "      <th>7</th>\n",
       "      <td>https://www.aconcaguadigital.cl/operativo-anti...</td>\n",
       "      <td>Operativo antidrogas evita la venta de 9 millo...</td>\n",
       "      <td>El operativo necesitó el apoyo del helicóptero...</td>\n",
       "    </tr>\n",
       "    <tr>\n",
       "      <th>10</th>\n",
       "      <td>https://www.aconcaguadigital.cl/en-jornada-his...</td>\n",
       "      <td>En jornada histórica asumió nueva jefa regiona...</td>\n",
       "      <td>La prefecta inspectora Sandra Gutierrez Pérez,...</td>\n",
       "    </tr>\n",
       "    <tr>\n",
       "      <th>13</th>\n",
       "      <td>https://www.aconcaguadigital.cl/diputada-carol...</td>\n",
       "      <td>Diputada Carolina Marzán pide al gobierno esta...</td>\n",
       "      <td>Este miércoles, la diputada Carolina Marzán, i...</td>\n",
       "    </tr>\n",
       "    <tr>\n",
       "      <th>16</th>\n",
       "      <td>https://www.aconcaguadigital.cl/pdi-detiene-a-...</td>\n",
       "      <td>PDI detiene a autor de violación en Cabildo</td>\n",
       "      <td>Detectives de la Brigada de Investigación Crim...</td>\n",
       "    </tr>\n",
       "    <tr>\n",
       "      <th>19</th>\n",
       "      <td>https://www.aconcaguadigital.cl/pdi-detuvo-a-s...</td>\n",
       "      <td>PDI detuvo a sujetos que comercializaban droga...</td>\n",
       "      <td>Detectives del equipo MT0 de la Brigada de Inv...</td>\n",
       "    </tr>\n",
       "    <tr>\n",
       "      <th>22</th>\n",
       "      <td>https://www.aconcaguadigital.cl/diputada-marza...</td>\n",
       "      <td>Diputada Marzán solicitó a ministro de educaci...</td>\n",
       "      <td>En vista del aumento de casos covid-19, que se...</td>\n",
       "    </tr>\n",
       "    <tr>\n",
       "      <th>25</th>\n",
       "      <td>https://www.aconcaguadigital.cl/vina-del-mar-p...</td>\n",
       "      <td>Viña del Mar: PDI incauta granadas en procedim...</td>\n",
       "      <td>La Brigada Antinarcóticos y Contra el Crimen O...</td>\n",
       "    </tr>\n",
       "    <tr>\n",
       "      <th>28</th>\n",
       "      <td>https://www.aconcaguadigital.cl/escolares-de-2...</td>\n",
       "      <td>Escolares de 2 a 6 años de la Región de Valpar...</td>\n",
       "      <td></td>\n",
       "    </tr>\n",
       "    <tr>\n",
       "      <th>61</th>\n",
       "      <td>https://www.aconcaguadigital.cl/pdi-valparaiso...</td>\n",
       "      <td>PDI Valparaíso incauta millonario cargamento d...</td>\n",
       "      <td>Detectives de la Brigada Antinarcóticos y Cont...</td>\n",
       "    </tr>\n",
       "    <tr>\n",
       "      <th>64</th>\n",
       "      <td>https://www.aconcaguadigital.cl/gendarmes-repe...</td>\n",
       "      <td>Gendarmes repelen lanzamiento de droga realiza...</td>\n",
       "      <td>Funcionarios de centinela percutan cuatro disp...</td>\n",
       "    </tr>\n",
       "    <tr>\n",
       "      <th>67</th>\n",
       "      <td>https://www.aconcaguadigital.cl/la-reactivacio...</td>\n",
       "      <td>La reactivación de la empleabilidad se mantien...</td>\n",
       "      <td>Al respecto, el Seremi del Trabajo destacó la ...</td>\n",
       "    </tr>\n",
       "    <tr>\n",
       "      <th>70</th>\n",
       "      <td>https://www.aconcaguadigital.cl/anuncian-exten...</td>\n",
       "      <td>Anuncian extensión de IFE laboral y subsidio p...</td>\n",
       "      <td>El Delegado Presidencial de la Región de Valpa...</td>\n",
       "    </tr>\n",
       "    <tr>\n",
       "      <th>73</th>\n",
       "      <td>https://www.aconcaguadigital.cl/miles-de-perso...</td>\n",
       "      <td>Miles de personas serán parte de estudio de in...</td>\n",
       "      <td>El estudio es liderado por un equipo multidisc...</td>\n",
       "    </tr>\n",
       "    <tr>\n",
       "      <th>76</th>\n",
       "      <td>https://www.aconcaguadigital.cl/fundacion-las-...</td>\n",
       "      <td>Fundación Las Rosas presenta “el seguro +bueno...</td>\n",
       "      <td>Este año, al contratar el Seguro Obligatorio d...</td>\n",
       "    </tr>\n",
       "    <tr>\n",
       "      <th>79</th>\n",
       "      <td>https://www.aconcaguadigital.cl/reporte-de-esv...</td>\n",
       "      <td>Reporte de Esval revela impacto de la mega seq...</td>\n",
       "      <td>El caso más dramático es el de Peñuelas, que h...</td>\n",
       "    </tr>\n",
       "    <tr>\n",
       "      <th>82</th>\n",
       "      <td>https://www.aconcaguadigital.cl/indap-flexibil...</td>\n",
       "      <td>INDAP flexibiliza instrumentos de créditos: pr...</td>\n",
       "      <td>Con el desafío permanente de perfeccionar sus ...</td>\n",
       "    </tr>\n",
       "    <tr>\n",
       "      <th>85</th>\n",
       "      <td>https://www.aconcaguadigital.cl/el-rey-de-la-q...</td>\n",
       "      <td>El rey de la quínoa se reinventó en pandemia: ...</td>\n",
       "      <td>Agricultor del sector Las Salinas de Pullally ...</td>\n",
       "    </tr>\n",
       "    <tr>\n",
       "      <th>88</th>\n",
       "      <td>https://www.aconcaguadigital.cl/hijuelas-vuelv...</td>\n",
       "      <td>Hijuelas vuelve a ser la capital de las flores</td>\n",
       "      <td>Durante esta semana, Hijuelas, vuelve a tomar ...</td>\n",
       "    </tr>\n",
       "  </tbody>\n",
       "</table>\n",
       "</div>"
      ],
      "text/plain": [
       "                                                  url  \\\n",
       "0   https://www.aconcaguadigital.cl/avanza-proyect...   \n",
       "4   https://www.aconcaguadigital.cl/estudio-de-fun...   \n",
       "7   https://www.aconcaguadigital.cl/operativo-anti...   \n",
       "10  https://www.aconcaguadigital.cl/en-jornada-his...   \n",
       "13  https://www.aconcaguadigital.cl/diputada-carol...   \n",
       "16  https://www.aconcaguadigital.cl/pdi-detiene-a-...   \n",
       "19  https://www.aconcaguadigital.cl/pdi-detuvo-a-s...   \n",
       "22  https://www.aconcaguadigital.cl/diputada-marza...   \n",
       "25  https://www.aconcaguadigital.cl/vina-del-mar-p...   \n",
       "28  https://www.aconcaguadigital.cl/escolares-de-2...   \n",
       "61  https://www.aconcaguadigital.cl/pdi-valparaiso...   \n",
       "64  https://www.aconcaguadigital.cl/gendarmes-repe...   \n",
       "67  https://www.aconcaguadigital.cl/la-reactivacio...   \n",
       "70  https://www.aconcaguadigital.cl/anuncian-exten...   \n",
       "73  https://www.aconcaguadigital.cl/miles-de-perso...   \n",
       "76  https://www.aconcaguadigital.cl/fundacion-las-...   \n",
       "79  https://www.aconcaguadigital.cl/reporte-de-esv...   \n",
       "82  https://www.aconcaguadigital.cl/indap-flexibil...   \n",
       "85  https://www.aconcaguadigital.cl/el-rey-de-la-q...   \n",
       "88  https://www.aconcaguadigital.cl/hijuelas-vuelv...   \n",
       "\n",
       "                                                title  \\\n",
       "0                   Avanza proyecto de ley de autismo   \n",
       "4   Estudio de Fundación Integra revela la importa...   \n",
       "7   Operativo antidrogas evita la venta de 9 millo...   \n",
       "10  En jornada histórica asumió nueva jefa regiona...   \n",
       "13  Diputada Carolina Marzán pide al gobierno esta...   \n",
       "16        PDI detiene a autor de violación en Cabildo   \n",
       "19  PDI detuvo a sujetos que comercializaban droga...   \n",
       "22  Diputada Marzán solicitó a ministro de educaci...   \n",
       "25  Viña del Mar: PDI incauta granadas en procedim...   \n",
       "28  Escolares de 2 a 6 años de la Región de Valpar...   \n",
       "61  PDI Valparaíso incauta millonario cargamento d...   \n",
       "64  Gendarmes repelen lanzamiento de droga realiza...   \n",
       "67  La reactivación de la empleabilidad se mantien...   \n",
       "70  Anuncian extensión de IFE laboral y subsidio p...   \n",
       "73  Miles de personas serán parte de estudio de in...   \n",
       "76  Fundación Las Rosas presenta “el seguro +bueno...   \n",
       "79  Reporte de Esval revela impacto de la mega seq...   \n",
       "82  INDAP flexibiliza instrumentos de créditos: pr...   \n",
       "85  El rey de la quínoa se reinventó en pandemia: ...   \n",
       "88     Hijuelas vuelve a ser la capital de las flores   \n",
       "\n",
       "                                              content  \n",
       "0   La Comisión de Hacienda de la Cámara de Diputa...  \n",
       "4   La investigación realizada a fines del año pas...  \n",
       "7   El operativo necesitó el apoyo del helicóptero...  \n",
       "10  La prefecta inspectora Sandra Gutierrez Pérez,...  \n",
       "13  Este miércoles, la diputada Carolina Marzán, i...  \n",
       "16  Detectives de la Brigada de Investigación Crim...  \n",
       "19  Detectives del equipo MT0 de la Brigada de Inv...  \n",
       "22  En vista del aumento de casos covid-19, que se...  \n",
       "25  La Brigada Antinarcóticos y Contra el Crimen O...  \n",
       "28                                                     \n",
       "61  Detectives de la Brigada Antinarcóticos y Cont...  \n",
       "64  Funcionarios de centinela percutan cuatro disp...  \n",
       "67  Al respecto, el Seremi del Trabajo destacó la ...  \n",
       "70  El Delegado Presidencial de la Región de Valpa...  \n",
       "73  El estudio es liderado por un equipo multidisc...  \n",
       "76  Este año, al contratar el Seguro Obligatorio d...  \n",
       "79  El caso más dramático es el de Peñuelas, que h...  \n",
       "82  Con el desafío permanente de perfeccionar sus ...  \n",
       "85  Agricultor del sector Las Salinas de Pullally ...  \n",
       "88  Durante esta semana, Hijuelas, vuelve a tomar ...  "
      ]
     },
     "execution_count": 18,
     "metadata": {},
     "output_type": "execute_result"
    }
   ],
   "source": [
    "df"
   ]
  },
  {
   "cell_type": "code",
   "execution_count": null,
   "id": "2e565eca",
   "metadata": {},
   "outputs": [],
   "source": []
  }
 ],
 "metadata": {
  "kernelspec": {
   "display_name": "Python 3 (ipykernel)",
   "language": "python",
   "name": "python3"
  },
  "language_info": {
   "codemirror_mode": {
    "name": "ipython",
    "version": 3
   },
   "file_extension": ".py",
   "mimetype": "text/x-python",
   "name": "python",
   "nbconvert_exporter": "python",
   "pygments_lexer": "ipython3",
   "version": "3.8.10"
  }
 },
 "nbformat": 4,
 "nbformat_minor": 5
}
