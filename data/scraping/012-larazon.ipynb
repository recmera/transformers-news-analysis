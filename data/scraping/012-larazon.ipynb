{
 "cells": [
  {
   "cell_type": "code",
   "execution_count": 1,
   "id": "e42c42ef",
   "metadata": {},
   "outputs": [],
   "source": [
    "import json\n",
    "import w3lib.html\n",
    "import random\n",
    "import os\n",
    "from datetime import datetime\n",
    "import requests\n",
    "import string\n",
    "import calendar\n",
    "import html\n",
    "import locale \n",
    "from requests_html import HTMLSession\n",
    "from requests_html import HTML\n",
    "import validators\n",
    "import pandas as pd\n",
    "from tqdm.notebook import tqdm\n",
    "\n",
    "import warnings\n",
    "warnings.filterwarnings('ignore')"
   ]
  },
  {
   "cell_type": "code",
   "execution_count": 2,
   "id": "79bb0b1d",
   "metadata": {},
   "outputs": [],
   "source": [
    "URL_SEED = 'https://www.larazon.cl/temas/chile/page/1/'\n",
    "XPATH_HREF = \"//h4/a/@href\""
   ]
  },
  {
   "cell_type": "code",
   "execution_count": 3,
   "id": "c8a6236e",
   "metadata": {},
   "outputs": [],
   "source": [
    "class Crawler():\n",
    "    \n",
    "    USER_AGENT_LIST = [\n",
    "        \"Mozilla/5.0 (Windows NT 6.1; WOW64) AppleWebKit/537.1 (KHTML, like Gecko) Chrome/22.0.1207.1 Safari/537.1\",\n",
    "        \"Mozilla/5.0 (X11; CrOS i686 2268.111.0) AppleWebKit/536.11 (KHTML, like Gecko) Chrome/20.0.1132.57 Safari/536.11\",\n",
    "        \"Mozilla/5.0 (Windows NT 6.1; WOW64) AppleWebKit/536.6 (KHTML, like Gecko) Chrome/20.0.1092.0 Safari/536.6\",\n",
    "        \"Mozilla/5.0 (Windows NT 6.2) AppleWebKit/536.6 (KHTML, like Gecko) Chrome/20.0.1090.0 Safari/536.6\",\n",
    "        \"Mozilla/5.0 (Windows NT 6.2; WOW64) AppleWebKit/537.1 (KHTML, like Gecko) Chrome/19.77.34.5 Safari/537.1\",\n",
    "        \"Mozilla/5.0 (X11; Linux x86_64) AppleWebKit/536.5 (KHTML, like Gecko) Chrome/19.0.1084.9 Safari/536.5\",\n",
    "        \"Mozilla/5.0 (Windows NT 6.0) AppleWebKit/536.5 (KHTML, like Gecko) Chrome/19.0.1084.36 Safari/536.5\",\n",
    "        \"Mozilla/5.0 (Windows NT 6.1; WOW64) AppleWebKit/536.3 (KHTML, like Gecko) Chrome/19.0.1063.0 Safari/536.3\",\n",
    "        \"Mozilla/5.0 (Windows NT 5.1) AppleWebKit/536.3 (KHTML, like Gecko) Chrome/19.0.1063.0 Safari/536.3\",\n",
    "        \"Mozilla/5.0 (Macintosh; Intel Mac OS X 10_8_0) AppleWebKit/536.3 (KHTML, like Gecko) Chrome/19.0.1063.0 Safari/536.3\",\n",
    "        \"Mozilla/5.0 (Windows NT 6.2) AppleWebKit/536.3 (KHTML, like Gecko) Chrome/19.0.1062.0 Safari/536.3\",\n",
    "        \"Mozilla/5.0 (Windows NT 6.1; WOW64) AppleWebKit/536.3 (KHTML, like Gecko) Chrome/19.0.1062.0 Safari/536.3\",\n",
    "        \"Mozilla/5.0 (Windows NT 6.2) AppleWebKit/536.3 (KHTML, like Gecko) Chrome/19.0.1061.1 Safari/536.3\",\n",
    "        \"Mozilla/5.0 (Windows NT 6.1; WOW64) AppleWebKit/536.3 (KHTML, like Gecko) Chrome/19.0.1061.1 Safari/536.3\",\n",
    "        \"Mozilla/5.0 (Windows NT 6.1) AppleWebKit/536.3 (KHTML, like Gecko) Chrome/19.0.1061.1 Safari/536.3\",\n",
    "        \"Mozilla/5.0 (Windows NT 6.2) AppleWebKit/536.3 (KHTML, like Gecko) Chrome/19.0.1061.0 Safari/536.3\",\n",
    "        \"Mozilla/5.0 (X11; Linux x86_64) AppleWebKit/535.24 (KHTML, like Gecko) Chrome/19.0.1055.1 Safari/535.24\",\n",
    "        \"Mozilla/5.0 (Windows NT 6.2; WOW64) AppleWebKit/535.24 (KHTML, like Gecko) Chrome/19.0.1055.1 Safari/535.24\"\n",
    "    ]\n",
    "\n",
    "    #Ruta XPATH hacia los enlaces que queremos recopilar\n",
    "    xpath_href=XPATH_HREF\n",
    "\n",
    "    #variable que permite listar todos los enlaces recopilado\n",
    "    url_list = []\n",
    "    \n",
    "    def _init_(self, URL_SEED, XPATH_HREF):        \n",
    "        pass\n",
    "\n",
    "    \n",
    "    def get(self,url):\n",
    "        session = HTMLSession()\n",
    "        header = dict()\n",
    "        header['user-agent'] = random.choice(self.USER_AGENT_LIST)\n",
    "        response = session.get(url,headers=header)        \n",
    "        return response\n",
    "    \n",
    "    def parse(self, response):\n",
    "        self.url_list = []\n",
    "        urls = response.html.xpath(self.xpath_href)\n",
    "        for url in urls:\n",
    "            self.url_list.append(url)\n"
   ]
  },
  {
   "cell_type": "code",
   "execution_count": 4,
   "id": "e016daec",
   "metadata": {
    "scrolled": true
   },
   "outputs": [
    {
     "data": {
      "application/vnd.jupyter.widget-view+json": {
       "model_id": "7939e12026f44d48a7f24a3bc36b8500",
       "version_major": 2,
       "version_minor": 0
      },
      "text/plain": [
       "  0%|          | 0/3 [00:00<?, ?it/s]"
      ]
     },
     "metadata": {},
     "output_type": "display_data"
    },
    {
     "data": {
      "text/plain": [
       "['https://www.larazon.cl/2022/03/28/autoridades-suspenden-clases-en-el-liceo-benjamin-franklin-de-quinta-normal-tras-una-amenaza-de-masacre-escolar/',\n",
       " 'https://www.larazon.cl/2022/03/26/intervencion-de-delight-lab-irrumpe-con-homenaje-a-la-abogada-feminista-elena-caffarena/',\n",
       " 'https://www.larazon.cl/2022/03/26/quien-es-y-como-escapo-karen-rojo-la-exalcaldesa-chilena-profuga-de-la-justicia/',\n",
       " 'https://www.larazon.cl/2022/03/25/subsecretaria-de-educacion-superior-recibe-en-la-moneda-a-voceros-confech-para-abordar-demandas-en-el-marco-de-mesa-de-trabajo-con-estudiantes/',\n",
       " 'https://www.larazon.cl/2022/03/25/corte-suprema-eleva-las-penas-a-tres-exagentes-de-la-dina-por-homicidio-calificado-en-estacion-central/',\n",
       " 'https://www.larazon.cl/2022/03/25/carabinero-dispara-su-arma-de-servicio-contra-manifestantes-y-hiere-a-un-estudiante-en-el-torax/',\n",
       " 'https://www.larazon.cl/2022/03/25/nuevo-hallazgo-paleontologico-descubren-ancestro-prehistorico-de-familia-de-sapos-que-vivio-hace-13-millones-de-anos-en-la-araucania/',\n",
       " 'https://www.larazon.cl/2022/03/25/senador-miguel-insulza-es-urgente-empadronar-a-migrantes-indocumentados-para-saber-quienes-son/',\n",
       " 'https://www.larazon.cl/2022/03/25/la-policia-de-investigaciones-de-chile-pdi-da-aviso-a-la-interpol-para-detener-a-exalcaldesa-que-huyo-del-pais/',\n",
       " 'https://www.larazon.cl/2022/03/24/ministerio-de-salud-presenta-a-los-integrantes-del-consejo-asesor-externo-para-el-manejo-de-la-pandemia-y-anuncia-las-comunas-que-cambian-de-fase-en-el-paso-a-paso/',\n",
       " 'https://www.larazon.cl/2022/03/28/autoridades-suspenden-clases-en-el-liceo-benjamin-franklin-de-quinta-normal-tras-una-amenaza-de-masacre-escolar/',\n",
       " 'https://www.larazon.cl/2022/03/28/peru-colombia-o-chile-el-ultimo-tren-a-catar-2022/',\n",
       " 'https://www.larazon.cl/2022/03/28/eeuu-convence-a-todos-para-rechazar-el-gas-ruso-pero-de-donde-sacara-biden-la-gasolina-para-la-ue/',\n",
       " 'https://www.larazon.cl/2022/03/28/la-corte-suprema-de-honduras-ratifica-la-extradicion-a-eeuu-del-expresidente-hernandez/',\n",
       " 'https://www.larazon.cl/2022/03/28/taltal-y-su-memoria-colectiva-para-enfrentar-catastrofes/',\n",
       " 'https://www.larazon.cl/2022/03/28/autoridades-suspenden-clases-en-el-liceo-benjamin-franklin-de-quinta-normal-tras-una-amenaza-de-masacre-escolar/',\n",
       " 'https://www.larazon.cl/2022/03/26/intervencion-de-delight-lab-irrumpe-con-homenaje-a-la-abogada-feminista-elena-caffarena/',\n",
       " 'https://www.larazon.cl/2022/03/26/quien-es-y-como-escapo-karen-rojo-la-exalcaldesa-chilena-profuga-de-la-justicia/',\n",
       " 'https://www.larazon.cl/2022/03/25/subsecretaria-de-educacion-superior-recibe-en-la-moneda-a-voceros-confech-para-abordar-demandas-en-el-marco-de-mesa-de-trabajo-con-estudiantes/',\n",
       " 'https://www.larazon.cl/2022/03/25/corte-suprema-eleva-las-penas-a-tres-exagentes-de-la-dina-por-homicidio-calificado-en-estacion-central/',\n",
       " 'https://www.larazon.cl/2022/03/25/carabinero-dispara-su-arma-de-servicio-contra-manifestantes-y-hiere-a-un-estudiante-en-el-torax/',\n",
       " 'https://www.larazon.cl/2022/03/25/nuevo-hallazgo-paleontologico-descubren-ancestro-prehistorico-de-familia-de-sapos-que-vivio-hace-13-millones-de-anos-en-la-araucania/',\n",
       " 'https://www.larazon.cl/2022/03/25/senador-miguel-insulza-es-urgente-empadronar-a-migrantes-indocumentados-para-saber-quienes-son/',\n",
       " 'https://www.larazon.cl/2022/03/25/la-policia-de-investigaciones-de-chile-pdi-da-aviso-a-la-interpol-para-detener-a-exalcaldesa-que-huyo-del-pais/',\n",
       " 'https://www.larazon.cl/2022/03/24/ministerio-de-salud-presenta-a-los-integrantes-del-consejo-asesor-externo-para-el-manejo-de-la-pandemia-y-anuncia-las-comunas-que-cambian-de-fase-en-el-paso-a-paso/',\n",
       " 'https://www.larazon.cl/2022/03/28/autoridades-suspenden-clases-en-el-liceo-benjamin-franklin-de-quinta-normal-tras-una-amenaza-de-masacre-escolar/',\n",
       " 'https://www.larazon.cl/2022/03/28/peru-colombia-o-chile-el-ultimo-tren-a-catar-2022/',\n",
       " 'https://www.larazon.cl/2022/03/28/eeuu-convence-a-todos-para-rechazar-el-gas-ruso-pero-de-donde-sacara-biden-la-gasolina-para-la-ue/',\n",
       " 'https://www.larazon.cl/2022/03/28/la-corte-suprema-de-honduras-ratifica-la-extradicion-a-eeuu-del-expresidente-hernandez/',\n",
       " 'https://www.larazon.cl/2022/03/28/taltal-y-su-memoria-colectiva-para-enfrentar-catastrofes/',\n",
       " 'https://www.larazon.cl/2022/03/24/gobierno-apuesta-por-volver-a-producir-vacunas-en-chile/',\n",
       " 'https://www.larazon.cl/2022/03/24/senadora-fabiola-campillai-se-me-condiciono-el-voto-para-la-ley-de-amnistia-a-presos-y-presas-del-estallido-social-pidiendome-que-solicite-al-presidente-boric-el-indulto-a-los-presos-de-punta-peuc/',\n",
       " 'https://www.larazon.cl/2022/03/24/la-convencion-constitucional-aprobo-una-norma-que-establece-que-chile-es-un-pais-plurinacional-e-intercultural/',\n",
       " 'https://www.larazon.cl/2022/03/24/los-ministros-de-salud-del-mercado-comun-del-sur-mercosur-analizan-situacion-del-covid-19-y-la-compra-conjunta-de-medicamentos/',\n",
       " 'https://www.larazon.cl/2022/03/24/senador-castro-y-proyecto-que-endurece-penas-por-quemar-iglesias-lo-aprobamos-porque-es-muy-importante-y-necesario-espero-se-apruebe-en-la-camara/',\n",
       " 'https://www.larazon.cl/2022/03/23/corte-suprema-desestima-recurso-de-exalcaldeza-de-antofagasta-karen-rojo-venegas-y-debera-cumplir-pena-de-5-anos-de-carcel-por-fraude-al-fisco/',\n",
       " 'https://www.larazon.cl/2022/03/23/ministra-de-relaciones-exteriores-antonia-urrejola-defiende-los-nombramientos-de-politicos-como-embajadores/',\n",
       " 'https://www.larazon.cl/2022/03/23/a-119-anos-de-su-nacimiento-las-infatigables-luchas-feministas-de-elena-caffarena/',\n",
       " 'https://www.larazon.cl/2022/03/22/senador-ivan-flores-dc-por-proyecto-indulto-yo-voy-a-votar-a-favor-independientemente-de-las-precisiones-que-se-puedan-hacer-espero-que-se-apruebe/',\n",
       " 'https://www.larazon.cl/2022/03/22/gabriel-boric-nomina-a-dirigente-sindical-comunista-como-embajadora-en-argentina/',\n",
       " 'https://www.larazon.cl/2022/03/28/autoridades-suspenden-clases-en-el-liceo-benjamin-franklin-de-quinta-normal-tras-una-amenaza-de-masacre-escolar/',\n",
       " 'https://www.larazon.cl/2022/03/28/peru-colombia-o-chile-el-ultimo-tren-a-catar-2022/',\n",
       " 'https://www.larazon.cl/2022/03/28/eeuu-convence-a-todos-para-rechazar-el-gas-ruso-pero-de-donde-sacara-biden-la-gasolina-para-la-ue/',\n",
       " 'https://www.larazon.cl/2022/03/28/la-corte-suprema-de-honduras-ratifica-la-extradicion-a-eeuu-del-expresidente-hernandez/',\n",
       " 'https://www.larazon.cl/2022/03/28/taltal-y-su-memoria-colectiva-para-enfrentar-catastrofes/']"
      ]
     },
     "execution_count": 4,
     "metadata": {},
     "output_type": "execute_result"
    }
   ],
   "source": [
    "urls=[]\n",
    "\n",
    "for page in tqdm(range(3)): # revisemos sólo 2 páginas\n",
    "    crawler = Crawler()\n",
    "    response = crawler.get('https://www.larazon.cl/temas/chile/page/'+str(page))\n",
    "    crawler.parse(response)\n",
    "\n",
    "    \n",
    "    for url in crawler.url_list:\n",
    "        urls.append(url)\n",
    "\n",
    "    crawler.url_list = urls\n",
    "    \n",
    "crawler.url_list"
   ]
  },
  {
   "cell_type": "code",
   "execution_count": 5,
   "id": "e6099483",
   "metadata": {},
   "outputs": [
    {
     "data": {
      "text/plain": [
       "45"
      ]
     },
     "execution_count": 5,
     "metadata": {},
     "output_type": "execute_result"
    }
   ],
   "source": [
    "display(len(urls))"
   ]
  },
  {
   "cell_type": "code",
   "execution_count": 6,
   "id": "928cdb23",
   "metadata": {},
   "outputs": [
    {
     "data": {
      "text/plain": [
       "'https://www.larazon.cl/2022/03/28/autoridades-suspenden-clases-en-el-liceo-benjamin-franklin-de-quinta-normal-tras-una-amenaza-de-masacre-escolar/'"
      ]
     },
     "execution_count": 6,
     "metadata": {},
     "output_type": "execute_result"
    }
   ],
   "source": [
    "display(urls[0])"
   ]
  },
  {
   "cell_type": "code",
   "execution_count": null,
   "id": "f8c2d5b1",
   "metadata": {},
   "outputs": [],
   "source": []
  },
  {
   "cell_type": "code",
   "execution_count": 7,
   "id": "d446e5df",
   "metadata": {},
   "outputs": [],
   "source": [
    "URL_NEWS = urls[0]\n",
    "XPATH_TITLE = \"//h1\"\n",
    "XPATH_CONTENT =\"//div[@class='article__body']/*\""
   ]
  },
  {
   "cell_type": "code",
   "execution_count": 8,
   "id": "fcc5edaf",
   "metadata": {},
   "outputs": [],
   "source": [
    "class Scraper:\n",
    "    \n",
    "    USER_AGENT_LIST = [\n",
    "        \"Mozilla/5.0 (Windows NT 6.1; WOW64) AppleWebKit/537.1 (KHTML, like Gecko) Chrome/22.0.1207.1 Safari/537.1\",\n",
    "        \"Mozilla/5.0 (X11; CrOS i686 2268.111.0) AppleWebKit/536.11 (KHTML, like Gecko) Chrome/20.0.1132.57 Safari/536.11\",\n",
    "        \"Mozilla/5.0 (Windows NT 6.1; WOW64) AppleWebKit/536.6 (KHTML, like Gecko) Chrome/20.0.1092.0 Safari/536.6\",\n",
    "        \"Mozilla/5.0 (Windows NT 6.2) AppleWebKit/536.6 (KHTML, like Gecko) Chrome/20.0.1090.0 Safari/536.6\",\n",
    "        \"Mozilla/5.0 (Windows NT 6.2; WOW64) AppleWebKit/537.1 (KHTML, like Gecko) Chrome/19.77.34.5 Safari/537.1\",\n",
    "        \"Mozilla/5.0 (X11; Linux x86_64) AppleWebKit/536.5 (KHTML, like Gecko) Chrome/19.0.1084.9 Safari/536.5\",\n",
    "        \"Mozilla/5.0 (Windows NT 6.0) AppleWebKit/536.5 (KHTML, like Gecko) Chrome/19.0.1084.36 Safari/536.5\",\n",
    "        \"Mozilla/5.0 (Windows NT 6.1; WOW64) AppleWebKit/536.3 (KHTML, like Gecko) Chrome/19.0.1063.0 Safari/536.3\",\n",
    "        \"Mozilla/5.0 (Windows NT 5.1) AppleWebKit/536.3 (KHTML, like Gecko) Chrome/19.0.1063.0 Safari/536.3\",\n",
    "        \"Mozilla/5.0 (Macintosh; Intel Mac OS X 10_8_0) AppleWebKit/536.3 (KHTML, like Gecko) Chrome/19.0.1063.0 Safari/536.3\",\n",
    "        \"Mozilla/5.0 (Windows NT 6.2) AppleWebKit/536.3 (KHTML, like Gecko) Chrome/19.0.1062.0 Safari/536.3\",\n",
    "        \"Mozilla/5.0 (Windows NT 6.1; WOW64) AppleWebKit/536.3 (KHTML, like Gecko) Chrome/19.0.1062.0 Safari/536.3\",\n",
    "        \"Mozilla/5.0 (Windows NT 6.2) AppleWebKit/536.3 (KHTML, like Gecko) Chrome/19.0.1061.1 Safari/536.3\",\n",
    "        \"Mozilla/5.0 (Windows NT 6.1; WOW64) AppleWebKit/536.3 (KHTML, like Gecko) Chrome/19.0.1061.1 Safari/536.3\",\n",
    "        \"Mozilla/5.0 (Windows NT 6.1) AppleWebKit/536.3 (KHTML, like Gecko) Chrome/19.0.1061.1 Safari/536.3\",\n",
    "        \"Mozilla/5.0 (Windows NT 6.2) AppleWebKit/536.3 (KHTML, like Gecko) Chrome/19.0.1061.0 Safari/536.3\",\n",
    "        \"Mozilla/5.0 (X11; Linux x86_64) AppleWebKit/535.24 (KHTML, like Gecko) Chrome/19.0.1055.1 Safari/535.24\",\n",
    "        \"Mozilla/5.0 (Windows NT 6.2; WOW64) AppleWebKit/535.24 (KHTML, like Gecko) Chrome/19.0.1055.1 Safari/535.24\"\n",
    "    ]\n",
    "\n",
    "    query_extract_title = XPATH_TITLE\n",
    "    query_extract_text =  XPATH_CONTENT\n",
    "\n",
    "    def _init_(self):\n",
    "        pass\n",
    "   \n",
    "    def get(self,url):\n",
    "        headers = {'user-agent':random.choice(self.USER_AGENT_LIST) }\n",
    "        session = HTMLSession()\n",
    "        response = session.get(url,headers=headers) \n",
    "        return response\n",
    "    \n",
    "    def clean_text(self, html_text):\n",
    "        text_without_tags = w3lib.html.remove_tags(html_text)\n",
    "        text_without_escape_chars = w3lib.html.replace_escape_chars(text_without_tags)\n",
    "        text_without_escape_chars = html.unescape(text_without_escape_chars)\n",
    "        text_without_whitespace = text_without_escape_chars.strip()\n",
    "        return text_without_whitespace\n",
    "\n",
    "    \n",
    "    #### main function ####\n",
    "    def parse(self, response):\n",
    "        \n",
    "        #URL\n",
    "        self.news_url = response.url\n",
    "        \n",
    "        #TITLE\n",
    "        self.news_title = response.html.xpath(self.query_extract_title)[0].text\n",
    "        self.news_title = self.clean_text(self.news_title)\n",
    "       \n",
    "        \n",
    "        #CONTENT\n",
    "        self.news_text = \"\"\n",
    "        \n",
    "        html_paragraphs = response.html.xpath(self.query_extract_text)\n",
    "        \n",
    "        for paragraph in html_paragraphs:\n",
    "            paragraph_content = w3lib.html.remove_tags(paragraph.text)    \n",
    "            text_cleaned = self.clean_text(paragraph_content)\n",
    "            self.news_text = self.news_text+text_cleaned\n"
   ]
  },
  {
   "cell_type": "code",
   "execution_count": 9,
   "id": "d9482704",
   "metadata": {},
   "outputs": [],
   "source": [
    "scraper = Scraper()\n",
    "response =scraper.get(URL_NEWS)"
   ]
  },
  {
   "cell_type": "code",
   "execution_count": 10,
   "id": "d72bc32e",
   "metadata": {},
   "outputs": [],
   "source": [
    "scraper.parse(response)"
   ]
  },
  {
   "cell_type": "code",
   "execution_count": 11,
   "id": "a2e4d401",
   "metadata": {},
   "outputs": [
    {
     "data": {
      "text/plain": [
       "'Autoridades suspenden clases en el liceo Benjamín Franklin de Quinta Normal tras una amenaza de «masacre escolar»'"
      ]
     },
     "metadata": {},
     "output_type": "display_data"
    }
   ],
   "source": [
    "display(scraper.news_title)"
   ]
  },
  {
   "cell_type": "code",
   "execution_count": 12,
   "id": "162264db",
   "metadata": {},
   "outputs": [
    {
     "data": {
      "text/plain": [
       "'.«Hoy suspendimos las clases en el liceo Benjamín Franklin de Quinta Normal y realizamos una jornada de reflexión con el equipo directivo y docente, nuestro compromiso es firme en no aceptar este tipo de acciones y proteger y contener a los estudiantes que pudieran sentirse amenazados», informó la alcaldesa de la comuna, Karina Delfino, a través de un comunicado..En el video, divulgado por desconocidos en redes sociales, se aprecia la imagen de una máscara utilizada por el reconocido grupo internacional de\\xa0hackers\\xa0Anonymous\\xa0mientras una voz advierte: «Espero estén preparados para una masacre escolar el próximo 4 de abril de 2020 en el liceo Benjamín Franklin de Quinta Normal»..«Tomaremos venganza, eliminaremos sala por sala no importa quien, somo muchos, no intenten salvarse», se escuchó en el registro..La alcaldesa Delfino interpuso una querella ante la Policía de Investigaciones y anunció que realizará un plan coordinado entre la fiscalía, las policías y los funcionarios de seguridad ciudadana para resguardar a la comunidad escolar..A su vez, el ministro de Educación,\\xa0Marco Antonio Ávila, anunció en conferencia de prensa que se realizará una investigación interna en conjunto con la Secretaría Regional del Ministerio y otras autoridades locales.Comunicado.'"
      ]
     },
     "metadata": {},
     "output_type": "display_data"
    }
   ],
   "source": [
    "display(scraper.news_text)"
   ]
  },
  {
   "cell_type": "code",
   "execution_count": 15,
   "id": "bd1afcb8",
   "metadata": {},
   "outputs": [
    {
     "data": {
      "text/plain": [
       "'.«Hoy suspendimos las clases en el liceo Benjamín Franklin de Quinta Normal y realizamos una jornada de reflexión con el equipo directivo y docente, nuestro compromiso es firme en no aceptar este tipo de acciones y proteger y contener a los estudiantes que pudieran sentirse amenazados», informó la alcaldesa de la comuna, Karina Delfino, a través de un comunicado. En el video, divulgado por desconocidos en redes sociales, se aprecia la imagen de una máscara utilizada por el reconocido grupo internacional de hackers Anonymous mientras una voz advierte: «Espero estén preparados para una masacre escolar el próximo 4 de abril de 2020 en el liceo Benjamín Franklin de Quinta Normal». «Tomaremos venganza, eliminaremos sala por sala no importa quien, somo muchos, no intenten salvarse», se escuchó en el registro. La alcaldesa Delfino interpuso una querella ante la Policía de Investigaciones y anunció que realizará un plan coordinado entre la fiscalía, las policías y los funcionarios de seguridad ciudadana para resguardar a la comunidad escolar. A su vez, el ministro de Educación, Marco Antonio Ávila, anunció en conferencia de prensa que se realizará una investigación interna en conjunto con la Secretaría Regional del Ministerio y otras autoridades locales.Comunicado.'"
      ]
     },
     "execution_count": 15,
     "metadata": {},
     "output_type": "execute_result"
    }
   ],
   "source": [
    "scraper.news_text = (scraper.news_text.replace(\"\\xa0\", \" \")).replace(\"..\", \". \")\n",
    "scraper.news_text"
   ]
  },
  {
   "cell_type": "code",
   "execution_count": 16,
   "id": "a455d5d3",
   "metadata": {},
   "outputs": [],
   "source": [
    "#Verificamos que el scraper devuelve algo\n",
    "assert(len(scraper.news_title)>0)\n",
    "assert(len(scraper.news_text)>0)"
   ]
  },
  {
   "cell_type": "code",
   "execution_count": 17,
   "id": "524ce41b",
   "metadata": {},
   "outputs": [
    {
     "data": {
      "text/html": [
       "<div>\n",
       "<style scoped>\n",
       "    .dataframe tbody tr th:only-of-type {\n",
       "        vertical-align: middle;\n",
       "    }\n",
       "\n",
       "    .dataframe tbody tr th {\n",
       "        vertical-align: top;\n",
       "    }\n",
       "\n",
       "    .dataframe thead th {\n",
       "        text-align: right;\n",
       "    }\n",
       "</style>\n",
       "<table border=\"1\" class=\"dataframe\">\n",
       "  <thead>\n",
       "    <tr style=\"text-align: right;\">\n",
       "      <th></th>\n",
       "      <th>url</th>\n",
       "      <th>title</th>\n",
       "      <th>content</th>\n",
       "    </tr>\n",
       "  </thead>\n",
       "  <tbody>\n",
       "    <tr>\n",
       "      <th>0</th>\n",
       "      <td>https://www.larazon.cl/2022/03/28/autoridades-...</td>\n",
       "      <td>Autoridades suspenden clases en el liceo Benja...</td>\n",
       "      <td>.«Hoy suspendimos las clases en el liceo Benja...</td>\n",
       "    </tr>\n",
       "  </tbody>\n",
       "</table>\n",
       "</div>"
      ],
      "text/plain": [
       "                                                 url  \\\n",
       "0  https://www.larazon.cl/2022/03/28/autoridades-...   \n",
       "\n",
       "                                               title  \\\n",
       "0  Autoridades suspenden clases en el liceo Benja...   \n",
       "\n",
       "                                             content  \n",
       "0  .«Hoy suspendimos las clases en el liceo Benja...  "
      ]
     },
     "execution_count": 17,
     "metadata": {},
     "output_type": "execute_result"
    }
   ],
   "source": [
    "df = pd.DataFrame(data={'url': [URL_NEWS],'title':[scraper.news_title], 'content':[scraper.news_text]})\n",
    "df"
   ]
  },
  {
   "cell_type": "code",
   "execution_count": 18,
   "id": "267a48c8",
   "metadata": {},
   "outputs": [
    {
     "data": {
      "application/vnd.jupyter.widget-view+json": {
       "model_id": "d92ccfba9f1a4c86b18cd5af16172a30",
       "version_major": 2,
       "version_minor": 0
      },
      "text/plain": [
       "  0%|          | 0/45 [00:00<?, ?it/s]"
      ]
     },
     "metadata": {},
     "output_type": "display_data"
    }
   ],
   "source": [
    "XPATH_TITLE = \"//h1\"\n",
    "XPATH_CONTENT =\"//div[@class='article__body']/*\"\n",
    "\n",
    "for url in tqdm(urls):\n",
    "    URL_NEWS = url\n",
    "    scraper = Scraper()\n",
    "    response =scraper.get(URL_NEWS)\n",
    "    scraper.parse(response)\n",
    "    scraper.news_text = (scraper.news_text.replace(\"\\xa0\", \" \")).replace(\"..\", \". \")\n",
    "    df1 = pd.DataFrame(data={'url': url, 'title':scraper.news_title, 'content':scraper.news_text},index=['url', 'title', 'content'])\n",
    "    df = df.append(df1, ignore_index=True)\n",
    "df = df.drop_duplicates()\n"
   ]
  },
  {
   "cell_type": "code",
   "execution_count": 19,
   "id": "e9c55424",
   "metadata": {},
   "outputs": [
    {
     "data": {
      "text/html": [
       "<div>\n",
       "<style scoped>\n",
       "    .dataframe tbody tr th:only-of-type {\n",
       "        vertical-align: middle;\n",
       "    }\n",
       "\n",
       "    .dataframe tbody tr th {\n",
       "        vertical-align: top;\n",
       "    }\n",
       "\n",
       "    .dataframe thead th {\n",
       "        text-align: right;\n",
       "    }\n",
       "</style>\n",
       "<table border=\"1\" class=\"dataframe\">\n",
       "  <thead>\n",
       "    <tr style=\"text-align: right;\">\n",
       "      <th></th>\n",
       "      <th>url</th>\n",
       "      <th>title</th>\n",
       "      <th>content</th>\n",
       "    </tr>\n",
       "  </thead>\n",
       "  <tbody>\n",
       "    <tr>\n",
       "      <th>0</th>\n",
       "      <td>https://www.larazon.cl/2022/03/28/autoridades-...</td>\n",
       "      <td>Autoridades suspenden clases en el liceo Benja...</td>\n",
       "      <td>.«Hoy suspendimos las clases en el liceo Benja...</td>\n",
       "    </tr>\n",
       "    <tr>\n",
       "      <th>4</th>\n",
       "      <td>https://www.larazon.cl/2022/03/26/intervencion...</td>\n",
       "      <td>Intervención de Delight Lab irrumpe con homena...</td>\n",
       "      <td></td>\n",
       "    </tr>\n",
       "    <tr>\n",
       "      <th>7</th>\n",
       "      <td>https://www.larazon.cl/2022/03/26/quien-es-y-c...</td>\n",
       "      <td>Quién es y cómo escapó Karen Rojo, la exalcald...</td>\n",
       "      <td>Mayúscula fue la sorpresa cuando en Chile se c...</td>\n",
       "    </tr>\n",
       "    <tr>\n",
       "      <th>10</th>\n",
       "      <td>https://www.larazon.cl/2022/03/25/subsecretari...</td>\n",
       "      <td>Subsecretaria de Educación Superior recibe en ...</td>\n",
       "      <td></td>\n",
       "    </tr>\n",
       "    <tr>\n",
       "      <th>13</th>\n",
       "      <td>https://www.larazon.cl/2022/03/25/corte-suprem...</td>\n",
       "      <td>Corte Suprema eleva las penas a tres exagentes...</td>\n",
       "      <td></td>\n",
       "    </tr>\n",
       "    <tr>\n",
       "      <th>16</th>\n",
       "      <td>https://www.larazon.cl/2022/03/25/carabinero-d...</td>\n",
       "      <td>Carabinero dispara su arma de servicio contra ...</td>\n",
       "      <td>.«Tenemos un joven herido producto de un dispa...</td>\n",
       "    </tr>\n",
       "    <tr>\n",
       "      <th>19</th>\n",
       "      <td>https://www.larazon.cl/2022/03/25/nuevo-hallaz...</td>\n",
       "      <td>Nuevo hallazgo paleontológico: Descubren ances...</td>\n",
       "      <td></td>\n",
       "    </tr>\n",
       "    <tr>\n",
       "      <th>22</th>\n",
       "      <td>https://www.larazon.cl/2022/03/25/senador-migu...</td>\n",
       "      <td>Senador Miguel Insulza: «Es urgente empadronar...</td>\n",
       "      <td></td>\n",
       "    </tr>\n",
       "    <tr>\n",
       "      <th>25</th>\n",
       "      <td>https://www.larazon.cl/2022/03/25/la-policia-d...</td>\n",
       "      <td>La Policía de Investigaciones de Chile (PDI) d...</td>\n",
       "      <td>.«La Central Nacional Nacional Interpol Santia...</td>\n",
       "    </tr>\n",
       "    <tr>\n",
       "      <th>28</th>\n",
       "      <td>https://www.larazon.cl/2022/03/24/ministerio-d...</td>\n",
       "      <td>Ministerio de Salud presenta a los integrantes...</td>\n",
       "      <td></td>\n",
       "    </tr>\n",
       "    <tr>\n",
       "      <th>34</th>\n",
       "      <td>https://www.larazon.cl/2022/03/28/peru-colombi...</td>\n",
       "      <td>Perú, Colombia o Chile: el último tren a Catar...</td>\n",
       "      <td>Todo lo que comienza tiene su fin y las Elimin...</td>\n",
       "    </tr>\n",
       "    <tr>\n",
       "      <th>37</th>\n",
       "      <td>https://www.larazon.cl/2022/03/28/eeuu-convenc...</td>\n",
       "      <td>EEUU convence a todos para rechazar el gas rus...</td>\n",
       "      <td>En una conferencia de prensa conjunta con la p...</td>\n",
       "    </tr>\n",
       "    <tr>\n",
       "      <th>40</th>\n",
       "      <td>https://www.larazon.cl/2022/03/28/la-corte-sup...</td>\n",
       "      <td>La Corte Suprema de Honduras ratifica la extra...</td>\n",
       "      <td>.«Magistrados de la CSJ ratifican la extradici...</td>\n",
       "    </tr>\n",
       "    <tr>\n",
       "      <th>43</th>\n",
       "      <td>https://www.larazon.cl/2022/03/28/taltal-y-su-...</td>\n",
       "      <td>Taltal y su memoria colectiva para enfrentar c...</td>\n",
       "      <td></td>\n",
       "    </tr>\n",
       "    <tr>\n",
       "      <th>91</th>\n",
       "      <td>https://www.larazon.cl/2022/03/24/gobierno-apu...</td>\n",
       "      <td>Gobierno apuesta por volver a producir vacunas...</td>\n",
       "      <td></td>\n",
       "    </tr>\n",
       "    <tr>\n",
       "      <th>94</th>\n",
       "      <td>https://www.larazon.cl/2022/03/24/senadora-fab...</td>\n",
       "      <td>Senadora Fabiola Campillai: «Se me condicionó ...</td>\n",
       "      <td></td>\n",
       "    </tr>\n",
       "    <tr>\n",
       "      <th>97</th>\n",
       "      <td>https://www.larazon.cl/2022/03/24/la-convencio...</td>\n",
       "      <td>La Convención Constitucional aprobó una norma ...</td>\n",
       "      <td>.«Con 115 votos a favor, 34 en contra y 4 abst...</td>\n",
       "    </tr>\n",
       "    <tr>\n",
       "      <th>100</th>\n",
       "      <td>https://www.larazon.cl/2022/03/24/los-ministro...</td>\n",
       "      <td>Los ministros de Salud del Mercado Común del S...</td>\n",
       "      <td>.«En esta reunión se abordaron y avanzó sobre ...</td>\n",
       "    </tr>\n",
       "    <tr>\n",
       "      <th>103</th>\n",
       "      <td>https://www.larazon.cl/2022/03/24/senador-cast...</td>\n",
       "      <td>Senador Castro y proyecto que endurece penas p...</td>\n",
       "      <td></td>\n",
       "    </tr>\n",
       "    <tr>\n",
       "      <th>106</th>\n",
       "      <td>https://www.larazon.cl/2022/03/23/corte-suprem...</td>\n",
       "      <td>Corte Suprema desestima recurso de exalcaldeza...</td>\n",
       "      <td></td>\n",
       "    </tr>\n",
       "    <tr>\n",
       "      <th>109</th>\n",
       "      <td>https://www.larazon.cl/2022/03/23/ministra-de-...</td>\n",
       "      <td>Ministra de Relaciones Exteriores, Antonia Urr...</td>\n",
       "      <td>.«Los nombramientos de políticos en embajadas ...</td>\n",
       "    </tr>\n",
       "    <tr>\n",
       "      <th>112</th>\n",
       "      <td>https://www.larazon.cl/2022/03/23/a-119-anos-d...</td>\n",
       "      <td>A 119 años de su nacimiento: Las infatigables ...</td>\n",
       "      <td></td>\n",
       "    </tr>\n",
       "    <tr>\n",
       "      <th>115</th>\n",
       "      <td>https://www.larazon.cl/2022/03/22/senador-ivan...</td>\n",
       "      <td>Senador Iván Flores (DC) por proyecto indulto:...</td>\n",
       "      <td></td>\n",
       "    </tr>\n",
       "    <tr>\n",
       "      <th>118</th>\n",
       "      <td>https://www.larazon.cl/2022/03/22/gabriel-bori...</td>\n",
       "      <td>Gabriel Boric nomina a dirigente sindical comu...</td>\n",
       "      <td>«La expresidenta de la Central Unitaria de Tra...</td>\n",
       "    </tr>\n",
       "  </tbody>\n",
       "</table>\n",
       "</div>"
      ],
      "text/plain": [
       "                                                   url  \\\n",
       "0    https://www.larazon.cl/2022/03/28/autoridades-...   \n",
       "4    https://www.larazon.cl/2022/03/26/intervencion...   \n",
       "7    https://www.larazon.cl/2022/03/26/quien-es-y-c...   \n",
       "10   https://www.larazon.cl/2022/03/25/subsecretari...   \n",
       "13   https://www.larazon.cl/2022/03/25/corte-suprem...   \n",
       "16   https://www.larazon.cl/2022/03/25/carabinero-d...   \n",
       "19   https://www.larazon.cl/2022/03/25/nuevo-hallaz...   \n",
       "22   https://www.larazon.cl/2022/03/25/senador-migu...   \n",
       "25   https://www.larazon.cl/2022/03/25/la-policia-d...   \n",
       "28   https://www.larazon.cl/2022/03/24/ministerio-d...   \n",
       "34   https://www.larazon.cl/2022/03/28/peru-colombi...   \n",
       "37   https://www.larazon.cl/2022/03/28/eeuu-convenc...   \n",
       "40   https://www.larazon.cl/2022/03/28/la-corte-sup...   \n",
       "43   https://www.larazon.cl/2022/03/28/taltal-y-su-...   \n",
       "91   https://www.larazon.cl/2022/03/24/gobierno-apu...   \n",
       "94   https://www.larazon.cl/2022/03/24/senadora-fab...   \n",
       "97   https://www.larazon.cl/2022/03/24/la-convencio...   \n",
       "100  https://www.larazon.cl/2022/03/24/los-ministro...   \n",
       "103  https://www.larazon.cl/2022/03/24/senador-cast...   \n",
       "106  https://www.larazon.cl/2022/03/23/corte-suprem...   \n",
       "109  https://www.larazon.cl/2022/03/23/ministra-de-...   \n",
       "112  https://www.larazon.cl/2022/03/23/a-119-anos-d...   \n",
       "115  https://www.larazon.cl/2022/03/22/senador-ivan...   \n",
       "118  https://www.larazon.cl/2022/03/22/gabriel-bori...   \n",
       "\n",
       "                                                 title  \\\n",
       "0    Autoridades suspenden clases en el liceo Benja...   \n",
       "4    Intervención de Delight Lab irrumpe con homena...   \n",
       "7    Quién es y cómo escapó Karen Rojo, la exalcald...   \n",
       "10   Subsecretaria de Educación Superior recibe en ...   \n",
       "13   Corte Suprema eleva las penas a tres exagentes...   \n",
       "16   Carabinero dispara su arma de servicio contra ...   \n",
       "19   Nuevo hallazgo paleontológico: Descubren ances...   \n",
       "22   Senador Miguel Insulza: «Es urgente empadronar...   \n",
       "25   La Policía de Investigaciones de Chile (PDI) d...   \n",
       "28   Ministerio de Salud presenta a los integrantes...   \n",
       "34   Perú, Colombia o Chile: el último tren a Catar...   \n",
       "37   EEUU convence a todos para rechazar el gas rus...   \n",
       "40   La Corte Suprema de Honduras ratifica la extra...   \n",
       "43   Taltal y su memoria colectiva para enfrentar c...   \n",
       "91   Gobierno apuesta por volver a producir vacunas...   \n",
       "94   Senadora Fabiola Campillai: «Se me condicionó ...   \n",
       "97   La Convención Constitucional aprobó una norma ...   \n",
       "100  Los ministros de Salud del Mercado Común del S...   \n",
       "103  Senador Castro y proyecto que endurece penas p...   \n",
       "106  Corte Suprema desestima recurso de exalcaldeza...   \n",
       "109  Ministra de Relaciones Exteriores, Antonia Urr...   \n",
       "112  A 119 años de su nacimiento: Las infatigables ...   \n",
       "115  Senador Iván Flores (DC) por proyecto indulto:...   \n",
       "118  Gabriel Boric nomina a dirigente sindical comu...   \n",
       "\n",
       "                                               content  \n",
       "0    .«Hoy suspendimos las clases en el liceo Benja...  \n",
       "4                                                       \n",
       "7    Mayúscula fue la sorpresa cuando en Chile se c...  \n",
       "10                                                      \n",
       "13                                                      \n",
       "16   .«Tenemos un joven herido producto de un dispa...  \n",
       "19                                                      \n",
       "22                                                      \n",
       "25   .«La Central Nacional Nacional Interpol Santia...  \n",
       "28                                                      \n",
       "34   Todo lo que comienza tiene su fin y las Elimin...  \n",
       "37   En una conferencia de prensa conjunta con la p...  \n",
       "40   .«Magistrados de la CSJ ratifican la extradici...  \n",
       "43                                                      \n",
       "91                                                      \n",
       "94                                                      \n",
       "97   .«Con 115 votos a favor, 34 en contra y 4 abst...  \n",
       "100  .«En esta reunión se abordaron y avanzó sobre ...  \n",
       "103                                                     \n",
       "106                                                     \n",
       "109  .«Los nombramientos de políticos en embajadas ...  \n",
       "112                                                     \n",
       "115                                                     \n",
       "118  «La expresidenta de la Central Unitaria de Tra...  "
      ]
     },
     "execution_count": 19,
     "metadata": {},
     "output_type": "execute_result"
    }
   ],
   "source": [
    "df"
   ]
  },
  {
   "cell_type": "markdown",
   "id": "738ec0d2",
   "metadata": {},
   "source": [
    "## Las filas sin content se deben a que las páginas utilizan \"p\". Hay que utilizar un if para cambiar el XPATH_CONTENT."
   ]
  }
 ],
 "metadata": {
  "kernelspec": {
   "display_name": "Python 3 (ipykernel)",
   "language": "python",
   "name": "python3"
  },
  "language_info": {
   "codemirror_mode": {
    "name": "ipython",
    "version": 3
   },
   "file_extension": ".py",
   "mimetype": "text/x-python",
   "name": "python",
   "nbconvert_exporter": "python",
   "pygments_lexer": "ipython3",
   "version": "3.8.10"
  }
 },
 "nbformat": 4,
 "nbformat_minor": 5
}
