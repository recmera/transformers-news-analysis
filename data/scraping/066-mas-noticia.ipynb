{
 "cells": [
  {
   "cell_type": "code",
   "execution_count": 1,
   "id": "e42c42ef",
   "metadata": {},
   "outputs": [],
   "source": [
    "import json\n",
    "import w3lib.html\n",
    "import random\n",
    "import os\n",
    "from datetime import datetime\n",
    "import requests\n",
    "import string\n",
    "import calendar\n",
    "import html\n",
    "import locale \n",
    "from requests_html import HTMLSession\n",
    "from requests_html import HTML\n",
    "import validators\n",
    "import pandas as pd\n",
    "from tqdm.notebook import tqdm\n",
    "\n",
    "import warnings\n",
    "warnings.filterwarnings('ignore')"
   ]
  },
  {
   "cell_type": "code",
   "execution_count": 2,
   "id": "79bb0b1d",
   "metadata": {},
   "outputs": [],
   "source": [
    "URL_SEED = 'https://www.masnoticia.cl/category/todas-las-noticias/page/1'\n",
    "XPATH_HREF = \"//h2/a/@href\""
   ]
  },
  {
   "cell_type": "code",
   "execution_count": 3,
   "id": "c8a6236e",
   "metadata": {},
   "outputs": [],
   "source": [
    "class Crawler():\n",
    "    \n",
    "    USER_AGENT_LIST = [\n",
    "        \"Mozilla/5.0 (Windows NT 6.1; WOW64) AppleWebKit/537.1 (KHTML, like Gecko) Chrome/22.0.1207.1 Safari/537.1\",\n",
    "        \"Mozilla/5.0 (X11; CrOS i686 2268.111.0) AppleWebKit/536.11 (KHTML, like Gecko) Chrome/20.0.1132.57 Safari/536.11\",\n",
    "        \"Mozilla/5.0 (Windows NT 6.1; WOW64) AppleWebKit/536.6 (KHTML, like Gecko) Chrome/20.0.1092.0 Safari/536.6\",\n",
    "        \"Mozilla/5.0 (Windows NT 6.2) AppleWebKit/536.6 (KHTML, like Gecko) Chrome/20.0.1090.0 Safari/536.6\",\n",
    "        \"Mozilla/5.0 (Windows NT 6.2; WOW64) AppleWebKit/537.1 (KHTML, like Gecko) Chrome/19.77.34.5 Safari/537.1\",\n",
    "        \"Mozilla/5.0 (X11; Linux x86_64) AppleWebKit/536.5 (KHTML, like Gecko) Chrome/19.0.1084.9 Safari/536.5\",\n",
    "        \"Mozilla/5.0 (Windows NT 6.0) AppleWebKit/536.5 (KHTML, like Gecko) Chrome/19.0.1084.36 Safari/536.5\",\n",
    "        \"Mozilla/5.0 (Windows NT 6.1; WOW64) AppleWebKit/536.3 (KHTML, like Gecko) Chrome/19.0.1063.0 Safari/536.3\",\n",
    "        \"Mozilla/5.0 (Windows NT 5.1) AppleWebKit/536.3 (KHTML, like Gecko) Chrome/19.0.1063.0 Safari/536.3\",\n",
    "        \"Mozilla/5.0 (Macintosh; Intel Mac OS X 10_8_0) AppleWebKit/536.3 (KHTML, like Gecko) Chrome/19.0.1063.0 Safari/536.3\",\n",
    "        \"Mozilla/5.0 (Windows NT 6.2) AppleWebKit/536.3 (KHTML, like Gecko) Chrome/19.0.1062.0 Safari/536.3\",\n",
    "        \"Mozilla/5.0 (Windows NT 6.1; WOW64) AppleWebKit/536.3 (KHTML, like Gecko) Chrome/19.0.1062.0 Safari/536.3\",\n",
    "        \"Mozilla/5.0 (Windows NT 6.2) AppleWebKit/536.3 (KHTML, like Gecko) Chrome/19.0.1061.1 Safari/536.3\",\n",
    "        \"Mozilla/5.0 (Windows NT 6.1; WOW64) AppleWebKit/536.3 (KHTML, like Gecko) Chrome/19.0.1061.1 Safari/536.3\",\n",
    "        \"Mozilla/5.0 (Windows NT 6.1) AppleWebKit/536.3 (KHTML, like Gecko) Chrome/19.0.1061.1 Safari/536.3\",\n",
    "        \"Mozilla/5.0 (Windows NT 6.2) AppleWebKit/536.3 (KHTML, like Gecko) Chrome/19.0.1061.0 Safari/536.3\",\n",
    "        \"Mozilla/5.0 (X11; Linux x86_64) AppleWebKit/535.24 (KHTML, like Gecko) Chrome/19.0.1055.1 Safari/535.24\",\n",
    "        \"Mozilla/5.0 (Windows NT 6.2; WOW64) AppleWebKit/535.24 (KHTML, like Gecko) Chrome/19.0.1055.1 Safari/535.24\"\n",
    "    ]\n",
    "\n",
    "    #Ruta XPATH hacia los enlaces que queremos recopilar\n",
    "    xpath_href=XPATH_HREF\n",
    "\n",
    "    #variable que permite listar todos los enlaces recopilado\n",
    "    url_list = []\n",
    "    \n",
    "    def _init_(self, URL_SEED, XPATH_HREF):        \n",
    "        pass\n",
    "\n",
    "    \n",
    "    def get(self,url):\n",
    "        session = HTMLSession()\n",
    "        header = dict()\n",
    "        header['user-agent'] = random.choice(self.USER_AGENT_LIST)\n",
    "        response = session.get(url,headers=header)        \n",
    "        return response\n",
    "    \n",
    "    def parse(self, response):\n",
    "        self.url_list = []\n",
    "        urls = response.html.xpath(self.xpath_href)\n",
    "        for url in urls:\n",
    "            self.url_list.append(url)\n"
   ]
  },
  {
   "cell_type": "code",
   "execution_count": 4,
   "id": "e016daec",
   "metadata": {
    "scrolled": true
   },
   "outputs": [
    {
     "data": {
      "application/vnd.jupyter.widget-view+json": {
       "model_id": "34752fd8f70d40de8141970fd952d184",
       "version_major": 2,
       "version_minor": 0
      },
      "text/plain": [
       "  0%|          | 0/3 [00:00<?, ?it/s]"
      ]
     },
     "metadata": {},
     "output_type": "display_data"
    },
    {
     "data": {
      "text/plain": [
       "['https://www.masnoticia.cl/2022/04/07/quillota-en-tiempo-record-capturan-a-los-autores-de-robo-de-un-colectivo/',\n",
       " 'https://www.masnoticia.cl/2022/04/06/quintero-confirman-fallecimiento-de-pescador-artesanal-en-caleta-el-manzano/',\n",
       " 'https://www.masnoticia.cl/2022/04/06/la-calera-diez-selecciones-llegan-al-sudamericano-femenino-de-futbol-sub-20/',\n",
       " 'https://www.masnoticia.cl/2022/04/05/quintero-municipio-compromete-mesa-de-trabajo-con-centros-de-alumnos-de-la-comuna/',\n",
       " 'https://www.masnoticia.cl/2022/04/05/san-felipe-municipalidad-y-bomberos-definen-actualizar-proyecto-del-nuevo-cuartel-de-la-primera-compania/',\n",
       " 'https://www.masnoticia.cl/2022/04/01/quintero-fiscalizan-instalaciones-de-codelco-ventanas-tras-falla-en-planta-de-acido/',\n",
       " 'https://www.masnoticia.cl/2022/04/01/la-calera-iluminan-de-azul-en-el-mes-de-la-concientizacion-sobre-el-autismo/',\n",
       " 'https://www.masnoticia.cl/2022/03/31/quintero-capitania-de-puerto-entrega-aviso-especial-de-marejadas-hasta-el-miercoles-6-de-abril/',\n",
       " 'https://www.masnoticia.cl/2022/03/31/quintero-proanimal-inicio-campana-de-desparasitacion-a-500-perros-de-la-comuna/',\n",
       " 'https://www.masnoticia.cl/2022/03/31/quillota-detienen-a-sujeto-por-presunta-responsabilidad-en-secuestro-de-menor/',\n",
       " 'https://www.masnoticia.cl/2022/04/07/quillota-en-tiempo-record-capturan-a-los-autores-de-robo-de-un-colectivo/',\n",
       " 'https://www.masnoticia.cl/2022/04/06/quintero-confirman-fallecimiento-de-pescador-artesanal-en-caleta-el-manzano/',\n",
       " 'https://www.masnoticia.cl/2022/04/06/la-calera-diez-selecciones-llegan-al-sudamericano-femenino-de-futbol-sub-20/',\n",
       " 'https://www.masnoticia.cl/2022/04/05/quintero-municipio-compromete-mesa-de-trabajo-con-centros-de-alumnos-de-la-comuna/',\n",
       " 'https://www.masnoticia.cl/2022/04/05/san-felipe-municipalidad-y-bomberos-definen-actualizar-proyecto-del-nuevo-cuartel-de-la-primera-compania/',\n",
       " 'https://www.masnoticia.cl/2022/04/01/quintero-fiscalizan-instalaciones-de-codelco-ventanas-tras-falla-en-planta-de-acido/',\n",
       " 'https://www.masnoticia.cl/2022/04/01/la-calera-iluminan-de-azul-en-el-mes-de-la-concientizacion-sobre-el-autismo/',\n",
       " 'https://www.masnoticia.cl/2022/03/31/quintero-capitania-de-puerto-entrega-aviso-especial-de-marejadas-hasta-el-miercoles-6-de-abril/',\n",
       " 'https://www.masnoticia.cl/2022/03/31/quintero-proanimal-inicio-campana-de-desparasitacion-a-500-perros-de-la-comuna/',\n",
       " 'https://www.masnoticia.cl/2022/03/31/quillota-detienen-a-sujeto-por-presunta-responsabilidad-en-secuestro-de-menor/',\n",
       " 'https://www.masnoticia.cl/2022/03/31/vina-del-mar-detienen-a-trabajador-de-edificio-por-abuso-sexual-a-nina-de-12-anos/',\n",
       " 'https://www.masnoticia.cl/2022/03/31/la-ligua-este-domingo-se-realiza-la-corrida-de-colores-por-el-buen-trato-a-ninas-ninos-y-jovenes/',\n",
       " 'https://www.masnoticia.cl/2022/03/30/quintero-vecinos-entregan-a-alcalde-y-concejo-municipal-petitorio-que-demanda-mas-seguridad-y-control-del-orden-publico/',\n",
       " 'https://www.masnoticia.cl/2022/03/30/v-region-revelan-imagen-satelital-que-muestra-dramatico-estado-del-lago-penuelas/',\n",
       " 'https://www.masnoticia.cl/2022/03/30/valparaiso-detienen-a-joven-autor-de-homicidio-en-playa-ancha/',\n",
       " 'https://www.masnoticia.cl/2022/03/30/la-calera-este-viernes-el-geografo-marcelo-lagos-dictara-charla-sobre-cambio-climatico-y-escasez-hidrica/',\n",
       " 'https://www.masnoticia.cl/2022/03/29/quintero-segundo-tribunal-ambiental-elabora-propuesta-de-conciliacion-entre-sociedad-civil-y-empresas/',\n",
       " 'https://www.masnoticia.cl/2022/03/29/v-region-gobernador-y-dirigentes-del-transporte-acuerdan-lineas-de-trabajo-para-enfrentar-situacion-de-movilidad-en-el-gran-valparaiso/',\n",
       " 'https://www.masnoticia.cl/2022/03/29/zapallar-incautan-mas-de-100-plantas-de-cannabis-en-parcela-de-catapilco/',\n",
       " 'https://www.masnoticia.cl/2022/03/28/quintero-autoridades-comunales-y-policiales-coordinan-medidas-de-seguridad-y-orden-publico/']"
      ]
     },
     "execution_count": 4,
     "metadata": {},
     "output_type": "execute_result"
    }
   ],
   "source": [
    "urls=[]\n",
    "\n",
    "for page in tqdm(range(3)): # revisemos sólo 2 páginas\n",
    "    crawler = Crawler()\n",
    "    response = crawler.get('https://www.masnoticia.cl/category/todas-las-noticias/page/'+str(page))\n",
    "    crawler.parse(response)\n",
    "\n",
    "    \n",
    "    for url in crawler.url_list:\n",
    "        urls.append(url)\n",
    "\n",
    "    crawler.url_list = urls\n",
    "    \n",
    "crawler.url_list"
   ]
  },
  {
   "cell_type": "code",
   "execution_count": 5,
   "id": "e6099483",
   "metadata": {},
   "outputs": [
    {
     "data": {
      "text/plain": [
       "30"
      ]
     },
     "execution_count": 5,
     "metadata": {},
     "output_type": "execute_result"
    }
   ],
   "source": [
    "len(urls)"
   ]
  },
  {
   "cell_type": "code",
   "execution_count": 6,
   "id": "928cdb23",
   "metadata": {},
   "outputs": [
    {
     "data": {
      "text/plain": [
       "'https://www.masnoticia.cl/2022/04/07/quillota-en-tiempo-record-capturan-a-los-autores-de-robo-de-un-colectivo/'"
      ]
     },
     "execution_count": 6,
     "metadata": {},
     "output_type": "execute_result"
    }
   ],
   "source": [
    "urls[0]"
   ]
  },
  {
   "cell_type": "code",
   "execution_count": null,
   "id": "f8c2d5b1",
   "metadata": {},
   "outputs": [],
   "source": []
  },
  {
   "cell_type": "code",
   "execution_count": 7,
   "id": "d446e5df",
   "metadata": {},
   "outputs": [],
   "source": [
    "URL_NEWS = urls[0]\n",
    "XPATH_TITLE = \"//h1[@class='entry-title']\"\n",
    "XPATH_CONTENT =\"//div[@class='entry-content']//p\""
   ]
  },
  {
   "cell_type": "code",
   "execution_count": 8,
   "id": "fcc5edaf",
   "metadata": {},
   "outputs": [],
   "source": [
    "class Scraper:\n",
    "    \n",
    "    USER_AGENT_LIST = [\n",
    "        \"Mozilla/5.0 (Windows NT 6.1; WOW64) AppleWebKit/537.1 (KHTML, like Gecko) Chrome/22.0.1207.1 Safari/537.1\",\n",
    "        \"Mozilla/5.0 (X11; CrOS i686 2268.111.0) AppleWebKit/536.11 (KHTML, like Gecko) Chrome/20.0.1132.57 Safari/536.11\",\n",
    "        \"Mozilla/5.0 (Windows NT 6.1; WOW64) AppleWebKit/536.6 (KHTML, like Gecko) Chrome/20.0.1092.0 Safari/536.6\",\n",
    "        \"Mozilla/5.0 (Windows NT 6.2) AppleWebKit/536.6 (KHTML, like Gecko) Chrome/20.0.1090.0 Safari/536.6\",\n",
    "        \"Mozilla/5.0 (Windows NT 6.2; WOW64) AppleWebKit/537.1 (KHTML, like Gecko) Chrome/19.77.34.5 Safari/537.1\",\n",
    "        \"Mozilla/5.0 (X11; Linux x86_64) AppleWebKit/536.5 (KHTML, like Gecko) Chrome/19.0.1084.9 Safari/536.5\",\n",
    "        \"Mozilla/5.0 (Windows NT 6.0) AppleWebKit/536.5 (KHTML, like Gecko) Chrome/19.0.1084.36 Safari/536.5\",\n",
    "        \"Mozilla/5.0 (Windows NT 6.1; WOW64) AppleWebKit/536.3 (KHTML, like Gecko) Chrome/19.0.1063.0 Safari/536.3\",\n",
    "        \"Mozilla/5.0 (Windows NT 5.1) AppleWebKit/536.3 (KHTML, like Gecko) Chrome/19.0.1063.0 Safari/536.3\",\n",
    "        \"Mozilla/5.0 (Macintosh; Intel Mac OS X 10_8_0) AppleWebKit/536.3 (KHTML, like Gecko) Chrome/19.0.1063.0 Safari/536.3\",\n",
    "        \"Mozilla/5.0 (Windows NT 6.2) AppleWebKit/536.3 (KHTML, like Gecko) Chrome/19.0.1062.0 Safari/536.3\",\n",
    "        \"Mozilla/5.0 (Windows NT 6.1; WOW64) AppleWebKit/536.3 (KHTML, like Gecko) Chrome/19.0.1062.0 Safari/536.3\",\n",
    "        \"Mozilla/5.0 (Windows NT 6.2) AppleWebKit/536.3 (KHTML, like Gecko) Chrome/19.0.1061.1 Safari/536.3\",\n",
    "        \"Mozilla/5.0 (Windows NT 6.1; WOW64) AppleWebKit/536.3 (KHTML, like Gecko) Chrome/19.0.1061.1 Safari/536.3\",\n",
    "        \"Mozilla/5.0 (Windows NT 6.1) AppleWebKit/536.3 (KHTML, like Gecko) Chrome/19.0.1061.1 Safari/536.3\",\n",
    "        \"Mozilla/5.0 (Windows NT 6.2) AppleWebKit/536.3 (KHTML, like Gecko) Chrome/19.0.1061.0 Safari/536.3\",\n",
    "        \"Mozilla/5.0 (X11; Linux x86_64) AppleWebKit/535.24 (KHTML, like Gecko) Chrome/19.0.1055.1 Safari/535.24\",\n",
    "        \"Mozilla/5.0 (Windows NT 6.2; WOW64) AppleWebKit/535.24 (KHTML, like Gecko) Chrome/19.0.1055.1 Safari/535.24\"\n",
    "    ]\n",
    "\n",
    "    query_extract_title = XPATH_TITLE\n",
    "    query_extract_text =  XPATH_CONTENT\n",
    "\n",
    "    def _init_(self):\n",
    "        pass\n",
    "   \n",
    "    def get(self,url):\n",
    "        headers = {'user-agent':random.choice(self.USER_AGENT_LIST) }\n",
    "        session = HTMLSession()\n",
    "        response = session.get(url,headers=headers) \n",
    "        return response\n",
    "    \n",
    "    def clean_text(self, html_text):\n",
    "        text_without_tags = w3lib.html.remove_tags(html_text)\n",
    "        text_without_escape_chars = w3lib.html.replace_escape_chars(text_without_tags)\n",
    "        text_without_escape_chars = html.unescape(text_without_escape_chars)\n",
    "        text_without_whitespace = text_without_escape_chars.strip()\n",
    "        return text_without_whitespace\n",
    "\n",
    "    \n",
    "    #### main function ####\n",
    "    def parse(self, response):\n",
    "        \n",
    "        #URL\n",
    "        self.news_url = response.url\n",
    "        \n",
    "        #TITLE\n",
    "        self.news_title = response.html.xpath(self.query_extract_title)[0].text\n",
    "        self.news_title = self.clean_text(self.news_title)\n",
    "       \n",
    "        \n",
    "        #CONTENT\n",
    "        self.news_text = \"\"\n",
    "        \n",
    "        html_paragraphs = response.html.xpath(self.query_extract_text)\n",
    "        \n",
    "        for paragraph in html_paragraphs:\n",
    "            paragraph_content = w3lib.html.remove_tags(paragraph.text)    \n",
    "            text_cleaned = self.clean_text(paragraph_content)\n",
    "            self.news_text = self.news_text+text_cleaned\n"
   ]
  },
  {
   "cell_type": "code",
   "execution_count": 9,
   "id": "d9482704",
   "metadata": {},
   "outputs": [],
   "source": [
    "scraper = Scraper()\n",
    "response =scraper.get(URL_NEWS)"
   ]
  },
  {
   "cell_type": "code",
   "execution_count": 10,
   "id": "d72bc32e",
   "metadata": {},
   "outputs": [],
   "source": [
    "scraper.parse(response)"
   ]
  },
  {
   "cell_type": "code",
   "execution_count": 11,
   "id": "a2e4d401",
   "metadata": {},
   "outputs": [
    {
     "data": {
      "text/plain": [
       "'Quillota: En tiempo récord capturan a los autores de robo de un colectivo'"
      ]
     },
     "execution_count": 11,
     "metadata": {},
     "output_type": "execute_result"
    }
   ],
   "source": [
    "scraper.news_title"
   ]
  },
  {
   "cell_type": "code",
   "execution_count": 12,
   "id": "162264db",
   "metadata": {},
   "outputs": [
    {
     "data": {
      "text/plain": [
       "'La víctima fue abordada en pleno centro por dos sujetos que le sustraen el vehículo y se dan a la fuga. Previamente los imputados habían robado a un dependiente de un café en el centro de Quillota.Oficiales de la Brigada de Investigación Criminal – Bicrim – Quillota, de la Policía de Investigaciones de Chile, detuvieron a dos sujetos quienes intimidaron con un cuchillo a un chofer de colectivo para sustraerle su automóvil.De acuerdo a los antecedentes de la investigación, mientras el colectivero se trasladaba en la esquina de las calles Pudeto con Freire, fue abordado por dos sujetos quienes le sustraen el móvil para luego darse a la fuga.Los oficiales de la PDI al ser alertados, iniciaron la búsqueda del vehículo logrando recuperarlo y detener a los autores D.S.Z.F. (18) y SE.F.O. (22), quienes fueron puestos a disposición del Tribunal de Garantía por el delito de robo con intimidación.Cabe destacar que, al registro de las vestimentas, se encontró un teléfono celular que había sido recientemente robado a una dependienta de un café de la comuna.El jefe de la Bicrim Quillota, subprefecto Wladimir Benavides, explicó que «Una vez en custodia por parte de los detectives de los detenidos y el análisis criminalístico de las especies que portaban, se determinó que un teléfono celular que mantenía uno de los involucrados, correspondía a una especie sustraía mediante robo con intimidación a una dependienta de un café en el sector de calle O’Higgins de la comuna».Comparte \\xa0 \\xa0 La víctima fue abordada en pleno centro por dos sujetos que le sustraen el vehículo y se dan a la fuga.Comparte \\xa0 \\xa0 El 50% del daño solar se produce antes de los 18 años. El médico general de Urgencias de Clínica Los Leones,'"
      ]
     },
     "execution_count": 12,
     "metadata": {},
     "output_type": "execute_result"
    }
   ],
   "source": [
    "scraper.news_text"
   ]
  },
  {
   "cell_type": "code",
   "execution_count": 13,
   "id": "a455d5d3",
   "metadata": {},
   "outputs": [],
   "source": [
    "#Verificamos que el scraper devuelve algo\n",
    "assert(len(scraper.news_title)>0)\n",
    "assert(len(scraper.news_text)>0)"
   ]
  },
  {
   "cell_type": "code",
   "execution_count": 14,
   "id": "524ce41b",
   "metadata": {},
   "outputs": [
    {
     "data": {
      "text/html": [
       "<div>\n",
       "<style scoped>\n",
       "    .dataframe tbody tr th:only-of-type {\n",
       "        vertical-align: middle;\n",
       "    }\n",
       "\n",
       "    .dataframe tbody tr th {\n",
       "        vertical-align: top;\n",
       "    }\n",
       "\n",
       "    .dataframe thead th {\n",
       "        text-align: right;\n",
       "    }\n",
       "</style>\n",
       "<table border=\"1\" class=\"dataframe\">\n",
       "  <thead>\n",
       "    <tr style=\"text-align: right;\">\n",
       "      <th></th>\n",
       "      <th>url</th>\n",
       "      <th>title</th>\n",
       "      <th>content</th>\n",
       "    </tr>\n",
       "  </thead>\n",
       "  <tbody>\n",
       "    <tr>\n",
       "      <th>0</th>\n",
       "      <td>https://www.masnoticia.cl/2022/04/07/quillota-...</td>\n",
       "      <td>Quillota: En tiempo récord capturan a los auto...</td>\n",
       "      <td>La víctima fue abordada en pleno centro por do...</td>\n",
       "    </tr>\n",
       "  </tbody>\n",
       "</table>\n",
       "</div>"
      ],
      "text/plain": [
       "                                                 url  \\\n",
       "0  https://www.masnoticia.cl/2022/04/07/quillota-...   \n",
       "\n",
       "                                               title  \\\n",
       "0  Quillota: En tiempo récord capturan a los auto...   \n",
       "\n",
       "                                             content  \n",
       "0  La víctima fue abordada en pleno centro por do...  "
      ]
     },
     "execution_count": 14,
     "metadata": {},
     "output_type": "execute_result"
    }
   ],
   "source": [
    "df = pd.DataFrame(data={'url': [URL_NEWS],'title':[scraper.news_title], 'content':[scraper.news_text]})\n",
    "df"
   ]
  },
  {
   "cell_type": "code",
   "execution_count": 15,
   "id": "267a48c8",
   "metadata": {},
   "outputs": [
    {
     "data": {
      "application/vnd.jupyter.widget-view+json": {
       "model_id": "63a3a7659b9247ae8fcbae15b095c902",
       "version_major": 2,
       "version_minor": 0
      },
      "text/plain": [
       "  0%|          | 0/30 [00:00<?, ?it/s]"
      ]
     },
     "metadata": {},
     "output_type": "display_data"
    }
   ],
   "source": [
    "XPATH_TITLE = \"//h1[@class='entry-title']\"\n",
    "XPATH_CONTENT =\"//div[@class='entry-content']//p\"\n",
    "\n",
    "for url in tqdm(urls):\n",
    "    URL_NEWS = url\n",
    "    scraper = Scraper()\n",
    "    response =scraper.get(URL_NEWS)\n",
    "    scraper.parse(response)\n",
    "    df1 = pd.DataFrame(data={'url': url, 'title':scraper.news_title, 'content':scraper.news_text},index=['url', 'title', 'content'])\n",
    "    df = df.append(df1, ignore_index=True)\n",
    "df = df.drop_duplicates()\n"
   ]
  },
  {
   "cell_type": "code",
   "execution_count": 16,
   "id": "e9c55424",
   "metadata": {},
   "outputs": [
    {
     "data": {
      "text/html": [
       "<div>\n",
       "<style scoped>\n",
       "    .dataframe tbody tr th:only-of-type {\n",
       "        vertical-align: middle;\n",
       "    }\n",
       "\n",
       "    .dataframe tbody tr th {\n",
       "        vertical-align: top;\n",
       "    }\n",
       "\n",
       "    .dataframe thead th {\n",
       "        text-align: right;\n",
       "    }\n",
       "</style>\n",
       "<table border=\"1\" class=\"dataframe\">\n",
       "  <thead>\n",
       "    <tr style=\"text-align: right;\">\n",
       "      <th></th>\n",
       "      <th>url</th>\n",
       "      <th>title</th>\n",
       "      <th>content</th>\n",
       "    </tr>\n",
       "  </thead>\n",
       "  <tbody>\n",
       "    <tr>\n",
       "      <th>0</th>\n",
       "      <td>https://www.masnoticia.cl/2022/04/07/quillota-...</td>\n",
       "      <td>Quillota: En tiempo récord capturan a los auto...</td>\n",
       "      <td>La víctima fue abordada en pleno centro por do...</td>\n",
       "    </tr>\n",
       "    <tr>\n",
       "      <th>4</th>\n",
       "      <td>https://www.masnoticia.cl/2022/04/06/quintero-...</td>\n",
       "      <td>Quintero: Confirman fallecimiento de pescador ...</td>\n",
       "      <td>El deceso se habría producido por causas natur...</td>\n",
       "    </tr>\n",
       "    <tr>\n",
       "      <th>7</th>\n",
       "      <td>https://www.masnoticia.cl/2022/04/06/la-calera...</td>\n",
       "      <td>La Calera: Diez Selecciones llegan al Sudameri...</td>\n",
       "      <td>Este encuentro deportivo internacional se llev...</td>\n",
       "    </tr>\n",
       "    <tr>\n",
       "      <th>10</th>\n",
       "      <td>https://www.masnoticia.cl/2022/04/05/quintero-...</td>\n",
       "      <td>Quintero: Municipio compromete mesa de trabajo...</td>\n",
       "      <td>Alcaldía y estudiantes movilizados acuerdan ho...</td>\n",
       "    </tr>\n",
       "    <tr>\n",
       "      <th>13</th>\n",
       "      <td>https://www.masnoticia.cl/2022/04/05/san-felip...</td>\n",
       "      <td>San Felipe: Municipalidad y Bomberos definen a...</td>\n",
       "      <td>Alcaldesa Castillo se compromete a acelerar lo...</td>\n",
       "    </tr>\n",
       "    <tr>\n",
       "      <th>16</th>\n",
       "      <td>https://www.masnoticia.cl/2022/04/01/quintero-...</td>\n",
       "      <td>Quintero: Fiscalizan instalaciones de Codelco ...</td>\n",
       "      <td>Municipio dispuso mantener las clases en los e...</td>\n",
       "    </tr>\n",
       "    <tr>\n",
       "      <th>19</th>\n",
       "      <td>https://www.masnoticia.cl/2022/04/01/la-calera...</td>\n",
       "      <td>La Calera: Iluminan de azul en el mes de la Co...</td>\n",
       "      <td>A partir del jueves 31 de marzo se iluminaron ...</td>\n",
       "    </tr>\n",
       "    <tr>\n",
       "      <th>22</th>\n",
       "      <td>https://www.masnoticia.cl/2022/03/31/quintero-...</td>\n",
       "      <td>Quintero: Capitanía de Puerto entrega aviso es...</td>\n",
       "      <td>Fuerte viento en el área oceánica generará ole...</td>\n",
       "    </tr>\n",
       "    <tr>\n",
       "      <th>25</th>\n",
       "      <td>https://www.masnoticia.cl/2022/03/31/quintero-...</td>\n",
       "      <td>Quintero: Proanimal inició campaña de desparas...</td>\n",
       "      <td>Bajo el slogan “colitas protegidas todo el año...</td>\n",
       "    </tr>\n",
       "    <tr>\n",
       "      <th>28</th>\n",
       "      <td>https://www.masnoticia.cl/2022/03/31/quillota-...</td>\n",
       "      <td>Quillota: Detienen a sujeto por presunta respo...</td>\n",
       "      <td>Tras su desaparición el 29 de marzo, la madre ...</td>\n",
       "    </tr>\n",
       "    <tr>\n",
       "      <th>61</th>\n",
       "      <td>https://www.masnoticia.cl/2022/03/31/vina-del-...</td>\n",
       "      <td>Viña del Mar: Detienen a trabajador de edifici...</td>\n",
       "      <td>Personal de la PDI Valparaíso procedió a la de...</td>\n",
       "    </tr>\n",
       "    <tr>\n",
       "      <th>64</th>\n",
       "      <td>https://www.masnoticia.cl/2022/03/31/la-ligua-...</td>\n",
       "      <td>La Ligua: Este domingo se realiza la “Corrida ...</td>\n",
       "      <td>Evento deportivo tiene como objetivo sensibili...</td>\n",
       "    </tr>\n",
       "    <tr>\n",
       "      <th>67</th>\n",
       "      <td>https://www.masnoticia.cl/2022/03/30/quintero-...</td>\n",
       "      <td>Quintero: Vecinos entregan a Alcalde y Concejo...</td>\n",
       "      <td>Previamente se manifestaron por el centro de Q...</td>\n",
       "    </tr>\n",
       "    <tr>\n",
       "      <th>70</th>\n",
       "      <td>https://www.masnoticia.cl/2022/03/30/v-region-...</td>\n",
       "      <td>V región: Revelan imagen satelital que muestra...</td>\n",
       "      <td>La imagen compara dos fotografías satelitales ...</td>\n",
       "    </tr>\n",
       "    <tr>\n",
       "      <th>73</th>\n",
       "      <td>https://www.masnoticia.cl/2022/03/30/valparais...</td>\n",
       "      <td>Valparaíso: Detienen a joven autor de homicidi...</td>\n",
       "      <td>El detenido por la PDI Valparaíso es de nacion...</td>\n",
       "    </tr>\n",
       "    <tr>\n",
       "      <th>76</th>\n",
       "      <td>https://www.masnoticia.cl/2022/03/30/la-calera...</td>\n",
       "      <td>La Calera: Este viernes el geógrafo Marcelo La...</td>\n",
       "      <td>La actividad es organizada por la Oficina Muni...</td>\n",
       "    </tr>\n",
       "    <tr>\n",
       "      <th>79</th>\n",
       "      <td>https://www.masnoticia.cl/2022/03/29/quintero-...</td>\n",
       "      <td>Quintero: Segundo Tribunal Ambiental elabora p...</td>\n",
       "      <td>Los ministros se reunieron con el alcalde Maur...</td>\n",
       "    </tr>\n",
       "    <tr>\n",
       "      <th>82</th>\n",
       "      <td>https://www.masnoticia.cl/2022/03/29/v-region-...</td>\n",
       "      <td>V región: Gobernador y dirigentes del transpor...</td>\n",
       "      <td>Óscar Cantero, presidente de la Confederación ...</td>\n",
       "    </tr>\n",
       "    <tr>\n",
       "      <th>85</th>\n",
       "      <td>https://www.masnoticia.cl/2022/03/29/zapallar-...</td>\n",
       "      <td>Zapallar: Incautan más de 100 plantas de canna...</td>\n",
       "      <td>En el procedimiento de la PDI se detuvo a un h...</td>\n",
       "    </tr>\n",
       "    <tr>\n",
       "      <th>88</th>\n",
       "      <td>https://www.masnoticia.cl/2022/03/28/quintero-...</td>\n",
       "      <td>Quintero: Autoridades comunales y policiales c...</td>\n",
       "      <td>Mientras vecinos convocan a la marcha “Quinter...</td>\n",
       "    </tr>\n",
       "  </tbody>\n",
       "</table>\n",
       "</div>"
      ],
      "text/plain": [
       "                                                  url  \\\n",
       "0   https://www.masnoticia.cl/2022/04/07/quillota-...   \n",
       "4   https://www.masnoticia.cl/2022/04/06/quintero-...   \n",
       "7   https://www.masnoticia.cl/2022/04/06/la-calera...   \n",
       "10  https://www.masnoticia.cl/2022/04/05/quintero-...   \n",
       "13  https://www.masnoticia.cl/2022/04/05/san-felip...   \n",
       "16  https://www.masnoticia.cl/2022/04/01/quintero-...   \n",
       "19  https://www.masnoticia.cl/2022/04/01/la-calera...   \n",
       "22  https://www.masnoticia.cl/2022/03/31/quintero-...   \n",
       "25  https://www.masnoticia.cl/2022/03/31/quintero-...   \n",
       "28  https://www.masnoticia.cl/2022/03/31/quillota-...   \n",
       "61  https://www.masnoticia.cl/2022/03/31/vina-del-...   \n",
       "64  https://www.masnoticia.cl/2022/03/31/la-ligua-...   \n",
       "67  https://www.masnoticia.cl/2022/03/30/quintero-...   \n",
       "70  https://www.masnoticia.cl/2022/03/30/v-region-...   \n",
       "73  https://www.masnoticia.cl/2022/03/30/valparais...   \n",
       "76  https://www.masnoticia.cl/2022/03/30/la-calera...   \n",
       "79  https://www.masnoticia.cl/2022/03/29/quintero-...   \n",
       "82  https://www.masnoticia.cl/2022/03/29/v-region-...   \n",
       "85  https://www.masnoticia.cl/2022/03/29/zapallar-...   \n",
       "88  https://www.masnoticia.cl/2022/03/28/quintero-...   \n",
       "\n",
       "                                                title  \\\n",
       "0   Quillota: En tiempo récord capturan a los auto...   \n",
       "4   Quintero: Confirman fallecimiento de pescador ...   \n",
       "7   La Calera: Diez Selecciones llegan al Sudameri...   \n",
       "10  Quintero: Municipio compromete mesa de trabajo...   \n",
       "13  San Felipe: Municipalidad y Bomberos definen a...   \n",
       "16  Quintero: Fiscalizan instalaciones de Codelco ...   \n",
       "19  La Calera: Iluminan de azul en el mes de la Co...   \n",
       "22  Quintero: Capitanía de Puerto entrega aviso es...   \n",
       "25  Quintero: Proanimal inició campaña de desparas...   \n",
       "28  Quillota: Detienen a sujeto por presunta respo...   \n",
       "61  Viña del Mar: Detienen a trabajador de edifici...   \n",
       "64  La Ligua: Este domingo se realiza la “Corrida ...   \n",
       "67  Quintero: Vecinos entregan a Alcalde y Concejo...   \n",
       "70  V región: Revelan imagen satelital que muestra...   \n",
       "73  Valparaíso: Detienen a joven autor de homicidi...   \n",
       "76  La Calera: Este viernes el geógrafo Marcelo La...   \n",
       "79  Quintero: Segundo Tribunal Ambiental elabora p...   \n",
       "82  V región: Gobernador y dirigentes del transpor...   \n",
       "85  Zapallar: Incautan más de 100 plantas de canna...   \n",
       "88  Quintero: Autoridades comunales y policiales c...   \n",
       "\n",
       "                                              content  \n",
       "0   La víctima fue abordada en pleno centro por do...  \n",
       "4   El deceso se habría producido por causas natur...  \n",
       "7   Este encuentro deportivo internacional se llev...  \n",
       "10  Alcaldía y estudiantes movilizados acuerdan ho...  \n",
       "13  Alcaldesa Castillo se compromete a acelerar lo...  \n",
       "16  Municipio dispuso mantener las clases en los e...  \n",
       "19  A partir del jueves 31 de marzo se iluminaron ...  \n",
       "22  Fuerte viento en el área oceánica generará ole...  \n",
       "25  Bajo el slogan “colitas protegidas todo el año...  \n",
       "28  Tras su desaparición el 29 de marzo, la madre ...  \n",
       "61  Personal de la PDI Valparaíso procedió a la de...  \n",
       "64  Evento deportivo tiene como objetivo sensibili...  \n",
       "67  Previamente se manifestaron por el centro de Q...  \n",
       "70  La imagen compara dos fotografías satelitales ...  \n",
       "73  El detenido por la PDI Valparaíso es de nacion...  \n",
       "76  La actividad es organizada por la Oficina Muni...  \n",
       "79  Los ministros se reunieron con el alcalde Maur...  \n",
       "82  Óscar Cantero, presidente de la Confederación ...  \n",
       "85  En el procedimiento de la PDI se detuvo a un h...  \n",
       "88  Mientras vecinos convocan a la marcha “Quinter...  "
      ]
     },
     "execution_count": 16,
     "metadata": {},
     "output_type": "execute_result"
    }
   ],
   "source": [
    "df"
   ]
  },
  {
   "cell_type": "code",
   "execution_count": null,
   "id": "2e565eca",
   "metadata": {},
   "outputs": [],
   "source": []
  }
 ],
 "metadata": {
  "kernelspec": {
   "display_name": "Python 3 (ipykernel)",
   "language": "python",
   "name": "python3"
  },
  "language_info": {
   "codemirror_mode": {
    "name": "ipython",
    "version": 3
   },
   "file_extension": ".py",
   "mimetype": "text/x-python",
   "name": "python",
   "nbconvert_exporter": "python",
   "pygments_lexer": "ipython3",
   "version": "3.8.10"
  }
 },
 "nbformat": 4,
 "nbformat_minor": 5
}
