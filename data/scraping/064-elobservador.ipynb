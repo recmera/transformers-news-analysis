{
 "cells": [
  {
   "cell_type": "code",
   "execution_count": 1,
   "id": "e42c42ef",
   "metadata": {},
   "outputs": [],
   "source": [
    "import json\n",
    "import w3lib.html\n",
    "import random\n",
    "import os\n",
    "from datetime import datetime\n",
    "import requests\n",
    "import string\n",
    "import calendar\n",
    "import html\n",
    "import locale \n",
    "from requests_html import HTMLSession\n",
    "from requests_html import HTML\n",
    "import validators\n",
    "import pandas as pd\n",
    "from tqdm.notebook import tqdm\n",
    "\n",
    "import warnings\n",
    "warnings.filterwarnings('ignore')"
   ]
  },
  {
   "cell_type": "code",
   "execution_count": 2,
   "id": "79bb0b1d",
   "metadata": {},
   "outputs": [],
   "source": [
    "URL_SEED = 'http://www.observador.cl/category/actualidad/page/2/'\n",
    "XPATH_HREF = \"//h2/a/@href\""
   ]
  },
  {
   "cell_type": "code",
   "execution_count": 3,
   "id": "c8a6236e",
   "metadata": {},
   "outputs": [],
   "source": [
    "class Crawler():\n",
    "    \n",
    "    USER_AGENT_LIST = [\n",
    "        \"Mozilla/5.0 (Windows NT 6.1; WOW64) AppleWebKit/537.1 (KHTML, like Gecko) Chrome/22.0.1207.1 Safari/537.1\",\n",
    "        \"Mozilla/5.0 (X11; CrOS i686 2268.111.0) AppleWebKit/536.11 (KHTML, like Gecko) Chrome/20.0.1132.57 Safari/536.11\",\n",
    "        \"Mozilla/5.0 (Windows NT 6.1; WOW64) AppleWebKit/536.6 (KHTML, like Gecko) Chrome/20.0.1092.0 Safari/536.6\",\n",
    "        \"Mozilla/5.0 (Windows NT 6.2) AppleWebKit/536.6 (KHTML, like Gecko) Chrome/20.0.1090.0 Safari/536.6\",\n",
    "        \"Mozilla/5.0 (Windows NT 6.2; WOW64) AppleWebKit/537.1 (KHTML, like Gecko) Chrome/19.77.34.5 Safari/537.1\",\n",
    "        \"Mozilla/5.0 (X11; Linux x86_64) AppleWebKit/536.5 (KHTML, like Gecko) Chrome/19.0.1084.9 Safari/536.5\",\n",
    "        \"Mozilla/5.0 (Windows NT 6.0) AppleWebKit/536.5 (KHTML, like Gecko) Chrome/19.0.1084.36 Safari/536.5\",\n",
    "        \"Mozilla/5.0 (Windows NT 6.1; WOW64) AppleWebKit/536.3 (KHTML, like Gecko) Chrome/19.0.1063.0 Safari/536.3\",\n",
    "        \"Mozilla/5.0 (Windows NT 5.1) AppleWebKit/536.3 (KHTML, like Gecko) Chrome/19.0.1063.0 Safari/536.3\",\n",
    "        \"Mozilla/5.0 (Macintosh; Intel Mac OS X 10_8_0) AppleWebKit/536.3 (KHTML, like Gecko) Chrome/19.0.1063.0 Safari/536.3\",\n",
    "        \"Mozilla/5.0 (Windows NT 6.2) AppleWebKit/536.3 (KHTML, like Gecko) Chrome/19.0.1062.0 Safari/536.3\",\n",
    "        \"Mozilla/5.0 (Windows NT 6.1; WOW64) AppleWebKit/536.3 (KHTML, like Gecko) Chrome/19.0.1062.0 Safari/536.3\",\n",
    "        \"Mozilla/5.0 (Windows NT 6.2) AppleWebKit/536.3 (KHTML, like Gecko) Chrome/19.0.1061.1 Safari/536.3\",\n",
    "        \"Mozilla/5.0 (Windows NT 6.1; WOW64) AppleWebKit/536.3 (KHTML, like Gecko) Chrome/19.0.1061.1 Safari/536.3\",\n",
    "        \"Mozilla/5.0 (Windows NT 6.1) AppleWebKit/536.3 (KHTML, like Gecko) Chrome/19.0.1061.1 Safari/536.3\",\n",
    "        \"Mozilla/5.0 (Windows NT 6.2) AppleWebKit/536.3 (KHTML, like Gecko) Chrome/19.0.1061.0 Safari/536.3\",\n",
    "        \"Mozilla/5.0 (X11; Linux x86_64) AppleWebKit/535.24 (KHTML, like Gecko) Chrome/19.0.1055.1 Safari/535.24\",\n",
    "        \"Mozilla/5.0 (Windows NT 6.2; WOW64) AppleWebKit/535.24 (KHTML, like Gecko) Chrome/19.0.1055.1 Safari/535.24\"\n",
    "    ]\n",
    "\n",
    "    #Ruta XPATH hacia los enlaces que queremos recopilar\n",
    "    xpath_href=XPATH_HREF\n",
    "\n",
    "    #variable que permite listar todos los enlaces recopilado\n",
    "    url_list = []\n",
    "    \n",
    "    def _init_(self, URL_SEED, XPATH_HREF):        \n",
    "        pass\n",
    "\n",
    "    \n",
    "    def get(self,url):\n",
    "        session = HTMLSession()\n",
    "        header = dict()\n",
    "        header['user-agent'] = random.choice(self.USER_AGENT_LIST)\n",
    "        response = session.get(url,headers=header)        \n",
    "        return response\n",
    "    \n",
    "    def parse(self, response):\n",
    "        self.url_list = []\n",
    "        urls = response.html.xpath(self.xpath_href)\n",
    "        for url in urls:\n",
    "            self.url_list.append(url)\n"
   ]
  },
  {
   "cell_type": "code",
   "execution_count": 4,
   "id": "e016daec",
   "metadata": {
    "scrolled": true
   },
   "outputs": [
    {
     "data": {
      "application/vnd.jupyter.widget-view+json": {
       "model_id": "0ae0e15f6e364ce496e071749d3c4b58",
       "version_major": 2,
       "version_minor": 0
      },
      "text/plain": [
       "  0%|          | 0/3 [00:00<?, ?it/s]"
      ]
     },
     "metadata": {},
     "output_type": "display_data"
    },
    {
     "data": {
      "application/vnd.jupyter.widget-view+json": {
       "model_id": "d5a3d542594345549e4b6d2dcc29ed47",
       "version_major": 2,
       "version_minor": 0
      },
      "text/plain": [
       "  0%|          | 0/3 [00:00<?, ?it/s]"
      ]
     },
     "metadata": {},
     "output_type": "display_data"
    },
    {
     "data": {
      "application/vnd.jupyter.widget-view+json": {
       "model_id": "6b3be9a7a34c4525aa60fbcff528612d",
       "version_major": 2,
       "version_minor": 0
      },
      "text/plain": [
       "  0%|          | 0/3 [00:00<?, ?it/s]"
      ]
     },
     "metadata": {},
     "output_type": "display_data"
    },
    {
     "data": {
      "application/vnd.jupyter.widget-view+json": {
       "model_id": "2f306b68b1c6414db7c0fcc306048821",
       "version_major": 2,
       "version_minor": 0
      },
      "text/plain": [
       "  0%|          | 0/3 [00:00<?, ?it/s]"
      ]
     },
     "metadata": {},
     "output_type": "display_data"
    },
    {
     "data": {
      "application/vnd.jupyter.widget-view+json": {
       "model_id": "cfa7e7ed145b4cf092f3305099c00c98",
       "version_major": 2,
       "version_minor": 0
      },
      "text/plain": [
       "  0%|          | 0/3 [00:00<?, ?it/s]"
      ]
     },
     "metadata": {},
     "output_type": "display_data"
    },
    {
     "data": {
      "application/vnd.jupyter.widget-view+json": {
       "model_id": "766a7ec3a8d142deb33691747e20ed17",
       "version_major": 2,
       "version_minor": 0
      },
      "text/plain": [
       "  0%|          | 0/3 [00:00<?, ?it/s]"
      ]
     },
     "metadata": {},
     "output_type": "display_data"
    },
    {
     "data": {
      "application/vnd.jupyter.widget-view+json": {
       "model_id": "338fb1265a654b11981606572036972c",
       "version_major": 2,
       "version_minor": 0
      },
      "text/plain": [
       "  0%|          | 0/3 [00:00<?, ?it/s]"
      ]
     },
     "metadata": {},
     "output_type": "display_data"
    },
    {
     "data": {
      "application/vnd.jupyter.widget-view+json": {
       "model_id": "730f359a0fcf4551bc2a361141b1a887",
       "version_major": 2,
       "version_minor": 0
      },
      "text/plain": [
       "  0%|          | 0/3 [00:00<?, ?it/s]"
      ]
     },
     "metadata": {},
     "output_type": "display_data"
    },
    {
     "data": {
      "text/plain": [
       "['http://www.observador.cl/mascarilla-obligatoria-en-salas-de-clases-y-transporte-escolar-el-nuevo-anuncio-de-mineduc/',\n",
       " 'http://www.observador.cl/villa-alemana-inauguro-su-primera-planta-de-paneles-solares-asi-es-solarpark/',\n",
       " 'http://www.observador.cl/asi-es-la-marcha-blanca-de-la-locomocion-publica-al-hospital-biprovincial-quillota-petorca/',\n",
       " 'http://www.observador.cl/pavimentacion-de-calle-sargento-aldea-de-quillota-presenta-un-80-de-avance/',\n",
       " 'http://www.observador.cl/valparaiso-desconocidos-quemaron-simbolos-de-pueblos-originaros-en-la-plaza-ohiggins/',\n",
       " 'http://www.observador.cl/limachinos-sufren-funa-por-intento-de-secuestro-en-quillota-clonaron-la-patente-de-su-auto/',\n",
       " 'http://www.observador.cl/covid19-este-miercoles-confirman-426-nuevos-casos-en-la-region-de-valparaiso/',\n",
       " 'http://www.observador.cl/quillota-congelan-proyecto-de-ampliacion-ruta-f-360-hasta-ser-reformulado-junto-a-vecinos/',\n",
       " 'http://www.observador.cl/hospital-biprovincial-tendra-equipamiento-de-punta-para-unidad-de-imagenologia/',\n",
       " 'http://www.observador.cl/covid-hay-172-contagios-nuevos-y-una-persona-fallecida-en-la-region-de-valparaiso/',\n",
       " 'http://www.observador.cl/mascarilla-obligatoria-en-salas-de-clases-y-transporte-escolar-el-nuevo-anuncio-de-mineduc/',\n",
       " 'http://www.observador.cl/villa-alemana-inauguro-su-primera-planta-de-paneles-solares-asi-es-solarpark/',\n",
       " 'http://www.observador.cl/asi-es-la-marcha-blanca-de-la-locomocion-publica-al-hospital-biprovincial-quillota-petorca/',\n",
       " 'http://www.observador.cl/pavimentacion-de-calle-sargento-aldea-de-quillota-presenta-un-80-de-avance/',\n",
       " 'http://www.observador.cl/valparaiso-desconocidos-quemaron-simbolos-de-pueblos-originaros-en-la-plaza-ohiggins/',\n",
       " 'http://www.observador.cl/limachinos-sufren-funa-por-intento-de-secuestro-en-quillota-clonaron-la-patente-de-su-auto/',\n",
       " 'http://www.observador.cl/covid19-este-miercoles-confirman-426-nuevos-casos-en-la-region-de-valparaiso/',\n",
       " 'http://www.observador.cl/quillota-congelan-proyecto-de-ampliacion-ruta-f-360-hasta-ser-reformulado-junto-a-vecinos/',\n",
       " 'http://www.observador.cl/hospital-biprovincial-tendra-equipamiento-de-punta-para-unidad-de-imagenologia/',\n",
       " 'http://www.observador.cl/covid-hay-172-contagios-nuevos-y-una-persona-fallecida-en-la-region-de-valparaiso/',\n",
       " 'http://www.observador.cl/anuncios-minsal-no-sera-obligatorio-usar-mascarilla-en-espacios-abiertos-con-1-metro-de-distancia-social/',\n",
       " 'http://www.observador.cl/asi-es-el-calendario-de-vacunacion-contra-el-covid-19-de-esta-semana-2/',\n",
       " 'http://www.observador.cl/logran-controlar-incendio-en-laguna-verde-se-quemaron-mas-de-73-hectareas/',\n",
       " 'http://www.observador.cl/covid-hay-610-contagios-nuevos-y-cuatro-personas-fallecieron-en-la-region/',\n",
       " 'http://www.observador.cl/delegada-presidencial-confirmo-los-nombres-de-los-nuevos-seremis-de-la-region-de-valparaiso/',\n",
       " 'http://www.observador.cl/tercera-version-del-festival-jardin-sonoro-llega-a-los-jardines-del-palacio-vergara/',\n",
       " 'http://www.observador.cl/videos-ayuda-se-quema-mi-casa-impresionantes-imagenes-del-incendio-en-laguna-verde/',\n",
       " 'http://www.observador.cl/covid-reportan-618-casos-nuevos-y-2-451-contagios-activos-dentro-de-la-region/',\n",
       " 'http://www.observador.cl/placa-de-cuarzo-festival-llega-este-fin-de-semana-a-villa-alemana/',\n",
       " 'http://www.observador.cl/covid-informan-309-contagios-nuevos-y-ningun-fallecido-en-la-region-de-valparaiso/',\n",
       " 'http://www.observador.cl/video-capturan-al-ladron-de-la-caja-magica-en-vina-del-mar-mira-como-robaba/',\n",
       " 'http://www.observador.cl/detienen-a-sujetos-por-dos-robos-con-intimidacion-ocurridos-esta-manana-en-quillota/',\n",
       " 'http://www.observador.cl/asalto-en-quillota-roban-15-millones-a-gendarme-cuando-salio-del-banco/',\n",
       " 'http://www.observador.cl/vina-del-mar-se-lanzaron-por-quebrada-para-huir-de-carabineros-con-droga-en-un-calcetin/',\n",
       " 'http://www.observador.cl/carabineros-recupero-moto-robada-en-llay-llay-hay-un-detenido/',\n",
       " 'http://www.observador.cl/por-redes-sociales-vendian-extasis-ketamina-y-marihuana-en-valparaiso-y-vina-del-mar/',\n",
       " 'http://www.observador.cl/fotos-decomisan-casi-17-kilogramos-de-marihuana-en-dos-domicilios-de-olmue/',\n",
       " 'http://www.observador.cl/pdi-detuvo-a-4-personas-por-trafico-en-laguna-de-zapallar/',\n",
       " 'http://www.observador.cl/video-carabineros-incauta-11-armas-y-mas-de-300-envoltorios-de-droga-en-llay-llay/',\n",
       " 'http://www.observador.cl/arma-en-liceo-de-la-calera/',\n",
       " 'http://www.observador.cl/video-capturan-al-ladron-de-la-caja-magica-en-vina-del-mar-mira-como-robaba/',\n",
       " 'http://www.observador.cl/detienen-a-sujetos-por-dos-robos-con-intimidacion-ocurridos-esta-manana-en-quillota/',\n",
       " 'http://www.observador.cl/asalto-en-quillota-roban-15-millones-a-gendarme-cuando-salio-del-banco/',\n",
       " 'http://www.observador.cl/vina-del-mar-se-lanzaron-por-quebrada-para-huir-de-carabineros-con-droga-en-un-calcetin/',\n",
       " 'http://www.observador.cl/carabineros-recupero-moto-robada-en-llay-llay-hay-un-detenido/',\n",
       " 'http://www.observador.cl/por-redes-sociales-vendian-extasis-ketamina-y-marihuana-en-valparaiso-y-vina-del-mar/',\n",
       " 'http://www.observador.cl/fotos-decomisan-casi-17-kilogramos-de-marihuana-en-dos-domicilios-de-olmue/',\n",
       " 'http://www.observador.cl/pdi-detuvo-a-4-personas-por-trafico-en-laguna-de-zapallar/',\n",
       " 'http://www.observador.cl/video-carabineros-incauta-11-armas-y-mas-de-300-envoltorios-de-droga-en-llay-llay/',\n",
       " 'http://www.observador.cl/arma-en-liceo-de-la-calera/',\n",
       " 'http://www.observador.cl/pdi-impulsa-a-nivel-internacional-campana-fakecoins-estafas-con-criptomonedas/',\n",
       " 'http://www.observador.cl/carabineros-detuvo-a-dos-personas-mientras-intentaban-robar-una-joyeria-en-valparaiso/',\n",
       " 'http://www.observador.cl/en-vivienda-del-cerro-cordillera-encuentran-mas-de-60-articulos-electronicos-robados/',\n",
       " 'http://www.observador.cl/pdi-desbarato-foco-de-microtrafico-de-drogas-en-llay-llay/',\n",
       " 'http://www.observador.cl/region-de-valparaiso-cuenta-con-su-primera-jefa-regional-de-la-pdi/',\n",
       " 'http://www.observador.cl/carabineros-recupera-dos-vehiculos-con-encargo-por-robo-en-san-felipe/',\n",
       " 'http://www.observador.cl/por-redes-sociales-ofertaban-ketamina-extasis-y-popper-para-vender-en-vina-del-mar/',\n",
       " 'http://www.observador.cl/sorprenden-a-colombiano-y-argentino-vendiendo-cocaina-y-ketamina-en-vina-del-mar/',\n",
       " 'http://www.observador.cl/videos-hijuelas-os7-lo-detuvo-por-cultivar-marihuana-en-pleno-cerro-la-campana/',\n",
       " 'http://www.observador.cl/detienen-a-tres-sujetos-que-llevaban-pistola-y-escopeta-en-la-via-publica-en-quillota/',\n",
       " 'http://www.observador.cl/video-capturan-al-ladron-de-la-caja-magica-en-vina-del-mar-mira-como-robaba/',\n",
       " 'http://www.observador.cl/covid-informan-425-casos-nuevos-y-dos-fallecimientos-en-la-region-de-valparaiso/',\n",
       " 'http://www.observador.cl/carabinero-condujo-hasta-el-hospital-tras-ser-apunalado-en-valparaiso/',\n",
       " 'http://www.observador.cl/valparaiso-desconocidos-quemaron-simbolos-de-pueblos-originaros-en-la-plaza-ohiggins/',\n",
       " 'http://www.observador.cl/covid19-este-miercoles-confirman-426-nuevos-casos-en-la-region-de-valparaiso/',\n",
       " 'http://www.observador.cl/pescador-artesanal-de-67-anos-fallecio-en-la-caleta-el-manzano-de-quintero/',\n",
       " 'http://www.observador.cl/musico-conconino-feli-murillo-presenta-la-foto-de-mi-nogal-un-mensaje-de-tranquilidad-y-paz/',\n",
       " 'http://www.observador.cl/lapidante-deficit-de-lluvias-bordea-el-100-en-la-region-de-valparaiso/',\n",
       " 'http://www.observador.cl/gremio-de-los-espectaculos-celebra-cambios-en-aforos-chile-vuelve-al-concierto-internacional/',\n",
       " 'http://www.observador.cl/confirman-altos-niveles-de-hidrocarburos-en-vertimiento-ocurrido-en-vina-del-mar/',\n",
       " 'http://www.observador.cl/video-capturan-al-ladron-de-la-caja-magica-en-vina-del-mar-mira-como-robaba/',\n",
       " 'http://www.observador.cl/covid-informan-425-casos-nuevos-y-dos-fallecimientos-en-la-region-de-valparaiso/',\n",
       " 'http://www.observador.cl/carabinero-condujo-hasta-el-hospital-tras-ser-apunalado-en-valparaiso/',\n",
       " 'http://www.observador.cl/valparaiso-desconocidos-quemaron-simbolos-de-pueblos-originaros-en-la-plaza-ohiggins/',\n",
       " 'http://www.observador.cl/covid19-este-miercoles-confirman-426-nuevos-casos-en-la-region-de-valparaiso/',\n",
       " 'http://www.observador.cl/pescador-artesanal-de-67-anos-fallecio-en-la-caleta-el-manzano-de-quintero/',\n",
       " 'http://www.observador.cl/musico-conconino-feli-murillo-presenta-la-foto-de-mi-nogal-un-mensaje-de-tranquilidad-y-paz/',\n",
       " 'http://www.observador.cl/lapidante-deficit-de-lluvias-bordea-el-100-en-la-region-de-valparaiso/',\n",
       " 'http://www.observador.cl/gremio-de-los-espectaculos-celebra-cambios-en-aforos-chile-vuelve-al-concierto-internacional/',\n",
       " 'http://www.observador.cl/confirman-altos-niveles-de-hidrocarburos-en-vertimiento-ocurrido-en-vina-del-mar/',\n",
       " 'http://www.observador.cl/vina-del-mar-se-lanzaron-por-quebrada-para-huir-de-carabineros-con-droga-en-un-calcetin/',\n",
       " 'http://www.observador.cl/semana-santa-fiscalizaron-mas-de-100-puestos-y-pescaderias-de-la-region-el-fin-de-semana/',\n",
       " 'http://www.observador.cl/por-redes-sociales-vendian-extasis-ketamina-y-marihuana-en-valparaiso-y-vina-del-mar/',\n",
       " 'http://www.observador.cl/dirigentes-del-gremio-colectivero-discutieron-problemas-de-seguridad-con-autoridades-regionales/',\n",
       " 'http://www.observador.cl/advierten-sobre-virus-sincicial-en-infantes-es-mas-fuerte-que-el-coronavirus/',\n",
       " 'http://www.observador.cl/colectiveros-en-caravana-desde-penablanca-a-valparaiso-exigen-seguridad-al-gobierno-regional/',\n",
       " 'http://www.observador.cl/centro-teleton-de-valparaiso-cumplio-40-anos-rehabilitando-a-ninos-ninas-y-jovenes/',\n",
       " 'http://www.observador.cl/capturarona-joven-con-siete-ordenes-de-detencion-por-robos-y-hurtos/',\n",
       " 'http://www.observador.cl/logran-controlar-incendio-en-laguna-verde-se-quemaron-mas-de-73-hectareas/',\n",
       " 'http://www.observador.cl/video-quintero-y-puchuncavi-suspendio-clases-de-deportes-por-falla-en-codelco-ventanas/',\n",
       " 'http://www.observador.cl/orquesta-clasica-y-coro-de-camara-pucv-daran-conciertos-de-semana-santa-en-limache-y-vina/',\n",
       " 'http://www.observador.cl/personal-de-seguridad-ciudadana-detuvo-a-hombre-que-asalto-a-mujeres-en-limache/',\n",
       " 'http://www.observador.cl/villa-alemana-inauguro-su-primera-planta-de-paneles-solares-asi-es-solarpark/',\n",
       " 'http://www.observador.cl/limache-hombre-de-38-anos-detenido-por-almacenamiento-de-pornografia-infantil/',\n",
       " 'http://www.observador.cl/movilh-denuncia-agresion-a-escolar-del-colegio-aleman-de-villa-alemana-por-condicion-sexual/',\n",
       " 'http://www.observador.cl/limachinos-sufren-funa-por-intento-de-secuestro-en-quillota-clonaron-la-patente-de-su-auto/',\n",
       " 'http://www.observador.cl/limache-modernizaran-cuartel-de-la-brigada-de-investigacion-criminal-de-la-pdi/',\n",
       " 'http://www.observador.cl/llega-la-fiesta-de-la-vendimia-a-cuatro-comunas-de-la-region-este-fin-de-semana/',\n",
       " 'http://www.observador.cl/entregan-reconocimiento-a-10-mujeres-deportistas-de-quilpue/',\n",
       " 'http://www.observador.cl/fotos-decomisan-casi-17-kilogramos-de-marihuana-en-dos-domicilios-de-olmue/',\n",
       " 'http://www.observador.cl/orquesta-clasica-y-coro-de-camara-pucv-daran-conciertos-de-semana-santa-en-limache-y-vina/',\n",
       " 'http://www.observador.cl/personal-de-seguridad-ciudadana-detuvo-a-hombre-que-asalto-a-mujeres-en-limache/',\n",
       " 'http://www.observador.cl/villa-alemana-inauguro-su-primera-planta-de-paneles-solares-asi-es-solarpark/',\n",
       " 'http://www.observador.cl/limache-hombre-de-38-anos-detenido-por-almacenamiento-de-pornografia-infantil/',\n",
       " 'http://www.observador.cl/movilh-denuncia-agresion-a-escolar-del-colegio-aleman-de-villa-alemana-por-condicion-sexual/',\n",
       " 'http://www.observador.cl/limachinos-sufren-funa-por-intento-de-secuestro-en-quillota-clonaron-la-patente-de-su-auto/',\n",
       " 'http://www.observador.cl/limache-modernizaran-cuartel-de-la-brigada-de-investigacion-criminal-de-la-pdi/',\n",
       " 'http://www.observador.cl/llega-la-fiesta-de-la-vendimia-a-cuatro-comunas-de-la-region-este-fin-de-semana/',\n",
       " 'http://www.observador.cl/entregan-reconocimiento-a-10-mujeres-deportistas-de-quilpue/',\n",
       " 'http://www.observador.cl/fotos-decomisan-casi-17-kilogramos-de-marihuana-en-dos-domicilios-de-olmue/',\n",
       " 'http://www.observador.cl/colectiveros-en-caravana-desde-penablanca-a-valparaiso-exigen-seguridad-al-gobierno-regional/',\n",
       " 'http://www.observador.cl/confirman-dos-nuevos-detenidos-vinculados-a-la-desaparicion-de-juan-gonzalez/',\n",
       " 'http://www.observador.cl/reportan-incendio-en-limache-se-queman-dos-viviendas/',\n",
       " 'http://www.observador.cl/quilpue-caducan-los-permisos-de-edificacion-de-proyectos-inmobiliarios-de-casi-30-mil-m%c2%b2/',\n",
       " 'http://www.observador.cl/narcoagricultores-asi-es-el-cultivo-de-cannabis-sativa-descubierto-en-olmue-fotos/',\n",
       " 'http://www.observador.cl/video-buscan-la-instalacion-de-semaforo-en-transitado-enlace-de-quebrada-escobares/',\n",
       " 'http://www.observador.cl/videos-robaron-vehiculo-fiscal-y-protagonizaron-grave-accidente-en-limache/',\n",
       " 'http://www.observador.cl/jose-antonio-neme-cuestiono-a-mujer-que-se-tomo-una-casa-en-quilpue-asi-fue-el-momento/',\n",
       " 'http://www.observador.cl/placa-de-cuarzo-festival-llega-este-fin-de-semana-a-villa-alemana/',\n",
       " 'http://www.observador.cl/municipio-de-quilpue-refuerza-protocolos-de-accion-para-abordar-la-violencia-escolar/',\n",
       " 'http://www.observador.cl/hombre-es-encontrado-sin-vida-cerca-del-rio-aconcagua-en-quillota/',\n",
       " 'http://www.observador.cl/encuentran-a-ladron-durmiendo-al-interior-de-la-escuela-palestina-de-la-calera/',\n",
       " 'http://www.observador.cl/de-quillota-a-valparaiso-asi-es-la-propuesta-de-empresa-para-trasladar-a-estudiantes-y-trabajadores/',\n",
       " 'http://www.observador.cl/la-calera-invitan-a-ninos-y-ninas-a-buscar-huevitos-en-los-jardines-del-municipio/',\n",
       " 'http://www.observador.cl/nogales-fueron-sorprendidos-con-13-mil-dosis-de-marihuana-gracias-a-olfato-de-can-policial/',\n",
       " 'http://www.observador.cl/detenienen-a-sujetos-que-tendrian-participacion-en-robo-de-colegio-quillotano/',\n",
       " 'http://www.observador.cl/asi-es-la-marcha-blanca-de-la-locomocion-publica-al-hospital-biprovincial-quillota-petorca/',\n",
       " 'http://www.observador.cl/pavimentacion-de-calle-sargento-aldea-de-quillota-presenta-un-80-de-avance/',\n",
       " 'http://www.observador.cl/detienen-a-sujetos-por-dos-robos-con-intimidacion-ocurridos-esta-manana-en-quillota/',\n",
       " 'http://www.observador.cl/serie-de-robos-afecta-al-centro-de-quillota-en-pocas-horas-huida-derivo-en-accidente-de-transito/',\n",
       " 'http://www.observador.cl/hombre-es-encontrado-sin-vida-cerca-del-rio-aconcagua-en-quillota/',\n",
       " 'http://www.observador.cl/encuentran-a-ladron-durmiendo-al-interior-de-la-escuela-palestina-de-la-calera/',\n",
       " 'http://www.observador.cl/de-quillota-a-valparaiso-asi-es-la-propuesta-de-empresa-para-trasladar-a-estudiantes-y-trabajadores/',\n",
       " 'http://www.observador.cl/la-calera-invitan-a-ninos-y-ninas-a-buscar-huevitos-en-los-jardines-del-municipio/',\n",
       " 'http://www.observador.cl/nogales-fueron-sorprendidos-con-13-mil-dosis-de-marihuana-gracias-a-olfato-de-can-policial/',\n",
       " 'http://www.observador.cl/detenienen-a-sujetos-que-tendrian-participacion-en-robo-de-colegio-quillotano/',\n",
       " 'http://www.observador.cl/asi-es-la-marcha-blanca-de-la-locomocion-publica-al-hospital-biprovincial-quillota-petorca/',\n",
       " 'http://www.observador.cl/pavimentacion-de-calle-sargento-aldea-de-quillota-presenta-un-80-de-avance/',\n",
       " 'http://www.observador.cl/detienen-a-sujetos-por-dos-robos-con-intimidacion-ocurridos-esta-manana-en-quillota/',\n",
       " 'http://www.observador.cl/serie-de-robos-afecta-al-centro-de-quillota-en-pocas-horas-huida-derivo-en-accidente-de-transito/',\n",
       " 'http://www.observador.cl/limachinos-sufren-funa-por-intento-de-secuestro-en-quillota-clonaron-la-patente-de-su-auto/',\n",
       " 'http://www.observador.cl/saludquillota-implementa-nuevo-horario-para-la-toma-de-pcr-en-la-comuna/',\n",
       " 'http://www.observador.cl/intentos-de-sucuestro-en-quillota-uno-se-investiga-y-del-otro-no-hay-confirmacion/',\n",
       " 'http://www.observador.cl/quillota-congelan-proyecto-de-ampliacion-ruta-f-360-hasta-ser-reformulado-junto-a-vecinos/',\n",
       " 'http://www.observador.cl/tres-robos-en-3-dias-millonario-botin-se-llevaron-del-colegio-nino-jesus-de-praga-de-quillota/',\n",
       " 'http://www.observador.cl/union-la-calera-rescato-positivo-empate-en-quito-por-copa-sudamericana/',\n",
       " 'http://www.observador.cl/hospital-biprovincial-tendra-equipamiento-de-punta-para-unidad-de-imagenologia/',\n",
       " 'http://www.observador.cl/investigan-posible-intento-de-secuestro-de-profesora-afuera-de-su-colegio/',\n",
       " 'http://www.observador.cl/quillota-hallaron-mas-de-300-plantas-de-cannabis-mientras-investigaban-otro-delito/',\n",
       " 'http://www.observador.cl/la-cruz-hasta-el-lunes-podran-postular-estudiantes-de-educacion-superior-a-beca-municipal/',\n",
       " 'http://www.observador.cl/cabildo-celebrara-el-dia-mundial-del-deporte-y-la-actividad-fisica-con-corrida-familiar/',\n",
       " 'http://www.observador.cl/anuncian-cierres-programados-para-ambos-sentidos-del-tunel-el-melon/',\n",
       " 'http://www.observador.cl/videos-la-ligua-vivio-alegre-corrida-de-colores-por-el-buen-trato-hacia-la-ninez/',\n",
       " 'http://www.observador.cl/mil-esterilizaciones-gratuitas-para-mascotas-se-realizaran-en-papudo/',\n",
       " 'http://www.observador.cl/pdi-detuvo-a-4-personas-por-trafico-en-laguna-de-zapallar/',\n",
       " 'http://www.observador.cl/carabineros-decomisa-mas-de-19-kilos-de-marihuana-desde-una-vivienda-en-petorca/',\n",
       " 'http://www.observador.cl/video-pdi-decomiso-mas-de-100-plantas-de-marihuana-en-zapallar-hay-un-detenido/',\n",
       " 'http://www.observador.cl/la-ligua-mujer-fallecio-tras-atropello-cuando-cruzaba-la-ruta-5-norte/',\n",
       " 'http://www.observador.cl/el-miercoles-parten-encuestas-en-cabildo-para-llenar-la-ficha-basica-de-emergencia-hidrica/',\n",
       " 'http://www.observador.cl/pdi-instalara-unidad-especializada-de-microtrafico-cero-en-papudo/',\n",
       " 'http://www.observador.cl/cabildo-celebrara-el-dia-mundial-del-deporte-y-la-actividad-fisica-con-corrida-familiar/',\n",
       " 'http://www.observador.cl/anuncian-cierres-programados-para-ambos-sentidos-del-tunel-el-melon/',\n",
       " 'http://www.observador.cl/videos-la-ligua-vivio-alegre-corrida-de-colores-por-el-buen-trato-hacia-la-ninez/',\n",
       " 'http://www.observador.cl/mil-esterilizaciones-gratuitas-para-mascotas-se-realizaran-en-papudo/',\n",
       " 'http://www.observador.cl/pdi-detuvo-a-4-personas-por-trafico-en-laguna-de-zapallar/',\n",
       " 'http://www.observador.cl/carabineros-decomisa-mas-de-19-kilos-de-marihuana-desde-una-vivienda-en-petorca/',\n",
       " 'http://www.observador.cl/video-pdi-decomiso-mas-de-100-plantas-de-marihuana-en-zapallar-hay-un-detenido/',\n",
       " 'http://www.observador.cl/la-ligua-mujer-fallecio-tras-atropello-cuando-cruzaba-la-ruta-5-norte/',\n",
       " 'http://www.observador.cl/el-miercoles-parten-encuestas-en-cabildo-para-llenar-la-ficha-basica-de-emergencia-hidrica/',\n",
       " 'http://www.observador.cl/pdi-instalara-unidad-especializada-de-microtrafico-cero-en-papudo/',\n",
       " 'http://www.observador.cl/hallan-casi-12-mil-plantas-de-cannabis-en-la-ligua-es-el-mayor-decomiso-en-la-region-en-lo-que-va-de-2022/',\n",
       " 'http://www.observador.cl/carabineros-incauta-mas-de-1-400-plantas-de-cannabis-en-la-ligua/',\n",
       " 'http://www.observador.cl/la-ligua-contara-con-nueva-central-de-camaras-de-televigilancia-municipal/',\n",
       " 'http://www.observador.cl/pdi-detiene-en-la-ligua-a-hombre-acusado-de-violacion-en-cabildo/',\n",
       " 'http://www.observador.cl/este-domingo-se-conocera-al-campeon-de-la-semana-liguana-2022/',\n",
       " 'http://www.observador.cl/joven-entro-a-colegio-de-la-ligua-con-arma-blanca-para-agredir-a-estudiante/',\n",
       " 'http://www.observador.cl/profunda-tristeza-por-fallecimiento-de-querido-locutor-de-radio-carnaval-marco-gallardo/',\n",
       " 'http://www.observador.cl/asalto-a-mano-armada-en-supermercado-acuenta-de-la-ligua/',\n",
       " 'http://www.observador.cl/os-7-aconcagua-hallo-mas-de-4-mil-plantas-de-cannabis-cultivadas-en-cabildo/',\n",
       " 'http://www.observador.cl/instalaron-estanques-de-agua-potable-en-distintos-sectores-de-valle-hermoso/',\n",
       " 'http://www.observador.cl/dejan-herido-a-guardia-en-millonario-robo-a-sucursal-kovacs-de-san-felipe/',\n",
       " 'http://www.observador.cl/union-san-felipe-derroto-a-barnechea-y-sigue-en-alza/',\n",
       " 'http://www.observador.cl/carabineros-recupero-moto-robada-en-llay-llay-hay-un-detenido/',\n",
       " 'http://www.observador.cl/video-carabineros-incauta-11-armas-y-mas-de-300-envoltorios-de-droga-en-llay-llay/',\n",
       " 'http://www.observador.cl/san-felipe-las-actividades-que-tendra-la-fiesta-de-la-vendimia-en-curimon-este-fin-de-semana/',\n",
       " 'http://www.observador.cl/disparan-a-haitiano-en-plena-avenida-ohiggins-en-san-felipe/',\n",
       " 'http://www.observador.cl/vecinos-de-santa-maria-ya-pueden-optar-a-descuentos-en-la-compra-de-gas-liquido/',\n",
       " 'http://www.observador.cl/destacado-pintor-de-putaendo-abrio-su-hogar-para-exponer-sus-grandes-obras/',\n",
       " 'http://www.observador.cl/pdi-desbarato-foco-de-microtrafico-de-drogas-en-llay-llay/',\n",
       " 'http://www.observador.cl/carabineros-recupera-dos-vehiculos-con-encargo-por-robo-en-san-felipe/',\n",
       " 'http://www.observador.cl/dejan-herido-a-guardia-en-millonario-robo-a-sucursal-kovacs-de-san-felipe/',\n",
       " 'http://www.observador.cl/union-san-felipe-derroto-a-barnechea-y-sigue-en-alza/',\n",
       " 'http://www.observador.cl/carabineros-recupero-moto-robada-en-llay-llay-hay-un-detenido/',\n",
       " 'http://www.observador.cl/video-carabineros-incauta-11-armas-y-mas-de-300-envoltorios-de-droga-en-llay-llay/',\n",
       " 'http://www.observador.cl/san-felipe-las-actividades-que-tendra-la-fiesta-de-la-vendimia-en-curimon-este-fin-de-semana/',\n",
       " 'http://www.observador.cl/disparan-a-haitiano-en-plena-avenida-ohiggins-en-san-felipe/',\n",
       " 'http://www.observador.cl/vecinos-de-santa-maria-ya-pueden-optar-a-descuentos-en-la-compra-de-gas-liquido/',\n",
       " 'http://www.observador.cl/destacado-pintor-de-putaendo-abrio-su-hogar-para-exponer-sus-grandes-obras/',\n",
       " 'http://www.observador.cl/pdi-desbarato-foco-de-microtrafico-de-drogas-en-llay-llay/',\n",
       " 'http://www.observador.cl/carabineros-recupera-dos-vehiculos-con-encargo-por-robo-en-san-felipe/',\n",
       " 'http://www.observador.cl/minera-vizcachitas-suspenden-rcaa/',\n",
       " 'http://www.observador.cl/operativo-policial-permitio-sacar-de-circulacion-40-mil-dosis-de-droga-en-san-felipe/',\n",
       " 'http://www.observador.cl/video-detienen-a-peligrosa-banda-que-asalto-tienda-entel-en-san-felipe/',\n",
       " 'http://www.observador.cl/video-estas-medidas-se-tomaron-en-catemu-para-hacer-mas-fluido-el-transito-vehicular/',\n",
       " 'http://www.observador.cl/pdi-los-andes-detiene-a-organizacion-con-mas-de-mil-millones-de-pesos-en-drogas/',\n",
       " 'http://www.observador.cl/pareja-vendia-pasta-base-cocaina-y-marihuana-en-barrios-de-catemu/',\n",
       " 'http://www.observador.cl/hombre-de-llay-llay-logro-llegar-a-la-cumbre-del-volcan-mas-alto-del-mundo/',\n",
       " 'http://www.observador.cl/san-felipe-100-familias-de-sector-diego-de-almagro-recibieron-escrituras-de-sus-viviendas/',\n",
       " 'http://www.observador.cl/san-felipe-y-la-ligua-ganaron-fondo-para-promover-el-reciclaje-y-la-economia-circular/',\n",
       " 'http://www.observador.cl/accidente-en-ruta-60ch-sector-peaje-panquehue-dejo-un-fallecido/',\n",
       " 'http://www.observador.cl/comenzo-la-trilla-2022-en-calle-larga-con-emprendimientos-food-trucks-y-musica-nacional/',\n",
       " 'http://www.observador.cl/rinconada-inauguran-salones-del-centro-cultural-ex-casona-honorato-con-muestras-gratuitas/',\n",
       " 'http://www.observador.cl/calle-larga-recibio-un-nuevo-camion-aljibe-para-hacer-frente-a-la-escasez-hidrica/',\n",
       " 'http://www.observador.cl/san-esteban-operativos-gratuitos-permitieron-esterilizar-a-170-mascotas-en-marzo/',\n",
       " 'http://www.observador.cl/trasandino-de-los-andes-recibira-en-quillota-a-union-san-felipe-por-la-copa-chile/',\n",
       " 'http://www.observador.cl/en-calle-larga-y-valparaiso-celebraran-el-dia-de-la-astronomia-con-nutrida-parrilla-de-actividades/',\n",
       " 'http://www.observador.cl/comenzaron-obras-de-construccion-de-nueva-ciclovia-y-veredas-en-san-esteban/',\n",
       " 'http://www.observador.cl/pdi-los-andes-detiene-a-organizacion-con-mas-de-mil-millones-de-pesos-en-drogas/',\n",
       " 'http://www.observador.cl/video-chofer-de-camion-murio-al-desbarrancar-en-el-camino-interrnacional-los-andes-mendoza/',\n",
       " 'http://www.observador.cl/escuela-mixta-lo-calvo-entrego-uniformes-a-todos-sus-alumnos-en-san-esteban/',\n",
       " 'http://www.observador.cl/comenzo-la-trilla-2022-en-calle-larga-con-emprendimientos-food-trucks-y-musica-nacional/',\n",
       " 'http://www.observador.cl/rinconada-inauguran-salones-del-centro-cultural-ex-casona-honorato-con-muestras-gratuitas/',\n",
       " 'http://www.observador.cl/calle-larga-recibio-un-nuevo-camion-aljibe-para-hacer-frente-a-la-escasez-hidrica/',\n",
       " 'http://www.observador.cl/san-esteban-operativos-gratuitos-permitieron-esterilizar-a-170-mascotas-en-marzo/',\n",
       " 'http://www.observador.cl/trasandino-de-los-andes-recibira-en-quillota-a-union-san-felipe-por-la-copa-chile/',\n",
       " 'http://www.observador.cl/en-calle-larga-y-valparaiso-celebraran-el-dia-de-la-astronomia-con-nutrida-parrilla-de-actividades/',\n",
       " 'http://www.observador.cl/comenzaron-obras-de-construccion-de-nueva-ciclovia-y-veredas-en-san-esteban/',\n",
       " 'http://www.observador.cl/pdi-los-andes-detiene-a-organizacion-con-mas-de-mil-millones-de-pesos-en-drogas/',\n",
       " 'http://www.observador.cl/video-chofer-de-camion-murio-al-desbarrancar-en-el-camino-interrnacional-los-andes-mendoza/',\n",
       " 'http://www.observador.cl/escuela-mixta-lo-calvo-entrego-uniformes-a-todos-sus-alumnos-en-san-esteban/',\n",
       " 'http://www.observador.cl/iniciativa-popular-de-creacion-de-la-region-de-aconcagua-es-aprobada-en-general-en-la-convencion/',\n",
       " 'http://www.observador.cl/estos-son-los-9-puntos-publicos-con-internet-sin-costo-que-ahora-tiene-san-esteban/',\n",
       " 'http://www.observador.cl/municipio-de-rinconada-comprara-terrenos-para-nuevo-parque-comunal-y-viviendas-sociales/',\n",
       " 'http://www.observador.cl/vecinos-de-calle-larga-podran-optar-a-descuento-en-la-compra-del-gas-dos-veces-al-mes/',\n",
       " 'http://www.observador.cl/encuentran-a-empresario-desaparecido-en-san-esteban-esta-en-buenas-condiciones/',\n",
       " 'http://www.observador.cl/termino-construccion-de-sala-de-aislamiento-covid-en-escuela-de-san-esteban/',\n",
       " 'http://www.observador.cl/amplian-alerta-preventiva-por-amenaza-de-incendio-forestal-en-provincias-del-aconcagua/',\n",
       " 'http://www.observador.cl/pdi-los-andes-incauto-mas-de-23-mil-millones-en-drogas-en-la-llamada-operacion-montenegro/',\n",
       " 'http://www.observador.cl/quedan-pocos-dias-para-visitar-exposicion-del-museo-de-artes-visuales-en-calle-larga/',\n",
       " 'http://www.observador.cl/evento-de-altas-temperaturas-afectara-a-comunas-del-aconcagua-desde-el-miercoles-16/']"
      ]
     },
     "execution_count": 4,
     "metadata": {},
     "output_type": "execute_result"
    }
   ],
   "source": [
    "urls=[]\n",
    "lista = [\"http://www.observador.cl/category/actualidad/page/\",\n",
    "         \"http://www.observador.cl/category/policial/page/\",\n",
    "         \"http://www.observador.cl/category/valparaiso/page/\",\n",
    "         \"http://www.observador.cl/category/marga-marga/page/\",\n",
    "         \"http://www.observador.cl/category/quillota/page/\",\n",
    "         \"http://www.observador.cl/category/petorca/page/\",\n",
    "         \"http://www.observador.cl/category/san-felipe/page/\",\n",
    "         \"http://www.observador.cl/category/los-andes/page/\"]\n",
    "for link in lista:\n",
    "    for page in tqdm(range(3)): # revisemos sólo 2 páginas\n",
    "        crawler = Crawler()\n",
    "        response = crawler.get(link+str(page))\n",
    "        crawler.parse(response)\n",
    "\n",
    "\n",
    "        for url in crawler.url_list:\n",
    "            urls.append(url)\n",
    "\n",
    "urls"
   ]
  },
  {
   "cell_type": "code",
   "execution_count": 5,
   "id": "e6099483",
   "metadata": {},
   "outputs": [
    {
     "data": {
      "text/plain": [
       "240"
      ]
     },
     "execution_count": 5,
     "metadata": {},
     "output_type": "execute_result"
    }
   ],
   "source": [
    "len(urls)"
   ]
  },
  {
   "cell_type": "code",
   "execution_count": 6,
   "id": "928cdb23",
   "metadata": {},
   "outputs": [
    {
     "data": {
      "text/plain": [
       "'http://www.observador.cl/mascarilla-obligatoria-en-salas-de-clases-y-transporte-escolar-el-nuevo-anuncio-de-mineduc/'"
      ]
     },
     "execution_count": 6,
     "metadata": {},
     "output_type": "execute_result"
    }
   ],
   "source": [
    "urls[0]"
   ]
  },
  {
   "cell_type": "code",
   "execution_count": null,
   "id": "f8c2d5b1",
   "metadata": {},
   "outputs": [],
   "source": []
  },
  {
   "cell_type": "code",
   "execution_count": 7,
   "id": "d446e5df",
   "metadata": {},
   "outputs": [],
   "source": [
    "URL_NEWS = urls[0]\n",
    "XPATH_TITLE = \"//h1[@class='entry-title']\"\n",
    "XPATH_CONTENT =\"//div[@class='page-content']//p\""
   ]
  },
  {
   "cell_type": "code",
   "execution_count": 8,
   "id": "fcc5edaf",
   "metadata": {},
   "outputs": [],
   "source": [
    "class Scraper:\n",
    "    \n",
    "    USER_AGENT_LIST = [\n",
    "        \"Mozilla/5.0 (Windows NT 6.1; WOW64) AppleWebKit/537.1 (KHTML, like Gecko) Chrome/22.0.1207.1 Safari/537.1\",\n",
    "        \"Mozilla/5.0 (X11; CrOS i686 2268.111.0) AppleWebKit/536.11 (KHTML, like Gecko) Chrome/20.0.1132.57 Safari/536.11\",\n",
    "        \"Mozilla/5.0 (Windows NT 6.1; WOW64) AppleWebKit/536.6 (KHTML, like Gecko) Chrome/20.0.1092.0 Safari/536.6\",\n",
    "        \"Mozilla/5.0 (Windows NT 6.2) AppleWebKit/536.6 (KHTML, like Gecko) Chrome/20.0.1090.0 Safari/536.6\",\n",
    "        \"Mozilla/5.0 (Windows NT 6.2; WOW64) AppleWebKit/537.1 (KHTML, like Gecko) Chrome/19.77.34.5 Safari/537.1\",\n",
    "        \"Mozilla/5.0 (X11; Linux x86_64) AppleWebKit/536.5 (KHTML, like Gecko) Chrome/19.0.1084.9 Safari/536.5\",\n",
    "        \"Mozilla/5.0 (Windows NT 6.0) AppleWebKit/536.5 (KHTML, like Gecko) Chrome/19.0.1084.36 Safari/536.5\",\n",
    "        \"Mozilla/5.0 (Windows NT 6.1; WOW64) AppleWebKit/536.3 (KHTML, like Gecko) Chrome/19.0.1063.0 Safari/536.3\",\n",
    "        \"Mozilla/5.0 (Windows NT 5.1) AppleWebKit/536.3 (KHTML, like Gecko) Chrome/19.0.1063.0 Safari/536.3\",\n",
    "        \"Mozilla/5.0 (Macintosh; Intel Mac OS X 10_8_0) AppleWebKit/536.3 (KHTML, like Gecko) Chrome/19.0.1063.0 Safari/536.3\",\n",
    "        \"Mozilla/5.0 (Windows NT 6.2) AppleWebKit/536.3 (KHTML, like Gecko) Chrome/19.0.1062.0 Safari/536.3\",\n",
    "        \"Mozilla/5.0 (Windows NT 6.1; WOW64) AppleWebKit/536.3 (KHTML, like Gecko) Chrome/19.0.1062.0 Safari/536.3\",\n",
    "        \"Mozilla/5.0 (Windows NT 6.2) AppleWebKit/536.3 (KHTML, like Gecko) Chrome/19.0.1061.1 Safari/536.3\",\n",
    "        \"Mozilla/5.0 (Windows NT 6.1; WOW64) AppleWebKit/536.3 (KHTML, like Gecko) Chrome/19.0.1061.1 Safari/536.3\",\n",
    "        \"Mozilla/5.0 (Windows NT 6.1) AppleWebKit/536.3 (KHTML, like Gecko) Chrome/19.0.1061.1 Safari/536.3\",\n",
    "        \"Mozilla/5.0 (Windows NT 6.2) AppleWebKit/536.3 (KHTML, like Gecko) Chrome/19.0.1061.0 Safari/536.3\",\n",
    "        \"Mozilla/5.0 (X11; Linux x86_64) AppleWebKit/535.24 (KHTML, like Gecko) Chrome/19.0.1055.1 Safari/535.24\",\n",
    "        \"Mozilla/5.0 (Windows NT 6.2; WOW64) AppleWebKit/535.24 (KHTML, like Gecko) Chrome/19.0.1055.1 Safari/535.24\"\n",
    "    ]\n",
    "\n",
    "    query_extract_title = XPATH_TITLE\n",
    "    query_extract_text =  XPATH_CONTENT\n",
    "\n",
    "    def _init_(self):\n",
    "        pass\n",
    "   \n",
    "    def get(self,url):\n",
    "        headers = {'user-agent':random.choice(self.USER_AGENT_LIST) }\n",
    "        session = HTMLSession()\n",
    "        response = session.get(url,headers=headers) \n",
    "        return response\n",
    "    \n",
    "    def clean_text(self, html_text):\n",
    "        text_without_tags = w3lib.html.remove_tags(html_text)\n",
    "        text_without_escape_chars = w3lib.html.replace_escape_chars(text_without_tags)\n",
    "        text_without_escape_chars = html.unescape(text_without_escape_chars)\n",
    "        text_without_whitespace = text_without_escape_chars.strip()\n",
    "        return text_without_whitespace\n",
    "\n",
    "    \n",
    "    #### main function ####\n",
    "    def parse(self, response):\n",
    "        \n",
    "        #URL\n",
    "        self.news_url = response.url\n",
    "        \n",
    "        #TITLE\n",
    "        self.news_title = response.html.xpath(self.query_extract_title)[0].text\n",
    "        self.news_title = self.clean_text(self.news_title)\n",
    "       \n",
    "        \n",
    "        #CONTENT\n",
    "        self.news_text = \"\"\n",
    "        \n",
    "        html_paragraphs = response.html.xpath(self.query_extract_text)\n",
    "        \n",
    "        for paragraph in html_paragraphs:\n",
    "            paragraph_content = w3lib.html.remove_tags(paragraph.text)    \n",
    "            text_cleaned = self.clean_text(paragraph_content)\n",
    "            self.news_text = self.news_text+text_cleaned\n"
   ]
  },
  {
   "cell_type": "code",
   "execution_count": 9,
   "id": "d9482704",
   "metadata": {},
   "outputs": [],
   "source": [
    "scraper = Scraper()\n",
    "response =scraper.get(URL_NEWS)"
   ]
  },
  {
   "cell_type": "code",
   "execution_count": 10,
   "id": "d72bc32e",
   "metadata": {},
   "outputs": [],
   "source": [
    "scraper.parse(response)"
   ]
  },
  {
   "cell_type": "code",
   "execution_count": 11,
   "id": "a2e4d401",
   "metadata": {},
   "outputs": [
    {
     "data": {
      "text/plain": [
       "'Mascarilla obligatoria en salas de clases y transporte escolar: el nuevo anuncio de Mineduc'"
      ]
     },
     "execution_count": 11,
     "metadata": {},
     "output_type": "execute_result"
    }
   ],
   "source": [
    "scraper.news_title"
   ]
  },
  {
   "cell_type": "code",
   "execution_count": 12,
   "id": "162264db",
   "metadata": {},
   "outputs": [
    {
     "data": {
      "text/plain": [
       "'Estas medidas comenzarán a regir desde el próximo jueves 14 de abril.ACTUALIDAD.- Durante este viernes 08 de abril, el Ministerio de Educación\\xa0entregó detalles sobre cómo se adaptarán las clases al nuevo plan “Seguimos cuidándonos. Paso a Paso”, que regirá desde el próximo jueves 14 de abril.Cabe recordar que el nuevo plan establecerá sólo tres fases para las comunas: “Bajo impacto sanitario (de color verde)”, “Medio impacto sanitario (amarillo) y “Alto impacto sanitario (rojo).VER TAMBIÉN: Anuncios Minsal: No será obligatorio usar mascarilla en espacios abiertosSobre el uso de la mascarilla, en fases de medio y bajo impacto sanitario, siempre se deberá usar una mascarilla certificada, como KN95 o similar.Será obligatorio usar mascarilla en espacios cerrados, como salas de clases y en el\\xa0transporte escolar.Se podrá prescindir del uso de mascarilla en espacios abiertos, como patios y multicanchas. También en clases de educación física y otras actividades pedagógicas al aire libre.En los recreos, cada comunidad educativa deberá evaluar esta medida según sus condiciones particulares.Se continuará promoviendo la vacunación en los escolares: desde mayo, los cursos donde haya una vacunación inferior al 80%, se deberá mantener 1 metro de distancia entre estudiantes.Además, se mantienen las medidas de prevención como\\xa0ventilar los espacios, limpiar y desinfectar periódicamente, lavarse las manos con frecuencia, los resguardos durante la alimentación, identificar a los estudiantes para asegurar la trazabilidad y evitar el contacto físico.Puede descargarse el documento del Ministerio de Educación con esta información detallada haciendo clic “aquí“.'"
      ]
     },
     "execution_count": 12,
     "metadata": {},
     "output_type": "execute_result"
    }
   ],
   "source": [
    "scraper.news_text"
   ]
  },
  {
   "cell_type": "code",
   "execution_count": 13,
   "id": "a455d5d3",
   "metadata": {},
   "outputs": [],
   "source": [
    "#Verificamos que el scraper devuelve algo\n",
    "assert(len(scraper.news_title)>0)\n",
    "assert(len(scraper.news_text)>0)"
   ]
  },
  {
   "cell_type": "code",
   "execution_count": 14,
   "id": "524ce41b",
   "metadata": {},
   "outputs": [
    {
     "data": {
      "text/html": [
       "<div>\n",
       "<style scoped>\n",
       "    .dataframe tbody tr th:only-of-type {\n",
       "        vertical-align: middle;\n",
       "    }\n",
       "\n",
       "    .dataframe tbody tr th {\n",
       "        vertical-align: top;\n",
       "    }\n",
       "\n",
       "    .dataframe thead th {\n",
       "        text-align: right;\n",
       "    }\n",
       "</style>\n",
       "<table border=\"1\" class=\"dataframe\">\n",
       "  <thead>\n",
       "    <tr style=\"text-align: right;\">\n",
       "      <th></th>\n",
       "      <th>url</th>\n",
       "      <th>title</th>\n",
       "      <th>content</th>\n",
       "    </tr>\n",
       "  </thead>\n",
       "  <tbody>\n",
       "    <tr>\n",
       "      <th>0</th>\n",
       "      <td>http://www.observador.cl/mascarilla-obligatori...</td>\n",
       "      <td>Mascarilla obligatoria en salas de clases y tr...</td>\n",
       "      <td>Estas medidas comenzarán a regir desde el próx...</td>\n",
       "    </tr>\n",
       "  </tbody>\n",
       "</table>\n",
       "</div>"
      ],
      "text/plain": [
       "                                                 url  \\\n",
       "0  http://www.observador.cl/mascarilla-obligatori...   \n",
       "\n",
       "                                               title  \\\n",
       "0  Mascarilla obligatoria en salas de clases y tr...   \n",
       "\n",
       "                                             content  \n",
       "0  Estas medidas comenzarán a regir desde el próx...  "
      ]
     },
     "execution_count": 14,
     "metadata": {},
     "output_type": "execute_result"
    }
   ],
   "source": [
    "df = pd.DataFrame(data={'url': [URL_NEWS],'title':[scraper.news_title], 'content':[scraper.news_text]})\n",
    "df"
   ]
  },
  {
   "cell_type": "code",
   "execution_count": 15,
   "id": "267a48c8",
   "metadata": {},
   "outputs": [
    {
     "data": {
      "application/vnd.jupyter.widget-view+json": {
       "model_id": "6e7d71a9eb4944f0a6f0bc9abe7f0891",
       "version_major": 2,
       "version_minor": 0
      },
      "text/plain": [
       "  0%|          | 0/30 [00:00<?, ?it/s]"
      ]
     },
     "metadata": {},
     "output_type": "display_data"
    }
   ],
   "source": [
    "XPATH_TITLE = \"//h1[@class='entry-title']\"\n",
    "XPATH_CONTENT =\"//div[@class='page-content']//p\"\n",
    "\n",
    "for url in tqdm(urls[:30]):\n",
    "    URL_NEWS = url\n",
    "    scraper = Scraper()\n",
    "    response =scraper.get(URL_NEWS)\n",
    "    scraper.parse(response)\n",
    "    df1 = pd.DataFrame(data={'url': url, 'title':scraper.news_title, 'content':scraper.news_text},index=['url', 'title', 'content'])\n",
    "    df = df.append(df1, ignore_index=True)\n",
    "df = df.drop_duplicates()\n"
   ]
  },
  {
   "cell_type": "code",
   "execution_count": 16,
   "id": "e9c55424",
   "metadata": {},
   "outputs": [
    {
     "data": {
      "text/html": [
       "<div>\n",
       "<style scoped>\n",
       "    .dataframe tbody tr th:only-of-type {\n",
       "        vertical-align: middle;\n",
       "    }\n",
       "\n",
       "    .dataframe tbody tr th {\n",
       "        vertical-align: top;\n",
       "    }\n",
       "\n",
       "    .dataframe thead th {\n",
       "        text-align: right;\n",
       "    }\n",
       "</style>\n",
       "<table border=\"1\" class=\"dataframe\">\n",
       "  <thead>\n",
       "    <tr style=\"text-align: right;\">\n",
       "      <th></th>\n",
       "      <th>url</th>\n",
       "      <th>title</th>\n",
       "      <th>content</th>\n",
       "    </tr>\n",
       "  </thead>\n",
       "  <tbody>\n",
       "    <tr>\n",
       "      <th>0</th>\n",
       "      <td>http://www.observador.cl/mascarilla-obligatori...</td>\n",
       "      <td>Mascarilla obligatoria en salas de clases y tr...</td>\n",
       "      <td>Estas medidas comenzarán a regir desde el próx...</td>\n",
       "    </tr>\n",
       "    <tr>\n",
       "      <th>4</th>\n",
       "      <td>http://www.observador.cl/villa-alemana-inaugur...</td>\n",
       "      <td>Villa Alemana inauguró su primera planta de pa...</td>\n",
       "      <td>“Solarpark” produce el consumo de mil 200 hoga...</td>\n",
       "    </tr>\n",
       "    <tr>\n",
       "      <th>7</th>\n",
       "      <td>http://www.observador.cl/asi-es-la-marcha-blan...</td>\n",
       "      <td>Así es la marcha blanca de la locomoción públi...</td>\n",
       "      <td>La prioridad inicial es garantizar el traslado...</td>\n",
       "    </tr>\n",
       "    <tr>\n",
       "      <th>10</th>\n",
       "      <td>http://www.observador.cl/pavimentacion-de-call...</td>\n",
       "      <td>Pavimentación de calle Sargento Aldea de Quill...</td>\n",
       "      <td>Obras concluirían a fines de abril y el Munici...</td>\n",
       "    </tr>\n",
       "    <tr>\n",
       "      <th>13</th>\n",
       "      <td>http://www.observador.cl/valparaiso-desconocid...</td>\n",
       "      <td>Valparaíso: Desconocidos quemaron símbolos de ...</td>\n",
       "      <td>Los símbolos se encuentran en la plaza O’Higgi...</td>\n",
       "    </tr>\n",
       "    <tr>\n",
       "      <th>16</th>\n",
       "      <td>http://www.observador.cl/limachinos-sufren-fun...</td>\n",
       "      <td>Limachinos sufren funa por el intento de secue...</td>\n",
       "      <td>Denuncian que han sufrido amenazas porque se c...</td>\n",
       "    </tr>\n",
       "    <tr>\n",
       "      <th>19</th>\n",
       "      <td>http://www.observador.cl/covid19-este-miercole...</td>\n",
       "      <td>COVID19: Este miércoles confirman 426 nuevos c...</td>\n",
       "      <td>En total son 1500 casos activos en la región y...</td>\n",
       "    </tr>\n",
       "    <tr>\n",
       "      <th>22</th>\n",
       "      <td>http://www.observador.cl/quillota-congelan-pro...</td>\n",
       "      <td>Quillota: Congelan proyecto de ampliación ruta...</td>\n",
       "      <td>Se calcula que mientras se realiza la reingeni...</td>\n",
       "    </tr>\n",
       "    <tr>\n",
       "      <th>25</th>\n",
       "      <td>http://www.observador.cl/hospital-biprovincial...</td>\n",
       "      <td>Hospital Biprovincial tendrá equipamiento de p...</td>\n",
       "      <td>En espera de la autorización sanitaria, los eq...</td>\n",
       "    </tr>\n",
       "    <tr>\n",
       "      <th>28</th>\n",
       "      <td>http://www.observador.cl/covid-hay-172-contagi...</td>\n",
       "      <td>Covid: Hay 172 contagios nuevos y una persona ...</td>\n",
       "      <td>Un 11,5% de las personas con Covid hospitaliza...</td>\n",
       "    </tr>\n",
       "    <tr>\n",
       "      <th>61</th>\n",
       "      <td>http://www.observador.cl/anuncios-minsal-no-se...</td>\n",
       "      <td>Anuncios Minsal: No será obligatorio usar masc...</td>\n",
       "      <td>No se exigirá el uso de la mascarilla siempre ...</td>\n",
       "    </tr>\n",
       "    <tr>\n",
       "      <th>64</th>\n",
       "      <td>http://www.observador.cl/asi-es-el-calendario-...</td>\n",
       "      <td>Así es el calendario de vacunación contra el C...</td>\n",
       "      <td>Se prosigue con la administración de la cuarta...</td>\n",
       "    </tr>\n",
       "    <tr>\n",
       "      <th>67</th>\n",
       "      <td>http://www.observador.cl/logran-controlar-ince...</td>\n",
       "      <td>Logran controlar incendio en Laguna Verde: se ...</td>\n",
       "      <td>Con el control del incendio se cancela la Aler...</td>\n",
       "    </tr>\n",
       "    <tr>\n",
       "      <th>70</th>\n",
       "      <td>http://www.observador.cl/covid-hay-610-contagi...</td>\n",
       "      <td>Covid: Hay 610 contagios nuevos y cuatro perso...</td>\n",
       "      <td>Un 10,99% de los pacientes de Covid hospitaliz...</td>\n",
       "    </tr>\n",
       "    <tr>\n",
       "      <th>73</th>\n",
       "      <td>http://www.observador.cl/delegada-presidencial...</td>\n",
       "      <td>Delegada Presidencial confirmó los nombres de ...</td>\n",
       "      <td>REGIÓN DE VALPARAÍSO.– La Delegada Presidencia...</td>\n",
       "    </tr>\n",
       "    <tr>\n",
       "      <th>76</th>\n",
       "      <td>http://www.observador.cl/tercera-version-del-f...</td>\n",
       "      <td>Tercera versión del Festival Jardín Sonoro lle...</td>\n",
       "      <td>El evento contará con un segundo escenario ded...</td>\n",
       "    </tr>\n",
       "    <tr>\n",
       "      <th>79</th>\n",
       "      <td>http://www.observador.cl/videos-ayuda-se-quema...</td>\n",
       "      <td>[VIDEOS] ¡Ayuda, se quema mi casa! Impresionan...</td>\n",
       "      <td>Llamados de auxilio, el trabajo de vecinos y o...</td>\n",
       "    </tr>\n",
       "    <tr>\n",
       "      <th>82</th>\n",
       "      <td>http://www.observador.cl/covid-reportan-618-ca...</td>\n",
       "      <td>Covid: Reportan 618 casos nuevos y 2.451 conta...</td>\n",
       "      <td>No hubo defunciones por Covid-19 dentro de la ...</td>\n",
       "    </tr>\n",
       "    <tr>\n",
       "      <th>85</th>\n",
       "      <td>http://www.observador.cl/placa-de-cuarzo-festi...</td>\n",
       "      <td>“Placa de Cuarzo Festival” llega este fin de s...</td>\n",
       "      <td>Bandas emergentes de la región se darán cita e...</td>\n",
       "    </tr>\n",
       "    <tr>\n",
       "      <th>88</th>\n",
       "      <td>http://www.observador.cl/covid-informan-309-co...</td>\n",
       "      <td>Covid: Informan 309 contagios nuevos y ningún ...</td>\n",
       "      <td>Hay 62 pacientes hospitalizados en camas UCI d...</td>\n",
       "    </tr>\n",
       "  </tbody>\n",
       "</table>\n",
       "</div>"
      ],
      "text/plain": [
       "                                                  url  \\\n",
       "0   http://www.observador.cl/mascarilla-obligatori...   \n",
       "4   http://www.observador.cl/villa-alemana-inaugur...   \n",
       "7   http://www.observador.cl/asi-es-la-marcha-blan...   \n",
       "10  http://www.observador.cl/pavimentacion-de-call...   \n",
       "13  http://www.observador.cl/valparaiso-desconocid...   \n",
       "16  http://www.observador.cl/limachinos-sufren-fun...   \n",
       "19  http://www.observador.cl/covid19-este-miercole...   \n",
       "22  http://www.observador.cl/quillota-congelan-pro...   \n",
       "25  http://www.observador.cl/hospital-biprovincial...   \n",
       "28  http://www.observador.cl/covid-hay-172-contagi...   \n",
       "61  http://www.observador.cl/anuncios-minsal-no-se...   \n",
       "64  http://www.observador.cl/asi-es-el-calendario-...   \n",
       "67  http://www.observador.cl/logran-controlar-ince...   \n",
       "70  http://www.observador.cl/covid-hay-610-contagi...   \n",
       "73  http://www.observador.cl/delegada-presidencial...   \n",
       "76  http://www.observador.cl/tercera-version-del-f...   \n",
       "79  http://www.observador.cl/videos-ayuda-se-quema...   \n",
       "82  http://www.observador.cl/covid-reportan-618-ca...   \n",
       "85  http://www.observador.cl/placa-de-cuarzo-festi...   \n",
       "88  http://www.observador.cl/covid-informan-309-co...   \n",
       "\n",
       "                                                title  \\\n",
       "0   Mascarilla obligatoria en salas de clases y tr...   \n",
       "4   Villa Alemana inauguró su primera planta de pa...   \n",
       "7   Así es la marcha blanca de la locomoción públi...   \n",
       "10  Pavimentación de calle Sargento Aldea de Quill...   \n",
       "13  Valparaíso: Desconocidos quemaron símbolos de ...   \n",
       "16  Limachinos sufren funa por el intento de secue...   \n",
       "19  COVID19: Este miércoles confirman 426 nuevos c...   \n",
       "22  Quillota: Congelan proyecto de ampliación ruta...   \n",
       "25  Hospital Biprovincial tendrá equipamiento de p...   \n",
       "28  Covid: Hay 172 contagios nuevos y una persona ...   \n",
       "61  Anuncios Minsal: No será obligatorio usar masc...   \n",
       "64  Así es el calendario de vacunación contra el C...   \n",
       "67  Logran controlar incendio en Laguna Verde: se ...   \n",
       "70  Covid: Hay 610 contagios nuevos y cuatro perso...   \n",
       "73  Delegada Presidencial confirmó los nombres de ...   \n",
       "76  Tercera versión del Festival Jardín Sonoro lle...   \n",
       "79  [VIDEOS] ¡Ayuda, se quema mi casa! Impresionan...   \n",
       "82  Covid: Reportan 618 casos nuevos y 2.451 conta...   \n",
       "85  “Placa de Cuarzo Festival” llega este fin de s...   \n",
       "88  Covid: Informan 309 contagios nuevos y ningún ...   \n",
       "\n",
       "                                              content  \n",
       "0   Estas medidas comenzarán a regir desde el próx...  \n",
       "4   “Solarpark” produce el consumo de mil 200 hoga...  \n",
       "7   La prioridad inicial es garantizar el traslado...  \n",
       "10  Obras concluirían a fines de abril y el Munici...  \n",
       "13  Los símbolos se encuentran en la plaza O’Higgi...  \n",
       "16  Denuncian que han sufrido amenazas porque se c...  \n",
       "19  En total son 1500 casos activos en la región y...  \n",
       "22  Se calcula que mientras se realiza la reingeni...  \n",
       "25  En espera de la autorización sanitaria, los eq...  \n",
       "28  Un 11,5% de las personas con Covid hospitaliza...  \n",
       "61  No se exigirá el uso de la mascarilla siempre ...  \n",
       "64  Se prosigue con la administración de la cuarta...  \n",
       "67  Con el control del incendio se cancela la Aler...  \n",
       "70  Un 10,99% de los pacientes de Covid hospitaliz...  \n",
       "73  REGIÓN DE VALPARAÍSO.– La Delegada Presidencia...  \n",
       "76  El evento contará con un segundo escenario ded...  \n",
       "79  Llamados de auxilio, el trabajo de vecinos y o...  \n",
       "82  No hubo defunciones por Covid-19 dentro de la ...  \n",
       "85  Bandas emergentes de la región se darán cita e...  \n",
       "88  Hay 62 pacientes hospitalizados en camas UCI d...  "
      ]
     },
     "execution_count": 16,
     "metadata": {},
     "output_type": "execute_result"
    }
   ],
   "source": [
    "df"
   ]
  },
  {
   "cell_type": "code",
   "execution_count": null,
   "id": "2e565eca",
   "metadata": {},
   "outputs": [],
   "source": []
  }
 ],
 "metadata": {
  "kernelspec": {
   "display_name": "Python 3 (ipykernel)",
   "language": "python",
   "name": "python3"
  },
  "language_info": {
   "codemirror_mode": {
    "name": "ipython",
    "version": 3
   },
   "file_extension": ".py",
   "mimetype": "text/x-python",
   "name": "python",
   "nbconvert_exporter": "python",
   "pygments_lexer": "ipython3",
   "version": "3.8.10"
  }
 },
 "nbformat": 4,
 "nbformat_minor": 5
}
