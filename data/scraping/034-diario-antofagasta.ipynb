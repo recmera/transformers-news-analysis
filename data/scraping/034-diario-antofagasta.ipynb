{
 "cells": [
  {
   "cell_type": "code",
   "execution_count": 1,
   "id": "e42c42ef",
   "metadata": {},
   "outputs": [],
   "source": [
    "import json\n",
    "import w3lib.html\n",
    "import random\n",
    "import os\n",
    "from datetime import datetime\n",
    "import requests\n",
    "import string\n",
    "import calendar\n",
    "import html\n",
    "import locale \n",
    "from requests_html import HTMLSession\n",
    "from requests_html import HTML\n",
    "import validators\n",
    "import pandas as pd\n",
    "from tqdm.notebook import tqdm\n",
    "\n",
    "import warnings\n",
    "warnings.filterwarnings('ignore')"
   ]
  },
  {
   "cell_type": "code",
   "execution_count": 2,
   "id": "79bb0b1d",
   "metadata": {},
   "outputs": [],
   "source": [
    "URL_SEED = 'https://www.diarioantofagasta.cl/regional/page/1/'\n",
    "XPATH_HREF = \"//h3/a/@href\""
   ]
  },
  {
   "cell_type": "code",
   "execution_count": 3,
   "id": "c8a6236e",
   "metadata": {},
   "outputs": [],
   "source": [
    "class Crawler():\n",
    "    \n",
    "    USER_AGENT_LIST = [\n",
    "        \"Mozilla/5.0 (Windows NT 6.1; WOW64) AppleWebKit/537.1 (KHTML, like Gecko) Chrome/22.0.1207.1 Safari/537.1\",\n",
    "        \"Mozilla/5.0 (X11; CrOS i686 2268.111.0) AppleWebKit/536.11 (KHTML, like Gecko) Chrome/20.0.1132.57 Safari/536.11\",\n",
    "        \"Mozilla/5.0 (Windows NT 6.1; WOW64) AppleWebKit/536.6 (KHTML, like Gecko) Chrome/20.0.1092.0 Safari/536.6\",\n",
    "        \"Mozilla/5.0 (Windows NT 6.2) AppleWebKit/536.6 (KHTML, like Gecko) Chrome/20.0.1090.0 Safari/536.6\",\n",
    "        \"Mozilla/5.0 (Windows NT 6.2; WOW64) AppleWebKit/537.1 (KHTML, like Gecko) Chrome/19.77.34.5 Safari/537.1\",\n",
    "        \"Mozilla/5.0 (X11; Linux x86_64) AppleWebKit/536.5 (KHTML, like Gecko) Chrome/19.0.1084.9 Safari/536.5\",\n",
    "        \"Mozilla/5.0 (Windows NT 6.0) AppleWebKit/536.5 (KHTML, like Gecko) Chrome/19.0.1084.36 Safari/536.5\",\n",
    "        \"Mozilla/5.0 (Windows NT 6.1; WOW64) AppleWebKit/536.3 (KHTML, like Gecko) Chrome/19.0.1063.0 Safari/536.3\",\n",
    "        \"Mozilla/5.0 (Windows NT 5.1) AppleWebKit/536.3 (KHTML, like Gecko) Chrome/19.0.1063.0 Safari/536.3\",\n",
    "        \"Mozilla/5.0 (Macintosh; Intel Mac OS X 10_8_0) AppleWebKit/536.3 (KHTML, like Gecko) Chrome/19.0.1063.0 Safari/536.3\",\n",
    "        \"Mozilla/5.0 (Windows NT 6.2) AppleWebKit/536.3 (KHTML, like Gecko) Chrome/19.0.1062.0 Safari/536.3\",\n",
    "        \"Mozilla/5.0 (Windows NT 6.1; WOW64) AppleWebKit/536.3 (KHTML, like Gecko) Chrome/19.0.1062.0 Safari/536.3\",\n",
    "        \"Mozilla/5.0 (Windows NT 6.2) AppleWebKit/536.3 (KHTML, like Gecko) Chrome/19.0.1061.1 Safari/536.3\",\n",
    "        \"Mozilla/5.0 (Windows NT 6.1; WOW64) AppleWebKit/536.3 (KHTML, like Gecko) Chrome/19.0.1061.1 Safari/536.3\",\n",
    "        \"Mozilla/5.0 (Windows NT 6.1) AppleWebKit/536.3 (KHTML, like Gecko) Chrome/19.0.1061.1 Safari/536.3\",\n",
    "        \"Mozilla/5.0 (Windows NT 6.2) AppleWebKit/536.3 (KHTML, like Gecko) Chrome/19.0.1061.0 Safari/536.3\",\n",
    "        \"Mozilla/5.0 (X11; Linux x86_64) AppleWebKit/535.24 (KHTML, like Gecko) Chrome/19.0.1055.1 Safari/535.24\",\n",
    "        \"Mozilla/5.0 (Windows NT 6.2; WOW64) AppleWebKit/535.24 (KHTML, like Gecko) Chrome/19.0.1055.1 Safari/535.24\"\n",
    "    ]\n",
    "\n",
    "    #Ruta XPATH hacia los enlaces que queremos recopilar\n",
    "    xpath_href=XPATH_HREF\n",
    "\n",
    "    #variable que permite listar todos los enlaces recopilado\n",
    "    url_list = []\n",
    "    \n",
    "    def _init_(self, URL_SEED, XPATH_HREF):        \n",
    "        pass\n",
    "\n",
    "    \n",
    "    def get(self,url):\n",
    "        session = HTMLSession()\n",
    "        header = dict()\n",
    "        header['user-agent'] = random.choice(self.USER_AGENT_LIST)\n",
    "        response = session.get(url,headers=header)        \n",
    "        return response\n",
    "    \n",
    "    def parse(self, response):\n",
    "        self.url_list = []\n",
    "        urls = response.html.xpath(self.xpath_href)\n",
    "        for url in urls:\n",
    "            self.url_list.append(url)\n"
   ]
  },
  {
   "cell_type": "code",
   "execution_count": 4,
   "id": "e016daec",
   "metadata": {
    "scrolled": true
   },
   "outputs": [
    {
     "data": {
      "application/vnd.jupyter.widget-view+json": {
       "model_id": "3c5eb3dc286f424cab7978df4ff7eb42",
       "version_major": 2,
       "version_minor": 0
      },
      "text/plain": [
       "  0%|          | 0/3 [00:00<?, ?it/s]"
      ]
     },
     "metadata": {},
     "output_type": "display_data"
    },
    {
     "data": {
      "text/plain": [
       "['https://www.diarioantofagasta.cl/regional/antofagasta/158538/plan-paso-a-paso-cuatro-comunas-de-la-region-de-antofagasta-avanzan-a-fase-5/',\n",
       " 'https://www.diarioantofagasta.cl/regional/antofagasta/158533/calama-equipos-mixtos-de-escuelas-municipales-disputaron-con-pasion-campeonato-sub-12-de-futbol-7/',\n",
       " 'https://www.diarioantofagasta.cl/regional/antofagasta/158525/final-feliz-perritos-comunitarios-del-hospital-antiguo-de-antofagasta-no-seran-desalojados/',\n",
       " 'https://www.diarioantofagasta.cl/regional/antofagasta/158517/juzgado-de-garantia-de-antofagasta-acoge-solicitud-de-extradicion-contra-ex-alcaldesa-karen-rojo/',\n",
       " 'https://www.diarioantofagasta.cl/regional/antofagasta/158476/las-graves-denuncias-que-recaen-sobre-el-actual-jefe-de-gabinete-del-municipio-de-antofagasta/',\n",
       " 'https://www.diarioantofagasta.cl/regional/158521/calama-con-optica-y-farmacia-ciudadana-inauguran-centro-de-servicios-de-salud-municipal-para-la-comunidad/',\n",
       " 'https://www.diarioantofagasta.cl/regional/taltal/158454/taltal-al-menos-13-anos-de-presidio-para-autor-de-los-delitos-de-trafico-de-drogas-y-tenencia-ilegal-de-explosivos/',\n",
       " 'https://www.diarioantofagasta.cl/regional/antofagasta/158451/video-alcalde-de-antofagasta-por-fuga-de-karen-rojo-quien-soy-yo-para-juzgar/',\n",
       " 'https://www.diarioantofagasta.cl/regional/antofagasta/158408/tragedia-carretera-en-antofagasta-una-mujer-muere-en-accidente-en-sector-la-negra/',\n",
       " 'https://www.diarioantofagasta.cl/regional/calama/158442/un-homicidio-simple-otro-tentado-y-violencia-intrafamiliar-sujeto-suma-casi-20-anos-de-presidio-por-delitos-cometidos-en-calama/',\n",
       " 'https://www.diarioantofagasta.cl/regional/calama/158430/nueva-muerte-en-calama-investigan-homicidio-ocurrido-en-el-sector-norponiente/',\n",
       " 'https://www.diarioantofagasta.cl/regional/antofagasta/158427/otra-vez-sorprenden-a-conductor-de-camion-sin-licencia-transitando-por-avenida-salvador-allende-en-antofagasta/',\n",
       " 'https://www.diarioantofagasta.cl/regional/antofagasta/158538/plan-paso-a-paso-cuatro-comunas-de-la-region-de-antofagasta-avanzan-a-fase-5/',\n",
       " 'https://www.diarioantofagasta.cl/regional/antofagasta/158533/calama-equipos-mixtos-de-escuelas-municipales-disputaron-con-pasion-campeonato-sub-12-de-futbol-7/',\n",
       " 'https://www.diarioantofagasta.cl/regional/antofagasta/158525/final-feliz-perritos-comunitarios-del-hospital-antiguo-de-antofagasta-no-seran-desalojados/',\n",
       " 'https://www.diarioantofagasta.cl/regional/antofagasta/158517/juzgado-de-garantia-de-antofagasta-acoge-solicitud-de-extradicion-contra-ex-alcaldesa-karen-rojo/',\n",
       " 'https://www.diarioantofagasta.cl/regional/antofagasta/158476/las-graves-denuncias-que-recaen-sobre-el-actual-jefe-de-gabinete-del-municipio-de-antofagasta/',\n",
       " 'https://www.diarioantofagasta.cl/regional/158521/calama-con-optica-y-farmacia-ciudadana-inauguran-centro-de-servicios-de-salud-municipal-para-la-comunidad/',\n",
       " 'https://www.diarioantofagasta.cl/regional/taltal/158454/taltal-al-menos-13-anos-de-presidio-para-autor-de-los-delitos-de-trafico-de-drogas-y-tenencia-ilegal-de-explosivos/',\n",
       " 'https://www.diarioantofagasta.cl/regional/antofagasta/158451/video-alcalde-de-antofagasta-por-fuga-de-karen-rojo-quien-soy-yo-para-juzgar/',\n",
       " 'https://www.diarioantofagasta.cl/regional/antofagasta/158408/tragedia-carretera-en-antofagasta-una-mujer-muere-en-accidente-en-sector-la-negra/',\n",
       " 'https://www.diarioantofagasta.cl/regional/calama/158442/un-homicidio-simple-otro-tentado-y-violencia-intrafamiliar-sujeto-suma-casi-20-anos-de-presidio-por-delitos-cometidos-en-calama/',\n",
       " 'https://www.diarioantofagasta.cl/regional/calama/158430/nueva-muerte-en-calama-investigan-homicidio-ocurrido-en-el-sector-norponiente/',\n",
       " 'https://www.diarioantofagasta.cl/regional/antofagasta/158427/otra-vez-sorprenden-a-conductor-de-camion-sin-licencia-transitando-por-avenida-salvador-allende-en-antofagasta/',\n",
       " 'https://www.diarioantofagasta.cl/regional/antofagasta/158538/plan-paso-a-paso-cuatro-comunas-de-la-region-de-antofagasta-avanzan-a-fase-5/',\n",
       " 'https://www.diarioantofagasta.cl/regional/antofagasta/158533/calama-equipos-mixtos-de-escuelas-municipales-disputaron-con-pasion-campeonato-sub-12-de-futbol-7/',\n",
       " 'https://www.diarioantofagasta.cl/regional/158416/nuevo-accidente-vehicular-1-mujer-fallecida-y-6-lesionados-en-la-ruta-a-san-pedro-de-atacama/',\n",
       " 'https://www.diarioantofagasta.cl/regional/antofagasta/158328/se-repite-la-historia-de-karen-rojo-con-jonathan-velasquez-ex-asesor-juridico-revela-oscuros-detalles-del-gabinete-municipal-de-antofagasta/',\n",
       " 'https://www.diarioantofagasta.cl/regional/calama/158347/camion-que-transportaba-motores-colisiono-y-se-incendio-en-ruta-que-une-calama-y-baquedano/',\n",
       " 'https://www.diarioantofagasta.cl/regional/tocopilla/158352/tocopilla-presentan-oficio-a-serviu-por-graves-problemas-estructurales-en-inmuebles/',\n",
       " 'https://www.diarioantofagasta.cl/regional/antofagasta/158330/mujer-estaria-retenida-por-su-ex-pareja-en-calama-causando-una-persecucion-policial-que-termino-en-grave-accidente/',\n",
       " 'https://www.diarioantofagasta.cl/regional/antofagasta/158370/puerto-de-ideas-antofagasta-la-region-volvera-a-presenciar-el-gran-festival-de-ciencias/',\n",
       " 'https://www.diarioantofagasta.cl/regional/taltal/158297/asi-esta-taltal-a-7-anos-del-aluvion-conmemoracion-en-torno-a-la-memoria-y-en-el-cambio-climatico/',\n",
       " 'https://www.diarioantofagasta.cl/regional/antofagasta/158311/dia-mundial-del-cancer-de-cuello-uterino-una-patologia-que-debiese-desaparecer/',\n",
       " 'https://www.diarioantofagasta.cl/regional/antofagasta/158270/no-poseia-licencia-profesional-conductor-de-camion-es-detenido-por-ingresar-a-antofagasta-por-av-salvador-allende/',\n",
       " 'https://www.diarioantofagasta.cl/regional/antofagasta/158307/te-sumaras-este-sabado-millones-de-personas-apagaran-las-luces-en-la-hora-del-planeta/']"
      ]
     },
     "execution_count": 4,
     "metadata": {},
     "output_type": "execute_result"
    }
   ],
   "source": [
    "urls=[]\n",
    "\n",
    "for page in tqdm(range(3)): # revisemos sólo 2 páginas\n",
    "    crawler = Crawler()\n",
    "    response = crawler.get('https://www.diarioantofagasta.cl/regional/page/'+str(page))\n",
    "    crawler.parse(response)\n",
    "\n",
    "    \n",
    "    for url in crawler.url_list:\n",
    "        urls.append(url)\n",
    "\n",
    "    crawler.url_list = urls\n",
    "    \n",
    "crawler.url_list"
   ]
  },
  {
   "cell_type": "code",
   "execution_count": 5,
   "id": "e6099483",
   "metadata": {},
   "outputs": [
    {
     "data": {
      "text/plain": [
       "36"
      ]
     },
     "execution_count": 5,
     "metadata": {},
     "output_type": "execute_result"
    }
   ],
   "source": [
    "len(urls)"
   ]
  },
  {
   "cell_type": "code",
   "execution_count": 6,
   "id": "928cdb23",
   "metadata": {},
   "outputs": [
    {
     "data": {
      "text/plain": [
       "'https://www.diarioantofagasta.cl/regional/antofagasta/158538/plan-paso-a-paso-cuatro-comunas-de-la-region-de-antofagasta-avanzan-a-fase-5/'"
      ]
     },
     "execution_count": 6,
     "metadata": {},
     "output_type": "execute_result"
    }
   ],
   "source": [
    "urls[0]"
   ]
  },
  {
   "cell_type": "code",
   "execution_count": null,
   "id": "f8c2d5b1",
   "metadata": {},
   "outputs": [],
   "source": []
  },
  {
   "cell_type": "code",
   "execution_count": 7,
   "id": "d446e5df",
   "metadata": {},
   "outputs": [],
   "source": [
    "URL_NEWS = urls[0]\n",
    "XPATH_TITLE = \"//h1\"\n",
    "XPATH_CONTENT =\"//div[@class='tdb-block-inner td-fix-index']//p\""
   ]
  },
  {
   "cell_type": "code",
   "execution_count": 8,
   "id": "fcc5edaf",
   "metadata": {},
   "outputs": [],
   "source": [
    "class Scraper:\n",
    "    \n",
    "    USER_AGENT_LIST = [\n",
    "        \"Mozilla/5.0 (Windows NT 6.1; WOW64) AppleWebKit/537.1 (KHTML, like Gecko) Chrome/22.0.1207.1 Safari/537.1\",\n",
    "        \"Mozilla/5.0 (X11; CrOS i686 2268.111.0) AppleWebKit/536.11 (KHTML, like Gecko) Chrome/20.0.1132.57 Safari/536.11\",\n",
    "        \"Mozilla/5.0 (Windows NT 6.1; WOW64) AppleWebKit/536.6 (KHTML, like Gecko) Chrome/20.0.1092.0 Safari/536.6\",\n",
    "        \"Mozilla/5.0 (Windows NT 6.2) AppleWebKit/536.6 (KHTML, like Gecko) Chrome/20.0.1090.0 Safari/536.6\",\n",
    "        \"Mozilla/5.0 (Windows NT 6.2; WOW64) AppleWebKit/537.1 (KHTML, like Gecko) Chrome/19.77.34.5 Safari/537.1\",\n",
    "        \"Mozilla/5.0 (X11; Linux x86_64) AppleWebKit/536.5 (KHTML, like Gecko) Chrome/19.0.1084.9 Safari/536.5\",\n",
    "        \"Mozilla/5.0 (Windows NT 6.0) AppleWebKit/536.5 (KHTML, like Gecko) Chrome/19.0.1084.36 Safari/536.5\",\n",
    "        \"Mozilla/5.0 (Windows NT 6.1; WOW64) AppleWebKit/536.3 (KHTML, like Gecko) Chrome/19.0.1063.0 Safari/536.3\",\n",
    "        \"Mozilla/5.0 (Windows NT 5.1) AppleWebKit/536.3 (KHTML, like Gecko) Chrome/19.0.1063.0 Safari/536.3\",\n",
    "        \"Mozilla/5.0 (Macintosh; Intel Mac OS X 10_8_0) AppleWebKit/536.3 (KHTML, like Gecko) Chrome/19.0.1063.0 Safari/536.3\",\n",
    "        \"Mozilla/5.0 (Windows NT 6.2) AppleWebKit/536.3 (KHTML, like Gecko) Chrome/19.0.1062.0 Safari/536.3\",\n",
    "        \"Mozilla/5.0 (Windows NT 6.1; WOW64) AppleWebKit/536.3 (KHTML, like Gecko) Chrome/19.0.1062.0 Safari/536.3\",\n",
    "        \"Mozilla/5.0 (Windows NT 6.2) AppleWebKit/536.3 (KHTML, like Gecko) Chrome/19.0.1061.1 Safari/536.3\",\n",
    "        \"Mozilla/5.0 (Windows NT 6.1; WOW64) AppleWebKit/536.3 (KHTML, like Gecko) Chrome/19.0.1061.1 Safari/536.3\",\n",
    "        \"Mozilla/5.0 (Windows NT 6.1) AppleWebKit/536.3 (KHTML, like Gecko) Chrome/19.0.1061.1 Safari/536.3\",\n",
    "        \"Mozilla/5.0 (Windows NT 6.2) AppleWebKit/536.3 (KHTML, like Gecko) Chrome/19.0.1061.0 Safari/536.3\",\n",
    "        \"Mozilla/5.0 (X11; Linux x86_64) AppleWebKit/535.24 (KHTML, like Gecko) Chrome/19.0.1055.1 Safari/535.24\",\n",
    "        \"Mozilla/5.0 (Windows NT 6.2; WOW64) AppleWebKit/535.24 (KHTML, like Gecko) Chrome/19.0.1055.1 Safari/535.24\"\n",
    "    ]\n",
    "\n",
    "    query_extract_title = XPATH_TITLE\n",
    "    query_extract_text =  XPATH_CONTENT\n",
    "\n",
    "    def _init_(self):\n",
    "        pass\n",
    "   \n",
    "    def get(self,url):\n",
    "        headers = {'user-agent':random.choice(self.USER_AGENT_LIST) }\n",
    "        session = HTMLSession()\n",
    "        response = session.get(url,headers=headers) \n",
    "        return response\n",
    "    \n",
    "    def clean_text(self, html_text):\n",
    "        text_without_tags = w3lib.html.remove_tags(html_text)\n",
    "        text_without_escape_chars = w3lib.html.replace_escape_chars(text_without_tags)\n",
    "        text_without_escape_chars = html.unescape(text_without_escape_chars)\n",
    "        text_without_whitespace = text_without_escape_chars.strip()\n",
    "        return text_without_whitespace\n",
    "\n",
    "    \n",
    "    #### main function ####\n",
    "    def parse(self, response):\n",
    "        \n",
    "        #URL\n",
    "        self.news_url = response.url\n",
    "        \n",
    "        #TITLE\n",
    "        self.news_title = response.html.xpath(self.query_extract_title)[0].text\n",
    "        self.news_title = self.clean_text(self.news_title)\n",
    "       \n",
    "        \n",
    "        #CONTENT\n",
    "        self.news_text = \"\"\n",
    "        \n",
    "        html_paragraphs = response.html.xpath(self.query_extract_text)\n",
    "        \n",
    "        for paragraph in html_paragraphs:\n",
    "            paragraph_content = w3lib.html.remove_tags(paragraph.text)    \n",
    "            text_cleaned = self.clean_text(paragraph_content)\n",
    "            self.news_text = self.news_text+text_cleaned\n"
   ]
  },
  {
   "cell_type": "code",
   "execution_count": 9,
   "id": "d9482704",
   "metadata": {},
   "outputs": [],
   "source": [
    "scraper = Scraper()\n",
    "response =scraper.get(URL_NEWS)"
   ]
  },
  {
   "cell_type": "code",
   "execution_count": 10,
   "id": "d72bc32e",
   "metadata": {},
   "outputs": [],
   "source": [
    "scraper.parse(response)"
   ]
  },
  {
   "cell_type": "code",
   "execution_count": 11,
   "id": "a2e4d401",
   "metadata": {},
   "outputs": [
    {
     "data": {
      "text/plain": [
       "'Plan Paso a Paso: Cuatro comunas de la región de Antofagasta avanzan a Fase 5'"
      ]
     },
     "execution_count": 11,
     "metadata": {},
     "output_type": "execute_result"
    }
   ],
   "source": [
    "scraper.news_title"
   ]
  },
  {
   "cell_type": "code",
   "execution_count": 12,
   "id": "162264db",
   "metadata": {},
   "outputs": [
    {
     "data": {
      "text/plain": [
       "'Se trata de as de\\xa0Antofagasta, Mejillones, Sierra Gorda y Taltal. Esta medida comienza a regir a partir del jueves 31 de marzo a las 5:00 horasTras la baja cantidad de contagios que ha registrado la región de Antofagasta durante las últimas semanas, durante la jornada de este 29 de marzo, se anunciaron nuevos cambios en el plan Paso a Paso.Respecto a lo señalado, el Ministerio de salud anunció que a contar de las 5:00 horas de este jueves 31 de marzo\\xa0un total de cuatro comunas de la región de Antofagasta avanzan a Fase 5 de Apertura Avanzada.Se trata de las comunas de\\xa0Antofagasta, Mejillones, Sierra Gorda y Taltal.Con esta medida, se aplican las siguientes restricciones y cambios de aforo:1. Clases y actividades presenciales en salas cuna, jardines infantiles y establecimientos de educación escolar2. Clases y actividades presenciales en instituciones de educación superior3. Reuniones en residencias particulares4. Atención presencial a públicoEjemplos: comercio, museo, parques de diversiones, ferias laborales.5. Atención presencial en restaurantes, cafés y fuentes de soda6. Actividades en gimnasios y similares7. Actividad física y deporte8. Actividades sin interacción entre asistentesEjemplos: seminarios, ritos religiosos, público en recintos deportivos, cines, teatros, circos, etc.Si el recinto tiene infraestructura previa con butacas o bancas fijas:Si el recinto no tiene infraestructura previa con butacas o bancas fijas:9. Actividades con interacción entre asistentesEjemplos: actividades y eventos sociales como fiestas.10. Actividades presenciales en Clubes de Adulto Mayor y Centros Día'"
      ]
     },
     "execution_count": 12,
     "metadata": {},
     "output_type": "execute_result"
    }
   ],
   "source": [
    "scraper.news_text"
   ]
  },
  {
   "cell_type": "code",
   "execution_count": 13,
   "id": "a455d5d3",
   "metadata": {},
   "outputs": [],
   "source": [
    "#Verificamos que el scraper devuelve algo\n",
    "assert(len(scraper.news_title)>0)\n",
    "assert(len(scraper.news_text)>0)"
   ]
  },
  {
   "cell_type": "code",
   "execution_count": 14,
   "id": "524ce41b",
   "metadata": {},
   "outputs": [
    {
     "data": {
      "text/html": [
       "<div>\n",
       "<style scoped>\n",
       "    .dataframe tbody tr th:only-of-type {\n",
       "        vertical-align: middle;\n",
       "    }\n",
       "\n",
       "    .dataframe tbody tr th {\n",
       "        vertical-align: top;\n",
       "    }\n",
       "\n",
       "    .dataframe thead th {\n",
       "        text-align: right;\n",
       "    }\n",
       "</style>\n",
       "<table border=\"1\" class=\"dataframe\">\n",
       "  <thead>\n",
       "    <tr style=\"text-align: right;\">\n",
       "      <th></th>\n",
       "      <th>url</th>\n",
       "      <th>title</th>\n",
       "      <th>content</th>\n",
       "    </tr>\n",
       "  </thead>\n",
       "  <tbody>\n",
       "    <tr>\n",
       "      <th>0</th>\n",
       "      <td>https://www.diarioantofagasta.cl/regional/anto...</td>\n",
       "      <td>Plan Paso a Paso: Cuatro comunas de la región ...</td>\n",
       "      <td>Se trata de as de Antofagasta, Mejillones, Sie...</td>\n",
       "    </tr>\n",
       "  </tbody>\n",
       "</table>\n",
       "</div>"
      ],
      "text/plain": [
       "                                                 url  \\\n",
       "0  https://www.diarioantofagasta.cl/regional/anto...   \n",
       "\n",
       "                                               title  \\\n",
       "0  Plan Paso a Paso: Cuatro comunas de la región ...   \n",
       "\n",
       "                                             content  \n",
       "0  Se trata de as de Antofagasta, Mejillones, Sie...  "
      ]
     },
     "execution_count": 14,
     "metadata": {},
     "output_type": "execute_result"
    }
   ],
   "source": [
    "df = pd.DataFrame(data={'url': [URL_NEWS],'title':[scraper.news_title], 'content':[scraper.news_text]})\n",
    "df"
   ]
  },
  {
   "cell_type": "code",
   "execution_count": 15,
   "id": "267a48c8",
   "metadata": {},
   "outputs": [
    {
     "data": {
      "application/vnd.jupyter.widget-view+json": {
       "model_id": "9c3a14db06994d25ae3e2854ae74b5de",
       "version_major": 2,
       "version_minor": 0
      },
      "text/plain": [
       "  0%|          | 0/36 [00:00<?, ?it/s]"
      ]
     },
     "metadata": {},
     "output_type": "display_data"
    }
   ],
   "source": [
    "XPATH_TITLE = \"//h1\"\n",
    "XPATH_CONTENT =\"//div[@class='tdb-block-inner td-fix-index']//p\"\n",
    "\n",
    "for url in tqdm(urls):\n",
    "    URL_NEWS = url\n",
    "    scraper = Scraper()\n",
    "    response =scraper.get(URL_NEWS)\n",
    "    scraper.parse(response)\n",
    "    scraper.news_text = scraper.news_text.replace(\"\\xa0\", \" \")\n",
    "    df1 = pd.DataFrame(data={'url': url, 'title':scraper.news_title, 'content':scraper.news_text},index=['url', 'title', 'content'])\n",
    "    df = df.append(df1, ignore_index=True)\n",
    "df = df.drop_duplicates()\n"
   ]
  },
  {
   "cell_type": "code",
   "execution_count": 16,
   "id": "e9c55424",
   "metadata": {},
   "outputs": [
    {
     "data": {
      "text/html": [
       "<div>\n",
       "<style scoped>\n",
       "    .dataframe tbody tr th:only-of-type {\n",
       "        vertical-align: middle;\n",
       "    }\n",
       "\n",
       "    .dataframe tbody tr th {\n",
       "        vertical-align: top;\n",
       "    }\n",
       "\n",
       "    .dataframe thead th {\n",
       "        text-align: right;\n",
       "    }\n",
       "</style>\n",
       "<table border=\"1\" class=\"dataframe\">\n",
       "  <thead>\n",
       "    <tr style=\"text-align: right;\">\n",
       "      <th></th>\n",
       "      <th>url</th>\n",
       "      <th>title</th>\n",
       "      <th>content</th>\n",
       "    </tr>\n",
       "  </thead>\n",
       "  <tbody>\n",
       "    <tr>\n",
       "      <th>0</th>\n",
       "      <td>https://www.diarioantofagasta.cl/regional/anto...</td>\n",
       "      <td>Plan Paso a Paso: Cuatro comunas de la región ...</td>\n",
       "      <td>Se trata de as de Antofagasta, Mejillones, Sie...</td>\n",
       "    </tr>\n",
       "    <tr>\n",
       "      <th>1</th>\n",
       "      <td>https://www.diarioantofagasta.cl/regional/anto...</td>\n",
       "      <td>Plan Paso a Paso: Cuatro comunas de la región ...</td>\n",
       "      <td>Se trata de as de Antofagasta, Mejillones, Sie...</td>\n",
       "    </tr>\n",
       "    <tr>\n",
       "      <th>4</th>\n",
       "      <td>https://www.diarioantofagasta.cl/regional/anto...</td>\n",
       "      <td>Calama: Equipos mixtos de escuelas municipales...</td>\n",
       "      <td>Entre sudor y esfuerzo fue que ocho escuelas m...</td>\n",
       "    </tr>\n",
       "    <tr>\n",
       "      <th>7</th>\n",
       "      <td>https://www.diarioantofagasta.cl/regional/anto...</td>\n",
       "      <td>¡Final feliz!: Perritos comunitarios del hospi...</td>\n",
       "      <td>Los 7 canes mayores de edad llevan toda su vid...</td>\n",
       "    </tr>\n",
       "    <tr>\n",
       "      <th>10</th>\n",
       "      <td>https://www.diarioantofagasta.cl/regional/anto...</td>\n",
       "      <td>Juzgado de Garantía de Antofagasta acoge solic...</td>\n",
       "      <td>Requerimiento del Ministerio Público acogido p...</td>\n",
       "    </tr>\n",
       "    <tr>\n",
       "      <th>13</th>\n",
       "      <td>https://www.diarioantofagasta.cl/regional/anto...</td>\n",
       "      <td>Las graves denuncias que recaen sobre el jefe ...</td>\n",
       "      <td>Está contratado por un sueldo millonario como ...</td>\n",
       "    </tr>\n",
       "    <tr>\n",
       "      <th>16</th>\n",
       "      <td>https://www.diarioantofagasta.cl/regional/1585...</td>\n",
       "      <td>Calama: Con óptica y farmacia ciudadana inaugu...</td>\n",
       "      <td>Las dependencias, ubicadas donde anteriormente...</td>\n",
       "    </tr>\n",
       "    <tr>\n",
       "      <th>19</th>\n",
       "      <td>https://www.diarioantofagasta.cl/regional/talt...</td>\n",
       "      <td>Taltal: Al menos 13 años de presidio para auto...</td>\n",
       "      <td>Entre otras penas accesorias, se adiciona la i...</td>\n",
       "    </tr>\n",
       "    <tr>\n",
       "      <th>22</th>\n",
       "      <td>https://www.diarioantofagasta.cl/regional/anto...</td>\n",
       "      <td>VIDEO | Alcalde de Antofagasta por fuga de Kar...</td>\n",
       "      <td>Jonathan Velásquez afirmó en televisión que \"m...</td>\n",
       "    </tr>\n",
       "    <tr>\n",
       "      <th>25</th>\n",
       "      <td>https://www.diarioantofagasta.cl/regional/anto...</td>\n",
       "      <td>Tragedia carretera en Antofagasta: Una mujer m...</td>\n",
       "      <td>Camioneta volcó dejando a una menor de edad co...</td>\n",
       "    </tr>\n",
       "    <tr>\n",
       "      <th>28</th>\n",
       "      <td>https://www.diarioantofagasta.cl/regional/cala...</td>\n",
       "      <td>Un homicidio simple, otro tentado y Violencia ...</td>\n",
       "      <td>El 25 de diciembre de 2018 una mujer salió en ...</td>\n",
       "    </tr>\n",
       "    <tr>\n",
       "      <th>31</th>\n",
       "      <td>https://www.diarioantofagasta.cl/regional/cala...</td>\n",
       "      <td>Crimen en Calama: Investigan homicidio ocurrid...</td>\n",
       "      <td>Los oficiales se encuentran realizando múltipl...</td>\n",
       "    </tr>\n",
       "    <tr>\n",
       "      <th>34</th>\n",
       "      <td>https://www.diarioantofagasta.cl/regional/anto...</td>\n",
       "      <td>Otra vez: Sorprenden a conductor de camión sin...</td>\n",
       "      <td>Pese a las fiscalizaciones y el constante llam...</td>\n",
       "    </tr>\n",
       "    <tr>\n",
       "      <th>79</th>\n",
       "      <td>https://www.diarioantofagasta.cl/regional/1584...</td>\n",
       "      <td>Nuevo accidente vehicular: 1 Mujer fallecida y...</td>\n",
       "      <td>El siniestro se registró en horas de la madrug...</td>\n",
       "    </tr>\n",
       "    <tr>\n",
       "      <th>82</th>\n",
       "      <td>https://www.diarioantofagasta.cl/regional/anto...</td>\n",
       "      <td>¿Se repite la historia de Karen Rojo con Jonat...</td>\n",
       "      <td>Cuando la Municipalidad de Antofagasta aún es ...</td>\n",
       "    </tr>\n",
       "    <tr>\n",
       "      <th>85</th>\n",
       "      <td>https://www.diarioantofagasta.cl/regional/cala...</td>\n",
       "      <td>Camión que transportaba motores colisionó y se...</td>\n",
       "      <td>El camión que transitaba por la Ruta 5 Norte y...</td>\n",
       "    </tr>\n",
       "    <tr>\n",
       "      <th>88</th>\n",
       "      <td>https://www.diarioantofagasta.cl/regional/toco...</td>\n",
       "      <td>Tocopilla: Presentan oficio a Serviu por grave...</td>\n",
       "      <td>“Tuve que sacar una parte del marco para abrir...</td>\n",
       "    </tr>\n",
       "    <tr>\n",
       "      <th>91</th>\n",
       "      <td>https://www.diarioantofagasta.cl/regional/anto...</td>\n",
       "      <td>Mujer estaría retenida por su ex pareja en Cal...</td>\n",
       "      <td>Gritos de la mujer alertaron a Carabineros, qu...</td>\n",
       "    </tr>\n",
       "    <tr>\n",
       "      <th>94</th>\n",
       "      <td>https://www.diarioantofagasta.cl/regional/anto...</td>\n",
       "      <td>Puerto de Ideas Antofagasta: La región volverá...</td>\n",
       "      <td>En un evento de lanzamiento realizado en la Bi...</td>\n",
       "    </tr>\n",
       "    <tr>\n",
       "      <th>97</th>\n",
       "      <td>https://www.diarioantofagasta.cl/regional/talt...</td>\n",
       "      <td>Así está Taltal a 7 años del aluvión: Conmemor...</td>\n",
       "      <td>Este viernes 25 de marzo, se cumplieron 7 años...</td>\n",
       "    </tr>\n",
       "    <tr>\n",
       "      <th>100</th>\n",
       "      <td>https://www.diarioantofagasta.cl/regional/anto...</td>\n",
       "      <td>Día mundial del Cáncer de Cuello Uterino: Una ...</td>\n",
       "      <td>\"Hoy es imperdonable que hayan pacientes con u...</td>\n",
       "    </tr>\n",
       "    <tr>\n",
       "      <th>103</th>\n",
       "      <td>https://www.diarioantofagasta.cl/regional/anto...</td>\n",
       "      <td>No poseía licencia profesional: Conductor de c...</td>\n",
       "      <td>Las imágenes quedaron registradas en el dron d...</td>\n",
       "    </tr>\n",
       "    <tr>\n",
       "      <th>106</th>\n",
       "      <td>https://www.diarioantofagasta.cl/regional/anto...</td>\n",
       "      <td>¿Te sumarás?: Este sábado millones de personas...</td>\n",
       "      <td>Según la Agencia Internacional de Energía (AIE...</td>\n",
       "    </tr>\n",
       "  </tbody>\n",
       "</table>\n",
       "</div>"
      ],
      "text/plain": [
       "                                                   url  \\\n",
       "0    https://www.diarioantofagasta.cl/regional/anto...   \n",
       "1    https://www.diarioantofagasta.cl/regional/anto...   \n",
       "4    https://www.diarioantofagasta.cl/regional/anto...   \n",
       "7    https://www.diarioantofagasta.cl/regional/anto...   \n",
       "10   https://www.diarioantofagasta.cl/regional/anto...   \n",
       "13   https://www.diarioantofagasta.cl/regional/anto...   \n",
       "16   https://www.diarioantofagasta.cl/regional/1585...   \n",
       "19   https://www.diarioantofagasta.cl/regional/talt...   \n",
       "22   https://www.diarioantofagasta.cl/regional/anto...   \n",
       "25   https://www.diarioantofagasta.cl/regional/anto...   \n",
       "28   https://www.diarioantofagasta.cl/regional/cala...   \n",
       "31   https://www.diarioantofagasta.cl/regional/cala...   \n",
       "34   https://www.diarioantofagasta.cl/regional/anto...   \n",
       "79   https://www.diarioantofagasta.cl/regional/1584...   \n",
       "82   https://www.diarioantofagasta.cl/regional/anto...   \n",
       "85   https://www.diarioantofagasta.cl/regional/cala...   \n",
       "88   https://www.diarioantofagasta.cl/regional/toco...   \n",
       "91   https://www.diarioantofagasta.cl/regional/anto...   \n",
       "94   https://www.diarioantofagasta.cl/regional/anto...   \n",
       "97   https://www.diarioantofagasta.cl/regional/talt...   \n",
       "100  https://www.diarioantofagasta.cl/regional/anto...   \n",
       "103  https://www.diarioantofagasta.cl/regional/anto...   \n",
       "106  https://www.diarioantofagasta.cl/regional/anto...   \n",
       "\n",
       "                                                 title  \\\n",
       "0    Plan Paso a Paso: Cuatro comunas de la región ...   \n",
       "1    Plan Paso a Paso: Cuatro comunas de la región ...   \n",
       "4    Calama: Equipos mixtos de escuelas municipales...   \n",
       "7    ¡Final feliz!: Perritos comunitarios del hospi...   \n",
       "10   Juzgado de Garantía de Antofagasta acoge solic...   \n",
       "13   Las graves denuncias que recaen sobre el jefe ...   \n",
       "16   Calama: Con óptica y farmacia ciudadana inaugu...   \n",
       "19   Taltal: Al menos 13 años de presidio para auto...   \n",
       "22   VIDEO | Alcalde de Antofagasta por fuga de Kar...   \n",
       "25   Tragedia carretera en Antofagasta: Una mujer m...   \n",
       "28   Un homicidio simple, otro tentado y Violencia ...   \n",
       "31   Crimen en Calama: Investigan homicidio ocurrid...   \n",
       "34   Otra vez: Sorprenden a conductor de camión sin...   \n",
       "79   Nuevo accidente vehicular: 1 Mujer fallecida y...   \n",
       "82   ¿Se repite la historia de Karen Rojo con Jonat...   \n",
       "85   Camión que transportaba motores colisionó y se...   \n",
       "88   Tocopilla: Presentan oficio a Serviu por grave...   \n",
       "91   Mujer estaría retenida por su ex pareja en Cal...   \n",
       "94   Puerto de Ideas Antofagasta: La región volverá...   \n",
       "97   Así está Taltal a 7 años del aluvión: Conmemor...   \n",
       "100  Día mundial del Cáncer de Cuello Uterino: Una ...   \n",
       "103  No poseía licencia profesional: Conductor de c...   \n",
       "106  ¿Te sumarás?: Este sábado millones de personas...   \n",
       "\n",
       "                                               content  \n",
       "0    Se trata de as de Antofagasta, Mejillones, Sie...  \n",
       "1    Se trata de as de Antofagasta, Mejillones, Sie...  \n",
       "4    Entre sudor y esfuerzo fue que ocho escuelas m...  \n",
       "7    Los 7 canes mayores de edad llevan toda su vid...  \n",
       "10   Requerimiento del Ministerio Público acogido p...  \n",
       "13   Está contratado por un sueldo millonario como ...  \n",
       "16   Las dependencias, ubicadas donde anteriormente...  \n",
       "19   Entre otras penas accesorias, se adiciona la i...  \n",
       "22   Jonathan Velásquez afirmó en televisión que \"m...  \n",
       "25   Camioneta volcó dejando a una menor de edad co...  \n",
       "28   El 25 de diciembre de 2018 una mujer salió en ...  \n",
       "31   Los oficiales se encuentran realizando múltipl...  \n",
       "34   Pese a las fiscalizaciones y el constante llam...  \n",
       "79   El siniestro se registró en horas de la madrug...  \n",
       "82   Cuando la Municipalidad de Antofagasta aún es ...  \n",
       "85   El camión que transitaba por la Ruta 5 Norte y...  \n",
       "88   “Tuve que sacar una parte del marco para abrir...  \n",
       "91   Gritos de la mujer alertaron a Carabineros, qu...  \n",
       "94   En un evento de lanzamiento realizado en la Bi...  \n",
       "97   Este viernes 25 de marzo, se cumplieron 7 años...  \n",
       "100  \"Hoy es imperdonable que hayan pacientes con u...  \n",
       "103  Las imágenes quedaron registradas en el dron d...  \n",
       "106  Según la Agencia Internacional de Energía (AIE...  "
      ]
     },
     "execution_count": 16,
     "metadata": {},
     "output_type": "execute_result"
    }
   ],
   "source": [
    "df"
   ]
  },
  {
   "cell_type": "code",
   "execution_count": null,
   "id": "2e565eca",
   "metadata": {},
   "outputs": [],
   "source": []
  }
 ],
 "metadata": {
  "kernelspec": {
   "display_name": "Python 3 (ipykernel)",
   "language": "python",
   "name": "python3"
  },
  "language_info": {
   "codemirror_mode": {
    "name": "ipython",
    "version": 3
   },
   "file_extension": ".py",
   "mimetype": "text/x-python",
   "name": "python",
   "nbconvert_exporter": "python",
   "pygments_lexer": "ipython3",
   "version": "3.8.10"
  }
 },
 "nbformat": 4,
 "nbformat_minor": 5
}
