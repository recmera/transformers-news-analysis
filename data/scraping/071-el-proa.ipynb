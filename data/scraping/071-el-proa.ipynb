{
 "cells": [
  {
   "cell_type": "code",
   "execution_count": 3,
   "id": "e42c42ef",
   "metadata": {},
   "outputs": [],
   "source": [
    "import json\n",
    "import w3lib.html\n",
    "import random\n",
    "import os\n",
    "from datetime import datetime\n",
    "import requests\n",
    "import string\n",
    "import calendar\n",
    "import html\n",
    "import locale \n",
    "from requests_html import HTMLSession\n",
    "from requests_html import HTML\n",
    "import validators\n",
    "import pandas as pd\n",
    "from tqdm.notebook import tqdm\n",
    "\n",
    "import warnings\n",
    "warnings.filterwarnings('ignore')"
   ]
  },
  {
   "cell_type": "code",
   "execution_count": 4,
   "id": "79bb0b1d",
   "metadata": {},
   "outputs": [],
   "source": [
    "URL_SEED = 'https://elproa.cl/category/noticias-locales/page/1/'\n",
    "XPATH_HREF = \"//h2[@class='entry-title']/a/@href\""
   ]
  },
  {
   "cell_type": "code",
   "execution_count": 5,
   "id": "c8a6236e",
   "metadata": {},
   "outputs": [],
   "source": [
    "class Crawler():\n",
    "    \n",
    "    USER_AGENT_LIST = [\n",
    "        \"Mozilla/5.0 (Windows NT 6.1; WOW64) AppleWebKit/537.1 (KHTML, like Gecko) Chrome/22.0.1207.1 Safari/537.1\",\n",
    "        \"Mozilla/5.0 (X11; CrOS i686 2268.111.0) AppleWebKit/536.11 (KHTML, like Gecko) Chrome/20.0.1132.57 Safari/536.11\",\n",
    "        \"Mozilla/5.0 (Windows NT 6.1; WOW64) AppleWebKit/536.6 (KHTML, like Gecko) Chrome/20.0.1092.0 Safari/536.6\",\n",
    "        \"Mozilla/5.0 (Windows NT 6.2) AppleWebKit/536.6 (KHTML, like Gecko) Chrome/20.0.1090.0 Safari/536.6\",\n",
    "        \"Mozilla/5.0 (Windows NT 6.2; WOW64) AppleWebKit/537.1 (KHTML, like Gecko) Chrome/19.77.34.5 Safari/537.1\",\n",
    "        \"Mozilla/5.0 (X11; Linux x86_64) AppleWebKit/536.5 (KHTML, like Gecko) Chrome/19.0.1084.9 Safari/536.5\",\n",
    "        \"Mozilla/5.0 (Windows NT 6.0) AppleWebKit/536.5 (KHTML, like Gecko) Chrome/19.0.1084.36 Safari/536.5\",\n",
    "        \"Mozilla/5.0 (Windows NT 6.1; WOW64) AppleWebKit/536.3 (KHTML, like Gecko) Chrome/19.0.1063.0 Safari/536.3\",\n",
    "        \"Mozilla/5.0 (Windows NT 5.1) AppleWebKit/536.3 (KHTML, like Gecko) Chrome/19.0.1063.0 Safari/536.3\",\n",
    "        \"Mozilla/5.0 (Macintosh; Intel Mac OS X 10_8_0) AppleWebKit/536.3 (KHTML, like Gecko) Chrome/19.0.1063.0 Safari/536.3\",\n",
    "        \"Mozilla/5.0 (Windows NT 6.2) AppleWebKit/536.3 (KHTML, like Gecko) Chrome/19.0.1062.0 Safari/536.3\",\n",
    "        \"Mozilla/5.0 (Windows NT 6.1; WOW64) AppleWebKit/536.3 (KHTML, like Gecko) Chrome/19.0.1062.0 Safari/536.3\",\n",
    "        \"Mozilla/5.0 (Windows NT 6.2) AppleWebKit/536.3 (KHTML, like Gecko) Chrome/19.0.1061.1 Safari/536.3\",\n",
    "        \"Mozilla/5.0 (Windows NT 6.1; WOW64) AppleWebKit/536.3 (KHTML, like Gecko) Chrome/19.0.1061.1 Safari/536.3\",\n",
    "        \"Mozilla/5.0 (Windows NT 6.1) AppleWebKit/536.3 (KHTML, like Gecko) Chrome/19.0.1061.1 Safari/536.3\",\n",
    "        \"Mozilla/5.0 (Windows NT 6.2) AppleWebKit/536.3 (KHTML, like Gecko) Chrome/19.0.1061.0 Safari/536.3\",\n",
    "        \"Mozilla/5.0 (X11; Linux x86_64) AppleWebKit/535.24 (KHTML, like Gecko) Chrome/19.0.1055.1 Safari/535.24\",\n",
    "        \"Mozilla/5.0 (Windows NT 6.2; WOW64) AppleWebKit/535.24 (KHTML, like Gecko) Chrome/19.0.1055.1 Safari/535.24\"\n",
    "    ]\n",
    "\n",
    "    #Ruta XPATH hacia los enlaces que queremos recopilar\n",
    "    xpath_href=XPATH_HREF\n",
    "\n",
    "    #variable que permite listar todos los enlaces recopilado\n",
    "    url_list = []\n",
    "    \n",
    "    def _init_(self, URL_SEED, XPATH_HREF):        \n",
    "        pass\n",
    "\n",
    "    \n",
    "    def get(self,url):\n",
    "        session = HTMLSession()\n",
    "        header = dict()\n",
    "        header['user-agent'] = random.choice(self.USER_AGENT_LIST)\n",
    "        response = session.get(url,headers=header)        \n",
    "        return response\n",
    "    \n",
    "    def parse(self, response):\n",
    "        self.url_list = []\n",
    "        urls = response.html.xpath(self.xpath_href)\n",
    "        for url in urls:\n",
    "            self.url_list.append(url)\n"
   ]
  },
  {
   "cell_type": "code",
   "execution_count": 7,
   "id": "e016daec",
   "metadata": {
    "scrolled": true
   },
   "outputs": [
    {
     "data": {
      "application/vnd.jupyter.widget-view+json": {
       "model_id": "deacafc6f04c4066b46c266594f6e0ba",
       "version_major": 2,
       "version_minor": 0
      },
      "text/plain": [
       "  0%|          | 0/3 [00:00<?, ?it/s]"
      ]
     },
     "metadata": {},
     "output_type": "display_data"
    },
    {
     "data": {
      "text/plain": [
       "['https://elproa.cl/2022/04/valle-de-san-antonio-el-mas-premiado-territorio-vitivinicultora-nivel-internacional/',\n",
       " 'https://elproa.cl/2022/04/oscar-cantero-por-congelamiento-de-tarifas-en-el-transporte-este-beneficio-saldra-del-bolsillo-de-los-conductoresincautan-mas-de-3-mil-dosis-de-medicamentos-en-el-centro-de-san-ant/',\n",
       " 'https://elproa.cl/2022/04/gobernador-rodrigo-mundaca-y-seremi-de-medio-ambiente-abordaron-las-principales-areas-de-trabajo-en-conjunto-para-la-region/',\n",
       " 'https://elproa.cl/2022/04/conjunto-folklorico-puerto-san-antonio-tendra-audiciones-el-lunes-18-de-abril/',\n",
       " 'https://elproa.cl/2022/04/municipio-tabino-inicia-proceso-de-entrega-de-subvenciones/',\n",
       " 'https://elproa.cl/2022/04/personas-mayores-se-capacitan-para-ser-anfitriones-ambientales-del-humedal-rio-maipo/',\n",
       " 'https://elproa.cl/2022/04/aprueban-subvencion-municipal-para-nuevo-carro-bomba/',\n",
       " 'https://elproa.cl/2022/04/preocupa-situacion-de-perros-abandonados-en-el-fundo-de-llolleo/',\n",
       " 'https://elproa.cl/2022/04/senador-latorre-valoro-plan-de-recuperacion-economica-presentado-por-el-gobierno/',\n",
       " 'https://elproa.cl/2022/04/donan-al-musa-medallas-de-1918-cuando-se-conmemoraron-100-anos-de-la-batalla-de-maipu/',\n",
       " 'https://elproa.cl/2022/04/valle-de-san-antonio-el-mas-premiado-territorio-vitivinicultora-nivel-internacional/',\n",
       " 'https://elproa.cl/2022/04/oscar-cantero-por-congelamiento-de-tarifas-en-el-transporte-este-beneficio-saldra-del-bolsillo-de-los-conductoresincautan-mas-de-3-mil-dosis-de-medicamentos-en-el-centro-de-san-ant/',\n",
       " 'https://elproa.cl/2022/04/gobernador-rodrigo-mundaca-y-seremi-de-medio-ambiente-abordaron-las-principales-areas-de-trabajo-en-conjunto-para-la-region/',\n",
       " 'https://elproa.cl/2022/04/conjunto-folklorico-puerto-san-antonio-tendra-audiciones-el-lunes-18-de-abril/',\n",
       " 'https://elproa.cl/2022/04/municipio-tabino-inicia-proceso-de-entrega-de-subvenciones/',\n",
       " 'https://elproa.cl/2022/04/personas-mayores-se-capacitan-para-ser-anfitriones-ambientales-del-humedal-rio-maipo/',\n",
       " 'https://elproa.cl/2022/04/aprueban-subvencion-municipal-para-nuevo-carro-bomba/',\n",
       " 'https://elproa.cl/2022/04/preocupa-situacion-de-perros-abandonados-en-el-fundo-de-llolleo/',\n",
       " 'https://elproa.cl/2022/04/senador-latorre-valoro-plan-de-recuperacion-economica-presentado-por-el-gobierno/',\n",
       " 'https://elproa.cl/2022/04/donan-al-musa-medallas-de-1918-cuando-se-conmemoraron-100-anos-de-la-batalla-de-maipu/',\n",
       " 'https://elproa.cl/2022/04/seremi-de-salud-y-sernapesca-inician-en-santo-domingo-controles-carreteros-de-transporte-de-productos-del-mar/',\n",
       " 'https://elproa.cl/2022/04/sorpresa-en-el-mundo-de-las-criptomonedas-elon-musk-conto-su-teoria-acerca-del-creador-de-bitcoin/',\n",
       " 'https://elproa.cl/2022/04/seremi-de-oo-pp-queremos-llevar-adelante-obras-con-mucha-participacion-ciudadana/',\n",
       " 'https://elproa.cl/2022/04/santo-domingo-se-sumo-a-actividades-por-el-dia-internacional-de-la-concientizacion-sobre-el-autismo/',\n",
       " 'https://elproa.cl/2022/04/en-el-quisco-se-realizo-el-torneo-nacional-taekwondo-open-2022/',\n",
       " 'https://elproa.cl/2022/04/emotiva-despedida-a-reconocido-defensor-de-los-derechos-humanos-luis-sepulveda/',\n",
       " 'https://elproa.cl/2022/04/cartagena-estudiantes-del-liceo-poeta-vicente-huidobro-daran-asistencia-gratuita-para-realizar-la-operacion-renta-2022/',\n",
       " 'https://elproa.cl/2022/04/equipo-aguas-buenas-levanto-la-copa-de-oro-en-final-de-campeonato-de-baby-futbol-somos-historicas/',\n",
       " 'https://elproa.cl/2022/04/el-tabo-llaman-a-estudiantes-a-postular-a-beca-eduardo-jones/',\n",
       " 'https://elproa.cl/2022/04/la-informacion-que-no-tenias-sobre-los-polerones/']"
      ]
     },
     "execution_count": 7,
     "metadata": {},
     "output_type": "execute_result"
    }
   ],
   "source": [
    "urls=[]\n",
    "\n",
    "for page in tqdm(range(3)): # revisemos sólo 2 páginas\n",
    "    crawler = Crawler()\n",
    "    response = crawler.get('https://elproa.cl/category/noticias-locales/page/'+str(page))\n",
    "    crawler.parse(response)\n",
    "\n",
    "    \n",
    "    for url in crawler.url_list:\n",
    "        urls.append(url)\n",
    "\n",
    "    crawler.url_list = urls\n",
    "    \n",
    "crawler.url_list"
   ]
  },
  {
   "cell_type": "code",
   "execution_count": 8,
   "id": "e6099483",
   "metadata": {},
   "outputs": [
    {
     "data": {
      "text/plain": [
       "30"
      ]
     },
     "execution_count": 8,
     "metadata": {},
     "output_type": "execute_result"
    }
   ],
   "source": [
    "len(urls)"
   ]
  },
  {
   "cell_type": "code",
   "execution_count": 9,
   "id": "928cdb23",
   "metadata": {},
   "outputs": [
    {
     "data": {
      "text/plain": [
       "'https://elproa.cl/2022/04/valle-de-san-antonio-el-mas-premiado-territorio-vitivinicultora-nivel-internacional/'"
      ]
     },
     "execution_count": 9,
     "metadata": {},
     "output_type": "execute_result"
    }
   ],
   "source": [
    "urls[0]"
   ]
  },
  {
   "cell_type": "code",
   "execution_count": null,
   "id": "f8c2d5b1",
   "metadata": {},
   "outputs": [],
   "source": []
  },
  {
   "cell_type": "code",
   "execution_count": 14,
   "id": "d446e5df",
   "metadata": {},
   "outputs": [],
   "source": [
    "URL_NEWS = urls[0]\n",
    "XPATH_TITLE = \"//h1[@class='entry-title']\"\n",
    "XPATH_CONTENT =\"//div[@class='entry-content']//p\""
   ]
  },
  {
   "cell_type": "code",
   "execution_count": 15,
   "id": "fcc5edaf",
   "metadata": {},
   "outputs": [],
   "source": [
    "class Scraper:\n",
    "    \n",
    "    USER_AGENT_LIST = [\n",
    "        \"Mozilla/5.0 (Windows NT 6.1; WOW64) AppleWebKit/537.1 (KHTML, like Gecko) Chrome/22.0.1207.1 Safari/537.1\",\n",
    "        \"Mozilla/5.0 (X11; CrOS i686 2268.111.0) AppleWebKit/536.11 (KHTML, like Gecko) Chrome/20.0.1132.57 Safari/536.11\",\n",
    "        \"Mozilla/5.0 (Windows NT 6.1; WOW64) AppleWebKit/536.6 (KHTML, like Gecko) Chrome/20.0.1092.0 Safari/536.6\",\n",
    "        \"Mozilla/5.0 (Windows NT 6.2) AppleWebKit/536.6 (KHTML, like Gecko) Chrome/20.0.1090.0 Safari/536.6\",\n",
    "        \"Mozilla/5.0 (Windows NT 6.2; WOW64) AppleWebKit/537.1 (KHTML, like Gecko) Chrome/19.77.34.5 Safari/537.1\",\n",
    "        \"Mozilla/5.0 (X11; Linux x86_64) AppleWebKit/536.5 (KHTML, like Gecko) Chrome/19.0.1084.9 Safari/536.5\",\n",
    "        \"Mozilla/5.0 (Windows NT 6.0) AppleWebKit/536.5 (KHTML, like Gecko) Chrome/19.0.1084.36 Safari/536.5\",\n",
    "        \"Mozilla/5.0 (Windows NT 6.1; WOW64) AppleWebKit/536.3 (KHTML, like Gecko) Chrome/19.0.1063.0 Safari/536.3\",\n",
    "        \"Mozilla/5.0 (Windows NT 5.1) AppleWebKit/536.3 (KHTML, like Gecko) Chrome/19.0.1063.0 Safari/536.3\",\n",
    "        \"Mozilla/5.0 (Macintosh; Intel Mac OS X 10_8_0) AppleWebKit/536.3 (KHTML, like Gecko) Chrome/19.0.1063.0 Safari/536.3\",\n",
    "        \"Mozilla/5.0 (Windows NT 6.2) AppleWebKit/536.3 (KHTML, like Gecko) Chrome/19.0.1062.0 Safari/536.3\",\n",
    "        \"Mozilla/5.0 (Windows NT 6.1; WOW64) AppleWebKit/536.3 (KHTML, like Gecko) Chrome/19.0.1062.0 Safari/536.3\",\n",
    "        \"Mozilla/5.0 (Windows NT 6.2) AppleWebKit/536.3 (KHTML, like Gecko) Chrome/19.0.1061.1 Safari/536.3\",\n",
    "        \"Mozilla/5.0 (Windows NT 6.1; WOW64) AppleWebKit/536.3 (KHTML, like Gecko) Chrome/19.0.1061.1 Safari/536.3\",\n",
    "        \"Mozilla/5.0 (Windows NT 6.1) AppleWebKit/536.3 (KHTML, like Gecko) Chrome/19.0.1061.1 Safari/536.3\",\n",
    "        \"Mozilla/5.0 (Windows NT 6.2) AppleWebKit/536.3 (KHTML, like Gecko) Chrome/19.0.1061.0 Safari/536.3\",\n",
    "        \"Mozilla/5.0 (X11; Linux x86_64) AppleWebKit/535.24 (KHTML, like Gecko) Chrome/19.0.1055.1 Safari/535.24\",\n",
    "        \"Mozilla/5.0 (Windows NT 6.2; WOW64) AppleWebKit/535.24 (KHTML, like Gecko) Chrome/19.0.1055.1 Safari/535.24\"\n",
    "    ]\n",
    "\n",
    "    query_extract_title = XPATH_TITLE\n",
    "    query_extract_text =  XPATH_CONTENT\n",
    "\n",
    "    def _init_(self):\n",
    "        pass\n",
    "   \n",
    "    def get(self,url):\n",
    "        headers = {'user-agent':random.choice(self.USER_AGENT_LIST) }\n",
    "        session = HTMLSession()\n",
    "        response = session.get(url,headers=headers) \n",
    "        return response\n",
    "    \n",
    "    def clean_text(self, html_text):\n",
    "        text_without_tags = w3lib.html.remove_tags(html_text)\n",
    "        text_without_escape_chars = w3lib.html.replace_escape_chars(text_without_tags)\n",
    "        text_without_escape_chars = html.unescape(text_without_escape_chars)\n",
    "        text_without_whitespace = text_without_escape_chars.strip()\n",
    "        return text_without_whitespace\n",
    "\n",
    "    \n",
    "    #### main function ####\n",
    "    def parse(self, response):\n",
    "        \n",
    "        #URL\n",
    "        self.news_url = response.url\n",
    "        \n",
    "        #TITLE\n",
    "        self.news_title = response.html.xpath(self.query_extract_title)[0].text\n",
    "        self.news_title = self.clean_text(self.news_title)\n",
    "       \n",
    "        \n",
    "        #CONTENT\n",
    "        self.news_text = \"\"\n",
    "        \n",
    "        html_paragraphs = response.html.xpath(self.query_extract_text)\n",
    "        \n",
    "        for paragraph in html_paragraphs:\n",
    "            paragraph_content = w3lib.html.remove_tags(paragraph.text)    \n",
    "            text_cleaned = self.clean_text(paragraph_content)\n",
    "            self.news_text = self.news_text+text_cleaned\n"
   ]
  },
  {
   "cell_type": "code",
   "execution_count": 16,
   "id": "d9482704",
   "metadata": {},
   "outputs": [],
   "source": [
    "scraper = Scraper()\n",
    "response =scraper.get(URL_NEWS)"
   ]
  },
  {
   "cell_type": "code",
   "execution_count": 17,
   "id": "d72bc32e",
   "metadata": {},
   "outputs": [],
   "source": [
    "scraper.parse(response)"
   ]
  },
  {
   "cell_type": "code",
   "execution_count": 18,
   "id": "a2e4d401",
   "metadata": {},
   "outputs": [
    {
     "data": {
      "text/plain": [
       "'Valle de San Antonio el más premiado territorio vitivinícultora nivel internacional'"
      ]
     },
     "execution_count": 18,
     "metadata": {},
     "output_type": "execute_result"
    }
   ],
   "source": [
    "scraper.news_title"
   ]
  },
  {
   "cell_type": "code",
   "execution_count": 19,
   "id": "162264db",
   "metadata": {},
   "outputs": [
    {
     "data": {
      "text/plain": [
       "'Este 2022 será recordado para la enología nacional como el año en que la vitivinicultura del valle de San Antonio se consolidó en grandes ligas de clase mundial de vinos de alta gama, con cepas difíciles para su geografía como el Sauvignon Blanc, el Shirah, el Chardonay o el Pinot Noir.\\xa0 Asi lo explica Tomas Rivera Arteaga, elegido por el prestigioso report británico del comentarista de vinos, Tim Atkin, como “vitivinicultor del año”. Por si eso no fuera suficiente, la publicación inglesa eligió también al chileno Felipe Tosso Bruna, como “el enólogo destacado”, por su trabajo en Kalfuwine del valle de Leyda y en Viña Ventisquero.El reporte anual 2017 ya había puesto su foco en el trabajo de la vitivinicultura nacional del valle de San Antonio. Una de las menciones por aquellos años fue para una mujer, la destacada enóloga chilena Marilu Marin, propietaria de Viña Casa Marin de Leyda. Felipe Tosso comenta que: “en general todo el valle de la cordillera de la costa de San Antonio viene cultivando un prestigio sostenido, ya que ha tenido cosechas muy destacadas desde 2009 en adelante, lo que ha hecho que el mundo entorno a los vinos Premium, ponga su mirada de forma definitiva en ese terroir regional”.En ese sentido, el enólogo de la Universidad de Chile, señala que la iniciativa impulsada por Corfo, Fedefruta y las organizaciones regionales de contar con un Plan Territorial Integrado (PTI), de promoción del enoturismo y turismo de naturaleza es muy potente.” Tenemos\\xa0 \\xa0 \\xa0súper buenos vinos en Leyda, falta que los turistas se vayan sumando. Queremos habilitar nuestras bodegas para recibir a los visitantes e irnos replanteando lo que es necesario hacer en materia de turismo, ya que hay un potencial gigante” enfatiza.Añade que su propio reconocimiento como enólogo del año en la mencionada publicación inglesa,es el trabajo de todo un equipo y la confianza de las familias vitivinicultoras del valle. “Mi trabajo va a seguir y debo responder a los importadores, en mayo estaremos en Dusseldorf y luego en Inglaterra. Las 120 mil hectáreas de vides del país ya nos han situado como el sexto productor mundial de vinos” finaliza.Superando los vinos “correctos” y al hotelería a gran escala“Desde la perspectiva del territorio, necesitamos ser sustentables con la gente del valle, queremos ser siempre un aporte” comenta el vitivinicultor Tomas Rivera, quien sostiene además que se está conversando a nivel de asociación de vitivinicultores, ya que la apuesta es fomentar un hotelería a baja escala. “No queremos intervenir los lugares, ni tocar la flora nativa, más bien buscamos mantener corredores biológicos y zonas de conservación”.Destaca también el uso del riego tecnificado: “las viñas de San Antonio usan poca agua, la calidad de nuestros vinos radica justamente en ese balance de no tener agua en exceso. Es un valle Premium con una decena de productores ya especializados en este valle frio, con producción y fertilidad de rendimientos bajos. Estamos demostrando con eso la diversidad de un valle nuevo, muy joven, de parras con una antigüedad no superior a 20 años y de fama mundial”. Por lo mismo se sigue en búsqueda de sembrar nuevas vides en terrenos afines dentro de esta cordillera costera. “Pasamos de un vino correcto a vinos que reflejan el lugar. Leyda, por ejemplo, es de una acidez más alta, sus vinos son vibrantes y aromáticos, de un Ph superior” concluye.Vino, mar y poesíaLa directora ejecutiva de la Asociación de Viñas del Valles de San Antonio, miembro articulador del PTI de enoturismo y turismo de naturaleza, Mercedes Somalo Parra, nos comenta que estamos en presencia de un valle de nicho, con cultura e identidad. En ese sentido sostiene que los Bed&Breakfast cumplen con la personificación y cercanía con el paisaje. “Tenemos vinos de alta gama y gastronomía de muy buena calidad dentro de la cocina local. Estamos en un territorio poético, tenemos un legado importante y junto al vino, la gastronomía y los sabores del mar, le estamos dando sentido de lugar al valle de San Antonio”. La gestora se despide agradecida por la difusión y apoyo de Rutas Litoral, hoy está doblemente atareada en este famoso territorio lleno de experiencias por descubrir, es que la segunda semana de abril se reeditala vendimia, después de dos años impedidos por la pandemia, el aforo será limitado, los tickets se venderán por adelantado, como casi todos los vinos de este exclusivo valle con carácter y personalidad rupturista.'"
      ]
     },
     "execution_count": 19,
     "metadata": {},
     "output_type": "execute_result"
    }
   ],
   "source": [
    "scraper.news_text"
   ]
  },
  {
   "cell_type": "code",
   "execution_count": 20,
   "id": "a455d5d3",
   "metadata": {},
   "outputs": [],
   "source": [
    "#Verificamos que el scraper devuelve algo\n",
    "assert(len(scraper.news_title)>0)\n",
    "assert(len(scraper.news_text)>0)"
   ]
  },
  {
   "cell_type": "code",
   "execution_count": 21,
   "id": "524ce41b",
   "metadata": {},
   "outputs": [
    {
     "data": {
      "text/html": [
       "<div>\n",
       "<style scoped>\n",
       "    .dataframe tbody tr th:only-of-type {\n",
       "        vertical-align: middle;\n",
       "    }\n",
       "\n",
       "    .dataframe tbody tr th {\n",
       "        vertical-align: top;\n",
       "    }\n",
       "\n",
       "    .dataframe thead th {\n",
       "        text-align: right;\n",
       "    }\n",
       "</style>\n",
       "<table border=\"1\" class=\"dataframe\">\n",
       "  <thead>\n",
       "    <tr style=\"text-align: right;\">\n",
       "      <th></th>\n",
       "      <th>url</th>\n",
       "      <th>title</th>\n",
       "      <th>content</th>\n",
       "    </tr>\n",
       "  </thead>\n",
       "  <tbody>\n",
       "    <tr>\n",
       "      <th>0</th>\n",
       "      <td>https://elproa.cl/2022/04/valle-de-san-antonio...</td>\n",
       "      <td>Valle de San Antonio el más premiado territori...</td>\n",
       "      <td>Este 2022 será recordado para la enología naci...</td>\n",
       "    </tr>\n",
       "  </tbody>\n",
       "</table>\n",
       "</div>"
      ],
      "text/plain": [
       "                                                 url  \\\n",
       "0  https://elproa.cl/2022/04/valle-de-san-antonio...   \n",
       "\n",
       "                                               title  \\\n",
       "0  Valle de San Antonio el más premiado territori...   \n",
       "\n",
       "                                             content  \n",
       "0  Este 2022 será recordado para la enología naci...  "
      ]
     },
     "execution_count": 21,
     "metadata": {},
     "output_type": "execute_result"
    }
   ],
   "source": [
    "df = pd.DataFrame(data={'url': [URL_NEWS],'title':[scraper.news_title], 'content':[scraper.news_text]})\n",
    "df"
   ]
  },
  {
   "cell_type": "code",
   "execution_count": 22,
   "id": "267a48c8",
   "metadata": {},
   "outputs": [
    {
     "data": {
      "application/vnd.jupyter.widget-view+json": {
       "model_id": "a21c8533497547da9e9afc6c0ae35006",
       "version_major": 2,
       "version_minor": 0
      },
      "text/plain": [
       "  0%|          | 0/30 [00:00<?, ?it/s]"
      ]
     },
     "metadata": {},
     "output_type": "display_data"
    }
   ],
   "source": [
    "XPATH_TITLE = \"//h1[@class='entry-title']\"\n",
    "XPATH_CONTENT =\"//div[@class='entry-content']//p\"\n",
    "\n",
    "for url in tqdm(urls):\n",
    "    URL_NEWS = url\n",
    "    scraper = Scraper()\n",
    "    response =scraper.get(URL_NEWS)\n",
    "    scraper.parse(response)\n",
    "    df1 = pd.DataFrame(data={'url': url, 'title':scraper.news_title, 'content':scraper.news_text},index=['url', 'title', 'content'])\n",
    "    df = df.append(df1, ignore_index=True)\n",
    "df = df.drop_duplicates()\n"
   ]
  },
  {
   "cell_type": "code",
   "execution_count": 23,
   "id": "e9c55424",
   "metadata": {},
   "outputs": [
    {
     "data": {
      "text/html": [
       "<div>\n",
       "<style scoped>\n",
       "    .dataframe tbody tr th:only-of-type {\n",
       "        vertical-align: middle;\n",
       "    }\n",
       "\n",
       "    .dataframe tbody tr th {\n",
       "        vertical-align: top;\n",
       "    }\n",
       "\n",
       "    .dataframe thead th {\n",
       "        text-align: right;\n",
       "    }\n",
       "</style>\n",
       "<table border=\"1\" class=\"dataframe\">\n",
       "  <thead>\n",
       "    <tr style=\"text-align: right;\">\n",
       "      <th></th>\n",
       "      <th>url</th>\n",
       "      <th>title</th>\n",
       "      <th>content</th>\n",
       "    </tr>\n",
       "  </thead>\n",
       "  <tbody>\n",
       "    <tr>\n",
       "      <th>0</th>\n",
       "      <td>https://elproa.cl/2022/04/valle-de-san-antonio...</td>\n",
       "      <td>Valle de San Antonio el más premiado territori...</td>\n",
       "      <td>Este 2022 será recordado para la enología naci...</td>\n",
       "    </tr>\n",
       "    <tr>\n",
       "      <th>4</th>\n",
       "      <td>https://elproa.cl/2022/04/oscar-cantero-por-co...</td>\n",
       "      <td>Óscar Cantero por congelamiento de tarifas en ...</td>\n",
       "      <td>El dirigente microbusero, reiteró que en regio...</td>\n",
       "    </tr>\n",
       "    <tr>\n",
       "      <th>7</th>\n",
       "      <td>https://elproa.cl/2022/04/gobernador-rodrigo-m...</td>\n",
       "      <td>Gobernador Rodrigo Mundaca y Seremi de Medio A...</td>\n",
       "      <td>Con el propósito de delinear las principales á...</td>\n",
       "    </tr>\n",
       "    <tr>\n",
       "      <th>10</th>\n",
       "      <td>https://elproa.cl/2022/04/conjunto-folklorico-...</td>\n",
       "      <td>Conjunto Folklórico Puerto San Antonio tendrá ...</td>\n",
       "      <td>La conocida y emblemática agrupación folklóric...</td>\n",
       "    </tr>\n",
       "    <tr>\n",
       "      <th>13</th>\n",
       "      <td>https://elproa.cl/2022/04/municipio-tabino-ini...</td>\n",
       "      <td>Municipio tabino inicia proceso de entrega de ...</td>\n",
       "      <td>El alcalde Alfonso Muñoz a través de la Direcc...</td>\n",
       "    </tr>\n",
       "    <tr>\n",
       "      <th>16</th>\n",
       "      <td>https://elproa.cl/2022/04/personas-mayores-se-...</td>\n",
       "      <td>Personas mayores se capacitan para ser Anfitri...</td>\n",
       "      <td>El programa impulsado por Fundación Cosmos y l...</td>\n",
       "    </tr>\n",
       "    <tr>\n",
       "      <th>19</th>\n",
       "      <td>https://elproa.cl/2022/04/aprueban-subvencion-...</td>\n",
       "      <td>Aprueban subvención municipal para nuevo carro...</td>\n",
       "      <td>Esto se presentó en el marco de una serie de m...</td>\n",
       "    </tr>\n",
       "    <tr>\n",
       "      <th>22</th>\n",
       "      <td>https://elproa.cl/2022/04/preocupa-situacion-d...</td>\n",
       "      <td>Preocupa situación de perros abandonados en el...</td>\n",
       "      <td>Luis Alberto Puga, es un animalista que ya lle...</td>\n",
       "    </tr>\n",
       "    <tr>\n",
       "      <th>25</th>\n",
       "      <td>https://elproa.cl/2022/04/senador-latorre-valo...</td>\n",
       "      <td>Senador Latorre valoró plan de recuperación ec...</td>\n",
       "      <td>El senador de la región, Juan Ignacio Latorre,...</td>\n",
       "    </tr>\n",
       "    <tr>\n",
       "      <th>28</th>\n",
       "      <td>https://elproa.cl/2022/04/donan-al-musa-medall...</td>\n",
       "      <td>Donan al Musa medallas de 1918 cuando se conme...</td>\n",
       "      <td>Esta semana se materializó la entrega de estas...</td>\n",
       "    </tr>\n",
       "    <tr>\n",
       "      <th>61</th>\n",
       "      <td>https://elproa.cl/2022/04/seremi-de-salud-y-se...</td>\n",
       "      <td>Seremi de Salud y Sernapesca inician en Santo ...</td>\n",
       "      <td>Los operativos de fiscalización en conjunto co...</td>\n",
       "    </tr>\n",
       "    <tr>\n",
       "      <th>64</th>\n",
       "      <td>https://elproa.cl/2022/04/sorpresa-en-el-mundo...</td>\n",
       "      <td>Sorpresa en el mundo de las criptomonedas: Elo...</td>\n",
       "      <td>En el mundo financiero y tecnológico lo que di...</td>\n",
       "    </tr>\n",
       "    <tr>\n",
       "      <th>67</th>\n",
       "      <td>https://elproa.cl/2022/04/seremi-de-oo-pp-quer...</td>\n",
       "      <td>Seremi de OO.PP. “Queremos llevar adelante obr...</td>\n",
       "      <td>Ingeniero civil eléctrico con 25 años de ejerc...</td>\n",
       "    </tr>\n",
       "    <tr>\n",
       "      <th>70</th>\n",
       "      <td>https://elproa.cl/2022/04/santo-domingo-se-sum...</td>\n",
       "      <td>Santo Domingo se sumó a actividades por el Día...</td>\n",
       "      <td>Con actividades que tuvieron lugar en el front...</td>\n",
       "    </tr>\n",
       "    <tr>\n",
       "      <th>73</th>\n",
       "      <td>https://elproa.cl/2022/04/en-el-quisco-se-real...</td>\n",
       "      <td>En El Quisco se realizó el Torneo Nacional Tae...</td>\n",
       "      <td>Durante el fin de semana se realizó el Campeon...</td>\n",
       "    </tr>\n",
       "    <tr>\n",
       "      <th>76</th>\n",
       "      <td>https://elproa.cl/2022/04/emotiva-despedida-a-...</td>\n",
       "      <td>Emotiva despedida a reconocido defensor de los...</td>\n",
       "      <td>Tal como lo había pedido, fue en el Memorial a...</td>\n",
       "    </tr>\n",
       "    <tr>\n",
       "      <th>79</th>\n",
       "      <td>https://elproa.cl/2022/04/cartagena-estudiante...</td>\n",
       "      <td>Cartagena: Estudiantes del Liceo Poeta Vicente...</td>\n",
       "      <td>Durante este mes de abril, los alumnos de la e...</td>\n",
       "    </tr>\n",
       "    <tr>\n",
       "      <th>82</th>\n",
       "      <td>https://elproa.cl/2022/04/equipo-aguas-buenas-...</td>\n",
       "      <td>Equipo Aguas Buenas levantó la copa de oro en ...</td>\n",
       "      <td>Se desarrolló el pasado 31 de marzo en el Gimn...</td>\n",
       "    </tr>\n",
       "    <tr>\n",
       "      <th>85</th>\n",
       "      <td>https://elproa.cl/2022/04/el-tabo-llaman-a-est...</td>\n",
       "      <td>El Tabo: Llaman a estudiantes a postular a bec...</td>\n",
       "      <td>Hasta el 8 de abril estarán abiertas las postu...</td>\n",
       "    </tr>\n",
       "    <tr>\n",
       "      <th>88</th>\n",
       "      <td>https://elproa.cl/2022/04/la-informacion-que-n...</td>\n",
       "      <td>La información que no tenías sobre los polerones</td>\n",
       "      <td>De manera casi silenciosa, los polerones se co...</td>\n",
       "    </tr>\n",
       "  </tbody>\n",
       "</table>\n",
       "</div>"
      ],
      "text/plain": [
       "                                                  url  \\\n",
       "0   https://elproa.cl/2022/04/valle-de-san-antonio...   \n",
       "4   https://elproa.cl/2022/04/oscar-cantero-por-co...   \n",
       "7   https://elproa.cl/2022/04/gobernador-rodrigo-m...   \n",
       "10  https://elproa.cl/2022/04/conjunto-folklorico-...   \n",
       "13  https://elproa.cl/2022/04/municipio-tabino-ini...   \n",
       "16  https://elproa.cl/2022/04/personas-mayores-se-...   \n",
       "19  https://elproa.cl/2022/04/aprueban-subvencion-...   \n",
       "22  https://elproa.cl/2022/04/preocupa-situacion-d...   \n",
       "25  https://elproa.cl/2022/04/senador-latorre-valo...   \n",
       "28  https://elproa.cl/2022/04/donan-al-musa-medall...   \n",
       "61  https://elproa.cl/2022/04/seremi-de-salud-y-se...   \n",
       "64  https://elproa.cl/2022/04/sorpresa-en-el-mundo...   \n",
       "67  https://elproa.cl/2022/04/seremi-de-oo-pp-quer...   \n",
       "70  https://elproa.cl/2022/04/santo-domingo-se-sum...   \n",
       "73  https://elproa.cl/2022/04/en-el-quisco-se-real...   \n",
       "76  https://elproa.cl/2022/04/emotiva-despedida-a-...   \n",
       "79  https://elproa.cl/2022/04/cartagena-estudiante...   \n",
       "82  https://elproa.cl/2022/04/equipo-aguas-buenas-...   \n",
       "85  https://elproa.cl/2022/04/el-tabo-llaman-a-est...   \n",
       "88  https://elproa.cl/2022/04/la-informacion-que-n...   \n",
       "\n",
       "                                                title  \\\n",
       "0   Valle de San Antonio el más premiado territori...   \n",
       "4   Óscar Cantero por congelamiento de tarifas en ...   \n",
       "7   Gobernador Rodrigo Mundaca y Seremi de Medio A...   \n",
       "10  Conjunto Folklórico Puerto San Antonio tendrá ...   \n",
       "13  Municipio tabino inicia proceso de entrega de ...   \n",
       "16  Personas mayores se capacitan para ser Anfitri...   \n",
       "19  Aprueban subvención municipal para nuevo carro...   \n",
       "22  Preocupa situación de perros abandonados en el...   \n",
       "25  Senador Latorre valoró plan de recuperación ec...   \n",
       "28  Donan al Musa medallas de 1918 cuando se conme...   \n",
       "61  Seremi de Salud y Sernapesca inician en Santo ...   \n",
       "64  Sorpresa en el mundo de las criptomonedas: Elo...   \n",
       "67  Seremi de OO.PP. “Queremos llevar adelante obr...   \n",
       "70  Santo Domingo se sumó a actividades por el Día...   \n",
       "73  En El Quisco se realizó el Torneo Nacional Tae...   \n",
       "76  Emotiva despedida a reconocido defensor de los...   \n",
       "79  Cartagena: Estudiantes del Liceo Poeta Vicente...   \n",
       "82  Equipo Aguas Buenas levantó la copa de oro en ...   \n",
       "85  El Tabo: Llaman a estudiantes a postular a bec...   \n",
       "88   La información que no tenías sobre los polerones   \n",
       "\n",
       "                                              content  \n",
       "0   Este 2022 será recordado para la enología naci...  \n",
       "4   El dirigente microbusero, reiteró que en regio...  \n",
       "7   Con el propósito de delinear las principales á...  \n",
       "10  La conocida y emblemática agrupación folklóric...  \n",
       "13  El alcalde Alfonso Muñoz a través de la Direcc...  \n",
       "16  El programa impulsado por Fundación Cosmos y l...  \n",
       "19  Esto se presentó en el marco de una serie de m...  \n",
       "22  Luis Alberto Puga, es un animalista que ya lle...  \n",
       "25  El senador de la región, Juan Ignacio Latorre,...  \n",
       "28  Esta semana se materializó la entrega de estas...  \n",
       "61  Los operativos de fiscalización en conjunto co...  \n",
       "64  En el mundo financiero y tecnológico lo que di...  \n",
       "67  Ingeniero civil eléctrico con 25 años de ejerc...  \n",
       "70  Con actividades que tuvieron lugar en el front...  \n",
       "73  Durante el fin de semana se realizó el Campeon...  \n",
       "76  Tal como lo había pedido, fue en el Memorial a...  \n",
       "79  Durante este mes de abril, los alumnos de la e...  \n",
       "82  Se desarrolló el pasado 31 de marzo en el Gimn...  \n",
       "85  Hasta el 8 de abril estarán abiertas las postu...  \n",
       "88  De manera casi silenciosa, los polerones se co...  "
      ]
     },
     "execution_count": 23,
     "metadata": {},
     "output_type": "execute_result"
    }
   ],
   "source": [
    "df"
   ]
  },
  {
   "cell_type": "code",
   "execution_count": null,
   "id": "2e565eca",
   "metadata": {},
   "outputs": [],
   "source": []
  }
 ],
 "metadata": {
  "kernelspec": {
   "display_name": "Python 3 (ipykernel)",
   "language": "python",
   "name": "python3"
  },
  "language_info": {
   "codemirror_mode": {
    "name": "ipython",
    "version": 3
   },
   "file_extension": ".py",
   "mimetype": "text/x-python",
   "name": "python",
   "nbconvert_exporter": "python",
   "pygments_lexer": "ipython3",
   "version": "3.8.10"
  }
 },
 "nbformat": 4,
 "nbformat_minor": 5
}
