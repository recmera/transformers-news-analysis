{
 "cells": [
  {
   "cell_type": "code",
   "execution_count": 3,
   "id": "e42c42ef",
   "metadata": {},
   "outputs": [],
   "source": [
    "import json\n",
    "import w3lib.html\n",
    "import random\n",
    "import os\n",
    "from datetime import datetime\n",
    "import requests\n",
    "import string\n",
    "import calendar\n",
    "import html\n",
    "import locale \n",
    "from requests_html import HTMLSession\n",
    "from requests_html import HTML\n",
    "import validators\n",
    "import pandas as pd\n",
    "from tqdm.notebook import tqdm\n",
    "\n",
    "import warnings\n",
    "warnings.filterwarnings('ignore')"
   ]
  },
  {
   "cell_type": "code",
   "execution_count": 1,
   "id": "79bb0b1d",
   "metadata": {},
   "outputs": [],
   "source": [
    "URL_SEED = 'https://diariolongino.cl/iquique/page/1/'\n",
    "XPATH_HREF = \"//h3/a/@href\""
   ]
  },
  {
   "cell_type": "code",
   "execution_count": 2,
   "id": "c8a6236e",
   "metadata": {},
   "outputs": [],
   "source": [
    "class Crawler():\n",
    "    \n",
    "    USER_AGENT_LIST = [\n",
    "        \"Mozilla/5.0 (Windows NT 6.1; WOW64) AppleWebKit/537.1 (KHTML, like Gecko) Chrome/22.0.1207.1 Safari/537.1\",\n",
    "        \"Mozilla/5.0 (X11; CrOS i686 2268.111.0) AppleWebKit/536.11 (KHTML, like Gecko) Chrome/20.0.1132.57 Safari/536.11\",\n",
    "        \"Mozilla/5.0 (Windows NT 6.1; WOW64) AppleWebKit/536.6 (KHTML, like Gecko) Chrome/20.0.1092.0 Safari/536.6\",\n",
    "        \"Mozilla/5.0 (Windows NT 6.2) AppleWebKit/536.6 (KHTML, like Gecko) Chrome/20.0.1090.0 Safari/536.6\",\n",
    "        \"Mozilla/5.0 (Windows NT 6.2; WOW64) AppleWebKit/537.1 (KHTML, like Gecko) Chrome/19.77.34.5 Safari/537.1\",\n",
    "        \"Mozilla/5.0 (X11; Linux x86_64) AppleWebKit/536.5 (KHTML, like Gecko) Chrome/19.0.1084.9 Safari/536.5\",\n",
    "        \"Mozilla/5.0 (Windows NT 6.0) AppleWebKit/536.5 (KHTML, like Gecko) Chrome/19.0.1084.36 Safari/536.5\",\n",
    "        \"Mozilla/5.0 (Windows NT 6.1; WOW64) AppleWebKit/536.3 (KHTML, like Gecko) Chrome/19.0.1063.0 Safari/536.3\",\n",
    "        \"Mozilla/5.0 (Windows NT 5.1) AppleWebKit/536.3 (KHTML, like Gecko) Chrome/19.0.1063.0 Safari/536.3\",\n",
    "        \"Mozilla/5.0 (Macintosh; Intel Mac OS X 10_8_0) AppleWebKit/536.3 (KHTML, like Gecko) Chrome/19.0.1063.0 Safari/536.3\",\n",
    "        \"Mozilla/5.0 (Windows NT 6.2) AppleWebKit/536.3 (KHTML, like Gecko) Chrome/19.0.1062.0 Safari/536.3\",\n",
    "        \"Mozilla/5.0 (Windows NT 6.1; WOW64) AppleWebKit/536.3 (KHTML, like Gecko) Chrome/19.0.1062.0 Safari/536.3\",\n",
    "        \"Mozilla/5.0 (Windows NT 6.2) AppleWebKit/536.3 (KHTML, like Gecko) Chrome/19.0.1061.1 Safari/536.3\",\n",
    "        \"Mozilla/5.0 (Windows NT 6.1; WOW64) AppleWebKit/536.3 (KHTML, like Gecko) Chrome/19.0.1061.1 Safari/536.3\",\n",
    "        \"Mozilla/5.0 (Windows NT 6.1) AppleWebKit/536.3 (KHTML, like Gecko) Chrome/19.0.1061.1 Safari/536.3\",\n",
    "        \"Mozilla/5.0 (Windows NT 6.2) AppleWebKit/536.3 (KHTML, like Gecko) Chrome/19.0.1061.0 Safari/536.3\",\n",
    "        \"Mozilla/5.0 (X11; Linux x86_64) AppleWebKit/535.24 (KHTML, like Gecko) Chrome/19.0.1055.1 Safari/535.24\",\n",
    "        \"Mozilla/5.0 (Windows NT 6.2; WOW64) AppleWebKit/535.24 (KHTML, like Gecko) Chrome/19.0.1055.1 Safari/535.24\"\n",
    "    ]\n",
    "\n",
    "    #Ruta XPATH hacia los enlaces que queremos recopilar\n",
    "    xpath_href=XPATH_HREF\n",
    "\n",
    "    #variable que permite listar todos los enlaces recopilado\n",
    "    url_list = []\n",
    "    \n",
    "    def _init_(self, URL_SEED, XPATH_HREF):        \n",
    "        pass\n",
    "\n",
    "    \n",
    "    def get(self,url):\n",
    "        session = HTMLSession()\n",
    "        header = dict()\n",
    "        header['user-agent'] = random.choice(self.USER_AGENT_LIST)\n",
    "        response = session.get(url,headers=header)        \n",
    "        return response\n",
    "    \n",
    "    def parse(self, response):\n",
    "        self.url_list = []\n",
    "        urls = response.html.xpath(self.xpath_href)\n",
    "        for url in urls:\n",
    "            self.url_list.append(url)\n"
   ]
  },
  {
   "cell_type": "code",
   "execution_count": 4,
   "id": "e016daec",
   "metadata": {
    "scrolled": true
   },
   "outputs": [
    {
     "data": {
      "application/vnd.jupyter.widget-view+json": {
       "model_id": "bb5864678591427bbf0a0e127bf8a727",
       "version_major": 2,
       "version_minor": 0
      },
      "text/plain": [
       "  0%|          | 0/3 [00:00<?, ?it/s]"
      ]
     },
     "metadata": {},
     "output_type": "display_data"
    },
    {
     "data": {
      "application/vnd.jupyter.widget-view+json": {
       "model_id": "0a80fc9d6acd4392ad9469aff77fb19e",
       "version_major": 2,
       "version_minor": 0
      },
      "text/plain": [
       "  0%|          | 0/3 [00:00<?, ?it/s]"
      ]
     },
     "metadata": {},
     "output_type": "display_data"
    },
    {
     "data": {
      "application/vnd.jupyter.widget-view+json": {
       "model_id": "050679e66057455fb4c0f31a69b69034",
       "version_major": 2,
       "version_minor": 0
      },
      "text/plain": [
       "  0%|          | 0/3 [00:00<?, ?it/s]"
      ]
     },
     "metadata": {},
     "output_type": "display_data"
    },
    {
     "data": {
      "application/vnd.jupyter.widget-view+json": {
       "model_id": "4ae1ab14cf4f44ac88be39bc21a69c3a",
       "version_major": 2,
       "version_minor": 0
      },
      "text/plain": [
       "  0%|          | 0/3 [00:00<?, ?it/s]"
      ]
     },
     "metadata": {},
     "output_type": "display_data"
    },
    {
     "data": {
      "text/plain": [
       "['https://diariolongino.cl/diputado-trisotti-y-ausencia-en-designacion-de-seremis-es-una-clara-senal-de-que-para-este-gobierno-las-regiones-no-son-importantes/',\n",
       " 'https://diariolongino.cl/constituyente-jimenez-informa-sobre-importantes-hitos-para-el-pueblo-aymara-en-la-futura-carta-fundamental/',\n",
       " 'https://diariolongino.cl/no-seria-mala-idea-proyectar-tranvias-modernos-por-las-calles-de-iquique/',\n",
       " 'https://diariolongino.cl/en-encuentro-regional-de-programas-de-sernamg-junto-al-apoyo-del-municipio-iquiqueno/',\n",
       " 'https://diariolongino.cl/recolectan-una-tonelada-de-desechos-en-ex-ballenera-bajo-molle-de-iquique/',\n",
       " 'https://diariolongino.cl/gobernador-carvajal-gestionara-con-ministra-de-salud-la-realizacion-de-la-fiesta-de-san-lorenzo-de-tarapaca/',\n",
       " 'https://diariolongino.cl/senador-soria-expone-ante-presidente-boric-la-urgencia-de-un-plan-de-vivienda-y-para-el-puerto/',\n",
       " 'https://diariolongino.cl/pesar-por-fallecimiento-del-caporal-de-diablada-devotos-de-san-lorenzo/',\n",
       " 'https://diariolongino.cl/fiscalia-y-pdi-desarticularon-celula-del-tren-de-aragua-que-operaba-en-chile/',\n",
       " 'https://diariolongino.cl/maquina-limpiadora-de-playas-ha-retirado-80-toneladas-de-residuos-en-iquique/',\n",
       " 'https://diariolongino.cl/diputado-trisotti-y-ausencia-en-designacion-de-seremis-es-una-clara-senal-de-que-para-este-gobierno-las-regiones-no-son-importantes/',\n",
       " 'https://diariolongino.cl/constituyente-jimenez-informa-sobre-importantes-hitos-para-el-pueblo-aymara-en-la-futura-carta-fundamental/',\n",
       " 'https://diariolongino.cl/no-seria-mala-idea-proyectar-tranvias-modernos-por-las-calles-de-iquique/',\n",
       " 'https://diariolongino.cl/en-encuentro-regional-de-programas-de-sernamg-junto-al-apoyo-del-municipio-iquiqueno/',\n",
       " 'https://diariolongino.cl/recolectan-una-tonelada-de-desechos-en-ex-ballenera-bajo-molle-de-iquique/',\n",
       " 'https://diariolongino.cl/gobernador-carvajal-gestionara-con-ministra-de-salud-la-realizacion-de-la-fiesta-de-san-lorenzo-de-tarapaca/',\n",
       " 'https://diariolongino.cl/senador-soria-expone-ante-presidente-boric-la-urgencia-de-un-plan-de-vivienda-y-para-el-puerto/',\n",
       " 'https://diariolongino.cl/pesar-por-fallecimiento-del-caporal-de-diablada-devotos-de-san-lorenzo/',\n",
       " 'https://diariolongino.cl/fiscalia-y-pdi-desarticularon-celula-del-tren-de-aragua-que-operaba-en-chile/',\n",
       " 'https://diariolongino.cl/maquina-limpiadora-de-playas-ha-retirado-80-toneladas-de-residuos-en-iquique/',\n",
       " 'https://diariolongino.cl/gobernador-carvajal-reingresa-a-contraloria-el-plan-regulador-intercomunal-costero-de-tarapaca/',\n",
       " 'https://diariolongino.cl/fiscalia-y-os-7-detienen-clanes-familiares-que-abastecian-de-droga-a-microtraficantes/',\n",
       " 'https://diariolongino.cl/capturan-a-lider-de-cartel-criminal-venezolano-denominado-tren-de-aragua/',\n",
       " 'https://diariolongino.cl/consejeros-regionales-eligieron-a-quienes-ocuparan-los-cargos-de-presidente-y-vicepresidente-de-las-14-comisiones-en-tarapaca/',\n",
       " 'https://diariolongino.cl/retenes-moviles-para-iquique-y-alto-hospicio-recibio-carabineros/',\n",
       " 'https://diariolongino.cl/alcaldes-coinciden-en-mantener-el-estado-de-excepcion-en-tarapaca/',\n",
       " 'https://diariolongino.cl/personas-con-discapacidad-y-enfermos-cronicos-ahora-podran-inscribirse-y-recibir-pulseras-de-reconocimiento/',\n",
       " 'https://diariolongino.cl/en-la-convencion-constitucional-estamos-presenciando-contradicciones-enormes/',\n",
       " 'https://diariolongino.cl/nos-parece-inaceptable-que-el-estado-no-garantice-el-derecho-a-la-educacion/',\n",
       " 'https://diariolongino.cl/gobernador-carvajal-entrego-nuevos-lineamientos-para-la-corporacion-tarapaca/',\n",
       " 'https://diariolongino.cl/arte-urbano-se-tomo-el-mirador-del-parque-los-condores/',\n",
       " 'https://diariolongino.cl/alcalde-patricio-ferreira-valora-reingreso-a-contraloria-de-plan-regulador-intercomunal-de-tarapaca%ef%bf%bc/',\n",
       " 'https://diariolongino.cl/multitudinaria-y-entretenida-jornada-familiar-la-calle-de-los-ninos-en-plaza-de-armas/',\n",
       " 'https://diariolongino.cl/condenan-a-cinco-miembros-de-la-banda-los-juanitos-por-homicidio-frustrado/',\n",
       " 'https://diariolongino.cl/gracias-al-trabajo-de-onemi-y-distintas-organizaciones-se-logro-poner-fin-al-incendio/',\n",
       " 'https://diariolongino.cl/en-prision-preventiva-quedo-hombre-que-violo-a-su-bisnieta-en-alto-hospicio/',\n",
       " 'https://diariolongino.cl/relevan-esfuerzo-de-equipo-humano-y-alianza-publica-privada-en-la-formacion-de-alumnos-de-alto-hospicio/',\n",
       " 'https://diariolongino.cl/alcalde-patricio-ferreira-en-el-ex-vertedero-de-el-boro-solo-resta-por-extinguir-el-10-por-ciento-del-incendio/',\n",
       " 'https://diariolongino.cl/atencion-primaria-de-salud-de-alto-hospicio-conmemora-la-semana-de-la-prevencion-de-la-tuberculosis/',\n",
       " 'https://diariolongino.cl/mas-de-50-pequenos-marchan-por-el-cuidado-del-agua/',\n",
       " 'https://diariolongino.cl/alcalde-patricio-ferreira-valora-reingreso-a-contraloria-de-plan-regulador-intercomunal-de-tarapaca%ef%bf%bc/',\n",
       " 'https://diariolongino.cl/multitudinaria-y-entretenida-jornada-familiar-la-calle-de-los-ninos-en-plaza-de-armas/',\n",
       " 'https://diariolongino.cl/condenan-a-cinco-miembros-de-la-banda-los-juanitos-por-homicidio-frustrado/',\n",
       " 'https://diariolongino.cl/gracias-al-trabajo-de-onemi-y-distintas-organizaciones-se-logro-poner-fin-al-incendio/',\n",
       " 'https://diariolongino.cl/en-prision-preventiva-quedo-hombre-que-violo-a-su-bisnieta-en-alto-hospicio/',\n",
       " 'https://diariolongino.cl/relevan-esfuerzo-de-equipo-humano-y-alianza-publica-privada-en-la-formacion-de-alumnos-de-alto-hospicio/',\n",
       " 'https://diariolongino.cl/alcalde-patricio-ferreira-en-el-ex-vertedero-de-el-boro-solo-resta-por-extinguir-el-10-por-ciento-del-incendio/',\n",
       " 'https://diariolongino.cl/atencion-primaria-de-salud-de-alto-hospicio-conmemora-la-semana-de-la-prevencion-de-la-tuberculosis/',\n",
       " 'https://diariolongino.cl/mas-de-50-pequenos-marchan-por-el-cuidado-del-agua/',\n",
       " 'https://diariolongino.cl/entregan-dos-retenes-moviles-para-alto-hospicio/',\n",
       " 'https://diariolongino.cl/pdi-investiga-homicidio-con-arma-de-fuego-ocurrido-en-el-sector-la-pampa-de-alto-hospicio/',\n",
       " 'https://diariolongino.cl/gobernador-carvajal-evidencia-mala-gestion-en-el-plan-socavones/',\n",
       " 'https://diariolongino.cl/liceo-bicentenario-minero-juan-pablo-ii-de-alto-hospicio-obtiene-100-de-excelencia-academica-2022-2023/',\n",
       " 'https://diariolongino.cl/cesfam-dr-yandry-anazco-montero-realizo-tercer-simulacro-de-sismo/',\n",
       " 'https://diariolongino.cl/masiva-participacion-de-la-ciudadania-en-actividades-culturales-y-deportivas-en-el-parque-de-los-condores%ef%bf%bc/',\n",
       " 'https://diariolongino.cl/collahuasi-apoya-labores-de-mitigacion-y-extincion-de-incendio-en-ex-vertedero-el-boro-de-alto-hospicio/',\n",
       " 'https://diariolongino.cl/el-sabado-en-el-parque-de-los-condores/',\n",
       " 'https://diariolongino.cl/para-contener-emergencia-en-ex-vertedero-el-boro/',\n",
       " 'https://diariolongino.cl/cinco-funcionarios-de-la-salud-municipal-de-alto-hospicio-fueron-atacados-por-sujeto-sin-razon-o-provocacion-alguna/',\n",
       " 'https://diariolongino.cl/en-prision-preventiva-quedo-imputado-por-violacion-y-almacenamiento-pornografia-infantil/',\n",
       " 'https://diariolongino.cl/jovenes-del-tamarugal-finalizan-practicas-profesionales-en-centro-de-investigacion-agropecuario-de-pozo-almonte/',\n",
       " 'https://diariolongino.cl/clinica-deportiva-de-tenis-en-pica-busca-incentivar-habilidades-en-ninos-y-jovenes/',\n",
       " 'https://diariolongino.cl/en-suspenso-esta-la-festividad-religiosa-de-la-virgen-de-la-tirana-por-causa-de-la-pandemia/',\n",
       " 'https://diariolongino.cl/confirman-suspension-condicional-del-procedimiento-en-causa-por-infraccion-a-ley-electoral/',\n",
       " 'https://diariolongino.cl/instalaran-internet-dedicado-en-la-exoficina-salitrera-santiago-humberstone/',\n",
       " 'https://diariolongino.cl/guagua-de-meses-muere-tras-cruzar-con-su-familia-a-desde-bolivia-a-colchane/',\n",
       " 'https://diariolongino.cl/alcalde-javier-garcia-pide-abrir-frontera-tras-muerte-de-dos-migrantes/',\n",
       " 'https://diariolongino.cl/teck-apoya-programa-de-nivelacion-de-estudios-para-40-participantes-depozo-almonte-y-pica/',\n",
       " 'https://diariolongino.cl/tenemos-que-avanzar-hacia-la-reapertura-de-las-fronteras/',\n",
       " 'https://diariolongino.cl/se-dio-el-vamos-a-importante-proyecto-para-adultos-mayores-de-pozo-almonte/',\n",
       " 'https://diariolongino.cl/clinica-deportiva-de-tenis-en-pica-busca-incentivar-habilidades-en-ninos-y-jovenes/',\n",
       " 'https://diariolongino.cl/en-suspenso-esta-la-festividad-religiosa-de-la-virgen-de-la-tirana-por-causa-de-la-pandemia/',\n",
       " 'https://diariolongino.cl/confirman-suspension-condicional-del-procedimiento-en-causa-por-infraccion-a-ley-electoral/',\n",
       " 'https://diariolongino.cl/instalaran-internet-dedicado-en-la-exoficina-salitrera-santiago-humberstone/',\n",
       " 'https://diariolongino.cl/guagua-de-meses-muere-tras-cruzar-con-su-familia-a-desde-bolivia-a-colchane/',\n",
       " 'https://diariolongino.cl/alcalde-javier-garcia-pide-abrir-frontera-tras-muerte-de-dos-migrantes/',\n",
       " 'https://diariolongino.cl/teck-apoya-programa-de-nivelacion-de-estudios-para-40-participantes-depozo-almonte-y-pica/',\n",
       " 'https://diariolongino.cl/tenemos-que-avanzar-hacia-la-reapertura-de-las-fronteras/',\n",
       " 'https://diariolongino.cl/se-dio-el-vamos-a-importante-proyecto-para-adultos-mayores-de-pozo-almonte/',\n",
       " 'https://diariolongino.cl/condenan-a-10-anos-y-un-dia-de-presidio-a-acusado-por-violacion-de-nina-en-camina/',\n",
       " 'https://diariolongino.cl/condenan-a-10-anos-y-un-dia-de-presidio-a-acusado-por-violacion-de-nina-en-camina/',\n",
       " 'https://diariolongino.cl/correoschile-inaugura-nueva-agencia-de-atencion-en-colchane/',\n",
       " 'https://diariolongino.cl/polemica-por-falta-de-alimentacion-para-estudiantes-en-colchane/',\n",
       " 'https://diariolongino.cl/entregan-fondo-para-ordenamiento-de-materiales-en-salitrera-humberstone/',\n",
       " 'https://diariolongino.cl/comuna-de-huara-se-encuentra-en-alerta-amarilla/',\n",
       " 'https://diariolongino.cl/detenidos-dos-extranjeros-por-contrabando-de-cigarrillos/',\n",
       " 'https://diariolongino.cl/general-marcos-jaque-cereceda/',\n",
       " 'https://diariolongino.cl/registro-publico-de-tierras-y-aguas-indigenas-de-conadi-fue-habilitado-de-manera-online-para-facilitar-tramites-de-usuarios-del-tamarugal/',\n",
       " 'https://diariolongino.cl/continua-el-avance-en-los-trabajos-de-maquinaria-pesada-en-colchane/',\n",
       " 'https://diariolongino.cl/vendimia-2022-comienza-con-nuevas-medidas-de-control/',\n",
       " 'https://diariolongino.cl/firman-convenio-que-prioriza-ingreso-de-ninos-y-ninas-de-mejor-ninez-en-jardines-infantiles-junji/',\n",
       " 'https://diariolongino.cl/sernameg-expone-en-conversatorio-internacional-sobre-abordaje-y-atencion-en-violencia-de-genero/',\n",
       " 'https://diariolongino.cl/la-propuesta-de-insulza-es-urgente-empadronar-a-migrantes-indocumentados-para-saber-quienes-son/',\n",
       " 'https://diariolongino.cl/aprueban-tercera-extension-del-estado-de-excepcion/',\n",
       " 'https://diariolongino.cl/mineduc-y-minsal-dan-a-conocer-nuevas-orientaciones-sanitarias-para-el-reencuentro-de-las-comunidades-educativas/',\n",
       " 'https://diariolongino.cl/ministro-carlos-montes-entrega-detalles/',\n",
       " 'https://diariolongino.cl/senador-insulza-nuestra-region-tendra-un-lugar-fundamental-en-la-agenda-de-gobierno/',\n",
       " 'https://diariolongino.cl/institutos-teleton-de-antofagasta-coquimbo-y-concepcion-obtienen-laprestigiosa-acreditacion-carf-international/',\n",
       " 'https://diariolongino.cl/una-entrevista-humana-las-caras-de-la-moneda-con-don-francisco-y-gabriel-boric/',\n",
       " 'https://diariolongino.cl/ministro-juan-carlos-garcia-se-reune-con-todos-los-gobernadores-regionales-en-su-primera-actividad-oficial-a-cargo-del-mop/',\n",
       " 'https://diariolongino.cl/firman-convenio-que-prioriza-ingreso-de-ninos-y-ninas-de-mejor-ninez-en-jardines-infantiles-junji/',\n",
       " 'https://diariolongino.cl/sernameg-expone-en-conversatorio-internacional-sobre-abordaje-y-atencion-en-violencia-de-genero/',\n",
       " 'https://diariolongino.cl/la-propuesta-de-insulza-es-urgente-empadronar-a-migrantes-indocumentados-para-saber-quienes-son/',\n",
       " 'https://diariolongino.cl/aprueban-tercera-extension-del-estado-de-excepcion/',\n",
       " 'https://diariolongino.cl/mineduc-y-minsal-dan-a-conocer-nuevas-orientaciones-sanitarias-para-el-reencuentro-de-las-comunidades-educativas/',\n",
       " 'https://diariolongino.cl/ministro-carlos-montes-entrega-detalles/',\n",
       " 'https://diariolongino.cl/senador-insulza-nuestra-region-tendra-un-lugar-fundamental-en-la-agenda-de-gobierno/',\n",
       " 'https://diariolongino.cl/institutos-teleton-de-antofagasta-coquimbo-y-concepcion-obtienen-laprestigiosa-acreditacion-carf-international/',\n",
       " 'https://diariolongino.cl/una-entrevista-humana-las-caras-de-la-moneda-con-don-francisco-y-gabriel-boric/',\n",
       " 'https://diariolongino.cl/ministro-juan-carlos-garcia-se-reune-con-todos-los-gobernadores-regionales-en-su-primera-actividad-oficial-a-cargo-del-mop/',\n",
       " 'https://diariolongino.cl/mejor-ninez-y-carabineros-fortalecen-coordinacion-intersectorial/',\n",
       " 'https://diariolongino.cl/ministerio-de-energia-pondra-enfasis-en-la-mujer-y-los-derechos-humanos/',\n",
       " 'https://diariolongino.cl/presidente-del-peru-pedro-castillo/',\n",
       " 'https://diariolongino.cl/mejor-ninez-busca-sumar-nuevas-familias-de-acogida-especializada/',\n",
       " 'https://diariolongino.cl/general-javier-iturriaga-del-campo-asumio-como-comandante-en-jefe-del-ejercito/',\n",
       " 'https://diariolongino.cl/gabriel-boric-asume-como-nuevo-presidente-de-la-republica-ante-el-pueblo-y-los-pueblos-de-chile-si-prometo/',\n",
       " 'https://diariolongino.cl/mas-de-64-000-productores-indigenas-accedieron-programas-regulares-y-financiamiento-de-indap/',\n",
       " 'https://diariolongino.cl/mineduc-destaca-que-inicio-de-ano-academico-en-la-educacion-superior-sera-principalmente-presencial/',\n",
       " 'https://diariolongino.cl/mop-antofagasta-ejecuto-mas-de-460-mil-millones-en-obras-publicas-en-los-ultimos-cuatro-anos/',\n",
       " 'https://diariolongino.cl/senador-insulza-queremos-desincentivar-la-utilizacion-de-menores-en-delitos/']"
      ]
     },
     "execution_count": 4,
     "metadata": {},
     "output_type": "execute_result"
    }
   ],
   "source": [
    "urls=[]\n",
    "\n",
    "strs = [\"https://diariolongino.cl/iquique/page/\", \n",
    "        \"https://diariolongino.cl/alto-hospicio/page/\", \n",
    "        \"https://diariolongino.cl/tamarugal/page/\",\n",
    "        \"https://diariolongino.cl/nacional/page/\"]\n",
    "\n",
    "for s in strs:\n",
    "    \n",
    "    for page in tqdm(range(3)): # revisemos sólo 2 páginas\n",
    "        crawler = Crawler()\n",
    "        response = crawler.get(s+str(page))\n",
    "        crawler.parse(response)\n",
    "\n",
    "\n",
    "        for url in crawler.url_list:\n",
    "            urls.append(url)\n",
    "\n",
    "    \n",
    "urls"
   ]
  },
  {
   "cell_type": "code",
   "execution_count": 5,
   "id": "e6099483",
   "metadata": {
    "scrolled": true
   },
   "outputs": [
    {
     "data": {
      "text/plain": [
       "120"
      ]
     },
     "execution_count": 5,
     "metadata": {},
     "output_type": "execute_result"
    }
   ],
   "source": [
    "len(urls)"
   ]
  },
  {
   "cell_type": "code",
   "execution_count": 6,
   "id": "928cdb23",
   "metadata": {},
   "outputs": [
    {
     "data": {
      "text/plain": [
       "'https://diariolongino.cl/diputado-trisotti-y-ausencia-en-designacion-de-seremis-es-una-clara-senal-de-que-para-este-gobierno-las-regiones-no-son-importantes/'"
      ]
     },
     "execution_count": 6,
     "metadata": {},
     "output_type": "execute_result"
    }
   ],
   "source": [
    "urls[0]"
   ]
  },
  {
   "cell_type": "code",
   "execution_count": null,
   "id": "f8c2d5b1",
   "metadata": {},
   "outputs": [],
   "source": []
  },
  {
   "cell_type": "code",
   "execution_count": 8,
   "id": "d446e5df",
   "metadata": {},
   "outputs": [],
   "source": [
    "URL_NEWS = urls[0]\n",
    "XPATH_TITLE = \"//h1\"\n",
    "XPATH_CONTENT =\"//div[@class='elementor-widget-container']//p\""
   ]
  },
  {
   "cell_type": "code",
   "execution_count": 9,
   "id": "fcc5edaf",
   "metadata": {},
   "outputs": [],
   "source": [
    "class Scraper:\n",
    "    \n",
    "    USER_AGENT_LIST = [\n",
    "        \"Mozilla/5.0 (Windows NT 6.1; WOW64) AppleWebKit/537.1 (KHTML, like Gecko) Chrome/22.0.1207.1 Safari/537.1\",\n",
    "        \"Mozilla/5.0 (X11; CrOS i686 2268.111.0) AppleWebKit/536.11 (KHTML, like Gecko) Chrome/20.0.1132.57 Safari/536.11\",\n",
    "        \"Mozilla/5.0 (Windows NT 6.1; WOW64) AppleWebKit/536.6 (KHTML, like Gecko) Chrome/20.0.1092.0 Safari/536.6\",\n",
    "        \"Mozilla/5.0 (Windows NT 6.2) AppleWebKit/536.6 (KHTML, like Gecko) Chrome/20.0.1090.0 Safari/536.6\",\n",
    "        \"Mozilla/5.0 (Windows NT 6.2; WOW64) AppleWebKit/537.1 (KHTML, like Gecko) Chrome/19.77.34.5 Safari/537.1\",\n",
    "        \"Mozilla/5.0 (X11; Linux x86_64) AppleWebKit/536.5 (KHTML, like Gecko) Chrome/19.0.1084.9 Safari/536.5\",\n",
    "        \"Mozilla/5.0 (Windows NT 6.0) AppleWebKit/536.5 (KHTML, like Gecko) Chrome/19.0.1084.36 Safari/536.5\",\n",
    "        \"Mozilla/5.0 (Windows NT 6.1; WOW64) AppleWebKit/536.3 (KHTML, like Gecko) Chrome/19.0.1063.0 Safari/536.3\",\n",
    "        \"Mozilla/5.0 (Windows NT 5.1) AppleWebKit/536.3 (KHTML, like Gecko) Chrome/19.0.1063.0 Safari/536.3\",\n",
    "        \"Mozilla/5.0 (Macintosh; Intel Mac OS X 10_8_0) AppleWebKit/536.3 (KHTML, like Gecko) Chrome/19.0.1063.0 Safari/536.3\",\n",
    "        \"Mozilla/5.0 (Windows NT 6.2) AppleWebKit/536.3 (KHTML, like Gecko) Chrome/19.0.1062.0 Safari/536.3\",\n",
    "        \"Mozilla/5.0 (Windows NT 6.1; WOW64) AppleWebKit/536.3 (KHTML, like Gecko) Chrome/19.0.1062.0 Safari/536.3\",\n",
    "        \"Mozilla/5.0 (Windows NT 6.2) AppleWebKit/536.3 (KHTML, like Gecko) Chrome/19.0.1061.1 Safari/536.3\",\n",
    "        \"Mozilla/5.0 (Windows NT 6.1; WOW64) AppleWebKit/536.3 (KHTML, like Gecko) Chrome/19.0.1061.1 Safari/536.3\",\n",
    "        \"Mozilla/5.0 (Windows NT 6.1) AppleWebKit/536.3 (KHTML, like Gecko) Chrome/19.0.1061.1 Safari/536.3\",\n",
    "        \"Mozilla/5.0 (Windows NT 6.2) AppleWebKit/536.3 (KHTML, like Gecko) Chrome/19.0.1061.0 Safari/536.3\",\n",
    "        \"Mozilla/5.0 (X11; Linux x86_64) AppleWebKit/535.24 (KHTML, like Gecko) Chrome/19.0.1055.1 Safari/535.24\",\n",
    "        \"Mozilla/5.0 (Windows NT 6.2; WOW64) AppleWebKit/535.24 (KHTML, like Gecko) Chrome/19.0.1055.1 Safari/535.24\"\n",
    "    ]\n",
    "\n",
    "    query_extract_title = XPATH_TITLE\n",
    "    query_extract_text =  XPATH_CONTENT\n",
    "\n",
    "    def _init_(self):\n",
    "        pass\n",
    "   \n",
    "    def get(self,url):\n",
    "        headers = {'user-agent':random.choice(self.USER_AGENT_LIST) }\n",
    "        session = HTMLSession()\n",
    "        response = session.get(url,headers=headers) \n",
    "        return response\n",
    "    \n",
    "    def clean_text(self, html_text):\n",
    "        text_without_tags = w3lib.html.remove_tags(html_text)\n",
    "        text_without_escape_chars = w3lib.html.replace_escape_chars(text_without_tags)\n",
    "        text_without_escape_chars = html.unescape(text_without_escape_chars)\n",
    "        text_without_whitespace = text_without_escape_chars.strip()\n",
    "        return text_without_whitespace\n",
    "\n",
    "    \n",
    "    #### main function ####\n",
    "    def parse(self, response):\n",
    "        \n",
    "        #URL\n",
    "        self.news_url = response.url\n",
    "        \n",
    "        #TITLE\n",
    "        self.news_title = response.html.xpath(self.query_extract_title)[0].text\n",
    "        self.news_title = self.clean_text(self.news_title)\n",
    "       \n",
    "        \n",
    "        #CONTENT\n",
    "        self.news_text = \"\"\n",
    "        \n",
    "        html_paragraphs = response.html.xpath(self.query_extract_text)\n",
    "        \n",
    "        for paragraph in html_paragraphs:\n",
    "            paragraph_content = w3lib.html.remove_tags(paragraph.text)    \n",
    "            text_cleaned = self.clean_text(paragraph_content)\n",
    "            self.news_text = self.news_text+text_cleaned\n"
   ]
  },
  {
   "cell_type": "code",
   "execution_count": 10,
   "id": "d9482704",
   "metadata": {},
   "outputs": [],
   "source": [
    "scraper = Scraper()\n",
    "response =scraper.get(URL_NEWS)"
   ]
  },
  {
   "cell_type": "code",
   "execution_count": 11,
   "id": "d72bc32e",
   "metadata": {},
   "outputs": [],
   "source": [
    "scraper.parse(response)"
   ]
  },
  {
   "cell_type": "code",
   "execution_count": 12,
   "id": "a2e4d401",
   "metadata": {},
   "outputs": [
    {
     "data": {
      "text/plain": [
       "'Diputado Trisotti y ausencia en designación de Seremis: “Es una clara señal de que para este gobierno las regiones no son importantes”'"
      ]
     },
     "execution_count": 12,
     "metadata": {},
     "output_type": "execute_result"
    }
   ],
   "source": [
    "scraper.news_title"
   ]
  },
  {
   "cell_type": "code",
   "execution_count": 13,
   "id": "162264db",
   "metadata": {
    "scrolled": false
   },
   "outputs": [
    {
     "data": {
      "text/plain": [
       "'El parlamentario por Tarapacá, Renzo Trisotti, manifestó su preocupación ante la demora en el nombramiento de autoridades en diversas carteras.Su profunda preocupación manifestó el diputado Renzo Trisotti, integrante de la comisión de Gobierno Interior, por la demora en la designación de Secretarios Regionales Ministeriales (Seremis), luego de más de dos semanas de la instalación del gobierno del Presidente Gabriel Boric.Para el legislador, este retraso “es una clara señal de que, para esta administración, a pesar de lo que dijeron en campaña, las regiones tienen poca y nula relevancia. Las regiones tienen una serie de problemas y temas que se deben resolver, sin importar el gobierno de turno, y la ausencia de Seremis lo único que hace es retrasar la ejecución de políticas públicas y proyectos de alto impacto social”.“Nuestra región está pasando por grandes dificultades, como es el tema de la migración, donde la ciudadanía demanda de sus autoridades el estar presentes en cada rincón. Sin embargo, llevamos más de dos semanas desde que asumió el nuevo gobierno, y hay carteras claves que hoy están descabezadas, sin lineamientos y sin realizar tareas de suma importancia”, argumentó el parlamentario gremialista.“Las peleas internas de la coalición de gobierno”, subrayó Renzo Trisotti, “deja de manifiesto la poca capacidad de gobernabilidad, lo que repercute de manera negativa en la ciudadanía. Hubo tiempo más que suficiente para evaluar nombres desde que fueron las elecciones presidenciales, pero las rencillas, las ansias de poder y el cuoteo entre los partidos, les ha impedido hacer algo tan básico como es el nombrar a las autoridades regionales”, concluyó.Please set your twitter API settings from here element pack settings to show your map correctly.Diario El Longino de Iquique, Diario El Longino de Alto Hospicio y el semanario El Longino de El Tamarugal, que con sus páginas y portadas recorren todo el territorio de Tarapacá y sus siete comunas.Ingrese su dirección de correo electrónico o nombre de usuario. Recibirá un enlace para crear una nueva contraseña por correo electrónico.Email Address or Username'"
      ]
     },
     "execution_count": 13,
     "metadata": {},
     "output_type": "execute_result"
    }
   ],
   "source": [
    "scraper.news_text"
   ]
  },
  {
   "cell_type": "code",
   "execution_count": null,
   "id": "3bb56bdb",
   "metadata": {},
   "outputs": [],
   "source": [
    "trash = \"Please set your twitter API settings from here element pack settings to show your map correctly.Diario El Longino de Iquique, Diario El Longino de Alto Hospicio y el semanario El Longino de El Tamarugal, que con sus páginas y portadas recorren todo el territorio de Tarapacá y sus siete comunas.Ingrese su dirección de correo electrónico o nombre de usuario. Recibirá un enlace para crear una nueva contraseña por correo electrónico.Email Address or Username\""
   ]
  },
  {
   "cell_type": "code",
   "execution_count": 14,
   "id": "a455d5d3",
   "metadata": {},
   "outputs": [],
   "source": [
    "#Verificamos que el scraper devuelve algo\n",
    "assert(len(scraper.news_title)>0)\n",
    "assert(len(scraper.news_text)>0)"
   ]
  },
  {
   "cell_type": "code",
   "execution_count": 15,
   "id": "524ce41b",
   "metadata": {},
   "outputs": [
    {
     "data": {
      "text/html": [
       "<div>\n",
       "<style scoped>\n",
       "    .dataframe tbody tr th:only-of-type {\n",
       "        vertical-align: middle;\n",
       "    }\n",
       "\n",
       "    .dataframe tbody tr th {\n",
       "        vertical-align: top;\n",
       "    }\n",
       "\n",
       "    .dataframe thead th {\n",
       "        text-align: right;\n",
       "    }\n",
       "</style>\n",
       "<table border=\"1\" class=\"dataframe\">\n",
       "  <thead>\n",
       "    <tr style=\"text-align: right;\">\n",
       "      <th></th>\n",
       "      <th>url</th>\n",
       "      <th>title</th>\n",
       "      <th>content</th>\n",
       "    </tr>\n",
       "  </thead>\n",
       "  <tbody>\n",
       "    <tr>\n",
       "      <th>0</th>\n",
       "      <td>https://diariolongino.cl/diputado-trisotti-y-a...</td>\n",
       "      <td>Diputado Trisotti y ausencia en designación de...</td>\n",
       "      <td>El parlamentario por Tarapacá, Renzo Trisotti,...</td>\n",
       "    </tr>\n",
       "  </tbody>\n",
       "</table>\n",
       "</div>"
      ],
      "text/plain": [
       "                                                 url  \\\n",
       "0  https://diariolongino.cl/diputado-trisotti-y-a...   \n",
       "\n",
       "                                               title  \\\n",
       "0  Diputado Trisotti y ausencia en designación de...   \n",
       "\n",
       "                                             content  \n",
       "0  El parlamentario por Tarapacá, Renzo Trisotti,...  "
      ]
     },
     "execution_count": 15,
     "metadata": {},
     "output_type": "execute_result"
    }
   ],
   "source": [
    "df = pd.DataFrame(data={'url': [URL_NEWS],'title':[scraper.news_title], 'content':[scraper.news_text]})\n",
    "df"
   ]
  },
  {
   "cell_type": "code",
   "execution_count": 16,
   "id": "267a48c8",
   "metadata": {},
   "outputs": [
    {
     "data": {
      "application/vnd.jupyter.widget-view+json": {
       "model_id": "2e5e8bb0c3ea49ca937889e9e33f3b14",
       "version_major": 2,
       "version_minor": 0
      },
      "text/plain": [
       "  0%|          | 0/120 [00:00<?, ?it/s]"
      ]
     },
     "metadata": {},
     "output_type": "display_data"
    }
   ],
   "source": [
    "XPATH_TITLE = \"//h1\"\n",
    "XPATH_CONTENT =\"//div[@class='elementor-widget-container']//p\"\n",
    "\n",
    "for url in tqdm(urls):\n",
    "    URL_NEWS = url\n",
    "    scraper = Scraper()\n",
    "    response =scraper.get(URL_NEWS)\n",
    "    scraper.parse(response)\n",
    "    \n",
    "    scraper.news_text = scraper.news_text.replace(trash, \"\")\n",
    "\n",
    "    df1 = pd.DataFrame(data={'url': url, 'title':scraper.news_title, 'content':scraper.news_text},index=['url', 'title', 'content'])\n",
    "    df = df.append(df1, ignore_index=True)\n",
    "df = df.drop_duplicates()\n"
   ]
  },
  {
   "cell_type": "code",
   "execution_count": 17,
   "id": "e9c55424",
   "metadata": {},
   "outputs": [
    {
     "data": {
      "text/html": [
       "<div>\n",
       "<style scoped>\n",
       "    .dataframe tbody tr th:only-of-type {\n",
       "        vertical-align: middle;\n",
       "    }\n",
       "\n",
       "    .dataframe tbody tr th {\n",
       "        vertical-align: top;\n",
       "    }\n",
       "\n",
       "    .dataframe thead th {\n",
       "        text-align: right;\n",
       "    }\n",
       "</style>\n",
       "<table border=\"1\" class=\"dataframe\">\n",
       "  <thead>\n",
       "    <tr style=\"text-align: right;\">\n",
       "      <th></th>\n",
       "      <th>url</th>\n",
       "      <th>title</th>\n",
       "      <th>content</th>\n",
       "    </tr>\n",
       "  </thead>\n",
       "  <tbody>\n",
       "    <tr>\n",
       "      <th>0</th>\n",
       "      <td>https://diariolongino.cl/diputado-trisotti-y-a...</td>\n",
       "      <td>Diputado Trisotti y ausencia en designación de...</td>\n",
       "      <td>El parlamentario por Tarapacá, Renzo Trisotti,...</td>\n",
       "    </tr>\n",
       "    <tr>\n",
       "      <th>4</th>\n",
       "      <td>https://diariolongino.cl/constituyente-jimenez...</td>\n",
       "      <td>Constituyente Jiménez informa sobre importante...</td>\n",
       "      <td>El abogado explicó a El Longino cómo quedaron ...</td>\n",
       "    </tr>\n",
       "    <tr>\n",
       "      <th>7</th>\n",
       "      <td>https://diariolongino.cl/no-seria-mala-idea-pr...</td>\n",
       "      <td>No sería mala idea proyectar tranvías modernos...</td>\n",
       "      <td>Hace pocos días un proyecto de tranvía de La S...</td>\n",
       "    </tr>\n",
       "    <tr>\n",
       "      <th>10</th>\n",
       "      <td>https://diariolongino.cl/en-encuentro-regional...</td>\n",
       "      <td>En encuentro regional de Programas de SernamG ...</td>\n",
       "      <td>CARI organizó jornada de reflexión sobre los d...</td>\n",
       "    </tr>\n",
       "    <tr>\n",
       "      <th>13</th>\n",
       "      <td>https://diariolongino.cl/recolectan-una-tonela...</td>\n",
       "      <td>Recolectan una tonelada de desechos en Ex Ball...</td>\n",
       "      <td>La compañía- que donó 10 maxi-sacos para la in...</td>\n",
       "    </tr>\n",
       "    <tr>\n",
       "      <th>...</th>\n",
       "      <td>...</td>\n",
       "      <td>...</td>\n",
       "      <td>...</td>\n",
       "    </tr>\n",
       "    <tr>\n",
       "      <th>346</th>\n",
       "      <td>https://diariolongino.cl/gabriel-boric-asume-c...</td>\n",
       "      <td>Gabriel Boric asume como nuevo presidente de l...</td>\n",
       "      <td>“Sí, prometo” respondió Gabriel Boric Font a l...</td>\n",
       "    </tr>\n",
       "    <tr>\n",
       "      <th>349</th>\n",
       "      <td>https://diariolongino.cl/mas-de-64-000-product...</td>\n",
       "      <td>MÁS DE 64.000 PRODUCTORES INDÍGENAS ACCEDIERON...</td>\n",
       "      <td>Otra línea del quehacer 2018-2022 con los Pueb...</td>\n",
       "    </tr>\n",
       "    <tr>\n",
       "      <th>352</th>\n",
       "      <td>https://diariolongino.cl/mineduc-destaca-que-i...</td>\n",
       "      <td>Mineduc destaca que inicio de año académico en...</td>\n",
       "      <td>Con una visita a la casa central de la Univers...</td>\n",
       "    </tr>\n",
       "    <tr>\n",
       "      <th>355</th>\n",
       "      <td>https://diariolongino.cl/mop-antofagasta-ejecu...</td>\n",
       "      <td>MOP Antofagasta ejecutó más de $460 mil millon...</td>\n",
       "      <td>El 84,4% de esta inversión corresponde a fondo...</td>\n",
       "    </tr>\n",
       "    <tr>\n",
       "      <th>358</th>\n",
       "      <td>https://diariolongino.cl/senador-insulza-quere...</td>\n",
       "      <td>Senador Insulza: Queremos desincentivar la uti...</td>\n",
       "      <td>Cada vez que ocurre un hecho de violencia en n...</td>\n",
       "    </tr>\n",
       "  </tbody>\n",
       "</table>\n",
       "<p>81 rows × 3 columns</p>\n",
       "</div>"
      ],
      "text/plain": [
       "                                                   url  \\\n",
       "0    https://diariolongino.cl/diputado-trisotti-y-a...   \n",
       "4    https://diariolongino.cl/constituyente-jimenez...   \n",
       "7    https://diariolongino.cl/no-seria-mala-idea-pr...   \n",
       "10   https://diariolongino.cl/en-encuentro-regional...   \n",
       "13   https://diariolongino.cl/recolectan-una-tonela...   \n",
       "..                                                 ...   \n",
       "346  https://diariolongino.cl/gabriel-boric-asume-c...   \n",
       "349  https://diariolongino.cl/mas-de-64-000-product...   \n",
       "352  https://diariolongino.cl/mineduc-destaca-que-i...   \n",
       "355  https://diariolongino.cl/mop-antofagasta-ejecu...   \n",
       "358  https://diariolongino.cl/senador-insulza-quere...   \n",
       "\n",
       "                                                 title  \\\n",
       "0    Diputado Trisotti y ausencia en designación de...   \n",
       "4    Constituyente Jiménez informa sobre importante...   \n",
       "7    No sería mala idea proyectar tranvías modernos...   \n",
       "10   En encuentro regional de Programas de SernamG ...   \n",
       "13   Recolectan una tonelada de desechos en Ex Ball...   \n",
       "..                                                 ...   \n",
       "346  Gabriel Boric asume como nuevo presidente de l...   \n",
       "349  MÁS DE 64.000 PRODUCTORES INDÍGENAS ACCEDIERON...   \n",
       "352  Mineduc destaca que inicio de año académico en...   \n",
       "355  MOP Antofagasta ejecutó más de $460 mil millon...   \n",
       "358  Senador Insulza: Queremos desincentivar la uti...   \n",
       "\n",
       "                                               content  \n",
       "0    El parlamentario por Tarapacá, Renzo Trisotti,...  \n",
       "4    El abogado explicó a El Longino cómo quedaron ...  \n",
       "7    Hace pocos días un proyecto de tranvía de La S...  \n",
       "10   CARI organizó jornada de reflexión sobre los d...  \n",
       "13   La compañía- que donó 10 maxi-sacos para la in...  \n",
       "..                                                 ...  \n",
       "346  “Sí, prometo” respondió Gabriel Boric Font a l...  \n",
       "349  Otra línea del quehacer 2018-2022 con los Pueb...  \n",
       "352  Con una visita a la casa central de la Univers...  \n",
       "355  El 84,4% de esta inversión corresponde a fondo...  \n",
       "358  Cada vez que ocurre un hecho de violencia en n...  \n",
       "\n",
       "[81 rows x 3 columns]"
      ]
     },
     "execution_count": 17,
     "metadata": {},
     "output_type": "execute_result"
    }
   ],
   "source": [
    "df"
   ]
  },
  {
   "cell_type": "code",
   "execution_count": null,
   "id": "2e565eca",
   "metadata": {},
   "outputs": [],
   "source": []
  }
 ],
 "metadata": {
  "kernelspec": {
   "display_name": "Python 3 (ipykernel)",
   "language": "python",
   "name": "python3"
  },
  "language_info": {
   "codemirror_mode": {
    "name": "ipython",
    "version": 3
   },
   "file_extension": ".py",
   "mimetype": "text/x-python",
   "name": "python",
   "nbconvert_exporter": "python",
   "pygments_lexer": "ipython3",
   "version": "3.8.10"
  }
 },
 "nbformat": 4,
 "nbformat_minor": 5
}
