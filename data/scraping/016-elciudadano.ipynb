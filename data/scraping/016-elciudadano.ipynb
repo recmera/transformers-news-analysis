{
 "cells": [
  {
   "cell_type": "code",
   "execution_count": 5,
   "id": "e42c42ef",
   "metadata": {},
   "outputs": [],
   "source": [
    "import json\n",
    "import w3lib.html\n",
    "import random\n",
    "import os\n",
    "from datetime import datetime\n",
    "import requests\n",
    "import string\n",
    "import calendar\n",
    "import html\n",
    "import locale \n",
    "from requests_html import HTMLSession\n",
    "from requests_html import HTML\n",
    "import validators\n",
    "import pandas as pd\n",
    "from tqdm.notebook import tqdm\n",
    "\n",
    "import warnings\n",
    "warnings.filterwarnings('ignore')"
   ]
  },
  {
   "cell_type": "code",
   "execution_count": 6,
   "id": "79bb0b1d",
   "metadata": {},
   "outputs": [],
   "source": [
    "URL_SEED = 'https://www.elciudadano.com/chile/page/1/'\n",
    "XPATH_HREF = \"//article//a/@href\""
   ]
  },
  {
   "cell_type": "code",
   "execution_count": 8,
   "id": "c8a6236e",
   "metadata": {},
   "outputs": [],
   "source": [
    "class Crawler():\n",
    "    \n",
    "    USER_AGENT_LIST = [\n",
    "        \"Mozilla/5.0 (Windows NT 6.1; WOW64) AppleWebKit/537.1 (KHTML, like Gecko) Chrome/22.0.1207.1 Safari/537.1\",\n",
    "        \"Mozilla/5.0 (X11; CrOS i686 2268.111.0) AppleWebKit/536.11 (KHTML, like Gecko) Chrome/20.0.1132.57 Safari/536.11\",\n",
    "        \"Mozilla/5.0 (Windows NT 6.1; WOW64) AppleWebKit/536.6 (KHTML, like Gecko) Chrome/20.0.1092.0 Safari/536.6\",\n",
    "        \"Mozilla/5.0 (Windows NT 6.2) AppleWebKit/536.6 (KHTML, like Gecko) Chrome/20.0.1090.0 Safari/536.6\",\n",
    "        \"Mozilla/5.0 (Windows NT 6.2; WOW64) AppleWebKit/537.1 (KHTML, like Gecko) Chrome/19.77.34.5 Safari/537.1\",\n",
    "        \"Mozilla/5.0 (X11; Linux x86_64) AppleWebKit/536.5 (KHTML, like Gecko) Chrome/19.0.1084.9 Safari/536.5\",\n",
    "        \"Mozilla/5.0 (Windows NT 6.0) AppleWebKit/536.5 (KHTML, like Gecko) Chrome/19.0.1084.36 Safari/536.5\",\n",
    "        \"Mozilla/5.0 (Windows NT 6.1; WOW64) AppleWebKit/536.3 (KHTML, like Gecko) Chrome/19.0.1063.0 Safari/536.3\",\n",
    "        \"Mozilla/5.0 (Windows NT 5.1) AppleWebKit/536.3 (KHTML, like Gecko) Chrome/19.0.1063.0 Safari/536.3\",\n",
    "        \"Mozilla/5.0 (Macintosh; Intel Mac OS X 10_8_0) AppleWebKit/536.3 (KHTML, like Gecko) Chrome/19.0.1063.0 Safari/536.3\",\n",
    "        \"Mozilla/5.0 (Windows NT 6.2) AppleWebKit/536.3 (KHTML, like Gecko) Chrome/19.0.1062.0 Safari/536.3\",\n",
    "        \"Mozilla/5.0 (Windows NT 6.1; WOW64) AppleWebKit/536.3 (KHTML, like Gecko) Chrome/19.0.1062.0 Safari/536.3\",\n",
    "        \"Mozilla/5.0 (Windows NT 6.2) AppleWebKit/536.3 (KHTML, like Gecko) Chrome/19.0.1061.1 Safari/536.3\",\n",
    "        \"Mozilla/5.0 (Windows NT 6.1; WOW64) AppleWebKit/536.3 (KHTML, like Gecko) Chrome/19.0.1061.1 Safari/536.3\",\n",
    "        \"Mozilla/5.0 (Windows NT 6.1) AppleWebKit/536.3 (KHTML, like Gecko) Chrome/19.0.1061.1 Safari/536.3\",\n",
    "        \"Mozilla/5.0 (Windows NT 6.2) AppleWebKit/536.3 (KHTML, like Gecko) Chrome/19.0.1061.0 Safari/536.3\",\n",
    "        \"Mozilla/5.0 (X11; Linux x86_64) AppleWebKit/535.24 (KHTML, like Gecko) Chrome/19.0.1055.1 Safari/535.24\",\n",
    "        \"Mozilla/5.0 (Windows NT 6.2; WOW64) AppleWebKit/535.24 (KHTML, like Gecko) Chrome/19.0.1055.1 Safari/535.24\"\n",
    "    ]\n",
    "\n",
    "    #Ruta XPATH hacia los enlaces que queremos recopilar\n",
    "    xpath_href=XPATH_HREF\n",
    "\n",
    "    #variable que permite listar todos los enlaces recopilado\n",
    "    url_list = []\n",
    "    \n",
    "    def _init_(self, URL_SEED, XPATH_HREF):        \n",
    "        pass\n",
    "\n",
    "    \n",
    "    def get(self,url):\n",
    "        session = HTMLSession()\n",
    "        header = dict()\n",
    "        header['user-agent'] = random.choice(self.USER_AGENT_LIST)\n",
    "        response = session.get(url,headers=header)        \n",
    "        return response\n",
    "    \n",
    "    def parse(self, response):\n",
    "        self.url_list = []\n",
    "        urls = response.html.xpath(self.xpath_href)\n",
    "        for url in urls:\n",
    "            self.url_list.append(url)\n"
   ]
  },
  {
   "cell_type": "code",
   "execution_count": 10,
   "id": "e016daec",
   "metadata": {
    "scrolled": true
   },
   "outputs": [
    {
     "data": {
      "application/vnd.jupyter.widget-view+json": {
       "model_id": "6c7b12635d734e5e889df8a33ec23de2",
       "version_major": 2,
       "version_minor": 0
      },
      "text/plain": [
       "  0%|          | 0/3 [00:00<?, ?it/s]"
      ]
     },
     "metadata": {},
     "output_type": "display_data"
    },
    {
     "data": {
      "text/plain": [
       "['https://www.elciudadano.com/chile/diagnostico-y-data-claves-para-la-educacion-del-2022/03/28/',\n",
       " 'https://www.elciudadano.com/chile/corte-suprema-general-martinez-debera-declarar-en-despacho-de-ministra-rutherford-y-sin-su-abogado/03/28/',\n",
       " 'https://www.elciudadano.com/chile/brigada-cibercrimen-metropolitana-de-la-pdi-inicio-investigacion-por-amenaza-de-masacre-escolar-en-liceo-de-quinta-normal/03/28/',\n",
       " 'https://www.elciudadano.com/chile/la-semana-de-la-violencia-urge-un-nuevo-paradigma-en-seguridad/03/28/',\n",
       " 'https://www.elciudadano.com/chile/salud-el-debate-que-viene-en-la-convencion-constitucional-organizaciones-del-sector-proponen-sistema-unico-y-universal/03/28/',\n",
       " 'https://www.elciudadano.com/chile/defensora-de-la-ninez-y-violencia-escolar-los-adultos-somos-responsables-de-dar-ejemplos-y-resolver-los-conflictos-de-manera-pacifica/03/28/',\n",
       " 'https://www.elciudadano.com/chile/tres-anos-y-un-dia-de-libertad-vigilada-intensiva-para-comerciantes-chinos-por-trata-de-personas-y-explotacion-laboral-victima-era-obligada-a-dormir-en-una-bodega/03/28/',\n",
       " 'https://www.elciudadano.com/chile/convencion-constitucional-comision-de-sistemas-de-justicia-aprobo-terminar-con-el-cargo-de-fiscal-nacional/03/28/',\n",
       " 'https://www.elciudadano.com/chile/apoderados-de-colegio-de-la-union-denuncian-recontratacion-de-profesor-condenado-por-abuso-sexual/03/28/',\n",
       " 'https://www.elciudadano.com/chile/familiares-de-estudiante-agredido-en-marcha-de-la-confech-acusan-inaccion-de-carabineros-ante-emboscada-y-llaman-al-gobierno-a-actuar-hasta-las-ultimas-consecuencias/03/28/',\n",
       " 'https://www.elciudadano.com/chile/diagnostico-y-data-claves-para-la-educacion-del-2022/03/28/',\n",
       " 'https://www.elciudadano.com/chile/corte-suprema-general-martinez-debera-declarar-en-despacho-de-ministra-rutherford-y-sin-su-abogado/03/28/',\n",
       " 'https://www.elciudadano.com/chile/brigada-cibercrimen-metropolitana-de-la-pdi-inicio-investigacion-por-amenaza-de-masacre-escolar-en-liceo-de-quinta-normal/03/28/',\n",
       " 'https://www.elciudadano.com/chile/la-semana-de-la-violencia-urge-un-nuevo-paradigma-en-seguridad/03/28/',\n",
       " 'https://www.elciudadano.com/chile/salud-el-debate-que-viene-en-la-convencion-constitucional-organizaciones-del-sector-proponen-sistema-unico-y-universal/03/28/',\n",
       " 'https://www.elciudadano.com/chile/defensora-de-la-ninez-y-violencia-escolar-los-adultos-somos-responsables-de-dar-ejemplos-y-resolver-los-conflictos-de-manera-pacifica/03/28/',\n",
       " 'https://www.elciudadano.com/chile/tres-anos-y-un-dia-de-libertad-vigilada-intensiva-para-comerciantes-chinos-por-trata-de-personas-y-explotacion-laboral-victima-era-obligada-a-dormir-en-una-bodega/03/28/',\n",
       " 'https://www.elciudadano.com/chile/convencion-constitucional-comision-de-sistemas-de-justicia-aprobo-terminar-con-el-cargo-de-fiscal-nacional/03/28/',\n",
       " 'https://www.elciudadano.com/chile/apoderados-de-colegio-de-la-union-denuncian-recontratacion-de-profesor-condenado-por-abuso-sexual/03/28/',\n",
       " 'https://www.elciudadano.com/chile/familiares-de-estudiante-agredido-en-marcha-de-la-confech-acusan-inaccion-de-carabineros-ante-emboscada-y-llaman-al-gobierno-a-actuar-hasta-las-ultimas-consecuencias/03/28/',\n",
       " 'https://www.elciudadano.com/chile/por-que-deberia-tener-el-privilegio-de-declarar-en-su-domicilio-si-ya-no-es-comandante-en-jefe-del-ejercito-suprema-recibio-alegatos-de-recurso-de-amparo-presentado-por-ricardo-martin/03/28/',\n",
       " 'https://www.elciudadano.com/mapuche/magisterio-llama-a-reabrir-liceo-de-pailahueque-el-liceo-intercultural-que-se-convirtio-en-centro-de-operaciones-de-fuerzas-represivas-policiales-en-la-araucania/03/28/',\n",
       " 'https://www.elciudadano.com/chile/informe-icovid-especialistas-destacan-sostenido-enlentecimiento-de-la-pandemia-pero-advierten-que-algunos-indicadores-siguen-criticos/03/28/',\n",
       " 'https://www.elciudadano.com/actualidad/gobierno-extendio-emergencia-hidrica-agricola-en-231-comunas-luego-de-reunion-con-alcaldes/03/28/',\n",
       " 'https://www.elciudadano.com/especiales/proceso-constituyente/comision-de-sistema-politico-desecho-figuras-de-vicepresidente-y-supraministro/03/28/',\n",
       " 'https://www.elciudadano.com/chile/liceo-industrial-benjamin-franklin-de-quinta-normal-suspendio-clases-presenciales-ante-amenaza-de-masacre-escolar/03/28/',\n",
       " 'https://www.elciudadano.com/chile/aplicacion-web-ayuda-a-personas-con-discapacidad-intelectual-a-realizar-tramites-viajar-en-metro-o-visitar-museos/03/28/',\n",
       " 'https://www.elciudadano.com/portada/empresas-de-la-industria-salmonera-deben-transparentar-usos-de-antibioticos/03/28/',\n",
       " 'https://www.elciudadano.com/chile/ministro-de-transporte-descarta-impuesto-al-diesel-las-condiciones-economicas-mundiales-no-lo-permiten/03/28/',\n",
       " 'https://www.elciudadano.com/chile/algunas-de-las-principales-razones-para-nacionalizar-el-cobre/03/28/']"
      ]
     },
     "execution_count": 10,
     "metadata": {},
     "output_type": "execute_result"
    }
   ],
   "source": [
    "urls=[]\n",
    "\n",
    "for page in tqdm(range(3)): # revisemos sólo 2 páginas\n",
    "    crawler = Crawler()\n",
    "    response = crawler.get('https://www.elciudadano.com/chile/page/'+str(page))\n",
    "    crawler.parse(response)\n",
    "\n",
    "    \n",
    "    for url in crawler.url_list:\n",
    "        urls.append(url)\n",
    "\n",
    "    crawler.url_list = urls\n",
    "    \n",
    "crawler.url_list"
   ]
  },
  {
   "cell_type": "code",
   "execution_count": 13,
   "id": "e6099483",
   "metadata": {
    "scrolled": true
   },
   "outputs": [
    {
     "data": {
      "text/plain": [
       "30"
      ]
     },
     "execution_count": 13,
     "metadata": {},
     "output_type": "execute_result"
    }
   ],
   "source": [
    "len(urls)"
   ]
  },
  {
   "cell_type": "code",
   "execution_count": 14,
   "id": "928cdb23",
   "metadata": {},
   "outputs": [
    {
     "data": {
      "text/plain": [
       "'https://www.elciudadano.com/chile/diagnostico-y-data-claves-para-la-educacion-del-2022/03/28/'"
      ]
     },
     "execution_count": 14,
     "metadata": {},
     "output_type": "execute_result"
    }
   ],
   "source": [
    "urls[0]"
   ]
  },
  {
   "cell_type": "code",
   "execution_count": null,
   "id": "f8c2d5b1",
   "metadata": {},
   "outputs": [],
   "source": []
  },
  {
   "cell_type": "code",
   "execution_count": 15,
   "id": "d446e5df",
   "metadata": {},
   "outputs": [],
   "source": [
    "URL_NEWS = urls[0]\n",
    "XPATH_TITLE = \"//h1\"\n",
    "XPATH_CONTENT =\"//div[@class='the-content p402_premium-']//p\""
   ]
  },
  {
   "cell_type": "code",
   "execution_count": 16,
   "id": "fcc5edaf",
   "metadata": {},
   "outputs": [],
   "source": [
    "class Scraper:\n",
    "    \n",
    "    USER_AGENT_LIST = [\n",
    "        \"Mozilla/5.0 (Windows NT 6.1; WOW64) AppleWebKit/537.1 (KHTML, like Gecko) Chrome/22.0.1207.1 Safari/537.1\",\n",
    "        \"Mozilla/5.0 (X11; CrOS i686 2268.111.0) AppleWebKit/536.11 (KHTML, like Gecko) Chrome/20.0.1132.57 Safari/536.11\",\n",
    "        \"Mozilla/5.0 (Windows NT 6.1; WOW64) AppleWebKit/536.6 (KHTML, like Gecko) Chrome/20.0.1092.0 Safari/536.6\",\n",
    "        \"Mozilla/5.0 (Windows NT 6.2) AppleWebKit/536.6 (KHTML, like Gecko) Chrome/20.0.1090.0 Safari/536.6\",\n",
    "        \"Mozilla/5.0 (Windows NT 6.2; WOW64) AppleWebKit/537.1 (KHTML, like Gecko) Chrome/19.77.34.5 Safari/537.1\",\n",
    "        \"Mozilla/5.0 (X11; Linux x86_64) AppleWebKit/536.5 (KHTML, like Gecko) Chrome/19.0.1084.9 Safari/536.5\",\n",
    "        \"Mozilla/5.0 (Windows NT 6.0) AppleWebKit/536.5 (KHTML, like Gecko) Chrome/19.0.1084.36 Safari/536.5\",\n",
    "        \"Mozilla/5.0 (Windows NT 6.1; WOW64) AppleWebKit/536.3 (KHTML, like Gecko) Chrome/19.0.1063.0 Safari/536.3\",\n",
    "        \"Mozilla/5.0 (Windows NT 5.1) AppleWebKit/536.3 (KHTML, like Gecko) Chrome/19.0.1063.0 Safari/536.3\",\n",
    "        \"Mozilla/5.0 (Macintosh; Intel Mac OS X 10_8_0) AppleWebKit/536.3 (KHTML, like Gecko) Chrome/19.0.1063.0 Safari/536.3\",\n",
    "        \"Mozilla/5.0 (Windows NT 6.2) AppleWebKit/536.3 (KHTML, like Gecko) Chrome/19.0.1062.0 Safari/536.3\",\n",
    "        \"Mozilla/5.0 (Windows NT 6.1; WOW64) AppleWebKit/536.3 (KHTML, like Gecko) Chrome/19.0.1062.0 Safari/536.3\",\n",
    "        \"Mozilla/5.0 (Windows NT 6.2) AppleWebKit/536.3 (KHTML, like Gecko) Chrome/19.0.1061.1 Safari/536.3\",\n",
    "        \"Mozilla/5.0 (Windows NT 6.1; WOW64) AppleWebKit/536.3 (KHTML, like Gecko) Chrome/19.0.1061.1 Safari/536.3\",\n",
    "        \"Mozilla/5.0 (Windows NT 6.1) AppleWebKit/536.3 (KHTML, like Gecko) Chrome/19.0.1061.1 Safari/536.3\",\n",
    "        \"Mozilla/5.0 (Windows NT 6.2) AppleWebKit/536.3 (KHTML, like Gecko) Chrome/19.0.1061.0 Safari/536.3\",\n",
    "        \"Mozilla/5.0 (X11; Linux x86_64) AppleWebKit/535.24 (KHTML, like Gecko) Chrome/19.0.1055.1 Safari/535.24\",\n",
    "        \"Mozilla/5.0 (Windows NT 6.2; WOW64) AppleWebKit/535.24 (KHTML, like Gecko) Chrome/19.0.1055.1 Safari/535.24\"\n",
    "    ]\n",
    "\n",
    "    query_extract_title = XPATH_TITLE\n",
    "    query_extract_text =  XPATH_CONTENT\n",
    "\n",
    "    def _init_(self):\n",
    "        pass\n",
    "   \n",
    "    def get(self,url):\n",
    "        headers = {'user-agent':random.choice(self.USER_AGENT_LIST) }\n",
    "        session = HTMLSession()\n",
    "        response = session.get(url,headers=headers) \n",
    "        return response\n",
    "    \n",
    "    def clean_text(self, html_text):\n",
    "        text_without_tags = w3lib.html.remove_tags(html_text)\n",
    "        text_without_escape_chars = w3lib.html.replace_escape_chars(text_without_tags)\n",
    "        text_without_escape_chars = html.unescape(text_without_escape_chars)\n",
    "        text_without_whitespace = text_without_escape_chars.strip()\n",
    "        return text_without_whitespace\n",
    "\n",
    "    \n",
    "    #### main function ####\n",
    "    def parse(self, response):\n",
    "        \n",
    "        #URL\n",
    "        self.news_url = response.url\n",
    "        \n",
    "        #TITLE\n",
    "        self.news_title = response.html.xpath(self.query_extract_title)[0].text\n",
    "        self.news_title = self.clean_text(self.news_title)\n",
    "       \n",
    "        \n",
    "        #CONTENT\n",
    "        self.news_text = \"\"\n",
    "        \n",
    "        html_paragraphs = response.html.xpath(self.query_extract_text)\n",
    "        \n",
    "        for paragraph in html_paragraphs:\n",
    "            paragraph_content = w3lib.html.remove_tags(paragraph.text)    \n",
    "            text_cleaned = self.clean_text(paragraph_content)\n",
    "            self.news_text = self.news_text+text_cleaned\n"
   ]
  },
  {
   "cell_type": "code",
   "execution_count": 17,
   "id": "d9482704",
   "metadata": {},
   "outputs": [],
   "source": [
    "scraper = Scraper()\n",
    "response =scraper.get(URL_NEWS)"
   ]
  },
  {
   "cell_type": "code",
   "execution_count": 18,
   "id": "d72bc32e",
   "metadata": {},
   "outputs": [],
   "source": [
    "scraper.parse(response)"
   ]
  },
  {
   "cell_type": "code",
   "execution_count": 19,
   "id": "a2e4d401",
   "metadata": {},
   "outputs": [
    {
     "data": {
      "text/plain": [
       "'Diagnóstico y Data: Claves para la educación del 2022'"
      ]
     },
     "execution_count": 19,
     "metadata": {},
     "output_type": "execute_result"
    }
   ],
   "source": [
    "scraper.news_title"
   ]
  },
  {
   "cell_type": "code",
   "execution_count": 20,
   "id": "162264db",
   "metadata": {},
   "outputs": [
    {
     "data": {
      "text/plain": [
       "'Tres millones de niñas, niños y jóvenes partieron las clases luego de 2 años en que la educación cambió de forma radical. Sin embargo, el cambio no termina aquí, ya que la incertidumbre y las distintas situaciones que han afectado a la educación en el último tiempo, siguen estando vigentes. Por ejemplo, el Ministro de Educación, Marco Antonio Ávila, habló sobre replantear la jornada escolar completa, cuando se acaba de volver a la presencialidad.En esa línea, una de las certezas de este año, informadas en el documento para la planificación del año escolar 2022, es que se deberán realizar diagnósticos que permitan conocer el estado actual de los estudiantes, y establecer una medición a mediados y final de año. Es por eso que desde el Ministerio de Educación, por medio de la Agencia de la Calidad de la Educación, se implementó un proceso de diagnóstico integral, que permite realizar diagnósticos disponibles para las distintas instituciones.Hasta segundo básico, se utilizan los diagnósticos oportunos Dia+, por medio de los cuales se conocen las habilidades lectoras y matemáticas de los niños y niñas, midiendo en una unidad básica la capacidad de identificar, comprender y resolver los ejercicios. Según la compañía creadora de Dia+, Colegium, las plataformas Dialect (para lenguaje) y Diamat (para matemáticas) también entregan sugerencias pedagógicas según el nivel.Por otro lado, desde ese curso hasta cuarto medio, se utilizó la plataforma DIA, o Diagnóstico Integral para la Educación. Esta es una herramienta de evaluación voluntaria, a la que los establecimientos pueden acceder inscribiéndose en la página.En el mejor de los casos, los diagnósticos deben ser aplicados en tres momentos del año escolar:Todo esto “con el propósito de recoger información sobre el aprendizaje en distintas asignaturas y en el área socioemocional de los y las estudiantes. En complemento con los datos internos que generan las escuelas, espera contribuir a que los equipos directivos y docentes tomen decisiones de manera oportuna y pertinente”, explica el Ministerio de Educación de Chile en su página web.Finalmente, existe una mayor necesidad de estar más conectados con su propia información, por medio de la revisión de los datos obtenidos, para la toma de decisiones. Para esto, cada colegio ha debido organizar su información, por medio de la tecnología o de forma manual. De hecho, la tecnología Big Data se está utilizando en cientos de colegios en Chile, por medio de plataformas como Radar Escolar. Esta última, integra y sincroniza información generada por el establecimiento a través de cualquier sistema de gestión e información escolar, y permite revisar los resultados oficiales, actuales e históricos del colegio en base a los datos públicos, así como también aquella proveniente de sistemas de información abiertos y centralizados cómo el SIGE, SIMCE, PTU, etc.'"
      ]
     },
     "execution_count": 20,
     "metadata": {},
     "output_type": "execute_result"
    }
   ],
   "source": [
    "scraper.news_text"
   ]
  },
  {
   "cell_type": "code",
   "execution_count": 21,
   "id": "a455d5d3",
   "metadata": {},
   "outputs": [],
   "source": [
    "#Verificamos que el scraper devuelve algo\n",
    "assert(len(scraper.news_title)>0)\n",
    "assert(len(scraper.news_text)>0)"
   ]
  },
  {
   "cell_type": "code",
   "execution_count": 22,
   "id": "524ce41b",
   "metadata": {},
   "outputs": [
    {
     "data": {
      "text/html": [
       "<div>\n",
       "<style scoped>\n",
       "    .dataframe tbody tr th:only-of-type {\n",
       "        vertical-align: middle;\n",
       "    }\n",
       "\n",
       "    .dataframe tbody tr th {\n",
       "        vertical-align: top;\n",
       "    }\n",
       "\n",
       "    .dataframe thead th {\n",
       "        text-align: right;\n",
       "    }\n",
       "</style>\n",
       "<table border=\"1\" class=\"dataframe\">\n",
       "  <thead>\n",
       "    <tr style=\"text-align: right;\">\n",
       "      <th></th>\n",
       "      <th>url</th>\n",
       "      <th>title</th>\n",
       "      <th>content</th>\n",
       "    </tr>\n",
       "  </thead>\n",
       "  <tbody>\n",
       "    <tr>\n",
       "      <th>0</th>\n",
       "      <td>https://www.elciudadano.com/chile/diagnostico-...</td>\n",
       "      <td>Diagnóstico y Data: Claves para la educación d...</td>\n",
       "      <td>Tres millones de niñas, niños y jóvenes partie...</td>\n",
       "    </tr>\n",
       "  </tbody>\n",
       "</table>\n",
       "</div>"
      ],
      "text/plain": [
       "                                                 url  \\\n",
       "0  https://www.elciudadano.com/chile/diagnostico-...   \n",
       "\n",
       "                                               title  \\\n",
       "0  Diagnóstico y Data: Claves para la educación d...   \n",
       "\n",
       "                                             content  \n",
       "0  Tres millones de niñas, niños y jóvenes partie...  "
      ]
     },
     "execution_count": 22,
     "metadata": {},
     "output_type": "execute_result"
    }
   ],
   "source": [
    "df = pd.DataFrame(data={'url': [URL_NEWS],'title':[scraper.news_title], 'content':[scraper.news_text]})\n",
    "df"
   ]
  },
  {
   "cell_type": "code",
   "execution_count": 23,
   "id": "267a48c8",
   "metadata": {},
   "outputs": [
    {
     "data": {
      "application/vnd.jupyter.widget-view+json": {
       "model_id": "f3a462530185463089ab76dd0fda9c9d",
       "version_major": 2,
       "version_minor": 0
      },
      "text/plain": [
       "  0%|          | 0/30 [00:00<?, ?it/s]"
      ]
     },
     "metadata": {},
     "output_type": "display_data"
    }
   ],
   "source": [
    "XPATH_TITLE = \"//h1\"\n",
    "XPATH_CONTENT =\"//div[@class='the-content p402_premium-']//p\"\n",
    "\n",
    "for url in tqdm(urls):\n",
    "    URL_NEWS = url\n",
    "    scraper = Scraper()\n",
    "    response =scraper.get(URL_NEWS)\n",
    "    scraper.parse(response)\n",
    "    df1 = pd.DataFrame(data={'url': url, 'title':scraper.news_title, 'content':scraper.news_text},index=['url', 'title', 'content'])\n",
    "    df = df.append(df1, ignore_index=True)\n",
    "df = df.drop_duplicates()\n"
   ]
  },
  {
   "cell_type": "code",
   "execution_count": 24,
   "id": "e9c55424",
   "metadata": {},
   "outputs": [
    {
     "data": {
      "text/html": [
       "<div>\n",
       "<style scoped>\n",
       "    .dataframe tbody tr th:only-of-type {\n",
       "        vertical-align: middle;\n",
       "    }\n",
       "\n",
       "    .dataframe tbody tr th {\n",
       "        vertical-align: top;\n",
       "    }\n",
       "\n",
       "    .dataframe thead th {\n",
       "        text-align: right;\n",
       "    }\n",
       "</style>\n",
       "<table border=\"1\" class=\"dataframe\">\n",
       "  <thead>\n",
       "    <tr style=\"text-align: right;\">\n",
       "      <th></th>\n",
       "      <th>url</th>\n",
       "      <th>title</th>\n",
       "      <th>content</th>\n",
       "    </tr>\n",
       "  </thead>\n",
       "  <tbody>\n",
       "    <tr>\n",
       "      <th>0</th>\n",
       "      <td>https://www.elciudadano.com/chile/diagnostico-...</td>\n",
       "      <td>Diagnóstico y Data: Claves para la educación d...</td>\n",
       "      <td>Tres millones de niñas, niños y jóvenes partie...</td>\n",
       "    </tr>\n",
       "    <tr>\n",
       "      <th>4</th>\n",
       "      <td>https://www.elciudadano.com/chile/corte-suprem...</td>\n",
       "      <td>Corte Suprema: General Martínez deberá declara...</td>\n",
       "      <td>Este lunes, en el marco de la investigación po...</td>\n",
       "    </tr>\n",
       "    <tr>\n",
       "      <th>7</th>\n",
       "      <td>https://www.elciudadano.com/chile/brigada-cibe...</td>\n",
       "      <td>Brigada Cibercrimen Metropolitana de la PDI in...</td>\n",
       "      <td>La Brigada de Cibercrimen Metropolitana de la ...</td>\n",
       "    </tr>\n",
       "    <tr>\n",
       "      <th>10</th>\n",
       "      <td>https://www.elciudadano.com/chile/la-semana-de...</td>\n",
       "      <td>La semana de la violencia: urge un nuevo parad...</td>\n",
       "      <td>Chile es un país violento. Según datos del Min...</td>\n",
       "    </tr>\n",
       "    <tr>\n",
       "      <th>13</th>\n",
       "      <td>https://www.elciudadano.com/chile/salud-el-deb...</td>\n",
       "      <td>Salud, el debate que viene en la Convención Co...</td>\n",
       "      <td>Las iniciativas populares de norma referentes ...</td>\n",
       "    </tr>\n",
       "    <tr>\n",
       "      <th>16</th>\n",
       "      <td>https://www.elciudadano.com/chile/defensora-de...</td>\n",
       "      <td>Defensora de la Niñez y violencia escolar: Los...</td>\n",
       "      <td>Este lunes, la Defensora de la Niñez, Patricia...</td>\n",
       "    </tr>\n",
       "    <tr>\n",
       "      <th>19</th>\n",
       "      <td>https://www.elciudadano.com/chile/tres-anos-y-...</td>\n",
       "      <td>Tres años y un día de «libertad vigilada inten...</td>\n",
       "      <td>El Juzgado de Garantía de La Ligua dictó una c...</td>\n",
       "    </tr>\n",
       "    <tr>\n",
       "      <th>22</th>\n",
       "      <td>https://www.elciudadano.com/chile/convencion-c...</td>\n",
       "      <td>Convención Constitucional: Comisión de Sistema...</td>\n",
       "      <td>Este lunes, la Comisión de Sistemas de Justici...</td>\n",
       "    </tr>\n",
       "    <tr>\n",
       "      <th>25</th>\n",
       "      <td>https://www.elciudadano.com/chile/apoderados-d...</td>\n",
       "      <td>Apoderados de colegio de La Unión denuncian re...</td>\n",
       "      <td>Apoderados del Colegio de Cultura y Difusión A...</td>\n",
       "    </tr>\n",
       "    <tr>\n",
       "      <th>28</th>\n",
       "      <td>https://www.elciudadano.com/chile/familiares-d...</td>\n",
       "      <td>Familiares de estudiante agredido en marcha de...</td>\n",
       "      <td>La familia y amigos de Camilo Cornejo, joven d...</td>\n",
       "    </tr>\n",
       "    <tr>\n",
       "      <th>61</th>\n",
       "      <td>https://www.elciudadano.com/chile/por-que-debe...</td>\n",
       "      <td>¿Por qué debería tener el privilegio de declar...</td>\n",
       "      <td>Este lunes, se llevó a cabo la audiencia judic...</td>\n",
       "    </tr>\n",
       "    <tr>\n",
       "      <th>64</th>\n",
       "      <td>https://www.elciudadano.com/mapuche/magisterio...</td>\n",
       "      <td>Magisterio llama a reabrir liceo de Pailahuequ...</td>\n",
       "      <td>En el marco del llamado a la paz, el diálogo y...</td>\n",
       "    </tr>\n",
       "    <tr>\n",
       "      <th>67</th>\n",
       "      <td>https://www.elciudadano.com/chile/informe-icov...</td>\n",
       "      <td>Informe ICovid: Especialistas destacan sosteni...</td>\n",
       "      <td>El equipo ICovid Chile, iniciativa liderada po...</td>\n",
       "    </tr>\n",
       "    <tr>\n",
       "      <th>70</th>\n",
       "      <td>https://www.elciudadano.com/actualidad/gobiern...</td>\n",
       "      <td>Gobierno extendió emergencia hídrica/agrícola ...</td>\n",
       "      <td>Tras recibir carta de 27 municipios rurales, e...</td>\n",
       "    </tr>\n",
       "    <tr>\n",
       "      <th>73</th>\n",
       "      <td>https://www.elciudadano.com/especiales/proceso...</td>\n",
       "      <td>Comisión de Sistema Político desechó figuras d...</td>\n",
       "      <td>Fotografía: Referencial | La TerceraEste lunes...</td>\n",
       "    </tr>\n",
       "    <tr>\n",
       "      <th>76</th>\n",
       "      <td>https://www.elciudadano.com/chile/liceo-indust...</td>\n",
       "      <td>Liceo Industrial Benjamín Franklin de Quinta N...</td>\n",
       "      <td>El Liceo Industrial Benjamín Franklin, de Quin...</td>\n",
       "    </tr>\n",
       "    <tr>\n",
       "      <th>79</th>\n",
       "      <td>https://www.elciudadano.com/chile/aplicacion-w...</td>\n",
       "      <td>Aplicación web ayuda a personas con discapacid...</td>\n",
       "      <td>El proyecto Pictos es una aplicación web gratu...</td>\n",
       "    </tr>\n",
       "    <tr>\n",
       "      <th>82</th>\n",
       "      <td>https://www.elciudadano.com/portada/empresas-d...</td>\n",
       "      <td>Empresas de la industria salmonera deben trans...</td>\n",
       "      <td>Se suma a esto  que el consumidor local e inte...</td>\n",
       "    </tr>\n",
       "    <tr>\n",
       "      <th>85</th>\n",
       "      <td>https://www.elciudadano.com/chile/ministro-de-...</td>\n",
       "      <td>Ministro de Transporte descarta impuesto al di...</td>\n",
       "      <td>El ministro de Transporte, Juan Carlos Muñoz, ...</td>\n",
       "    </tr>\n",
       "    <tr>\n",
       "      <th>88</th>\n",
       "      <td>https://www.elciudadano.com/chile/algunas-de-l...</td>\n",
       "      <td>Algunas de las principales razones para nacion...</td>\n",
       "      <td>Por Orlando Caputo y Graciela Galarce28 de mar...</td>\n",
       "    </tr>\n",
       "  </tbody>\n",
       "</table>\n",
       "</div>"
      ],
      "text/plain": [
       "                                                  url  \\\n",
       "0   https://www.elciudadano.com/chile/diagnostico-...   \n",
       "4   https://www.elciudadano.com/chile/corte-suprem...   \n",
       "7   https://www.elciudadano.com/chile/brigada-cibe...   \n",
       "10  https://www.elciudadano.com/chile/la-semana-de...   \n",
       "13  https://www.elciudadano.com/chile/salud-el-deb...   \n",
       "16  https://www.elciudadano.com/chile/defensora-de...   \n",
       "19  https://www.elciudadano.com/chile/tres-anos-y-...   \n",
       "22  https://www.elciudadano.com/chile/convencion-c...   \n",
       "25  https://www.elciudadano.com/chile/apoderados-d...   \n",
       "28  https://www.elciudadano.com/chile/familiares-d...   \n",
       "61  https://www.elciudadano.com/chile/por-que-debe...   \n",
       "64  https://www.elciudadano.com/mapuche/magisterio...   \n",
       "67  https://www.elciudadano.com/chile/informe-icov...   \n",
       "70  https://www.elciudadano.com/actualidad/gobiern...   \n",
       "73  https://www.elciudadano.com/especiales/proceso...   \n",
       "76  https://www.elciudadano.com/chile/liceo-indust...   \n",
       "79  https://www.elciudadano.com/chile/aplicacion-w...   \n",
       "82  https://www.elciudadano.com/portada/empresas-d...   \n",
       "85  https://www.elciudadano.com/chile/ministro-de-...   \n",
       "88  https://www.elciudadano.com/chile/algunas-de-l...   \n",
       "\n",
       "                                                title  \\\n",
       "0   Diagnóstico y Data: Claves para la educación d...   \n",
       "4   Corte Suprema: General Martínez deberá declara...   \n",
       "7   Brigada Cibercrimen Metropolitana de la PDI in...   \n",
       "10  La semana de la violencia: urge un nuevo parad...   \n",
       "13  Salud, el debate que viene en la Convención Co...   \n",
       "16  Defensora de la Niñez y violencia escolar: Los...   \n",
       "19  Tres años y un día de «libertad vigilada inten...   \n",
       "22  Convención Constitucional: Comisión de Sistema...   \n",
       "25  Apoderados de colegio de La Unión denuncian re...   \n",
       "28  Familiares de estudiante agredido en marcha de...   \n",
       "61  ¿Por qué debería tener el privilegio de declar...   \n",
       "64  Magisterio llama a reabrir liceo de Pailahuequ...   \n",
       "67  Informe ICovid: Especialistas destacan sosteni...   \n",
       "70  Gobierno extendió emergencia hídrica/agrícola ...   \n",
       "73  Comisión de Sistema Político desechó figuras d...   \n",
       "76  Liceo Industrial Benjamín Franklin de Quinta N...   \n",
       "79  Aplicación web ayuda a personas con discapacid...   \n",
       "82  Empresas de la industria salmonera deben trans...   \n",
       "85  Ministro de Transporte descarta impuesto al di...   \n",
       "88  Algunas de las principales razones para nacion...   \n",
       "\n",
       "                                              content  \n",
       "0   Tres millones de niñas, niños y jóvenes partie...  \n",
       "4   Este lunes, en el marco de la investigación po...  \n",
       "7   La Brigada de Cibercrimen Metropolitana de la ...  \n",
       "10  Chile es un país violento. Según datos del Min...  \n",
       "13  Las iniciativas populares de norma referentes ...  \n",
       "16  Este lunes, la Defensora de la Niñez, Patricia...  \n",
       "19  El Juzgado de Garantía de La Ligua dictó una c...  \n",
       "22  Este lunes, la Comisión de Sistemas de Justici...  \n",
       "25  Apoderados del Colegio de Cultura y Difusión A...  \n",
       "28  La familia y amigos de Camilo Cornejo, joven d...  \n",
       "61  Este lunes, se llevó a cabo la audiencia judic...  \n",
       "64  En el marco del llamado a la paz, el diálogo y...  \n",
       "67  El equipo ICovid Chile, iniciativa liderada po...  \n",
       "70  Tras recibir carta de 27 municipios rurales, e...  \n",
       "73  Fotografía: Referencial | La TerceraEste lunes...  \n",
       "76  El Liceo Industrial Benjamín Franklin, de Quin...  \n",
       "79  El proyecto Pictos es una aplicación web gratu...  \n",
       "82  Se suma a esto  que el consumidor local e inte...  \n",
       "85  El ministro de Transporte, Juan Carlos Muñoz, ...  \n",
       "88  Por Orlando Caputo y Graciela Galarce28 de mar...  "
      ]
     },
     "execution_count": 24,
     "metadata": {},
     "output_type": "execute_result"
    }
   ],
   "source": [
    "df"
   ]
  },
  {
   "cell_type": "code",
   "execution_count": null,
   "id": "2e565eca",
   "metadata": {},
   "outputs": [],
   "source": []
  }
 ],
 "metadata": {
  "kernelspec": {
   "display_name": "Python 3 (ipykernel)",
   "language": "python",
   "name": "python3"
  },
  "language_info": {
   "codemirror_mode": {
    "name": "ipython",
    "version": 3
   },
   "file_extension": ".py",
   "mimetype": "text/x-python",
   "name": "python",
   "nbconvert_exporter": "python",
   "pygments_lexer": "ipython3",
   "version": "3.8.10"
  }
 },
 "nbformat": 4,
 "nbformat_minor": 5
}
