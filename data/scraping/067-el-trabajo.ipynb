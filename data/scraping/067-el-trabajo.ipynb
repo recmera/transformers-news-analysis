{
 "cells": [
  {
   "cell_type": "code",
   "execution_count": 1,
   "id": "e42c42ef",
   "metadata": {},
   "outputs": [],
   "source": [
    "import json\n",
    "import w3lib.html\n",
    "import random\n",
    "import os\n",
    "from datetime import datetime\n",
    "import requests\n",
    "import string\n",
    "import calendar\n",
    "import html\n",
    "import locale \n",
    "from requests_html import HTMLSession\n",
    "from requests_html import HTML\n",
    "import validators\n",
    "import pandas as pd\n",
    "from tqdm.notebook import tqdm\n",
    "\n",
    "import warnings\n",
    "warnings.filterwarnings('ignore')"
   ]
  },
  {
   "cell_type": "code",
   "execution_count": 2,
   "id": "79bb0b1d",
   "metadata": {},
   "outputs": [],
   "source": [
    "URL_SEED = 'https://eltrabajo.cl/portal/author/diario-el-trabajo/page/1/'\n",
    "XPATH_HREF = \"//h3/a/@href\""
   ]
  },
  {
   "cell_type": "code",
   "execution_count": 3,
   "id": "c8a6236e",
   "metadata": {},
   "outputs": [],
   "source": [
    "class Crawler():\n",
    "    \n",
    "    USER_AGENT_LIST = [\n",
    "        \"Mozilla/5.0 (Windows NT 6.1; WOW64) AppleWebKit/537.1 (KHTML, like Gecko) Chrome/22.0.1207.1 Safari/537.1\",\n",
    "        \"Mozilla/5.0 (X11; CrOS i686 2268.111.0) AppleWebKit/536.11 (KHTML, like Gecko) Chrome/20.0.1132.57 Safari/536.11\",\n",
    "        \"Mozilla/5.0 (Windows NT 6.1; WOW64) AppleWebKit/536.6 (KHTML, like Gecko) Chrome/20.0.1092.0 Safari/536.6\",\n",
    "        \"Mozilla/5.0 (Windows NT 6.2) AppleWebKit/536.6 (KHTML, like Gecko) Chrome/20.0.1090.0 Safari/536.6\",\n",
    "        \"Mozilla/5.0 (Windows NT 6.2; WOW64) AppleWebKit/537.1 (KHTML, like Gecko) Chrome/19.77.34.5 Safari/537.1\",\n",
    "        \"Mozilla/5.0 (X11; Linux x86_64) AppleWebKit/536.5 (KHTML, like Gecko) Chrome/19.0.1084.9 Safari/536.5\",\n",
    "        \"Mozilla/5.0 (Windows NT 6.0) AppleWebKit/536.5 (KHTML, like Gecko) Chrome/19.0.1084.36 Safari/536.5\",\n",
    "        \"Mozilla/5.0 (Windows NT 6.1; WOW64) AppleWebKit/536.3 (KHTML, like Gecko) Chrome/19.0.1063.0 Safari/536.3\",\n",
    "        \"Mozilla/5.0 (Windows NT 5.1) AppleWebKit/536.3 (KHTML, like Gecko) Chrome/19.0.1063.0 Safari/536.3\",\n",
    "        \"Mozilla/5.0 (Macintosh; Intel Mac OS X 10_8_0) AppleWebKit/536.3 (KHTML, like Gecko) Chrome/19.0.1063.0 Safari/536.3\",\n",
    "        \"Mozilla/5.0 (Windows NT 6.2) AppleWebKit/536.3 (KHTML, like Gecko) Chrome/19.0.1062.0 Safari/536.3\",\n",
    "        \"Mozilla/5.0 (Windows NT 6.1; WOW64) AppleWebKit/536.3 (KHTML, like Gecko) Chrome/19.0.1062.0 Safari/536.3\",\n",
    "        \"Mozilla/5.0 (Windows NT 6.2) AppleWebKit/536.3 (KHTML, like Gecko) Chrome/19.0.1061.1 Safari/536.3\",\n",
    "        \"Mozilla/5.0 (Windows NT 6.1; WOW64) AppleWebKit/536.3 (KHTML, like Gecko) Chrome/19.0.1061.1 Safari/536.3\",\n",
    "        \"Mozilla/5.0 (Windows NT 6.1) AppleWebKit/536.3 (KHTML, like Gecko) Chrome/19.0.1061.1 Safari/536.3\",\n",
    "        \"Mozilla/5.0 (Windows NT 6.2) AppleWebKit/536.3 (KHTML, like Gecko) Chrome/19.0.1061.0 Safari/536.3\",\n",
    "        \"Mozilla/5.0 (X11; Linux x86_64) AppleWebKit/535.24 (KHTML, like Gecko) Chrome/19.0.1055.1 Safari/535.24\",\n",
    "        \"Mozilla/5.0 (Windows NT 6.2; WOW64) AppleWebKit/535.24 (KHTML, like Gecko) Chrome/19.0.1055.1 Safari/535.24\"\n",
    "    ]\n",
    "\n",
    "    #Ruta XPATH hacia los enlaces que queremos recopilar\n",
    "    xpath_href=XPATH_HREF\n",
    "\n",
    "    #variable que permite listar todos los enlaces recopilado\n",
    "    url_list = []\n",
    "    \n",
    "    def _init_(self, URL_SEED, XPATH_HREF):        \n",
    "        pass\n",
    "\n",
    "    \n",
    "    def get(self,url):\n",
    "        session = HTMLSession()\n",
    "        header = dict()\n",
    "        header['user-agent'] = random.choice(self.USER_AGENT_LIST)\n",
    "        response = session.get(url,headers=header)        \n",
    "        return response\n",
    "    \n",
    "    def parse(self, response):\n",
    "        self.url_list = []\n",
    "        urls = response.html.xpath(self.xpath_href)\n",
    "        for url in urls:\n",
    "            self.url_list.append(url)\n"
   ]
  },
  {
   "cell_type": "code",
   "execution_count": 4,
   "id": "e016daec",
   "metadata": {
    "scrolled": true
   },
   "outputs": [
    {
     "data": {
      "application/vnd.jupyter.widget-view+json": {
       "model_id": "c8fdd18d673e4febae15be70c42e5a85",
       "version_major": 2,
       "version_minor": 0
      },
      "text/plain": [
       "  0%|          | 0/3 [00:00<?, ?it/s]"
      ]
     },
     "metadata": {},
     "output_type": "display_data"
    },
    {
     "data": {
      "text/plain": [
       "['https://eltrabajo.cl/portal/cerca-de-70-millones-robaron-delincuentes-de-sucursal-de-kovacs-san-felipe/',\n",
       " 'https://eltrabajo.cl/portal/compleja-situacion-vive-grupo-de-extrabajadores-del-club-centro-arabe/',\n",
       " 'https://eltrabajo.cl/portal/con-heridas-graves-resulta-mujer-que-fue-apunalada-en-villa-departamental/',\n",
       " 'https://eltrabajo.cl/portal/a-pulso-roban-caja-fuerte-del-cementerio-parque-almendral-en-la-troya/',\n",
       " 'https://eltrabajo.cl/portal/delegada-presidencial-provincial-scarlett-valdes-a-solas-con-diario-el-trabajo/',\n",
       " 'https://eltrabajo.cl/portal/alimentacion-saludable-y-muchos-juegos-en-el-dia-mundial-del-deporte/',\n",
       " 'https://eltrabajo.cl/portal/toda-una-semana-de-alegria-vivieron-escolares-en-el-dia-mundial-del-deporte/',\n",
       " 'https://eltrabajo.cl/portal/vecinos-de-michimalonco-protestan-por-incumplimiento-de-medidas-de-mitigacion/',\n",
       " 'https://eltrabajo.cl/portal/abren-campana-a-beneficio-para-que-florencia-tapia-pueda-correr-en-paralimpicos/',\n",
       " 'https://eltrabajo.cl/portal/realizan-campana-para-ayudar-a-conocida-comerciante-de-san-felipe/',\n",
       " 'https://eltrabajo.cl/portal/cerca-de-70-millones-robaron-delincuentes-de-sucursal-de-kovacs-san-felipe/',\n",
       " 'https://eltrabajo.cl/portal/compleja-situacion-vive-grupo-de-extrabajadores-del-club-centro-arabe/',\n",
       " 'https://eltrabajo.cl/portal/con-heridas-graves-resulta-mujer-que-fue-apunalada-en-villa-departamental/',\n",
       " 'https://eltrabajo.cl/portal/a-pulso-roban-caja-fuerte-del-cementerio-parque-almendral-en-la-troya/',\n",
       " 'https://eltrabajo.cl/portal/delegada-presidencial-provincial-scarlett-valdes-a-solas-con-diario-el-trabajo/',\n",
       " 'https://eltrabajo.cl/portal/alimentacion-saludable-y-muchos-juegos-en-el-dia-mundial-del-deporte/',\n",
       " 'https://eltrabajo.cl/portal/toda-una-semana-de-alegria-vivieron-escolares-en-el-dia-mundial-del-deporte/',\n",
       " 'https://eltrabajo.cl/portal/vecinos-de-michimalonco-protestan-por-incumplimiento-de-medidas-de-mitigacion/',\n",
       " 'https://eltrabajo.cl/portal/abren-campana-a-beneficio-para-que-florencia-tapia-pueda-correr-en-paralimpicos/',\n",
       " 'https://eltrabajo.cl/portal/realizan-campana-para-ayudar-a-conocida-comerciante-de-san-felipe/',\n",
       " 'https://eltrabajo.cl/portal/detienen-a-joven-sorprendido-portando-cocaina-y-marihuana-en-banano/',\n",
       " 'https://eltrabajo.cl/portal/indigentes-relatan-sus-historias-de-vida-en-la-calle-y-dolor-en-nuevo-libro/',\n",
       " 'https://eltrabajo.cl/portal/escolares-trabajan-en-su-propio-taller-de-periodismo-para-crear-una-revista/',\n",
       " 'https://eltrabajo.cl/portal/liceo-cordillera-en-celebracion-del-dia-mundial-de-la-actividad-fisica-y-el-deporte/',\n",
       " 'https://eltrabajo.cl/portal/trans-tendran-historico-primer-miss-feminas-a-nivel-nacional-en-san-felipe/',\n",
       " 'https://eltrabajo.cl/portal/fue-por-un-posible-colico-renal-al-hospital-y-le-descubrieron-un-tumor/',\n",
       " 'https://eltrabajo.cl/portal/por-falta-de-autorizacion-no-se-habria-efectuado-cierre-de-rotonda-monasterio/',\n",
       " 'https://eltrabajo.cl/portal/carabineros-recupero-vehiculo-con-encargo-por-robo-desde-santiago-2/',\n",
       " 'https://eltrabajo.cl/portal/mas-de-10-millones-invierte-la-tercera-cia-en-equipo-para-sus-bomberos/',\n",
       " 'https://eltrabajo.cl/portal/actividades-para-toda-edad-tendran-las-bibliotecas-de-san-felipe-y-curimon/']"
      ]
     },
     "execution_count": 4,
     "metadata": {},
     "output_type": "execute_result"
    }
   ],
   "source": [
    "urls=[]\n",
    "\n",
    "for page in tqdm(range(3)): # revisemos sólo 2 páginas\n",
    "    crawler = Crawler()\n",
    "    response = crawler.get('https://eltrabajo.cl/portal/author/diario-el-trabajo/page/'+str(page))\n",
    "    crawler.parse(response)\n",
    "\n",
    "    \n",
    "    for url in crawler.url_list:\n",
    "        urls.append(url)\n",
    "\n",
    "    crawler.url_list = urls\n",
    "    \n",
    "crawler.url_list"
   ]
  },
  {
   "cell_type": "code",
   "execution_count": 5,
   "id": "e6099483",
   "metadata": {},
   "outputs": [
    {
     "data": {
      "text/plain": [
       "30"
      ]
     },
     "execution_count": 5,
     "metadata": {},
     "output_type": "execute_result"
    }
   ],
   "source": [
    "len(urls)"
   ]
  },
  {
   "cell_type": "code",
   "execution_count": 6,
   "id": "928cdb23",
   "metadata": {},
   "outputs": [
    {
     "data": {
      "text/plain": [
       "'https://eltrabajo.cl/portal/cerca-de-70-millones-robaron-delincuentes-de-sucursal-de-kovacs-san-felipe/'"
      ]
     },
     "execution_count": 6,
     "metadata": {},
     "output_type": "execute_result"
    }
   ],
   "source": [
    "urls[0]"
   ]
  },
  {
   "cell_type": "code",
   "execution_count": null,
   "id": "f8c2d5b1",
   "metadata": {},
   "outputs": [],
   "source": []
  },
  {
   "cell_type": "code",
   "execution_count": 7,
   "id": "d446e5df",
   "metadata": {},
   "outputs": [],
   "source": [
    "URL_NEWS = urls[0]\n",
    "XPATH_TITLE = \"//header[@class='td-post-title']/h1\"\n",
    "XPATH_CONTENT =\"//div[@class='td-post-content tagdiv-type']//p\""
   ]
  },
  {
   "cell_type": "code",
   "execution_count": 8,
   "id": "fcc5edaf",
   "metadata": {},
   "outputs": [],
   "source": [
    "class Scraper:\n",
    "    \n",
    "    USER_AGENT_LIST = [\n",
    "        \"Mozilla/5.0 (Windows NT 6.1; WOW64) AppleWebKit/537.1 (KHTML, like Gecko) Chrome/22.0.1207.1 Safari/537.1\",\n",
    "        \"Mozilla/5.0 (X11; CrOS i686 2268.111.0) AppleWebKit/536.11 (KHTML, like Gecko) Chrome/20.0.1132.57 Safari/536.11\",\n",
    "        \"Mozilla/5.0 (Windows NT 6.1; WOW64) AppleWebKit/536.6 (KHTML, like Gecko) Chrome/20.0.1092.0 Safari/536.6\",\n",
    "        \"Mozilla/5.0 (Windows NT 6.2) AppleWebKit/536.6 (KHTML, like Gecko) Chrome/20.0.1090.0 Safari/536.6\",\n",
    "        \"Mozilla/5.0 (Windows NT 6.2; WOW64) AppleWebKit/537.1 (KHTML, like Gecko) Chrome/19.77.34.5 Safari/537.1\",\n",
    "        \"Mozilla/5.0 (X11; Linux x86_64) AppleWebKit/536.5 (KHTML, like Gecko) Chrome/19.0.1084.9 Safari/536.5\",\n",
    "        \"Mozilla/5.0 (Windows NT 6.0) AppleWebKit/536.5 (KHTML, like Gecko) Chrome/19.0.1084.36 Safari/536.5\",\n",
    "        \"Mozilla/5.0 (Windows NT 6.1; WOW64) AppleWebKit/536.3 (KHTML, like Gecko) Chrome/19.0.1063.0 Safari/536.3\",\n",
    "        \"Mozilla/5.0 (Windows NT 5.1) AppleWebKit/536.3 (KHTML, like Gecko) Chrome/19.0.1063.0 Safari/536.3\",\n",
    "        \"Mozilla/5.0 (Macintosh; Intel Mac OS X 10_8_0) AppleWebKit/536.3 (KHTML, like Gecko) Chrome/19.0.1063.0 Safari/536.3\",\n",
    "        \"Mozilla/5.0 (Windows NT 6.2) AppleWebKit/536.3 (KHTML, like Gecko) Chrome/19.0.1062.0 Safari/536.3\",\n",
    "        \"Mozilla/5.0 (Windows NT 6.1; WOW64) AppleWebKit/536.3 (KHTML, like Gecko) Chrome/19.0.1062.0 Safari/536.3\",\n",
    "        \"Mozilla/5.0 (Windows NT 6.2) AppleWebKit/536.3 (KHTML, like Gecko) Chrome/19.0.1061.1 Safari/536.3\",\n",
    "        \"Mozilla/5.0 (Windows NT 6.1; WOW64) AppleWebKit/536.3 (KHTML, like Gecko) Chrome/19.0.1061.1 Safari/536.3\",\n",
    "        \"Mozilla/5.0 (Windows NT 6.1) AppleWebKit/536.3 (KHTML, like Gecko) Chrome/19.0.1061.1 Safari/536.3\",\n",
    "        \"Mozilla/5.0 (Windows NT 6.2) AppleWebKit/536.3 (KHTML, like Gecko) Chrome/19.0.1061.0 Safari/536.3\",\n",
    "        \"Mozilla/5.0 (X11; Linux x86_64) AppleWebKit/535.24 (KHTML, like Gecko) Chrome/19.0.1055.1 Safari/535.24\",\n",
    "        \"Mozilla/5.0 (Windows NT 6.2; WOW64) AppleWebKit/535.24 (KHTML, like Gecko) Chrome/19.0.1055.1 Safari/535.24\"\n",
    "    ]\n",
    "\n",
    "    query_extract_title = XPATH_TITLE\n",
    "    query_extract_text =  XPATH_CONTENT\n",
    "\n",
    "    def _init_(self):\n",
    "        pass\n",
    "   \n",
    "    def get(self,url):\n",
    "        headers = {'user-agent':random.choice(self.USER_AGENT_LIST) }\n",
    "        session = HTMLSession()\n",
    "        response = session.get(url,headers=headers) \n",
    "        return response\n",
    "    \n",
    "    def clean_text(self, html_text):\n",
    "        text_without_tags = w3lib.html.remove_tags(html_text)\n",
    "        text_without_escape_chars = w3lib.html.replace_escape_chars(text_without_tags)\n",
    "        text_without_escape_chars = html.unescape(text_without_escape_chars)\n",
    "        text_without_whitespace = text_without_escape_chars.strip()\n",
    "        return text_without_whitespace\n",
    "\n",
    "    \n",
    "    #### main function ####\n",
    "    def parse(self, response):\n",
    "        \n",
    "        #URL\n",
    "        self.news_url = response.url\n",
    "        \n",
    "        #TITLE\n",
    "        self.news_title = response.html.xpath(self.query_extract_title)[0].text\n",
    "        self.news_title = self.clean_text(self.news_title)\n",
    "       \n",
    "        \n",
    "        #CONTENT\n",
    "        self.news_text = \"\"\n",
    "        \n",
    "        html_paragraphs = response.html.xpath(self.query_extract_text)\n",
    "        \n",
    "        for paragraph in html_paragraphs:\n",
    "            paragraph_content = w3lib.html.remove_tags(paragraph.text)    \n",
    "            text_cleaned = self.clean_text(paragraph_content)\n",
    "            self.news_text = self.news_text+text_cleaned\n"
   ]
  },
  {
   "cell_type": "code",
   "execution_count": 9,
   "id": "d9482704",
   "metadata": {},
   "outputs": [],
   "source": [
    "scraper = Scraper()\n",
    "response =scraper.get(URL_NEWS)"
   ]
  },
  {
   "cell_type": "code",
   "execution_count": 10,
   "id": "d72bc32e",
   "metadata": {},
   "outputs": [],
   "source": [
    "scraper.parse(response)"
   ]
  },
  {
   "cell_type": "code",
   "execution_count": 11,
   "id": "a2e4d401",
   "metadata": {},
   "outputs": [
    {
     "data": {
      "text/plain": [
       "'Cerca de $70 millones robaron delincuentes de sucursal de Kovacs San Felipe'"
      ]
     },
     "execution_count": 11,
     "metadata": {},
     "output_type": "execute_result"
    }
   ],
   "source": [
    "scraper.news_title"
   ]
  },
  {
   "cell_type": "code",
   "execution_count": 12,
   "id": "162264db",
   "metadata": {},
   "outputs": [
    {
     "data": {
      "text/plain": [
       "'Un violento robo sufrió la sucursal de Kovacs de San Felipe, ubicada en la Avenida O´Higgins, y es que en horas de la madrugada de ayer, un grupo de seis delincuentes irrumpieron de manera violenta al recinto y se dirigieron directamente a la caja fuerte del establecimiento.El gerente de Kovacs, Giovanni Depaoli, señaló que «la verdad es que yo creo que hay más personas que participaron, pero los que ingresaron al local fueron seis, los seis armados, con pistolas y con mucha violencia por así decirlo, golpearon al guardia, lo encerraron en un comedor, le quitaron las llaves, él estaba haciendo su ronda de chequeo, le quitaron además todas sus pertenencias».Fue el mismo gerente quien detalló además el momento de angustia y miedo que vivió el guardia de seguridad. Depaoli sostuvo que «él lo pasó muy mal, es lo que más nos preocupa, lo que más nos importa es la vida de las personas, él lo pasó bastante mal, lo amenazaron de muerte, estuvieron a punto de matarlo, permanentemente le ponían la pistola en la cabeza, el líder de ellos estaba medio pasado de vuelta por así decirlo, fue muy fuerte».Agregó más adelante que afortunadamente el guardia «está bien gracias a Dios, dentro de todo no le pasó nada grave. Agradecer el apoyo de Carabineros, se portaron muy bien y después llegó la PDI a hacer su trabajo», agregó.En este contexto de incertidumbre y frustración que se vive tras ser víctima de la delincuencia, Giovanni Depaoli indicó que «lamentamos el hecho ocurrido, es terrible, uno lo escucha todos los días, pero vivirlo es otra cosa. Hicieron bolsa la caja fuerte, trabajaron casi dos horas mientras al guardia lo tenían amenazado, fue algo muy muy fuerte».Respecto de lo robado, el gerente de la sucursal de Kovacs en San Felipe detalló que «es una caja que se ingresan valores, tenemos que hacer un recuento con todo el respaldo que hemos ingresado, pero no sería menos de 70 millones de pesos».Recinto que está siendo remodelado y que según precisaron, podría haber servido para el actuar de estos delincuentes. «Nosotros desgraciadamente por un lado estamos en un proceso de reestructuración de la oficina, y los trabajos aún no terminan en un 100% y justamente es un tema de seguridad lo que falta, el cierre del frontis de la oficina y la parte trasera. Y además estamos en el proceso de la instalación de varias medidas de seguridad, tenemos que preocuparnos de protegernos ahora, es terrible», dijo Depaoli.Un hecho de estas características que nunca les había tocado vivir como empresa, y que lamentablemente esa noche fueron víctimas del actuar de estos delincuentes. «Algo de esta magnitud nunca nos había pasado, como esto, honestamente, no nos había pasado. Yo llevaba semanas preocupado por el resguardo de la vida de las personas, porque han ocurrido muchos robos en San Felipe, tenía el temor de que algo nos podía pasar porque es demasiado las cosas que están ocurriendo en la zona».Finalmente, y junto con lamentar lo ocurrido, Giovanni Depaoli expresó que «estas cosas no son al azar, estas cosas las planean, la diferencia es que ellos las roban y nosotros las ganamos trabajando, detrás de esto hay todo un tema, es muy extraño porque se fueron directo a la caja fuerte, no robaron computadores o que intentaran robarse un auto, ellos hicieron su trabajo sabiendo a lo que iban».'"
      ]
     },
     "execution_count": 12,
     "metadata": {},
     "output_type": "execute_result"
    }
   ],
   "source": [
    "scraper.news_text"
   ]
  },
  {
   "cell_type": "code",
   "execution_count": 13,
   "id": "a455d5d3",
   "metadata": {},
   "outputs": [],
   "source": [
    "#Verificamos que el scraper devuelve algo\n",
    "assert(len(scraper.news_title)>0)\n",
    "assert(len(scraper.news_text)>0)"
   ]
  },
  {
   "cell_type": "code",
   "execution_count": 14,
   "id": "524ce41b",
   "metadata": {},
   "outputs": [
    {
     "data": {
      "text/html": [
       "<div>\n",
       "<style scoped>\n",
       "    .dataframe tbody tr th:only-of-type {\n",
       "        vertical-align: middle;\n",
       "    }\n",
       "\n",
       "    .dataframe tbody tr th {\n",
       "        vertical-align: top;\n",
       "    }\n",
       "\n",
       "    .dataframe thead th {\n",
       "        text-align: right;\n",
       "    }\n",
       "</style>\n",
       "<table border=\"1\" class=\"dataframe\">\n",
       "  <thead>\n",
       "    <tr style=\"text-align: right;\">\n",
       "      <th></th>\n",
       "      <th>url</th>\n",
       "      <th>title</th>\n",
       "      <th>content</th>\n",
       "    </tr>\n",
       "  </thead>\n",
       "  <tbody>\n",
       "    <tr>\n",
       "      <th>0</th>\n",
       "      <td>https://eltrabajo.cl/portal/cerca-de-70-millon...</td>\n",
       "      <td>Cerca de $70 millones robaron delincuentes de ...</td>\n",
       "      <td>Un violento robo sufrió la sucursal de Kovacs ...</td>\n",
       "    </tr>\n",
       "  </tbody>\n",
       "</table>\n",
       "</div>"
      ],
      "text/plain": [
       "                                                 url  \\\n",
       "0  https://eltrabajo.cl/portal/cerca-de-70-millon...   \n",
       "\n",
       "                                               title  \\\n",
       "0  Cerca de $70 millones robaron delincuentes de ...   \n",
       "\n",
       "                                             content  \n",
       "0  Un violento robo sufrió la sucursal de Kovacs ...  "
      ]
     },
     "execution_count": 14,
     "metadata": {},
     "output_type": "execute_result"
    }
   ],
   "source": [
    "df = pd.DataFrame(data={'url': [URL_NEWS],'title':[scraper.news_title], 'content':[scraper.news_text]})\n",
    "df"
   ]
  },
  {
   "cell_type": "code",
   "execution_count": 15,
   "id": "267a48c8",
   "metadata": {},
   "outputs": [
    {
     "data": {
      "application/vnd.jupyter.widget-view+json": {
       "model_id": "a97e5352ed2140c891eaedf1e3f34a68",
       "version_major": 2,
       "version_minor": 0
      },
      "text/plain": [
       "  0%|          | 0/30 [00:00<?, ?it/s]"
      ]
     },
     "metadata": {},
     "output_type": "display_data"
    }
   ],
   "source": [
    "XPATH_TITLE = \"//header[@class='td-post-title']/h1\"\n",
    "XPATH_CONTENT =\"//div[@class='td-post-content tagdiv-type']//p\"\n",
    "\n",
    "for url in tqdm(urls):\n",
    "    URL_NEWS = url\n",
    "    scraper = Scraper()\n",
    "    response =scraper.get(URL_NEWS)\n",
    "    scraper.parse(response)\n",
    "    df1 = pd.DataFrame(data={'url': url, 'title':scraper.news_title, 'content':scraper.news_text},index=['url', 'title', 'content'])\n",
    "    df = df.append(df1, ignore_index=True)\n",
    "df = df.drop_duplicates()\n"
   ]
  },
  {
   "cell_type": "code",
   "execution_count": 16,
   "id": "e9c55424",
   "metadata": {},
   "outputs": [
    {
     "data": {
      "text/html": [
       "<div>\n",
       "<style scoped>\n",
       "    .dataframe tbody tr th:only-of-type {\n",
       "        vertical-align: middle;\n",
       "    }\n",
       "\n",
       "    .dataframe tbody tr th {\n",
       "        vertical-align: top;\n",
       "    }\n",
       "\n",
       "    .dataframe thead th {\n",
       "        text-align: right;\n",
       "    }\n",
       "</style>\n",
       "<table border=\"1\" class=\"dataframe\">\n",
       "  <thead>\n",
       "    <tr style=\"text-align: right;\">\n",
       "      <th></th>\n",
       "      <th>url</th>\n",
       "      <th>title</th>\n",
       "      <th>content</th>\n",
       "    </tr>\n",
       "  </thead>\n",
       "  <tbody>\n",
       "    <tr>\n",
       "      <th>0</th>\n",
       "      <td>https://eltrabajo.cl/portal/cerca-de-70-millon...</td>\n",
       "      <td>Cerca de $70 millones robaron delincuentes de ...</td>\n",
       "      <td>Un violento robo sufrió la sucursal de Kovacs ...</td>\n",
       "    </tr>\n",
       "    <tr>\n",
       "      <th>4</th>\n",
       "      <td>https://eltrabajo.cl/portal/compleja-situacion...</td>\n",
       "      <td>Compleja situación vive grupo de extrabajadore...</td>\n",
       "      <td>Una situación bastante compleja y hasta incomp...</td>\n",
       "    </tr>\n",
       "    <tr>\n",
       "      <th>7</th>\n",
       "      <td>https://eltrabajo.cl/portal/con-heridas-graves...</td>\n",
       "      <td>Con heridas graves resulta mujer que fue apuña...</td>\n",
       "      <td>Una mujer de 47 años de edad resultó con una h...</td>\n",
       "    </tr>\n",
       "    <tr>\n",
       "      <th>10</th>\n",
       "      <td>https://eltrabajo.cl/portal/a-pulso-roban-caja...</td>\n",
       "      <td>A pulso roban caja fuerte del Cementerio Parqu...</td>\n",
       "      <td>Tardaron menos de 10 minutos:Una banda integra...</td>\n",
       "    </tr>\n",
       "    <tr>\n",
       "      <th>13</th>\n",
       "      <td>https://eltrabajo.cl/portal/delegada-presidenc...</td>\n",
       "      <td>Delegada presidencial provincial Scarlett Vald...</td>\n",
       "      <td>Nos explica por qué el Presidente Boric la ins...</td>\n",
       "    </tr>\n",
       "    <tr>\n",
       "      <th>16</th>\n",
       "      <td>https://eltrabajo.cl/portal/alimentacion-salud...</td>\n",
       "      <td>Alimentación saludable y muchos juegos en el D...</td>\n",
       "      <td>Peques de la Escuela San Rafael, profes y apod...</td>\n",
       "    </tr>\n",
       "    <tr>\n",
       "      <th>19</th>\n",
       "      <td>https://eltrabajo.cl/portal/toda-una-semana-de...</td>\n",
       "      <td>Toda una semana de alegría vivieron escolares ...</td>\n",
       "      <td>Peques recorrieron patios, calles y cerros de ...</td>\n",
       "    </tr>\n",
       "    <tr>\n",
       "      <th>22</th>\n",
       "      <td>https://eltrabajo.cl/portal/vecinos-de-michima...</td>\n",
       "      <td>Vecinos de Michimalonco protestan por incumpli...</td>\n",
       "      <td>Encendieron barricadas:Durante la noche del pa...</td>\n",
       "    </tr>\n",
       "    <tr>\n",
       "      <th>25</th>\n",
       "      <td>https://eltrabajo.cl/portal/abren-campana-a-be...</td>\n",
       "      <td>Abren campaña a beneficio para que Florencia T...</td>\n",
       "      <td>Se necesitan premios, dinero y mucho apoyo par...</td>\n",
       "    </tr>\n",
       "    <tr>\n",
       "      <th>28</th>\n",
       "      <td>https://eltrabajo.cl/portal/realizan-campana-p...</td>\n",
       "      <td>Realizan campaña para ayudar a conocida comerc...</td>\n",
       "      <td>Hospitalizada en Vallenar:Una campaña destinad...</td>\n",
       "    </tr>\n",
       "    <tr>\n",
       "      <th>34</th>\n",
       "      <td>https://eltrabajo.cl/portal/compleja-situacion...</td>\n",
       "      <td>Compleja situación vive grupo de extrabajadore...</td>\n",
       "      <td>Una situación bastante compleja y hasta incomp...</td>\n",
       "    </tr>\n",
       "    <tr>\n",
       "      <th>43</th>\n",
       "      <td>https://eltrabajo.cl/portal/delegada-presidenc...</td>\n",
       "      <td>Delegada presidencial provincial Scarlett Vald...</td>\n",
       "      <td>Nos explica por qué el Presidente Boric la ins...</td>\n",
       "    </tr>\n",
       "    <tr>\n",
       "      <th>49</th>\n",
       "      <td>https://eltrabajo.cl/portal/toda-una-semana-de...</td>\n",
       "      <td>Toda una semana de alegría vivieron escolares ...</td>\n",
       "      <td>Peques recorrieron patios, calles y cerros de ...</td>\n",
       "    </tr>\n",
       "    <tr>\n",
       "      <th>55</th>\n",
       "      <td>https://eltrabajo.cl/portal/abren-campana-a-be...</td>\n",
       "      <td>Abren campaña a beneficio para que Florencia T...</td>\n",
       "      <td>Se necesitan premios, dinero y mucho apoyo par...</td>\n",
       "    </tr>\n",
       "    <tr>\n",
       "      <th>61</th>\n",
       "      <td>https://eltrabajo.cl/portal/detienen-a-joven-s...</td>\n",
       "      <td>Detienen a joven sorprendido portando cocaína ...</td>\n",
       "      <td>Personal de la SIP de Carabineros:Carabineros ...</td>\n",
       "    </tr>\n",
       "    <tr>\n",
       "      <th>64</th>\n",
       "      <td>https://eltrabajo.cl/portal/indigentes-relatan...</td>\n",
       "      <td>Indigentes relatan sus historias de vida en la...</td>\n",
       "      <td>Adicciones, alcoholismo y soledad que viven en...</td>\n",
       "    </tr>\n",
       "    <tr>\n",
       "      <th>67</th>\n",
       "      <td>https://eltrabajo.cl/portal/escolares-trabajan...</td>\n",
       "      <td>Escolares trabajan en su propio Taller de Peri...</td>\n",
       "      <td>Estarán visitando radios y nuestra Sala de Red...</td>\n",
       "    </tr>\n",
       "    <tr>\n",
       "      <th>70</th>\n",
       "      <td>https://eltrabajo.cl/portal/liceo-cordillera-e...</td>\n",
       "      <td>Liceo Cordillera en celebración del ‘Día Mundi...</td>\n",
       "      <td>Ayer se celebró a nivel planetario el ‘Día Mun...</td>\n",
       "    </tr>\n",
       "    <tr>\n",
       "      <th>73</th>\n",
       "      <td>https://eltrabajo.cl/portal/trans-tendran-hist...</td>\n",
       "      <td>Trans tendrán histórico primer Miss Féminas a ...</td>\n",
       "      <td>Premios en efectivo, una candidata por Región:...</td>\n",
       "    </tr>\n",
       "    <tr>\n",
       "      <th>76</th>\n",
       "      <td>https://eltrabajo.cl/portal/fue-por-un-posible...</td>\n",
       "      <td>Fue por un posible cólico renal al hospital y ...</td>\n",
       "      <td>Una mujer temporera está empecinada en sacar a...</td>\n",
       "    </tr>\n",
       "    <tr>\n",
       "      <th>79</th>\n",
       "      <td>https://eltrabajo.cl/portal/por-falta-de-autor...</td>\n",
       "      <td>Por falta de autorización no se habría efectua...</td>\n",
       "      <td>Durante la semana pasada informábamos en Diari...</td>\n",
       "    </tr>\n",
       "    <tr>\n",
       "      <th>82</th>\n",
       "      <td>https://eltrabajo.cl/portal/carabineros-recupe...</td>\n",
       "      <td>Carabineros recuperó vehículo con encargo por ...</td>\n",
       "      <td>Personal de Carabineros de nuestra ciudad de S...</td>\n",
       "    </tr>\n",
       "    <tr>\n",
       "      <th>85</th>\n",
       "      <td>https://eltrabajo.cl/portal/mas-de-10-millones...</td>\n",
       "      <td>Más de $10 millones invierte la Tercera Cía. e...</td>\n",
       "      <td>Abril es su mes del 117º Aniversario:Muy pero ...</td>\n",
       "    </tr>\n",
       "    <tr>\n",
       "      <th>88</th>\n",
       "      <td>https://eltrabajo.cl/portal/actividades-para-t...</td>\n",
       "      <td>Actividades para toda edad tendrán las bibliot...</td>\n",
       "      <td>Conmemorando el Mes del Libro:El cuidado y la ...</td>\n",
       "    </tr>\n",
       "  </tbody>\n",
       "</table>\n",
       "</div>"
      ],
      "text/plain": [
       "                                                  url  \\\n",
       "0   https://eltrabajo.cl/portal/cerca-de-70-millon...   \n",
       "4   https://eltrabajo.cl/portal/compleja-situacion...   \n",
       "7   https://eltrabajo.cl/portal/con-heridas-graves...   \n",
       "10  https://eltrabajo.cl/portal/a-pulso-roban-caja...   \n",
       "13  https://eltrabajo.cl/portal/delegada-presidenc...   \n",
       "16  https://eltrabajo.cl/portal/alimentacion-salud...   \n",
       "19  https://eltrabajo.cl/portal/toda-una-semana-de...   \n",
       "22  https://eltrabajo.cl/portal/vecinos-de-michima...   \n",
       "25  https://eltrabajo.cl/portal/abren-campana-a-be...   \n",
       "28  https://eltrabajo.cl/portal/realizan-campana-p...   \n",
       "34  https://eltrabajo.cl/portal/compleja-situacion...   \n",
       "43  https://eltrabajo.cl/portal/delegada-presidenc...   \n",
       "49  https://eltrabajo.cl/portal/toda-una-semana-de...   \n",
       "55  https://eltrabajo.cl/portal/abren-campana-a-be...   \n",
       "61  https://eltrabajo.cl/portal/detienen-a-joven-s...   \n",
       "64  https://eltrabajo.cl/portal/indigentes-relatan...   \n",
       "67  https://eltrabajo.cl/portal/escolares-trabajan...   \n",
       "70  https://eltrabajo.cl/portal/liceo-cordillera-e...   \n",
       "73  https://eltrabajo.cl/portal/trans-tendran-hist...   \n",
       "76  https://eltrabajo.cl/portal/fue-por-un-posible...   \n",
       "79  https://eltrabajo.cl/portal/por-falta-de-autor...   \n",
       "82  https://eltrabajo.cl/portal/carabineros-recupe...   \n",
       "85  https://eltrabajo.cl/portal/mas-de-10-millones...   \n",
       "88  https://eltrabajo.cl/portal/actividades-para-t...   \n",
       "\n",
       "                                                title  \\\n",
       "0   Cerca de $70 millones robaron delincuentes de ...   \n",
       "4   Compleja situación vive grupo de extrabajadore...   \n",
       "7   Con heridas graves resulta mujer que fue apuña...   \n",
       "10  A pulso roban caja fuerte del Cementerio Parqu...   \n",
       "13  Delegada presidencial provincial Scarlett Vald...   \n",
       "16  Alimentación saludable y muchos juegos en el D...   \n",
       "19  Toda una semana de alegría vivieron escolares ...   \n",
       "22  Vecinos de Michimalonco protestan por incumpli...   \n",
       "25  Abren campaña a beneficio para que Florencia T...   \n",
       "28  Realizan campaña para ayudar a conocida comerc...   \n",
       "34  Compleja situación vive grupo de extrabajadore...   \n",
       "43  Delegada presidencial provincial Scarlett Vald...   \n",
       "49  Toda una semana de alegría vivieron escolares ...   \n",
       "55  Abren campaña a beneficio para que Florencia T...   \n",
       "61  Detienen a joven sorprendido portando cocaína ...   \n",
       "64  Indigentes relatan sus historias de vida en la...   \n",
       "67  Escolares trabajan en su propio Taller de Peri...   \n",
       "70  Liceo Cordillera en celebración del ‘Día Mundi...   \n",
       "73  Trans tendrán histórico primer Miss Féminas a ...   \n",
       "76  Fue por un posible cólico renal al hospital y ...   \n",
       "79  Por falta de autorización no se habría efectua...   \n",
       "82  Carabineros recuperó vehículo con encargo por ...   \n",
       "85  Más de $10 millones invierte la Tercera Cía. e...   \n",
       "88  Actividades para toda edad tendrán las bibliot...   \n",
       "\n",
       "                                              content  \n",
       "0   Un violento robo sufrió la sucursal de Kovacs ...  \n",
       "4   Una situación bastante compleja y hasta incomp...  \n",
       "7   Una mujer de 47 años de edad resultó con una h...  \n",
       "10  Tardaron menos de 10 minutos:Una banda integra...  \n",
       "13  Nos explica por qué el Presidente Boric la ins...  \n",
       "16  Peques de la Escuela San Rafael, profes y apod...  \n",
       "19  Peques recorrieron patios, calles y cerros de ...  \n",
       "22  Encendieron barricadas:Durante la noche del pa...  \n",
       "25  Se necesitan premios, dinero y mucho apoyo par...  \n",
       "28  Hospitalizada en Vallenar:Una campaña destinad...  \n",
       "34  Una situación bastante compleja y hasta incomp...  \n",
       "43  Nos explica por qué el Presidente Boric la ins...  \n",
       "49  Peques recorrieron patios, calles y cerros de ...  \n",
       "55  Se necesitan premios, dinero y mucho apoyo par...  \n",
       "61  Personal de la SIP de Carabineros:Carabineros ...  \n",
       "64  Adicciones, alcoholismo y soledad que viven en...  \n",
       "67  Estarán visitando radios y nuestra Sala de Red...  \n",
       "70  Ayer se celebró a nivel planetario el ‘Día Mun...  \n",
       "73  Premios en efectivo, una candidata por Región:...  \n",
       "76  Una mujer temporera está empecinada en sacar a...  \n",
       "79  Durante la semana pasada informábamos en Diari...  \n",
       "82  Personal de Carabineros de nuestra ciudad de S...  \n",
       "85  Abril es su mes del 117º Aniversario:Muy pero ...  \n",
       "88  Conmemorando el Mes del Libro:El cuidado y la ...  "
      ]
     },
     "execution_count": 16,
     "metadata": {},
     "output_type": "execute_result"
    }
   ],
   "source": [
    "df"
   ]
  },
  {
   "cell_type": "code",
   "execution_count": null,
   "id": "2e565eca",
   "metadata": {},
   "outputs": [],
   "source": []
  }
 ],
 "metadata": {
  "kernelspec": {
   "display_name": "Python 3 (ipykernel)",
   "language": "python",
   "name": "python3"
  },
  "language_info": {
   "codemirror_mode": {
    "name": "ipython",
    "version": 3
   },
   "file_extension": ".py",
   "mimetype": "text/x-python",
   "name": "python",
   "nbconvert_exporter": "python",
   "pygments_lexer": "ipython3",
   "version": "3.8.10"
  }
 },
 "nbformat": 4,
 "nbformat_minor": 5
}
