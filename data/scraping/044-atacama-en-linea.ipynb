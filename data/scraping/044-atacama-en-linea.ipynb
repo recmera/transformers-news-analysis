{
 "cells": [
  {
   "cell_type": "code",
   "execution_count": 1,
   "id": "e42c42ef",
   "metadata": {},
   "outputs": [],
   "source": [
    "import json\n",
    "import w3lib.html\n",
    "import random\n",
    "import os\n",
    "from datetime import datetime\n",
    "import requests\n",
    "import string\n",
    "import calendar\n",
    "import html\n",
    "import locale \n",
    "from requests_html import HTMLSession\n",
    "from requests_html import HTML\n",
    "import validators\n",
    "import pandas as pd\n",
    "from tqdm.notebook import tqdm\n",
    "\n",
    "import warnings\n",
    "warnings.filterwarnings('ignore')"
   ]
  },
  {
   "cell_type": "code",
   "execution_count": 2,
   "id": "79bb0b1d",
   "metadata": {},
   "outputs": [],
   "source": [
    "URL_SEED = 'http://www.atacamaenlinea.cl/page/1/'\n",
    "XPATH_HREF = \"//h4/a/@href\""
   ]
  },
  {
   "cell_type": "code",
   "execution_count": 3,
   "id": "c8a6236e",
   "metadata": {},
   "outputs": [],
   "source": [
    "class Crawler():\n",
    "    \n",
    "    USER_AGENT_LIST = [\n",
    "        \"Mozilla/5.0 (Windows NT 6.1; WOW64) AppleWebKit/537.1 (KHTML, like Gecko) Chrome/22.0.1207.1 Safari/537.1\",\n",
    "        \"Mozilla/5.0 (X11; CrOS i686 2268.111.0) AppleWebKit/536.11 (KHTML, like Gecko) Chrome/20.0.1132.57 Safari/536.11\",\n",
    "        \"Mozilla/5.0 (Windows NT 6.1; WOW64) AppleWebKit/536.6 (KHTML, like Gecko) Chrome/20.0.1092.0 Safari/536.6\",\n",
    "        \"Mozilla/5.0 (Windows NT 6.2) AppleWebKit/536.6 (KHTML, like Gecko) Chrome/20.0.1090.0 Safari/536.6\",\n",
    "        \"Mozilla/5.0 (Windows NT 6.2; WOW64) AppleWebKit/537.1 (KHTML, like Gecko) Chrome/19.77.34.5 Safari/537.1\",\n",
    "        \"Mozilla/5.0 (X11; Linux x86_64) AppleWebKit/536.5 (KHTML, like Gecko) Chrome/19.0.1084.9 Safari/536.5\",\n",
    "        \"Mozilla/5.0 (Windows NT 6.0) AppleWebKit/536.5 (KHTML, like Gecko) Chrome/19.0.1084.36 Safari/536.5\",\n",
    "        \"Mozilla/5.0 (Windows NT 6.1; WOW64) AppleWebKit/536.3 (KHTML, like Gecko) Chrome/19.0.1063.0 Safari/536.3\",\n",
    "        \"Mozilla/5.0 (Windows NT 5.1) AppleWebKit/536.3 (KHTML, like Gecko) Chrome/19.0.1063.0 Safari/536.3\",\n",
    "        \"Mozilla/5.0 (Macintosh; Intel Mac OS X 10_8_0) AppleWebKit/536.3 (KHTML, like Gecko) Chrome/19.0.1063.0 Safari/536.3\",\n",
    "        \"Mozilla/5.0 (Windows NT 6.2) AppleWebKit/536.3 (KHTML, like Gecko) Chrome/19.0.1062.0 Safari/536.3\",\n",
    "        \"Mozilla/5.0 (Windows NT 6.1; WOW64) AppleWebKit/536.3 (KHTML, like Gecko) Chrome/19.0.1062.0 Safari/536.3\",\n",
    "        \"Mozilla/5.0 (Windows NT 6.2) AppleWebKit/536.3 (KHTML, like Gecko) Chrome/19.0.1061.1 Safari/536.3\",\n",
    "        \"Mozilla/5.0 (Windows NT 6.1; WOW64) AppleWebKit/536.3 (KHTML, like Gecko) Chrome/19.0.1061.1 Safari/536.3\",\n",
    "        \"Mozilla/5.0 (Windows NT 6.1) AppleWebKit/536.3 (KHTML, like Gecko) Chrome/19.0.1061.1 Safari/536.3\",\n",
    "        \"Mozilla/5.0 (Windows NT 6.2) AppleWebKit/536.3 (KHTML, like Gecko) Chrome/19.0.1061.0 Safari/536.3\",\n",
    "        \"Mozilla/5.0 (X11; Linux x86_64) AppleWebKit/535.24 (KHTML, like Gecko) Chrome/19.0.1055.1 Safari/535.24\",\n",
    "        \"Mozilla/5.0 (Windows NT 6.2; WOW64) AppleWebKit/535.24 (KHTML, like Gecko) Chrome/19.0.1055.1 Safari/535.24\"\n",
    "    ]\n",
    "\n",
    "    #Ruta XPATH hacia los enlaces que queremos recopilar\n",
    "    xpath_href=XPATH_HREF\n",
    "\n",
    "    #variable que permite listar todos los enlaces recopilado\n",
    "    url_list = []\n",
    "    \n",
    "    def _init_(self, URL_SEED, XPATH_HREF):        \n",
    "        pass\n",
    "\n",
    "    \n",
    "    def get(self,url):\n",
    "        session = HTMLSession()\n",
    "        header = dict()\n",
    "        header['user-agent'] = random.choice(self.USER_AGENT_LIST)\n",
    "        response = session.get(url,headers=header)        \n",
    "        return response\n",
    "    \n",
    "    def parse(self, response):\n",
    "        self.url_list = []\n",
    "        urls = response.html.xpath(self.xpath_href)\n",
    "        for url in urls:\n",
    "            self.url_list.append(url)\n"
   ]
  },
  {
   "cell_type": "code",
   "execution_count": 4,
   "id": "e016daec",
   "metadata": {
    "scrolled": true
   },
   "outputs": [
    {
     "data": {
      "application/vnd.jupyter.widget-view+json": {
       "model_id": "971e05ca104547ad9b7c41ca4900ccd7",
       "version_major": 2,
       "version_minor": 0
      },
      "text/plain": [
       "  0%|          | 0/3 [00:00<?, ?it/s]"
      ]
     },
     "metadata": {},
     "output_type": "display_data"
    },
    {
     "data": {
      "text/plain": [
       "['http://www.atacamaenlinea.cl/dia-de-la-aceptacion-del-autismo-como-avanzamos-hacia-la-plena-participacion-social-de-personas-con-autismo/nacional/',\n",
       " 'http://www.atacamaenlinea.cl/oficina-copiapo-del-registro-civil-atendera-este-sabado-2-de-abril/copiapo/',\n",
       " 'http://www.atacamaenlinea.cl/carabineros-detecta-nuevo-traslado-de-inmigrantes-ilegales-en-bus-interubano/copiapo/',\n",
       " 'http://www.atacamaenlinea.cl/codelco-salvador-lanza-programa-de-bienvenida-e-integracion-para-nuevos-trabajadores-y-trabajadoras/diego-de-almagro/',\n",
       " 'http://www.atacamaenlinea.cl/estadio-techado-orlando-guaita-reabre-sus-puertas-con-moderna-nueva-infraestructura/copiapo/',\n",
       " 'http://www.atacamaenlinea.cl/dia-de-la-aceptacion-del-autismo-como-avanzamos-hacia-la-plena-participacion-social-de-personas-con-autismo/nacional/',\n",
       " 'http://www.atacamaenlinea.cl/que-significa-coda/nacional/',\n",
       " 'http://www.atacamaenlinea.cl/asamblea-en-el-valle-norte-completa-inicio-del-trabajo-pastoral-de-la-diocesis-de-copiapo/nacional/',\n",
       " 'http://www.atacamaenlinea.cl/ministerio-de-las-culturas-lanza-convocatoria-para-la-24-version-del-concurso-de-ensayos-haz-tu-tesis-en-cultura-2022/nacional/',\n",
       " 'http://www.atacamaenlinea.cl/leyendas-y-mitos-de-atacama-ya-estan-disponibles-en-todo-el-mundo-a-traves-de-youtube-y-spotify/cultura/',\n",
       " 'http://www.atacamaenlinea.cl/dia-de-la-aceptacion-del-autismo-como-avanzamos-hacia-la-plena-participacion-social-de-personas-con-autismo/nacional/',\n",
       " 'http://www.atacamaenlinea.cl/oficina-copiapo-del-registro-civil-atendera-este-sabado-2-de-abril/copiapo/',\n",
       " 'http://www.atacamaenlinea.cl/carabineros-detecta-nuevo-traslado-de-inmigrantes-ilegales-en-bus-interubano/copiapo/',\n",
       " 'http://www.atacamaenlinea.cl/codelco-salvador-lanza-programa-de-bienvenida-e-integracion-para-nuevos-trabajadores-y-trabajadoras/diego-de-almagro/',\n",
       " 'http://www.atacamaenlinea.cl/estadio-techado-orlando-guaita-reabre-sus-puertas-con-moderna-nueva-infraestructura/copiapo/',\n",
       " 'http://www.atacamaenlinea.cl/con-mas-de-70-expositores-vuelve-en-formato-presencial-la-tradicional-feria-nacional-de-artesania-de-bahia-inglesa/caldera/',\n",
       " 'http://www.atacamaenlinea.cl/que-significa-coda/nacional/',\n",
       " 'http://www.atacamaenlinea.cl/seremis-de-salud-y-educacion-de-atacama-dan-inicio-a-estrategia-de-testeo-por-covid-19-en-establecimientos-educacionales/politica/',\n",
       " 'http://www.atacamaenlinea.cl/gobierno-anuncia-seremis-para-la-region-de-atacama/atacama/',\n",
       " 'http://www.atacamaenlinea.cl/asamblea-en-el-valle-norte-completa-inicio-del-trabajo-pastoral-de-la-diocesis-de-copiapo/nacional/',\n",
       " 'http://www.atacamaenlinea.cl/el-consejo-regional-de-atacama-vota-a-nuevos-integrantes-en-comisiones-de-trabajo/politica/',\n",
       " 'http://www.atacamaenlinea.cl/ministerio-de-las-culturas-lanza-convocatoria-para-la-24-version-del-concurso-de-ensayos-haz-tu-tesis-en-cultura-2022/nacional/',\n",
       " 'http://www.atacamaenlinea.cl/dia-de-la-aceptacion-del-autismo-como-avanzamos-hacia-la-plena-participacion-social-de-personas-con-autismo/nacional/',\n",
       " 'http://www.atacamaenlinea.cl/oficina-copiapo-del-registro-civil-atendera-este-sabado-2-de-abril/copiapo/',\n",
       " 'http://www.atacamaenlinea.cl/carabineros-detecta-nuevo-traslado-de-inmigrantes-ilegales-en-bus-interubano/copiapo/',\n",
       " 'http://www.atacamaenlinea.cl/codelco-salvador-lanza-programa-de-bienvenida-e-integracion-para-nuevos-trabajadores-y-trabajadoras/diego-de-almagro/',\n",
       " 'http://www.atacamaenlinea.cl/dia-de-la-aceptacion-del-autismo-como-avanzamos-hacia-la-plena-participacion-social-de-personas-con-autismo/nacional/',\n",
       " 'http://www.atacamaenlinea.cl/oficina-copiapo-del-registro-civil-atendera-este-sabado-2-de-abril/copiapo/',\n",
       " 'http://www.atacamaenlinea.cl/carabineros-detecta-nuevo-traslado-de-inmigrantes-ilegales-en-bus-interubano/copiapo/',\n",
       " 'http://www.atacamaenlinea.cl/codelco-salvador-lanza-programa-de-bienvenida-e-integracion-para-nuevos-trabajadores-y-trabajadoras/diego-de-almagro/',\n",
       " 'http://www.atacamaenlinea.cl/estadio-techado-orlando-guaita-reabre-sus-puertas-con-moderna-nueva-infraestructura/copiapo/',\n",
       " 'http://www.atacamaenlinea.cl/dia-de-la-aceptacion-del-autismo-como-avanzamos-hacia-la-plena-participacion-social-de-personas-con-autismo/nacional/',\n",
       " 'http://www.atacamaenlinea.cl/que-significa-coda/nacional/',\n",
       " 'http://www.atacamaenlinea.cl/asamblea-en-el-valle-norte-completa-inicio-del-trabajo-pastoral-de-la-diocesis-de-copiapo/nacional/',\n",
       " 'http://www.atacamaenlinea.cl/ministerio-de-las-culturas-lanza-convocatoria-para-la-24-version-del-concurso-de-ensayos-haz-tu-tesis-en-cultura-2022/nacional/',\n",
       " 'http://www.atacamaenlinea.cl/leyendas-y-mitos-de-atacama-ya-estan-disponibles-en-todo-el-mundo-a-traves-de-youtube-y-spotify/cultura/',\n",
       " 'http://www.atacamaenlinea.cl/dia-de-la-aceptacion-del-autismo-como-avanzamos-hacia-la-plena-participacion-social-de-personas-con-autismo/nacional/',\n",
       " 'http://www.atacamaenlinea.cl/oficina-copiapo-del-registro-civil-atendera-este-sabado-2-de-abril/copiapo/',\n",
       " 'http://www.atacamaenlinea.cl/carabineros-detecta-nuevo-traslado-de-inmigrantes-ilegales-en-bus-interubano/copiapo/',\n",
       " 'http://www.atacamaenlinea.cl/codelco-salvador-lanza-programa-de-bienvenida-e-integracion-para-nuevos-trabajadores-y-trabajadoras/diego-de-almagro/',\n",
       " 'http://www.atacamaenlinea.cl/estadio-techado-orlando-guaita-reabre-sus-puertas-con-moderna-nueva-infraestructura/copiapo/',\n",
       " 'http://www.atacamaenlinea.cl/con-mas-de-70-expositores-vuelve-en-formato-presencial-la-tradicional-feria-nacional-de-artesania-de-bahia-inglesa/caldera/',\n",
       " 'http://www.atacamaenlinea.cl/que-significa-coda/nacional/',\n",
       " 'http://www.atacamaenlinea.cl/seremis-de-salud-y-educacion-de-atacama-dan-inicio-a-estrategia-de-testeo-por-covid-19-en-establecimientos-educacionales/politica/',\n",
       " 'http://www.atacamaenlinea.cl/gobierno-anuncia-seremis-para-la-region-de-atacama/atacama/',\n",
       " 'http://www.atacamaenlinea.cl/asamblea-en-el-valle-norte-completa-inicio-del-trabajo-pastoral-de-la-diocesis-de-copiapo/nacional/',\n",
       " 'http://www.atacamaenlinea.cl/el-consejo-regional-de-atacama-vota-a-nuevos-integrantes-en-comisiones-de-trabajo/politica/',\n",
       " 'http://www.atacamaenlinea.cl/ministerio-de-las-culturas-lanza-convocatoria-para-la-24-version-del-concurso-de-ensayos-haz-tu-tesis-en-cultura-2022/nacional/',\n",
       " 'http://www.atacamaenlinea.cl/dia-de-la-aceptacion-del-autismo-como-avanzamos-hacia-la-plena-participacion-social-de-personas-con-autismo/nacional/',\n",
       " 'http://www.atacamaenlinea.cl/oficina-copiapo-del-registro-civil-atendera-este-sabado-2-de-abril/copiapo/',\n",
       " 'http://www.atacamaenlinea.cl/carabineros-detecta-nuevo-traslado-de-inmigrantes-ilegales-en-bus-interubano/copiapo/',\n",
       " 'http://www.atacamaenlinea.cl/codelco-salvador-lanza-programa-de-bienvenida-e-integracion-para-nuevos-trabajadores-y-trabajadoras/diego-de-almagro/',\n",
       " 'http://www.atacamaenlinea.cl/dia-de-la-aceptacion-del-autismo-como-avanzamos-hacia-la-plena-participacion-social-de-personas-con-autismo/nacional/',\n",
       " 'http://www.atacamaenlinea.cl/oficina-copiapo-del-registro-civil-atendera-este-sabado-2-de-abril/copiapo/',\n",
       " 'http://www.atacamaenlinea.cl/carabineros-detecta-nuevo-traslado-de-inmigrantes-ilegales-en-bus-interubano/copiapo/',\n",
       " 'http://www.atacamaenlinea.cl/codelco-salvador-lanza-programa-de-bienvenida-e-integracion-para-nuevos-trabajadores-y-trabajadoras/diego-de-almagro/',\n",
       " 'http://www.atacamaenlinea.cl/estadio-techado-orlando-guaita-reabre-sus-puertas-con-moderna-nueva-infraestructura/copiapo/',\n",
       " 'http://www.atacamaenlinea.cl/dia-de-la-aceptacion-del-autismo-como-avanzamos-hacia-la-plena-participacion-social-de-personas-con-autismo/nacional/',\n",
       " 'http://www.atacamaenlinea.cl/que-significa-coda/nacional/',\n",
       " 'http://www.atacamaenlinea.cl/asamblea-en-el-valle-norte-completa-inicio-del-trabajo-pastoral-de-la-diocesis-de-copiapo/nacional/',\n",
       " 'http://www.atacamaenlinea.cl/ministerio-de-las-culturas-lanza-convocatoria-para-la-24-version-del-concurso-de-ensayos-haz-tu-tesis-en-cultura-2022/nacional/',\n",
       " 'http://www.atacamaenlinea.cl/leyendas-y-mitos-de-atacama-ya-estan-disponibles-en-todo-el-mundo-a-traves-de-youtube-y-spotify/cultura/',\n",
       " 'http://www.atacamaenlinea.cl/oficina-municipal-de-la-mujer-realiza-registro-de-emprendedoras-de-copiapo/copiapo/',\n",
       " 'http://www.atacamaenlinea.cl/leyendas-y-mitos-de-atacama-ya-estan-disponibles-en-todo-el-mundo-a-traves-de-youtube-y-spotify/cultura/',\n",
       " 'http://www.atacamaenlinea.cl/nueva-atacama-celebro-el-dia-mundial-del-agua-con-importantes-anuncios-para-la-region/copiapo/',\n",
       " 'http://www.atacamaenlinea.cl/19629-2/mineria/',\n",
       " 'http://www.atacamaenlinea.cl/voces-del-checo-celebran-sus-50-anos-en-la-sala-de-camara-municipal/copiapo/',\n",
       " 'http://www.atacamaenlinea.cl/minera-candelaria-100-de-agua-de-mar-desalinizada-para-su-proceso-productivo/caldera/',\n",
       " 'http://www.atacamaenlinea.cl/en-formato-presencial-vuelve-la-feria-nacional-de-artesania-de-bahia-inglesa/cultura/',\n",
       " 'http://www.atacamaenlinea.cl/el-papa-promulga-la-constitucion-apostolica-praedicate-evangelium-sobre-la-curia-romana/miscelaneo/',\n",
       " 'http://www.atacamaenlinea.cl/monasterio-inmaculada-de-atacama-tiene-nueva-priora/columnas/',\n",
       " 'http://www.atacamaenlinea.cl/descubre-como-elegir-el-mejor-anticonceptivo-segun-tus-necesidades/politica/',\n",
       " 'http://www.atacamaenlinea.cl/chile-inclusivo/nacional/',\n",
       " 'http://www.atacamaenlinea.cl/nueva-excavadora-320-gx-de-cat-consume-15-menos-de-combustible/nacional/',\n",
       " 'http://www.atacamaenlinea.cl/dia-de-la-aceptacion-del-autismo-como-avanzamos-hacia-la-plena-participacion-social-de-personas-con-autismo/nacional/',\n",
       " 'http://www.atacamaenlinea.cl/oficina-copiapo-del-registro-civil-atendera-este-sabado-2-de-abril/copiapo/',\n",
       " 'http://www.atacamaenlinea.cl/carabineros-detecta-nuevo-traslado-de-inmigrantes-ilegales-en-bus-interubano/copiapo/',\n",
       " 'http://www.atacamaenlinea.cl/codelco-salvador-lanza-programa-de-bienvenida-e-integracion-para-nuevos-trabajadores-y-trabajadoras/diego-de-almagro/']"
      ]
     },
     "execution_count": 4,
     "metadata": {},
     "output_type": "execute_result"
    }
   ],
   "source": [
    "urls=[]\n",
    "\n",
    "for page in tqdm(range(3)): # revisemos sólo 2 páginas\n",
    "    crawler = Crawler()\n",
    "    response = crawler.get('http://www.atacamaenlinea.cl/page/'+str(page))\n",
    "    crawler.parse(response)\n",
    "\n",
    "    \n",
    "    for url in crawler.url_list:\n",
    "        urls.append(url)\n",
    "\n",
    "    crawler.url_list = urls\n",
    "    \n",
    "crawler.url_list"
   ]
  },
  {
   "cell_type": "code",
   "execution_count": 5,
   "id": "e6099483",
   "metadata": {},
   "outputs": [
    {
     "data": {
      "text/plain": [
       "78"
      ]
     },
     "execution_count": 5,
     "metadata": {},
     "output_type": "execute_result"
    }
   ],
   "source": [
    "len(urls)"
   ]
  },
  {
   "cell_type": "code",
   "execution_count": 6,
   "id": "928cdb23",
   "metadata": {},
   "outputs": [
    {
     "data": {
      "text/plain": [
       "'https://www.latercera.com/el-deportivo/noticia/universidad-de-chile-vs-union-espanola-en-vivo-campeonato-nacional-cuando-juega-la-u-el-partido-pendiente-donde-juega-la-u-donde-ver-a-la-u-que-canal-transmite-a-u/Y4B7HIEOV5F5BPW2A6XNLNW3D4/'"
      ]
     },
     "execution_count": 6,
     "metadata": {},
     "output_type": "execute_result"
    }
   ],
   "source": [
    "urls[0]"
   ]
  },
  {
   "cell_type": "code",
   "execution_count": null,
   "id": "f8c2d5b1",
   "metadata": {},
   "outputs": [],
   "source": []
  },
  {
   "cell_type": "code",
   "execution_count": 6,
   "id": "d446e5df",
   "metadata": {},
   "outputs": [],
   "source": [
    "URL_NEWS = urls[0]\n",
    "XPATH_TITLE = \"//h1\"\n",
    "XPATH_CONTENT =\"//article[@class='small single p-3']//p\""
   ]
  },
  {
   "cell_type": "code",
   "execution_count": 7,
   "id": "fcc5edaf",
   "metadata": {},
   "outputs": [],
   "source": [
    "class Scraper:\n",
    "    \n",
    "    USER_AGENT_LIST = [\n",
    "        \"Mozilla/5.0 (Windows NT 6.1; WOW64) AppleWebKit/537.1 (KHTML, like Gecko) Chrome/22.0.1207.1 Safari/537.1\",\n",
    "        \"Mozilla/5.0 (X11; CrOS i686 2268.111.0) AppleWebKit/536.11 (KHTML, like Gecko) Chrome/20.0.1132.57 Safari/536.11\",\n",
    "        \"Mozilla/5.0 (Windows NT 6.1; WOW64) AppleWebKit/536.6 (KHTML, like Gecko) Chrome/20.0.1092.0 Safari/536.6\",\n",
    "        \"Mozilla/5.0 (Windows NT 6.2) AppleWebKit/536.6 (KHTML, like Gecko) Chrome/20.0.1090.0 Safari/536.6\",\n",
    "        \"Mozilla/5.0 (Windows NT 6.2; WOW64) AppleWebKit/537.1 (KHTML, like Gecko) Chrome/19.77.34.5 Safari/537.1\",\n",
    "        \"Mozilla/5.0 (X11; Linux x86_64) AppleWebKit/536.5 (KHTML, like Gecko) Chrome/19.0.1084.9 Safari/536.5\",\n",
    "        \"Mozilla/5.0 (Windows NT 6.0) AppleWebKit/536.5 (KHTML, like Gecko) Chrome/19.0.1084.36 Safari/536.5\",\n",
    "        \"Mozilla/5.0 (Windows NT 6.1; WOW64) AppleWebKit/536.3 (KHTML, like Gecko) Chrome/19.0.1063.0 Safari/536.3\",\n",
    "        \"Mozilla/5.0 (Windows NT 5.1) AppleWebKit/536.3 (KHTML, like Gecko) Chrome/19.0.1063.0 Safari/536.3\",\n",
    "        \"Mozilla/5.0 (Macintosh; Intel Mac OS X 10_8_0) AppleWebKit/536.3 (KHTML, like Gecko) Chrome/19.0.1063.0 Safari/536.3\",\n",
    "        \"Mozilla/5.0 (Windows NT 6.2) AppleWebKit/536.3 (KHTML, like Gecko) Chrome/19.0.1062.0 Safari/536.3\",\n",
    "        \"Mozilla/5.0 (Windows NT 6.1; WOW64) AppleWebKit/536.3 (KHTML, like Gecko) Chrome/19.0.1062.0 Safari/536.3\",\n",
    "        \"Mozilla/5.0 (Windows NT 6.2) AppleWebKit/536.3 (KHTML, like Gecko) Chrome/19.0.1061.1 Safari/536.3\",\n",
    "        \"Mozilla/5.0 (Windows NT 6.1; WOW64) AppleWebKit/536.3 (KHTML, like Gecko) Chrome/19.0.1061.1 Safari/536.3\",\n",
    "        \"Mozilla/5.0 (Windows NT 6.1) AppleWebKit/536.3 (KHTML, like Gecko) Chrome/19.0.1061.1 Safari/536.3\",\n",
    "        \"Mozilla/5.0 (Windows NT 6.2) AppleWebKit/536.3 (KHTML, like Gecko) Chrome/19.0.1061.0 Safari/536.3\",\n",
    "        \"Mozilla/5.0 (X11; Linux x86_64) AppleWebKit/535.24 (KHTML, like Gecko) Chrome/19.0.1055.1 Safari/535.24\",\n",
    "        \"Mozilla/5.0 (Windows NT 6.2; WOW64) AppleWebKit/535.24 (KHTML, like Gecko) Chrome/19.0.1055.1 Safari/535.24\"\n",
    "    ]\n",
    "\n",
    "    query_extract_title = XPATH_TITLE\n",
    "    query_extract_text =  XPATH_CONTENT\n",
    "\n",
    "    def _init_(self):\n",
    "        pass\n",
    "   \n",
    "    def get(self,url):\n",
    "        headers = {'user-agent':random.choice(self.USER_AGENT_LIST) }\n",
    "        session = HTMLSession()\n",
    "        response = session.get(url,headers=headers) \n",
    "        return response\n",
    "    \n",
    "    def clean_text(self, html_text):\n",
    "        text_without_tags = w3lib.html.remove_tags(html_text)\n",
    "        text_without_escape_chars = w3lib.html.replace_escape_chars(text_without_tags)\n",
    "        text_without_escape_chars = html.unescape(text_without_escape_chars)\n",
    "        text_without_whitespace = text_without_escape_chars.strip()\n",
    "        return text_without_whitespace\n",
    "\n",
    "    \n",
    "    #### main function ####\n",
    "    def parse(self, response):\n",
    "        \n",
    "        #URL\n",
    "        self.news_url = response.url\n",
    "        \n",
    "        #TITLE\n",
    "        self.news_title = response.html.xpath(self.query_extract_title)[0].text\n",
    "        self.news_title = self.clean_text(self.news_title)\n",
    "       \n",
    "        \n",
    "        #CONTENT\n",
    "        self.news_text = \"\"\n",
    "        \n",
    "        html_paragraphs = response.html.xpath(self.query_extract_text)\n",
    "        \n",
    "        for paragraph in html_paragraphs:\n",
    "            paragraph_content = w3lib.html.remove_tags(paragraph.text)    \n",
    "            text_cleaned = self.clean_text(paragraph_content)\n",
    "            self.news_text = self.news_text+text_cleaned\n"
   ]
  },
  {
   "cell_type": "code",
   "execution_count": 8,
   "id": "d9482704",
   "metadata": {},
   "outputs": [],
   "source": [
    "scraper = Scraper()\n",
    "response =scraper.get(URL_NEWS)"
   ]
  },
  {
   "cell_type": "code",
   "execution_count": 9,
   "id": "d72bc32e",
   "metadata": {},
   "outputs": [],
   "source": [
    "scraper.parse(response)"
   ]
  },
  {
   "cell_type": "code",
   "execution_count": 10,
   "id": "a2e4d401",
   "metadata": {},
   "outputs": [
    {
     "data": {
      "text/plain": [
       "'ATACAMA EN LINEA'"
      ]
     },
     "execution_count": 10,
     "metadata": {},
     "output_type": "execute_result"
    }
   ],
   "source": [
    "scraper.news_title"
   ]
  },
  {
   "cell_type": "code",
   "execution_count": 11,
   "id": "162264db",
   "metadata": {},
   "outputs": [
    {
     "data": {
      "text/plain": [
       "'Avanzar en conciencia, disminuir las barreras del entorno, impulsar múltiples formas de comunicación y trabajar para lograr la plena integración comunitaria y social son algunos de los ejes en los que se debe avanzar para favorecer una plena expresión de derechos de las personas que se encuentran dentro del Espectro Autista.Según cifras entregadas por la Organización Mundial de la Salud, 1 de cada 160 niños poseen un diagnóstico de Trastorno del Espectro Autista (TEA), condición del Neurodesarrollo que se caracteriza por un desarrollo neurobiológico diverso que se expresa en diferencias comunicativas, sociales, sensorio-motoras y conductuales.Es común que durante los primeros años de la infancia se comiencen a presentar los primeros indicadores y es fundamental avanzar en identificación temprana. “Estas características suelen estar relacionados con evitar el contacto visual, no responder cuando los llaman por su nombre o no atender a las personas responsables del cuidado”, explica Marcela Tenorio, académica\\xa0de\\xa0la Escuela\\xa0de\\xa0Psicología\\xa0de\\xa0la Universidad\\xa0de\\xa0los Andes y directora alterna\\xa0de\\xa0MICARE.No todas las personas dentro del espectro autista (EA) son iguales, por eso hablamos de espectro. Hay una enorme varianza, cada persona sigue una trayectoria propia donde van cambiando los apoyos necesarios. “Las características ligadas al TEA son variadas y debe haber un trabajo interdiciplinario para llegar a comprender los apoyos necesarios en cada momento”, agrega Marcela Tenorio.La comunicación de las personas dentro del \\xa0EA varía mucho. “Algunas personas dentro del espectro poseen un lenguaje oral muy desarrollado y otras presentan grandes dificultades para expresarse de manera oral y por tanto utilizan otros modos comunicativos que son más cómodos para ellos como comunicadores, señas, incluso expresiones artísticas”, comenta Verónica Vidal, académica de la Escuela de Fonoaudiología y del Departamento de Epidemiología y Estudios en Salud UANDES.Actualmente, Verónica Vidal trabaja, junto a otros especialistas en una investigación que busca caracterizar mejor las habilidades comunicativas de esta población. Esta investigación es una de nuestras aristas de trabajo, comenta la académica. La otra apunta al desarrollo de programas de acompañamiento que permitan\\xa0 facilitar la interacción con sus pares”, explica Verónica.Según comenta Verónica Vidal, uno de los temas de alta relevancia y que ha sido parcialmente abordado es la consideración del ambiente como un factor esencial de inclusión. En este sentido, es importante que los procesos de identificación estén alineados al estándar internacional y que los programas de acompañamiento sean respetuosos de la identidad individual y de los derechos y estén basados en evidencia científica.Para algunas personas con autismo, el trabajo en integración sensorial puede ser relevante. “A través de la integración sensorial, trabajamos la capacidad que tiene el cerebro de recibir la información de las sensaciones de nuestro cuerpo y entorno, generando una respuesta ante estos estímulos, participando en las diferentes actividades de la vida diaria y aportado una respuesta eficiente, creativa, autónoma y satisfactoria”, explica Claudia Prieto, académica de la Escuela de Terapia Ocupacional UANDES.“Las personas que poseen esta condición de TEA, forman parte igualmente que nosotros de nuestra comunidad, por lo que es un desafío poder facilitar su participación en las distintas actividades en las que se vean involucrados, de esa forma hacemos y promovemos su autonomía y el “ser parte de.”, concluye Claudia Prieto.'"
      ]
     },
     "execution_count": 11,
     "metadata": {},
     "output_type": "execute_result"
    }
   ],
   "source": [
    "scraper.news_text"
   ]
  },
  {
   "cell_type": "code",
   "execution_count": 12,
   "id": "a455d5d3",
   "metadata": {},
   "outputs": [],
   "source": [
    "#Verificamos que el scraper devuelve algo\n",
    "assert(len(scraper.news_title)>0)\n",
    "assert(len(scraper.news_text)>0)"
   ]
  },
  {
   "cell_type": "code",
   "execution_count": 14,
   "id": "524ce41b",
   "metadata": {},
   "outputs": [
    {
     "data": {
      "text/html": [
       "<div>\n",
       "<style scoped>\n",
       "    .dataframe tbody tr th:only-of-type {\n",
       "        vertical-align: middle;\n",
       "    }\n",
       "\n",
       "    .dataframe tbody tr th {\n",
       "        vertical-align: top;\n",
       "    }\n",
       "\n",
       "    .dataframe thead th {\n",
       "        text-align: right;\n",
       "    }\n",
       "</style>\n",
       "<table border=\"1\" class=\"dataframe\">\n",
       "  <thead>\n",
       "    <tr style=\"text-align: right;\">\n",
       "      <th></th>\n",
       "      <th>url</th>\n",
       "      <th>title</th>\n",
       "      <th>content</th>\n",
       "    </tr>\n",
       "  </thead>\n",
       "  <tbody>\n",
       "    <tr>\n",
       "      <th>0</th>\n",
       "      <td>http://www.atacamaenlinea.cl/dia-de-la-aceptac...</td>\n",
       "      <td>ATACAMA EN LINEA</td>\n",
       "      <td>Avanzar en conciencia, disminuir las barreras ...</td>\n",
       "    </tr>\n",
       "  </tbody>\n",
       "</table>\n",
       "</div>"
      ],
      "text/plain": [
       "                                                 url             title  \\\n",
       "0  http://www.atacamaenlinea.cl/dia-de-la-aceptac...  ATACAMA EN LINEA   \n",
       "\n",
       "                                             content  \n",
       "0  Avanzar en conciencia, disminuir las barreras ...  "
      ]
     },
     "execution_count": 14,
     "metadata": {},
     "output_type": "execute_result"
    }
   ],
   "source": [
    "df = pd.DataFrame(data={'url': [URL_NEWS],'title':[scraper.news_title], 'content':[scraper.news_text]})\n",
    "df"
   ]
  },
  {
   "cell_type": "code",
   "execution_count": 15,
   "id": "267a48c8",
   "metadata": {},
   "outputs": [
    {
     "data": {
      "application/vnd.jupyter.widget-view+json": {
       "model_id": "0603e7b6522b4e3a89515d6c4264d443",
       "version_major": 2,
       "version_minor": 0
      },
      "text/plain": [
       "  0%|          | 0/78 [00:00<?, ?it/s]"
      ]
     },
     "metadata": {},
     "output_type": "display_data"
    }
   ],
   "source": [
    "XPATH_TITLE = \"//h1\"\n",
    "XPATH_CONTENT =\"//article[@class='small single p-3']//p\"\n",
    "\n",
    "for url in tqdm(urls):\n",
    "    URL_NEWS = url\n",
    "    scraper = Scraper()\n",
    "    response =scraper.get(URL_NEWS)\n",
    "    scraper.parse(response)\n",
    "    df1 = pd.DataFrame(data={'url': url, 'title':scraper.news_title, 'content':scraper.news_text},index=['url', 'title', 'content'])\n",
    "    df = df.append(df1, ignore_index=True)\n",
    "df = df.drop_duplicates()\n"
   ]
  },
  {
   "cell_type": "code",
   "execution_count": 16,
   "id": "e9c55424",
   "metadata": {},
   "outputs": [
    {
     "data": {
      "text/html": [
       "<div>\n",
       "<style scoped>\n",
       "    .dataframe tbody tr th:only-of-type {\n",
       "        vertical-align: middle;\n",
       "    }\n",
       "\n",
       "    .dataframe tbody tr th {\n",
       "        vertical-align: top;\n",
       "    }\n",
       "\n",
       "    .dataframe thead th {\n",
       "        text-align: right;\n",
       "    }\n",
       "</style>\n",
       "<table border=\"1\" class=\"dataframe\">\n",
       "  <thead>\n",
       "    <tr style=\"text-align: right;\">\n",
       "      <th></th>\n",
       "      <th>url</th>\n",
       "      <th>title</th>\n",
       "      <th>content</th>\n",
       "    </tr>\n",
       "  </thead>\n",
       "  <tbody>\n",
       "    <tr>\n",
       "      <th>0</th>\n",
       "      <td>http://www.atacamaenlinea.cl/dia-de-la-aceptac...</td>\n",
       "      <td>ATACAMA EN LINEA</td>\n",
       "      <td>Avanzar en conciencia, disminuir las barreras ...</td>\n",
       "    </tr>\n",
       "    <tr>\n",
       "      <th>4</th>\n",
       "      <td>http://www.atacamaenlinea.cl/oficina-copiapo-d...</td>\n",
       "      <td>ATACAMA EN LINEA</td>\n",
       "      <td>Este sábado 2 de abril la oficina Copiapó del ...</td>\n",
       "    </tr>\n",
       "    <tr>\n",
       "      <th>7</th>\n",
       "      <td>http://www.atacamaenlinea.cl/carabineros-detec...</td>\n",
       "      <td>ATACAMA EN LINEA</td>\n",
       "      <td>Personal de Carabineros de la Subcomisaria I.A...</td>\n",
       "    </tr>\n",
       "    <tr>\n",
       "      <th>10</th>\n",
       "      <td>http://www.atacamaenlinea.cl/codelco-salvador-...</td>\n",
       "      <td>ATACAMA EN LINEA</td>\n",
       "      <td>Un programa de bienvenida e integración para l...</td>\n",
       "    </tr>\n",
       "    <tr>\n",
       "      <th>13</th>\n",
       "      <td>http://www.atacamaenlinea.cl/estadio-techado-o...</td>\n",
       "      <td>ATACAMA EN LINEA</td>\n",
       "      <td>El alcalde de la comuna, Marcos López, destacó...</td>\n",
       "    </tr>\n",
       "    <tr>\n",
       "      <th>19</th>\n",
       "      <td>http://www.atacamaenlinea.cl/que-significa-cod...</td>\n",
       "      <td>ATACAMA EN LINEA</td>\n",
       "      <td>Por Ximena Torres Cautivo, Comunicaciones Hoga...</td>\n",
       "    </tr>\n",
       "    <tr>\n",
       "      <th>22</th>\n",
       "      <td>http://www.atacamaenlinea.cl/asamblea-en-el-va...</td>\n",
       "      <td>ATACAMA EN LINEA</td>\n",
       "      <td>Chañaral fue el lugar de reunión para las comu...</td>\n",
       "    </tr>\n",
       "    <tr>\n",
       "      <th>25</th>\n",
       "      <td>http://www.atacamaenlinea.cl/ministerio-de-las...</td>\n",
       "      <td>ATACAMA EN LINEA</td>\n",
       "      <td>La iniciativa busca promover y reconocer la in...</td>\n",
       "    </tr>\n",
       "    <tr>\n",
       "      <th>28</th>\n",
       "      <td>http://www.atacamaenlinea.cl/leyendas-y-mitos-...</td>\n",
       "      <td>ATACAMA EN LINEA</td>\n",
       "      <td>Proyecto acercó nuestro patrimonio e identidad...</td>\n",
       "    </tr>\n",
       "    <tr>\n",
       "      <th>46</th>\n",
       "      <td>http://www.atacamaenlinea.cl/con-mas-de-70-exp...</td>\n",
       "      <td>ATACAMA EN LINEA</td>\n",
       "      <td>El encuentro, que se realizará entre el 15 y 1...</td>\n",
       "    </tr>\n",
       "    <tr>\n",
       "      <th>52</th>\n",
       "      <td>http://www.atacamaenlinea.cl/seremis-de-salud-...</td>\n",
       "      <td>ATACAMA EN LINEA</td>\n",
       "      <td>La actividad tiene por objetivo garantizar el ...</td>\n",
       "    </tr>\n",
       "    <tr>\n",
       "      <th>55</th>\n",
       "      <td>http://www.atacamaenlinea.cl/gobierno-anuncia-...</td>\n",
       "      <td>ATACAMA EN LINEA</td>\n",
       "      <td>La Subsecretaría de Desarrollo Regional (Subde...</td>\n",
       "    </tr>\n",
       "    <tr>\n",
       "      <th>61</th>\n",
       "      <td>http://www.atacamaenlinea.cl/el-consejo-region...</td>\n",
       "      <td>ATACAMA EN LINEA</td>\n",
       "      <td>En la Sesión Ordinaria del Consejo Regional de...</td>\n",
       "    </tr>\n",
       "    <tr>\n",
       "      <th>187</th>\n",
       "      <td>http://www.atacamaenlinea.cl/oficina-municipal...</td>\n",
       "      <td>ATACAMA EN LINEA</td>\n",
       "      <td>El alcalde de la comuna, Marcos López, destacó...</td>\n",
       "    </tr>\n",
       "    <tr>\n",
       "      <th>193</th>\n",
       "      <td>http://www.atacamaenlinea.cl/nueva-atacama-cel...</td>\n",
       "      <td>ATACAMA EN LINEA</td>\n",
       "      <td>La Organización de Naciones Unidas fijó el 22 ...</td>\n",
       "    </tr>\n",
       "    <tr>\n",
       "      <th>196</th>\n",
       "      <td>http://www.atacamaenlinea.cl/19629-2/mineria/</td>\n",
       "      <td>ATACAMA EN LINEA</td>\n",
       "      <td>En el marco de la Ley 21.015, que incentiva la...</td>\n",
       "    </tr>\n",
       "    <tr>\n",
       "      <th>199</th>\n",
       "      <td>http://www.atacamaenlinea.cl/voces-del-checo-c...</td>\n",
       "      <td>ATACAMA EN LINEA</td>\n",
       "      <td>La reconocida Agrupación Artística de Copiapó ...</td>\n",
       "    </tr>\n",
       "    <tr>\n",
       "      <th>202</th>\n",
       "      <td>http://www.atacamaenlinea.cl/minera-candelaria...</td>\n",
       "      <td>ATACAMA EN LINEA</td>\n",
       "      <td>La planta desalinizadora de Minera Candelaria ...</td>\n",
       "    </tr>\n",
       "    <tr>\n",
       "      <th>205</th>\n",
       "      <td>http://www.atacamaenlinea.cl/en-formato-presen...</td>\n",
       "      <td>ATACAMA EN LINEA</td>\n",
       "      <td>Bajo el lema “Unidos por la Artesanía”, este 1...</td>\n",
       "    </tr>\n",
       "    <tr>\n",
       "      <th>208</th>\n",
       "      <td>http://www.atacamaenlinea.cl/el-papa-promulga-...</td>\n",
       "      <td>ATACAMA EN LINEA</td>\n",
       "      <td>En la solemnidad de San JoséEl texto recoge y ...</td>\n",
       "    </tr>\n",
       "    <tr>\n",
       "      <th>211</th>\n",
       "      <td>http://www.atacamaenlinea.cl/monasterio-inmacu...</td>\n",
       "      <td>ATACAMA EN LINEA</td>\n",
       "      <td>Sor María Ángeles Martínez fue elegida por sus...</td>\n",
       "    </tr>\n",
       "    <tr>\n",
       "      <th>214</th>\n",
       "      <td>http://www.atacamaenlinea.cl/descubre-como-ele...</td>\n",
       "      <td>ATACAMA EN LINEA</td>\n",
       "      <td>Las mujeres y las relaciones de pareja cambian...</td>\n",
       "    </tr>\n",
       "    <tr>\n",
       "      <th>217</th>\n",
       "      <td>http://www.atacamaenlinea.cl/chile-inclusivo/n...</td>\n",
       "      <td>ATACAMA EN LINEA</td>\n",
       "      <td>En el contexto del día mundial del Síndrome de...</td>\n",
       "    </tr>\n",
       "    <tr>\n",
       "      <th>220</th>\n",
       "      <td>http://www.atacamaenlinea.cl/nueva-excavadora-...</td>\n",
       "      <td>ATACAMA EN LINEA</td>\n",
       "      <td>Se trata de una versión mejorada que ofrece gr...</td>\n",
       "    </tr>\n",
       "  </tbody>\n",
       "</table>\n",
       "</div>"
      ],
      "text/plain": [
       "                                                   url             title  \\\n",
       "0    http://www.atacamaenlinea.cl/dia-de-la-aceptac...  ATACAMA EN LINEA   \n",
       "4    http://www.atacamaenlinea.cl/oficina-copiapo-d...  ATACAMA EN LINEA   \n",
       "7    http://www.atacamaenlinea.cl/carabineros-detec...  ATACAMA EN LINEA   \n",
       "10   http://www.atacamaenlinea.cl/codelco-salvador-...  ATACAMA EN LINEA   \n",
       "13   http://www.atacamaenlinea.cl/estadio-techado-o...  ATACAMA EN LINEA   \n",
       "19   http://www.atacamaenlinea.cl/que-significa-cod...  ATACAMA EN LINEA   \n",
       "22   http://www.atacamaenlinea.cl/asamblea-en-el-va...  ATACAMA EN LINEA   \n",
       "25   http://www.atacamaenlinea.cl/ministerio-de-las...  ATACAMA EN LINEA   \n",
       "28   http://www.atacamaenlinea.cl/leyendas-y-mitos-...  ATACAMA EN LINEA   \n",
       "46   http://www.atacamaenlinea.cl/con-mas-de-70-exp...  ATACAMA EN LINEA   \n",
       "52   http://www.atacamaenlinea.cl/seremis-de-salud-...  ATACAMA EN LINEA   \n",
       "55   http://www.atacamaenlinea.cl/gobierno-anuncia-...  ATACAMA EN LINEA   \n",
       "61   http://www.atacamaenlinea.cl/el-consejo-region...  ATACAMA EN LINEA   \n",
       "187  http://www.atacamaenlinea.cl/oficina-municipal...  ATACAMA EN LINEA   \n",
       "193  http://www.atacamaenlinea.cl/nueva-atacama-cel...  ATACAMA EN LINEA   \n",
       "196      http://www.atacamaenlinea.cl/19629-2/mineria/  ATACAMA EN LINEA   \n",
       "199  http://www.atacamaenlinea.cl/voces-del-checo-c...  ATACAMA EN LINEA   \n",
       "202  http://www.atacamaenlinea.cl/minera-candelaria...  ATACAMA EN LINEA   \n",
       "205  http://www.atacamaenlinea.cl/en-formato-presen...  ATACAMA EN LINEA   \n",
       "208  http://www.atacamaenlinea.cl/el-papa-promulga-...  ATACAMA EN LINEA   \n",
       "211  http://www.atacamaenlinea.cl/monasterio-inmacu...  ATACAMA EN LINEA   \n",
       "214  http://www.atacamaenlinea.cl/descubre-como-ele...  ATACAMA EN LINEA   \n",
       "217  http://www.atacamaenlinea.cl/chile-inclusivo/n...  ATACAMA EN LINEA   \n",
       "220  http://www.atacamaenlinea.cl/nueva-excavadora-...  ATACAMA EN LINEA   \n",
       "\n",
       "                                               content  \n",
       "0    Avanzar en conciencia, disminuir las barreras ...  \n",
       "4    Este sábado 2 de abril la oficina Copiapó del ...  \n",
       "7    Personal de Carabineros de la Subcomisaria I.A...  \n",
       "10   Un programa de bienvenida e integración para l...  \n",
       "13   El alcalde de la comuna, Marcos López, destacó...  \n",
       "19   Por Ximena Torres Cautivo, Comunicaciones Hoga...  \n",
       "22   Chañaral fue el lugar de reunión para las comu...  \n",
       "25   La iniciativa busca promover y reconocer la in...  \n",
       "28   Proyecto acercó nuestro patrimonio e identidad...  \n",
       "46   El encuentro, que se realizará entre el 15 y 1...  \n",
       "52   La actividad tiene por objetivo garantizar el ...  \n",
       "55   La Subsecretaría de Desarrollo Regional (Subde...  \n",
       "61   En la Sesión Ordinaria del Consejo Regional de...  \n",
       "187  El alcalde de la comuna, Marcos López, destacó...  \n",
       "193  La Organización de Naciones Unidas fijó el 22 ...  \n",
       "196  En el marco de la Ley 21.015, que incentiva la...  \n",
       "199  La reconocida Agrupación Artística de Copiapó ...  \n",
       "202  La planta desalinizadora de Minera Candelaria ...  \n",
       "205  Bajo el lema “Unidos por la Artesanía”, este 1...  \n",
       "208  En la solemnidad de San JoséEl texto recoge y ...  \n",
       "211  Sor María Ángeles Martínez fue elegida por sus...  \n",
       "214  Las mujeres y las relaciones de pareja cambian...  \n",
       "217  En el contexto del día mundial del Síndrome de...  \n",
       "220  Se trata de una versión mejorada que ofrece gr...  "
      ]
     },
     "execution_count": 16,
     "metadata": {},
     "output_type": "execute_result"
    }
   ],
   "source": [
    "df"
   ]
  },
  {
   "cell_type": "code",
   "execution_count": null,
   "id": "2e565eca",
   "metadata": {},
   "outputs": [],
   "source": []
  }
 ],
 "metadata": {
  "kernelspec": {
   "display_name": "Python 3 (ipykernel)",
   "language": "python",
   "name": "python3"
  },
  "language_info": {
   "codemirror_mode": {
    "name": "ipython",
    "version": 3
   },
   "file_extension": ".py",
   "mimetype": "text/x-python",
   "name": "python",
   "nbconvert_exporter": "python",
   "pygments_lexer": "ipython3",
   "version": "3.8.10"
  }
 },
 "nbformat": 4,
 "nbformat_minor": 5
}
