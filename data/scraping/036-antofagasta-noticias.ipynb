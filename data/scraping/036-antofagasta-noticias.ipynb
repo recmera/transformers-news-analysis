{
 "cells": [
  {
   "cell_type": "code",
   "execution_count": 1,
   "id": "e42c42ef",
   "metadata": {},
   "outputs": [],
   "source": [
    "import json\n",
    "import w3lib.html\n",
    "import random\n",
    "import os\n",
    "from datetime import datetime\n",
    "import requests\n",
    "import string\n",
    "import calendar\n",
    "import html\n",
    "import locale \n",
    "from requests_html import HTMLSession\n",
    "from requests_html import HTML\n",
    "import validators\n",
    "import pandas as pd\n",
    "from tqdm.notebook import tqdm\n",
    "\n",
    "import warnings\n",
    "warnings.filterwarnings('ignore')"
   ]
  },
  {
   "cell_type": "code",
   "execution_count": 2,
   "id": "79bb0b1d",
   "metadata": {},
   "outputs": [],
   "source": [
    "URL_SEED = 'https://www.antofagastanoticias.cl/category/comunas/page/1'\n",
    "XPATH_HREF = \"//h3/a/@href\""
   ]
  },
  {
   "cell_type": "code",
   "execution_count": 3,
   "id": "c8a6236e",
   "metadata": {},
   "outputs": [],
   "source": [
    "class Crawler():\n",
    "    \n",
    "    USER_AGENT_LIST = [\n",
    "        \"Mozilla/5.0 (Windows NT 6.1; WOW64) AppleWebKit/537.1 (KHTML, like Gecko) Chrome/22.0.1207.1 Safari/537.1\",\n",
    "        \"Mozilla/5.0 (X11; CrOS i686 2268.111.0) AppleWebKit/536.11 (KHTML, like Gecko) Chrome/20.0.1132.57 Safari/536.11\",\n",
    "        \"Mozilla/5.0 (Windows NT 6.1; WOW64) AppleWebKit/536.6 (KHTML, like Gecko) Chrome/20.0.1092.0 Safari/536.6\",\n",
    "        \"Mozilla/5.0 (Windows NT 6.2) AppleWebKit/536.6 (KHTML, like Gecko) Chrome/20.0.1090.0 Safari/536.6\",\n",
    "        \"Mozilla/5.0 (Windows NT 6.2; WOW64) AppleWebKit/537.1 (KHTML, like Gecko) Chrome/19.77.34.5 Safari/537.1\",\n",
    "        \"Mozilla/5.0 (X11; Linux x86_64) AppleWebKit/536.5 (KHTML, like Gecko) Chrome/19.0.1084.9 Safari/536.5\",\n",
    "        \"Mozilla/5.0 (Windows NT 6.0) AppleWebKit/536.5 (KHTML, like Gecko) Chrome/19.0.1084.36 Safari/536.5\",\n",
    "        \"Mozilla/5.0 (Windows NT 6.1; WOW64) AppleWebKit/536.3 (KHTML, like Gecko) Chrome/19.0.1063.0 Safari/536.3\",\n",
    "        \"Mozilla/5.0 (Windows NT 5.1) AppleWebKit/536.3 (KHTML, like Gecko) Chrome/19.0.1063.0 Safari/536.3\",\n",
    "        \"Mozilla/5.0 (Macintosh; Intel Mac OS X 10_8_0) AppleWebKit/536.3 (KHTML, like Gecko) Chrome/19.0.1063.0 Safari/536.3\",\n",
    "        \"Mozilla/5.0 (Windows NT 6.2) AppleWebKit/536.3 (KHTML, like Gecko) Chrome/19.0.1062.0 Safari/536.3\",\n",
    "        \"Mozilla/5.0 (Windows NT 6.1; WOW64) AppleWebKit/536.3 (KHTML, like Gecko) Chrome/19.0.1062.0 Safari/536.3\",\n",
    "        \"Mozilla/5.0 (Windows NT 6.2) AppleWebKit/536.3 (KHTML, like Gecko) Chrome/19.0.1061.1 Safari/536.3\",\n",
    "        \"Mozilla/5.0 (Windows NT 6.1; WOW64) AppleWebKit/536.3 (KHTML, like Gecko) Chrome/19.0.1061.1 Safari/536.3\",\n",
    "        \"Mozilla/5.0 (Windows NT 6.1) AppleWebKit/536.3 (KHTML, like Gecko) Chrome/19.0.1061.1 Safari/536.3\",\n",
    "        \"Mozilla/5.0 (Windows NT 6.2) AppleWebKit/536.3 (KHTML, like Gecko) Chrome/19.0.1061.0 Safari/536.3\",\n",
    "        \"Mozilla/5.0 (X11; Linux x86_64) AppleWebKit/535.24 (KHTML, like Gecko) Chrome/19.0.1055.1 Safari/535.24\",\n",
    "        \"Mozilla/5.0 (Windows NT 6.2; WOW64) AppleWebKit/535.24 (KHTML, like Gecko) Chrome/19.0.1055.1 Safari/535.24\"\n",
    "    ]\n",
    "\n",
    "    #Ruta XPATH hacia los enlaces que queremos recopilar\n",
    "    xpath_href=XPATH_HREF\n",
    "\n",
    "    #variable que permite listar todos los enlaces recopilado\n",
    "    url_list = []\n",
    "    \n",
    "    def _init_(self, URL_SEED, XPATH_HREF):        \n",
    "        pass\n",
    "\n",
    "    \n",
    "    def get(self,url):\n",
    "        session = HTMLSession()\n",
    "        header = dict()\n",
    "        header['user-agent'] = random.choice(self.USER_AGENT_LIST)\n",
    "        response = session.get(url,headers=header)        \n",
    "        return response\n",
    "    \n",
    "    def parse(self, response):\n",
    "        self.url_list = []\n",
    "        urls = response.html.xpath(self.xpath_href)\n",
    "        for url in urls:\n",
    "            self.url_list.append(url)\n"
   ]
  },
  {
   "cell_type": "code",
   "execution_count": 4,
   "id": "e016daec",
   "metadata": {
    "scrolled": true
   },
   "outputs": [
    {
     "data": {
      "application/vnd.jupyter.widget-view+json": {
       "model_id": "2497b59a45964f43bc3ae8329b755da5",
       "version_major": 2,
       "version_minor": 0
      },
      "text/plain": [
       "  0%|          | 0/3 [00:00<?, ?it/s]"
      ]
     },
     "metadata": {},
     "output_type": "display_data"
    },
    {
     "data": {
      "text/plain": [
       "['https://www.antofagastanoticias.cl/2022/03/29/festival-puerto-de-ideas-tendr-como-importante-escenario-el-sitio-cero-de-puerto-antofagasta/13780',\n",
       " 'https://www.antofagastanoticias.cl/2022/03/29/taltal-y-su-memoria-colectiva-para-enfrentar-catstrofes/13776',\n",
       " 'https://www.antofagastanoticias.cl/2022/03/29/cchc-antofagasta-lanz-segunda-versin-de-programa-de-liderazgo-femenino-en-la-construccin/13772',\n",
       " 'https://www.antofagastanoticias.cl/2022/03/25/avanza-proyecto-de-nuevo-liceo-politcnico-de-taltal/13764',\n",
       " 'https://www.antofagastanoticias.cl/2022/03/23/municipalidad-de-tocopilla-reclama-ante-primer-tribunal-ambiental-por-multa-aplicada-por-deficiencias-en-manejo-de-relleno-sanitario/13733',\n",
       " 'https://www.antofagastanoticias.cl/2022/03/21/ms-de-cien-mujeres-aprenden-telar-mapuche-alfarera-y-pintura-en-taltal/13717',\n",
       " 'https://www.antofagastanoticias.cl/2022/03/14/alianza-entre-puerto-antofagasta-y-cuerpo-de-bomberos-permiti-capacitar-a-ms-de-80-bomberos-y-bomberas-en-sitio-cero/13682',\n",
       " 'https://www.antofagastanoticias.cl/2022/03/09/en-el-da-internacional-de-la-mujer-cchc-antofagasta-distingui-a-mujeres-trabajadoras-del-sector/13640',\n",
       " 'https://www.antofagastanoticias.cl/2022/03/09/gobernador-daz-se-traslad-hasta-mejillones-para-iniciar-acciones-por-crisis-en-recintos-educativos-debido-al-sostenido-aumento-de-matrculas/13636',\n",
       " 'https://www.antofagastanoticias.cl/2022/03/08/gobernador-daz-visit-centro-penitenciario-femenino-de-antofagasta-en-el-marco-del-da-internacional-de-la-mujer/13628',\n",
       " 'https://www.antofagastanoticias.cl/2022/03/29/festival-puerto-de-ideas-tendr-como-importante-escenario-el-sitio-cero-de-puerto-antofagasta/13780',\n",
       " 'https://www.antofagastanoticias.cl/2022/03/29/taltal-y-su-memoria-colectiva-para-enfrentar-catstrofes/13776',\n",
       " 'https://www.antofagastanoticias.cl/2022/03/29/cchc-antofagasta-lanz-segunda-versin-de-programa-de-liderazgo-femenino-en-la-construccin/13772',\n",
       " 'https://www.antofagastanoticias.cl/2022/03/25/avanza-proyecto-de-nuevo-liceo-politcnico-de-taltal/13764',\n",
       " 'https://www.antofagastanoticias.cl/2022/03/23/municipalidad-de-tocopilla-reclama-ante-primer-tribunal-ambiental-por-multa-aplicada-por-deficiencias-en-manejo-de-relleno-sanitario/13733',\n",
       " 'https://www.antofagastanoticias.cl/2022/03/21/ms-de-cien-mujeres-aprenden-telar-mapuche-alfarera-y-pintura-en-taltal/13717',\n",
       " 'https://www.antofagastanoticias.cl/2022/03/14/alianza-entre-puerto-antofagasta-y-cuerpo-de-bomberos-permiti-capacitar-a-ms-de-80-bomberos-y-bomberas-en-sitio-cero/13682',\n",
       " 'https://www.antofagastanoticias.cl/2022/03/09/en-el-da-internacional-de-la-mujer-cchc-antofagasta-distingui-a-mujeres-trabajadoras-del-sector/13640',\n",
       " 'https://www.antofagastanoticias.cl/2022/03/09/gobernador-daz-se-traslad-hasta-mejillones-para-iniciar-acciones-por-crisis-en-recintos-educativos-debido-al-sostenido-aumento-de-matrculas/13636',\n",
       " 'https://www.antofagastanoticias.cl/2022/03/08/gobernador-daz-visit-centro-penitenciario-femenino-de-antofagasta-en-el-marco-del-da-internacional-de-la-mujer/13628',\n",
       " 'https://www.antofagastanoticias.cl/2022/03/08/se-inicia-nuevo-programa-de-capacitacin-en-las-caletas-paposo-y-cifuncho/13624',\n",
       " 'https://www.antofagastanoticias.cl/2022/03/03/con-energa-solar-conchi-viejo-ilumin-el-pueblo-con-apoyo-de-minera-el-abra/13593',\n",
       " 'https://www.antofagastanoticias.cl/2022/03/02/600-kilos-de-basura-se-retiraron-del-operativo-rescate-hornitos/13581',\n",
       " 'https://www.antofagastanoticias.cl/2022/02/19/reunin-de-emergencia-entre-el-gobernador-regional-alcalde-carabineros-y-bomberos-por-incendio-en-ex-vertedero-en-antofagasta/13487',\n",
       " 'https://www.antofagastanoticias.cl/2022/02/12/nios-y-nias-del-campamento-alto-la-negra-visitaron-la-expo-dinosaurios-en-el-sitio-cero-de-puerto-antofagasta/13444',\n",
       " 'https://www.antofagastanoticias.cl/2022/02/09/acciones-articuladas-para-aumentar-la-seguridad-ciudadana-en-taltal/13436',\n",
       " 'https://www.antofagastanoticias.cl/2022/02/09/reclamacin-contra-proyecto-de-loteo-en-calama-queda-en-acuerdo/13432',\n",
       " 'https://www.antofagastanoticias.cl/2022/02/07/municipio-se-rene-convecinos-de-la-chimba-afectados-por-quemas/13402',\n",
       " 'https://www.antofagastanoticias.cl/2022/02/07/san-francisco-de-chiu-chiu-puerta-de-entrada-a-alto-el-loa-recibe-a-sus-visitantes-con-letras-volumtricas-que-resaltan-a-la-cultura-atacamea/13394',\n",
       " 'https://www.antofagastanoticias.cl/2022/02/07/letras-volumtricas-de-quillagua-rescatan-el-valor-patrimonial-antropolgico-del-lugar-ms-seco-del-mundo/13390']"
      ]
     },
     "execution_count": 4,
     "metadata": {},
     "output_type": "execute_result"
    }
   ],
   "source": [
    "urls=[]\n",
    "\n",
    "for page in tqdm(range(3)): # revisemos sólo 2 páginas\n",
    "    crawler = Crawler()\n",
    "    response = crawler.get('https://www.antofagastanoticias.cl/category/comunas/page/'+str(page))\n",
    "    crawler.parse(response)\n",
    "\n",
    "    \n",
    "    for url in crawler.url_list:\n",
    "        urls.append(url)\n",
    "\n",
    "    crawler.url_list = urls\n",
    "    \n",
    "crawler.url_list"
   ]
  },
  {
   "cell_type": "code",
   "execution_count": 5,
   "id": "e6099483",
   "metadata": {},
   "outputs": [
    {
     "data": {
      "text/plain": [
       "30"
      ]
     },
     "execution_count": 5,
     "metadata": {},
     "output_type": "execute_result"
    }
   ],
   "source": [
    "len(urls)"
   ]
  },
  {
   "cell_type": "code",
   "execution_count": 6,
   "id": "928cdb23",
   "metadata": {},
   "outputs": [
    {
     "data": {
      "text/plain": [
       "'https://www.antofagastanoticias.cl/2022/03/29/festival-puerto-de-ideas-tendr-como-importante-escenario-el-sitio-cero-de-puerto-antofagasta/13780'"
      ]
     },
     "execution_count": 6,
     "metadata": {},
     "output_type": "execute_result"
    }
   ],
   "source": [
    "urls[0]"
   ]
  },
  {
   "cell_type": "code",
   "execution_count": null,
   "id": "f8c2d5b1",
   "metadata": {},
   "outputs": [],
   "source": []
  },
  {
   "cell_type": "code",
   "execution_count": 7,
   "id": "d446e5df",
   "metadata": {},
   "outputs": [],
   "source": [
    "URL_NEWS = urls[0]\n",
    "XPATH_TITLE = \"//h1\"\n",
    "XPATH_CONTENT =\"//div[@class='entry-content mh-clearfix']//p\""
   ]
  },
  {
   "cell_type": "code",
   "execution_count": 8,
   "id": "fcc5edaf",
   "metadata": {},
   "outputs": [],
   "source": [
    "class Scraper:\n",
    "    \n",
    "    USER_AGENT_LIST = [\n",
    "        \"Mozilla/5.0 (Windows NT 6.1; WOW64) AppleWebKit/537.1 (KHTML, like Gecko) Chrome/22.0.1207.1 Safari/537.1\",\n",
    "        \"Mozilla/5.0 (X11; CrOS i686 2268.111.0) AppleWebKit/536.11 (KHTML, like Gecko) Chrome/20.0.1132.57 Safari/536.11\",\n",
    "        \"Mozilla/5.0 (Windows NT 6.1; WOW64) AppleWebKit/536.6 (KHTML, like Gecko) Chrome/20.0.1092.0 Safari/536.6\",\n",
    "        \"Mozilla/5.0 (Windows NT 6.2) AppleWebKit/536.6 (KHTML, like Gecko) Chrome/20.0.1090.0 Safari/536.6\",\n",
    "        \"Mozilla/5.0 (Windows NT 6.2; WOW64) AppleWebKit/537.1 (KHTML, like Gecko) Chrome/19.77.34.5 Safari/537.1\",\n",
    "        \"Mozilla/5.0 (X11; Linux x86_64) AppleWebKit/536.5 (KHTML, like Gecko) Chrome/19.0.1084.9 Safari/536.5\",\n",
    "        \"Mozilla/5.0 (Windows NT 6.0) AppleWebKit/536.5 (KHTML, like Gecko) Chrome/19.0.1084.36 Safari/536.5\",\n",
    "        \"Mozilla/5.0 (Windows NT 6.1; WOW64) AppleWebKit/536.3 (KHTML, like Gecko) Chrome/19.0.1063.0 Safari/536.3\",\n",
    "        \"Mozilla/5.0 (Windows NT 5.1) AppleWebKit/536.3 (KHTML, like Gecko) Chrome/19.0.1063.0 Safari/536.3\",\n",
    "        \"Mozilla/5.0 (Macintosh; Intel Mac OS X 10_8_0) AppleWebKit/536.3 (KHTML, like Gecko) Chrome/19.0.1063.0 Safari/536.3\",\n",
    "        \"Mozilla/5.0 (Windows NT 6.2) AppleWebKit/536.3 (KHTML, like Gecko) Chrome/19.0.1062.0 Safari/536.3\",\n",
    "        \"Mozilla/5.0 (Windows NT 6.1; WOW64) AppleWebKit/536.3 (KHTML, like Gecko) Chrome/19.0.1062.0 Safari/536.3\",\n",
    "        \"Mozilla/5.0 (Windows NT 6.2) AppleWebKit/536.3 (KHTML, like Gecko) Chrome/19.0.1061.1 Safari/536.3\",\n",
    "        \"Mozilla/5.0 (Windows NT 6.1; WOW64) AppleWebKit/536.3 (KHTML, like Gecko) Chrome/19.0.1061.1 Safari/536.3\",\n",
    "        \"Mozilla/5.0 (Windows NT 6.1) AppleWebKit/536.3 (KHTML, like Gecko) Chrome/19.0.1061.1 Safari/536.3\",\n",
    "        \"Mozilla/5.0 (Windows NT 6.2) AppleWebKit/536.3 (KHTML, like Gecko) Chrome/19.0.1061.0 Safari/536.3\",\n",
    "        \"Mozilla/5.0 (X11; Linux x86_64) AppleWebKit/535.24 (KHTML, like Gecko) Chrome/19.0.1055.1 Safari/535.24\",\n",
    "        \"Mozilla/5.0 (Windows NT 6.2; WOW64) AppleWebKit/535.24 (KHTML, like Gecko) Chrome/19.0.1055.1 Safari/535.24\"\n",
    "    ]\n",
    "\n",
    "    query_extract_title = XPATH_TITLE\n",
    "    query_extract_text =  XPATH_CONTENT\n",
    "\n",
    "    def _init_(self):\n",
    "        pass\n",
    "   \n",
    "    def get(self,url):\n",
    "        headers = {'user-agent':random.choice(self.USER_AGENT_LIST) }\n",
    "        session = HTMLSession()\n",
    "        response = session.get(url,headers=headers) \n",
    "        return response\n",
    "    \n",
    "    def clean_text(self, html_text):\n",
    "        text_without_tags = w3lib.html.remove_tags(html_text)\n",
    "        text_without_escape_chars = w3lib.html.replace_escape_chars(text_without_tags)\n",
    "        text_without_escape_chars = html.unescape(text_without_escape_chars)\n",
    "        text_without_whitespace = text_without_escape_chars.strip()\n",
    "        return text_without_whitespace\n",
    "\n",
    "    \n",
    "    #### main function ####\n",
    "    def parse(self, response):\n",
    "        \n",
    "        #URL\n",
    "        self.news_url = response.url\n",
    "        \n",
    "        #TITLE\n",
    "        self.news_title = response.html.xpath(self.query_extract_title)[0].text\n",
    "        self.news_title = self.clean_text(self.news_title)\n",
    "       \n",
    "        \n",
    "        #CONTENT\n",
    "        self.news_text = \"\"\n",
    "        \n",
    "        html_paragraphs = response.html.xpath(self.query_extract_text)\n",
    "        \n",
    "        for paragraph in html_paragraphs:\n",
    "            paragraph_content = w3lib.html.remove_tags(paragraph.text)    \n",
    "            text_cleaned = self.clean_text(paragraph_content)\n",
    "            self.news_text = self.news_text+text_cleaned\n"
   ]
  },
  {
   "cell_type": "code",
   "execution_count": 9,
   "id": "d9482704",
   "metadata": {},
   "outputs": [],
   "source": [
    "scraper = Scraper()\n",
    "response =scraper.get(URL_NEWS)"
   ]
  },
  {
   "cell_type": "code",
   "execution_count": 10,
   "id": "d72bc32e",
   "metadata": {},
   "outputs": [],
   "source": [
    "scraper.parse(response)"
   ]
  },
  {
   "cell_type": "code",
   "execution_count": 11,
   "id": "a2e4d401",
   "metadata": {},
   "outputs": [
    {
     "data": {
      "text/plain": [
       "'Festival Puerto de Ideas tendrá como importante escenario el Sitio Cero de Puerto Antofagasta'"
      ]
     },
     "execution_count": 11,
     "metadata": {},
     "output_type": "execute_result"
    }
   ],
   "source": [
    "scraper.news_title"
   ]
  },
  {
   "cell_type": "code",
   "execution_count": 12,
   "id": "162264db",
   "metadata": {},
   "outputs": [
    {
     "data": {
      "text/plain": [
       "'El festival de ciencia y tecnología vuelve este 2022 de manera presencial, a desarrollarse en la perla del norte del 18 al 24 de abril.Nuestro lugar en el universo y los desafíos futuros en el cambio climático y democracia digital marcarán las actividades del próximo Festival de Ciencia Puerto de Ideas.Más de 50 actividades educativas, de las más diversas áreas, pisarán los suelos del Sitio Cero de Puerto Antofagasta desde el 21 al 24 de abril en la nueva versión del Festival Puerto de Ideas que vuelve a su formato presencial, gracias a la alianza entre Empresa Portuaria Antofagasta con la Fundación Puerto Ideas, en el marco de un convenio de colaboración.Sitio Cero será escenario del “Paseo por la Ciencia”, donde además, habrá lúdicas actividades presenciales ideales para las familias antofagastinas que gusten de la ciencia y la innovación, personas que podrán estar cerca de grandes investigadores nacionales e internacionales, que hablarán de diversos tópicos de la ciencia de manera interactiva a la ciudadanía.Espacio que se sitúa como un lugar ideal y que Puerto Antofagasta pone a disposición, tanto para eventos culturales, artísticos, educativos, de apoyo al emprendimiento y de entretención, como también para eventos, sociales y comunitarios, donde en este caso será Ciencia interactiva, mediante el Festival Puerto Ideas, el cual será la protagonista.De todo Chile y del mundo viajan a Antofagasta, exponentes para presentar sus talleres, stands y propuestas a los estudiantes de la región y sus familias. Dichas actividades son bastante variadas y entretenidas, como un túnel espacial, telescopios, salas audiovisuales, conferencias, todo para mostrar una mirada divertida de la ciencia a la comunidad.Carlos Escobar, Gerente General de Puerto Antofagasta, comentó acerca de la actividad: “Como Puerto Antofagasta y Comunidad Logística Portuaria valoramos mucho las alianzas que se realizan, hoy por ejemplo, podemos observar el fruto de una de ellas, que permitira llevar parte del Festival Puerto Ideas a nuestro Sitio Cero, para recibir a los mejores exponentes de la ciencia a nivel nacional e internacional. Ponemos a disposicón nuestro espacio para realizar grandes eventos, sobre todo en temas de ciencia y tecnología, para así ofrecer a la comunidad antofagastina diversos panoramas.” De las misma forma, Escobar, invitó a todas y a todos a participar: “Quiero invitar a toda la comunidad antofagastina a venir al Sitio Cero, desde el 21 al 24 de abril, para que se interioricen con todas las actividades que la Fundación Puerto Ideas tiene para ofrecer.”Por otro lado, el Director Ejecutivo de Fundación Puerto ideas, Sergio Silva señaló, “muy contentos de estar de vuelta en Antofagasta, en donde vamos a estar con el Festival Puerto ideas entre el 18 y el 24 de Abril, desarrollándose las actividades en el Sitio Cero del 21 al 24 de abril. Vamos a tener actividades para todo tipo de público, para los niños, para la familia, para los interesados en los más diversos temas como astronomía, ecología, salud, paleontología. Así que la invitación está abierta a informarse en la página https://puertodeideas.cl” . “Están todas y todos invitados a este festival que es muy potente” Concluyó.La invitación está abierta para visitar el Sitio Cero del Puerto de Antofagasta, desde el 21 al 24 de abril con entrada liberada, para que vengan en familia al Festival de Puerto ideas y así, insertarse en el mundo de la curiosidad y la duda que ofrece la ciencia, a través de decenas de importantes instituciones científicas.'"
      ]
     },
     "execution_count": 12,
     "metadata": {},
     "output_type": "execute_result"
    }
   ],
   "source": [
    "scraper.news_text"
   ]
  },
  {
   "cell_type": "code",
   "execution_count": 13,
   "id": "a455d5d3",
   "metadata": {},
   "outputs": [],
   "source": [
    "#Verificamos que el scraper devuelve algo\n",
    "assert(len(scraper.news_title)>0)\n",
    "assert(len(scraper.news_text)>0)"
   ]
  },
  {
   "cell_type": "code",
   "execution_count": 14,
   "id": "524ce41b",
   "metadata": {},
   "outputs": [
    {
     "data": {
      "text/html": [
       "<div>\n",
       "<style scoped>\n",
       "    .dataframe tbody tr th:only-of-type {\n",
       "        vertical-align: middle;\n",
       "    }\n",
       "\n",
       "    .dataframe tbody tr th {\n",
       "        vertical-align: top;\n",
       "    }\n",
       "\n",
       "    .dataframe thead th {\n",
       "        text-align: right;\n",
       "    }\n",
       "</style>\n",
       "<table border=\"1\" class=\"dataframe\">\n",
       "  <thead>\n",
       "    <tr style=\"text-align: right;\">\n",
       "      <th></th>\n",
       "      <th>url</th>\n",
       "      <th>title</th>\n",
       "      <th>content</th>\n",
       "    </tr>\n",
       "  </thead>\n",
       "  <tbody>\n",
       "    <tr>\n",
       "      <th>0</th>\n",
       "      <td>https://www.antofagastanoticias.cl/2022/03/29/...</td>\n",
       "      <td>Festival Puerto de Ideas tendrá como important...</td>\n",
       "      <td>El festival de ciencia y tecnología vuelve est...</td>\n",
       "    </tr>\n",
       "  </tbody>\n",
       "</table>\n",
       "</div>"
      ],
      "text/plain": [
       "                                                 url  \\\n",
       "0  https://www.antofagastanoticias.cl/2022/03/29/...   \n",
       "\n",
       "                                               title  \\\n",
       "0  Festival Puerto de Ideas tendrá como important...   \n",
       "\n",
       "                                             content  \n",
       "0  El festival de ciencia y tecnología vuelve est...  "
      ]
     },
     "execution_count": 14,
     "metadata": {},
     "output_type": "execute_result"
    }
   ],
   "source": [
    "df = pd.DataFrame(data={'url': [URL_NEWS],'title':[scraper.news_title], 'content':[scraper.news_text]})\n",
    "df"
   ]
  },
  {
   "cell_type": "code",
   "execution_count": 15,
   "id": "267a48c8",
   "metadata": {},
   "outputs": [
    {
     "data": {
      "application/vnd.jupyter.widget-view+json": {
       "model_id": "adc34041ee7046dd9121d9a6ee1e5d1e",
       "version_major": 2,
       "version_minor": 0
      },
      "text/plain": [
       "  0%|          | 0/30 [00:00<?, ?it/s]"
      ]
     },
     "metadata": {},
     "output_type": "display_data"
    }
   ],
   "source": [
    "XPATH_TITLE = \"//h1\"\n",
    "XPATH_CONTENT =\"//div[@class='entry-content mh-clearfix']//p\"\n",
    "\n",
    "for url in tqdm(urls):\n",
    "    URL_NEWS = url\n",
    "    scraper = Scraper()\n",
    "    response =scraper.get(URL_NEWS)\n",
    "    scraper.parse(response)\n",
    "    df1 = pd.DataFrame(data={'url': url, 'title':scraper.news_title, 'content':scraper.news_text},index=['url', 'title', 'content'])\n",
    "    df = df.append(df1, ignore_index=True)\n",
    "df = df.drop_duplicates()\n"
   ]
  },
  {
   "cell_type": "code",
   "execution_count": 16,
   "id": "e9c55424",
   "metadata": {},
   "outputs": [
    {
     "data": {
      "text/html": [
       "<div>\n",
       "<style scoped>\n",
       "    .dataframe tbody tr th:only-of-type {\n",
       "        vertical-align: middle;\n",
       "    }\n",
       "\n",
       "    .dataframe tbody tr th {\n",
       "        vertical-align: top;\n",
       "    }\n",
       "\n",
       "    .dataframe thead th {\n",
       "        text-align: right;\n",
       "    }\n",
       "</style>\n",
       "<table border=\"1\" class=\"dataframe\">\n",
       "  <thead>\n",
       "    <tr style=\"text-align: right;\">\n",
       "      <th></th>\n",
       "      <th>url</th>\n",
       "      <th>title</th>\n",
       "      <th>content</th>\n",
       "    </tr>\n",
       "  </thead>\n",
       "  <tbody>\n",
       "    <tr>\n",
       "      <th>0</th>\n",
       "      <td>https://www.antofagastanoticias.cl/2022/03/29/...</td>\n",
       "      <td>Festival Puerto de Ideas tendrá como important...</td>\n",
       "      <td>El festival de ciencia y tecnología vuelve est...</td>\n",
       "    </tr>\n",
       "    <tr>\n",
       "      <th>4</th>\n",
       "      <td>https://www.antofagastanoticias.cl/2022/03/29/...</td>\n",
       "      <td>Taltal y su memoria colectiva para enfrentar c...</td>\n",
       "      <td>Hace siete años, Taltal vivió uno de los event...</td>\n",
       "    </tr>\n",
       "    <tr>\n",
       "      <th>7</th>\n",
       "      <td>https://www.antofagastanoticias.cl/2022/03/29/...</td>\n",
       "      <td>CChC Antofagasta lanzó segunda versión de prog...</td>\n",
       "      <td>“Construyendo Mujer Antofagasta” es la iniciat...</td>\n",
       "    </tr>\n",
       "    <tr>\n",
       "      <th>10</th>\n",
       "      <td>https://www.antofagastanoticias.cl/2022/03/25/...</td>\n",
       "      <td>Avanza proyecto de nuevo Liceo Politécnico de ...</td>\n",
       "      <td>Comunidad educativa conoció detalles del proye...</td>\n",
       "    </tr>\n",
       "    <tr>\n",
       "      <th>13</th>\n",
       "      <td>https://www.antofagastanoticias.cl/2022/03/23/...</td>\n",
       "      <td>Municipalidad de Tocopilla reclama ante Primer...</td>\n",
       "      <td>La multa, cercana a los 19 millones de pesos, ...</td>\n",
       "    </tr>\n",
       "    <tr>\n",
       "      <th>16</th>\n",
       "      <td>https://www.antofagastanoticias.cl/2022/03/21/...</td>\n",
       "      <td>Más de cien mujeres aprenden telar mapuche, al...</td>\n",
       "      <td>Según la cultura mapuche, la mujer se transfor...</td>\n",
       "    </tr>\n",
       "    <tr>\n",
       "      <th>19</th>\n",
       "      <td>https://www.antofagastanoticias.cl/2022/03/14/...</td>\n",
       "      <td>Alianza entre Puerto Antofagasta y Cuerpo de B...</td>\n",
       "      <td>La actividad contó con la participación de las...</td>\n",
       "    </tr>\n",
       "    <tr>\n",
       "      <th>22</th>\n",
       "      <td>https://www.antofagastanoticias.cl/2022/03/09/...</td>\n",
       "      <td>En el Día Internacional de la Mujer CChC Antof...</td>\n",
       "      <td>Presidenta del gremio conmemoró el 8 de Marzo ...</td>\n",
       "    </tr>\n",
       "    <tr>\n",
       "      <th>25</th>\n",
       "      <td>https://www.antofagastanoticias.cl/2022/03/09/...</td>\n",
       "      <td>Gobernador Díaz se trasladó hasta Mejillones p...</td>\n",
       "      <td>Alcalde, Marcelino Carvajal, asegura que el Mi...</td>\n",
       "    </tr>\n",
       "    <tr>\n",
       "      <th>28</th>\n",
       "      <td>https://www.antofagastanoticias.cl/2022/03/08/...</td>\n",
       "      <td>Gobernador Díaz visitó centro penitenciario fe...</td>\n",
       "      <td>Encuentro con las internas se enmarcó en la ac...</td>\n",
       "    </tr>\n",
       "    <tr>\n",
       "      <th>61</th>\n",
       "      <td>https://www.antofagastanoticias.cl/2022/03/08/...</td>\n",
       "      <td>Se inicia nuevo programa de capacitación en la...</td>\n",
       "      <td>En dos emotivas ceremonias realizadas frente a...</td>\n",
       "    </tr>\n",
       "    <tr>\n",
       "      <th>64</th>\n",
       "      <td>https://www.antofagastanoticias.cl/2022/03/03/...</td>\n",
       "      <td>Con energía solar Conchi Viejo iluminó el pueb...</td>\n",
       "      <td>El poblado cuenta hoy con diecinueve luminaria...</td>\n",
       "    </tr>\n",
       "    <tr>\n",
       "      <th>67</th>\n",
       "      <td>https://www.antofagastanoticias.cl/2022/03/02/...</td>\n",
       "      <td>600 kilos de basura se retiraron del operativo...</td>\n",
       "      <td>Entre 7 organizaciones y cerca de 60 voluntari...</td>\n",
       "    </tr>\n",
       "    <tr>\n",
       "      <th>70</th>\n",
       "      <td>https://www.antofagastanoticias.cl/2022/02/19/...</td>\n",
       "      <td>Reunión de emergencia entre el gobernador regi...</td>\n",
       "      <td>En emergencia se encuentran las autoridades re...</td>\n",
       "    </tr>\n",
       "    <tr>\n",
       "      <th>73</th>\n",
       "      <td>https://www.antofagastanoticias.cl/2022/02/12/...</td>\n",
       "      <td>Niños y niñas del Campamento Alto La Negra vis...</td>\n",
       "      <td>Esta visita fue gestionada gracias al trabajo ...</td>\n",
       "    </tr>\n",
       "    <tr>\n",
       "      <th>76</th>\n",
       "      <td>https://www.antofagastanoticias.cl/2022/02/09/...</td>\n",
       "      <td>Acciones articuladas para aumentar la segurida...</td>\n",
       "      <td>Invertir mayores recursos para el despliegue p...</td>\n",
       "    </tr>\n",
       "    <tr>\n",
       "      <th>79</th>\n",
       "      <td>https://www.antofagastanoticias.cl/2022/02/09/...</td>\n",
       "      <td>Reclamación contra proyecto de loteo en Calama...</td>\n",
       "      <td>La redacción de la sentencia estará a cargo de...</td>\n",
       "    </tr>\n",
       "    <tr>\n",
       "      <th>82</th>\n",
       "      <td>https://www.antofagastanoticias.cl/2022/02/07/...</td>\n",
       "      <td>Municipio se reúne convecinos de La Chimba afe...</td>\n",
       "      <td>Limpiezas, cierres y fiscalizaciones, fueron a...</td>\n",
       "    </tr>\n",
       "    <tr>\n",
       "      <th>85</th>\n",
       "      <td>https://www.antofagastanoticias.cl/2022/02/07/...</td>\n",
       "      <td>San Francisco de Chiu Chiu, puerta de entrada ...</td>\n",
       "      <td>Así el destino emergente se potencia hacia el ...</td>\n",
       "    </tr>\n",
       "    <tr>\n",
       "      <th>88</th>\n",
       "      <td>https://www.antofagastanoticias.cl/2022/02/07/...</td>\n",
       "      <td>Letras volumétricas de Quillagua rescatan el v...</td>\n",
       "      <td>Obra de infraestructura turística potencia los...</td>\n",
       "    </tr>\n",
       "  </tbody>\n",
       "</table>\n",
       "</div>"
      ],
      "text/plain": [
       "                                                  url  \\\n",
       "0   https://www.antofagastanoticias.cl/2022/03/29/...   \n",
       "4   https://www.antofagastanoticias.cl/2022/03/29/...   \n",
       "7   https://www.antofagastanoticias.cl/2022/03/29/...   \n",
       "10  https://www.antofagastanoticias.cl/2022/03/25/...   \n",
       "13  https://www.antofagastanoticias.cl/2022/03/23/...   \n",
       "16  https://www.antofagastanoticias.cl/2022/03/21/...   \n",
       "19  https://www.antofagastanoticias.cl/2022/03/14/...   \n",
       "22  https://www.antofagastanoticias.cl/2022/03/09/...   \n",
       "25  https://www.antofagastanoticias.cl/2022/03/09/...   \n",
       "28  https://www.antofagastanoticias.cl/2022/03/08/...   \n",
       "61  https://www.antofagastanoticias.cl/2022/03/08/...   \n",
       "64  https://www.antofagastanoticias.cl/2022/03/03/...   \n",
       "67  https://www.antofagastanoticias.cl/2022/03/02/...   \n",
       "70  https://www.antofagastanoticias.cl/2022/02/19/...   \n",
       "73  https://www.antofagastanoticias.cl/2022/02/12/...   \n",
       "76  https://www.antofagastanoticias.cl/2022/02/09/...   \n",
       "79  https://www.antofagastanoticias.cl/2022/02/09/...   \n",
       "82  https://www.antofagastanoticias.cl/2022/02/07/...   \n",
       "85  https://www.antofagastanoticias.cl/2022/02/07/...   \n",
       "88  https://www.antofagastanoticias.cl/2022/02/07/...   \n",
       "\n",
       "                                                title  \\\n",
       "0   Festival Puerto de Ideas tendrá como important...   \n",
       "4   Taltal y su memoria colectiva para enfrentar c...   \n",
       "7   CChC Antofagasta lanzó segunda versión de prog...   \n",
       "10  Avanza proyecto de nuevo Liceo Politécnico de ...   \n",
       "13  Municipalidad de Tocopilla reclama ante Primer...   \n",
       "16  Más de cien mujeres aprenden telar mapuche, al...   \n",
       "19  Alianza entre Puerto Antofagasta y Cuerpo de B...   \n",
       "22  En el Día Internacional de la Mujer CChC Antof...   \n",
       "25  Gobernador Díaz se trasladó hasta Mejillones p...   \n",
       "28  Gobernador Díaz visitó centro penitenciario fe...   \n",
       "61  Se inicia nuevo programa de capacitación en la...   \n",
       "64  Con energía solar Conchi Viejo iluminó el pueb...   \n",
       "67  600 kilos de basura se retiraron del operativo...   \n",
       "70  Reunión de emergencia entre el gobernador regi...   \n",
       "73  Niños y niñas del Campamento Alto La Negra vis...   \n",
       "76  Acciones articuladas para aumentar la segurida...   \n",
       "79  Reclamación contra proyecto de loteo en Calama...   \n",
       "82  Municipio se reúne convecinos de La Chimba afe...   \n",
       "85  San Francisco de Chiu Chiu, puerta de entrada ...   \n",
       "88  Letras volumétricas de Quillagua rescatan el v...   \n",
       "\n",
       "                                              content  \n",
       "0   El festival de ciencia y tecnología vuelve est...  \n",
       "4   Hace siete años, Taltal vivió uno de los event...  \n",
       "7   “Construyendo Mujer Antofagasta” es la iniciat...  \n",
       "10  Comunidad educativa conoció detalles del proye...  \n",
       "13  La multa, cercana a los 19 millones de pesos, ...  \n",
       "16  Según la cultura mapuche, la mujer se transfor...  \n",
       "19  La actividad contó con la participación de las...  \n",
       "22  Presidenta del gremio conmemoró el 8 de Marzo ...  \n",
       "25  Alcalde, Marcelino Carvajal, asegura que el Mi...  \n",
       "28  Encuentro con las internas se enmarcó en la ac...  \n",
       "61  En dos emotivas ceremonias realizadas frente a...  \n",
       "64  El poblado cuenta hoy con diecinueve luminaria...  \n",
       "67  Entre 7 organizaciones y cerca de 60 voluntari...  \n",
       "70  En emergencia se encuentran las autoridades re...  \n",
       "73  Esta visita fue gestionada gracias al trabajo ...  \n",
       "76  Invertir mayores recursos para el despliegue p...  \n",
       "79  La redacción de la sentencia estará a cargo de...  \n",
       "82  Limpiezas, cierres y fiscalizaciones, fueron a...  \n",
       "85  Así el destino emergente se potencia hacia el ...  \n",
       "88  Obra de infraestructura turística potencia los...  "
      ]
     },
     "execution_count": 16,
     "metadata": {},
     "output_type": "execute_result"
    }
   ],
   "source": [
    "df"
   ]
  },
  {
   "cell_type": "code",
   "execution_count": null,
   "id": "2e565eca",
   "metadata": {},
   "outputs": [],
   "source": []
  }
 ],
 "metadata": {
  "kernelspec": {
   "display_name": "Python 3 (ipykernel)",
   "language": "python",
   "name": "python3"
  },
  "language_info": {
   "codemirror_mode": {
    "name": "ipython",
    "version": 3
   },
   "file_extension": ".py",
   "mimetype": "text/x-python",
   "name": "python",
   "nbconvert_exporter": "python",
   "pygments_lexer": "ipython3",
   "version": "3.8.10"
  }
 },
 "nbformat": 4,
 "nbformat_minor": 5
}
