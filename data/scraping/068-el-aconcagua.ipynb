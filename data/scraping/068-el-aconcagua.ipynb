{
 "cells": [
  {
   "cell_type": "code",
   "execution_count": 2,
   "id": "e42c42ef",
   "metadata": {},
   "outputs": [],
   "source": [
    "import json\n",
    "import w3lib.html\n",
    "import random\n",
    "import os\n",
    "from datetime import datetime\n",
    "import requests\n",
    "import string\n",
    "import calendar\n",
    "import html\n",
    "import locale \n",
    "from requests_html import HTMLSession\n",
    "from requests_html import HTML\n",
    "import validators\n",
    "import pandas as pd\n",
    "from tqdm.notebook import tqdm\n",
    "\n",
    "import warnings\n",
    "warnings.filterwarnings('ignore')"
   ]
  },
  {
   "cell_type": "code",
   "execution_count": 1,
   "id": "79bb0b1d",
   "metadata": {},
   "outputs": [],
   "source": [
    "URL_SEED = 'https://www.elaconcagua.cl/category/aconcagua/page/1/'\n",
    "XPATH_HREF = \"//h2[@class='entry-title']/a/@href\""
   ]
  },
  {
   "cell_type": "code",
   "execution_count": 3,
   "id": "c8a6236e",
   "metadata": {},
   "outputs": [],
   "source": [
    "class Crawler():\n",
    "    \n",
    "    USER_AGENT_LIST = [\n",
    "        \"Mozilla/5.0 (Windows NT 6.1; WOW64) AppleWebKit/537.1 (KHTML, like Gecko) Chrome/22.0.1207.1 Safari/537.1\",\n",
    "        \"Mozilla/5.0 (X11; CrOS i686 2268.111.0) AppleWebKit/536.11 (KHTML, like Gecko) Chrome/20.0.1132.57 Safari/536.11\",\n",
    "        \"Mozilla/5.0 (Windows NT 6.1; WOW64) AppleWebKit/536.6 (KHTML, like Gecko) Chrome/20.0.1092.0 Safari/536.6\",\n",
    "        \"Mozilla/5.0 (Windows NT 6.2) AppleWebKit/536.6 (KHTML, like Gecko) Chrome/20.0.1090.0 Safari/536.6\",\n",
    "        \"Mozilla/5.0 (Windows NT 6.2; WOW64) AppleWebKit/537.1 (KHTML, like Gecko) Chrome/19.77.34.5 Safari/537.1\",\n",
    "        \"Mozilla/5.0 (X11; Linux x86_64) AppleWebKit/536.5 (KHTML, like Gecko) Chrome/19.0.1084.9 Safari/536.5\",\n",
    "        \"Mozilla/5.0 (Windows NT 6.0) AppleWebKit/536.5 (KHTML, like Gecko) Chrome/19.0.1084.36 Safari/536.5\",\n",
    "        \"Mozilla/5.0 (Windows NT 6.1; WOW64) AppleWebKit/536.3 (KHTML, like Gecko) Chrome/19.0.1063.0 Safari/536.3\",\n",
    "        \"Mozilla/5.0 (Windows NT 5.1) AppleWebKit/536.3 (KHTML, like Gecko) Chrome/19.0.1063.0 Safari/536.3\",\n",
    "        \"Mozilla/5.0 (Macintosh; Intel Mac OS X 10_8_0) AppleWebKit/536.3 (KHTML, like Gecko) Chrome/19.0.1063.0 Safari/536.3\",\n",
    "        \"Mozilla/5.0 (Windows NT 6.2) AppleWebKit/536.3 (KHTML, like Gecko) Chrome/19.0.1062.0 Safari/536.3\",\n",
    "        \"Mozilla/5.0 (Windows NT 6.1; WOW64) AppleWebKit/536.3 (KHTML, like Gecko) Chrome/19.0.1062.0 Safari/536.3\",\n",
    "        \"Mozilla/5.0 (Windows NT 6.2) AppleWebKit/536.3 (KHTML, like Gecko) Chrome/19.0.1061.1 Safari/536.3\",\n",
    "        \"Mozilla/5.0 (Windows NT 6.1; WOW64) AppleWebKit/536.3 (KHTML, like Gecko) Chrome/19.0.1061.1 Safari/536.3\",\n",
    "        \"Mozilla/5.0 (Windows NT 6.1) AppleWebKit/536.3 (KHTML, like Gecko) Chrome/19.0.1061.1 Safari/536.3\",\n",
    "        \"Mozilla/5.0 (Windows NT 6.2) AppleWebKit/536.3 (KHTML, like Gecko) Chrome/19.0.1061.0 Safari/536.3\",\n",
    "        \"Mozilla/5.0 (X11; Linux x86_64) AppleWebKit/535.24 (KHTML, like Gecko) Chrome/19.0.1055.1 Safari/535.24\",\n",
    "        \"Mozilla/5.0 (Windows NT 6.2; WOW64) AppleWebKit/535.24 (KHTML, like Gecko) Chrome/19.0.1055.1 Safari/535.24\"\n",
    "    ]\n",
    "\n",
    "    #Ruta XPATH hacia los enlaces que queremos recopilar\n",
    "    xpath_href=XPATH_HREF\n",
    "\n",
    "    #variable que permite listar todos los enlaces recopilado\n",
    "    url_list = []\n",
    "    \n",
    "    def _init_(self, URL_SEED, XPATH_HREF):        \n",
    "        pass\n",
    "\n",
    "    \n",
    "    def get(self,url):\n",
    "        session = HTMLSession()\n",
    "        header = dict()\n",
    "        header['user-agent'] = random.choice(self.USER_AGENT_LIST)\n",
    "        response = session.get(url,headers=header)        \n",
    "        return response\n",
    "    \n",
    "    def parse(self, response):\n",
    "        self.url_list = []\n",
    "        urls = response.html.xpath(self.xpath_href)\n",
    "        for url in urls:\n",
    "            self.url_list.append(url)\n"
   ]
  },
  {
   "cell_type": "code",
   "execution_count": 4,
   "id": "e016daec",
   "metadata": {
    "scrolled": true
   },
   "outputs": [
    {
     "data": {
      "application/vnd.jupyter.widget-view+json": {
       "model_id": "c2eb30484f0649498009ebb524ff1c32",
       "version_major": 2,
       "version_minor": 0
      },
      "text/plain": [
       "  0%|          | 0/3 [00:00<?, ?it/s]"
      ]
     },
     "metadata": {},
     "output_type": "display_data"
    },
    {
     "data": {
      "text/plain": [
       "['https://www.elaconcagua.cl/2022/04/08/bomberos-de-san-felipe-retoman-proyecto-de-construccion-de-nuevo-cuartel-en-avenida-miraflores/',\n",
       " 'https://www.elaconcagua.cl/2022/04/08/un-21-aumentaron-postulaciones-de-estudiantes-a-beca-de-educacion-superior-de-la-municipalidad-de-los-andes/',\n",
       " 'https://www.elaconcagua.cl/2022/04/08/delincuentes-destrozan-caja-fuerte-de-automotora-kovacs-en-san-felipe-para-llevarse-botin-de-70-millones/',\n",
       " 'https://www.elaconcagua.cl/2022/04/08/delincuentes-se-llevaron-a-pulso-caja-fuerte-de-oficinas-del-cementerio-parque-almendral-en-san-felipe/',\n",
       " 'https://www.elaconcagua.cl/2022/04/07/vecinos-de-las-vegas-en-llay-llay-exigen-medidas-de-seguridad-vial-para-apertura-de-camino-el-molino/',\n",
       " 'https://www.elaconcagua.cl/2022/04/06/diputada-bello-firma-carta-apoyando-creacion-de-la-region-de-aconcagua-que-sera-presentada-en-la-convencion/',\n",
       " 'https://www.elaconcagua.cl/2022/04/06/los-andes-fomenta-la-actividad-fisica-a-traves-de-24-plazas-activas/',\n",
       " 'https://www.elaconcagua.cl/2022/04/05/conaf-extiende-hasta-el-30-de-abril-prohibicion-de-realizar-quemas-agricolas-y-forestales-en-la-region/',\n",
       " 'https://www.elaconcagua.cl/2022/04/05/municipio-de-putaendo-parte-con-levantamiento-de-informacion-para-elaborar-primera-consulta-ciudadana-vinculante/',\n",
       " 'https://www.elaconcagua.cl/2022/04/04/sindicato-unificado-de-trabajadores-de-la-division-andina-tiene-nueva-directiva/',\n",
       " 'https://www.elaconcagua.cl/2022/04/08/bomberos-de-san-felipe-retoman-proyecto-de-construccion-de-nuevo-cuartel-en-avenida-miraflores/',\n",
       " 'https://www.elaconcagua.cl/2022/04/08/un-21-aumentaron-postulaciones-de-estudiantes-a-beca-de-educacion-superior-de-la-municipalidad-de-los-andes/',\n",
       " 'https://www.elaconcagua.cl/2022/04/08/delincuentes-destrozan-caja-fuerte-de-automotora-kovacs-en-san-felipe-para-llevarse-botin-de-70-millones/',\n",
       " 'https://www.elaconcagua.cl/2022/04/08/delincuentes-se-llevaron-a-pulso-caja-fuerte-de-oficinas-del-cementerio-parque-almendral-en-san-felipe/',\n",
       " 'https://www.elaconcagua.cl/2022/04/07/vecinos-de-las-vegas-en-llay-llay-exigen-medidas-de-seguridad-vial-para-apertura-de-camino-el-molino/',\n",
       " 'https://www.elaconcagua.cl/2022/04/06/diputada-bello-firma-carta-apoyando-creacion-de-la-region-de-aconcagua-que-sera-presentada-en-la-convencion/',\n",
       " 'https://www.elaconcagua.cl/2022/04/06/los-andes-fomenta-la-actividad-fisica-a-traves-de-24-plazas-activas/',\n",
       " 'https://www.elaconcagua.cl/2022/04/05/conaf-extiende-hasta-el-30-de-abril-prohibicion-de-realizar-quemas-agricolas-y-forestales-en-la-region/',\n",
       " 'https://www.elaconcagua.cl/2022/04/05/municipio-de-putaendo-parte-con-levantamiento-de-informacion-para-elaborar-primera-consulta-ciudadana-vinculante/',\n",
       " 'https://www.elaconcagua.cl/2022/04/04/sindicato-unificado-de-trabajadores-de-la-division-andina-tiene-nueva-directiva/',\n",
       " 'https://www.elaconcagua.cl/2022/04/04/en-los-andes-con-diversas-acciones-se-visibilizo-el-trastorno-del-espectro-autista/',\n",
       " 'https://www.elaconcagua.cl/2022/04/04/calle-larga-y-union-san-felipe-renovaron-convenio-para-potenciar-futbol-femenino/',\n",
       " 'https://www.elaconcagua.cl/2022/04/04/daem-de-panquehue-prepara-intervencion-en-colegios-para-frenar-problemas-de-convivencia-estudiantil/',\n",
       " 'https://www.elaconcagua.cl/2022/04/03/en-los-andes-condenan-a-ciudadano-peruano-a-12-anos-de-carcel-por-violacion-y-abuso-reiterado-de-menor-de-14-anos/',\n",
       " 'https://www.elaconcagua.cl/2022/04/01/esval-nuevamente-es-reconocida-dentro-las-15-mejores-empresas-para-trabajar-en-chile/',\n",
       " 'https://www.elaconcagua.cl/2022/04/01/municipio-y-comercio-local-de-los-andes-conmemorar-dia-mundial-de-la-concienciacion-del-autismo/',\n",
       " 'https://www.elaconcagua.cl/2022/04/01/carabineros-de-llay-llay-en-domicilio-de-la-poblacion-el-salitre-incauta-13-armas-de-fuego-municiones-y-drogas/',\n",
       " 'https://www.elaconcagua.cl/2022/04/01/panquehue-implementa-aplicacion-lectora-de-patentes-vehiculares/',\n",
       " 'https://www.elaconcagua.cl/2022/04/01/alumnos-del-liceo-roberto-humeres-de-san-felipe-asesoraran-a-contribuyentes-para-la-operacion-renta-2022/',\n",
       " 'https://www.elaconcagua.cl/2022/03/31/por-aumento-del-69-por-ciento-de-los-delitos-en-san-felipe-delegada-presidencial-anuncia-trabajo-conjunto-con-carabineros-para-mejorar-seguridad-en-la-provincia/']"
      ]
     },
     "execution_count": 4,
     "metadata": {},
     "output_type": "execute_result"
    }
   ],
   "source": [
    "urls=[]\n",
    "\n",
    "for page in tqdm(range(3)): # revisemos sólo 2 páginas\n",
    "    crawler = Crawler()\n",
    "    response = crawler.get('https://www.elaconcagua.cl/category/aconcagua/page/'+str(page))\n",
    "    crawler.parse(response)\n",
    "\n",
    "    \n",
    "    for url in crawler.url_list:\n",
    "        urls.append(url)\n",
    "\n",
    "    crawler.url_list = urls\n",
    "    \n",
    "crawler.url_list"
   ]
  },
  {
   "cell_type": "code",
   "execution_count": 5,
   "id": "e6099483",
   "metadata": {},
   "outputs": [
    {
     "data": {
      "text/plain": [
       "30"
      ]
     },
     "execution_count": 5,
     "metadata": {},
     "output_type": "execute_result"
    }
   ],
   "source": [
    "len(urls)"
   ]
  },
  {
   "cell_type": "code",
   "execution_count": 6,
   "id": "928cdb23",
   "metadata": {},
   "outputs": [
    {
     "data": {
      "text/plain": [
       "'https://www.elaconcagua.cl/2022/04/08/bomberos-de-san-felipe-retoman-proyecto-de-construccion-de-nuevo-cuartel-en-avenida-miraflores/'"
      ]
     },
     "execution_count": 6,
     "metadata": {},
     "output_type": "execute_result"
    }
   ],
   "source": [
    "urls[0]"
   ]
  },
  {
   "cell_type": "code",
   "execution_count": null,
   "id": "f8c2d5b1",
   "metadata": {},
   "outputs": [],
   "source": []
  },
  {
   "cell_type": "code",
   "execution_count": 7,
   "id": "d446e5df",
   "metadata": {},
   "outputs": [],
   "source": [
    "URL_NEWS = urls[0]\n",
    "XPATH_TITLE = \"//h1[@class='entry-title']\"\n",
    "XPATH_CONTENT =\"//div[@class='entry-content clearfix']//p\""
   ]
  },
  {
   "cell_type": "code",
   "execution_count": 8,
   "id": "fcc5edaf",
   "metadata": {},
   "outputs": [],
   "source": [
    "class Scraper:\n",
    "    \n",
    "    USER_AGENT_LIST = [\n",
    "        \"Mozilla/5.0 (Windows NT 6.1; WOW64) AppleWebKit/537.1 (KHTML, like Gecko) Chrome/22.0.1207.1 Safari/537.1\",\n",
    "        \"Mozilla/5.0 (X11; CrOS i686 2268.111.0) AppleWebKit/536.11 (KHTML, like Gecko) Chrome/20.0.1132.57 Safari/536.11\",\n",
    "        \"Mozilla/5.0 (Windows NT 6.1; WOW64) AppleWebKit/536.6 (KHTML, like Gecko) Chrome/20.0.1092.0 Safari/536.6\",\n",
    "        \"Mozilla/5.0 (Windows NT 6.2) AppleWebKit/536.6 (KHTML, like Gecko) Chrome/20.0.1090.0 Safari/536.6\",\n",
    "        \"Mozilla/5.0 (Windows NT 6.2; WOW64) AppleWebKit/537.1 (KHTML, like Gecko) Chrome/19.77.34.5 Safari/537.1\",\n",
    "        \"Mozilla/5.0 (X11; Linux x86_64) AppleWebKit/536.5 (KHTML, like Gecko) Chrome/19.0.1084.9 Safari/536.5\",\n",
    "        \"Mozilla/5.0 (Windows NT 6.0) AppleWebKit/536.5 (KHTML, like Gecko) Chrome/19.0.1084.36 Safari/536.5\",\n",
    "        \"Mozilla/5.0 (Windows NT 6.1; WOW64) AppleWebKit/536.3 (KHTML, like Gecko) Chrome/19.0.1063.0 Safari/536.3\",\n",
    "        \"Mozilla/5.0 (Windows NT 5.1) AppleWebKit/536.3 (KHTML, like Gecko) Chrome/19.0.1063.0 Safari/536.3\",\n",
    "        \"Mozilla/5.0 (Macintosh; Intel Mac OS X 10_8_0) AppleWebKit/536.3 (KHTML, like Gecko) Chrome/19.0.1063.0 Safari/536.3\",\n",
    "        \"Mozilla/5.0 (Windows NT 6.2) AppleWebKit/536.3 (KHTML, like Gecko) Chrome/19.0.1062.0 Safari/536.3\",\n",
    "        \"Mozilla/5.0 (Windows NT 6.1; WOW64) AppleWebKit/536.3 (KHTML, like Gecko) Chrome/19.0.1062.0 Safari/536.3\",\n",
    "        \"Mozilla/5.0 (Windows NT 6.2) AppleWebKit/536.3 (KHTML, like Gecko) Chrome/19.0.1061.1 Safari/536.3\",\n",
    "        \"Mozilla/5.0 (Windows NT 6.1; WOW64) AppleWebKit/536.3 (KHTML, like Gecko) Chrome/19.0.1061.1 Safari/536.3\",\n",
    "        \"Mozilla/5.0 (Windows NT 6.1) AppleWebKit/536.3 (KHTML, like Gecko) Chrome/19.0.1061.1 Safari/536.3\",\n",
    "        \"Mozilla/5.0 (Windows NT 6.2) AppleWebKit/536.3 (KHTML, like Gecko) Chrome/19.0.1061.0 Safari/536.3\",\n",
    "        \"Mozilla/5.0 (X11; Linux x86_64) AppleWebKit/535.24 (KHTML, like Gecko) Chrome/19.0.1055.1 Safari/535.24\",\n",
    "        \"Mozilla/5.0 (Windows NT 6.2; WOW64) AppleWebKit/535.24 (KHTML, like Gecko) Chrome/19.0.1055.1 Safari/535.24\"\n",
    "    ]\n",
    "\n",
    "    query_extract_title = XPATH_TITLE\n",
    "    query_extract_text =  XPATH_CONTENT\n",
    "\n",
    "    def _init_(self):\n",
    "        pass\n",
    "   \n",
    "    def get(self,url):\n",
    "        headers = {'user-agent':random.choice(self.USER_AGENT_LIST) }\n",
    "        session = HTMLSession()\n",
    "        response = session.get(url,headers=headers) \n",
    "        return response\n",
    "    \n",
    "    def clean_text(self, html_text):\n",
    "        text_without_tags = w3lib.html.remove_tags(html_text)\n",
    "        text_without_escape_chars = w3lib.html.replace_escape_chars(text_without_tags)\n",
    "        text_without_escape_chars = html.unescape(text_without_escape_chars)\n",
    "        text_without_whitespace = text_without_escape_chars.strip()\n",
    "        return text_without_whitespace\n",
    "\n",
    "    \n",
    "    #### main function ####\n",
    "    def parse(self, response):\n",
    "        \n",
    "        #URL\n",
    "        self.news_url = response.url\n",
    "        \n",
    "        #TITLE\n",
    "        self.news_title = response.html.xpath(self.query_extract_title)[0].text\n",
    "        self.news_title = self.clean_text(self.news_title)\n",
    "       \n",
    "        \n",
    "        #CONTENT\n",
    "        self.news_text = \"\"\n",
    "        \n",
    "        html_paragraphs = response.html.xpath(self.query_extract_text)\n",
    "        \n",
    "        for paragraph in html_paragraphs:\n",
    "            paragraph_content = w3lib.html.remove_tags(paragraph.text)    \n",
    "            text_cleaned = self.clean_text(paragraph_content)\n",
    "            self.news_text = self.news_text+text_cleaned\n"
   ]
  },
  {
   "cell_type": "code",
   "execution_count": 9,
   "id": "d9482704",
   "metadata": {},
   "outputs": [],
   "source": [
    "scraper = Scraper()\n",
    "response =scraper.get(URL_NEWS)"
   ]
  },
  {
   "cell_type": "code",
   "execution_count": 10,
   "id": "d72bc32e",
   "metadata": {},
   "outputs": [],
   "source": [
    "scraper.parse(response)"
   ]
  },
  {
   "cell_type": "code",
   "execution_count": 11,
   "id": "a2e4d401",
   "metadata": {},
   "outputs": [
    {
     "data": {
      "text/plain": [
       "'Bomberos de San Felipe retoman proyecto de construcción de nuevo cuartel en avenida Miraflores'"
      ]
     },
     "execution_count": 11,
     "metadata": {},
     "output_type": "execute_result"
    }
   ],
   "source": [
    "scraper.news_title"
   ]
  },
  {
   "cell_type": "code",
   "execution_count": 12,
   "id": "162264db",
   "metadata": {},
   "outputs": [
    {
     "data": {
      "text/plain": [
       "'En el marco de reunión sostenida con la alcaldesa Carmen Castillo, el Directorio del Cuerpo de Bomberos de San Felipe pidió apoyo técnico a la Municipalidad para retomar proyecto de construcción de un nuevo cuartel para la Primera Compañía en la avenida Miraflores, en terreno cedido por Bienes Nacionales en el Club Aéreo Víctor Lafón.Como satisfactoria y esperanzadora, calificó el Superintendente del Cuerpo de Bomberos de San Felipe, David Guajardo Sandoval, la reunión sostenida el pasado martes con la alcaldesa Carmen Castillo Taucher y su equipo profesional, que tuvo como objetivo analizar el estado actual del proyecto de construcción del nuevo cuartel para la Primera Compañía, que por un tema logístico y práctico busca dejar las dependencias del cuartel central en calle Merced, frente a la plaza de armas.Guajardo, dijo que la institución pudo conocer cuáles son las acciones que se están llevando a cabo para concretar el proyecto y, a la vez, definir cuáles son los pasos a seguir para cumplir con este requerimiento; “ha sido una reunión muy fructífera, donde hemos podido sacar adelante este proyecto sin observaciones y esperemos que todo salga bien, porque esta es una necesidad, poder sacar la Primera Compañía del centro de San Felipe, por la cantidad de vehículos que hay en la comuna y para salir a una emergencia son minutos importantes que se pierden”, expuso el Superintendente.La alcaldesa Carmen Castillo validó la necesidad de contar con un nuevo emplazamiento para la Primera Compañía de Bomberos, ante lo cual se comprometió a trabajar rápidamente en la actualización de todos los antecedentes técnicos para poder postular el proyecto a fondos regionales y darle prioridad a su construcción.En relación a dónde finalmente podría quedar ubicado el nuevo cuartel, la doctora sostuvo que “confiamos en que la Primera Compañía va a quedar emplazada en el lugar que se escogió como primera alternativa, en Miraflores al lado del aeródromo Víctor Lafón”.'"
      ]
     },
     "execution_count": 12,
     "metadata": {},
     "output_type": "execute_result"
    }
   ],
   "source": [
    "scraper.news_text"
   ]
  },
  {
   "cell_type": "code",
   "execution_count": 13,
   "id": "a455d5d3",
   "metadata": {},
   "outputs": [],
   "source": [
    "#Verificamos que el scraper devuelve algo\n",
    "assert(len(scraper.news_title)>0)\n",
    "assert(len(scraper.news_text)>0)"
   ]
  },
  {
   "cell_type": "code",
   "execution_count": 14,
   "id": "524ce41b",
   "metadata": {},
   "outputs": [
    {
     "data": {
      "text/html": [
       "<div>\n",
       "<style scoped>\n",
       "    .dataframe tbody tr th:only-of-type {\n",
       "        vertical-align: middle;\n",
       "    }\n",
       "\n",
       "    .dataframe tbody tr th {\n",
       "        vertical-align: top;\n",
       "    }\n",
       "\n",
       "    .dataframe thead th {\n",
       "        text-align: right;\n",
       "    }\n",
       "</style>\n",
       "<table border=\"1\" class=\"dataframe\">\n",
       "  <thead>\n",
       "    <tr style=\"text-align: right;\">\n",
       "      <th></th>\n",
       "      <th>url</th>\n",
       "      <th>title</th>\n",
       "      <th>content</th>\n",
       "    </tr>\n",
       "  </thead>\n",
       "  <tbody>\n",
       "    <tr>\n",
       "      <th>0</th>\n",
       "      <td>https://www.elaconcagua.cl/2022/04/08/bomberos...</td>\n",
       "      <td>Bomberos de San Felipe retoman proyecto de con...</td>\n",
       "      <td>En el marco de reunión sostenida con la alcald...</td>\n",
       "    </tr>\n",
       "  </tbody>\n",
       "</table>\n",
       "</div>"
      ],
      "text/plain": [
       "                                                 url  \\\n",
       "0  https://www.elaconcagua.cl/2022/04/08/bomberos...   \n",
       "\n",
       "                                               title  \\\n",
       "0  Bomberos de San Felipe retoman proyecto de con...   \n",
       "\n",
       "                                             content  \n",
       "0  En el marco de reunión sostenida con la alcald...  "
      ]
     },
     "execution_count": 14,
     "metadata": {},
     "output_type": "execute_result"
    }
   ],
   "source": [
    "df = pd.DataFrame(data={'url': [URL_NEWS],'title':[scraper.news_title], 'content':[scraper.news_text]})\n",
    "df"
   ]
  },
  {
   "cell_type": "code",
   "execution_count": 15,
   "id": "267a48c8",
   "metadata": {},
   "outputs": [
    {
     "data": {
      "application/vnd.jupyter.widget-view+json": {
       "model_id": "13b36275982b41dda167945266a20231",
       "version_major": 2,
       "version_minor": 0
      },
      "text/plain": [
       "  0%|          | 0/30 [00:00<?, ?it/s]"
      ]
     },
     "metadata": {},
     "output_type": "display_data"
    }
   ],
   "source": [
    "XPATH_TITLE = \"//h1[@class='entry-title']\"\n",
    "XPATH_CONTENT =\"//div[@class='entry-content clearfix']//p\"\n",
    "\n",
    "for url in tqdm(urls):\n",
    "    URL_NEWS = url\n",
    "    scraper = Scraper()\n",
    "    response =scraper.get(URL_NEWS)\n",
    "    scraper.parse(response)\n",
    "    df1 = pd.DataFrame(data={'url': url, 'title':scraper.news_title, 'content':scraper.news_text},index=['url', 'title', 'content'])\n",
    "    df = df.append(df1, ignore_index=True)\n",
    "df = df.drop_duplicates()\n"
   ]
  },
  {
   "cell_type": "code",
   "execution_count": 16,
   "id": "e9c55424",
   "metadata": {},
   "outputs": [
    {
     "data": {
      "text/html": [
       "<div>\n",
       "<style scoped>\n",
       "    .dataframe tbody tr th:only-of-type {\n",
       "        vertical-align: middle;\n",
       "    }\n",
       "\n",
       "    .dataframe tbody tr th {\n",
       "        vertical-align: top;\n",
       "    }\n",
       "\n",
       "    .dataframe thead th {\n",
       "        text-align: right;\n",
       "    }\n",
       "</style>\n",
       "<table border=\"1\" class=\"dataframe\">\n",
       "  <thead>\n",
       "    <tr style=\"text-align: right;\">\n",
       "      <th></th>\n",
       "      <th>url</th>\n",
       "      <th>title</th>\n",
       "      <th>content</th>\n",
       "    </tr>\n",
       "  </thead>\n",
       "  <tbody>\n",
       "    <tr>\n",
       "      <th>0</th>\n",
       "      <td>https://www.elaconcagua.cl/2022/04/08/bomberos...</td>\n",
       "      <td>Bomberos de San Felipe retoman proyecto de con...</td>\n",
       "      <td>En el marco de reunión sostenida con la alcald...</td>\n",
       "    </tr>\n",
       "    <tr>\n",
       "      <th>4</th>\n",
       "      <td>https://www.elaconcagua.cl/2022/04/08/un-21-au...</td>\n",
       "      <td>Un 21% aumentaron postulaciones de estudiantes...</td>\n",
       "      <td>Tras el cierre del plazo de postulaciones el p...</td>\n",
       "    </tr>\n",
       "    <tr>\n",
       "      <th>7</th>\n",
       "      <td>https://www.elaconcagua.cl/2022/04/08/delincue...</td>\n",
       "      <td>Delincuentes “destrozan” caja fuerte de automo...</td>\n",
       "      <td>Delincuentes que premunidos de armas de fuego ...</td>\n",
       "    </tr>\n",
       "    <tr>\n",
       "      <th>10</th>\n",
       "      <td>https://www.elaconcagua.cl/2022/04/08/delincue...</td>\n",
       "      <td>Delincuentes se llevaron a pulso caja fuerte d...</td>\n",
       "      <td>A lo menos cinco delincuentes luego de cortar ...</td>\n",
       "    </tr>\n",
       "    <tr>\n",
       "      <th>13</th>\n",
       "      <td>https://www.elaconcagua.cl/2022/04/07/vecinos-...</td>\n",
       "      <td>Vecinos de Las Vegas en Llay Llay exigen medid...</td>\n",
       "      <td>Unos seis meses más podría demorar la apertura...</td>\n",
       "    </tr>\n",
       "    <tr>\n",
       "      <th>16</th>\n",
       "      <td>https://www.elaconcagua.cl/2022/04/06/diputada...</td>\n",
       "      <td>Diputada Bello firma carta apoyando creación d...</td>\n",
       "      <td>Tras ser aprobada en general y particular en l...</td>\n",
       "    </tr>\n",
       "    <tr>\n",
       "      <th>19</th>\n",
       "      <td>https://www.elaconcagua.cl/2022/04/06/los-ande...</td>\n",
       "      <td>Los Andes fomenta la actividad física a través...</td>\n",
       "      <td>La Corporación de Deportes de la Municipalidad...</td>\n",
       "    </tr>\n",
       "    <tr>\n",
       "      <th>22</th>\n",
       "      <td>https://www.elaconcagua.cl/2022/04/05/conaf-ex...</td>\n",
       "      <td>Conaf extiende hasta el 30 de abril prohibició...</td>\n",
       "      <td>Con el propósito de prevenir posibles incendio...</td>\n",
       "    </tr>\n",
       "    <tr>\n",
       "      <th>25</th>\n",
       "      <td>https://www.elaconcagua.cl/2022/04/05/municipi...</td>\n",
       "      <td>Municipio de Putaendo parte con “levantamiento...</td>\n",
       "      <td>El sábado 9 de abril serán cerca de 60 encuest...</td>\n",
       "    </tr>\n",
       "    <tr>\n",
       "      <th>28</th>\n",
       "      <td>https://www.elaconcagua.cl/2022/04/04/sindicat...</td>\n",
       "      <td>Sindicato Unificado de Trabajadores de la Divi...</td>\n",
       "      <td>El  pasado viernes 1 de abril, el Sindicato Un...</td>\n",
       "    </tr>\n",
       "    <tr>\n",
       "      <th>61</th>\n",
       "      <td>https://www.elaconcagua.cl/2022/04/04/en-los-a...</td>\n",
       "      <td>En Los Andes con diversas acciones se visibili...</td>\n",
       "      <td>En el marco de la celebración del Día Mundial ...</td>\n",
       "    </tr>\n",
       "    <tr>\n",
       "      <th>64</th>\n",
       "      <td>https://www.elaconcagua.cl/2022/04/04/calle-la...</td>\n",
       "      <td>Calle Larga y Unión San Felipe renovaron conve...</td>\n",
       "      <td>Como la meta de continuar potenciando el depor...</td>\n",
       "    </tr>\n",
       "    <tr>\n",
       "      <th>67</th>\n",
       "      <td>https://www.elaconcagua.cl/2022/04/04/daem-de-...</td>\n",
       "      <td>DAEM de Panquehue prepara intervención en cole...</td>\n",
       "      <td>La realización de jornada de trabajo, que incl...</td>\n",
       "    </tr>\n",
       "    <tr>\n",
       "      <th>70</th>\n",
       "      <td>https://www.elaconcagua.cl/2022/04/03/en-los-a...</td>\n",
       "      <td>En Los Andes condenan a ciudadano peruano a 12...</td>\n",
       "      <td>El Tribunal Oral en Lo Penal de Los Andes cond...</td>\n",
       "    </tr>\n",
       "    <tr>\n",
       "      <th>73</th>\n",
       "      <td>https://www.elaconcagua.cl/2022/04/01/esval-nu...</td>\n",
       "      <td>Esval nuevamente es reconocida dentro las 15 m...</td>\n",
       "      <td>Por segundo año consecutivo, Esval y su filial...</td>\n",
       "    </tr>\n",
       "    <tr>\n",
       "      <th>76</th>\n",
       "      <td>https://www.elaconcagua.cl/2022/04/01/municipi...</td>\n",
       "      <td>Municipio y comercio local de Los Andes conmem...</td>\n",
       "      <td>La Municipalidad de Los Andes junto al comerci...</td>\n",
       "    </tr>\n",
       "    <tr>\n",
       "      <th>79</th>\n",
       "      <td>https://www.elaconcagua.cl/2022/04/01/carabine...</td>\n",
       "      <td>Carabineros de Llay Llay en domicilio de la po...</td>\n",
       "      <td>Carabineros de la Subcomisaría de Llay Llay en...</td>\n",
       "    </tr>\n",
       "    <tr>\n",
       "      <th>82</th>\n",
       "      <td>https://www.elaconcagua.cl/2022/04/01/panquehu...</td>\n",
       "      <td>Panquehue implementa aplicación lectora de pat...</td>\n",
       "      <td>Con la firma de convenio entre la Municipalida...</td>\n",
       "    </tr>\n",
       "    <tr>\n",
       "      <th>85</th>\n",
       "      <td>https://www.elaconcagua.cl/2022/04/01/alumnos-...</td>\n",
       "      <td>Alumnos del Liceo Roberto Humeres de San Felip...</td>\n",
       "      <td>Estudiantes de tercero y cuarto medio, de las ...</td>\n",
       "    </tr>\n",
       "    <tr>\n",
       "      <th>88</th>\n",
       "      <td>https://www.elaconcagua.cl/2022/03/31/por-aume...</td>\n",
       "      <td>Por aumento del 6,9 por ciento de los delitos ...</td>\n",
       "      <td>Al abordar el tema de seguridad como un tema q...</td>\n",
       "    </tr>\n",
       "  </tbody>\n",
       "</table>\n",
       "</div>"
      ],
      "text/plain": [
       "                                                  url  \\\n",
       "0   https://www.elaconcagua.cl/2022/04/08/bomberos...   \n",
       "4   https://www.elaconcagua.cl/2022/04/08/un-21-au...   \n",
       "7   https://www.elaconcagua.cl/2022/04/08/delincue...   \n",
       "10  https://www.elaconcagua.cl/2022/04/08/delincue...   \n",
       "13  https://www.elaconcagua.cl/2022/04/07/vecinos-...   \n",
       "16  https://www.elaconcagua.cl/2022/04/06/diputada...   \n",
       "19  https://www.elaconcagua.cl/2022/04/06/los-ande...   \n",
       "22  https://www.elaconcagua.cl/2022/04/05/conaf-ex...   \n",
       "25  https://www.elaconcagua.cl/2022/04/05/municipi...   \n",
       "28  https://www.elaconcagua.cl/2022/04/04/sindicat...   \n",
       "61  https://www.elaconcagua.cl/2022/04/04/en-los-a...   \n",
       "64  https://www.elaconcagua.cl/2022/04/04/calle-la...   \n",
       "67  https://www.elaconcagua.cl/2022/04/04/daem-de-...   \n",
       "70  https://www.elaconcagua.cl/2022/04/03/en-los-a...   \n",
       "73  https://www.elaconcagua.cl/2022/04/01/esval-nu...   \n",
       "76  https://www.elaconcagua.cl/2022/04/01/municipi...   \n",
       "79  https://www.elaconcagua.cl/2022/04/01/carabine...   \n",
       "82  https://www.elaconcagua.cl/2022/04/01/panquehu...   \n",
       "85  https://www.elaconcagua.cl/2022/04/01/alumnos-...   \n",
       "88  https://www.elaconcagua.cl/2022/03/31/por-aume...   \n",
       "\n",
       "                                                title  \\\n",
       "0   Bomberos de San Felipe retoman proyecto de con...   \n",
       "4   Un 21% aumentaron postulaciones de estudiantes...   \n",
       "7   Delincuentes “destrozan” caja fuerte de automo...   \n",
       "10  Delincuentes se llevaron a pulso caja fuerte d...   \n",
       "13  Vecinos de Las Vegas en Llay Llay exigen medid...   \n",
       "16  Diputada Bello firma carta apoyando creación d...   \n",
       "19  Los Andes fomenta la actividad física a través...   \n",
       "22  Conaf extiende hasta el 30 de abril prohibició...   \n",
       "25  Municipio de Putaendo parte con “levantamiento...   \n",
       "28  Sindicato Unificado de Trabajadores de la Divi...   \n",
       "61  En Los Andes con diversas acciones se visibili...   \n",
       "64  Calle Larga y Unión San Felipe renovaron conve...   \n",
       "67  DAEM de Panquehue prepara intervención en cole...   \n",
       "70  En Los Andes condenan a ciudadano peruano a 12...   \n",
       "73  Esval nuevamente es reconocida dentro las 15 m...   \n",
       "76  Municipio y comercio local de Los Andes conmem...   \n",
       "79  Carabineros de Llay Llay en domicilio de la po...   \n",
       "82  Panquehue implementa aplicación lectora de pat...   \n",
       "85  Alumnos del Liceo Roberto Humeres de San Felip...   \n",
       "88  Por aumento del 6,9 por ciento de los delitos ...   \n",
       "\n",
       "                                              content  \n",
       "0   En el marco de reunión sostenida con la alcald...  \n",
       "4   Tras el cierre del plazo de postulaciones el p...  \n",
       "7   Delincuentes que premunidos de armas de fuego ...  \n",
       "10  A lo menos cinco delincuentes luego de cortar ...  \n",
       "13  Unos seis meses más podría demorar la apertura...  \n",
       "16  Tras ser aprobada en general y particular en l...  \n",
       "19  La Corporación de Deportes de la Municipalidad...  \n",
       "22  Con el propósito de prevenir posibles incendio...  \n",
       "25  El sábado 9 de abril serán cerca de 60 encuest...  \n",
       "28  El  pasado viernes 1 de abril, el Sindicato Un...  \n",
       "61  En el marco de la celebración del Día Mundial ...  \n",
       "64  Como la meta de continuar potenciando el depor...  \n",
       "67  La realización de jornada de trabajo, que incl...  \n",
       "70  El Tribunal Oral en Lo Penal de Los Andes cond...  \n",
       "73  Por segundo año consecutivo, Esval y su filial...  \n",
       "76  La Municipalidad de Los Andes junto al comerci...  \n",
       "79  Carabineros de la Subcomisaría de Llay Llay en...  \n",
       "82  Con la firma de convenio entre la Municipalida...  \n",
       "85  Estudiantes de tercero y cuarto medio, de las ...  \n",
       "88  Al abordar el tema de seguridad como un tema q...  "
      ]
     },
     "execution_count": 16,
     "metadata": {},
     "output_type": "execute_result"
    }
   ],
   "source": [
    "df"
   ]
  },
  {
   "cell_type": "code",
   "execution_count": null,
   "id": "2e565eca",
   "metadata": {},
   "outputs": [],
   "source": []
  }
 ],
 "metadata": {
  "kernelspec": {
   "display_name": "Python 3 (ipykernel)",
   "language": "python",
   "name": "python3"
  },
  "language_info": {
   "codemirror_mode": {
    "name": "ipython",
    "version": 3
   },
   "file_extension": ".py",
   "mimetype": "text/x-python",
   "name": "python",
   "nbconvert_exporter": "python",
   "pygments_lexer": "ipython3",
   "version": "3.8.10"
  }
 },
 "nbformat": 4,
 "nbformat_minor": 5
}
