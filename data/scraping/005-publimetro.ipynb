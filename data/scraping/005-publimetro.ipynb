{
 "cells": [
  {
   "cell_type": "code",
   "execution_count": 4,
   "id": "e42c42ef",
   "metadata": {},
   "outputs": [],
   "source": [
    "import json\n",
    "import w3lib.html\n",
    "import random\n",
    "import os\n",
    "from datetime import datetime\n",
    "import requests\n",
    "import string\n",
    "import calendar\n",
    "import html\n",
    "import locale \n",
    "from requests_html import HTMLSession\n",
    "from requests_html import HTML\n",
    "import validators\n",
    "import pandas as pd\n",
    "from tqdm.notebook import tqdm\n",
    "\n",
    "import warnings\n",
    "warnings.filterwarnings('ignore')"
   ]
  },
  {
   "cell_type": "markdown",
   "id": "e632e605",
   "metadata": {},
   "source": [
    "#### Publimetro no redirecciona al momento de buscar noticias de dias anteriores!!!!"
   ]
  },
  {
   "cell_type": "code",
   "execution_count": 5,
   "id": "79bb0b1d",
   "metadata": {},
   "outputs": [],
   "source": [
    "URL_SEED = 'https://www.publimetro.cl/noticias/'\n",
    "XPATH_HREF = \"//div[@class='results-list--headline-container']/a/@href\""
   ]
  },
  {
   "cell_type": "code",
   "execution_count": 6,
   "id": "c8a6236e",
   "metadata": {},
   "outputs": [],
   "source": [
    "class Crawler():\n",
    "    \n",
    "    USER_AGENT_LIST = [\n",
    "        \"Mozilla/5.0 (Windows NT 6.1; WOW64) AppleWebKit/537.1 (KHTML, like Gecko) Chrome/22.0.1207.1 Safari/537.1\",\n",
    "        \"Mozilla/5.0 (X11; CrOS i686 2268.111.0) AppleWebKit/536.11 (KHTML, like Gecko) Chrome/20.0.1132.57 Safari/536.11\",\n",
    "        \"Mozilla/5.0 (Windows NT 6.1; WOW64) AppleWebKit/536.6 (KHTML, like Gecko) Chrome/20.0.1092.0 Safari/536.6\",\n",
    "        \"Mozilla/5.0 (Windows NT 6.2) AppleWebKit/536.6 (KHTML, like Gecko) Chrome/20.0.1090.0 Safari/536.6\",\n",
    "        \"Mozilla/5.0 (Windows NT 6.2; WOW64) AppleWebKit/537.1 (KHTML, like Gecko) Chrome/19.77.34.5 Safari/537.1\",\n",
    "        \"Mozilla/5.0 (X11; Linux x86_64) AppleWebKit/536.5 (KHTML, like Gecko) Chrome/19.0.1084.9 Safari/536.5\",\n",
    "        \"Mozilla/5.0 (Windows NT 6.0) AppleWebKit/536.5 (KHTML, like Gecko) Chrome/19.0.1084.36 Safari/536.5\",\n",
    "        \"Mozilla/5.0 (Windows NT 6.1; WOW64) AppleWebKit/536.3 (KHTML, like Gecko) Chrome/19.0.1063.0 Safari/536.3\",\n",
    "        \"Mozilla/5.0 (Windows NT 5.1) AppleWebKit/536.3 (KHTML, like Gecko) Chrome/19.0.1063.0 Safari/536.3\",\n",
    "        \"Mozilla/5.0 (Macintosh; Intel Mac OS X 10_8_0) AppleWebKit/536.3 (KHTML, like Gecko) Chrome/19.0.1063.0 Safari/536.3\",\n",
    "        \"Mozilla/5.0 (Windows NT 6.2) AppleWebKit/536.3 (KHTML, like Gecko) Chrome/19.0.1062.0 Safari/536.3\",\n",
    "        \"Mozilla/5.0 (Windows NT 6.1; WOW64) AppleWebKit/536.3 (KHTML, like Gecko) Chrome/19.0.1062.0 Safari/536.3\",\n",
    "        \"Mozilla/5.0 (Windows NT 6.2) AppleWebKit/536.3 (KHTML, like Gecko) Chrome/19.0.1061.1 Safari/536.3\",\n",
    "        \"Mozilla/5.0 (Windows NT 6.1; WOW64) AppleWebKit/536.3 (KHTML, like Gecko) Chrome/19.0.1061.1 Safari/536.3\",\n",
    "        \"Mozilla/5.0 (Windows NT 6.1) AppleWebKit/536.3 (KHTML, like Gecko) Chrome/19.0.1061.1 Safari/536.3\",\n",
    "        \"Mozilla/5.0 (Windows NT 6.2) AppleWebKit/536.3 (KHTML, like Gecko) Chrome/19.0.1061.0 Safari/536.3\",\n",
    "        \"Mozilla/5.0 (X11; Linux x86_64) AppleWebKit/535.24 (KHTML, like Gecko) Chrome/19.0.1055.1 Safari/535.24\",\n",
    "        \"Mozilla/5.0 (Windows NT 6.2; WOW64) AppleWebKit/535.24 (KHTML, like Gecko) Chrome/19.0.1055.1 Safari/535.24\"\n",
    "    ]\n",
    "\n",
    "    #Ruta XPATH hacia los enlaces que queremos recopilar\n",
    "    xpath_href=XPATH_HREF\n",
    "\n",
    "    #variable que permite listar todos los enlaces recopilado\n",
    "    url_list = []\n",
    "    \n",
    "    def _init_(self, URL_SEED, XPATH_HREF):        \n",
    "        pass\n",
    "\n",
    "    \n",
    "    def get(self,url):\n",
    "        session = HTMLSession()\n",
    "        header = dict()\n",
    "        header['user-agent'] = random.choice(self.USER_AGENT_LIST)\n",
    "        response = session.get(url,headers=header)        \n",
    "        return response\n",
    "    \n",
    "    def parse(self, response):\n",
    "        self.url_list = []\n",
    "        urls = response.html.xpath(self.xpath_href)\n",
    "        for url in urls:\n",
    "            self.url_list.append(url)\n"
   ]
  },
  {
   "cell_type": "code",
   "execution_count": 8,
   "id": "e016daec",
   "metadata": {
    "scrolled": true
   },
   "outputs": [
    {
     "data": {
      "text/plain": [
       "['https://www.publimetro.cl/noticias/2022/03/27/madre-de-zamudio-llama-al-gobierno-a-endurecer-la-ley-antidiscriminacion/',\n",
       " 'https://www.publimetro.cl/noticias/2022/03/27/lo-que-no-sabias-que-necesitabas-se-inaugurara-la-primera-panaderia-popular-en-santiago/',\n",
       " 'https://www.publimetro.cl/noticias/2022/03/27/en-medio-de-la-guerra-ucrania-anuncia-el-regreso-a-clases-a-distancia/',\n",
       " 'https://www.publimetro.cl/noticias/2022/03/27/pdi-incauta-yegua-por-presunto-caso-de-maltrato-animal-en-maipu/',\n",
       " 'https://www.publimetro.cl/noticias/2022/03/27/cancilleria-confirma-la-designacion-de-barbara-figueroa-como-embajadora-de-chile-en-argentina/',\n",
       " 'https://www.publimetro.cl/noticias/2022/03/27/revelan-video-de-carabinero-atacado-durante-marcha-estudiantil/',\n",
       " 'https://www.publimetro.cl/noticias/2022/03/27/rinden-homenaje-a-victimas-de-homotransfobia-en-memorial-daniel-zamudio/',\n",
       " 'https://www.publimetro.cl/noticias/2022/03/27/le-fueron-a-cobrar-hombre-mata-a-su-prestamista-de-un-escopetazo-en-el-pecho/',\n",
       " 'https://www.publimetro.cl/noticias/2022/03/27/tragedia-en-colchane-bebe-de-6-meses-muere-cruzando-la-frontera/',\n",
       " 'https://www.publimetro.cl/noticias/2022/03/27/en-riesgo-vital-carabinero-atropellado-por-motorista-en-iquique/',\n",
       " 'https://www.publimetro.cl/noticias/2022/03/27/rusia-y-ucrania-confirman-nueva-ronda-de-negociaciones-presenciales-esta-semana/',\n",
       " 'https://www.publimetro.cl/noticias/2022/03/27/mick-schumacher-afirma-no-tener-secuelas-tras-su-choque/',\n",
       " 'https://www.publimetro.cl/noticias/2022/03/27/taxista-se-apunala-a-si-mismo-para-fingir-asalto-fue-descubierto-por-camaras-de-seguridad/',\n",
       " 'https://www.publimetro.cl/noticias/2022/03/27/convencionalista-recibe-lluvia-de-burlas-por-insolita-peticion-a-ivan-torres/',\n",
       " 'https://www.publimetro.cl/noticias/2022/03/27/shanghai-se-convierte-en-el-nuevo-epicentro-del-covid-19-en-china-imponen-confinamiento/']"
      ]
     },
     "execution_count": 8,
     "metadata": {},
     "output_type": "execute_result"
    }
   ],
   "source": [
    "urls=[]\n",
    "\n",
    "crawler = Crawler()\n",
    "response = crawler.get(URL_SEED)\n",
    "crawler.parse(response)\n",
    "\n",
    "    \n",
    "for url in crawler.url_list:\n",
    "    urls.append(\"https://www.publimetro.cl\"+url)\n",
    "\n",
    "crawler.url_list = urls\n",
    "crawler.url_list"
   ]
  },
  {
   "cell_type": "code",
   "execution_count": 9,
   "id": "e6099483",
   "metadata": {
    "scrolled": true
   },
   "outputs": [
    {
     "data": {
      "text/plain": [
       "15"
      ]
     },
     "execution_count": 9,
     "metadata": {},
     "output_type": "execute_result"
    }
   ],
   "source": [
    "len(urls)"
   ]
  },
  {
   "cell_type": "code",
   "execution_count": 10,
   "id": "928cdb23",
   "metadata": {},
   "outputs": [
    {
     "data": {
      "text/plain": [
       "'https://www.publimetro.cl/noticias/2022/03/27/madre-de-zamudio-llama-al-gobierno-a-endurecer-la-ley-antidiscriminacion/'"
      ]
     },
     "execution_count": 10,
     "metadata": {},
     "output_type": "execute_result"
    }
   ],
   "source": [
    "urls[0]"
   ]
  },
  {
   "cell_type": "code",
   "execution_count": null,
   "id": "f8c2d5b1",
   "metadata": {},
   "outputs": [],
   "source": []
  },
  {
   "cell_type": "code",
   "execution_count": 11,
   "id": "d446e5df",
   "metadata": {},
   "outputs": [],
   "source": [
    "URL_NEWS = urls[0]\n",
    "XPATH_TITLE = \"//h1\"\n",
    "XPATH_CONTENT =\"//article/p\""
   ]
  },
  {
   "cell_type": "code",
   "execution_count": 12,
   "id": "fcc5edaf",
   "metadata": {},
   "outputs": [],
   "source": [
    "class Scraper:\n",
    "    \n",
    "    USER_AGENT_LIST = [\n",
    "        \"Mozilla/5.0 (Windows NT 6.1; WOW64) AppleWebKit/537.1 (KHTML, like Gecko) Chrome/22.0.1207.1 Safari/537.1\",\n",
    "        \"Mozilla/5.0 (X11; CrOS i686 2268.111.0) AppleWebKit/536.11 (KHTML, like Gecko) Chrome/20.0.1132.57 Safari/536.11\",\n",
    "        \"Mozilla/5.0 (Windows NT 6.1; WOW64) AppleWebKit/536.6 (KHTML, like Gecko) Chrome/20.0.1092.0 Safari/536.6\",\n",
    "        \"Mozilla/5.0 (Windows NT 6.2) AppleWebKit/536.6 (KHTML, like Gecko) Chrome/20.0.1090.0 Safari/536.6\",\n",
    "        \"Mozilla/5.0 (Windows NT 6.2; WOW64) AppleWebKit/537.1 (KHTML, like Gecko) Chrome/19.77.34.5 Safari/537.1\",\n",
    "        \"Mozilla/5.0 (X11; Linux x86_64) AppleWebKit/536.5 (KHTML, like Gecko) Chrome/19.0.1084.9 Safari/536.5\",\n",
    "        \"Mozilla/5.0 (Windows NT 6.0) AppleWebKit/536.5 (KHTML, like Gecko) Chrome/19.0.1084.36 Safari/536.5\",\n",
    "        \"Mozilla/5.0 (Windows NT 6.1; WOW64) AppleWebKit/536.3 (KHTML, like Gecko) Chrome/19.0.1063.0 Safari/536.3\",\n",
    "        \"Mozilla/5.0 (Windows NT 5.1) AppleWebKit/536.3 (KHTML, like Gecko) Chrome/19.0.1063.0 Safari/536.3\",\n",
    "        \"Mozilla/5.0 (Macintosh; Intel Mac OS X 10_8_0) AppleWebKit/536.3 (KHTML, like Gecko) Chrome/19.0.1063.0 Safari/536.3\",\n",
    "        \"Mozilla/5.0 (Windows NT 6.2) AppleWebKit/536.3 (KHTML, like Gecko) Chrome/19.0.1062.0 Safari/536.3\",\n",
    "        \"Mozilla/5.0 (Windows NT 6.1; WOW64) AppleWebKit/536.3 (KHTML, like Gecko) Chrome/19.0.1062.0 Safari/536.3\",\n",
    "        \"Mozilla/5.0 (Windows NT 6.2) AppleWebKit/536.3 (KHTML, like Gecko) Chrome/19.0.1061.1 Safari/536.3\",\n",
    "        \"Mozilla/5.0 (Windows NT 6.1; WOW64) AppleWebKit/536.3 (KHTML, like Gecko) Chrome/19.0.1061.1 Safari/536.3\",\n",
    "        \"Mozilla/5.0 (Windows NT 6.1) AppleWebKit/536.3 (KHTML, like Gecko) Chrome/19.0.1061.1 Safari/536.3\",\n",
    "        \"Mozilla/5.0 (Windows NT 6.2) AppleWebKit/536.3 (KHTML, like Gecko) Chrome/19.0.1061.0 Safari/536.3\",\n",
    "        \"Mozilla/5.0 (X11; Linux x86_64) AppleWebKit/535.24 (KHTML, like Gecko) Chrome/19.0.1055.1 Safari/535.24\",\n",
    "        \"Mozilla/5.0 (Windows NT 6.2; WOW64) AppleWebKit/535.24 (KHTML, like Gecko) Chrome/19.0.1055.1 Safari/535.24\"\n",
    "    ]\n",
    "\n",
    "    query_extract_title = XPATH_TITLE\n",
    "    query_extract_text =  XPATH_CONTENT\n",
    "\n",
    "    def _init_(self):\n",
    "        pass\n",
    "   \n",
    "    def get(self,url):\n",
    "        headers = {'user-agent':random.choice(self.USER_AGENT_LIST) }\n",
    "        session = HTMLSession()\n",
    "        response = session.get(url,headers=headers) \n",
    "        return response\n",
    "    \n",
    "    def clean_text(self, html_text):\n",
    "        text_without_tags = w3lib.html.remove_tags(html_text)\n",
    "        text_without_escape_chars = w3lib.html.replace_escape_chars(text_without_tags)\n",
    "        text_without_escape_chars = html.unescape(text_without_escape_chars)\n",
    "        text_without_whitespace = text_without_escape_chars.strip()\n",
    "        return text_without_whitespace\n",
    "\n",
    "    \n",
    "    #### main function ####\n",
    "    def parse(self, response):\n",
    "        \n",
    "        #URL\n",
    "        self.news_url = response.url\n",
    "        \n",
    "        #TITLE\n",
    "        self.news_title = response.html.xpath(self.query_extract_title)[0].text\n",
    "        self.news_title = self.clean_text(self.news_title)\n",
    "       \n",
    "        \n",
    "        #CONTENT\n",
    "        self.news_text = \"\"\n",
    "        \n",
    "        html_paragraphs = response.html.xpath(self.query_extract_text)\n",
    "        \n",
    "        for paragraph in html_paragraphs:\n",
    "            paragraph_content = w3lib.html.remove_tags(paragraph.text)    \n",
    "            text_cleaned = self.clean_text(paragraph_content)\n",
    "            self.news_text = self.news_text+text_cleaned\n"
   ]
  },
  {
   "cell_type": "code",
   "execution_count": 13,
   "id": "d9482704",
   "metadata": {},
   "outputs": [],
   "source": [
    "scraper = Scraper()\n",
    "response =scraper.get(URL_NEWS)"
   ]
  },
  {
   "cell_type": "code",
   "execution_count": 14,
   "id": "d72bc32e",
   "metadata": {},
   "outputs": [],
   "source": [
    "scraper.parse(response)"
   ]
  },
  {
   "cell_type": "code",
   "execution_count": 15,
   "id": "a2e4d401",
   "metadata": {},
   "outputs": [
    {
     "data": {
      "text/plain": [
       "'Madre de Zamudio llama al gobierno a “endurecer la ley antidiscriminación”'"
      ]
     },
     "execution_count": 15,
     "metadata": {},
     "output_type": "execute_result"
    }
   ],
   "source": [
    "scraper.news_title"
   ]
  },
  {
   "cell_type": "code",
   "execution_count": 16,
   "id": "162264db",
   "metadata": {},
   "outputs": [
    {
     "data": {
      "text/plain": [
       "'Este domingo 27 de marzo se cumplió una década del brutal crimen en contra de Daniel Zamudio, joven de 24 años que fue torturado por un grupo de personas en el Parque San Borja de Santiago, agresión que terminó por quitarle la vida.Es en el marco de la conmemoración de su muerte que Jaqueline Vera, madre del joven fallecido, se refirió en conversación con Meganoticias a los 10 años del ataque homofóbico en contra de su hijo, y aprovechó de hacer un llamado al gobierno entrante.“Hay que endurecer la ley antidiscriminación. Eso le pido al nuevo presidente. Y también solicitar ayuda para mi fundación, como mamá de la diversidad. No queremos que sigan estos crímenes”, señaló.La mujer también valoró las iniciativas legislativas que condenan este y otros tipos de violencias discriminatorias, como la homónima Ley Zamudio, que ya lleva casi 10 años publicada.“Por lo que le pasó a Daniel, se sacaron varias leyes a favor de la diversidad. A mi hijo solo puedo decirle mil gracias por todo lo que nos dejó”, sentenció la mujer.La fecha es también conmemorada por diversas agrupaciones de disidencias sexuales, como el Movilh, quienes se acercaron hasta el Memorial de la Diversidad, ubicado en el Cementerio General, con el objetivo de “recordar a Daniel Zamudio y a otras 57 víctimas fatales que han sido asesinadas en Chile en razón su orientación sexual, identidad o expresión de género”.Según recoge el mismo medio, el encargado de Derechos Humanos del Movilh, Ramón Gómez, comentó que “al cumplirse una década de su deceso, debemos decir que el país ha cambiado mucho. Gracias a Daniel se apuró la ley antidiscriminación y por eso mismo es que se han aprobado 13 leyes más”.'"
      ]
     },
     "execution_count": 16,
     "metadata": {},
     "output_type": "execute_result"
    }
   ],
   "source": [
    "scraper.news_text"
   ]
  },
  {
   "cell_type": "code",
   "execution_count": 17,
   "id": "a455d5d3",
   "metadata": {},
   "outputs": [],
   "source": [
    "#Verificamos que el scraper devuelve algo\n",
    "assert(len(scraper.news_title)>0)\n",
    "assert(len(scraper.news_text)>0)"
   ]
  },
  {
   "cell_type": "code",
   "execution_count": 18,
   "id": "524ce41b",
   "metadata": {},
   "outputs": [
    {
     "data": {
      "text/html": [
       "<div>\n",
       "<style scoped>\n",
       "    .dataframe tbody tr th:only-of-type {\n",
       "        vertical-align: middle;\n",
       "    }\n",
       "\n",
       "    .dataframe tbody tr th {\n",
       "        vertical-align: top;\n",
       "    }\n",
       "\n",
       "    .dataframe thead th {\n",
       "        text-align: right;\n",
       "    }\n",
       "</style>\n",
       "<table border=\"1\" class=\"dataframe\">\n",
       "  <thead>\n",
       "    <tr style=\"text-align: right;\">\n",
       "      <th></th>\n",
       "      <th>url</th>\n",
       "      <th>title</th>\n",
       "      <th>content</th>\n",
       "    </tr>\n",
       "  </thead>\n",
       "  <tbody>\n",
       "    <tr>\n",
       "      <th>0</th>\n",
       "      <td>https://www.publimetro.cl/noticias/2022/03/27/...</td>\n",
       "      <td>Madre de Zamudio llama al gobierno a “endurece...</td>\n",
       "      <td>Este domingo 27 de marzo se cumplió una década...</td>\n",
       "    </tr>\n",
       "  </tbody>\n",
       "</table>\n",
       "</div>"
      ],
      "text/plain": [
       "                                                 url  \\\n",
       "0  https://www.publimetro.cl/noticias/2022/03/27/...   \n",
       "\n",
       "                                               title  \\\n",
       "0  Madre de Zamudio llama al gobierno a “endurece...   \n",
       "\n",
       "                                             content  \n",
       "0  Este domingo 27 de marzo se cumplió una década...  "
      ]
     },
     "execution_count": 18,
     "metadata": {},
     "output_type": "execute_result"
    }
   ],
   "source": [
    "df = pd.DataFrame(data={'url': [URL_NEWS],'title':[scraper.news_title], 'content':[scraper.news_text]})\n",
    "df"
   ]
  },
  {
   "cell_type": "code",
   "execution_count": 19,
   "id": "267a48c8",
   "metadata": {},
   "outputs": [
    {
     "data": {
      "application/vnd.jupyter.widget-view+json": {
       "model_id": "24edf33a53084eb8aece36c554a6f1f1",
       "version_major": 2,
       "version_minor": 0
      },
      "text/plain": [
       "  0%|          | 0/15 [00:00<?, ?it/s]"
      ]
     },
     "metadata": {},
     "output_type": "display_data"
    }
   ],
   "source": [
    "XPATH_TITLE = \"//h1\"\n",
    "XPATH_CONTENT =\"//div[@class='single-content']//p\"\n",
    "\n",
    "for url in tqdm(urls):\n",
    "    URL_NEWS = url\n",
    "    scraper = Scraper()\n",
    "    response =scraper.get(URL_NEWS)\n",
    "    scraper.parse(response)\n",
    "    df1 = pd.DataFrame(data={'url': url, 'title':scraper.news_title, 'content':scraper.news_text},index=['url', 'title', 'content'])\n",
    "    df = df.append(df1, ignore_index=True)\n",
    "df = df.drop_duplicates()\n"
   ]
  },
  {
   "cell_type": "code",
   "execution_count": 20,
   "id": "e9c55424",
   "metadata": {},
   "outputs": [
    {
     "data": {
      "text/html": [
       "<div>\n",
       "<style scoped>\n",
       "    .dataframe tbody tr th:only-of-type {\n",
       "        vertical-align: middle;\n",
       "    }\n",
       "\n",
       "    .dataframe tbody tr th {\n",
       "        vertical-align: top;\n",
       "    }\n",
       "\n",
       "    .dataframe thead th {\n",
       "        text-align: right;\n",
       "    }\n",
       "</style>\n",
       "<table border=\"1\" class=\"dataframe\">\n",
       "  <thead>\n",
       "    <tr style=\"text-align: right;\">\n",
       "      <th></th>\n",
       "      <th>url</th>\n",
       "      <th>title</th>\n",
       "      <th>content</th>\n",
       "    </tr>\n",
       "  </thead>\n",
       "  <tbody>\n",
       "    <tr>\n",
       "      <th>0</th>\n",
       "      <td>https://www.publimetro.cl/noticias/2022/03/27/...</td>\n",
       "      <td>Madre de Zamudio llama al gobierno a “endurece...</td>\n",
       "      <td>Este domingo 27 de marzo se cumplió una década...</td>\n",
       "    </tr>\n",
       "    <tr>\n",
       "      <th>4</th>\n",
       "      <td>https://www.publimetro.cl/noticias/2022/03/27/...</td>\n",
       "      <td>Lo que no sabías que necesitabas: Se inaugurar...</td>\n",
       "      <td>La Municipalidad de Pedro Aguirre Cerda anunci...</td>\n",
       "    </tr>\n",
       "    <tr>\n",
       "      <th>7</th>\n",
       "      <td>https://www.publimetro.cl/noticias/2022/03/27/...</td>\n",
       "      <td>En medio de la guerra, Ucrania anuncia el regr...</td>\n",
       "      <td>El alcalde de Kiev, Vitali Klitschko, ha anunc...</td>\n",
       "    </tr>\n",
       "    <tr>\n",
       "      <th>10</th>\n",
       "      <td>https://www.publimetro.cl/noticias/2022/03/27/...</td>\n",
       "      <td>PDI incauta yegua por presunto caso de maltrat...</td>\n",
       "      <td>Detectives de la Brigada Investigadora de Deli...</td>\n",
       "    </tr>\n",
       "    <tr>\n",
       "      <th>13</th>\n",
       "      <td>https://www.publimetro.cl/noticias/2022/03/27/...</td>\n",
       "      <td>Cancillería confirma la designación de Bárbara...</td>\n",
       "      <td>Durante la tarde de este domingo y mediante un...</td>\n",
       "    </tr>\n",
       "    <tr>\n",
       "      <th>16</th>\n",
       "      <td>https://www.publimetro.cl/noticias/2022/03/27/...</td>\n",
       "      <td>Revelan video de carabinero atacado durante ma...</td>\n",
       "      <td>El diputado Jorge Alessandri (UDI) publicó un ...</td>\n",
       "    </tr>\n",
       "    <tr>\n",
       "      <th>19</th>\n",
       "      <td>https://www.publimetro.cl/noticias/2022/03/27/...</td>\n",
       "      <td>Rinden homenaje a víctimas de homo/transfobia ...</td>\n",
       "      <td>A diez años del asesinato de Daniel Zamudio, e...</td>\n",
       "    </tr>\n",
       "    <tr>\n",
       "      <th>22</th>\n",
       "      <td>https://www.publimetro.cl/noticias/2022/03/27/...</td>\n",
       "      <td>Le fueron a cobrar: hombre mata a su prestamis...</td>\n",
       "      <td>La noche de este sábado, efectivos policiales ...</td>\n",
       "    </tr>\n",
       "    <tr>\n",
       "      <th>25</th>\n",
       "      <td>https://www.publimetro.cl/noticias/2022/03/27/...</td>\n",
       "      <td>Tragedia en Colchane: Bebé de 6 meses muere cr...</td>\n",
       "      <td>Dos nuevas víctimas fatales fueron constatadas...</td>\n",
       "    </tr>\n",
       "    <tr>\n",
       "      <th>28</th>\n",
       "      <td>https://www.publimetro.cl/noticias/2022/03/27/...</td>\n",
       "      <td>En riesgo vital carabinero atropellado por mot...</td>\n",
       "      <td>En riesgo vital se encuentra el Cabo 2° Álvaro...</td>\n",
       "    </tr>\n",
       "    <tr>\n",
       "      <th>31</th>\n",
       "      <td>https://www.publimetro.cl/noticias/2022/03/27/...</td>\n",
       "      <td>Rusia y Ucrania confirman nueva ronda de negoc...</td>\n",
       "      <td>Los negociadores de Rusia y Ucrania confirmaro...</td>\n",
       "    </tr>\n",
       "    <tr>\n",
       "      <th>34</th>\n",
       "      <td>https://www.publimetro.cl/noticias/2022/03/27/...</td>\n",
       "      <td>Mick Schumacher afirma no tener secuelas tras ...</td>\n",
       "      <td>El piloto alemán de Fórmula 1, Mick Schumacher...</td>\n",
       "    </tr>\n",
       "    <tr>\n",
       "      <th>37</th>\n",
       "      <td>https://www.publimetro.cl/noticias/2022/03/27/...</td>\n",
       "      <td>Taxista se apuñala a sí mismo para fingir asal...</td>\n",
       "      <td>Un insólito episodio protagonizó un taxista qu...</td>\n",
       "    </tr>\n",
       "    <tr>\n",
       "      <th>40</th>\n",
       "      <td>https://www.publimetro.cl/noticias/2022/03/27/...</td>\n",
       "      <td>Convencionalista recibe lluvia de burlas por i...</td>\n",
       "      <td>Dicen que Twitter no perdona y esta vez la víc...</td>\n",
       "    </tr>\n",
       "    <tr>\n",
       "      <th>43</th>\n",
       "      <td>https://www.publimetro.cl/noticias/2022/03/27/...</td>\n",
       "      <td>Shanghái se convierte en el nuevo epicentro de...</td>\n",
       "      <td>Shanghái registró este domingo más de dos mil ...</td>\n",
       "    </tr>\n",
       "  </tbody>\n",
       "</table>\n",
       "</div>"
      ],
      "text/plain": [
       "                                                  url  \\\n",
       "0   https://www.publimetro.cl/noticias/2022/03/27/...   \n",
       "4   https://www.publimetro.cl/noticias/2022/03/27/...   \n",
       "7   https://www.publimetro.cl/noticias/2022/03/27/...   \n",
       "10  https://www.publimetro.cl/noticias/2022/03/27/...   \n",
       "13  https://www.publimetro.cl/noticias/2022/03/27/...   \n",
       "16  https://www.publimetro.cl/noticias/2022/03/27/...   \n",
       "19  https://www.publimetro.cl/noticias/2022/03/27/...   \n",
       "22  https://www.publimetro.cl/noticias/2022/03/27/...   \n",
       "25  https://www.publimetro.cl/noticias/2022/03/27/...   \n",
       "28  https://www.publimetro.cl/noticias/2022/03/27/...   \n",
       "31  https://www.publimetro.cl/noticias/2022/03/27/...   \n",
       "34  https://www.publimetro.cl/noticias/2022/03/27/...   \n",
       "37  https://www.publimetro.cl/noticias/2022/03/27/...   \n",
       "40  https://www.publimetro.cl/noticias/2022/03/27/...   \n",
       "43  https://www.publimetro.cl/noticias/2022/03/27/...   \n",
       "\n",
       "                                                title  \\\n",
       "0   Madre de Zamudio llama al gobierno a “endurece...   \n",
       "4   Lo que no sabías que necesitabas: Se inaugurar...   \n",
       "7   En medio de la guerra, Ucrania anuncia el regr...   \n",
       "10  PDI incauta yegua por presunto caso de maltrat...   \n",
       "13  Cancillería confirma la designación de Bárbara...   \n",
       "16  Revelan video de carabinero atacado durante ma...   \n",
       "19  Rinden homenaje a víctimas de homo/transfobia ...   \n",
       "22  Le fueron a cobrar: hombre mata a su prestamis...   \n",
       "25  Tragedia en Colchane: Bebé de 6 meses muere cr...   \n",
       "28  En riesgo vital carabinero atropellado por mot...   \n",
       "31  Rusia y Ucrania confirman nueva ronda de negoc...   \n",
       "34  Mick Schumacher afirma no tener secuelas tras ...   \n",
       "37  Taxista se apuñala a sí mismo para fingir asal...   \n",
       "40  Convencionalista recibe lluvia de burlas por i...   \n",
       "43  Shanghái se convierte en el nuevo epicentro de...   \n",
       "\n",
       "                                              content  \n",
       "0   Este domingo 27 de marzo se cumplió una década...  \n",
       "4   La Municipalidad de Pedro Aguirre Cerda anunci...  \n",
       "7   El alcalde de Kiev, Vitali Klitschko, ha anunc...  \n",
       "10  Detectives de la Brigada Investigadora de Deli...  \n",
       "13  Durante la tarde de este domingo y mediante un...  \n",
       "16  El diputado Jorge Alessandri (UDI) publicó un ...  \n",
       "19  A diez años del asesinato de Daniel Zamudio, e...  \n",
       "22  La noche de este sábado, efectivos policiales ...  \n",
       "25  Dos nuevas víctimas fatales fueron constatadas...  \n",
       "28  En riesgo vital se encuentra el Cabo 2° Álvaro...  \n",
       "31  Los negociadores de Rusia y Ucrania confirmaro...  \n",
       "34  El piloto alemán de Fórmula 1, Mick Schumacher...  \n",
       "37  Un insólito episodio protagonizó un taxista qu...  \n",
       "40  Dicen que Twitter no perdona y esta vez la víc...  \n",
       "43  Shanghái registró este domingo más de dos mil ...  "
      ]
     },
     "execution_count": 20,
     "metadata": {},
     "output_type": "execute_result"
    }
   ],
   "source": [
    "df"
   ]
  },
  {
   "cell_type": "code",
   "execution_count": null,
   "id": "2e565eca",
   "metadata": {},
   "outputs": [],
   "source": []
  }
 ],
 "metadata": {
  "kernelspec": {
   "display_name": "Python 3 (ipykernel)",
   "language": "python",
   "name": "python3"
  },
  "language_info": {
   "codemirror_mode": {
    "name": "ipython",
    "version": 3
   },
   "file_extension": ".py",
   "mimetype": "text/x-python",
   "name": "python",
   "nbconvert_exporter": "python",
   "pygments_lexer": "ipython3",
   "version": "3.8.10"
  }
 },
 "nbformat": 4,
 "nbformat_minor": 5
}
