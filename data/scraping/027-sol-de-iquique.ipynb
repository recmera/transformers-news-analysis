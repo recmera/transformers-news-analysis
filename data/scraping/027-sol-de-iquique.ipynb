{
 "cells": [
  {
   "cell_type": "code",
   "execution_count": 1,
   "id": "e42c42ef",
   "metadata": {},
   "outputs": [],
   "source": [
    "import json\n",
    "import w3lib.html\n",
    "import random\n",
    "import os\n",
    "from datetime import datetime\n",
    "import requests\n",
    "import string\n",
    "import calendar\n",
    "import html\n",
    "import locale \n",
    "from requests_html import HTMLSession\n",
    "from requests_html import HTML\n",
    "import validators\n",
    "import pandas as pd\n",
    "from tqdm.notebook import tqdm\n",
    "\n",
    "import warnings\n",
    "warnings.filterwarnings('ignore')"
   ]
  },
  {
   "cell_type": "code",
   "execution_count": 2,
   "id": "79bb0b1d",
   "metadata": {},
   "outputs": [],
   "source": [
    "URL_SEED = 'https://elsoldeiquique.cl/tarapaca/page/1/'\n",
    "XPATH_HREF = \"//h3/a/@href\""
   ]
  },
  {
   "cell_type": "code",
   "execution_count": 3,
   "id": "c8a6236e",
   "metadata": {},
   "outputs": [],
   "source": [
    "class Crawler():\n",
    "    \n",
    "    USER_AGENT_LIST = [\n",
    "        \"Mozilla/5.0 (Windows NT 6.1; WOW64) AppleWebKit/537.1 (KHTML, like Gecko) Chrome/22.0.1207.1 Safari/537.1\",\n",
    "        \"Mozilla/5.0 (X11; CrOS i686 2268.111.0) AppleWebKit/536.11 (KHTML, like Gecko) Chrome/20.0.1132.57 Safari/536.11\",\n",
    "        \"Mozilla/5.0 (Windows NT 6.1; WOW64) AppleWebKit/536.6 (KHTML, like Gecko) Chrome/20.0.1092.0 Safari/536.6\",\n",
    "        \"Mozilla/5.0 (Windows NT 6.2) AppleWebKit/536.6 (KHTML, like Gecko) Chrome/20.0.1090.0 Safari/536.6\",\n",
    "        \"Mozilla/5.0 (Windows NT 6.2; WOW64) AppleWebKit/537.1 (KHTML, like Gecko) Chrome/19.77.34.5 Safari/537.1\",\n",
    "        \"Mozilla/5.0 (X11; Linux x86_64) AppleWebKit/536.5 (KHTML, like Gecko) Chrome/19.0.1084.9 Safari/536.5\",\n",
    "        \"Mozilla/5.0 (Windows NT 6.0) AppleWebKit/536.5 (KHTML, like Gecko) Chrome/19.0.1084.36 Safari/536.5\",\n",
    "        \"Mozilla/5.0 (Windows NT 6.1; WOW64) AppleWebKit/536.3 (KHTML, like Gecko) Chrome/19.0.1063.0 Safari/536.3\",\n",
    "        \"Mozilla/5.0 (Windows NT 5.1) AppleWebKit/536.3 (KHTML, like Gecko) Chrome/19.0.1063.0 Safari/536.3\",\n",
    "        \"Mozilla/5.0 (Macintosh; Intel Mac OS X 10_8_0) AppleWebKit/536.3 (KHTML, like Gecko) Chrome/19.0.1063.0 Safari/536.3\",\n",
    "        \"Mozilla/5.0 (Windows NT 6.2) AppleWebKit/536.3 (KHTML, like Gecko) Chrome/19.0.1062.0 Safari/536.3\",\n",
    "        \"Mozilla/5.0 (Windows NT 6.1; WOW64) AppleWebKit/536.3 (KHTML, like Gecko) Chrome/19.0.1062.0 Safari/536.3\",\n",
    "        \"Mozilla/5.0 (Windows NT 6.2) AppleWebKit/536.3 (KHTML, like Gecko) Chrome/19.0.1061.1 Safari/536.3\",\n",
    "        \"Mozilla/5.0 (Windows NT 6.1; WOW64) AppleWebKit/536.3 (KHTML, like Gecko) Chrome/19.0.1061.1 Safari/536.3\",\n",
    "        \"Mozilla/5.0 (Windows NT 6.1) AppleWebKit/536.3 (KHTML, like Gecko) Chrome/19.0.1061.1 Safari/536.3\",\n",
    "        \"Mozilla/5.0 (Windows NT 6.2) AppleWebKit/536.3 (KHTML, like Gecko) Chrome/19.0.1061.0 Safari/536.3\",\n",
    "        \"Mozilla/5.0 (X11; Linux x86_64) AppleWebKit/535.24 (KHTML, like Gecko) Chrome/19.0.1055.1 Safari/535.24\",\n",
    "        \"Mozilla/5.0 (Windows NT 6.2; WOW64) AppleWebKit/535.24 (KHTML, like Gecko) Chrome/19.0.1055.1 Safari/535.24\"\n",
    "    ]\n",
    "\n",
    "    #Ruta XPATH hacia los enlaces que queremos recopilar\n",
    "    xpath_href=XPATH_HREF\n",
    "\n",
    "    #variable que permite listar todos los enlaces recopilado\n",
    "    url_list = []\n",
    "    \n",
    "    def _init_(self, URL_SEED, XPATH_HREF):        \n",
    "        pass\n",
    "\n",
    "    \n",
    "    def get(self,url):\n",
    "        session = HTMLSession()\n",
    "        header = dict()\n",
    "        header['user-agent'] = random.choice(self.USER_AGENT_LIST)\n",
    "        response = session.get(url,headers=header)        \n",
    "        return response\n",
    "    \n",
    "    def parse(self, response):\n",
    "        self.url_list = []\n",
    "        urls = response.html.xpath(self.xpath_href)\n",
    "        for url in urls:\n",
    "            self.url_list.append(url)\n"
   ]
  },
  {
   "cell_type": "code",
   "execution_count": 4,
   "id": "e016daec",
   "metadata": {
    "scrolled": true
   },
   "outputs": [
    {
     "data": {
      "application/vnd.jupyter.widget-view+json": {
       "model_id": "4d586fde2d614103a96e412be87979c0",
       "version_major": 2,
       "version_minor": 0
      },
      "text/plain": [
       "  0%|          | 0/3 [00:00<?, ?it/s]"
      ]
     },
     "metadata": {},
     "output_type": "display_data"
    },
    {
     "data": {
      "text/plain": [
       "['https://elsoldeiquique.cl/no-es-un-sueno-es-la-realidad-desde-el-jueves-31-de-marzo-toda-la-region-de-tarapaca-a-apertura-avanzada-paso-5/',\n",
       " 'https://elsoldeiquique.cl/el-rey-de-copas-plumaiquiquena/',\n",
       " 'https://elsoldeiquique.cl/clinica-deportiva-de-tenis-en-pica-busca-incentivar-habilidades-en-ninos-y-jovenes/',\n",
       " 'https://elsoldeiquique.cl/si-no-pasa-nada-con-el-teleferico-iquique-alto-hospicio-seria-bueno-un-tranvia-moderno/',\n",
       " 'https://elsoldeiquique.cl/guagua-de-tres-meses-de-nacionalidad-boliviana-fallecio-en-colchane/',\n",
       " 'https://elsoldeiquique.cl/gobernador-carvajal-aplicara-todo-su-bla-bla-con-ministra-de-salud-para-que-peregrinos-vuelvan-a-saludar-al-lolo/',\n",
       " 'https://elsoldeiquique.cl/mujer-venezolana-de-78-anos-es-hallada-sin-vida-en-colchane/',\n",
       " 'https://elsoldeiquique.cl/centro-de-salud-familiar-dr-pedro-pulgar-melgarejo-realizo-simulacro-de-sismo-para-evaluar-los-tiempos-de-respuesta-y-reaccion-de-los-funcionarios/',\n",
       " 'https://elsoldeiquique.cl/fresco-plumaiquiquena/',\n",
       " 'https://elsoldeiquique.cl/tras-11-dias-por-fin-confirman-extincion-de-incendio-en-el-ex-vertedero-el-boro/',\n",
       " 'https://elsoldeiquique.cl/no-es-un-sueno-es-la-realidad-desde-el-jueves-31-de-marzo-toda-la-region-de-tarapaca-a-apertura-avanzada-paso-5/',\n",
       " 'https://elsoldeiquique.cl/el-rey-de-copas-plumaiquiquena/',\n",
       " 'https://elsoldeiquique.cl/clinica-deportiva-de-tenis-en-pica-busca-incentivar-habilidades-en-ninos-y-jovenes/',\n",
       " 'https://elsoldeiquique.cl/si-no-pasa-nada-con-el-teleferico-iquique-alto-hospicio-seria-bueno-un-tranvia-moderno/',\n",
       " 'https://elsoldeiquique.cl/guagua-de-tres-meses-de-nacionalidad-boliviana-fallecio-en-colchane/',\n",
       " 'https://elsoldeiquique.cl/gobernador-carvajal-aplicara-todo-su-bla-bla-con-ministra-de-salud-para-que-peregrinos-vuelvan-a-saludar-al-lolo/',\n",
       " 'https://elsoldeiquique.cl/mujer-venezolana-de-78-anos-es-hallada-sin-vida-en-colchane/',\n",
       " 'https://elsoldeiquique.cl/centro-de-salud-familiar-dr-pedro-pulgar-melgarejo-realizo-simulacro-de-sismo-para-evaluar-los-tiempos-de-respuesta-y-reaccion-de-los-funcionarios/',\n",
       " 'https://elsoldeiquique.cl/fresco-plumaiquiquena/',\n",
       " 'https://elsoldeiquique.cl/tras-11-dias-por-fin-confirman-extincion-de-incendio-en-el-ex-vertedero-el-boro/',\n",
       " 'https://elsoldeiquique.cl/maquina-limpiadora-de-playas-ha-retirado-80-toneladas-de-residuos-en-iquique/',\n",
       " 'https://elsoldeiquique.cl/iquique-madre-e-hija-interponen-recurso-de-proteccion-en-contra-la-seremi-de-educacion-por-falta-de-matriculas-en-colegios-de-la-comuna/',\n",
       " 'https://elsoldeiquique.cl/iquiquenos-a-sacar-las-chalequinas-el-martillo/',\n",
       " 'https://elsoldeiquique.cl/alcalde-de-colchane-rechaza-extender-el-estado-de-excepcion-constitucional/',\n",
       " 'https://elsoldeiquique.cl/elena-caffarena-defensora-de-los-derechos-politicos-de-las-mujeres-especialmente-en-la-lucha-por-el-derecho-a-voto/',\n",
       " 'https://elsoldeiquique.cl/123471-2/',\n",
       " 'https://elsoldeiquique.cl/con-obra-de-teatro-infantil-la-superintendencia-de-servicios-sanitarios-y-aguas-del-altiplano-celebraron-el-dia-mundial-del-agua/',\n",
       " 'https://elsoldeiquique.cl/pobladores-de-colchane-denuncian-que-militares-queman-cercos-para-calentar-a-migrantes/',\n",
       " 'https://elsoldeiquique.cl/colchane-patrulla-militar-detiene-a-migrantes-y-los-conduce-a-complejo-fronterizo/',\n",
       " 'https://elsoldeiquique.cl/vamos-iquique-yo-te-quiero-plumaiquiquena/']"
      ]
     },
     "execution_count": 4,
     "metadata": {},
     "output_type": "execute_result"
    }
   ],
   "source": [
    "urls=[]\n",
    "\n",
    "for page in tqdm(range(3)): # revisemos sólo 2 páginas\n",
    "    crawler = Crawler()\n",
    "    response = crawler.get('https://elsoldeiquique.cl/tarapaca/page/'+str(page))\n",
    "    crawler.parse(response)\n",
    "\n",
    "    \n",
    "    for url in crawler.url_list:\n",
    "        urls.append(url)\n",
    "\n",
    "    crawler.url_list = urls\n",
    "    \n",
    "crawler.url_list"
   ]
  },
  {
   "cell_type": "code",
   "execution_count": 5,
   "id": "e6099483",
   "metadata": {
    "scrolled": true
   },
   "outputs": [
    {
     "data": {
      "text/plain": [
       "30"
      ]
     },
     "execution_count": 5,
     "metadata": {},
     "output_type": "execute_result"
    }
   ],
   "source": [
    "len(urls)"
   ]
  },
  {
   "cell_type": "code",
   "execution_count": 6,
   "id": "928cdb23",
   "metadata": {},
   "outputs": [
    {
     "data": {
      "text/plain": [
       "'https://elsoldeiquique.cl/no-es-un-sueno-es-la-realidad-desde-el-jueves-31-de-marzo-toda-la-region-de-tarapaca-a-apertura-avanzada-paso-5/'"
      ]
     },
     "execution_count": 6,
     "metadata": {},
     "output_type": "execute_result"
    }
   ],
   "source": [
    "urls[0]"
   ]
  },
  {
   "cell_type": "code",
   "execution_count": null,
   "id": "f8c2d5b1",
   "metadata": {},
   "outputs": [],
   "source": []
  },
  {
   "cell_type": "code",
   "execution_count": 7,
   "id": "d446e5df",
   "metadata": {},
   "outputs": [],
   "source": [
    "URL_NEWS = urls[0]\n",
    "XPATH_TITLE = \"//h1\"\n",
    "XPATH_CONTENT =\"//div[@class='elementor-widget-container']//p\""
   ]
  },
  {
   "cell_type": "code",
   "execution_count": 8,
   "id": "fcc5edaf",
   "metadata": {},
   "outputs": [],
   "source": [
    "class Scraper:\n",
    "    \n",
    "    USER_AGENT_LIST = [\n",
    "        \"Mozilla/5.0 (Windows NT 6.1; WOW64) AppleWebKit/537.1 (KHTML, like Gecko) Chrome/22.0.1207.1 Safari/537.1\",\n",
    "        \"Mozilla/5.0 (X11; CrOS i686 2268.111.0) AppleWebKit/536.11 (KHTML, like Gecko) Chrome/20.0.1132.57 Safari/536.11\",\n",
    "        \"Mozilla/5.0 (Windows NT 6.1; WOW64) AppleWebKit/536.6 (KHTML, like Gecko) Chrome/20.0.1092.0 Safari/536.6\",\n",
    "        \"Mozilla/5.0 (Windows NT 6.2) AppleWebKit/536.6 (KHTML, like Gecko) Chrome/20.0.1090.0 Safari/536.6\",\n",
    "        \"Mozilla/5.0 (Windows NT 6.2; WOW64) AppleWebKit/537.1 (KHTML, like Gecko) Chrome/19.77.34.5 Safari/537.1\",\n",
    "        \"Mozilla/5.0 (X11; Linux x86_64) AppleWebKit/536.5 (KHTML, like Gecko) Chrome/19.0.1084.9 Safari/536.5\",\n",
    "        \"Mozilla/5.0 (Windows NT 6.0) AppleWebKit/536.5 (KHTML, like Gecko) Chrome/19.0.1084.36 Safari/536.5\",\n",
    "        \"Mozilla/5.0 (Windows NT 6.1; WOW64) AppleWebKit/536.3 (KHTML, like Gecko) Chrome/19.0.1063.0 Safari/536.3\",\n",
    "        \"Mozilla/5.0 (Windows NT 5.1) AppleWebKit/536.3 (KHTML, like Gecko) Chrome/19.0.1063.0 Safari/536.3\",\n",
    "        \"Mozilla/5.0 (Macintosh; Intel Mac OS X 10_8_0) AppleWebKit/536.3 (KHTML, like Gecko) Chrome/19.0.1063.0 Safari/536.3\",\n",
    "        \"Mozilla/5.0 (Windows NT 6.2) AppleWebKit/536.3 (KHTML, like Gecko) Chrome/19.0.1062.0 Safari/536.3\",\n",
    "        \"Mozilla/5.0 (Windows NT 6.1; WOW64) AppleWebKit/536.3 (KHTML, like Gecko) Chrome/19.0.1062.0 Safari/536.3\",\n",
    "        \"Mozilla/5.0 (Windows NT 6.2) AppleWebKit/536.3 (KHTML, like Gecko) Chrome/19.0.1061.1 Safari/536.3\",\n",
    "        \"Mozilla/5.0 (Windows NT 6.1; WOW64) AppleWebKit/536.3 (KHTML, like Gecko) Chrome/19.0.1061.1 Safari/536.3\",\n",
    "        \"Mozilla/5.0 (Windows NT 6.1) AppleWebKit/536.3 (KHTML, like Gecko) Chrome/19.0.1061.1 Safari/536.3\",\n",
    "        \"Mozilla/5.0 (Windows NT 6.2) AppleWebKit/536.3 (KHTML, like Gecko) Chrome/19.0.1061.0 Safari/536.3\",\n",
    "        \"Mozilla/5.0 (X11; Linux x86_64) AppleWebKit/535.24 (KHTML, like Gecko) Chrome/19.0.1055.1 Safari/535.24\",\n",
    "        \"Mozilla/5.0 (Windows NT 6.2; WOW64) AppleWebKit/535.24 (KHTML, like Gecko) Chrome/19.0.1055.1 Safari/535.24\"\n",
    "    ]\n",
    "\n",
    "    query_extract_title = XPATH_TITLE\n",
    "    query_extract_text =  XPATH_CONTENT\n",
    "\n",
    "    def _init_(self):\n",
    "        pass\n",
    "   \n",
    "    def get(self,url):\n",
    "        headers = {'user-agent':random.choice(self.USER_AGENT_LIST) }\n",
    "        session = HTMLSession()\n",
    "        response = session.get(url,headers=headers) \n",
    "        return response\n",
    "    \n",
    "    def clean_text(self, html_text):\n",
    "        text_without_tags = w3lib.html.remove_tags(html_text)\n",
    "        text_without_escape_chars = w3lib.html.replace_escape_chars(text_without_tags)\n",
    "        text_without_escape_chars = html.unescape(text_without_escape_chars)\n",
    "        text_without_whitespace = text_without_escape_chars.strip()\n",
    "        return text_without_whitespace\n",
    "\n",
    "    \n",
    "    #### main function ####\n",
    "    def parse(self, response):\n",
    "        \n",
    "        #URL\n",
    "        self.news_url = response.url\n",
    "        \n",
    "        #TITLE\n",
    "        self.news_title = response.html.xpath(self.query_extract_title)[0].text\n",
    "        self.news_title = self.clean_text(self.news_title)\n",
    "       \n",
    "        \n",
    "        #CONTENT\n",
    "        self.news_text = \"\"\n",
    "        \n",
    "        html_paragraphs = response.html.xpath(self.query_extract_text)\n",
    "        \n",
    "        for paragraph in html_paragraphs:\n",
    "            paragraph_content = w3lib.html.remove_tags(paragraph.text)    \n",
    "            text_cleaned = self.clean_text(paragraph_content)\n",
    "            self.news_text = self.news_text+text_cleaned\n"
   ]
  },
  {
   "cell_type": "code",
   "execution_count": 9,
   "id": "d9482704",
   "metadata": {},
   "outputs": [],
   "source": [
    "scraper = Scraper()\n",
    "response =scraper.get(URL_NEWS)"
   ]
  },
  {
   "cell_type": "code",
   "execution_count": 10,
   "id": "d72bc32e",
   "metadata": {},
   "outputs": [],
   "source": [
    "scraper.parse(response)"
   ]
  },
  {
   "cell_type": "code",
   "execution_count": 11,
   "id": "a2e4d401",
   "metadata": {},
   "outputs": [
    {
     "data": {
      "text/plain": [
       "'No es un sueño es la realidad |desde el jueves 31 de marzo toda la región de Tarapacá a Apertura Avanzada “Paso 5”'"
      ]
     },
     "execution_count": 11,
     "metadata": {},
     "output_type": "execute_result"
    }
   ],
   "source": [
    "scraper.news_title"
   ]
  },
  {
   "cell_type": "code",
   "execution_count": 12,
   "id": "162264db",
   "metadata": {},
   "outputs": [
    {
     "data": {
      "text/plain": [
       "'Los mandamases de Salud informaron este marte que todas las comunas de la región de Tarapacá pasan a Fase 5 del Plan Paso a Paso, que establece normas sanitarias para evitar contagios de Covid 19.La medida comenzará a regir a partir del próximo jueves 31 de marzo a las 5:00 horas.Tu dirección de correo electrónico no será publicada. Los campos obligatorios están marcados con *Comentario *Nombre *Correo electrónico *WebGuarda mi nombre, correo electrónico y web en este navegador para la próxima vez que comente.Current ye@r *Leave this field emptyMantente informado con las noticias, notas y opiniones de El Sol de Iquique. No esperes más inscríbete“Ser chileno es un orgullo, pero ser iquiqueno es un privilegio”.MISION: Somos un medio online informativo y noticioso que principalmente relata el acontecer de la región de Tarapacá, tomando en cuenta hechos nacionales e internacionales.VISION: El Sol de Iquique nace como medio independiente que toma el acontecer de forma coloquial sin perder veracidad.Recuerde que debe estar inscrito por el Administrador para poder ingresar.UsuarioContraseñaRecuerdameMantente informado con las noticias, notas y opiniones de El Sol de Iquique. No esperes más ¡INSCRIBETE!Recuerde que debe estar inscrito por el Administrador para poder ingresar.UsuarioContraseñaRecuerdame'"
      ]
     },
     "execution_count": 12,
     "metadata": {},
     "output_type": "execute_result"
    }
   ],
   "source": [
    "scraper.news_text"
   ]
  },
  {
   "cell_type": "code",
   "execution_count": 14,
   "id": "a455d5d3",
   "metadata": {},
   "outputs": [],
   "source": [
    "#Verificamos que el scraper devuelve algo\n",
    "assert(len(scraper.news_title)>0)\n",
    "assert(len(scraper.news_text)>0)"
   ]
  },
  {
   "cell_type": "code",
   "execution_count": 15,
   "id": "524ce41b",
   "metadata": {
    "scrolled": true
   },
   "outputs": [
    {
     "data": {
      "text/html": [
       "<div>\n",
       "<style scoped>\n",
       "    .dataframe tbody tr th:only-of-type {\n",
       "        vertical-align: middle;\n",
       "    }\n",
       "\n",
       "    .dataframe tbody tr th {\n",
       "        vertical-align: top;\n",
       "    }\n",
       "\n",
       "    .dataframe thead th {\n",
       "        text-align: right;\n",
       "    }\n",
       "</style>\n",
       "<table border=\"1\" class=\"dataframe\">\n",
       "  <thead>\n",
       "    <tr style=\"text-align: right;\">\n",
       "      <th></th>\n",
       "      <th>url</th>\n",
       "      <th>title</th>\n",
       "      <th>content</th>\n",
       "    </tr>\n",
       "  </thead>\n",
       "  <tbody>\n",
       "    <tr>\n",
       "      <th>0</th>\n",
       "      <td>https://elsoldeiquique.cl/no-es-un-sueno-es-la...</td>\n",
       "      <td>No es un sueño es la realidad |desde el jueves...</td>\n",
       "      <td>Los mandamases de Salud informaron este marte ...</td>\n",
       "    </tr>\n",
       "  </tbody>\n",
       "</table>\n",
       "</div>"
      ],
      "text/plain": [
       "                                                 url  \\\n",
       "0  https://elsoldeiquique.cl/no-es-un-sueno-es-la...   \n",
       "\n",
       "                                               title  \\\n",
       "0  No es un sueño es la realidad |desde el jueves...   \n",
       "\n",
       "                                             content  \n",
       "0  Los mandamases de Salud informaron este marte ...  "
      ]
     },
     "execution_count": 15,
     "metadata": {},
     "output_type": "execute_result"
    }
   ],
   "source": [
    "df = pd.DataFrame(data={'url': [URL_NEWS],'title':[scraper.news_title], 'content':[scraper.news_text]})\n",
    "df"
   ]
  },
  {
   "cell_type": "code",
   "execution_count": 16,
   "id": "ad68ef5d",
   "metadata": {},
   "outputs": [],
   "source": [
    "trash = \"Tu dirección de correo electrónico no será publicada. Los campos obligatorios están marcados con *Comentario *Nombre *Correo electrónico *WebGuarda mi nombre, correo electrónico y web en este navegador para la próxima vez que comente.Current ye@r *Leave this field emptyMantente informado con las noticias, notas y opiniones de El Sol de Iquique. No esperes más inscríbete“Ser chileno es un orgullo, pero ser iquiqueno es un privilegio”.MISION: Somos un medio online informativo y noticioso que principalmente relata el acontecer de la región de Tarapacá, tomando en cuenta hechos nacionales e internacionales.VISION: El Sol de Iquique nace como medio independiente que toma el acontecer de forma coloquial sin perder veracidad.Recuerde que debe estar inscrito por el Administrador para poder ingresar.UsuarioContraseñaRecuerdameMantente informado con las noticias, notas y opiniones de El Sol de Iquique. No esperes más ¡INSCRIBETE!Recuerde que debe estar inscrito por el Administrador para poder ingresar.UsuarioContraseñaRecuerdame'\""
   ]
  },
  {
   "cell_type": "code",
   "execution_count": 17,
   "id": "267a48c8",
   "metadata": {},
   "outputs": [
    {
     "data": {
      "application/vnd.jupyter.widget-view+json": {
       "model_id": "9fac2cb347aa40b6a0aec82839651191",
       "version_major": 2,
       "version_minor": 0
      },
      "text/plain": [
       "  0%|          | 0/30 [00:00<?, ?it/s]"
      ]
     },
     "metadata": {},
     "output_type": "display_data"
    }
   ],
   "source": [
    "XPATH_TITLE = \"//h1\"\n",
    "XPATH_CONTENT =\"//div[@class='single-content']//p\"\n",
    "\n",
    "for url in tqdm(urls):\n",
    "    URL_NEWS = url\n",
    "    scraper = Scraper()\n",
    "    response =scraper.get(URL_NEWS)\n",
    "    scraper.parse(response)\n",
    "    scraper.news_text = scraper.news_text.replace(trash, \"\")\n",
    "    df1 = pd.DataFrame(data={'url': url, 'title':scraper.news_title, 'content':scraper.news_text},index=['url', 'title', 'content'])\n",
    "    df = df.append(df1, ignore_index=True)\n",
    "df = df.drop_duplicates()\n"
   ]
  },
  {
   "cell_type": "code",
   "execution_count": 18,
   "id": "e9c55424",
   "metadata": {},
   "outputs": [
    {
     "data": {
      "text/html": [
       "<div>\n",
       "<style scoped>\n",
       "    .dataframe tbody tr th:only-of-type {\n",
       "        vertical-align: middle;\n",
       "    }\n",
       "\n",
       "    .dataframe tbody tr th {\n",
       "        vertical-align: top;\n",
       "    }\n",
       "\n",
       "    .dataframe thead th {\n",
       "        text-align: right;\n",
       "    }\n",
       "</style>\n",
       "<table border=\"1\" class=\"dataframe\">\n",
       "  <thead>\n",
       "    <tr style=\"text-align: right;\">\n",
       "      <th></th>\n",
       "      <th>url</th>\n",
       "      <th>title</th>\n",
       "      <th>content</th>\n",
       "    </tr>\n",
       "  </thead>\n",
       "  <tbody>\n",
       "    <tr>\n",
       "      <th>0</th>\n",
       "      <td>https://elsoldeiquique.cl/no-es-un-sueno-es-la...</td>\n",
       "      <td>No es un sueño es la realidad |desde el jueves...</td>\n",
       "      <td>Los mandamases de Salud informaron este marte ...</td>\n",
       "    </tr>\n",
       "    <tr>\n",
       "      <th>4</th>\n",
       "      <td>https://elsoldeiquique.cl/el-rey-de-copas-plum...</td>\n",
       "      <td>El Rey de Copas |@plumaiquiqueña</td>\n",
       "      <td>@plumaiquiqueñaHistoriaEl club Social y Deport...</td>\n",
       "    </tr>\n",
       "    <tr>\n",
       "      <th>7</th>\n",
       "      <td>https://elsoldeiquique.cl/clinica-deportiva-de...</td>\n",
       "      <td>Clínica deportiva de tenis en Pica busca incen...</td>\n",
       "      <td>• 35 niños y niñas de la comuna participan en ...</td>\n",
       "    </tr>\n",
       "    <tr>\n",
       "      <th>10</th>\n",
       "      <td>https://elsoldeiquique.cl/si-no-pasa-nada-con-...</td>\n",
       "      <td>Si no pasa nada con el teleférico Iquique-Alto...</td>\n",
       "      <td>Hace pocos días un proyecto de tranvía de La S...</td>\n",
       "    </tr>\n",
       "    <tr>\n",
       "      <th>13</th>\n",
       "      <td>https://elsoldeiquique.cl/guagua-de-tres-meses...</td>\n",
       "      <td>Guagua de tres meses de nacionalidad boliviana...</td>\n",
       "      <td>Un menor de un año de nacionalidad boliviana f...</td>\n",
       "    </tr>\n",
       "    <tr>\n",
       "      <th>16</th>\n",
       "      <td>https://elsoldeiquique.cl/gobernador-carvajal-...</td>\n",
       "      <td>Gobernador Carvajal aplicará todo su blá blá c...</td>\n",
       "      <td>La autoridad comprometió el apoyo del Gore par...</td>\n",
       "    </tr>\n",
       "    <tr>\n",
       "      <th>19</th>\n",
       "      <td>https://elsoldeiquique.cl/mujer-venezolana-de-...</td>\n",
       "      <td>Mujer venezolana de 78 años es hallada sin vid...</td>\n",
       "      <td>Se trata de la cuarta víctima este año que per...</td>\n",
       "    </tr>\n",
       "    <tr>\n",
       "      <th>22</th>\n",
       "      <td>https://elsoldeiquique.cl/centro-de-salud-fami...</td>\n",
       "      <td>Alto Hospicio | Centro de Salud Familiar Dr. P...</td>\n",
       "      <td>Funcionarios del Centro de Salud Familiar Dr. ...</td>\n",
       "    </tr>\n",
       "    <tr>\n",
       "      <th>25</th>\n",
       "      <td>https://elsoldeiquique.cl/fresco-plumaiquiquena/</td>\n",
       "      <td>Fresco | @plumaiquiqueña</td>\n",
       "      <td>@plumaiquiqueñaMamá sigue cantando las letras ...</td>\n",
       "    </tr>\n",
       "    <tr>\n",
       "      <th>28</th>\n",
       "      <td>https://elsoldeiquique.cl/tras-11-dias-por-fin...</td>\n",
       "      <td>Tras 11 días: Por fin confirman extinción de i...</td>\n",
       "      <td>Luego de la cancelación de la respectiva Alert...</td>\n",
       "    </tr>\n",
       "    <tr>\n",
       "      <th>61</th>\n",
       "      <td>https://elsoldeiquique.cl/maquina-limpiadora-d...</td>\n",
       "      <td>Máquina limpiadora de playas ha retirado 80 to...</td>\n",
       "      <td>• Con una capacidad de recolección de basura q...</td>\n",
       "    </tr>\n",
       "    <tr>\n",
       "      <th>64</th>\n",
       "      <td>https://elsoldeiquique.cl/iquique-madre-e-hija...</td>\n",
       "      <td>Iquique | Madre e hija interponen recurso de p...</td>\n",
       "      <td>Un recurso de protección en la Corte de Apelac...</td>\n",
       "    </tr>\n",
       "    <tr>\n",
       "      <th>67</th>\n",
       "      <td>https://elsoldeiquique.cl/iquiquenos-a-sacar-l...</td>\n",
       "      <td>Iquiqueños a sacar las Chalequinas (El Martillo)</td>\n",
       "      <td>EL MARTILLOLlegó el otoño y por cierto los frí...</td>\n",
       "    </tr>\n",
       "    <tr>\n",
       "      <th>70</th>\n",
       "      <td>https://elsoldeiquique.cl/alcalde-de-colchane-...</td>\n",
       "      <td>Alcalde de Colchane rechaza extender el Estado...</td>\n",
       "      <td>Javier García, argumentó que la medida que rig...</td>\n",
       "    </tr>\n",
       "    <tr>\n",
       "      <th>73</th>\n",
       "      <td>https://elsoldeiquique.cl/elena-caffarena-defe...</td>\n",
       "      <td>Elena Caffarena defensora de los derechos polí...</td>\n",
       "      <td>Elena Caffarena nació en Iquique el 23 de marz...</td>\n",
       "    </tr>\n",
       "    <tr>\n",
       "      <th>76</th>\n",
       "      <td>https://elsoldeiquique.cl/123471-2/</td>\n",
       "      <td>SernamEG presentó querella por femicidio frust...</td>\n",
       "      <td>Una querella por el delito de femicidio frustr...</td>\n",
       "    </tr>\n",
       "    <tr>\n",
       "      <th>79</th>\n",
       "      <td>https://elsoldeiquique.cl/con-obra-de-teatro-i...</td>\n",
       "      <td>Con obra de teatro infantil, la Superintendenc...</td>\n",
       "      <td>Incentivar a cuidar el agua, a dar buen uso de...</td>\n",
       "    </tr>\n",
       "    <tr>\n",
       "      <th>82</th>\n",
       "      <td>https://elsoldeiquique.cl/pobladores-de-colcha...</td>\n",
       "      <td>Pobladores de Colchane denuncian que militares...</td>\n",
       "      <td>Los afectados interpusieron una denuncia en ca...</td>\n",
       "    </tr>\n",
       "    <tr>\n",
       "      <th>85</th>\n",
       "      <td>https://elsoldeiquique.cl/colchane-patrulla-mi...</td>\n",
       "      <td>Colchane | Patrulla militar detiene a migrante...</td>\n",
       "      <td>Patrulla militar detiene a migrantes En el sec...</td>\n",
       "    </tr>\n",
       "    <tr>\n",
       "      <th>88</th>\n",
       "      <td>https://elsoldeiquique.cl/vamos-iquique-yo-te-...</td>\n",
       "      <td>Vamos Iquique, yo te quiero | @plumaiquiqueña</td>\n",
       "      <td>El pasado converge con el presente, la ciudad ...</td>\n",
       "    </tr>\n",
       "  </tbody>\n",
       "</table>\n",
       "</div>"
      ],
      "text/plain": [
       "                                                  url  \\\n",
       "0   https://elsoldeiquique.cl/no-es-un-sueno-es-la...   \n",
       "4   https://elsoldeiquique.cl/el-rey-de-copas-plum...   \n",
       "7   https://elsoldeiquique.cl/clinica-deportiva-de...   \n",
       "10  https://elsoldeiquique.cl/si-no-pasa-nada-con-...   \n",
       "13  https://elsoldeiquique.cl/guagua-de-tres-meses...   \n",
       "16  https://elsoldeiquique.cl/gobernador-carvajal-...   \n",
       "19  https://elsoldeiquique.cl/mujer-venezolana-de-...   \n",
       "22  https://elsoldeiquique.cl/centro-de-salud-fami...   \n",
       "25   https://elsoldeiquique.cl/fresco-plumaiquiquena/   \n",
       "28  https://elsoldeiquique.cl/tras-11-dias-por-fin...   \n",
       "61  https://elsoldeiquique.cl/maquina-limpiadora-d...   \n",
       "64  https://elsoldeiquique.cl/iquique-madre-e-hija...   \n",
       "67  https://elsoldeiquique.cl/iquiquenos-a-sacar-l...   \n",
       "70  https://elsoldeiquique.cl/alcalde-de-colchane-...   \n",
       "73  https://elsoldeiquique.cl/elena-caffarena-defe...   \n",
       "76                https://elsoldeiquique.cl/123471-2/   \n",
       "79  https://elsoldeiquique.cl/con-obra-de-teatro-i...   \n",
       "82  https://elsoldeiquique.cl/pobladores-de-colcha...   \n",
       "85  https://elsoldeiquique.cl/colchane-patrulla-mi...   \n",
       "88  https://elsoldeiquique.cl/vamos-iquique-yo-te-...   \n",
       "\n",
       "                                                title  \\\n",
       "0   No es un sueño es la realidad |desde el jueves...   \n",
       "4                    El Rey de Copas |@plumaiquiqueña   \n",
       "7   Clínica deportiva de tenis en Pica busca incen...   \n",
       "10  Si no pasa nada con el teleférico Iquique-Alto...   \n",
       "13  Guagua de tres meses de nacionalidad boliviana...   \n",
       "16  Gobernador Carvajal aplicará todo su blá blá c...   \n",
       "19  Mujer venezolana de 78 años es hallada sin vid...   \n",
       "22  Alto Hospicio | Centro de Salud Familiar Dr. P...   \n",
       "25                           Fresco | @plumaiquiqueña   \n",
       "28  Tras 11 días: Por fin confirman extinción de i...   \n",
       "61  Máquina limpiadora de playas ha retirado 80 to...   \n",
       "64  Iquique | Madre e hija interponen recurso de p...   \n",
       "67   Iquiqueños a sacar las Chalequinas (El Martillo)   \n",
       "70  Alcalde de Colchane rechaza extender el Estado...   \n",
       "73  Elena Caffarena defensora de los derechos polí...   \n",
       "76  SernamEG presentó querella por femicidio frust...   \n",
       "79  Con obra de teatro infantil, la Superintendenc...   \n",
       "82  Pobladores de Colchane denuncian que militares...   \n",
       "85  Colchane | Patrulla militar detiene a migrante...   \n",
       "88      Vamos Iquique, yo te quiero | @plumaiquiqueña   \n",
       "\n",
       "                                              content  \n",
       "0   Los mandamases de Salud informaron este marte ...  \n",
       "4   @plumaiquiqueñaHistoriaEl club Social y Deport...  \n",
       "7   • 35 niños y niñas de la comuna participan en ...  \n",
       "10  Hace pocos días un proyecto de tranvía de La S...  \n",
       "13  Un menor de un año de nacionalidad boliviana f...  \n",
       "16  La autoridad comprometió el apoyo del Gore par...  \n",
       "19  Se trata de la cuarta víctima este año que per...  \n",
       "22  Funcionarios del Centro de Salud Familiar Dr. ...  \n",
       "25  @plumaiquiqueñaMamá sigue cantando las letras ...  \n",
       "28  Luego de la cancelación de la respectiva Alert...  \n",
       "61  • Con una capacidad de recolección de basura q...  \n",
       "64  Un recurso de protección en la Corte de Apelac...  \n",
       "67  EL MARTILLOLlegó el otoño y por cierto los frí...  \n",
       "70  Javier García, argumentó que la medida que rig...  \n",
       "73  Elena Caffarena nació en Iquique el 23 de marz...  \n",
       "76  Una querella por el delito de femicidio frustr...  \n",
       "79  Incentivar a cuidar el agua, a dar buen uso de...  \n",
       "82  Los afectados interpusieron una denuncia en ca...  \n",
       "85  Patrulla militar detiene a migrantes En el sec...  \n",
       "88  El pasado converge con el presente, la ciudad ...  "
      ]
     },
     "execution_count": 18,
     "metadata": {},
     "output_type": "execute_result"
    }
   ],
   "source": [
    "df"
   ]
  },
  {
   "cell_type": "code",
   "execution_count": null,
   "id": "2e565eca",
   "metadata": {},
   "outputs": [],
   "source": []
  }
 ],
 "metadata": {
  "kernelspec": {
   "display_name": "Python 3 (ipykernel)",
   "language": "python",
   "name": "python3"
  },
  "language_info": {
   "codemirror_mode": {
    "name": "ipython",
    "version": 3
   },
   "file_extension": ".py",
   "mimetype": "text/x-python",
   "name": "python",
   "nbconvert_exporter": "python",
   "pygments_lexer": "ipython3",
   "version": "3.8.10"
  }
 },
 "nbformat": 4,
 "nbformat_minor": 5
}
