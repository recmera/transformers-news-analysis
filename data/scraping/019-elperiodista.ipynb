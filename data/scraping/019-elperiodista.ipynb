{
 "cells": [
  {
   "cell_type": "code",
   "execution_count": 1,
   "id": "e42c42ef",
   "metadata": {},
   "outputs": [],
   "source": [
    "import json\n",
    "import w3lib.html\n",
    "import random\n",
    "import os\n",
    "from datetime import datetime\n",
    "import requests\n",
    "import string\n",
    "import calendar\n",
    "import html\n",
    "import locale \n",
    "from requests_html import HTMLSession\n",
    "from requests_html import HTML\n",
    "import validators\n",
    "import pandas as pd\n",
    "from tqdm.notebook import tqdm\n",
    "\n",
    "import warnings\n",
    "warnings.filterwarnings('ignore')"
   ]
  },
  {
   "cell_type": "code",
   "execution_count": 2,
   "id": "79bb0b1d",
   "metadata": {},
   "outputs": [],
   "source": [
    "URL_SEED = 'https://www.elperiodista.cl/category/nacional/page/1/'\n",
    "XPATH_HREF = \"//h2/a/@href\""
   ]
  },
  {
   "cell_type": "code",
   "execution_count": 3,
   "id": "c8a6236e",
   "metadata": {},
   "outputs": [],
   "source": [
    "class Crawler():\n",
    "    \n",
    "    USER_AGENT_LIST = [\n",
    "        \"Mozilla/5.0 (Windows NT 6.1; WOW64) AppleWebKit/537.1 (KHTML, like Gecko) Chrome/22.0.1207.1 Safari/537.1\",\n",
    "        \"Mozilla/5.0 (X11; CrOS i686 2268.111.0) AppleWebKit/536.11 (KHTML, like Gecko) Chrome/20.0.1132.57 Safari/536.11\",\n",
    "        \"Mozilla/5.0 (Windows NT 6.1; WOW64) AppleWebKit/536.6 (KHTML, like Gecko) Chrome/20.0.1092.0 Safari/536.6\",\n",
    "        \"Mozilla/5.0 (Windows NT 6.2) AppleWebKit/536.6 (KHTML, like Gecko) Chrome/20.0.1090.0 Safari/536.6\",\n",
    "        \"Mozilla/5.0 (Windows NT 6.2; WOW64) AppleWebKit/537.1 (KHTML, like Gecko) Chrome/19.77.34.5 Safari/537.1\",\n",
    "        \"Mozilla/5.0 (X11; Linux x86_64) AppleWebKit/536.5 (KHTML, like Gecko) Chrome/19.0.1084.9 Safari/536.5\",\n",
    "        \"Mozilla/5.0 (Windows NT 6.0) AppleWebKit/536.5 (KHTML, like Gecko) Chrome/19.0.1084.36 Safari/536.5\",\n",
    "        \"Mozilla/5.0 (Windows NT 6.1; WOW64) AppleWebKit/536.3 (KHTML, like Gecko) Chrome/19.0.1063.0 Safari/536.3\",\n",
    "        \"Mozilla/5.0 (Windows NT 5.1) AppleWebKit/536.3 (KHTML, like Gecko) Chrome/19.0.1063.0 Safari/536.3\",\n",
    "        \"Mozilla/5.0 (Macintosh; Intel Mac OS X 10_8_0) AppleWebKit/536.3 (KHTML, like Gecko) Chrome/19.0.1063.0 Safari/536.3\",\n",
    "        \"Mozilla/5.0 (Windows NT 6.2) AppleWebKit/536.3 (KHTML, like Gecko) Chrome/19.0.1062.0 Safari/536.3\",\n",
    "        \"Mozilla/5.0 (Windows NT 6.1; WOW64) AppleWebKit/536.3 (KHTML, like Gecko) Chrome/19.0.1062.0 Safari/536.3\",\n",
    "        \"Mozilla/5.0 (Windows NT 6.2) AppleWebKit/536.3 (KHTML, like Gecko) Chrome/19.0.1061.1 Safari/536.3\",\n",
    "        \"Mozilla/5.0 (Windows NT 6.1; WOW64) AppleWebKit/536.3 (KHTML, like Gecko) Chrome/19.0.1061.1 Safari/536.3\",\n",
    "        \"Mozilla/5.0 (Windows NT 6.1) AppleWebKit/536.3 (KHTML, like Gecko) Chrome/19.0.1061.1 Safari/536.3\",\n",
    "        \"Mozilla/5.0 (Windows NT 6.2) AppleWebKit/536.3 (KHTML, like Gecko) Chrome/19.0.1061.0 Safari/536.3\",\n",
    "        \"Mozilla/5.0 (X11; Linux x86_64) AppleWebKit/535.24 (KHTML, like Gecko) Chrome/19.0.1055.1 Safari/535.24\",\n",
    "        \"Mozilla/5.0 (Windows NT 6.2; WOW64) AppleWebKit/535.24 (KHTML, like Gecko) Chrome/19.0.1055.1 Safari/535.24\"\n",
    "    ]\n",
    "\n",
    "    #Ruta XPATH hacia los enlaces que queremos recopilar\n",
    "    xpath_href=XPATH_HREF\n",
    "\n",
    "    #variable que permite listar todos los enlaces recopilado\n",
    "    url_list = []\n",
    "    \n",
    "    def _init_(self, URL_SEED, XPATH_HREF):        \n",
    "        pass\n",
    "\n",
    "    \n",
    "    def get(self,url):\n",
    "        session = HTMLSession()\n",
    "        header = dict()\n",
    "        header['user-agent'] = random.choice(self.USER_AGENT_LIST)\n",
    "        response = session.get(url,headers=header)        \n",
    "        return response\n",
    "    \n",
    "    def parse(self, response):\n",
    "        self.url_list = []\n",
    "        urls = response.html.xpath(self.xpath_href)\n",
    "        for url in urls:\n",
    "            self.url_list.append(url)\n"
   ]
  },
  {
   "cell_type": "code",
   "execution_count": 4,
   "id": "e016daec",
   "metadata": {
    "scrolled": true
   },
   "outputs": [
    {
     "data": {
      "application/vnd.jupyter.widget-view+json": {
       "model_id": "8f72042de1064e798b823389cd0d2c7f",
       "version_major": 2,
       "version_minor": 0
      },
      "text/plain": [
       "  0%|          | 0/3 [00:00<?, ?it/s]"
      ]
     },
     "metadata": {},
     "output_type": "display_data"
    },
    {
     "data": {
      "text/plain": [
       "['https://www.elperiodista.cl/2022/03/christian-little-asume-como-director-ejecutivo-de-conaf/',\n",
       " 'https://www.elperiodista.cl/2022/03/investigacion-de-la-u-de-chile-advierte-peligro-de-tsunamis-en-la-zona-central/',\n",
       " 'https://www.elperiodista.cl/2022/03/alcaldesa-hassler-aborda-desafios-en-seguridad-y-reactivacion-de-barrios-junto-a-ministra-del-interior-y-ministro-de-economia/',\n",
       " 'https://www.elperiodista.cl/2022/03/diputados-udi-envian-carta-a-boric-cuestionando-nombramiento-de-barbara-figueroa/',\n",
       " 'https://www.elperiodista.cl/2022/03/tribunal-constitucional-declara-inadmisible-recurso-de-brinks-y-reanuda-juicio-por-colusion-que-estaba-suspendido-ante-el-tdlc/',\n",
       " 'https://www.elperiodista.cl/2022/03/comision-de-sistema-politico-acuerda-presidencialismo-atenuado-y-un-parlamentarismo-asimetrico-con-dos-camaras/',\n",
       " 'https://www.elperiodista.cl/2022/03/senador-pugh-pide-urgente-trazabilidad-del-agua-que-usan-los-camiones-aljibes/',\n",
       " 'https://www.elperiodista.cl/2022/03/partido-socialdemocrata-de-chile-hace-su-lanzamiento-en-santiago/',\n",
       " 'https://www.elperiodista.cl/2022/03/hora-del-planeta-tras-apagar-las-luces-el-desafio-es-comprometerse-todos-los-dias-con-el-medio-ambiente/',\n",
       " 'https://www.elperiodista.cl/2022/03/apunalan-a-joven-trans-y-queda-en-riesgo-vital/',\n",
       " 'https://www.elperiodista.cl/2022/03/argentina-da-el-beneplacito-a-barbara-figueroa/',\n",
       " 'https://www.elperiodista.cl/2022/03/ministra-vallejo-nego-supuesta-llegada-de-expareja-a-un-cargo-del-gobierno/',\n",
       " 'https://www.elperiodista.cl/2022/03/viaje-izkia-a-la-araucania/',\n",
       " 'https://www.elperiodista.cl/2022/03/exministro-alberto-espina-sufrio-ataque-cerebro-vascular-hace-4-dias/',\n",
       " 'https://www.elperiodista.cl/2022/03/christian-little-asume-como-director-ejecutivo-de-conaf/',\n",
       " 'https://www.elperiodista.cl/2022/03/investigacion-de-la-u-de-chile-advierte-peligro-de-tsunamis-en-la-zona-central/',\n",
       " 'https://www.elperiodista.cl/2022/03/alcaldesa-hassler-aborda-desafios-en-seguridad-y-reactivacion-de-barrios-junto-a-ministra-del-interior-y-ministro-de-economia/',\n",
       " 'https://www.elperiodista.cl/2022/03/diputados-udi-envian-carta-a-boric-cuestionando-nombramiento-de-barbara-figueroa/',\n",
       " 'https://www.elperiodista.cl/2022/03/tribunal-constitucional-declara-inadmisible-recurso-de-brinks-y-reanuda-juicio-por-colusion-que-estaba-suspendido-ante-el-tdlc/',\n",
       " 'https://www.elperiodista.cl/2022/03/comision-de-sistema-politico-acuerda-presidencialismo-atenuado-y-un-parlamentarismo-asimetrico-con-dos-camaras/',\n",
       " 'https://www.elperiodista.cl/2022/03/senador-pugh-pide-urgente-trazabilidad-del-agua-que-usan-los-camiones-aljibes/',\n",
       " 'https://www.elperiodista.cl/2022/03/partido-socialdemocrata-de-chile-hace-su-lanzamiento-en-santiago/',\n",
       " 'https://www.elperiodista.cl/2022/03/hora-del-planeta-tras-apagar-las-luces-el-desafio-es-comprometerse-todos-los-dias-con-el-medio-ambiente/',\n",
       " 'https://www.elperiodista.cl/2022/03/apunalan-a-joven-trans-y-queda-en-riesgo-vital/',\n",
       " 'https://www.elperiodista.cl/2022/03/argentina-da-el-beneplacito-a-barbara-figueroa/',\n",
       " 'https://www.elperiodista.cl/2022/03/ministra-vallejo-nego-supuesta-llegada-de-expareja-a-un-cargo-del-gobierno/',\n",
       " 'https://www.elperiodista.cl/2022/03/viaje-izkia-a-la-araucania/',\n",
       " 'https://www.elperiodista.cl/2022/03/exministro-alberto-espina-sufrio-ataque-cerebro-vascular-hace-4-dias/',\n",
       " 'https://www.elperiodista.cl/2022/03/christian-little-asume-como-director-ejecutivo-de-conaf/',\n",
       " 'https://www.elperiodista.cl/2022/03/investigacion-de-la-u-de-chile-advierte-peligro-de-tsunamis-en-la-zona-central/',\n",
       " 'https://www.elperiodista.cl/2022/03/alcaldesa-hassler-aborda-desafios-en-seguridad-y-reactivacion-de-barrios-junto-a-ministra-del-interior-y-ministro-de-economia/',\n",
       " 'https://www.elperiodista.cl/2022/03/diputados-udi-envian-carta-a-boric-cuestionando-nombramiento-de-barbara-figueroa/',\n",
       " 'https://www.elperiodista.cl/2022/03/interior-se-querella-por-estudiante-herido-por-ambulantes-en-estacion-central/',\n",
       " 'https://www.elperiodista.cl/2022/03/la-hora-del-planeta-invita-a-unirse-en-torno-a-la-proteccion-del-medio-ambiente/',\n",
       " 'https://www.elperiodista.cl/2022/03/ministerio-de-agricultura-busca-erradicar-las-quemas-de-desechos-agricolas-en-chile/',\n",
       " 'https://www.elperiodista.cl/2022/03/acogen-a-tramite-primera-querella-por-abuso-policial-durante-el-nuevo-gobierno/',\n",
       " 'https://www.elperiodista.cl/2022/03/diputada-republicana-pretende-derogar-una-de-las-tres-causales-de-aborto-en-chile/',\n",
       " 'https://www.elperiodista.cl/2022/03/defensa-de-pinera-logra-suspender-intervencion-de-juez-urrutia-en-causa-donde-se-investigan-violaciones-a-ddhh-cometidas-durante-el-estallido/',\n",
       " 'https://www.elperiodista.cl/2022/03/ex-alcaldesa-de-antofagasta-habria-abandonado-el-pais-tras-conocer-sentencia-de-5-anos-y-un-dia/',\n",
       " 'https://www.elperiodista.cl/2022/03/un-12-bajan-las-denuncias-y-casos-por-homofobia-y-transfobia-en-chile-la-primera-merma-en-ocho-anos/',\n",
       " 'https://www.elperiodista.cl/2022/03/recomiendan-aprobar-modificaciones-del-senado-a-ley-antonia/',\n",
       " 'https://www.elperiodista.cl/2022/03/destacada-neurologa-infantil-del-hospital-carlos-van-buren-es-la-primera-mujer-en-recibir-el-premio-nacional-de-medicina/']"
      ]
     },
     "execution_count": 4,
     "metadata": {},
     "output_type": "execute_result"
    }
   ],
   "source": [
    "urls=[]\n",
    "\n",
    "for page in tqdm(range(3)): # revisemos sólo 2 páginas\n",
    "    crawler = Crawler()\n",
    "    response = crawler.get('https://www.elperiodista.cl/category/nacional/page/'+str(page))\n",
    "    crawler.parse(response)\n",
    "\n",
    "    \n",
    "    for url in crawler.url_list:\n",
    "        urls.append(url)\n",
    "\n",
    "    crawler.url_list = urls\n",
    "    \n",
    "crawler.url_list"
   ]
  },
  {
   "cell_type": "code",
   "execution_count": 7,
   "id": "e6099483",
   "metadata": {},
   "outputs": [
    {
     "data": {
      "text/plain": [
       "42"
      ]
     },
     "execution_count": 7,
     "metadata": {},
     "output_type": "execute_result"
    }
   ],
   "source": [
    "len(urls)"
   ]
  },
  {
   "cell_type": "code",
   "execution_count": 8,
   "id": "928cdb23",
   "metadata": {},
   "outputs": [
    {
     "data": {
      "text/plain": [
       "'https://www.elperiodista.cl/2022/03/christian-little-asume-como-director-ejecutivo-de-conaf/'"
      ]
     },
     "execution_count": 8,
     "metadata": {},
     "output_type": "execute_result"
    }
   ],
   "source": [
    "urls[0]"
   ]
  },
  {
   "cell_type": "code",
   "execution_count": null,
   "id": "f8c2d5b1",
   "metadata": {},
   "outputs": [],
   "source": []
  },
  {
   "cell_type": "code",
   "execution_count": 9,
   "id": "d446e5df",
   "metadata": {},
   "outputs": [],
   "source": [
    "URL_NEWS = urls[0]\n",
    "XPATH_TITLE = \"//h1\"\n",
    "XPATH_CONTENT =\"//div[@class='continue-reading-content close']//p\""
   ]
  },
  {
   "cell_type": "code",
   "execution_count": 10,
   "id": "fcc5edaf",
   "metadata": {},
   "outputs": [],
   "source": [
    "class Scraper:\n",
    "    \n",
    "    USER_AGENT_LIST = [\n",
    "        \"Mozilla/5.0 (Windows NT 6.1; WOW64) AppleWebKit/537.1 (KHTML, like Gecko) Chrome/22.0.1207.1 Safari/537.1\",\n",
    "        \"Mozilla/5.0 (X11; CrOS i686 2268.111.0) AppleWebKit/536.11 (KHTML, like Gecko) Chrome/20.0.1132.57 Safari/536.11\",\n",
    "        \"Mozilla/5.0 (Windows NT 6.1; WOW64) AppleWebKit/536.6 (KHTML, like Gecko) Chrome/20.0.1092.0 Safari/536.6\",\n",
    "        \"Mozilla/5.0 (Windows NT 6.2) AppleWebKit/536.6 (KHTML, like Gecko) Chrome/20.0.1090.0 Safari/536.6\",\n",
    "        \"Mozilla/5.0 (Windows NT 6.2; WOW64) AppleWebKit/537.1 (KHTML, like Gecko) Chrome/19.77.34.5 Safari/537.1\",\n",
    "        \"Mozilla/5.0 (X11; Linux x86_64) AppleWebKit/536.5 (KHTML, like Gecko) Chrome/19.0.1084.9 Safari/536.5\",\n",
    "        \"Mozilla/5.0 (Windows NT 6.0) AppleWebKit/536.5 (KHTML, like Gecko) Chrome/19.0.1084.36 Safari/536.5\",\n",
    "        \"Mozilla/5.0 (Windows NT 6.1; WOW64) AppleWebKit/536.3 (KHTML, like Gecko) Chrome/19.0.1063.0 Safari/536.3\",\n",
    "        \"Mozilla/5.0 (Windows NT 5.1) AppleWebKit/536.3 (KHTML, like Gecko) Chrome/19.0.1063.0 Safari/536.3\",\n",
    "        \"Mozilla/5.0 (Macintosh; Intel Mac OS X 10_8_0) AppleWebKit/536.3 (KHTML, like Gecko) Chrome/19.0.1063.0 Safari/536.3\",\n",
    "        \"Mozilla/5.0 (Windows NT 6.2) AppleWebKit/536.3 (KHTML, like Gecko) Chrome/19.0.1062.0 Safari/536.3\",\n",
    "        \"Mozilla/5.0 (Windows NT 6.1; WOW64) AppleWebKit/536.3 (KHTML, like Gecko) Chrome/19.0.1062.0 Safari/536.3\",\n",
    "        \"Mozilla/5.0 (Windows NT 6.2) AppleWebKit/536.3 (KHTML, like Gecko) Chrome/19.0.1061.1 Safari/536.3\",\n",
    "        \"Mozilla/5.0 (Windows NT 6.1; WOW64) AppleWebKit/536.3 (KHTML, like Gecko) Chrome/19.0.1061.1 Safari/536.3\",\n",
    "        \"Mozilla/5.0 (Windows NT 6.1) AppleWebKit/536.3 (KHTML, like Gecko) Chrome/19.0.1061.1 Safari/536.3\",\n",
    "        \"Mozilla/5.0 (Windows NT 6.2) AppleWebKit/536.3 (KHTML, like Gecko) Chrome/19.0.1061.0 Safari/536.3\",\n",
    "        \"Mozilla/5.0 (X11; Linux x86_64) AppleWebKit/535.24 (KHTML, like Gecko) Chrome/19.0.1055.1 Safari/535.24\",\n",
    "        \"Mozilla/5.0 (Windows NT 6.2; WOW64) AppleWebKit/535.24 (KHTML, like Gecko) Chrome/19.0.1055.1 Safari/535.24\"\n",
    "    ]\n",
    "\n",
    "    query_extract_title = XPATH_TITLE\n",
    "    query_extract_text =  XPATH_CONTENT\n",
    "\n",
    "    def _init_(self):\n",
    "        pass\n",
    "   \n",
    "    def get(self,url):\n",
    "        headers = {'user-agent':random.choice(self.USER_AGENT_LIST) }\n",
    "        session = HTMLSession()\n",
    "        response = session.get(url,headers=headers) \n",
    "        return response\n",
    "    \n",
    "    def clean_text(self, html_text):\n",
    "        text_without_tags = w3lib.html.remove_tags(html_text)\n",
    "        text_without_escape_chars = w3lib.html.replace_escape_chars(text_without_tags)\n",
    "        text_without_escape_chars = html.unescape(text_without_escape_chars)\n",
    "        text_without_whitespace = text_without_escape_chars.strip()\n",
    "        return text_without_whitespace\n",
    "\n",
    "    \n",
    "    #### main function ####\n",
    "    def parse(self, response):\n",
    "        \n",
    "        #URL\n",
    "        self.news_url = response.url\n",
    "        \n",
    "        #TITLE\n",
    "        self.news_title = response.html.xpath(self.query_extract_title)[0].text\n",
    "        self.news_title = self.clean_text(self.news_title)\n",
    "       \n",
    "        \n",
    "        #CONTENT\n",
    "        self.news_text = \"\"\n",
    "        \n",
    "        html_paragraphs = response.html.xpath(self.query_extract_text)\n",
    "        \n",
    "        for paragraph in html_paragraphs:\n",
    "            paragraph_content = w3lib.html.remove_tags(paragraph.text)    \n",
    "            text_cleaned = self.clean_text(paragraph_content)\n",
    "            self.news_text = self.news_text+text_cleaned\n"
   ]
  },
  {
   "cell_type": "code",
   "execution_count": 11,
   "id": "d9482704",
   "metadata": {},
   "outputs": [],
   "source": [
    "scraper = Scraper()\n",
    "response =scraper.get(URL_NEWS)"
   ]
  },
  {
   "cell_type": "code",
   "execution_count": 12,
   "id": "d72bc32e",
   "metadata": {},
   "outputs": [],
   "source": [
    "scraper.parse(response)"
   ]
  },
  {
   "cell_type": "code",
   "execution_count": 13,
   "id": "a2e4d401",
   "metadata": {},
   "outputs": [
    {
     "data": {
      "text/plain": [
       "'Christian Little asume como director ejecutivo de CONAF'"
      ]
     },
     "execution_count": 13,
     "metadata": {},
     "output_type": "execute_result"
    }
   ],
   "source": [
    "scraper.news_title"
   ]
  },
  {
   "cell_type": "code",
   "execution_count": 14,
   "id": "162264db",
   "metadata": {},
   "outputs": [
    {
     "data": {
      "text/plain": [
       "'Acompañado por el ministro (s) de Agricultura, José Guajardo, y con una visita a la Central Nacional de Coordinación de la Gerencia de Protección contra Incendios Forestales, Christian Little inició su gestión como director ejecutivo de la Corporación Nacional Forestal (CONAF), tras las reuniones protocolares sostenidas con la directora ejecutiva (i), Carmen Paz Medina, y el equipo gerencial de la institución, durante las primeras horas de la tarde del martes 29 de marzo.En sus primeras declaraciones al mando de la CONAF, el nuevo director de la institución indicó que entre sus retos destacan “mejorar la institucionalidad, que tiene que ver con la propuesta de un nuevo Servicio Nacional Forestal, que va de la mano con otro servicio, que es el Servicio de Biodiversidad y Áreas Protegidas. Es una agenda que tenemos como prioritaria. Otros desafíos dicen relación con aspectos legales asociados a la Ley de Bosque Nativo y reglamentos”.Añadió que también estará preocupado por el fortalecimiento de la institución para dar continuidad a la labor profesional ejecutada por el personal.Por su parte, José Guajardo, ministro (s) de Agricultura, sostuvo que para la secretaría de Estado CONAF es un servicio muy relevante, ya que “hoy día estamos trabajando en todos los temas de medioambiente, de cambio climático, que ha redundado en muchos incendios forestales, pero también significa que los bosques pueden capturar el agua e infiltrarla en el suelo. Tenemos varios temas de biodiversidad, muchas especies que crecen en el bosque”, enumeró, por lo que recalcó que CONAF es importante en el trabajo del ministerio y en el desarrollo del país.TrayectoriaChristian Little Cárdenas es ingeniero forestal, magister en Ciencias, mención Recursos Forestales y doctor en Ciencias Forestales por la Universidad Austral de Chile. Al momento de asumir el cargo, se desempeñaba como investigador principal del Instituto Forestal (Infor), sede Los Ríos, siendo especialista en la relación de ecosistemas forestales y agua del instituto.A ello se suma su participación en instancias de desarrollo de políticas públicas y de nuevos enfoques para la conservación y restauración de bosques nativos, ocupando además los cargos de presidente de la Corporación del Agua y vicepresidente de la Fundación Centro de los Bosques Nativos (Forecos).En su experiencia profesional relacionada con restauración ecológica incluye su participación como socio fundador de la Red Chilena de Restauración Ecológica, conocimiento aplicado en la academia como profesor adjunto del Instituto de Conservación Biodiversidad y Territorio de la Facultad de Ciencias Forestales y Recursos Naturales de la Universidad Austral de Chile hasta 2020. Actualmente es investigador adjunto del Center for Climate and Resilience Research (CR2).Finalmente, la saliente directora ejecutiva (i) de CONAF, Carmen Paz Medina, expresó sus felicitaciones a la autoridad entrante, deseándole “el mayor éxito en su gestión y llamo a mis colegas de todo el país a apoyar al director ejecutivo nombrado por el ministro Esteban Valenzuela en su cargo”.'"
      ]
     },
     "execution_count": 14,
     "metadata": {},
     "output_type": "execute_result"
    }
   ],
   "source": [
    "scraper.news_text"
   ]
  },
  {
   "cell_type": "code",
   "execution_count": 15,
   "id": "a455d5d3",
   "metadata": {},
   "outputs": [],
   "source": [
    "#Verificamos que el scraper devuelve algo\n",
    "assert(len(scraper.news_title)>0)\n",
    "assert(len(scraper.news_text)>0)"
   ]
  },
  {
   "cell_type": "code",
   "execution_count": 16,
   "id": "524ce41b",
   "metadata": {},
   "outputs": [
    {
     "data": {
      "text/html": [
       "<div>\n",
       "<style scoped>\n",
       "    .dataframe tbody tr th:only-of-type {\n",
       "        vertical-align: middle;\n",
       "    }\n",
       "\n",
       "    .dataframe tbody tr th {\n",
       "        vertical-align: top;\n",
       "    }\n",
       "\n",
       "    .dataframe thead th {\n",
       "        text-align: right;\n",
       "    }\n",
       "</style>\n",
       "<table border=\"1\" class=\"dataframe\">\n",
       "  <thead>\n",
       "    <tr style=\"text-align: right;\">\n",
       "      <th></th>\n",
       "      <th>url</th>\n",
       "      <th>title</th>\n",
       "      <th>content</th>\n",
       "    </tr>\n",
       "  </thead>\n",
       "  <tbody>\n",
       "    <tr>\n",
       "      <th>0</th>\n",
       "      <td>https://www.elperiodista.cl/2022/03/christian-...</td>\n",
       "      <td>Christian Little asume como director ejecutivo...</td>\n",
       "      <td>Acompañado por el ministro (s) de Agricultura,...</td>\n",
       "    </tr>\n",
       "  </tbody>\n",
       "</table>\n",
       "</div>"
      ],
      "text/plain": [
       "                                                 url  \\\n",
       "0  https://www.elperiodista.cl/2022/03/christian-...   \n",
       "\n",
       "                                               title  \\\n",
       "0  Christian Little asume como director ejecutivo...   \n",
       "\n",
       "                                             content  \n",
       "0  Acompañado por el ministro (s) de Agricultura,...  "
      ]
     },
     "execution_count": 16,
     "metadata": {},
     "output_type": "execute_result"
    }
   ],
   "source": [
    "df = pd.DataFrame(data={'url': [URL_NEWS],'title':[scraper.news_title], 'content':[scraper.news_text]})\n",
    "df"
   ]
  },
  {
   "cell_type": "code",
   "execution_count": 17,
   "id": "267a48c8",
   "metadata": {},
   "outputs": [
    {
     "data": {
      "application/vnd.jupyter.widget-view+json": {
       "model_id": "4a9d658cd5f649dba47e4a0e51f36757",
       "version_major": 2,
       "version_minor": 0
      },
      "text/plain": [
       "  0%|          | 0/42 [00:00<?, ?it/s]"
      ]
     },
     "metadata": {},
     "output_type": "display_data"
    }
   ],
   "source": [
    "XPATH_TITLE = \"//h1\"\n",
    "XPATH_CONTENT =\"//div[@class='continue-reading-content close']//p\"\n",
    "\n",
    "for url in tqdm(urls):\n",
    "    URL_NEWS = url\n",
    "    scraper = Scraper()\n",
    "    response =scraper.get(URL_NEWS)\n",
    "    scraper.parse(response)\n",
    "    df1 = pd.DataFrame(data={'url': url, 'title':scraper.news_title, 'content':scraper.news_text},index=['url', 'title', 'content'])\n",
    "    df = df.append(df1, ignore_index=True)\n",
    "df = df.drop_duplicates()\n"
   ]
  },
  {
   "cell_type": "code",
   "execution_count": 18,
   "id": "e9c55424",
   "metadata": {
    "scrolled": false
   },
   "outputs": [
    {
     "data": {
      "text/html": [
       "<div>\n",
       "<style scoped>\n",
       "    .dataframe tbody tr th:only-of-type {\n",
       "        vertical-align: middle;\n",
       "    }\n",
       "\n",
       "    .dataframe tbody tr th {\n",
       "        vertical-align: top;\n",
       "    }\n",
       "\n",
       "    .dataframe thead th {\n",
       "        text-align: right;\n",
       "    }\n",
       "</style>\n",
       "<table border=\"1\" class=\"dataframe\">\n",
       "  <thead>\n",
       "    <tr style=\"text-align: right;\">\n",
       "      <th></th>\n",
       "      <th>url</th>\n",
       "      <th>title</th>\n",
       "      <th>content</th>\n",
       "    </tr>\n",
       "  </thead>\n",
       "  <tbody>\n",
       "    <tr>\n",
       "      <th>0</th>\n",
       "      <td>https://www.elperiodista.cl/2022/03/christian-...</td>\n",
       "      <td>Christian Little asume como director ejecutivo...</td>\n",
       "      <td>Acompañado por el ministro (s) de Agricultura,...</td>\n",
       "    </tr>\n",
       "    <tr>\n",
       "      <th>4</th>\n",
       "      <td>https://www.elperiodista.cl/2022/03/investigac...</td>\n",
       "      <td>Investigación de la U. de Chile advierte pelig...</td>\n",
       "      <td>“Ruptura Compleja del Terremoto Illapel 2015 M...</td>\n",
       "    </tr>\n",
       "    <tr>\n",
       "      <th>7</th>\n",
       "      <td>https://www.elperiodista.cl/2022/03/alcaldesa-...</td>\n",
       "      <td>Alcaldesa Hassler aborda desafíos en seguridad...</td>\n",
       "      <td>Esta mañana la alcaldesa de Santiago, Irací Ha...</td>\n",
       "    </tr>\n",
       "    <tr>\n",
       "      <th>10</th>\n",
       "      <td>https://www.elperiodista.cl/2022/03/diputados-...</td>\n",
       "      <td>Diputados UDI envían carta a Boric cuestionand...</td>\n",
       "      <td>El jefe de la Bancada UDI, Jorge Alessandri, j...</td>\n",
       "    </tr>\n",
       "    <tr>\n",
       "      <th>13</th>\n",
       "      <td>https://www.elperiodista.cl/2022/03/tribunal-c...</td>\n",
       "      <td>Tribunal Constitucional declara inadmisible re...</td>\n",
       "      <td>La Primera Sala del Tribunal Constitucional (T...</td>\n",
       "    </tr>\n",
       "    <tr>\n",
       "      <th>16</th>\n",
       "      <td>https://www.elperiodista.cl/2022/03/comision-d...</td>\n",
       "      <td>Comisión de Sistema Político acuerda “presiden...</td>\n",
       "      <td>Constituyentes de todos los sectores llegaron ...</td>\n",
       "    </tr>\n",
       "    <tr>\n",
       "      <th>19</th>\n",
       "      <td>https://www.elperiodista.cl/2022/03/senador-pu...</td>\n",
       "      <td>Senador Pugh pide urgente Trazabilidad del Agu...</td>\n",
       "      <td>Tras conocer un reportaje denuncia que reveló ...</td>\n",
       "    </tr>\n",
       "    <tr>\n",
       "      <th>22</th>\n",
       "      <td>https://www.elperiodista.cl/2022/03/partido-so...</td>\n",
       "      <td>Partido Socialdemócrata de Chile hace su lanza...</td>\n",
       "      <td>Este sábado se desarrolló en la Plaza Ñuñoa de...</td>\n",
       "    </tr>\n",
       "    <tr>\n",
       "      <th>25</th>\n",
       "      <td>https://www.elperiodista.cl/2022/03/hora-del-p...</td>\n",
       "      <td>Hora del Planeta: tras apagar las luces el des...</td>\n",
       "      <td>La invitación a reflexionar y comprometerse co...</td>\n",
       "    </tr>\n",
       "    <tr>\n",
       "      <th>28</th>\n",
       "      <td>https://www.elperiodista.cl/2022/03/apunalan-a...</td>\n",
       "      <td>Apuñalan a joven trans y queda en riesgo vital</td>\n",
       "      <td>La mujer fue atacada con un arma cortante por ...</td>\n",
       "    </tr>\n",
       "    <tr>\n",
       "      <th>31</th>\n",
       "      <td>https://www.elperiodista.cl/2022/03/argentina-...</td>\n",
       "      <td>Argentina da el beneplácito a Bárbara Figueroa</td>\n",
       "      <td>La cancillería confirmó hoy que la expresident...</td>\n",
       "    </tr>\n",
       "    <tr>\n",
       "      <th>34</th>\n",
       "      <td>https://www.elperiodista.cl/2022/03/ministra-v...</td>\n",
       "      <td>Ministra Vallejo negó supuesta llegada de expa...</td>\n",
       "      <td>La ministra vocera de Gobierno, Camila Vallejo...</td>\n",
       "    </tr>\n",
       "    <tr>\n",
       "      <th>37</th>\n",
       "      <td>https://www.elperiodista.cl/2022/03/viaje-izki...</td>\n",
       "      <td>Diputado RN pide a Contraloría investigar viaj...</td>\n",
       "      <td>El diputado de Renovación Nacional, Miguel Mel...</td>\n",
       "    </tr>\n",
       "    <tr>\n",
       "      <th>40</th>\n",
       "      <td>https://www.elperiodista.cl/2022/03/exministro...</td>\n",
       "      <td>Exministro Alberto Espina sufrió ataque cerebr...</td>\n",
       "      <td>El exministro de Defensa, Alberto Espina, sufr...</td>\n",
       "    </tr>\n",
       "    <tr>\n",
       "      <th>97</th>\n",
       "      <td>https://www.elperiodista.cl/2022/03/interior-s...</td>\n",
       "      <td>Interior se querella por estudiante herido por...</td>\n",
       "      <td>El Gobierno presentó una querella por el estud...</td>\n",
       "    </tr>\n",
       "    <tr>\n",
       "      <th>100</th>\n",
       "      <td>https://www.elperiodista.cl/2022/03/la-hora-de...</td>\n",
       "      <td>La Hora del Planeta invita a unirse en torno a...</td>\n",
       "      <td>Este sábado 26 de marzo, entre las 20:30 y 21:...</td>\n",
       "    </tr>\n",
       "    <tr>\n",
       "      <th>103</th>\n",
       "      <td>https://www.elperiodista.cl/2022/03/ministerio...</td>\n",
       "      <td>Ministerio de Agricultura busca erradicar las ...</td>\n",
       "      <td>Una práctica habitual y ancestral en los campo...</td>\n",
       "    </tr>\n",
       "    <tr>\n",
       "      <th>106</th>\n",
       "      <td>https://www.elperiodista.cl/2022/03/acogen-a-t...</td>\n",
       "      <td>Acogen a trámite primera querella por abuso po...</td>\n",
       "      <td>EL 7° Juzgado de Garantía acogió a trámite una...</td>\n",
       "    </tr>\n",
       "    <tr>\n",
       "      <th>109</th>\n",
       "      <td>https://www.elperiodista.cl/2022/03/diputada-r...</td>\n",
       "      <td>Diputada Republicana pretende derogar una de l...</td>\n",
       "      <td>La diputada republicana Chiara Barchiesi anunc...</td>\n",
       "    </tr>\n",
       "    <tr>\n",
       "      <th>112</th>\n",
       "      <td>https://www.elperiodista.cl/2022/03/defensa-de...</td>\n",
       "      <td>Defensa de Piñera logra suspender intervención...</td>\n",
       "      <td>Por resolución de la Corte de Apelaciones de S...</td>\n",
       "    </tr>\n",
       "    <tr>\n",
       "      <th>115</th>\n",
       "      <td>https://www.elperiodista.cl/2022/03/ex-alcalde...</td>\n",
       "      <td>Ex alcaldesa de Antofagasta habría abandonado ...</td>\n",
       "      <td>La exalcaldesa de Antofagasta, Karen Rojo Vene...</td>\n",
       "    </tr>\n",
       "    <tr>\n",
       "      <th>118</th>\n",
       "      <td>https://www.elperiodista.cl/2022/03/un-12-baja...</td>\n",
       "      <td>Un 12% bajan las denuncias y casos por homofob...</td>\n",
       "      <td>Un 12% disminuyeron las denuncias y casos por ...</td>\n",
       "    </tr>\n",
       "    <tr>\n",
       "      <th>121</th>\n",
       "      <td>https://www.elperiodista.cl/2022/03/recomienda...</td>\n",
       "      <td>Recomiendan aprobar modificaciones del Senado ...</td>\n",
       "      <td>Mejorar las garantías procesales, proteger los...</td>\n",
       "    </tr>\n",
       "    <tr>\n",
       "      <th>124</th>\n",
       "      <td>https://www.elperiodista.cl/2022/03/destacada-...</td>\n",
       "      <td>Destacada Neuróloga Infantil del Hospital Carl...</td>\n",
       "      <td>La neuropediatra del Hospital Carlos van Buren...</td>\n",
       "    </tr>\n",
       "  </tbody>\n",
       "</table>\n",
       "</div>"
      ],
      "text/plain": [
       "                                                   url  \\\n",
       "0    https://www.elperiodista.cl/2022/03/christian-...   \n",
       "4    https://www.elperiodista.cl/2022/03/investigac...   \n",
       "7    https://www.elperiodista.cl/2022/03/alcaldesa-...   \n",
       "10   https://www.elperiodista.cl/2022/03/diputados-...   \n",
       "13   https://www.elperiodista.cl/2022/03/tribunal-c...   \n",
       "16   https://www.elperiodista.cl/2022/03/comision-d...   \n",
       "19   https://www.elperiodista.cl/2022/03/senador-pu...   \n",
       "22   https://www.elperiodista.cl/2022/03/partido-so...   \n",
       "25   https://www.elperiodista.cl/2022/03/hora-del-p...   \n",
       "28   https://www.elperiodista.cl/2022/03/apunalan-a...   \n",
       "31   https://www.elperiodista.cl/2022/03/argentina-...   \n",
       "34   https://www.elperiodista.cl/2022/03/ministra-v...   \n",
       "37   https://www.elperiodista.cl/2022/03/viaje-izki...   \n",
       "40   https://www.elperiodista.cl/2022/03/exministro...   \n",
       "97   https://www.elperiodista.cl/2022/03/interior-s...   \n",
       "100  https://www.elperiodista.cl/2022/03/la-hora-de...   \n",
       "103  https://www.elperiodista.cl/2022/03/ministerio...   \n",
       "106  https://www.elperiodista.cl/2022/03/acogen-a-t...   \n",
       "109  https://www.elperiodista.cl/2022/03/diputada-r...   \n",
       "112  https://www.elperiodista.cl/2022/03/defensa-de...   \n",
       "115  https://www.elperiodista.cl/2022/03/ex-alcalde...   \n",
       "118  https://www.elperiodista.cl/2022/03/un-12-baja...   \n",
       "121  https://www.elperiodista.cl/2022/03/recomienda...   \n",
       "124  https://www.elperiodista.cl/2022/03/destacada-...   \n",
       "\n",
       "                                                 title  \\\n",
       "0    Christian Little asume como director ejecutivo...   \n",
       "4    Investigación de la U. de Chile advierte pelig...   \n",
       "7    Alcaldesa Hassler aborda desafíos en seguridad...   \n",
       "10   Diputados UDI envían carta a Boric cuestionand...   \n",
       "13   Tribunal Constitucional declara inadmisible re...   \n",
       "16   Comisión de Sistema Político acuerda “presiden...   \n",
       "19   Senador Pugh pide urgente Trazabilidad del Agu...   \n",
       "22   Partido Socialdemócrata de Chile hace su lanza...   \n",
       "25   Hora del Planeta: tras apagar las luces el des...   \n",
       "28      Apuñalan a joven trans y queda en riesgo vital   \n",
       "31      Argentina da el beneplácito a Bárbara Figueroa   \n",
       "34   Ministra Vallejo negó supuesta llegada de expa...   \n",
       "37   Diputado RN pide a Contraloría investigar viaj...   \n",
       "40   Exministro Alberto Espina sufrió ataque cerebr...   \n",
       "97   Interior se querella por estudiante herido por...   \n",
       "100  La Hora del Planeta invita a unirse en torno a...   \n",
       "103  Ministerio de Agricultura busca erradicar las ...   \n",
       "106  Acogen a trámite primera querella por abuso po...   \n",
       "109  Diputada Republicana pretende derogar una de l...   \n",
       "112  Defensa de Piñera logra suspender intervención...   \n",
       "115  Ex alcaldesa de Antofagasta habría abandonado ...   \n",
       "118  Un 12% bajan las denuncias y casos por homofob...   \n",
       "121  Recomiendan aprobar modificaciones del Senado ...   \n",
       "124  Destacada Neuróloga Infantil del Hospital Carl...   \n",
       "\n",
       "                                               content  \n",
       "0    Acompañado por el ministro (s) de Agricultura,...  \n",
       "4    “Ruptura Compleja del Terremoto Illapel 2015 M...  \n",
       "7    Esta mañana la alcaldesa de Santiago, Irací Ha...  \n",
       "10   El jefe de la Bancada UDI, Jorge Alessandri, j...  \n",
       "13   La Primera Sala del Tribunal Constitucional (T...  \n",
       "16   Constituyentes de todos los sectores llegaron ...  \n",
       "19   Tras conocer un reportaje denuncia que reveló ...  \n",
       "22   Este sábado se desarrolló en la Plaza Ñuñoa de...  \n",
       "25   La invitación a reflexionar y comprometerse co...  \n",
       "28   La mujer fue atacada con un arma cortante por ...  \n",
       "31   La cancillería confirmó hoy que la expresident...  \n",
       "34   La ministra vocera de Gobierno, Camila Vallejo...  \n",
       "37   El diputado de Renovación Nacional, Miguel Mel...  \n",
       "40   El exministro de Defensa, Alberto Espina, sufr...  \n",
       "97   El Gobierno presentó una querella por el estud...  \n",
       "100  Este sábado 26 de marzo, entre las 20:30 y 21:...  \n",
       "103  Una práctica habitual y ancestral en los campo...  \n",
       "106  EL 7° Juzgado de Garantía acogió a trámite una...  \n",
       "109  La diputada republicana Chiara Barchiesi anunc...  \n",
       "112  Por resolución de la Corte de Apelaciones de S...  \n",
       "115  La exalcaldesa de Antofagasta, Karen Rojo Vene...  \n",
       "118  Un 12% disminuyeron las denuncias y casos por ...  \n",
       "121  Mejorar las garantías procesales, proteger los...  \n",
       "124  La neuropediatra del Hospital Carlos van Buren...  "
      ]
     },
     "execution_count": 18,
     "metadata": {},
     "output_type": "execute_result"
    }
   ],
   "source": [
    "df"
   ]
  },
  {
   "cell_type": "code",
   "execution_count": null,
   "id": "2e565eca",
   "metadata": {},
   "outputs": [],
   "source": []
  }
 ],
 "metadata": {
  "kernelspec": {
   "display_name": "Python 3 (ipykernel)",
   "language": "python",
   "name": "python3"
  },
  "language_info": {
   "codemirror_mode": {
    "name": "ipython",
    "version": 3
   },
   "file_extension": ".py",
   "mimetype": "text/x-python",
   "name": "python",
   "nbconvert_exporter": "python",
   "pygments_lexer": "ipython3",
   "version": "3.8.10"
  }
 },
 "nbformat": 4,
 "nbformat_minor": 5
}
