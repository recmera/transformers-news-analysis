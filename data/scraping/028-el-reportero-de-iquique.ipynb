{
 "cells": [
  {
   "cell_type": "code",
   "execution_count": 1,
   "id": "e42c42ef",
   "metadata": {},
   "outputs": [],
   "source": [
    "import json\n",
    "import w3lib.html\n",
    "import random\n",
    "import os\n",
    "from datetime import datetime\n",
    "import requests\n",
    "import string\n",
    "import calendar\n",
    "import html\n",
    "import locale \n",
    "from requests_html import HTMLSession\n",
    "from requests_html import HTML\n",
    "import validators\n",
    "import pandas as pd\n",
    "from tqdm.notebook import tqdm\n",
    "\n",
    "import warnings\n",
    "warnings.filterwarnings('ignore')"
   ]
  },
  {
   "cell_type": "code",
   "execution_count": 2,
   "id": "79bb0b1d",
   "metadata": {},
   "outputs": [],
   "source": [
    "URL_SEED = 'https://elreporterodeiquique.com/category/noticias/page/1/'\n",
    "XPATH_HREF = \"//h2/a/@href\""
   ]
  },
  {
   "cell_type": "code",
   "execution_count": 3,
   "id": "c8a6236e",
   "metadata": {},
   "outputs": [],
   "source": [
    "class Crawler():\n",
    "    \n",
    "    USER_AGENT_LIST = [\n",
    "        \"Mozilla/5.0 (Windows NT 6.1; WOW64) AppleWebKit/537.1 (KHTML, like Gecko) Chrome/22.0.1207.1 Safari/537.1\",\n",
    "        \"Mozilla/5.0 (X11; CrOS i686 2268.111.0) AppleWebKit/536.11 (KHTML, like Gecko) Chrome/20.0.1132.57 Safari/536.11\",\n",
    "        \"Mozilla/5.0 (Windows NT 6.1; WOW64) AppleWebKit/536.6 (KHTML, like Gecko) Chrome/20.0.1092.0 Safari/536.6\",\n",
    "        \"Mozilla/5.0 (Windows NT 6.2) AppleWebKit/536.6 (KHTML, like Gecko) Chrome/20.0.1090.0 Safari/536.6\",\n",
    "        \"Mozilla/5.0 (Windows NT 6.2; WOW64) AppleWebKit/537.1 (KHTML, like Gecko) Chrome/19.77.34.5 Safari/537.1\",\n",
    "        \"Mozilla/5.0 (X11; Linux x86_64) AppleWebKit/536.5 (KHTML, like Gecko) Chrome/19.0.1084.9 Safari/536.5\",\n",
    "        \"Mozilla/5.0 (Windows NT 6.0) AppleWebKit/536.5 (KHTML, like Gecko) Chrome/19.0.1084.36 Safari/536.5\",\n",
    "        \"Mozilla/5.0 (Windows NT 6.1; WOW64) AppleWebKit/536.3 (KHTML, like Gecko) Chrome/19.0.1063.0 Safari/536.3\",\n",
    "        \"Mozilla/5.0 (Windows NT 5.1) AppleWebKit/536.3 (KHTML, like Gecko) Chrome/19.0.1063.0 Safari/536.3\",\n",
    "        \"Mozilla/5.0 (Macintosh; Intel Mac OS X 10_8_0) AppleWebKit/536.3 (KHTML, like Gecko) Chrome/19.0.1063.0 Safari/536.3\",\n",
    "        \"Mozilla/5.0 (Windows NT 6.2) AppleWebKit/536.3 (KHTML, like Gecko) Chrome/19.0.1062.0 Safari/536.3\",\n",
    "        \"Mozilla/5.0 (Windows NT 6.1; WOW64) AppleWebKit/536.3 (KHTML, like Gecko) Chrome/19.0.1062.0 Safari/536.3\",\n",
    "        \"Mozilla/5.0 (Windows NT 6.2) AppleWebKit/536.3 (KHTML, like Gecko) Chrome/19.0.1061.1 Safari/536.3\",\n",
    "        \"Mozilla/5.0 (Windows NT 6.1; WOW64) AppleWebKit/536.3 (KHTML, like Gecko) Chrome/19.0.1061.1 Safari/536.3\",\n",
    "        \"Mozilla/5.0 (Windows NT 6.1) AppleWebKit/536.3 (KHTML, like Gecko) Chrome/19.0.1061.1 Safari/536.3\",\n",
    "        \"Mozilla/5.0 (Windows NT 6.2) AppleWebKit/536.3 (KHTML, like Gecko) Chrome/19.0.1061.0 Safari/536.3\",\n",
    "        \"Mozilla/5.0 (X11; Linux x86_64) AppleWebKit/535.24 (KHTML, like Gecko) Chrome/19.0.1055.1 Safari/535.24\",\n",
    "        \"Mozilla/5.0 (Windows NT 6.2; WOW64) AppleWebKit/535.24 (KHTML, like Gecko) Chrome/19.0.1055.1 Safari/535.24\"\n",
    "    ]\n",
    "\n",
    "    #Ruta XPATH hacia los enlaces que queremos recopilar\n",
    "    xpath_href=XPATH_HREF\n",
    "\n",
    "    #variable que permite listar todos los enlaces recopilado\n",
    "    url_list = []\n",
    "    \n",
    "    def _init_(self, URL_SEED, XPATH_HREF):        \n",
    "        pass\n",
    "\n",
    "    \n",
    "    def get(self,url):\n",
    "        session = HTMLSession()\n",
    "        header = dict()\n",
    "        header['user-agent'] = random.choice(self.USER_AGENT_LIST)\n",
    "        response = session.get(url,headers=header)        \n",
    "        return response\n",
    "    \n",
    "    def parse(self, response):\n",
    "        self.url_list = []\n",
    "        urls = response.html.xpath(self.xpath_href)\n",
    "        for url in urls:\n",
    "            self.url_list.append(url)\n"
   ]
  },
  {
   "cell_type": "code",
   "execution_count": 4,
   "id": "e016daec",
   "metadata": {
    "scrolled": true
   },
   "outputs": [
    {
     "data": {
      "application/vnd.jupyter.widget-view+json": {
       "model_id": "17514384178c4455b4815f093238e663",
       "version_major": 2,
       "version_minor": 0
      },
      "text/plain": [
       "  0%|          | 0/3 [00:00<?, ?it/s]"
      ]
     },
     "metadata": {},
     "output_type": "display_data"
    },
    {
     "data": {
      "text/plain": [
       "['https://elreporterodeiquique.com/chile-cae-ante-uruguay-en-el-cierre-de-las-eliminatorias-al-mundial-de-qatar/',\n",
       " 'https://elreporterodeiquique.com/bhp-anuncia-planes-de-inversion-en-chile-por-mas-de-us-10-mil-millones/',\n",
       " 'https://elreporterodeiquique.com/ministra-del-interior-entrega-respaldo-a-carabineros-no-vamos-a-tolerar-la-golpiza-a-nuestros-funcionarios/',\n",
       " 'https://elreporterodeiquique.com/ministra-de-mineria-pide-confianza-al-sector-al-gobierno-no-le-interesa-nacionalizar-expropiar-ni-ahuyentar-inversion/',\n",
       " 'https://elreporterodeiquique.com/dos-detenidos-por-infraccion-a-ley-de-drogas-en-alto-hospicio/',\n",
       " 'https://elreporterodeiquique.com/juzgado-de-garantia-de-iquique-decreta-la-prision-preventiva-de-imputado-por-conduccion-bajo-la-influencia-de-estupefacientes-con-resultado-de-lesiones-graves-a-carabinero/',\n",
       " 'https://elreporterodeiquique.com/corte-de-iquique-confirma-suspension-condicional-del-procedimiento-en-causa-por-infraccion-a-ley-electoral/',\n",
       " 'https://elreporterodeiquique.com/covid-19-se-reportan-3-017-nuevos-casos-con-34-785-examenes-a-nivel-nacional-en-las-ultimas-24-horas-con-una-positividad-de-802-en-tarapaca-22-casos/',\n",
       " 'https://elreporterodeiquique.com/diputado-trisotti-y-ausencia-en-designacion-de-seremis-es-una-clara-senal-de-que-para-este-gobierno-las-regiones-no-son-importantes%ef%bf%bc/',\n",
       " 'https://elreporterodeiquique.com/presidente-castillo-se-salva-de-ser-destituido-por-el-congreso-de-peru/',\n",
       " 'https://elreporterodeiquique.com/sec-tarapaca-recuerda-que-productos-electricos-deben-contar-con-sello-sec-para-un-uso-seguro/',\n",
       " 'https://elreporterodeiquique.com/chile-cae-ante-uruguay-en-el-cierre-de-las-eliminatorias-al-mundial-de-qatar/',\n",
       " 'https://elreporterodeiquique.com/bhp-anuncia-planes-de-inversion-en-chile-por-mas-de-us-10-mil-millones/',\n",
       " 'https://elreporterodeiquique.com/ministra-del-interior-entrega-respaldo-a-carabineros-no-vamos-a-tolerar-la-golpiza-a-nuestros-funcionarios/',\n",
       " 'https://elreporterodeiquique.com/ministra-de-mineria-pide-confianza-al-sector-al-gobierno-no-le-interesa-nacionalizar-expropiar-ni-ahuyentar-inversion/',\n",
       " 'https://elreporterodeiquique.com/dos-detenidos-por-infraccion-a-ley-de-drogas-en-alto-hospicio/',\n",
       " 'https://elreporterodeiquique.com/juzgado-de-garantia-de-iquique-decreta-la-prision-preventiva-de-imputado-por-conduccion-bajo-la-influencia-de-estupefacientes-con-resultado-de-lesiones-graves-a-carabinero/',\n",
       " 'https://elreporterodeiquique.com/corte-de-iquique-confirma-suspension-condicional-del-procedimiento-en-causa-por-infraccion-a-ley-electoral/',\n",
       " 'https://elreporterodeiquique.com/covid-19-se-reportan-3-017-nuevos-casos-con-34-785-examenes-a-nivel-nacional-en-las-ultimas-24-horas-con-una-positividad-de-802-en-tarapaca-22-casos/',\n",
       " 'https://elreporterodeiquique.com/diputado-trisotti-y-ausencia-en-designacion-de-seremis-es-una-clara-senal-de-que-para-este-gobierno-las-regiones-no-son-importantes%ef%bf%bc/',\n",
       " 'https://elreporterodeiquique.com/presidente-castillo-se-salva-de-ser-destituido-por-el-congreso-de-peru/',\n",
       " 'https://elreporterodeiquique.com/sec-tarapaca-recuerda-que-productos-electricos-deben-contar-con-sello-sec-para-un-uso-seguro/',\n",
       " 'https://elreporterodeiquique.com/senado-avanza-ley-integral-de-las-personas-adultas-mayores-y-de-promocion-del-envejecimiento-positivo/',\n",
       " 'https://elreporterodeiquique.com/destacando-a-especialistas-invitados-se-realizo-la-ceremonia-de-cierre-del-festival-de-la-ciencia-de-explora-tarapaca%ef%bf%bc/',\n",
       " 'https://elreporterodeiquique.com/unidad-canina-de-gendarmeria-despidio-a-su-ejemplar-eros/',\n",
       " 'https://elreporterodeiquique.com/los-top-10-de-los-autos-usados-mas-vendidos/',\n",
       " 'https://elreporterodeiquique.com/de-cara-a-la-operacion-renta-2022-verdaderos-asesores-y-apoyados-en-la-tecnologia-el-nuevo-perfil-del-contador-en-la-era-digital%ef%bf%bc/',\n",
       " 'https://elreporterodeiquique.com/tarapaca-condenan-a-cinco-miembros-de-la-banda-los-juanitos-por-homicidio-frustrado/',\n",
       " 'https://elreporterodeiquique.com/carabineros-detuvo-a-90-personas-el-fin-de-semana-pasado/',\n",
       " 'https://elreporterodeiquique.com/jovenes-del-tamarugal-finalizan-practicas-profesionales-en-centro-de-investigacion-agropecuario-de-pozo-almonte/',\n",
       " 'https://elreporterodeiquique.com/detenidos-por-receptacion-de-vehiculo-con-encargo-de-robo-y-amenazas-de-muerte-a-carabineros/',\n",
       " 'https://elreporterodeiquique.com/covid-19-se-reportan-4-463-nuevos-casos-con-56-395-examenes-a-nivel-nacional-en-las-ultimas-24-horas-con-una-positividad-de-725-en-tarapaca-34-casos-y-un-fallecido/',\n",
       " 'https://elreporterodeiquique.com/atencion-tarapaca-pronto-hay-cambio-de-horario-de-invierno/']"
      ]
     },
     "execution_count": 4,
     "metadata": {},
     "output_type": "execute_result"
    }
   ],
   "source": [
    "urls=[]\n",
    "\n",
    "for page in tqdm(range(3)): # revisemos sólo 2 páginas\n",
    "    crawler = Crawler()\n",
    "    response = crawler.get('https://elreporterodeiquique.com/category/noticias/page/'+str(page))\n",
    "    crawler.parse(response)\n",
    "\n",
    "    \n",
    "    for url in crawler.url_list:\n",
    "        urls.append(url)\n",
    "\n",
    "    crawler.url_list = urls\n",
    "    \n",
    "crawler.url_list"
   ]
  },
  {
   "cell_type": "code",
   "execution_count": 5,
   "id": "e6099483",
   "metadata": {},
   "outputs": [
    {
     "data": {
      "text/plain": [
       "33"
      ]
     },
     "execution_count": 5,
     "metadata": {},
     "output_type": "execute_result"
    }
   ],
   "source": [
    "len(urls)"
   ]
  },
  {
   "cell_type": "code",
   "execution_count": 6,
   "id": "928cdb23",
   "metadata": {},
   "outputs": [
    {
     "data": {
      "text/plain": [
       "'https://elreporterodeiquique.com/chile-cae-ante-uruguay-en-el-cierre-de-las-eliminatorias-al-mundial-de-qatar/'"
      ]
     },
     "execution_count": 6,
     "metadata": {},
     "output_type": "execute_result"
    }
   ],
   "source": [
    "urls[0]"
   ]
  },
  {
   "cell_type": "code",
   "execution_count": null,
   "id": "f8c2d5b1",
   "metadata": {},
   "outputs": [],
   "source": []
  },
  {
   "cell_type": "code",
   "execution_count": 8,
   "id": "d446e5df",
   "metadata": {},
   "outputs": [],
   "source": [
    "URL_NEWS = urls[0]\n",
    "XPATH_TITLE = \"//h1\"\n",
    "XPATH_CONTENT =\"//div[@class='post-content']//p\""
   ]
  },
  {
   "cell_type": "code",
   "execution_count": 9,
   "id": "fcc5edaf",
   "metadata": {},
   "outputs": [],
   "source": [
    "class Scraper:\n",
    "    \n",
    "    USER_AGENT_LIST = [\n",
    "        \"Mozilla/5.0 (Windows NT 6.1; WOW64) AppleWebKit/537.1 (KHTML, like Gecko) Chrome/22.0.1207.1 Safari/537.1\",\n",
    "        \"Mozilla/5.0 (X11; CrOS i686 2268.111.0) AppleWebKit/536.11 (KHTML, like Gecko) Chrome/20.0.1132.57 Safari/536.11\",\n",
    "        \"Mozilla/5.0 (Windows NT 6.1; WOW64) AppleWebKit/536.6 (KHTML, like Gecko) Chrome/20.0.1092.0 Safari/536.6\",\n",
    "        \"Mozilla/5.0 (Windows NT 6.2) AppleWebKit/536.6 (KHTML, like Gecko) Chrome/20.0.1090.0 Safari/536.6\",\n",
    "        \"Mozilla/5.0 (Windows NT 6.2; WOW64) AppleWebKit/537.1 (KHTML, like Gecko) Chrome/19.77.34.5 Safari/537.1\",\n",
    "        \"Mozilla/5.0 (X11; Linux x86_64) AppleWebKit/536.5 (KHTML, like Gecko) Chrome/19.0.1084.9 Safari/536.5\",\n",
    "        \"Mozilla/5.0 (Windows NT 6.0) AppleWebKit/536.5 (KHTML, like Gecko) Chrome/19.0.1084.36 Safari/536.5\",\n",
    "        \"Mozilla/5.0 (Windows NT 6.1; WOW64) AppleWebKit/536.3 (KHTML, like Gecko) Chrome/19.0.1063.0 Safari/536.3\",\n",
    "        \"Mozilla/5.0 (Windows NT 5.1) AppleWebKit/536.3 (KHTML, like Gecko) Chrome/19.0.1063.0 Safari/536.3\",\n",
    "        \"Mozilla/5.0 (Macintosh; Intel Mac OS X 10_8_0) AppleWebKit/536.3 (KHTML, like Gecko) Chrome/19.0.1063.0 Safari/536.3\",\n",
    "        \"Mozilla/5.0 (Windows NT 6.2) AppleWebKit/536.3 (KHTML, like Gecko) Chrome/19.0.1062.0 Safari/536.3\",\n",
    "        \"Mozilla/5.0 (Windows NT 6.1; WOW64) AppleWebKit/536.3 (KHTML, like Gecko) Chrome/19.0.1062.0 Safari/536.3\",\n",
    "        \"Mozilla/5.0 (Windows NT 6.2) AppleWebKit/536.3 (KHTML, like Gecko) Chrome/19.0.1061.1 Safari/536.3\",\n",
    "        \"Mozilla/5.0 (Windows NT 6.1; WOW64) AppleWebKit/536.3 (KHTML, like Gecko) Chrome/19.0.1061.1 Safari/536.3\",\n",
    "        \"Mozilla/5.0 (Windows NT 6.1) AppleWebKit/536.3 (KHTML, like Gecko) Chrome/19.0.1061.1 Safari/536.3\",\n",
    "        \"Mozilla/5.0 (Windows NT 6.2) AppleWebKit/536.3 (KHTML, like Gecko) Chrome/19.0.1061.0 Safari/536.3\",\n",
    "        \"Mozilla/5.0 (X11; Linux x86_64) AppleWebKit/535.24 (KHTML, like Gecko) Chrome/19.0.1055.1 Safari/535.24\",\n",
    "        \"Mozilla/5.0 (Windows NT 6.2; WOW64) AppleWebKit/535.24 (KHTML, like Gecko) Chrome/19.0.1055.1 Safari/535.24\"\n",
    "    ]\n",
    "\n",
    "    query_extract_title = XPATH_TITLE\n",
    "    query_extract_text =  XPATH_CONTENT\n",
    "\n",
    "    def _init_(self):\n",
    "        pass\n",
    "   \n",
    "    def get(self,url):\n",
    "        headers = {'user-agent':random.choice(self.USER_AGENT_LIST) }\n",
    "        session = HTMLSession()\n",
    "        response = session.get(url,headers=headers) \n",
    "        return response\n",
    "    \n",
    "    def clean_text(self, html_text):\n",
    "        text_without_tags = w3lib.html.remove_tags(html_text)\n",
    "        text_without_escape_chars = w3lib.html.replace_escape_chars(text_without_tags)\n",
    "        text_without_escape_chars = html.unescape(text_without_escape_chars)\n",
    "        text_without_whitespace = text_without_escape_chars.strip()\n",
    "        return text_without_whitespace\n",
    "\n",
    "    \n",
    "    #### main function ####\n",
    "    def parse(self, response):\n",
    "        \n",
    "        #URL\n",
    "        self.news_url = response.url\n",
    "        \n",
    "        #TITLE\n",
    "        self.news_title = response.html.xpath(self.query_extract_title)[0].text\n",
    "        self.news_title = self.clean_text(self.news_title)\n",
    "       \n",
    "        \n",
    "        #CONTENT\n",
    "        self.news_text = \"\"\n",
    "        \n",
    "        html_paragraphs = response.html.xpath(self.query_extract_text)\n",
    "        \n",
    "        for paragraph in html_paragraphs:\n",
    "            paragraph_content = w3lib.html.remove_tags(paragraph.text)    \n",
    "            text_cleaned = self.clean_text(paragraph_content)\n",
    "            self.news_text = self.news_text+text_cleaned\n"
   ]
  },
  {
   "cell_type": "code",
   "execution_count": 10,
   "id": "d9482704",
   "metadata": {},
   "outputs": [],
   "source": [
    "scraper = Scraper()\n",
    "response =scraper.get(URL_NEWS)"
   ]
  },
  {
   "cell_type": "code",
   "execution_count": 11,
   "id": "d72bc32e",
   "metadata": {},
   "outputs": [],
   "source": [
    "scraper.parse(response)"
   ]
  },
  {
   "cell_type": "code",
   "execution_count": 12,
   "id": "a2e4d401",
   "metadata": {},
   "outputs": [
    {
     "data": {
      "text/plain": [
       "'Chile cae ante Uruguay en el cierre de las Eliminatorias al Mundial de Qatar'"
      ]
     },
     "execution_count": 12,
     "metadata": {},
     "output_type": "execute_result"
    }
   ],
   "source": [
    "scraper.news_title"
   ]
  },
  {
   "cell_type": "code",
   "execution_count": 13,
   "id": "162264db",
   "metadata": {},
   "outputs": [
    {
     "data": {
      "text/plain": [
       "'El elenco dirigido por Martín Lasarte perdió por dos a cero ante los celestes en San Carlos de Apoquindo.Ante once mil personas se disputó el último encuentro de la Selección Chilena como local en las Eliminatorias al Mundial de Qatar 2022.El elenco nacional llegaba a esta última fecha con opciones de conseguir un cupo en el repechaje, pero no dependía de sí mismo, ya que tanto Perú como Colombia no debían ganar sus respectivos encuentros.No obstante,\\xa0La Roja no pudo con Uruguay, y un intenso y entretenido partido cayó por dos goles a cero.El primer lapso fue muy parejo y ambos elencos tuvieron opciones de gol, pero no fueron capaces de vulnerar la portería contraria.Los goles, en tanto,\\xa0llegaron en el segundo lapso. Primero, por medio de Luis Suárez (79′) y Valverde (90′).A pesar de la derrota, el público despidió con una ovación al equipo chileno, aplaudiendo la actitud mostrada durante toda la Eliminatoria.Estadio: San Carlos de ApoquindoÁrbitro:\\xa0Patricio LousteauChile:\\xa0Claudio Bravo; Mauricio Isla, Gary Medel, Benjamín Kuscevic, Gabriel Suazo; Erick Pulgar (66′ Diego Valdés), Arturo Vidal (80′ Jean Meneses), Charles Aránguiz; Joaquín Montecinos, Alexis Sánchez y Ben Brereton Díaz (80′ Ronnie Fernández). DT: Martín LasarteUruguay:\\xa0Sergio Rochet; Ronald Araújo, Sebastián Coates, Diego Godín, Matías Viñas; Lucas Torreira (72′ Manuel Ugarte), Federico Valverde, Rodrigo Bentancur (72′ Maxi Gómez); Nicolás de la Cruz (62′ Giorgan de Arrascaeta), Diego Rossi (72′ Damián Suárez) y Edinson Cavani (28′ Luis Suárez). DT: Diego Alonso.Amarillas:\\xa0Kuscevic y Medel (Chile); Bentancur (Uruguay).Goles:\\xa00-1 Suárez (79′), 0-2 Valverde (90′)Fuente: https://laroja.cl/'"
      ]
     },
     "execution_count": 13,
     "metadata": {},
     "output_type": "execute_result"
    }
   ],
   "source": [
    "scraper.news_text"
   ]
  },
  {
   "cell_type": "code",
   "execution_count": 14,
   "id": "a455d5d3",
   "metadata": {},
   "outputs": [],
   "source": [
    "#Verificamos que el scraper devuelve algo\n",
    "assert(len(scraper.news_title)>0)\n",
    "assert(len(scraper.news_text)>0)"
   ]
  },
  {
   "cell_type": "code",
   "execution_count": 15,
   "id": "524ce41b",
   "metadata": {},
   "outputs": [
    {
     "data": {
      "text/html": [
       "<div>\n",
       "<style scoped>\n",
       "    .dataframe tbody tr th:only-of-type {\n",
       "        vertical-align: middle;\n",
       "    }\n",
       "\n",
       "    .dataframe tbody tr th {\n",
       "        vertical-align: top;\n",
       "    }\n",
       "\n",
       "    .dataframe thead th {\n",
       "        text-align: right;\n",
       "    }\n",
       "</style>\n",
       "<table border=\"1\" class=\"dataframe\">\n",
       "  <thead>\n",
       "    <tr style=\"text-align: right;\">\n",
       "      <th></th>\n",
       "      <th>url</th>\n",
       "      <th>title</th>\n",
       "      <th>content</th>\n",
       "    </tr>\n",
       "  </thead>\n",
       "  <tbody>\n",
       "    <tr>\n",
       "      <th>0</th>\n",
       "      <td>https://elreporterodeiquique.com/chile-cae-ant...</td>\n",
       "      <td>Chile cae ante Uruguay en el cierre de las Eli...</td>\n",
       "      <td>El elenco dirigido por Martín Lasarte perdió p...</td>\n",
       "    </tr>\n",
       "  </tbody>\n",
       "</table>\n",
       "</div>"
      ],
      "text/plain": [
       "                                                 url  \\\n",
       "0  https://elreporterodeiquique.com/chile-cae-ant...   \n",
       "\n",
       "                                               title  \\\n",
       "0  Chile cae ante Uruguay en el cierre de las Eli...   \n",
       "\n",
       "                                             content  \n",
       "0  El elenco dirigido por Martín Lasarte perdió p...  "
      ]
     },
     "execution_count": 15,
     "metadata": {},
     "output_type": "execute_result"
    }
   ],
   "source": [
    "df = pd.DataFrame(data={'url': [URL_NEWS],'title':[scraper.news_title], 'content':[scraper.news_text]})\n",
    "df"
   ]
  },
  {
   "cell_type": "code",
   "execution_count": 16,
   "id": "267a48c8",
   "metadata": {},
   "outputs": [
    {
     "data": {
      "application/vnd.jupyter.widget-view+json": {
       "model_id": "8ba0a5f8bdc0442b8641fa6a5c0443aa",
       "version_major": 2,
       "version_minor": 0
      },
      "text/plain": [
       "  0%|          | 0/33 [00:00<?, ?it/s]"
      ]
     },
     "metadata": {},
     "output_type": "display_data"
    }
   ],
   "source": [
    "XPATH_TITLE = \"//h1\"\n",
    "XPATH_CONTENT =\"//div[@class='post-content']//p\"\n",
    "\n",
    "for url in tqdm(urls):\n",
    "    URL_NEWS = url\n",
    "    scraper = Scraper()\n",
    "    response =scraper.get(URL_NEWS)\n",
    "    scraper.parse(response)\n",
    "    df1 = pd.DataFrame(data={'url': url, 'title':scraper.news_title, 'content':scraper.news_text},index=['url', 'title', 'content'])\n",
    "    df = df.append(df1, ignore_index=True)\n",
    "df = df.drop_duplicates()\n"
   ]
  },
  {
   "cell_type": "code",
   "execution_count": 17,
   "id": "e9c55424",
   "metadata": {},
   "outputs": [
    {
     "data": {
      "text/html": [
       "<div>\n",
       "<style scoped>\n",
       "    .dataframe tbody tr th:only-of-type {\n",
       "        vertical-align: middle;\n",
       "    }\n",
       "\n",
       "    .dataframe tbody tr th {\n",
       "        vertical-align: top;\n",
       "    }\n",
       "\n",
       "    .dataframe thead th {\n",
       "        text-align: right;\n",
       "    }\n",
       "</style>\n",
       "<table border=\"1\" class=\"dataframe\">\n",
       "  <thead>\n",
       "    <tr style=\"text-align: right;\">\n",
       "      <th></th>\n",
       "      <th>url</th>\n",
       "      <th>title</th>\n",
       "      <th>content</th>\n",
       "    </tr>\n",
       "  </thead>\n",
       "  <tbody>\n",
       "    <tr>\n",
       "      <th>0</th>\n",
       "      <td>https://elreporterodeiquique.com/chile-cae-ant...</td>\n",
       "      <td>Chile cae ante Uruguay en el cierre de las Eli...</td>\n",
       "      <td>El elenco dirigido por Martín Lasarte perdió p...</td>\n",
       "    </tr>\n",
       "    <tr>\n",
       "      <th>4</th>\n",
       "      <td>https://elreporterodeiquique.com/bhp-anuncia-p...</td>\n",
       "      <td>BHP anuncia planes de inversión en Chile por m...</td>\n",
       "      <td>–La inversión permitirá generar beneficios com...</td>\n",
       "    </tr>\n",
       "    <tr>\n",
       "      <th>7</th>\n",
       "      <td>https://elreporterodeiquique.com/ministra-del-...</td>\n",
       "      <td>Ministra del Interior entrega respaldo a Carab...</td>\n",
       "      <td>-«Para avanzar en mayor seguridad y detener la...</td>\n",
       "    </tr>\n",
       "    <tr>\n",
       "      <th>10</th>\n",
       "      <td>https://elreporterodeiquique.com/ministra-de-m...</td>\n",
       "      <td>Ministra de Minería pide «confianza» al sector...</td>\n",
       "      <td>-«Marcela Hernando también habló sobre el futu...</td>\n",
       "    </tr>\n",
       "    <tr>\n",
       "      <th>13</th>\n",
       "      <td>https://elreporterodeiquique.com/dos-detenidos...</td>\n",
       "      <td>Dos detenidos por infracción a Ley de Drogas e...</td>\n",
       "      <td>Carabineros de la Tercera Comisaría de Alto Ho...</td>\n",
       "    </tr>\n",
       "    <tr>\n",
       "      <th>16</th>\n",
       "      <td>https://elreporterodeiquique.com/juzgado-de-ga...</td>\n",
       "      <td>Juzgado de Garantía de Iquique decreta la pris...</td>\n",
       "      <td>El Juzgado de Garantía de Iquique dejó hoy –ma...</td>\n",
       "    </tr>\n",
       "    <tr>\n",
       "      <th>19</th>\n",
       "      <td>https://elreporterodeiquique.com/corte-de-iqui...</td>\n",
       "      <td>Corte de Iquique confirma suspensión condicion...</td>\n",
       "      <td>La Corte de Apelaciones de Iquique rechazó -el...</td>\n",
       "    </tr>\n",
       "    <tr>\n",
       "      <th>22</th>\n",
       "      <td>https://elreporterodeiquique.com/covid-19-se-r...</td>\n",
       "      <td>COVID-19: Se reportan 3.017 nuevos casos, con ...</td>\n",
       "      <td>El Ministerio de Salud informa 3.017 casos nue...</td>\n",
       "    </tr>\n",
       "    <tr>\n",
       "      <th>25</th>\n",
       "      <td>https://elreporterodeiquique.com/diputado-tris...</td>\n",
       "      <td>Diputado Trisotti y ausencia en designación de...</td>\n",
       "      <td>–El parlamentario por Tarapacá, Renzo Trisotti...</td>\n",
       "    </tr>\n",
       "    <tr>\n",
       "      <th>28</th>\n",
       "      <td>https://elreporterodeiquique.com/presidente-ca...</td>\n",
       "      <td>Presidente Castillo se salva de ser destituido...</td>\n",
       "      <td>Tras un debate de más de ocho horas de duració...</td>\n",
       "    </tr>\n",
       "    <tr>\n",
       "      <th>31</th>\n",
       "      <td>https://elreporterodeiquique.com/sec-tarapaca-...</td>\n",
       "      <td>SEC Tarapacá recuerda que productos eléctricos...</td>\n",
       "      <td>La Dirección Regional Tarapacá de la SEC, reco...</td>\n",
       "    </tr>\n",
       "    <tr>\n",
       "      <th>67</th>\n",
       "      <td>https://elreporterodeiquique.com/senado-avanza...</td>\n",
       "      <td>Senado: Avanza ley integral de las personas ad...</td>\n",
       "      <td>Durante el debate, senadoras y senadores desta...</td>\n",
       "    </tr>\n",
       "    <tr>\n",
       "      <th>70</th>\n",
       "      <td>https://elreporterodeiquique.com/destacando-a-...</td>\n",
       "      <td>Destacando a especialistas invitados se realiz...</td>\n",
       "      <td>–En una jornada de cierre se distinguió la par...</td>\n",
       "    </tr>\n",
       "    <tr>\n",
       "      <th>73</th>\n",
       "      <td>https://elreporterodeiquique.com/unidad-canina...</td>\n",
       "      <td>Unidad canina de Gendarmería despidió a su eje...</td>\n",
       "      <td>Con honores y el reconocimiento a su destacado...</td>\n",
       "    </tr>\n",
       "    <tr>\n",
       "      <th>76</th>\n",
       "      <td>https://elreporterodeiquique.com/los-top-10-de...</td>\n",
       "      <td>Los TOP 10 de los autos usados más vendidos</td>\n",
       "      <td>–Llegó marzo y para quienes buscan adquirir un...</td>\n",
       "    </tr>\n",
       "    <tr>\n",
       "      <th>79</th>\n",
       "      <td>https://elreporterodeiquique.com/de-cara-a-la-...</td>\n",
       "      <td>De cara a la Operación Renta 2022: Verdaderos ...</td>\n",
       "      <td>La figura del contador ha existido por décadas...</td>\n",
       "    </tr>\n",
       "    <tr>\n",
       "      <th>82</th>\n",
       "      <td>https://elreporterodeiquique.com/tarapaca-cond...</td>\n",
       "      <td>Tarapacá: Condenan a cinco miembros de la band...</td>\n",
       "      <td>Con la prueba presentada por la Fiscalía de Al...</td>\n",
       "    </tr>\n",
       "    <tr>\n",
       "      <th>85</th>\n",
       "      <td>https://elreporterodeiquique.com/carabineros-d...</td>\n",
       "      <td>Carabineros detuvo a 90 personas el fin de sem...</td>\n",
       "      <td>Veintitrés personas aprehendidas por mantener ...</td>\n",
       "    </tr>\n",
       "    <tr>\n",
       "      <th>88</th>\n",
       "      <td>https://elreporterodeiquique.com/jovenes-del-t...</td>\n",
       "      <td>Jóvenes del Tamarugal finalizan prácticas prof...</td>\n",
       "      <td>Con gran entusiasmo se despidieron los alumnos...</td>\n",
       "    </tr>\n",
       "    <tr>\n",
       "      <th>91</th>\n",
       "      <td>https://elreporterodeiquique.com/detenidos-por...</td>\n",
       "      <td>Detenidos por Receptación de Vehículo con enca...</td>\n",
       "      <td>Carabineros del retén La Tirana detuvieron a t...</td>\n",
       "    </tr>\n",
       "    <tr>\n",
       "      <th>94</th>\n",
       "      <td>https://elreporterodeiquique.com/covid-19-se-r...</td>\n",
       "      <td>COVID-19: Se reportan 4.463 nuevos casos, con ...</td>\n",
       "      <td>El Ministerio de Salud informa 4.463 casos nue...</td>\n",
       "    </tr>\n",
       "    <tr>\n",
       "      <th>97</th>\n",
       "      <td>https://elreporterodeiquique.com/atencion-tara...</td>\n",
       "      <td>Atención Tarapacá: Pronto hay cambio de horari...</td>\n",
       "      <td>-El próximo sábado 2 de abril se debe atrasar ...</td>\n",
       "    </tr>\n",
       "  </tbody>\n",
       "</table>\n",
       "</div>"
      ],
      "text/plain": [
       "                                                  url  \\\n",
       "0   https://elreporterodeiquique.com/chile-cae-ant...   \n",
       "4   https://elreporterodeiquique.com/bhp-anuncia-p...   \n",
       "7   https://elreporterodeiquique.com/ministra-del-...   \n",
       "10  https://elreporterodeiquique.com/ministra-de-m...   \n",
       "13  https://elreporterodeiquique.com/dos-detenidos...   \n",
       "16  https://elreporterodeiquique.com/juzgado-de-ga...   \n",
       "19  https://elreporterodeiquique.com/corte-de-iqui...   \n",
       "22  https://elreporterodeiquique.com/covid-19-se-r...   \n",
       "25  https://elreporterodeiquique.com/diputado-tris...   \n",
       "28  https://elreporterodeiquique.com/presidente-ca...   \n",
       "31  https://elreporterodeiquique.com/sec-tarapaca-...   \n",
       "67  https://elreporterodeiquique.com/senado-avanza...   \n",
       "70  https://elreporterodeiquique.com/destacando-a-...   \n",
       "73  https://elreporterodeiquique.com/unidad-canina...   \n",
       "76  https://elreporterodeiquique.com/los-top-10-de...   \n",
       "79  https://elreporterodeiquique.com/de-cara-a-la-...   \n",
       "82  https://elreporterodeiquique.com/tarapaca-cond...   \n",
       "85  https://elreporterodeiquique.com/carabineros-d...   \n",
       "88  https://elreporterodeiquique.com/jovenes-del-t...   \n",
       "91  https://elreporterodeiquique.com/detenidos-por...   \n",
       "94  https://elreporterodeiquique.com/covid-19-se-r...   \n",
       "97  https://elreporterodeiquique.com/atencion-tara...   \n",
       "\n",
       "                                                title  \\\n",
       "0   Chile cae ante Uruguay en el cierre de las Eli...   \n",
       "4   BHP anuncia planes de inversión en Chile por m...   \n",
       "7   Ministra del Interior entrega respaldo a Carab...   \n",
       "10  Ministra de Minería pide «confianza» al sector...   \n",
       "13  Dos detenidos por infracción a Ley de Drogas e...   \n",
       "16  Juzgado de Garantía de Iquique decreta la pris...   \n",
       "19  Corte de Iquique confirma suspensión condicion...   \n",
       "22  COVID-19: Se reportan 3.017 nuevos casos, con ...   \n",
       "25  Diputado Trisotti y ausencia en designación de...   \n",
       "28  Presidente Castillo se salva de ser destituido...   \n",
       "31  SEC Tarapacá recuerda que productos eléctricos...   \n",
       "67  Senado: Avanza ley integral de las personas ad...   \n",
       "70  Destacando a especialistas invitados se realiz...   \n",
       "73  Unidad canina de Gendarmería despidió a su eje...   \n",
       "76        Los TOP 10 de los autos usados más vendidos   \n",
       "79  De cara a la Operación Renta 2022: Verdaderos ...   \n",
       "82  Tarapacá: Condenan a cinco miembros de la band...   \n",
       "85  Carabineros detuvo a 90 personas el fin de sem...   \n",
       "88  Jóvenes del Tamarugal finalizan prácticas prof...   \n",
       "91  Detenidos por Receptación de Vehículo con enca...   \n",
       "94  COVID-19: Se reportan 4.463 nuevos casos, con ...   \n",
       "97  Atención Tarapacá: Pronto hay cambio de horari...   \n",
       "\n",
       "                                              content  \n",
       "0   El elenco dirigido por Martín Lasarte perdió p...  \n",
       "4   –La inversión permitirá generar beneficios com...  \n",
       "7   -«Para avanzar en mayor seguridad y detener la...  \n",
       "10  -«Marcela Hernando también habló sobre el futu...  \n",
       "13  Carabineros de la Tercera Comisaría de Alto Ho...  \n",
       "16  El Juzgado de Garantía de Iquique dejó hoy –ma...  \n",
       "19  La Corte de Apelaciones de Iquique rechazó -el...  \n",
       "22  El Ministerio de Salud informa 3.017 casos nue...  \n",
       "25  –El parlamentario por Tarapacá, Renzo Trisotti...  \n",
       "28  Tras un debate de más de ocho horas de duració...  \n",
       "31  La Dirección Regional Tarapacá de la SEC, reco...  \n",
       "67  Durante el debate, senadoras y senadores desta...  \n",
       "70  –En una jornada de cierre se distinguió la par...  \n",
       "73  Con honores y el reconocimiento a su destacado...  \n",
       "76  –Llegó marzo y para quienes buscan adquirir un...  \n",
       "79  La figura del contador ha existido por décadas...  \n",
       "82  Con la prueba presentada por la Fiscalía de Al...  \n",
       "85  Veintitrés personas aprehendidas por mantener ...  \n",
       "88  Con gran entusiasmo se despidieron los alumnos...  \n",
       "91  Carabineros del retén La Tirana detuvieron a t...  \n",
       "94  El Ministerio de Salud informa 4.463 casos nue...  \n",
       "97  -El próximo sábado 2 de abril se debe atrasar ...  "
      ]
     },
     "execution_count": 17,
     "metadata": {},
     "output_type": "execute_result"
    }
   ],
   "source": [
    "df"
   ]
  },
  {
   "cell_type": "code",
   "execution_count": null,
   "id": "2e565eca",
   "metadata": {},
   "outputs": [],
   "source": []
  }
 ],
 "metadata": {
  "kernelspec": {
   "display_name": "Python 3 (ipykernel)",
   "language": "python",
   "name": "python3"
  },
  "language_info": {
   "codemirror_mode": {
    "name": "ipython",
    "version": 3
   },
   "file_extension": ".py",
   "mimetype": "text/x-python",
   "name": "python",
   "nbconvert_exporter": "python",
   "pygments_lexer": "ipython3",
   "version": "3.8.10"
  }
 },
 "nbformat": 4,
 "nbformat_minor": 5
}
