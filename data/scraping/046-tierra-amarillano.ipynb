{
 "cells": [
  {
   "cell_type": "code",
   "execution_count": 4,
   "id": "e42c42ef",
   "metadata": {},
   "outputs": [],
   "source": [
    "import json\n",
    "import w3lib.html\n",
    "import random\n",
    "import os\n",
    "from datetime import datetime\n",
    "import requests\n",
    "import string\n",
    "import calendar\n",
    "import html\n",
    "import locale \n",
    "from requests_html import HTMLSession\n",
    "from requests_html import HTML\n",
    "import validators\n",
    "import pandas as pd\n",
    "from tqdm.notebook import tqdm\n",
    "\n",
    "import warnings\n",
    "warnings.filterwarnings('ignore')"
   ]
  },
  {
   "cell_type": "code",
   "execution_count": 5,
   "id": "79bb0b1d",
   "metadata": {},
   "outputs": [],
   "source": [
    "URL_SEED = 'https://tierramarillano.cl/regionales/1/'\n",
    "XPATH_HREF = \"//h3/a/@href\""
   ]
  },
  {
   "cell_type": "code",
   "execution_count": 6,
   "id": "c8a6236e",
   "metadata": {},
   "outputs": [],
   "source": [
    "class Crawler():\n",
    "    \n",
    "    USER_AGENT_LIST = [\n",
    "        \"Mozilla/5.0 (Windows NT 6.1; WOW64) AppleWebKit/537.1 (KHTML, like Gecko) Chrome/22.0.1207.1 Safari/537.1\",\n",
    "        \"Mozilla/5.0 (X11; CrOS i686 2268.111.0) AppleWebKit/536.11 (KHTML, like Gecko) Chrome/20.0.1132.57 Safari/536.11\",\n",
    "        \"Mozilla/5.0 (Windows NT 6.1; WOW64) AppleWebKit/536.6 (KHTML, like Gecko) Chrome/20.0.1092.0 Safari/536.6\",\n",
    "        \"Mozilla/5.0 (Windows NT 6.2) AppleWebKit/536.6 (KHTML, like Gecko) Chrome/20.0.1090.0 Safari/536.6\",\n",
    "        \"Mozilla/5.0 (Windows NT 6.2; WOW64) AppleWebKit/537.1 (KHTML, like Gecko) Chrome/19.77.34.5 Safari/537.1\",\n",
    "        \"Mozilla/5.0 (X11; Linux x86_64) AppleWebKit/536.5 (KHTML, like Gecko) Chrome/19.0.1084.9 Safari/536.5\",\n",
    "        \"Mozilla/5.0 (Windows NT 6.0) AppleWebKit/536.5 (KHTML, like Gecko) Chrome/19.0.1084.36 Safari/536.5\",\n",
    "        \"Mozilla/5.0 (Windows NT 6.1; WOW64) AppleWebKit/536.3 (KHTML, like Gecko) Chrome/19.0.1063.0 Safari/536.3\",\n",
    "        \"Mozilla/5.0 (Windows NT 5.1) AppleWebKit/536.3 (KHTML, like Gecko) Chrome/19.0.1063.0 Safari/536.3\",\n",
    "        \"Mozilla/5.0 (Macintosh; Intel Mac OS X 10_8_0) AppleWebKit/536.3 (KHTML, like Gecko) Chrome/19.0.1063.0 Safari/536.3\",\n",
    "        \"Mozilla/5.0 (Windows NT 6.2) AppleWebKit/536.3 (KHTML, like Gecko) Chrome/19.0.1062.0 Safari/536.3\",\n",
    "        \"Mozilla/5.0 (Windows NT 6.1; WOW64) AppleWebKit/536.3 (KHTML, like Gecko) Chrome/19.0.1062.0 Safari/536.3\",\n",
    "        \"Mozilla/5.0 (Windows NT 6.2) AppleWebKit/536.3 (KHTML, like Gecko) Chrome/19.0.1061.1 Safari/536.3\",\n",
    "        \"Mozilla/5.0 (Windows NT 6.1; WOW64) AppleWebKit/536.3 (KHTML, like Gecko) Chrome/19.0.1061.1 Safari/536.3\",\n",
    "        \"Mozilla/5.0 (Windows NT 6.1) AppleWebKit/536.3 (KHTML, like Gecko) Chrome/19.0.1061.1 Safari/536.3\",\n",
    "        \"Mozilla/5.0 (Windows NT 6.2) AppleWebKit/536.3 (KHTML, like Gecko) Chrome/19.0.1061.0 Safari/536.3\",\n",
    "        \"Mozilla/5.0 (X11; Linux x86_64) AppleWebKit/535.24 (KHTML, like Gecko) Chrome/19.0.1055.1 Safari/535.24\",\n",
    "        \"Mozilla/5.0 (Windows NT 6.2; WOW64) AppleWebKit/535.24 (KHTML, like Gecko) Chrome/19.0.1055.1 Safari/535.24\"\n",
    "    ]\n",
    "\n",
    "    #Ruta XPATH hacia los enlaces que queremos recopilar\n",
    "    xpath_href=XPATH_HREF\n",
    "\n",
    "    #variable que permite listar todos los enlaces recopilado\n",
    "    url_list = []\n",
    "    \n",
    "    def _init_(self, URL_SEED, XPATH_HREF):        \n",
    "        pass\n",
    "\n",
    "    \n",
    "    def get(self,url):\n",
    "        session = HTMLSession()\n",
    "        header = dict()\n",
    "        header['user-agent'] = random.choice(self.USER_AGENT_LIST)\n",
    "        response = session.get(url,headers=header)        \n",
    "        return response\n",
    "    \n",
    "    def parse(self, response):\n",
    "        self.url_list = []\n",
    "        urls = response.html.xpath(self.xpath_href)\n",
    "        for url in urls:\n",
    "            self.url_list.append(url)\n"
   ]
  },
  {
   "cell_type": "code",
   "execution_count": 7,
   "id": "e016daec",
   "metadata": {
    "scrolled": true
   },
   "outputs": [
    {
     "data": {
      "application/vnd.jupyter.widget-view+json": {
       "model_id": "71aa3cc74d304845b7d71a7b3f6ff7fa",
       "version_major": 2,
       "version_minor": 0
      },
      "text/plain": [
       "  0%|          | 0/3 [00:00<?, ?it/s]"
      ]
     },
     "metadata": {},
     "output_type": "display_data"
    },
    {
     "data": {
      "text/plain": [
       "['https://tierramarillano.cl/2022/04/03/chanaral-carabineros-del-os7-atacama-intercepto-millonario-cargamento-de-droga-con-destino-a-santiago/',\n",
       " 'https://tierramarillano.cl/2022/04/03/fiscal-regional-propuestas-de-la-convencion-burocratizan-y-debilitan-la-persecucion-penal/',\n",
       " 'https://tierramarillano.cl/2022/04/03/delegado-presidencial-gerardo-tapia-encabeza-reunion-con-secretarios-regionales-ministeriales-de-atacama/',\n",
       " 'https://tierramarillano.cl/2022/04/03/directiva-del-capitulo-medico-del-hospital-de-vallenar-se-reune-con-delegado-presidencial-provincial-de-huasco/',\n",
       " 'https://tierramarillano.cl/2022/04/03/codelco-salvador-lanza-programa-de-bienvenida-e-integracion-para-nuevos-trabajadores/',\n",
       " 'https://tierramarillano.cl/2022/04/03/convenio-entre-gobierno-regional-y-nueva-atacama-permitira-acortar-tiempos-de-ejecucion-de-proyectos-habitacionales/',\n",
       " 'https://tierramarillano.cl/2022/04/03/21-establecimientos-del-servicio-local-huasco-obtienen-la-excelencia-academica-2022-2023/',\n",
       " 'https://tierramarillano.cl/2022/04/02/jardines-infantiles-de-caldera-obtienen-sello-covid-19-de-achs/',\n",
       " 'https://tierramarillano.cl/2022/04/01/ricardo-zamora-hidalgo-nuevo-seremi-de-agricultura-de-atacama/',\n",
       " 'https://tierramarillano.cl/2022/04/01/fiscalia-sumo-a-dos-imputados-en-investigacion-por-millonario-robo-a-una-empresa-en-copiapo/',\n",
       " 'https://tierramarillano.cl/2022/04/01/oficina-copiapo-del-registro-civil-atendera-este-sabado-2-de-abril/',\n",
       " 'https://tierramarillano.cl/2022/04/01/carabineros-recibe-17-vehiculos-policiales-para-reforzar-la-seguridad-en-la-region-de-atacama/',\n",
       " 'https://tierramarillano.cl/2022/04/03/chanaral-carabineros-del-os7-atacama-intercepto-millonario-cargamento-de-droga-con-destino-a-santiago/',\n",
       " 'https://tierramarillano.cl/2022/04/03/fiscal-regional-propuestas-de-la-convencion-burocratizan-y-debilitan-la-persecucion-penal/',\n",
       " 'https://tierramarillano.cl/2022/04/03/delegado-presidencial-gerardo-tapia-encabeza-reunion-con-secretarios-regionales-ministeriales-de-atacama/',\n",
       " 'https://tierramarillano.cl/2022/04/03/directiva-del-capitulo-medico-del-hospital-de-vallenar-se-reune-con-delegado-presidencial-provincial-de-huasco/',\n",
       " 'https://tierramarillano.cl/2022/04/03/codelco-salvador-lanza-programa-de-bienvenida-e-integracion-para-nuevos-trabajadores/',\n",
       " 'https://tierramarillano.cl/2022/04/03/convenio-entre-gobierno-regional-y-nueva-atacama-permitira-acortar-tiempos-de-ejecucion-de-proyectos-habitacionales/',\n",
       " 'https://tierramarillano.cl/2022/04/03/21-establecimientos-del-servicio-local-huasco-obtienen-la-excelencia-academica-2022-2023/',\n",
       " 'https://tierramarillano.cl/2022/04/02/jardines-infantiles-de-caldera-obtienen-sello-covid-19-de-achs/',\n",
       " 'https://tierramarillano.cl/2022/04/01/ricardo-zamora-hidalgo-nuevo-seremi-de-agricultura-de-atacama/',\n",
       " 'https://tierramarillano.cl/2022/04/01/fiscalia-sumo-a-dos-imputados-en-investigacion-por-millonario-robo-a-una-empresa-en-copiapo/',\n",
       " 'https://tierramarillano.cl/2022/04/01/oficina-copiapo-del-registro-civil-atendera-este-sabado-2-de-abril/',\n",
       " 'https://tierramarillano.cl/2022/04/01/carabineros-recibe-17-vehiculos-policiales-para-reforzar-la-seguridad-en-la-region-de-atacama/',\n",
       " 'https://tierramarillano.cl/2022/04/01/carabineros-detecta-nuevo-traslado-de-inmigrantes-ilegales-en-bus-interubano/',\n",
       " 'https://tierramarillano.cl/2022/04/01/ine-la-tasa-de-desocupacion-en-la-region-de-atacama-alcanzo-81-en-el-trimestre-diciembre-2021-febrero-2022/',\n",
       " 'https://tierramarillano.cl/2022/04/01/de-caldera-a-ee-uu-y-espana-pescadores-apuestan-por-la-exportacion-de-productos-con-valor-agregado-y-la-sustentabilidad-de-sus-actividades/',\n",
       " 'https://tierramarillano.cl/2022/04/01/mesa-intersectorial-anuncia-medidas-de-refuerzo-para-garantizar-la-seguridad-perimetral-de-la-uda/',\n",
       " 'https://tierramarillano.cl/2022/04/01/seremi-s-del-mop-inspecciono-trabajos-en-ruta-c-485-que-une-vallenar-con-alto-del-carmen/',\n",
       " 'https://tierramarillano.cl/2022/04/01/cchc-atacama-y-codelco-salvador-fortalecen-trabajo-conjunto-para-potenciar-a-empresas-locales/',\n",
       " 'https://tierramarillano.cl/2022/03/31/carga-peligrosa-fiscalia-formalizo-a-conductor-por-el-traslado-irregular-de-27-toneladas-de-baterias/',\n",
       " 'https://tierramarillano.cl/2022/03/31/alto-del-carmen-sujetos-fueron-detenidos-por-trafico-de-drogas-y-receptacion/',\n",
       " 'https://tierramarillano.cl/2022/03/31/women-in-mining-chile-distinguio-a-cinco-mujeres-de-minera-candelaria/',\n",
       " 'https://tierramarillano.cl/2022/03/31/gobierno-anuncia-seremis-para-la-region-de-atacama/',\n",
       " 'https://tierramarillano.cl/2022/03/31/carabineros-y-directores-de-colegios-acuerdan-realizar-mesa-de-trabajo-intersectorial-para-abordar-seguridad-escolar/',\n",
       " 'https://tierramarillano.cl/2022/03/31/seremis-de-salud-y-educacion-de-atacama-dan-inicio-a-estrategia-de-testeo-por-covid-19-en-establecimientos-educacionales/']"
      ]
     },
     "execution_count": 7,
     "metadata": {},
     "output_type": "execute_result"
    }
   ],
   "source": [
    "urls=[]\n",
    "\n",
    "for page in tqdm(range(3)): # revisemos sólo 2 páginas\n",
    "    crawler = Crawler()\n",
    "    response = crawler.get('https://tierramarillano.cl/regionales/'+str(page))\n",
    "    crawler.parse(response)\n",
    "\n",
    "    \n",
    "    for url in crawler.url_list:\n",
    "        urls.append(url)\n",
    "\n",
    "    crawler.url_list = urls\n",
    "    \n",
    "crawler.url_list"
   ]
  },
  {
   "cell_type": "code",
   "execution_count": 8,
   "id": "e6099483",
   "metadata": {},
   "outputs": [
    {
     "data": {
      "text/plain": [
       "36"
      ]
     },
     "execution_count": 8,
     "metadata": {},
     "output_type": "execute_result"
    }
   ],
   "source": [
    "len(urls)"
   ]
  },
  {
   "cell_type": "code",
   "execution_count": 9,
   "id": "928cdb23",
   "metadata": {},
   "outputs": [
    {
     "data": {
      "text/plain": [
       "'https://tierramarillano.cl/2022/04/03/chanaral-carabineros-del-os7-atacama-intercepto-millonario-cargamento-de-droga-con-destino-a-santiago/'"
      ]
     },
     "execution_count": 9,
     "metadata": {},
     "output_type": "execute_result"
    }
   ],
   "source": [
    "urls[0]"
   ]
  },
  {
   "cell_type": "code",
   "execution_count": null,
   "id": "f8c2d5b1",
   "metadata": {},
   "outputs": [],
   "source": []
  },
  {
   "cell_type": "code",
   "execution_count": 10,
   "id": "d446e5df",
   "metadata": {},
   "outputs": [],
   "source": [
    "URL_NEWS = urls[0]\n",
    "XPATH_TITLE = \"//h1\"\n",
    "XPATH_CONTENT =\"//div[@class='elementor-widget-container']//p\""
   ]
  },
  {
   "cell_type": "code",
   "execution_count": 11,
   "id": "fcc5edaf",
   "metadata": {},
   "outputs": [],
   "source": [
    "class Scraper:\n",
    "    \n",
    "    USER_AGENT_LIST = [\n",
    "        \"Mozilla/5.0 (Windows NT 6.1; WOW64) AppleWebKit/537.1 (KHTML, like Gecko) Chrome/22.0.1207.1 Safari/537.1\",\n",
    "        \"Mozilla/5.0 (X11; CrOS i686 2268.111.0) AppleWebKit/536.11 (KHTML, like Gecko) Chrome/20.0.1132.57 Safari/536.11\",\n",
    "        \"Mozilla/5.0 (Windows NT 6.1; WOW64) AppleWebKit/536.6 (KHTML, like Gecko) Chrome/20.0.1092.0 Safari/536.6\",\n",
    "        \"Mozilla/5.0 (Windows NT 6.2) AppleWebKit/536.6 (KHTML, like Gecko) Chrome/20.0.1090.0 Safari/536.6\",\n",
    "        \"Mozilla/5.0 (Windows NT 6.2; WOW64) AppleWebKit/537.1 (KHTML, like Gecko) Chrome/19.77.34.5 Safari/537.1\",\n",
    "        \"Mozilla/5.0 (X11; Linux x86_64) AppleWebKit/536.5 (KHTML, like Gecko) Chrome/19.0.1084.9 Safari/536.5\",\n",
    "        \"Mozilla/5.0 (Windows NT 6.0) AppleWebKit/536.5 (KHTML, like Gecko) Chrome/19.0.1084.36 Safari/536.5\",\n",
    "        \"Mozilla/5.0 (Windows NT 6.1; WOW64) AppleWebKit/536.3 (KHTML, like Gecko) Chrome/19.0.1063.0 Safari/536.3\",\n",
    "        \"Mozilla/5.0 (Windows NT 5.1) AppleWebKit/536.3 (KHTML, like Gecko) Chrome/19.0.1063.0 Safari/536.3\",\n",
    "        \"Mozilla/5.0 (Macintosh; Intel Mac OS X 10_8_0) AppleWebKit/536.3 (KHTML, like Gecko) Chrome/19.0.1063.0 Safari/536.3\",\n",
    "        \"Mozilla/5.0 (Windows NT 6.2) AppleWebKit/536.3 (KHTML, like Gecko) Chrome/19.0.1062.0 Safari/536.3\",\n",
    "        \"Mozilla/5.0 (Windows NT 6.1; WOW64) AppleWebKit/536.3 (KHTML, like Gecko) Chrome/19.0.1062.0 Safari/536.3\",\n",
    "        \"Mozilla/5.0 (Windows NT 6.2) AppleWebKit/536.3 (KHTML, like Gecko) Chrome/19.0.1061.1 Safari/536.3\",\n",
    "        \"Mozilla/5.0 (Windows NT 6.1; WOW64) AppleWebKit/536.3 (KHTML, like Gecko) Chrome/19.0.1061.1 Safari/536.3\",\n",
    "        \"Mozilla/5.0 (Windows NT 6.1) AppleWebKit/536.3 (KHTML, like Gecko) Chrome/19.0.1061.1 Safari/536.3\",\n",
    "        \"Mozilla/5.0 (Windows NT 6.2) AppleWebKit/536.3 (KHTML, like Gecko) Chrome/19.0.1061.0 Safari/536.3\",\n",
    "        \"Mozilla/5.0 (X11; Linux x86_64) AppleWebKit/535.24 (KHTML, like Gecko) Chrome/19.0.1055.1 Safari/535.24\",\n",
    "        \"Mozilla/5.0 (Windows NT 6.2; WOW64) AppleWebKit/535.24 (KHTML, like Gecko) Chrome/19.0.1055.1 Safari/535.24\"\n",
    "    ]\n",
    "\n",
    "    query_extract_title = XPATH_TITLE\n",
    "    query_extract_text =  XPATH_CONTENT\n",
    "\n",
    "    def _init_(self):\n",
    "        pass\n",
    "   \n",
    "    def get(self,url):\n",
    "        headers = {'user-agent':random.choice(self.USER_AGENT_LIST) }\n",
    "        session = HTMLSession()\n",
    "        response = session.get(url,headers=headers) \n",
    "        return response\n",
    "    \n",
    "    def clean_text(self, html_text):\n",
    "        text_without_tags = w3lib.html.remove_tags(html_text)\n",
    "        text_without_escape_chars = w3lib.html.replace_escape_chars(text_without_tags)\n",
    "        text_without_escape_chars = html.unescape(text_without_escape_chars)\n",
    "        text_without_whitespace = text_without_escape_chars.strip()\n",
    "        return text_without_whitespace\n",
    "\n",
    "    \n",
    "    #### main function ####\n",
    "    def parse(self, response):\n",
    "        \n",
    "        #URL\n",
    "        self.news_url = response.url\n",
    "        \n",
    "        #TITLE\n",
    "        self.news_title = response.html.xpath(self.query_extract_title)[0].text\n",
    "        self.news_title = self.clean_text(self.news_title)\n",
    "       \n",
    "        \n",
    "        #CONTENT\n",
    "        self.news_text = \"\"\n",
    "        \n",
    "        html_paragraphs = response.html.xpath(self.query_extract_text)\n",
    "        \n",
    "        for paragraph in html_paragraphs:\n",
    "            paragraph_content = w3lib.html.remove_tags(paragraph.text)    \n",
    "            text_cleaned = self.clean_text(paragraph_content)\n",
    "            self.news_text = self.news_text+text_cleaned\n"
   ]
  },
  {
   "cell_type": "code",
   "execution_count": 12,
   "id": "d9482704",
   "metadata": {},
   "outputs": [],
   "source": [
    "scraper = Scraper()\n",
    "response =scraper.get(URL_NEWS)"
   ]
  },
  {
   "cell_type": "code",
   "execution_count": 13,
   "id": "d72bc32e",
   "metadata": {},
   "outputs": [],
   "source": [
    "scraper.parse(response)"
   ]
  },
  {
   "cell_type": "code",
   "execution_count": 14,
   "id": "a2e4d401",
   "metadata": {},
   "outputs": [
    {
     "data": {
      "text/plain": [
       "'CHAÑARAL: CARABINEROS DEL OS7 ATACAMA INTERCEPTÓ MILLONARIO CARGAMENTO DE DROGA CON DESTINO A SANTIAGO'"
      ]
     },
     "execution_count": 14,
     "metadata": {},
     "output_type": "execute_result"
    }
   ],
   "source": [
    "scraper.news_title"
   ]
  },
  {
   "cell_type": "code",
   "execution_count": 15,
   "id": "162264db",
   "metadata": {},
   "outputs": [
    {
     "data": {
      "text/plain": [
       "'Una vez más el despliegue operativo de Carabineros de la Sección O.S.7 Atacama, dispuestos en la segunda línea de control, específicamente en la Ruta 5 Norte, Km. 986 de la comuna de Chañaral, permitió interceptar un millonario cargamento de drogas que tendría como destino final la Región Metropolitana.De acuerdo a los antecedentes entregados por el Jefe de la Sección OS7 Atacama, mayor Eugenio Olea García, esta importante cantidad de drogas era trasladada en el interior de un bolso y una maleta de un bus interprovincial, con itinerario Calama-Santiago, el cual al ser fiscalizado con el apoyo del ejemplar canino Frodo dejó al descubierto esta carga ilícita compuesta por 13 kilos 998 gramos de Marihuana y 1 Kilo 20 gramos de Pasta Base de Cocaína.“Es así como Carabineros a través de su permanente trabajo operativo y coordinado entre las unidades territoriales y de las secciones especializadas evita nuevamente que 34 mil dosis drogas lleguen a su destino”, destacó el mayor Olea.Tras realizar diligencias tendientes a identificar al propietario, no se lograron resultados positivos por cuanto el procedimiento se informó como hallazgo de drogas.Las opiniones vertidas en este medio electrónico son de exclusiva responsabilidad de quienes las emiten y no representan necesariamente el pensamiento del diario electrónico Tierramarillano.'"
      ]
     },
     "execution_count": 15,
     "metadata": {},
     "output_type": "execute_result"
    }
   ],
   "source": [
    "scraper.news_text"
   ]
  },
  {
   "cell_type": "markdown",
   "id": "44169925",
   "metadata": {},
   "source": [
    "## LA NOTICIA PRESENTA BASURA EN SU CONTENT"
   ]
  },
  {
   "cell_type": "code",
   "execution_count": 16,
   "id": "a455d5d3",
   "metadata": {},
   "outputs": [],
   "source": [
    "#Verificamos que el scraper devuelve algo\n",
    "assert(len(scraper.news_title)>0)\n",
    "assert(len(scraper.news_text)>0)"
   ]
  },
  {
   "cell_type": "code",
   "execution_count": 17,
   "id": "524ce41b",
   "metadata": {},
   "outputs": [
    {
     "data": {
      "text/html": [
       "<div>\n",
       "<style scoped>\n",
       "    .dataframe tbody tr th:only-of-type {\n",
       "        vertical-align: middle;\n",
       "    }\n",
       "\n",
       "    .dataframe tbody tr th {\n",
       "        vertical-align: top;\n",
       "    }\n",
       "\n",
       "    .dataframe thead th {\n",
       "        text-align: right;\n",
       "    }\n",
       "</style>\n",
       "<table border=\"1\" class=\"dataframe\">\n",
       "  <thead>\n",
       "    <tr style=\"text-align: right;\">\n",
       "      <th></th>\n",
       "      <th>url</th>\n",
       "      <th>title</th>\n",
       "      <th>content</th>\n",
       "    </tr>\n",
       "  </thead>\n",
       "  <tbody>\n",
       "    <tr>\n",
       "      <th>0</th>\n",
       "      <td>https://tierramarillano.cl/2022/04/03/chanaral...</td>\n",
       "      <td>CHAÑARAL: CARABINEROS DEL OS7 ATACAMA INTERCEP...</td>\n",
       "      <td>Una vez más el despliegue operativo de Carabin...</td>\n",
       "    </tr>\n",
       "  </tbody>\n",
       "</table>\n",
       "</div>"
      ],
      "text/plain": [
       "                                                 url  \\\n",
       "0  https://tierramarillano.cl/2022/04/03/chanaral...   \n",
       "\n",
       "                                               title  \\\n",
       "0  CHAÑARAL: CARABINEROS DEL OS7 ATACAMA INTERCEP...   \n",
       "\n",
       "                                             content  \n",
       "0  Una vez más el despliegue operativo de Carabin...  "
      ]
     },
     "execution_count": 17,
     "metadata": {},
     "output_type": "execute_result"
    }
   ],
   "source": [
    "df = pd.DataFrame(data={'url': [URL_NEWS],'title':[scraper.news_title], 'content':[scraper.news_text]})\n",
    "df"
   ]
  },
  {
   "cell_type": "code",
   "execution_count": 18,
   "id": "267a48c8",
   "metadata": {},
   "outputs": [
    {
     "data": {
      "application/vnd.jupyter.widget-view+json": {
       "model_id": "73fd166a66304426a189ec832e581c8a",
       "version_major": 2,
       "version_minor": 0
      },
      "text/plain": [
       "  0%|          | 0/36 [00:00<?, ?it/s]"
      ]
     },
     "metadata": {},
     "output_type": "display_data"
    }
   ],
   "source": [
    "XPATH_TITLE = \"//h1\"\n",
    "XPATH_CONTENT =\"//div[@class='elementor-widget-container']//p\"\n",
    "\n",
    "for url in tqdm(urls):\n",
    "    URL_NEWS = url\n",
    "    scraper = Scraper()\n",
    "    response =scraper.get(URL_NEWS)\n",
    "    scraper.parse(response)\n",
    "    df1 = pd.DataFrame(data={'url': url, 'title':scraper.news_title, 'content':scraper.news_text},index=['url', 'title', 'content'])\n",
    "    df = df.append(df1, ignore_index=True)\n",
    "df = df.drop_duplicates()\n"
   ]
  },
  {
   "cell_type": "code",
   "execution_count": 19,
   "id": "e9c55424",
   "metadata": {},
   "outputs": [
    {
     "data": {
      "text/html": [
       "<div>\n",
       "<style scoped>\n",
       "    .dataframe tbody tr th:only-of-type {\n",
       "        vertical-align: middle;\n",
       "    }\n",
       "\n",
       "    .dataframe tbody tr th {\n",
       "        vertical-align: top;\n",
       "    }\n",
       "\n",
       "    .dataframe thead th {\n",
       "        text-align: right;\n",
       "    }\n",
       "</style>\n",
       "<table border=\"1\" class=\"dataframe\">\n",
       "  <thead>\n",
       "    <tr style=\"text-align: right;\">\n",
       "      <th></th>\n",
       "      <th>url</th>\n",
       "      <th>title</th>\n",
       "      <th>content</th>\n",
       "    </tr>\n",
       "  </thead>\n",
       "  <tbody>\n",
       "    <tr>\n",
       "      <th>0</th>\n",
       "      <td>https://tierramarillano.cl/2022/04/03/chanaral...</td>\n",
       "      <td>CHAÑARAL: CARABINEROS DEL OS7 ATACAMA INTERCEP...</td>\n",
       "      <td>Una vez más el despliegue operativo de Carabin...</td>\n",
       "    </tr>\n",
       "    <tr>\n",
       "      <th>4</th>\n",
       "      <td>https://tierramarillano.cl/2022/04/03/fiscal-r...</td>\n",
       "      <td>Fiscal Regional: “propuestas de la Convención ...</td>\n",
       "      <td>Alexis Rogat Lucero compartió el planteamiento...</td>\n",
       "    </tr>\n",
       "    <tr>\n",
       "      <th>7</th>\n",
       "      <td>https://tierramarillano.cl/2022/04/03/delegado...</td>\n",
       "      <td>Delegado Presidencial Gerardo Tapia encabeza r...</td>\n",
       "      <td>Este viernes, el Delegado Presidencial, Gerard...</td>\n",
       "    </tr>\n",
       "    <tr>\n",
       "      <th>10</th>\n",
       "      <td>https://tierramarillano.cl/2022/04/03/directiv...</td>\n",
       "      <td>Directiva del Capítulo Médico del Hospital de ...</td>\n",
       "      <td>Una reunión entre la directiva del Capítulo Mé...</td>\n",
       "    </tr>\n",
       "    <tr>\n",
       "      <th>13</th>\n",
       "      <td>https://tierramarillano.cl/2022/04/03/codelco-...</td>\n",
       "      <td>Codelco Salvador lanza programa de bienvenida ...</td>\n",
       "      <td>Un programa de bienvenida e integración para l...</td>\n",
       "    </tr>\n",
       "    <tr>\n",
       "      <th>16</th>\n",
       "      <td>https://tierramarillano.cl/2022/04/03/convenio...</td>\n",
       "      <td>Convenio entre Gobierno Regional y Nueva Ataca...</td>\n",
       "      <td>La iniciativa transforma a la empresa sanitari...</td>\n",
       "    </tr>\n",
       "    <tr>\n",
       "      <th>19</th>\n",
       "      <td>https://tierramarillano.cl/2022/04/03/21-estab...</td>\n",
       "      <td>21 establecimientos del Servicio Local Huasco ...</td>\n",
       "      <td>Una gran noticia dio a conocer el Sistema Naci...</td>\n",
       "    </tr>\n",
       "    <tr>\n",
       "      <th>22</th>\n",
       "      <td>https://tierramarillano.cl/2022/04/02/jardines...</td>\n",
       "      <td>JARDINES INFANTILES DE CALDERA OBTIENEN SELLO ...</td>\n",
       "      <td>Con el objetivo de certificar el cumplimiento ...</td>\n",
       "    </tr>\n",
       "    <tr>\n",
       "      <th>25</th>\n",
       "      <td>https://tierramarillano.cl/2022/04/01/ricardo-...</td>\n",
       "      <td>Ricardo Zamora Hidalgo nuevo Seremi de Agricul...</td>\n",
       "      <td>El delegado presidencial Gerardo Tapia Tapia a...</td>\n",
       "    </tr>\n",
       "    <tr>\n",
       "      <th>28</th>\n",
       "      <td>https://tierramarillano.cl/2022/04/01/fiscalia...</td>\n",
       "      <td>Fiscalía sumó a dos imputados en investigación...</td>\n",
       "      <td>Fiscal adjunto de Copiapó, Sebastián Coya Gonz...</td>\n",
       "    </tr>\n",
       "    <tr>\n",
       "      <th>31</th>\n",
       "      <td>https://tierramarillano.cl/2022/04/01/oficina-...</td>\n",
       "      <td>Oficina Copiapó del Registro Civil atenderá es...</td>\n",
       "      <td>Las opiniones vertidas en este medio electróni...</td>\n",
       "    </tr>\n",
       "    <tr>\n",
       "      <th>34</th>\n",
       "      <td>https://tierramarillano.cl/2022/04/01/carabine...</td>\n",
       "      <td>CARABINEROS RECIBE 17 VEHICULOS POLICIALES PAR...</td>\n",
       "      <td>El General Director de Carabineros de Chile en...</td>\n",
       "    </tr>\n",
       "    <tr>\n",
       "      <th>73</th>\n",
       "      <td>https://tierramarillano.cl/2022/04/01/carabine...</td>\n",
       "      <td>Carabineros detecta nuevo traslado de Inmigran...</td>\n",
       "      <td>Personal de Carabineros de la Subcomisaria I.A...</td>\n",
       "    </tr>\n",
       "    <tr>\n",
       "      <th>76</th>\n",
       "      <td>https://tierramarillano.cl/2022/04/01/ine-la-t...</td>\n",
       "      <td>INE: La tasa de desocupación en la Región de A...</td>\n",
       "      <td>De acuerdo con la información recogida por la ...</td>\n",
       "    </tr>\n",
       "    <tr>\n",
       "      <th>79</th>\n",
       "      <td>https://tierramarillano.cl/2022/04/01/de-calde...</td>\n",
       "      <td>DE CALDERA A EE.UU Y ESPAÑA: PESCADORES APUEST...</td>\n",
       "      <td>Tres toneladas de bacalao fue parte del último...</td>\n",
       "    </tr>\n",
       "    <tr>\n",
       "      <th>82</th>\n",
       "      <td>https://tierramarillano.cl/2022/04/01/mesa-int...</td>\n",
       "      <td>Mesa intersectorial anuncia medidas de refuerz...</td>\n",
       "      <td>Denuncias de intentos de secuestros a estudian...</td>\n",
       "    </tr>\n",
       "    <tr>\n",
       "      <th>85</th>\n",
       "      <td>https://tierramarillano.cl/2022/04/01/seremi-s...</td>\n",
       "      <td>Seremi (s) del MOP, inspeccionó trabajos en Ru...</td>\n",
       "      <td>Hasta la comuna de Vallenar, llegó el Seremi (...</td>\n",
       "    </tr>\n",
       "    <tr>\n",
       "      <th>88</th>\n",
       "      <td>https://tierramarillano.cl/2022/04/01/cchc-ata...</td>\n",
       "      <td>CChC Atacama y Codelco Salvador fortalecen tra...</td>\n",
       "      <td>Para seguir fomentando la consolidación de un ...</td>\n",
       "    </tr>\n",
       "    <tr>\n",
       "      <th>91</th>\n",
       "      <td>https://tierramarillano.cl/2022/03/31/carga-pe...</td>\n",
       "      <td>Carga peligrosa: Fiscalía formalizó a conducto...</td>\n",
       "      <td>Se trata de un camión que circulaba con rumbo ...</td>\n",
       "    </tr>\n",
       "    <tr>\n",
       "      <th>94</th>\n",
       "      <td>https://tierramarillano.cl/2022/03/31/alto-del...</td>\n",
       "      <td>ALTO DEL CARMEN: SUJETOS FUERON DETENIDOS POR ...</td>\n",
       "      <td>Un control vehicular en la Ruta C-495, Km. 21,...</td>\n",
       "    </tr>\n",
       "    <tr>\n",
       "      <th>97</th>\n",
       "      <td>https://tierramarillano.cl/2022/03/31/women-in...</td>\n",
       "      <td>Women In Mining Chile distinguió a cinco mujer...</td>\n",
       "      <td>En el marco de la 25° versión del Cesco Week, ...</td>\n",
       "    </tr>\n",
       "    <tr>\n",
       "      <th>100</th>\n",
       "      <td>https://tierramarillano.cl/2022/03/31/gobierno...</td>\n",
       "      <td>Gobierno anuncia Seremis para la Región de At...</td>\n",
       "      <td>La Subsecretaría de Desarrollo Regional (Subd...</td>\n",
       "    </tr>\n",
       "    <tr>\n",
       "      <th>103</th>\n",
       "      <td>https://tierramarillano.cl/2022/03/31/carabine...</td>\n",
       "      <td>CARABINEROS Y DIRECTORES DE COLEGIOS ACUERDAN ...</td>\n",
       "      <td>Representantes de diversos establecimientos ed...</td>\n",
       "    </tr>\n",
       "    <tr>\n",
       "      <th>106</th>\n",
       "      <td>https://tierramarillano.cl/2022/03/31/seremis-...</td>\n",
       "      <td>Seremis de Salud y Educación de Atacama dan in...</td>\n",
       "      <td>Tras el retorno a la presencialidad total de l...</td>\n",
       "    </tr>\n",
       "  </tbody>\n",
       "</table>\n",
       "</div>"
      ],
      "text/plain": [
       "                                                   url  \\\n",
       "0    https://tierramarillano.cl/2022/04/03/chanaral...   \n",
       "4    https://tierramarillano.cl/2022/04/03/fiscal-r...   \n",
       "7    https://tierramarillano.cl/2022/04/03/delegado...   \n",
       "10   https://tierramarillano.cl/2022/04/03/directiv...   \n",
       "13   https://tierramarillano.cl/2022/04/03/codelco-...   \n",
       "16   https://tierramarillano.cl/2022/04/03/convenio...   \n",
       "19   https://tierramarillano.cl/2022/04/03/21-estab...   \n",
       "22   https://tierramarillano.cl/2022/04/02/jardines...   \n",
       "25   https://tierramarillano.cl/2022/04/01/ricardo-...   \n",
       "28   https://tierramarillano.cl/2022/04/01/fiscalia...   \n",
       "31   https://tierramarillano.cl/2022/04/01/oficina-...   \n",
       "34   https://tierramarillano.cl/2022/04/01/carabine...   \n",
       "73   https://tierramarillano.cl/2022/04/01/carabine...   \n",
       "76   https://tierramarillano.cl/2022/04/01/ine-la-t...   \n",
       "79   https://tierramarillano.cl/2022/04/01/de-calde...   \n",
       "82   https://tierramarillano.cl/2022/04/01/mesa-int...   \n",
       "85   https://tierramarillano.cl/2022/04/01/seremi-s...   \n",
       "88   https://tierramarillano.cl/2022/04/01/cchc-ata...   \n",
       "91   https://tierramarillano.cl/2022/03/31/carga-pe...   \n",
       "94   https://tierramarillano.cl/2022/03/31/alto-del...   \n",
       "97   https://tierramarillano.cl/2022/03/31/women-in...   \n",
       "100  https://tierramarillano.cl/2022/03/31/gobierno...   \n",
       "103  https://tierramarillano.cl/2022/03/31/carabine...   \n",
       "106  https://tierramarillano.cl/2022/03/31/seremis-...   \n",
       "\n",
       "                                                 title  \\\n",
       "0    CHAÑARAL: CARABINEROS DEL OS7 ATACAMA INTERCEP...   \n",
       "4    Fiscal Regional: “propuestas de la Convención ...   \n",
       "7    Delegado Presidencial Gerardo Tapia encabeza r...   \n",
       "10   Directiva del Capítulo Médico del Hospital de ...   \n",
       "13   Codelco Salvador lanza programa de bienvenida ...   \n",
       "16   Convenio entre Gobierno Regional y Nueva Ataca...   \n",
       "19   21 establecimientos del Servicio Local Huasco ...   \n",
       "22   JARDINES INFANTILES DE CALDERA OBTIENEN SELLO ...   \n",
       "25   Ricardo Zamora Hidalgo nuevo Seremi de Agricul...   \n",
       "28   Fiscalía sumó a dos imputados en investigación...   \n",
       "31   Oficina Copiapó del Registro Civil atenderá es...   \n",
       "34   CARABINEROS RECIBE 17 VEHICULOS POLICIALES PAR...   \n",
       "73   Carabineros detecta nuevo traslado de Inmigran...   \n",
       "76   INE: La tasa de desocupación en la Región de A...   \n",
       "79   DE CALDERA A EE.UU Y ESPAÑA: PESCADORES APUEST...   \n",
       "82   Mesa intersectorial anuncia medidas de refuerz...   \n",
       "85   Seremi (s) del MOP, inspeccionó trabajos en Ru...   \n",
       "88   CChC Atacama y Codelco Salvador fortalecen tra...   \n",
       "91   Carga peligrosa: Fiscalía formalizó a conducto...   \n",
       "94   ALTO DEL CARMEN: SUJETOS FUERON DETENIDOS POR ...   \n",
       "97   Women In Mining Chile distinguió a cinco mujer...   \n",
       "100  Gobierno anuncia Seremis para la Región de At...   \n",
       "103  CARABINEROS Y DIRECTORES DE COLEGIOS ACUERDAN ...   \n",
       "106  Seremis de Salud y Educación de Atacama dan in...   \n",
       "\n",
       "                                               content  \n",
       "0    Una vez más el despliegue operativo de Carabin...  \n",
       "4    Alexis Rogat Lucero compartió el planteamiento...  \n",
       "7    Este viernes, el Delegado Presidencial, Gerard...  \n",
       "10   Una reunión entre la directiva del Capítulo Mé...  \n",
       "13   Un programa de bienvenida e integración para l...  \n",
       "16   La iniciativa transforma a la empresa sanitari...  \n",
       "19   Una gran noticia dio a conocer el Sistema Naci...  \n",
       "22   Con el objetivo de certificar el cumplimiento ...  \n",
       "25   El delegado presidencial Gerardo Tapia Tapia a...  \n",
       "28   Fiscal adjunto de Copiapó, Sebastián Coya Gonz...  \n",
       "31   Las opiniones vertidas en este medio electróni...  \n",
       "34   El General Director de Carabineros de Chile en...  \n",
       "73   Personal de Carabineros de la Subcomisaria I.A...  \n",
       "76   De acuerdo con la información recogida por la ...  \n",
       "79   Tres toneladas de bacalao fue parte del último...  \n",
       "82   Denuncias de intentos de secuestros a estudian...  \n",
       "85   Hasta la comuna de Vallenar, llegó el Seremi (...  \n",
       "88   Para seguir fomentando la consolidación de un ...  \n",
       "91   Se trata de un camión que circulaba con rumbo ...  \n",
       "94   Un control vehicular en la Ruta C-495, Km. 21,...  \n",
       "97   En el marco de la 25° versión del Cesco Week, ...  \n",
       "100  La Subsecretaría de Desarrollo Regional (Subd...  \n",
       "103  Representantes de diversos establecimientos ed...  \n",
       "106  Tras el retorno a la presencialidad total de l...  "
      ]
     },
     "execution_count": 19,
     "metadata": {},
     "output_type": "execute_result"
    }
   ],
   "source": [
    "df"
   ]
  },
  {
   "cell_type": "code",
   "execution_count": null,
   "id": "2e565eca",
   "metadata": {},
   "outputs": [],
   "source": []
  }
 ],
 "metadata": {
  "kernelspec": {
   "display_name": "Python 3 (ipykernel)",
   "language": "python",
   "name": "python3"
  },
  "language_info": {
   "codemirror_mode": {
    "name": "ipython",
    "version": 3
   },
   "file_extension": ".py",
   "mimetype": "text/x-python",
   "name": "python",
   "nbconvert_exporter": "python",
   "pygments_lexer": "ipython3",
   "version": "3.8.10"
  }
 },
 "nbformat": 4,
 "nbformat_minor": 5
}
