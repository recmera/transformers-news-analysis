{
 "cells": [
  {
   "cell_type": "code",
   "execution_count": 1,
   "id": "e42c42ef",
   "metadata": {},
   "outputs": [],
   "source": [
    "import json\n",
    "import w3lib.html\n",
    "import random\n",
    "import os\n",
    "from datetime import datetime\n",
    "import requests\n",
    "import string\n",
    "import calendar\n",
    "import html\n",
    "import locale \n",
    "from requests_html import HTMLSession\n",
    "from requests_html import HTML\n",
    "import validators\n",
    "import pandas as pd\n",
    "from tqdm.notebook import tqdm\n",
    "import time\n",
    "\n",
    "\n",
    "import warnings\n",
    "warnings.filterwarnings('ignore')"
   ]
  },
  {
   "cell_type": "code",
   "execution_count": 2,
   "id": "79bb0b1d",
   "metadata": {},
   "outputs": [],
   "source": [
    "URL_SEED = 'https://www.eldinamo.cl/seccion/pais/page-1'\n",
    "XPATH_HREF = \"//h4/a/@href\""
   ]
  },
  {
   "cell_type": "code",
   "execution_count": 3,
   "id": "c8a6236e",
   "metadata": {},
   "outputs": [],
   "source": [
    "class Crawler():\n",
    "    \n",
    "    USER_AGENT_LIST = [\n",
    "        \"Mozilla/5.0 (Windows NT 6.1; WOW64) AppleWebKit/537.1 (KHTML, like Gecko) Chrome/22.0.1207.1 Safari/537.1\",\n",
    "        \"Mozilla/5.0 (X11; CrOS i686 2268.111.0) AppleWebKit/536.11 (KHTML, like Gecko) Chrome/20.0.1132.57 Safari/536.11\",\n",
    "        \"Mozilla/5.0 (Windows NT 6.1; WOW64) AppleWebKit/536.6 (KHTML, like Gecko) Chrome/20.0.1092.0 Safari/536.6\",\n",
    "        \"Mozilla/5.0 (Windows NT 6.2) AppleWebKit/536.6 (KHTML, like Gecko) Chrome/20.0.1090.0 Safari/536.6\",\n",
    "        \"Mozilla/5.0 (Windows NT 6.2; WOW64) AppleWebKit/537.1 (KHTML, like Gecko) Chrome/19.77.34.5 Safari/537.1\",\n",
    "        \"Mozilla/5.0 (X11; Linux x86_64) AppleWebKit/536.5 (KHTML, like Gecko) Chrome/19.0.1084.9 Safari/536.5\",\n",
    "        \"Mozilla/5.0 (Windows NT 6.0) AppleWebKit/536.5 (KHTML, like Gecko) Chrome/19.0.1084.36 Safari/536.5\",\n",
    "        \"Mozilla/5.0 (Windows NT 6.1; WOW64) AppleWebKit/536.3 (KHTML, like Gecko) Chrome/19.0.1063.0 Safari/536.3\",\n",
    "        \"Mozilla/5.0 (Windows NT 5.1) AppleWebKit/536.3 (KHTML, like Gecko) Chrome/19.0.1063.0 Safari/536.3\",\n",
    "        \"Mozilla/5.0 (Macintosh; Intel Mac OS X 10_8_0) AppleWebKit/536.3 (KHTML, like Gecko) Chrome/19.0.1063.0 Safari/536.3\",\n",
    "        \"Mozilla/5.0 (Windows NT 6.2) AppleWebKit/536.3 (KHTML, like Gecko) Chrome/19.0.1062.0 Safari/536.3\",\n",
    "        \"Mozilla/5.0 (Windows NT 6.1; WOW64) AppleWebKit/536.3 (KHTML, like Gecko) Chrome/19.0.1062.0 Safari/536.3\",\n",
    "        \"Mozilla/5.0 (Windows NT 6.2) AppleWebKit/536.3 (KHTML, like Gecko) Chrome/19.0.1061.1 Safari/536.3\",\n",
    "        \"Mozilla/5.0 (Windows NT 6.1; WOW64) AppleWebKit/536.3 (KHTML, like Gecko) Chrome/19.0.1061.1 Safari/536.3\",\n",
    "        \"Mozilla/5.0 (Windows NT 6.1) AppleWebKit/536.3 (KHTML, like Gecko) Chrome/19.0.1061.1 Safari/536.3\",\n",
    "        \"Mozilla/5.0 (Windows NT 6.2) AppleWebKit/536.3 (KHTML, like Gecko) Chrome/19.0.1061.0 Safari/536.3\",\n",
    "        \"Mozilla/5.0 (X11; Linux x86_64) AppleWebKit/535.24 (KHTML, like Gecko) Chrome/19.0.1055.1 Safari/535.24\",\n",
    "        \"Mozilla/5.0 (Windows NT 6.2; WOW64) AppleWebKit/535.24 (KHTML, like Gecko) Chrome/19.0.1055.1 Safari/535.24\"\n",
    "    ]\n",
    "\n",
    "    #Ruta XPATH hacia los enlaces que queremos recopilar\n",
    "    xpath_href=XPATH_HREF\n",
    "\n",
    "    #variable que permite listar todos los enlaces recopilado\n",
    "    url_list = []\n",
    "    \n",
    "    def _init_(self, URL_SEED, XPATH_HREF):        \n",
    "        pass\n",
    "\n",
    "    \n",
    "    def get(self,url):\n",
    "        session = HTMLSession()\n",
    "        header = dict()\n",
    "        header['user-agent'] = random.choice(self.USER_AGENT_LIST)\n",
    "        response = session.get(url,headers=header)        \n",
    "        return response\n",
    "    \n",
    "    def parse(self, response):\n",
    "        self.url_list = []\n",
    "        urls = response.html.xpath(self.xpath_href)\n",
    "        for url in urls:\n",
    "            self.url_list.append(url)\n"
   ]
  },
  {
   "cell_type": "code",
   "execution_count": 4,
   "id": "e016daec",
   "metadata": {
    "scrolled": true
   },
   "outputs": [
    {
     "data": {
      "application/vnd.jupyter.widget-view+json": {
       "model_id": "1861da8397f64938916a7afd9c14e3e6",
       "version_major": 2,
       "version_minor": 0
      },
      "text/plain": [
       "  0%|          | 0/3 [00:00<?, ?it/s]"
      ]
     },
     "metadata": {},
     "output_type": "display_data"
    },
    {
     "data": {
      "text/plain": [
       "['https://www.eldinamo.cl{{link-url}}',\n",
       " 'https://www.eldinamo.cl/pais/Suprema-da-espaldarazo-a-Rutherford-y-ordena-a-Ricardo-Martinez-prestar-declaracion-en-recinto-judicial-20220328-0084.html',\n",
       " 'https://www.eldinamo.cl/pais/Carabinero-que-disparo-en-marcha-de-Confech-Pense-que-iba-a-perder-la-vida-20220328-0078.html',\n",
       " 'https://www.eldinamo.cl/pais/Operacion-Renta-mas-de-35-millones-de-contribuyentes-pueden-revisar-propuesta-20220328-0075.html',\n",
       " 'https://www.eldinamo.cl/pais/Tribunal-Constitucional-declara-inadmisible-recurso-de-Brinks-y-reanuda-juicio-por-colusion-ante-TDLC-20220328-0074.html',\n",
       " 'https://www.eldinamo.cl/pais/Por-que-se-conmemora-el-Dia-del-Joven-Combatiente-20220328-0056.html',\n",
       " 'https://www.eldinamo.cl/pais/Fiscalia-formaliza-a-pareja-de-origen-haitiana-que-esclavizo-a-menor-de-edad-20220328-0060.html',\n",
       " 'https://www.eldinamo.cl/pais/Gobierno-advierte-que-uso-de-mascarilla-sigue-siendo-obligatorio-pese-a-ordenanza-de-Chile-Chico-20220328-0055.html',\n",
       " 'https://www.eldinamo.cl/pais/Minsal-privilegiara-vacunacion-de-rezagados-con-tercera-dosis-20220328-0049.html',\n",
       " 'https://www.eldinamo.cl/pais/Hasta-cuando-se-puede-renovar-la-tarjeta-de-la-Cuenta-RUT-20220328-0032.html',\n",
       " 'https://www.eldinamo.cl/pais/Cual-es-la-aprobacion-de-Gabriel-Boric-a-17-dias-como-presidente-de-Chile-20220328-0025.html',\n",
       " 'https://www.eldinamo.cl/pais/5G-de-Entel-ya-opera-en-9-regiones-de-Chile-alcanzando-el-45-del-despliegue-de-su-red-20220328-0029.html',\n",
       " 'https://www.eldinamo.cl/pais/Whatsapp-dejara-de-funcionar-en-estos-telefonos-a-contar-del-31-de-marzo-20220328-0014.html',\n",
       " 'https://www.eldinamo.cl/pais/Encapuchados-queman-furgon-en-Tirua-en-primer-ataque-tras-fin-del-estado-de-excepcion-20220328-0022.html',\n",
       " 'https://www.eldinamo.cl/pais/AFP-Habitat-presenta-recurso-para-reponer-publicidad-censurada-por-la-Superintendencia-de-Pensiones-20220328-0021.html',\n",
       " 'https://www.eldinamo.cl/pais/Balance-COVID-19-Minsal-reporto-4.463-casos-nuevos-y-positividad-de-725-20220328-0013.html',\n",
       " 'https://www.eldinamo.cl/pais/Video-muestra-el-momento-en-que-carabinero-es-golpeado-en-el-suelo-por-encapuchados-20220328-0008.html',\n",
       " 'https://www.eldinamo.cl/pais/Prision-preventiva-para-detenidos-por-encerrona-a-Cristian-De-la-Fuente-y-su-hija-20220327-0017.html',\n",
       " 'https://www.eldinamo.cl/pais/Habla-baleado-en-marcha-no-era-estudiante-disparo-llego-por-rebote-y-fue-testigo-de-golpiza-a-carabinero-20220327-0006.html',\n",
       " 'https://www.eldinamo.cl/pais/Balance-COVID-19-reportan-6.480-casos-nuevos-y-leve-baja-en-la-positividad-20220327-0003.html',\n",
       " 'https://www.eldinamo.cl/pais/Caso-Luchsinger-Mackay-primos-Tralcal-viven-su-primera-salida-dominical-20220327-0001.html',\n",
       " 'https://www.eldinamo.cl/pais/Garantia-de-seis-meses-todo-lo-que-tienes-que-saber-de-la-nueva-ley-20220325-0058.html',\n",
       " 'https://www.eldinamo.cl/pais/Carabinero-que-disparo-en-medio-de-marcha-estudiantil-quedo-en-libertad-20220326-0023.html',\n",
       " 'https://www.eldinamo.cl/pais/Superintendencia-de-Pensiones-censura-video-de-AFP-Habitat-20220326-0022.html',\n",
       " 'https://www.eldinamo.cl/pais/Ex-ministro-Alberto-Espina-fue-internado-tras-sufrir-un-ataque-cerebrovascular-20220326-0021.html',\n",
       " 'https://www.eldinamo.cl/pais/Gobierno-presenta-querella-por-agresion-a-estudiante-por-parte-de-ambulantes-en-Estacion-Central-20220326-0019.html',\n",
       " 'https://www.eldinamo.cl/pais/Detienen-a-presuntos-responsables-de-encerrona-a-Cristian-de-la-Fuente-y-su-hija-20220326-0018.html',\n",
       " 'https://www.eldinamo.cl/pais/Balance-COVID-19-reportan-7.448-nuevos-casos-y-una-positividad-de-875-20220326-0016.html',\n",
       " 'https://www.eldinamo.cl/pais/Estaba-en-riesgo-mi-integridad-liberan-audio-de-carabinero-que-disparo-a-joven-de-19-anos-20220325-0094.html',\n",
       " 'https://www.eldinamo.cl/pais/Encapuchados-prenden-fuego-a-entrada-de-la-ex-Fuente-Alemana-en-Plaza-Italia-20220325-0084.html',\n",
       " 'https://www.eldinamo.cl/pais/Abbott-abre-investigacion-contra-Fiscalia-de-Antofagasta-tras-fuga-de-Karen-Rojo-20220325-0072.html',\n",
       " 'https://www.eldinamo.cl{{link-url}}',\n",
       " 'https://www.eldinamo.cl/pais/Caso-Tomas-Bravo-Tribunal-amplio-plazo-de-investigacion-por-seis-meses-20220325-0067.html',\n",
       " 'https://www.eldinamo.cl/pais/Tres-funcionarios-de-la-FACh-fueron-agredidos-durante-marcha-de-la-Confech-en-Santiago-20220325-0065.html',\n",
       " 'https://www.eldinamo.cl/pais/Ministra-Siches-por-baleo-de-joven-en-marcha-Estos-incidentes-no-pueden-ocurrir-en-el-futuro-20220325-0057.html',\n",
       " 'https://www.eldinamo.cl/pais/Carabineros-por-joven-herido-en-marcha-La-proporcionalidad-sera-investigada-20220325-0052.html',\n",
       " 'https://www.eldinamo.cl/pais/Gobierno-ordena-sumario-a-Carabineros-por-estudiante-baleado-en-marcha-de-la-Confech-20220325-0043.html',\n",
       " 'https://www.eldinamo.cl/pais/Monsalve-por-lienzo-en-su-contra-durante-ataque-en-La-Araucania-El-Gobierno-no-se-va-a-dejar-amedrentar-20220325-0041.html',\n",
       " 'https://www.eldinamo.cl/pais/RN-llego-a-Contraloria-por-beneficios-a-condenados-por-el-caso-Luchsinger-Mackay-20220325-0039.html',\n",
       " 'https://www.eldinamo.cl/pais/Balance-COVID-19-Minsal-reporto-8.247-casos-nuevos-y-positividad-que-se-mantiene-en-8-20220325-0022.html',\n",
       " 'https://www.eldinamo.cl/pais/Autoprestamos-de-la-AFP-De-que-se-trata-el-proyecto-y-cuanto-dinero-podria-retirar-20220325-0018.html',\n",
       " 'https://www.eldinamo.cl/pais/Reportan-ataque-incendiario-en-Victoria-con-lienzo-contra-el-subsecretario-Monsalve-20220325-0017.html',\n",
       " 'https://www.eldinamo.cl/pais/El-estremecedor-relato-de-un-padre-que-denuncia-la-violacion-de-su-hija-en-un-liceo-de-Renca-20220325-0012.html',\n",
       " 'https://www.eldinamo.cl/pais/Boric-entrega-su-primer-indulto-a-joven-con-cancer-terminal-que-fue-condenado-a-10-anos-20220325-0007.html',\n",
       " 'https://www.eldinamo.cl/pais/Alto-Biobio-lideres-de-comunidades-pehuenches-revisan-avances-de-proyectos-junto-a-Enel-Generacion-y-delegada-provincial-20220324-0066.html',\n",
       " 'https://www.eldinamo.cl/pais/Prision-preventiva-para-los-4-imputados-tras-linchamiento-de-joven-en-La-Florida-20220324-0063.html',\n",
       " 'https://www.eldinamo.cl/pais/Detienen-a-apoderada-acusada-de-apunalar-a-profesor-en-liceo-de-Talcahuano-20220324-0060.html',\n",
       " 'https://www.eldinamo.cl/pais/Apoderados-protestan-en-colegio-de-Renca-por-denuncia-de-violacion-20220324-0053.html',\n",
       " 'https://www.eldinamo.cl/pais/Jorge-Luchsinger-por-beneficio-a-primos-Tralcal-Genera-una-sensacion-de-impunidad-inaceptable-20220324-0037.html',\n",
       " 'https://www.eldinamo.cl/pais/Minsal-descarta-falta-de-stock-de-vacuna-por-falta-de-dosis-en-Valparaiso-20220324-0034.html',\n",
       " 'https://www.eldinamo.cl/pais/Cuando-se-paga-el-proximo-IFE-Laboral-20220324-0025.html',\n",
       " 'https://www.eldinamo.cl/pais/Uno-de-los-detenidos-por-linchamiento-en-La-Florida-es-funcionario-de-Seguridad-Ciudadana-de-Providencia-20220324-0026.html',\n",
       " 'https://www.eldinamo.cl/pais/Balance-COVID-19-Minsal-reporto-9.414-casos-nuevos-y-positividad-de-891-20220324-0022.html',\n",
       " 'https://www.eldinamo.cl/pais/CDE-interpuso-querella-criminal-por-robo-de-armamento-desde-recinto-del-Ejercito-20220324-0017.html',\n",
       " 'https://www.eldinamo.cl/pais/Pase-de-Movilidad-Revisa-a-quienes-se-les-inhabilitara-desde-el-1-de-abril-20220324-0015.html',\n",
       " 'https://www.eldinamo.cl/pais/Carabinero-fue-dado-de-baja-tras-chocar-ebrio-en-Los-Angeles-20220324-0014.html',\n",
       " 'https://www.eldinamo.cl/pais/Madre-de-joven-asesinado-en-La-Florida-Ningun-vecino-dio-la-cara-20220324-0008.html',\n",
       " 'https://www.eldinamo.cl/pais/Subsidio-al-pan-De-que-se-trata-el-proyecto-que-busca-contener-el-alza-20220324-0007.html',\n",
       " 'https://www.eldinamo.cl/pais/Gobierno-concede-libertad-a-hermanos-Tralcal-condenados-por-asesinato-de-matrimonio-Luchsinger-MacKay-20220324-0004.html',\n",
       " 'https://www.eldinamo.cl/pais/PDI-detuvo-a-tres-personas-por-muerte-de-joven-en-detencion-ciudadana-en-La-Florida-20220324-0003.html',\n",
       " 'https://www.eldinamo.cl/pais/Alcalde-de-La-Florida-entregara-apoyo-judicial-a-vecinos-que-mataron-a-joven-en-linchamiento-20220323-0054.html',\n",
       " 'https://www.eldinamo.cl/pais/Pase-de-movilidad-como-evitar-que-sea-bloqueado-a-partir-del-1-de-abril-20220323-0047.html']"
      ]
     },
     "execution_count": 4,
     "metadata": {},
     "output_type": "execute_result"
    }
   ],
   "source": [
    "urls=[]\n",
    "\n",
    "for page in tqdm(range(3)): # revisemos sólo 2 páginas\n",
    "    crawler = Crawler()\n",
    "    response = crawler.get('https://www.eldinamo.cl/seccion/pais/page-'+str(page))\n",
    "    time.sleep(2)\n",
    "    crawler.parse(response)\n",
    "\n",
    "    \n",
    "    for url in crawler.url_list:\n",
    "        urls.append(\"https://www.eldinamo.cl\"+url)\n",
    "\n",
    "    crawler.url_list = urls\n",
    "    \n",
    "crawler.url_list"
   ]
  },
  {
   "cell_type": "code",
   "execution_count": 5,
   "id": "e6099483",
   "metadata": {},
   "outputs": [
    {
     "data": {
      "text/plain": [
       "62"
      ]
     },
     "execution_count": 5,
     "metadata": {},
     "output_type": "execute_result"
    }
   ],
   "source": [
    "len(urls)"
   ]
  },
  {
   "cell_type": "code",
   "execution_count": 6,
   "id": "928cdb23",
   "metadata": {},
   "outputs": [
    {
     "data": {
      "text/plain": [
       "'https://www.eldinamo.cl/pais/Suprema-da-espaldarazo-a-Rutherford-y-ordena-a-Ricardo-Martinez-prestar-declaracion-en-recinto-judicial-20220328-0084.html'"
      ]
     },
     "execution_count": 6,
     "metadata": {},
     "output_type": "execute_result"
    }
   ],
   "source": [
    "urls[1]"
   ]
  },
  {
   "cell_type": "code",
   "execution_count": null,
   "id": "f8c2d5b1",
   "metadata": {},
   "outputs": [],
   "source": []
  },
  {
   "cell_type": "code",
   "execution_count": 7,
   "id": "d446e5df",
   "metadata": {},
   "outputs": [],
   "source": [
    "URL_NEWS = urls[1]\n",
    "XPATH_TITLE = \"//h1\"\n",
    "XPATH_CONTENT =\"//section[@id='content']//p\""
   ]
  },
  {
   "cell_type": "code",
   "execution_count": 8,
   "id": "fcc5edaf",
   "metadata": {},
   "outputs": [],
   "source": [
    "class Scraper:\n",
    "    \n",
    "    USER_AGENT_LIST = [\n",
    "        \"Mozilla/5.0 (Windows NT 6.1; WOW64) AppleWebKit/537.1 (KHTML, like Gecko) Chrome/22.0.1207.1 Safari/537.1\",\n",
    "        \"Mozilla/5.0 (X11; CrOS i686 2268.111.0) AppleWebKit/536.11 (KHTML, like Gecko) Chrome/20.0.1132.57 Safari/536.11\",\n",
    "        \"Mozilla/5.0 (Windows NT 6.1; WOW64) AppleWebKit/536.6 (KHTML, like Gecko) Chrome/20.0.1092.0 Safari/536.6\",\n",
    "        \"Mozilla/5.0 (Windows NT 6.2) AppleWebKit/536.6 (KHTML, like Gecko) Chrome/20.0.1090.0 Safari/536.6\",\n",
    "        \"Mozilla/5.0 (Windows NT 6.2; WOW64) AppleWebKit/537.1 (KHTML, like Gecko) Chrome/19.77.34.5 Safari/537.1\",\n",
    "        \"Mozilla/5.0 (X11; Linux x86_64) AppleWebKit/536.5 (KHTML, like Gecko) Chrome/19.0.1084.9 Safari/536.5\",\n",
    "        \"Mozilla/5.0 (Windows NT 6.0) AppleWebKit/536.5 (KHTML, like Gecko) Chrome/19.0.1084.36 Safari/536.5\",\n",
    "        \"Mozilla/5.0 (Windows NT 6.1; WOW64) AppleWebKit/536.3 (KHTML, like Gecko) Chrome/19.0.1063.0 Safari/536.3\",\n",
    "        \"Mozilla/5.0 (Windows NT 5.1) AppleWebKit/536.3 (KHTML, like Gecko) Chrome/19.0.1063.0 Safari/536.3\",\n",
    "        \"Mozilla/5.0 (Macintosh; Intel Mac OS X 10_8_0) AppleWebKit/536.3 (KHTML, like Gecko) Chrome/19.0.1063.0 Safari/536.3\",\n",
    "        \"Mozilla/5.0 (Windows NT 6.2) AppleWebKit/536.3 (KHTML, like Gecko) Chrome/19.0.1062.0 Safari/536.3\",\n",
    "        \"Mozilla/5.0 (Windows NT 6.1; WOW64) AppleWebKit/536.3 (KHTML, like Gecko) Chrome/19.0.1062.0 Safari/536.3\",\n",
    "        \"Mozilla/5.0 (Windows NT 6.2) AppleWebKit/536.3 (KHTML, like Gecko) Chrome/19.0.1061.1 Safari/536.3\",\n",
    "        \"Mozilla/5.0 (Windows NT 6.1; WOW64) AppleWebKit/536.3 (KHTML, like Gecko) Chrome/19.0.1061.1 Safari/536.3\",\n",
    "        \"Mozilla/5.0 (Windows NT 6.1) AppleWebKit/536.3 (KHTML, like Gecko) Chrome/19.0.1061.1 Safari/536.3\",\n",
    "        \"Mozilla/5.0 (Windows NT 6.2) AppleWebKit/536.3 (KHTML, like Gecko) Chrome/19.0.1061.0 Safari/536.3\",\n",
    "        \"Mozilla/5.0 (X11; Linux x86_64) AppleWebKit/535.24 (KHTML, like Gecko) Chrome/19.0.1055.1 Safari/535.24\",\n",
    "        \"Mozilla/5.0 (Windows NT 6.2; WOW64) AppleWebKit/535.24 (KHTML, like Gecko) Chrome/19.0.1055.1 Safari/535.24\"\n",
    "    ]\n",
    "\n",
    "    query_extract_title = XPATH_TITLE\n",
    "    query_extract_text =  XPATH_CONTENT\n",
    "\n",
    "    def _init_(self):\n",
    "        pass\n",
    "   \n",
    "    def get(self,url):\n",
    "        headers = {'user-agent':random.choice(self.USER_AGENT_LIST) }\n",
    "        session = HTMLSession()\n",
    "        response = session.get(url,headers=headers) \n",
    "        return response\n",
    "    \n",
    "    def clean_text(self, html_text):\n",
    "        text_without_tags = w3lib.html.remove_tags(html_text)\n",
    "        text_without_escape_chars = w3lib.html.replace_escape_chars(text_without_tags)\n",
    "        text_without_escape_chars = html.unescape(text_without_escape_chars)\n",
    "        text_without_whitespace = text_without_escape_chars.strip()\n",
    "        return text_without_whitespace\n",
    "\n",
    "    \n",
    "    #### main function ####\n",
    "    def parse(self, response):\n",
    "        \n",
    "        #URL\n",
    "        self.news_url = response.url\n",
    "        \n",
    "        #TITLE\n",
    "        self.news_title = response.html.xpath(self.query_extract_title)[0].text\n",
    "        self.news_title = self.clean_text(self.news_title)\n",
    "       \n",
    "        \n",
    "        #CONTENT\n",
    "        self.news_text = \"\"\n",
    "        \n",
    "        html_paragraphs = response.html.xpath(self.query_extract_text)\n",
    "        \n",
    "        for paragraph in html_paragraphs:\n",
    "            paragraph_content = w3lib.html.remove_tags(paragraph.text)    \n",
    "            text_cleaned = self.clean_text(paragraph_content)\n",
    "            self.news_text = self.news_text+text_cleaned\n"
   ]
  },
  {
   "cell_type": "code",
   "execution_count": 9,
   "id": "d9482704",
   "metadata": {},
   "outputs": [],
   "source": [
    "scraper = Scraper()\n",
    "response =scraper.get(URL_NEWS)"
   ]
  },
  {
   "cell_type": "code",
   "execution_count": 10,
   "id": "d72bc32e",
   "metadata": {},
   "outputs": [],
   "source": [
    "scraper.parse(response)"
   ]
  },
  {
   "cell_type": "code",
   "execution_count": 11,
   "id": "a2e4d401",
   "metadata": {},
   "outputs": [
    {
     "data": {
      "text/plain": [
       "'Suprema da espaldarazo a Rutherford y ordena a Ricardo Martínez prestar declaración en recinto judicial'"
      ]
     },
     "execution_count": 11,
     "metadata": {},
     "output_type": "execute_result"
    }
   ],
   "source": [
    "scraper.news_title"
   ]
  },
  {
   "cell_type": "code",
   "execution_count": 12,
   "id": "162264db",
   "metadata": {},
   "outputs": [
    {
     "data": {
      "text/plain": [
       "'La Corte Suprema revocó la decisión de la Corte Marcial, que admitió un recurso de amparo de Ricardo Martínez, ex comandante en jefe del Ejército, para poder ser interrogado por la ministra en visita Romy Rutherford en su residencia y en presencia de su abogado.Con esta acción, la defensa del otrora comandante en jefe quería evitar su detención tras no presentarse a declarar ante la magistrada, asegurando que se hizo una “interpretación errónea” al no llegar hasta la vivienda fiscal que Martínez sigue habitando, al menos hasta el 30 de marzo, en Lo Curro.Sin embargo, el máximo tribunal precisó que \"los hechos denunciados con ocasión de amparo intentada en autos en modo alguno privan, perturban o amenazan la libertad personal o la seguridad individual del amparado, en los términos del artículo 21 de la Carta Fundamental, toda vez que por dicho arbitrio, se persiguen ciertas pretensiones procesales adjetivas, ajenas a la naturaleza de la presente acción\".Es por esto que \"se revoca la sentencia apelada de siete de marzo de 2022 (...) y en su lugar se decide que se rechaza en todas sus partes la acción de amparo deducida con fecha 3 de marzo de 2022 por el abogado Juan Carlos Manríquez en favor del inculpado\".Ante esta resolución, la ministra Romy Rutherford deberá determinar un nueva fecha para poder concretar el esperado interrogatorio a Ricardo Martínez por la arista “Pasajes y Fletes” en el caso de fraude en el Ejército.'"
      ]
     },
     "execution_count": 12,
     "metadata": {},
     "output_type": "execute_result"
    }
   ],
   "source": [
    "scraper.news_text"
   ]
  },
  {
   "cell_type": "code",
   "execution_count": 13,
   "id": "a455d5d3",
   "metadata": {},
   "outputs": [],
   "source": [
    "#Verificamos que el scraper devuelve algo\n",
    "assert(len(scraper.news_title)>0)\n",
    "assert(len(scraper.news_text)>0)"
   ]
  },
  {
   "cell_type": "code",
   "execution_count": 14,
   "id": "524ce41b",
   "metadata": {
    "scrolled": false
   },
   "outputs": [
    {
     "data": {
      "text/html": [
       "<div>\n",
       "<style scoped>\n",
       "    .dataframe tbody tr th:only-of-type {\n",
       "        vertical-align: middle;\n",
       "    }\n",
       "\n",
       "    .dataframe tbody tr th {\n",
       "        vertical-align: top;\n",
       "    }\n",
       "\n",
       "    .dataframe thead th {\n",
       "        text-align: right;\n",
       "    }\n",
       "</style>\n",
       "<table border=\"1\" class=\"dataframe\">\n",
       "  <thead>\n",
       "    <tr style=\"text-align: right;\">\n",
       "      <th></th>\n",
       "      <th>url</th>\n",
       "      <th>title</th>\n",
       "      <th>content</th>\n",
       "    </tr>\n",
       "  </thead>\n",
       "  <tbody>\n",
       "    <tr>\n",
       "      <th>0</th>\n",
       "      <td>https://www.eldinamo.cl/pais/Suprema-da-espald...</td>\n",
       "      <td>Suprema da espaldarazo a Rutherford y ordena a...</td>\n",
       "      <td>La Corte Suprema revocó la decisión de la Cort...</td>\n",
       "    </tr>\n",
       "  </tbody>\n",
       "</table>\n",
       "</div>"
      ],
      "text/plain": [
       "                                                 url  \\\n",
       "0  https://www.eldinamo.cl/pais/Suprema-da-espald...   \n",
       "\n",
       "                                               title  \\\n",
       "0  Suprema da espaldarazo a Rutherford y ordena a...   \n",
       "\n",
       "                                             content  \n",
       "0  La Corte Suprema revocó la decisión de la Cort...  "
      ]
     },
     "execution_count": 14,
     "metadata": {},
     "output_type": "execute_result"
    }
   ],
   "source": [
    "df = pd.DataFrame(data={'url': [URL_NEWS],'title':[scraper.news_title], 'content':[scraper.news_text]})\n",
    "df"
   ]
  },
  {
   "cell_type": "markdown",
   "id": "dec69d3c",
   "metadata": {},
   "source": [
    "## Eldinamo tiene mecanismos de restricción de solicitudes http. \n",
    "## ENCONTRAR SOLUCION A ESTE PROBLEMA!!!\n"
   ]
  },
  {
   "cell_type": "code",
   "execution_count": 16,
   "id": "267a48c8",
   "metadata": {},
   "outputs": [
    {
     "data": {
      "application/vnd.jupyter.widget-view+json": {
       "model_id": "8d772d7067a9495fb247af04f73c8e6a",
       "version_major": 2,
       "version_minor": 0
      },
      "text/plain": [
       "  0%|          | 0/62 [00:00<?, ?it/s]"
      ]
     },
     "metadata": {},
     "output_type": "display_data"
    },
    {
     "ename": "ConnectionError",
     "evalue": "HTTPSConnectionPool(host='www.eldinamo.cl%7b%7blink-url%7d%7d', port=443): Max retries exceeded with url: / (Caused by NewConnectionError('<urllib3.connection.VerifiedHTTPSConnection object at 0x7fbf6a8820d0>: Failed to establish a new connection: [Errno -2] Name or service not known'))",
     "output_type": "error",
     "traceback": [
      "\u001b[0;31m---------------------------------------------------------------------------\u001b[0m",
      "\u001b[0;31mgaierror\u001b[0m                                  Traceback (most recent call last)",
      "File \u001b[0;32m/usr/lib/python3/dist-packages/urllib3/connection.py:159\u001b[0m, in \u001b[0;36mHTTPConnection._new_conn\u001b[0;34m(self)\u001b[0m\n\u001b[1;32m    158\u001b[0m \u001b[38;5;28;01mtry\u001b[39;00m:\n\u001b[0;32m--> 159\u001b[0m     conn \u001b[38;5;241m=\u001b[39m \u001b[43mconnection\u001b[49m\u001b[38;5;241;43m.\u001b[39;49m\u001b[43mcreate_connection\u001b[49m\u001b[43m(\u001b[49m\n\u001b[1;32m    160\u001b[0m \u001b[43m        \u001b[49m\u001b[43m(\u001b[49m\u001b[38;5;28;43mself\u001b[39;49m\u001b[38;5;241;43m.\u001b[39;49m\u001b[43m_dns_host\u001b[49m\u001b[43m,\u001b[49m\u001b[43m \u001b[49m\u001b[38;5;28;43mself\u001b[39;49m\u001b[38;5;241;43m.\u001b[39;49m\u001b[43mport\u001b[49m\u001b[43m)\u001b[49m\u001b[43m,\u001b[49m\u001b[43m \u001b[49m\u001b[38;5;28;43mself\u001b[39;49m\u001b[38;5;241;43m.\u001b[39;49m\u001b[43mtimeout\u001b[49m\u001b[43m,\u001b[49m\u001b[43m \u001b[49m\u001b[38;5;241;43m*\u001b[39;49m\u001b[38;5;241;43m*\u001b[39;49m\u001b[43mextra_kw\u001b[49m\n\u001b[1;32m    161\u001b[0m \u001b[43m    \u001b[49m\u001b[43m)\u001b[49m\n\u001b[1;32m    163\u001b[0m \u001b[38;5;28;01mexcept\u001b[39;00m SocketTimeout:\n",
      "File \u001b[0;32m/usr/lib/python3/dist-packages/urllib3/util/connection.py:61\u001b[0m, in \u001b[0;36mcreate_connection\u001b[0;34m(address, timeout, source_address, socket_options)\u001b[0m\n\u001b[1;32m     59\u001b[0m family \u001b[38;5;241m=\u001b[39m allowed_gai_family()\n\u001b[0;32m---> 61\u001b[0m \u001b[38;5;28;01mfor\u001b[39;00m res \u001b[38;5;129;01min\u001b[39;00m \u001b[43msocket\u001b[49m\u001b[38;5;241;43m.\u001b[39;49m\u001b[43mgetaddrinfo\u001b[49m\u001b[43m(\u001b[49m\u001b[43mhost\u001b[49m\u001b[43m,\u001b[49m\u001b[43m \u001b[49m\u001b[43mport\u001b[49m\u001b[43m,\u001b[49m\u001b[43m \u001b[49m\u001b[43mfamily\u001b[49m\u001b[43m,\u001b[49m\u001b[43m \u001b[49m\u001b[43msocket\u001b[49m\u001b[38;5;241;43m.\u001b[39;49m\u001b[43mSOCK_STREAM\u001b[49m\u001b[43m)\u001b[49m:\n\u001b[1;32m     62\u001b[0m     af, socktype, proto, canonname, sa \u001b[38;5;241m=\u001b[39m res\n",
      "File \u001b[0;32m/usr/lib/python3.8/socket.py:918\u001b[0m, in \u001b[0;36mgetaddrinfo\u001b[0;34m(host, port, family, type, proto, flags)\u001b[0m\n\u001b[1;32m    917\u001b[0m addrlist \u001b[38;5;241m=\u001b[39m []\n\u001b[0;32m--> 918\u001b[0m \u001b[38;5;28;01mfor\u001b[39;00m res \u001b[38;5;129;01min\u001b[39;00m \u001b[43m_socket\u001b[49m\u001b[38;5;241;43m.\u001b[39;49m\u001b[43mgetaddrinfo\u001b[49m\u001b[43m(\u001b[49m\u001b[43mhost\u001b[49m\u001b[43m,\u001b[49m\u001b[43m \u001b[49m\u001b[43mport\u001b[49m\u001b[43m,\u001b[49m\u001b[43m \u001b[49m\u001b[43mfamily\u001b[49m\u001b[43m,\u001b[49m\u001b[43m \u001b[49m\u001b[38;5;28;43mtype\u001b[39;49m\u001b[43m,\u001b[49m\u001b[43m \u001b[49m\u001b[43mproto\u001b[49m\u001b[43m,\u001b[49m\u001b[43m \u001b[49m\u001b[43mflags\u001b[49m\u001b[43m)\u001b[49m:\n\u001b[1;32m    919\u001b[0m     af, socktype, proto, canonname, sa \u001b[38;5;241m=\u001b[39m res\n",
      "\u001b[0;31mgaierror\u001b[0m: [Errno -2] Name or service not known",
      "\nDuring handling of the above exception, another exception occurred:\n",
      "\u001b[0;31mNewConnectionError\u001b[0m                        Traceback (most recent call last)",
      "File \u001b[0;32m/usr/lib/python3/dist-packages/urllib3/connectionpool.py:665\u001b[0m, in \u001b[0;36mHTTPConnectionPool.urlopen\u001b[0;34m(self, method, url, body, headers, retries, redirect, assert_same_host, timeout, pool_timeout, release_conn, chunked, body_pos, **response_kw)\u001b[0m\n\u001b[1;32m    664\u001b[0m \u001b[38;5;66;03m# Make the request on the httplib connection object.\u001b[39;00m\n\u001b[0;32m--> 665\u001b[0m httplib_response \u001b[38;5;241m=\u001b[39m \u001b[38;5;28;43mself\u001b[39;49m\u001b[38;5;241;43m.\u001b[39;49m\u001b[43m_make_request\u001b[49m\u001b[43m(\u001b[49m\n\u001b[1;32m    666\u001b[0m \u001b[43m    \u001b[49m\u001b[43mconn\u001b[49m\u001b[43m,\u001b[49m\n\u001b[1;32m    667\u001b[0m \u001b[43m    \u001b[49m\u001b[43mmethod\u001b[49m\u001b[43m,\u001b[49m\n\u001b[1;32m    668\u001b[0m \u001b[43m    \u001b[49m\u001b[43murl\u001b[49m\u001b[43m,\u001b[49m\n\u001b[1;32m    669\u001b[0m \u001b[43m    \u001b[49m\u001b[43mtimeout\u001b[49m\u001b[38;5;241;43m=\u001b[39;49m\u001b[43mtimeout_obj\u001b[49m\u001b[43m,\u001b[49m\n\u001b[1;32m    670\u001b[0m \u001b[43m    \u001b[49m\u001b[43mbody\u001b[49m\u001b[38;5;241;43m=\u001b[39;49m\u001b[43mbody\u001b[49m\u001b[43m,\u001b[49m\n\u001b[1;32m    671\u001b[0m \u001b[43m    \u001b[49m\u001b[43mheaders\u001b[49m\u001b[38;5;241;43m=\u001b[39;49m\u001b[43mheaders\u001b[49m\u001b[43m,\u001b[49m\n\u001b[1;32m    672\u001b[0m \u001b[43m    \u001b[49m\u001b[43mchunked\u001b[49m\u001b[38;5;241;43m=\u001b[39;49m\u001b[43mchunked\u001b[49m\u001b[43m,\u001b[49m\n\u001b[1;32m    673\u001b[0m \u001b[43m\u001b[49m\u001b[43m)\u001b[49m\n\u001b[1;32m    675\u001b[0m \u001b[38;5;66;03m# If we're going to release the connection in ``finally:``, then\u001b[39;00m\n\u001b[1;32m    676\u001b[0m \u001b[38;5;66;03m# the response doesn't need to know about the connection. Otherwise\u001b[39;00m\n\u001b[1;32m    677\u001b[0m \u001b[38;5;66;03m# it will also try to release it and we'll have a double-release\u001b[39;00m\n\u001b[1;32m    678\u001b[0m \u001b[38;5;66;03m# mess.\u001b[39;00m\n",
      "File \u001b[0;32m/usr/lib/python3/dist-packages/urllib3/connectionpool.py:376\u001b[0m, in \u001b[0;36mHTTPConnectionPool._make_request\u001b[0;34m(self, conn, method, url, timeout, chunked, **httplib_request_kw)\u001b[0m\n\u001b[1;32m    375\u001b[0m \u001b[38;5;28;01mtry\u001b[39;00m:\n\u001b[0;32m--> 376\u001b[0m     \u001b[38;5;28;43mself\u001b[39;49m\u001b[38;5;241;43m.\u001b[39;49m\u001b[43m_validate_conn\u001b[49m\u001b[43m(\u001b[49m\u001b[43mconn\u001b[49m\u001b[43m)\u001b[49m\n\u001b[1;32m    377\u001b[0m \u001b[38;5;28;01mexcept\u001b[39;00m (SocketTimeout, BaseSSLError) \u001b[38;5;28;01mas\u001b[39;00m e:\n\u001b[1;32m    378\u001b[0m     \u001b[38;5;66;03m# Py2 raises this as a BaseSSLError, Py3 raises it as socket timeout.\u001b[39;00m\n",
      "File \u001b[0;32m/usr/lib/python3/dist-packages/urllib3/connectionpool.py:996\u001b[0m, in \u001b[0;36mHTTPSConnectionPool._validate_conn\u001b[0;34m(self, conn)\u001b[0m\n\u001b[1;32m    995\u001b[0m \u001b[38;5;28;01mif\u001b[39;00m \u001b[38;5;129;01mnot\u001b[39;00m \u001b[38;5;28mgetattr\u001b[39m(conn, \u001b[38;5;124m\"\u001b[39m\u001b[38;5;124msock\u001b[39m\u001b[38;5;124m\"\u001b[39m, \u001b[38;5;28;01mNone\u001b[39;00m):  \u001b[38;5;66;03m# AppEngine might not have  `.sock`\u001b[39;00m\n\u001b[0;32m--> 996\u001b[0m     \u001b[43mconn\u001b[49m\u001b[38;5;241;43m.\u001b[39;49m\u001b[43mconnect\u001b[49m\u001b[43m(\u001b[49m\u001b[43m)\u001b[49m\n\u001b[1;32m    998\u001b[0m \u001b[38;5;28;01mif\u001b[39;00m \u001b[38;5;129;01mnot\u001b[39;00m conn\u001b[38;5;241m.\u001b[39mis_verified:\n",
      "File \u001b[0;32m/usr/lib/python3/dist-packages/urllib3/connection.py:314\u001b[0m, in \u001b[0;36mVerifiedHTTPSConnection.connect\u001b[0;34m(self)\u001b[0m\n\u001b[1;32m    312\u001b[0m \u001b[38;5;28;01mdef\u001b[39;00m \u001b[38;5;21mconnect\u001b[39m(\u001b[38;5;28mself\u001b[39m):\n\u001b[1;32m    313\u001b[0m     \u001b[38;5;66;03m# Add certificate verification\u001b[39;00m\n\u001b[0;32m--> 314\u001b[0m     conn \u001b[38;5;241m=\u001b[39m \u001b[38;5;28;43mself\u001b[39;49m\u001b[38;5;241;43m.\u001b[39;49m\u001b[43m_new_conn\u001b[49m\u001b[43m(\u001b[49m\u001b[43m)\u001b[49m\n\u001b[1;32m    315\u001b[0m     hostname \u001b[38;5;241m=\u001b[39m \u001b[38;5;28mself\u001b[39m\u001b[38;5;241m.\u001b[39mhost\n",
      "File \u001b[0;32m/usr/lib/python3/dist-packages/urllib3/connection.py:171\u001b[0m, in \u001b[0;36mHTTPConnection._new_conn\u001b[0;34m(self)\u001b[0m\n\u001b[1;32m    170\u001b[0m \u001b[38;5;28;01mexcept\u001b[39;00m SocketError \u001b[38;5;28;01mas\u001b[39;00m e:\n\u001b[0;32m--> 171\u001b[0m     \u001b[38;5;28;01mraise\u001b[39;00m NewConnectionError(\n\u001b[1;32m    172\u001b[0m         \u001b[38;5;28mself\u001b[39m, \u001b[38;5;124m\"\u001b[39m\u001b[38;5;124mFailed to establish a new connection: \u001b[39m\u001b[38;5;132;01m%s\u001b[39;00m\u001b[38;5;124m\"\u001b[39m \u001b[38;5;241m%\u001b[39m e\n\u001b[1;32m    173\u001b[0m     )\n\u001b[1;32m    175\u001b[0m \u001b[38;5;28;01mreturn\u001b[39;00m conn\n",
      "\u001b[0;31mNewConnectionError\u001b[0m: <urllib3.connection.VerifiedHTTPSConnection object at 0x7fbf6a8820d0>: Failed to establish a new connection: [Errno -2] Name or service not known",
      "\nDuring handling of the above exception, another exception occurred:\n",
      "\u001b[0;31mMaxRetryError\u001b[0m                             Traceback (most recent call last)",
      "File \u001b[0;32m/usr/lib/python3/dist-packages/requests/adapters.py:439\u001b[0m, in \u001b[0;36mHTTPAdapter.send\u001b[0;34m(self, request, stream, timeout, verify, cert, proxies)\u001b[0m\n\u001b[1;32m    438\u001b[0m \u001b[38;5;28;01mif\u001b[39;00m \u001b[38;5;129;01mnot\u001b[39;00m chunked:\n\u001b[0;32m--> 439\u001b[0m     resp \u001b[38;5;241m=\u001b[39m \u001b[43mconn\u001b[49m\u001b[38;5;241;43m.\u001b[39;49m\u001b[43murlopen\u001b[49m\u001b[43m(\u001b[49m\n\u001b[1;32m    440\u001b[0m \u001b[43m        \u001b[49m\u001b[43mmethod\u001b[49m\u001b[38;5;241;43m=\u001b[39;49m\u001b[43mrequest\u001b[49m\u001b[38;5;241;43m.\u001b[39;49m\u001b[43mmethod\u001b[49m\u001b[43m,\u001b[49m\n\u001b[1;32m    441\u001b[0m \u001b[43m        \u001b[49m\u001b[43murl\u001b[49m\u001b[38;5;241;43m=\u001b[39;49m\u001b[43murl\u001b[49m\u001b[43m,\u001b[49m\n\u001b[1;32m    442\u001b[0m \u001b[43m        \u001b[49m\u001b[43mbody\u001b[49m\u001b[38;5;241;43m=\u001b[39;49m\u001b[43mrequest\u001b[49m\u001b[38;5;241;43m.\u001b[39;49m\u001b[43mbody\u001b[49m\u001b[43m,\u001b[49m\n\u001b[1;32m    443\u001b[0m \u001b[43m        \u001b[49m\u001b[43mheaders\u001b[49m\u001b[38;5;241;43m=\u001b[39;49m\u001b[43mrequest\u001b[49m\u001b[38;5;241;43m.\u001b[39;49m\u001b[43mheaders\u001b[49m\u001b[43m,\u001b[49m\n\u001b[1;32m    444\u001b[0m \u001b[43m        \u001b[49m\u001b[43mredirect\u001b[49m\u001b[38;5;241;43m=\u001b[39;49m\u001b[38;5;28;43;01mFalse\u001b[39;49;00m\u001b[43m,\u001b[49m\n\u001b[1;32m    445\u001b[0m \u001b[43m        \u001b[49m\u001b[43massert_same_host\u001b[49m\u001b[38;5;241;43m=\u001b[39;49m\u001b[38;5;28;43;01mFalse\u001b[39;49;00m\u001b[43m,\u001b[49m\n\u001b[1;32m    446\u001b[0m \u001b[43m        \u001b[49m\u001b[43mpreload_content\u001b[49m\u001b[38;5;241;43m=\u001b[39;49m\u001b[38;5;28;43;01mFalse\u001b[39;49;00m\u001b[43m,\u001b[49m\n\u001b[1;32m    447\u001b[0m \u001b[43m        \u001b[49m\u001b[43mdecode_content\u001b[49m\u001b[38;5;241;43m=\u001b[39;49m\u001b[38;5;28;43;01mFalse\u001b[39;49;00m\u001b[43m,\u001b[49m\n\u001b[1;32m    448\u001b[0m \u001b[43m        \u001b[49m\u001b[43mretries\u001b[49m\u001b[38;5;241;43m=\u001b[39;49m\u001b[38;5;28;43mself\u001b[39;49m\u001b[38;5;241;43m.\u001b[39;49m\u001b[43mmax_retries\u001b[49m\u001b[43m,\u001b[49m\n\u001b[1;32m    449\u001b[0m \u001b[43m        \u001b[49m\u001b[43mtimeout\u001b[49m\u001b[38;5;241;43m=\u001b[39;49m\u001b[43mtimeout\u001b[49m\n\u001b[1;32m    450\u001b[0m \u001b[43m    \u001b[49m\u001b[43m)\u001b[49m\n\u001b[1;32m    452\u001b[0m \u001b[38;5;66;03m# Send the request.\u001b[39;00m\n\u001b[1;32m    453\u001b[0m \u001b[38;5;28;01melse\u001b[39;00m:\n",
      "File \u001b[0;32m/usr/lib/python3/dist-packages/urllib3/connectionpool.py:719\u001b[0m, in \u001b[0;36mHTTPConnectionPool.urlopen\u001b[0;34m(self, method, url, body, headers, retries, redirect, assert_same_host, timeout, pool_timeout, release_conn, chunked, body_pos, **response_kw)\u001b[0m\n\u001b[1;32m    717\u001b[0m     e \u001b[38;5;241m=\u001b[39m ProtocolError(\u001b[38;5;124m\"\u001b[39m\u001b[38;5;124mConnection aborted.\u001b[39m\u001b[38;5;124m\"\u001b[39m, e)\n\u001b[0;32m--> 719\u001b[0m retries \u001b[38;5;241m=\u001b[39m \u001b[43mretries\u001b[49m\u001b[38;5;241;43m.\u001b[39;49m\u001b[43mincrement\u001b[49m\u001b[43m(\u001b[49m\n\u001b[1;32m    720\u001b[0m \u001b[43m    \u001b[49m\u001b[43mmethod\u001b[49m\u001b[43m,\u001b[49m\u001b[43m \u001b[49m\u001b[43murl\u001b[49m\u001b[43m,\u001b[49m\u001b[43m \u001b[49m\u001b[43merror\u001b[49m\u001b[38;5;241;43m=\u001b[39;49m\u001b[43me\u001b[49m\u001b[43m,\u001b[49m\u001b[43m \u001b[49m\u001b[43m_pool\u001b[49m\u001b[38;5;241;43m=\u001b[39;49m\u001b[38;5;28;43mself\u001b[39;49m\u001b[43m,\u001b[49m\u001b[43m \u001b[49m\u001b[43m_stacktrace\u001b[49m\u001b[38;5;241;43m=\u001b[39;49m\u001b[43msys\u001b[49m\u001b[38;5;241;43m.\u001b[39;49m\u001b[43mexc_info\u001b[49m\u001b[43m(\u001b[49m\u001b[43m)\u001b[49m\u001b[43m[\u001b[49m\u001b[38;5;241;43m2\u001b[39;49m\u001b[43m]\u001b[49m\n\u001b[1;32m    721\u001b[0m \u001b[43m\u001b[49m\u001b[43m)\u001b[49m\n\u001b[1;32m    722\u001b[0m retries\u001b[38;5;241m.\u001b[39msleep()\n",
      "File \u001b[0;32m/usr/lib/python3/dist-packages/urllib3/util/retry.py:436\u001b[0m, in \u001b[0;36mRetry.increment\u001b[0;34m(self, method, url, response, error, _pool, _stacktrace)\u001b[0m\n\u001b[1;32m    435\u001b[0m \u001b[38;5;28;01mif\u001b[39;00m new_retry\u001b[38;5;241m.\u001b[39mis_exhausted():\n\u001b[0;32m--> 436\u001b[0m     \u001b[38;5;28;01mraise\u001b[39;00m MaxRetryError(_pool, url, error \u001b[38;5;129;01mor\u001b[39;00m ResponseError(cause))\n\u001b[1;32m    438\u001b[0m log\u001b[38;5;241m.\u001b[39mdebug(\u001b[38;5;124m\"\u001b[39m\u001b[38;5;124mIncremented Retry for (url=\u001b[39m\u001b[38;5;124m'\u001b[39m\u001b[38;5;132;01m%s\u001b[39;00m\u001b[38;5;124m'\u001b[39m\u001b[38;5;124m): \u001b[39m\u001b[38;5;132;01m%r\u001b[39;00m\u001b[38;5;124m\"\u001b[39m, url, new_retry)\n",
      "\u001b[0;31mMaxRetryError\u001b[0m: HTTPSConnectionPool(host='www.eldinamo.cl%7b%7blink-url%7d%7d', port=443): Max retries exceeded with url: / (Caused by NewConnectionError('<urllib3.connection.VerifiedHTTPSConnection object at 0x7fbf6a8820d0>: Failed to establish a new connection: [Errno -2] Name or service not known'))",
      "\nDuring handling of the above exception, another exception occurred:\n",
      "\u001b[0;31mConnectionError\u001b[0m                           Traceback (most recent call last)",
      "Input \u001b[0;32mIn [16]\u001b[0m, in \u001b[0;36m<cell line: 6>\u001b[0;34m()\u001b[0m\n\u001b[1;32m      7\u001b[0m URL_NEWS \u001b[38;5;241m=\u001b[39m url\n\u001b[1;32m      8\u001b[0m scraper \u001b[38;5;241m=\u001b[39m Scraper()\n\u001b[0;32m----> 9\u001b[0m response \u001b[38;5;241m=\u001b[39m\u001b[43mscraper\u001b[49m\u001b[38;5;241;43m.\u001b[39;49m\u001b[43mget\u001b[49m\u001b[43m(\u001b[49m\u001b[43mURL_NEWS\u001b[49m\u001b[43m)\u001b[49m\n\u001b[1;32m     10\u001b[0m time\u001b[38;5;241m.\u001b[39msleep(\u001b[38;5;241m5\u001b[39m)\n\u001b[1;32m     12\u001b[0m scraper\u001b[38;5;241m.\u001b[39mparse(response)\n",
      "Input \u001b[0;32mIn [8]\u001b[0m, in \u001b[0;36mScraper.get\u001b[0;34m(self, url)\u001b[0m\n\u001b[1;32m     31\u001b[0m headers \u001b[38;5;241m=\u001b[39m {\u001b[38;5;124m'\u001b[39m\u001b[38;5;124muser-agent\u001b[39m\u001b[38;5;124m'\u001b[39m:random\u001b[38;5;241m.\u001b[39mchoice(\u001b[38;5;28mself\u001b[39m\u001b[38;5;241m.\u001b[39mUSER_AGENT_LIST) }\n\u001b[1;32m     32\u001b[0m session \u001b[38;5;241m=\u001b[39m HTMLSession()\n\u001b[0;32m---> 33\u001b[0m response \u001b[38;5;241m=\u001b[39m \u001b[43msession\u001b[49m\u001b[38;5;241;43m.\u001b[39;49m\u001b[43mget\u001b[49m\u001b[43m(\u001b[49m\u001b[43murl\u001b[49m\u001b[43m,\u001b[49m\u001b[43mheaders\u001b[49m\u001b[38;5;241;43m=\u001b[39;49m\u001b[43mheaders\u001b[49m\u001b[43m)\u001b[49m \n\u001b[1;32m     34\u001b[0m \u001b[38;5;28;01mreturn\u001b[39;00m response\n",
      "File \u001b[0;32m/usr/lib/python3/dist-packages/requests/sessions.py:546\u001b[0m, in \u001b[0;36mSession.get\u001b[0;34m(self, url, **kwargs)\u001b[0m\n\u001b[1;32m    538\u001b[0m \u001b[38;5;124mr\u001b[39m\u001b[38;5;124;03m\"\"\"Sends a GET request. Returns :class:`Response` object.\u001b[39;00m\n\u001b[1;32m    539\u001b[0m \n\u001b[1;32m    540\u001b[0m \u001b[38;5;124;03m:param url: URL for the new :class:`Request` object.\u001b[39;00m\n\u001b[1;32m    541\u001b[0m \u001b[38;5;124;03m:param \\*\\*kwargs: Optional arguments that ``request`` takes.\u001b[39;00m\n\u001b[1;32m    542\u001b[0m \u001b[38;5;124;03m:rtype: requests.Response\u001b[39;00m\n\u001b[1;32m    543\u001b[0m \u001b[38;5;124;03m\"\"\"\u001b[39;00m\n\u001b[1;32m    545\u001b[0m kwargs\u001b[38;5;241m.\u001b[39msetdefault(\u001b[38;5;124m'\u001b[39m\u001b[38;5;124mallow_redirects\u001b[39m\u001b[38;5;124m'\u001b[39m, \u001b[38;5;28;01mTrue\u001b[39;00m)\n\u001b[0;32m--> 546\u001b[0m \u001b[38;5;28;01mreturn\u001b[39;00m \u001b[38;5;28;43mself\u001b[39;49m\u001b[38;5;241;43m.\u001b[39;49m\u001b[43mrequest\u001b[49m\u001b[43m(\u001b[49m\u001b[38;5;124;43m'\u001b[39;49m\u001b[38;5;124;43mGET\u001b[39;49m\u001b[38;5;124;43m'\u001b[39;49m\u001b[43m,\u001b[49m\u001b[43m \u001b[49m\u001b[43murl\u001b[49m\u001b[43m,\u001b[49m\u001b[43m \u001b[49m\u001b[38;5;241;43m*\u001b[39;49m\u001b[38;5;241;43m*\u001b[39;49m\u001b[43mkwargs\u001b[49m\u001b[43m)\u001b[49m\n",
      "File \u001b[0;32m/usr/lib/python3/dist-packages/requests/sessions.py:533\u001b[0m, in \u001b[0;36mSession.request\u001b[0;34m(self, method, url, params, data, headers, cookies, files, auth, timeout, allow_redirects, proxies, hooks, stream, verify, cert, json)\u001b[0m\n\u001b[1;32m    528\u001b[0m send_kwargs \u001b[38;5;241m=\u001b[39m {\n\u001b[1;32m    529\u001b[0m     \u001b[38;5;124m'\u001b[39m\u001b[38;5;124mtimeout\u001b[39m\u001b[38;5;124m'\u001b[39m: timeout,\n\u001b[1;32m    530\u001b[0m     \u001b[38;5;124m'\u001b[39m\u001b[38;5;124mallow_redirects\u001b[39m\u001b[38;5;124m'\u001b[39m: allow_redirects,\n\u001b[1;32m    531\u001b[0m }\n\u001b[1;32m    532\u001b[0m send_kwargs\u001b[38;5;241m.\u001b[39mupdate(settings)\n\u001b[0;32m--> 533\u001b[0m resp \u001b[38;5;241m=\u001b[39m \u001b[38;5;28;43mself\u001b[39;49m\u001b[38;5;241;43m.\u001b[39;49m\u001b[43msend\u001b[49m\u001b[43m(\u001b[49m\u001b[43mprep\u001b[49m\u001b[43m,\u001b[49m\u001b[43m \u001b[49m\u001b[38;5;241;43m*\u001b[39;49m\u001b[38;5;241;43m*\u001b[39;49m\u001b[43msend_kwargs\u001b[49m\u001b[43m)\u001b[49m\n\u001b[1;32m    535\u001b[0m \u001b[38;5;28;01mreturn\u001b[39;00m resp\n",
      "File \u001b[0;32m/usr/lib/python3/dist-packages/requests/sessions.py:646\u001b[0m, in \u001b[0;36mSession.send\u001b[0;34m(self, request, **kwargs)\u001b[0m\n\u001b[1;32m    643\u001b[0m start \u001b[38;5;241m=\u001b[39m preferred_clock()\n\u001b[1;32m    645\u001b[0m \u001b[38;5;66;03m# Send the request\u001b[39;00m\n\u001b[0;32m--> 646\u001b[0m r \u001b[38;5;241m=\u001b[39m \u001b[43madapter\u001b[49m\u001b[38;5;241;43m.\u001b[39;49m\u001b[43msend\u001b[49m\u001b[43m(\u001b[49m\u001b[43mrequest\u001b[49m\u001b[43m,\u001b[49m\u001b[43m \u001b[49m\u001b[38;5;241;43m*\u001b[39;49m\u001b[38;5;241;43m*\u001b[39;49m\u001b[43mkwargs\u001b[49m\u001b[43m)\u001b[49m\n\u001b[1;32m    648\u001b[0m \u001b[38;5;66;03m# Total elapsed time of the request (approximately)\u001b[39;00m\n\u001b[1;32m    649\u001b[0m elapsed \u001b[38;5;241m=\u001b[39m preferred_clock() \u001b[38;5;241m-\u001b[39m start\n",
      "File \u001b[0;32m/usr/lib/python3/dist-packages/requests/adapters.py:516\u001b[0m, in \u001b[0;36mHTTPAdapter.send\u001b[0;34m(self, request, stream, timeout, verify, cert, proxies)\u001b[0m\n\u001b[1;32m    512\u001b[0m     \u001b[38;5;28;01mif\u001b[39;00m \u001b[38;5;28misinstance\u001b[39m(e\u001b[38;5;241m.\u001b[39mreason, _SSLError):\n\u001b[1;32m    513\u001b[0m         \u001b[38;5;66;03m# This branch is for urllib3 v1.22 and later.\u001b[39;00m\n\u001b[1;32m    514\u001b[0m         \u001b[38;5;28;01mraise\u001b[39;00m SSLError(e, request\u001b[38;5;241m=\u001b[39mrequest)\n\u001b[0;32m--> 516\u001b[0m     \u001b[38;5;28;01mraise\u001b[39;00m \u001b[38;5;167;01mConnectionError\u001b[39;00m(e, request\u001b[38;5;241m=\u001b[39mrequest)\n\u001b[1;32m    518\u001b[0m \u001b[38;5;28;01mexcept\u001b[39;00m ClosedPoolError \u001b[38;5;28;01mas\u001b[39;00m e:\n\u001b[1;32m    519\u001b[0m     \u001b[38;5;28;01mraise\u001b[39;00m \u001b[38;5;167;01mConnectionError\u001b[39;00m(e, request\u001b[38;5;241m=\u001b[39mrequest)\n",
      "\u001b[0;31mConnectionError\u001b[0m: HTTPSConnectionPool(host='www.eldinamo.cl%7b%7blink-url%7d%7d', port=443): Max retries exceeded with url: / (Caused by NewConnectionError('<urllib3.connection.VerifiedHTTPSConnection object at 0x7fbf6a8820d0>: Failed to establish a new connection: [Errno -2] Name or service not known'))"
     ]
    }
   ],
   "source": [
    "import time\n",
    "\n",
    "XPATH_TITLE = \"//h1\"\n",
    "XPATH_CONTENT =\"//section[@id='content']//p\"\n",
    "\n",
    "for url in tqdm(urls):\n",
    "    URL_NEWS = url\n",
    "    scraper = Scraper()\n",
    "    response =scraper.get(URL_NEWS)\n",
    "    time.sleep(5)\n",
    "\n",
    "    scraper.parse(response)\n",
    "    df1 = pd.DataFrame(data={'url': url, 'title':scraper.news_title, 'content':scraper.news_text},index=['url', 'title', 'content'])\n",
    "    df = df.append(df1, ignore_index=True)\n",
    "    \n",
    "df = df.drop_duplicates()\n"
   ]
  },
  {
   "cell_type": "code",
   "execution_count": null,
   "id": "e9c55424",
   "metadata": {},
   "outputs": [],
   "source": [
    "df"
   ]
  }
 ],
 "metadata": {
  "kernelspec": {
   "display_name": "Python 3 (ipykernel)",
   "language": "python",
   "name": "python3"
  },
  "language_info": {
   "codemirror_mode": {
    "name": "ipython",
    "version": 3
   },
   "file_extension": ".py",
   "mimetype": "text/x-python",
   "name": "python",
   "nbconvert_exporter": "python",
   "pygments_lexer": "ipython3",
   "version": "3.8.10"
  }
 },
 "nbformat": 4,
 "nbformat_minor": 5
}
