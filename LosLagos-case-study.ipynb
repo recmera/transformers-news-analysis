{
 "cells": [
  {
   "cell_type": "code",
   "execution_count": 1,
   "id": "10692a59",
   "metadata": {},
   "outputs": [],
   "source": [
    "from tqdm import tqdm\n",
    "from tqdm.notebook import tqdm_notebook\n",
    "tqdm.pandas()\n",
    "\n",
    "import pandas as pd"
   ]
  },
  {
   "cell_type": "code",
   "execution_count": 2,
   "id": "7ee428b3",
   "metadata": {},
   "outputs": [
    {
     "data": {
      "text/plain": [
       "date               False\n",
       "media_outlet       False\n",
       "url                False\n",
       "title              False\n",
       "text               False\n",
       "content            False\n",
       "comuna              True\n",
       "date_clustering    False\n",
       "dtype: bool"
      ]
     },
     "execution_count": 2,
     "metadata": {},
     "output_type": "execute_result"
    }
   ],
   "source": [
    "from utils import filter_by_media\n",
    "from utils import cluster_by_month\n",
    "#from utils import preprocess\n",
    "\n",
    "df = pd.read_csv(\"data/loslagos-comunas.csv\")\n",
    "df = cluster_by_month(filter_by_media(df))\n",
    "df = df.drop_duplicates(subset='content', keep=\"first\")\n",
    "\n",
    "#df['tokens'] =  df.content.progress_apply(lambda x: preprocess(str(x))) # Es computacionalmente costoso :(\n",
    "df.isna().any()"
   ]
  },
  {
   "cell_type": "code",
   "execution_count": 4,
   "id": "4a2833b2",
   "metadata": {
    "scrolled": true
   },
   "outputs": [
    {
     "name": "stdout",
     "output_type": "stream",
     "text": [
      "26127\n"
     ]
    },
    {
     "data": {
      "text/html": [
       "<div>\n",
       "<style scoped>\n",
       "    .dataframe tbody tr th:only-of-type {\n",
       "        vertical-align: middle;\n",
       "    }\n",
       "\n",
       "    .dataframe tbody tr th {\n",
       "        vertical-align: top;\n",
       "    }\n",
       "\n",
       "    .dataframe thead th {\n",
       "        text-align: right;\n",
       "    }\n",
       "</style>\n",
       "<table border=\"1\" class=\"dataframe\">\n",
       "  <thead>\n",
       "    <tr style=\"text-align: right;\">\n",
       "      <th></th>\n",
       "      <th>date</th>\n",
       "      <th>media_outlet</th>\n",
       "      <th>url</th>\n",
       "      <th>title</th>\n",
       "      <th>text</th>\n",
       "      <th>content</th>\n",
       "      <th>comuna</th>\n",
       "      <th>date_clustering</th>\n",
       "    </tr>\n",
       "  </thead>\n",
       "  <tbody>\n",
       "    <tr>\n",
       "      <th>0</th>\n",
       "      <td>2021-10-01</td>\n",
       "      <td>elheraldoaustral</td>\n",
       "      <td>https://www.eha.cl/noticia/local/reconocen-a-g...</td>\n",
       "      <td>Reconocen a guardaparques de la Región de Los ...</td>\n",
       "      <td>Distintos protagonistas de los parques naciona...</td>\n",
       "      <td>reconocen guardaparques región lagos actores c...</td>\n",
       "      <td>['puyehue', 'chaiten']</td>\n",
       "      <td>2021-10</td>\n",
       "    </tr>\n",
       "    <tr>\n",
       "      <th>1</th>\n",
       "      <td>2021-10-01</td>\n",
       "      <td>elheraldoaustral</td>\n",
       "      <td>https://www.eha.cl/noticia/local/con-nuevos-ma...</td>\n",
       "      <td>Con nuevos materiales comienza plan piloto en ...</td>\n",
       "      <td>Centro de negocios Sercotec coordina acuerdos ...</td>\n",
       "      <td>nuevos materiales comienza plan piloto saltos ...</td>\n",
       "      <td>['puerto varas']</td>\n",
       "      <td>2021-10</td>\n",
       "    </tr>\n",
       "    <tr>\n",
       "      <th>2</th>\n",
       "      <td>2021-10-01</td>\n",
       "      <td>elheraldoaustral</td>\n",
       "      <td>https://www.eha.cl/noticia/local/centro-de-sal...</td>\n",
       "      <td>Centro de Salud Familiar CESFAM Puerto Varas i...</td>\n",
       "      <td>Las horas se solicitan en el SOME o bien a tra...</td>\n",
       "      <td>centro salud familiar cesfam puerto varas invi...</td>\n",
       "      <td>['puerto varas']</td>\n",
       "      <td>2021-10</td>\n",
       "    </tr>\n",
       "    <tr>\n",
       "      <th>3</th>\n",
       "      <td>2021-10-01</td>\n",
       "      <td>elheraldoaustral</td>\n",
       "      <td>https://www.eha.cl/noticia/local/alcalde-tomas...</td>\n",
       "      <td>Alcalde Tomás Gárate presidió por primera vez ...</td>\n",
       "      <td>Los y las consejeras destacaron el hecho de vo...</td>\n",
       "      <td>alcalde tomás gárate presidió primera vez octa...</td>\n",
       "      <td>['castro', 'puerto varas']</td>\n",
       "      <td>2021-10</td>\n",
       "    </tr>\n",
       "    <tr>\n",
       "      <th>4</th>\n",
       "      <td>2021-10-01</td>\n",
       "      <td>elheraldoaustral</td>\n",
       "      <td>https://www.eha.cl/noticia/local/galeria-de-ar...</td>\n",
       "      <td>Galería de Arte Machacoya realizará remate de ...</td>\n",
       "      <td>Hoy viernes a las 18:30 horas, en Machacoya At...</td>\n",
       "      <td>galería arte machacoya realizará remate obras ...</td>\n",
       "      <td>NaN</td>\n",
       "      <td>2021-10</td>\n",
       "    </tr>\n",
       "  </tbody>\n",
       "</table>\n",
       "</div>"
      ],
      "text/plain": [
       "         date      media_outlet  \\\n",
       "0  2021-10-01  elheraldoaustral   \n",
       "1  2021-10-01  elheraldoaustral   \n",
       "2  2021-10-01  elheraldoaustral   \n",
       "3  2021-10-01  elheraldoaustral   \n",
       "4  2021-10-01  elheraldoaustral   \n",
       "\n",
       "                                                 url  \\\n",
       "0  https://www.eha.cl/noticia/local/reconocen-a-g...   \n",
       "1  https://www.eha.cl/noticia/local/con-nuevos-ma...   \n",
       "2  https://www.eha.cl/noticia/local/centro-de-sal...   \n",
       "3  https://www.eha.cl/noticia/local/alcalde-tomas...   \n",
       "4  https://www.eha.cl/noticia/local/galeria-de-ar...   \n",
       "\n",
       "                                               title  \\\n",
       "0  Reconocen a guardaparques de la Región de Los ...   \n",
       "1  Con nuevos materiales comienza plan piloto en ...   \n",
       "2  Centro de Salud Familiar CESFAM Puerto Varas i...   \n",
       "3  Alcalde Tomás Gárate presidió por primera vez ...   \n",
       "4  Galería de Arte Machacoya realizará remate de ...   \n",
       "\n",
       "                                                text  \\\n",
       "0  Distintos protagonistas de los parques naciona...   \n",
       "1  Centro de negocios Sercotec coordina acuerdos ...   \n",
       "2  Las horas se solicitan en el SOME o bien a tra...   \n",
       "3  Los y las consejeras destacaron el hecho de vo...   \n",
       "4  Hoy viernes a las 18:30 horas, en Machacoya At...   \n",
       "\n",
       "                                             content  \\\n",
       "0  reconocen guardaparques región lagos actores c...   \n",
       "1  nuevos materiales comienza plan piloto saltos ...   \n",
       "2  centro salud familiar cesfam puerto varas invi...   \n",
       "3  alcalde tomás gárate presidió primera vez octa...   \n",
       "4  galería arte machacoya realizará remate obras ...   \n",
       "\n",
       "                       comuna date_clustering  \n",
       "0      ['puyehue', 'chaiten']         2021-10  \n",
       "1            ['puerto varas']         2021-10  \n",
       "2            ['puerto varas']         2021-10  \n",
       "3  ['castro', 'puerto varas']         2021-10  \n",
       "4                         NaN         2021-10  "
      ]
     },
     "execution_count": 4,
     "metadata": {},
     "output_type": "execute_result"
    }
   ],
   "source": [
    "print(len(df))\n",
    "df.head(5)"
   ]
  },
  {
   "cell_type": "markdown",
   "id": "0ce13cbc",
   "metadata": {
    "cell_style": "center"
   },
   "source": [
    "## 1. Modelado de tópicos con BERTopic"
   ]
  },
  {
   "cell_type": "code",
   "execution_count": 5,
   "id": "1b15ab7e",
   "metadata": {},
   "outputs": [],
   "source": [
    "from bertopic import BERTopic\n",
    "from sklearn.feature_extraction.text import CountVectorizer\n",
    "from gensim.models import KeyedVectors\n",
    "from umap import UMAP\n",
    "from hdbscan import HDBSCAN\n",
    "\n",
    "nlp2 = KeyedVectors.load_word2vec_format(\"data/SBW-vectors-300-min5.bin.gz\", binary=True) "
   ]
  },
  {
   "cell_type": "markdown",
   "id": "02f0819e",
   "metadata": {},
   "source": [
    "**Modelo utilizando (UChile):** https://github.com/dccuchile/spanish-word-embeddings\n",
    "\n",
    "Info sobre el preprocesamiento de bertopic: https://github.com/MaartenGr/BERTopic/issues/40"
   ]
  },
  {
   "cell_type": "code",
   "execution_count": 6,
   "id": "c7e482a8",
   "metadata": {
    "scrolled": true
   },
   "outputs": [],
   "source": [
    "df['topic'] = \"\"\n",
    "docs = df.content.tolist()"
   ]
  },
  {
   "cell_type": "code",
   "execution_count": 7,
   "id": "422af852",
   "metadata": {},
   "outputs": [
    {
     "name": "stderr",
     "output_type": "stream",
     "text": [
      "100%|██████████████████████████████████████████████████████████████████████████| 26127/26127 [00:11<00:00, 2349.86it/s]\n",
      "2022-10-27 01:50:44,304 - BERTopic - Transformed documents to Embeddings\n",
      "2022-10-27 01:51:26,187 - BERTopic - Reduced dimensionality\n",
      "2022-10-27 01:57:05,435 - BERTopic - Clustered reduced embeddings\n"
     ]
    },
    {
     "data": {
      "text/html": [
       "<div>\n",
       "<style scoped>\n",
       "    .dataframe tbody tr th:only-of-type {\n",
       "        vertical-align: middle;\n",
       "    }\n",
       "\n",
       "    .dataframe tbody tr th {\n",
       "        vertical-align: top;\n",
       "    }\n",
       "\n",
       "    .dataframe thead th {\n",
       "        text-align: right;\n",
       "    }\n",
       "</style>\n",
       "<table border=\"1\" class=\"dataframe\">\n",
       "  <thead>\n",
       "    <tr style=\"text-align: right;\">\n",
       "      <th></th>\n",
       "      <th>Topic</th>\n",
       "      <th>Count</th>\n",
       "      <th>Name</th>\n",
       "    </tr>\n",
       "  </thead>\n",
       "  <tbody>\n",
       "    <tr>\n",
       "      <th>0</th>\n",
       "      <td>-1</td>\n",
       "      <td>8831</td>\n",
       "      <td>-1_chile_personas_parte_país</td>\n",
       "    </tr>\n",
       "    <tr>\n",
       "      <th>1</th>\n",
       "      <td>0</td>\n",
       "      <td>1258</td>\n",
       "      <td>0_carabineros_robo_fiscal_años</td>\n",
       "    </tr>\n",
       "    <tr>\n",
       "      <th>2</th>\n",
       "      <td>1</td>\n",
       "      <td>319</td>\n",
       "      <td>1_samu_accidente tránsito_lugar_carabineros</td>\n",
       "    </tr>\n",
       "    <tr>\n",
       "      <th>3</th>\n",
       "      <td>2</td>\n",
       "      <td>226</td>\n",
       "      <td>2_cocaína_tráfico_detectives_sativa</td>\n",
       "    </tr>\n",
       "    <tr>\n",
       "      <th>4</th>\n",
       "      <td>3</td>\n",
       "      <td>203</td>\n",
       "      <td>3_blanco 324 of_bomberos132 carabineros133_bom...</td>\n",
       "    </tr>\n",
       "    <tr>\n",
       "      <th>...</th>\n",
       "      <td>...</td>\n",
       "      <td>...</td>\n",
       "      <td>...</td>\n",
       "    </tr>\n",
       "    <tr>\n",
       "      <th>507</th>\n",
       "      <td>506</td>\n",
       "      <td>10</td>\n",
       "      <td>506_horas_locales votación_servel_lentitud</td>\n",
       "    </tr>\n",
       "    <tr>\n",
       "      <th>508</th>\n",
       "      <td>507</td>\n",
       "      <td>10</td>\n",
       "      <td>507_sernapesca_caleta bay_calbuco_ejemplares</td>\n",
       "    </tr>\n",
       "    <tr>\n",
       "      <th>509</th>\n",
       "      <td>508</td>\n",
       "      <td>10</td>\n",
       "      <td>508_biodiversidad_pumalín_labor_conaf</td>\n",
       "    </tr>\n",
       "    <tr>\n",
       "      <th>510</th>\n",
       "      <td>509</td>\n",
       "      <td>10</td>\n",
       "      <td>509_quehui_sabingo_programa sabingo_chilevisión</td>\n",
       "    </tr>\n",
       "    <tr>\n",
       "      <th>511</th>\n",
       "      <td>510</td>\n",
       "      <td>10</td>\n",
       "      <td>510_selección_lasarte_roja_sorpresas</td>\n",
       "    </tr>\n",
       "  </tbody>\n",
       "</table>\n",
       "<p>512 rows × 3 columns</p>\n",
       "</div>"
      ],
      "text/plain": [
       "     Topic  Count                                               Name\n",
       "0       -1   8831                       -1_chile_personas_parte_país\n",
       "1        0   1258                     0_carabineros_robo_fiscal_años\n",
       "2        1    319        1_samu_accidente tránsito_lugar_carabineros\n",
       "3        2    226                2_cocaína_tráfico_detectives_sativa\n",
       "4        3    203  3_blanco 324 of_bomberos132 carabineros133_bom...\n",
       "..     ...    ...                                                ...\n",
       "507    506     10         506_horas_locales votación_servel_lentitud\n",
       "508    507     10       507_sernapesca_caleta bay_calbuco_ejemplares\n",
       "509    508     10              508_biodiversidad_pumalín_labor_conaf\n",
       "510    509     10    509_quehui_sabingo_programa sabingo_chilevisión\n",
       "511    510     10               510_selección_lasarte_roja_sorpresas\n",
       "\n",
       "[512 rows x 3 columns]"
      ]
     },
     "execution_count": 7,
     "metadata": {},
     "output_type": "execute_result"
    }
   ],
   "source": [
    "vectorizer_model = CountVectorizer(ngram_range=(1, 3), stop_words=None)\n",
    "\n",
    "umap_model = UMAP(n_neighbors=15, n_components=5, \n",
    "                  min_dist=0.0, metric='cosine', random_state=42)\n",
    "\n",
    "hdbscan_model = HDBSCAN(min_cluster_size=10, metric='euclidean', \n",
    "                        cluster_selection_method='eom', prediction_data=True, min_samples=5)\n",
    "\n",
    "topic_model = BERTopic(language=\"multilingual\",\n",
    "                       embedding_model=nlp2,\n",
    "                       vectorizer_model=vectorizer_model,\n",
    "                       umap_model=umap_model,\n",
    "                       hdbscan_model=hdbscan_model,\n",
    "                       calculate_probabilities=True,\n",
    "                       verbose=True,\n",
    "                       diversity=0.6)\n",
    "\n",
    "topics, probs = topic_model.fit_transform(docs)\n",
    "topic_model.get_topic_info()"
   ]
  },
  {
   "cell_type": "code",
   "execution_count": 8,
   "id": "7d305548",
   "metadata": {
    "scrolled": true
   },
   "outputs": [],
   "source": [
    "#topic_model.save(\"out/save1\", save_embedding_model=False)"
   ]
  },
  {
   "cell_type": "code",
   "execution_count": 10,
   "id": "e6f7b5a2",
   "metadata": {
    "scrolled": false
   },
   "outputs": [
    {
     "name": "stderr",
     "output_type": "stream",
     "text": [
      "100%|████████████████████████████████████████████████████████████████████████████████| 510/510 [02:17<00:00,  3.70it/s]\n"
     ]
    }
   ],
   "source": [
    "from scipy.cluster import hierarchy as sch\n",
    "\n",
    "# Hierarchical topics\n",
    "linkage_function = lambda x: sch.linkage(x, 'single', optimal_ordering=True)\n",
    "hierarchical_topics = topic_model.hierarchical_topics(docs, linkage_function=linkage_function)\n",
    "\n",
    "fig=topic_model.visualize_hierarchy(hierarchical_topics=hierarchical_topics)\n",
    "fig.write_image(\"img/htopics.png\")"
   ]
  },
  {
   "cell_type": "code",
   "execution_count": 11,
   "id": "be3b1729",
   "metadata": {
    "scrolled": false
   },
   "outputs": [
    {
     "data": {
      "application/vnd.plotly.v1+json": {
       "config": {
        "plotlyServerURL": "https://plot.ly"
       },
       "data": [
        {
         "hoverinfo": "text",
         "marker": {
          "color": "rgb(61,153,112)"
         },
         "mode": "lines",
         "text": [
          "casos_covid19_nivel nacional_total_minsal",
          "",
          "",
          "positividad_paris_peak_covid19_minsal"
         ],
         "type": "scatter",
         "x": [
          0,
          0.9150205118893933,
          0.9150205118893933,
          0
         ],
         "xaxis": "x",
         "y": [
          -15,
          -15,
          -25,
          -25
         ],
         "yaxis": "y"
        },
        {
         "hoverinfo": "text",
         "marker": {
          "color": "rgb(0,116,217)"
         },
         "mode": "lines",
         "text": [
          "covid19_nuevos casos_camas_minsal_nivel nacional",
          "",
          "",
          "variante ómicron_minsal_covid19_valenzuela_dosis"
         ],
         "type": "scatter",
         "x": [
          0.9150205118893933,
          1.0296719165591488,
          1.0296719165591488,
          0
         ],
         "xaxis": "x",
         "y": [
          -20,
          -20,
          -35,
          -35
         ],
         "yaxis": "y"
        },
        {
         "hoverinfo": "text",
         "marker": {
          "color": "rgb(0,116,217)"
         },
         "mode": "lines",
         "text": [
          "minsal_covid19_positividad_mil casos_valenzuela",
          "",
          "",
          "covid19_nuevos casos_camas_minsal_nivel nacional"
         ],
         "type": "scatter",
         "x": [
          0,
          1.0614444323120211,
          1.0614444323120211,
          1.0296719165591488
         ],
         "xaxis": "x",
         "y": [
          -5,
          -5,
          -27.5,
          -27.5
         ],
         "yaxis": "y"
        },
        {
         "hoverinfo": "text",
         "marker": {
          "color": "rgb(0,116,217)"
         },
         "mode": "lines",
         "text": [
          "últimas 24 horas_antígeno_casos_total_nuevos covid19",
          "",
          "",
          "ríos_casos activos_lanco_paillaco_panguipulli"
         ],
         "type": "scatter",
         "x": [
          0,
          1.220217445890403,
          1.220217445890403,
          0
         ],
         "xaxis": "x",
         "y": [
          -45,
          -45,
          -55,
          -55
         ],
         "yaxis": "y"
        },
        {
         "hoverinfo": "text",
         "marker": {
          "color": "rgb(0,116,217)"
         },
         "mode": "lines",
         "text": [
          "covid19_minsal_nuevos casos_camas_paris",
          "",
          "",
          "ríos_casos activos_lanco_paillaco_panguipulli"
         ],
         "type": "scatter",
         "x": [
          1.0614444323120211,
          1.331863831159898,
          1.331863831159898,
          1.220217445890403
         ],
         "xaxis": "x",
         "y": [
          -16.25,
          -16.25,
          -50,
          -50
         ],
         "yaxis": "y"
        },
        {
         "hoverinfo": "text",
         "marker": {
          "color": "rgb(255,65,54)"
         },
         "mode": "lines",
         "text": [
          "confirmados_últimas 24_conectadas ventilación mecánica_dio conocer autoridad_casos activos llegan",
          "",
          "",
          "región_reportaron_contagios_integrada salud_notificar"
         ],
         "type": "scatter",
         "x": [
          0,
          0.5778868676678798,
          0.5778868676678798,
          0
         ],
         "xaxis": "x",
         "y": [
          -65,
          -65,
          -75,
          -75
         ],
         "yaxis": "y"
        },
        {
         "hoverinfo": "text",
         "marker": {
          "color": "rgb(35,205,205)"
         },
         "mode": "lines",
         "text": [
          "contagios_casos activos_provincia llanquihue_llanquihue_uci",
          "",
          "",
          "casos_total_corresponden provincia_uci_montt presentó"
         ],
         "type": "scatter",
         "x": [
          0,
          0.9454669863091758,
          0.9454669863091758,
          0
         ],
         "xaxis": "x",
         "y": [
          -95,
          -95,
          -105,
          -105
         ],
         "yaxis": "y"
        },
        {
         "hoverinfo": "text",
         "marker": {
          "color": "rgb(0,116,217)"
         },
         "mode": "lines",
         "text": [
          "dosis_casos_red salud regional_covid_nuevos",
          "",
          "",
          "uci_nuevos casos_osorno_corresponden provincia_covid"
         ],
         "type": "scatter",
         "x": [
          0,
          1.0098405475245495,
          1.0098405475245495,
          0.9454669863091758
         ],
         "xaxis": "x",
         "y": [
          -85,
          -85,
          -100,
          -100
         ],
         "yaxis": "y"
        },
        {
         "hoverinfo": "text",
         "marker": {
          "color": "rgb(0,116,217)"
         },
         "mode": "lines",
         "text": [
          "dosis_casos_red salud regional_covid_nuevos",
          "",
          "",
          "osorno_purranque_seremi salud_fecha corte_cansino"
         ],
         "type": "scatter",
         "x": [
          1.0098405475245495,
          1.1015554550884386,
          1.1015554550884386,
          0
         ],
         "xaxis": "x",
         "y": [
          -92.5,
          -92.5,
          -115,
          -115
         ],
         "yaxis": "y"
        },
        {
         "hoverinfo": "text",
         "marker": {
          "color": "rgb(0,116,217)"
         },
         "mode": "lines",
         "text": [
          "residencia_región_contagios_reportaron_integrada salud",
          "",
          "",
          "osorno_purranque_seremi salud_fecha corte_cansino"
         ],
         "type": "scatter",
         "x": [
          0.5778868676678798,
          1.4424674576958216,
          1.4424674576958216,
          1.1015554550884386
         ],
         "xaxis": "x",
         "y": [
          -70,
          -70,
          -103.75,
          -103.75
         ],
         "yaxis": "y"
        },
        {
         "hoverinfo": "text",
         "marker": {
          "color": "rgb(0,116,217)"
         },
         "mode": "lines",
         "text": [
          "contagios_bown_uci_activos_camas",
          "",
          "",
          "aislamiento_covid_ancud_curaco vélez_vélez"
         ],
         "type": "scatter",
         "x": [
          0,
          1.0640773477667962,
          1.0640773477667962,
          0
         ],
         "xaxis": "x",
         "y": [
          -135,
          -135,
          -145,
          -145
         ],
         "yaxis": "y"
        },
        {
         "hoverinfo": "text",
         "marker": {
          "color": "rgb(0,116,217)"
         },
         "mode": "lines",
         "text": [
          "pacientes_mansa_covid_camas uci_seremi salud",
          "",
          "",
          "aislamiento_covid_ancud_curaco vélez_vélez"
         ],
         "type": "scatter",
         "x": [
          0,
          1.1995330044417682,
          1.1995330044417682,
          1.0640773477667962
         ],
         "xaxis": "x",
         "y": [
          -125,
          -125,
          -140,
          -140
         ],
         "yaxis": "y"
        },
        {
         "hoverinfo": "text",
         "marker": {
          "color": "rgb(133,20,75)"
         },
         "mode": "lines",
         "text": [
          "aislamiento_intermedio_coronavirus_ancud_internadas",
          "",
          "",
          "neumonía_cov2_sars cov2_sars_ancud"
         ],
         "type": "scatter",
         "x": [
          0,
          0.7452738114413444,
          0.7452738114413444,
          0
         ],
         "xaxis": "x",
         "y": [
          -155,
          -155,
          -165,
          -165
         ],
         "yaxis": "y"
        },
        {
         "hoverinfo": "text",
         "marker": {
          "color": "rgb(0,116,217)"
         },
         "mode": "lines",
         "text": [
          "aislamiento_intermedio_coronavirus_ancud_internadas",
          "",
          "",
          "ancud_coronavirus_quellón_tratamiento intermedio_quemchi"
         ],
         "type": "scatter",
         "x": [
          1.1995330044417682,
          1.4834949562340685,
          1.4834949562340685,
          0.7452738114413444
         ],
         "xaxis": "x",
         "y": [
          -132.5,
          -132.5,
          -160,
          -160
         ],
         "yaxis": "y"
        },
        {
         "hoverinfo": "text",
         "marker": {
          "color": "rgb(0,116,217)"
         },
         "mode": "lines",
         "text": [
          "provincia_contagios_osorno_activos_camas uci",
          "",
          "",
          "ancud_coronavirus_quellón_tratamiento intermedio_quemchi"
         ],
         "type": "scatter",
         "x": [
          1.4424674576958216,
          1.9779191903906816,
          1.9779191903906816,
          1.4834949562340685
         ],
         "xaxis": "x",
         "y": [
          -86.875,
          -86.875,
          -146.25,
          -146.25
         ],
         "yaxis": "y"
        },
        {
         "hoverinfo": "text",
         "marker": {
          "color": "rgb(0,116,217)"
         },
         "mode": "lines",
         "text": [
          "covid19_minsal_nuevos casos_24 horas_salud",
          "",
          "",
          "ancud_coronavirus_quellón_tratamiento intermedio_quemchi"
         ],
         "type": "scatter",
         "x": [
          1.331863831159898,
          2.2583926708115936,
          2.2583926708115936,
          1.9779191903906816
         ],
         "xaxis": "x",
         "y": [
          -33.125,
          -33.125,
          -116.5625,
          -116.5625
         ],
         "yaxis": "y"
        },
        {
         "hoverinfo": "text",
         "marker": {
          "color": "rgb(0,116,217)"
         },
         "mode": "lines",
         "text": [
          "derechos_protección_ley_humanos_servicio mejor niñez",
          "",
          "",
          "mejor_servicio_sename_teletón_vulnerados"
         ],
         "type": "scatter",
         "x": [
          0,
          1.0322383943777762,
          1.0322383943777762,
          0
         ],
         "xaxis": "x",
         "y": [
          -175,
          -175,
          -185,
          -185
         ],
         "yaxis": "y"
        },
        {
         "hoverinfo": "text",
         "marker": {
          "color": "rgb(0,116,217)"
         },
         "mode": "lines",
         "text": [
          "senama_vales_gas_aroca_dideco",
          "",
          "",
          "cuidados_social familia_moderada_senadis_santo"
         ],
         "type": "scatter",
         "x": [
          0,
          1.2683193848313339,
          1.2683193848313339,
          0
         ],
         "xaxis": "x",
         "y": [
          -205,
          -205,
          -215,
          -215
         ],
         "yaxis": "y"
        },
        {
         "hoverinfo": "text",
         "marker": {
          "color": "rgb(0,116,217)"
         },
         "mode": "lines",
         "text": [
          "fundación conecta mayor_100 líderes mayores_adultos_exequiel_86 años",
          "",
          "",
          "adultos_senama_vales_personas dependencia_cuidados"
         ],
         "type": "scatter",
         "x": [
          0,
          1.300357745533765,
          1.300357745533765,
          1.2683193848313339
         ],
         "xaxis": "x",
         "y": [
          -195,
          -195,
          -210,
          -210
         ],
         "yaxis": "y"
        },
        {
         "hoverinfo": "text",
         "marker": {
          "color": "rgb(0,116,217)"
         },
         "mode": "lines",
         "text": [
          "mayores_senama_personas_100 líderes_aroca",
          "",
          "",
          "teletón_rehabilitación_mes personas mayores_leones_cruzada"
         ],
         "type": "scatter",
         "x": [
          1.300357745533765,
          1.365975774820773,
          1.365975774820773,
          0
         ],
         "xaxis": "x",
         "y": [
          -202.5,
          -202.5,
          -225,
          -225
         ],
         "yaxis": "y"
        },
        {
         "hoverinfo": "text",
         "marker": {
          "color": "rgb(0,116,217)"
         },
         "mode": "lines",
         "text": [
          "niños_campaña_viejito_correoschile_regalo",
          "",
          "",
          "senda_drogas_residencias_familias power_niños primero"
         ],
         "type": "scatter",
         "x": [
          0,
          1.2852476605779408,
          1.2852476605779408,
          0
         ],
         "xaxis": "x",
         "y": [
          -235,
          -235,
          -245,
          -245
         ],
         "yaxis": "y"
        },
        {
         "hoverinfo": "text",
         "marker": {
          "color": "rgb(0,116,217)"
         },
         "mode": "lines",
         "text": [
          "niños_campaña_viejito_correoschile_regalo",
          "",
          "",
          "senda_drogas_residencias_familias power_niños primero"
         ],
         "type": "scatter",
         "x": [
          1.365975774820773,
          1.432333947270379,
          1.432333947270379,
          1.2852476605779408
         ],
         "xaxis": "x",
         "y": [
          -213.75,
          -213.75,
          -240,
          -240
         ],
         "yaxis": "y"
        },
        {
         "hoverinfo": "text",
         "marker": {
          "color": "rgb(0,116,217)"
         },
         "mode": "lines",
         "text": [
          "niños niñas_integra_jardines infantiles_actividades_programa",
          "",
          "",
          "junji_jardín infantil_eduardo hernández_cuna_walterio meyer"
         ],
         "type": "scatter",
         "x": [
          0,
          1.1255400371565971,
          1.1255400371565971,
          0
         ],
         "xaxis": "x",
         "y": [
          -255,
          -255,
          -265,
          -265
         ],
         "yaxis": "y"
        },
        {
         "hoverinfo": "text",
         "marker": {
          "color": "rgb(0,116,217)"
         },
         "mode": "lines",
         "text": [
          "jardín infantil_junji_educación_cuna_fundación integra",
          "",
          "",
          "junji_jardines infantiles_escuela_proceso educativo inicial_unidades educativas"
         ],
         "type": "scatter",
         "x": [
          1.1255400371565971,
          1.3170476004134226,
          1.3170476004134226,
          0
         ],
         "xaxis": "x",
         "y": [
          -260,
          -260,
          -275,
          -275
         ],
         "yaxis": "y"
        },
        {
         "hoverinfo": "text",
         "marker": {
          "color": "rgb(0,116,217)"
         },
         "mode": "lines",
         "text": [
          "jardín infantil_junji_educación_cuna_fundación integra",
          "",
          "",
          "junji_jardín infantil_educación_actividades_familias"
         ],
         "type": "scatter",
         "x": [
          1.432333947270379,
          1.6622929842852145,
          1.6622929842852145,
          1.3170476004134226
         ],
         "xaxis": "x",
         "y": [
          -226.875,
          -226.875,
          -267.5,
          -267.5
         ],
         "yaxis": "y"
        },
        {
         "hoverinfo": "text",
         "marker": {
          "color": "rgb(0,116,217)"
         },
         "mode": "lines",
         "text": [
          "adolescentes_niñas_servicio mejor niñez_adolescencia_especializada",
          "",
          "",
          "junji_jardín infantil_educación_actividades_familias"
         ],
         "type": "scatter",
         "x": [
          1.0322383943777762,
          1.684849573102865,
          1.684849573102865,
          1.6622929842852145
         ],
         "xaxis": "x",
         "y": [
          -180,
          -180,
          -247.1875,
          -247.1875
         ],
         "yaxis": "y"
        },
        {
         "hoverinfo": "text",
         "marker": {
          "color": "rgb(0,116,217)"
         },
         "mode": "lines",
         "text": [
          "comité_propia_antukuyen_solidario elección vivienda_uf",
          "",
          "",
          "viviendas sociales_lagunitas_construcción_guevara_comité fresia"
         ],
         "type": "scatter",
         "x": [
          0,
          1.1671754243801347,
          1.1671754243801347,
          0
         ],
         "xaxis": "x",
         "y": [
          -295,
          -295,
          -305,
          -305
         ],
         "yaxis": "y"
        },
        {
         "hoverinfo": "text",
         "marker": {
          "color": "rgb(0,116,217)"
         },
         "mode": "lines",
         "text": [
          "materiales_familias_tarjeta_minvu_ministerio vivienda urbanismo",
          "",
          "",
          "proyecto_guevara_propia_antukuyen_seremi vivienda"
         ],
         "type": "scatter",
         "x": [
          0,
          1.275488915575403,
          1.275488915575403,
          1.1671754243801347
         ],
         "xaxis": "x",
         "y": [
          -285,
          -285,
          -300,
          -300
         ],
         "yaxis": "y"
        },
        {
         "hoverinfo": "text",
         "marker": {
          "color": "rgb(0,116,217)"
         },
         "mode": "lines",
         "text": [
          "5g_localidades_telecomunicaciones_starlink_wom",
          "",
          "",
          "hughes_trabajo social red_llanada_satelital_grande"
         ],
         "type": "scatter",
         "x": [
          0,
          1.2737052556055604,
          1.2737052556055604,
          0
         ],
         "xaxis": "x",
         "y": [
          -315,
          -315,
          -325,
          -325
         ],
         "yaxis": "y"
        },
        {
         "hoverinfo": "text",
         "marker": {
          "color": "rgb(0,116,217)"
         },
         "mode": "lines",
         "text": [
          "karelia_universidad north_curaco_vélez_curaco vélez",
          "",
          "",
          "bancoestado_automático_curaco_curaco vélez_vélez"
         ],
         "type": "scatter",
         "x": [
          0,
          1.3402260986445367,
          1.3402260986445367,
          0
         ],
         "xaxis": "x",
         "y": [
          -335,
          -335,
          -345,
          -345
         ],
         "yaxis": "y"
        },
        {
         "hoverinfo": "text",
         "marker": {
          "color": "rgb(0,116,217)"
         },
         "mode": "lines",
         "text": [
          "terreno_servicios públicos_consultas_seremía_oficina regularización",
          "",
          "",
          "dominio_moreno_bienes nacionales jorge_propietario_título"
         ],
         "type": "scatter",
         "x": [
          0,
          1.3087412026506702,
          1.3087412026506702,
          0
         ],
         "xaxis": "x",
         "y": [
          -355,
          -355,
          -365,
          -365
         ],
         "yaxis": "y"
        },
        {
         "hoverinfo": "text",
         "marker": {
          "color": "rgb(0,116,217)"
         },
         "mode": "lines",
         "text": [
          "terreno_servicios públicos_consultas_seremía_oficina regularización",
          "",
          "",
          "dominio_moreno_bienes nacionales jorge_propietario_título"
         ],
         "type": "scatter",
         "x": [
          1.3402260986445367,
          1.4628031299326676,
          1.4628031299326676,
          1.3087412026506702
         ],
         "xaxis": "x",
         "y": [
          -340,
          -340,
          -360,
          -360
         ],
         "yaxis": "y"
        },
        {
         "hoverinfo": "text",
         "marker": {
          "color": "rgb(0,116,217)"
         },
         "mode": "lines",
         "text": [
          "vecina_farmacia ciudadana_rahue_cenabast_fármacos",
          "",
          "",
          "pago permiso circulación_atención_31 marzo_0830_municipio"
         ],
         "type": "scatter",
         "x": [
          0,
          1.35108860736967,
          1.35108860736967,
          0
         ],
         "xaxis": "x",
         "y": [
          -375,
          -375,
          -385,
          -385
         ],
         "yaxis": "y"
        },
        {
         "hoverinfo": "text",
         "marker": {
          "color": "rgb(0,116,217)"
         },
         "mode": "lines",
         "text": [
          "vecina_farmacia ciudadana_rahue_cenabast_fármacos",
          "",
          "",
          "parque_luis ebel_martes domingo_acceso_ornato"
         ],
         "type": "scatter",
         "x": [
          1.35108860736967,
          1.3872117787359213,
          1.3872117787359213,
          0
         ],
         "xaxis": "x",
         "y": [
          -380,
          -380,
          -395,
          -395
         ],
         "yaxis": "y"
        },
        {
         "hoverinfo": "text",
         "marker": {
          "color": "rgb(0,116,217)"
         },
         "mode": "lines",
         "text": [
          "vecina_farmacia ciudadana_rahue_cenabast_fármacos",
          "",
          "",
          "parque_luis ebel_martes domingo_acceso_ornato"
         ],
         "type": "scatter",
         "x": [
          1.4628031299326676,
          1.467929371846404,
          1.467929371846404,
          1.3872117787359213
         ],
         "xaxis": "x",
         "y": [
          -350,
          -350,
          -387.5,
          -387.5
         ],
         "yaxis": "y"
        },
        {
         "hoverinfo": "text",
         "marker": {
          "color": "rgb(0,116,217)"
         },
         "mode": "lines",
         "text": [
          "5g_óptica_localidades_hughes_social red",
          "",
          "",
          "parque_luis ebel_martes domingo_acceso_ornato"
         ],
         "type": "scatter",
         "x": [
          1.2737052556055604,
          1.494342956485701,
          1.494342956485701,
          1.467929371846404
         ],
         "xaxis": "x",
         "y": [
          -320,
          -320,
          -368.75,
          -368.75
         ],
         "yaxis": "y"
        },
        {
         "hoverinfo": "text",
         "marker": {
          "color": "rgb(0,116,217)"
         },
         "mode": "lines",
         "text": [
          "subdere_esmeralda_calle_pasajes_áreas verdes",
          "",
          "",
          "subdere_59 millones_futaleufú_obra_comuna"
         ],
         "type": "scatter",
         "x": [
          0,
          1.2661906311743136,
          1.2661906311743136,
          0
         ],
         "xaxis": "x",
         "y": [
          -405,
          -405,
          -415,
          -415
         ],
         "yaxis": "y"
        },
        {
         "hoverinfo": "text",
         "marker": {
          "color": "rgb(0,116,217)"
         },
         "mode": "lines",
         "text": [
          "chiloé_caminos_isla_alao_ministro obras públicas",
          "",
          "",
          "intermodal_pasajeros_terminal aéreo_aeródromo cañal_tepual"
         ],
         "type": "scatter",
         "x": [
          0,
          1.3658626111599437,
          1.3658626111599437,
          0
         ],
         "xaxis": "x",
         "y": [
          -425,
          -425,
          -435,
          -435
         ],
         "yaxis": "y"
        },
        {
         "hoverinfo": "text",
         "marker": {
          "color": "rgb(0,116,217)"
         },
         "mode": "lines",
         "text": [
          "templo_pauly_diseño_huyar bajo_casa pauly",
          "",
          "",
          "biblioteca pública_sede_65_cmpc_proyecto"
         ],
         "type": "scatter",
         "x": [
          0,
          1.341376342745229,
          1.341376342745229,
          0
         ],
         "xaxis": "x",
         "y": [
          -445,
          -445,
          -455,
          -455
         ],
         "yaxis": "y"
        },
        {
         "hoverinfo": "text",
         "marker": {
          "color": "rgb(0,116,217)"
         },
         "mode": "lines",
         "text": [
          "templo_pauly_diseño_huyar bajo_casa pauly",
          "",
          "",
          "biblioteca pública_sede_65_cmpc_proyecto"
         ],
         "type": "scatter",
         "x": [
          1.3658626111599437,
          1.3876778015733755,
          1.3876778015733755,
          1.341376342745229
         ],
         "xaxis": "x",
         "y": [
          -430,
          -430,
          -450,
          -450
         ],
         "yaxis": "y"
        },
        {
         "hoverinfo": "text",
         "marker": {
          "color": "rgb(0,116,217)"
         },
         "mode": "lines",
         "text": [
          "vivienda_hualaihué_comuna_ciudadana_cerro philippi",
          "",
          "",
          "comuna_consulta ciudadana alerce_satélite_17 octubre_16 17"
         ],
         "type": "scatter",
         "x": [
          0,
          1.3180426552229747,
          1.3180426552229747,
          0
         ],
         "xaxis": "x",
         "y": [
          -465,
          -465,
          -475,
          -475
         ],
         "yaxis": "y"
        },
        {
         "hoverinfo": "text",
         "marker": {
          "color": "rgb(0,116,217)"
         },
         "mode": "lines",
         "text": [
          "vivienda_hualaihué_comuna_ciudadana_cerro philippi",
          "",
          "",
          "comuna_consulta ciudadana alerce_satélite_17 octubre_16 17"
         ],
         "type": "scatter",
         "x": [
          1.3876778015733755,
          1.4207758834905948,
          1.4207758834905948,
          1.3180426552229747
         ],
         "xaxis": "x",
         "y": [
          -440,
          -440,
          -470,
          -470
         ],
         "yaxis": "y"
        },
        {
         "hoverinfo": "text",
         "marker": {
          "color": "rgb(0,116,217)"
         },
         "mode": "lines",
         "text": [
          "subdere_cierre perimetral_verdes_junta vecinos_calle",
          "",
          "",
          "comuna_consulta ciudadana alerce_satélite_17 octubre_16 17"
         ],
         "type": "scatter",
         "x": [
          1.2661906311743136,
          1.4347488060667613,
          1.4347488060667613,
          1.4207758834905948
         ],
         "xaxis": "x",
         "y": [
          -410,
          -410,
          -455,
          -455
         ],
         "yaxis": "y"
        },
        {
         "hoverinfo": "text",
         "marker": {
          "color": "rgb(0,116,217)"
         },
         "mode": "lines",
         "text": [
          "aniversario_brecas_117_queilen_117 años",
          "",
          "",
          "barrientos_ciudadanos destacados_vera_ceremonia_piucol"
         ],
         "type": "scatter",
         "x": [
          0,
          1.2886633596314558,
          1.2886633596314558,
          0
         ],
         "xaxis": "x",
         "y": [
          -495,
          -495,
          -505,
          -505
         ],
         "yaxis": "y"
        },
        {
         "hoverinfo": "text",
         "marker": {
          "color": "rgb(0,116,217)"
         },
         "mode": "lines",
         "text": [
          "aniversario_batalla_casa chilota_464_alcalde",
          "",
          "",
          "ceremonia_barrientos_ciudadanos destacados_municipal_castro"
         ],
         "type": "scatter",
         "x": [
          0,
          1.3170948724363267,
          1.3170948724363267,
          1.2886633596314558
         ],
         "xaxis": "x",
         "y": [
          -485,
          -485,
          -500,
          -500
         ],
         "yaxis": "y"
        },
        {
         "hoverinfo": "text",
         "marker": {
          "color": "rgb(0,116,217)"
         },
         "mode": "lines",
         "text": [
          "aniversario_batalla_casa chilota_464_alcalde",
          "",
          "",
          "alcalde_ceremonia_barrientos_juan_años"
         ],
         "type": "scatter",
         "x": [
          1.4347488060667613,
          1.5080140646683216,
          1.5080140646683216,
          1.3170948724363267
         ],
         "xaxis": "x",
         "y": [
          -432.5,
          -432.5,
          -492.5,
          -492.5
         ],
         "yaxis": "y"
        },
        {
         "hoverinfo": "text",
         "marker": {
          "color": "rgb(0,116,217)"
         },
         "mode": "lines",
         "text": [
          "aniversario_batalla_casa chilota_464_alcalde",
          "",
          "",
          "alcalde_ceremonia_barrientos_juan_años"
         ],
         "type": "scatter",
         "x": [
          1.494342956485701,
          1.581395113302105,
          1.581395113302105,
          1.5080140646683216
         ],
         "xaxis": "x",
         "y": [
          -344.375,
          -344.375,
          -462.5,
          -462.5
         ],
         "yaxis": "y"
        },
        {
         "hoverinfo": "text",
         "marker": {
          "color": "rgb(0,116,217)"
         },
         "mode": "lines",
         "text": [
          "consejo monumentos nacionales_bypass_castro_cmn_inconclusa",
          "",
          "",
          "obra_castrochonchi_ranco_viaducto gamboa_140 metros largo"
         ],
         "type": "scatter",
         "x": [
          0,
          1.2868861210889855,
          1.2868861210889855,
          0
         ],
         "xaxis": "x",
         "y": [
          -515,
          -515,
          -525,
          -525
         ],
         "yaxis": "y"
        },
        {
         "hoverinfo": "text",
         "marker": {
          "color": "rgb(0,116,217)"
         },
         "mode": "lines",
         "text": [
          "rampa_rilán_dirección obras portuarias_refugio_borde",
          "",
          "",
          "obras portuarias_luminarias_mejoramiento borde costero_proyecto_playa"
         ],
         "type": "scatter",
         "x": [
          0,
          1.235681257746136,
          1.235681257746136,
          0
         ],
         "xaxis": "x",
         "y": [
          -535,
          -535,
          -545,
          -545
         ],
         "yaxis": "y"
        },
        {
         "hoverinfo": "text",
         "marker": {
          "color": "rgb(0,116,217)"
         },
         "mode": "lines",
         "text": [
          "rampa_rilán_dirección obras portuarias_refugio_borde",
          "",
          "",
          "obras portuarias_explanada_mejoramiento borde costero_luminarias_sector"
         ],
         "type": "scatter",
         "x": [
          1.2868861210889855,
          1.3820040681970958,
          1.3820040681970958,
          1.235681257746136
         ],
         "xaxis": "x",
         "y": [
          -520,
          -520,
          -540,
          -540
         ],
         "yaxis": "y"
        },
        {
         "hoverinfo": "text",
         "marker": {
          "color": "rgb(0,116,217)"
         },
         "mode": "lines",
         "text": [
          "chacao_isla_fry_va_proyecto",
          "",
          "",
          "puente chacao_chacao_consorcio_cpc_horas extras"
         ],
         "type": "scatter",
         "x": [
          0,
          1.28620171710568,
          1.28620171710568,
          0
         ],
         "xaxis": "x",
         "y": [
          -555,
          -555,
          -565,
          -565
         ],
         "yaxis": "y"
        },
        {
         "hoverinfo": "text",
         "marker": {
          "color": "rgb(0,116,217)"
         },
         "mode": "lines",
         "text": [
          "chacao_isla_fry_va_proyecto",
          "",
          "",
          "puente chacao_chacao_consorcio_cpc_horas extras"
         ],
         "type": "scatter",
         "x": [
          1.3820040681970958,
          1.4736047531933594,
          1.4736047531933594,
          1.28620171710568
         ],
         "xaxis": "x",
         "y": [
          -530,
          -530,
          -560,
          -560
         ],
         "yaxis": "y"
        },
        {
         "hoverinfo": "text",
         "marker": {
          "color": "rgb(0,116,217)"
         },
         "mode": "lines",
         "text": [
          "chacao_isla_fry_va_proyecto",
          "",
          "",
          "puente chacao_chacao_consorcio_cpc_horas extras"
         ],
         "type": "scatter",
         "x": [
          1.581395113302105,
          1.65849828787532,
          1.65849828787532,
          1.4736047531933594
         ],
         "xaxis": "x",
         "y": [
          -403.4375,
          -403.4375,
          -545,
          -545
         ],
         "yaxis": "y"
        },
        {
         "hoverinfo": "text",
         "marker": {
          "color": "rgb(0,116,217)"
         },
         "mode": "lines",
         "text": [
          "urbanismo_minvu_materiales_proyecto_sueño",
          "",
          "",
          "puente chacao_chacao_consorcio_cpc_horas extras"
         ],
         "type": "scatter",
         "x": [
          1.275488915575403,
          1.6888500976485632,
          1.6888500976485632,
          1.65849828787532
         ],
         "xaxis": "x",
         "y": [
          -292.5,
          -292.5,
          -474.21875,
          -474.21875
         ],
         "yaxis": "y"
        },
        {
         "hoverinfo": "text",
         "marker": {
          "color": "rgb(0,116,217)"
         },
         "mode": "lines",
         "text": [
          "cuartel_francke_brigada bomberil_bomberos lagos_voluntarios",
          "",
          "",
          "villa santa_regional bomberos_palena_unidades material_comuna palena"
         ],
         "type": "scatter",
         "x": [
          0,
          1.2357904310714736,
          1.2357904310714736,
          0
         ],
         "xaxis": "x",
         "y": [
          -585,
          -585,
          -595,
          -595
         ],
         "yaxis": "y"
        },
        {
         "hoverinfo": "text",
         "marker": {
          "color": "rgb(0,116,217)"
         },
         "mode": "lines",
         "text": [
          "superintendente_kauak_institución_años_tercera compañía bomberos",
          "",
          "",
          "carro_cuartel_francke_sexta_gobierno regional"
         ],
         "type": "scatter",
         "x": [
          0,
          1.2740924378585126,
          1.2740924378585126,
          1.2357904310714736
         ],
         "xaxis": "x",
         "y": [
          -575,
          -575,
          -590,
          -590
         ],
         "yaxis": "y"
        },
        {
         "hoverinfo": "text",
         "marker": {
          "color": "rgb(0,116,217)"
         },
         "mode": "lines",
         "text": [
          "superintendente_kauak_institución_años_tercera compañía bomberos",
          "",
          "",
          "cuartel_cuerpo_compañía bomberos_carros_sexta"
         ],
         "type": "scatter",
         "x": [
          1.6888500976485632,
          1.7043558137953458,
          1.7043558137953458,
          1.2740924378585126
         ],
         "xaxis": "x",
         "y": [
          -383.359375,
          -383.359375,
          -582.5,
          -582.5
         ],
         "yaxis": "y"
        },
        {
         "hoverinfo": "text",
         "marker": {
          "color": "rgb(0,116,217)"
         },
         "mode": "lines",
         "text": [
          "superintendente_kauak_institución_años_tercera compañía bomberos",
          "",
          "",
          "cuartel_cuerpo_compañía bomberos_carros_sexta"
         ],
         "type": "scatter",
         "x": [
          1.684849573102865,
          2.0141604629037406,
          2.0141604629037406,
          1.7043558137953458
         ],
         "xaxis": "x",
         "y": [
          -213.59375,
          -213.59375,
          -482.9296875,
          -482.9296875
         ],
         "yaxis": "y"
        },
        {
         "hoverinfo": "text",
         "marker": {
          "color": "rgb(0,116,217)"
         },
         "mode": "lines",
         "text": [
          "cucao_posta_lechagua_chonchi_aumento presupuesto",
          "",
          "",
          "proyectos_fondo_concurso_gobierno regional_fril"
         ],
         "type": "scatter",
         "x": [
          0,
          1.2381926180949123,
          1.2381926180949123,
          0
         ],
         "xaxis": "x",
         "y": [
          -605,
          -605,
          -615,
          -615
         ],
         "yaxis": "y"
        },
        {
         "hoverinfo": "text",
         "marker": {
          "color": "rgb(0,116,217)"
         },
         "mode": "lines",
         "text": [
          "proyectos_organizaciones sociales_concurso_fril_millones pesos",
          "",
          "",
          "desarrollo zonas_gonzalo vial_iniciativas_rezagadas_sector privado"
         ],
         "type": "scatter",
         "x": [
          1.2381926180949123,
          1.3374162846192583,
          1.3374162846192583,
          0
         ],
         "xaxis": "x",
         "y": [
          -610,
          -610,
          -625,
          -625
         ],
         "yaxis": "y"
        },
        {
         "hoverinfo": "text",
         "marker": {
          "color": "rgb(0,116,217)"
         },
         "mode": "lines",
         "text": [
          "proyectos_organizaciones sociales_concurso_fril_millones pesos",
          "",
          "",
          "vallespin_san_fril_patricio vallespin_acceso norte comuna"
         ],
         "type": "scatter",
         "x": [
          1.3374162846192583,
          1.375558676138996,
          1.375558676138996,
          0
         ],
         "xaxis": "x",
         "y": [
          -617.5,
          -617.5,
          -635,
          -635
         ],
         "yaxis": "y"
        },
        {
         "hoverinfo": "text",
         "marker": {
          "color": "rgb(0,116,217)"
         },
         "mode": "lines",
         "text": [
          "gobernador_vallespín_vallespin_licitaciones_palena",
          "",
          "",
          "canal dalcahue_dalcahue_quinchao_trato_directo"
         ],
         "type": "scatter",
         "x": [
          0,
          1.1822882735214977,
          1.1822882735214977,
          0
         ],
         "xaxis": "x",
         "y": [
          -645,
          -645,
          -655,
          -655
         ],
         "yaxis": "y"
        },
        {
         "hoverinfo": "text",
         "marker": {
          "color": "rgb(0,116,217)"
         },
         "mode": "lines",
         "text": [
          "gobernador_vallespín_vallespin_licitaciones_palena",
          "",
          "",
          "canal dalcahue_dalcahue_quinchao_transportes telecomunicaciones_trato directo"
         ],
         "type": "scatter",
         "x": [
          1.375558676138996,
          1.5947642098341175,
          1.5947642098341175,
          1.1822882735214977
         ],
         "xaxis": "x",
         "y": [
          -626.25,
          -626.25,
          -650,
          -650
         ],
         "yaxis": "y"
        },
        {
         "hoverinfo": "text",
         "marker": {
          "color": "rgb(0,116,217)"
         },
         "mode": "lines",
         "text": [
          "vecinos_delegada presidencial_provincia palena_chaitén_palena",
          "",
          "",
          "giovanna_pailalef_claudia pailalef_delegada presidencial regional_tercer piso"
         ],
         "type": "scatter",
         "x": [
          0,
          1.2068495603206535,
          1.2068495603206535,
          0
         ],
         "xaxis": "x",
         "y": [
          -665,
          -665,
          -675,
          -675
         ],
         "yaxis": "y"
        },
        {
         "hoverinfo": "text",
         "marker": {
          "color": "rgb(0,116,217)"
         },
         "mode": "lines",
         "text": [
          "vallespin_obras públicas_nueva delegada presidencial_región lagos_codo",
          "",
          "",
          "vallespin_boric_patricio vallespin_gabriel boric_avanzar"
         ],
         "type": "scatter",
         "x": [
          0,
          1.2176377622689405,
          1.2176377622689405,
          0
         ],
         "xaxis": "x",
         "y": [
          -685,
          -685,
          -695,
          -695
         ],
         "yaxis": "y"
        },
        {
         "hoverinfo": "text",
         "marker": {
          "color": "rgb(0,116,217)"
         },
         "mode": "lines",
         "text": [
          "giovanna_delegada presidencial regional_vecinos_pailalef_trabajo",
          "",
          "",
          "gobernadores regionales_vallespin_boric_patricio vallespin_gabriel boric"
         ],
         "type": "scatter",
         "x": [
          1.2068495603206535,
          1.4393900998496276,
          1.4393900998496276,
          1.2176377622689405
         ],
         "xaxis": "x",
         "y": [
          -670,
          -670,
          -690,
          -690
         ],
         "yaxis": "y"
        },
        {
         "hoverinfo": "text",
         "marker": {
          "color": "rgb(0,116,217)"
         },
         "mode": "lines",
         "text": [
          "cores_gobernador regional patricio_electos_cuerpo colegiado_regionales",
          "",
          "",
          "descentralización_ulagos_consejeros_políticas_regionales"
         ],
         "type": "scatter",
         "x": [
          0,
          1.236747904955725,
          1.236747904955725,
          0
         ],
         "xaxis": "x",
         "y": [
          -705,
          -705,
          -715,
          -715
         ],
         "yaxis": "y"
        },
        {
         "hoverinfo": "text",
         "marker": {
          "color": "rgb(0,116,217)"
         },
         "mode": "lines",
         "text": [
          "gobernadores_vallespin_giovanna_boric_delegada presidencial regional",
          "",
          "",
          "consejeros_regionalización_ciencias_ulagos_gobernador"
         ],
         "type": "scatter",
         "x": [
          1.4393900998496276,
          1.4659333780902846,
          1.4659333780902846,
          1.236747904955725
         ],
         "xaxis": "x",
         "y": [
          -680,
          -680,
          -710,
          -710
         ],
         "yaxis": "y"
        },
        {
         "hoverinfo": "text",
         "marker": {
          "color": "rgb(0,116,217)"
         },
         "mode": "lines",
         "text": [
          "gobernadores_vallespin_giovanna_boric_delegada presidencial regional",
          "",
          "",
          "consejeros_regionalización_ciencias_ulagos_gobernador"
         ],
         "type": "scatter",
         "x": [
          1.5947642098341175,
          1.604713176406245,
          1.604713176406245,
          1.4659333780902846
         ],
         "xaxis": "x",
         "y": [
          -638.125,
          -638.125,
          -695,
          -695
         ],
         "yaxis": "y"
        },
        {
         "hoverinfo": "text",
         "marker": {
          "color": "rgb(0,116,217)"
         },
         "mode": "lines",
         "text": [
          "gobernadores_vallespin_giovanna_boric_delegada presidencial regional",
          "",
          "",
          "consejeros_regionalización_ciencias_ulagos_gobernador"
         ],
         "type": "scatter",
         "x": [
          2.0141604629037406,
          2.0896327603159395,
          2.0896327603159395,
          1.604713176406245
         ],
         "xaxis": "x",
         "y": [
          -348.26171875,
          -348.26171875,
          -666.5625,
          -666.5625
         ],
         "yaxis": "y"
        },
        {
         "hoverinfo": "text",
         "marker": {
          "color": "rgb(0,116,217)"
         },
         "mode": "lines",
         "text": [
          "urbano_río maullín_santuario naturaleza humedales_diario oficial_maullín",
          "",
          "",
          "humedal urbano_medio_bosque_urbanos_tribunal ambiental valdivia"
         ],
         "type": "scatter",
         "x": [
          0,
          1.1243949536714752,
          1.1243949536714752,
          0
         ],
         "xaxis": "x",
         "y": [
          -725,
          -725,
          -735,
          -735
         ],
         "yaxis": "y"
        },
        {
         "hoverinfo": "text",
         "marker": {
          "color": "rgb(0,116,217)"
         },
         "mode": "lines",
         "text": [
          "tenglo_plan tenglo_playas_capitanía_puerto puerto montt",
          "",
          "",
          "bienes_baño_uso_colillas_cercos"
         ],
         "type": "scatter",
         "x": [
          0,
          1.2379887130798766,
          1.2379887130798766,
          0
         ],
         "xaxis": "x",
         "y": [
          -745,
          -745,
          -755,
          -755
         ],
         "yaxis": "y"
        },
        {
         "hoverinfo": "text",
         "marker": {
          "color": "rgb(0,116,217)"
         },
         "mode": "lines",
         "text": [
          "essal_obstrucciones_siss_mascarillas_varas",
          "",
          "",
          "essal_llanquihue_ampliación_malos_varas"
         ],
         "type": "scatter",
         "x": [
          0,
          1.1346560496087998,
          1.1346560496087998,
          0
         ],
         "xaxis": "x",
         "y": [
          -765,
          -765,
          -775,
          -775
         ],
         "yaxis": "y"
        },
        {
         "hoverinfo": "text",
         "marker": {
          "color": "rgb(0,116,217)"
         },
         "mode": "lines",
         "text": [
          "ecoprial_planta_impacto_industriales_dia",
          "",
          "",
          "puntra_roble_sma_superintendencia medio ambiente_cal austral"
         ],
         "type": "scatter",
         "x": [
          0,
          1.206861088595227,
          1.206861088595227,
          0
         ],
         "xaxis": "x",
         "y": [
          -785,
          -785,
          -795,
          -795
         ],
         "yaxis": "y"
        },
        {
         "hoverinfo": "text",
         "marker": {
          "color": "rgb(0,116,217)"
         },
         "mode": "lines",
         "text": [
          "essal_aguas servidas_varas_llanquihue_malos",
          "",
          "",
          "puntra_roble_sma_superintendencia medio ambiente_cal austral"
         ],
         "type": "scatter",
         "x": [
          1.1346560496087998,
          1.405158022761135,
          1.405158022761135,
          1.206861088595227
         ],
         "xaxis": "x",
         "y": [
          -770,
          -770,
          -790,
          -790
         ],
         "yaxis": "y"
        },
        {
         "hoverinfo": "text",
         "marker": {
          "color": "rgb(0,116,217)"
         },
         "mode": "lines",
         "text": [
          "tenglo_borde_plan tenglo_limpieza playas_bienes",
          "",
          "",
          "puntra_roble_sma_superintendencia medio ambiente_cal austral"
         ],
         "type": "scatter",
         "x": [
          1.2379887130798766,
          1.5336719851741822,
          1.5336719851741822,
          1.405158022761135
         ],
         "xaxis": "x",
         "y": [
          -750,
          -750,
          -780,
          -780
         ],
         "yaxis": "y"
        },
        {
         "hoverinfo": "text",
         "marker": {
          "color": "rgb(255,220,0)"
         },
         "mode": "lines",
         "text": [
          "domiciliarios_galpón_residuos sólidos_medio ambiente_sanitario laja",
          "",
          "",
          "reduce_chiloé_chilo茅_residuos sólidos domiciliarios_gesti贸n"
         ],
         "type": "scatter",
         "x": [
          0,
          0.9973402221205169,
          0.9973402221205169,
          0
         ],
         "xaxis": "x",
         "y": [
          -815,
          -815,
          -825,
          -825
         ],
         "yaxis": "y"
        },
        {
         "hoverinfo": "text",
         "marker": {
          "color": "rgb(0,116,217)"
         },
         "mode": "lines",
         "text": [
          "microbasurales_vecinos_retiro_puntos_empresa",
          "",
          "",
          "residuos sólidos domiciliarios_relleno sanitario_luxemburgo_manejo_estrategia"
         ],
         "type": "scatter",
         "x": [
          0,
          1.255797574691907,
          1.255797574691907,
          0.9973402221205169
         ],
         "xaxis": "x",
         "y": [
          -805,
          -805,
          -820,
          -820
         ],
         "yaxis": "y"
        },
        {
         "hoverinfo": "text",
         "marker": {
          "color": "rgb(0,116,217)"
         },
         "mode": "lines",
         "text": [
          "microbasurales_vecinos_retiro_puntos_empresa",
          "",
          "",
          "residuos sólidos domiciliarios_medio_manejo_relleno sanitario_comunidad"
         ],
         "type": "scatter",
         "x": [
          1.5336719851741822,
          1.595659854310709,
          1.595659854310709,
          1.255797574691907
         ],
         "xaxis": "x",
         "y": [
          -765,
          -765,
          -812.5,
          -812.5
         ],
         "yaxis": "y"
        },
        {
         "hoverinfo": "text",
         "marker": {
          "color": "rgb(0,116,217)"
         },
         "mode": "lines",
         "text": [
          "humedal urbano_medio_protección_urbanos_bosque",
          "",
          "",
          "residuos sólidos domiciliarios_medio_manejo_relleno sanitario_comunidad"
         ],
         "type": "scatter",
         "x": [
          1.1243949536714752,
          1.6750841773623841,
          1.6750841773623841,
          1.595659854310709
         ],
         "xaxis": "x",
         "y": [
          -730,
          -730,
          -788.75,
          -788.75
         ],
         "yaxis": "y"
        },
        {
         "hoverinfo": "text",
         "marker": {
          "color": "rgb(0,116,217)"
         },
         "mode": "lines",
         "text": [
          "mesa_agua_apr_gobernador_regional",
          "",
          "",
          "escasez_general aguas_dirección general_decreto_hídrica alguna"
         ],
         "type": "scatter",
         "x": [
          0,
          1.295621257888679,
          1.295621257888679,
          0
         ],
         "xaxis": "x",
         "y": [
          -835,
          -835,
          -845,
          -845
         ],
         "yaxis": "y"
        },
        {
         "hoverinfo": "text",
         "marker": {
          "color": "rgb(0,116,217)"
         },
         "mode": "lines",
         "text": [
          "hídrica_crisis agua_cambio_sociólogo_tipo producción",
          "",
          "",
          "indap_cambio climático_pequeña_cnr_tattersall"
         ],
         "type": "scatter",
         "x": [
          0,
          1.2700643830493963,
          1.2700643830493963,
          0
         ],
         "xaxis": "x",
         "y": [
          -855,
          -855,
          -865,
          -865
         ],
         "yaxis": "y"
        },
        {
         "hoverinfo": "text",
         "marker": {
          "color": "rgb(0,116,217)"
         },
         "mode": "lines",
         "text": [
          "escasez_decreto_apr_consultivo_gobernador",
          "",
          "",
          "indap_cambio_sistemas_agricultores_cnr"
         ],
         "type": "scatter",
         "x": [
          1.295621257888679,
          1.3749060886815248,
          1.3749060886815248,
          1.2700643830493963
         ],
         "xaxis": "x",
         "y": [
          -840,
          -840,
          -860,
          -860
         ],
         "yaxis": "y"
        },
        {
         "hoverinfo": "text",
         "marker": {
          "color": "rgb(0,116,217)"
         },
         "mode": "lines",
         "text": [
          "carelmapu_subdere_proyectos_350 millones_350",
          "",
          "",
          "subdere_moyano_pasajes_obras_familias"
         ],
         "type": "scatter",
         "x": [
          0,
          1.141425309762739,
          1.141425309762739,
          0
         ],
         "xaxis": "x",
         "y": [
          -885,
          -885,
          -895,
          -895
         ],
         "yaxis": "y"
        },
        {
         "hoverinfo": "text",
         "marker": {
          "color": "rgb(0,116,217)"
         },
         "mode": "lines",
         "text": [
          "apr_aljibe_camión_sectores_escasez",
          "",
          "",
          "subdere_carelmapu_familias_millones_pablo hernández"
         ],
         "type": "scatter",
         "x": [
          0,
          1.2126972574737318,
          1.2126972574737318,
          1.141425309762739
         ],
         "xaxis": "x",
         "y": [
          -875,
          -875,
          -890,
          -890
         ],
         "yaxis": "y"
        },
        {
         "hoverinfo": "text",
         "marker": {
          "color": "rgb(0,116,217)"
         },
         "mode": "lines",
         "text": [
          "apr_aljibe_camión_sectores_escasez",
          "",
          "",
          "subdere_apr_carelmapu_vecinos_agua potable rural"
         ],
         "type": "scatter",
         "x": [
          1.3749060886815248,
          1.6895369059157415,
          1.6895369059157415,
          1.2126972574737318
         ],
         "xaxis": "x",
         "y": [
          -850,
          -850,
          -882.5,
          -882.5
         ],
         "yaxis": "y"
        },
        {
         "hoverinfo": "text",
         "marker": {
          "color": "rgb(0,116,217)"
         },
         "mode": "lines",
         "text": [
          "energías renovables_100 ventas_gnl_cero_vehículos",
          "",
          "",
          "calefactores_episodios críticos_plan descontaminación_recambio_calidad"
         ],
         "type": "scatter",
         "x": [
          0,
          1.2804621509038001,
          1.2804621509038001,
          0
         ],
         "xaxis": "x",
         "y": [
          -915,
          -915,
          -925,
          -925
         ],
         "yaxis": "y"
        },
        {
         "hoverinfo": "text",
         "marker": {
          "color": "rgb(0,116,217)"
         },
         "mode": "lines",
         "text": [
          "energía eléctrica_islas_diésel_km línea_teuquelín",
          "",
          "",
          "calefactores_episodios críticos_plan descontaminación_recambio_calidad"
         ],
         "type": "scatter",
         "x": [
          0,
          1.348660384771139,
          1.348660384771139,
          1.2804621509038001
         ],
         "xaxis": "x",
         "y": [
          -905,
          -905,
          -920,
          -920
         ],
         "yaxis": "y"
        },
        {
         "hoverinfo": "text",
         "marker": {
          "color": "rgb(0,116,217)"
         },
         "mode": "lines",
         "text": [
          "eurochile_corfo_pyme_fundación empresarial_encuentro economía circular",
          "",
          "",
          "lechero_pti_climático_apl_programa territorial"
         ],
         "type": "scatter",
         "x": [
          0,
          1.297121626368369,
          1.297121626368369,
          0
         ],
         "xaxis": "x",
         "y": [
          -945,
          -945,
          -955,
          -955
         ],
         "yaxis": "y"
        },
        {
         "hoverinfo": "text",
         "marker": {
          "color": "rgb(0,116,217)"
         },
         "mode": "lines",
         "text": [
          "imagen chile_creadores_mochacó_huemul safe_astudillo",
          "",
          "",
          "economía circular_sustentabilidad_corfo_eurochile_residuos"
         ],
         "type": "scatter",
         "x": [
          0,
          1.3849825557009807,
          1.3849825557009807,
          1.297121626368369
         ],
         "xaxis": "x",
         "y": [
          -935,
          -935,
          -950,
          -950
         ],
         "yaxis": "y"
        },
        {
         "hoverinfo": "text",
         "marker": {
          "color": "rgb(0,116,217)"
         },
         "mode": "lines",
         "text": [
          "aquasur_consejo_salmonchile_aquasur 2022_industria acuícola",
          "",
          "",
          "cultivo_inia_productores_fruta_acuicultores"
         ],
         "type": "scatter",
         "x": [
          0,
          1.3031255660875287,
          1.3031255660875287,
          0
         ],
         "xaxis": "x",
         "y": [
          -965,
          -965,
          -975,
          -975
         ],
         "yaxis": "y"
        },
        {
         "hoverinfo": "text",
         "marker": {
          "color": "rgb(0,116,217)"
         },
         "mode": "lines",
         "text": [
          "aquasur_consejo_salmonchile_aquasur 2022_industria acuícola",
          "",
          "",
          "cultivo_productores_variedades_aquasur_salmón"
         ],
         "type": "scatter",
         "x": [
          1.3849825557009807,
          1.461570161690369,
          1.461570161690369,
          1.3031255660875287
         ],
         "xaxis": "x",
         "y": [
          -942.5,
          -942.5,
          -970,
          -970
         ],
         "yaxis": "y"
        },
        {
         "hoverinfo": "text",
         "marker": {
          "color": "rgb(0,116,217)"
         },
         "mode": "lines",
         "text": [
          "aquasur_consejo_salmonchile_aquasur 2022_industria acuícola",
          "",
          "",
          "cultivo_productores_variedades_aquasur_salmón"
         ],
         "type": "scatter",
         "x": [
          1.348660384771139,
          1.5321364595447486,
          1.5321364595447486,
          1.461570161690369
         ],
         "xaxis": "x",
         "y": [
          -912.5,
          -912.5,
          -956.25,
          -956.25
         ],
         "yaxis": "y"
        },
        {
         "hoverinfo": "text",
         "marker": {
          "color": "rgb(0,116,217)"
         },
         "mode": "lines",
         "text": [
          "especie_chiloé_visón_ballena_sag",
          "",
          "",
          "nauco_subterráneas_cuenca río_plásticos_burbujas"
         ],
         "type": "scatter",
         "x": [
          0,
          1.3241308408140238,
          1.3241308408140238,
          0
         ],
         "xaxis": "x",
         "y": [
          -985,
          -985,
          -995,
          -995
         ],
         "yaxis": "y"
        },
        {
         "hoverinfo": "text",
         "marker": {
          "color": "rgb(0,116,217)"
         },
         "mode": "lines",
         "text": [
          "turberas_agua_pomponales_comisión medio ambiente_sbap",
          "",
          "",
          "carbono_cambio_vegetación_sequía_mapbiomas"
         ],
         "type": "scatter",
         "x": [
          0,
          1.3177854640236217,
          1.3177854640236217,
          0
         ],
         "xaxis": "x",
         "y": [
          -1005,
          -1005,
          -1015,
          -1015
         ],
         "yaxis": "y"
        },
        {
         "hoverinfo": "text",
         "marker": {
          "color": "rgb(0,116,217)"
         },
         "mode": "lines",
         "text": [
          "turberas_agua_pomponales_comisión medio ambiente_sbap",
          "",
          "",
          "carbono_cambio_vegetación_sequía_mapbiomas"
         ],
         "type": "scatter",
         "x": [
          1.3241308408140238,
          1.3390977512274638,
          1.3390977512274638,
          1.3177854640236217
         ],
         "xaxis": "x",
         "y": [
          -990,
          -990,
          -1010,
          -1010
         ],
         "yaxis": "y"
        },
        {
         "hoverinfo": "text",
         "marker": {
          "color": "rgb(0,116,217)"
         },
         "mode": "lines",
         "text": [
          "turberas_agua_pomponales_comisión medio ambiente_sbap",
          "",
          "",
          "carbono_cambio_vegetación_sequía_mapbiomas"
         ],
         "type": "scatter",
         "x": [
          1.5321364595447486,
          1.5512384602914622,
          1.5512384602914622,
          1.3390977512274638
         ],
         "xaxis": "x",
         "y": [
          -934.375,
          -934.375,
          -1000,
          -1000
         ],
         "yaxis": "y"
        },
        {
         "hoverinfo": "text",
         "marker": {
          "color": "rgb(0,116,217)"
         },
         "mode": "lines",
         "text": [
          "planeta_reloj_inundaciones_kilotoneladas_impactos",
          "",
          "",
          "cop26_cumbre_glasgow_acuerdo parís_carbón"
         ],
         "type": "scatter",
         "x": [
          0,
          1.1545539037345836,
          1.1545539037345836,
          0
         ],
         "xaxis": "x",
         "y": [
          -1025,
          -1025,
          -1035,
          -1035
         ],
         "yaxis": "y"
        },
        {
         "hoverinfo": "text",
         "marker": {
          "color": "rgb(0,116,217)"
         },
         "mode": "lines",
         "text": [
          "planeta_reloj_inundaciones_kilotoneladas_impactos",
          "",
          "",
          "cop26_cumbre_glasgow_calentamiento global_grados"
         ],
         "type": "scatter",
         "x": [
          1.5512384602914622,
          1.6089811984405569,
          1.6089811984405569,
          1.1545539037345836
         ],
         "xaxis": "x",
         "y": [
          -967.1875,
          -967.1875,
          -1030,
          -1030
         ],
         "yaxis": "y"
        },
        {
         "hoverinfo": "text",
         "marker": {
          "color": "rgb(0,116,217)"
         },
         "mode": "lines",
         "text": [
          "planeta_reloj_inundaciones_kilotoneladas_impactos",
          "",
          "",
          "cop26_cumbre_glasgow_calentamiento global_grados"
         ],
         "type": "scatter",
         "x": [
          1.6895369059157415,
          1.9722148178574492,
          1.9722148178574492,
          1.6089811984405569
         ],
         "xaxis": "x",
         "y": [
          -866.25,
          -866.25,
          -998.59375,
          -998.59375
         ],
         "yaxis": "y"
        },
        {
         "hoverinfo": "text",
         "marker": {
          "color": "rgb(0,116,217)"
         },
         "mode": "lines",
         "text": [
          "planeta_reloj_inundaciones_kilotoneladas_impactos",
          "",
          "",
          "cop26_cumbre_glasgow_calentamiento global_grados"
         ],
         "type": "scatter",
         "x": [
          1.6750841773623841,
          2.1111738564447258,
          2.1111738564447258,
          1.9722148178574492
         ],
         "xaxis": "x",
         "y": [
          -759.375,
          -759.375,
          -932.421875,
          -932.421875
         ],
         "yaxis": "y"
        },
        {
         "hoverinfo": "text",
         "marker": {
          "color": "rgb(0,116,217)"
         },
         "mode": "lines",
         "text": [
          "planeta_reloj_inundaciones_kilotoneladas_impactos",
          "",
          "",
          "cop26_cumbre_glasgow_calentamiento global_grados"
         ],
         "type": "scatter",
         "x": [
          2.0896327603159395,
          2.434403010088079,
          2.434403010088079,
          2.1111738564447258
         ],
         "xaxis": "x",
         "y": [
          -507.412109375,
          -507.412109375,
          -845.8984375,
          -845.8984375
         ],
         "yaxis": "y"
        },
        {
         "hoverinfo": "text",
         "marker": {
          "color": "rgb(0,116,217)"
         },
         "mode": "lines",
         "text": [
          "conaf_jorge aichele_conaf lagos_aichele_director regional conaf",
          "",
          "",
          "biodiversidad_pumalín_labor_conaf_parque nacional chiloé"
         ],
         "type": "scatter",
         "x": [
          0,
          1.053829876343215,
          1.053829876343215,
          0
         ],
         "xaxis": "x",
         "y": [
          -1055,
          -1055,
          -1065,
          -1065
         ],
         "yaxis": "y"
        },
        {
         "hoverinfo": "text",
         "marker": {
          "color": "rgb(0,116,217)"
         },
         "mode": "lines",
         "text": [
          "wood_material reciclado_conaf_relave_sercotec",
          "",
          "",
          "parque_visitantes_conaf_aichele_jorge aichele"
         ],
         "type": "scatter",
         "x": [
          0,
          1.3778984664424958,
          1.3778984664424958,
          1.053829876343215
         ],
         "xaxis": "x",
         "y": [
          -1045,
          -1045,
          -1060,
          -1060
         ],
         "yaxis": "y"
        },
        {
         "hoverinfo": "text",
         "marker": {
          "color": "rgb(0,116,217)"
         },
         "mode": "lines",
         "text": [
          "zoit_birregional_zoit lago llanquihue_zonas interés turístico_llanquihue",
          "",
          "",
          "creativo_lago llanquihue destino_llanquihue_travel_pti"
         ],
         "type": "scatter",
         "x": [
          0,
          1.2966513489896816,
          1.2966513489896816,
          0
         ],
         "xaxis": "x",
         "y": [
          -1075,
          -1075,
          -1085,
          -1085
         ],
         "yaxis": "y"
        },
        {
         "hoverinfo": "text",
         "marker": {
          "color": "rgb(0,116,217)"
         },
         "mode": "lines",
         "text": [
          "ruta parques patagonia_conservación_pti_corfo_conaf",
          "",
          "",
          "sernatur_turismo rural_patagonia_oferta_anahuac"
         ],
         "type": "scatter",
         "x": [
          0,
          1.2326916571907918,
          1.2326916571907918,
          0
         ],
         "xaxis": "x",
         "y": [
          -1095,
          -1095,
          -1105,
          -1105
         ],
         "yaxis": "y"
        },
        {
         "hoverinfo": "text",
         "marker": {
          "color": "rgb(0,116,217)"
         },
         "mode": "lines",
         "text": [
          "ruta parques patagonia_conservación_pti_corfo_conaf",
          "",
          "",
          "manquemapu_tour_relv_experiencias_mall"
         ],
         "type": "scatter",
         "x": [
          1.2326916571907918,
          1.3185872046657972,
          1.3185872046657972,
          0
         ],
         "xaxis": "x",
         "y": [
          -1100,
          -1100,
          -1115,
          -1115
         ],
         "yaxis": "y"
        },
        {
         "hoverinfo": "text",
         "marker": {
          "color": "rgb(0,116,217)"
         },
         "mode": "lines",
         "text": [
          "ruta parques patagonia_conservación_pti_corfo_conaf",
          "",
          "",
          "manquemapu_tour_relv_experiencias_mall"
         ],
         "type": "scatter",
         "x": [
          1.2966513489896816,
          1.3591931314300738,
          1.3591931314300738,
          1.3185872046657972
         ],
         "xaxis": "x",
         "y": [
          -1080,
          -1080,
          -1107.5,
          -1107.5
         ],
         "yaxis": "y"
        },
        {
         "hoverinfo": "text",
         "marker": {
          "color": "rgb(0,116,217)"
         },
         "mode": "lines",
         "text": [
          "primer tramo_observatorio_turismo_pilauco_diseño",
          "",
          "",
          "quehui_sabingo_programa sabingo_chilevisión_atractivos turísticos isla"
         ],
         "type": "scatter",
         "x": [
          0,
          1.3626268063793645,
          1.3626268063793645,
          0
         ],
         "xaxis": "x",
         "y": [
          -1125,
          -1125,
          -1135,
          -1135
         ],
         "yaxis": "y"
        },
        {
         "hoverinfo": "text",
         "marker": {
          "color": "rgb(0,116,217)"
         },
         "mode": "lines",
         "text": [
          "primer tramo_observatorio_turismo_pilauco_diseño",
          "",
          "",
          "quehui_sabingo_programa sabingo_chilevisión_atractivos turísticos isla"
         ],
         "type": "scatter",
         "x": [
          1.3591931314300738,
          1.437028667425875,
          1.437028667425875,
          1.3626268063793645
         ],
         "xaxis": "x",
         "y": [
          -1093.75,
          -1093.75,
          -1130,
          -1130
         ],
         "yaxis": "y"
        },
        {
         "hoverinfo": "text",
         "marker": {
          "color": "rgb(0,116,217)"
         },
         "mode": "lines",
         "text": [
          "primer tramo_observatorio_turismo_pilauco_diseño",
          "",
          "",
          "quehui_sabingo_programa sabingo_chilevisión_atractivos turísticos isla"
         ],
         "type": "scatter",
         "x": [
          1.3778984664424958,
          1.715964289040683,
          1.715964289040683,
          1.437028667425875
         ],
         "xaxis": "x",
         "y": [
          -1052.5,
          -1052.5,
          -1111.875,
          -1111.875
         ],
         "yaxis": "y"
        },
        {
         "hoverinfo": "text",
         "marker": {
          "color": "rgb(0,116,217)"
         },
         "mode": "lines",
         "text": [
          "emprendedores_sercotec_convenio_reactivar_económica",
          "",
          "",
          "sercotec_vitrina_centro negocios sercotec_emprendimiento_colorteca"
         ],
         "type": "scatter",
         "x": [
          0,
          1.209268658290801,
          1.209268658290801,
          0
         ],
         "xaxis": "x",
         "y": [
          -1165,
          -1165,
          -1175,
          -1175
         ],
         "yaxis": "y"
        },
        {
         "hoverinfo": "text",
         "marker": {
          "color": "rgb(0,116,217)"
         },
         "mode": "lines",
         "text": [
          "emprendedores_saesa_corfo_sercotec_semilla",
          "",
          "",
          "sercotec_centro negocios_vitrina_emprendimiento_capacitaciones"
         ],
         "type": "scatter",
         "x": [
          0,
          1.2266425003303152,
          1.2266425003303152,
          1.209268658290801
         ],
         "xaxis": "x",
         "y": [
          -1155,
          -1155,
          -1170,
          -1170
         ],
         "yaxis": "y"
        },
        {
         "hoverinfo": "text",
         "marker": {
          "color": "rgb(0,116,217)"
         },
         "mode": "lines",
         "text": [
          "escuela pyme_transformación_ventas_corfo_pequeñas",
          "",
          "",
          "sercotec_centro negocios_mujeres_corfo_saesa"
         ],
         "type": "scatter",
         "x": [
          0,
          1.3316183807826947,
          1.3316183807826947,
          1.2266425003303152
         ],
         "xaxis": "x",
         "y": [
          -1145,
          -1145,
          -1162.5,
          -1162.5
         ],
         "yaxis": "y"
        },
        {
         "hoverinfo": "text",
         "marker": {
          "color": "rgb(0,116,217)"
         },
         "mode": "lines",
         "text": [
          "feria municipal emprendedores_omil_castro_oficina_claudia bórquez",
          "",
          "",
          "productos_purranque_navideña_prodesal_chacarillas"
         ],
         "type": "scatter",
         "x": [
          0,
          1.2302467046657917,
          1.2302467046657917,
          0
         ],
         "xaxis": "x",
         "y": [
          -1185,
          -1185,
          -1195,
          -1195
         ],
         "yaxis": "y"
        },
        {
         "hoverinfo": "text",
         "marker": {
          "color": "rgb(0,116,217)"
         },
         "mode": "lines",
         "text": [
          "productos_campesina_feria municipal emprendedores_navideña_purranque",
          "",
          "",
          "conekta_destilado_chilwe_alimentos saludables_universidad"
         ],
         "type": "scatter",
         "x": [
          1.2302467046657917,
          1.362448158289106,
          1.362448158289106,
          0
         ],
         "xaxis": "x",
         "y": [
          -1190,
          -1190,
          -1205,
          -1205
         ],
         "yaxis": "y"
        },
        {
         "hoverinfo": "text",
         "marker": {
          "color": "rgb(0,116,217)"
         },
         "mode": "lines",
         "text": [
          "productos_campesina_feria municipal emprendedores_navideña_purranque",
          "",
          "",
          "conekta_destilado_chilwe_alimentos saludables_universidad"
         ],
         "type": "scatter",
         "x": [
          1.3316183807826947,
          1.5154666598764668,
          1.5154666598764668,
          1.362448158289106
         ],
         "xaxis": "x",
         "y": [
          -1153.75,
          -1153.75,
          -1197.5,
          -1197.5
         ],
         "yaxis": "y"
        },
        {
         "hoverinfo": "text",
         "marker": {
          "color": "rgb(0,116,217)"
         },
         "mode": "lines",
         "text": [
          "productos_campesina_feria municipal emprendedores_navideña_purranque",
          "",
          "",
          "conekta_destilado_chilwe_alimentos saludables_universidad"
         ],
         "type": "scatter",
         "x": [
          1.715964289040683,
          1.896530070252071,
          1.896530070252071,
          1.5154666598764668
         ],
         "xaxis": "x",
         "y": [
          -1082.1875,
          -1082.1875,
          -1175.625,
          -1175.625
         ],
         "yaxis": "y"
        },
        {
         "hoverinfo": "text",
         "marker": {
          "color": "rgb(0,116,217)"
         },
         "mode": "lines",
         "text": [
          "avonni_macrozona_tecnología conocimiento innovación_ctci_proyectos",
          "",
          "",
          "chiloé_formó chiloé_subiabre_achao_libro ilustrado"
         ],
         "type": "scatter",
         "x": [
          0,
          1.3157571342072567,
          1.3157571342072567,
          0
         ],
         "xaxis": "x",
         "y": [
          -1215,
          -1215,
          -1225,
          -1225
         ],
         "yaxis": "y"
        },
        {
         "hoverinfo": "text",
         "marker": {
          "color": "rgb(0,116,217)"
         },
         "mode": "lines",
         "text": [
          "arqueología_jornadas_proyecto explora_festival ciencia lagos_sede",
          "",
          "",
          "universidad_congreso_creación_artística_dra"
         ],
         "type": "scatter",
         "x": [
          0,
          1.2506239816285525,
          1.2506239816285525,
          0
         ],
         "xaxis": "x",
         "y": [
          -1235,
          -1235,
          -1245,
          -1245
         ],
         "yaxis": "y"
        },
        {
         "hoverinfo": "text",
         "marker": {
          "color": "rgb(0,116,217)"
         },
         "mode": "lines",
         "text": [
          "arqueología_jornadas_proyecto explora_festival ciencia lagos_sede",
          "",
          "",
          "sede_jornadas_uach_proyecto explora_escuela arqueología"
         ],
         "type": "scatter",
         "x": [
          1.3157571342072567,
          1.3470937310468354,
          1.3470937310468354,
          1.2506239816285525
         ],
         "xaxis": "x",
         "y": [
          -1220,
          -1220,
          -1240,
          -1240
         ],
         "yaxis": "y"
        },
        {
         "hoverinfo": "text",
         "marker": {
          "color": "rgb(0,116,217)"
         },
         "mode": "lines",
         "text": [
          "nativo_muestra_centro cultural bosque_obra_machacoya",
          "",
          "",
          "nativo_culturales_bosque_apoyo organizaciones_talleres"
         ],
         "type": "scatter",
         "x": [
          0,
          1.0554306112506908,
          1.0554306112506908,
          0
         ],
         "xaxis": "x",
         "y": [
          -1255,
          -1255,
          -1265,
          -1265
         ],
         "yaxis": "y"
        },
        {
         "hoverinfo": "text",
         "marker": {
          "color": "rgb(0,116,217)"
         },
         "mode": "lines",
         "text": [
          "centro cultural_tnch_sala 13_festival cine escolar_festtin",
          "",
          "",
          "biblioteca_pinocho_frutillar_streaming_corporación cultural"
         ],
         "type": "scatter",
         "x": [
          0,
          1.1416134404545295,
          1.1416134404545295,
          0
         ],
         "xaxis": "x",
         "y": [
          -1285,
          -1285,
          -1295,
          -1295
         ],
         "yaxis": "y"
        },
        {
         "hoverinfo": "text",
         "marker": {
          "color": "rgb(0,116,217)"
         },
         "mode": "lines",
         "text": [
          "teatro_lago_artes_ensamble_piano",
          "",
          "",
          "tnch_teatro nacional_sala 13_temporales_función"
         ],
         "type": "scatter",
         "x": [
          0,
          1.2365946240436931,
          1.2365946240436931,
          1.1416134404545295
         ],
         "xaxis": "x",
         "y": [
          -1275,
          -1275,
          -1290,
          -1290
         ],
         "yaxis": "y"
        },
        {
         "hoverinfo": "text",
         "marker": {
          "color": "rgb(0,116,217)"
         },
         "mode": "lines",
         "text": [
          "nativo_artes_artistas_galería_centro cultural bosque",
          "",
          "",
          "lago_artes_centro cultural_obra_horas"
         ],
         "type": "scatter",
         "x": [
          1.0554306112506908,
          1.4574366945577644,
          1.4574366945577644,
          1.2365946240436931
         ],
         "xaxis": "x",
         "y": [
          -1260,
          -1260,
          -1282.5,
          -1282.5
         ],
         "yaxis": "y"
        },
        {
         "hoverinfo": "text",
         "marker": {
          "color": "rgb(0,116,217)"
         },
         "mode": "lines",
         "text": [
          "libro_universidad_ciencia tecnología conocimiento_sede puerto montt_uach",
          "",
          "",
          "teatro lago_artes_festival_musical_artistas"
         ],
         "type": "scatter",
         "x": [
          1.3470937310468354,
          1.666924733183608,
          1.666924733183608,
          1.4574366945577644
         ],
         "xaxis": "x",
         "y": [
          -1230,
          -1230,
          -1271.25,
          -1271.25
         ],
         "yaxis": "y"
        },
        {
         "hoverinfo": "text",
         "marker": {
          "color": "rgb(0,116,217)"
         },
         "mode": "lines",
         "text": [
          "libro_universidad_ciencia tecnología conocimiento_sede puerto montt_uach",
          "",
          "",
          "teatro lago_artes_festival_musical_artistas"
         ],
         "type": "scatter",
         "x": [
          1.896530070252071,
          2.1389992450554027,
          2.1389992450554027,
          1.666924733183608
         ],
         "xaxis": "x",
         "y": [
          -1128.90625,
          -1128.90625,
          -1250.625,
          -1250.625
         ],
         "yaxis": "y"
        },
        {
         "hoverinfo": "text",
         "marker": {
          "color": "rgb(0,116,217)"
         },
         "mode": "lines",
         "text": [
          "libro_universidad_ciencia tecnología conocimiento_sede puerto montt_uach",
          "",
          "",
          "teatro lago_artes_festival_musical_artistas"
         ],
         "type": "scatter",
         "x": [
          2.434403010088079,
          2.491011809007618,
          2.491011809007618,
          2.1389992450554027
         ],
         "xaxis": "x",
         "y": [
          -676.6552734375,
          -676.6552734375,
          -1189.765625,
          -1189.765625
         ],
         "yaxis": "y"
        },
        {
         "hoverinfo": "text",
         "marker": {
          "color": "rgb(0,116,217)"
         },
         "mode": "lines",
         "text": [
          "docentes_uach_sede_ciencias_innovación",
          "",
          "",
          "estudiantes_liceo_año_profesional_carreras"
         ],
         "type": "scatter",
         "x": [
          0,
          1.016172731310155,
          1.016172731310155,
          0
         ],
         "xaxis": "x",
         "y": [
          -1305,
          -1305,
          -1315,
          -1315
         ],
         "yaxis": "y"
        },
        {
         "hoverinfo": "text",
         "marker": {
          "color": "rgb(0,116,217)"
         },
         "mode": "lines",
         "text": [
          "escolares_asistencia_apoderados_uniforme_retorno",
          "",
          "",
          "establecimiento_liceo_superintendencia_denuncia_apoderados"
         ],
         "type": "scatter",
         "x": [
          0,
          1.184317834040495,
          1.184317834040495,
          0
         ],
         "xaxis": "x",
         "y": [
          -1335,
          -1335,
          -1345,
          -1345
         ],
         "yaxis": "y"
        },
        {
         "hoverinfo": "text",
         "marker": {
          "color": "rgb(0,116,217)"
         },
         "mode": "lines",
         "text": [
          "emociones_niños niñas_retorno clases_aprendizaje_cómo",
          "",
          "",
          "establecimiento_liceo_superintendencia_denuncia_apoderados"
         ],
         "type": "scatter",
         "x": [
          0,
          1.310382577041913,
          1.310382577041913,
          1.184317834040495
         ],
         "xaxis": "x",
         "y": [
          -1325,
          -1325,
          -1340,
          -1340
         ],
         "yaxis": "y"
        },
        {
         "hoverinfo": "text",
         "marker": {
          "color": "rgb(0,116,217)"
         },
         "mode": "lines",
         "text": [
          "maillen_maillen puqueldón_slep_problemas_daem",
          "",
          "",
          "apoderados_villa chacao_chacao_establecimiento_corporación"
         ],
         "type": "scatter",
         "x": [
          0,
          1.1733175311655368,
          1.1733175311655368,
          0
         ],
         "xaxis": "x",
         "y": [
          -1355,
          -1355,
          -1365,
          -1365
         ],
         "yaxis": "y"
        },
        {
         "hoverinfo": "text",
         "marker": {
          "color": "rgb(0,116,217)"
         },
         "mode": "lines",
         "text": [
          "maillen_maillen puqueldón_slep_problemas_daem",
          "",
          "",
          "apoderados_maillen_chacao_estudiantes_corporación"
         ],
         "type": "scatter",
         "x": [
          1.310382577041913,
          1.4447267031087563,
          1.4447267031087563,
          1.1733175311655368
         ],
         "xaxis": "x",
         "y": [
          -1332.5,
          -1332.5,
          -1360,
          -1360
         ],
         "yaxis": "y"
        },
        {
         "hoverinfo": "text",
         "marker": {
          "color": "rgb(0,116,217)"
         },
         "mode": "lines",
         "text": [
          "estudiantes_uach_sede_liceo_ciencias",
          "",
          "",
          "apoderados_maillen_chacao_estudiantes_corporación"
         ],
         "type": "scatter",
         "x": [
          1.016172731310155,
          1.6363103958362715,
          1.6363103958362715,
          1.4447267031087563
         ],
         "xaxis": "x",
         "y": [
          -1310,
          -1310,
          -1346.25,
          -1346.25
         ],
         "yaxis": "y"
        },
        {
         "hoverinfo": "text",
         "marker": {
          "color": "rgb(0,116,217)"
         },
         "mode": "lines",
         "text": [
          "corporación_sindicato asistentes educación_leaseback_cotizaciones_municipio",
          "",
          "",
          "concejal_concejo_pileta_cuitiño_daem"
         ],
         "type": "scatter",
         "x": [
          0,
          1.2186729427192362,
          1.2186729427192362,
          0
         ],
         "xaxis": "x",
         "y": [
          -1385,
          -1385,
          -1395,
          -1395
         ],
         "yaxis": "y"
        },
        {
         "hoverinfo": "text",
         "marker": {
          "color": "rgb(0,116,217)"
         },
         "mode": "lines",
         "text": [
          "pileta_firmani_alcalde_óscar galindo_desvinculación",
          "",
          "",
          "auditoría_funcionarios_corporación municipal_asistentes educación_recursos"
         ],
         "type": "scatter",
         "x": [
          0,
          1.3047727131502815,
          1.3047727131502815,
          1.2186729427192362
         ],
         "xaxis": "x",
         "y": [
          -1375,
          -1375,
          -1390,
          -1390
         ],
         "yaxis": "y"
        },
        {
         "hoverinfo": "text",
         "marker": {
          "color": "rgb(0,116,217)"
         },
         "mode": "lines",
         "text": [
          "puerto montt_arriendos_ravanales_planificación_bertín",
          "",
          "",
          "ovejería_buses_locomoción_línea_horarios"
         ],
         "type": "scatter",
         "x": [
          0,
          1.276747674872635,
          1.276747674872635,
          0
         ],
         "xaxis": "x",
         "y": [
          -1415,
          -1415,
          -1425,
          -1425
         ],
         "yaxis": "y"
        },
        {
         "hoverinfo": "text",
         "marker": {
          "color": "rgb(0,116,217)"
         },
         "mode": "lines",
         "text": [
          "comercio ambulante_ordenanza_cámara_locatarios_municipal",
          "",
          "",
          "ovejería_buses_locomoción_línea_horarios"
         ],
         "type": "scatter",
         "x": [
          0,
          1.3110535641018486,
          1.3110535641018486,
          1.276747674872635
         ],
         "xaxis": "x",
         "y": [
          -1405,
          -1405,
          -1420,
          -1420
         ],
         "yaxis": "y"
        },
        {
         "hoverinfo": "text",
         "marker": {
          "color": "rgb(0,116,217)"
         },
         "mode": "lines",
         "text": [
          "regional vialidad_puente_dellarossa_semáforo_camino",
          "",
          "",
          "complementarias_proyecto_servicio salud_consejero_ancud"
         ],
         "type": "scatter",
         "x": [
          0,
          1.198457002040782,
          1.198457002040782,
          0
         ],
         "xaxis": "x",
         "y": [
          -1435,
          -1435,
          -1445,
          -1445
         ],
         "yaxis": "y"
        },
        {
         "hoverinfo": "text",
         "marker": {
          "color": "rgb(0,116,217)"
         },
         "mode": "lines",
         "text": [
          "obras_complementarias_hospital_regional vialidad_serviu",
          "",
          "",
          "castro_afectados_henríquez_vera_levantemos"
         ],
         "type": "scatter",
         "x": [
          1.198457002040782,
          1.3539224054234384,
          1.3539224054234384,
          0
         ],
         "xaxis": "x",
         "y": [
          -1440,
          -1440,
          -1455,
          -1455
         ],
         "yaxis": "y"
        },
        {
         "hoverinfo": "text",
         "marker": {
          "color": "rgb(0,116,217)"
         },
         "mode": "lines",
         "text": [
          "obras_complementarias_hospital_regional vialidad_serviu",
          "",
          "",
          "castro_afectados_henríquez_vera_levantemos"
         ],
         "type": "scatter",
         "x": [
          1.3110535641018486,
          1.4393171330957215,
          1.4393171330957215,
          1.3539224054234384
         ],
         "xaxis": "x",
         "y": [
          -1412.5,
          -1412.5,
          -1447.5,
          -1447.5
         ],
         "yaxis": "y"
        },
        {
         "hoverinfo": "text",
         "marker": {
          "color": "rgb(0,116,217)"
         },
         "mode": "lines",
         "text": [
          "obras_complementarias_hospital_regional vialidad_serviu",
          "",
          "",
          "castro_afectados_henríquez_vera_levantemos"
         ],
         "type": "scatter",
         "x": [
          1.3047727131502815,
          1.6181113937602216,
          1.6181113937602216,
          1.4393171330957215
         ],
         "xaxis": "x",
         "y": [
          -1382.5,
          -1382.5,
          -1430,
          -1430
         ],
         "yaxis": "y"
        },
        {
         "hoverinfo": "text",
         "marker": {
          "color": "rgb(0,116,217)"
         },
         "mode": "lines",
         "text": [
          "chiloé_chile_mujeres_país_diálogo",
          "",
          "",
          "político_boric_ser_conducta_guerra"
         ],
         "type": "scatter",
         "x": [
          0,
          1.2892713391685737,
          1.2892713391685737,
          0
         ],
         "xaxis": "x",
         "y": [
          -1465,
          -1465,
          -1475,
          -1475
         ],
         "yaxis": "y"
        },
        {
         "hoverinfo": "text",
         "marker": {
          "color": "rgb(0,116,217)"
         },
         "mode": "lines",
         "text": [
          "chiloé_chile_mujeres_país_diálogo",
          "",
          "",
          "político_boric_ser_conducta_guerra"
         ],
         "type": "scatter",
         "x": [
          1.6181113937602216,
          1.6894178356936251,
          1.6894178356936251,
          1.2892713391685737
         ],
         "xaxis": "x",
         "y": [
          -1406.25,
          -1406.25,
          -1470,
          -1470
         ],
         "yaxis": "y"
        },
        {
         "hoverinfo": "text",
         "marker": {
          "color": "rgb(0,116,217)"
         },
         "mode": "lines",
         "text": [
          "chiloé_chile_mujeres_país_diálogo",
          "",
          "",
          "político_boric_ser_conducta_guerra"
         ],
         "type": "scatter",
         "x": [
          1.6363103958362715,
          2.1338167069936027,
          2.1338167069936027,
          1.6894178356936251
         ],
         "xaxis": "x",
         "y": [
          -1328.125,
          -1328.125,
          -1438.125,
          -1438.125
         ],
         "yaxis": "y"
        },
        {
         "hoverinfo": "text",
         "marker": {
          "color": "rgb(0,116,217)"
         },
         "mode": "lines",
         "text": [
          "mascarilla_obligatorio_paso_espacios abiertos_metro",
          "",
          "",
          "pase movilidad_verano_actividades_sanitarias_locales"
         ],
         "type": "scatter",
         "x": [
          0,
          1.2479955774448837,
          1.2479955774448837,
          0
         ],
         "xaxis": "x",
         "y": [
          -1495,
          -1495,
          -1505,
          -1505
         ],
         "yaxis": "y"
        },
        {
         "hoverinfo": "text",
         "marker": {
          "color": "rgb(0,116,217)"
         },
         "mode": "lines",
         "text": [
          "mascarilla_obligatorio_paso_espacios abiertos_metro",
          "",
          "",
          "aforo_chuyaca_toque queda_locales_olegario mohr"
         ],
         "type": "scatter",
         "x": [
          1.2479955774448837,
          1.297483830039563,
          1.297483830039563,
          0
         ],
         "xaxis": "x",
         "y": [
          -1500,
          -1500,
          -1515,
          -1515
         ],
         "yaxis": "y"
        },
        {
         "hoverinfo": "text",
         "marker": {
          "color": "rgb(0,116,217)"
         },
         "mode": "lines",
         "text": [
          "retrocederán_comunas_preparación_transición_jornada lunes ministerio",
          "",
          "",
          "aforo_chuyaca_toque queda_locales_olegario mohr"
         ],
         "type": "scatter",
         "x": [
          0,
          1.4059079155470053,
          1.4059079155470053,
          1.297483830039563
         ],
         "xaxis": "x",
         "y": [
          -1485,
          -1485,
          -1507.5,
          -1507.5
         ],
         "yaxis": "y"
        },
        {
         "hoverinfo": "text",
         "marker": {
          "color": "rgb(0,116,217)"
         },
         "mode": "lines",
         "text": [
          "actividad_muestras_visitantes_tradicional_festival",
          "",
          "",
          "fase_costumbristas_masivas_aforos_alcalde"
         ],
         "type": "scatter",
         "x": [
          0,
          1.2047307134259846,
          1.2047307134259846,
          0
         ],
         "xaxis": "x",
         "y": [
          -1525,
          -1525,
          -1535,
          -1535
         ],
         "yaxis": "y"
        },
        {
         "hoverinfo": "text",
         "marker": {
          "color": "rgb(0,116,217)"
         },
         "mode": "lines",
         "text": [
          "reservas_ocupación_puyehue_octay_alta",
          "",
          "",
          "turismo_nui_subsecretario_operadores_josé luis uriarte"
         ],
         "type": "scatter",
         "x": [
          0,
          1.154227169918853,
          1.154227169918853,
          0
         ],
         "xaxis": "x",
         "y": [
          -1545,
          -1545,
          -1555,
          -1555
         ],
         "yaxis": "y"
        },
        {
         "hoverinfo": "text",
         "marker": {
          "color": "rgb(0,116,217)"
         },
         "mode": "lines",
         "text": [
          "comuna_fase_enero_evento_alcalde",
          "",
          "",
          "reservas_puyehue_demanda_octay_pandemia"
         ],
         "type": "scatter",
         "x": [
          1.2047307134259846,
          1.4463421813460482,
          1.4463421813460482,
          1.154227169918853
         ],
         "xaxis": "x",
         "y": [
          -1530,
          -1530,
          -1550,
          -1550
         ],
         "yaxis": "y"
        },
        {
         "hoverinfo": "text",
         "marker": {
          "color": "rgb(0,116,217)"
         },
         "mode": "lines",
         "text": [
          "comuna_fase_enero_evento_alcalde",
          "",
          "",
          "reservas_puyehue_demanda_octay_pandemia"
         ],
         "type": "scatter",
         "x": [
          1.4059079155470053,
          1.5488192195981938,
          1.5488192195981938,
          1.4463421813460482
         ],
         "xaxis": "x",
         "y": [
          -1496.25,
          -1496.25,
          -1540,
          -1540
         ],
         "yaxis": "y"
        },
        {
         "hoverinfo": "text",
         "marker": {
          "color": "rgb(0,116,217)"
         },
         "mode": "lines",
         "text": [
          "samoré_terrestres_cámara comercio_apertura pasos_fronterizo cardenal samoré",
          "",
          "",
          "futaleufú_paso fronterizo futaleufú_abrir_mayo_argentinas"
         ],
         "type": "scatter",
         "x": [
          0,
          1.0863061562447838,
          1.0863061562447838,
          0
         ],
         "xaxis": "x",
         "y": [
          -1575,
          -1575,
          -1585,
          -1585
         ],
         "yaxis": "y"
        },
        {
         "hoverinfo": "text",
         "marker": {
          "color": "rgb(0,116,217)"
         },
         "mode": "lines",
         "text": [
          "pcr_pasos_negativo_deberán_declaración jurada",
          "",
          "",
          "apertura_samoré_pasos_cardenal_futaleufú"
         ],
         "type": "scatter",
         "x": [
          0,
          1.243461826345322,
          1.243461826345322,
          1.0863061562447838
         ],
         "xaxis": "x",
         "y": [
          -1565,
          -1565,
          -1580,
          -1580
         ],
         "yaxis": "y"
        },
        {
         "hoverinfo": "text",
         "marker": {
          "color": "rgb(0,116,217)"
         },
         "mode": "lines",
         "text": [
          "pcr_pasos_negativo_deberán_declaración jurada",
          "",
          "",
          "apertura_samoré_cardenal_futaleufú_extranjeros residentes"
         ],
         "type": "scatter",
         "x": [
          1.5488192195981938,
          1.7940500691803878,
          1.7940500691803878,
          1.243461826345322
         ],
         "xaxis": "x",
         "y": [
          -1518.125,
          -1518.125,
          -1572.5,
          -1572.5
         ],
         "yaxis": "y"
        },
        {
         "hoverinfo": "text",
         "marker": {
          "color": "rgb(0,116,217)"
         },
         "mode": "lines",
         "text": [
          "brote_establecimientos educacionales_presenciales_suspensión_probables",
          "",
          "",
          "contactos estrechos_seremi salud_covid19_positivos_covid"
         ],
         "type": "scatter",
         "x": [
          0,
          1.1869193888810097,
          1.1869193888810097,
          0
         ],
         "xaxis": "x",
         "y": [
          -1595,
          -1595,
          -1605,
          -1605
         ],
         "yaxis": "y"
        },
        {
         "hoverinfo": "text",
         "marker": {
          "color": "rgb(0,116,217)"
         },
         "mode": "lines",
         "text": [
          "vacunación_refuerzo_población_tercera dosis_sinovac",
          "",
          "",
          "pfizer_1052_error_chiloé_inoculación"
         ],
         "type": "scatter",
         "x": [
          0,
          1.219941294724481,
          1.219941294724481,
          0
         ],
         "xaxis": "x",
         "y": [
          -1615,
          -1615,
          -1625,
          -1625
         ],
         "yaxis": "y"
        },
        {
         "hoverinfo": "text",
         "marker": {
          "color": "rgb(0,116,217)"
         },
         "mode": "lines",
         "text": [
          "becerra_seremi salud_paso_religiosas_brotes",
          "",
          "",
          "pcr_cuarentena_examen_marinovic_diputada jenny álvarez"
         ],
         "type": "scatter",
         "x": [
          0,
          1.3583580660698893,
          1.3583580660698893,
          0
         ],
         "xaxis": "x",
         "y": [
          -1635,
          -1635,
          -1645,
          -1645
         ],
         "yaxis": "y"
        },
        {
         "hoverinfo": "text",
         "marker": {
          "color": "rgb(0,116,217)"
         },
         "mode": "lines",
         "text": [
          "becerra_seremi salud_paso_religiosas_brotes",
          "",
          "",
          "pcr_cuarentena_examen_marinovic_diputada jenny álvarez"
         ],
         "type": "scatter",
         "x": [
          1.219941294724481,
          1.4183776423568564,
          1.4183776423568564,
          1.3583580660698893
         ],
         "xaxis": "x",
         "y": [
          -1620,
          -1620,
          -1640,
          -1640
         ],
         "yaxis": "y"
        },
        {
         "hoverinfo": "text",
         "marker": {
          "color": "rgb(0,116,217)"
         },
         "mode": "lines",
         "text": [
          "educacionales_cuarentena_presenciales_estrechos_casos positivos",
          "",
          "",
          "pcr_cuarentena_examen_marinovic_diputada jenny álvarez"
         ],
         "type": "scatter",
         "x": [
          1.1869193888810097,
          1.4866618589327756,
          1.4866618589327756,
          1.4183776423568564
         ],
         "xaxis": "x",
         "y": [
          -1600,
          -1600,
          -1630,
          -1630
         ],
         "yaxis": "y"
        },
        {
         "hoverinfo": "text",
         "marker": {
          "color": "rgb(0,116,217)"
         },
         "mode": "lines",
         "text": [
          "variante ómicron_contagios_vuelos_confinamiento_pauta",
          "",
          "",
          "covid19_ola_variante ómicron_pandemia_europa"
         ],
         "type": "scatter",
         "x": [
          0,
          1.1058217639666248,
          1.1058217639666248,
          0
         ],
         "xaxis": "x",
         "y": [
          -1655,
          -1655,
          -1665,
          -1665
         ],
         "yaxis": "y"
        },
        {
         "hoverinfo": "text",
         "marker": {
          "color": "rgb(0,116,217)"
         },
         "mode": "lines",
         "text": [
          "minsal_trazabilidad_salud_ómicron_positividad",
          "",
          "",
          "twele_vacaciones_casos_mascarillas_yarza"
         ],
         "type": "scatter",
         "x": [
          0,
          1.292087683955907,
          1.292087683955907,
          0
         ],
         "xaxis": "x",
         "y": [
          -1675,
          -1675,
          -1685,
          -1685
         ],
         "yaxis": "y"
        },
        {
         "hoverinfo": "text",
         "marker": {
          "color": "rgb(0,116,217)"
         },
         "mode": "lines",
         "text": [
          "variante_vacunados_pauta completa_muertes_países",
          "",
          "",
          "twele_vacaciones_casos_mascarillas_yarza"
         ],
         "type": "scatter",
         "x": [
          1.1058217639666248,
          1.383522046387954,
          1.383522046387954,
          1.292087683955907
         ],
         "xaxis": "x",
         "y": [
          -1660,
          -1660,
          -1680,
          -1680
         ],
         "yaxis": "y"
        },
        {
         "hoverinfo": "text",
         "marker": {
          "color": "rgb(0,116,217)"
         },
         "mode": "lines",
         "text": [
          "variante_vacunados_pauta completa_muertes_países",
          "",
          "",
          "twele_vacaciones_casos_mascarillas_yarza"
         ],
         "type": "scatter",
         "x": [
          1.4866618589327756,
          1.5470167608745813,
          1.5470167608745813,
          1.383522046387954
         ],
         "xaxis": "x",
         "y": [
          -1615,
          -1615,
          -1670,
          -1670
         ],
         "yaxis": "y"
        },
        {
         "hoverinfo": "text",
         "marker": {
          "color": "rgb(0,116,217)"
         },
         "mode": "lines",
         "text": [
          "medicamento_pfizer_molnupiravir_covid19_variante",
          "",
          "",
          "anticuerpos_estudio_covid19_variantes_sarscov2"
         ],
         "type": "scatter",
         "x": [
          0,
          1.2104283535863711,
          1.2104283535863711,
          0
         ],
         "xaxis": "x",
         "y": [
          -1705,
          -1705,
          -1715,
          -1715
         ],
         "yaxis": "y"
        },
        {
         "hoverinfo": "text",
         "marker": {
          "color": "rgb(0,116,217)"
         },
         "mode": "lines",
         "text": [
          "covid19_oms_fauci_casos_gracias vacunas dosis",
          "",
          "",
          "covid19_pfizer_infección_estudio_fármaco"
         ],
         "type": "scatter",
         "x": [
          0,
          1.3047740418994587,
          1.3047740418994587,
          1.2104283535863711
         ],
         "xaxis": "x",
         "y": [
          -1695,
          -1695,
          -1710,
          -1710
         ],
         "yaxis": "y"
        },
        {
         "hoverinfo": "text",
         "marker": {
          "color": "rgb(0,116,217)"
         },
         "mode": "lines",
         "text": [
          "montagnier_imii_kalergis_medicina_vih",
          "",
          "",
          "tb_pesquisa_francisca werner_detección_expectoración"
         ],
         "type": "scatter",
         "x": [
          0,
          1.3638717592089782,
          1.3638717592089782,
          0
         ],
         "xaxis": "x",
         "y": [
          -1725,
          -1725,
          -1735,
          -1735
         ],
         "yaxis": "y"
        },
        {
         "hoverinfo": "text",
         "marker": {
          "color": "rgb(0,116,217)"
         },
         "mode": "lines",
         "text": [
          "montagnier_imii_kalergis_medicina_vih",
          "",
          "",
          "tb_pesquisa_francisca werner_detección_expectoración"
         ],
         "type": "scatter",
         "x": [
          1.3047740418994587,
          1.4415766705413737,
          1.4415766705413737,
          1.3638717592089782
         ],
         "xaxis": "x",
         "y": [
          -1702.5,
          -1702.5,
          -1730,
          -1730
         ],
         "yaxis": "y"
        },
        {
         "hoverinfo": "text",
         "marker": {
          "color": "rgb(0,116,217)"
         },
         "mode": "lines",
         "text": [
          "montagnier_imii_kalergis_medicina_vih",
          "",
          "",
          "tb_pesquisa_francisca werner_detección_expectoración"
         ],
         "type": "scatter",
         "x": [
          1.5470167608745813,
          1.8032795934582977,
          1.8032795934582977,
          1.4415766705413737
         ],
         "xaxis": "x",
         "y": [
          -1642.5,
          -1642.5,
          -1716.25,
          -1716.25
         ],
         "yaxis": "y"
        },
        {
         "hoverinfo": "text",
         "marker": {
          "color": "rgb(0,116,217)"
         },
         "mode": "lines",
         "text": [
          "montagnier_imii_kalergis_medicina_vih",
          "",
          "",
          "tb_pesquisa_francisca werner_detección_expectoración"
         ],
         "type": "scatter",
         "x": [
          1.7940500691803878,
          2.0753858300784827,
          2.0753858300784827,
          1.8032795934582977
         ],
         "xaxis": "x",
         "y": [
          -1545.3125,
          -1545.3125,
          -1679.375,
          -1679.375
         ],
         "yaxis": "y"
        },
        {
         "hoverinfo": "text",
         "marker": {
          "color": "rgb(0,116,217)"
         },
         "mode": "lines",
         "text": [
          "base_servicio salud chiloé_incendio_chiloé_c谩rcamo",
          "",
          "",
          "paciente_urgencia_baeza_hervidor_gonzalo baeza"
         ],
         "type": "scatter",
         "x": [
          0,
          1.3222131229807537,
          1.3222131229807537,
          0
         ],
         "xaxis": "x",
         "y": [
          -1745,
          -1745,
          -1755,
          -1755
         ],
         "yaxis": "y"
        },
        {
         "hoverinfo": "text",
         "marker": {
          "color": "rgb(0,116,217)"
         },
         "mode": "lines",
         "text": [
          "garcía_joven_imagen_accidente laboral_familia",
          "",
          "",
          "espinoza_salud_lactante_ancud_servicio"
         ],
         "type": "scatter",
         "x": [
          0,
          1.2941257112174815,
          1.2941257112174815,
          0
         ],
         "xaxis": "x",
         "y": [
          -1765,
          -1765,
          -1775,
          -1775
         ],
         "yaxis": "y"
        },
        {
         "hoverinfo": "text",
         "marker": {
          "color": "rgb(0,116,217)"
         },
         "mode": "lines",
         "text": [
          "bebé_nacido_servicio salud_ancud_trabajador",
          "",
          "",
          "hospital_servicio salud_siquiatra_mental_reloncaví"
         ],
         "type": "scatter",
         "x": [
          1.2941257112174815,
          1.3203056534090025,
          1.3203056534090025,
          0
         ],
         "xaxis": "x",
         "y": [
          -1770,
          -1770,
          -1785,
          -1785
         ],
         "yaxis": "y"
        },
        {
         "hoverinfo": "text",
         "marker": {
          "color": "rgb(0,116,217)"
         },
         "mode": "lines",
         "text": [
          "bebé_nacido_servicio salud_ancud_trabajador",
          "",
          "",
          "ancud_familia_nacido_trabajador_lactante"
         ],
         "type": "scatter",
         "x": [
          1.3222131229807537,
          1.410656998821643,
          1.410656998821643,
          1.3203056534090025
         ],
         "xaxis": "x",
         "y": [
          -1750,
          -1750,
          -1777.5,
          -1777.5
         ],
         "yaxis": "y"
        },
        {
         "hoverinfo": "text",
         "marker": {
          "color": "rgb(0,116,217)"
         },
         "mode": "lines",
         "text": [
          "urgencia_pacientes_covid_sapu_ancud",
          "",
          "",
          "cirugía_hpm_espera_reloncaví_servicio salud reloncaví"
         ],
         "type": "scatter",
         "x": [
          0,
          1.0819656504005535,
          1.0819656504005535,
          0
         ],
         "xaxis": "x",
         "y": [
          -1805,
          -1805,
          -1815,
          -1815
         ],
         "yaxis": "y"
        },
        {
         "hoverinfo": "text",
         "marker": {
          "color": "rgb(0,116,217)"
         },
         "mode": "lines",
         "text": [
          "paro_cesfam_servicio_afusam_gremios",
          "",
          "",
          "urgencia_cirugía_consultas_espera_servicio salud reloncaví"
         ],
         "type": "scatter",
         "x": [
          0,
          1.2628901086619257,
          1.2628901086619257,
          1.0819656504005535
         ],
         "xaxis": "x",
         "y": [
          -1795,
          -1795,
          -1810,
          -1810
         ],
         "yaxis": "y"
        },
        {
         "hoverinfo": "text",
         "marker": {
          "color": "rgb(0,116,217)"
         },
         "mode": "lines",
         "text": [
          "primaria_reloncaví_servicio salud_traslado_municipal",
          "",
          "",
          "primaria_comisión salud_unidad calidad_chilena municipalidades_usuarios"
         ],
         "type": "scatter",
         "x": [
          0,
          1.254665783261261,
          1.254665783261261,
          0
         ],
         "xaxis": "x",
         "y": [
          -1835,
          -1835,
          -1845,
          -1845
         ],
         "yaxis": "y"
        },
        {
         "hoverinfo": "text",
         "marker": {
          "color": "rgb(0,116,217)"
         },
         "mode": "lines",
         "text": [
          "fundación arturo_terreno_servicio salud_construcción centro oncológico_falp",
          "",
          "",
          "primaria_comisión salud_unidad calidad_chilena municipalidades_usuarios"
         ],
         "type": "scatter",
         "x": [
          0,
          1.332837418997593,
          1.332837418997593,
          1.254665783261261
         ],
         "xaxis": "x",
         "y": [
          -1825,
          -1825,
          -1840,
          -1840
         ],
         "yaxis": "y"
        },
        {
         "hoverinfo": "text",
         "marker": {
          "color": "rgb(0,116,217)"
         },
         "mode": "lines",
         "text": [
          "atenciones_urgencia_cirugía_consultas_cesfam",
          "",
          "",
          "primaria_comisión salud_unidad calidad_chilena municipalidades_usuarios"
         ],
         "type": "scatter",
         "x": [
          1.2628901086619257,
          1.408222920120827,
          1.408222920120827,
          1.332837418997593
         ],
         "xaxis": "x",
         "y": [
          -1802.5,
          -1802.5,
          -1832.5,
          -1832.5
         ],
         "yaxis": "y"
        },
        {
         "hoverinfo": "text",
         "marker": {
          "color": "rgb(0,116,217)"
         },
         "mode": "lines",
         "text": [
          "atenciones_urgencia_cirugía_consultas_cesfam",
          "",
          "",
          "atenciones_reloncaví_urgencia_servicio salud reloncaví_cesfam"
         ],
         "type": "scatter",
         "x": [
          1.410656998821643,
          1.6856432779433377,
          1.6856432779433377,
          1.408222920120827
         ],
         "xaxis": "x",
         "y": [
          -1763.75,
          -1763.75,
          -1817.5,
          -1817.5
         ],
         "yaxis": "y"
        },
        {
         "hoverinfo": "text",
         "marker": {
          "color": "rgb(0,116,217)"
         },
         "mode": "lines",
         "text": [
          "emocional_niños_relación_prueba_persona",
          "",
          "",
          "dormir_cambio hora_especialista_cuaya_voz"
         ],
         "type": "scatter",
         "x": [
          0,
          1.2180055034053732,
          1.2180055034053732,
          0
         ],
         "xaxis": "x",
         "y": [
          -1855,
          -1855,
          -1865,
          -1865
         ],
         "yaxis": "y"
        },
        {
         "hoverinfo": "text",
         "marker": {
          "color": "rgb(0,116,217)"
         },
         "mode": "lines",
         "text": [
          "acv_síntomas_riesgo_inactividad_salud mental",
          "",
          "",
          "precoz_tratamiento_falp_dr_detección"
         ],
         "type": "scatter",
         "x": [
          0,
          1.1781114075615513,
          1.1781114075615513,
          0
         ],
         "xaxis": "x",
         "y": [
          -1885,
          -1885,
          -1895,
          -1895
         ],
         "yaxis": "y"
        },
        {
         "hoverinfo": "text",
         "marker": {
          "color": "rgb(0,116,217)"
         },
         "mode": "lines",
         "text": [
          "cáncer mama_tratamiento_síntomas_física_especialista",
          "",
          "",
          "sarscov2_proteínas_cerebro_revista_nariz"
         ],
         "type": "scatter",
         "x": [
          1.1781114075615513,
          1.2500300018369344,
          1.2500300018369344,
          0
         ],
         "xaxis": "x",
         "y": [
          -1890,
          -1890,
          -1905,
          -1905
         ],
         "yaxis": "y"
        },
        {
         "hoverinfo": "text",
         "marker": {
          "color": "rgb(0,116,217)"
         },
         "mode": "lines",
         "text": [
          "solar_puede_especialista_protector_lentes",
          "",
          "",
          "sarscov2_proteínas_cerebro_revista_nariz"
         ],
         "type": "scatter",
         "x": [
          0,
          1.3093365126967882,
          1.3093365126967882,
          1.2500300018369344
         ],
         "xaxis": "x",
         "y": [
          -1875,
          -1875,
          -1897.5,
          -1897.5
         ],
         "yaxis": "y"
        },
        {
         "hoverinfo": "text",
         "marker": {
          "color": "rgb(0,116,217)"
         },
         "mode": "lines",
         "text": [
          "solar_puede_especialista_protector_lentes",
          "",
          "",
          "donantes_trasplante_hospital_compatible_células madre sanguíneas"
         ],
         "type": "scatter",
         "x": [
          1.3093365126967882,
          1.3458970765261642,
          1.3458970765261642,
          0
         ],
         "xaxis": "x",
         "y": [
          -1886.25,
          -1886.25,
          -1915,
          -1915
         ],
         "yaxis": "y"
        },
        {
         "hoverinfo": "text",
         "marker": {
          "color": "rgb(0,116,217)"
         },
         "mode": "lines",
         "text": [
          "solar_puede_especialista_protector_lentes",
          "",
          "",
          "donantes_trasplante_hospital_compatible_células madre sanguíneas"
         ],
         "type": "scatter",
         "x": [
          1.2180055034053732,
          1.4605272378296728,
          1.4605272378296728,
          1.3458970765261642
         ],
         "xaxis": "x",
         "y": [
          -1860,
          -1860,
          -1900.625,
          -1900.625
         ],
         "yaxis": "y"
        },
        {
         "hoverinfo": "text",
         "marker": {
          "color": "rgb(0,116,217)"
         },
         "mode": "lines",
         "text": [
          "tribunales familia_víctimas violencia_penal_ley_monitoreo",
          "",
          "",
          "escnna_conductas_niños_género_sename"
         ],
         "type": "scatter",
         "x": [
          0,
          1.26499952949431,
          1.26499952949431,
          0
         ],
         "xaxis": "x",
         "y": [
          -1925,
          -1925,
          -1935,
          -1935
         ],
         "yaxis": "y"
        },
        {
         "hoverinfo": "text",
         "marker": {
          "color": "rgb(0,116,217)"
         },
         "mode": "lines",
         "text": [
          "acoso sexual_encuesta_prodemu_metoo_ser",
          "",
          "",
          "laboral_género_achs_estudio_industria"
         ],
         "type": "scatter",
         "x": [
          0,
          1.1931937103064887,
          1.1931937103064887,
          0
         ],
         "xaxis": "x",
         "y": [
          -1945,
          -1945,
          -1955,
          -1955
         ],
         "yaxis": "y"
        },
        {
         "hoverinfo": "text",
         "marker": {
          "color": "rgb(0,116,217)"
         },
         "mode": "lines",
         "text": [
          "mujeres_género_acoso_encuesta_participación",
          "",
          "",
          "niñas_granovetter_cyt_carreras_ingeniería"
         ],
         "type": "scatter",
         "x": [
          1.1931937103064887,
          1.2974505933728244,
          1.2974505933728244,
          0
         ],
         "xaxis": "x",
         "y": [
          -1950,
          -1950,
          -1965,
          -1965
         ],
         "yaxis": "y"
        },
        {
         "hoverinfo": "text",
         "marker": {
          "color": "rgb(0,116,217)"
         },
         "mode": "lines",
         "text": [
          "mujeres_género_acoso_encuesta_participación",
          "",
          "",
          "niñas_granovetter_cyt_carreras_ingeniería"
         ],
         "type": "scatter",
         "x": [
          1.26499952949431,
          1.4482757996952338,
          1.4482757996952338,
          1.2974505933728244
         ],
         "xaxis": "x",
         "y": [
          -1930,
          -1930,
          -1957.5,
          -1957.5
         ],
         "yaxis": "y"
        },
        {
         "hoverinfo": "text",
         "marker": {
          "color": "rgb(0,116,217)"
         },
         "mode": "lines",
         "text": [
          "mujeres_género_acoso_encuesta_participación",
          "",
          "",
          "género_hombres_laboral_niñas_estudio"
         ],
         "type": "scatter",
         "x": [
          1.4605272378296728,
          1.8125354108950447,
          1.8125354108950447,
          1.4482757996952338
         ],
         "xaxis": "x",
         "y": [
          -1880.3125,
          -1880.3125,
          -1943.75,
          -1943.75
         ],
         "yaxis": "y"
        },
        {
         "hoverinfo": "text",
         "marker": {
          "color": "rgb(0,116,217)"
         },
         "mode": "lines",
         "text": [
          "mujeres_género_acoso_encuesta_participación",
          "",
          "",
          "género_hombres_laboral_niñas_estudio"
         ],
         "type": "scatter",
         "x": [
          1.6856432779433377,
          2.2164788690066963,
          2.2164788690066963,
          1.8125354108950447
         ],
         "xaxis": "x",
         "y": [
          -1790.625,
          -1790.625,
          -1912.03125,
          -1912.03125
         ],
         "yaxis": "y"
        },
        {
         "hoverinfo": "text",
         "marker": {
          "color": "rgb(0,116,217)"
         },
         "mode": "lines",
         "text": [
          "mujeres_género_acoso_encuesta_participación",
          "",
          "",
          "género_hombres_laboral_niñas_estudio"
         ],
         "type": "scatter",
         "x": [
          2.0753858300784827,
          2.404101106802541,
          2.404101106802541,
          2.2164788690066963
         ],
         "xaxis": "x",
         "y": [
          -1612.34375,
          -1612.34375,
          -1851.328125,
          -1851.328125
         ],
         "yaxis": "y"
        },
        {
         "hoverinfo": "text",
         "marker": {
          "color": "rgb(0,116,217)"
         },
         "mode": "lines",
         "text": [
          "crédito_empresas_fogape_económica_fmi",
          "",
          "",
          "banco central_ipc_interés_año_política monetaria"
         ],
         "type": "scatter",
         "x": [
          0,
          1.1428387211497752,
          1.1428387211497752,
          0
         ],
         "xaxis": "x",
         "y": [
          -1975,
          -1975,
          -1985,
          -1985
         ],
         "yaxis": "y"
        },
        {
         "hoverinfo": "text",
         "marker": {
          "color": "rgb(0,116,217)"
         },
         "mode": "lines",
         "text": [
          "pan_iva_estabilización_precio combustibles_mepco",
          "",
          "",
          "canasta_aceite_precio pan_básica_supermercados"
         ],
         "type": "scatter",
         "x": [
          0,
          1.0904567478181708,
          1.0904567478181708,
          0
         ],
         "xaxis": "x",
         "y": [
          -2005,
          -2005,
          -2015,
          -2015
         ],
         "yaxis": "y"
        },
        {
         "hoverinfo": "text",
         "marker": {
          "color": "rgb(0,116,217)"
         },
         "mode": "lines",
         "text": [
          "impuesto_colectivos_congelamiento_precios transporte público_diésel",
          "",
          "",
          "pan_canasta_iva_alimentos_pesos"
         ],
         "type": "scatter",
         "x": [
          0,
          1.2826897391476775,
          1.2826897391476775,
          1.0904567478181708
         ],
         "xaxis": "x",
         "y": [
          -1995,
          -1995,
          -2010,
          -2010
         ],
         "yaxis": "y"
        },
        {
         "hoverinfo": "text",
         "marker": {
          "color": "rgb(0,116,217)"
         },
         "mode": "lines",
         "text": [
          "pan_parafina_canasta_iva_pesos",
          "",
          "",
          "enap_chiguayante_gas precio justo_fne_asociación"
         ],
         "type": "scatter",
         "x": [
          1.2826897391476775,
          1.3102733981444294,
          1.3102733981444294,
          0
         ],
         "xaxis": "x",
         "y": [
          -2002.5,
          -2002.5,
          -2025,
          -2025
         ],
         "yaxis": "y"
        },
        {
         "hoverinfo": "text",
         "marker": {
          "color": "rgb(0,116,217)"
         },
         "mode": "lines",
         "text": [
          "banco_central_tasa interés_mercado_retiros",
          "",
          "",
          "enap_pan_municipios_gas precio_fne"
         ],
         "type": "scatter",
         "x": [
          1.1428387211497752,
          1.6131997096491568,
          1.6131997096491568,
          1.3102733981444294
         ],
         "xaxis": "x",
         "y": [
          -1980,
          -1980,
          -2013.75,
          -2013.75
         ],
         "yaxis": "y"
        },
        {
         "hoverinfo": "text",
         "marker": {
          "color": "rgb(40,35,35)"
         },
         "mode": "lines",
         "text": [
          "moscú_biden_kiev_invasión_ucraniano",
          "",
          "",
          "mariúpol_kiev_ucraniano_ciudad_ataques"
         ],
         "type": "scatter",
         "x": [
          0,
          0.6900962945727158,
          0.6900962945727158,
          0
         ],
         "xaxis": "x",
         "y": [
          -2045,
          -2045,
          -2055,
          -2055
         ],
         "yaxis": "y"
        },
        {
         "hoverinfo": "text",
         "marker": {
          "color": "rgb(0,116,217)"
         },
         "mode": "lines",
         "text": [
          "petróleo_países_sanciones_opep_dólares",
          "",
          "",
          "kiev_moscú_militar_rusos_mariúpol"
         ],
         "type": "scatter",
         "x": [
          0,
          1.2494791545190802,
          1.2494791545190802,
          0.6900962945727158
         ],
         "xaxis": "x",
         "y": [
          -2035,
          -2035,
          -2050,
          -2050
         ],
         "yaxis": "y"
        },
        {
         "hoverinfo": "text",
         "marker": {
          "color": "rgb(0,116,217)"
         },
         "mode": "lines",
         "text": [
          "petróleo_países_sanciones_opep_dólares",
          "",
          "",
          "kiev_moscú_rusos_militar_mariúpol"
         ],
         "type": "scatter",
         "x": [
          1.6131997096491568,
          2.099561623081066,
          2.099561623081066,
          1.2494791545190802
         ],
         "xaxis": "x",
         "y": [
          -1996.875,
          -1996.875,
          -2042.5,
          -2042.5
         ],
         "yaxis": "y"
        },
        {
         "hoverinfo": "text",
         "marker": {
          "color": "rgb(0,116,217)"
         },
         "mode": "lines",
         "text": [
          "petróleo_países_sanciones_opep_dólares",
          "",
          "",
          "kiev_moscú_rusos_militar_mariúpol"
         ],
         "type": "scatter",
         "x": [
          2.404101106802541,
          2.5382957895004536,
          2.5382957895004536,
          2.099561623081066
         ],
         "xaxis": "x",
         "y": [
          -1731.8359375,
          -1731.8359375,
          -2019.6875,
          -2019.6875
         ],
         "yaxis": "y"
        },
        {
         "hoverinfo": "text",
         "marker": {
          "color": "rgb(0,116,217)"
         },
         "mode": "lines",
         "text": [
          "petróleo_países_sanciones_opep_dólares",
          "",
          "",
          "kiev_moscú_rusos_militar_mariúpol"
         ],
         "type": "scatter",
         "x": [
          2.1338167069936027,
          2.9121319279962306,
          2.9121319279962306,
          2.5382957895004536
         ],
         "xaxis": "x",
         "y": [
          -1383.125,
          -1383.125,
          -1875.76171875,
          -1875.76171875
         ],
         "yaxis": "y"
        },
        {
         "hoverinfo": "text",
         "marker": {
          "color": "rgb(0,116,217)"
         },
         "mode": "lines",
         "text": [
          "accidentes_senda_conducir_carabineros_bajo influencia alcohol",
          "",
          "",
          "carabineros_fin semana_delegada_infracciones_santa"
         ],
         "type": "scatter",
         "x": [
          0,
          1.0963075490853447,
          1.0963075490853447,
          0
         ],
         "xaxis": "x",
         "y": [
          -2075,
          -2075,
          -2085,
          -2085
         ],
         "yaxis": "y"
        },
        {
         "hoverinfo": "text",
         "marker": {
          "color": "rgb(0,116,217)"
         },
         "mode": "lines",
         "text": [
          "marihuana_estudio_thc_2018_percepción riesgo uso",
          "",
          "",
          "accidentes_senda_carabineros_conducir_bajo influencia alcohol"
         ],
         "type": "scatter",
         "x": [
          0,
          1.3764462899683831,
          1.3764462899683831,
          1.0963075490853447
         ],
         "xaxis": "x",
         "y": [
          -2065,
          -2065,
          -2080,
          -2080
         ],
         "yaxis": "y"
        },
        {
         "hoverinfo": "text",
         "marker": {
          "color": "rgb(0,116,217)"
         },
         "mode": "lines",
         "text": [
          "suplementeros_llevaron_delincuentes_especies_quioscos",
          "",
          "",
          "cámaras_pelluco_pórticos_prevención_pdi"
         ],
         "type": "scatter",
         "x": [
          0,
          1.2504416201078066,
          1.2504416201078066,
          0
         ],
         "xaxis": "x",
         "y": [
          -2105,
          -2105,
          -2115,
          -2115
         ],
         "yaxis": "y"
        },
        {
         "hoverinfo": "text",
         "marker": {
          "color": "rgb(0,116,217)"
         },
         "mode": "lines",
         "text": [
          "cámaras_seguridad pública_robos_pelluco_vecinos",
          "",
          "",
          "artificiales_pelluco_coaniquem_carabineros_clandestinas"
         ],
         "type": "scatter",
         "x": [
          1.2504416201078066,
          1.283250981516594,
          1.283250981516594,
          0
         ],
         "xaxis": "x",
         "y": [
          -2110,
          -2110,
          -2125,
          -2125
         ],
         "yaxis": "y"
        },
        {
         "hoverinfo": "text",
         "marker": {
          "color": "rgb(0,116,217)"
         },
         "mode": "lines",
         "text": [
          "retén_vehículos policiales_tenencia_37_corte alto",
          "",
          "",
          "pelluco_carabineros_fuegos_vecinos_clandestinas"
         ],
         "type": "scatter",
         "x": [
          0,
          1.3153924289496766,
          1.3153924289496766,
          1.283250981516594
         ],
         "xaxis": "x",
         "y": [
          -2095,
          -2095,
          -2117.5,
          -2117.5
         ],
         "yaxis": "y"
        },
        {
         "hoverinfo": "text",
         "marker": {
          "color": "rgb(0,116,217)"
         },
         "mode": "lines",
         "text": [
          "riña_calbucoy_querella_carabineros_vecinos",
          "",
          "",
          "hechos_denisse_carabineros_querella_violenta"
         ],
         "type": "scatter",
         "x": [
          0,
          1.3330070152599205,
          1.3330070152599205,
          0
         ],
         "xaxis": "x",
         "y": [
          -2135,
          -2135,
          -2145,
          -2145
         ],
         "yaxis": "y"
        },
        {
         "hoverinfo": "text",
         "marker": {
          "color": "rgb(0,116,217)"
         },
         "mode": "lines",
         "text": [
          "pelluco_cámaras_artificiales_clandestinas_comuna",
          "",
          "",
          "hechos_denisse_carabineros_querella_violenta"
         ],
         "type": "scatter",
         "x": [
          1.3153924289496766,
          1.399633149364349,
          1.399633149364349,
          1.3330070152599205
         ],
         "xaxis": "x",
         "y": [
          -2106.25,
          -2106.25,
          -2140,
          -2140
         ],
         "yaxis": "y"
        },
        {
         "hoverinfo": "text",
         "marker": {
          "color": "rgb(0,116,217)"
         },
         "mode": "lines",
         "text": [
          "senda_accidentes_fiscalizaciones_carabineros_marihuana",
          "",
          "",
          "hechos_denisse_carabineros_querella_violenta"
         ],
         "type": "scatter",
         "x": [
          1.3764462899683831,
          1.7082621965062557,
          1.7082621965062557,
          1.399633149364349
         ],
         "xaxis": "x",
         "y": [
          -2072.5,
          -2072.5,
          -2123.125,
          -2123.125
         ],
         "yaxis": "y"
        },
        {
         "hoverinfo": "text",
         "marker": {
          "color": "rgb(0,116,217)"
         },
         "mode": "lines",
         "text": [
          "chofer_siat_arraigo_quedó_alcoholemia",
          "",
          "",
          "samu_accidente tránsito_lugar_carabineros_camioneta"
         ],
         "type": "scatter",
         "x": [
          0,
          1.0672478848850722,
          1.0672478848850722,
          0
         ],
         "xaxis": "x",
         "y": [
          -2155,
          -2155,
          -2165,
          -2165
         ],
         "yaxis": "y"
        },
        {
         "hoverinfo": "text",
         "marker": {
          "color": "rgb(0,116,217)"
         },
         "mode": "lines",
         "text": [
          "carabineros_robo_fiscal_años_lesiones",
          "",
          "",
          "cocaína_tráfico_detectives_sativa_detención"
         ],
         "type": "scatter",
         "x": [
          0,
          1.2913984669480847,
          1.2913984669480847,
          0
         ],
         "xaxis": "x",
         "y": [
          -2175,
          -2175,
          -2185,
          -2185
         ],
         "yaxis": "y"
        },
        {
         "hoverinfo": "text",
         "marker": {
          "color": "rgb(0,116,217)"
         },
         "mode": "lines",
         "text": [
          "samu_accidente tránsito_lugar_carabineros_camioneta",
          "",
          "",
          "cocaína_tráfico_detectives_sativa_detención"
         ],
         "type": "scatter",
         "x": [
          1.0672478848850722,
          1.489023143629257,
          1.489023143629257,
          1.2913984669480847
         ],
         "xaxis": "x",
         "y": [
          -2160,
          -2160,
          -2180,
          -2180
         ],
         "yaxis": "y"
        },
        {
         "hoverinfo": "text",
         "marker": {
          "color": "rgb(0,116,217)"
         },
         "mode": "lines",
         "text": [
          "samu_accidente tránsito_lugar_carabineros_camioneta",
          "",
          "",
          "cocaína_tráfico_detectives_sativa_detención"
         ],
         "type": "scatter",
         "x": [
          1.7082621965062557,
          1.9879046224975119,
          1.9879046224975119,
          1.489023143629257
         ],
         "xaxis": "x",
         "y": [
          -2097.8125,
          -2097.8125,
          -2170,
          -2170
         ],
         "yaxis": "y"
        },
        {
         "hoverinfo": "text",
         "marker": {
          "color": "rgb(0,116,217)"
         },
         "mode": "lines",
         "text": [
          "fuerte descarga_joven trabajador_criminalística_bomba extracción agua_brigada homicidios",
          "",
          "",
          "sml_bote auxiliar_tenaún_terceras_faenas"
         ],
         "type": "scatter",
         "x": [
          0,
          1.2774132065611383,
          1.2774132065611383,
          0
         ],
         "xaxis": "x",
         "y": [
          -2195,
          -2195,
          -2205,
          -2205
         ],
         "yaxis": "y"
        },
        {
         "hoverinfo": "text",
         "marker": {
          "color": "rgb(61,153,112)"
         },
         "mode": "lines",
         "text": [
          "hallazgo_médico legal_cuerpo vida_personal_terceras",
          "",
          "",
          "río_médico legal_héctor astete_astete_rahue"
         ],
         "type": "scatter",
         "x": [
          0,
          0.9907406213844924,
          0.9907406213844924,
          0
         ],
         "xaxis": "x",
         "y": [
          -2215,
          -2215,
          -2225,
          -2225
         ],
         "yaxis": "y"
        },
        {
         "hoverinfo": "text",
         "marker": {
          "color": "rgb(0,116,217)"
         },
         "mode": "lines",
         "text": [
          "hallazgo_médico legal_cuerpo vida_personal_terceras",
          "",
          "",
          "cadáver_servicio médico legal_homicidios_muerte_río"
         ],
         "type": "scatter",
         "x": [
          1.2774132065611383,
          1.3563591638957073,
          1.3563591638957073,
          0.9907406213844924
         ],
         "xaxis": "x",
         "y": [
          -2200,
          -2200,
          -2220,
          -2220
         ],
         "yaxis": "y"
        },
        {
         "hoverinfo": "text",
         "marker": {
          "color": "rgb(0,116,217)"
         },
         "mode": "lines",
         "text": [
          "foitzick_familia_ernesto_mancilla_jeinimeni",
          "",
          "",
          "búsqueda_astete_héctor astete_cochamó_héctor"
         ],
         "type": "scatter",
         "x": [
          0,
          1.284274279592873,
          1.284274279592873,
          0
         ],
         "xaxis": "x",
         "y": [
          -2245,
          -2245,
          -2255,
          -2255
         ],
         "yaxis": "y"
        },
        {
         "hoverinfo": "text",
         "marker": {
          "color": "rgb(0,116,217)"
         },
         "mode": "lines",
         "text": [
          "fiscal_teiguel_pericias_mochilero_pdi",
          "",
          "",
          "búsqueda_astete_héctor astete_cochamó_héctor"
         ],
         "type": "scatter",
         "x": [
          0,
          1.2986972406211739,
          1.2986972406211739,
          1.284274279592873
         ],
         "xaxis": "x",
         "y": [
          -2235,
          -2235,
          -2250,
          -2250
         ],
         "yaxis": "y"
        },
        {
         "hoverinfo": "text",
         "marker": {
          "color": "rgb(0,116,217)"
         },
         "mode": "lines",
         "text": [
          "fiscal_teiguel_pericias_mochilero_pdi",
          "",
          "",
          "bote_volcán calbuco_accidental muerte_rescatarla_chamiza"
         ],
         "type": "scatter",
         "x": [
          1.2986972406211739,
          1.3747685152637208,
          1.3747685152637208,
          0
         ],
         "xaxis": "x",
         "y": [
          -2242.5,
          -2242.5,
          -2265,
          -2265
         ],
         "yaxis": "y"
        },
        {
         "hoverinfo": "text",
         "marker": {
          "color": "rgb(0,116,217)"
         },
         "mode": "lines",
         "text": [
          "fiscal_teiguel_pericias_mochilero_pdi",
          "",
          "",
          "bote_volcán calbuco_accidental muerte_rescatarla_chamiza"
         ],
         "type": "scatter",
         "x": [
          1.3563591638957073,
          1.5280766019253809,
          1.5280766019253809,
          1.3747685152637208
         ],
         "xaxis": "x",
         "y": [
          -2210,
          -2210,
          -2253.75,
          -2253.75
         ],
         "yaxis": "y"
        },
        {
         "hoverinfo": "text",
         "marker": {
          "color": "rgb(0,116,217)"
         },
         "mode": "lines",
         "text": [
          "fiscal_teiguel_pericias_mochilero_pdi",
          "",
          "",
          "bote_volcán calbuco_accidental muerte_rescatarla_chamiza"
         ],
         "type": "scatter",
         "x": [
          1.9879046224975119,
          1.9934036909896555,
          1.9934036909896555,
          1.5280766019253809
         ],
         "xaxis": "x",
         "y": [
          -2133.90625,
          -2133.90625,
          -2231.875,
          -2231.875
         ],
         "yaxis": "y"
        },
        {
         "hoverinfo": "text",
         "marker": {
          "color": "rgb(0,116,217)"
         },
         "mode": "lines",
         "text": [
          "braunau_nueva braunau_derrame ácido nítrico_peligrosos_contenedor",
          "",
          "",
          "queilen_terceros_investigan intencionalidad incendio_labocar_criminalística"
         ],
         "type": "scatter",
         "x": [
          0,
          1.3637944223882656,
          1.3637944223882656,
          0
         ],
         "xaxis": "x",
         "y": [
          -2275,
          -2275,
          -2285,
          -2285
         ],
         "yaxis": "y"
        },
        {
         "hoverinfo": "text",
         "marker": {
          "color": "rgb(0,116,217)"
         },
         "mode": "lines",
         "text": [
          "llamas_vivienda_labocar_puerto varas_adulto",
          "",
          "",
          "compañías_cuerpo bomberos_propagación_lugar_dos"
         ],
         "type": "scatter",
         "x": [
          0,
          1.0418815545009834,
          1.0418815545009834,
          0
         ],
         "xaxis": "x",
         "y": [
          -2295,
          -2295,
          -2305,
          -2305
         ],
         "yaxis": "y"
        },
        {
         "hoverinfo": "text",
         "marker": {
          "color": "rgb(0,116,217)"
         },
         "mode": "lines",
         "text": [
          "llamas_vivienda_labocar_puerto varas_adulto",
          "",
          "",
          "compañías_cuerpo bomberos_lugar_propagación_viviendas"
         ],
         "type": "scatter",
         "x": [
          1.3637944223882656,
          1.44185354695901,
          1.44185354695901,
          1.0418815545009834
         ],
         "xaxis": "x",
         "y": [
          -2280,
          -2280,
          -2300,
          -2300
         ],
         "yaxis": "y"
        },
        {
         "hoverinfo": "text",
         "marker": {
          "color": "rgb(255,65,54)"
         },
         "mode": "lines",
         "text": [
          "conaf_incendio forestal_brigadas_alerta amarilla_vegetación",
          "",
          "",
          "conaf_fuego_temporada_onemi_hectáreas"
         ],
         "type": "scatter",
         "x": [
          0,
          0.8930016001209268,
          0.8930016001209268,
          0
         ],
         "xaxis": "x",
         "y": [
          -2325,
          -2325,
          -2335,
          -2335
         ],
         "yaxis": "y"
        },
        {
         "hoverinfo": "text",
         "marker": {
          "color": "rgb(0,116,217)"
         },
         "mode": "lines",
         "text": [
          "incendio forestal_casas_camilo henríquez_pucoihue_conaf",
          "",
          "",
          "incendios forestales_conaf_fuego_onemi_emergencia"
         ],
         "type": "scatter",
         "x": [
          0,
          1.2363664266399763,
          1.2363664266399763,
          0.8930016001209268
         ],
         "xaxis": "x",
         "y": [
          -2315,
          -2315,
          -2330,
          -2330
         ],
         "yaxis": "y"
        },
        {
         "hoverinfo": "text",
         "marker": {
          "color": "rgb(0,116,217)"
         },
         "mode": "lines",
         "text": [
          "incendio forestal_casas_camilo henríquez_pucoihue_conaf",
          "",
          "",
          "incendios forestales_conaf_fuego_onemi_viviendas"
         ],
         "type": "scatter",
         "x": [
          1.44185354695901,
          1.5678405435683436,
          1.5678405435683436,
          1.2363664266399763
         ],
         "xaxis": "x",
         "y": [
          -2290,
          -2290,
          -2322.5,
          -2322.5
         ],
         "yaxis": "y"
        },
        {
         "hoverinfo": "text",
         "marker": {
          "color": "rgb(0,116,217)"
         },
         "mode": "lines",
         "text": [
          "incendio forestal_casas_camilo henríquez_pucoihue_conaf",
          "",
          "",
          "incendios forestales_conaf_fuego_onemi_viviendas"
         ],
         "type": "scatter",
         "x": [
          1.9934036909896555,
          2.2678773706619695,
          2.2678773706619695,
          1.5678405435683436
         ],
         "xaxis": "x",
         "y": [
          -2182.890625,
          -2182.890625,
          -2306.25,
          -2306.25
         ],
         "yaxis": "y"
        },
        {
         "hoverinfo": "text",
         "marker": {
          "color": "rgb(0,116,217)"
         },
         "mode": "lines",
         "text": [
          "incendio forestal_casas_camilo henríquez_pucoihue_conaf",
          "",
          "",
          "incendios forestales_conaf_fuego_onemi_viviendas"
         ],
         "type": "scatter",
         "x": [
          2.9121319279962306,
          3.2827325104076284,
          3.2827325104076284,
          2.2678773706619695
         ],
         "xaxis": "x",
         "y": [
          -1629.443359375,
          -1629.443359375,
          -2244.5703125,
          -2244.5703125
         ],
         "yaxis": "y"
        },
        {
         "hoverinfo": "text",
         "marker": {
          "color": "rgb(0,116,217)"
         },
         "mode": "lines",
         "text": [
          "incendio forestal_casas_camilo henríquez_pucoihue_conaf",
          "",
          "",
          "incendios forestales_conaf_fuego_onemi_viviendas"
         ],
         "type": "scatter",
         "x": [
          2.491011809007618,
          3.6530548263214158,
          3.6530548263214158,
          3.2827325104076284
         ],
         "xaxis": "x",
         "y": [
          -933.21044921875,
          -933.21044921875,
          -1937.0068359375,
          -1937.0068359375
         ],
         "yaxis": "y"
        },
        {
         "hoverinfo": "text",
         "marker": {
          "color": "rgb(0,116,217)"
         },
         "mode": "lines",
         "text": [
          "araucanía_biobío_ataque incendiario_malleco_región araucanía",
          "",
          "",
          "excepción_araucanía_multigremial_ríos lagos_zona"
         ],
         "type": "scatter",
         "x": [
          0,
          1.010343710964552,
          1.010343710964552,
          0
         ],
         "xaxis": "x",
         "y": [
          -2355,
          -2355,
          -2365,
          -2365
         ],
         "yaxis": "y"
        },
        {
         "hoverinfo": "text",
         "marker": {
          "color": "rgb(0,116,217)"
         },
         "mode": "lines",
         "text": [
          "incendiario_carabineros_forestal_plaza_macrozona sur",
          "",
          "",
          "araucanía_mapuche_violencia_biobío_excepción constitucional"
         ],
         "type": "scatter",
         "x": [
          0,
          1.2606704906349262,
          1.2606704906349262,
          1.010343710964552
         ],
         "xaxis": "x",
         "y": [
          -2345,
          -2345,
          -2360,
          -2360
         ],
         "yaxis": "y"
        },
        {
         "hoverinfo": "text",
         "marker": {
          "color": "rgb(0,116,217)"
         },
         "mode": "lines",
         "text": [
          "macrozona_abstenciones_biobío_provincias_cámara",
          "",
          "",
          "excepción_macrozona sur_provincias_delgado_biobío"
         ],
         "type": "scatter",
         "x": [
          0,
          1.0899552222713509,
          1.0899552222713509,
          0
         ],
         "xaxis": "x",
         "y": [
          -2375,
          -2375,
          -2385,
          -2385
         ],
         "yaxis": "y"
        },
        {
         "hoverinfo": "text",
         "marker": {
          "color": "rgb(0,116,217)"
         },
         "mode": "lines",
         "text": [
          "macrozona_abstenciones_biobío_provincias_cámara",
          "",
          "",
          "araucanía_siches_ministra_izkia_izkia siches"
         ],
         "type": "scatter",
         "x": [
          1.0899552222713509,
          1.21614634239114,
          1.21614634239114,
          0
         ],
         "xaxis": "x",
         "y": [
          -2380,
          -2380,
          -2395,
          -2395
         ],
         "yaxis": "y"
        },
        {
         "hoverinfo": "text",
         "marker": {
          "color": "rgb(0,116,217)"
         },
         "mode": "lines",
         "text": [
          "macrozona_abstenciones_biobío_provincias_cámara",
          "",
          "",
          "araucanía_siches_ministra_izkia_izkia siches"
         ],
         "type": "scatter",
         "x": [
          1.2606704906349262,
          1.3953104409781754,
          1.3953104409781754,
          1.21614634239114
         ],
         "xaxis": "x",
         "y": [
          -2352.5,
          -2352.5,
          -2387.5,
          -2387.5
         ],
         "yaxis": "y"
        },
        {
         "hoverinfo": "text",
         "marker": {
          "color": "rgb(0,116,217)"
         },
         "mode": "lines",
         "text": [
          "boric_rosanna_rosanna costa_frigolett_presidenta banco central",
          "",
          "",
          "litio_jobet_büchi_aisino_electo"
         ],
         "type": "scatter",
         "x": [
          0,
          1.3673287638067597,
          1.3673287638067597,
          0
         ],
         "xaxis": "x",
         "y": [
          -2405,
          -2405,
          -2415,
          -2415
         ],
         "yaxis": "y"
        },
        {
         "hoverinfo": "text",
         "marker": {
          "color": "rgb(0,116,217)"
         },
         "mode": "lines",
         "text": [
          "retiros_appen_boric_presidente electo_señales",
          "",
          "",
          "jara_reforma_ministra_40 horas_jeannette"
         ],
         "type": "scatter",
         "x": [
          0,
          1.3085959064353851,
          1.3085959064353851,
          0
         ],
         "xaxis": "x",
         "y": [
          -2425,
          -2425,
          -2435,
          -2435
         ],
         "yaxis": "y"
        },
        {
         "hoverinfo": "text",
         "marker": {
          "color": "rgb(0,116,217)"
         },
         "mode": "lines",
         "text": [
          "retiros_appen_boric_presidente electo_señales",
          "",
          "",
          "jara_reforma_ministra_40 horas_jeannette"
         ],
         "type": "scatter",
         "x": [
          1.3673287638067597,
          1.4043016554580687,
          1.4043016554580687,
          1.3085959064353851
         ],
         "xaxis": "x",
         "y": [
          -2410,
          -2410,
          -2430,
          -2430
         ],
         "yaxis": "y"
        },
        {
         "hoverinfo": "text",
         "marker": {
          "color": "rgb(0,116,217)"
         },
         "mode": "lines",
         "text": [
          "boric_piñera_cambio mando_invitados_siches",
          "",
          "",
          "boric_cámara_presidente electo gabriel_ps_ascencio"
         ],
         "type": "scatter",
         "x": [
          0,
          1.1824336558764366,
          1.1824336558764366,
          0
         ],
         "xaxis": "x",
         "y": [
          -2455,
          -2455,
          -2465,
          -2465
         ],
         "yaxis": "y"
        },
        {
         "hoverinfo": "text",
         "marker": {
          "color": "rgb(0,116,217)"
         },
         "mode": "lines",
         "text": [
          "boric_chahuán_segpres_macaya_presidente electo gabriel",
          "",
          "",
          "boric_piñera_presidente electo gabriel_siches_cambio mando"
         ],
         "type": "scatter",
         "x": [
          0,
          1.2370324157152015,
          1.2370324157152015,
          1.1824336558764366
         ],
         "xaxis": "x",
         "y": [
          -2445,
          -2445,
          -2460,
          -2460
         ],
         "yaxis": "y"
        },
        {
         "hoverinfo": "text",
         "marker": {
          "color": "rgb(0,116,217)"
         },
         "mode": "lines",
         "text": [
          "allamand_pedro castillo_bellido_iberoamericana_perú libre",
          "",
          "",
          "monsalve_mapuche_ministra interior_paro_dialogar"
         ],
         "type": "scatter",
         "x": [
          0,
          1.312371261435108,
          1.312371261435108,
          0
         ],
         "xaxis": "x",
         "y": [
          -2475,
          -2475,
          -2485,
          -2485
         ],
         "yaxis": "y"
        },
        {
         "hoverinfo": "text",
         "marker": {
          "color": "rgb(0,116,217)"
         },
         "mode": "lines",
         "text": [
          "boric_piñera_presidente electo gabriel_siches_cambio mando",
          "",
          "",
          "monsalve_mapuche_ministra interior_paro_dialogar"
         ],
         "type": "scatter",
         "x": [
          1.2370324157152015,
          1.3959671149972346,
          1.3959671149972346,
          1.312371261435108
         ],
         "xaxis": "x",
         "y": [
          -2452.5,
          -2452.5,
          -2480,
          -2480
         ],
         "yaxis": "y"
        },
        {
         "hoverinfo": "text",
         "marker": {
          "color": "rgb(0,116,217)"
         },
         "mode": "lines",
         "text": [
          "boric_piñera_presidente electo gabriel_siches_cambio mando",
          "",
          "",
          "monsalve_mapuche_ministra interior_paro_dialogar"
         ],
         "type": "scatter",
         "x": [
          1.4043016554580687,
          1.4639834037217392,
          1.4639834037217392,
          1.3959671149972346
         ],
         "xaxis": "x",
         "y": [
          -2420,
          -2420,
          -2466.25,
          -2466.25
         ],
         "yaxis": "y"
        },
        {
         "hoverinfo": "text",
         "marker": {
          "color": "rgb(0,116,217)"
         },
         "mode": "lines",
         "text": [
          "proyecto_cuarto_diputados_gobierno_afp",
          "",
          "",
          "delitos_proyecto indulto_jackson_comisión constitución senado_presos"
         ],
         "type": "scatter",
         "x": [
          0,
          1.2140261744164729,
          1.2140261744164729,
          0
         ],
         "xaxis": "x",
         "y": [
          -2505,
          -2505,
          -2515,
          -2515
         ],
         "yaxis": "y"
        },
        {
         "hoverinfo": "text",
         "marker": {
          "color": "rgb(0,116,217)"
         },
         "mode": "lines",
         "text": [
          "dominga_papers_pandora_sebastián piñera_acusación constitucional presidente",
          "",
          "",
          "proyecto_cuarto_cámara_gobierno_parlamentarios"
         ],
         "type": "scatter",
         "x": [
          0,
          1.2704201360956753,
          1.2704201360956753,
          1.2140261744164729
         ],
         "xaxis": "x",
         "y": [
          -2495,
          -2495,
          -2510,
          -2510
         ],
         "yaxis": "y"
        },
        {
         "hoverinfo": "text",
         "marker": {
          "color": "rgb(0,116,217)"
         },
         "mode": "lines",
         "text": [
          "dominga_papers_pandora_sebastián piñera_acusación constitucional presidente",
          "",
          "",
          "acusación_proyecto_diputados_piñera_presidente"
         ],
         "type": "scatter",
         "x": [
          1.4639834037217392,
          1.5889118341770736,
          1.5889118341770736,
          1.2704201360956753
         ],
         "xaxis": "x",
         "y": [
          -2443.125,
          -2443.125,
          -2502.5,
          -2502.5
         ],
         "yaxis": "y"
        },
        {
         "hoverinfo": "text",
         "marker": {
          "color": "rgb(0,116,217)"
         },
         "mode": "lines",
         "text": [
          "boric_kast_candidato_josé antonio_apruebo dignidad",
          "",
          "",
          "sichel_boric_kast_18o_indulto"
         ],
         "type": "scatter",
         "x": [
          0,
          1.1427329569080609,
          1.1427329569080609,
          0
         ],
         "xaxis": "x",
         "y": [
          -2555,
          -2555,
          -2565,
          -2565
         ],
         "yaxis": "y"
        },
        {
         "hoverinfo": "text",
         "marker": {
          "color": "rgb(0,116,217)"
         },
         "mode": "lines",
         "text": [
          "boric_kast_josé antonio_franco_programa",
          "",
          "",
          "boric_kast_sichel_antonio kast_debate"
         ],
         "type": "scatter",
         "x": [
          0,
          1.211777330301936,
          1.211777330301936,
          1.1427329569080609
         ],
         "xaxis": "x",
         "y": [
          -2545,
          -2545,
          -2560,
          -2560
         ],
         "yaxis": "y"
        },
        {
         "hoverinfo": "text",
         "marker": {
          "color": "rgb(0,116,217)"
         },
         "mode": "lines",
         "text": [
          "adherentes_boric_kast_siches_ministra",
          "",
          "",
          "boric_kast_sichel_antonio kast_debate"
         ],
         "type": "scatter",
         "x": [
          0,
          1.2718031283485476,
          1.2718031283485476,
          1.211777330301936
         ],
         "xaxis": "x",
         "y": [
          -2535,
          -2535,
          -2552.5,
          -2552.5
         ],
         "yaxis": "y"
        },
        {
         "hoverinfo": "text",
         "marker": {
          "color": "rgb(0,116,217)"
         },
         "mode": "lines",
         "text": [
          "kast_boric_diputado_antonio kast_votó víctimas terrorismo",
          "",
          "",
          "boric_kast_sichel_antonio kast_debate"
         ],
         "type": "scatter",
         "x": [
          0,
          1.3455047466515375,
          1.3455047466515375,
          1.2718031283485476
         ],
         "xaxis": "x",
         "y": [
          -2525,
          -2525,
          -2543.75,
          -2543.75
         ],
         "yaxis": "y"
        },
        {
         "hoverinfo": "text",
         "marker": {
          "color": "rgb(35,205,205)"
         },
         "mode": "lines",
         "text": [
          "kast_boric_josé antonio_sichel_republicano",
          "",
          "",
          "kast_candidato_pen_macron_sichel"
         ],
         "type": "scatter",
         "x": [
          0,
          0.8989309649220205,
          0.8989309649220205,
          0
         ],
         "xaxis": "x",
         "y": [
          -2575,
          -2575,
          -2585,
          -2585
         ],
         "yaxis": "y"
        },
        {
         "hoverinfo": "text",
         "marker": {
          "color": "rgb(0,116,217)"
         },
         "mode": "lines",
         "text": [
          "kast_boric_candidato_sichel_josé antonio",
          "",
          "",
          "sichel_kast_chiloé_boric_creo"
         ],
         "type": "scatter",
         "x": [
          0.8989309649220205,
          1.346836075433238,
          1.346836075433238,
          0
         ],
         "xaxis": "x",
         "y": [
          -2580,
          -2580,
          -2595,
          -2595
         ],
         "yaxis": "y"
        },
        {
         "hoverinfo": "text",
         "marker": {
          "color": "rgb(0,116,217)"
         },
         "mode": "lines",
         "text": [
          "kast_boric_candidato_sichel_josé antonio",
          "",
          "",
          "sichel_kast_chiloé_boric_creo"
         ],
         "type": "scatter",
         "x": [
          1.3455047466515375,
          1.510402853124017,
          1.510402853124017,
          1.346836075433238
         ],
         "xaxis": "x",
         "y": [
          -2534.375,
          -2534.375,
          -2587.5,
          -2587.5
         ],
         "yaxis": "y"
        },
        {
         "hoverinfo": "text",
         "marker": {
          "color": "rgb(0,116,217)"
         },
         "mode": "lines",
         "text": [
          "kast_boric_candidato_sichel_josé antonio",
          "",
          "",
          "sichel_kast_chiloé_boric_creo"
         ],
         "type": "scatter",
         "x": [
          1.5889118341770736,
          1.9827901526977594,
          1.9827901526977594,
          1.510402853124017
         ],
         "xaxis": "x",
         "y": [
          -2472.8125,
          -2472.8125,
          -2560.9375,
          -2560.9375
         ],
         "yaxis": "y"
        },
        {
         "hoverinfo": "text",
         "marker": {
          "color": "rgb(0,116,217)"
         },
         "mode": "lines",
         "text": [
          "servel_noviembre_excusas_nómina_consultaservelcl",
          "",
          "",
          "electoral_apoderados_servel_mesa_votación"
         ],
         "type": "scatter",
         "x": [
          0,
          1.1031735961451452,
          1.1031735961451452,
          0
         ],
         "xaxis": "x",
         "y": [
          -2605,
          -2605,
          -2615,
          -2615
         ],
         "yaxis": "y"
        },
        {
         "hoverinfo": "text",
         "marker": {
          "color": "rgb(0,116,217)"
         },
         "mode": "lines",
         "text": [
          "horas_locales votación_servel_lentitud_san",
          "",
          "",
          "locales votación_servel_transporte_lápiz_director regional servel"
         ],
         "type": "scatter",
         "x": [
          0,
          1.0962358524968934,
          1.0962358524968934,
          0
         ],
         "xaxis": "x",
         "y": [
          -2625,
          -2625,
          -2635,
          -2635
         ],
         "yaxis": "y"
        },
        {
         "hoverinfo": "text",
         "marker": {
          "color": "rgb(0,116,217)"
         },
         "mode": "lines",
         "text": [
          "servel_mesa_electoral_vocal_noviembre",
          "",
          "",
          "locales votación_servel_transporte_horas_rené schmidt"
         ],
         "type": "scatter",
         "x": [
          1.1031735961451452,
          1.2561448775780126,
          1.2561448775780126,
          1.0962358524968934
         ],
         "xaxis": "x",
         "y": [
          -2610,
          -2610,
          -2630,
          -2630
         ],
         "yaxis": "y"
        },
        {
         "hoverinfo": "text",
         "marker": {
          "color": "rgb(0,116,217)"
         },
         "mode": "lines",
         "text": [
          "servel_mesa_electoral_vocal_noviembre",
          "",
          "",
          "servel_electoral_locales votación_mesa_21 noviembre"
         ],
         "type": "scatter",
         "x": [
          1.9827901526977594,
          2.2514694692640846,
          2.2514694692640846,
          1.2561448775780126
         ],
         "xaxis": "x",
         "y": [
          -2516.875,
          -2516.875,
          -2620,
          -2620
         ],
         "yaxis": "y"
        },
        {
         "hoverinfo": "text",
         "marker": {
          "color": "rgb(0,116,217)"
         },
         "mode": "lines",
         "text": [
          "excepción_araucanía_biobío_ataque_provincias",
          "",
          "",
          "servel_electoral_locales votación_mesa_21 noviembre"
         ],
         "type": "scatter",
         "x": [
          1.3953104409781754,
          2.361818073473868,
          2.361818073473868,
          2.2514694692640846
         ],
         "xaxis": "x",
         "y": [
          -2370,
          -2370,
          -2568.4375,
          -2568.4375
         ],
         "yaxis": "y"
        },
        {
         "hoverinfo": "text",
         "marker": {
          "color": "rgb(0,116,217)"
         },
         "mode": "lines",
         "text": [
          "autonomía_constituyente_constitucional_atribuciones_debate",
          "",
          "",
          "chiloé región_chiloé_convención_firmas_15 mil"
         ],
         "type": "scatter",
         "x": [
          0,
          1.1549102463549268,
          1.1549102463549268,
          0
         ],
         "xaxis": "x",
         "y": [
          -2645,
          -2645,
          -2655,
          -2655
         ],
         "yaxis": "y"
        },
        {
         "hoverinfo": "text",
         "marker": {
          "color": "rgb(0,116,217)"
         },
         "mode": "lines",
         "text": [
          "propuestas_educación_normas_jürgensen_maritorio",
          "",
          "",
          "pleno_constitución_convención_norma_artículos"
         ],
         "type": "scatter",
         "x": [
          0,
          1.116266072771839,
          1.116266072771839,
          0
         ],
         "xaxis": "x",
         "y": [
          -2665,
          -2665,
          -2675,
          -2675
         ],
         "yaxis": "y"
        },
        {
         "hoverinfo": "text",
         "marker": {
          "color": "rgb(0,116,217)"
         },
         "mode": "lines",
         "text": [
          "apoyos_normas_pleno_convención constitucional_nueva",
          "",
          "",
          "convención_suprema_expresión_poder judicial_convencional"
         ],
         "type": "scatter",
         "x": [
          1.116266072771839,
          1.2413702872859396,
          1.2413702872859396,
          0
         ],
         "xaxis": "x",
         "y": [
          -2670,
          -2670,
          -2685,
          -2685
         ],
         "yaxis": "y"
        },
        {
         "hoverinfo": "text",
         "marker": {
          "color": "rgb(0,116,217)"
         },
         "mode": "lines",
         "text": [
          "plebiscito_nueva constitución_sistema político_cámara_convencionales",
          "",
          "",
          "convención_comisión sistema político_cámara_pleno_plurinacional"
         ],
         "type": "scatter",
         "x": [
          0,
          1.0773213042934895,
          1.0773213042934895,
          0
         ],
         "xaxis": "x",
         "y": [
          -2695,
          -2695,
          -2705,
          -2705
         ],
         "yaxis": "y"
        },
        {
         "hoverinfo": "text",
         "marker": {
          "color": "rgb(0,116,217)"
         },
         "mode": "lines",
         "text": [
          "comisión forma_pleno_artículo_regional_autonomía",
          "",
          "",
          "pleno_convención constitucional_prórroga tres meses_comisiones_103"
         ],
         "type": "scatter",
         "x": [
          0,
          1.2283123965242742,
          1.2283123965242742,
          0
         ],
         "xaxis": "x",
         "y": [
          -2715,
          -2715,
          -2725,
          -2725
         ],
         "yaxis": "y"
        },
        {
         "hoverinfo": "text",
         "marker": {
          "color": "rgb(0,116,217)"
         },
         "mode": "lines",
         "text": [
          "convención_constitución_cámara_comisión sistema político_plebiscito",
          "",
          "",
          "pleno_convención constitucional_prórroga tres meses_comisiones_103"
         ],
         "type": "scatter",
         "x": [
          1.0773213042934895,
          1.282167968627805,
          1.282167968627805,
          1.2283123965242742
         ],
         "xaxis": "x",
         "y": [
          -2700,
          -2700,
          -2720,
          -2720
         ],
         "yaxis": "y"
        },
        {
         "hoverinfo": "text",
         "marker": {
          "color": "rgb(0,116,217)"
         },
         "mode": "lines",
         "text": [
          "convención_constitución_cámara_comisión sistema político_plebiscito",
          "",
          "",
          "pleno_convención constitucional_prórroga tres meses_comisiones_103"
         ],
         "type": "scatter",
         "x": [
          1.2413702872859396,
          1.347688316785849,
          1.347688316785849,
          1.282167968627805
         ],
         "xaxis": "x",
         "y": [
          -2677.5,
          -2677.5,
          -2710,
          -2710
         ],
         "yaxis": "y"
        },
        {
         "hoverinfo": "text",
         "marker": {
          "color": "rgb(0,116,217)"
         },
         "mode": "lines",
         "text": [
          "chiloé_firmas_15 mil_constituyente_convencionales",
          "",
          "",
          "pleno_convención constitucional_prórroga tres meses_comisiones_103"
         ],
         "type": "scatter",
         "x": [
          1.1549102463549268,
          1.3826049420125892,
          1.3826049420125892,
          1.347688316785849
         ],
         "xaxis": "x",
         "y": [
          -2650,
          -2650,
          -2693.75,
          -2693.75
         ],
         "yaxis": "y"
        },
        {
         "hoverinfo": "text",
         "marker": {
          "color": "rgb(0,116,217)"
         },
         "mode": "lines",
         "text": [
          "chiloé_firmas_15 mil_constituyente_convencionales",
          "",
          "",
          "pleno_nueva constitución_convencionales_derechos_normas"
         ],
         "type": "scatter",
         "x": [
          2.361818073473868,
          2.676743548223132,
          2.676743548223132,
          1.3826049420125892
         ],
         "xaxis": "x",
         "y": [
          -2469.21875,
          -2469.21875,
          -2671.875,
          -2671.875
         ],
         "yaxis": "y"
        },
        {
         "hoverinfo": "text",
         "marker": {
          "color": "rgb(0,116,217)"
         },
         "mode": "lines",
         "text": [
          "chiloé_firmas_15 mil_constituyente_convencionales",
          "",
          "",
          "pleno_nueva constitución_convencionales_derechos_normas"
         ],
         "type": "scatter",
         "x": [
          3.6530548263214158,
          3.938277990350034,
          3.938277990350034,
          2.676743548223132
         ],
         "xaxis": "x",
         "y": [
          -1435.108642578125,
          -1435.108642578125,
          -2570.546875,
          -2570.546875
         ],
         "yaxis": "y"
        },
        {
         "hoverinfo": "text",
         "marker": {
          "color": "rgb(0,116,217)"
         },
         "mode": "lines",
         "text": [
          "colo_fecha_curicó_copiapó_morning",
          "",
          "",
          "partido_huachipato_audax italiano_libertadores_tabla"
         ],
         "type": "scatter",
         "x": [
          0,
          1.0551354477823816,
          1.0551354477823816,
          0
         ],
         "xaxis": "x",
         "y": [
          -2755,
          -2755,
          -2765,
          -2765
         ],
         "yaxis": "y"
        },
        {
         "hoverinfo": "text",
         "marker": {
          "color": "rgb(0,116,217)"
         },
         "mode": "lines",
         "text": [
          "colo_anfp_cuadro_positivo_wanderers",
          "",
          "",
          "partido_huachipato_audax italiano_libertadores_tabla"
         ],
         "type": "scatter",
         "x": [
          0,
          1.1395877056093946,
          1.1395877056093946,
          1.0551354477823816
         ],
         "xaxis": "x",
         "y": [
          -2745,
          -2745,
          -2760,
          -2760
         ],
         "yaxis": "y"
        },
        {
         "hoverinfo": "text",
         "marker": {
          "color": "rgb(0,116,217)"
         },
         "mode": "lines",
         "text": [
          "equipo_colo_dt_partidos_duelo",
          "",
          "",
          "partido_huachipato_audax italiano_libertadores_tabla"
         ],
         "type": "scatter",
         "x": [
          0,
          1.2184816594774759,
          1.2184816594774759,
          1.1395877056093946
         ],
         "xaxis": "x",
         "y": [
          -2735,
          -2735,
          -2752.5,
          -2752.5
         ],
         "yaxis": "y"
        },
        {
         "hoverinfo": "text",
         "marker": {
          "color": "rgb(61,153,112)"
         },
         "mode": "lines",
         "text": [
          "palestino_remató_partido_unión española_azules",
          "",
          "",
          "colo_gol_arco_palo_área"
         ],
         "type": "scatter",
         "x": [
          0,
          0.9834027205662466,
          0.9834027205662466,
          0
         ],
         "xaxis": "x",
         "y": [
          -2775,
          -2775,
          -2785,
          -2785
         ],
         "yaxis": "y"
        },
        {
         "hoverinfo": "text",
         "marker": {
          "color": "rgb(0,116,217)"
         },
         "mode": "lines",
         "text": [
          "minutos_área_palestino_partido_uc",
          "",
          "",
          "gol_lucero_primer tiempo_gustavo quinteros_alianza lima"
         ],
         "type": "scatter",
         "x": [
          0.9834027205662466,
          1.2173045471286268,
          1.2173045471286268,
          0
         ],
         "xaxis": "x",
         "y": [
          -2780,
          -2780,
          -2795,
          -2795
         ],
         "yaxis": "y"
        },
        {
         "hoverinfo": "text",
         "marker": {
          "color": "rgb(0,116,217)"
         },
         "mode": "lines",
         "text": [
          "colo_universidad chile_campeonato nacional_paulucci_católica",
          "",
          "",
          "colo_jugador_roggiero_álvaro brun_universidad católica"
         ],
         "type": "scatter",
         "x": [
          0,
          1.1352631474242172,
          1.1352631474242172,
          0
         ],
         "xaxis": "x",
         "y": [
          -2815,
          -2815,
          -2825,
          -2825
         ],
         "yaxis": "y"
        },
        {
         "hoverinfo": "text",
         "marker": {
          "color": "rgb(0,116,217)"
         },
         "mode": "lines",
         "text": [
          "colo_esteban valencia_cristián_primer equipo_azules",
          "",
          "",
          "colo_jugador_roggiero_álvaro brun_universidad católica"
         ],
         "type": "scatter",
         "x": [
          0,
          1.2343344825312086,
          1.2343344825312086,
          1.1352631474242172
         ],
         "xaxis": "x",
         "y": [
          -2805,
          -2805,
          -2820,
          -2820
         ],
         "yaxis": "y"
        },
        {
         "hoverinfo": "text",
         "marker": {
          "color": "rgb(0,116,217)"
         },
         "mode": "lines",
         "text": [
          "colo_esteban valencia_cristián_primer equipo_azules",
          "",
          "",
          "club_mairena_volante_refuerzo_lobos"
         ],
         "type": "scatter",
         "x": [
          1.2343344825312086,
          1.3019270291836893,
          1.3019270291836893,
          0
         ],
         "xaxis": "x",
         "y": [
          -2812.5,
          -2812.5,
          -2835,
          -2835
         ],
         "yaxis": "y"
        },
        {
         "hoverinfo": "text",
         "marker": {
          "color": "rgb(0,116,217)"
         },
         "mode": "lines",
         "text": [
          "colo_esteban valencia_cristián_primer equipo_azules",
          "",
          "",
          "club_mairena_volante_refuerzo_lobos"
         ],
         "type": "scatter",
         "x": [
          1.2173045471286268,
          1.5039244218722203,
          1.5039244218722203,
          1.3019270291836893
         ],
         "xaxis": "x",
         "y": [
          -2787.5,
          -2787.5,
          -2823.75,
          -2823.75
         ],
         "yaxis": "y"
        },
        {
         "hoverinfo": "text",
         "marker": {
          "color": "rgb(0,116,217)"
         },
         "mode": "lines",
         "text": [
          "colo_esteban valencia_cristián_primer equipo_azules",
          "",
          "",
          "club_mairena_volante_refuerzo_lobos"
         ],
         "type": "scatter",
         "x": [
          1.2184816594774759,
          1.5679496312513514,
          1.5679496312513514,
          1.5039244218722203
         ],
         "xaxis": "x",
         "y": [
          -2743.75,
          -2743.75,
          -2805.625,
          -2805.625
         ],
         "yaxis": "y"
        },
        {
         "hoverinfo": "text",
         "marker": {
          "color": "rgb(0,116,217)"
         },
         "mode": "lines",
         "text": [
          "deportes puerto montt_chinquihue_hinchas_ranco_rengo",
          "",
          "",
          "melipilla_provincial_anfp_tercera división_copiapó"
         ],
         "type": "scatter",
         "x": [
          0,
          1.2916537193866218,
          1.2916537193866218,
          0
         ],
         "xaxis": "x",
         "y": [
          -2845,
          -2845,
          -2855,
          -2855
         ],
         "yaxis": "y"
        },
        {
         "hoverinfo": "text",
         "marker": {
          "color": "rgb(0,116,217)"
         },
         "mode": "lines",
         "text": [
          "tobar_castrilli_zampedri_var_colo",
          "",
          "",
          "sanción_anfp_calama_arturo_tres partidos"
         ],
         "type": "scatter",
         "x": [
          0,
          1.3050516502222216,
          1.3050516502222216,
          0
         ],
         "xaxis": "x",
         "y": [
          -2865,
          -2865,
          -2875,
          -2875
         ],
         "yaxis": "y"
        },
        {
         "hoverinfo": "text",
         "marker": {
          "color": "rgb(0,116,217)"
         },
         "mode": "lines",
         "text": [
          "tobar_castrilli_zampedri_var_colo",
          "",
          "",
          "sanción_anfp_calama_arturo_tres partidos"
         ],
         "type": "scatter",
         "x": [
          1.2916537193866218,
          1.4304352732195558,
          1.4304352732195558,
          1.3050516502222216
         ],
         "xaxis": "x",
         "y": [
          -2850,
          -2850,
          -2870,
          -2870
         ],
         "yaxis": "y"
        },
        {
         "hoverinfo": "text",
         "marker": {
          "color": "rgb(0,116,217)"
         },
         "mode": "lines",
         "text": [
          "qatar_mundial_grupo_dinamarca_escocia",
          "",
          "",
          "fase_copa libertadores_conmebol_grupos_audax italiano"
         ],
         "type": "scatter",
         "x": [
          0,
          1.2451093097896089,
          1.2451093097896089,
          0
         ],
         "xaxis": "x",
         "y": [
          -2895,
          -2895,
          -2905,
          -2905
         ],
         "yaxis": "y"
        },
        {
         "hoverinfo": "text",
         "marker": {
          "color": "rgb(0,116,217)"
         },
         "mode": "lines",
         "text": [
          "paraguay_catar_mundial_ecuador_victorias",
          "",
          "",
          "qatar_mundial_copa_conmebol_dinamarca"
         ],
         "type": "scatter",
         "x": [
          0,
          1.2858005206234298,
          1.2858005206234298,
          1.2451093097896089
         ],
         "xaxis": "x",
         "y": [
          -2885,
          -2885,
          -2900,
          -2900
         ],
         "yaxis": "y"
        },
        {
         "hoverinfo": "text",
         "marker": {
          "color": "rgb(0,116,217)"
         },
         "mode": "lines",
         "text": [
          "paraguay_catar_mundial_ecuador_victorias",
          "",
          "",
          "colo_santiago morning_torneo_isidora_paranaense"
         ],
         "type": "scatter",
         "x": [
          1.2858005206234298,
          1.3156256718820802,
          1.3156256718820802,
          0
         ],
         "xaxis": "x",
         "y": [
          -2892.5,
          -2892.5,
          -2915,
          -2915
         ],
         "yaxis": "y"
        },
        {
         "hoverinfo": "text",
         "marker": {
          "color": "rgb(0,116,217)"
         },
         "mode": "lines",
         "text": [
          "paraguay_catar_mundial_ecuador_victorias",
          "",
          "",
          "colo_santiago morning_torneo_isidora_paranaense"
         ],
         "type": "scatter",
         "x": [
          1.4304352732195558,
          1.5515613299031805,
          1.5515613299031805,
          1.3156256718820802
         ],
         "xaxis": "x",
         "y": [
          -2860,
          -2860,
          -2903.75,
          -2903.75
         ],
         "yaxis": "y"
        },
        {
         "hoverinfo": "text",
         "marker": {
          "color": "rgb(0,116,217)"
         },
         "mode": "lines",
         "text": [
          "roja_lasarte_aránguiz_selección chilena_charles aránguiz",
          "",
          "",
          "bravo_lasarte_copa américa_martín lasarte_vidal"
         ],
         "type": "scatter",
         "x": [
          0,
          1.1120209612085814,
          1.1120209612085814,
          0
         ],
         "xaxis": "x",
         "y": [
          -2935,
          -2935,
          -2945,
          -2945
         ],
         "yaxis": "y"
        },
        {
         "hoverinfo": "text",
         "marker": {
          "color": "rgb(0,116,217)"
         },
         "mode": "lines",
         "text": [
          "brereton_blackburn_ben_mowbray_lesión",
          "",
          "",
          "lasarte_aránguiz_selección chilena_martín lasarte_brasil"
         ],
         "type": "scatter",
         "x": [
          0,
          1.2138150165384214,
          1.2138150165384214,
          1.1120209612085814
         ],
         "xaxis": "x",
         "y": [
          -2925,
          -2925,
          -2940,
          -2940
         ],
         "yaxis": "y"
        },
        {
         "hoverinfo": "text",
         "marker": {
          "color": "rgb(0,116,217)"
         },
         "mode": "lines",
         "text": [
          "roja_ben_selección chilena_martín lasarte_duelo",
          "",
          "",
          "lasarte_roja_colombia_suazo_aferra últimas"
         ],
         "type": "scatter",
         "x": [
          1.2138150165384214,
          1.245758359883176,
          1.245758359883176,
          0
         ],
         "xaxis": "x",
         "y": [
          -2932.5,
          -2932.5,
          -2955,
          -2955
         ],
         "yaxis": "y"
        },
        {
         "hoverinfo": "text",
         "marker": {
          "color": "rgb(0,116,217)"
         },
         "mode": "lines",
         "text": [
          "lasarte_brereton_martín lasarte_ben_selección chilena",
          "",
          "",
          "selección_lasarte_roja_sorpresas_méxico"
         ],
         "type": "scatter",
         "x": [
          1.245758359883176,
          1.2890014688403173,
          1.2890014688403173,
          0
         ],
         "xaxis": "x",
         "y": [
          -2943.75,
          -2943.75,
          -2965,
          -2965
         ],
         "yaxis": "y"
        },
        {
         "hoverinfo": "text",
         "marker": {
          "color": "rgb(0,116,217)"
         },
         "mode": "lines",
         "text": [
          "lasarte_brereton_martín lasarte_ben_selección chilena",
          "",
          "",
          "selección_lasarte_roja_sorpresas_méxico"
         ],
         "type": "scatter",
         "x": [
          1.5515613299031805,
          1.6773341871097496,
          1.6773341871097496,
          1.2890014688403173
         ],
         "xaxis": "x",
         "y": [
          -2881.875,
          -2881.875,
          -2954.375,
          -2954.375
         ],
         "yaxis": "y"
        },
        {
         "hoverinfo": "text",
         "marker": {
          "color": "rgb(255,65,54)"
         },
         "mode": "lines",
         "text": [
          "pellegrini_champions_europa league_madrid_bravo",
          "",
          "",
          "inter_minutos_goles_vidal_puntos"
         ],
         "type": "scatter",
         "x": [
          0,
          0.917658450782157,
          0.917658450782157,
          0
         ],
         "xaxis": "x",
         "y": [
          -2975,
          -2975,
          -2985,
          -2985
         ],
         "yaxis": "y"
        },
        {
         "hoverinfo": "text",
         "marker": {
          "color": "rgb(0,116,217)"
         },
         "mode": "lines",
         "text": [
          "inter_entrenador_leeds_euros_premier",
          "",
          "",
          "alexis_inter_medios italianos_nota_lautaro martínez"
         ],
         "type": "scatter",
         "x": [
          0,
          1.2401867421232777,
          1.2401867421232777,
          0
         ],
         "xaxis": "x",
         "y": [
          -2995,
          -2995,
          -3005,
          -3005
         ],
         "yaxis": "y"
        },
        {
         "hoverinfo": "text",
         "marker": {
          "color": "rgb(0,116,217)"
         },
         "mode": "lines",
         "text": [
          "inter_champions_real_madrid_final",
          "",
          "",
          "alexis_inter_medios italianos_nota_lautaro martínez"
         ],
         "type": "scatter",
         "x": [
          0.917658450782157,
          1.3924548219858681,
          1.3924548219858681,
          1.2401867421232777
         ],
         "xaxis": "x",
         "y": [
          -2980,
          -2980,
          -3000,
          -3000
         ],
         "yaxis": "y"
        },
        {
         "hoverinfo": "text",
         "marker": {
          "color": "rgb(0,116,217)"
         },
         "mode": "lines",
         "text": [
          "inter_champions_real_madrid_final",
          "",
          "",
          "alexis_inter_medios italianos_nota_lautaro martínez"
         ],
         "type": "scatter",
         "x": [
          1.6773341871097496,
          1.8423208674285012,
          1.8423208674285012,
          1.3924548219858681
         ],
         "xaxis": "x",
         "y": [
          -2918.125,
          -2918.125,
          -2990,
          -2990
         ],
         "yaxis": "y"
        },
        {
         "hoverinfo": "text",
         "marker": {
          "color": "rgb(0,116,217)"
         },
         "mode": "lines",
         "text": [
          "inter_champions_real_madrid_final",
          "",
          "",
          "alexis_inter_medios italianos_nota_lautaro martínez"
         ],
         "type": "scatter",
         "x": [
          1.5679496312513514,
          2.354940720970548,
          2.354940720970548,
          1.8423208674285012
         ],
         "xaxis": "x",
         "y": [
          -2774.6875,
          -2774.6875,
          -2954.0625,
          -2954.0625
         ],
         "yaxis": "y"
        },
        {
         "hoverinfo": "text",
         "marker": {
          "color": "rgb(0,116,217)"
         },
         "mode": "lines",
         "text": [
          "atlético puerto_cdo_rebotes_cdo by cecinas_ceb",
          "",
          "",
          "aba_copa chile_deportes castro_horas_club deportivo"
         ],
         "type": "scatter",
         "x": [
          0,
          1.0829830043984363,
          1.0829830043984363,
          0
         ],
         "xaxis": "x",
         "y": [
          -3015,
          -3015,
          -3025,
          -3025
         ],
         "yaxis": "y"
        },
        {
         "hoverinfo": "text",
         "marker": {
          "color": "rgb(0,116,217)"
         },
         "mode": "lines",
         "text": [
          "femenina_series_certamen_varas_copa",
          "",
          "",
          "palín_montt_puerto_fútbol amateur_juegos araucanía"
         ],
         "type": "scatter",
         "x": [
          0,
          1.1499964207152833,
          1.1499964207152833,
          0
         ],
         "xaxis": "x",
         "y": [
          -3035,
          -3035,
          -3045,
          -3045
         ],
         "yaxis": "y"
        },
        {
         "hoverinfo": "text",
         "marker": {
          "color": "rgb(0,116,217)"
         },
         "mode": "lines",
         "text": [
          "boxeo_título_pancora_cinturón_velásquez",
          "",
          "",
          "deportista_club_nya_prueba_oro"
         ],
         "type": "scatter",
         "x": [
          0,
          1.1972640326338562,
          1.1972640326338562,
          0
         ],
         "xaxis": "x",
         "y": [
          -3055,
          -3055,
          -3065,
          -3065
         ],
         "yaxis": "y"
        },
        {
         "hoverinfo": "text",
         "marker": {
          "color": "rgb(0,116,217)"
         },
         "mode": "lines",
         "text": [
          "deportistas_km_avosur_recorrido_corredores",
          "",
          "",
          "ancud_deportistas_toros inclusión_mtb_participaci贸n"
         ],
         "type": "scatter",
         "x": [
          0,
          1.3146670946630254,
          1.3146670946630254,
          0
         ],
         "xaxis": "x",
         "y": [
          -3075,
          -3075,
          -3085,
          -3085
         ],
         "yaxis": "y"
        },
        {
         "hoverinfo": "text",
         "marker": {
          "color": "rgb(0,116,217)"
         },
         "mode": "lines",
         "text": [
          "deportistas_km_avosur_recorrido_corredores",
          "",
          "",
          "ancud_deportistas_toros inclusión_mtb_participaci贸n"
         ],
         "type": "scatter",
         "x": [
          1.1972640326338562,
          1.349678615828033,
          1.349678615828033,
          1.3146670946630254
         ],
         "xaxis": "x",
         "y": [
          -3060,
          -3060,
          -3080,
          -3080
         ],
         "yaxis": "y"
        },
        {
         "hoverinfo": "text",
         "marker": {
          "color": "rgb(0,116,217)"
         },
         "mode": "lines",
         "text": [
          "fútbol_rama_certamen_montt_series",
          "",
          "",
          "ancud_deportistas_toros inclusión_mtb_participaci贸n"
         ],
         "type": "scatter",
         "x": [
          1.1499964207152833,
          1.446650120917862,
          1.446650120917862,
          1.349678615828033
         ],
         "xaxis": "x",
         "y": [
          -3040,
          -3040,
          -3070,
          -3070
         ],
         "yaxis": "y"
        },
        {
         "hoverinfo": "text",
         "marker": {
          "color": "rgb(0,116,217)"
         },
         "mode": "lines",
         "text": [
          "aba_atlético puerto_copa_ánimas_puntos",
          "",
          "",
          "ancud_deportistas_toros inclusión_mtb_participaci贸n"
         ],
         "type": "scatter",
         "x": [
          1.0829830043984363,
          1.717807720270264,
          1.717807720270264,
          1.446650120917862
         ],
         "xaxis": "x",
         "y": [
          -3020,
          -3020,
          -3055,
          -3055
         ],
         "yaxis": "y"
        },
        {
         "hoverinfo": "text",
         "marker": {
          "color": "rgb(35,205,205)"
         },
         "mode": "lines",
         "text": [
          "400_medallas_metros vallas tiempo_bustamante_arami",
          "",
          "",
          "metros_juegos_planos_medallas oro_categoría"
         ],
         "type": "scatter",
         "x": [
          0,
          0.926952836335774,
          0.926952836335774,
          0
         ],
         "xaxis": "x",
         "y": [
          -3095,
          -3095,
          -3105,
          -3105
         ],
         "yaxis": "y"
        },
        {
         "hoverinfo": "text",
         "marker": {
          "color": "rgb(0,116,217)"
         },
         "mode": "lines",
         "text": [
          "bío_asociación_araucanía_4x_varones",
          "",
          "",
          "araucanía_juegos araucanía_araucanía 2021_puntos frente_chilenas"
         ],
         "type": "scatter",
         "x": [
          0,
          1.2717755569651885,
          1.2717755569651885,
          0
         ],
         "xaxis": "x",
         "y": [
          -3115,
          -3115,
          -3125,
          -3125
         ],
         "yaxis": "y"
        },
        {
         "hoverinfo": "text",
         "marker": {
          "color": "rgb(0,116,217)"
         },
         "mode": "lines",
         "text": [
          "planos_juegos_400_medallas oro_araucanía",
          "",
          "",
          "araucanía_juegos araucanía_araucanía 2021_puntos frente_chilenas"
         ],
         "type": "scatter",
         "x": [
          0.926952836335774,
          1.4576408314613372,
          1.4576408314613372,
          1.2717755569651885
         ],
         "xaxis": "x",
         "y": [
          -3100,
          -3100,
          -3120,
          -3120
         ],
         "yaxis": "y"
        },
        {
         "hoverinfo": "text",
         "marker": {
          "color": "rgb(0,116,217)"
         },
         "mode": "lines",
         "text": [
          "juegos deportivos escolares_mindep_sub_tenis_ind",
          "",
          "",
          "ind_mindep_física_actividad_deporte participación social"
         ],
         "type": "scatter",
         "x": [
          0,
          1.1374407699099076,
          1.1374407699099076,
          0
         ],
         "xaxis": "x",
         "y": [
          -3145,
          -3145,
          -3155,
          -3155
         ],
         "yaxis": "y"
        },
        {
         "hoverinfo": "text",
         "marker": {
          "color": "rgb(0,116,217)"
         },
         "mode": "lines",
         "text": [
          "fondeporte 2022_fondeporte_26 proyectos_deportivos_organizaciones",
          "",
          "",
          "mindep_deportivos_actividad_física_escolares"
         ],
         "type": "scatter",
         "x": [
          0,
          1.3101868087065012,
          1.3101868087065012,
          1.1374407699099076
         ],
         "xaxis": "x",
         "y": [
          -3135,
          -3135,
          -3150,
          -3150
         ],
         "yaxis": "y"
        },
        {
         "hoverinfo": "text",
         "marker": {
          "color": "rgb(0,116,217)"
         },
         "mode": "lines",
         "text": [
          "ind_mindep_lindemann_juegos deportivos escolares_actividad",
          "",
          "",
          "fútbol femenino universidad_deportes región lagos_quiero_colodep_consejo local"
         ],
         "type": "scatter",
         "x": [
          1.3101868087065012,
          1.3674225769240411,
          1.3674225769240411,
          0
         ],
         "xaxis": "x",
         "y": [
          -3142.5,
          -3142.5,
          -3165,
          -3165
         ],
         "yaxis": "y"
        },
        {
         "hoverinfo": "text",
         "marker": {
          "color": "rgb(0,116,217)"
         },
         "mode": "lines",
         "text": [
          "ind_mindep_lindemann_juegos deportivos escolares_actividad",
          "",
          "",
          "ind_mindep_deportiva_lindemann_deporte claus lindemann"
         ],
         "type": "scatter",
         "x": [
          1.4576408314613372,
          1.8051606617059033,
          1.8051606617059033,
          1.3674225769240411
         ],
         "xaxis": "x",
         "y": [
          -3110,
          -3110,
          -3153.75,
          -3153.75
         ],
         "yaxis": "y"
        },
        {
         "hoverinfo": "text",
         "marker": {
          "color": "rgb(0,116,217)"
         },
         "mode": "lines",
         "text": [
          "ind_mindep_lindemann_juegos deportivos escolares_actividad",
          "",
          "",
          "ind_mindep_deportiva_lindemann_deporte claus lindemann"
         ],
         "type": "scatter",
         "x": [
          1.717807720270264,
          2.1375547792474907,
          2.1375547792474907,
          1.8051606617059033
         ],
         "xaxis": "x",
         "y": [
          -3037.5,
          -3037.5,
          -3131.875,
          -3131.875
         ],
         "yaxis": "y"
        },
        {
         "hoverinfo": "text",
         "marker": {
          "color": "rgb(0,116,217)"
         },
         "mode": "lines",
         "text": [
          "fica_bombo_jaivas_humorista_brujas",
          "",
          "",
          "musicales_chora_competencia_cueca_hualaihué"
         ],
         "type": "scatter",
         "x": [
          0,
          1.2399685620341039,
          1.2399685620341039,
          0
         ],
         "xaxis": "x",
         "y": [
          -3175,
          -3175,
          -3185,
          -3185
         ],
         "yaxis": "y"
        },
        {
         "hoverinfo": "text",
         "marker": {
          "color": "rgb(0,116,217)"
         },
         "mode": "lines",
         "text": [
          "carelmapu_cultural_duelo regional_chiloé_barducci",
          "",
          "",
          "cultura_trayectoria_premio artista regional_emergente_artes"
         ],
         "type": "scatter",
         "x": [
          0,
          1.2700160471288455,
          1.2700160471288455,
          0
         ],
         "xaxis": "x",
         "y": [
          -3195,
          -3195,
          -3205,
          -3205
         ],
         "yaxis": "y"
        },
        {
         "hoverinfo": "text",
         "marker": {
          "color": "rgb(0,116,217)"
         },
         "mode": "lines",
         "text": [
          "carelmapu_cultural_duelo regional_chiloé_barducci",
          "",
          "",
          "hospital puerto montt_escultor_hpm_pandemia_jardín infinito"
         ],
         "type": "scatter",
         "x": [
          1.2700160471288455,
          1.3740704546643494,
          1.3740704546643494,
          0
         ],
         "xaxis": "x",
         "y": [
          -3200,
          -3200,
          -3215,
          -3215
         ],
         "yaxis": "y"
        },
        {
         "hoverinfo": "text",
         "marker": {
          "color": "rgb(0,116,217)"
         },
         "mode": "lines",
         "text": [
          "bombo fica_cueca_competencia_festival osorno leche_jaivas",
          "",
          "",
          "hospital puerto montt_escultor_hpm_pandemia_jardín infinito"
         ],
         "type": "scatter",
         "x": [
          1.2399685620341039,
          1.5336029216752876,
          1.5336029216752876,
          1.3740704546643494
         ],
         "xaxis": "x",
         "y": [
          -3180,
          -3180,
          -3207.5,
          -3207.5
         ],
         "yaxis": "y"
        },
        {
         "hoverinfo": "text",
         "marker": {
          "color": "rgb(0,116,217)"
         },
         "mode": "lines",
         "text": [
          "vacarezza_karen_esposa rafael araneda_doggenweiler_cordero",
          "",
          "",
          "ximena schott_schott_ximena_sacar arma_fernanda nieto"
         ],
         "type": "scatter",
         "x": [
          0,
          1.3883524543392356,
          1.3883524543392356,
          0
         ],
         "xaxis": "x",
         "y": [
          -3225,
          -3225,
          -3235,
          -3235
         ],
         "yaxis": "y"
        },
        {
         "hoverinfo": "text",
         "marker": {
          "color": "rgb(0,116,217)"
         },
         "mode": "lines",
         "text": [
          "raquel_montecarmelo_sello excelencia artesanía_cestería_sogas",
          "",
          "",
          "blanco 324 of_bomberos132 carabineros133_bomberos132_propietario sociedad_investigaciones134 emergencia marítima137"
         ],
         "type": "scatter",
         "x": [
          0,
          1.4158052757588777,
          1.4158052757588777,
          0
         ],
         "xaxis": "x",
         "y": [
          -3245,
          -3245,
          -3255,
          -3255
         ],
         "yaxis": "y"
        },
        {
         "hoverinfo": "text",
         "marker": {
          "color": "rgb(0,116,217)"
         },
         "mode": "lines",
         "text": [
          "raquel_montecarmelo_sello excelencia artesanía_cestería_sogas",
          "",
          "",
          "corea_misil hipersónico_norte_pionyang_japón"
         ],
         "type": "scatter",
         "x": [
          1.4158052757588777,
          1.423472350504511,
          1.423472350504511,
          0
         ],
         "xaxis": "x",
         "y": [
          -3250,
          -3250,
          -3265,
          -3265
         ],
         "yaxis": "y"
        },
        {
         "hoverinfo": "text",
         "marker": {
          "color": "rgb(0,116,217)"
         },
         "mode": "lines",
         "text": [
          "raquel_montecarmelo_sello excelencia artesanía_cestería_sogas",
          "",
          "",
          "corea_misil hipersónico_norte_pionyang_japón"
         ],
         "type": "scatter",
         "x": [
          1.3883524543392356,
          1.437547597080659,
          1.437547597080659,
          1.423472350504511
         ],
         "xaxis": "x",
         "y": [
          -3230,
          -3230,
          -3257.5,
          -3257.5
         ],
         "yaxis": "y"
        },
        {
         "hoverinfo": "text",
         "marker": {
          "color": "rgb(0,116,217)"
         },
         "mode": "lines",
         "text": [
          "arte_obra_gogh_torlonia_lisa",
          "",
          "",
          "beethoven_cantora_compañera viaje_teatro_soffia"
         ],
         "type": "scatter",
         "x": [
          0,
          1.3947508557791461,
          1.3947508557791461,
          0
         ],
         "xaxis": "x",
         "y": [
          -3275,
          -3275,
          -3285,
          -3285
         ],
         "yaxis": "y"
        },
        {
         "hoverinfo": "text",
         "marker": {
          "color": "rgb(0,116,217)"
         },
         "mode": "lines",
         "text": [
          "arte_obra_gogh_torlonia_lisa",
          "",
          "",
          "cultura_aforos_jaivas_vivo_piedra joe"
         ],
         "type": "scatter",
         "x": [
          1.3947508557791461,
          1.3995327741129213,
          1.3995327741129213,
          0
         ],
         "xaxis": "x",
         "y": [
          -3280,
          -3280,
          -3295,
          -3295
         ],
         "yaxis": "y"
        },
        {
         "hoverinfo": "text",
         "marker": {
          "color": "rgb(0,116,217)"
         },
         "mode": "lines",
         "text": [
          "arte_obra_gogh_torlonia_lisa",
          "",
          "",
          "cultura_aforos_jaivas_vivo_piedra joe"
         ],
         "type": "scatter",
         "x": [
          1.437547597080659,
          1.453188125895359,
          1.453188125895359,
          1.3995327741129213
         ],
         "xaxis": "x",
         "y": [
          -3243.75,
          -3243.75,
          -3287.5,
          -3287.5
         ],
         "yaxis": "y"
        },
        {
         "hoverinfo": "text",
         "marker": {
          "color": "rgb(0,116,217)"
         },
         "mode": "lines",
         "text": [
          "hiriart_lucía_dama_apartheid_garretón",
          "",
          "",
          "caszely_isabel ii_carlos_camilla_consorte"
         ],
         "type": "scatter",
         "x": [
          0,
          1.3575535865440156,
          1.3575535865440156,
          0
         ],
         "xaxis": "x",
         "y": [
          -3315,
          -3315,
          -3325,
          -3325
         ],
         "yaxis": "y"
        },
        {
         "hoverinfo": "text",
         "marker": {
          "color": "rgb(0,116,217)"
         },
         "mode": "lines",
         "text": [
          "hiriart_lucía_dama_apartheid_garretón",
          "",
          "",
          "leonel_1962_chile_sifup_aramburu"
         ],
         "type": "scatter",
         "x": [
          1.3575535865440156,
          1.3818868001235558,
          1.3818868001235558,
          0
         ],
         "xaxis": "x",
         "y": [
          -3320,
          -3320,
          -3335,
          -3335
         ],
         "yaxis": "y"
        },
        {
         "hoverinfo": "text",
         "marker": {
          "color": "rgb(0,116,217)"
         },
         "mode": "lines",
         "text": [
          "yarur_weitzler_ex_darío_juan carlos yarur",
          "",
          "",
          "leonel_1962_chile_sifup_aramburu"
         ],
         "type": "scatter",
         "x": [
          0,
          1.3933063386796323,
          1.3933063386796323,
          1.3818868001235558
         ],
         "xaxis": "x",
         "y": [
          -3305,
          -3305,
          -3327.5,
          -3327.5
         ],
         "yaxis": "y"
        },
        {
         "hoverinfo": "text",
         "marker": {
          "color": "rgb(0,116,217)"
         },
         "mode": "lines",
         "text": [
          "yarur_weitzler_ex_darío_juan carlos yarur",
          "",
          "",
          "leonel_1962_chile_sifup_aramburu"
         ],
         "type": "scatter",
         "x": [
          1.453188125895359,
          1.5032567929784764,
          1.5032567929784764,
          1.3933063386796323
         ],
         "xaxis": "x",
         "y": [
          -3265.625,
          -3265.625,
          -3316.25,
          -3316.25
         ],
         "yaxis": "y"
        },
        {
         "hoverinfo": "text",
         "marker": {
          "color": "rgb(0,116,217)"
         },
         "mode": "lines",
         "text": [
          "misa_ramos_santa_vía_inmaculada",
          "",
          "",
          "monseñor_valdés_francisco valdés_dios_catedral san mateo"
         ],
         "type": "scatter",
         "x": [
          0,
          1.2394200220166378,
          1.2394200220166378,
          0
         ],
         "xaxis": "x",
         "y": [
          -3345,
          -3345,
          -3355,
          -3355
         ],
         "yaxis": "y"
        },
        {
         "hoverinfo": "text",
         "marker": {
          "color": "rgb(0,116,217)"
         },
         "mode": "lines",
         "text": [
          "monseñor_fieles_valdés_parroquias_vía crucis",
          "",
          "",
          "sexuales_ratzinger_papa emérito_dimisión_casos"
         ],
         "type": "scatter",
         "x": [
          1.2394200220166378,
          1.3659185642322624,
          1.3659185642322624,
          0
         ],
         "xaxis": "x",
         "y": [
          -3350,
          -3350,
          -3365,
          -3365
         ],
         "yaxis": "y"
        },
        {
         "hoverinfo": "text",
         "marker": {
          "color": "rgb(0,116,217)"
         },
         "mode": "lines",
         "text": [
          "monseñor_fieles_valdés_parroquias_vía crucis",
          "",
          "",
          "monseñor_iglesia católica_papa_ramos_francisco"
         ],
         "type": "scatter",
         "x": [
          1.5032567929784764,
          1.576592399417893,
          1.576592399417893,
          1.3659185642322624
         ],
         "xaxis": "x",
         "y": [
          -3290.9375,
          -3290.9375,
          -3357.5,
          -3357.5
         ],
         "yaxis": "y"
        },
        {
         "hoverinfo": "text",
         "marker": {
          "color": "rgb(0,116,217)"
         },
         "mode": "lines",
         "text": [
          "monseñor_fieles_valdés_parroquias_vía crucis",
          "",
          "",
          "monseñor_iglesia católica_papa_ramos_francisco"
         ],
         "type": "scatter",
         "x": [
          1.5336029216752876,
          1.6040614087928486,
          1.6040614087928486,
          1.576592399417893
         ],
         "xaxis": "x",
         "y": [
          -3193.75,
          -3193.75,
          -3324.21875,
          -3324.21875
         ],
         "yaxis": "y"
        },
        {
         "hoverinfo": "text",
         "marker": {
          "color": "rgb(0,116,217)"
         },
         "mode": "lines",
         "text": [
          "djokovic_novak_serbio_nole_vacunado",
          "",
          "",
          "tabilo_garin_jarry_64_63"
         ],
         "type": "scatter",
         "x": [
          0,
          1.1301285783758113,
          1.1301285783758113,
          0
         ],
         "xaxis": "x",
         "y": [
          -3375,
          -3375,
          -3385,
          -3385
         ],
         "yaxis": "y"
        },
        {
         "hoverinfo": "text",
         "marker": {
          "color": "rgb(0,116,217)"
         },
         "mode": "lines",
         "text": [
          "rally_cornejo_general_sunderland_ligeros",
          "",
          "",
          "r2_pérez_rc4_categoría_segundo"
         ],
         "type": "scatter",
         "x": [
          0,
          1.1636973927101304,
          1.1636973927101304,
          0
         ],
         "xaxis": "x",
         "y": [
          -3405,
          -3405,
          -3415,
          -3415
         ],
         "yaxis": "y"
        },
        {
         "hoverinfo": "text",
         "marker": {
          "color": "rgb(0,116,217)"
         },
         "mode": "lines",
         "text": [
          "verstappen_gran premio_leclerc_neerlandés_mercedes",
          "",
          "",
          "rally_cornejo_categoría_segundo_r2"
         ],
         "type": "scatter",
         "x": [
          0,
          1.3433257777410417,
          1.3433257777410417,
          1.1636973927101304
         ],
         "xaxis": "x",
         "y": [
          -3395,
          -3395,
          -3410,
          -3410
         ],
         "yaxis": "y"
        },
        {
         "hoverinfo": "text",
         "marker": {
          "color": "rgb(0,116,217)"
         },
         "mode": "lines",
         "text": [
          "niemann_joaquín niemann_augusta_golf_woods",
          "",
          "",
          "endler_christiane endler_christiane_lyon_iffhs"
         ],
         "type": "scatter",
         "x": [
          0,
          1.3954001427732263,
          1.3954001427732263,
          0
         ],
         "xaxis": "x",
         "y": [
          -3435,
          -3435,
          -3445,
          -3445
         ],
         "yaxis": "y"
        },
        {
         "hoverinfo": "text",
         "marker": {
          "color": "rgb(0,116,217)"
         },
         "mode": "lines",
         "text": [
          "rancagua_rienda_caballos_asociación_mohr",
          "",
          "",
          "endler_christiane endler_christiane_lyon_iffhs"
         ],
         "type": "scatter",
         "x": [
          0,
          1.4104565427221123,
          1.4104565427221123,
          1.3954001427732263
         ],
         "xaxis": "x",
         "y": [
          -3425,
          -3425,
          -3440,
          -3440
         ],
         "yaxis": "y"
        },
        {
         "hoverinfo": "text",
         "marker": {
          "color": "rgb(0,116,217)"
         },
         "mode": "lines",
         "text": [
          "rancagua_rienda_caballos_asociación_mohr",
          "",
          "",
          "endler_christiane endler_christiane_lyon_iffhs"
         ],
         "type": "scatter",
         "x": [
          1.3433257777410417,
          1.4806861896611314,
          1.4806861896611314,
          1.4104565427221123
         ],
         "xaxis": "x",
         "y": [
          -3402.5,
          -3402.5,
          -3432.5,
          -3432.5
         ],
         "yaxis": "y"
        },
        {
         "hoverinfo": "text",
         "marker": {
          "color": "rgb(0,116,217)"
         },
         "mode": "lines",
         "text": [
          "djokovic_tabilo_garin_jarry_novak",
          "",
          "",
          "endler_christiane endler_christiane_lyon_iffhs"
         ],
         "type": "scatter",
         "x": [
          1.1301285783758113,
          1.6015988107894805,
          1.6015988107894805,
          1.4806861896611314
         ],
         "xaxis": "x",
         "y": [
          -3380,
          -3380,
          -3417.5,
          -3417.5
         ],
         "yaxis": "y"
        },
        {
         "hoverinfo": "text",
         "marker": {
          "color": "rgb(0,116,217)"
         },
         "mode": "lines",
         "text": [
          "djokovic_tabilo_garin_jarry_novak",
          "",
          "",
          "endler_christiane endler_christiane_lyon_iffhs"
         ],
         "type": "scatter",
         "x": [
          1.6040614087928486,
          1.8281286548954105,
          1.8281286548954105,
          1.6015988107894805
         ],
         "xaxis": "x",
         "y": [
          -3258.984375,
          -3258.984375,
          -3398.75,
          -3398.75
         ],
         "yaxis": "y"
        },
        {
         "hoverinfo": "text",
         "marker": {
          "color": "rgb(0,116,217)"
         },
         "mode": "lines",
         "text": [
          "wimbledon_itf_federación_invasión_fútbol",
          "",
          "",
          "millones_refugiados ucranianos_onu_afganistán_moldavia"
         ],
         "type": "scatter",
         "x": [
          0,
          1.3348618182572143,
          1.3348618182572143,
          0
         ],
         "xaxis": "x",
         "y": [
          -3455,
          -3455,
          -3465,
          -3465
         ],
         "yaxis": "y"
        },
        {
         "hoverinfo": "text",
         "marker": {
          "color": "rgb(0,116,217)"
         },
         "mode": "lines",
         "text": [
          "canal mancha_unido_naufragio_johnson_cruzar frontera",
          "",
          "",
          "downing street_downing_boris_fiestas_peng"
         ],
         "type": "scatter",
         "x": [
          0,
          1.2901156338061142,
          1.2901156338061142,
          0
         ],
         "xaxis": "x",
         "y": [
          -3475,
          -3475,
          -3485,
          -3485
         ],
         "yaxis": "y"
        },
        {
         "hoverinfo": "text",
         "marker": {
          "color": "rgb(0,116,217)"
         },
         "mode": "lines",
         "text": [
          "taiwán_pekín_soberanía_argentina_xi",
          "",
          "",
          "kazajistán_almaty_siria_rehenes_primer ministro"
         ],
         "type": "scatter",
         "x": [
          0,
          1.333171691706836,
          1.333171691706836,
          0
         ],
         "xaxis": "x",
         "y": [
          -3495,
          -3495,
          -3505,
          -3505
         ],
         "yaxis": "y"
        },
        {
         "hoverinfo": "text",
         "marker": {
          "color": "rgb(0,116,217)"
         },
         "mode": "lines",
         "text": [
          "downing_boris_fiestas_reino unido_starmer",
          "",
          "",
          "kazajistán_almaty_siria_rehenes_primer ministro"
         ],
         "type": "scatter",
         "x": [
          1.2901156338061142,
          1.3657737210411964,
          1.3657737210411964,
          1.333171691706836
         ],
         "xaxis": "x",
         "y": [
          -3480,
          -3480,
          -3500,
          -3500
         ],
         "yaxis": "y"
        },
        {
         "hoverinfo": "text",
         "marker": {
          "color": "rgb(0,116,217)"
         },
         "mode": "lines",
         "text": [
          "downing_boris_fiestas_reino unido_starmer",
          "",
          "",
          "kazajistán_almaty_siria_rehenes_primer ministro"
         ],
         "type": "scatter",
         "x": [
          1.3348618182572143,
          1.439081877680949,
          1.439081877680949,
          1.3657737210411964
         ],
         "xaxis": "x",
         "y": [
          -3460,
          -3460,
          -3490,
          -3490
         ],
         "yaxis": "y"
        },
        {
         "hoverinfo": "text",
         "marker": {
          "color": "rgb(0,116,217)"
         },
         "mode": "lines",
         "text": [
          "escazú_acuerdo escazú_democracia_cumbre américas_américa latina caribe",
          "",
          "",
          "boric_argentina_escazú_relaciones diplomáticas_celac"
         ],
         "type": "scatter",
         "x": [
          0,
          1.2948912093147675,
          1.2948912093147675,
          0
         ],
         "xaxis": "x",
         "y": [
          -3525,
          -3525,
          -3535,
          -3535
         ],
         "yaxis": "y"
        },
        {
         "hoverinfo": "text",
         "marker": {
          "color": "rgb(0,116,217)"
         },
         "mode": "lines",
         "text": [
          "escazú_acuerdo escazú_democracia_cumbre américas_américa latina caribe",
          "",
          "",
          "electoral_daniel ortega_sandinista_legitimidad_asamblea nacional"
         ],
         "type": "scatter",
         "x": [
          1.2948912093147675,
          1.3483205014255666,
          1.3483205014255666,
          0
         ],
         "xaxis": "x",
         "y": [
          -3530,
          -3530,
          -3545,
          -3545
         ],
         "yaxis": "y"
        },
        {
         "hoverinfo": "text",
         "marker": {
          "color": "rgb(0,116,217)"
         },
         "mode": "lines",
         "text": [
          "silala_alegatos orales_corte_agente_río internacional",
          "",
          "",
          "electoral_daniel ortega_sandinista_legitimidad_asamblea nacional"
         ],
         "type": "scatter",
         "x": [
          0,
          1.377271053915381,
          1.377271053915381,
          1.3483205014255666
         ],
         "xaxis": "x",
         "y": [
          -3515,
          -3515,
          -3537.5,
          -3537.5
         ],
         "yaxis": "y"
        },
        {
         "hoverinfo": "text",
         "marker": {
          "color": "rgb(0,116,217)"
         },
         "mode": "lines",
         "text": [
          "scholz_spd_testera_elizalde_ossandón",
          "",
          "",
          "karina oliva_servel_ciper_137 millones_apruebo"
         ],
         "type": "scatter",
         "x": [
          0,
          1.3774601930726686,
          1.3774601930726686,
          0
         ],
         "xaxis": "x",
         "y": [
          -3565,
          -3565,
          -3575,
          -3575
         ],
         "yaxis": "y"
        },
        {
         "hoverinfo": "text",
         "marker": {
          "color": "rgb(0,116,217)"
         },
         "mode": "lines",
         "text": [
          "cores_elecciones chile_21 noviembre_candidatos consejeros regionales_circunscripción",
          "",
          "",
          "karina oliva_servel_ciper_137 millones_apruebo"
         ],
         "type": "scatter",
         "x": [
          0,
          1.4236303257852123,
          1.4236303257852123,
          1.3774601930726686
         ],
         "xaxis": "x",
         "y": [
          -3555,
          -3555,
          -3570,
          -3570
         ],
         "yaxis": "y"
        },
        {
         "hoverinfo": "text",
         "marker": {
          "color": "rgb(0,116,217)"
         },
         "mode": "lines",
         "text": [
          "parejas_sexo_civil_iguales_ley matrimonio igualitario",
          "",
          "",
          "cédulas_identidad_oficinas_tótem_ministro justicia"
         ],
         "type": "scatter",
         "x": [
          0,
          1.3350782469991105,
          1.3350782469991105,
          0
         ],
         "xaxis": "x",
         "y": [
          -3585,
          -3585,
          -3595,
          -3595
         ],
         "yaxis": "y"
        },
        {
         "hoverinfo": "text",
         "marker": {
          "color": "rgb(0,116,217)"
         },
         "mode": "lines",
         "text": [
          "parejas_sexo_civil_iguales_ley matrimonio igualitario",
          "",
          "",
          "registro civil_parejas_sexo_iguales_amor"
         ],
         "type": "scatter",
         "x": [
          1.4236303257852123,
          1.482194699861463,
          1.482194699861463,
          1.3350782469991105
         ],
         "xaxis": "x",
         "y": [
          -3562.5,
          -3562.5,
          -3590,
          -3590
         ],
         "yaxis": "y"
        },
        {
         "hoverinfo": "text",
         "marker": {
          "color": "rgb(0,116,217)"
         },
         "mode": "lines",
         "text": [
          "parejas_sexo_civil_iguales_ley matrimonio igualitario",
          "",
          "",
          "registro civil_parejas_sexo_iguales_amor"
         ],
         "type": "scatter",
         "x": [
          1.377271053915381,
          1.5172063455167857,
          1.5172063455167857,
          1.482194699861463
         ],
         "xaxis": "x",
         "y": [
          -3526.25,
          -3526.25,
          -3576.25,
          -3576.25
         ],
         "yaxis": "y"
        },
        {
         "hoverinfo": "text",
         "marker": {
          "color": "rgb(0,116,217)"
         },
         "mode": "lines",
         "text": [
          "documentos_bannon_expresidente_donald_fujimori",
          "",
          "",
          "cabo verde_maduro_fujimori_expresidente_venezuela"
         ],
         "type": "scatter",
         "x": [
          0,
          1.327470887276598,
          1.327470887276598,
          0
         ],
         "xaxis": "x",
         "y": [
          -3615,
          -3615,
          -3625,
          -3625
         ],
         "yaxis": "y"
        },
        {
         "hoverinfo": "text",
         "marker": {
          "color": "rgb(0,116,217)"
         },
         "mode": "lines",
         "text": [
          "saab_expresidente_fujimori_capitolio_maduro",
          "",
          "",
          "pandora papers_paraísos fiscales_millones dólares_islas vírgenes británicas_suisse"
         ],
         "type": "scatter",
         "x": [
          1.327470887276598,
          1.3944802357253325,
          1.3944802357253325,
          0
         ],
         "xaxis": "x",
         "y": [
          -3620,
          -3620,
          -3635,
          -3635
         ],
         "yaxis": "y"
        },
        {
         "hoverinfo": "text",
         "marker": {
          "color": "rgb(0,116,217)"
         },
         "mode": "lines",
         "text": [
          "semanas gestación_clínicas_1973_ley texas_facultativos",
          "",
          "",
          "pandora papers_paraísos fiscales_millones dólares_islas vírgenes británicas_suisse"
         ],
         "type": "scatter",
         "x": [
          0,
          1.4058941142725834,
          1.4058941142725834,
          1.3944802357253325
         ],
         "xaxis": "x",
         "y": [
          -3605,
          -3605,
          -3627.5,
          -3627.5
         ],
         "yaxis": "y"
        },
        {
         "hoverinfo": "text",
         "marker": {
          "color": "rgb(0,116,217)"
         },
         "mode": "lines",
         "text": [
          "izurieta_malversación caudales públicos_arraigo_espinosa_rutherford",
          "",
          "",
          "sexual_criminal_trata_organización_personas fines explotación"
         ],
         "type": "scatter",
         "x": [
          0,
          1.349064362196185,
          1.349064362196185,
          0
         ],
         "xaxis": "x",
         "y": [
          -3645,
          -3645,
          -3655,
          -3655
         ],
         "yaxis": "y"
        },
        {
         "hoverinfo": "text",
         "marker": {
          "color": "rgb(0,116,217)"
         },
         "mode": "lines",
         "text": [
          "izurieta_malversación caudales públicos_arraigo_espinosa_rutherford",
          "",
          "",
          "sexual_criminal_trata_organización_personas fines explotación"
         ],
         "type": "scatter",
         "x": [
          1.4058941142725834,
          1.4332300289179303,
          1.4332300289179303,
          1.349064362196185
         ],
         "xaxis": "x",
         "y": [
          -3616.25,
          -3616.25,
          -3650,
          -3650
         ],
         "yaxis": "y"
        },
        {
         "hoverinfo": "text",
         "marker": {
          "color": "rgb(0,116,217)"
         },
         "mode": "lines",
         "text": [
          "izurieta_malversación caudales públicos_arraigo_espinosa_rutherford",
          "",
          "",
          "sexual_criminal_trata_organización_personas fines explotación"
         ],
         "type": "scatter",
         "x": [
          1.5172063455167857,
          1.5477605423086116,
          1.5477605423086116,
          1.4332300289179303
         ],
         "xaxis": "x",
         "y": [
          -3551.25,
          -3551.25,
          -3633.125,
          -3633.125
         ],
         "yaxis": "y"
        },
        {
         "hoverinfo": "text",
         "marker": {
          "color": "rgb(0,116,217)"
         },
         "mode": "lines",
         "text": [
          "máquinas_querellas_corte suprema_patente_destreza",
          "",
          "",
          "fallo_bomberos río_trabajadora_sala tribunal alzada_sanción"
         ],
         "type": "scatter",
         "x": [
          0,
          1.2640102387183367,
          1.2640102387183367,
          0
         ],
         "xaxis": "x",
         "y": [
          -3675,
          -3675,
          -3685,
          -3685
         ],
         "yaxis": "y"
        },
        {
         "hoverinfo": "text",
         "marker": {
          "color": "rgb(0,116,217)"
         },
         "mode": "lines",
         "text": [
          "corte_juez_apelaciones puerto montt_juramento_titular",
          "",
          "",
          "casinos_populares_corte apelaciones valdivia_máquinas_patente"
         ],
         "type": "scatter",
         "x": [
          0,
          1.2822882769143904,
          1.2822882769143904,
          1.2640102387183367
         ],
         "xaxis": "x",
         "y": [
          -3665,
          -3665,
          -3680,
          -3680
         ],
         "yaxis": "y"
        },
        {
         "hoverinfo": "text",
         "marker": {
          "color": "rgb(0,116,217)"
         },
         "mode": "lines",
         "text": [
          "corte_juez_apelaciones puerto montt_juramento_titular",
          "",
          "",
          "casinos_populares_juzgado_corte apelaciones valdivia_fallo"
         ],
         "type": "scatter",
         "x": [
          1.5477605423086116,
          1.6607184820623047,
          1.6607184820623047,
          1.2822882769143904
         ],
         "xaxis": "x",
         "y": [
          -3592.1875,
          -3592.1875,
          -3672.5,
          -3672.5
         ],
         "yaxis": "y"
        },
        {
         "hoverinfo": "text",
         "marker": {
          "color": "rgb(0,116,217)"
         },
         "mode": "lines",
         "text": [
          "corte_juez_apelaciones puerto montt_juramento_titular",
          "",
          "",
          "casinos_populares_juzgado_corte apelaciones valdivia_fallo"
         ],
         "type": "scatter",
         "x": [
          1.439081877680949,
          1.7067101222887529,
          1.7067101222887529,
          1.6607184820623047
         ],
         "xaxis": "x",
         "y": [
          -3475,
          -3475,
          -3632.34375,
          -3632.34375
         ],
         "yaxis": "y"
        },
        {
         "hoverinfo": "text",
         "marker": {
          "color": "rgb(0,116,217)"
         },
         "mode": "lines",
         "text": [
          "corte_juez_apelaciones puerto montt_juramento_titular",
          "",
          "",
          "casinos_populares_juzgado_corte apelaciones valdivia_fallo"
         ],
         "type": "scatter",
         "x": [
          1.8281286548954105,
          1.9113630065978247,
          1.9113630065978247,
          1.7067101222887529
         ],
         "xaxis": "x",
         "y": [
          -3328.8671875,
          -3328.8671875,
          -3553.671875,
          -3553.671875
         ],
         "yaxis": "y"
        },
        {
         "hoverinfo": "text",
         "marker": {
          "color": "rgb(0,116,217)"
         },
         "mode": "lines",
         "text": [
          "suministro agua_essal_600 401 4000_600 401_401 4000",
          "",
          "",
          "corte programado_clientes_luz_sectores_mejoramiento asegurar servicio"
         ],
         "type": "scatter",
         "x": [
          0,
          1.3204652197627402,
          1.3204652197627402,
          0
         ],
         "xaxis": "x",
         "y": [
          -3705,
          -3705,
          -3715,
          -3715
         ],
         "yaxis": "y"
        },
        {
         "hoverinfo": "text",
         "marker": {
          "color": "rgb(0,116,217)"
         },
         "mode": "lines",
         "text": [
          "escalera_ricke_essal_tramos_reposición",
          "",
          "",
          "corte programado_clientes_luz_sectores_mejoramiento asegurar servicio"
         ],
         "type": "scatter",
         "x": [
          0,
          1.3823741025554137,
          1.3823741025554137,
          1.3204652197627402
         ],
         "xaxis": "x",
         "y": [
          -3695,
          -3695,
          -3710,
          -3710
         ],
         "yaxis": "y"
        },
        {
         "hoverinfo": "text",
         "marker": {
          "color": "rgb(0,116,217)"
         },
         "mode": "lines",
         "text": [
          "saesa_fontecilla_servicio cliente saesa_800 600_800 600 801",
          "",
          "",
          "deuda_saesa_31_ley servicios_consumo promedio mensual"
         ],
         "type": "scatter",
         "x": [
          0,
          1.2446143936300205,
          1.2446143936300205,
          0
         ],
         "xaxis": "x",
         "y": [
          -3725,
          -3725,
          -3735,
          -3735
         ],
         "yaxis": "y"
        },
        {
         "hoverinfo": "text",
         "marker": {
          "color": "rgb(0,116,217)"
         },
         "mode": "lines",
         "text": [
          "saesa_fontecilla_servicio cliente saesa_800 600_800 600 801",
          "",
          "",
          "saesa_cuotas_servicio cliente saesa_800 600_básicos"
         ],
         "type": "scatter",
         "x": [
          1.3823741025554137,
          1.456770310206173,
          1.456770310206173,
          1.2446143936300205
         ],
         "xaxis": "x",
         "y": [
          -3702.5,
          -3702.5,
          -3730,
          -3730
         ],
         "yaxis": "y"
        },
        {
         "hoverinfo": "text",
         "marker": {
          "color": "rgb(0,116,217)"
         },
         "mode": "lines",
         "text": [
          "nave_efectuando_marítima_capitanía_incautación",
          "",
          "",
          "sernapesca_caleta bay_calbuco_ejemplares_san antonio"
         ],
         "type": "scatter",
         "x": [
          0,
          1.3652382494923032,
          1.3652382494923032,
          0
         ],
         "xaxis": "x",
         "y": [
          -3745,
          -3745,
          -3755,
          -3755
         ],
         "yaxis": "y"
        },
        {
         "hoverinfo": "text",
         "marker": {
          "color": "rgb(0,116,217)"
         },
         "mode": "lines",
         "text": [
          "santa_plan_puntos control_aduana puerto montt_servicios",
          "",
          "",
          "sistema táctico_operación policial_ilícitos_alza_carabineros comunidad"
         ],
         "type": "scatter",
         "x": [
          0,
          1.3936262337881458,
          1.3936262337881458,
          0
         ],
         "xaxis": "x",
         "y": [
          -3765,
          -3765,
          -3775,
          -3775
         ],
         "yaxis": "y"
        },
        {
         "hoverinfo": "text",
         "marker": {
          "color": "rgb(0,116,217)"
         },
         "mode": "lines",
         "text": [
          "santa_plan_puntos control_aduana puerto montt_servicios",
          "",
          "",
          "sistema táctico_operación policial_ilícitos_alza_carabineros comunidad"
         ],
         "type": "scatter",
         "x": [
          1.3652382494923032,
          1.44762660949678,
          1.44762660949678,
          1.3936262337881458
         ],
         "xaxis": "x",
         "y": [
          -3750,
          -3750,
          -3770,
          -3770
         ],
         "yaxis": "y"
        },
        {
         "hoverinfo": "text",
         "marker": {
          "color": "rgb(0,116,217)"
         },
         "mode": "lines",
         "text": [
          "medidas control_motivos seguridad_cierre calles pasajes_continuas_terminal",
          "",
          "",
          "multas_vial_conaset_uso celulares_conductas"
         ],
         "type": "scatter",
         "x": [
          0,
          1.3722176845776943,
          1.3722176845776943,
          0
         ],
         "xaxis": "x",
         "y": [
          -3785,
          -3785,
          -3795,
          -3795
         ],
         "yaxis": "y"
        },
        {
         "hoverinfo": "text",
         "marker": {
          "color": "rgb(0,116,217)"
         },
         "mode": "lines",
         "text": [
          "solo uso_plásticos_plumavit_bombillas_expendio",
          "",
          "",
          "consumidores_sernac_garantía legal_ley_derecho"
         ],
         "type": "scatter",
         "x": [
          0,
          1.3646382458755766,
          1.3646382458755766,
          0
         ],
         "xaxis": "x",
         "y": [
          -3805,
          -3805,
          -3815,
          -3815
         ],
         "yaxis": "y"
        },
        {
         "hoverinfo": "text",
         "marker": {
          "color": "rgb(0,116,217)"
         },
         "mode": "lines",
         "text": [
          "solo uso_plásticos_plumavit_bombillas_expendio",
          "",
          "",
          "consumidores_sernac_garantía legal_ley_derecho"
         ],
         "type": "scatter",
         "x": [
          1.3722176845776943,
          1.3943132794946436,
          1.3943132794946436,
          1.3646382458755766
         ],
         "xaxis": "x",
         "y": [
          -3790,
          -3790,
          -3810,
          -3810
         ],
         "yaxis": "y"
        },
        {
         "hoverinfo": "text",
         "marker": {
          "color": "rgb(0,116,217)"
         },
         "mode": "lines",
         "text": [
          "días años_ley sanciona comercio_relegación_desbaratar bandas_presidio",
          "",
          "",
          "trabajadores_irrenunciables_malls strip center_feriado obligatorio_comercio"
         ],
         "type": "scatter",
         "x": [
          0,
          1.3852097051653325,
          1.3852097051653325,
          0
         ],
         "xaxis": "x",
         "y": [
          -3825,
          -3825,
          -3835,
          -3835
         ],
         "yaxis": "y"
        },
        {
         "hoverinfo": "text",
         "marker": {
          "color": "rgb(0,116,217)"
         },
         "mode": "lines",
         "text": [
          "fonasa_devolución cotizaciones pagadas_exceso_rut_pago",
          "",
          "",
          "chileatiende_estafa_denuncias_beneficios_funcionarios"
         ],
         "type": "scatter",
         "x": [
          0,
          1.4004117228174513,
          1.4004117228174513,
          0
         ],
         "xaxis": "x",
         "y": [
          -3845,
          -3845,
          -3855,
          -3855
         ],
         "yaxis": "y"
        },
        {
         "hoverinfo": "text",
         "marker": {
          "color": "rgb(0,116,217)"
         },
         "mode": "lines",
         "text": [
          "fonasa_devolución cotizaciones pagadas_exceso_rut_pago",
          "",
          "",
          "chileatiende_estafa_denuncias_beneficios_funcionarios"
         ],
         "type": "scatter",
         "x": [
          1.3852097051653325,
          1.430886972496187,
          1.430886972496187,
          1.4004117228174513
         ],
         "xaxis": "x",
         "y": [
          -3830,
          -3830,
          -3850,
          -3850
         ],
         "yaxis": "y"
        },
        {
         "hoverinfo": "text",
         "marker": {
          "color": "rgb(0,116,217)"
         },
         "mode": "lines",
         "text": [
          "fonasa_devolución cotizaciones pagadas_exceso_rut_pago",
          "",
          "",
          "chileatiende_estafa_denuncias_beneficios_funcionarios"
         ],
         "type": "scatter",
         "x": [
          1.3943132794946436,
          1.4589907092249574,
          1.4589907092249574,
          1.430886972496187
         ],
         "xaxis": "x",
         "y": [
          -3800,
          -3800,
          -3840,
          -3840
         ],
         "yaxis": "y"
        },
        {
         "hoverinfo": "text",
         "marker": {
          "color": "rgb(0,116,217)"
         },
         "mode": "lines",
         "text": [
          "fonasa_devolución cotizaciones pagadas_exceso_rut_pago",
          "",
          "",
          "chileatiende_estafa_denuncias_beneficios_funcionarios"
         ],
         "type": "scatter",
         "x": [
          1.44762660949678,
          1.5135474360677825,
          1.5135474360677825,
          1.4589907092249574
         ],
         "xaxis": "x",
         "y": [
          -3760,
          -3760,
          -3820,
          -3820
         ],
         "yaxis": "y"
        },
        {
         "hoverinfo": "text",
         "marker": {
          "color": "rgb(0,116,217)"
         },
         "mode": "lines",
         "text": [
          "interesados deben dirigirse_manera gratuita exámenes_activa casos covid19_pcr disponibilidad_disponibilidad partir",
          "",
          "",
          "lebron_nba_asistencias_curry_knicks"
         ],
         "type": "scatter",
         "x": [
          0,
          1.416368548003995,
          1.416368548003995,
          0
         ],
         "xaxis": "x",
         "y": [
          -3875,
          -3875,
          -3885,
          -3885
         ],
         "yaxis": "y"
        },
        {
         "hoverinfo": "text",
         "marker": {
          "color": "rgb(0,116,217)"
         },
         "mode": "lines",
         "text": [
          "superficiales_datum_permanente continuo_consuntivo_solicitud derecho",
          "",
          "",
          "lebron_nba_asistencias_curry_knicks"
         ],
         "type": "scatter",
         "x": [
          0,
          1.4259928752442603,
          1.4259928752442603,
          1.416368548003995
         ],
         "xaxis": "x",
         "y": [
          -3865,
          -3865,
          -3880,
          -3880
         ],
         "yaxis": "y"
        },
        {
         "hoverinfo": "text",
         "marker": {
          "color": "rgb(0,116,217)"
         },
         "mode": "lines",
         "text": [
          "superficiales_datum_permanente continuo_consuntivo_solicitud derecho",
          "",
          "",
          "lebron_nba_asistencias_curry_knicks"
         ],
         "type": "scatter",
         "x": [
          1.5135474360677825,
          1.5730935625300613,
          1.5730935625300613,
          1.4259928752442603
         ],
         "xaxis": "x",
         "y": [
          -3790,
          -3790,
          -3872.5,
          -3872.5
         ],
         "yaxis": "y"
        },
        {
         "hoverinfo": "text",
         "marker": {
          "color": "rgb(0,116,217)"
         },
         "mode": "lines",
         "text": [
          "superficiales_datum_permanente continuo_consuntivo_solicitud derecho",
          "",
          "",
          "lebron_nba_asistencias_curry_knicks"
         ],
         "type": "scatter",
         "x": [
          1.456770310206173,
          1.6831448709012498,
          1.6831448709012498,
          1.5730935625300613
         ],
         "xaxis": "x",
         "y": [
          -3716.25,
          -3716.25,
          -3831.25,
          -3831.25
         ],
         "yaxis": "y"
        },
        {
         "hoverinfo": "text",
         "marker": {
          "color": "rgb(0,116,217)"
         },
         "mode": "lines",
         "text": [
          "sernapesca_veda_merluza_sernapesca lagos_poder infractor disposición",
          "",
          "",
          "juzgado letras_armada_sernapesca_toneladas_aysén"
         ],
         "type": "scatter",
         "x": [
          0,
          1.0162314416973548,
          1.0162314416973548,
          0
         ],
         "xaxis": "x",
         "y": [
          -3905,
          -3905,
          -3915,
          -3915
         ],
         "yaxis": "y"
        },
        {
         "hoverinfo": "text",
         "marker": {
          "color": "rgb(0,116,217)"
         },
         "mode": "lines",
         "text": [
          "pesca recreativa_sernapesca_borda_metros_incautaron",
          "",
          "",
          "sernapesca_kilos_recursos_juzgado letras_ilegal"
         ],
         "type": "scatter",
         "x": [
          0,
          1.2664559289331354,
          1.2664559289331354,
          1.0162314416973548
         ],
         "xaxis": "x",
         "y": [
          -3895,
          -3895,
          -3910,
          -3910
         ],
         "yaxis": "y"
        },
        {
         "hoverinfo": "text",
         "marker": {
          "color": "rgb(0,116,217)"
         },
         "mode": "lines",
         "text": [
          "fuerza aérea_rebusca_odisea iii_capitán_quellón",
          "",
          "",
          "lancha_marítima_melinka_quellón_motor"
         ],
         "type": "scatter",
         "x": [
          0,
          1.2146757597748992,
          1.2146757597748992,
          0
         ],
         "xaxis": "x",
         "y": [
          -3935,
          -3935,
          -3945,
          -3945
         ],
         "yaxis": "y"
        },
        {
         "hoverinfo": "text",
         "marker": {
          "color": "rgb(0,116,217)"
         },
         "mode": "lines",
         "text": [
          "jefe_ceremonia_cambio mando_iiiª brigada aérea_iiiª",
          "",
          "",
          "lancha_quellón_búsqueda_melinka_avión"
         ],
         "type": "scatter",
         "x": [
          0,
          1.3212577055206216,
          1.3212577055206216,
          1.2146757597748992
         ],
         "xaxis": "x",
         "y": [
          -3925,
          -3925,
          -3940,
          -3940
         ],
         "yaxis": "y"
        },
        {
         "hoverinfo": "text",
         "marker": {
          "color": "rgb(0,116,217)"
         },
         "mode": "lines",
         "text": [
          "evacuación_chulín_apoyó_isla chulín castro_traslado joven",
          "",
          "",
          "videla_cirujano videla_quinta zona naval_desertores_atenciones"
         ],
         "type": "scatter",
         "x": [
          0,
          1.249759403823684,
          1.249759403823684,
          0
         ],
         "xaxis": "x",
         "y": [
          -3955,
          -3955,
          -3965,
          -3965
         ],
         "yaxis": "y"
        },
        {
         "hoverinfo": "text",
         "marker": {
          "color": "rgb(0,116,217)"
         },
         "mode": "lines",
         "text": [
          "general_armada_capitán_unidad_iiiª",
          "",
          "",
          "videla_quinta zona naval_islas_chulín_evacuación"
         ],
         "type": "scatter",
         "x": [
          1.3212577055206216,
          1.5103614243526136,
          1.5103614243526136,
          1.249759403823684
         ],
         "xaxis": "x",
         "y": [
          -3932.5,
          -3932.5,
          -3960,
          -3960
         ],
         "yaxis": "y"
        },
        {
         "hoverinfo": "text",
         "marker": {
          "color": "rgb(0,116,217)"
         },
         "mode": "lines",
         "text": [
          "sernapesca_kilos_ilegal_recursos_sernapesca lagos",
          "",
          "",
          "videla_quinta zona naval_islas_chulín_evacuación"
         ],
         "type": "scatter",
         "x": [
          1.2664559289331354,
          1.8459109411173804,
          1.8459109411173804,
          1.5103614243526136
         ],
         "xaxis": "x",
         "y": [
          -3902.5,
          -3902.5,
          -3946.25,
          -3946.25
         ],
         "yaxis": "y"
        },
        {
         "hoverinfo": "text",
         "marker": {
          "color": "rgb(0,116,217)"
         },
         "mode": "lines",
         "text": [
          "sernapesca_kilos_ilegal_recursos_sernapesca lagos",
          "",
          "",
          "videla_quinta zona naval_islas_chulín_evacuación"
         ],
         "type": "scatter",
         "x": [
          1.6831448709012498,
          1.8947123957870298,
          1.8947123957870298,
          1.8459109411173804
         ],
         "xaxis": "x",
         "y": [
          -3773.75,
          -3773.75,
          -3924.375,
          -3924.375
         ],
         "yaxis": "y"
        },
        {
         "hoverinfo": "text",
         "marker": {
          "color": "rgb(0,116,217)"
         },
         "mode": "lines",
         "text": [
          "toxina_roja_fan_algales_alexandrium",
          "",
          "",
          "sernapesca_marea roja_marinas_seremi salud_área extracción"
         ],
         "type": "scatter",
         "x": [
          0,
          1.191395455379066,
          1.191395455379066,
          0
         ],
         "xaxis": "x",
         "y": [
          -3975,
          -3975,
          -3985,
          -3985
         ],
         "yaxis": "y"
        },
        {
         "hoverinfo": "text",
         "marker": {
          "color": "rgb(0,116,217)"
         },
         "mode": "lines",
         "text": [
          "sernapesca_extracción_toxinas marinas_roja_floraciones",
          "",
          "",
          "productos_calbuco_toxina_aysén_seremi salud"
         ],
         "type": "scatter",
         "x": [
          1.191395455379066,
          1.2284746721497504,
          1.2284746721497504,
          0
         ],
         "xaxis": "x",
         "y": [
          -3980,
          -3980,
          -3995,
          -3995
         ],
         "yaxis": "y"
        },
        {
         "hoverinfo": "text",
         "marker": {
          "color": "rgb(0,116,217)"
         },
         "mode": "lines",
         "text": [
          "mariscos_calbuco_sernapesca_contaminados_paralizante",
          "",
          "",
          "angelmó_precios_marea_mil pesos_roja"
         ],
         "type": "scatter",
         "x": [
          1.2284746721497504,
          1.3600294455670074,
          1.3600294455670074,
          0
         ],
         "xaxis": "x",
         "y": [
          -3987.5,
          -3987.5,
          -4005,
          -4005
         ],
         "yaxis": "y"
        },
        {
         "hoverinfo": "text",
         "marker": {
          "color": "rgb(0,116,217)"
         },
         "mode": "lines",
         "text": [
          "mariscos_calbuco_sernapesca_contaminados_paralizante",
          "",
          "",
          "mariscos_calbuco_sernapesca_contaminados_paralizante"
         ],
         "type": "scatter",
         "x": [
          1.8947123957870298,
          2.004059244054747,
          2.004059244054747,
          1.3600294455670074
         ],
         "xaxis": "x",
         "y": [
          -3849.0625,
          -3849.0625,
          -3996.25,
          -3996.25
         ],
         "yaxis": "y"
        },
        {
         "hoverinfo": "text",
         "marker": {
          "color": "rgb(0,116,217)"
         },
         "mode": "lines",
         "text": [
          "mariscos_calbuco_sernapesca_contaminados_paralizante",
          "",
          "",
          "mariscos_calbuco_sernapesca_contaminados_paralizante"
         ],
         "type": "scatter",
         "x": [
          1.9113630065978247,
          2.186397472844297,
          2.186397472844297,
          2.004059244054747
         ],
         "xaxis": "x",
         "y": [
          -3441.26953125,
          -3441.26953125,
          -3922.65625,
          -3922.65625
         ],
         "yaxis": "y"
        },
        {
         "hoverinfo": "text",
         "marker": {
          "color": "rgb(133,20,75)"
         },
         "mode": "lines",
         "text": [
          "pgu_pensión garantizada universal_financiamiento_hacienda_exenciones",
          "",
          "",
          "garantizada_pgu_universal_65 años_mayores"
         ],
         "type": "scatter",
         "x": [
          0,
          0.9327459897346911,
          0.9327459897346911,
          0
         ],
         "xaxis": "x",
         "y": [
          -4015,
          -4015,
          -4025,
          -4025
         ],
         "yaxis": "y"
        },
        {
         "hoverinfo": "text",
         "marker": {
          "color": "rgb(0,116,217)"
         },
         "mode": "lines",
         "text": [
          "aporte familiar permanente_beneficio_bono bodas oro_requisitos_ips",
          "",
          "",
          "ips_instituto previsión social_pensionado_23704_13392"
         ],
         "type": "scatter",
         "x": [
          0,
          1.2340704060597834,
          1.2340704060597834,
          0
         ],
         "xaxis": "x",
         "y": [
          -4045,
          -4045,
          -4055,
          -4055
         ],
         "yaxis": "y"
        },
        {
         "hoverinfo": "text",
         "marker": {
          "color": "rgb(0,116,217)"
         },
         "mode": "lines",
         "text": [
          "universal_pagos_rsh_pgu_andrea balladares",
          "",
          "",
          "ips_beneficio_aporte familiar_monto_aguinaldo navidad"
         ],
         "type": "scatter",
         "x": [
          0,
          1.3093798968396202,
          1.3093798968396202,
          1.2340704060597834
         ],
         "xaxis": "x",
         "y": [
          -4035,
          -4035,
          -4050,
          -4050
         ],
         "yaxis": "y"
        },
        {
         "hoverinfo": "text",
         "marker": {
          "color": "rgb(0,116,217)"
         },
         "mode": "lines",
         "text": [
          "pgu_pensión garantizada universal_solidario_mil_65",
          "",
          "",
          "ips_beneficio_aporte familiar_monto_aguinaldo navidad"
         ],
         "type": "scatter",
         "x": [
          0.9327459897346911,
          1.5512336437496,
          1.5512336437496,
          1.3093798968396202
         ],
         "xaxis": "x",
         "y": [
          -4020,
          -4020,
          -4042.5,
          -4042.5
         ],
         "yaxis": "y"
        },
        {
         "hoverinfo": "text",
         "marker": {
          "color": "rgb(0,116,217)"
         },
         "mode": "lines",
         "text": [
          "sename_edificio_lilian peña_funcionarios_sename lilian",
          "",
          "",
          "reinserción_sename_sence_kalen_armasur"
         ],
         "type": "scatter",
         "x": [
          0,
          1.151128399029665,
          1.151128399029665,
          0
         ],
         "xaxis": "x",
         "y": [
          -4065,
          -4065,
          -4075,
          -4075
         ],
         "yaxis": "y"
        },
        {
         "hoverinfo": "text",
         "marker": {
          "color": "rgb(0,116,217)"
         },
         "mode": "lines",
         "text": [
          "sence_laborales_observatorio_enadel_feria",
          "",
          "",
          "ife_sala cuna_sence_pago_mes"
         ],
         "type": "scatter",
         "x": [
          0,
          1.2167581103534486,
          1.2167581103534486,
          0
         ],
         "xaxis": "x",
         "y": [
          -4105,
          -4105,
          -4115,
          -4115
         ],
         "yaxis": "y"
        },
        {
         "hoverinfo": "text",
         "marker": {
          "color": "rgb(0,116,217)"
         },
         "mode": "lines",
         "text": [
          "cursos_sence_despega mipe_laboral_innovación",
          "",
          "",
          "ife_sence_subsidio_protege_mil"
         ],
         "type": "scatter",
         "x": [
          0,
          1.2849322234429625,
          1.2849322234429625,
          1.2167581103534486
         ],
         "xaxis": "x",
         "y": [
          -4095,
          -4095,
          -4110,
          -4110
         ],
         "yaxis": "y"
        },
        {
         "hoverinfo": "text",
         "marker": {
          "color": "rgb(0,116,217)"
         },
         "mode": "lines",
         "text": [
          "fundación_cloud_inserción_talentos_preparará",
          "",
          "",
          "sence_ife_cursos_protege_postular"
         ],
         "type": "scatter",
         "x": [
          0,
          1.412203808794962,
          1.412203808794962,
          1.2849322234429625
         ],
         "xaxis": "x",
         "y": [
          -4085,
          -4085,
          -4102.5,
          -4102.5
         ],
         "yaxis": "y"
        },
        {
         "hoverinfo": "text",
         "marker": {
          "color": "rgb(0,116,217)"
         },
         "mode": "lines",
         "text": [
          "sename_sence_reinserción social juvenil_kalen_armasur",
          "",
          "",
          "sence_ife_cursos_protege_postular"
         ],
         "type": "scatter",
         "x": [
          1.151128399029665,
          1.5844725113237605,
          1.5844725113237605,
          1.412203808794962
         ],
         "xaxis": "x",
         "y": [
          -4070,
          -4070,
          -4093.75,
          -4093.75
         ],
         "yaxis": "y"
        },
        {
         "hoverinfo": "text",
         "marker": {
          "color": "rgb(0,116,217)"
         },
         "mode": "lines",
         "text": [
          "pdt_rendición_diciembre_transición_podrán",
          "",
          "",
          "matrícula_sistema admisión escolar_postulación_wwwsistemadeadmisionescolarcl_resultados"
         ],
         "type": "scatter",
         "x": [
          0,
          1.2323105151189828,
          1.2323105151189828,
          0
         ],
         "xaxis": "x",
         "y": [
          -4135,
          -4135,
          -4145,
          -4145
         ],
         "yaxis": "y"
        },
        {
         "hoverinfo": "text",
         "marker": {
          "color": "rgb(0,116,217)"
         },
         "mode": "lines",
         "text": [
          "prueba_pdt_postulación_rendir_sistema admisión escolar",
          "",
          "",
          "beneficios_gratuidad_estudiantiles_fuas_beca excelencia"
         ],
         "type": "scatter",
         "x": [
          1.2323105151189828,
          1.309047074154075,
          1.309047074154075,
          0
         ],
         "xaxis": "x",
         "y": [
          -4140,
          -4140,
          -4155,
          -4155
         ],
         "yaxis": "y"
        },
        {
         "hoverinfo": "text",
         "marker": {
          "color": "rgb(0,116,217)"
         },
         "mode": "lines",
         "text": [
          "carrera_estudiantes_pedagogía_formación_uach",
          "",
          "",
          "beca_pdt_podrán_postular_resultados"
         ],
         "type": "scatter",
         "x": [
          0,
          1.3494443630468484,
          1.3494443630468484,
          1.309047074154075
         ],
         "xaxis": "x",
         "y": [
          -4125,
          -4125,
          -4147.5,
          -4147.5
         ],
         "yaxis": "y"
        },
        {
         "hoverinfo": "text",
         "marker": {
          "color": "rgb(0,116,217)"
         },
         "mode": "lines",
         "text": [
          "carrera_estudiantes_pedagogía_formación_uach",
          "",
          "",
          "beca_prueba_pdt_postular_2022"
         ],
         "type": "scatter",
         "x": [
          1.5844725113237605,
          1.7423610391497217,
          1.7423610391497217,
          1.3494443630468484
         ],
         "xaxis": "x",
         "y": [
          -4081.875,
          -4081.875,
          -4136.25,
          -4136.25
         ],
         "yaxis": "y"
        },
        {
         "hoverinfo": "text",
         "marker": {
          "color": "rgb(0,116,217)"
         },
         "mode": "lines",
         "text": [
          "veto_estatuto docente_despidos_slep_locales educación",
          "",
          "",
          "proceso desmunicipalización_municipalidades_locales educación pública_analizarán_padem"
         ],
         "type": "scatter",
         "x": [
          0,
          1.270600676510091,
          1.270600676510091,
          0
         ],
         "xaxis": "x",
         "y": [
          -4165,
          -4165,
          -4175,
          -4175
         ],
         "yaxis": "y"
        },
        {
         "hoverinfo": "text",
         "marker": {
          "color": "rgb(0,116,217)"
         },
         "mode": "lines",
         "text": [
          "escuela_santa elvira_educación_establecimientos_daem",
          "",
          "",
          "secretarios_educación_generales corporaciones municipales_general corporación_secretaria"
         ],
         "type": "scatter",
         "x": [
          0,
          1.3581405142138538,
          1.3581405142138538,
          0
         ],
         "xaxis": "x",
         "y": [
          -4185,
          -4185,
          -4195,
          -4195
         ],
         "yaxis": "y"
        },
        {
         "hoverinfo": "text",
         "marker": {
          "color": "rgb(0,116,217)"
         },
         "mode": "lines",
         "text": [
          "profesores_veto_colegio_proceso desmunicipalización_estatuto docente",
          "",
          "",
          "secretarios_educación_generales corporaciones municipales_general corporación_secretaria"
         ],
         "type": "scatter",
         "x": [
          1.270600676510091,
          1.3907328407832227,
          1.3907328407832227,
          1.3581405142138538
         ],
         "xaxis": "x",
         "y": [
          -4170,
          -4170,
          -4190,
          -4190
         ],
         "yaxis": "y"
        },
        {
         "hoverinfo": "text",
         "marker": {
          "color": "rgb(0,116,217)"
         },
         "mode": "lines",
         "text": [
          "clases_ulagos_comunidad universitaria_lunes 14_inicio año académico",
          "",
          "",
          "rector_oui_universidades estatales_garrido_periodismo universidad frontera"
         ],
         "type": "scatter",
         "x": [
          0,
          1.3871262727015798,
          1.3871262727015798,
          0
         ],
         "xaxis": "x",
         "y": [
          -4205,
          -4205,
          -4215,
          -4215
         ],
         "yaxis": "y"
        },
        {
         "hoverinfo": "text",
         "marker": {
          "color": "rgb(0,116,217)"
         },
         "mode": "lines",
         "text": [
          "parcc_acción regional cambio_clim谩tico_consulta_corecc",
          "",
          "",
          "mesa_seminario_chiloé_municipalidad_conservación"
         ],
         "type": "scatter",
         "x": [
          0,
          1.3734311666115986,
          1.3734311666115986,
          0
         ],
         "xaxis": "x",
         "y": [
          -4225,
          -4225,
          -4235,
          -4235
         ],
         "yaxis": "y"
        },
        {
         "hoverinfo": "text",
         "marker": {
          "color": "rgb(0,116,217)"
         },
         "mode": "lines",
         "text": [
          "parcc_acción regional cambio_clim谩tico_consulta_corecc",
          "",
          "",
          "mesa_seminario_chiloé_municipalidad_conservación"
         ],
         "type": "scatter",
         "x": [
          1.3871262727015798,
          1.4642767263129122,
          1.4642767263129122,
          1.3734311666115986
         ],
         "xaxis": "x",
         "y": [
          -4210,
          -4210,
          -4230,
          -4230
         ],
         "yaxis": "y"
        },
        {
         "hoverinfo": "text",
         "marker": {
          "color": "rgb(0,116,217)"
         },
         "mode": "lines",
         "text": [
          "seremis_tardanza_autoridades_nombramiento_nuevo gobierno asuma",
          "",
          "",
          "puelche_hualaihué_transportes_bimodal_caleta"
         ],
         "type": "scatter",
         "x": [
          0,
          1.3847771993313263,
          1.3847771993313263,
          0
         ],
         "xaxis": "x",
         "y": [
          -4245,
          -4245,
          -4255,
          -4255
         ],
         "yaxis": "y"
        },
        {
         "hoverinfo": "text",
         "marker": {
          "color": "rgb(0,116,217)"
         },
         "mode": "lines",
         "text": [
          "seremis_tardanza_autoridades_nombramiento_nuevo gobierno asuma",
          "",
          "",
          "puelche_hualaihué_transportes_bimodal_caleta"
         ],
         "type": "scatter",
         "x": [
          1.4642767263129122,
          1.4715532056920635,
          1.4715532056920635,
          1.3847771993313263
         ],
         "xaxis": "x",
         "y": [
          -4220,
          -4220,
          -4250,
          -4250
         ],
         "yaxis": "y"
        },
        {
         "hoverinfo": "text",
         "marker": {
          "color": "rgb(0,116,217)"
         },
         "mode": "lines",
         "text": [
          "energía_carteras_diplomado derecho administrativo_seremis_seremi",
          "",
          "",
          "rd_enzo jaramillo_seremis_jaramillo_ps"
         ],
         "type": "scatter",
         "x": [
          0,
          1.2451592419596942,
          1.2451592419596942,
          0
         ],
         "xaxis": "x",
         "y": [
          -4265,
          -4265,
          -4275,
          -4275
         ],
         "yaxis": "y"
        },
        {
         "hoverinfo": "text",
         "marker": {
          "color": "rgb(0,116,217)"
         },
         "mode": "lines",
         "text": [
          "energía_seremis_rd_diplomado_gabinete regional",
          "",
          "",
          "carvacho_presidente gabriel_seremi_universidad chile_carvacho díaz"
         ],
         "type": "scatter",
         "x": [
          1.2451592419596942,
          1.3601004456105203,
          1.3601004456105203,
          0
         ],
         "xaxis": "x",
         "y": [
          -4270,
          -4270,
          -4285,
          -4285
         ],
         "yaxis": "y"
        },
        {
         "hoverinfo": "text",
         "marker": {
          "color": "rgb(0,116,217)"
         },
         "mode": "lines",
         "text": [
          "energía_seremis_rd_diplomado_gabinete regional",
          "",
          "",
          "carvacho_presidente gabriel_seremi_universidad chile_carvacho díaz"
         ],
         "type": "scatter",
         "x": [
          1.4715532056920635,
          1.5357440446617063,
          1.5357440446617063,
          1.3601004456105203
         ],
         "xaxis": "x",
         "y": [
          -4235,
          -4235,
          -4277.5,
          -4277.5
         ],
         "yaxis": "y"
        },
        {
         "hoverinfo": "text",
         "marker": {
          "color": "rgb(0,116,217)"
         },
         "mode": "lines",
         "text": [
          "cplt_portal transparencia_integridad_ley_pública",
          "",
          "",
          "convencional_agua_distrito_ruralidad seguridad alimentaria_jürgensen"
         ],
         "type": "scatter",
         "x": [
          0,
          1.3801797423996276,
          1.3801797423996276,
          0
         ],
         "xaxis": "x",
         "y": [
          -4295,
          -4295,
          -4305,
          -4305
         ],
         "yaxis": "y"
        },
        {
         "hoverinfo": "text",
         "marker": {
          "color": "rgb(0,116,217)"
         },
         "mode": "lines",
         "text": [
          "convención_agrollanquihue_ideas_convencionales_voz",
          "",
          "",
          "cabildo_mirasol_ampuero_adriana ampuero_domínguez"
         ],
         "type": "scatter",
         "x": [
          0,
          1.2619438365808013,
          1.2619438365808013,
          0
         ],
         "xaxis": "x",
         "y": [
          -4315,
          -4315,
          -4325,
          -4325
         ],
         "yaxis": "y"
        },
        {
         "hoverinfo": "text",
         "marker": {
          "color": "rgb(0,116,217)"
         },
         "mode": "lines",
         "text": [
          "convención_agrollanquihue_ideas_convencionales_voz",
          "",
          "",
          "cabildo_nueva_agrollanquihue_participación_convención constitucional"
         ],
         "type": "scatter",
         "x": [
          1.3801797423996276,
          1.4273964408724265,
          1.4273964408724265,
          1.2619438365808013
         ],
         "xaxis": "x",
         "y": [
          -4300,
          -4300,
          -4320,
          -4320
         ],
         "yaxis": "y"
        },
        {
         "hoverinfo": "text",
         "marker": {
          "color": "rgb(0,116,217)"
         },
         "mode": "lines",
         "text": [
          "convención_agrollanquihue_ideas_convencionales_voz",
          "",
          "",
          "cabildo_nueva_agrollanquihue_participación_convención constitucional"
         ],
         "type": "scatter",
         "x": [
          1.5357440446617063,
          1.5927582473229143,
          1.5927582473229143,
          1.4273964408724265
         ],
         "xaxis": "x",
         "y": [
          -4256.25,
          -4256.25,
          -4310,
          -4310
         ],
         "yaxis": "y"
        },
        {
         "hoverinfo": "text",
         "marker": {
          "color": "rgb(0,116,217)"
         },
         "mode": "lines",
         "text": [
          "convención_agrollanquihue_ideas_convencionales_voz",
          "",
          "",
          "cabildo_nueva_agrollanquihue_participación_convención constitucional"
         ],
         "type": "scatter",
         "x": [
          1.3907328407832227,
          1.615381383199302,
          1.615381383199302,
          1.5927582473229143
         ],
         "xaxis": "x",
         "y": [
          -4180,
          -4180,
          -4283.125,
          -4283.125
         ],
         "yaxis": "y"
        },
        {
         "hoverinfo": "text",
         "marker": {
          "color": "rgb(0,116,217)"
         },
         "mode": "lines",
         "text": [
          "supersol_ley_leviante_interiores_carnada",
          "",
          "",
          "indespa_caleta_sindicato_encargada regional indespa_seremi economía"
         ],
         "type": "scatter",
         "x": [
          0,
          1.2530635681839724,
          1.2530635681839724,
          0
         ],
         "xaxis": "x",
         "y": [
          -4335,
          -4335,
          -4345,
          -4345
         ],
         "yaxis": "y"
        },
        {
         "hoverinfo": "text",
         "marker": {
          "color": "rgb(0,116,217)"
         },
         "mode": "lines",
         "text": [
          "indespa_sindicato_supersol_ley caletas_encargada regional indespa",
          "",
          "",
          "chinquihue_pesca_teuquil_kazuhisa_shibuya kazuhisa"
         ],
         "type": "scatter",
         "x": [
          1.2530635681839724,
          1.361809480848463,
          1.361809480848463,
          0
         ],
         "xaxis": "x",
         "y": [
          -4340,
          -4340,
          -4355,
          -4355
         ],
         "yaxis": "y"
        },
        {
         "hoverinfo": "text",
         "marker": {
          "color": "rgb(0,116,217)"
         },
         "mode": "lines",
         "text": [
          "formulación_fndr_injuv_conversatorios_desarrollo social humano",
          "",
          "",
          "organizaciones_comunidadmujer_postular_adulto_mayores"
         ],
         "type": "scatter",
         "x": [
          0,
          1.3221083758998164,
          1.3221083758998164,
          0
         ],
         "xaxis": "x",
         "y": [
          -4365,
          -4365,
          -4375,
          -4375
         ],
         "yaxis": "y"
        },
        {
         "hoverinfo": "text",
         "marker": {
          "color": "rgb(0,116,217)"
         },
         "mode": "lines",
         "text": [
          "programa mujeres jefas_hogar_fosis_sernameg_equidad",
          "",
          "",
          "indap_prodemu_campesina_indap prodemu_módulo"
         ],
         "type": "scatter",
         "x": [
          0,
          1.305936847220693,
          1.305936847220693,
          0
         ],
         "xaxis": "x",
         "y": [
          -4395,
          -4395,
          -4405,
          -4405
         ],
         "yaxis": "y"
        },
        {
         "hoverinfo": "text",
         "marker": {
          "color": "rgb(0,116,217)"
         },
         "mode": "lines",
         "text": [
          "palena_dfl 15_dfl_extremas_chiloé palena",
          "",
          "",
          "indap_prodemu_campesina_indap prodemu_módulo"
         ],
         "type": "scatter",
         "x": [
          0,
          1.4097585179103334,
          1.4097585179103334,
          1.305936847220693
         ],
         "xaxis": "x",
         "y": [
          -4385,
          -4385,
          -4400,
          -4400
         ],
         "yaxis": "y"
        },
        {
         "hoverinfo": "text",
         "marker": {
          "color": "rgb(0,116,217)"
         },
         "mode": "lines",
         "text": [
          "praderas_censo_fertilización_odepa_unidades productivas",
          "",
          "",
          "sag_animal_exportación_red crianceros_declaración existencia"
         ],
         "type": "scatter",
         "x": [
          0,
          1.349178305874227,
          1.349178305874227,
          0
         ],
         "xaxis": "x",
         "y": [
          -4415,
          -4415,
          -4425,
          -4425
         ],
         "yaxis": "y"
        },
        {
         "hoverinfo": "text",
         "marker": {
          "color": "rgb(0,116,217)"
         },
         "mode": "lines",
         "text": [
          "praderas_censo_fertilización_odepa_unidades productivas",
          "",
          "",
          "sag_animal_exportación_red crianceros_declaración existencia"
         ],
         "type": "scatter",
         "x": [
          1.4097585179103334,
          1.4489107123855531,
          1.4489107123855531,
          1.349178305874227
         ],
         "xaxis": "x",
         "y": [
          -4392.5,
          -4392.5,
          -4420,
          -4420
         ],
         "yaxis": "y"
        },
        {
         "hoverinfo": "text",
         "marker": {
          "color": "rgb(0,116,217)"
         },
         "mode": "lines",
         "text": [
          "praderas_censo_fertilización_odepa_unidades productivas",
          "",
          "",
          "sag_animal_exportación_red crianceros_declaración existencia"
         ],
         "type": "scatter",
         "x": [
          1.3221083758998164,
          1.4792193053546767,
          1.4792193053546767,
          1.4489107123855531
         ],
         "xaxis": "x",
         "y": [
          -4370,
          -4370,
          -4406.25,
          -4406.25
         ],
         "yaxis": "y"
        },
        {
         "hoverinfo": "text",
         "marker": {
          "color": "rgb(0,116,217)"
         },
         "mode": "lines",
         "text": [
          "perros_ataques_agrollanquihue_ganado fauna silvestre_schwerter",
          "",
          "",
          "gatos_animal_subdere_tenencia responsable mascotas_protegida"
         ],
         "type": "scatter",
         "x": [
          0,
          1.2272456285587505,
          1.2272456285587505,
          0
         ],
         "xaxis": "x",
         "y": [
          -4435,
          -4435,
          -4445,
          -4445
         ],
         "yaxis": "y"
        },
        {
         "hoverinfo": "text",
         "marker": {
          "color": "rgb(0,116,217)"
         },
         "mode": "lines",
         "text": [
          "perros_ataques_agrollanquihue_ganado fauna silvestre_schwerter",
          "",
          "",
          "animal_mascota_tenencia responsable mascotas_subdere_asilvestrados"
         ],
         "type": "scatter",
         "x": [
          1.4792193053546767,
          1.5947141729396281,
          1.5947141729396281,
          1.2272456285587505
         ],
         "xaxis": "x",
         "y": [
          -4388.125,
          -4388.125,
          -4440,
          -4440
         ],
         "yaxis": "y"
        },
        {
         "hoverinfo": "text",
         "marker": {
          "color": "rgb(0,116,217)"
         },
         "mode": "lines",
         "text": [
          "indespa_fundación chinquihue_chinquihue_directorio_ley",
          "",
          "",
          "animal_mascota_tenencia responsable mascotas_subdere_asilvestrados"
         ],
         "type": "scatter",
         "x": [
          1.361809480848463,
          1.6117643638279906,
          1.6117643638279906,
          1.5947141729396281
         ],
         "xaxis": "x",
         "y": [
          -4347.5,
          -4347.5,
          -4414.0625,
          -4414.0625
         ],
         "yaxis": "y"
        },
        {
         "hoverinfo": "text",
         "marker": {
          "color": "rgb(0,116,217)"
         },
         "mode": "lines",
         "text": [
          "indespa_fundación chinquihue_chinquihue_directorio_ley",
          "",
          "",
          "animal_mascota_tenencia responsable mascotas_subdere_asilvestrados"
         ],
         "type": "scatter",
         "x": [
          1.615381383199302,
          1.6665566293391036,
          1.6665566293391036,
          1.6117643638279906
         ],
         "xaxis": "x",
         "y": [
          -4231.5625,
          -4231.5625,
          -4380.78125,
          -4380.78125
         ],
         "yaxis": "y"
        },
        {
         "hoverinfo": "text",
         "marker": {
          "color": "rgb(0,116,217)"
         },
         "mode": "lines",
         "text": [
          "indespa_fundación chinquihue_chinquihue_directorio_ley",
          "",
          "",
          "animal_mascota_tenencia responsable mascotas_subdere_asilvestrados"
         ],
         "type": "scatter",
         "x": [
          1.7423610391497217,
          1.835028108788594,
          1.835028108788594,
          1.6665566293391036
         ],
         "xaxis": "x",
         "y": [
          -4109.0625,
          -4109.0625,
          -4306.171875,
          -4306.171875
         ],
         "yaxis": "y"
        },
        {
         "hoverinfo": "text",
         "marker": {
          "color": "rgb(0,116,217)"
         },
         "mode": "lines",
         "text": [
          "pgu_beneficio_bono_pensión garantizada universal_ips",
          "",
          "",
          "animal_mascota_tenencia responsable mascotas_subdere_asilvestrados"
         ],
         "type": "scatter",
         "x": [
          1.5512336437496,
          2.076643884568893,
          2.076643884568893,
          1.835028108788594
         ],
         "xaxis": "x",
         "y": [
          -4031.25,
          -4031.25,
          -4207.6171875,
          -4207.6171875
         ],
         "yaxis": "y"
        },
        {
         "hoverinfo": "text",
         "marker": {
          "color": "rgb(255,220,0)"
         },
         "mode": "lines",
         "text": [
          "ocupados_ine_fuerza_pp_doce",
          "",
          "",
          "inactividad_laboral_ocupación_2020_termómetro"
         ],
         "type": "scatter",
         "x": [
          0,
          0.9251297430972286,
          0.9251297430972286,
          0
         ],
         "xaxis": "x",
         "y": [
          -4455,
          -4455,
          -4465,
          -4465
         ],
         "yaxis": "y"
        },
        {
         "hoverinfo": "text",
         "marker": {
          "color": "rgb(0,116,217)"
         },
         "mode": "lines",
         "text": [
          "exterior_armonizado_aduaneras_facilitación_comex",
          "",
          "",
          "us_exportaciones_2021_cobre_2020"
         ],
         "type": "scatter",
         "x": [
          0,
          1.2627656958420044,
          1.2627656958420044,
          0
         ],
         "xaxis": "x",
         "y": [
          -4485,
          -4485,
          -4495,
          -4495
         ],
         "yaxis": "y"
        },
        {
         "hoverinfo": "text",
         "marker": {
          "color": "rgb(0,116,217)"
         },
         "mode": "lines",
         "text": [
          "subasta_wwwsubastaaduaneracl_electrónica_sitio wwwsubastaaduaneracl_valor mínimo",
          "",
          "",
          "us_exportaciones_exterior_cobre_2021"
         ],
         "type": "scatter",
         "x": [
          0,
          1.3959367871293893,
          1.3959367871293893,
          1.2627656958420044
         ],
         "xaxis": "x",
         "y": [
          -4475,
          -4475,
          -4490,
          -4490
         ],
         "yaxis": "y"
        },
        {
         "hoverinfo": "text",
         "marker": {
          "color": "rgb(0,116,217)"
         },
         "mode": "lines",
         "text": [
          "riqueza_ingresos_001_pobreza extrema_américa latina caribe",
          "",
          "",
          "créditos_arriendo_camanchaca_cchc_mobysuite"
         ],
         "type": "scatter",
         "x": [
          0,
          1.357334262527663,
          1.357334262527663,
          0
         ],
         "xaxis": "x",
         "y": [
          -4505,
          -4505,
          -4515,
          -4515
         ],
         "yaxis": "y"
        },
        {
         "hoverinfo": "text",
         "marker": {
          "color": "rgb(0,116,217)"
         },
         "mode": "lines",
         "text": [
          "deezer_música digital_betterfly_folgueira_kushki",
          "",
          "",
          "global66_transbank_monedas_fintech_billetera"
         ],
         "type": "scatter",
         "x": [
          0,
          1.3511398986722654,
          1.3511398986722654,
          0
         ],
         "xaxis": "x",
         "y": [
          -4525,
          -4525,
          -4535,
          -4535
         ],
         "yaxis": "y"
        },
        {
         "hoverinfo": "text",
         "marker": {
          "color": "rgb(0,116,217)"
         },
         "mode": "lines",
         "text": [
          "deezer_música digital_betterfly_folgueira_kushki",
          "",
          "",
          "global66_transbank_monedas_fintech_billetera"
         ],
         "type": "scatter",
         "x": [
          1.357334262527663,
          1.396615504893725,
          1.396615504893725,
          1.3511398986722654
         ],
         "xaxis": "x",
         "y": [
          -4510,
          -4510,
          -4530,
          -4530
         ],
         "yaxis": "y"
        },
        {
         "hoverinfo": "text",
         "marker": {
          "color": "rgb(0,116,217)"
         },
         "mode": "lines",
         "text": [
          "deezer_música digital_betterfly_folgueira_kushki",
          "",
          "",
          "global66_transbank_monedas_fintech_billetera"
         ],
         "type": "scatter",
         "x": [
          1.3959367871293893,
          1.474199920177059,
          1.474199920177059,
          1.396615504893725
         ],
         "xaxis": "x",
         "y": [
          -4482.5,
          -4482.5,
          -4520,
          -4520
         ],
         "yaxis": "y"
        },
        {
         "hoverinfo": "text",
         "marker": {
          "color": "rgb(0,116,217)"
         },
         "mode": "lines",
         "text": [
          "psicosociales_enfermedades_estrategias_mundial salud mental_trabajadores",
          "",
          "",
          "cristo_hogar_abrazos_piso protección_niños niñas adolescentes"
         ],
         "type": "scatter",
         "x": [
          0,
          1.368198505616625,
          1.368198505616625,
          0
         ],
         "xaxis": "x",
         "y": [
          -4555,
          -4555,
          -4565,
          -4565
         ],
         "yaxis": "y"
        },
        {
         "hoverinfo": "text",
         "marker": {
          "color": "rgb(0,116,217)"
         },
         "mode": "lines",
         "text": [
          "botiquín_terapeutas_puaucho_cáncer_niñas",
          "",
          "",
          "cristo_hogar_abrazos_piso protección_niños niñas adolescentes"
         ],
         "type": "scatter",
         "x": [
          0,
          1.3742722324986025,
          1.3742722324986025,
          1.368198505616625
         ],
         "xaxis": "x",
         "y": [
          -4545,
          -4545,
          -4560,
          -4560
         ],
         "yaxis": "y"
        },
        {
         "hoverinfo": "text",
         "marker": {
          "color": "rgb(0,116,217)"
         },
         "mode": "lines",
         "text": [
          "sharpie_tonos_slime_prendas_elmer",
          "",
          "",
          "colchón_si_pie_peso_espacio"
         ],
         "type": "scatter",
         "x": [
          0,
          1.306617236343109,
          1.306617236343109,
          0
         ],
         "xaxis": "x",
         "y": [
          -4595,
          -4595,
          -4605,
          -4605
         ],
         "yaxis": "y"
        },
        {
         "hoverinfo": "text",
         "marker": {
          "color": "rgb(0,116,217)"
         },
         "mode": "lines",
         "text": [
          "notebook_smart tv_mouse_procesador_gamers",
          "",
          "",
          "sharpie_tonos_slime_puede_comodidad"
         ],
         "type": "scatter",
         "x": [
          0,
          1.3308775137490139,
          1.3308775137490139,
          1.306617236343109
         ],
         "xaxis": "x",
         "y": [
          -4585,
          -4585,
          -4600,
          -4600
         ],
         "yaxis": "y"
        },
        {
         "hoverinfo": "text",
         "marker": {
          "color": "rgb(0,116,217)"
         },
         "mode": "lines",
         "text": [
          "colores_zapatillas_sharpie_estilo_elegir",
          "",
          "",
          "puedes_tauro_acuario_oráculo_libra"
         ],
         "type": "scatter",
         "x": [
          1.3308775137490139,
          1.3692813415845426,
          1.3692813415845426,
          0
         ],
         "xaxis": "x",
         "y": [
          -4592.5,
          -4592.5,
          -4615,
          -4615
         ],
         "yaxis": "y"
        },
        {
         "hoverinfo": "text",
         "marker": {
          "color": "rgb(0,116,217)"
         },
         "mode": "lines",
         "text": [
          "doomscrolling_videojuegos_redes sociales_emojis_padres",
          "",
          "",
          "puedes_tauro_acuario_oráculo_libra"
         ],
         "type": "scatter",
         "x": [
          0,
          1.388483227373291,
          1.388483227373291,
          1.3692813415845426
         ],
         "xaxis": "x",
         "y": [
          -4575,
          -4575,
          -4603.75,
          -4603.75
         ],
         "yaxis": "y"
        },
        {
         "hoverinfo": "text",
         "marker": {
          "color": "rgb(0,116,217)"
         },
         "mode": "lines",
         "text": [
          "doomscrolling_videojuegos_redes sociales_emojis_padres",
          "",
          "",
          "puedes_tauro_acuario_oráculo_libra"
         ],
         "type": "scatter",
         "x": [
          1.3742722324986025,
          1.5132178245653298,
          1.5132178245653298,
          1.388483227373291
         ],
         "xaxis": "x",
         "y": [
          -4552.5,
          -4552.5,
          -4589.375,
          -4589.375
         ],
         "yaxis": "y"
        },
        {
         "hoverinfo": "text",
         "marker": {
          "color": "rgb(0,116,217)"
         },
         "mode": "lines",
         "text": [
          "contraseñas_dispositivos_información_apps_ciberseguridad",
          "",
          "",
          "aliexpress_clientes_pago_apostar_blacksip"
         ],
         "type": "scatter",
         "x": [
          0,
          1.2837542303621252,
          1.2837542303621252,
          0
         ],
         "xaxis": "x",
         "y": [
          -4625,
          -4625,
          -4635,
          -4635
         ],
         "yaxis": "y"
        },
        {
         "hoverinfo": "text",
         "marker": {
          "color": "rgb(0,116,217)"
         },
         "mode": "lines",
         "text": [
          "usuarios_ecommerce_check_point_aliexpress",
          "",
          "",
          "datos_empleados_adp_estudio_nube"
         ],
         "type": "scatter",
         "x": [
          1.2837542303621252,
          1.297794376277237,
          1.297794376277237,
          0
         ],
         "xaxis": "x",
         "y": [
          -4630,
          -4630,
          -4645,
          -4645
         ],
         "yaxis": "y"
        },
        {
         "hoverinfo": "text",
         "marker": {
          "color": "rgb(0,116,217)"
         },
         "mode": "lines",
         "text": [
          "usuarios_ecommerce_check_point_aliexpress",
          "",
          "",
          "usuarios_mercado_información_ecommerce_tecnología"
         ],
         "type": "scatter",
         "x": [
          1.5132178245653298,
          1.5651465793796016,
          1.5651465793796016,
          1.297794376277237
         ],
         "xaxis": "x",
         "y": [
          -4570.9375,
          -4570.9375,
          -4637.5,
          -4637.5
         ],
         "yaxis": "y"
        },
        {
         "hoverinfo": "text",
         "marker": {
          "color": "rgb(0,116,217)"
         },
         "mode": "lines",
         "text": [
          "alimentos_proteínas_huevitos_dieta_cafeína",
          "",
          "",
          "junaeb_preparaciones_huevos_productos_pan"
         ],
         "type": "scatter",
         "x": [
          0,
          1.2676636187295252,
          1.2676636187295252,
          0
         ],
         "xaxis": "x",
         "y": [
          -4655,
          -4655,
          -4665,
          -4665
         ],
         "yaxis": "y"
        },
        {
         "hoverinfo": "text",
         "marker": {
          "color": "rgb(0,116,217)"
         },
         "mode": "lines",
         "text": [
          "guía_corfo_sernatur_lagos_gastronómico",
          "",
          "",
          "salmón_kilos per_158_corfo_yocomochoritos"
         ],
         "type": "scatter",
         "x": [
          0,
          1.1831606134514892,
          1.1831606134514892,
          0
         ],
         "xaxis": "x",
         "y": [
          -4675,
          -4675,
          -4685,
          -4685
         ],
         "yaxis": "y"
        },
        {
         "hoverinfo": "text",
         "marker": {
          "color": "rgb(0,116,217)"
         },
         "mode": "lines",
         "text": [
          "guía_corfo_sernatur_lagos_gastronómico",
          "",
          "",
          "guía_corfo_sernatur_lagos_chileno"
         ],
         "type": "scatter",
         "x": [
          1.2676636187295252,
          1.5050018388888773,
          1.5050018388888773,
          1.1831606134514892
         ],
         "xaxis": "x",
         "y": [
          -4660,
          -4660,
          -4680,
          -4680
         ],
         "yaxis": "y"
        },
        {
         "hoverinfo": "text",
         "marker": {
          "color": "rgb(0,116,217)"
         },
         "mode": "lines",
         "text": [
          "guía_corfo_sernatur_lagos_gastronómico",
          "",
          "",
          "guía_corfo_sernatur_lagos_chileno"
         ],
         "type": "scatter",
         "x": [
          1.5651465793796016,
          1.6507915709074246,
          1.6507915709074246,
          1.5050018388888773
         ],
         "xaxis": "x",
         "y": [
          -4604.21875,
          -4604.21875,
          -4670,
          -4670
         ],
         "yaxis": "y"
        },
        {
         "hoverinfo": "text",
         "marker": {
          "color": "rgb(0,116,217)"
         },
         "mode": "lines",
         "text": [
          "guía_corfo_sernatur_lagos_gastronómico",
          "",
          "",
          "guía_corfo_sernatur_lagos_chileno"
         ],
         "type": "scatter",
         "x": [
          1.474199920177059,
          1.674056151349286,
          1.674056151349286,
          1.6507915709074246
         ],
         "xaxis": "x",
         "y": [
          -4501.25,
          -4501.25,
          -4637.109375,
          -4637.109375
         ],
         "yaxis": "y"
        },
        {
         "hoverinfo": "text",
         "marker": {
          "color": "rgb(0,116,217)"
         },
         "mode": "lines",
         "text": [
          "ocupación_tasa desocupación_2020_fuerza_2021",
          "",
          "",
          "guía_corfo_sernatur_lagos_chileno"
         ],
         "type": "scatter",
         "x": [
          0.9251297430972286,
          1.891839953406392,
          1.891839953406392,
          1.674056151349286
         ],
         "xaxis": "x",
         "y": [
          -4460,
          -4460,
          -4569.1796875,
          -4569.1796875
         ],
         "yaxis": "y"
        },
        {
         "hoverinfo": "text",
         "marker": {
          "color": "rgb(0,116,217)"
         },
         "mode": "lines",
         "text": [
          "tonga_metros_canarias_semeru_erupción volcán submarino",
          "",
          "",
          "onemi_alerta tsunami_shoa_crudo_golfo"
         ],
         "type": "scatter",
         "x": [
          0,
          1.2228160495526035,
          1.2228160495526035,
          0
         ],
         "xaxis": "x",
         "y": [
          -4705,
          -4705,
          -4715,
          -4715
         ],
         "yaxis": "y"
        },
        {
         "hoverinfo": "text",
         "marker": {
          "color": "rgb(0,116,217)"
         },
         "mode": "lines",
         "text": [
          "kentucky_beshear_illinois_tennessee_arkansas",
          "",
          "",
          "tsunami_alerta_onemi_evacuación_metros"
         ],
         "type": "scatter",
         "x": [
          0,
          1.4049146197896607,
          1.4049146197896607,
          1.2228160495526035
         ],
         "xaxis": "x",
         "y": [
          -4695,
          -4695,
          -4710,
          -4710
         ],
         "yaxis": "y"
        },
        {
         "hoverinfo": "text",
         "marker": {
          "color": "rgb(0,116,217)"
         },
         "mode": "lines",
         "text": [
          "mm_meteorológica_niña_praderas_dmc",
          "",
          "",
          "lluvias_caída_onemi_sistema frontal_cortes"
         ],
         "type": "scatter",
         "x": [
          0,
          1.2552286956302303,
          1.2552286956302303,
          0
         ],
         "xaxis": "x",
         "y": [
          -4725,
          -4725,
          -4735,
          -4735
         ],
         "yaxis": "y"
        },
        {
         "hoverinfo": "text",
         "marker": {
          "color": "rgb(0,116,217)"
         },
         "mode": "lines",
         "text": [
          "mm_precipitaciones_caída_grados_fenómeno",
          "",
          "",
          "tormentas_alerta_temprana_chile dmc_onemi"
         ],
         "type": "scatter",
         "x": [
          1.2552286956302303,
          1.3905515489380904,
          1.3905515489380904,
          0
         ],
         "xaxis": "x",
         "y": [
          -4730,
          -4730,
          -4745,
          -4745
         ],
         "yaxis": "y"
        },
        {
         "hoverinfo": "text",
         "marker": {
          "color": "rgb(0,116,217)"
         },
         "mode": "lines",
         "text": [
          "mm_precipitaciones_caída_grados_fenómeno",
          "",
          "",
          "tormentas_alerta_temprana_chile dmc_onemi"
         ],
         "type": "scatter",
         "x": [
          1.4049146197896607,
          1.5175362496115623,
          1.5175362496115623,
          1.3905515489380904
         ],
         "xaxis": "x",
         "y": [
          -4702.5,
          -4702.5,
          -4737.5,
          -4737.5
         ],
         "yaxis": "y"
        },
        {
         "hoverinfo": "text",
         "marker": {
          "color": "rgb(0,116,217)"
         },
         "mode": "lines",
         "text": [
          "siglo_caral_puerto varas_8500 años_ac",
          "",
          "",
          "millones años_fósil_investigadores_restos_chilesaurus"
         ],
         "type": "scatter",
         "x": [
          0,
          1.3129882420534236,
          1.3129882420534236,
          0
         ],
         "xaxis": "x",
         "y": [
          -4755,
          -4755,
          -4765,
          -4765
         ],
         "yaxis": "y"
        },
        {
         "hoverinfo": "text",
         "marker": {
          "color": "rgb(0,116,217)"
         },
         "mode": "lines",
         "text": [
          "glaciares_nieve_hielo marino antártico_extensión hielo_kilómetros cuadrados",
          "",
          "",
          "asteroide_erupciones_luna_ryugu_contenido agua"
         ],
         "type": "scatter",
         "x": [
          0,
          1.3244931823010446,
          1.3244931823010446,
          0
         ],
         "xaxis": "x",
         "y": [
          -4775,
          -4775,
          -4785,
          -4785
         ],
         "yaxis": "y"
        },
        {
         "hoverinfo": "text",
         "marker": {
          "color": "rgb(0,116,217)"
         },
         "mode": "lines",
         "text": [
          "nasa_tierra_láctea_agujero negro_masa",
          "",
          "",
          "eei_tripulación_axiom_estación espacial internacional_shatner"
         ],
         "type": "scatter",
         "x": [
          0,
          1.2937572247801932,
          1.2937572247801932,
          0
         ],
         "xaxis": "x",
         "y": [
          -4795,
          -4795,
          -4805,
          -4805
         ],
         "yaxis": "y"
        },
        {
         "hoverinfo": "text",
         "marker": {
          "color": "rgb(0,116,217)"
         },
         "mode": "lines",
         "text": [
          "nasa_tierra_láctea_agujero negro_masa",
          "",
          "",
          "nasa_estrella_eei_agujeros negros_tierra"
         ],
         "type": "scatter",
         "x": [
          1.3244931823010446,
          1.3909214363594116,
          1.3909214363594116,
          1.2937572247801932
         ],
         "xaxis": "x",
         "y": [
          -4780,
          -4780,
          -4800,
          -4800
         ],
         "yaxis": "y"
        },
        {
         "hoverinfo": "text",
         "marker": {
          "color": "rgb(0,116,217)"
         },
         "mode": "lines",
         "text": [
          "nasa_tierra_láctea_agujero negro_masa",
          "",
          "",
          "nasa_estrella_eei_agujeros negros_tierra"
         ],
         "type": "scatter",
         "x": [
          1.3129882420534236,
          1.4270547901879445,
          1.4270547901879445,
          1.3909214363594116
         ],
         "xaxis": "x",
         "y": [
          -4760,
          -4760,
          -4790,
          -4790
         ],
         "yaxis": "y"
        },
        {
         "hoverinfo": "text",
         "marker": {
          "color": "rgb(0,116,217)"
         },
         "mode": "lines",
         "text": [
          "estudio_antártica_condiciones_especie_científicos",
          "",
          "",
          "dr_uach_murúa_pelillo_muestreo"
         ],
         "type": "scatter",
         "x": [
          0,
          1.2587156989657462,
          1.2587156989657462,
          0
         ],
         "xaxis": "x",
         "y": [
          -4815,
          -4815,
          -4825,
          -4825
         ],
         "yaxis": "y"
        },
        {
         "hoverinfo": "text",
         "marker": {
          "color": "rgb(0,116,217)"
         },
         "mode": "lines",
         "text": [
          "estudio_antártica_condiciones_especie_científicos",
          "",
          "",
          "uach_dr_especies_universidad austral chile_carbono"
         ],
         "type": "scatter",
         "x": [
          1.4270547901879445,
          1.5120433001441174,
          1.5120433001441174,
          1.2587156989657462
         ],
         "xaxis": "x",
         "y": [
          -4775,
          -4775,
          -4820,
          -4820
         ],
         "yaxis": "y"
        },
        {
         "hoverinfo": "text",
         "marker": {
          "color": "rgb(0,116,217)"
         },
         "mode": "lines",
         "text": [
          "estudio_antártica_condiciones_especie_científicos",
          "",
          "",
          "uach_dr_especies_universidad austral chile_carbono"
         ],
         "type": "scatter",
         "x": [
          1.5175362496115623,
          1.7517940789423567,
          1.7517940789423567,
          1.5120433001441174
         ],
         "xaxis": "x",
         "y": [
          -4720,
          -4720,
          -4797.5,
          -4797.5
         ],
         "yaxis": "y"
        },
        {
         "hoverinfo": "text",
         "marker": {
          "color": "rgb(0,116,217)"
         },
         "mode": "lines",
         "text": [
          "estudio_antártica_condiciones_especie_científicos",
          "",
          "",
          "uach_dr_especies_universidad austral chile_carbono"
         ],
         "type": "scatter",
         "x": [
          1.891839953406392,
          1.9286339347016452,
          1.9286339347016452,
          1.7517940789423567
         ],
         "xaxis": "x",
         "y": [
          -4514.58984375,
          -4514.58984375,
          -4758.75,
          -4758.75
         ],
         "yaxis": "y"
        },
        {
         "hoverinfo": "text",
         "marker": {
          "color": "rgb(40,35,35)"
         },
         "mode": "lines",
         "text": [
          "oliva_pimienta_dontinto_peralta dontinto_cocina don tinto",
          "",
          "",
          "oliva_minutos_ml_añadir_mezcla"
         ],
         "type": "scatter",
         "x": [
          0,
          0.85143490932792,
          0.85143490932792,
          0
         ],
         "xaxis": "x",
         "y": [
          -4835,
          -4835,
          -4845,
          -4845
         ],
         "yaxis": "y"
        },
        {
         "hoverinfo": "text",
         "marker": {
          "color": "rgb(0,116,217)"
         },
         "mode": "lines",
         "text": [
          "oliva_pimienta_dontinto_peralta dontinto_cocina don tinto",
          "",
          "",
          "taza_oliva_sal pimienta_horno_minutos"
         ],
         "type": "scatter",
         "x": [
          1.9286339347016452,
          1.9467122992662582,
          1.9467122992662582,
          0.85143490932792
         ],
         "xaxis": "x",
         "y": [
          -4636.669921875,
          -4636.669921875,
          -4840,
          -4840
         ],
         "yaxis": "y"
        },
        {
         "hoverinfo": "text",
         "marker": {
          "color": "rgb(0,116,217)"
         },
         "mode": "lines",
         "text": [
          "oliva_pimienta_dontinto_peralta dontinto_cocina don tinto",
          "",
          "",
          "taza_oliva_sal pimienta_horno_minutos"
         ],
         "type": "scatter",
         "x": [
          2.076643884568893,
          2.181037094124307,
          2.181037094124307,
          1.9467122992662582
         ],
         "xaxis": "x",
         "y": [
          -4119.43359375,
          -4119.43359375,
          -4738.3349609375,
          -4738.3349609375
         ],
         "yaxis": "y"
        },
        {
         "hoverinfo": "text",
         "marker": {
          "color": "rgb(0,116,217)"
         },
         "mode": "lines",
         "text": [
          "oliva_pimienta_dontinto_peralta dontinto_cocina don tinto",
          "",
          "",
          "taza_oliva_sal pimienta_horno_minutos"
         ],
         "type": "scatter",
         "x": [
          2.186397472844297,
          2.271528174869596,
          2.271528174869596,
          2.181037094124307
         ],
         "xaxis": "x",
         "y": [
          -3681.962890625,
          -3681.962890625,
          -4428.88427734375,
          -4428.88427734375
         ],
         "yaxis": "y"
        },
        {
         "hoverinfo": "text",
         "marker": {
          "color": "rgb(0,116,217)"
         },
         "mode": "lines",
         "text": [
          "oliva_pimienta_dontinto_peralta dontinto_cocina don tinto",
          "",
          "",
          "taza_oliva_sal pimienta_horno_minutos"
         ],
         "type": "scatter",
         "x": [
          2.1375547792474907,
          2.8166487299604097,
          2.8166487299604097,
          2.271528174869596
         ],
         "xaxis": "x",
         "y": [
          -3084.6875,
          -3084.6875,
          -4055.423583984375,
          -4055.423583984375
         ],
         "yaxis": "y"
        },
        {
         "hoverinfo": "text",
         "marker": {
          "color": "rgb(0,116,217)"
         },
         "mode": "lines",
         "text": [
          "martinna_dios_gente_historia_said",
          "",
          "",
          "novela_quino_colombo_cornwell_mafalda"
         ],
         "type": "scatter",
         "x": [
          0,
          1.3272750215630813,
          1.3272750215630813,
          0
         ],
         "xaxis": "x",
         "y": [
          -4855,
          -4855,
          -4865,
          -4865
         ],
         "yaxis": "y"
        },
        {
         "hoverinfo": "text",
         "marker": {
          "color": "rgb(0,116,217)"
         },
         "mode": "lines",
         "text": [
          "libro_literatura_escritor_gurnah_escribir",
          "",
          "",
          "onlyfans_movimiento_rosabetty_schmitt_tololopampa"
         ],
         "type": "scatter",
         "x": [
          0,
          1.1268736191138455,
          1.1268736191138455,
          0
         ],
         "xaxis": "x",
         "y": [
          -4875,
          -4875,
          -4885,
          -4885
         ],
         "yaxis": "y"
        },
        {
         "hoverinfo": "text",
         "marker": {
          "color": "rgb(0,116,217)"
         },
         "mode": "lines",
         "text": [
          "libro_literatura_escritor_gurnah_escribir",
          "",
          "",
          "poesía_editorial_tiempo_ediciones_historia"
         ],
         "type": "scatter",
         "x": [
          1.3272750215630813,
          1.433363905304442,
          1.433363905304442,
          1.1268736191138455
         ],
         "xaxis": "x",
         "y": [
          -4860,
          -4860,
          -4880,
          -4880
         ],
         "yaxis": "y"
        },
        {
         "hoverinfo": "text",
         "marker": {
          "color": "rgb(0,116,217)"
         },
         "mode": "lines",
         "text": [
          "súper_canal_siempre_programas_periodista",
          "",
          "",
          "cantante_carrera_méxico_amor_años"
         ],
         "type": "scatter",
         "x": [
          0,
          1.1579383751089853,
          1.1579383751089853,
          0
         ],
         "xaxis": "x",
         "y": [
          -4895,
          -4895,
          -4905,
          -4905
         ],
         "yaxis": "y"
        },
        {
         "hoverinfo": "text",
         "marker": {
          "color": "rgb(0,116,217)"
         },
         "mode": "lines",
         "text": [
          "súper_cantante_siento_años_programa",
          "",
          "",
          "disco_león_bien_vivo_cantar"
         ],
         "type": "scatter",
         "x": [
          1.1579383751089853,
          1.272933535612015,
          1.272933535612015,
          0
         ],
         "xaxis": "x",
         "y": [
          -4900,
          -4900,
          -4915,
          -4915
         ],
         "yaxis": "y"
        },
        {
         "hoverinfo": "text",
         "marker": {
          "color": "rgb(0,116,217)"
         },
         "mode": "lines",
         "text": [
          "súper_cantante_siento_años_programa",
          "",
          "",
          "disco_león_bien_vivo_cantar"
         ],
         "type": "scatter",
         "x": [
          1.433363905304442,
          1.615562879984869,
          1.615562879984869,
          1.272933535612015
         ],
         "xaxis": "x",
         "y": [
          -4870,
          -4870,
          -4907.5,
          -4907.5
         ],
         "yaxis": "y"
        },
        {
         "hoverinfo": "text",
         "marker": {
          "color": "rgb(0,116,217)"
         },
         "mode": "lines",
         "text": [
          "music_discos_canción_asmr_grammy",
          "",
          "",
          "banda_abba_rauw_dance fever_temas"
         ],
         "type": "scatter",
         "x": [
          0,
          1.1202753202336073,
          1.1202753202336073,
          0
         ],
         "xaxis": "x",
         "y": [
          -4935,
          -4935,
          -4945,
          -4945
         ],
         "yaxis": "y"
        },
        {
         "hoverinfo": "text",
         "marker": {
          "color": "rgb(0,116,217)"
         },
         "mode": "lines",
         "text": [
          "concierto_movistar arena_bad_lollapalooza_anunció",
          "",
          "",
          "the_music_canción_bunny_bad"
         ],
         "type": "scatter",
         "x": [
          0,
          1.2390415219505848,
          1.2390415219505848,
          1.1202753202336073
         ],
         "xaxis": "x",
         "y": [
          -4925,
          -4925,
          -4940,
          -4940
         ],
         "yaxis": "y"
        },
        {
         "hoverinfo": "text",
         "marker": {
          "color": "rgb(0,116,217)"
         },
         "mode": "lines",
         "text": [
          "concierto_movistar arena_bad_lollapalooza_anunció",
          "",
          "",
          "sheeran_rosalía_motomami_ed sheeran_balvin"
         ],
         "type": "scatter",
         "x": [
          1.2390415219505848,
          1.281299027465896,
          1.281299027465896,
          0
         ],
         "xaxis": "x",
         "y": [
          -4932.5,
          -4932.5,
          -4955,
          -4955
         ],
         "yaxis": "y"
        },
        {
         "hoverinfo": "text",
         "marker": {
          "color": "rgb(0,116,217)"
         },
         "mode": "lines",
         "text": [
          "concierto_movistar arena_bad_lollapalooza_anunció",
          "",
          "",
          "grammy_laferte_latin_mon laferte_bad bunny"
         ],
         "type": "scatter",
         "x": [
          1.281299027465896,
          1.2920955848397055,
          1.2920955848397055,
          0
         ],
         "xaxis": "x",
         "y": [
          -4943.75,
          -4943.75,
          -4965,
          -4965
         ],
         "yaxis": "y"
        },
        {
         "hoverinfo": "text",
         "marker": {
          "color": "rgb(0,116,217)"
         },
         "mode": "lines",
         "text": [
          "concierto_movistar arena_bad_lollapalooza_anunció",
          "",
          "",
          "grammy_laferte_latin_mon laferte_bad bunny"
         ],
         "type": "scatter",
         "x": [
          1.615562879984869,
          1.957104815482211,
          1.957104815482211,
          1.2920955848397055
         ],
         "xaxis": "x",
         "y": [
          -4888.75,
          -4888.75,
          -4954.375,
          -4954.375
         ],
         "yaxis": "y"
        },
        {
         "hoverinfo": "text",
         "marker": {
          "color": "rgb(0,116,217)"
         },
         "mode": "lines",
         "text": [
          "bestia_platino_mejor cortometraje_annie_covarrubias",
          "",
          "",
          "mejor película_bafta_coda_oro_perro"
         ],
         "type": "scatter",
         "x": [
          0,
          1.0765879264106906,
          1.0765879264106906,
          0
         ],
         "xaxis": "x",
         "y": [
          -4975,
          -4975,
          -4985,
          -4985
         ],
         "yaxis": "y"
        },
        {
         "hoverinfo": "text",
         "marker": {
          "color": "rgb(0,116,217)"
         },
         "mode": "lines",
         "text": [
          "indira_garcía márquez_madre_spears_menem",
          "",
          "",
          "actriz_jappening_vicuña_suárez_jappening ja"
         ],
         "type": "scatter",
         "x": [
          0,
          1.293017204265479,
          1.293017204265479,
          0
         ],
         "xaxis": "x",
         "y": [
          -4995,
          -4995,
          -5005,
          -5005
         ],
         "yaxis": "y"
        },
        {
         "hoverinfo": "text",
         "marker": {
          "color": "rgb(0,116,217)"
         },
         "mode": "lines",
         "text": [
          "actor_chris rock_gala_jada_pinkett",
          "",
          "",
          "baldwin_depp_hutchins_rodaje_alec"
         ],
         "type": "scatter",
         "x": [
          0,
          1.335315679897758,
          1.335315679897758,
          0
         ],
         "xaxis": "x",
         "y": [
          -5015,
          -5015,
          -5025,
          -5025
         ],
         "yaxis": "y"
        },
        {
         "hoverinfo": "text",
         "marker": {
          "color": "rgb(0,116,217)"
         },
         "mode": "lines",
         "text": [
          "actor_chris rock_gala_jada_pinkett",
          "",
          "",
          "willis_bruce_emily_ulliel_películas"
         ],
         "type": "scatter",
         "x": [
          1.335315679897758,
          1.3510629012931157,
          1.3510629012931157,
          0
         ],
         "xaxis": "x",
         "y": [
          -5020,
          -5020,
          -5035,
          -5035
         ],
         "yaxis": "y"
        },
        {
         "hoverinfo": "text",
         "marker": {
          "color": "rgb(0,116,217)"
         },
         "mode": "lines",
         "text": [
          "actor_madre_indira_spears_menem",
          "",
          "",
          "willis_bruce_emily_ulliel_películas"
         ],
         "type": "scatter",
         "x": [
          1.293017204265479,
          1.3886086648037166,
          1.3886086648037166,
          1.3510629012931157
         ],
         "xaxis": "x",
         "y": [
          -5000,
          -5000,
          -5027.5,
          -5027.5
         ],
         "yaxis": "y"
        },
        {
         "hoverinfo": "text",
         "marker": {
          "color": "rgb(0,116,217)"
         },
         "mode": "lines",
         "text": [
          "película_netflix_batman_personaje_hbo",
          "",
          "",
          "película_cómo_stewart_hermanos_personajes"
         ],
         "type": "scatter",
         "x": [
          0,
          1.2075132391345587,
          1.2075132391345587,
          0
         ],
         "xaxis": "x",
         "y": [
          -5055,
          -5055,
          -5065,
          -5065
         ],
         "yaxis": "y"
        },
        {
         "hoverinfo": "text",
         "marker": {
          "color": "rgb(0,116,217)"
         },
         "mode": "lines",
         "text": [
          "jesús_película_nazareth_mesías_scorsese",
          "",
          "",
          "película_netflix_hbo_disney_universo"
         ],
         "type": "scatter",
         "x": [
          0,
          1.3072066919516,
          1.3072066919516,
          1.2075132391345587
         ],
         "xaxis": "x",
         "y": [
          -5045,
          -5045,
          -5060,
          -5060
         ],
         "yaxis": "y"
        },
        {
         "hoverinfo": "text",
         "marker": {
          "color": "rgb(0,116,217)"
         },
         "mode": "lines",
         "text": [
          "jesús_película_nazareth_mesías_scorsese",
          "",
          "",
          "ps5_ps4_pokémon_saga_jugadores"
         ],
         "type": "scatter",
         "x": [
          1.3072066919516,
          1.368103537557865,
          1.368103537557865,
          0
         ],
         "xaxis": "x",
         "y": [
          -5052.5,
          -5052.5,
          -5075,
          -5075
         ],
         "yaxis": "y"
        },
        {
         "hoverinfo": "text",
         "marker": {
          "color": "rgb(0,116,217)"
         },
         "mode": "lines",
         "text": [
          "jesús_película_nazareth_mesías_scorsese",
          "",
          "",
          "ps5_ps4_pokémon_saga_jugadores"
         ],
         "type": "scatter",
         "x": [
          1.3886086648037166,
          1.521462594329429,
          1.521462594329429,
          1.368103537557865
         ],
         "xaxis": "x",
         "y": [
          -5013.75,
          -5013.75,
          -5063.75,
          -5063.75
         ],
         "yaxis": "y"
        },
        {
         "hoverinfo": "text",
         "marker": {
          "color": "rgb(0,116,217)"
         },
         "mode": "lines",
         "text": [
          "mejor película_the_categoría_bafta_perro",
          "",
          "",
          "ps5_ps4_pokémon_saga_jugadores"
         ],
         "type": "scatter",
         "x": [
          1.0765879264106906,
          1.5668826823127215,
          1.5668826823127215,
          1.521462594329429
         ],
         "xaxis": "x",
         "y": [
          -4980,
          -4980,
          -5038.75,
          -5038.75
         ],
         "yaxis": "y"
        },
        {
         "hoverinfo": "text",
         "marker": {
          "color": "rgb(0,116,217)"
         },
         "mode": "lines",
         "text": [
          "mejor película_the_categoría_bafta_perro",
          "",
          "",
          "ps5_ps4_pokémon_saga_jugadores"
         ],
         "type": "scatter",
         "x": [
          1.957104815482211,
          1.9858007716660737,
          1.9858007716660737,
          1.5668826823127215
         ],
         "xaxis": "x",
         "y": [
          -4921.5625,
          -4921.5625,
          -5009.375,
          -5009.375
         ],
         "yaxis": "y"
        },
        {
         "hoverinfo": "text",
         "marker": {
          "color": "rgb(0,116,217)"
         },
         "mode": "lines",
         "text": [
          "mejor película_the_categoría_bafta_perro",
          "",
          "",
          "ps5_ps4_pokémon_saga_jugadores"
         ],
         "type": "scatter",
         "x": [
          2.8166487299604097,
          2.911528671369958,
          2.911528671369958,
          1.9858007716660737
         ],
         "xaxis": "x",
         "y": [
          -3570.0555419921875,
          -3570.0555419921875,
          -4965.46875,
          -4965.46875
         ],
         "yaxis": "y"
        },
        {
         "hoverinfo": "text",
         "marker": {
          "color": "rgb(61,153,112)"
         },
         "mode": "lines",
         "text": [
          "jsdcreateelement_jsdcreateelement jsidid_jsdcreateelement jsidid jssrcp_jsidid_jsidid jssrcp",
          "",
          "",
          "js_dlocation_comment name email_new date_dlocation http https"
         ],
         "type": "scatter",
         "x": [
          0,
          0.3695813753328943,
          0.3695813753328943,
          0
         ],
         "xaxis": "x",
         "y": [
          -5095,
          -5095,
          -5105,
          -5105
         ],
         "yaxis": "y"
        },
        {
         "hoverinfo": "text",
         "marker": {
          "color": "rgb(61,153,112)"
         },
         "mode": "lines",
         "text": [
          "id_penal castro_fjsdgetelementsbytagname phttp_twitterwjs_fjsparentnodeinsertbefore",
          "",
          "",
          "fjsparentnodeinsertbefore_fundacionrem_fjsdgetelementsbytagname phttp_https if dgetelementbyid_fjsdgetelementsbytagname"
         ],
         "type": "scatter",
         "x": [
          0,
          0.5219533606186457,
          0.5219533606186457,
          0.3695813753328943
         ],
         "xaxis": "x",
         "y": [
          -5085,
          -5085,
          -5100,
          -5100
         ],
         "yaxis": "y"
        },
        {
         "hoverinfo": "text",
         "marker": {
          "color": "rgb(0,116,217)"
         },
         "mode": "lines",
         "text": [
          "id_penal castro_fjsdgetelementsbytagname phttp_twitterwjs_fjsparentnodeinsertbefore",
          "",
          "",
          "test dlocation_phttp_jsidid_jsdcreateelement_js fjs document"
         ],
         "type": "scatter",
         "x": [
          2.911528671369958,
          3.529964950065254,
          3.529964950065254,
          0.5219533606186457
         ],
         "xaxis": "x",
         "y": [
          -4267.762145996094,
          -4267.762145996094,
          -5092.5,
          -5092.5
         ],
         "yaxis": "y"
        },
        {
         "hoverinfo": "text",
         "marker": {
          "color": "rgb(0,116,217)"
         },
         "mode": "lines",
         "text": [
          "id_penal castro_fjsdgetelementsbytagname phttp_twitterwjs_fjsparentnodeinsertbefore",
          "",
          "",
          "test dlocation_phttp_jsidid_jsdcreateelement_js fjs document"
         ],
         "type": "scatter",
         "x": [
          2.354940720970548,
          4.535893017076697,
          4.535893017076697,
          3.529964950065254
         ],
         "xaxis": "x",
         "y": [
          -2864.375,
          -2864.375,
          -4680.131072998047,
          -4680.131072998047
         ],
         "yaxis": "y"
        },
        {
         "hoverinfo": "text",
         "marker": {
          "color": "rgb(0,116,217)"
         },
         "mode": "lines",
         "text": [
          "id_penal castro_fjsdgetelementsbytagname phttp_twitterwjs_fjsparentnodeinsertbefore",
          "",
          "",
          "test dlocation_phttp_jsidid_jsdcreateelement_js fjs document"
         ],
         "type": "scatter",
         "x": [
          3.938277990350034,
          5.0693580406118475,
          5.0693580406118475,
          4.535893017076697
         ],
         "xaxis": "x",
         "y": [
          -2002.8277587890625,
          -2002.8277587890625,
          -3772.2530364990234,
          -3772.2530364990234
         ],
         "yaxis": "y"
        },
        {
         "hoverinfo": "text",
         "marker": {
          "color": "rgb(0,116,217)"
         },
         "mode": "lines",
         "text": [
          "uci_provincia_covid19_ventilación_salud",
          "",
          "",
          "test dlocation_phttp_jsidid_jsdcreateelement_js fjs document"
         ],
         "type": "scatter",
         "x": [
          2.2583926708115936,
          5.439740221931331,
          5.439740221931331,
          5.0693580406118475
         ],
         "xaxis": "x",
         "y": [
          -74.84375,
          -74.84375,
          -2887.540397644043,
          -2887.540397644043
         ],
         "yaxis": "y"
        },
        {
         "hoverinfo": "text",
         "hovertext": [
          "covid19_nuevos casos_camas_minsal_nivel nacional",
          "covid19_minsal_nuevos casos_camas_paris",
          "dosis_casos_red salud regional_covid_nuevos",
          "residencia_región_contagios_reportaron_integrada salud",
          "aislamiento_intermedio_coronavirus_ancud_internadas",
          "provincia_contagios_osorno_activos_camas uci",
          "covid19_minsal_nuevos casos_24 horas_salud",
          "mayores_senama_personas_100 líderes_aroca",
          "niños_campaña_viejito_correoschile_regalo",
          "jardín infantil_junji_educación_cuna_fundación integra",
          "jardín infantil_junji_educación_cuna_fundación integra",
          "adolescentes_niñas_servicio mejor niñez_adolescencia_especializada",
          "terreno_servicios públicos_consultas_seremía_oficina regularización",
          "vecina_farmacia ciudadana_rahue_cenabast_fármacos",
          "vecina_farmacia ciudadana_rahue_cenabast_fármacos",
          "5g_óptica_localidades_hughes_social red",
          "templo_pauly_diseño_huyar bajo_casa pauly",
          "vivienda_hualaihué_comuna_ciudadana_cerro philippi",
          "subdere_cierre perimetral_verdes_junta vecinos_calle",
          "aniversario_batalla_casa chilota_464_alcalde",
          "aniversario_batalla_casa chilota_464_alcalde",
          "rampa_rilán_dirección obras portuarias_refugio_borde",
          "chacao_isla_fry_va_proyecto",
          "chacao_isla_fry_va_proyecto",
          "urbanismo_minvu_materiales_proyecto_sueño",
          "superintendente_kauak_institución_años_tercera compañía bomberos",
          "superintendente_kauak_institución_años_tercera compañía bomberos",
          "proyectos_organizaciones sociales_concurso_fril_millones pesos",
          "proyectos_organizaciones sociales_concurso_fril_millones pesos",
          "gobernador_vallespín_vallespin_licitaciones_palena",
          "giovanna_delegada presidencial regional_vecinos_pailalef_trabajo",
          "gobernadores_vallespin_giovanna_boric_delegada presidencial regional",
          "gobernadores_vallespin_giovanna_boric_delegada presidencial regional",
          "gobernadores_vallespin_giovanna_boric_delegada presidencial regional",
          "essal_aguas servidas_varas_llanquihue_malos",
          "tenglo_borde_plan tenglo_limpieza playas_bienes",
          "microbasurales_vecinos_retiro_puntos_empresa",
          "humedal urbano_medio_protección_urbanos_bosque",
          "escasez_decreto_apr_consultivo_gobernador",
          "apr_aljibe_camión_sectores_escasez",
          "aquasur_consejo_salmonchile_aquasur 2022_industria acuícola",
          "aquasur_consejo_salmonchile_aquasur 2022_industria acuícola",
          "turberas_agua_pomponales_comisión medio ambiente_sbap",
          "turberas_agua_pomponales_comisión medio ambiente_sbap",
          "planeta_reloj_inundaciones_kilotoneladas_impactos",
          "planeta_reloj_inundaciones_kilotoneladas_impactos",
          "planeta_reloj_inundaciones_kilotoneladas_impactos",
          "planeta_reloj_inundaciones_kilotoneladas_impactos",
          "ruta parques patagonia_conservación_pti_corfo_conaf",
          "ruta parques patagonia_conservación_pti_corfo_conaf",
          "primer tramo_observatorio_turismo_pilauco_diseño",
          "primer tramo_observatorio_turismo_pilauco_diseño",
          "productos_campesina_feria municipal emprendedores_navideña_purranque",
          "productos_campesina_feria municipal emprendedores_navideña_purranque",
          "productos_campesina_feria municipal emprendedores_navideña_purranque",
          "arqueología_jornadas_proyecto explora_festival ciencia lagos_sede",
          "nativo_artes_artistas_galería_centro cultural bosque",
          "libro_universidad_ciencia tecnología conocimiento_sede puerto montt_uach",
          "libro_universidad_ciencia tecnología conocimiento_sede puerto montt_uach",
          "libro_universidad_ciencia tecnología conocimiento_sede puerto montt_uach",
          "maillen_maillen puqueldón_slep_problemas_daem",
          "estudiantes_uach_sede_liceo_ciencias",
          "obras_complementarias_hospital_regional vialidad_serviu",
          "obras_complementarias_hospital_regional vialidad_serviu",
          "obras_complementarias_hospital_regional vialidad_serviu",
          "chiloé_chile_mujeres_país_diálogo",
          "chiloé_chile_mujeres_país_diálogo",
          "mascarilla_obligatorio_paso_espacios abiertos_metro",
          "comuna_fase_enero_evento_alcalde",
          "comuna_fase_enero_evento_alcalde",
          "pcr_pasos_negativo_deberán_declaración jurada",
          "becerra_seremi salud_paso_religiosas_brotes",
          "educacionales_cuarentena_presenciales_estrechos_casos positivos",
          "variante_vacunados_pauta completa_muertes_países",
          "variante_vacunados_pauta completa_muertes_países",
          "montagnier_imii_kalergis_medicina_vih",
          "montagnier_imii_kalergis_medicina_vih",
          "montagnier_imii_kalergis_medicina_vih",
          "bebé_nacido_servicio salud_ancud_trabajador",
          "bebé_nacido_servicio salud_ancud_trabajador",
          "atenciones_urgencia_cirugía_consultas_cesfam",
          "atenciones_urgencia_cirugía_consultas_cesfam",
          "cáncer mama_tratamiento_síntomas_física_especialista",
          "solar_puede_especialista_protector_lentes",
          "solar_puede_especialista_protector_lentes",
          "mujeres_género_acoso_encuesta_participación",
          "mujeres_género_acoso_encuesta_participación",
          "mujeres_género_acoso_encuesta_participación",
          "mujeres_género_acoso_encuesta_participación",
          "mujeres_género_acoso_encuesta_participación",
          "pan_parafina_canasta_iva_pesos",
          "banco_central_tasa interés_mercado_retiros",
          "petróleo_países_sanciones_opep_dólares",
          "petróleo_países_sanciones_opep_dólares",
          "petróleo_países_sanciones_opep_dólares",
          "cámaras_seguridad pública_robos_pelluco_vecinos",
          "pelluco_cámaras_artificiales_clandestinas_comuna",
          "senda_accidentes_fiscalizaciones_carabineros_marihuana",
          "samu_accidente tránsito_lugar_carabineros_camioneta",
          "samu_accidente tránsito_lugar_carabineros_camioneta",
          "hallazgo_médico legal_cuerpo vida_personal_terceras",
          "fiscal_teiguel_pericias_mochilero_pdi",
          "fiscal_teiguel_pericias_mochilero_pdi",
          "fiscal_teiguel_pericias_mochilero_pdi",
          "llamas_vivienda_labocar_puerto varas_adulto",
          "incendio forestal_casas_camilo henríquez_pucoihue_conaf",
          "incendio forestal_casas_camilo henríquez_pucoihue_conaf",
          "incendio forestal_casas_camilo henríquez_pucoihue_conaf",
          "incendio forestal_casas_camilo henríquez_pucoihue_conaf",
          "macrozona_abstenciones_biobío_provincias_cámara",
          "macrozona_abstenciones_biobío_provincias_cámara",
          "retiros_appen_boric_presidente electo_señales",
          "boric_piñera_presidente electo gabriel_siches_cambio mando",
          "boric_piñera_presidente electo gabriel_siches_cambio mando",
          "dominga_papers_pandora_sebastián piñera_acusación constitucional presidente",
          "kast_boric_candidato_sichel_josé antonio",
          "kast_boric_candidato_sichel_josé antonio",
          "kast_boric_candidato_sichel_josé antonio",
          "servel_mesa_electoral_vocal_noviembre",
          "servel_mesa_electoral_vocal_noviembre",
          "excepción_araucanía_biobío_ataque_provincias",
          "apoyos_normas_pleno_convención constitucional_nueva",
          "convención_constitución_cámara_comisión sistema político_plebiscito",
          "convención_constitución_cámara_comisión sistema político_plebiscito",
          "chiloé_firmas_15 mil_constituyente_convencionales",
          "chiloé_firmas_15 mil_constituyente_convencionales",
          "chiloé_firmas_15 mil_constituyente_convencionales",
          "minutos_área_palestino_partido_uc",
          "colo_esteban valencia_cristián_primer equipo_azules",
          "colo_esteban valencia_cristián_primer equipo_azules",
          "colo_esteban valencia_cristián_primer equipo_azules",
          "tobar_castrilli_zampedri_var_colo",
          "paraguay_catar_mundial_ecuador_victorias",
          "paraguay_catar_mundial_ecuador_victorias",
          "roja_ben_selección chilena_martín lasarte_duelo",
          "lasarte_brereton_martín lasarte_ben_selección chilena",
          "lasarte_brereton_martín lasarte_ben_selección chilena",
          "inter_champions_real_madrid_final",
          "inter_champions_real_madrid_final",
          "inter_champions_real_madrid_final",
          "deportistas_km_avosur_recorrido_corredores",
          "fútbol_rama_certamen_montt_series",
          "aba_atlético puerto_copa_ánimas_puntos",
          "planos_juegos_400_medallas oro_araucanía",
          "ind_mindep_lindemann_juegos deportivos escolares_actividad",
          "ind_mindep_lindemann_juegos deportivos escolares_actividad",
          "ind_mindep_lindemann_juegos deportivos escolares_actividad",
          "carelmapu_cultural_duelo regional_chiloé_barducci",
          "bombo fica_cueca_competencia_festival osorno leche_jaivas",
          "raquel_montecarmelo_sello excelencia artesanía_cestería_sogas",
          "raquel_montecarmelo_sello excelencia artesanía_cestería_sogas",
          "arte_obra_gogh_torlonia_lisa",
          "arte_obra_gogh_torlonia_lisa",
          "hiriart_lucía_dama_apartheid_garretón",
          "yarur_weitzler_ex_darío_juan carlos yarur",
          "monseñor_fieles_valdés_parroquias_vía crucis",
          "monseñor_fieles_valdés_parroquias_vía crucis",
          "monseñor_fieles_valdés_parroquias_vía crucis",
          "rancagua_rienda_caballos_asociación_mohr",
          "djokovic_tabilo_garin_jarry_novak",
          "djokovic_tabilo_garin_jarry_novak",
          "downing_boris_fiestas_reino unido_starmer",
          "downing_boris_fiestas_reino unido_starmer",
          "escazú_acuerdo escazú_democracia_cumbre américas_américa latina caribe",
          "parejas_sexo_civil_iguales_ley matrimonio igualitario",
          "parejas_sexo_civil_iguales_ley matrimonio igualitario",
          "saab_expresidente_fujimori_capitolio_maduro",
          "izurieta_malversación caudales públicos_arraigo_espinosa_rutherford",
          "izurieta_malversación caudales públicos_arraigo_espinosa_rutherford",
          "corte_juez_apelaciones puerto montt_juramento_titular",
          "corte_juez_apelaciones puerto montt_juramento_titular",
          "corte_juez_apelaciones puerto montt_juramento_titular",
          "saesa_fontecilla_servicio cliente saesa_800 600_800 600 801",
          "santa_plan_puntos control_aduana puerto montt_servicios",
          "solo uso_plásticos_plumavit_bombillas_expendio",
          "fonasa_devolución cotizaciones pagadas_exceso_rut_pago",
          "fonasa_devolución cotizaciones pagadas_exceso_rut_pago",
          "fonasa_devolución cotizaciones pagadas_exceso_rut_pago",
          "superficiales_datum_permanente continuo_consuntivo_solicitud derecho",
          "superficiales_datum_permanente continuo_consuntivo_solicitud derecho",
          "general_armada_capitán_unidad_iiiª",
          "sernapesca_kilos_ilegal_recursos_sernapesca lagos",
          "sernapesca_kilos_ilegal_recursos_sernapesca lagos",
          "sernapesca_extracción_toxinas marinas_roja_floraciones",
          "mariscos_calbuco_sernapesca_contaminados_paralizante",
          "mariscos_calbuco_sernapesca_contaminados_paralizante",
          "mariscos_calbuco_sernapesca_contaminados_paralizante",
          "pgu_pensión garantizada universal_solidario_mil_65",
          "sename_sence_reinserción social juvenil_kalen_armasur",
          "prueba_pdt_postulación_rendir_sistema admisión escolar",
          "carrera_estudiantes_pedagogía_formación_uach",
          "profesores_veto_colegio_proceso desmunicipalización_estatuto docente",
          "parcc_acción regional cambio_clim谩tico_consulta_corecc",
          "seremis_tardanza_autoridades_nombramiento_nuevo gobierno asuma",
          "energía_seremis_rd_diplomado_gabinete regional",
          "energía_seremis_rd_diplomado_gabinete regional",
          "convención_agrollanquihue_ideas_convencionales_voz",
          "convención_agrollanquihue_ideas_convencionales_voz",
          "convención_agrollanquihue_ideas_convencionales_voz",
          "indespa_sindicato_supersol_ley caletas_encargada regional indespa",
          "praderas_censo_fertilización_odepa_unidades productivas",
          "praderas_censo_fertilización_odepa_unidades productivas",
          "perros_ataques_agrollanquihue_ganado fauna silvestre_schwerter",
          "indespa_fundación chinquihue_chinquihue_directorio_ley",
          "indespa_fundación chinquihue_chinquihue_directorio_ley",
          "indespa_fundación chinquihue_chinquihue_directorio_ley",
          "pgu_beneficio_bono_pensión garantizada universal_ips",
          "deezer_música digital_betterfly_folgueira_kushki",
          "deezer_música digital_betterfly_folgueira_kushki",
          "colores_zapatillas_sharpie_estilo_elegir",
          "doomscrolling_videojuegos_redes sociales_emojis_padres",
          "usuarios_ecommerce_check_point_aliexpress",
          "usuarios_ecommerce_check_point_aliexpress",
          "guía_corfo_sernatur_lagos_gastronómico",
          "guía_corfo_sernatur_lagos_gastronómico",
          "guía_corfo_sernatur_lagos_gastronómico",
          "ocupación_tasa desocupación_2020_fuerza_2021",
          "mm_precipitaciones_caída_grados_fenómeno",
          "mm_precipitaciones_caída_grados_fenómeno",
          "nasa_tierra_láctea_agujero negro_masa",
          "nasa_tierra_láctea_agujero negro_masa",
          "estudio_antártica_condiciones_especie_científicos",
          "estudio_antártica_condiciones_especie_científicos",
          "estudio_antártica_condiciones_especie_científicos",
          "oliva_pimienta_dontinto_peralta dontinto_cocina don tinto",
          "oliva_pimienta_dontinto_peralta dontinto_cocina don tinto",
          "oliva_pimienta_dontinto_peralta dontinto_cocina don tinto",
          "oliva_pimienta_dontinto_peralta dontinto_cocina don tinto",
          "libro_literatura_escritor_gurnah_escribir",
          "súper_cantante_siento_años_programa",
          "súper_cantante_siento_años_programa",
          "concierto_movistar arena_bad_lollapalooza_anunció",
          "concierto_movistar arena_bad_lollapalooza_anunció",
          "concierto_movistar arena_bad_lollapalooza_anunció",
          "actor_chris rock_gala_jada_pinkett",
          "actor_madre_indira_spears_menem",
          "jesús_película_nazareth_mesías_scorsese",
          "jesús_película_nazareth_mesías_scorsese",
          "mejor película_the_categoría_bafta_perro",
          "mejor película_the_categoría_bafta_perro",
          "mejor película_the_categoría_bafta_perro",
          "id_penal castro_fjsdgetelementsbytagname phttp_twitterwjs_fjsparentnodeinsertbefore",
          "id_penal castro_fjsdgetelementsbytagname phttp_twitterwjs_fjsparentnodeinsertbefore",
          "id_penal castro_fjsdgetelementsbytagname phttp_twitterwjs_fjsparentnodeinsertbefore",
          "uci_provincia_covid19_ventilación_salud"
         ],
         "marker": {
          "color": "black"
         },
         "mode": "markers",
         "showlegend": false,
         "type": "scatter",
         "x": [
          0.9150205118893933,
          1.0614444323120211,
          1.0098405475245495,
          0.5778868676678798,
          1.1995330044417682,
          1.4424674576958216,
          1.331863831159898,
          1.300357745533765,
          1.365975774820773,
          1.1255400371565971,
          1.432333947270379,
          1.0322383943777762,
          1.3402260986445367,
          1.35108860736967,
          1.4628031299326676,
          1.2737052556055604,
          1.3658626111599437,
          1.3876778015733755,
          1.2661906311743136,
          1.4347488060667613,
          1.494342956485701,
          1.2868861210889855,
          1.3820040681970958,
          1.581395113302105,
          1.275488915575403,
          1.6888500976485632,
          1.684849573102865,
          1.2381926180949123,
          1.3374162846192583,
          1.375558676138996,
          1.2068495603206535,
          1.4393900998496276,
          1.5947642098341175,
          2.0141604629037406,
          1.1346560496087998,
          1.2379887130798766,
          1.5336719851741822,
          1.1243949536714752,
          1.295621257888679,
          1.3749060886815248,
          1.3849825557009807,
          1.348660384771139,
          1.3241308408140238,
          1.5321364595447486,
          1.5512384602914622,
          1.6895369059157415,
          1.6750841773623841,
          2.0896327603159395,
          1.2326916571907918,
          1.2966513489896816,
          1.3591931314300738,
          1.3778984664424958,
          1.2302467046657917,
          1.3316183807826947,
          1.715964289040683,
          1.3157571342072567,
          1.0554306112506908,
          1.3470937310468354,
          1.896530070252071,
          2.434403010088079,
          1.310382577041913,
          1.016172731310155,
          1.198457002040782,
          1.3110535641018486,
          1.3047727131502815,
          1.6181113937602216,
          1.6363103958362715,
          1.2479955774448837,
          1.2047307134259846,
          1.4059079155470053,
          1.5488192195981938,
          1.219941294724481,
          1.1869193888810097,
          1.1058217639666248,
          1.4866618589327756,
          1.3047740418994587,
          1.5470167608745813,
          1.7940500691803878,
          1.2941257112174815,
          1.3222131229807537,
          1.2628901086619257,
          1.410656998821643,
          1.1781114075615513,
          1.3093365126967882,
          1.2180055034053732,
          1.1931937103064887,
          1.26499952949431,
          1.4605272378296728,
          1.6856432779433377,
          2.0753858300784827,
          1.2826897391476775,
          1.1428387211497752,
          1.6131997096491568,
          2.404101106802541,
          2.1338167069936027,
          1.2504416201078066,
          1.3153924289496766,
          1.3764462899683831,
          1.0672478848850722,
          1.7082621965062557,
          1.2774132065611383,
          1.2986972406211739,
          1.3563591638957073,
          1.9879046224975119,
          1.3637944223882656,
          1.44185354695901,
          1.9934036909896555,
          2.9121319279962306,
          2.491011809007618,
          1.0899552222713509,
          1.2606704906349262,
          1.3673287638067597,
          1.2370324157152015,
          1.4043016554580687,
          1.4639834037217392,
          0.8989309649220205,
          1.3455047466515375,
          1.5889118341770736,
          1.1031735961451452,
          1.9827901526977594,
          1.3953104409781754,
          1.116266072771839,
          1.0773213042934895,
          1.2413702872859396,
          1.1549102463549268,
          2.361818073473868,
          3.6530548263214158,
          0.9834027205662466,
          1.2343344825312086,
          1.2173045471286268,
          1.2184816594774759,
          1.2916537193866218,
          1.2858005206234298,
          1.4304352732195558,
          1.2138150165384214,
          1.245758359883176,
          1.5515613299031805,
          0.917658450782157,
          1.6773341871097496,
          1.5679496312513514,
          1.1972640326338562,
          1.1499964207152833,
          1.0829830043984363,
          0.926952836335774,
          1.3101868087065012,
          1.4576408314613372,
          1.717807720270264,
          1.2700160471288455,
          1.2399685620341039,
          1.4158052757588777,
          1.3883524543392356,
          1.3947508557791461,
          1.437547597080659,
          1.3575535865440156,
          1.453188125895359,
          1.2394200220166378,
          1.5032567929784764,
          1.5336029216752876,
          1.3433257777410417,
          1.1301285783758113,
          1.6040614087928486,
          1.2901156338061142,
          1.3348618182572143,
          1.2948912093147675,
          1.4236303257852123,
          1.377271053915381,
          1.327470887276598,
          1.4058941142725834,
          1.5172063455167857,
          1.5477605423086116,
          1.439081877680949,
          1.8281286548954105,
          1.3823741025554137,
          1.3652382494923032,
          1.3722176845776943,
          1.3852097051653325,
          1.3943132794946436,
          1.44762660949678,
          1.5135474360677825,
          1.456770310206173,
          1.3212577055206216,
          1.2664559289331354,
          1.6831448709012498,
          1.191395455379066,
          1.2284746721497504,
          1.8947123957870298,
          1.9113630065978247,
          0.9327459897346911,
          1.151128399029665,
          1.2323105151189828,
          1.5844725113237605,
          1.270600676510091,
          1.3871262727015798,
          1.4642767263129122,
          1.2451592419596942,
          1.4715532056920635,
          1.3801797423996276,
          1.5357440446617063,
          1.3907328407832227,
          1.2530635681839724,
          1.4097585179103334,
          1.3221083758998164,
          1.4792193053546767,
          1.361809480848463,
          1.615381383199302,
          1.7423610391497217,
          1.5512336437496,
          1.357334262527663,
          1.3959367871293893,
          1.3308775137490139,
          1.3742722324986025,
          1.2837542303621252,
          1.5132178245653298,
          1.2676636187295252,
          1.5651465793796016,
          1.474199920177059,
          0.9251297430972286,
          1.2552286956302303,
          1.4049146197896607,
          1.3244931823010446,
          1.3129882420534236,
          1.4270547901879445,
          1.5175362496115623,
          1.891839953406392,
          1.9286339347016452,
          2.076643884568893,
          2.186397472844297,
          2.1375547792474907,
          1.3272750215630813,
          1.1579383751089853,
          1.433363905304442,
          1.2390415219505848,
          1.281299027465896,
          1.615562879984869,
          1.335315679897758,
          1.293017204265479,
          1.3072066919516,
          1.3886086648037166,
          1.0765879264106906,
          1.957104815482211,
          2.8166487299604097,
          2.911528671369958,
          2.354940720970548,
          3.938277990350034,
          2.2583926708115936
         ],
         "y": [
          -20,
          -16.25,
          -92.5,
          -70,
          -132.5,
          -86.875,
          -33.125,
          -202.5,
          -213.75,
          -260,
          -226.875,
          -180,
          -340,
          -380,
          -350,
          -320,
          -430,
          -440,
          -410,
          -432.5,
          -344.375,
          -520,
          -530,
          -403.4375,
          -292.5,
          -383.359375,
          -213.59375,
          -610,
          -617.5,
          -626.25,
          -670,
          -680,
          -638.125,
          -348.26171875,
          -770,
          -750,
          -765,
          -730,
          -840,
          -850,
          -942.5,
          -912.5,
          -990,
          -934.375,
          -967.1875,
          -866.25,
          -759.375,
          -507.412109375,
          -1100,
          -1080,
          -1093.75,
          -1052.5,
          -1190,
          -1153.75,
          -1082.1875,
          -1220,
          -1260,
          -1230,
          -1128.90625,
          -676.6552734375,
          -1332.5,
          -1310,
          -1440,
          -1412.5,
          -1382.5,
          -1406.25,
          -1328.125,
          -1500,
          -1530,
          -1496.25,
          -1518.125,
          -1620,
          -1600,
          -1660,
          -1615,
          -1702.5,
          -1642.5,
          -1545.3125,
          -1770,
          -1750,
          -1802.5,
          -1763.75,
          -1890,
          -1886.25,
          -1860,
          -1950,
          -1930,
          -1880.3125,
          -1790.625,
          -1612.34375,
          -2002.5,
          -1980,
          -1996.875,
          -1731.8359375,
          -1383.125,
          -2110,
          -2106.25,
          -2072.5,
          -2160,
          -2097.8125,
          -2200,
          -2242.5,
          -2210,
          -2133.90625,
          -2280,
          -2290,
          -2182.890625,
          -1629.443359375,
          -933.21044921875,
          -2380,
          -2352.5,
          -2410,
          -2452.5,
          -2420,
          -2443.125,
          -2580,
          -2534.375,
          -2472.8125,
          -2610,
          -2516.875,
          -2370,
          -2670,
          -2700,
          -2677.5,
          -2650,
          -2469.21875,
          -1435.108642578125,
          -2780,
          -2812.5,
          -2787.5,
          -2743.75,
          -2850,
          -2892.5,
          -2860,
          -2932.5,
          -2943.75,
          -2881.875,
          -2980,
          -2918.125,
          -2774.6875,
          -3060,
          -3040,
          -3020,
          -3100,
          -3142.5,
          -3110,
          -3037.5,
          -3200,
          -3180,
          -3250,
          -3230,
          -3280,
          -3243.75,
          -3320,
          -3265.625,
          -3350,
          -3290.9375,
          -3193.75,
          -3402.5,
          -3380,
          -3258.984375,
          -3480,
          -3460,
          -3530,
          -3562.5,
          -3526.25,
          -3620,
          -3616.25,
          -3551.25,
          -3592.1875,
          -3475,
          -3328.8671875,
          -3702.5,
          -3750,
          -3790,
          -3830,
          -3800,
          -3760,
          -3790,
          -3716.25,
          -3932.5,
          -3902.5,
          -3773.75,
          -3980,
          -3987.5,
          -3849.0625,
          -3441.26953125,
          -4020,
          -4070,
          -4140,
          -4081.875,
          -4170,
          -4210,
          -4220,
          -4270,
          -4235,
          -4300,
          -4256.25,
          -4180,
          -4340,
          -4392.5,
          -4370,
          -4388.125,
          -4347.5,
          -4231.5625,
          -4109.0625,
          -4031.25,
          -4510,
          -4482.5,
          -4592.5,
          -4552.5,
          -4630,
          -4570.9375,
          -4660,
          -4604.21875,
          -4501.25,
          -4460,
          -4730,
          -4702.5,
          -4780,
          -4760,
          -4775,
          -4720,
          -4514.58984375,
          -4636.669921875,
          -4119.43359375,
          -3681.962890625,
          -3084.6875,
          -4860,
          -4900,
          -4870,
          -4932.5,
          -4943.75,
          -4888.75,
          -5020,
          -5000,
          -5052.5,
          -5013.75,
          -4980,
          -4921.5625,
          -3570.0555419921875,
          -4267.762145996094,
          -2864.375,
          -2002.8277587890625,
          -74.84375
         ]
        },
        {
         "hoverinfo": "text",
         "hovertext": [
          "covid19_nuevos casos_camas_minsal_nivel nacional",
          "ríos_casos activos_lanco_paillaco_panguipulli",
          "uci_nuevos casos_osorno_corresponden provincia_covid",
          "osorno_purranque_seremi salud_fecha corte_cansino",
          "aislamiento_covid_ancud_curaco vélez_vélez",
          "ancud_coronavirus_quellón_tratamiento intermedio_quemchi",
          "ancud_coronavirus_quellón_tratamiento intermedio_quemchi",
          "ancud_coronavirus_quellón_tratamiento intermedio_quemchi",
          "adultos_senama_vales_personas dependencia_cuidados",
          "senda_drogas_residencias_familias power_niños primero",
          "junji_jardín infantil_educación_actividades_familias",
          "junji_jardín infantil_educación_actividades_familias",
          "proyecto_guevara_propia_antukuyen_seremi vivienda",
          "dominio_moreno_bienes nacionales jorge_propietario_título",
          "parque_luis ebel_martes domingo_acceso_ornato",
          "parque_luis ebel_martes domingo_acceso_ornato",
          "biblioteca pública_sede_65_cmpc_proyecto",
          "comuna_consulta ciudadana alerce_satélite_17 octubre_16 17",
          "comuna_consulta ciudadana alerce_satélite_17 octubre_16 17",
          "ceremonia_barrientos_ciudadanos destacados_municipal_castro",
          "alcalde_ceremonia_barrientos_juan_años",
          "alcalde_ceremonia_barrientos_juan_años",
          "obras portuarias_explanada_mejoramiento borde costero_luminarias_sector",
          "puente chacao_chacao_consorcio_cpc_horas extras",
          "puente chacao_chacao_consorcio_cpc_horas extras",
          "puente chacao_chacao_consorcio_cpc_horas extras",
          "carro_cuartel_francke_sexta_gobierno regional",
          "cuartel_cuerpo_compañía bomberos_carros_sexta",
          "cuartel_cuerpo_compañía bomberos_carros_sexta",
          "canal dalcahue_dalcahue_quinchao_transportes telecomunicaciones_trato directo",
          "gobernadores regionales_vallespin_boric_patricio vallespin_gabriel boric",
          "consejeros_regionalización_ciencias_ulagos_gobernador",
          "consejeros_regionalización_ciencias_ulagos_gobernador",
          "consejeros_regionalización_ciencias_ulagos_gobernador",
          "puntra_roble_sma_superintendencia medio ambiente_cal austral",
          "puntra_roble_sma_superintendencia medio ambiente_cal austral",
          "residuos sólidos domiciliarios_relleno sanitario_luxemburgo_manejo_estrategia",
          "residuos sólidos domiciliarios_medio_manejo_relleno sanitario_comunidad",
          "residuos sólidos domiciliarios_medio_manejo_relleno sanitario_comunidad",
          "indap_cambio_sistemas_agricultores_cnr",
          "subdere_carelmapu_familias_millones_pablo hernández",
          "subdere_apr_carelmapu_vecinos_agua potable rural",
          "calefactores_episodios críticos_plan descontaminación_recambio_calidad",
          "economía circular_sustentabilidad_corfo_eurochile_residuos",
          "cultivo_productores_variedades_aquasur_salmón",
          "cultivo_productores_variedades_aquasur_salmón",
          "carbono_cambio_vegetación_sequía_mapbiomas",
          "carbono_cambio_vegetación_sequía_mapbiomas",
          "cop26_cumbre_glasgow_calentamiento global_grados",
          "cop26_cumbre_glasgow_calentamiento global_grados",
          "cop26_cumbre_glasgow_calentamiento global_grados",
          "cop26_cumbre_glasgow_calentamiento global_grados",
          "parque_visitantes_conaf_aichele_jorge aichele",
          "manquemapu_tour_relv_experiencias_mall",
          "quehui_sabingo_programa sabingo_chilevisión_atractivos turísticos isla",
          "quehui_sabingo_programa sabingo_chilevisión_atractivos turísticos isla",
          "sercotec_centro negocios_vitrina_emprendimiento_capacitaciones",
          "sercotec_centro negocios_mujeres_corfo_saesa",
          "conekta_destilado_chilwe_alimentos saludables_universidad",
          "conekta_destilado_chilwe_alimentos saludables_universidad",
          "sede_jornadas_uach_proyecto explora_escuela arqueología",
          "tnch_teatro nacional_sala 13_temporales_función",
          "lago_artes_centro cultural_obra_horas",
          "teatro lago_artes_festival_musical_artistas",
          "teatro lago_artes_festival_musical_artistas",
          "teatro lago_artes_festival_musical_artistas",
          "establecimiento_liceo_superintendencia_denuncia_apoderados",
          "apoderados_maillen_chacao_estudiantes_corporación",
          "apoderados_maillen_chacao_estudiantes_corporación",
          "auditoría_funcionarios_corporación municipal_asistentes educación_recursos",
          "ovejería_buses_locomoción_línea_horarios",
          "castro_afectados_henríquez_vera_levantemos",
          "castro_afectados_henríquez_vera_levantemos",
          "político_boric_ser_conducta_guerra",
          "político_boric_ser_conducta_guerra",
          "aforo_chuyaca_toque queda_locales_olegario mohr",
          "reservas_puyehue_demanda_octay_pandemia",
          "reservas_puyehue_demanda_octay_pandemia",
          "apertura_samoré_pasos_cardenal_futaleufú",
          "apertura_samoré_cardenal_futaleufú_extranjeros residentes",
          "pcr_cuarentena_examen_marinovic_diputada jenny álvarez",
          "pcr_cuarentena_examen_marinovic_diputada jenny álvarez",
          "twele_vacaciones_casos_mascarillas_yarza",
          "twele_vacaciones_casos_mascarillas_yarza",
          "covid19_pfizer_infección_estudio_fármaco",
          "tb_pesquisa_francisca werner_detección_expectoración",
          "tb_pesquisa_francisca werner_detección_expectoración",
          "tb_pesquisa_francisca werner_detección_expectoración",
          "ancud_familia_nacido_trabajador_lactante",
          "urgencia_cirugía_consultas_espera_servicio salud reloncaví",
          "primaria_comisión salud_unidad calidad_chilena municipalidades_usuarios",
          "primaria_comisión salud_unidad calidad_chilena municipalidades_usuarios",
          "atenciones_reloncaví_urgencia_servicio salud reloncaví_cesfam",
          "sarscov2_proteínas_cerebro_revista_nariz",
          "donantes_trasplante_hospital_compatible_células madre sanguíneas",
          "niñas_granovetter_cyt_carreras_ingeniería",
          "género_hombres_laboral_niñas_estudio",
          "género_hombres_laboral_niñas_estudio",
          "género_hombres_laboral_niñas_estudio",
          "pan_canasta_iva_alimentos_pesos",
          "enap_pan_municipios_gas precio_fne",
          "kiev_moscú_militar_rusos_mariúpol",
          "kiev_moscú_rusos_militar_mariúpol",
          "kiev_moscú_rusos_militar_mariúpol",
          "kiev_moscú_rusos_militar_mariúpol",
          "accidentes_senda_carabineros_conducir_bajo influencia alcohol",
          "pelluco_carabineros_fuegos_vecinos_clandestinas",
          "hechos_denisse_carabineros_querella_violenta",
          "hechos_denisse_carabineros_querella_violenta",
          "cocaína_tráfico_detectives_sativa_detención",
          "cocaína_tráfico_detectives_sativa_detención",
          "cadáver_servicio médico legal_homicidios_muerte_río",
          "búsqueda_astete_héctor astete_cochamó_héctor",
          "bote_volcán calbuco_accidental muerte_rescatarla_chamiza",
          "bote_volcán calbuco_accidental muerte_rescatarla_chamiza",
          "compañías_cuerpo bomberos_lugar_propagación_viviendas",
          "incendios forestales_conaf_fuego_onemi_emergencia",
          "incendios forestales_conaf_fuego_onemi_viviendas",
          "incendios forestales_conaf_fuego_onemi_viviendas",
          "incendios forestales_conaf_fuego_onemi_viviendas",
          "incendios forestales_conaf_fuego_onemi_viviendas",
          "araucanía_mapuche_violencia_biobío_excepción constitucional",
          "araucanía_siches_ministra_izkia_izkia siches",
          "jara_reforma_ministra_40 horas_jeannette",
          "boric_piñera_presidente electo gabriel_siches_cambio mando",
          "monsalve_mapuche_ministra interior_paro_dialogar",
          "monsalve_mapuche_ministra interior_paro_dialogar",
          "proyecto_cuarto_cámara_gobierno_parlamentarios",
          "acusación_proyecto_diputados_piñera_presidente",
          "boric_kast_sichel_antonio kast_debate",
          "boric_kast_sichel_antonio kast_debate",
          "boric_kast_sichel_antonio kast_debate",
          "sichel_kast_chiloé_boric_creo",
          "sichel_kast_chiloé_boric_creo",
          "locales votación_servel_transporte_horas_rené schmidt",
          "servel_electoral_locales votación_mesa_21 noviembre",
          "servel_electoral_locales votación_mesa_21 noviembre",
          "pleno_convención constitucional_prórroga tres meses_comisiones_103",
          "pleno_convención constitucional_prórroga tres meses_comisiones_103",
          "pleno_convención constitucional_prórroga tres meses_comisiones_103",
          "pleno_nueva constitución_convencionales_derechos_normas",
          "pleno_nueva constitución_convencionales_derechos_normas",
          "partido_huachipato_audax italiano_libertadores_tabla",
          "partido_huachipato_audax italiano_libertadores_tabla",
          "colo_jugador_roggiero_álvaro brun_universidad católica",
          "club_mairena_volante_refuerzo_lobos",
          "club_mairena_volante_refuerzo_lobos",
          "sanción_anfp_calama_arturo_tres partidos",
          "qatar_mundial_copa_conmebol_dinamarca",
          "colo_santiago morning_torneo_isidora_paranaense",
          "lasarte_aránguiz_selección chilena_martín lasarte_brasil",
          "selección_lasarte_roja_sorpresas_méxico",
          "alexis_inter_medios italianos_nota_lautaro martínez",
          "alexis_inter_medios italianos_nota_lautaro martínez",
          "alexis_inter_medios italianos_nota_lautaro martínez",
          "ancud_deportistas_toros inclusión_mtb_participaci贸n",
          "ancud_deportistas_toros inclusión_mtb_participaci贸n",
          "ancud_deportistas_toros inclusión_mtb_participaci贸n",
          "araucanía_juegos araucanía_araucanía 2021_puntos frente_chilenas",
          "mindep_deportivos_actividad_física_escolares",
          "ind_mindep_deportiva_lindemann_deporte claus lindemann",
          "ind_mindep_deportiva_lindemann_deporte claus lindemann",
          "hospital puerto montt_escultor_hpm_pandemia_jardín infinito",
          "corea_misil hipersónico_norte_pionyang_japón",
          "cultura_aforos_jaivas_vivo_piedra joe",
          "leonel_1962_chile_sifup_aramburu",
          "leonel_1962_chile_sifup_aramburu",
          "monseñor_iglesia católica_papa_ramos_francisco",
          "monseñor_iglesia católica_papa_ramos_francisco",
          "rally_cornejo_categoría_segundo_r2",
          "endler_christiane endler_christiane_lyon_iffhs",
          "endler_christiane endler_christiane_lyon_iffhs",
          "endler_christiane endler_christiane_lyon_iffhs",
          "endler_christiane endler_christiane_lyon_iffhs",
          "kazajistán_almaty_siria_rehenes_primer ministro",
          "kazajistán_almaty_siria_rehenes_primer ministro",
          "electoral_daniel ortega_sandinista_legitimidad_asamblea nacional",
          "karina oliva_servel_ciper_137 millones_apruebo",
          "registro civil_parejas_sexo_iguales_amor",
          "registro civil_parejas_sexo_iguales_amor",
          "pandora papers_paraísos fiscales_millones dólares_islas vírgenes británicas_suisse",
          "sexual_criminal_trata_organización_personas fines explotación",
          "sexual_criminal_trata_organización_personas fines explotación",
          "casinos_populares_corte apelaciones valdivia_máquinas_patente",
          "casinos_populares_juzgado_corte apelaciones valdivia_fallo",
          "casinos_populares_juzgado_corte apelaciones valdivia_fallo",
          "casinos_populares_juzgado_corte apelaciones valdivia_fallo",
          "corte programado_clientes_luz_sectores_mejoramiento asegurar servicio",
          "saesa_cuotas_servicio cliente saesa_800 600_básicos",
          "sistema táctico_operación policial_ilícitos_alza_carabineros comunidad",
          "consumidores_sernac_garantía legal_ley_derecho",
          "chileatiende_estafa_denuncias_beneficios_funcionarios",
          "chileatiende_estafa_denuncias_beneficios_funcionarios",
          "chileatiende_estafa_denuncias_beneficios_funcionarios",
          "lebron_nba_asistencias_curry_knicks",
          "lebron_nba_asistencias_curry_knicks",
          "lebron_nba_asistencias_curry_knicks",
          "sernapesca_kilos_recursos_juzgado letras_ilegal",
          "lancha_quellón_búsqueda_melinka_avión",
          "videla_quinta zona naval_islas_chulín_evacuación",
          "videla_quinta zona naval_islas_chulín_evacuación",
          "videla_quinta zona naval_islas_chulín_evacuación",
          "mariscos_calbuco_sernapesca_contaminados_paralizante",
          "mariscos_calbuco_sernapesca_contaminados_paralizante",
          "ips_beneficio_aporte familiar_monto_aguinaldo navidad",
          "ips_beneficio_aporte familiar_monto_aguinaldo navidad",
          "ife_sence_subsidio_protege_mil",
          "sence_ife_cursos_protege_postular",
          "sence_ife_cursos_protege_postular",
          "beca_pdt_podrán_postular_resultados",
          "beca_prueba_pdt_postular_2022",
          "secretarios_educación_generales corporaciones municipales_general corporación_secretaria",
          "mesa_seminario_chiloé_municipalidad_conservación",
          "puelche_hualaihué_transportes_bimodal_caleta",
          "carvacho_presidente gabriel_seremi_universidad chile_carvacho díaz",
          "cabildo_nueva_agrollanquihue_participación_convención constitucional",
          "cabildo_nueva_agrollanquihue_participación_convención constitucional",
          "cabildo_nueva_agrollanquihue_participación_convención constitucional",
          "indap_prodemu_campesina_indap prodemu_módulo",
          "sag_animal_exportación_red crianceros_declaración existencia",
          "sag_animal_exportación_red crianceros_declaración existencia",
          "animal_mascota_tenencia responsable mascotas_subdere_asilvestrados",
          "animal_mascota_tenencia responsable mascotas_subdere_asilvestrados",
          "animal_mascota_tenencia responsable mascotas_subdere_asilvestrados",
          "animal_mascota_tenencia responsable mascotas_subdere_asilvestrados",
          "animal_mascota_tenencia responsable mascotas_subdere_asilvestrados",
          "us_exportaciones_exterior_cobre_2021",
          "global66_transbank_monedas_fintech_billetera",
          "global66_transbank_monedas_fintech_billetera",
          "cristo_hogar_abrazos_piso protección_niños niñas adolescentes",
          "sharpie_tonos_slime_puede_comodidad",
          "puedes_tauro_acuario_oráculo_libra",
          "puedes_tauro_acuario_oráculo_libra",
          "usuarios_mercado_información_ecommerce_tecnología",
          "guía_corfo_sernatur_lagos_chileno",
          "guía_corfo_sernatur_lagos_chileno",
          "guía_corfo_sernatur_lagos_chileno",
          "guía_corfo_sernatur_lagos_chileno",
          "tsunami_alerta_onemi_evacuación_metros",
          "tormentas_alerta_temprana_chile dmc_onemi",
          "nasa_estrella_eei_agujeros negros_tierra",
          "nasa_estrella_eei_agujeros negros_tierra",
          "uach_dr_especies_universidad austral chile_carbono",
          "uach_dr_especies_universidad austral chile_carbono",
          "uach_dr_especies_universidad austral chile_carbono",
          "taza_oliva_sal pimienta_horno_minutos",
          "taza_oliva_sal pimienta_horno_minutos",
          "taza_oliva_sal pimienta_horno_minutos",
          "taza_oliva_sal pimienta_horno_minutos",
          "poesía_editorial_tiempo_ediciones_historia",
          "disco_león_bien_vivo_cantar",
          "the_music_canción_bunny_bad",
          "grammy_laferte_latin_mon laferte_bad bunny",
          "willis_bruce_emily_ulliel_películas",
          "película_netflix_hbo_disney_universo",
          "ps5_ps4_pokémon_saga_jugadores",
          "ps5_ps4_pokémon_saga_jugadores",
          "ps5_ps4_pokémon_saga_jugadores",
          "ps5_ps4_pokémon_saga_jugadores",
          "fjsparentnodeinsertbefore_fundacionrem_fjsdgetelementsbytagname phttp_https if dgetelementbyid_fjsdgetelementsbytagname",
          "test dlocation_phttp_jsidid_jsdcreateelement_js fjs document",
          "test dlocation_phttp_jsidid_jsdcreateelement_js fjs document",
          "test dlocation_phttp_jsidid_jsdcreateelement_js fjs document",
          "test dlocation_phttp_jsidid_jsdcreateelement_js fjs document"
         ],
         "marker": {
          "color": "black"
         },
         "mode": "markers",
         "showlegend": false,
         "type": "scatter",
         "x": [
          1.0296719165591488,
          1.220217445890403,
          0.9454669863091758,
          1.1015554550884386,
          1.0640773477667962,
          0.7452738114413444,
          1.4834949562340685,
          1.9779191903906816,
          1.2683193848313339,
          1.2852476605779408,
          1.3170476004134226,
          1.6622929842852145,
          1.1671754243801347,
          1.3087412026506702,
          1.3872117787359213,
          1.467929371846404,
          1.341376342745229,
          1.3180426552229747,
          1.4207758834905948,
          1.2886633596314558,
          1.3170948724363267,
          1.5080140646683216,
          1.235681257746136,
          1.28620171710568,
          1.4736047531933594,
          1.65849828787532,
          1.2357904310714736,
          1.2740924378585126,
          1.7043558137953458,
          1.1822882735214977,
          1.2176377622689405,
          1.236747904955725,
          1.4659333780902846,
          1.604713176406245,
          1.206861088595227,
          1.405158022761135,
          0.9973402221205169,
          1.255797574691907,
          1.595659854310709,
          1.2700643830493963,
          1.141425309762739,
          1.2126972574737318,
          1.2804621509038001,
          1.297121626368369,
          1.3031255660875287,
          1.461570161690369,
          1.3177854640236217,
          1.3390977512274638,
          1.1545539037345836,
          1.6089811984405569,
          1.9722148178574492,
          2.1111738564447258,
          1.053829876343215,
          1.3185872046657972,
          1.3626268063793645,
          1.437028667425875,
          1.209268658290801,
          1.2266425003303152,
          1.362448158289106,
          1.5154666598764668,
          1.2506239816285525,
          1.1416134404545295,
          1.2365946240436931,
          1.4574366945577644,
          1.666924733183608,
          2.1389992450554027,
          1.184317834040495,
          1.1733175311655368,
          1.4447267031087563,
          1.2186729427192362,
          1.276747674872635,
          1.3539224054234384,
          1.4393171330957215,
          1.2892713391685737,
          1.6894178356936251,
          1.297483830039563,
          1.154227169918853,
          1.4463421813460482,
          1.0863061562447838,
          1.243461826345322,
          1.3583580660698893,
          1.4183776423568564,
          1.292087683955907,
          1.383522046387954,
          1.2104283535863711,
          1.3638717592089782,
          1.4415766705413737,
          1.8032795934582977,
          1.3203056534090025,
          1.0819656504005535,
          1.254665783261261,
          1.332837418997593,
          1.408222920120827,
          1.2500300018369344,
          1.3458970765261642,
          1.2974505933728244,
          1.4482757996952338,
          1.8125354108950447,
          2.2164788690066963,
          1.0904567478181708,
          1.3102733981444294,
          0.6900962945727158,
          1.2494791545190802,
          2.099561623081066,
          2.5382957895004536,
          1.0963075490853447,
          1.283250981516594,
          1.3330070152599205,
          1.399633149364349,
          1.2913984669480847,
          1.489023143629257,
          0.9907406213844924,
          1.284274279592873,
          1.3747685152637208,
          1.5280766019253809,
          1.0418815545009834,
          0.8930016001209268,
          1.2363664266399763,
          1.5678405435683436,
          2.2678773706619695,
          3.2827325104076284,
          1.010343710964552,
          1.21614634239114,
          1.3085959064353851,
          1.1824336558764366,
          1.312371261435108,
          1.3959671149972346,
          1.2140261744164729,
          1.2704201360956753,
          1.1427329569080609,
          1.211777330301936,
          1.2718031283485476,
          1.346836075433238,
          1.510402853124017,
          1.0962358524968934,
          1.2561448775780126,
          2.2514694692640846,
          1.2283123965242742,
          1.282167968627805,
          1.347688316785849,
          1.3826049420125892,
          2.676743548223132,
          1.0551354477823816,
          1.1395877056093946,
          1.1352631474242172,
          1.3019270291836893,
          1.5039244218722203,
          1.3050516502222216,
          1.2451093097896089,
          1.3156256718820802,
          1.1120209612085814,
          1.2890014688403173,
          1.2401867421232777,
          1.3924548219858681,
          1.8423208674285012,
          1.3146670946630254,
          1.349678615828033,
          1.446650120917862,
          1.2717755569651885,
          1.1374407699099076,
          1.3674225769240411,
          1.8051606617059033,
          1.3740704546643494,
          1.423472350504511,
          1.3995327741129213,
          1.3818868001235558,
          1.3933063386796323,
          1.3659185642322624,
          1.576592399417893,
          1.1636973927101304,
          1.3954001427732263,
          1.4104565427221123,
          1.4806861896611314,
          1.6015988107894805,
          1.333171691706836,
          1.3657737210411964,
          1.3483205014255666,
          1.3774601930726686,
          1.3350782469991105,
          1.482194699861463,
          1.3944802357253325,
          1.349064362196185,
          1.4332300289179303,
          1.2640102387183367,
          1.2822882769143904,
          1.6607184820623047,
          1.7067101222887529,
          1.3204652197627402,
          1.2446143936300205,
          1.3936262337881458,
          1.3646382458755766,
          1.4004117228174513,
          1.430886972496187,
          1.4589907092249574,
          1.416368548003995,
          1.4259928752442603,
          1.5730935625300613,
          1.0162314416973548,
          1.2146757597748992,
          1.249759403823684,
          1.5103614243526136,
          1.8459109411173804,
          1.3600294455670074,
          2.004059244054747,
          1.2340704060597834,
          1.3093798968396202,
          1.2167581103534486,
          1.2849322234429625,
          1.412203808794962,
          1.309047074154075,
          1.3494443630468484,
          1.3581405142138538,
          1.3734311666115986,
          1.3847771993313263,
          1.3601004456105203,
          1.2619438365808013,
          1.4273964408724265,
          1.5927582473229143,
          1.305936847220693,
          1.349178305874227,
          1.4489107123855531,
          1.2272456285587505,
          1.5947141729396281,
          1.6117643638279906,
          1.6665566293391036,
          1.835028108788594,
          1.2627656958420044,
          1.3511398986722654,
          1.396615504893725,
          1.368198505616625,
          1.306617236343109,
          1.3692813415845426,
          1.388483227373291,
          1.297794376277237,
          1.1831606134514892,
          1.5050018388888773,
          1.6507915709074246,
          1.674056151349286,
          1.2228160495526035,
          1.3905515489380904,
          1.2937572247801932,
          1.3909214363594116,
          1.2587156989657462,
          1.5120433001441174,
          1.7517940789423567,
          0.85143490932792,
          1.9467122992662582,
          2.181037094124307,
          2.271528174869596,
          1.1268736191138455,
          1.272933535612015,
          1.1202753202336073,
          1.2920955848397055,
          1.3510629012931157,
          1.2075132391345587,
          1.368103537557865,
          1.521462594329429,
          1.5668826823127215,
          1.9858007716660737,
          0.3695813753328943,
          0.5219533606186457,
          3.529964950065254,
          4.535893017076697,
          5.0693580406118475
         ],
         "y": [
          -27.5,
          -50,
          -100,
          -103.75,
          -140,
          -160,
          -146.25,
          -116.5625,
          -210,
          -240,
          -267.5,
          -247.1875,
          -300,
          -360,
          -387.5,
          -368.75,
          -450,
          -470,
          -455,
          -500,
          -492.5,
          -462.5,
          -540,
          -560,
          -545,
          -474.21875,
          -590,
          -582.5,
          -482.9296875,
          -650,
          -690,
          -710,
          -695,
          -666.5625,
          -790,
          -780,
          -820,
          -812.5,
          -788.75,
          -860,
          -890,
          -882.5,
          -920,
          -950,
          -970,
          -956.25,
          -1010,
          -1000,
          -1030,
          -998.59375,
          -932.421875,
          -845.8984375,
          -1060,
          -1107.5,
          -1130,
          -1111.875,
          -1170,
          -1162.5,
          -1197.5,
          -1175.625,
          -1240,
          -1290,
          -1282.5,
          -1271.25,
          -1250.625,
          -1189.765625,
          -1340,
          -1360,
          -1346.25,
          -1390,
          -1420,
          -1447.5,
          -1430,
          -1470,
          -1438.125,
          -1507.5,
          -1550,
          -1540,
          -1580,
          -1572.5,
          -1640,
          -1630,
          -1680,
          -1670,
          -1710,
          -1730,
          -1716.25,
          -1679.375,
          -1777.5,
          -1810,
          -1840,
          -1832.5,
          -1817.5,
          -1897.5,
          -1900.625,
          -1957.5,
          -1943.75,
          -1912.03125,
          -1851.328125,
          -2010,
          -2013.75,
          -2050,
          -2042.5,
          -2019.6875,
          -1875.76171875,
          -2080,
          -2117.5,
          -2140,
          -2123.125,
          -2180,
          -2170,
          -2220,
          -2250,
          -2253.75,
          -2231.875,
          -2300,
          -2330,
          -2322.5,
          -2306.25,
          -2244.5703125,
          -1937.0068359375,
          -2360,
          -2387.5,
          -2430,
          -2460,
          -2480,
          -2466.25,
          -2510,
          -2502.5,
          -2560,
          -2552.5,
          -2543.75,
          -2587.5,
          -2560.9375,
          -2630,
          -2620,
          -2568.4375,
          -2720,
          -2710,
          -2693.75,
          -2671.875,
          -2570.546875,
          -2760,
          -2752.5,
          -2820,
          -2823.75,
          -2805.625,
          -2870,
          -2900,
          -2903.75,
          -2940,
          -2954.375,
          -3000,
          -2990,
          -2954.0625,
          -3080,
          -3070,
          -3055,
          -3120,
          -3150,
          -3153.75,
          -3131.875,
          -3207.5,
          -3257.5,
          -3287.5,
          -3327.5,
          -3316.25,
          -3357.5,
          -3324.21875,
          -3410,
          -3440,
          -3432.5,
          -3417.5,
          -3398.75,
          -3500,
          -3490,
          -3537.5,
          -3570,
          -3590,
          -3576.25,
          -3627.5,
          -3650,
          -3633.125,
          -3680,
          -3672.5,
          -3632.34375,
          -3553.671875,
          -3710,
          -3730,
          -3770,
          -3810,
          -3850,
          -3840,
          -3820,
          -3880,
          -3872.5,
          -3831.25,
          -3910,
          -3940,
          -3960,
          -3946.25,
          -3924.375,
          -3996.25,
          -3922.65625,
          -4050,
          -4042.5,
          -4110,
          -4102.5,
          -4093.75,
          -4147.5,
          -4136.25,
          -4190,
          -4230,
          -4250,
          -4277.5,
          -4320,
          -4310,
          -4283.125,
          -4400,
          -4420,
          -4406.25,
          -4440,
          -4414.0625,
          -4380.78125,
          -4306.171875,
          -4207.6171875,
          -4490,
          -4530,
          -4520,
          -4560,
          -4600,
          -4603.75,
          -4589.375,
          -4637.5,
          -4680,
          -4670,
          -4637.109375,
          -4569.1796875,
          -4710,
          -4737.5,
          -4800,
          -4790,
          -4820,
          -4797.5,
          -4758.75,
          -4840,
          -4738.3349609375,
          -4428.88427734375,
          -4055.423583984375,
          -4880,
          -4907.5,
          -4940,
          -4954.375,
          -5027.5,
          -5060,
          -5063.75,
          -5038.75,
          -5009.375,
          -4965.46875,
          -5100,
          -5092.5,
          -4680.131072998047,
          -3772.2530364990234,
          -2887.540397644043
         ]
        }
       ],
       "layout": {
        "autosize": false,
        "height": 7865,
        "hoverlabel": {
         "bgcolor": "white",
         "font": {
          "family": "Rockwell",
          "size": 16
         }
        },
        "hovermode": "closest",
        "plot_bgcolor": "#ECEFF1",
        "showlegend": false,
        "template": {
         "data": {
          "bar": [
           {
            "error_x": {
             "color": "#2a3f5f"
            },
            "error_y": {
             "color": "#2a3f5f"
            },
            "marker": {
             "line": {
              "color": "white",
              "width": 0.5
             },
             "pattern": {
              "fillmode": "overlay",
              "size": 10,
              "solidity": 0.2
             }
            },
            "type": "bar"
           }
          ],
          "barpolar": [
           {
            "marker": {
             "line": {
              "color": "white",
              "width": 0.5
             },
             "pattern": {
              "fillmode": "overlay",
              "size": 10,
              "solidity": 0.2
             }
            },
            "type": "barpolar"
           }
          ],
          "carpet": [
           {
            "aaxis": {
             "endlinecolor": "#2a3f5f",
             "gridcolor": "#C8D4E3",
             "linecolor": "#C8D4E3",
             "minorgridcolor": "#C8D4E3",
             "startlinecolor": "#2a3f5f"
            },
            "baxis": {
             "endlinecolor": "#2a3f5f",
             "gridcolor": "#C8D4E3",
             "linecolor": "#C8D4E3",
             "minorgridcolor": "#C8D4E3",
             "startlinecolor": "#2a3f5f"
            },
            "type": "carpet"
           }
          ],
          "choropleth": [
           {
            "colorbar": {
             "outlinewidth": 0,
             "ticks": ""
            },
            "type": "choropleth"
           }
          ],
          "contour": [
           {
            "colorbar": {
             "outlinewidth": 0,
             "ticks": ""
            },
            "colorscale": [
             [
              0,
              "#0d0887"
             ],
             [
              0.1111111111111111,
              "#46039f"
             ],
             [
              0.2222222222222222,
              "#7201a8"
             ],
             [
              0.3333333333333333,
              "#9c179e"
             ],
             [
              0.4444444444444444,
              "#bd3786"
             ],
             [
              0.5555555555555556,
              "#d8576b"
             ],
             [
              0.6666666666666666,
              "#ed7953"
             ],
             [
              0.7777777777777778,
              "#fb9f3a"
             ],
             [
              0.8888888888888888,
              "#fdca26"
             ],
             [
              1,
              "#f0f921"
             ]
            ],
            "type": "contour"
           }
          ],
          "contourcarpet": [
           {
            "colorbar": {
             "outlinewidth": 0,
             "ticks": ""
            },
            "type": "contourcarpet"
           }
          ],
          "heatmap": [
           {
            "colorbar": {
             "outlinewidth": 0,
             "ticks": ""
            },
            "colorscale": [
             [
              0,
              "#0d0887"
             ],
             [
              0.1111111111111111,
              "#46039f"
             ],
             [
              0.2222222222222222,
              "#7201a8"
             ],
             [
              0.3333333333333333,
              "#9c179e"
             ],
             [
              0.4444444444444444,
              "#bd3786"
             ],
             [
              0.5555555555555556,
              "#d8576b"
             ],
             [
              0.6666666666666666,
              "#ed7953"
             ],
             [
              0.7777777777777778,
              "#fb9f3a"
             ],
             [
              0.8888888888888888,
              "#fdca26"
             ],
             [
              1,
              "#f0f921"
             ]
            ],
            "type": "heatmap"
           }
          ],
          "heatmapgl": [
           {
            "colorbar": {
             "outlinewidth": 0,
             "ticks": ""
            },
            "colorscale": [
             [
              0,
              "#0d0887"
             ],
             [
              0.1111111111111111,
              "#46039f"
             ],
             [
              0.2222222222222222,
              "#7201a8"
             ],
             [
              0.3333333333333333,
              "#9c179e"
             ],
             [
              0.4444444444444444,
              "#bd3786"
             ],
             [
              0.5555555555555556,
              "#d8576b"
             ],
             [
              0.6666666666666666,
              "#ed7953"
             ],
             [
              0.7777777777777778,
              "#fb9f3a"
             ],
             [
              0.8888888888888888,
              "#fdca26"
             ],
             [
              1,
              "#f0f921"
             ]
            ],
            "type": "heatmapgl"
           }
          ],
          "histogram": [
           {
            "marker": {
             "pattern": {
              "fillmode": "overlay",
              "size": 10,
              "solidity": 0.2
             }
            },
            "type": "histogram"
           }
          ],
          "histogram2d": [
           {
            "colorbar": {
             "outlinewidth": 0,
             "ticks": ""
            },
            "colorscale": [
             [
              0,
              "#0d0887"
             ],
             [
              0.1111111111111111,
              "#46039f"
             ],
             [
              0.2222222222222222,
              "#7201a8"
             ],
             [
              0.3333333333333333,
              "#9c179e"
             ],
             [
              0.4444444444444444,
              "#bd3786"
             ],
             [
              0.5555555555555556,
              "#d8576b"
             ],
             [
              0.6666666666666666,
              "#ed7953"
             ],
             [
              0.7777777777777778,
              "#fb9f3a"
             ],
             [
              0.8888888888888888,
              "#fdca26"
             ],
             [
              1,
              "#f0f921"
             ]
            ],
            "type": "histogram2d"
           }
          ],
          "histogram2dcontour": [
           {
            "colorbar": {
             "outlinewidth": 0,
             "ticks": ""
            },
            "colorscale": [
             [
              0,
              "#0d0887"
             ],
             [
              0.1111111111111111,
              "#46039f"
             ],
             [
              0.2222222222222222,
              "#7201a8"
             ],
             [
              0.3333333333333333,
              "#9c179e"
             ],
             [
              0.4444444444444444,
              "#bd3786"
             ],
             [
              0.5555555555555556,
              "#d8576b"
             ],
             [
              0.6666666666666666,
              "#ed7953"
             ],
             [
              0.7777777777777778,
              "#fb9f3a"
             ],
             [
              0.8888888888888888,
              "#fdca26"
             ],
             [
              1,
              "#f0f921"
             ]
            ],
            "type": "histogram2dcontour"
           }
          ],
          "mesh3d": [
           {
            "colorbar": {
             "outlinewidth": 0,
             "ticks": ""
            },
            "type": "mesh3d"
           }
          ],
          "parcoords": [
           {
            "line": {
             "colorbar": {
              "outlinewidth": 0,
              "ticks": ""
             }
            },
            "type": "parcoords"
           }
          ],
          "pie": [
           {
            "automargin": true,
            "type": "pie"
           }
          ],
          "scatter": [
           {
            "fillpattern": {
             "fillmode": "overlay",
             "size": 10,
             "solidity": 0.2
            },
            "type": "scatter"
           }
          ],
          "scatter3d": [
           {
            "line": {
             "colorbar": {
              "outlinewidth": 0,
              "ticks": ""
             }
            },
            "marker": {
             "colorbar": {
              "outlinewidth": 0,
              "ticks": ""
             }
            },
            "type": "scatter3d"
           }
          ],
          "scattercarpet": [
           {
            "marker": {
             "colorbar": {
              "outlinewidth": 0,
              "ticks": ""
             }
            },
            "type": "scattercarpet"
           }
          ],
          "scattergeo": [
           {
            "marker": {
             "colorbar": {
              "outlinewidth": 0,
              "ticks": ""
             }
            },
            "type": "scattergeo"
           }
          ],
          "scattergl": [
           {
            "marker": {
             "colorbar": {
              "outlinewidth": 0,
              "ticks": ""
             }
            },
            "type": "scattergl"
           }
          ],
          "scattermapbox": [
           {
            "marker": {
             "colorbar": {
              "outlinewidth": 0,
              "ticks": ""
             }
            },
            "type": "scattermapbox"
           }
          ],
          "scatterpolar": [
           {
            "marker": {
             "colorbar": {
              "outlinewidth": 0,
              "ticks": ""
             }
            },
            "type": "scatterpolar"
           }
          ],
          "scatterpolargl": [
           {
            "marker": {
             "colorbar": {
              "outlinewidth": 0,
              "ticks": ""
             }
            },
            "type": "scatterpolargl"
           }
          ],
          "scatterternary": [
           {
            "marker": {
             "colorbar": {
              "outlinewidth": 0,
              "ticks": ""
             }
            },
            "type": "scatterternary"
           }
          ],
          "surface": [
           {
            "colorbar": {
             "outlinewidth": 0,
             "ticks": ""
            },
            "colorscale": [
             [
              0,
              "#0d0887"
             ],
             [
              0.1111111111111111,
              "#46039f"
             ],
             [
              0.2222222222222222,
              "#7201a8"
             ],
             [
              0.3333333333333333,
              "#9c179e"
             ],
             [
              0.4444444444444444,
              "#bd3786"
             ],
             [
              0.5555555555555556,
              "#d8576b"
             ],
             [
              0.6666666666666666,
              "#ed7953"
             ],
             [
              0.7777777777777778,
              "#fb9f3a"
             ],
             [
              0.8888888888888888,
              "#fdca26"
             ],
             [
              1,
              "#f0f921"
             ]
            ],
            "type": "surface"
           }
          ],
          "table": [
           {
            "cells": {
             "fill": {
              "color": "#EBF0F8"
             },
             "line": {
              "color": "white"
             }
            },
            "header": {
             "fill": {
              "color": "#C8D4E3"
             },
             "line": {
              "color": "white"
             }
            },
            "type": "table"
           }
          ]
         },
         "layout": {
          "annotationdefaults": {
           "arrowcolor": "#2a3f5f",
           "arrowhead": 0,
           "arrowwidth": 1
          },
          "autotypenumbers": "strict",
          "coloraxis": {
           "colorbar": {
            "outlinewidth": 0,
            "ticks": ""
           }
          },
          "colorscale": {
           "diverging": [
            [
             0,
             "#8e0152"
            ],
            [
             0.1,
             "#c51b7d"
            ],
            [
             0.2,
             "#de77ae"
            ],
            [
             0.3,
             "#f1b6da"
            ],
            [
             0.4,
             "#fde0ef"
            ],
            [
             0.5,
             "#f7f7f7"
            ],
            [
             0.6,
             "#e6f5d0"
            ],
            [
             0.7,
             "#b8e186"
            ],
            [
             0.8,
             "#7fbc41"
            ],
            [
             0.9,
             "#4d9221"
            ],
            [
             1,
             "#276419"
            ]
           ],
           "sequential": [
            [
             0,
             "#0d0887"
            ],
            [
             0.1111111111111111,
             "#46039f"
            ],
            [
             0.2222222222222222,
             "#7201a8"
            ],
            [
             0.3333333333333333,
             "#9c179e"
            ],
            [
             0.4444444444444444,
             "#bd3786"
            ],
            [
             0.5555555555555556,
             "#d8576b"
            ],
            [
             0.6666666666666666,
             "#ed7953"
            ],
            [
             0.7777777777777778,
             "#fb9f3a"
            ],
            [
             0.8888888888888888,
             "#fdca26"
            ],
            [
             1,
             "#f0f921"
            ]
           ],
           "sequentialminus": [
            [
             0,
             "#0d0887"
            ],
            [
             0.1111111111111111,
             "#46039f"
            ],
            [
             0.2222222222222222,
             "#7201a8"
            ],
            [
             0.3333333333333333,
             "#9c179e"
            ],
            [
             0.4444444444444444,
             "#bd3786"
            ],
            [
             0.5555555555555556,
             "#d8576b"
            ],
            [
             0.6666666666666666,
             "#ed7953"
            ],
            [
             0.7777777777777778,
             "#fb9f3a"
            ],
            [
             0.8888888888888888,
             "#fdca26"
            ],
            [
             1,
             "#f0f921"
            ]
           ]
          },
          "colorway": [
           "#636efa",
           "#EF553B",
           "#00cc96",
           "#ab63fa",
           "#FFA15A",
           "#19d3f3",
           "#FF6692",
           "#B6E880",
           "#FF97FF",
           "#FECB52"
          ],
          "font": {
           "color": "#2a3f5f"
          },
          "geo": {
           "bgcolor": "white",
           "lakecolor": "white",
           "landcolor": "white",
           "showlakes": true,
           "showland": true,
           "subunitcolor": "#C8D4E3"
          },
          "hoverlabel": {
           "align": "left"
          },
          "hovermode": "closest",
          "mapbox": {
           "style": "light"
          },
          "paper_bgcolor": "white",
          "plot_bgcolor": "white",
          "polar": {
           "angularaxis": {
            "gridcolor": "#EBF0F8",
            "linecolor": "#EBF0F8",
            "ticks": ""
           },
           "bgcolor": "white",
           "radialaxis": {
            "gridcolor": "#EBF0F8",
            "linecolor": "#EBF0F8",
            "ticks": ""
           }
          },
          "scene": {
           "xaxis": {
            "backgroundcolor": "white",
            "gridcolor": "#DFE8F3",
            "gridwidth": 2,
            "linecolor": "#EBF0F8",
            "showbackground": true,
            "ticks": "",
            "zerolinecolor": "#EBF0F8"
           },
           "yaxis": {
            "backgroundcolor": "white",
            "gridcolor": "#DFE8F3",
            "gridwidth": 2,
            "linecolor": "#EBF0F8",
            "showbackground": true,
            "ticks": "",
            "zerolinecolor": "#EBF0F8"
           },
           "zaxis": {
            "backgroundcolor": "white",
            "gridcolor": "#DFE8F3",
            "gridwidth": 2,
            "linecolor": "#EBF0F8",
            "showbackground": true,
            "ticks": "",
            "zerolinecolor": "#EBF0F8"
           }
          },
          "shapedefaults": {
           "line": {
            "color": "#2a3f5f"
           }
          },
          "ternary": {
           "aaxis": {
            "gridcolor": "#DFE8F3",
            "linecolor": "#A2B1C6",
            "ticks": ""
           },
           "baxis": {
            "gridcolor": "#DFE8F3",
            "linecolor": "#A2B1C6",
            "ticks": ""
           },
           "bgcolor": "white",
           "caxis": {
            "gridcolor": "#DFE8F3",
            "linecolor": "#A2B1C6",
            "ticks": ""
           }
          },
          "title": {
           "x": 0.05
          },
          "xaxis": {
           "automargin": true,
           "gridcolor": "#EBF0F8",
           "linecolor": "#EBF0F8",
           "ticks": "",
           "title": {
            "standoff": 15
           },
           "zerolinecolor": "#EBF0F8",
           "zerolinewidth": 2
          },
          "yaxis": {
           "automargin": true,
           "gridcolor": "#EBF0F8",
           "linecolor": "#EBF0F8",
           "ticks": "",
           "title": {
            "standoff": 15
           },
           "zerolinecolor": "#EBF0F8",
           "zerolinewidth": 2
          }
         }
        },
        "title": {
         "font": {
          "color": "Black",
          "size": 22
         },
         "text": "<b>Hierarchical Clustering",
         "x": 0.5,
         "xanchor": "center",
         "yanchor": "top"
        },
        "width": 1000,
        "xaxis": {
         "mirror": "allticks",
         "rangemode": "tozero",
         "showgrid": false,
         "showline": true,
         "showticklabels": true,
         "ticks": "outside",
         "type": "linear",
         "zeroline": false
        },
        "yaxis": {
         "mirror": "allticks",
         "range": [
          -5110,
          0
         ],
         "rangemode": "tozero",
         "showgrid": false,
         "showline": true,
         "showticklabels": true,
         "tickmode": "array",
         "ticks": "outside",
         "ticktext": [
          "166_minsal_covid19_positivi...",
          "51_casos_covid19_nivel naci...",
          "247_positividad_paris_peak",
          "384_variante ómicron_minsal...",
          "443_últimas 24 horas_antíge...",
          "251_ríos_casos activos_lanco",
          "102_confirmados_últimas 24_...",
          "30_región_reportaron_contag...",
          "250_dosis_casos_red salud r...",
          "85_contagios_casos activos_...",
          "37_casos_total_corresponden...",
          "55_osorno_purranque_seremi ...",
          "379_pacientes_mansa_covid",
          "494_contagios_bown_uci",
          "175_aislamiento_covid_ancud",
          "160_aislamiento_intermedio_...",
          "262_neumonía_cov2_sars cov2",
          "194_derechos_protección_ley",
          "372_mejor_servicio_sename",
          "221_fundación conecta mayor...",
          "242_senama_vales_gas",
          "225_cuidados_social familia...",
          "284_teletón_rehabilitación_...",
          "79_niños_campaña_viejito",
          "256_senda_drogas_residencias",
          "96_niños niñas_integra_jard...",
          "150_junji_jardín infantil_e...",
          "263_junji_jardines infantil...",
          "389_materiales_familias_tar...",
          "482_comité_propia_antukuyen",
          "478_viviendas sociales_lagu...",
          "231_5g_localidades_telecomu...",
          "439_hughes_trabajo social r...",
          "431_karelia_universidad nor...",
          "297_bancoestado_automático_...",
          "328_terreno_servicios públi...",
          "207_dominio_moreno_bienes n...",
          "248_vecina_farmacia ciudada...",
          "139_pago permiso circulació...",
          "467_parque_luis ebel_martes...",
          "308_subdere_esmeralda_calle",
          "227_subdere_59 millones_fut...",
          "483_chiloé_caminos_isla",
          "201_intermodal_pasajeros_te...",
          "153_templo_pauly_diseño",
          "393_biblioteca pública_sede...",
          "108_vivienda_hualaihué_comuna",
          "253_comuna_consulta ciudada...",
          "196_aniversario_batalla_cas...",
          "428_aniversario_brecas_117",
          "115_barrientos_ciudadanos d...",
          "414_consejo monumentos naci...",
          "436_obra_castrochonchi_ranco",
          "409_rampa_rilán_dirección o...",
          "352_obras portuarias_lumina...",
          "314_chacao_isla_fry",
          "142_puente chacao_chacao_co...",
          "331_superintendente_kauak_i...",
          "266_cuartel_francke_brigada...",
          "354_villa santa_regional bo...",
          "386_cucao_posta_lechagua",
          "48_proyectos_fondo_concurso",
          "313_desarrollo zonas_gonzal...",
          "497_vallespin_san_fril",
          "197_gobernador_vallespín_va...",
          "65_canal dalcahue_dalcahue_...",
          "145_vecinos_delegada presid...",
          "134_giovanna_pailalef_claud...",
          "410_vallespin_obras pública...",
          "234_vallespin_boric_patrici...",
          "374_cores_gobernador region...",
          "362_descentralización_ulago...",
          "407_urbano_río maullín_sant...",
          "24_humedal urbano_medio_bos...",
          "72_tenglo_plan tenglo_playas",
          "121_bienes_baño_uso",
          "73_essal_obstrucciones_siss",
          "290_essal_llanquihue_amplia...",
          "291_ecoprial_planta_impacto",
          "127_puntra_roble_sma",
          "66_microbasurales_vecinos_r...",
          "71_domiciliarios_galpón_res...",
          "131_reduce_chiloé_chilo茅",
          "441_mesa_agua_apr",
          "400_escasez_general aguas_d...",
          "465_hídrica_crisis agua_cam...",
          "377_indap_cambio climático_...",
          "47_apr_aljibe_camión",
          "202_carelmapu_subdere_proye...",
          "282_subdere_moyano_pasajes",
          "369_energía eléctrica_islas...",
          "75_energías renovables_100 ...",
          "222_calefactores_episodios ...",
          "237_imagen chile_creadores_...",
          "355_eurochile_corfo_pyme",
          "319_lechero_pti_climático",
          "97_aquasur_consejo_salmonch...",
          "17_cultivo_inia_productores",
          "33_especie_chiloé_visón",
          "130_nauco_subterráneas_cuen...",
          "162_turberas_agua_pomponales",
          "296_carbono_cambio_vegetación",
          "323_planeta_reloj_inundacio...",
          "232_cop26_cumbre_glasgow",
          "489_wood_material reciclado...",
          "303_conaf_jorge aichele_con...",
          "508_biodiversidad_pumalín_l...",
          "343_zoit_birregional_zoit l...",
          "401_creativo_lago llanquihu...",
          "119_ruta parques patagonia_...",
          "165_sernatur_turismo rural_...",
          "305_manquemapu_tour_relv",
          "418_primer tramo_observator...",
          "509_quehui_sabingo_programa...",
          "228_escuela pyme_transforma...",
          "38_emprendedores_saesa_corfo",
          "285_emprendedores_sercotec_...",
          "333_sercotec_vitrina_centro...",
          "356_feria municipal emprend...",
          "283_productos_purranque_nav...",
          "245_conekta_destilado_chilwe",
          "180_avonni_macrozona_tecnol...",
          "287_chiloé_formó chiloé_sub...",
          "209_arqueología_jornadas_pr...",
          "485_universidad_congreso_cr...",
          "109_nativo_muestra_centro c...",
          "154_nativo_culturales_bosque",
          "12_teatro_lago_artes",
          "128_centro cultural_tnch_sa...",
          "235_biblioteca_pinocho_frut...",
          "13_docentes_uach_sede",
          "44_estudiantes_liceo_año",
          "181_emociones_niños niñas_r...",
          "50_escolares_asistencia_apo...",
          "35_establecimiento_liceo_su...",
          "259_maillen_maillen puqueld...",
          "304_apoderados_villa chacao...",
          "223_pileta_firmani_alcalde",
          "114_corporación_sindicato a...",
          "32_concejal_concejo_pileta",
          "21_comercio ambulante_orden...",
          "229_puerto montt_arriendos_...",
          "40_ovejería_buses_locomoción",
          "29_regional vialidad_puente...",
          "53_complementarias_proyecto...",
          "4_castro_afectados_henríquez",
          "34_chiloé_chile_mujeres",
          "54_político_boric_ser",
          "212_retrocederán_comunas_pr...",
          "288_mascarilla_obligatorio_...",
          "350_pase movilidad_verano_a...",
          "249_aforo_chuyaca_toque queda",
          "87_actividad_muestras_visit...",
          "83_fase_costumbristas_masivas",
          "200_reservas_ocupación_puye...",
          "387_turismo_nui_subsecretario",
          "219_pcr_pasos_negativo",
          "206_samoré_terrestres_cámar...",
          "276_futaleufú_paso fronteri...",
          "289_brote_establecimientos ...",
          "309_contactos estrechos_ser...",
          "22_vacunación_refuerzo_pobl...",
          "204_pfizer_1052_error",
          "463_becerra_seremi salud_paso",
          "122_pcr_cuarentena_examen",
          "63_variante ómicron_contagi...",
          "255_covid19_ola_variante óm...",
          "498_minsal_trazabilidad_salud",
          "419_twele_vacaciones_casos",
          "470_covid19_oms_fauci",
          "260_medicamento_pfizer_moln...",
          "267_anticuerpos_estudio_cov...",
          "479_montagnier_imii_kalergis",
          "437_tb_pesquisa_francisca w...",
          "486_base_servicio salud chi...",
          "450_paciente_urgencia_baeza",
          "117_garcía_joven_imagen",
          "339_espinoza_salud_lactante",
          "364_hospital_servicio salud...",
          "135_paro_cesfam_servicio",
          "141_urgencia_pacientes_covid",
          "31_cirugía_hpm_espera",
          "152_fundación arturo_terren...",
          "312_primaria_reloncaví_serv...",
          "368_primaria_comisión salud...",
          "36_emocional_niños_relación",
          "93_dormir_cambio hora_espec...",
          "168_solar_puede_especialista",
          "56_acv_síntomas_riesgo",
          "84_precoz_tratamiento_falp",
          "58_sarscov2_proteínas_cerebro",
          "60_donantes_trasplante_hosp...",
          "210_tribunales familia_víct...",
          "192_escnna_conductas_niños",
          "132_acoso sexual_encuesta_p...",
          "107_laboral_género_achs",
          "397_niñas_granovetter_cyt",
          "62_crédito_empresas_fogape",
          "20_banco central_ipc_interés",
          "344_impuesto_colectivos_con...",
          "120_pan_iva_estabilización",
          "230_canasta_aceite_precio pan",
          "49_enap_chiguayante_gas pre...",
          "77_petróleo_países_sanciones",
          "6_moscú_biden_kiev",
          "14_mariúpol_kiev_ucraniano",
          "268_marihuana_estudio_thc",
          "157_accidentes_senda_conducir",
          "220_carabineros_fin semana_...",
          "144_retén_vehículos policia...",
          "205_suplementeros_llevaron_...",
          "136_cámaras_pelluco_pórticos",
          "236_artificiales_pelluco_co...",
          "395_riña_calbucoy_querella",
          "158_hechos_denisse_carabine...",
          "174_chofer_siat_arraigo",
          "1_samu_accidente tránsito_l...",
          "0_carabineros_robo_fiscal",
          "2_cocaína_tráfico_detectives",
          "477_fuerte descarga_joven t...",
          "446_sml_bote auxiliar_tenaún",
          "41_hallazgo_médico legal_cu...",
          "118_río_médico legal_héctor...",
          "335_fiscal_teiguel_pericias",
          "329_foitzick_familia_ernesto",
          "91_búsqueda_astete_héctor a...",
          "385_bote_volcán calbuco_acc...",
          "363_braunau_nueva braunau_d...",
          "468_queilen_terceros_invest...",
          "170_llamas_vivienda_labocar",
          "10_compañías_cuerpo bombero...",
          "381_incendio forestal_casas...",
          "113_conaf_incendio forestal...",
          "57_conaf_fuego_temporada",
          "26_incendiario_carabineros_...",
          "112_araucanía_biobío_ataque...",
          "275_excepción_araucanía_mul...",
          "203_macrozona_abstenciones_...",
          "59_excepción_macrozona sur_...",
          "271_araucanía_siches_ministra",
          "370_boric_rosanna_rosanna c...",
          "95_litio_jobet_büchi",
          "491_retiros_appen_boric",
          "244_jara_reforma_ministra",
          "503_boric_chahuán_segpres",
          "106_boric_piñera_cambio mando",
          "327_boric_cámara_presidente...",
          "101_allamand_pedro castillo...",
          "156_monsalve_mapuche_minist...",
          "25_dominga_papers_pandora",
          "11_proyecto_cuarto_diputados",
          "143_delitos_proyecto indult...",
          "340_kast_boric_diputado",
          "184_adherentes_boric_kast",
          "464_boric_kast_josé antonio",
          "286_boric_kast_candidato",
          "417_sichel_boric_kast",
          "15_kast_boric_josé antonio",
          "42_kast_candidato_pen",
          "252_sichel_kast_chiloé",
          "226_servel_noviembre_excusas",
          "307_electoral_apoderados_se...",
          "506_horas_locales votación_...",
          "148_locales votación_servel...",
          "293_autonomía_constituyente...",
          "43_chiloé región_chiloé_con...",
          "176_propuestas_educación_no...",
          "94_pleno_constitución_conve...",
          "189_convención_suprema_expr...",
          "164_plebiscito_nueva consti...",
          "138_convención_comisión sis...",
          "270_comisión forma_pleno_ar...",
          "391_pleno_convención consti...",
          "7_equipo_colo_dt",
          "82_colo_anfp_cuadro",
          "45_colo_fecha_curicó",
          "178_partido_huachipato_auda...",
          "198_palestino_remató_partido",
          "99_colo_gol_arco",
          "405_gol_lucero_primer tiempo",
          "435_colo_esteban valencia_c...",
          "240_colo_universidad chile_...",
          "104_colo_jugador_roggiero",
          "183_club_mairena_volante",
          "471_deportes puerto montt_c...",
          "214_melipilla_provincial_anfp",
          "469_tobar_castrilli_zampedri",
          "452_sanción_anfp_calama",
          "424_paraguay_catar_mundial",
          "92_qatar_mundial_grupo",
          "294_fase_copa libertadores_...",
          "321_colo_santiago morning_t...",
          "257_brereton_blackburn_ben",
          "28_roja_lasarte_aránguiz",
          "382_bravo_lasarte_copa amér...",
          "502_lasarte_roja_colombia",
          "510_selección_lasarte_roja",
          "70_pellegrini_champions_eur...",
          "5_inter_minutos_goles",
          "69_inter_entrenador_leeds",
          "448_alexis_inter_medios ita...",
          "215_atlético puerto_cdo_reb...",
          "19_aba_copa chile_deportes ...",
          "88_femenina_series_certamen",
          "68_palín_montt_puerto",
          "61_boxeo_título_pancora",
          "23_deportista_club_nya",
          "39_deportistas_km_avosur",
          "346_ancud_deportistas_toros...",
          "473_400_medallas_metros val...",
          "76_metros_juegos_planos",
          "300_bío_asociación_araucanía",
          "500_araucanía_juegos arauca...",
          "292_fondeporte 2022_fondepo...",
          "171_juegos deportivos escol...",
          "137_ind_mindep_física",
          "353_fútbol femenino univers...",
          "348_fica_bombo_jaivas",
          "371_musicales_chora_compete...",
          "261_carelmapu_cultural_duel...",
          "332_cultura_trayectoria_pre...",
          "440_hospital puerto montt_e...",
          "462_vacarezza_karen_esposa ...",
          "444_ximena schott_schott_xi...",
          "490_raquel_montecarmelo_sel...",
          "3_blanco 324 of_bomberos132...",
          "421_corea_misil hipersónico...",
          "449_arte_obra_gogh",
          "392_beethoven_cantora_compa...",
          "412_cultura_aforos_jaivas",
          "454_yarur_weitzler_ex",
          "151_hiriart_lucía_dama",
          "347_caszely_isabel ii_carlos",
          "311_leonel_1962_chile",
          "380_misa_ramos_santa",
          "306_monseñor_valdés_francis...",
          "243_sexuales_ratzinger_papa...",
          "125_djokovic_novak_serbio",
          "8_tabilo_garin_jarry",
          "90_verstappen_gran premio_l...",
          "217_rally_cornejo_general",
          "298_r2_pérez_rc4",
          "359_rancagua_rienda_caballos",
          "315_niemann_joaquín niemann...",
          "155_endler_christiane endle...",
          "213_wimbledon_itf_federación",
          "216_millones_refugiados ucr...",
          "394_canal mancha_unido_nauf...",
          "67_downing street_downing_b...",
          "199_taiwán_pekín_soberanía",
          "149_kazajistán_almaty_siria",
          "238_silala_alegatos orales_...",
          "403_escazú_acuerdo escazú_d...",
          "278_boric_argentina_escazú",
          "193_electoral_daniel ortega...",
          "317_cores_elecciones chile_...",
          "460_scholz_spd_testera",
          "390_karina oliva_servel_ciper",
          "254_parejas_sexo_civil",
          "396_cédulas_identidad_ofici...",
          "456_semanas gestación_clíni...",
          "406_documentos_bannon_expre...",
          "218_cabo verde_maduro_fujim...",
          "349_pandora papers_paraísos...",
          "224_izurieta_malversación c...",
          "383_sexual_criminal_trata",
          "265_corte_juez_apelaciones ...",
          "186_máquinas_querellas_cort...",
          "277_fallo_bomberos río_trab...",
          "481_escalera_ricke_essal",
          "411_suministro agua_essal_6...",
          "116_corte programado_client...",
          "179_saesa_fontecilla_servic...",
          "241_deuda_saesa_31",
          "492_nave_efectuando_marítima",
          "507_sernapesca_caleta bay_c...",
          "480_santa_plan_puntos control",
          "484_sistema táctico_operaci...",
          "458_medidas control_motivos...",
          "398_multas_vial_conaset",
          "325_solo uso_plásticos_plum...",
          "274_consumidores_sernac_gar...",
          "413_días años_ley sanciona ...",
          "330_trabajadores_irrenuncia...",
          "433_fonasa_devolución cotiz...",
          "505_chileatiende_estafa_den...",
          "211_superficiales_datum_per...",
          "445_interesados deben dirig...",
          "496_lebron_nba_asistencias",
          "455_pesca recreativa_sernap...",
          "195_sernapesca_veda_merluza",
          "342_juzgado letras_armada_s...",
          "86_jefe_ceremonia_cambio ma...",
          "334_fuerza aérea_rebusca_od...",
          "161_lancha_marítima_melinka",
          "474_evacuación_chulín_apoyó",
          "301_videla_cirujano videla_...",
          "501_toxina_roja_fan",
          "295_sernapesca_marea roja_m...",
          "52_productos_calbuco_toxina",
          "358_angelmó_precios_marea",
          "434_pgu_pensión garantizada...",
          "173_garantizada_pgu_universal",
          "146_universal_pagos_rsh",
          "123_aporte familiar permane...",
          "375_ips_instituto previsión...",
          "461_sename_edificio_lilian ...",
          "172_reinserción_sename_sence",
          "322_fundación_cloud_inserción",
          "182_cursos_sence_despega mipe",
          "191_sence_laborales_observa...",
          "100_ife_sala cuna_sence",
          "338_carrera_estudiantes_ped...",
          "264_pdt_rendición_diciembre",
          "129_matrícula_sistema admis...",
          "365_beneficios_gratuidad_es...",
          "457_veto_estatuto docente_d...",
          "476_proceso desmunicipaliza...",
          "360_escuela_santa elvira_ed...",
          "493_secretarios_educación_g...",
          "423_clases_ulagos_comunidad...",
          "415_rector_oui_universidade...",
          "430_parcc_acción regional c...",
          "488_mesa_seminario_chiloé",
          "472_seremis_tardanza_autori...",
          "425_puelche_hualaihué_trans...",
          "177_energía_carteras_diplom...",
          "318_rd_enzo jaramillo_seremis",
          "376_carvacho_presidente gab...",
          "373_cplt_portal transparenc...",
          "429_convencional_agua_distr...",
          "341_convención_agrollanquih...",
          "453_cabildo_mirasol_ampuero",
          "337_supersol_ley_leviante",
          "324_indespa_caleta_sindicato",
          "345_chinquihue_pesca_teuquil",
          "447_formulación_fndr_injuv",
          "366_organizaciones_comunida...",
          "504_palena_dfl 15_dfl",
          "233_programa mujeres jefas_...",
          "475_indap_prodemu_campesina",
          "361_praderas_censo_fertiliz...",
          "487_sag_animal_exportación",
          "459_perros_ataques_agrollan...",
          "126_gatos_animal_subdere",
          "208_ocupados_ine_fuerza",
          "357_inactividad_laboral_ocu...",
          "367_subasta_wwwsubastaaduan...",
          "427_exterior_armonizado_adu...",
          "111_us_exportaciones_2021",
          "442_riqueza_ingresos_001",
          "378_créditos_arriendo_caman...",
          "302_deezer_música digital_b...",
          "420_global66_transbank_mone...",
          "426_botiquín_terapeutas_pua...",
          "299_psicosociales_enfermeda...",
          "351_cristo_hogar_abrazos",
          "466_doomscrolling_videojueg...",
          "422_notebook_smart tv_mouse",
          "140_sharpie_tonos_slime",
          "438_colchón_si_pie",
          "416_puedes_tauro_acuario",
          "98_contraseñas_dispositivos...",
          "169_aliexpress_clientes_pago",
          "167_datos_empleados_adp",
          "78_alimentos_proteínas_huev...",
          "159_junaeb_preparaciones_hu...",
          "133_guía_corfo_sernatur",
          "310_salmón_kilos per_158",
          "320_kentucky_beshear_illinois",
          "326_tonga_metros_canarias",
          "188_onemi_alerta tsunami_shoa",
          "258_mm_meteorológica_niña",
          "163_lluvias_caída_onemi",
          "316_tormentas_alerta_temprana",
          "124_siglo_caral_puerto varas",
          "103_millones años_fósil_inv...",
          "273_glaciares_nieve_hielo m...",
          "404_asteroide_erupciones_luna",
          "64_nasa_tierra_láctea",
          "239_eei_tripulación_axiom",
          "147_estudio_antártica_condi...",
          "246_dr_uach_murúa",
          "187_oliva_pimienta_dontinto",
          "105_oliva_minutos_ml",
          "388_martinna_dios_gente",
          "281_novela_quino_colombo",
          "46_libro_literatura_escritor",
          "89_onlyfans_movimiento_rosa...",
          "74_súper_canal_siempre",
          "16_cantante_carrera_méxico",
          "499_disco_león_bien",
          "27_concierto_movistar arena...",
          "81_music_discos_canción",
          "272_banda_abba_rauw",
          "408_sheeran_rosalía_motomami",
          "399_grammy_laferte_latin",
          "336_bestia_platino_mejor co...",
          "280_mejor película_bafta_coda",
          "185_indira_garcía márquez_m...",
          "190_actriz_jappening_vicuña",
          "451_actor_chris rock_gala",
          "110_baldwin_depp_hutchins",
          "495_willis_bruce_emily",
          "402_jesús_película_nazareth",
          "9_película_netflix_batman",
          "269_película_cómo_stewart",
          "18_ps5_ps4_pokémon",
          "432_id_penal castro_fjsdget...",
          "279_jsdcreateelement_jsdcre...",
          "80_js_dlocation_comment nam..."
         ],
         "tickvals": [
          -5,
          -15,
          -25,
          -35,
          -45,
          -55,
          -65,
          -75,
          -85,
          -95,
          -105,
          -115,
          -125,
          -135,
          -145,
          -155,
          -165,
          -175,
          -185,
          -195,
          -205,
          -215,
          -225,
          -235,
          -245,
          -255,
          -265,
          -275,
          -285,
          -295,
          -305,
          -315,
          -325,
          -335,
          -345,
          -355,
          -365,
          -375,
          -385,
          -395,
          -405,
          -415,
          -425,
          -435,
          -445,
          -455,
          -465,
          -475,
          -485,
          -495,
          -505,
          -515,
          -525,
          -535,
          -545,
          -555,
          -565,
          -575,
          -585,
          -595,
          -605,
          -615,
          -625,
          -635,
          -645,
          -655,
          -665,
          -675,
          -685,
          -695,
          -705,
          -715,
          -725,
          -735,
          -745,
          -755,
          -765,
          -775,
          -785,
          -795,
          -805,
          -815,
          -825,
          -835,
          -845,
          -855,
          -865,
          -875,
          -885,
          -895,
          -905,
          -915,
          -925,
          -935,
          -945,
          -955,
          -965,
          -975,
          -985,
          -995,
          -1005,
          -1015,
          -1025,
          -1035,
          -1045,
          -1055,
          -1065,
          -1075,
          -1085,
          -1095,
          -1105,
          -1115,
          -1125,
          -1135,
          -1145,
          -1155,
          -1165,
          -1175,
          -1185,
          -1195,
          -1205,
          -1215,
          -1225,
          -1235,
          -1245,
          -1255,
          -1265,
          -1275,
          -1285,
          -1295,
          -1305,
          -1315,
          -1325,
          -1335,
          -1345,
          -1355,
          -1365,
          -1375,
          -1385,
          -1395,
          -1405,
          -1415,
          -1425,
          -1435,
          -1445,
          -1455,
          -1465,
          -1475,
          -1485,
          -1495,
          -1505,
          -1515,
          -1525,
          -1535,
          -1545,
          -1555,
          -1565,
          -1575,
          -1585,
          -1595,
          -1605,
          -1615,
          -1625,
          -1635,
          -1645,
          -1655,
          -1665,
          -1675,
          -1685,
          -1695,
          -1705,
          -1715,
          -1725,
          -1735,
          -1745,
          -1755,
          -1765,
          -1775,
          -1785,
          -1795,
          -1805,
          -1815,
          -1825,
          -1835,
          -1845,
          -1855,
          -1865,
          -1875,
          -1885,
          -1895,
          -1905,
          -1915,
          -1925,
          -1935,
          -1945,
          -1955,
          -1965,
          -1975,
          -1985,
          -1995,
          -2005,
          -2015,
          -2025,
          -2035,
          -2045,
          -2055,
          -2065,
          -2075,
          -2085,
          -2095,
          -2105,
          -2115,
          -2125,
          -2135,
          -2145,
          -2155,
          -2165,
          -2175,
          -2185,
          -2195,
          -2205,
          -2215,
          -2225,
          -2235,
          -2245,
          -2255,
          -2265,
          -2275,
          -2285,
          -2295,
          -2305,
          -2315,
          -2325,
          -2335,
          -2345,
          -2355,
          -2365,
          -2375,
          -2385,
          -2395,
          -2405,
          -2415,
          -2425,
          -2435,
          -2445,
          -2455,
          -2465,
          -2475,
          -2485,
          -2495,
          -2505,
          -2515,
          -2525,
          -2535,
          -2545,
          -2555,
          -2565,
          -2575,
          -2585,
          -2595,
          -2605,
          -2615,
          -2625,
          -2635,
          -2645,
          -2655,
          -2665,
          -2675,
          -2685,
          -2695,
          -2705,
          -2715,
          -2725,
          -2735,
          -2745,
          -2755,
          -2765,
          -2775,
          -2785,
          -2795,
          -2805,
          -2815,
          -2825,
          -2835,
          -2845,
          -2855,
          -2865,
          -2875,
          -2885,
          -2895,
          -2905,
          -2915,
          -2925,
          -2935,
          -2945,
          -2955,
          -2965,
          -2975,
          -2985,
          -2995,
          -3005,
          -3015,
          -3025,
          -3035,
          -3045,
          -3055,
          -3065,
          -3075,
          -3085,
          -3095,
          -3105,
          -3115,
          -3125,
          -3135,
          -3145,
          -3155,
          -3165,
          -3175,
          -3185,
          -3195,
          -3205,
          -3215,
          -3225,
          -3235,
          -3245,
          -3255,
          -3265,
          -3275,
          -3285,
          -3295,
          -3305,
          -3315,
          -3325,
          -3335,
          -3345,
          -3355,
          -3365,
          -3375,
          -3385,
          -3395,
          -3405,
          -3415,
          -3425,
          -3435,
          -3445,
          -3455,
          -3465,
          -3475,
          -3485,
          -3495,
          -3505,
          -3515,
          -3525,
          -3535,
          -3545,
          -3555,
          -3565,
          -3575,
          -3585,
          -3595,
          -3605,
          -3615,
          -3625,
          -3635,
          -3645,
          -3655,
          -3665,
          -3675,
          -3685,
          -3695,
          -3705,
          -3715,
          -3725,
          -3735,
          -3745,
          -3755,
          -3765,
          -3775,
          -3785,
          -3795,
          -3805,
          -3815,
          -3825,
          -3835,
          -3845,
          -3855,
          -3865,
          -3875,
          -3885,
          -3895,
          -3905,
          -3915,
          -3925,
          -3935,
          -3945,
          -3955,
          -3965,
          -3975,
          -3985,
          -3995,
          -4005,
          -4015,
          -4025,
          -4035,
          -4045,
          -4055,
          -4065,
          -4075,
          -4085,
          -4095,
          -4105,
          -4115,
          -4125,
          -4135,
          -4145,
          -4155,
          -4165,
          -4175,
          -4185,
          -4195,
          -4205,
          -4215,
          -4225,
          -4235,
          -4245,
          -4255,
          -4265,
          -4275,
          -4285,
          -4295,
          -4305,
          -4315,
          -4325,
          -4335,
          -4345,
          -4355,
          -4365,
          -4375,
          -4385,
          -4395,
          -4405,
          -4415,
          -4425,
          -4435,
          -4445,
          -4455,
          -4465,
          -4475,
          -4485,
          -4495,
          -4505,
          -4515,
          -4525,
          -4535,
          -4545,
          -4555,
          -4565,
          -4575,
          -4585,
          -4595,
          -4605,
          -4615,
          -4625,
          -4635,
          -4645,
          -4655,
          -4665,
          -4675,
          -4685,
          -4695,
          -4705,
          -4715,
          -4725,
          -4735,
          -4745,
          -4755,
          -4765,
          -4775,
          -4785,
          -4795,
          -4805,
          -4815,
          -4825,
          -4835,
          -4845,
          -4855,
          -4865,
          -4875,
          -4885,
          -4895,
          -4905,
          -4915,
          -4925,
          -4935,
          -4945,
          -4955,
          -4965,
          -4975,
          -4985,
          -4995,
          -5005,
          -5015,
          -5025,
          -5035,
          -5045,
          -5055,
          -5065,
          -5075,
          -5085,
          -5095,
          -5105
         ],
         "type": "linear",
         "zeroline": false
        }
       }
      },
      "text/html": [
       "<div>                            <div id=\"66ed14f2-5924-4e33-ae7c-79a29a6e5bba\" class=\"plotly-graph-div\" style=\"height:7865px; width:1000px;\"></div>            <script type=\"text/javascript\">                require([\"plotly\"], function(Plotly) {                    window.PLOTLYENV=window.PLOTLYENV || {};                                    if (document.getElementById(\"66ed14f2-5924-4e33-ae7c-79a29a6e5bba\")) {                    Plotly.newPlot(                        \"66ed14f2-5924-4e33-ae7c-79a29a6e5bba\",                        [{\"hoverinfo\":\"text\",\"marker\":{\"color\":\"rgb(61,153,112)\"},\"mode\":\"lines\",\"text\":[\"casos_covid19_nivel nacional_total_minsal\",\"\",\"\",\"positividad_paris_peak_covid19_minsal\"],\"x\":[0.0,0.9150205118893933,0.9150205118893933,0.0],\"xaxis\":\"x\",\"y\":[-15.0,-15.0,-25.0,-25.0],\"yaxis\":\"y\",\"type\":\"scatter\"},{\"hoverinfo\":\"text\",\"marker\":{\"color\":\"rgb(0,116,217)\"},\"mode\":\"lines\",\"text\":[\"covid19_nuevos casos_camas_minsal_nivel nacional\",\"\",\"\",\"variante \\u00f3micron_minsal_covid19_valenzuela_dosis\"],\"x\":[0.9150205118893933,1.0296719165591488,1.0296719165591488,0.0],\"xaxis\":\"x\",\"y\":[-20.0,-20.0,-35.0,-35.0],\"yaxis\":\"y\",\"type\":\"scatter\"},{\"hoverinfo\":\"text\",\"marker\":{\"color\":\"rgb(0,116,217)\"},\"mode\":\"lines\",\"text\":[\"minsal_covid19_positividad_mil casos_valenzuela\",\"\",\"\",\"covid19_nuevos casos_camas_minsal_nivel nacional\"],\"x\":[0.0,1.0614444323120211,1.0614444323120211,1.0296719165591488],\"xaxis\":\"x\",\"y\":[-5.0,-5.0,-27.5,-27.5],\"yaxis\":\"y\",\"type\":\"scatter\"},{\"hoverinfo\":\"text\",\"marker\":{\"color\":\"rgb(0,116,217)\"},\"mode\":\"lines\",\"text\":[\"\\u00faltimas 24 horas_ant\\u00edgeno_casos_total_nuevos covid19\",\"\",\"\",\"r\\u00edos_casos activos_lanco_paillaco_panguipulli\"],\"x\":[0.0,1.220217445890403,1.220217445890403,0.0],\"xaxis\":\"x\",\"y\":[-45.0,-45.0,-55.0,-55.0],\"yaxis\":\"y\",\"type\":\"scatter\"},{\"hoverinfo\":\"text\",\"marker\":{\"color\":\"rgb(0,116,217)\"},\"mode\":\"lines\",\"text\":[\"covid19_minsal_nuevos casos_camas_paris\",\"\",\"\",\"r\\u00edos_casos activos_lanco_paillaco_panguipulli\"],\"x\":[1.0614444323120211,1.331863831159898,1.331863831159898,1.220217445890403],\"xaxis\":\"x\",\"y\":[-16.25,-16.25,-50.0,-50.0],\"yaxis\":\"y\",\"type\":\"scatter\"},{\"hoverinfo\":\"text\",\"marker\":{\"color\":\"rgb(255,65,54)\"},\"mode\":\"lines\",\"text\":[\"confirmados_\\u00faltimas 24_conectadas ventilaci\\u00f3n mec\\u00e1nica_dio conocer autoridad_casos activos llegan\",\"\",\"\",\"regi\\u00f3n_reportaron_contagios_integrada salud_notificar\"],\"x\":[0.0,0.5778868676678798,0.5778868676678798,0.0],\"xaxis\":\"x\",\"y\":[-65.0,-65.0,-75.0,-75.0],\"yaxis\":\"y\",\"type\":\"scatter\"},{\"hoverinfo\":\"text\",\"marker\":{\"color\":\"rgb(35,205,205)\"},\"mode\":\"lines\",\"text\":[\"contagios_casos activos_provincia llanquihue_llanquihue_uci\",\"\",\"\",\"casos_total_corresponden provincia_uci_montt present\\u00f3\"],\"x\":[0.0,0.9454669863091758,0.9454669863091758,0.0],\"xaxis\":\"x\",\"y\":[-95.0,-95.0,-105.0,-105.0],\"yaxis\":\"y\",\"type\":\"scatter\"},{\"hoverinfo\":\"text\",\"marker\":{\"color\":\"rgb(0,116,217)\"},\"mode\":\"lines\",\"text\":[\"dosis_casos_red salud regional_covid_nuevos\",\"\",\"\",\"uci_nuevos casos_osorno_corresponden provincia_covid\"],\"x\":[0.0,1.0098405475245495,1.0098405475245495,0.9454669863091758],\"xaxis\":\"x\",\"y\":[-85.0,-85.0,-100.0,-100.0],\"yaxis\":\"y\",\"type\":\"scatter\"},{\"hoverinfo\":\"text\",\"marker\":{\"color\":\"rgb(0,116,217)\"},\"mode\":\"lines\",\"text\":[\"dosis_casos_red salud regional_covid_nuevos\",\"\",\"\",\"osorno_purranque_seremi salud_fecha corte_cansino\"],\"x\":[1.0098405475245495,1.1015554550884386,1.1015554550884386,0.0],\"xaxis\":\"x\",\"y\":[-92.5,-92.5,-115.0,-115.0],\"yaxis\":\"y\",\"type\":\"scatter\"},{\"hoverinfo\":\"text\",\"marker\":{\"color\":\"rgb(0,116,217)\"},\"mode\":\"lines\",\"text\":[\"residencia_regi\\u00f3n_contagios_reportaron_integrada salud\",\"\",\"\",\"osorno_purranque_seremi salud_fecha corte_cansino\"],\"x\":[0.5778868676678798,1.4424674576958216,1.4424674576958216,1.1015554550884386],\"xaxis\":\"x\",\"y\":[-70.0,-70.0,-103.75,-103.75],\"yaxis\":\"y\",\"type\":\"scatter\"},{\"hoverinfo\":\"text\",\"marker\":{\"color\":\"rgb(0,116,217)\"},\"mode\":\"lines\",\"text\":[\"contagios_bown_uci_activos_camas\",\"\",\"\",\"aislamiento_covid_ancud_curaco v\\u00e9lez_v\\u00e9lez\"],\"x\":[0.0,1.0640773477667962,1.0640773477667962,0.0],\"xaxis\":\"x\",\"y\":[-135.0,-135.0,-145.0,-145.0],\"yaxis\":\"y\",\"type\":\"scatter\"},{\"hoverinfo\":\"text\",\"marker\":{\"color\":\"rgb(0,116,217)\"},\"mode\":\"lines\",\"text\":[\"pacientes_mansa_covid_camas uci_seremi salud\",\"\",\"\",\"aislamiento_covid_ancud_curaco v\\u00e9lez_v\\u00e9lez\"],\"x\":[0.0,1.1995330044417682,1.1995330044417682,1.0640773477667962],\"xaxis\":\"x\",\"y\":[-125.0,-125.0,-140.0,-140.0],\"yaxis\":\"y\",\"type\":\"scatter\"},{\"hoverinfo\":\"text\",\"marker\":{\"color\":\"rgb(133,20,75)\"},\"mode\":\"lines\",\"text\":[\"aislamiento_intermedio_coronavirus_ancud_internadas\",\"\",\"\",\"neumon\\u00eda_cov2_sars cov2_sars_ancud\"],\"x\":[0.0,0.7452738114413444,0.7452738114413444,0.0],\"xaxis\":\"x\",\"y\":[-155.0,-155.0,-165.0,-165.0],\"yaxis\":\"y\",\"type\":\"scatter\"},{\"hoverinfo\":\"text\",\"marker\":{\"color\":\"rgb(0,116,217)\"},\"mode\":\"lines\",\"text\":[\"aislamiento_intermedio_coronavirus_ancud_internadas\",\"\",\"\",\"ancud_coronavirus_quell\\u00f3n_tratamiento intermedio_quemchi\"],\"x\":[1.1995330044417682,1.4834949562340685,1.4834949562340685,0.7452738114413444],\"xaxis\":\"x\",\"y\":[-132.5,-132.5,-160.0,-160.0],\"yaxis\":\"y\",\"type\":\"scatter\"},{\"hoverinfo\":\"text\",\"marker\":{\"color\":\"rgb(0,116,217)\"},\"mode\":\"lines\",\"text\":[\"provincia_contagios_osorno_activos_camas uci\",\"\",\"\",\"ancud_coronavirus_quell\\u00f3n_tratamiento intermedio_quemchi\"],\"x\":[1.4424674576958216,1.9779191903906816,1.9779191903906816,1.4834949562340685],\"xaxis\":\"x\",\"y\":[-86.875,-86.875,-146.25,-146.25],\"yaxis\":\"y\",\"type\":\"scatter\"},{\"hoverinfo\":\"text\",\"marker\":{\"color\":\"rgb(0,116,217)\"},\"mode\":\"lines\",\"text\":[\"covid19_minsal_nuevos casos_24 horas_salud\",\"\",\"\",\"ancud_coronavirus_quell\\u00f3n_tratamiento intermedio_quemchi\"],\"x\":[1.331863831159898,2.2583926708115936,2.2583926708115936,1.9779191903906816],\"xaxis\":\"x\",\"y\":[-33.125,-33.125,-116.5625,-116.5625],\"yaxis\":\"y\",\"type\":\"scatter\"},{\"hoverinfo\":\"text\",\"marker\":{\"color\":\"rgb(0,116,217)\"},\"mode\":\"lines\",\"text\":[\"derechos_protecci\\u00f3n_ley_humanos_servicio mejor ni\\u00f1ez\",\"\",\"\",\"mejor_servicio_sename_telet\\u00f3n_vulnerados\"],\"x\":[0.0,1.0322383943777762,1.0322383943777762,0.0],\"xaxis\":\"x\",\"y\":[-175.0,-175.0,-185.0,-185.0],\"yaxis\":\"y\",\"type\":\"scatter\"},{\"hoverinfo\":\"text\",\"marker\":{\"color\":\"rgb(0,116,217)\"},\"mode\":\"lines\",\"text\":[\"senama_vales_gas_aroca_dideco\",\"\",\"\",\"cuidados_social familia_moderada_senadis_santo\"],\"x\":[0.0,1.2683193848313339,1.2683193848313339,0.0],\"xaxis\":\"x\",\"y\":[-205.0,-205.0,-215.0,-215.0],\"yaxis\":\"y\",\"type\":\"scatter\"},{\"hoverinfo\":\"text\",\"marker\":{\"color\":\"rgb(0,116,217)\"},\"mode\":\"lines\",\"text\":[\"fundaci\\u00f3n conecta mayor_100 l\\u00edderes mayores_adultos_exequiel_86 a\\u00f1os\",\"\",\"\",\"adultos_senama_vales_personas dependencia_cuidados\"],\"x\":[0.0,1.300357745533765,1.300357745533765,1.2683193848313339],\"xaxis\":\"x\",\"y\":[-195.0,-195.0,-210.0,-210.0],\"yaxis\":\"y\",\"type\":\"scatter\"},{\"hoverinfo\":\"text\",\"marker\":{\"color\":\"rgb(0,116,217)\"},\"mode\":\"lines\",\"text\":[\"mayores_senama_personas_100 l\\u00edderes_aroca\",\"\",\"\",\"telet\\u00f3n_rehabilitaci\\u00f3n_mes personas mayores_leones_cruzada\"],\"x\":[1.300357745533765,1.365975774820773,1.365975774820773,0.0],\"xaxis\":\"x\",\"y\":[-202.5,-202.5,-225.0,-225.0],\"yaxis\":\"y\",\"type\":\"scatter\"},{\"hoverinfo\":\"text\",\"marker\":{\"color\":\"rgb(0,116,217)\"},\"mode\":\"lines\",\"text\":[\"ni\\u00f1os_campa\\u00f1a_viejito_correoschile_regalo\",\"\",\"\",\"senda_drogas_residencias_familias power_ni\\u00f1os primero\"],\"x\":[0.0,1.2852476605779408,1.2852476605779408,0.0],\"xaxis\":\"x\",\"y\":[-235.0,-235.0,-245.0,-245.0],\"yaxis\":\"y\",\"type\":\"scatter\"},{\"hoverinfo\":\"text\",\"marker\":{\"color\":\"rgb(0,116,217)\"},\"mode\":\"lines\",\"text\":[\"ni\\u00f1os_campa\\u00f1a_viejito_correoschile_regalo\",\"\",\"\",\"senda_drogas_residencias_familias power_ni\\u00f1os primero\"],\"x\":[1.365975774820773,1.432333947270379,1.432333947270379,1.2852476605779408],\"xaxis\":\"x\",\"y\":[-213.75,-213.75,-240.0,-240.0],\"yaxis\":\"y\",\"type\":\"scatter\"},{\"hoverinfo\":\"text\",\"marker\":{\"color\":\"rgb(0,116,217)\"},\"mode\":\"lines\",\"text\":[\"ni\\u00f1os ni\\u00f1as_integra_jardines infantiles_actividades_programa\",\"\",\"\",\"junji_jard\\u00edn infantil_eduardo hern\\u00e1ndez_cuna_walterio meyer\"],\"x\":[0.0,1.1255400371565971,1.1255400371565971,0.0],\"xaxis\":\"x\",\"y\":[-255.0,-255.0,-265.0,-265.0],\"yaxis\":\"y\",\"type\":\"scatter\"},{\"hoverinfo\":\"text\",\"marker\":{\"color\":\"rgb(0,116,217)\"},\"mode\":\"lines\",\"text\":[\"jard\\u00edn infantil_junji_educaci\\u00f3n_cuna_fundaci\\u00f3n integra\",\"\",\"\",\"junji_jardines infantiles_escuela_proceso educativo inicial_unidades educativas\"],\"x\":[1.1255400371565971,1.3170476004134226,1.3170476004134226,0.0],\"xaxis\":\"x\",\"y\":[-260.0,-260.0,-275.0,-275.0],\"yaxis\":\"y\",\"type\":\"scatter\"},{\"hoverinfo\":\"text\",\"marker\":{\"color\":\"rgb(0,116,217)\"},\"mode\":\"lines\",\"text\":[\"jard\\u00edn infantil_junji_educaci\\u00f3n_cuna_fundaci\\u00f3n integra\",\"\",\"\",\"junji_jard\\u00edn infantil_educaci\\u00f3n_actividades_familias\"],\"x\":[1.432333947270379,1.6622929842852145,1.6622929842852145,1.3170476004134226],\"xaxis\":\"x\",\"y\":[-226.875,-226.875,-267.5,-267.5],\"yaxis\":\"y\",\"type\":\"scatter\"},{\"hoverinfo\":\"text\",\"marker\":{\"color\":\"rgb(0,116,217)\"},\"mode\":\"lines\",\"text\":[\"adolescentes_ni\\u00f1as_servicio mejor ni\\u00f1ez_adolescencia_especializada\",\"\",\"\",\"junji_jard\\u00edn infantil_educaci\\u00f3n_actividades_familias\"],\"x\":[1.0322383943777762,1.684849573102865,1.684849573102865,1.6622929842852145],\"xaxis\":\"x\",\"y\":[-180.0,-180.0,-247.1875,-247.1875],\"yaxis\":\"y\",\"type\":\"scatter\"},{\"hoverinfo\":\"text\",\"marker\":{\"color\":\"rgb(0,116,217)\"},\"mode\":\"lines\",\"text\":[\"comit\\u00e9_propia_antukuyen_solidario elecci\\u00f3n vivienda_uf\",\"\",\"\",\"viviendas sociales_lagunitas_construcci\\u00f3n_guevara_comit\\u00e9 fresia\"],\"x\":[0.0,1.1671754243801347,1.1671754243801347,0.0],\"xaxis\":\"x\",\"y\":[-295.0,-295.0,-305.0,-305.0],\"yaxis\":\"y\",\"type\":\"scatter\"},{\"hoverinfo\":\"text\",\"marker\":{\"color\":\"rgb(0,116,217)\"},\"mode\":\"lines\",\"text\":[\"materiales_familias_tarjeta_minvu_ministerio vivienda urbanismo\",\"\",\"\",\"proyecto_guevara_propia_antukuyen_seremi vivienda\"],\"x\":[0.0,1.275488915575403,1.275488915575403,1.1671754243801347],\"xaxis\":\"x\",\"y\":[-285.0,-285.0,-300.0,-300.0],\"yaxis\":\"y\",\"type\":\"scatter\"},{\"hoverinfo\":\"text\",\"marker\":{\"color\":\"rgb(0,116,217)\"},\"mode\":\"lines\",\"text\":[\"5g_localidades_telecomunicaciones_starlink_wom\",\"\",\"\",\"hughes_trabajo social red_llanada_satelital_grande\"],\"x\":[0.0,1.2737052556055604,1.2737052556055604,0.0],\"xaxis\":\"x\",\"y\":[-315.0,-315.0,-325.0,-325.0],\"yaxis\":\"y\",\"type\":\"scatter\"},{\"hoverinfo\":\"text\",\"marker\":{\"color\":\"rgb(0,116,217)\"},\"mode\":\"lines\",\"text\":[\"karelia_universidad north_curaco_v\\u00e9lez_curaco v\\u00e9lez\",\"\",\"\",\"bancoestado_autom\\u00e1tico_curaco_curaco v\\u00e9lez_v\\u00e9lez\"],\"x\":[0.0,1.3402260986445367,1.3402260986445367,0.0],\"xaxis\":\"x\",\"y\":[-335.0,-335.0,-345.0,-345.0],\"yaxis\":\"y\",\"type\":\"scatter\"},{\"hoverinfo\":\"text\",\"marker\":{\"color\":\"rgb(0,116,217)\"},\"mode\":\"lines\",\"text\":[\"terreno_servicios p\\u00fablicos_consultas_serem\\u00eda_oficina regularizaci\\u00f3n\",\"\",\"\",\"dominio_moreno_bienes nacionales jorge_propietario_t\\u00edtulo\"],\"x\":[0.0,1.3087412026506702,1.3087412026506702,0.0],\"xaxis\":\"x\",\"y\":[-355.0,-355.0,-365.0,-365.0],\"yaxis\":\"y\",\"type\":\"scatter\"},{\"hoverinfo\":\"text\",\"marker\":{\"color\":\"rgb(0,116,217)\"},\"mode\":\"lines\",\"text\":[\"terreno_servicios p\\u00fablicos_consultas_serem\\u00eda_oficina regularizaci\\u00f3n\",\"\",\"\",\"dominio_moreno_bienes nacionales jorge_propietario_t\\u00edtulo\"],\"x\":[1.3402260986445367,1.4628031299326676,1.4628031299326676,1.3087412026506702],\"xaxis\":\"x\",\"y\":[-340.0,-340.0,-360.0,-360.0],\"yaxis\":\"y\",\"type\":\"scatter\"},{\"hoverinfo\":\"text\",\"marker\":{\"color\":\"rgb(0,116,217)\"},\"mode\":\"lines\",\"text\":[\"vecina_farmacia ciudadana_rahue_cenabast_f\\u00e1rmacos\",\"\",\"\",\"pago permiso circulaci\\u00f3n_atenci\\u00f3n_31 marzo_0830_municipio\"],\"x\":[0.0,1.35108860736967,1.35108860736967,0.0],\"xaxis\":\"x\",\"y\":[-375.0,-375.0,-385.0,-385.0],\"yaxis\":\"y\",\"type\":\"scatter\"},{\"hoverinfo\":\"text\",\"marker\":{\"color\":\"rgb(0,116,217)\"},\"mode\":\"lines\",\"text\":[\"vecina_farmacia ciudadana_rahue_cenabast_f\\u00e1rmacos\",\"\",\"\",\"parque_luis ebel_martes domingo_acceso_ornato\"],\"x\":[1.35108860736967,1.3872117787359213,1.3872117787359213,0.0],\"xaxis\":\"x\",\"y\":[-380.0,-380.0,-395.0,-395.0],\"yaxis\":\"y\",\"type\":\"scatter\"},{\"hoverinfo\":\"text\",\"marker\":{\"color\":\"rgb(0,116,217)\"},\"mode\":\"lines\",\"text\":[\"vecina_farmacia ciudadana_rahue_cenabast_f\\u00e1rmacos\",\"\",\"\",\"parque_luis ebel_martes domingo_acceso_ornato\"],\"x\":[1.4628031299326676,1.467929371846404,1.467929371846404,1.3872117787359213],\"xaxis\":\"x\",\"y\":[-350.0,-350.0,-387.5,-387.5],\"yaxis\":\"y\",\"type\":\"scatter\"},{\"hoverinfo\":\"text\",\"marker\":{\"color\":\"rgb(0,116,217)\"},\"mode\":\"lines\",\"text\":[\"5g_\\u00f3ptica_localidades_hughes_social red\",\"\",\"\",\"parque_luis ebel_martes domingo_acceso_ornato\"],\"x\":[1.2737052556055604,1.494342956485701,1.494342956485701,1.467929371846404],\"xaxis\":\"x\",\"y\":[-320.0,-320.0,-368.75,-368.75],\"yaxis\":\"y\",\"type\":\"scatter\"},{\"hoverinfo\":\"text\",\"marker\":{\"color\":\"rgb(0,116,217)\"},\"mode\":\"lines\",\"text\":[\"subdere_esmeralda_calle_pasajes_\\u00e1reas verdes\",\"\",\"\",\"subdere_59 millones_futaleuf\\u00fa_obra_comuna\"],\"x\":[0.0,1.2661906311743136,1.2661906311743136,0.0],\"xaxis\":\"x\",\"y\":[-405.0,-405.0,-415.0,-415.0],\"yaxis\":\"y\",\"type\":\"scatter\"},{\"hoverinfo\":\"text\",\"marker\":{\"color\":\"rgb(0,116,217)\"},\"mode\":\"lines\",\"text\":[\"chilo\\u00e9_caminos_isla_alao_ministro obras p\\u00fablicas\",\"\",\"\",\"intermodal_pasajeros_terminal a\\u00e9reo_aer\\u00f3dromo ca\\u00f1al_tepual\"],\"x\":[0.0,1.3658626111599437,1.3658626111599437,0.0],\"xaxis\":\"x\",\"y\":[-425.0,-425.0,-435.0,-435.0],\"yaxis\":\"y\",\"type\":\"scatter\"},{\"hoverinfo\":\"text\",\"marker\":{\"color\":\"rgb(0,116,217)\"},\"mode\":\"lines\",\"text\":[\"templo_pauly_dise\\u00f1o_huyar bajo_casa pauly\",\"\",\"\",\"biblioteca p\\u00fablica_sede_65_cmpc_proyecto\"],\"x\":[0.0,1.341376342745229,1.341376342745229,0.0],\"xaxis\":\"x\",\"y\":[-445.0,-445.0,-455.0,-455.0],\"yaxis\":\"y\",\"type\":\"scatter\"},{\"hoverinfo\":\"text\",\"marker\":{\"color\":\"rgb(0,116,217)\"},\"mode\":\"lines\",\"text\":[\"templo_pauly_dise\\u00f1o_huyar bajo_casa pauly\",\"\",\"\",\"biblioteca p\\u00fablica_sede_65_cmpc_proyecto\"],\"x\":[1.3658626111599437,1.3876778015733755,1.3876778015733755,1.341376342745229],\"xaxis\":\"x\",\"y\":[-430.0,-430.0,-450.0,-450.0],\"yaxis\":\"y\",\"type\":\"scatter\"},{\"hoverinfo\":\"text\",\"marker\":{\"color\":\"rgb(0,116,217)\"},\"mode\":\"lines\",\"text\":[\"vivienda_hualaihu\\u00e9_comuna_ciudadana_cerro philippi\",\"\",\"\",\"comuna_consulta ciudadana alerce_sat\\u00e9lite_17 octubre_16 17\"],\"x\":[0.0,1.3180426552229747,1.3180426552229747,0.0],\"xaxis\":\"x\",\"y\":[-465.0,-465.0,-475.0,-475.0],\"yaxis\":\"y\",\"type\":\"scatter\"},{\"hoverinfo\":\"text\",\"marker\":{\"color\":\"rgb(0,116,217)\"},\"mode\":\"lines\",\"text\":[\"vivienda_hualaihu\\u00e9_comuna_ciudadana_cerro philippi\",\"\",\"\",\"comuna_consulta ciudadana alerce_sat\\u00e9lite_17 octubre_16 17\"],\"x\":[1.3876778015733755,1.4207758834905948,1.4207758834905948,1.3180426552229747],\"xaxis\":\"x\",\"y\":[-440.0,-440.0,-470.0,-470.0],\"yaxis\":\"y\",\"type\":\"scatter\"},{\"hoverinfo\":\"text\",\"marker\":{\"color\":\"rgb(0,116,217)\"},\"mode\":\"lines\",\"text\":[\"subdere_cierre perimetral_verdes_junta vecinos_calle\",\"\",\"\",\"comuna_consulta ciudadana alerce_sat\\u00e9lite_17 octubre_16 17\"],\"x\":[1.2661906311743136,1.4347488060667613,1.4347488060667613,1.4207758834905948],\"xaxis\":\"x\",\"y\":[-410.0,-410.0,-455.0,-455.0],\"yaxis\":\"y\",\"type\":\"scatter\"},{\"hoverinfo\":\"text\",\"marker\":{\"color\":\"rgb(0,116,217)\"},\"mode\":\"lines\",\"text\":[\"aniversario_brecas_117_queilen_117 a\\u00f1os\",\"\",\"\",\"barrientos_ciudadanos destacados_vera_ceremonia_piucol\"],\"x\":[0.0,1.2886633596314558,1.2886633596314558,0.0],\"xaxis\":\"x\",\"y\":[-495.0,-495.0,-505.0,-505.0],\"yaxis\":\"y\",\"type\":\"scatter\"},{\"hoverinfo\":\"text\",\"marker\":{\"color\":\"rgb(0,116,217)\"},\"mode\":\"lines\",\"text\":[\"aniversario_batalla_casa chilota_464_alcalde\",\"\",\"\",\"ceremonia_barrientos_ciudadanos destacados_municipal_castro\"],\"x\":[0.0,1.3170948724363267,1.3170948724363267,1.2886633596314558],\"xaxis\":\"x\",\"y\":[-485.0,-485.0,-500.0,-500.0],\"yaxis\":\"y\",\"type\":\"scatter\"},{\"hoverinfo\":\"text\",\"marker\":{\"color\":\"rgb(0,116,217)\"},\"mode\":\"lines\",\"text\":[\"aniversario_batalla_casa chilota_464_alcalde\",\"\",\"\",\"alcalde_ceremonia_barrientos_juan_a\\u00f1os\"],\"x\":[1.4347488060667613,1.5080140646683216,1.5080140646683216,1.3170948724363267],\"xaxis\":\"x\",\"y\":[-432.5,-432.5,-492.5,-492.5],\"yaxis\":\"y\",\"type\":\"scatter\"},{\"hoverinfo\":\"text\",\"marker\":{\"color\":\"rgb(0,116,217)\"},\"mode\":\"lines\",\"text\":[\"aniversario_batalla_casa chilota_464_alcalde\",\"\",\"\",\"alcalde_ceremonia_barrientos_juan_a\\u00f1os\"],\"x\":[1.494342956485701,1.581395113302105,1.581395113302105,1.5080140646683216],\"xaxis\":\"x\",\"y\":[-344.375,-344.375,-462.5,-462.5],\"yaxis\":\"y\",\"type\":\"scatter\"},{\"hoverinfo\":\"text\",\"marker\":{\"color\":\"rgb(0,116,217)\"},\"mode\":\"lines\",\"text\":[\"consejo monumentos nacionales_bypass_castro_cmn_inconclusa\",\"\",\"\",\"obra_castrochonchi_ranco_viaducto gamboa_140 metros largo\"],\"x\":[0.0,1.2868861210889855,1.2868861210889855,0.0],\"xaxis\":\"x\",\"y\":[-515.0,-515.0,-525.0,-525.0],\"yaxis\":\"y\",\"type\":\"scatter\"},{\"hoverinfo\":\"text\",\"marker\":{\"color\":\"rgb(0,116,217)\"},\"mode\":\"lines\",\"text\":[\"rampa_ril\\u00e1n_direcci\\u00f3n obras portuarias_refugio_borde\",\"\",\"\",\"obras portuarias_luminarias_mejoramiento borde costero_proyecto_playa\"],\"x\":[0.0,1.235681257746136,1.235681257746136,0.0],\"xaxis\":\"x\",\"y\":[-535.0,-535.0,-545.0,-545.0],\"yaxis\":\"y\",\"type\":\"scatter\"},{\"hoverinfo\":\"text\",\"marker\":{\"color\":\"rgb(0,116,217)\"},\"mode\":\"lines\",\"text\":[\"rampa_ril\\u00e1n_direcci\\u00f3n obras portuarias_refugio_borde\",\"\",\"\",\"obras portuarias_explanada_mejoramiento borde costero_luminarias_sector\"],\"x\":[1.2868861210889855,1.3820040681970958,1.3820040681970958,1.235681257746136],\"xaxis\":\"x\",\"y\":[-520.0,-520.0,-540.0,-540.0],\"yaxis\":\"y\",\"type\":\"scatter\"},{\"hoverinfo\":\"text\",\"marker\":{\"color\":\"rgb(0,116,217)\"},\"mode\":\"lines\",\"text\":[\"chacao_isla_fry_va_proyecto\",\"\",\"\",\"puente chacao_chacao_consorcio_cpc_horas extras\"],\"x\":[0.0,1.28620171710568,1.28620171710568,0.0],\"xaxis\":\"x\",\"y\":[-555.0,-555.0,-565.0,-565.0],\"yaxis\":\"y\",\"type\":\"scatter\"},{\"hoverinfo\":\"text\",\"marker\":{\"color\":\"rgb(0,116,217)\"},\"mode\":\"lines\",\"text\":[\"chacao_isla_fry_va_proyecto\",\"\",\"\",\"puente chacao_chacao_consorcio_cpc_horas extras\"],\"x\":[1.3820040681970958,1.4736047531933594,1.4736047531933594,1.28620171710568],\"xaxis\":\"x\",\"y\":[-530.0,-530.0,-560.0,-560.0],\"yaxis\":\"y\",\"type\":\"scatter\"},{\"hoverinfo\":\"text\",\"marker\":{\"color\":\"rgb(0,116,217)\"},\"mode\":\"lines\",\"text\":[\"chacao_isla_fry_va_proyecto\",\"\",\"\",\"puente chacao_chacao_consorcio_cpc_horas extras\"],\"x\":[1.581395113302105,1.65849828787532,1.65849828787532,1.4736047531933594],\"xaxis\":\"x\",\"y\":[-403.4375,-403.4375,-545.0,-545.0],\"yaxis\":\"y\",\"type\":\"scatter\"},{\"hoverinfo\":\"text\",\"marker\":{\"color\":\"rgb(0,116,217)\"},\"mode\":\"lines\",\"text\":[\"urbanismo_minvu_materiales_proyecto_sue\\u00f1o\",\"\",\"\",\"puente chacao_chacao_consorcio_cpc_horas extras\"],\"x\":[1.275488915575403,1.6888500976485632,1.6888500976485632,1.65849828787532],\"xaxis\":\"x\",\"y\":[-292.5,-292.5,-474.21875,-474.21875],\"yaxis\":\"y\",\"type\":\"scatter\"},{\"hoverinfo\":\"text\",\"marker\":{\"color\":\"rgb(0,116,217)\"},\"mode\":\"lines\",\"text\":[\"cuartel_francke_brigada bomberil_bomberos lagos_voluntarios\",\"\",\"\",\"villa santa_regional bomberos_palena_unidades material_comuna palena\"],\"x\":[0.0,1.2357904310714736,1.2357904310714736,0.0],\"xaxis\":\"x\",\"y\":[-585.0,-585.0,-595.0,-595.0],\"yaxis\":\"y\",\"type\":\"scatter\"},{\"hoverinfo\":\"text\",\"marker\":{\"color\":\"rgb(0,116,217)\"},\"mode\":\"lines\",\"text\":[\"superintendente_kauak_instituci\\u00f3n_a\\u00f1os_tercera compa\\u00f1\\u00eda bomberos\",\"\",\"\",\"carro_cuartel_francke_sexta_gobierno regional\"],\"x\":[0.0,1.2740924378585126,1.2740924378585126,1.2357904310714736],\"xaxis\":\"x\",\"y\":[-575.0,-575.0,-590.0,-590.0],\"yaxis\":\"y\",\"type\":\"scatter\"},{\"hoverinfo\":\"text\",\"marker\":{\"color\":\"rgb(0,116,217)\"},\"mode\":\"lines\",\"text\":[\"superintendente_kauak_instituci\\u00f3n_a\\u00f1os_tercera compa\\u00f1\\u00eda bomberos\",\"\",\"\",\"cuartel_cuerpo_compa\\u00f1\\u00eda bomberos_carros_sexta\"],\"x\":[1.6888500976485632,1.7043558137953458,1.7043558137953458,1.2740924378585126],\"xaxis\":\"x\",\"y\":[-383.359375,-383.359375,-582.5,-582.5],\"yaxis\":\"y\",\"type\":\"scatter\"},{\"hoverinfo\":\"text\",\"marker\":{\"color\":\"rgb(0,116,217)\"},\"mode\":\"lines\",\"text\":[\"superintendente_kauak_instituci\\u00f3n_a\\u00f1os_tercera compa\\u00f1\\u00eda bomberos\",\"\",\"\",\"cuartel_cuerpo_compa\\u00f1\\u00eda bomberos_carros_sexta\"],\"x\":[1.684849573102865,2.0141604629037406,2.0141604629037406,1.7043558137953458],\"xaxis\":\"x\",\"y\":[-213.59375,-213.59375,-482.9296875,-482.9296875],\"yaxis\":\"y\",\"type\":\"scatter\"},{\"hoverinfo\":\"text\",\"marker\":{\"color\":\"rgb(0,116,217)\"},\"mode\":\"lines\",\"text\":[\"cucao_posta_lechagua_chonchi_aumento presupuesto\",\"\",\"\",\"proyectos_fondo_concurso_gobierno regional_fril\"],\"x\":[0.0,1.2381926180949123,1.2381926180949123,0.0],\"xaxis\":\"x\",\"y\":[-605.0,-605.0,-615.0,-615.0],\"yaxis\":\"y\",\"type\":\"scatter\"},{\"hoverinfo\":\"text\",\"marker\":{\"color\":\"rgb(0,116,217)\"},\"mode\":\"lines\",\"text\":[\"proyectos_organizaciones sociales_concurso_fril_millones pesos\",\"\",\"\",\"desarrollo zonas_gonzalo vial_iniciativas_rezagadas_sector privado\"],\"x\":[1.2381926180949123,1.3374162846192583,1.3374162846192583,0.0],\"xaxis\":\"x\",\"y\":[-610.0,-610.0,-625.0,-625.0],\"yaxis\":\"y\",\"type\":\"scatter\"},{\"hoverinfo\":\"text\",\"marker\":{\"color\":\"rgb(0,116,217)\"},\"mode\":\"lines\",\"text\":[\"proyectos_organizaciones sociales_concurso_fril_millones pesos\",\"\",\"\",\"vallespin_san_fril_patricio vallespin_acceso norte comuna\"],\"x\":[1.3374162846192583,1.375558676138996,1.375558676138996,0.0],\"xaxis\":\"x\",\"y\":[-617.5,-617.5,-635.0,-635.0],\"yaxis\":\"y\",\"type\":\"scatter\"},{\"hoverinfo\":\"text\",\"marker\":{\"color\":\"rgb(0,116,217)\"},\"mode\":\"lines\",\"text\":[\"gobernador_vallesp\\u00edn_vallespin_licitaciones_palena\",\"\",\"\",\"canal dalcahue_dalcahue_quinchao_trato_directo\"],\"x\":[0.0,1.1822882735214977,1.1822882735214977,0.0],\"xaxis\":\"x\",\"y\":[-645.0,-645.0,-655.0,-655.0],\"yaxis\":\"y\",\"type\":\"scatter\"},{\"hoverinfo\":\"text\",\"marker\":{\"color\":\"rgb(0,116,217)\"},\"mode\":\"lines\",\"text\":[\"gobernador_vallesp\\u00edn_vallespin_licitaciones_palena\",\"\",\"\",\"canal dalcahue_dalcahue_quinchao_transportes telecomunicaciones_trato directo\"],\"x\":[1.375558676138996,1.5947642098341175,1.5947642098341175,1.1822882735214977],\"xaxis\":\"x\",\"y\":[-626.25,-626.25,-650.0,-650.0],\"yaxis\":\"y\",\"type\":\"scatter\"},{\"hoverinfo\":\"text\",\"marker\":{\"color\":\"rgb(0,116,217)\"},\"mode\":\"lines\",\"text\":[\"vecinos_delegada presidencial_provincia palena_chait\\u00e9n_palena\",\"\",\"\",\"giovanna_pailalef_claudia pailalef_delegada presidencial regional_tercer piso\"],\"x\":[0.0,1.2068495603206535,1.2068495603206535,0.0],\"xaxis\":\"x\",\"y\":[-665.0,-665.0,-675.0,-675.0],\"yaxis\":\"y\",\"type\":\"scatter\"},{\"hoverinfo\":\"text\",\"marker\":{\"color\":\"rgb(0,116,217)\"},\"mode\":\"lines\",\"text\":[\"vallespin_obras p\\u00fablicas_nueva delegada presidencial_regi\\u00f3n lagos_codo\",\"\",\"\",\"vallespin_boric_patricio vallespin_gabriel boric_avanzar\"],\"x\":[0.0,1.2176377622689405,1.2176377622689405,0.0],\"xaxis\":\"x\",\"y\":[-685.0,-685.0,-695.0,-695.0],\"yaxis\":\"y\",\"type\":\"scatter\"},{\"hoverinfo\":\"text\",\"marker\":{\"color\":\"rgb(0,116,217)\"},\"mode\":\"lines\",\"text\":[\"giovanna_delegada presidencial regional_vecinos_pailalef_trabajo\",\"\",\"\",\"gobernadores regionales_vallespin_boric_patricio vallespin_gabriel boric\"],\"x\":[1.2068495603206535,1.4393900998496276,1.4393900998496276,1.2176377622689405],\"xaxis\":\"x\",\"y\":[-670.0,-670.0,-690.0,-690.0],\"yaxis\":\"y\",\"type\":\"scatter\"},{\"hoverinfo\":\"text\",\"marker\":{\"color\":\"rgb(0,116,217)\"},\"mode\":\"lines\",\"text\":[\"cores_gobernador regional patricio_electos_cuerpo colegiado_regionales\",\"\",\"\",\"descentralizaci\\u00f3n_ulagos_consejeros_pol\\u00edticas_regionales\"],\"x\":[0.0,1.236747904955725,1.236747904955725,0.0],\"xaxis\":\"x\",\"y\":[-705.0,-705.0,-715.0,-715.0],\"yaxis\":\"y\",\"type\":\"scatter\"},{\"hoverinfo\":\"text\",\"marker\":{\"color\":\"rgb(0,116,217)\"},\"mode\":\"lines\",\"text\":[\"gobernadores_vallespin_giovanna_boric_delegada presidencial regional\",\"\",\"\",\"consejeros_regionalizaci\\u00f3n_ciencias_ulagos_gobernador\"],\"x\":[1.4393900998496276,1.4659333780902846,1.4659333780902846,1.236747904955725],\"xaxis\":\"x\",\"y\":[-680.0,-680.0,-710.0,-710.0],\"yaxis\":\"y\",\"type\":\"scatter\"},{\"hoverinfo\":\"text\",\"marker\":{\"color\":\"rgb(0,116,217)\"},\"mode\":\"lines\",\"text\":[\"gobernadores_vallespin_giovanna_boric_delegada presidencial regional\",\"\",\"\",\"consejeros_regionalizaci\\u00f3n_ciencias_ulagos_gobernador\"],\"x\":[1.5947642098341175,1.604713176406245,1.604713176406245,1.4659333780902846],\"xaxis\":\"x\",\"y\":[-638.125,-638.125,-695.0,-695.0],\"yaxis\":\"y\",\"type\":\"scatter\"},{\"hoverinfo\":\"text\",\"marker\":{\"color\":\"rgb(0,116,217)\"},\"mode\":\"lines\",\"text\":[\"gobernadores_vallespin_giovanna_boric_delegada presidencial regional\",\"\",\"\",\"consejeros_regionalizaci\\u00f3n_ciencias_ulagos_gobernador\"],\"x\":[2.0141604629037406,2.0896327603159395,2.0896327603159395,1.604713176406245],\"xaxis\":\"x\",\"y\":[-348.26171875,-348.26171875,-666.5625,-666.5625],\"yaxis\":\"y\",\"type\":\"scatter\"},{\"hoverinfo\":\"text\",\"marker\":{\"color\":\"rgb(0,116,217)\"},\"mode\":\"lines\",\"text\":[\"urbano_r\\u00edo maull\\u00edn_santuario naturaleza humedales_diario oficial_maull\\u00edn\",\"\",\"\",\"humedal urbano_medio_bosque_urbanos_tribunal ambiental valdivia\"],\"x\":[0.0,1.1243949536714752,1.1243949536714752,0.0],\"xaxis\":\"x\",\"y\":[-725.0,-725.0,-735.0,-735.0],\"yaxis\":\"y\",\"type\":\"scatter\"},{\"hoverinfo\":\"text\",\"marker\":{\"color\":\"rgb(0,116,217)\"},\"mode\":\"lines\",\"text\":[\"tenglo_plan tenglo_playas_capitan\\u00eda_puerto puerto montt\",\"\",\"\",\"bienes_ba\\u00f1o_uso_colillas_cercos\"],\"x\":[0.0,1.2379887130798766,1.2379887130798766,0.0],\"xaxis\":\"x\",\"y\":[-745.0,-745.0,-755.0,-755.0],\"yaxis\":\"y\",\"type\":\"scatter\"},{\"hoverinfo\":\"text\",\"marker\":{\"color\":\"rgb(0,116,217)\"},\"mode\":\"lines\",\"text\":[\"essal_obstrucciones_siss_mascarillas_varas\",\"\",\"\",\"essal_llanquihue_ampliaci\\u00f3n_malos_varas\"],\"x\":[0.0,1.1346560496087998,1.1346560496087998,0.0],\"xaxis\":\"x\",\"y\":[-765.0,-765.0,-775.0,-775.0],\"yaxis\":\"y\",\"type\":\"scatter\"},{\"hoverinfo\":\"text\",\"marker\":{\"color\":\"rgb(0,116,217)\"},\"mode\":\"lines\",\"text\":[\"ecoprial_planta_impacto_industriales_dia\",\"\",\"\",\"puntra_roble_sma_superintendencia medio ambiente_cal austral\"],\"x\":[0.0,1.206861088595227,1.206861088595227,0.0],\"xaxis\":\"x\",\"y\":[-785.0,-785.0,-795.0,-795.0],\"yaxis\":\"y\",\"type\":\"scatter\"},{\"hoverinfo\":\"text\",\"marker\":{\"color\":\"rgb(0,116,217)\"},\"mode\":\"lines\",\"text\":[\"essal_aguas servidas_varas_llanquihue_malos\",\"\",\"\",\"puntra_roble_sma_superintendencia medio ambiente_cal austral\"],\"x\":[1.1346560496087998,1.405158022761135,1.405158022761135,1.206861088595227],\"xaxis\":\"x\",\"y\":[-770.0,-770.0,-790.0,-790.0],\"yaxis\":\"y\",\"type\":\"scatter\"},{\"hoverinfo\":\"text\",\"marker\":{\"color\":\"rgb(0,116,217)\"},\"mode\":\"lines\",\"text\":[\"tenglo_borde_plan tenglo_limpieza playas_bienes\",\"\",\"\",\"puntra_roble_sma_superintendencia medio ambiente_cal austral\"],\"x\":[1.2379887130798766,1.5336719851741822,1.5336719851741822,1.405158022761135],\"xaxis\":\"x\",\"y\":[-750.0,-750.0,-780.0,-780.0],\"yaxis\":\"y\",\"type\":\"scatter\"},{\"hoverinfo\":\"text\",\"marker\":{\"color\":\"rgb(255,220,0)\"},\"mode\":\"lines\",\"text\":[\"domiciliarios_galp\\u00f3n_residuos s\\u00f3lidos_medio ambiente_sanitario laja\",\"\",\"\",\"reduce_chilo\\u00e9_chilo\\u8305_residuos s\\u00f3lidos domiciliarios_gesti\\u8d38n\"],\"x\":[0.0,0.9973402221205169,0.9973402221205169,0.0],\"xaxis\":\"x\",\"y\":[-815.0,-815.0,-825.0,-825.0],\"yaxis\":\"y\",\"type\":\"scatter\"},{\"hoverinfo\":\"text\",\"marker\":{\"color\":\"rgb(0,116,217)\"},\"mode\":\"lines\",\"text\":[\"microbasurales_vecinos_retiro_puntos_empresa\",\"\",\"\",\"residuos s\\u00f3lidos domiciliarios_relleno sanitario_luxemburgo_manejo_estrategia\"],\"x\":[0.0,1.255797574691907,1.255797574691907,0.9973402221205169],\"xaxis\":\"x\",\"y\":[-805.0,-805.0,-820.0,-820.0],\"yaxis\":\"y\",\"type\":\"scatter\"},{\"hoverinfo\":\"text\",\"marker\":{\"color\":\"rgb(0,116,217)\"},\"mode\":\"lines\",\"text\":[\"microbasurales_vecinos_retiro_puntos_empresa\",\"\",\"\",\"residuos s\\u00f3lidos domiciliarios_medio_manejo_relleno sanitario_comunidad\"],\"x\":[1.5336719851741822,1.595659854310709,1.595659854310709,1.255797574691907],\"xaxis\":\"x\",\"y\":[-765.0,-765.0,-812.5,-812.5],\"yaxis\":\"y\",\"type\":\"scatter\"},{\"hoverinfo\":\"text\",\"marker\":{\"color\":\"rgb(0,116,217)\"},\"mode\":\"lines\",\"text\":[\"humedal urbano_medio_protecci\\u00f3n_urbanos_bosque\",\"\",\"\",\"residuos s\\u00f3lidos domiciliarios_medio_manejo_relleno sanitario_comunidad\"],\"x\":[1.1243949536714752,1.6750841773623841,1.6750841773623841,1.595659854310709],\"xaxis\":\"x\",\"y\":[-730.0,-730.0,-788.75,-788.75],\"yaxis\":\"y\",\"type\":\"scatter\"},{\"hoverinfo\":\"text\",\"marker\":{\"color\":\"rgb(0,116,217)\"},\"mode\":\"lines\",\"text\":[\"mesa_agua_apr_gobernador_regional\",\"\",\"\",\"escasez_general aguas_direcci\\u00f3n general_decreto_h\\u00eddrica alguna\"],\"x\":[0.0,1.295621257888679,1.295621257888679,0.0],\"xaxis\":\"x\",\"y\":[-835.0,-835.0,-845.0,-845.0],\"yaxis\":\"y\",\"type\":\"scatter\"},{\"hoverinfo\":\"text\",\"marker\":{\"color\":\"rgb(0,116,217)\"},\"mode\":\"lines\",\"text\":[\"h\\u00eddrica_crisis agua_cambio_soci\\u00f3logo_tipo producci\\u00f3n\",\"\",\"\",\"indap_cambio clim\\u00e1tico_peque\\u00f1a_cnr_tattersall\"],\"x\":[0.0,1.2700643830493963,1.2700643830493963,0.0],\"xaxis\":\"x\",\"y\":[-855.0,-855.0,-865.0,-865.0],\"yaxis\":\"y\",\"type\":\"scatter\"},{\"hoverinfo\":\"text\",\"marker\":{\"color\":\"rgb(0,116,217)\"},\"mode\":\"lines\",\"text\":[\"escasez_decreto_apr_consultivo_gobernador\",\"\",\"\",\"indap_cambio_sistemas_agricultores_cnr\"],\"x\":[1.295621257888679,1.3749060886815248,1.3749060886815248,1.2700643830493963],\"xaxis\":\"x\",\"y\":[-840.0,-840.0,-860.0,-860.0],\"yaxis\":\"y\",\"type\":\"scatter\"},{\"hoverinfo\":\"text\",\"marker\":{\"color\":\"rgb(0,116,217)\"},\"mode\":\"lines\",\"text\":[\"carelmapu_subdere_proyectos_350 millones_350\",\"\",\"\",\"subdere_moyano_pasajes_obras_familias\"],\"x\":[0.0,1.141425309762739,1.141425309762739,0.0],\"xaxis\":\"x\",\"y\":[-885.0,-885.0,-895.0,-895.0],\"yaxis\":\"y\",\"type\":\"scatter\"},{\"hoverinfo\":\"text\",\"marker\":{\"color\":\"rgb(0,116,217)\"},\"mode\":\"lines\",\"text\":[\"apr_aljibe_cami\\u00f3n_sectores_escasez\",\"\",\"\",\"subdere_carelmapu_familias_millones_pablo hern\\u00e1ndez\"],\"x\":[0.0,1.2126972574737318,1.2126972574737318,1.141425309762739],\"xaxis\":\"x\",\"y\":[-875.0,-875.0,-890.0,-890.0],\"yaxis\":\"y\",\"type\":\"scatter\"},{\"hoverinfo\":\"text\",\"marker\":{\"color\":\"rgb(0,116,217)\"},\"mode\":\"lines\",\"text\":[\"apr_aljibe_cami\\u00f3n_sectores_escasez\",\"\",\"\",\"subdere_apr_carelmapu_vecinos_agua potable rural\"],\"x\":[1.3749060886815248,1.6895369059157415,1.6895369059157415,1.2126972574737318],\"xaxis\":\"x\",\"y\":[-850.0,-850.0,-882.5,-882.5],\"yaxis\":\"y\",\"type\":\"scatter\"},{\"hoverinfo\":\"text\",\"marker\":{\"color\":\"rgb(0,116,217)\"},\"mode\":\"lines\",\"text\":[\"energ\\u00edas renovables_100 ventas_gnl_cero_veh\\u00edculos\",\"\",\"\",\"calefactores_episodios cr\\u00edticos_plan descontaminaci\\u00f3n_recambio_calidad\"],\"x\":[0.0,1.2804621509038001,1.2804621509038001,0.0],\"xaxis\":\"x\",\"y\":[-915.0,-915.0,-925.0,-925.0],\"yaxis\":\"y\",\"type\":\"scatter\"},{\"hoverinfo\":\"text\",\"marker\":{\"color\":\"rgb(0,116,217)\"},\"mode\":\"lines\",\"text\":[\"energ\\u00eda el\\u00e9ctrica_islas_di\\u00e9sel_km l\\u00ednea_teuquel\\u00edn\",\"\",\"\",\"calefactores_episodios cr\\u00edticos_plan descontaminaci\\u00f3n_recambio_calidad\"],\"x\":[0.0,1.348660384771139,1.348660384771139,1.2804621509038001],\"xaxis\":\"x\",\"y\":[-905.0,-905.0,-920.0,-920.0],\"yaxis\":\"y\",\"type\":\"scatter\"},{\"hoverinfo\":\"text\",\"marker\":{\"color\":\"rgb(0,116,217)\"},\"mode\":\"lines\",\"text\":[\"eurochile_corfo_pyme_fundaci\\u00f3n empresarial_encuentro econom\\u00eda circular\",\"\",\"\",\"lechero_pti_clim\\u00e1tico_apl_programa territorial\"],\"x\":[0.0,1.297121626368369,1.297121626368369,0.0],\"xaxis\":\"x\",\"y\":[-945.0,-945.0,-955.0,-955.0],\"yaxis\":\"y\",\"type\":\"scatter\"},{\"hoverinfo\":\"text\",\"marker\":{\"color\":\"rgb(0,116,217)\"},\"mode\":\"lines\",\"text\":[\"imagen chile_creadores_mochac\\u00f3_huemul safe_astudillo\",\"\",\"\",\"econom\\u00eda circular_sustentabilidad_corfo_eurochile_residuos\"],\"x\":[0.0,1.3849825557009807,1.3849825557009807,1.297121626368369],\"xaxis\":\"x\",\"y\":[-935.0,-935.0,-950.0,-950.0],\"yaxis\":\"y\",\"type\":\"scatter\"},{\"hoverinfo\":\"text\",\"marker\":{\"color\":\"rgb(0,116,217)\"},\"mode\":\"lines\",\"text\":[\"aquasur_consejo_salmonchile_aquasur 2022_industria acu\\u00edcola\",\"\",\"\",\"cultivo_inia_productores_fruta_acuicultores\"],\"x\":[0.0,1.3031255660875287,1.3031255660875287,0.0],\"xaxis\":\"x\",\"y\":[-965.0,-965.0,-975.0,-975.0],\"yaxis\":\"y\",\"type\":\"scatter\"},{\"hoverinfo\":\"text\",\"marker\":{\"color\":\"rgb(0,116,217)\"},\"mode\":\"lines\",\"text\":[\"aquasur_consejo_salmonchile_aquasur 2022_industria acu\\u00edcola\",\"\",\"\",\"cultivo_productores_variedades_aquasur_salm\\u00f3n\"],\"x\":[1.3849825557009807,1.461570161690369,1.461570161690369,1.3031255660875287],\"xaxis\":\"x\",\"y\":[-942.5,-942.5,-970.0,-970.0],\"yaxis\":\"y\",\"type\":\"scatter\"},{\"hoverinfo\":\"text\",\"marker\":{\"color\":\"rgb(0,116,217)\"},\"mode\":\"lines\",\"text\":[\"aquasur_consejo_salmonchile_aquasur 2022_industria acu\\u00edcola\",\"\",\"\",\"cultivo_productores_variedades_aquasur_salm\\u00f3n\"],\"x\":[1.348660384771139,1.5321364595447486,1.5321364595447486,1.461570161690369],\"xaxis\":\"x\",\"y\":[-912.5,-912.5,-956.25,-956.25],\"yaxis\":\"y\",\"type\":\"scatter\"},{\"hoverinfo\":\"text\",\"marker\":{\"color\":\"rgb(0,116,217)\"},\"mode\":\"lines\",\"text\":[\"especie_chilo\\u00e9_vis\\u00f3n_ballena_sag\",\"\",\"\",\"nauco_subterr\\u00e1neas_cuenca r\\u00edo_pl\\u00e1sticos_burbujas\"],\"x\":[0.0,1.3241308408140238,1.3241308408140238,0.0],\"xaxis\":\"x\",\"y\":[-985.0,-985.0,-995.0,-995.0],\"yaxis\":\"y\",\"type\":\"scatter\"},{\"hoverinfo\":\"text\",\"marker\":{\"color\":\"rgb(0,116,217)\"},\"mode\":\"lines\",\"text\":[\"turberas_agua_pomponales_comisi\\u00f3n medio ambiente_sbap\",\"\",\"\",\"carbono_cambio_vegetaci\\u00f3n_sequ\\u00eda_mapbiomas\"],\"x\":[0.0,1.3177854640236217,1.3177854640236217,0.0],\"xaxis\":\"x\",\"y\":[-1005.0,-1005.0,-1015.0,-1015.0],\"yaxis\":\"y\",\"type\":\"scatter\"},{\"hoverinfo\":\"text\",\"marker\":{\"color\":\"rgb(0,116,217)\"},\"mode\":\"lines\",\"text\":[\"turberas_agua_pomponales_comisi\\u00f3n medio ambiente_sbap\",\"\",\"\",\"carbono_cambio_vegetaci\\u00f3n_sequ\\u00eda_mapbiomas\"],\"x\":[1.3241308408140238,1.3390977512274638,1.3390977512274638,1.3177854640236217],\"xaxis\":\"x\",\"y\":[-990.0,-990.0,-1010.0,-1010.0],\"yaxis\":\"y\",\"type\":\"scatter\"},{\"hoverinfo\":\"text\",\"marker\":{\"color\":\"rgb(0,116,217)\"},\"mode\":\"lines\",\"text\":[\"turberas_agua_pomponales_comisi\\u00f3n medio ambiente_sbap\",\"\",\"\",\"carbono_cambio_vegetaci\\u00f3n_sequ\\u00eda_mapbiomas\"],\"x\":[1.5321364595447486,1.5512384602914622,1.5512384602914622,1.3390977512274638],\"xaxis\":\"x\",\"y\":[-934.375,-934.375,-1000.0,-1000.0],\"yaxis\":\"y\",\"type\":\"scatter\"},{\"hoverinfo\":\"text\",\"marker\":{\"color\":\"rgb(0,116,217)\"},\"mode\":\"lines\",\"text\":[\"planeta_reloj_inundaciones_kilotoneladas_impactos\",\"\",\"\",\"cop26_cumbre_glasgow_acuerdo par\\u00eds_carb\\u00f3n\"],\"x\":[0.0,1.1545539037345836,1.1545539037345836,0.0],\"xaxis\":\"x\",\"y\":[-1025.0,-1025.0,-1035.0,-1035.0],\"yaxis\":\"y\",\"type\":\"scatter\"},{\"hoverinfo\":\"text\",\"marker\":{\"color\":\"rgb(0,116,217)\"},\"mode\":\"lines\",\"text\":[\"planeta_reloj_inundaciones_kilotoneladas_impactos\",\"\",\"\",\"cop26_cumbre_glasgow_calentamiento global_grados\"],\"x\":[1.5512384602914622,1.6089811984405569,1.6089811984405569,1.1545539037345836],\"xaxis\":\"x\",\"y\":[-967.1875,-967.1875,-1030.0,-1030.0],\"yaxis\":\"y\",\"type\":\"scatter\"},{\"hoverinfo\":\"text\",\"marker\":{\"color\":\"rgb(0,116,217)\"},\"mode\":\"lines\",\"text\":[\"planeta_reloj_inundaciones_kilotoneladas_impactos\",\"\",\"\",\"cop26_cumbre_glasgow_calentamiento global_grados\"],\"x\":[1.6895369059157415,1.9722148178574492,1.9722148178574492,1.6089811984405569],\"xaxis\":\"x\",\"y\":[-866.25,-866.25,-998.59375,-998.59375],\"yaxis\":\"y\",\"type\":\"scatter\"},{\"hoverinfo\":\"text\",\"marker\":{\"color\":\"rgb(0,116,217)\"},\"mode\":\"lines\",\"text\":[\"planeta_reloj_inundaciones_kilotoneladas_impactos\",\"\",\"\",\"cop26_cumbre_glasgow_calentamiento global_grados\"],\"x\":[1.6750841773623841,2.1111738564447258,2.1111738564447258,1.9722148178574492],\"xaxis\":\"x\",\"y\":[-759.375,-759.375,-932.421875,-932.421875],\"yaxis\":\"y\",\"type\":\"scatter\"},{\"hoverinfo\":\"text\",\"marker\":{\"color\":\"rgb(0,116,217)\"},\"mode\":\"lines\",\"text\":[\"planeta_reloj_inundaciones_kilotoneladas_impactos\",\"\",\"\",\"cop26_cumbre_glasgow_calentamiento global_grados\"],\"x\":[2.0896327603159395,2.434403010088079,2.434403010088079,2.1111738564447258],\"xaxis\":\"x\",\"y\":[-507.412109375,-507.412109375,-845.8984375,-845.8984375],\"yaxis\":\"y\",\"type\":\"scatter\"},{\"hoverinfo\":\"text\",\"marker\":{\"color\":\"rgb(0,116,217)\"},\"mode\":\"lines\",\"text\":[\"conaf_jorge aichele_conaf lagos_aichele_director regional conaf\",\"\",\"\",\"biodiversidad_pumal\\u00edn_labor_conaf_parque nacional chilo\\u00e9\"],\"x\":[0.0,1.053829876343215,1.053829876343215,0.0],\"xaxis\":\"x\",\"y\":[-1055.0,-1055.0,-1065.0,-1065.0],\"yaxis\":\"y\",\"type\":\"scatter\"},{\"hoverinfo\":\"text\",\"marker\":{\"color\":\"rgb(0,116,217)\"},\"mode\":\"lines\",\"text\":[\"wood_material reciclado_conaf_relave_sercotec\",\"\",\"\",\"parque_visitantes_conaf_aichele_jorge aichele\"],\"x\":[0.0,1.3778984664424958,1.3778984664424958,1.053829876343215],\"xaxis\":\"x\",\"y\":[-1045.0,-1045.0,-1060.0,-1060.0],\"yaxis\":\"y\",\"type\":\"scatter\"},{\"hoverinfo\":\"text\",\"marker\":{\"color\":\"rgb(0,116,217)\"},\"mode\":\"lines\",\"text\":[\"zoit_birregional_zoit lago llanquihue_zonas inter\\u00e9s tur\\u00edstico_llanquihue\",\"\",\"\",\"creativo_lago llanquihue destino_llanquihue_travel_pti\"],\"x\":[0.0,1.2966513489896816,1.2966513489896816,0.0],\"xaxis\":\"x\",\"y\":[-1075.0,-1075.0,-1085.0,-1085.0],\"yaxis\":\"y\",\"type\":\"scatter\"},{\"hoverinfo\":\"text\",\"marker\":{\"color\":\"rgb(0,116,217)\"},\"mode\":\"lines\",\"text\":[\"ruta parques patagonia_conservaci\\u00f3n_pti_corfo_conaf\",\"\",\"\",\"sernatur_turismo rural_patagonia_oferta_anahuac\"],\"x\":[0.0,1.2326916571907918,1.2326916571907918,0.0],\"xaxis\":\"x\",\"y\":[-1095.0,-1095.0,-1105.0,-1105.0],\"yaxis\":\"y\",\"type\":\"scatter\"},{\"hoverinfo\":\"text\",\"marker\":{\"color\":\"rgb(0,116,217)\"},\"mode\":\"lines\",\"text\":[\"ruta parques patagonia_conservaci\\u00f3n_pti_corfo_conaf\",\"\",\"\",\"manquemapu_tour_relv_experiencias_mall\"],\"x\":[1.2326916571907918,1.3185872046657972,1.3185872046657972,0.0],\"xaxis\":\"x\",\"y\":[-1100.0,-1100.0,-1115.0,-1115.0],\"yaxis\":\"y\",\"type\":\"scatter\"},{\"hoverinfo\":\"text\",\"marker\":{\"color\":\"rgb(0,116,217)\"},\"mode\":\"lines\",\"text\":[\"ruta parques patagonia_conservaci\\u00f3n_pti_corfo_conaf\",\"\",\"\",\"manquemapu_tour_relv_experiencias_mall\"],\"x\":[1.2966513489896816,1.3591931314300738,1.3591931314300738,1.3185872046657972],\"xaxis\":\"x\",\"y\":[-1080.0,-1080.0,-1107.5,-1107.5],\"yaxis\":\"y\",\"type\":\"scatter\"},{\"hoverinfo\":\"text\",\"marker\":{\"color\":\"rgb(0,116,217)\"},\"mode\":\"lines\",\"text\":[\"primer tramo_observatorio_turismo_pilauco_dise\\u00f1o\",\"\",\"\",\"quehui_sabingo_programa sabingo_chilevisi\\u00f3n_atractivos tur\\u00edsticos isla\"],\"x\":[0.0,1.3626268063793645,1.3626268063793645,0.0],\"xaxis\":\"x\",\"y\":[-1125.0,-1125.0,-1135.0,-1135.0],\"yaxis\":\"y\",\"type\":\"scatter\"},{\"hoverinfo\":\"text\",\"marker\":{\"color\":\"rgb(0,116,217)\"},\"mode\":\"lines\",\"text\":[\"primer tramo_observatorio_turismo_pilauco_dise\\u00f1o\",\"\",\"\",\"quehui_sabingo_programa sabingo_chilevisi\\u00f3n_atractivos tur\\u00edsticos isla\"],\"x\":[1.3591931314300738,1.437028667425875,1.437028667425875,1.3626268063793645],\"xaxis\":\"x\",\"y\":[-1093.75,-1093.75,-1130.0,-1130.0],\"yaxis\":\"y\",\"type\":\"scatter\"},{\"hoverinfo\":\"text\",\"marker\":{\"color\":\"rgb(0,116,217)\"},\"mode\":\"lines\",\"text\":[\"primer tramo_observatorio_turismo_pilauco_dise\\u00f1o\",\"\",\"\",\"quehui_sabingo_programa sabingo_chilevisi\\u00f3n_atractivos tur\\u00edsticos isla\"],\"x\":[1.3778984664424958,1.715964289040683,1.715964289040683,1.437028667425875],\"xaxis\":\"x\",\"y\":[-1052.5,-1052.5,-1111.875,-1111.875],\"yaxis\":\"y\",\"type\":\"scatter\"},{\"hoverinfo\":\"text\",\"marker\":{\"color\":\"rgb(0,116,217)\"},\"mode\":\"lines\",\"text\":[\"emprendedores_sercotec_convenio_reactivar_econ\\u00f3mica\",\"\",\"\",\"sercotec_vitrina_centro negocios sercotec_emprendimiento_colorteca\"],\"x\":[0.0,1.209268658290801,1.209268658290801,0.0],\"xaxis\":\"x\",\"y\":[-1165.0,-1165.0,-1175.0,-1175.0],\"yaxis\":\"y\",\"type\":\"scatter\"},{\"hoverinfo\":\"text\",\"marker\":{\"color\":\"rgb(0,116,217)\"},\"mode\":\"lines\",\"text\":[\"emprendedores_saesa_corfo_sercotec_semilla\",\"\",\"\",\"sercotec_centro negocios_vitrina_emprendimiento_capacitaciones\"],\"x\":[0.0,1.2266425003303152,1.2266425003303152,1.209268658290801],\"xaxis\":\"x\",\"y\":[-1155.0,-1155.0,-1170.0,-1170.0],\"yaxis\":\"y\",\"type\":\"scatter\"},{\"hoverinfo\":\"text\",\"marker\":{\"color\":\"rgb(0,116,217)\"},\"mode\":\"lines\",\"text\":[\"escuela pyme_transformaci\\u00f3n_ventas_corfo_peque\\u00f1as\",\"\",\"\",\"sercotec_centro negocios_mujeres_corfo_saesa\"],\"x\":[0.0,1.3316183807826947,1.3316183807826947,1.2266425003303152],\"xaxis\":\"x\",\"y\":[-1145.0,-1145.0,-1162.5,-1162.5],\"yaxis\":\"y\",\"type\":\"scatter\"},{\"hoverinfo\":\"text\",\"marker\":{\"color\":\"rgb(0,116,217)\"},\"mode\":\"lines\",\"text\":[\"feria municipal emprendedores_omil_castro_oficina_claudia b\\u00f3rquez\",\"\",\"\",\"productos_purranque_navide\\u00f1a_prodesal_chacarillas\"],\"x\":[0.0,1.2302467046657917,1.2302467046657917,0.0],\"xaxis\":\"x\",\"y\":[-1185.0,-1185.0,-1195.0,-1195.0],\"yaxis\":\"y\",\"type\":\"scatter\"},{\"hoverinfo\":\"text\",\"marker\":{\"color\":\"rgb(0,116,217)\"},\"mode\":\"lines\",\"text\":[\"productos_campesina_feria municipal emprendedores_navide\\u00f1a_purranque\",\"\",\"\",\"conekta_destilado_chilwe_alimentos saludables_universidad\"],\"x\":[1.2302467046657917,1.362448158289106,1.362448158289106,0.0],\"xaxis\":\"x\",\"y\":[-1190.0,-1190.0,-1205.0,-1205.0],\"yaxis\":\"y\",\"type\":\"scatter\"},{\"hoverinfo\":\"text\",\"marker\":{\"color\":\"rgb(0,116,217)\"},\"mode\":\"lines\",\"text\":[\"productos_campesina_feria municipal emprendedores_navide\\u00f1a_purranque\",\"\",\"\",\"conekta_destilado_chilwe_alimentos saludables_universidad\"],\"x\":[1.3316183807826947,1.5154666598764668,1.5154666598764668,1.362448158289106],\"xaxis\":\"x\",\"y\":[-1153.75,-1153.75,-1197.5,-1197.5],\"yaxis\":\"y\",\"type\":\"scatter\"},{\"hoverinfo\":\"text\",\"marker\":{\"color\":\"rgb(0,116,217)\"},\"mode\":\"lines\",\"text\":[\"productos_campesina_feria municipal emprendedores_navide\\u00f1a_purranque\",\"\",\"\",\"conekta_destilado_chilwe_alimentos saludables_universidad\"],\"x\":[1.715964289040683,1.896530070252071,1.896530070252071,1.5154666598764668],\"xaxis\":\"x\",\"y\":[-1082.1875,-1082.1875,-1175.625,-1175.625],\"yaxis\":\"y\",\"type\":\"scatter\"},{\"hoverinfo\":\"text\",\"marker\":{\"color\":\"rgb(0,116,217)\"},\"mode\":\"lines\",\"text\":[\"avonni_macrozona_tecnolog\\u00eda conocimiento innovaci\\u00f3n_ctci_proyectos\",\"\",\"\",\"chilo\\u00e9_form\\u00f3 chilo\\u00e9_subiabre_achao_libro ilustrado\"],\"x\":[0.0,1.3157571342072567,1.3157571342072567,0.0],\"xaxis\":\"x\",\"y\":[-1215.0,-1215.0,-1225.0,-1225.0],\"yaxis\":\"y\",\"type\":\"scatter\"},{\"hoverinfo\":\"text\",\"marker\":{\"color\":\"rgb(0,116,217)\"},\"mode\":\"lines\",\"text\":[\"arqueolog\\u00eda_jornadas_proyecto explora_festival ciencia lagos_sede\",\"\",\"\",\"universidad_congreso_creaci\\u00f3n_art\\u00edstica_dra\"],\"x\":[0.0,1.2506239816285525,1.2506239816285525,0.0],\"xaxis\":\"x\",\"y\":[-1235.0,-1235.0,-1245.0,-1245.0],\"yaxis\":\"y\",\"type\":\"scatter\"},{\"hoverinfo\":\"text\",\"marker\":{\"color\":\"rgb(0,116,217)\"},\"mode\":\"lines\",\"text\":[\"arqueolog\\u00eda_jornadas_proyecto explora_festival ciencia lagos_sede\",\"\",\"\",\"sede_jornadas_uach_proyecto explora_escuela arqueolog\\u00eda\"],\"x\":[1.3157571342072567,1.3470937310468354,1.3470937310468354,1.2506239816285525],\"xaxis\":\"x\",\"y\":[-1220.0,-1220.0,-1240.0,-1240.0],\"yaxis\":\"y\",\"type\":\"scatter\"},{\"hoverinfo\":\"text\",\"marker\":{\"color\":\"rgb(0,116,217)\"},\"mode\":\"lines\",\"text\":[\"nativo_muestra_centro cultural bosque_obra_machacoya\",\"\",\"\",\"nativo_culturales_bosque_apoyo organizaciones_talleres\"],\"x\":[0.0,1.0554306112506908,1.0554306112506908,0.0],\"xaxis\":\"x\",\"y\":[-1255.0,-1255.0,-1265.0,-1265.0],\"yaxis\":\"y\",\"type\":\"scatter\"},{\"hoverinfo\":\"text\",\"marker\":{\"color\":\"rgb(0,116,217)\"},\"mode\":\"lines\",\"text\":[\"centro cultural_tnch_sala 13_festival cine escolar_festtin\",\"\",\"\",\"biblioteca_pinocho_frutillar_streaming_corporaci\\u00f3n cultural\"],\"x\":[0.0,1.1416134404545295,1.1416134404545295,0.0],\"xaxis\":\"x\",\"y\":[-1285.0,-1285.0,-1295.0,-1295.0],\"yaxis\":\"y\",\"type\":\"scatter\"},{\"hoverinfo\":\"text\",\"marker\":{\"color\":\"rgb(0,116,217)\"},\"mode\":\"lines\",\"text\":[\"teatro_lago_artes_ensamble_piano\",\"\",\"\",\"tnch_teatro nacional_sala 13_temporales_funci\\u00f3n\"],\"x\":[0.0,1.2365946240436931,1.2365946240436931,1.1416134404545295],\"xaxis\":\"x\",\"y\":[-1275.0,-1275.0,-1290.0,-1290.0],\"yaxis\":\"y\",\"type\":\"scatter\"},{\"hoverinfo\":\"text\",\"marker\":{\"color\":\"rgb(0,116,217)\"},\"mode\":\"lines\",\"text\":[\"nativo_artes_artistas_galer\\u00eda_centro cultural bosque\",\"\",\"\",\"lago_artes_centro cultural_obra_horas\"],\"x\":[1.0554306112506908,1.4574366945577644,1.4574366945577644,1.2365946240436931],\"xaxis\":\"x\",\"y\":[-1260.0,-1260.0,-1282.5,-1282.5],\"yaxis\":\"y\",\"type\":\"scatter\"},{\"hoverinfo\":\"text\",\"marker\":{\"color\":\"rgb(0,116,217)\"},\"mode\":\"lines\",\"text\":[\"libro_universidad_ciencia tecnolog\\u00eda conocimiento_sede puerto montt_uach\",\"\",\"\",\"teatro lago_artes_festival_musical_artistas\"],\"x\":[1.3470937310468354,1.666924733183608,1.666924733183608,1.4574366945577644],\"xaxis\":\"x\",\"y\":[-1230.0,-1230.0,-1271.25,-1271.25],\"yaxis\":\"y\",\"type\":\"scatter\"},{\"hoverinfo\":\"text\",\"marker\":{\"color\":\"rgb(0,116,217)\"},\"mode\":\"lines\",\"text\":[\"libro_universidad_ciencia tecnolog\\u00eda conocimiento_sede puerto montt_uach\",\"\",\"\",\"teatro lago_artes_festival_musical_artistas\"],\"x\":[1.896530070252071,2.1389992450554027,2.1389992450554027,1.666924733183608],\"xaxis\":\"x\",\"y\":[-1128.90625,-1128.90625,-1250.625,-1250.625],\"yaxis\":\"y\",\"type\":\"scatter\"},{\"hoverinfo\":\"text\",\"marker\":{\"color\":\"rgb(0,116,217)\"},\"mode\":\"lines\",\"text\":[\"libro_universidad_ciencia tecnolog\\u00eda conocimiento_sede puerto montt_uach\",\"\",\"\",\"teatro lago_artes_festival_musical_artistas\"],\"x\":[2.434403010088079,2.491011809007618,2.491011809007618,2.1389992450554027],\"xaxis\":\"x\",\"y\":[-676.6552734375,-676.6552734375,-1189.765625,-1189.765625],\"yaxis\":\"y\",\"type\":\"scatter\"},{\"hoverinfo\":\"text\",\"marker\":{\"color\":\"rgb(0,116,217)\"},\"mode\":\"lines\",\"text\":[\"docentes_uach_sede_ciencias_innovaci\\u00f3n\",\"\",\"\",\"estudiantes_liceo_a\\u00f1o_profesional_carreras\"],\"x\":[0.0,1.016172731310155,1.016172731310155,0.0],\"xaxis\":\"x\",\"y\":[-1305.0,-1305.0,-1315.0,-1315.0],\"yaxis\":\"y\",\"type\":\"scatter\"},{\"hoverinfo\":\"text\",\"marker\":{\"color\":\"rgb(0,116,217)\"},\"mode\":\"lines\",\"text\":[\"escolares_asistencia_apoderados_uniforme_retorno\",\"\",\"\",\"establecimiento_liceo_superintendencia_denuncia_apoderados\"],\"x\":[0.0,1.184317834040495,1.184317834040495,0.0],\"xaxis\":\"x\",\"y\":[-1335.0,-1335.0,-1345.0,-1345.0],\"yaxis\":\"y\",\"type\":\"scatter\"},{\"hoverinfo\":\"text\",\"marker\":{\"color\":\"rgb(0,116,217)\"},\"mode\":\"lines\",\"text\":[\"emociones_ni\\u00f1os ni\\u00f1as_retorno clases_aprendizaje_c\\u00f3mo\",\"\",\"\",\"establecimiento_liceo_superintendencia_denuncia_apoderados\"],\"x\":[0.0,1.310382577041913,1.310382577041913,1.184317834040495],\"xaxis\":\"x\",\"y\":[-1325.0,-1325.0,-1340.0,-1340.0],\"yaxis\":\"y\",\"type\":\"scatter\"},{\"hoverinfo\":\"text\",\"marker\":{\"color\":\"rgb(0,116,217)\"},\"mode\":\"lines\",\"text\":[\"maillen_maillen puqueld\\u00f3n_slep_problemas_daem\",\"\",\"\",\"apoderados_villa chacao_chacao_establecimiento_corporaci\\u00f3n\"],\"x\":[0.0,1.1733175311655368,1.1733175311655368,0.0],\"xaxis\":\"x\",\"y\":[-1355.0,-1355.0,-1365.0,-1365.0],\"yaxis\":\"y\",\"type\":\"scatter\"},{\"hoverinfo\":\"text\",\"marker\":{\"color\":\"rgb(0,116,217)\"},\"mode\":\"lines\",\"text\":[\"maillen_maillen puqueld\\u00f3n_slep_problemas_daem\",\"\",\"\",\"apoderados_maillen_chacao_estudiantes_corporaci\\u00f3n\"],\"x\":[1.310382577041913,1.4447267031087563,1.4447267031087563,1.1733175311655368],\"xaxis\":\"x\",\"y\":[-1332.5,-1332.5,-1360.0,-1360.0],\"yaxis\":\"y\",\"type\":\"scatter\"},{\"hoverinfo\":\"text\",\"marker\":{\"color\":\"rgb(0,116,217)\"},\"mode\":\"lines\",\"text\":[\"estudiantes_uach_sede_liceo_ciencias\",\"\",\"\",\"apoderados_maillen_chacao_estudiantes_corporaci\\u00f3n\"],\"x\":[1.016172731310155,1.6363103958362715,1.6363103958362715,1.4447267031087563],\"xaxis\":\"x\",\"y\":[-1310.0,-1310.0,-1346.25,-1346.25],\"yaxis\":\"y\",\"type\":\"scatter\"},{\"hoverinfo\":\"text\",\"marker\":{\"color\":\"rgb(0,116,217)\"},\"mode\":\"lines\",\"text\":[\"corporaci\\u00f3n_sindicato asistentes educaci\\u00f3n_leaseback_cotizaciones_municipio\",\"\",\"\",\"concejal_concejo_pileta_cuiti\\u00f1o_daem\"],\"x\":[0.0,1.2186729427192362,1.2186729427192362,0.0],\"xaxis\":\"x\",\"y\":[-1385.0,-1385.0,-1395.0,-1395.0],\"yaxis\":\"y\",\"type\":\"scatter\"},{\"hoverinfo\":\"text\",\"marker\":{\"color\":\"rgb(0,116,217)\"},\"mode\":\"lines\",\"text\":[\"pileta_firmani_alcalde_\\u00f3scar galindo_desvinculaci\\u00f3n\",\"\",\"\",\"auditor\\u00eda_funcionarios_corporaci\\u00f3n municipal_asistentes educaci\\u00f3n_recursos\"],\"x\":[0.0,1.3047727131502815,1.3047727131502815,1.2186729427192362],\"xaxis\":\"x\",\"y\":[-1375.0,-1375.0,-1390.0,-1390.0],\"yaxis\":\"y\",\"type\":\"scatter\"},{\"hoverinfo\":\"text\",\"marker\":{\"color\":\"rgb(0,116,217)\"},\"mode\":\"lines\",\"text\":[\"puerto montt_arriendos_ravanales_planificaci\\u00f3n_bert\\u00edn\",\"\",\"\",\"ovejer\\u00eda_buses_locomoci\\u00f3n_l\\u00ednea_horarios\"],\"x\":[0.0,1.276747674872635,1.276747674872635,0.0],\"xaxis\":\"x\",\"y\":[-1415.0,-1415.0,-1425.0,-1425.0],\"yaxis\":\"y\",\"type\":\"scatter\"},{\"hoverinfo\":\"text\",\"marker\":{\"color\":\"rgb(0,116,217)\"},\"mode\":\"lines\",\"text\":[\"comercio ambulante_ordenanza_c\\u00e1mara_locatarios_municipal\",\"\",\"\",\"ovejer\\u00eda_buses_locomoci\\u00f3n_l\\u00ednea_horarios\"],\"x\":[0.0,1.3110535641018486,1.3110535641018486,1.276747674872635],\"xaxis\":\"x\",\"y\":[-1405.0,-1405.0,-1420.0,-1420.0],\"yaxis\":\"y\",\"type\":\"scatter\"},{\"hoverinfo\":\"text\",\"marker\":{\"color\":\"rgb(0,116,217)\"},\"mode\":\"lines\",\"text\":[\"regional vialidad_puente_dellarossa_sem\\u00e1foro_camino\",\"\",\"\",\"complementarias_proyecto_servicio salud_consejero_ancud\"],\"x\":[0.0,1.198457002040782,1.198457002040782,0.0],\"xaxis\":\"x\",\"y\":[-1435.0,-1435.0,-1445.0,-1445.0],\"yaxis\":\"y\",\"type\":\"scatter\"},{\"hoverinfo\":\"text\",\"marker\":{\"color\":\"rgb(0,116,217)\"},\"mode\":\"lines\",\"text\":[\"obras_complementarias_hospital_regional vialidad_serviu\",\"\",\"\",\"castro_afectados_henr\\u00edquez_vera_levantemos\"],\"x\":[1.198457002040782,1.3539224054234384,1.3539224054234384,0.0],\"xaxis\":\"x\",\"y\":[-1440.0,-1440.0,-1455.0,-1455.0],\"yaxis\":\"y\",\"type\":\"scatter\"},{\"hoverinfo\":\"text\",\"marker\":{\"color\":\"rgb(0,116,217)\"},\"mode\":\"lines\",\"text\":[\"obras_complementarias_hospital_regional vialidad_serviu\",\"\",\"\",\"castro_afectados_henr\\u00edquez_vera_levantemos\"],\"x\":[1.3110535641018486,1.4393171330957215,1.4393171330957215,1.3539224054234384],\"xaxis\":\"x\",\"y\":[-1412.5,-1412.5,-1447.5,-1447.5],\"yaxis\":\"y\",\"type\":\"scatter\"},{\"hoverinfo\":\"text\",\"marker\":{\"color\":\"rgb(0,116,217)\"},\"mode\":\"lines\",\"text\":[\"obras_complementarias_hospital_regional vialidad_serviu\",\"\",\"\",\"castro_afectados_henr\\u00edquez_vera_levantemos\"],\"x\":[1.3047727131502815,1.6181113937602216,1.6181113937602216,1.4393171330957215],\"xaxis\":\"x\",\"y\":[-1382.5,-1382.5,-1430.0,-1430.0],\"yaxis\":\"y\",\"type\":\"scatter\"},{\"hoverinfo\":\"text\",\"marker\":{\"color\":\"rgb(0,116,217)\"},\"mode\":\"lines\",\"text\":[\"chilo\\u00e9_chile_mujeres_pa\\u00eds_di\\u00e1logo\",\"\",\"\",\"pol\\u00edtico_boric_ser_conducta_guerra\"],\"x\":[0.0,1.2892713391685737,1.2892713391685737,0.0],\"xaxis\":\"x\",\"y\":[-1465.0,-1465.0,-1475.0,-1475.0],\"yaxis\":\"y\",\"type\":\"scatter\"},{\"hoverinfo\":\"text\",\"marker\":{\"color\":\"rgb(0,116,217)\"},\"mode\":\"lines\",\"text\":[\"chilo\\u00e9_chile_mujeres_pa\\u00eds_di\\u00e1logo\",\"\",\"\",\"pol\\u00edtico_boric_ser_conducta_guerra\"],\"x\":[1.6181113937602216,1.6894178356936251,1.6894178356936251,1.2892713391685737],\"xaxis\":\"x\",\"y\":[-1406.25,-1406.25,-1470.0,-1470.0],\"yaxis\":\"y\",\"type\":\"scatter\"},{\"hoverinfo\":\"text\",\"marker\":{\"color\":\"rgb(0,116,217)\"},\"mode\":\"lines\",\"text\":[\"chilo\\u00e9_chile_mujeres_pa\\u00eds_di\\u00e1logo\",\"\",\"\",\"pol\\u00edtico_boric_ser_conducta_guerra\"],\"x\":[1.6363103958362715,2.1338167069936027,2.1338167069936027,1.6894178356936251],\"xaxis\":\"x\",\"y\":[-1328.125,-1328.125,-1438.125,-1438.125],\"yaxis\":\"y\",\"type\":\"scatter\"},{\"hoverinfo\":\"text\",\"marker\":{\"color\":\"rgb(0,116,217)\"},\"mode\":\"lines\",\"text\":[\"mascarilla_obligatorio_paso_espacios abiertos_metro\",\"\",\"\",\"pase movilidad_verano_actividades_sanitarias_locales\"],\"x\":[0.0,1.2479955774448837,1.2479955774448837,0.0],\"xaxis\":\"x\",\"y\":[-1495.0,-1495.0,-1505.0,-1505.0],\"yaxis\":\"y\",\"type\":\"scatter\"},{\"hoverinfo\":\"text\",\"marker\":{\"color\":\"rgb(0,116,217)\"},\"mode\":\"lines\",\"text\":[\"mascarilla_obligatorio_paso_espacios abiertos_metro\",\"\",\"\",\"aforo_chuyaca_toque queda_locales_olegario mohr\"],\"x\":[1.2479955774448837,1.297483830039563,1.297483830039563,0.0],\"xaxis\":\"x\",\"y\":[-1500.0,-1500.0,-1515.0,-1515.0],\"yaxis\":\"y\",\"type\":\"scatter\"},{\"hoverinfo\":\"text\",\"marker\":{\"color\":\"rgb(0,116,217)\"},\"mode\":\"lines\",\"text\":[\"retroceder\\u00e1n_comunas_preparaci\\u00f3n_transici\\u00f3n_jornada lunes ministerio\",\"\",\"\",\"aforo_chuyaca_toque queda_locales_olegario mohr\"],\"x\":[0.0,1.4059079155470053,1.4059079155470053,1.297483830039563],\"xaxis\":\"x\",\"y\":[-1485.0,-1485.0,-1507.5,-1507.5],\"yaxis\":\"y\",\"type\":\"scatter\"},{\"hoverinfo\":\"text\",\"marker\":{\"color\":\"rgb(0,116,217)\"},\"mode\":\"lines\",\"text\":[\"actividad_muestras_visitantes_tradicional_festival\",\"\",\"\",\"fase_costumbristas_masivas_aforos_alcalde\"],\"x\":[0.0,1.2047307134259846,1.2047307134259846,0.0],\"xaxis\":\"x\",\"y\":[-1525.0,-1525.0,-1535.0,-1535.0],\"yaxis\":\"y\",\"type\":\"scatter\"},{\"hoverinfo\":\"text\",\"marker\":{\"color\":\"rgb(0,116,217)\"},\"mode\":\"lines\",\"text\":[\"reservas_ocupaci\\u00f3n_puyehue_octay_alta\",\"\",\"\",\"turismo_nui_subsecretario_operadores_jos\\u00e9 luis uriarte\"],\"x\":[0.0,1.154227169918853,1.154227169918853,0.0],\"xaxis\":\"x\",\"y\":[-1545.0,-1545.0,-1555.0,-1555.0],\"yaxis\":\"y\",\"type\":\"scatter\"},{\"hoverinfo\":\"text\",\"marker\":{\"color\":\"rgb(0,116,217)\"},\"mode\":\"lines\",\"text\":[\"comuna_fase_enero_evento_alcalde\",\"\",\"\",\"reservas_puyehue_demanda_octay_pandemia\"],\"x\":[1.2047307134259846,1.4463421813460482,1.4463421813460482,1.154227169918853],\"xaxis\":\"x\",\"y\":[-1530.0,-1530.0,-1550.0,-1550.0],\"yaxis\":\"y\",\"type\":\"scatter\"},{\"hoverinfo\":\"text\",\"marker\":{\"color\":\"rgb(0,116,217)\"},\"mode\":\"lines\",\"text\":[\"comuna_fase_enero_evento_alcalde\",\"\",\"\",\"reservas_puyehue_demanda_octay_pandemia\"],\"x\":[1.4059079155470053,1.5488192195981938,1.5488192195981938,1.4463421813460482],\"xaxis\":\"x\",\"y\":[-1496.25,-1496.25,-1540.0,-1540.0],\"yaxis\":\"y\",\"type\":\"scatter\"},{\"hoverinfo\":\"text\",\"marker\":{\"color\":\"rgb(0,116,217)\"},\"mode\":\"lines\",\"text\":[\"samor\\u00e9_terrestres_c\\u00e1mara comercio_apertura pasos_fronterizo cardenal samor\\u00e9\",\"\",\"\",\"futaleuf\\u00fa_paso fronterizo futaleuf\\u00fa_abrir_mayo_argentinas\"],\"x\":[0.0,1.0863061562447838,1.0863061562447838,0.0],\"xaxis\":\"x\",\"y\":[-1575.0,-1575.0,-1585.0,-1585.0],\"yaxis\":\"y\",\"type\":\"scatter\"},{\"hoverinfo\":\"text\",\"marker\":{\"color\":\"rgb(0,116,217)\"},\"mode\":\"lines\",\"text\":[\"pcr_pasos_negativo_deber\\u00e1n_declaraci\\u00f3n jurada\",\"\",\"\",\"apertura_samor\\u00e9_pasos_cardenal_futaleuf\\u00fa\"],\"x\":[0.0,1.243461826345322,1.243461826345322,1.0863061562447838],\"xaxis\":\"x\",\"y\":[-1565.0,-1565.0,-1580.0,-1580.0],\"yaxis\":\"y\",\"type\":\"scatter\"},{\"hoverinfo\":\"text\",\"marker\":{\"color\":\"rgb(0,116,217)\"},\"mode\":\"lines\",\"text\":[\"pcr_pasos_negativo_deber\\u00e1n_declaraci\\u00f3n jurada\",\"\",\"\",\"apertura_samor\\u00e9_cardenal_futaleuf\\u00fa_extranjeros residentes\"],\"x\":[1.5488192195981938,1.7940500691803878,1.7940500691803878,1.243461826345322],\"xaxis\":\"x\",\"y\":[-1518.125,-1518.125,-1572.5,-1572.5],\"yaxis\":\"y\",\"type\":\"scatter\"},{\"hoverinfo\":\"text\",\"marker\":{\"color\":\"rgb(0,116,217)\"},\"mode\":\"lines\",\"text\":[\"brote_establecimientos educacionales_presenciales_suspensi\\u00f3n_probables\",\"\",\"\",\"contactos estrechos_seremi salud_covid19_positivos_covid\"],\"x\":[0.0,1.1869193888810097,1.1869193888810097,0.0],\"xaxis\":\"x\",\"y\":[-1595.0,-1595.0,-1605.0,-1605.0],\"yaxis\":\"y\",\"type\":\"scatter\"},{\"hoverinfo\":\"text\",\"marker\":{\"color\":\"rgb(0,116,217)\"},\"mode\":\"lines\",\"text\":[\"vacunaci\\u00f3n_refuerzo_poblaci\\u00f3n_tercera dosis_sinovac\",\"\",\"\",\"pfizer_1052_error_chilo\\u00e9_inoculaci\\u00f3n\"],\"x\":[0.0,1.219941294724481,1.219941294724481,0.0],\"xaxis\":\"x\",\"y\":[-1615.0,-1615.0,-1625.0,-1625.0],\"yaxis\":\"y\",\"type\":\"scatter\"},{\"hoverinfo\":\"text\",\"marker\":{\"color\":\"rgb(0,116,217)\"},\"mode\":\"lines\",\"text\":[\"becerra_seremi salud_paso_religiosas_brotes\",\"\",\"\",\"pcr_cuarentena_examen_marinovic_diputada jenny \\u00e1lvarez\"],\"x\":[0.0,1.3583580660698893,1.3583580660698893,0.0],\"xaxis\":\"x\",\"y\":[-1635.0,-1635.0,-1645.0,-1645.0],\"yaxis\":\"y\",\"type\":\"scatter\"},{\"hoverinfo\":\"text\",\"marker\":{\"color\":\"rgb(0,116,217)\"},\"mode\":\"lines\",\"text\":[\"becerra_seremi salud_paso_religiosas_brotes\",\"\",\"\",\"pcr_cuarentena_examen_marinovic_diputada jenny \\u00e1lvarez\"],\"x\":[1.219941294724481,1.4183776423568564,1.4183776423568564,1.3583580660698893],\"xaxis\":\"x\",\"y\":[-1620.0,-1620.0,-1640.0,-1640.0],\"yaxis\":\"y\",\"type\":\"scatter\"},{\"hoverinfo\":\"text\",\"marker\":{\"color\":\"rgb(0,116,217)\"},\"mode\":\"lines\",\"text\":[\"educacionales_cuarentena_presenciales_estrechos_casos positivos\",\"\",\"\",\"pcr_cuarentena_examen_marinovic_diputada jenny \\u00e1lvarez\"],\"x\":[1.1869193888810097,1.4866618589327756,1.4866618589327756,1.4183776423568564],\"xaxis\":\"x\",\"y\":[-1600.0,-1600.0,-1630.0,-1630.0],\"yaxis\":\"y\",\"type\":\"scatter\"},{\"hoverinfo\":\"text\",\"marker\":{\"color\":\"rgb(0,116,217)\"},\"mode\":\"lines\",\"text\":[\"variante \\u00f3micron_contagios_vuelos_confinamiento_pauta\",\"\",\"\",\"covid19_ola_variante \\u00f3micron_pandemia_europa\"],\"x\":[0.0,1.1058217639666248,1.1058217639666248,0.0],\"xaxis\":\"x\",\"y\":[-1655.0,-1655.0,-1665.0,-1665.0],\"yaxis\":\"y\",\"type\":\"scatter\"},{\"hoverinfo\":\"text\",\"marker\":{\"color\":\"rgb(0,116,217)\"},\"mode\":\"lines\",\"text\":[\"minsal_trazabilidad_salud_\\u00f3micron_positividad\",\"\",\"\",\"twele_vacaciones_casos_mascarillas_yarza\"],\"x\":[0.0,1.292087683955907,1.292087683955907,0.0],\"xaxis\":\"x\",\"y\":[-1675.0,-1675.0,-1685.0,-1685.0],\"yaxis\":\"y\",\"type\":\"scatter\"},{\"hoverinfo\":\"text\",\"marker\":{\"color\":\"rgb(0,116,217)\"},\"mode\":\"lines\",\"text\":[\"variante_vacunados_pauta completa_muertes_pa\\u00edses\",\"\",\"\",\"twele_vacaciones_casos_mascarillas_yarza\"],\"x\":[1.1058217639666248,1.383522046387954,1.383522046387954,1.292087683955907],\"xaxis\":\"x\",\"y\":[-1660.0,-1660.0,-1680.0,-1680.0],\"yaxis\":\"y\",\"type\":\"scatter\"},{\"hoverinfo\":\"text\",\"marker\":{\"color\":\"rgb(0,116,217)\"},\"mode\":\"lines\",\"text\":[\"variante_vacunados_pauta completa_muertes_pa\\u00edses\",\"\",\"\",\"twele_vacaciones_casos_mascarillas_yarza\"],\"x\":[1.4866618589327756,1.5470167608745813,1.5470167608745813,1.383522046387954],\"xaxis\":\"x\",\"y\":[-1615.0,-1615.0,-1670.0,-1670.0],\"yaxis\":\"y\",\"type\":\"scatter\"},{\"hoverinfo\":\"text\",\"marker\":{\"color\":\"rgb(0,116,217)\"},\"mode\":\"lines\",\"text\":[\"medicamento_pfizer_molnupiravir_covid19_variante\",\"\",\"\",\"anticuerpos_estudio_covid19_variantes_sarscov2\"],\"x\":[0.0,1.2104283535863711,1.2104283535863711,0.0],\"xaxis\":\"x\",\"y\":[-1705.0,-1705.0,-1715.0,-1715.0],\"yaxis\":\"y\",\"type\":\"scatter\"},{\"hoverinfo\":\"text\",\"marker\":{\"color\":\"rgb(0,116,217)\"},\"mode\":\"lines\",\"text\":[\"covid19_oms_fauci_casos_gracias vacunas dosis\",\"\",\"\",\"covid19_pfizer_infecci\\u00f3n_estudio_f\\u00e1rmaco\"],\"x\":[0.0,1.3047740418994587,1.3047740418994587,1.2104283535863711],\"xaxis\":\"x\",\"y\":[-1695.0,-1695.0,-1710.0,-1710.0],\"yaxis\":\"y\",\"type\":\"scatter\"},{\"hoverinfo\":\"text\",\"marker\":{\"color\":\"rgb(0,116,217)\"},\"mode\":\"lines\",\"text\":[\"montagnier_imii_kalergis_medicina_vih\",\"\",\"\",\"tb_pesquisa_francisca werner_detecci\\u00f3n_expectoraci\\u00f3n\"],\"x\":[0.0,1.3638717592089782,1.3638717592089782,0.0],\"xaxis\":\"x\",\"y\":[-1725.0,-1725.0,-1735.0,-1735.0],\"yaxis\":\"y\",\"type\":\"scatter\"},{\"hoverinfo\":\"text\",\"marker\":{\"color\":\"rgb(0,116,217)\"},\"mode\":\"lines\",\"text\":[\"montagnier_imii_kalergis_medicina_vih\",\"\",\"\",\"tb_pesquisa_francisca werner_detecci\\u00f3n_expectoraci\\u00f3n\"],\"x\":[1.3047740418994587,1.4415766705413737,1.4415766705413737,1.3638717592089782],\"xaxis\":\"x\",\"y\":[-1702.5,-1702.5,-1730.0,-1730.0],\"yaxis\":\"y\",\"type\":\"scatter\"},{\"hoverinfo\":\"text\",\"marker\":{\"color\":\"rgb(0,116,217)\"},\"mode\":\"lines\",\"text\":[\"montagnier_imii_kalergis_medicina_vih\",\"\",\"\",\"tb_pesquisa_francisca werner_detecci\\u00f3n_expectoraci\\u00f3n\"],\"x\":[1.5470167608745813,1.8032795934582977,1.8032795934582977,1.4415766705413737],\"xaxis\":\"x\",\"y\":[-1642.5,-1642.5,-1716.25,-1716.25],\"yaxis\":\"y\",\"type\":\"scatter\"},{\"hoverinfo\":\"text\",\"marker\":{\"color\":\"rgb(0,116,217)\"},\"mode\":\"lines\",\"text\":[\"montagnier_imii_kalergis_medicina_vih\",\"\",\"\",\"tb_pesquisa_francisca werner_detecci\\u00f3n_expectoraci\\u00f3n\"],\"x\":[1.7940500691803878,2.0753858300784827,2.0753858300784827,1.8032795934582977],\"xaxis\":\"x\",\"y\":[-1545.3125,-1545.3125,-1679.375,-1679.375],\"yaxis\":\"y\",\"type\":\"scatter\"},{\"hoverinfo\":\"text\",\"marker\":{\"color\":\"rgb(0,116,217)\"},\"mode\":\"lines\",\"text\":[\"base_servicio salud chilo\\u00e9_incendio_chilo\\u00e9_c\\u8c29rcamo\",\"\",\"\",\"paciente_urgencia_baeza_hervidor_gonzalo baeza\"],\"x\":[0.0,1.3222131229807537,1.3222131229807537,0.0],\"xaxis\":\"x\",\"y\":[-1745.0,-1745.0,-1755.0,-1755.0],\"yaxis\":\"y\",\"type\":\"scatter\"},{\"hoverinfo\":\"text\",\"marker\":{\"color\":\"rgb(0,116,217)\"},\"mode\":\"lines\",\"text\":[\"garc\\u00eda_joven_imagen_accidente laboral_familia\",\"\",\"\",\"espinoza_salud_lactante_ancud_servicio\"],\"x\":[0.0,1.2941257112174815,1.2941257112174815,0.0],\"xaxis\":\"x\",\"y\":[-1765.0,-1765.0,-1775.0,-1775.0],\"yaxis\":\"y\",\"type\":\"scatter\"},{\"hoverinfo\":\"text\",\"marker\":{\"color\":\"rgb(0,116,217)\"},\"mode\":\"lines\",\"text\":[\"beb\\u00e9_nacido_servicio salud_ancud_trabajador\",\"\",\"\",\"hospital_servicio salud_siquiatra_mental_reloncav\\u00ed\"],\"x\":[1.2941257112174815,1.3203056534090025,1.3203056534090025,0.0],\"xaxis\":\"x\",\"y\":[-1770.0,-1770.0,-1785.0,-1785.0],\"yaxis\":\"y\",\"type\":\"scatter\"},{\"hoverinfo\":\"text\",\"marker\":{\"color\":\"rgb(0,116,217)\"},\"mode\":\"lines\",\"text\":[\"beb\\u00e9_nacido_servicio salud_ancud_trabajador\",\"\",\"\",\"ancud_familia_nacido_trabajador_lactante\"],\"x\":[1.3222131229807537,1.410656998821643,1.410656998821643,1.3203056534090025],\"xaxis\":\"x\",\"y\":[-1750.0,-1750.0,-1777.5,-1777.5],\"yaxis\":\"y\",\"type\":\"scatter\"},{\"hoverinfo\":\"text\",\"marker\":{\"color\":\"rgb(0,116,217)\"},\"mode\":\"lines\",\"text\":[\"urgencia_pacientes_covid_sapu_ancud\",\"\",\"\",\"cirug\\u00eda_hpm_espera_reloncav\\u00ed_servicio salud reloncav\\u00ed\"],\"x\":[0.0,1.0819656504005535,1.0819656504005535,0.0],\"xaxis\":\"x\",\"y\":[-1805.0,-1805.0,-1815.0,-1815.0],\"yaxis\":\"y\",\"type\":\"scatter\"},{\"hoverinfo\":\"text\",\"marker\":{\"color\":\"rgb(0,116,217)\"},\"mode\":\"lines\",\"text\":[\"paro_cesfam_servicio_afusam_gremios\",\"\",\"\",\"urgencia_cirug\\u00eda_consultas_espera_servicio salud reloncav\\u00ed\"],\"x\":[0.0,1.2628901086619257,1.2628901086619257,1.0819656504005535],\"xaxis\":\"x\",\"y\":[-1795.0,-1795.0,-1810.0,-1810.0],\"yaxis\":\"y\",\"type\":\"scatter\"},{\"hoverinfo\":\"text\",\"marker\":{\"color\":\"rgb(0,116,217)\"},\"mode\":\"lines\",\"text\":[\"primaria_reloncav\\u00ed_servicio salud_traslado_municipal\",\"\",\"\",\"primaria_comisi\\u00f3n salud_unidad calidad_chilena municipalidades_usuarios\"],\"x\":[0.0,1.254665783261261,1.254665783261261,0.0],\"xaxis\":\"x\",\"y\":[-1835.0,-1835.0,-1845.0,-1845.0],\"yaxis\":\"y\",\"type\":\"scatter\"},{\"hoverinfo\":\"text\",\"marker\":{\"color\":\"rgb(0,116,217)\"},\"mode\":\"lines\",\"text\":[\"fundaci\\u00f3n arturo_terreno_servicio salud_construcci\\u00f3n centro oncol\\u00f3gico_falp\",\"\",\"\",\"primaria_comisi\\u00f3n salud_unidad calidad_chilena municipalidades_usuarios\"],\"x\":[0.0,1.332837418997593,1.332837418997593,1.254665783261261],\"xaxis\":\"x\",\"y\":[-1825.0,-1825.0,-1840.0,-1840.0],\"yaxis\":\"y\",\"type\":\"scatter\"},{\"hoverinfo\":\"text\",\"marker\":{\"color\":\"rgb(0,116,217)\"},\"mode\":\"lines\",\"text\":[\"atenciones_urgencia_cirug\\u00eda_consultas_cesfam\",\"\",\"\",\"primaria_comisi\\u00f3n salud_unidad calidad_chilena municipalidades_usuarios\"],\"x\":[1.2628901086619257,1.408222920120827,1.408222920120827,1.332837418997593],\"xaxis\":\"x\",\"y\":[-1802.5,-1802.5,-1832.5,-1832.5],\"yaxis\":\"y\",\"type\":\"scatter\"},{\"hoverinfo\":\"text\",\"marker\":{\"color\":\"rgb(0,116,217)\"},\"mode\":\"lines\",\"text\":[\"atenciones_urgencia_cirug\\u00eda_consultas_cesfam\",\"\",\"\",\"atenciones_reloncav\\u00ed_urgencia_servicio salud reloncav\\u00ed_cesfam\"],\"x\":[1.410656998821643,1.6856432779433377,1.6856432779433377,1.408222920120827],\"xaxis\":\"x\",\"y\":[-1763.75,-1763.75,-1817.5,-1817.5],\"yaxis\":\"y\",\"type\":\"scatter\"},{\"hoverinfo\":\"text\",\"marker\":{\"color\":\"rgb(0,116,217)\"},\"mode\":\"lines\",\"text\":[\"emocional_ni\\u00f1os_relaci\\u00f3n_prueba_persona\",\"\",\"\",\"dormir_cambio hora_especialista_cuaya_voz\"],\"x\":[0.0,1.2180055034053732,1.2180055034053732,0.0],\"xaxis\":\"x\",\"y\":[-1855.0,-1855.0,-1865.0,-1865.0],\"yaxis\":\"y\",\"type\":\"scatter\"},{\"hoverinfo\":\"text\",\"marker\":{\"color\":\"rgb(0,116,217)\"},\"mode\":\"lines\",\"text\":[\"acv_s\\u00edntomas_riesgo_inactividad_salud mental\",\"\",\"\",\"precoz_tratamiento_falp_dr_detecci\\u00f3n\"],\"x\":[0.0,1.1781114075615513,1.1781114075615513,0.0],\"xaxis\":\"x\",\"y\":[-1885.0,-1885.0,-1895.0,-1895.0],\"yaxis\":\"y\",\"type\":\"scatter\"},{\"hoverinfo\":\"text\",\"marker\":{\"color\":\"rgb(0,116,217)\"},\"mode\":\"lines\",\"text\":[\"c\\u00e1ncer mama_tratamiento_s\\u00edntomas_f\\u00edsica_especialista\",\"\",\"\",\"sarscov2_prote\\u00ednas_cerebro_revista_nariz\"],\"x\":[1.1781114075615513,1.2500300018369344,1.2500300018369344,0.0],\"xaxis\":\"x\",\"y\":[-1890.0,-1890.0,-1905.0,-1905.0],\"yaxis\":\"y\",\"type\":\"scatter\"},{\"hoverinfo\":\"text\",\"marker\":{\"color\":\"rgb(0,116,217)\"},\"mode\":\"lines\",\"text\":[\"solar_puede_especialista_protector_lentes\",\"\",\"\",\"sarscov2_prote\\u00ednas_cerebro_revista_nariz\"],\"x\":[0.0,1.3093365126967882,1.3093365126967882,1.2500300018369344],\"xaxis\":\"x\",\"y\":[-1875.0,-1875.0,-1897.5,-1897.5],\"yaxis\":\"y\",\"type\":\"scatter\"},{\"hoverinfo\":\"text\",\"marker\":{\"color\":\"rgb(0,116,217)\"},\"mode\":\"lines\",\"text\":[\"solar_puede_especialista_protector_lentes\",\"\",\"\",\"donantes_trasplante_hospital_compatible_c\\u00e9lulas madre sangu\\u00edneas\"],\"x\":[1.3093365126967882,1.3458970765261642,1.3458970765261642,0.0],\"xaxis\":\"x\",\"y\":[-1886.25,-1886.25,-1915.0,-1915.0],\"yaxis\":\"y\",\"type\":\"scatter\"},{\"hoverinfo\":\"text\",\"marker\":{\"color\":\"rgb(0,116,217)\"},\"mode\":\"lines\",\"text\":[\"solar_puede_especialista_protector_lentes\",\"\",\"\",\"donantes_trasplante_hospital_compatible_c\\u00e9lulas madre sangu\\u00edneas\"],\"x\":[1.2180055034053732,1.4605272378296728,1.4605272378296728,1.3458970765261642],\"xaxis\":\"x\",\"y\":[-1860.0,-1860.0,-1900.625,-1900.625],\"yaxis\":\"y\",\"type\":\"scatter\"},{\"hoverinfo\":\"text\",\"marker\":{\"color\":\"rgb(0,116,217)\"},\"mode\":\"lines\",\"text\":[\"tribunales familia_v\\u00edctimas violencia_penal_ley_monitoreo\",\"\",\"\",\"escnna_conductas_ni\\u00f1os_g\\u00e9nero_sename\"],\"x\":[0.0,1.26499952949431,1.26499952949431,0.0],\"xaxis\":\"x\",\"y\":[-1925.0,-1925.0,-1935.0,-1935.0],\"yaxis\":\"y\",\"type\":\"scatter\"},{\"hoverinfo\":\"text\",\"marker\":{\"color\":\"rgb(0,116,217)\"},\"mode\":\"lines\",\"text\":[\"acoso sexual_encuesta_prodemu_metoo_ser\",\"\",\"\",\"laboral_g\\u00e9nero_achs_estudio_industria\"],\"x\":[0.0,1.1931937103064887,1.1931937103064887,0.0],\"xaxis\":\"x\",\"y\":[-1945.0,-1945.0,-1955.0,-1955.0],\"yaxis\":\"y\",\"type\":\"scatter\"},{\"hoverinfo\":\"text\",\"marker\":{\"color\":\"rgb(0,116,217)\"},\"mode\":\"lines\",\"text\":[\"mujeres_g\\u00e9nero_acoso_encuesta_participaci\\u00f3n\",\"\",\"\",\"ni\\u00f1as_granovetter_cyt_carreras_ingenier\\u00eda\"],\"x\":[1.1931937103064887,1.2974505933728244,1.2974505933728244,0.0],\"xaxis\":\"x\",\"y\":[-1950.0,-1950.0,-1965.0,-1965.0],\"yaxis\":\"y\",\"type\":\"scatter\"},{\"hoverinfo\":\"text\",\"marker\":{\"color\":\"rgb(0,116,217)\"},\"mode\":\"lines\",\"text\":[\"mujeres_g\\u00e9nero_acoso_encuesta_participaci\\u00f3n\",\"\",\"\",\"ni\\u00f1as_granovetter_cyt_carreras_ingenier\\u00eda\"],\"x\":[1.26499952949431,1.4482757996952338,1.4482757996952338,1.2974505933728244],\"xaxis\":\"x\",\"y\":[-1930.0,-1930.0,-1957.5,-1957.5],\"yaxis\":\"y\",\"type\":\"scatter\"},{\"hoverinfo\":\"text\",\"marker\":{\"color\":\"rgb(0,116,217)\"},\"mode\":\"lines\",\"text\":[\"mujeres_g\\u00e9nero_acoso_encuesta_participaci\\u00f3n\",\"\",\"\",\"g\\u00e9nero_hombres_laboral_ni\\u00f1as_estudio\"],\"x\":[1.4605272378296728,1.8125354108950447,1.8125354108950447,1.4482757996952338],\"xaxis\":\"x\",\"y\":[-1880.3125,-1880.3125,-1943.75,-1943.75],\"yaxis\":\"y\",\"type\":\"scatter\"},{\"hoverinfo\":\"text\",\"marker\":{\"color\":\"rgb(0,116,217)\"},\"mode\":\"lines\",\"text\":[\"mujeres_g\\u00e9nero_acoso_encuesta_participaci\\u00f3n\",\"\",\"\",\"g\\u00e9nero_hombres_laboral_ni\\u00f1as_estudio\"],\"x\":[1.6856432779433377,2.2164788690066963,2.2164788690066963,1.8125354108950447],\"xaxis\":\"x\",\"y\":[-1790.625,-1790.625,-1912.03125,-1912.03125],\"yaxis\":\"y\",\"type\":\"scatter\"},{\"hoverinfo\":\"text\",\"marker\":{\"color\":\"rgb(0,116,217)\"},\"mode\":\"lines\",\"text\":[\"mujeres_g\\u00e9nero_acoso_encuesta_participaci\\u00f3n\",\"\",\"\",\"g\\u00e9nero_hombres_laboral_ni\\u00f1as_estudio\"],\"x\":[2.0753858300784827,2.404101106802541,2.404101106802541,2.2164788690066963],\"xaxis\":\"x\",\"y\":[-1612.34375,-1612.34375,-1851.328125,-1851.328125],\"yaxis\":\"y\",\"type\":\"scatter\"},{\"hoverinfo\":\"text\",\"marker\":{\"color\":\"rgb(0,116,217)\"},\"mode\":\"lines\",\"text\":[\"cr\\u00e9dito_empresas_fogape_econ\\u00f3mica_fmi\",\"\",\"\",\"banco central_ipc_inter\\u00e9s_a\\u00f1o_pol\\u00edtica monetaria\"],\"x\":[0.0,1.1428387211497752,1.1428387211497752,0.0],\"xaxis\":\"x\",\"y\":[-1975.0,-1975.0,-1985.0,-1985.0],\"yaxis\":\"y\",\"type\":\"scatter\"},{\"hoverinfo\":\"text\",\"marker\":{\"color\":\"rgb(0,116,217)\"},\"mode\":\"lines\",\"text\":[\"pan_iva_estabilizaci\\u00f3n_precio combustibles_mepco\",\"\",\"\",\"canasta_aceite_precio pan_b\\u00e1sica_supermercados\"],\"x\":[0.0,1.0904567478181708,1.0904567478181708,0.0],\"xaxis\":\"x\",\"y\":[-2005.0,-2005.0,-2015.0,-2015.0],\"yaxis\":\"y\",\"type\":\"scatter\"},{\"hoverinfo\":\"text\",\"marker\":{\"color\":\"rgb(0,116,217)\"},\"mode\":\"lines\",\"text\":[\"impuesto_colectivos_congelamiento_precios transporte p\\u00fablico_di\\u00e9sel\",\"\",\"\",\"pan_canasta_iva_alimentos_pesos\"],\"x\":[0.0,1.2826897391476775,1.2826897391476775,1.0904567478181708],\"xaxis\":\"x\",\"y\":[-1995.0,-1995.0,-2010.0,-2010.0],\"yaxis\":\"y\",\"type\":\"scatter\"},{\"hoverinfo\":\"text\",\"marker\":{\"color\":\"rgb(0,116,217)\"},\"mode\":\"lines\",\"text\":[\"pan_parafina_canasta_iva_pesos\",\"\",\"\",\"enap_chiguayante_gas precio justo_fne_asociaci\\u00f3n\"],\"x\":[1.2826897391476775,1.3102733981444294,1.3102733981444294,0.0],\"xaxis\":\"x\",\"y\":[-2002.5,-2002.5,-2025.0,-2025.0],\"yaxis\":\"y\",\"type\":\"scatter\"},{\"hoverinfo\":\"text\",\"marker\":{\"color\":\"rgb(0,116,217)\"},\"mode\":\"lines\",\"text\":[\"banco_central_tasa inter\\u00e9s_mercado_retiros\",\"\",\"\",\"enap_pan_municipios_gas precio_fne\"],\"x\":[1.1428387211497752,1.6131997096491568,1.6131997096491568,1.3102733981444294],\"xaxis\":\"x\",\"y\":[-1980.0,-1980.0,-2013.75,-2013.75],\"yaxis\":\"y\",\"type\":\"scatter\"},{\"hoverinfo\":\"text\",\"marker\":{\"color\":\"rgb(40,35,35)\"},\"mode\":\"lines\",\"text\":[\"mosc\\u00fa_biden_kiev_invasi\\u00f3n_ucraniano\",\"\",\"\",\"mari\\u00fapol_kiev_ucraniano_ciudad_ataques\"],\"x\":[0.0,0.6900962945727158,0.6900962945727158,0.0],\"xaxis\":\"x\",\"y\":[-2045.0,-2045.0,-2055.0,-2055.0],\"yaxis\":\"y\",\"type\":\"scatter\"},{\"hoverinfo\":\"text\",\"marker\":{\"color\":\"rgb(0,116,217)\"},\"mode\":\"lines\",\"text\":[\"petr\\u00f3leo_pa\\u00edses_sanciones_opep_d\\u00f3lares\",\"\",\"\",\"kiev_mosc\\u00fa_militar_rusos_mari\\u00fapol\"],\"x\":[0.0,1.2494791545190802,1.2494791545190802,0.6900962945727158],\"xaxis\":\"x\",\"y\":[-2035.0,-2035.0,-2050.0,-2050.0],\"yaxis\":\"y\",\"type\":\"scatter\"},{\"hoverinfo\":\"text\",\"marker\":{\"color\":\"rgb(0,116,217)\"},\"mode\":\"lines\",\"text\":[\"petr\\u00f3leo_pa\\u00edses_sanciones_opep_d\\u00f3lares\",\"\",\"\",\"kiev_mosc\\u00fa_rusos_militar_mari\\u00fapol\"],\"x\":[1.6131997096491568,2.099561623081066,2.099561623081066,1.2494791545190802],\"xaxis\":\"x\",\"y\":[-1996.875,-1996.875,-2042.5,-2042.5],\"yaxis\":\"y\",\"type\":\"scatter\"},{\"hoverinfo\":\"text\",\"marker\":{\"color\":\"rgb(0,116,217)\"},\"mode\":\"lines\",\"text\":[\"petr\\u00f3leo_pa\\u00edses_sanciones_opep_d\\u00f3lares\",\"\",\"\",\"kiev_mosc\\u00fa_rusos_militar_mari\\u00fapol\"],\"x\":[2.404101106802541,2.5382957895004536,2.5382957895004536,2.099561623081066],\"xaxis\":\"x\",\"y\":[-1731.8359375,-1731.8359375,-2019.6875,-2019.6875],\"yaxis\":\"y\",\"type\":\"scatter\"},{\"hoverinfo\":\"text\",\"marker\":{\"color\":\"rgb(0,116,217)\"},\"mode\":\"lines\",\"text\":[\"petr\\u00f3leo_pa\\u00edses_sanciones_opep_d\\u00f3lares\",\"\",\"\",\"kiev_mosc\\u00fa_rusos_militar_mari\\u00fapol\"],\"x\":[2.1338167069936027,2.9121319279962306,2.9121319279962306,2.5382957895004536],\"xaxis\":\"x\",\"y\":[-1383.125,-1383.125,-1875.76171875,-1875.76171875],\"yaxis\":\"y\",\"type\":\"scatter\"},{\"hoverinfo\":\"text\",\"marker\":{\"color\":\"rgb(0,116,217)\"},\"mode\":\"lines\",\"text\":[\"accidentes_senda_conducir_carabineros_bajo influencia alcohol\",\"\",\"\",\"carabineros_fin semana_delegada_infracciones_santa\"],\"x\":[0.0,1.0963075490853447,1.0963075490853447,0.0],\"xaxis\":\"x\",\"y\":[-2075.0,-2075.0,-2085.0,-2085.0],\"yaxis\":\"y\",\"type\":\"scatter\"},{\"hoverinfo\":\"text\",\"marker\":{\"color\":\"rgb(0,116,217)\"},\"mode\":\"lines\",\"text\":[\"marihuana_estudio_thc_2018_percepci\\u00f3n riesgo uso\",\"\",\"\",\"accidentes_senda_carabineros_conducir_bajo influencia alcohol\"],\"x\":[0.0,1.3764462899683831,1.3764462899683831,1.0963075490853447],\"xaxis\":\"x\",\"y\":[-2065.0,-2065.0,-2080.0,-2080.0],\"yaxis\":\"y\",\"type\":\"scatter\"},{\"hoverinfo\":\"text\",\"marker\":{\"color\":\"rgb(0,116,217)\"},\"mode\":\"lines\",\"text\":[\"suplementeros_llevaron_delincuentes_especies_quioscos\",\"\",\"\",\"c\\u00e1maras_pelluco_p\\u00f3rticos_prevenci\\u00f3n_pdi\"],\"x\":[0.0,1.2504416201078066,1.2504416201078066,0.0],\"xaxis\":\"x\",\"y\":[-2105.0,-2105.0,-2115.0,-2115.0],\"yaxis\":\"y\",\"type\":\"scatter\"},{\"hoverinfo\":\"text\",\"marker\":{\"color\":\"rgb(0,116,217)\"},\"mode\":\"lines\",\"text\":[\"c\\u00e1maras_seguridad p\\u00fablica_robos_pelluco_vecinos\",\"\",\"\",\"artificiales_pelluco_coaniquem_carabineros_clandestinas\"],\"x\":[1.2504416201078066,1.283250981516594,1.283250981516594,0.0],\"xaxis\":\"x\",\"y\":[-2110.0,-2110.0,-2125.0,-2125.0],\"yaxis\":\"y\",\"type\":\"scatter\"},{\"hoverinfo\":\"text\",\"marker\":{\"color\":\"rgb(0,116,217)\"},\"mode\":\"lines\",\"text\":[\"ret\\u00e9n_veh\\u00edculos policiales_tenencia_37_corte alto\",\"\",\"\",\"pelluco_carabineros_fuegos_vecinos_clandestinas\"],\"x\":[0.0,1.3153924289496766,1.3153924289496766,1.283250981516594],\"xaxis\":\"x\",\"y\":[-2095.0,-2095.0,-2117.5,-2117.5],\"yaxis\":\"y\",\"type\":\"scatter\"},{\"hoverinfo\":\"text\",\"marker\":{\"color\":\"rgb(0,116,217)\"},\"mode\":\"lines\",\"text\":[\"ri\\u00f1a_calbucoy_querella_carabineros_vecinos\",\"\",\"\",\"hechos_denisse_carabineros_querella_violenta\"],\"x\":[0.0,1.3330070152599205,1.3330070152599205,0.0],\"xaxis\":\"x\",\"y\":[-2135.0,-2135.0,-2145.0,-2145.0],\"yaxis\":\"y\",\"type\":\"scatter\"},{\"hoverinfo\":\"text\",\"marker\":{\"color\":\"rgb(0,116,217)\"},\"mode\":\"lines\",\"text\":[\"pelluco_c\\u00e1maras_artificiales_clandestinas_comuna\",\"\",\"\",\"hechos_denisse_carabineros_querella_violenta\"],\"x\":[1.3153924289496766,1.399633149364349,1.399633149364349,1.3330070152599205],\"xaxis\":\"x\",\"y\":[-2106.25,-2106.25,-2140.0,-2140.0],\"yaxis\":\"y\",\"type\":\"scatter\"},{\"hoverinfo\":\"text\",\"marker\":{\"color\":\"rgb(0,116,217)\"},\"mode\":\"lines\",\"text\":[\"senda_accidentes_fiscalizaciones_carabineros_marihuana\",\"\",\"\",\"hechos_denisse_carabineros_querella_violenta\"],\"x\":[1.3764462899683831,1.7082621965062557,1.7082621965062557,1.399633149364349],\"xaxis\":\"x\",\"y\":[-2072.5,-2072.5,-2123.125,-2123.125],\"yaxis\":\"y\",\"type\":\"scatter\"},{\"hoverinfo\":\"text\",\"marker\":{\"color\":\"rgb(0,116,217)\"},\"mode\":\"lines\",\"text\":[\"chofer_siat_arraigo_qued\\u00f3_alcoholemia\",\"\",\"\",\"samu_accidente tr\\u00e1nsito_lugar_carabineros_camioneta\"],\"x\":[0.0,1.0672478848850722,1.0672478848850722,0.0],\"xaxis\":\"x\",\"y\":[-2155.0,-2155.0,-2165.0,-2165.0],\"yaxis\":\"y\",\"type\":\"scatter\"},{\"hoverinfo\":\"text\",\"marker\":{\"color\":\"rgb(0,116,217)\"},\"mode\":\"lines\",\"text\":[\"carabineros_robo_fiscal_a\\u00f1os_lesiones\",\"\",\"\",\"coca\\u00edna_tr\\u00e1fico_detectives_sativa_detenci\\u00f3n\"],\"x\":[0.0,1.2913984669480847,1.2913984669480847,0.0],\"xaxis\":\"x\",\"y\":[-2175.0,-2175.0,-2185.0,-2185.0],\"yaxis\":\"y\",\"type\":\"scatter\"},{\"hoverinfo\":\"text\",\"marker\":{\"color\":\"rgb(0,116,217)\"},\"mode\":\"lines\",\"text\":[\"samu_accidente tr\\u00e1nsito_lugar_carabineros_camioneta\",\"\",\"\",\"coca\\u00edna_tr\\u00e1fico_detectives_sativa_detenci\\u00f3n\"],\"x\":[1.0672478848850722,1.489023143629257,1.489023143629257,1.2913984669480847],\"xaxis\":\"x\",\"y\":[-2160.0,-2160.0,-2180.0,-2180.0],\"yaxis\":\"y\",\"type\":\"scatter\"},{\"hoverinfo\":\"text\",\"marker\":{\"color\":\"rgb(0,116,217)\"},\"mode\":\"lines\",\"text\":[\"samu_accidente tr\\u00e1nsito_lugar_carabineros_camioneta\",\"\",\"\",\"coca\\u00edna_tr\\u00e1fico_detectives_sativa_detenci\\u00f3n\"],\"x\":[1.7082621965062557,1.9879046224975119,1.9879046224975119,1.489023143629257],\"xaxis\":\"x\",\"y\":[-2097.8125,-2097.8125,-2170.0,-2170.0],\"yaxis\":\"y\",\"type\":\"scatter\"},{\"hoverinfo\":\"text\",\"marker\":{\"color\":\"rgb(0,116,217)\"},\"mode\":\"lines\",\"text\":[\"fuerte descarga_joven trabajador_criminal\\u00edstica_bomba extracci\\u00f3n agua_brigada homicidios\",\"\",\"\",\"sml_bote auxiliar_tena\\u00fan_terceras_faenas\"],\"x\":[0.0,1.2774132065611383,1.2774132065611383,0.0],\"xaxis\":\"x\",\"y\":[-2195.0,-2195.0,-2205.0,-2205.0],\"yaxis\":\"y\",\"type\":\"scatter\"},{\"hoverinfo\":\"text\",\"marker\":{\"color\":\"rgb(61,153,112)\"},\"mode\":\"lines\",\"text\":[\"hallazgo_m\\u00e9dico legal_cuerpo vida_personal_terceras\",\"\",\"\",\"r\\u00edo_m\\u00e9dico legal_h\\u00e9ctor astete_astete_rahue\"],\"x\":[0.0,0.9907406213844924,0.9907406213844924,0.0],\"xaxis\":\"x\",\"y\":[-2215.0,-2215.0,-2225.0,-2225.0],\"yaxis\":\"y\",\"type\":\"scatter\"},{\"hoverinfo\":\"text\",\"marker\":{\"color\":\"rgb(0,116,217)\"},\"mode\":\"lines\",\"text\":[\"hallazgo_m\\u00e9dico legal_cuerpo vida_personal_terceras\",\"\",\"\",\"cad\\u00e1ver_servicio m\\u00e9dico legal_homicidios_muerte_r\\u00edo\"],\"x\":[1.2774132065611383,1.3563591638957073,1.3563591638957073,0.9907406213844924],\"xaxis\":\"x\",\"y\":[-2200.0,-2200.0,-2220.0,-2220.0],\"yaxis\":\"y\",\"type\":\"scatter\"},{\"hoverinfo\":\"text\",\"marker\":{\"color\":\"rgb(0,116,217)\"},\"mode\":\"lines\",\"text\":[\"foitzick_familia_ernesto_mancilla_jeinimeni\",\"\",\"\",\"b\\u00fasqueda_astete_h\\u00e9ctor astete_cocham\\u00f3_h\\u00e9ctor\"],\"x\":[0.0,1.284274279592873,1.284274279592873,0.0],\"xaxis\":\"x\",\"y\":[-2245.0,-2245.0,-2255.0,-2255.0],\"yaxis\":\"y\",\"type\":\"scatter\"},{\"hoverinfo\":\"text\",\"marker\":{\"color\":\"rgb(0,116,217)\"},\"mode\":\"lines\",\"text\":[\"fiscal_teiguel_pericias_mochilero_pdi\",\"\",\"\",\"b\\u00fasqueda_astete_h\\u00e9ctor astete_cocham\\u00f3_h\\u00e9ctor\"],\"x\":[0.0,1.2986972406211739,1.2986972406211739,1.284274279592873],\"xaxis\":\"x\",\"y\":[-2235.0,-2235.0,-2250.0,-2250.0],\"yaxis\":\"y\",\"type\":\"scatter\"},{\"hoverinfo\":\"text\",\"marker\":{\"color\":\"rgb(0,116,217)\"},\"mode\":\"lines\",\"text\":[\"fiscal_teiguel_pericias_mochilero_pdi\",\"\",\"\",\"bote_volc\\u00e1n calbuco_accidental muerte_rescatarla_chamiza\"],\"x\":[1.2986972406211739,1.3747685152637208,1.3747685152637208,0.0],\"xaxis\":\"x\",\"y\":[-2242.5,-2242.5,-2265.0,-2265.0],\"yaxis\":\"y\",\"type\":\"scatter\"},{\"hoverinfo\":\"text\",\"marker\":{\"color\":\"rgb(0,116,217)\"},\"mode\":\"lines\",\"text\":[\"fiscal_teiguel_pericias_mochilero_pdi\",\"\",\"\",\"bote_volc\\u00e1n calbuco_accidental muerte_rescatarla_chamiza\"],\"x\":[1.3563591638957073,1.5280766019253809,1.5280766019253809,1.3747685152637208],\"xaxis\":\"x\",\"y\":[-2210.0,-2210.0,-2253.75,-2253.75],\"yaxis\":\"y\",\"type\":\"scatter\"},{\"hoverinfo\":\"text\",\"marker\":{\"color\":\"rgb(0,116,217)\"},\"mode\":\"lines\",\"text\":[\"fiscal_teiguel_pericias_mochilero_pdi\",\"\",\"\",\"bote_volc\\u00e1n calbuco_accidental muerte_rescatarla_chamiza\"],\"x\":[1.9879046224975119,1.9934036909896555,1.9934036909896555,1.5280766019253809],\"xaxis\":\"x\",\"y\":[-2133.90625,-2133.90625,-2231.875,-2231.875],\"yaxis\":\"y\",\"type\":\"scatter\"},{\"hoverinfo\":\"text\",\"marker\":{\"color\":\"rgb(0,116,217)\"},\"mode\":\"lines\",\"text\":[\"braunau_nueva braunau_derrame \\u00e1cido n\\u00edtrico_peligrosos_contenedor\",\"\",\"\",\"queilen_terceros_investigan intencionalidad incendio_labocar_criminal\\u00edstica\"],\"x\":[0.0,1.3637944223882656,1.3637944223882656,0.0],\"xaxis\":\"x\",\"y\":[-2275.0,-2275.0,-2285.0,-2285.0],\"yaxis\":\"y\",\"type\":\"scatter\"},{\"hoverinfo\":\"text\",\"marker\":{\"color\":\"rgb(0,116,217)\"},\"mode\":\"lines\",\"text\":[\"llamas_vivienda_labocar_puerto varas_adulto\",\"\",\"\",\"compa\\u00f1\\u00edas_cuerpo bomberos_propagaci\\u00f3n_lugar_dos\"],\"x\":[0.0,1.0418815545009834,1.0418815545009834,0.0],\"xaxis\":\"x\",\"y\":[-2295.0,-2295.0,-2305.0,-2305.0],\"yaxis\":\"y\",\"type\":\"scatter\"},{\"hoverinfo\":\"text\",\"marker\":{\"color\":\"rgb(0,116,217)\"},\"mode\":\"lines\",\"text\":[\"llamas_vivienda_labocar_puerto varas_adulto\",\"\",\"\",\"compa\\u00f1\\u00edas_cuerpo bomberos_lugar_propagaci\\u00f3n_viviendas\"],\"x\":[1.3637944223882656,1.44185354695901,1.44185354695901,1.0418815545009834],\"xaxis\":\"x\",\"y\":[-2280.0,-2280.0,-2300.0,-2300.0],\"yaxis\":\"y\",\"type\":\"scatter\"},{\"hoverinfo\":\"text\",\"marker\":{\"color\":\"rgb(255,65,54)\"},\"mode\":\"lines\",\"text\":[\"conaf_incendio forestal_brigadas_alerta amarilla_vegetaci\\u00f3n\",\"\",\"\",\"conaf_fuego_temporada_onemi_hect\\u00e1reas\"],\"x\":[0.0,0.8930016001209268,0.8930016001209268,0.0],\"xaxis\":\"x\",\"y\":[-2325.0,-2325.0,-2335.0,-2335.0],\"yaxis\":\"y\",\"type\":\"scatter\"},{\"hoverinfo\":\"text\",\"marker\":{\"color\":\"rgb(0,116,217)\"},\"mode\":\"lines\",\"text\":[\"incendio forestal_casas_camilo henr\\u00edquez_pucoihue_conaf\",\"\",\"\",\"incendios forestales_conaf_fuego_onemi_emergencia\"],\"x\":[0.0,1.2363664266399763,1.2363664266399763,0.8930016001209268],\"xaxis\":\"x\",\"y\":[-2315.0,-2315.0,-2330.0,-2330.0],\"yaxis\":\"y\",\"type\":\"scatter\"},{\"hoverinfo\":\"text\",\"marker\":{\"color\":\"rgb(0,116,217)\"},\"mode\":\"lines\",\"text\":[\"incendio forestal_casas_camilo henr\\u00edquez_pucoihue_conaf\",\"\",\"\",\"incendios forestales_conaf_fuego_onemi_viviendas\"],\"x\":[1.44185354695901,1.5678405435683436,1.5678405435683436,1.2363664266399763],\"xaxis\":\"x\",\"y\":[-2290.0,-2290.0,-2322.5,-2322.5],\"yaxis\":\"y\",\"type\":\"scatter\"},{\"hoverinfo\":\"text\",\"marker\":{\"color\":\"rgb(0,116,217)\"},\"mode\":\"lines\",\"text\":[\"incendio forestal_casas_camilo henr\\u00edquez_pucoihue_conaf\",\"\",\"\",\"incendios forestales_conaf_fuego_onemi_viviendas\"],\"x\":[1.9934036909896555,2.2678773706619695,2.2678773706619695,1.5678405435683436],\"xaxis\":\"x\",\"y\":[-2182.890625,-2182.890625,-2306.25,-2306.25],\"yaxis\":\"y\",\"type\":\"scatter\"},{\"hoverinfo\":\"text\",\"marker\":{\"color\":\"rgb(0,116,217)\"},\"mode\":\"lines\",\"text\":[\"incendio forestal_casas_camilo henr\\u00edquez_pucoihue_conaf\",\"\",\"\",\"incendios forestales_conaf_fuego_onemi_viviendas\"],\"x\":[2.9121319279962306,3.2827325104076284,3.2827325104076284,2.2678773706619695],\"xaxis\":\"x\",\"y\":[-1629.443359375,-1629.443359375,-2244.5703125,-2244.5703125],\"yaxis\":\"y\",\"type\":\"scatter\"},{\"hoverinfo\":\"text\",\"marker\":{\"color\":\"rgb(0,116,217)\"},\"mode\":\"lines\",\"text\":[\"incendio forestal_casas_camilo henr\\u00edquez_pucoihue_conaf\",\"\",\"\",\"incendios forestales_conaf_fuego_onemi_viviendas\"],\"x\":[2.491011809007618,3.6530548263214158,3.6530548263214158,3.2827325104076284],\"xaxis\":\"x\",\"y\":[-933.21044921875,-933.21044921875,-1937.0068359375,-1937.0068359375],\"yaxis\":\"y\",\"type\":\"scatter\"},{\"hoverinfo\":\"text\",\"marker\":{\"color\":\"rgb(0,116,217)\"},\"mode\":\"lines\",\"text\":[\"araucan\\u00eda_biob\\u00edo_ataque incendiario_malleco_regi\\u00f3n araucan\\u00eda\",\"\",\"\",\"excepci\\u00f3n_araucan\\u00eda_multigremial_r\\u00edos lagos_zona\"],\"x\":[0.0,1.010343710964552,1.010343710964552,0.0],\"xaxis\":\"x\",\"y\":[-2355.0,-2355.0,-2365.0,-2365.0],\"yaxis\":\"y\",\"type\":\"scatter\"},{\"hoverinfo\":\"text\",\"marker\":{\"color\":\"rgb(0,116,217)\"},\"mode\":\"lines\",\"text\":[\"incendiario_carabineros_forestal_plaza_macrozona sur\",\"\",\"\",\"araucan\\u00eda_mapuche_violencia_biob\\u00edo_excepci\\u00f3n constitucional\"],\"x\":[0.0,1.2606704906349262,1.2606704906349262,1.010343710964552],\"xaxis\":\"x\",\"y\":[-2345.0,-2345.0,-2360.0,-2360.0],\"yaxis\":\"y\",\"type\":\"scatter\"},{\"hoverinfo\":\"text\",\"marker\":{\"color\":\"rgb(0,116,217)\"},\"mode\":\"lines\",\"text\":[\"macrozona_abstenciones_biob\\u00edo_provincias_c\\u00e1mara\",\"\",\"\",\"excepci\\u00f3n_macrozona sur_provincias_delgado_biob\\u00edo\"],\"x\":[0.0,1.0899552222713509,1.0899552222713509,0.0],\"xaxis\":\"x\",\"y\":[-2375.0,-2375.0,-2385.0,-2385.0],\"yaxis\":\"y\",\"type\":\"scatter\"},{\"hoverinfo\":\"text\",\"marker\":{\"color\":\"rgb(0,116,217)\"},\"mode\":\"lines\",\"text\":[\"macrozona_abstenciones_biob\\u00edo_provincias_c\\u00e1mara\",\"\",\"\",\"araucan\\u00eda_siches_ministra_izkia_izkia siches\"],\"x\":[1.0899552222713509,1.21614634239114,1.21614634239114,0.0],\"xaxis\":\"x\",\"y\":[-2380.0,-2380.0,-2395.0,-2395.0],\"yaxis\":\"y\",\"type\":\"scatter\"},{\"hoverinfo\":\"text\",\"marker\":{\"color\":\"rgb(0,116,217)\"},\"mode\":\"lines\",\"text\":[\"macrozona_abstenciones_biob\\u00edo_provincias_c\\u00e1mara\",\"\",\"\",\"araucan\\u00eda_siches_ministra_izkia_izkia siches\"],\"x\":[1.2606704906349262,1.3953104409781754,1.3953104409781754,1.21614634239114],\"xaxis\":\"x\",\"y\":[-2352.5,-2352.5,-2387.5,-2387.5],\"yaxis\":\"y\",\"type\":\"scatter\"},{\"hoverinfo\":\"text\",\"marker\":{\"color\":\"rgb(0,116,217)\"},\"mode\":\"lines\",\"text\":[\"boric_rosanna_rosanna costa_frigolett_presidenta banco central\",\"\",\"\",\"litio_jobet_b\\u00fcchi_aisino_electo\"],\"x\":[0.0,1.3673287638067597,1.3673287638067597,0.0],\"xaxis\":\"x\",\"y\":[-2405.0,-2405.0,-2415.0,-2415.0],\"yaxis\":\"y\",\"type\":\"scatter\"},{\"hoverinfo\":\"text\",\"marker\":{\"color\":\"rgb(0,116,217)\"},\"mode\":\"lines\",\"text\":[\"retiros_appen_boric_presidente electo_se\\u00f1ales\",\"\",\"\",\"jara_reforma_ministra_40 horas_jeannette\"],\"x\":[0.0,1.3085959064353851,1.3085959064353851,0.0],\"xaxis\":\"x\",\"y\":[-2425.0,-2425.0,-2435.0,-2435.0],\"yaxis\":\"y\",\"type\":\"scatter\"},{\"hoverinfo\":\"text\",\"marker\":{\"color\":\"rgb(0,116,217)\"},\"mode\":\"lines\",\"text\":[\"retiros_appen_boric_presidente electo_se\\u00f1ales\",\"\",\"\",\"jara_reforma_ministra_40 horas_jeannette\"],\"x\":[1.3673287638067597,1.4043016554580687,1.4043016554580687,1.3085959064353851],\"xaxis\":\"x\",\"y\":[-2410.0,-2410.0,-2430.0,-2430.0],\"yaxis\":\"y\",\"type\":\"scatter\"},{\"hoverinfo\":\"text\",\"marker\":{\"color\":\"rgb(0,116,217)\"},\"mode\":\"lines\",\"text\":[\"boric_pi\\u00f1era_cambio mando_invitados_siches\",\"\",\"\",\"boric_c\\u00e1mara_presidente electo gabriel_ps_ascencio\"],\"x\":[0.0,1.1824336558764366,1.1824336558764366,0.0],\"xaxis\":\"x\",\"y\":[-2455.0,-2455.0,-2465.0,-2465.0],\"yaxis\":\"y\",\"type\":\"scatter\"},{\"hoverinfo\":\"text\",\"marker\":{\"color\":\"rgb(0,116,217)\"},\"mode\":\"lines\",\"text\":[\"boric_chahu\\u00e1n_segpres_macaya_presidente electo gabriel\",\"\",\"\",\"boric_pi\\u00f1era_presidente electo gabriel_siches_cambio mando\"],\"x\":[0.0,1.2370324157152015,1.2370324157152015,1.1824336558764366],\"xaxis\":\"x\",\"y\":[-2445.0,-2445.0,-2460.0,-2460.0],\"yaxis\":\"y\",\"type\":\"scatter\"},{\"hoverinfo\":\"text\",\"marker\":{\"color\":\"rgb(0,116,217)\"},\"mode\":\"lines\",\"text\":[\"allamand_pedro castillo_bellido_iberoamericana_per\\u00fa libre\",\"\",\"\",\"monsalve_mapuche_ministra interior_paro_dialogar\"],\"x\":[0.0,1.312371261435108,1.312371261435108,0.0],\"xaxis\":\"x\",\"y\":[-2475.0,-2475.0,-2485.0,-2485.0],\"yaxis\":\"y\",\"type\":\"scatter\"},{\"hoverinfo\":\"text\",\"marker\":{\"color\":\"rgb(0,116,217)\"},\"mode\":\"lines\",\"text\":[\"boric_pi\\u00f1era_presidente electo gabriel_siches_cambio mando\",\"\",\"\",\"monsalve_mapuche_ministra interior_paro_dialogar\"],\"x\":[1.2370324157152015,1.3959671149972346,1.3959671149972346,1.312371261435108],\"xaxis\":\"x\",\"y\":[-2452.5,-2452.5,-2480.0,-2480.0],\"yaxis\":\"y\",\"type\":\"scatter\"},{\"hoverinfo\":\"text\",\"marker\":{\"color\":\"rgb(0,116,217)\"},\"mode\":\"lines\",\"text\":[\"boric_pi\\u00f1era_presidente electo gabriel_siches_cambio mando\",\"\",\"\",\"monsalve_mapuche_ministra interior_paro_dialogar\"],\"x\":[1.4043016554580687,1.4639834037217392,1.4639834037217392,1.3959671149972346],\"xaxis\":\"x\",\"y\":[-2420.0,-2420.0,-2466.25,-2466.25],\"yaxis\":\"y\",\"type\":\"scatter\"},{\"hoverinfo\":\"text\",\"marker\":{\"color\":\"rgb(0,116,217)\"},\"mode\":\"lines\",\"text\":[\"proyecto_cuarto_diputados_gobierno_afp\",\"\",\"\",\"delitos_proyecto indulto_jackson_comisi\\u00f3n constituci\\u00f3n senado_presos\"],\"x\":[0.0,1.2140261744164729,1.2140261744164729,0.0],\"xaxis\":\"x\",\"y\":[-2505.0,-2505.0,-2515.0,-2515.0],\"yaxis\":\"y\",\"type\":\"scatter\"},{\"hoverinfo\":\"text\",\"marker\":{\"color\":\"rgb(0,116,217)\"},\"mode\":\"lines\",\"text\":[\"dominga_papers_pandora_sebasti\\u00e1n pi\\u00f1era_acusaci\\u00f3n constitucional presidente\",\"\",\"\",\"proyecto_cuarto_c\\u00e1mara_gobierno_parlamentarios\"],\"x\":[0.0,1.2704201360956753,1.2704201360956753,1.2140261744164729],\"xaxis\":\"x\",\"y\":[-2495.0,-2495.0,-2510.0,-2510.0],\"yaxis\":\"y\",\"type\":\"scatter\"},{\"hoverinfo\":\"text\",\"marker\":{\"color\":\"rgb(0,116,217)\"},\"mode\":\"lines\",\"text\":[\"dominga_papers_pandora_sebasti\\u00e1n pi\\u00f1era_acusaci\\u00f3n constitucional presidente\",\"\",\"\",\"acusaci\\u00f3n_proyecto_diputados_pi\\u00f1era_presidente\"],\"x\":[1.4639834037217392,1.5889118341770736,1.5889118341770736,1.2704201360956753],\"xaxis\":\"x\",\"y\":[-2443.125,-2443.125,-2502.5,-2502.5],\"yaxis\":\"y\",\"type\":\"scatter\"},{\"hoverinfo\":\"text\",\"marker\":{\"color\":\"rgb(0,116,217)\"},\"mode\":\"lines\",\"text\":[\"boric_kast_candidato_jos\\u00e9 antonio_apruebo dignidad\",\"\",\"\",\"sichel_boric_kast_18o_indulto\"],\"x\":[0.0,1.1427329569080609,1.1427329569080609,0.0],\"xaxis\":\"x\",\"y\":[-2555.0,-2555.0,-2565.0,-2565.0],\"yaxis\":\"y\",\"type\":\"scatter\"},{\"hoverinfo\":\"text\",\"marker\":{\"color\":\"rgb(0,116,217)\"},\"mode\":\"lines\",\"text\":[\"boric_kast_jos\\u00e9 antonio_franco_programa\",\"\",\"\",\"boric_kast_sichel_antonio kast_debate\"],\"x\":[0.0,1.211777330301936,1.211777330301936,1.1427329569080609],\"xaxis\":\"x\",\"y\":[-2545.0,-2545.0,-2560.0,-2560.0],\"yaxis\":\"y\",\"type\":\"scatter\"},{\"hoverinfo\":\"text\",\"marker\":{\"color\":\"rgb(0,116,217)\"},\"mode\":\"lines\",\"text\":[\"adherentes_boric_kast_siches_ministra\",\"\",\"\",\"boric_kast_sichel_antonio kast_debate\"],\"x\":[0.0,1.2718031283485476,1.2718031283485476,1.211777330301936],\"xaxis\":\"x\",\"y\":[-2535.0,-2535.0,-2552.5,-2552.5],\"yaxis\":\"y\",\"type\":\"scatter\"},{\"hoverinfo\":\"text\",\"marker\":{\"color\":\"rgb(0,116,217)\"},\"mode\":\"lines\",\"text\":[\"kast_boric_diputado_antonio kast_vot\\u00f3 v\\u00edctimas terrorismo\",\"\",\"\",\"boric_kast_sichel_antonio kast_debate\"],\"x\":[0.0,1.3455047466515375,1.3455047466515375,1.2718031283485476],\"xaxis\":\"x\",\"y\":[-2525.0,-2525.0,-2543.75,-2543.75],\"yaxis\":\"y\",\"type\":\"scatter\"},{\"hoverinfo\":\"text\",\"marker\":{\"color\":\"rgb(35,205,205)\"},\"mode\":\"lines\",\"text\":[\"kast_boric_jos\\u00e9 antonio_sichel_republicano\",\"\",\"\",\"kast_candidato_pen_macron_sichel\"],\"x\":[0.0,0.8989309649220205,0.8989309649220205,0.0],\"xaxis\":\"x\",\"y\":[-2575.0,-2575.0,-2585.0,-2585.0],\"yaxis\":\"y\",\"type\":\"scatter\"},{\"hoverinfo\":\"text\",\"marker\":{\"color\":\"rgb(0,116,217)\"},\"mode\":\"lines\",\"text\":[\"kast_boric_candidato_sichel_jos\\u00e9 antonio\",\"\",\"\",\"sichel_kast_chilo\\u00e9_boric_creo\"],\"x\":[0.8989309649220205,1.346836075433238,1.346836075433238,0.0],\"xaxis\":\"x\",\"y\":[-2580.0,-2580.0,-2595.0,-2595.0],\"yaxis\":\"y\",\"type\":\"scatter\"},{\"hoverinfo\":\"text\",\"marker\":{\"color\":\"rgb(0,116,217)\"},\"mode\":\"lines\",\"text\":[\"kast_boric_candidato_sichel_jos\\u00e9 antonio\",\"\",\"\",\"sichel_kast_chilo\\u00e9_boric_creo\"],\"x\":[1.3455047466515375,1.510402853124017,1.510402853124017,1.346836075433238],\"xaxis\":\"x\",\"y\":[-2534.375,-2534.375,-2587.5,-2587.5],\"yaxis\":\"y\",\"type\":\"scatter\"},{\"hoverinfo\":\"text\",\"marker\":{\"color\":\"rgb(0,116,217)\"},\"mode\":\"lines\",\"text\":[\"kast_boric_candidato_sichel_jos\\u00e9 antonio\",\"\",\"\",\"sichel_kast_chilo\\u00e9_boric_creo\"],\"x\":[1.5889118341770736,1.9827901526977594,1.9827901526977594,1.510402853124017],\"xaxis\":\"x\",\"y\":[-2472.8125,-2472.8125,-2560.9375,-2560.9375],\"yaxis\":\"y\",\"type\":\"scatter\"},{\"hoverinfo\":\"text\",\"marker\":{\"color\":\"rgb(0,116,217)\"},\"mode\":\"lines\",\"text\":[\"servel_noviembre_excusas_n\\u00f3mina_consultaservelcl\",\"\",\"\",\"electoral_apoderados_servel_mesa_votaci\\u00f3n\"],\"x\":[0.0,1.1031735961451452,1.1031735961451452,0.0],\"xaxis\":\"x\",\"y\":[-2605.0,-2605.0,-2615.0,-2615.0],\"yaxis\":\"y\",\"type\":\"scatter\"},{\"hoverinfo\":\"text\",\"marker\":{\"color\":\"rgb(0,116,217)\"},\"mode\":\"lines\",\"text\":[\"horas_locales votaci\\u00f3n_servel_lentitud_san\",\"\",\"\",\"locales votaci\\u00f3n_servel_transporte_l\\u00e1piz_director regional servel\"],\"x\":[0.0,1.0962358524968934,1.0962358524968934,0.0],\"xaxis\":\"x\",\"y\":[-2625.0,-2625.0,-2635.0,-2635.0],\"yaxis\":\"y\",\"type\":\"scatter\"},{\"hoverinfo\":\"text\",\"marker\":{\"color\":\"rgb(0,116,217)\"},\"mode\":\"lines\",\"text\":[\"servel_mesa_electoral_vocal_noviembre\",\"\",\"\",\"locales votaci\\u00f3n_servel_transporte_horas_ren\\u00e9 schmidt\"],\"x\":[1.1031735961451452,1.2561448775780126,1.2561448775780126,1.0962358524968934],\"xaxis\":\"x\",\"y\":[-2610.0,-2610.0,-2630.0,-2630.0],\"yaxis\":\"y\",\"type\":\"scatter\"},{\"hoverinfo\":\"text\",\"marker\":{\"color\":\"rgb(0,116,217)\"},\"mode\":\"lines\",\"text\":[\"servel_mesa_electoral_vocal_noviembre\",\"\",\"\",\"servel_electoral_locales votaci\\u00f3n_mesa_21 noviembre\"],\"x\":[1.9827901526977594,2.2514694692640846,2.2514694692640846,1.2561448775780126],\"xaxis\":\"x\",\"y\":[-2516.875,-2516.875,-2620.0,-2620.0],\"yaxis\":\"y\",\"type\":\"scatter\"},{\"hoverinfo\":\"text\",\"marker\":{\"color\":\"rgb(0,116,217)\"},\"mode\":\"lines\",\"text\":[\"excepci\\u00f3n_araucan\\u00eda_biob\\u00edo_ataque_provincias\",\"\",\"\",\"servel_electoral_locales votaci\\u00f3n_mesa_21 noviembre\"],\"x\":[1.3953104409781754,2.361818073473868,2.361818073473868,2.2514694692640846],\"xaxis\":\"x\",\"y\":[-2370.0,-2370.0,-2568.4375,-2568.4375],\"yaxis\":\"y\",\"type\":\"scatter\"},{\"hoverinfo\":\"text\",\"marker\":{\"color\":\"rgb(0,116,217)\"},\"mode\":\"lines\",\"text\":[\"autonom\\u00eda_constituyente_constitucional_atribuciones_debate\",\"\",\"\",\"chilo\\u00e9 regi\\u00f3n_chilo\\u00e9_convenci\\u00f3n_firmas_15 mil\"],\"x\":[0.0,1.1549102463549268,1.1549102463549268,0.0],\"xaxis\":\"x\",\"y\":[-2645.0,-2645.0,-2655.0,-2655.0],\"yaxis\":\"y\",\"type\":\"scatter\"},{\"hoverinfo\":\"text\",\"marker\":{\"color\":\"rgb(0,116,217)\"},\"mode\":\"lines\",\"text\":[\"propuestas_educaci\\u00f3n_normas_j\\u00fcrgensen_maritorio\",\"\",\"\",\"pleno_constituci\\u00f3n_convenci\\u00f3n_norma_art\\u00edculos\"],\"x\":[0.0,1.116266072771839,1.116266072771839,0.0],\"xaxis\":\"x\",\"y\":[-2665.0,-2665.0,-2675.0,-2675.0],\"yaxis\":\"y\",\"type\":\"scatter\"},{\"hoverinfo\":\"text\",\"marker\":{\"color\":\"rgb(0,116,217)\"},\"mode\":\"lines\",\"text\":[\"apoyos_normas_pleno_convenci\\u00f3n constitucional_nueva\",\"\",\"\",\"convenci\\u00f3n_suprema_expresi\\u00f3n_poder judicial_convencional\"],\"x\":[1.116266072771839,1.2413702872859396,1.2413702872859396,0.0],\"xaxis\":\"x\",\"y\":[-2670.0,-2670.0,-2685.0,-2685.0],\"yaxis\":\"y\",\"type\":\"scatter\"},{\"hoverinfo\":\"text\",\"marker\":{\"color\":\"rgb(0,116,217)\"},\"mode\":\"lines\",\"text\":[\"plebiscito_nueva constituci\\u00f3n_sistema pol\\u00edtico_c\\u00e1mara_convencionales\",\"\",\"\",\"convenci\\u00f3n_comisi\\u00f3n sistema pol\\u00edtico_c\\u00e1mara_pleno_plurinacional\"],\"x\":[0.0,1.0773213042934895,1.0773213042934895,0.0],\"xaxis\":\"x\",\"y\":[-2695.0,-2695.0,-2705.0,-2705.0],\"yaxis\":\"y\",\"type\":\"scatter\"},{\"hoverinfo\":\"text\",\"marker\":{\"color\":\"rgb(0,116,217)\"},\"mode\":\"lines\",\"text\":[\"comisi\\u00f3n forma_pleno_art\\u00edculo_regional_autonom\\u00eda\",\"\",\"\",\"pleno_convenci\\u00f3n constitucional_pr\\u00f3rroga tres meses_comisiones_103\"],\"x\":[0.0,1.2283123965242742,1.2283123965242742,0.0],\"xaxis\":\"x\",\"y\":[-2715.0,-2715.0,-2725.0,-2725.0],\"yaxis\":\"y\",\"type\":\"scatter\"},{\"hoverinfo\":\"text\",\"marker\":{\"color\":\"rgb(0,116,217)\"},\"mode\":\"lines\",\"text\":[\"convenci\\u00f3n_constituci\\u00f3n_c\\u00e1mara_comisi\\u00f3n sistema pol\\u00edtico_plebiscito\",\"\",\"\",\"pleno_convenci\\u00f3n constitucional_pr\\u00f3rroga tres meses_comisiones_103\"],\"x\":[1.0773213042934895,1.282167968627805,1.282167968627805,1.2283123965242742],\"xaxis\":\"x\",\"y\":[-2700.0,-2700.0,-2720.0,-2720.0],\"yaxis\":\"y\",\"type\":\"scatter\"},{\"hoverinfo\":\"text\",\"marker\":{\"color\":\"rgb(0,116,217)\"},\"mode\":\"lines\",\"text\":[\"convenci\\u00f3n_constituci\\u00f3n_c\\u00e1mara_comisi\\u00f3n sistema pol\\u00edtico_plebiscito\",\"\",\"\",\"pleno_convenci\\u00f3n constitucional_pr\\u00f3rroga tres meses_comisiones_103\"],\"x\":[1.2413702872859396,1.347688316785849,1.347688316785849,1.282167968627805],\"xaxis\":\"x\",\"y\":[-2677.5,-2677.5,-2710.0,-2710.0],\"yaxis\":\"y\",\"type\":\"scatter\"},{\"hoverinfo\":\"text\",\"marker\":{\"color\":\"rgb(0,116,217)\"},\"mode\":\"lines\",\"text\":[\"chilo\\u00e9_firmas_15 mil_constituyente_convencionales\",\"\",\"\",\"pleno_convenci\\u00f3n constitucional_pr\\u00f3rroga tres meses_comisiones_103\"],\"x\":[1.1549102463549268,1.3826049420125892,1.3826049420125892,1.347688316785849],\"xaxis\":\"x\",\"y\":[-2650.0,-2650.0,-2693.75,-2693.75],\"yaxis\":\"y\",\"type\":\"scatter\"},{\"hoverinfo\":\"text\",\"marker\":{\"color\":\"rgb(0,116,217)\"},\"mode\":\"lines\",\"text\":[\"chilo\\u00e9_firmas_15 mil_constituyente_convencionales\",\"\",\"\",\"pleno_nueva constituci\\u00f3n_convencionales_derechos_normas\"],\"x\":[2.361818073473868,2.676743548223132,2.676743548223132,1.3826049420125892],\"xaxis\":\"x\",\"y\":[-2469.21875,-2469.21875,-2671.875,-2671.875],\"yaxis\":\"y\",\"type\":\"scatter\"},{\"hoverinfo\":\"text\",\"marker\":{\"color\":\"rgb(0,116,217)\"},\"mode\":\"lines\",\"text\":[\"chilo\\u00e9_firmas_15 mil_constituyente_convencionales\",\"\",\"\",\"pleno_nueva constituci\\u00f3n_convencionales_derechos_normas\"],\"x\":[3.6530548263214158,3.938277990350034,3.938277990350034,2.676743548223132],\"xaxis\":\"x\",\"y\":[-1435.108642578125,-1435.108642578125,-2570.546875,-2570.546875],\"yaxis\":\"y\",\"type\":\"scatter\"},{\"hoverinfo\":\"text\",\"marker\":{\"color\":\"rgb(0,116,217)\"},\"mode\":\"lines\",\"text\":[\"colo_fecha_curic\\u00f3_copiap\\u00f3_morning\",\"\",\"\",\"partido_huachipato_audax italiano_libertadores_tabla\"],\"x\":[0.0,1.0551354477823816,1.0551354477823816,0.0],\"xaxis\":\"x\",\"y\":[-2755.0,-2755.0,-2765.0,-2765.0],\"yaxis\":\"y\",\"type\":\"scatter\"},{\"hoverinfo\":\"text\",\"marker\":{\"color\":\"rgb(0,116,217)\"},\"mode\":\"lines\",\"text\":[\"colo_anfp_cuadro_positivo_wanderers\",\"\",\"\",\"partido_huachipato_audax italiano_libertadores_tabla\"],\"x\":[0.0,1.1395877056093946,1.1395877056093946,1.0551354477823816],\"xaxis\":\"x\",\"y\":[-2745.0,-2745.0,-2760.0,-2760.0],\"yaxis\":\"y\",\"type\":\"scatter\"},{\"hoverinfo\":\"text\",\"marker\":{\"color\":\"rgb(0,116,217)\"},\"mode\":\"lines\",\"text\":[\"equipo_colo_dt_partidos_duelo\",\"\",\"\",\"partido_huachipato_audax italiano_libertadores_tabla\"],\"x\":[0.0,1.2184816594774759,1.2184816594774759,1.1395877056093946],\"xaxis\":\"x\",\"y\":[-2735.0,-2735.0,-2752.5,-2752.5],\"yaxis\":\"y\",\"type\":\"scatter\"},{\"hoverinfo\":\"text\",\"marker\":{\"color\":\"rgb(61,153,112)\"},\"mode\":\"lines\",\"text\":[\"palestino_remat\\u00f3_partido_uni\\u00f3n espa\\u00f1ola_azules\",\"\",\"\",\"colo_gol_arco_palo_\\u00e1rea\"],\"x\":[0.0,0.9834027205662466,0.9834027205662466,0.0],\"xaxis\":\"x\",\"y\":[-2775.0,-2775.0,-2785.0,-2785.0],\"yaxis\":\"y\",\"type\":\"scatter\"},{\"hoverinfo\":\"text\",\"marker\":{\"color\":\"rgb(0,116,217)\"},\"mode\":\"lines\",\"text\":[\"minutos_\\u00e1rea_palestino_partido_uc\",\"\",\"\",\"gol_lucero_primer tiempo_gustavo quinteros_alianza lima\"],\"x\":[0.9834027205662466,1.2173045471286268,1.2173045471286268,0.0],\"xaxis\":\"x\",\"y\":[-2780.0,-2780.0,-2795.0,-2795.0],\"yaxis\":\"y\",\"type\":\"scatter\"},{\"hoverinfo\":\"text\",\"marker\":{\"color\":\"rgb(0,116,217)\"},\"mode\":\"lines\",\"text\":[\"colo_universidad chile_campeonato nacional_paulucci_cat\\u00f3lica\",\"\",\"\",\"colo_jugador_roggiero_\\u00e1lvaro brun_universidad cat\\u00f3lica\"],\"x\":[0.0,1.1352631474242172,1.1352631474242172,0.0],\"xaxis\":\"x\",\"y\":[-2815.0,-2815.0,-2825.0,-2825.0],\"yaxis\":\"y\",\"type\":\"scatter\"},{\"hoverinfo\":\"text\",\"marker\":{\"color\":\"rgb(0,116,217)\"},\"mode\":\"lines\",\"text\":[\"colo_esteban valencia_cristi\\u00e1n_primer equipo_azules\",\"\",\"\",\"colo_jugador_roggiero_\\u00e1lvaro brun_universidad cat\\u00f3lica\"],\"x\":[0.0,1.2343344825312086,1.2343344825312086,1.1352631474242172],\"xaxis\":\"x\",\"y\":[-2805.0,-2805.0,-2820.0,-2820.0],\"yaxis\":\"y\",\"type\":\"scatter\"},{\"hoverinfo\":\"text\",\"marker\":{\"color\":\"rgb(0,116,217)\"},\"mode\":\"lines\",\"text\":[\"colo_esteban valencia_cristi\\u00e1n_primer equipo_azules\",\"\",\"\",\"club_mairena_volante_refuerzo_lobos\"],\"x\":[1.2343344825312086,1.3019270291836893,1.3019270291836893,0.0],\"xaxis\":\"x\",\"y\":[-2812.5,-2812.5,-2835.0,-2835.0],\"yaxis\":\"y\",\"type\":\"scatter\"},{\"hoverinfo\":\"text\",\"marker\":{\"color\":\"rgb(0,116,217)\"},\"mode\":\"lines\",\"text\":[\"colo_esteban valencia_cristi\\u00e1n_primer equipo_azules\",\"\",\"\",\"club_mairena_volante_refuerzo_lobos\"],\"x\":[1.2173045471286268,1.5039244218722203,1.5039244218722203,1.3019270291836893],\"xaxis\":\"x\",\"y\":[-2787.5,-2787.5,-2823.75,-2823.75],\"yaxis\":\"y\",\"type\":\"scatter\"},{\"hoverinfo\":\"text\",\"marker\":{\"color\":\"rgb(0,116,217)\"},\"mode\":\"lines\",\"text\":[\"colo_esteban valencia_cristi\\u00e1n_primer equipo_azules\",\"\",\"\",\"club_mairena_volante_refuerzo_lobos\"],\"x\":[1.2184816594774759,1.5679496312513514,1.5679496312513514,1.5039244218722203],\"xaxis\":\"x\",\"y\":[-2743.75,-2743.75,-2805.625,-2805.625],\"yaxis\":\"y\",\"type\":\"scatter\"},{\"hoverinfo\":\"text\",\"marker\":{\"color\":\"rgb(0,116,217)\"},\"mode\":\"lines\",\"text\":[\"deportes puerto montt_chinquihue_hinchas_ranco_rengo\",\"\",\"\",\"melipilla_provincial_anfp_tercera divisi\\u00f3n_copiap\\u00f3\"],\"x\":[0.0,1.2916537193866218,1.2916537193866218,0.0],\"xaxis\":\"x\",\"y\":[-2845.0,-2845.0,-2855.0,-2855.0],\"yaxis\":\"y\",\"type\":\"scatter\"},{\"hoverinfo\":\"text\",\"marker\":{\"color\":\"rgb(0,116,217)\"},\"mode\":\"lines\",\"text\":[\"tobar_castrilli_zampedri_var_colo\",\"\",\"\",\"sanci\\u00f3n_anfp_calama_arturo_tres partidos\"],\"x\":[0.0,1.3050516502222216,1.3050516502222216,0.0],\"xaxis\":\"x\",\"y\":[-2865.0,-2865.0,-2875.0,-2875.0],\"yaxis\":\"y\",\"type\":\"scatter\"},{\"hoverinfo\":\"text\",\"marker\":{\"color\":\"rgb(0,116,217)\"},\"mode\":\"lines\",\"text\":[\"tobar_castrilli_zampedri_var_colo\",\"\",\"\",\"sanci\\u00f3n_anfp_calama_arturo_tres partidos\"],\"x\":[1.2916537193866218,1.4304352732195558,1.4304352732195558,1.3050516502222216],\"xaxis\":\"x\",\"y\":[-2850.0,-2850.0,-2870.0,-2870.0],\"yaxis\":\"y\",\"type\":\"scatter\"},{\"hoverinfo\":\"text\",\"marker\":{\"color\":\"rgb(0,116,217)\"},\"mode\":\"lines\",\"text\":[\"qatar_mundial_grupo_dinamarca_escocia\",\"\",\"\",\"fase_copa libertadores_conmebol_grupos_audax italiano\"],\"x\":[0.0,1.2451093097896089,1.2451093097896089,0.0],\"xaxis\":\"x\",\"y\":[-2895.0,-2895.0,-2905.0,-2905.0],\"yaxis\":\"y\",\"type\":\"scatter\"},{\"hoverinfo\":\"text\",\"marker\":{\"color\":\"rgb(0,116,217)\"},\"mode\":\"lines\",\"text\":[\"paraguay_catar_mundial_ecuador_victorias\",\"\",\"\",\"qatar_mundial_copa_conmebol_dinamarca\"],\"x\":[0.0,1.2858005206234298,1.2858005206234298,1.2451093097896089],\"xaxis\":\"x\",\"y\":[-2885.0,-2885.0,-2900.0,-2900.0],\"yaxis\":\"y\",\"type\":\"scatter\"},{\"hoverinfo\":\"text\",\"marker\":{\"color\":\"rgb(0,116,217)\"},\"mode\":\"lines\",\"text\":[\"paraguay_catar_mundial_ecuador_victorias\",\"\",\"\",\"colo_santiago morning_torneo_isidora_paranaense\"],\"x\":[1.2858005206234298,1.3156256718820802,1.3156256718820802,0.0],\"xaxis\":\"x\",\"y\":[-2892.5,-2892.5,-2915.0,-2915.0],\"yaxis\":\"y\",\"type\":\"scatter\"},{\"hoverinfo\":\"text\",\"marker\":{\"color\":\"rgb(0,116,217)\"},\"mode\":\"lines\",\"text\":[\"paraguay_catar_mundial_ecuador_victorias\",\"\",\"\",\"colo_santiago morning_torneo_isidora_paranaense\"],\"x\":[1.4304352732195558,1.5515613299031805,1.5515613299031805,1.3156256718820802],\"xaxis\":\"x\",\"y\":[-2860.0,-2860.0,-2903.75,-2903.75],\"yaxis\":\"y\",\"type\":\"scatter\"},{\"hoverinfo\":\"text\",\"marker\":{\"color\":\"rgb(0,116,217)\"},\"mode\":\"lines\",\"text\":[\"roja_lasarte_ar\\u00e1nguiz_selecci\\u00f3n chilena_charles ar\\u00e1nguiz\",\"\",\"\",\"bravo_lasarte_copa am\\u00e9rica_mart\\u00edn lasarte_vidal\"],\"x\":[0.0,1.1120209612085814,1.1120209612085814,0.0],\"xaxis\":\"x\",\"y\":[-2935.0,-2935.0,-2945.0,-2945.0],\"yaxis\":\"y\",\"type\":\"scatter\"},{\"hoverinfo\":\"text\",\"marker\":{\"color\":\"rgb(0,116,217)\"},\"mode\":\"lines\",\"text\":[\"brereton_blackburn_ben_mowbray_lesi\\u00f3n\",\"\",\"\",\"lasarte_ar\\u00e1nguiz_selecci\\u00f3n chilena_mart\\u00edn lasarte_brasil\"],\"x\":[0.0,1.2138150165384214,1.2138150165384214,1.1120209612085814],\"xaxis\":\"x\",\"y\":[-2925.0,-2925.0,-2940.0,-2940.0],\"yaxis\":\"y\",\"type\":\"scatter\"},{\"hoverinfo\":\"text\",\"marker\":{\"color\":\"rgb(0,116,217)\"},\"mode\":\"lines\",\"text\":[\"roja_ben_selecci\\u00f3n chilena_mart\\u00edn lasarte_duelo\",\"\",\"\",\"lasarte_roja_colombia_suazo_aferra \\u00faltimas\"],\"x\":[1.2138150165384214,1.245758359883176,1.245758359883176,0.0],\"xaxis\":\"x\",\"y\":[-2932.5,-2932.5,-2955.0,-2955.0],\"yaxis\":\"y\",\"type\":\"scatter\"},{\"hoverinfo\":\"text\",\"marker\":{\"color\":\"rgb(0,116,217)\"},\"mode\":\"lines\",\"text\":[\"lasarte_brereton_mart\\u00edn lasarte_ben_selecci\\u00f3n chilena\",\"\",\"\",\"selecci\\u00f3n_lasarte_roja_sorpresas_m\\u00e9xico\"],\"x\":[1.245758359883176,1.2890014688403173,1.2890014688403173,0.0],\"xaxis\":\"x\",\"y\":[-2943.75,-2943.75,-2965.0,-2965.0],\"yaxis\":\"y\",\"type\":\"scatter\"},{\"hoverinfo\":\"text\",\"marker\":{\"color\":\"rgb(0,116,217)\"},\"mode\":\"lines\",\"text\":[\"lasarte_brereton_mart\\u00edn lasarte_ben_selecci\\u00f3n chilena\",\"\",\"\",\"selecci\\u00f3n_lasarte_roja_sorpresas_m\\u00e9xico\"],\"x\":[1.5515613299031805,1.6773341871097496,1.6773341871097496,1.2890014688403173],\"xaxis\":\"x\",\"y\":[-2881.875,-2881.875,-2954.375,-2954.375],\"yaxis\":\"y\",\"type\":\"scatter\"},{\"hoverinfo\":\"text\",\"marker\":{\"color\":\"rgb(255,65,54)\"},\"mode\":\"lines\",\"text\":[\"pellegrini_champions_europa league_madrid_bravo\",\"\",\"\",\"inter_minutos_goles_vidal_puntos\"],\"x\":[0.0,0.917658450782157,0.917658450782157,0.0],\"xaxis\":\"x\",\"y\":[-2975.0,-2975.0,-2985.0,-2985.0],\"yaxis\":\"y\",\"type\":\"scatter\"},{\"hoverinfo\":\"text\",\"marker\":{\"color\":\"rgb(0,116,217)\"},\"mode\":\"lines\",\"text\":[\"inter_entrenador_leeds_euros_premier\",\"\",\"\",\"alexis_inter_medios italianos_nota_lautaro mart\\u00ednez\"],\"x\":[0.0,1.2401867421232777,1.2401867421232777,0.0],\"xaxis\":\"x\",\"y\":[-2995.0,-2995.0,-3005.0,-3005.0],\"yaxis\":\"y\",\"type\":\"scatter\"},{\"hoverinfo\":\"text\",\"marker\":{\"color\":\"rgb(0,116,217)\"},\"mode\":\"lines\",\"text\":[\"inter_champions_real_madrid_final\",\"\",\"\",\"alexis_inter_medios italianos_nota_lautaro mart\\u00ednez\"],\"x\":[0.917658450782157,1.3924548219858681,1.3924548219858681,1.2401867421232777],\"xaxis\":\"x\",\"y\":[-2980.0,-2980.0,-3000.0,-3000.0],\"yaxis\":\"y\",\"type\":\"scatter\"},{\"hoverinfo\":\"text\",\"marker\":{\"color\":\"rgb(0,116,217)\"},\"mode\":\"lines\",\"text\":[\"inter_champions_real_madrid_final\",\"\",\"\",\"alexis_inter_medios italianos_nota_lautaro mart\\u00ednez\"],\"x\":[1.6773341871097496,1.8423208674285012,1.8423208674285012,1.3924548219858681],\"xaxis\":\"x\",\"y\":[-2918.125,-2918.125,-2990.0,-2990.0],\"yaxis\":\"y\",\"type\":\"scatter\"},{\"hoverinfo\":\"text\",\"marker\":{\"color\":\"rgb(0,116,217)\"},\"mode\":\"lines\",\"text\":[\"inter_champions_real_madrid_final\",\"\",\"\",\"alexis_inter_medios italianos_nota_lautaro mart\\u00ednez\"],\"x\":[1.5679496312513514,2.354940720970548,2.354940720970548,1.8423208674285012],\"xaxis\":\"x\",\"y\":[-2774.6875,-2774.6875,-2954.0625,-2954.0625],\"yaxis\":\"y\",\"type\":\"scatter\"},{\"hoverinfo\":\"text\",\"marker\":{\"color\":\"rgb(0,116,217)\"},\"mode\":\"lines\",\"text\":[\"atl\\u00e9tico puerto_cdo_rebotes_cdo by cecinas_ceb\",\"\",\"\",\"aba_copa chile_deportes castro_horas_club deportivo\"],\"x\":[0.0,1.0829830043984363,1.0829830043984363,0.0],\"xaxis\":\"x\",\"y\":[-3015.0,-3015.0,-3025.0,-3025.0],\"yaxis\":\"y\",\"type\":\"scatter\"},{\"hoverinfo\":\"text\",\"marker\":{\"color\":\"rgb(0,116,217)\"},\"mode\":\"lines\",\"text\":[\"femenina_series_certamen_varas_copa\",\"\",\"\",\"pal\\u00edn_montt_puerto_f\\u00fatbol amateur_juegos araucan\\u00eda\"],\"x\":[0.0,1.1499964207152833,1.1499964207152833,0.0],\"xaxis\":\"x\",\"y\":[-3035.0,-3035.0,-3045.0,-3045.0],\"yaxis\":\"y\",\"type\":\"scatter\"},{\"hoverinfo\":\"text\",\"marker\":{\"color\":\"rgb(0,116,217)\"},\"mode\":\"lines\",\"text\":[\"boxeo_t\\u00edtulo_pancora_cintur\\u00f3n_vel\\u00e1squez\",\"\",\"\",\"deportista_club_nya_prueba_oro\"],\"x\":[0.0,1.1972640326338562,1.1972640326338562,0.0],\"xaxis\":\"x\",\"y\":[-3055.0,-3055.0,-3065.0,-3065.0],\"yaxis\":\"y\",\"type\":\"scatter\"},{\"hoverinfo\":\"text\",\"marker\":{\"color\":\"rgb(0,116,217)\"},\"mode\":\"lines\",\"text\":[\"deportistas_km_avosur_recorrido_corredores\",\"\",\"\",\"ancud_deportistas_toros inclusi\\u00f3n_mtb_participaci\\u8d38n\"],\"x\":[0.0,1.3146670946630254,1.3146670946630254,0.0],\"xaxis\":\"x\",\"y\":[-3075.0,-3075.0,-3085.0,-3085.0],\"yaxis\":\"y\",\"type\":\"scatter\"},{\"hoverinfo\":\"text\",\"marker\":{\"color\":\"rgb(0,116,217)\"},\"mode\":\"lines\",\"text\":[\"deportistas_km_avosur_recorrido_corredores\",\"\",\"\",\"ancud_deportistas_toros inclusi\\u00f3n_mtb_participaci\\u8d38n\"],\"x\":[1.1972640326338562,1.349678615828033,1.349678615828033,1.3146670946630254],\"xaxis\":\"x\",\"y\":[-3060.0,-3060.0,-3080.0,-3080.0],\"yaxis\":\"y\",\"type\":\"scatter\"},{\"hoverinfo\":\"text\",\"marker\":{\"color\":\"rgb(0,116,217)\"},\"mode\":\"lines\",\"text\":[\"f\\u00fatbol_rama_certamen_montt_series\",\"\",\"\",\"ancud_deportistas_toros inclusi\\u00f3n_mtb_participaci\\u8d38n\"],\"x\":[1.1499964207152833,1.446650120917862,1.446650120917862,1.349678615828033],\"xaxis\":\"x\",\"y\":[-3040.0,-3040.0,-3070.0,-3070.0],\"yaxis\":\"y\",\"type\":\"scatter\"},{\"hoverinfo\":\"text\",\"marker\":{\"color\":\"rgb(0,116,217)\"},\"mode\":\"lines\",\"text\":[\"aba_atl\\u00e9tico puerto_copa_\\u00e1nimas_puntos\",\"\",\"\",\"ancud_deportistas_toros inclusi\\u00f3n_mtb_participaci\\u8d38n\"],\"x\":[1.0829830043984363,1.717807720270264,1.717807720270264,1.446650120917862],\"xaxis\":\"x\",\"y\":[-3020.0,-3020.0,-3055.0,-3055.0],\"yaxis\":\"y\",\"type\":\"scatter\"},{\"hoverinfo\":\"text\",\"marker\":{\"color\":\"rgb(35,205,205)\"},\"mode\":\"lines\",\"text\":[\"400_medallas_metros vallas tiempo_bustamante_arami\",\"\",\"\",\"metros_juegos_planos_medallas oro_categor\\u00eda\"],\"x\":[0.0,0.926952836335774,0.926952836335774,0.0],\"xaxis\":\"x\",\"y\":[-3095.0,-3095.0,-3105.0,-3105.0],\"yaxis\":\"y\",\"type\":\"scatter\"},{\"hoverinfo\":\"text\",\"marker\":{\"color\":\"rgb(0,116,217)\"},\"mode\":\"lines\",\"text\":[\"b\\u00edo_asociaci\\u00f3n_araucan\\u00eda_4x_varones\",\"\",\"\",\"araucan\\u00eda_juegos araucan\\u00eda_araucan\\u00eda 2021_puntos frente_chilenas\"],\"x\":[0.0,1.2717755569651885,1.2717755569651885,0.0],\"xaxis\":\"x\",\"y\":[-3115.0,-3115.0,-3125.0,-3125.0],\"yaxis\":\"y\",\"type\":\"scatter\"},{\"hoverinfo\":\"text\",\"marker\":{\"color\":\"rgb(0,116,217)\"},\"mode\":\"lines\",\"text\":[\"planos_juegos_400_medallas oro_araucan\\u00eda\",\"\",\"\",\"araucan\\u00eda_juegos araucan\\u00eda_araucan\\u00eda 2021_puntos frente_chilenas\"],\"x\":[0.926952836335774,1.4576408314613372,1.4576408314613372,1.2717755569651885],\"xaxis\":\"x\",\"y\":[-3100.0,-3100.0,-3120.0,-3120.0],\"yaxis\":\"y\",\"type\":\"scatter\"},{\"hoverinfo\":\"text\",\"marker\":{\"color\":\"rgb(0,116,217)\"},\"mode\":\"lines\",\"text\":[\"juegos deportivos escolares_mindep_sub_tenis_ind\",\"\",\"\",\"ind_mindep_f\\u00edsica_actividad_deporte participaci\\u00f3n social\"],\"x\":[0.0,1.1374407699099076,1.1374407699099076,0.0],\"xaxis\":\"x\",\"y\":[-3145.0,-3145.0,-3155.0,-3155.0],\"yaxis\":\"y\",\"type\":\"scatter\"},{\"hoverinfo\":\"text\",\"marker\":{\"color\":\"rgb(0,116,217)\"},\"mode\":\"lines\",\"text\":[\"fondeporte 2022_fondeporte_26 proyectos_deportivos_organizaciones\",\"\",\"\",\"mindep_deportivos_actividad_f\\u00edsica_escolares\"],\"x\":[0.0,1.3101868087065012,1.3101868087065012,1.1374407699099076],\"xaxis\":\"x\",\"y\":[-3135.0,-3135.0,-3150.0,-3150.0],\"yaxis\":\"y\",\"type\":\"scatter\"},{\"hoverinfo\":\"text\",\"marker\":{\"color\":\"rgb(0,116,217)\"},\"mode\":\"lines\",\"text\":[\"ind_mindep_lindemann_juegos deportivos escolares_actividad\",\"\",\"\",\"f\\u00fatbol femenino universidad_deportes regi\\u00f3n lagos_quiero_colodep_consejo local\"],\"x\":[1.3101868087065012,1.3674225769240411,1.3674225769240411,0.0],\"xaxis\":\"x\",\"y\":[-3142.5,-3142.5,-3165.0,-3165.0],\"yaxis\":\"y\",\"type\":\"scatter\"},{\"hoverinfo\":\"text\",\"marker\":{\"color\":\"rgb(0,116,217)\"},\"mode\":\"lines\",\"text\":[\"ind_mindep_lindemann_juegos deportivos escolares_actividad\",\"\",\"\",\"ind_mindep_deportiva_lindemann_deporte claus lindemann\"],\"x\":[1.4576408314613372,1.8051606617059033,1.8051606617059033,1.3674225769240411],\"xaxis\":\"x\",\"y\":[-3110.0,-3110.0,-3153.75,-3153.75],\"yaxis\":\"y\",\"type\":\"scatter\"},{\"hoverinfo\":\"text\",\"marker\":{\"color\":\"rgb(0,116,217)\"},\"mode\":\"lines\",\"text\":[\"ind_mindep_lindemann_juegos deportivos escolares_actividad\",\"\",\"\",\"ind_mindep_deportiva_lindemann_deporte claus lindemann\"],\"x\":[1.717807720270264,2.1375547792474907,2.1375547792474907,1.8051606617059033],\"xaxis\":\"x\",\"y\":[-3037.5,-3037.5,-3131.875,-3131.875],\"yaxis\":\"y\",\"type\":\"scatter\"},{\"hoverinfo\":\"text\",\"marker\":{\"color\":\"rgb(0,116,217)\"},\"mode\":\"lines\",\"text\":[\"fica_bombo_jaivas_humorista_brujas\",\"\",\"\",\"musicales_chora_competencia_cueca_hualaihu\\u00e9\"],\"x\":[0.0,1.2399685620341039,1.2399685620341039,0.0],\"xaxis\":\"x\",\"y\":[-3175.0,-3175.0,-3185.0,-3185.0],\"yaxis\":\"y\",\"type\":\"scatter\"},{\"hoverinfo\":\"text\",\"marker\":{\"color\":\"rgb(0,116,217)\"},\"mode\":\"lines\",\"text\":[\"carelmapu_cultural_duelo regional_chilo\\u00e9_barducci\",\"\",\"\",\"cultura_trayectoria_premio artista regional_emergente_artes\"],\"x\":[0.0,1.2700160471288455,1.2700160471288455,0.0],\"xaxis\":\"x\",\"y\":[-3195.0,-3195.0,-3205.0,-3205.0],\"yaxis\":\"y\",\"type\":\"scatter\"},{\"hoverinfo\":\"text\",\"marker\":{\"color\":\"rgb(0,116,217)\"},\"mode\":\"lines\",\"text\":[\"carelmapu_cultural_duelo regional_chilo\\u00e9_barducci\",\"\",\"\",\"hospital puerto montt_escultor_hpm_pandemia_jard\\u00edn infinito\"],\"x\":[1.2700160471288455,1.3740704546643494,1.3740704546643494,0.0],\"xaxis\":\"x\",\"y\":[-3200.0,-3200.0,-3215.0,-3215.0],\"yaxis\":\"y\",\"type\":\"scatter\"},{\"hoverinfo\":\"text\",\"marker\":{\"color\":\"rgb(0,116,217)\"},\"mode\":\"lines\",\"text\":[\"bombo fica_cueca_competencia_festival osorno leche_jaivas\",\"\",\"\",\"hospital puerto montt_escultor_hpm_pandemia_jard\\u00edn infinito\"],\"x\":[1.2399685620341039,1.5336029216752876,1.5336029216752876,1.3740704546643494],\"xaxis\":\"x\",\"y\":[-3180.0,-3180.0,-3207.5,-3207.5],\"yaxis\":\"y\",\"type\":\"scatter\"},{\"hoverinfo\":\"text\",\"marker\":{\"color\":\"rgb(0,116,217)\"},\"mode\":\"lines\",\"text\":[\"vacarezza_karen_esposa rafael araneda_doggenweiler_cordero\",\"\",\"\",\"ximena schott_schott_ximena_sacar arma_fernanda nieto\"],\"x\":[0.0,1.3883524543392356,1.3883524543392356,0.0],\"xaxis\":\"x\",\"y\":[-3225.0,-3225.0,-3235.0,-3235.0],\"yaxis\":\"y\",\"type\":\"scatter\"},{\"hoverinfo\":\"text\",\"marker\":{\"color\":\"rgb(0,116,217)\"},\"mode\":\"lines\",\"text\":[\"raquel_montecarmelo_sello excelencia artesan\\u00eda_cester\\u00eda_sogas\",\"\",\"\",\"blanco 324 of_bomberos132 carabineros133_bomberos132_propietario sociedad_investigaciones134 emergencia mar\\u00edtima137\"],\"x\":[0.0,1.4158052757588777,1.4158052757588777,0.0],\"xaxis\":\"x\",\"y\":[-3245.0,-3245.0,-3255.0,-3255.0],\"yaxis\":\"y\",\"type\":\"scatter\"},{\"hoverinfo\":\"text\",\"marker\":{\"color\":\"rgb(0,116,217)\"},\"mode\":\"lines\",\"text\":[\"raquel_montecarmelo_sello excelencia artesan\\u00eda_cester\\u00eda_sogas\",\"\",\"\",\"corea_misil hipers\\u00f3nico_norte_pionyang_jap\\u00f3n\"],\"x\":[1.4158052757588777,1.423472350504511,1.423472350504511,0.0],\"xaxis\":\"x\",\"y\":[-3250.0,-3250.0,-3265.0,-3265.0],\"yaxis\":\"y\",\"type\":\"scatter\"},{\"hoverinfo\":\"text\",\"marker\":{\"color\":\"rgb(0,116,217)\"},\"mode\":\"lines\",\"text\":[\"raquel_montecarmelo_sello excelencia artesan\\u00eda_cester\\u00eda_sogas\",\"\",\"\",\"corea_misil hipers\\u00f3nico_norte_pionyang_jap\\u00f3n\"],\"x\":[1.3883524543392356,1.437547597080659,1.437547597080659,1.423472350504511],\"xaxis\":\"x\",\"y\":[-3230.0,-3230.0,-3257.5,-3257.5],\"yaxis\":\"y\",\"type\":\"scatter\"},{\"hoverinfo\":\"text\",\"marker\":{\"color\":\"rgb(0,116,217)\"},\"mode\":\"lines\",\"text\":[\"arte_obra_gogh_torlonia_lisa\",\"\",\"\",\"beethoven_cantora_compa\\u00f1era viaje_teatro_soffia\"],\"x\":[0.0,1.3947508557791461,1.3947508557791461,0.0],\"xaxis\":\"x\",\"y\":[-3275.0,-3275.0,-3285.0,-3285.0],\"yaxis\":\"y\",\"type\":\"scatter\"},{\"hoverinfo\":\"text\",\"marker\":{\"color\":\"rgb(0,116,217)\"},\"mode\":\"lines\",\"text\":[\"arte_obra_gogh_torlonia_lisa\",\"\",\"\",\"cultura_aforos_jaivas_vivo_piedra joe\"],\"x\":[1.3947508557791461,1.3995327741129213,1.3995327741129213,0.0],\"xaxis\":\"x\",\"y\":[-3280.0,-3280.0,-3295.0,-3295.0],\"yaxis\":\"y\",\"type\":\"scatter\"},{\"hoverinfo\":\"text\",\"marker\":{\"color\":\"rgb(0,116,217)\"},\"mode\":\"lines\",\"text\":[\"arte_obra_gogh_torlonia_lisa\",\"\",\"\",\"cultura_aforos_jaivas_vivo_piedra joe\"],\"x\":[1.437547597080659,1.453188125895359,1.453188125895359,1.3995327741129213],\"xaxis\":\"x\",\"y\":[-3243.75,-3243.75,-3287.5,-3287.5],\"yaxis\":\"y\",\"type\":\"scatter\"},{\"hoverinfo\":\"text\",\"marker\":{\"color\":\"rgb(0,116,217)\"},\"mode\":\"lines\",\"text\":[\"hiriart_luc\\u00eda_dama_apartheid_garret\\u00f3n\",\"\",\"\",\"caszely_isabel ii_carlos_camilla_consorte\"],\"x\":[0.0,1.3575535865440156,1.3575535865440156,0.0],\"xaxis\":\"x\",\"y\":[-3315.0,-3315.0,-3325.0,-3325.0],\"yaxis\":\"y\",\"type\":\"scatter\"},{\"hoverinfo\":\"text\",\"marker\":{\"color\":\"rgb(0,116,217)\"},\"mode\":\"lines\",\"text\":[\"hiriart_luc\\u00eda_dama_apartheid_garret\\u00f3n\",\"\",\"\",\"leonel_1962_chile_sifup_aramburu\"],\"x\":[1.3575535865440156,1.3818868001235558,1.3818868001235558,0.0],\"xaxis\":\"x\",\"y\":[-3320.0,-3320.0,-3335.0,-3335.0],\"yaxis\":\"y\",\"type\":\"scatter\"},{\"hoverinfo\":\"text\",\"marker\":{\"color\":\"rgb(0,116,217)\"},\"mode\":\"lines\",\"text\":[\"yarur_weitzler_ex_dar\\u00edo_juan carlos yarur\",\"\",\"\",\"leonel_1962_chile_sifup_aramburu\"],\"x\":[0.0,1.3933063386796323,1.3933063386796323,1.3818868001235558],\"xaxis\":\"x\",\"y\":[-3305.0,-3305.0,-3327.5,-3327.5],\"yaxis\":\"y\",\"type\":\"scatter\"},{\"hoverinfo\":\"text\",\"marker\":{\"color\":\"rgb(0,116,217)\"},\"mode\":\"lines\",\"text\":[\"yarur_weitzler_ex_dar\\u00edo_juan carlos yarur\",\"\",\"\",\"leonel_1962_chile_sifup_aramburu\"],\"x\":[1.453188125895359,1.5032567929784764,1.5032567929784764,1.3933063386796323],\"xaxis\":\"x\",\"y\":[-3265.625,-3265.625,-3316.25,-3316.25],\"yaxis\":\"y\",\"type\":\"scatter\"},{\"hoverinfo\":\"text\",\"marker\":{\"color\":\"rgb(0,116,217)\"},\"mode\":\"lines\",\"text\":[\"misa_ramos_santa_v\\u00eda_inmaculada\",\"\",\"\",\"monse\\u00f1or_vald\\u00e9s_francisco vald\\u00e9s_dios_catedral san mateo\"],\"x\":[0.0,1.2394200220166378,1.2394200220166378,0.0],\"xaxis\":\"x\",\"y\":[-3345.0,-3345.0,-3355.0,-3355.0],\"yaxis\":\"y\",\"type\":\"scatter\"},{\"hoverinfo\":\"text\",\"marker\":{\"color\":\"rgb(0,116,217)\"},\"mode\":\"lines\",\"text\":[\"monse\\u00f1or_fieles_vald\\u00e9s_parroquias_v\\u00eda crucis\",\"\",\"\",\"sexuales_ratzinger_papa em\\u00e9rito_dimisi\\u00f3n_casos\"],\"x\":[1.2394200220166378,1.3659185642322624,1.3659185642322624,0.0],\"xaxis\":\"x\",\"y\":[-3350.0,-3350.0,-3365.0,-3365.0],\"yaxis\":\"y\",\"type\":\"scatter\"},{\"hoverinfo\":\"text\",\"marker\":{\"color\":\"rgb(0,116,217)\"},\"mode\":\"lines\",\"text\":[\"monse\\u00f1or_fieles_vald\\u00e9s_parroquias_v\\u00eda crucis\",\"\",\"\",\"monse\\u00f1or_iglesia cat\\u00f3lica_papa_ramos_francisco\"],\"x\":[1.5032567929784764,1.576592399417893,1.576592399417893,1.3659185642322624],\"xaxis\":\"x\",\"y\":[-3290.9375,-3290.9375,-3357.5,-3357.5],\"yaxis\":\"y\",\"type\":\"scatter\"},{\"hoverinfo\":\"text\",\"marker\":{\"color\":\"rgb(0,116,217)\"},\"mode\":\"lines\",\"text\":[\"monse\\u00f1or_fieles_vald\\u00e9s_parroquias_v\\u00eda crucis\",\"\",\"\",\"monse\\u00f1or_iglesia cat\\u00f3lica_papa_ramos_francisco\"],\"x\":[1.5336029216752876,1.6040614087928486,1.6040614087928486,1.576592399417893],\"xaxis\":\"x\",\"y\":[-3193.75,-3193.75,-3324.21875,-3324.21875],\"yaxis\":\"y\",\"type\":\"scatter\"},{\"hoverinfo\":\"text\",\"marker\":{\"color\":\"rgb(0,116,217)\"},\"mode\":\"lines\",\"text\":[\"djokovic_novak_serbio_nole_vacunado\",\"\",\"\",\"tabilo_garin_jarry_64_63\"],\"x\":[0.0,1.1301285783758113,1.1301285783758113,0.0],\"xaxis\":\"x\",\"y\":[-3375.0,-3375.0,-3385.0,-3385.0],\"yaxis\":\"y\",\"type\":\"scatter\"},{\"hoverinfo\":\"text\",\"marker\":{\"color\":\"rgb(0,116,217)\"},\"mode\":\"lines\",\"text\":[\"rally_cornejo_general_sunderland_ligeros\",\"\",\"\",\"r2_p\\u00e9rez_rc4_categor\\u00eda_segundo\"],\"x\":[0.0,1.1636973927101304,1.1636973927101304,0.0],\"xaxis\":\"x\",\"y\":[-3405.0,-3405.0,-3415.0,-3415.0],\"yaxis\":\"y\",\"type\":\"scatter\"},{\"hoverinfo\":\"text\",\"marker\":{\"color\":\"rgb(0,116,217)\"},\"mode\":\"lines\",\"text\":[\"verstappen_gran premio_leclerc_neerland\\u00e9s_mercedes\",\"\",\"\",\"rally_cornejo_categor\\u00eda_segundo_r2\"],\"x\":[0.0,1.3433257777410417,1.3433257777410417,1.1636973927101304],\"xaxis\":\"x\",\"y\":[-3395.0,-3395.0,-3410.0,-3410.0],\"yaxis\":\"y\",\"type\":\"scatter\"},{\"hoverinfo\":\"text\",\"marker\":{\"color\":\"rgb(0,116,217)\"},\"mode\":\"lines\",\"text\":[\"niemann_joaqu\\u00edn niemann_augusta_golf_woods\",\"\",\"\",\"endler_christiane endler_christiane_lyon_iffhs\"],\"x\":[0.0,1.3954001427732263,1.3954001427732263,0.0],\"xaxis\":\"x\",\"y\":[-3435.0,-3435.0,-3445.0,-3445.0],\"yaxis\":\"y\",\"type\":\"scatter\"},{\"hoverinfo\":\"text\",\"marker\":{\"color\":\"rgb(0,116,217)\"},\"mode\":\"lines\",\"text\":[\"rancagua_rienda_caballos_asociaci\\u00f3n_mohr\",\"\",\"\",\"endler_christiane endler_christiane_lyon_iffhs\"],\"x\":[0.0,1.4104565427221123,1.4104565427221123,1.3954001427732263],\"xaxis\":\"x\",\"y\":[-3425.0,-3425.0,-3440.0,-3440.0],\"yaxis\":\"y\",\"type\":\"scatter\"},{\"hoverinfo\":\"text\",\"marker\":{\"color\":\"rgb(0,116,217)\"},\"mode\":\"lines\",\"text\":[\"rancagua_rienda_caballos_asociaci\\u00f3n_mohr\",\"\",\"\",\"endler_christiane endler_christiane_lyon_iffhs\"],\"x\":[1.3433257777410417,1.4806861896611314,1.4806861896611314,1.4104565427221123],\"xaxis\":\"x\",\"y\":[-3402.5,-3402.5,-3432.5,-3432.5],\"yaxis\":\"y\",\"type\":\"scatter\"},{\"hoverinfo\":\"text\",\"marker\":{\"color\":\"rgb(0,116,217)\"},\"mode\":\"lines\",\"text\":[\"djokovic_tabilo_garin_jarry_novak\",\"\",\"\",\"endler_christiane endler_christiane_lyon_iffhs\"],\"x\":[1.1301285783758113,1.6015988107894805,1.6015988107894805,1.4806861896611314],\"xaxis\":\"x\",\"y\":[-3380.0,-3380.0,-3417.5,-3417.5],\"yaxis\":\"y\",\"type\":\"scatter\"},{\"hoverinfo\":\"text\",\"marker\":{\"color\":\"rgb(0,116,217)\"},\"mode\":\"lines\",\"text\":[\"djokovic_tabilo_garin_jarry_novak\",\"\",\"\",\"endler_christiane endler_christiane_lyon_iffhs\"],\"x\":[1.6040614087928486,1.8281286548954105,1.8281286548954105,1.6015988107894805],\"xaxis\":\"x\",\"y\":[-3258.984375,-3258.984375,-3398.75,-3398.75],\"yaxis\":\"y\",\"type\":\"scatter\"},{\"hoverinfo\":\"text\",\"marker\":{\"color\":\"rgb(0,116,217)\"},\"mode\":\"lines\",\"text\":[\"wimbledon_itf_federaci\\u00f3n_invasi\\u00f3n_f\\u00fatbol\",\"\",\"\",\"millones_refugiados ucranianos_onu_afganist\\u00e1n_moldavia\"],\"x\":[0.0,1.3348618182572143,1.3348618182572143,0.0],\"xaxis\":\"x\",\"y\":[-3455.0,-3455.0,-3465.0,-3465.0],\"yaxis\":\"y\",\"type\":\"scatter\"},{\"hoverinfo\":\"text\",\"marker\":{\"color\":\"rgb(0,116,217)\"},\"mode\":\"lines\",\"text\":[\"canal mancha_unido_naufragio_johnson_cruzar frontera\",\"\",\"\",\"downing street_downing_boris_fiestas_peng\"],\"x\":[0.0,1.2901156338061142,1.2901156338061142,0.0],\"xaxis\":\"x\",\"y\":[-3475.0,-3475.0,-3485.0,-3485.0],\"yaxis\":\"y\",\"type\":\"scatter\"},{\"hoverinfo\":\"text\",\"marker\":{\"color\":\"rgb(0,116,217)\"},\"mode\":\"lines\",\"text\":[\"taiw\\u00e1n_pek\\u00edn_soberan\\u00eda_argentina_xi\",\"\",\"\",\"kazajist\\u00e1n_almaty_siria_rehenes_primer ministro\"],\"x\":[0.0,1.333171691706836,1.333171691706836,0.0],\"xaxis\":\"x\",\"y\":[-3495.0,-3495.0,-3505.0,-3505.0],\"yaxis\":\"y\",\"type\":\"scatter\"},{\"hoverinfo\":\"text\",\"marker\":{\"color\":\"rgb(0,116,217)\"},\"mode\":\"lines\",\"text\":[\"downing_boris_fiestas_reino unido_starmer\",\"\",\"\",\"kazajist\\u00e1n_almaty_siria_rehenes_primer ministro\"],\"x\":[1.2901156338061142,1.3657737210411964,1.3657737210411964,1.333171691706836],\"xaxis\":\"x\",\"y\":[-3480.0,-3480.0,-3500.0,-3500.0],\"yaxis\":\"y\",\"type\":\"scatter\"},{\"hoverinfo\":\"text\",\"marker\":{\"color\":\"rgb(0,116,217)\"},\"mode\":\"lines\",\"text\":[\"downing_boris_fiestas_reino unido_starmer\",\"\",\"\",\"kazajist\\u00e1n_almaty_siria_rehenes_primer ministro\"],\"x\":[1.3348618182572143,1.439081877680949,1.439081877680949,1.3657737210411964],\"xaxis\":\"x\",\"y\":[-3460.0,-3460.0,-3490.0,-3490.0],\"yaxis\":\"y\",\"type\":\"scatter\"},{\"hoverinfo\":\"text\",\"marker\":{\"color\":\"rgb(0,116,217)\"},\"mode\":\"lines\",\"text\":[\"escaz\\u00fa_acuerdo escaz\\u00fa_democracia_cumbre am\\u00e9ricas_am\\u00e9rica latina caribe\",\"\",\"\",\"boric_argentina_escaz\\u00fa_relaciones diplom\\u00e1ticas_celac\"],\"x\":[0.0,1.2948912093147675,1.2948912093147675,0.0],\"xaxis\":\"x\",\"y\":[-3525.0,-3525.0,-3535.0,-3535.0],\"yaxis\":\"y\",\"type\":\"scatter\"},{\"hoverinfo\":\"text\",\"marker\":{\"color\":\"rgb(0,116,217)\"},\"mode\":\"lines\",\"text\":[\"escaz\\u00fa_acuerdo escaz\\u00fa_democracia_cumbre am\\u00e9ricas_am\\u00e9rica latina caribe\",\"\",\"\",\"electoral_daniel ortega_sandinista_legitimidad_asamblea nacional\"],\"x\":[1.2948912093147675,1.3483205014255666,1.3483205014255666,0.0],\"xaxis\":\"x\",\"y\":[-3530.0,-3530.0,-3545.0,-3545.0],\"yaxis\":\"y\",\"type\":\"scatter\"},{\"hoverinfo\":\"text\",\"marker\":{\"color\":\"rgb(0,116,217)\"},\"mode\":\"lines\",\"text\":[\"silala_alegatos orales_corte_agente_r\\u00edo internacional\",\"\",\"\",\"electoral_daniel ortega_sandinista_legitimidad_asamblea nacional\"],\"x\":[0.0,1.377271053915381,1.377271053915381,1.3483205014255666],\"xaxis\":\"x\",\"y\":[-3515.0,-3515.0,-3537.5,-3537.5],\"yaxis\":\"y\",\"type\":\"scatter\"},{\"hoverinfo\":\"text\",\"marker\":{\"color\":\"rgb(0,116,217)\"},\"mode\":\"lines\",\"text\":[\"scholz_spd_testera_elizalde_ossand\\u00f3n\",\"\",\"\",\"karina oliva_servel_ciper_137 millones_apruebo\"],\"x\":[0.0,1.3774601930726686,1.3774601930726686,0.0],\"xaxis\":\"x\",\"y\":[-3565.0,-3565.0,-3575.0,-3575.0],\"yaxis\":\"y\",\"type\":\"scatter\"},{\"hoverinfo\":\"text\",\"marker\":{\"color\":\"rgb(0,116,217)\"},\"mode\":\"lines\",\"text\":[\"cores_elecciones chile_21 noviembre_candidatos consejeros regionales_circunscripci\\u00f3n\",\"\",\"\",\"karina oliva_servel_ciper_137 millones_apruebo\"],\"x\":[0.0,1.4236303257852123,1.4236303257852123,1.3774601930726686],\"xaxis\":\"x\",\"y\":[-3555.0,-3555.0,-3570.0,-3570.0],\"yaxis\":\"y\",\"type\":\"scatter\"},{\"hoverinfo\":\"text\",\"marker\":{\"color\":\"rgb(0,116,217)\"},\"mode\":\"lines\",\"text\":[\"parejas_sexo_civil_iguales_ley matrimonio igualitario\",\"\",\"\",\"c\\u00e9dulas_identidad_oficinas_t\\u00f3tem_ministro justicia\"],\"x\":[0.0,1.3350782469991105,1.3350782469991105,0.0],\"xaxis\":\"x\",\"y\":[-3585.0,-3585.0,-3595.0,-3595.0],\"yaxis\":\"y\",\"type\":\"scatter\"},{\"hoverinfo\":\"text\",\"marker\":{\"color\":\"rgb(0,116,217)\"},\"mode\":\"lines\",\"text\":[\"parejas_sexo_civil_iguales_ley matrimonio igualitario\",\"\",\"\",\"registro civil_parejas_sexo_iguales_amor\"],\"x\":[1.4236303257852123,1.482194699861463,1.482194699861463,1.3350782469991105],\"xaxis\":\"x\",\"y\":[-3562.5,-3562.5,-3590.0,-3590.0],\"yaxis\":\"y\",\"type\":\"scatter\"},{\"hoverinfo\":\"text\",\"marker\":{\"color\":\"rgb(0,116,217)\"},\"mode\":\"lines\",\"text\":[\"parejas_sexo_civil_iguales_ley matrimonio igualitario\",\"\",\"\",\"registro civil_parejas_sexo_iguales_amor\"],\"x\":[1.377271053915381,1.5172063455167857,1.5172063455167857,1.482194699861463],\"xaxis\":\"x\",\"y\":[-3526.25,-3526.25,-3576.25,-3576.25],\"yaxis\":\"y\",\"type\":\"scatter\"},{\"hoverinfo\":\"text\",\"marker\":{\"color\":\"rgb(0,116,217)\"},\"mode\":\"lines\",\"text\":[\"documentos_bannon_expresidente_donald_fujimori\",\"\",\"\",\"cabo verde_maduro_fujimori_expresidente_venezuela\"],\"x\":[0.0,1.327470887276598,1.327470887276598,0.0],\"xaxis\":\"x\",\"y\":[-3615.0,-3615.0,-3625.0,-3625.0],\"yaxis\":\"y\",\"type\":\"scatter\"},{\"hoverinfo\":\"text\",\"marker\":{\"color\":\"rgb(0,116,217)\"},\"mode\":\"lines\",\"text\":[\"saab_expresidente_fujimori_capitolio_maduro\",\"\",\"\",\"pandora papers_para\\u00edsos fiscales_millones d\\u00f3lares_islas v\\u00edrgenes brit\\u00e1nicas_suisse\"],\"x\":[1.327470887276598,1.3944802357253325,1.3944802357253325,0.0],\"xaxis\":\"x\",\"y\":[-3620.0,-3620.0,-3635.0,-3635.0],\"yaxis\":\"y\",\"type\":\"scatter\"},{\"hoverinfo\":\"text\",\"marker\":{\"color\":\"rgb(0,116,217)\"},\"mode\":\"lines\",\"text\":[\"semanas gestaci\\u00f3n_cl\\u00ednicas_1973_ley texas_facultativos\",\"\",\"\",\"pandora papers_para\\u00edsos fiscales_millones d\\u00f3lares_islas v\\u00edrgenes brit\\u00e1nicas_suisse\"],\"x\":[0.0,1.4058941142725834,1.4058941142725834,1.3944802357253325],\"xaxis\":\"x\",\"y\":[-3605.0,-3605.0,-3627.5,-3627.5],\"yaxis\":\"y\",\"type\":\"scatter\"},{\"hoverinfo\":\"text\",\"marker\":{\"color\":\"rgb(0,116,217)\"},\"mode\":\"lines\",\"text\":[\"izurieta_malversaci\\u00f3n caudales p\\u00fablicos_arraigo_espinosa_rutherford\",\"\",\"\",\"sexual_criminal_trata_organizaci\\u00f3n_personas fines explotaci\\u00f3n\"],\"x\":[0.0,1.349064362196185,1.349064362196185,0.0],\"xaxis\":\"x\",\"y\":[-3645.0,-3645.0,-3655.0,-3655.0],\"yaxis\":\"y\",\"type\":\"scatter\"},{\"hoverinfo\":\"text\",\"marker\":{\"color\":\"rgb(0,116,217)\"},\"mode\":\"lines\",\"text\":[\"izurieta_malversaci\\u00f3n caudales p\\u00fablicos_arraigo_espinosa_rutherford\",\"\",\"\",\"sexual_criminal_trata_organizaci\\u00f3n_personas fines explotaci\\u00f3n\"],\"x\":[1.4058941142725834,1.4332300289179303,1.4332300289179303,1.349064362196185],\"xaxis\":\"x\",\"y\":[-3616.25,-3616.25,-3650.0,-3650.0],\"yaxis\":\"y\",\"type\":\"scatter\"},{\"hoverinfo\":\"text\",\"marker\":{\"color\":\"rgb(0,116,217)\"},\"mode\":\"lines\",\"text\":[\"izurieta_malversaci\\u00f3n caudales p\\u00fablicos_arraigo_espinosa_rutherford\",\"\",\"\",\"sexual_criminal_trata_organizaci\\u00f3n_personas fines explotaci\\u00f3n\"],\"x\":[1.5172063455167857,1.5477605423086116,1.5477605423086116,1.4332300289179303],\"xaxis\":\"x\",\"y\":[-3551.25,-3551.25,-3633.125,-3633.125],\"yaxis\":\"y\",\"type\":\"scatter\"},{\"hoverinfo\":\"text\",\"marker\":{\"color\":\"rgb(0,116,217)\"},\"mode\":\"lines\",\"text\":[\"m\\u00e1quinas_querellas_corte suprema_patente_destreza\",\"\",\"\",\"fallo_bomberos r\\u00edo_trabajadora_sala tribunal alzada_sanci\\u00f3n\"],\"x\":[0.0,1.2640102387183367,1.2640102387183367,0.0],\"xaxis\":\"x\",\"y\":[-3675.0,-3675.0,-3685.0,-3685.0],\"yaxis\":\"y\",\"type\":\"scatter\"},{\"hoverinfo\":\"text\",\"marker\":{\"color\":\"rgb(0,116,217)\"},\"mode\":\"lines\",\"text\":[\"corte_juez_apelaciones puerto montt_juramento_titular\",\"\",\"\",\"casinos_populares_corte apelaciones valdivia_m\\u00e1quinas_patente\"],\"x\":[0.0,1.2822882769143904,1.2822882769143904,1.2640102387183367],\"xaxis\":\"x\",\"y\":[-3665.0,-3665.0,-3680.0,-3680.0],\"yaxis\":\"y\",\"type\":\"scatter\"},{\"hoverinfo\":\"text\",\"marker\":{\"color\":\"rgb(0,116,217)\"},\"mode\":\"lines\",\"text\":[\"corte_juez_apelaciones puerto montt_juramento_titular\",\"\",\"\",\"casinos_populares_juzgado_corte apelaciones valdivia_fallo\"],\"x\":[1.5477605423086116,1.6607184820623047,1.6607184820623047,1.2822882769143904],\"xaxis\":\"x\",\"y\":[-3592.1875,-3592.1875,-3672.5,-3672.5],\"yaxis\":\"y\",\"type\":\"scatter\"},{\"hoverinfo\":\"text\",\"marker\":{\"color\":\"rgb(0,116,217)\"},\"mode\":\"lines\",\"text\":[\"corte_juez_apelaciones puerto montt_juramento_titular\",\"\",\"\",\"casinos_populares_juzgado_corte apelaciones valdivia_fallo\"],\"x\":[1.439081877680949,1.7067101222887529,1.7067101222887529,1.6607184820623047],\"xaxis\":\"x\",\"y\":[-3475.0,-3475.0,-3632.34375,-3632.34375],\"yaxis\":\"y\",\"type\":\"scatter\"},{\"hoverinfo\":\"text\",\"marker\":{\"color\":\"rgb(0,116,217)\"},\"mode\":\"lines\",\"text\":[\"corte_juez_apelaciones puerto montt_juramento_titular\",\"\",\"\",\"casinos_populares_juzgado_corte apelaciones valdivia_fallo\"],\"x\":[1.8281286548954105,1.9113630065978247,1.9113630065978247,1.7067101222887529],\"xaxis\":\"x\",\"y\":[-3328.8671875,-3328.8671875,-3553.671875,-3553.671875],\"yaxis\":\"y\",\"type\":\"scatter\"},{\"hoverinfo\":\"text\",\"marker\":{\"color\":\"rgb(0,116,217)\"},\"mode\":\"lines\",\"text\":[\"suministro agua_essal_600 401 4000_600 401_401 4000\",\"\",\"\",\"corte programado_clientes_luz_sectores_mejoramiento asegurar servicio\"],\"x\":[0.0,1.3204652197627402,1.3204652197627402,0.0],\"xaxis\":\"x\",\"y\":[-3705.0,-3705.0,-3715.0,-3715.0],\"yaxis\":\"y\",\"type\":\"scatter\"},{\"hoverinfo\":\"text\",\"marker\":{\"color\":\"rgb(0,116,217)\"},\"mode\":\"lines\",\"text\":[\"escalera_ricke_essal_tramos_reposici\\u00f3n\",\"\",\"\",\"corte programado_clientes_luz_sectores_mejoramiento asegurar servicio\"],\"x\":[0.0,1.3823741025554137,1.3823741025554137,1.3204652197627402],\"xaxis\":\"x\",\"y\":[-3695.0,-3695.0,-3710.0,-3710.0],\"yaxis\":\"y\",\"type\":\"scatter\"},{\"hoverinfo\":\"text\",\"marker\":{\"color\":\"rgb(0,116,217)\"},\"mode\":\"lines\",\"text\":[\"saesa_fontecilla_servicio cliente saesa_800 600_800 600 801\",\"\",\"\",\"deuda_saesa_31_ley servicios_consumo promedio mensual\"],\"x\":[0.0,1.2446143936300205,1.2446143936300205,0.0],\"xaxis\":\"x\",\"y\":[-3725.0,-3725.0,-3735.0,-3735.0],\"yaxis\":\"y\",\"type\":\"scatter\"},{\"hoverinfo\":\"text\",\"marker\":{\"color\":\"rgb(0,116,217)\"},\"mode\":\"lines\",\"text\":[\"saesa_fontecilla_servicio cliente saesa_800 600_800 600 801\",\"\",\"\",\"saesa_cuotas_servicio cliente saesa_800 600_b\\u00e1sicos\"],\"x\":[1.3823741025554137,1.456770310206173,1.456770310206173,1.2446143936300205],\"xaxis\":\"x\",\"y\":[-3702.5,-3702.5,-3730.0,-3730.0],\"yaxis\":\"y\",\"type\":\"scatter\"},{\"hoverinfo\":\"text\",\"marker\":{\"color\":\"rgb(0,116,217)\"},\"mode\":\"lines\",\"text\":[\"nave_efectuando_mar\\u00edtima_capitan\\u00eda_incautaci\\u00f3n\",\"\",\"\",\"sernapesca_caleta bay_calbuco_ejemplares_san antonio\"],\"x\":[0.0,1.3652382494923032,1.3652382494923032,0.0],\"xaxis\":\"x\",\"y\":[-3745.0,-3745.0,-3755.0,-3755.0],\"yaxis\":\"y\",\"type\":\"scatter\"},{\"hoverinfo\":\"text\",\"marker\":{\"color\":\"rgb(0,116,217)\"},\"mode\":\"lines\",\"text\":[\"santa_plan_puntos control_aduana puerto montt_servicios\",\"\",\"\",\"sistema t\\u00e1ctico_operaci\\u00f3n policial_il\\u00edcitos_alza_carabineros comunidad\"],\"x\":[0.0,1.3936262337881458,1.3936262337881458,0.0],\"xaxis\":\"x\",\"y\":[-3765.0,-3765.0,-3775.0,-3775.0],\"yaxis\":\"y\",\"type\":\"scatter\"},{\"hoverinfo\":\"text\",\"marker\":{\"color\":\"rgb(0,116,217)\"},\"mode\":\"lines\",\"text\":[\"santa_plan_puntos control_aduana puerto montt_servicios\",\"\",\"\",\"sistema t\\u00e1ctico_operaci\\u00f3n policial_il\\u00edcitos_alza_carabineros comunidad\"],\"x\":[1.3652382494923032,1.44762660949678,1.44762660949678,1.3936262337881458],\"xaxis\":\"x\",\"y\":[-3750.0,-3750.0,-3770.0,-3770.0],\"yaxis\":\"y\",\"type\":\"scatter\"},{\"hoverinfo\":\"text\",\"marker\":{\"color\":\"rgb(0,116,217)\"},\"mode\":\"lines\",\"text\":[\"medidas control_motivos seguridad_cierre calles pasajes_continuas_terminal\",\"\",\"\",\"multas_vial_conaset_uso celulares_conductas\"],\"x\":[0.0,1.3722176845776943,1.3722176845776943,0.0],\"xaxis\":\"x\",\"y\":[-3785.0,-3785.0,-3795.0,-3795.0],\"yaxis\":\"y\",\"type\":\"scatter\"},{\"hoverinfo\":\"text\",\"marker\":{\"color\":\"rgb(0,116,217)\"},\"mode\":\"lines\",\"text\":[\"solo uso_pl\\u00e1sticos_plumavit_bombillas_expendio\",\"\",\"\",\"consumidores_sernac_garant\\u00eda legal_ley_derecho\"],\"x\":[0.0,1.3646382458755766,1.3646382458755766,0.0],\"xaxis\":\"x\",\"y\":[-3805.0,-3805.0,-3815.0,-3815.0],\"yaxis\":\"y\",\"type\":\"scatter\"},{\"hoverinfo\":\"text\",\"marker\":{\"color\":\"rgb(0,116,217)\"},\"mode\":\"lines\",\"text\":[\"solo uso_pl\\u00e1sticos_plumavit_bombillas_expendio\",\"\",\"\",\"consumidores_sernac_garant\\u00eda legal_ley_derecho\"],\"x\":[1.3722176845776943,1.3943132794946436,1.3943132794946436,1.3646382458755766],\"xaxis\":\"x\",\"y\":[-3790.0,-3790.0,-3810.0,-3810.0],\"yaxis\":\"y\",\"type\":\"scatter\"},{\"hoverinfo\":\"text\",\"marker\":{\"color\":\"rgb(0,116,217)\"},\"mode\":\"lines\",\"text\":[\"d\\u00edas a\\u00f1os_ley sanciona comercio_relegaci\\u00f3n_desbaratar bandas_presidio\",\"\",\"\",\"trabajadores_irrenunciables_malls strip center_feriado obligatorio_comercio\"],\"x\":[0.0,1.3852097051653325,1.3852097051653325,0.0],\"xaxis\":\"x\",\"y\":[-3825.0,-3825.0,-3835.0,-3835.0],\"yaxis\":\"y\",\"type\":\"scatter\"},{\"hoverinfo\":\"text\",\"marker\":{\"color\":\"rgb(0,116,217)\"},\"mode\":\"lines\",\"text\":[\"fonasa_devoluci\\u00f3n cotizaciones pagadas_exceso_rut_pago\",\"\",\"\",\"chileatiende_estafa_denuncias_beneficios_funcionarios\"],\"x\":[0.0,1.4004117228174513,1.4004117228174513,0.0],\"xaxis\":\"x\",\"y\":[-3845.0,-3845.0,-3855.0,-3855.0],\"yaxis\":\"y\",\"type\":\"scatter\"},{\"hoverinfo\":\"text\",\"marker\":{\"color\":\"rgb(0,116,217)\"},\"mode\":\"lines\",\"text\":[\"fonasa_devoluci\\u00f3n cotizaciones pagadas_exceso_rut_pago\",\"\",\"\",\"chileatiende_estafa_denuncias_beneficios_funcionarios\"],\"x\":[1.3852097051653325,1.430886972496187,1.430886972496187,1.4004117228174513],\"xaxis\":\"x\",\"y\":[-3830.0,-3830.0,-3850.0,-3850.0],\"yaxis\":\"y\",\"type\":\"scatter\"},{\"hoverinfo\":\"text\",\"marker\":{\"color\":\"rgb(0,116,217)\"},\"mode\":\"lines\",\"text\":[\"fonasa_devoluci\\u00f3n cotizaciones pagadas_exceso_rut_pago\",\"\",\"\",\"chileatiende_estafa_denuncias_beneficios_funcionarios\"],\"x\":[1.3943132794946436,1.4589907092249574,1.4589907092249574,1.430886972496187],\"xaxis\":\"x\",\"y\":[-3800.0,-3800.0,-3840.0,-3840.0],\"yaxis\":\"y\",\"type\":\"scatter\"},{\"hoverinfo\":\"text\",\"marker\":{\"color\":\"rgb(0,116,217)\"},\"mode\":\"lines\",\"text\":[\"fonasa_devoluci\\u00f3n cotizaciones pagadas_exceso_rut_pago\",\"\",\"\",\"chileatiende_estafa_denuncias_beneficios_funcionarios\"],\"x\":[1.44762660949678,1.5135474360677825,1.5135474360677825,1.4589907092249574],\"xaxis\":\"x\",\"y\":[-3760.0,-3760.0,-3820.0,-3820.0],\"yaxis\":\"y\",\"type\":\"scatter\"},{\"hoverinfo\":\"text\",\"marker\":{\"color\":\"rgb(0,116,217)\"},\"mode\":\"lines\",\"text\":[\"interesados deben dirigirse_manera gratuita ex\\u00e1menes_activa casos covid19_pcr disponibilidad_disponibilidad partir\",\"\",\"\",\"lebron_nba_asistencias_curry_knicks\"],\"x\":[0.0,1.416368548003995,1.416368548003995,0.0],\"xaxis\":\"x\",\"y\":[-3875.0,-3875.0,-3885.0,-3885.0],\"yaxis\":\"y\",\"type\":\"scatter\"},{\"hoverinfo\":\"text\",\"marker\":{\"color\":\"rgb(0,116,217)\"},\"mode\":\"lines\",\"text\":[\"superficiales_datum_permanente continuo_consuntivo_solicitud derecho\",\"\",\"\",\"lebron_nba_asistencias_curry_knicks\"],\"x\":[0.0,1.4259928752442603,1.4259928752442603,1.416368548003995],\"xaxis\":\"x\",\"y\":[-3865.0,-3865.0,-3880.0,-3880.0],\"yaxis\":\"y\",\"type\":\"scatter\"},{\"hoverinfo\":\"text\",\"marker\":{\"color\":\"rgb(0,116,217)\"},\"mode\":\"lines\",\"text\":[\"superficiales_datum_permanente continuo_consuntivo_solicitud derecho\",\"\",\"\",\"lebron_nba_asistencias_curry_knicks\"],\"x\":[1.5135474360677825,1.5730935625300613,1.5730935625300613,1.4259928752442603],\"xaxis\":\"x\",\"y\":[-3790.0,-3790.0,-3872.5,-3872.5],\"yaxis\":\"y\",\"type\":\"scatter\"},{\"hoverinfo\":\"text\",\"marker\":{\"color\":\"rgb(0,116,217)\"},\"mode\":\"lines\",\"text\":[\"superficiales_datum_permanente continuo_consuntivo_solicitud derecho\",\"\",\"\",\"lebron_nba_asistencias_curry_knicks\"],\"x\":[1.456770310206173,1.6831448709012498,1.6831448709012498,1.5730935625300613],\"xaxis\":\"x\",\"y\":[-3716.25,-3716.25,-3831.25,-3831.25],\"yaxis\":\"y\",\"type\":\"scatter\"},{\"hoverinfo\":\"text\",\"marker\":{\"color\":\"rgb(0,116,217)\"},\"mode\":\"lines\",\"text\":[\"sernapesca_veda_merluza_sernapesca lagos_poder infractor disposici\\u00f3n\",\"\",\"\",\"juzgado letras_armada_sernapesca_toneladas_ays\\u00e9n\"],\"x\":[0.0,1.0162314416973548,1.0162314416973548,0.0],\"xaxis\":\"x\",\"y\":[-3905.0,-3905.0,-3915.0,-3915.0],\"yaxis\":\"y\",\"type\":\"scatter\"},{\"hoverinfo\":\"text\",\"marker\":{\"color\":\"rgb(0,116,217)\"},\"mode\":\"lines\",\"text\":[\"pesca recreativa_sernapesca_borda_metros_incautaron\",\"\",\"\",\"sernapesca_kilos_recursos_juzgado letras_ilegal\"],\"x\":[0.0,1.2664559289331354,1.2664559289331354,1.0162314416973548],\"xaxis\":\"x\",\"y\":[-3895.0,-3895.0,-3910.0,-3910.0],\"yaxis\":\"y\",\"type\":\"scatter\"},{\"hoverinfo\":\"text\",\"marker\":{\"color\":\"rgb(0,116,217)\"},\"mode\":\"lines\",\"text\":[\"fuerza a\\u00e9rea_rebusca_odisea iii_capit\\u00e1n_quell\\u00f3n\",\"\",\"\",\"lancha_mar\\u00edtima_melinka_quell\\u00f3n_motor\"],\"x\":[0.0,1.2146757597748992,1.2146757597748992,0.0],\"xaxis\":\"x\",\"y\":[-3935.0,-3935.0,-3945.0,-3945.0],\"yaxis\":\"y\",\"type\":\"scatter\"},{\"hoverinfo\":\"text\",\"marker\":{\"color\":\"rgb(0,116,217)\"},\"mode\":\"lines\",\"text\":[\"jefe_ceremonia_cambio mando_iii\\u00aa brigada a\\u00e9rea_iii\\u00aa\",\"\",\"\",\"lancha_quell\\u00f3n_b\\u00fasqueda_melinka_avi\\u00f3n\"],\"x\":[0.0,1.3212577055206216,1.3212577055206216,1.2146757597748992],\"xaxis\":\"x\",\"y\":[-3925.0,-3925.0,-3940.0,-3940.0],\"yaxis\":\"y\",\"type\":\"scatter\"},{\"hoverinfo\":\"text\",\"marker\":{\"color\":\"rgb(0,116,217)\"},\"mode\":\"lines\",\"text\":[\"evacuaci\\u00f3n_chul\\u00edn_apoy\\u00f3_isla chul\\u00edn castro_traslado joven\",\"\",\"\",\"videla_cirujano videla_quinta zona naval_desertores_atenciones\"],\"x\":[0.0,1.249759403823684,1.249759403823684,0.0],\"xaxis\":\"x\",\"y\":[-3955.0,-3955.0,-3965.0,-3965.0],\"yaxis\":\"y\",\"type\":\"scatter\"},{\"hoverinfo\":\"text\",\"marker\":{\"color\":\"rgb(0,116,217)\"},\"mode\":\"lines\",\"text\":[\"general_armada_capit\\u00e1n_unidad_iii\\u00aa\",\"\",\"\",\"videla_quinta zona naval_islas_chul\\u00edn_evacuaci\\u00f3n\"],\"x\":[1.3212577055206216,1.5103614243526136,1.5103614243526136,1.249759403823684],\"xaxis\":\"x\",\"y\":[-3932.5,-3932.5,-3960.0,-3960.0],\"yaxis\":\"y\",\"type\":\"scatter\"},{\"hoverinfo\":\"text\",\"marker\":{\"color\":\"rgb(0,116,217)\"},\"mode\":\"lines\",\"text\":[\"sernapesca_kilos_ilegal_recursos_sernapesca lagos\",\"\",\"\",\"videla_quinta zona naval_islas_chul\\u00edn_evacuaci\\u00f3n\"],\"x\":[1.2664559289331354,1.8459109411173804,1.8459109411173804,1.5103614243526136],\"xaxis\":\"x\",\"y\":[-3902.5,-3902.5,-3946.25,-3946.25],\"yaxis\":\"y\",\"type\":\"scatter\"},{\"hoverinfo\":\"text\",\"marker\":{\"color\":\"rgb(0,116,217)\"},\"mode\":\"lines\",\"text\":[\"sernapesca_kilos_ilegal_recursos_sernapesca lagos\",\"\",\"\",\"videla_quinta zona naval_islas_chul\\u00edn_evacuaci\\u00f3n\"],\"x\":[1.6831448709012498,1.8947123957870298,1.8947123957870298,1.8459109411173804],\"xaxis\":\"x\",\"y\":[-3773.75,-3773.75,-3924.375,-3924.375],\"yaxis\":\"y\",\"type\":\"scatter\"},{\"hoverinfo\":\"text\",\"marker\":{\"color\":\"rgb(0,116,217)\"},\"mode\":\"lines\",\"text\":[\"toxina_roja_fan_algales_alexandrium\",\"\",\"\",\"sernapesca_marea roja_marinas_seremi salud_\\u00e1rea extracci\\u00f3n\"],\"x\":[0.0,1.191395455379066,1.191395455379066,0.0],\"xaxis\":\"x\",\"y\":[-3975.0,-3975.0,-3985.0,-3985.0],\"yaxis\":\"y\",\"type\":\"scatter\"},{\"hoverinfo\":\"text\",\"marker\":{\"color\":\"rgb(0,116,217)\"},\"mode\":\"lines\",\"text\":[\"sernapesca_extracci\\u00f3n_toxinas marinas_roja_floraciones\",\"\",\"\",\"productos_calbuco_toxina_ays\\u00e9n_seremi salud\"],\"x\":[1.191395455379066,1.2284746721497504,1.2284746721497504,0.0],\"xaxis\":\"x\",\"y\":[-3980.0,-3980.0,-3995.0,-3995.0],\"yaxis\":\"y\",\"type\":\"scatter\"},{\"hoverinfo\":\"text\",\"marker\":{\"color\":\"rgb(0,116,217)\"},\"mode\":\"lines\",\"text\":[\"mariscos_calbuco_sernapesca_contaminados_paralizante\",\"\",\"\",\"angelm\\u00f3_precios_marea_mil pesos_roja\"],\"x\":[1.2284746721497504,1.3600294455670074,1.3600294455670074,0.0],\"xaxis\":\"x\",\"y\":[-3987.5,-3987.5,-4005.0,-4005.0],\"yaxis\":\"y\",\"type\":\"scatter\"},{\"hoverinfo\":\"text\",\"marker\":{\"color\":\"rgb(0,116,217)\"},\"mode\":\"lines\",\"text\":[\"mariscos_calbuco_sernapesca_contaminados_paralizante\",\"\",\"\",\"mariscos_calbuco_sernapesca_contaminados_paralizante\"],\"x\":[1.8947123957870298,2.004059244054747,2.004059244054747,1.3600294455670074],\"xaxis\":\"x\",\"y\":[-3849.0625,-3849.0625,-3996.25,-3996.25],\"yaxis\":\"y\",\"type\":\"scatter\"},{\"hoverinfo\":\"text\",\"marker\":{\"color\":\"rgb(0,116,217)\"},\"mode\":\"lines\",\"text\":[\"mariscos_calbuco_sernapesca_contaminados_paralizante\",\"\",\"\",\"mariscos_calbuco_sernapesca_contaminados_paralizante\"],\"x\":[1.9113630065978247,2.186397472844297,2.186397472844297,2.004059244054747],\"xaxis\":\"x\",\"y\":[-3441.26953125,-3441.26953125,-3922.65625,-3922.65625],\"yaxis\":\"y\",\"type\":\"scatter\"},{\"hoverinfo\":\"text\",\"marker\":{\"color\":\"rgb(133,20,75)\"},\"mode\":\"lines\",\"text\":[\"pgu_pensi\\u00f3n garantizada universal_financiamiento_hacienda_exenciones\",\"\",\"\",\"garantizada_pgu_universal_65 a\\u00f1os_mayores\"],\"x\":[0.0,0.9327459897346911,0.9327459897346911,0.0],\"xaxis\":\"x\",\"y\":[-4015.0,-4015.0,-4025.0,-4025.0],\"yaxis\":\"y\",\"type\":\"scatter\"},{\"hoverinfo\":\"text\",\"marker\":{\"color\":\"rgb(0,116,217)\"},\"mode\":\"lines\",\"text\":[\"aporte familiar permanente_beneficio_bono bodas oro_requisitos_ips\",\"\",\"\",\"ips_instituto previsi\\u00f3n social_pensionado_23704_13392\"],\"x\":[0.0,1.2340704060597834,1.2340704060597834,0.0],\"xaxis\":\"x\",\"y\":[-4045.0,-4045.0,-4055.0,-4055.0],\"yaxis\":\"y\",\"type\":\"scatter\"},{\"hoverinfo\":\"text\",\"marker\":{\"color\":\"rgb(0,116,217)\"},\"mode\":\"lines\",\"text\":[\"universal_pagos_rsh_pgu_andrea balladares\",\"\",\"\",\"ips_beneficio_aporte familiar_monto_aguinaldo navidad\"],\"x\":[0.0,1.3093798968396202,1.3093798968396202,1.2340704060597834],\"xaxis\":\"x\",\"y\":[-4035.0,-4035.0,-4050.0,-4050.0],\"yaxis\":\"y\",\"type\":\"scatter\"},{\"hoverinfo\":\"text\",\"marker\":{\"color\":\"rgb(0,116,217)\"},\"mode\":\"lines\",\"text\":[\"pgu_pensi\\u00f3n garantizada universal_solidario_mil_65\",\"\",\"\",\"ips_beneficio_aporte familiar_monto_aguinaldo navidad\"],\"x\":[0.9327459897346911,1.5512336437496,1.5512336437496,1.3093798968396202],\"xaxis\":\"x\",\"y\":[-4020.0,-4020.0,-4042.5,-4042.5],\"yaxis\":\"y\",\"type\":\"scatter\"},{\"hoverinfo\":\"text\",\"marker\":{\"color\":\"rgb(0,116,217)\"},\"mode\":\"lines\",\"text\":[\"sename_edificio_lilian pe\\u00f1a_funcionarios_sename lilian\",\"\",\"\",\"reinserci\\u00f3n_sename_sence_kalen_armasur\"],\"x\":[0.0,1.151128399029665,1.151128399029665,0.0],\"xaxis\":\"x\",\"y\":[-4065.0,-4065.0,-4075.0,-4075.0],\"yaxis\":\"y\",\"type\":\"scatter\"},{\"hoverinfo\":\"text\",\"marker\":{\"color\":\"rgb(0,116,217)\"},\"mode\":\"lines\",\"text\":[\"sence_laborales_observatorio_enadel_feria\",\"\",\"\",\"ife_sala cuna_sence_pago_mes\"],\"x\":[0.0,1.2167581103534486,1.2167581103534486,0.0],\"xaxis\":\"x\",\"y\":[-4105.0,-4105.0,-4115.0,-4115.0],\"yaxis\":\"y\",\"type\":\"scatter\"},{\"hoverinfo\":\"text\",\"marker\":{\"color\":\"rgb(0,116,217)\"},\"mode\":\"lines\",\"text\":[\"cursos_sence_despega mipe_laboral_innovaci\\u00f3n\",\"\",\"\",\"ife_sence_subsidio_protege_mil\"],\"x\":[0.0,1.2849322234429625,1.2849322234429625,1.2167581103534486],\"xaxis\":\"x\",\"y\":[-4095.0,-4095.0,-4110.0,-4110.0],\"yaxis\":\"y\",\"type\":\"scatter\"},{\"hoverinfo\":\"text\",\"marker\":{\"color\":\"rgb(0,116,217)\"},\"mode\":\"lines\",\"text\":[\"fundaci\\u00f3n_cloud_inserci\\u00f3n_talentos_preparar\\u00e1\",\"\",\"\",\"sence_ife_cursos_protege_postular\"],\"x\":[0.0,1.412203808794962,1.412203808794962,1.2849322234429625],\"xaxis\":\"x\",\"y\":[-4085.0,-4085.0,-4102.5,-4102.5],\"yaxis\":\"y\",\"type\":\"scatter\"},{\"hoverinfo\":\"text\",\"marker\":{\"color\":\"rgb(0,116,217)\"},\"mode\":\"lines\",\"text\":[\"sename_sence_reinserci\\u00f3n social juvenil_kalen_armasur\",\"\",\"\",\"sence_ife_cursos_protege_postular\"],\"x\":[1.151128399029665,1.5844725113237605,1.5844725113237605,1.412203808794962],\"xaxis\":\"x\",\"y\":[-4070.0,-4070.0,-4093.75,-4093.75],\"yaxis\":\"y\",\"type\":\"scatter\"},{\"hoverinfo\":\"text\",\"marker\":{\"color\":\"rgb(0,116,217)\"},\"mode\":\"lines\",\"text\":[\"pdt_rendici\\u00f3n_diciembre_transici\\u00f3n_podr\\u00e1n\",\"\",\"\",\"matr\\u00edcula_sistema admisi\\u00f3n escolar_postulaci\\u00f3n_wwwsistemadeadmisionescolarcl_resultados\"],\"x\":[0.0,1.2323105151189828,1.2323105151189828,0.0],\"xaxis\":\"x\",\"y\":[-4135.0,-4135.0,-4145.0,-4145.0],\"yaxis\":\"y\",\"type\":\"scatter\"},{\"hoverinfo\":\"text\",\"marker\":{\"color\":\"rgb(0,116,217)\"},\"mode\":\"lines\",\"text\":[\"prueba_pdt_postulaci\\u00f3n_rendir_sistema admisi\\u00f3n escolar\",\"\",\"\",\"beneficios_gratuidad_estudiantiles_fuas_beca excelencia\"],\"x\":[1.2323105151189828,1.309047074154075,1.309047074154075,0.0],\"xaxis\":\"x\",\"y\":[-4140.0,-4140.0,-4155.0,-4155.0],\"yaxis\":\"y\",\"type\":\"scatter\"},{\"hoverinfo\":\"text\",\"marker\":{\"color\":\"rgb(0,116,217)\"},\"mode\":\"lines\",\"text\":[\"carrera_estudiantes_pedagog\\u00eda_formaci\\u00f3n_uach\",\"\",\"\",\"beca_pdt_podr\\u00e1n_postular_resultados\"],\"x\":[0.0,1.3494443630468484,1.3494443630468484,1.309047074154075],\"xaxis\":\"x\",\"y\":[-4125.0,-4125.0,-4147.5,-4147.5],\"yaxis\":\"y\",\"type\":\"scatter\"},{\"hoverinfo\":\"text\",\"marker\":{\"color\":\"rgb(0,116,217)\"},\"mode\":\"lines\",\"text\":[\"carrera_estudiantes_pedagog\\u00eda_formaci\\u00f3n_uach\",\"\",\"\",\"beca_prueba_pdt_postular_2022\"],\"x\":[1.5844725113237605,1.7423610391497217,1.7423610391497217,1.3494443630468484],\"xaxis\":\"x\",\"y\":[-4081.875,-4081.875,-4136.25,-4136.25],\"yaxis\":\"y\",\"type\":\"scatter\"},{\"hoverinfo\":\"text\",\"marker\":{\"color\":\"rgb(0,116,217)\"},\"mode\":\"lines\",\"text\":[\"veto_estatuto docente_despidos_slep_locales educaci\\u00f3n\",\"\",\"\",\"proceso desmunicipalizaci\\u00f3n_municipalidades_locales educaci\\u00f3n p\\u00fablica_analizar\\u00e1n_padem\"],\"x\":[0.0,1.270600676510091,1.270600676510091,0.0],\"xaxis\":\"x\",\"y\":[-4165.0,-4165.0,-4175.0,-4175.0],\"yaxis\":\"y\",\"type\":\"scatter\"},{\"hoverinfo\":\"text\",\"marker\":{\"color\":\"rgb(0,116,217)\"},\"mode\":\"lines\",\"text\":[\"escuela_santa elvira_educaci\\u00f3n_establecimientos_daem\",\"\",\"\",\"secretarios_educaci\\u00f3n_generales corporaciones municipales_general corporaci\\u00f3n_secretaria\"],\"x\":[0.0,1.3581405142138538,1.3581405142138538,0.0],\"xaxis\":\"x\",\"y\":[-4185.0,-4185.0,-4195.0,-4195.0],\"yaxis\":\"y\",\"type\":\"scatter\"},{\"hoverinfo\":\"text\",\"marker\":{\"color\":\"rgb(0,116,217)\"},\"mode\":\"lines\",\"text\":[\"profesores_veto_colegio_proceso desmunicipalizaci\\u00f3n_estatuto docente\",\"\",\"\",\"secretarios_educaci\\u00f3n_generales corporaciones municipales_general corporaci\\u00f3n_secretaria\"],\"x\":[1.270600676510091,1.3907328407832227,1.3907328407832227,1.3581405142138538],\"xaxis\":\"x\",\"y\":[-4170.0,-4170.0,-4190.0,-4190.0],\"yaxis\":\"y\",\"type\":\"scatter\"},{\"hoverinfo\":\"text\",\"marker\":{\"color\":\"rgb(0,116,217)\"},\"mode\":\"lines\",\"text\":[\"clases_ulagos_comunidad universitaria_lunes 14_inicio a\\u00f1o acad\\u00e9mico\",\"\",\"\",\"rector_oui_universidades estatales_garrido_periodismo universidad frontera\"],\"x\":[0.0,1.3871262727015798,1.3871262727015798,0.0],\"xaxis\":\"x\",\"y\":[-4205.0,-4205.0,-4215.0,-4215.0],\"yaxis\":\"y\",\"type\":\"scatter\"},{\"hoverinfo\":\"text\",\"marker\":{\"color\":\"rgb(0,116,217)\"},\"mode\":\"lines\",\"text\":[\"parcc_acci\\u00f3n regional cambio_clim\\u8c29tico_consulta_corecc\",\"\",\"\",\"mesa_seminario_chilo\\u00e9_municipalidad_conservaci\\u00f3n\"],\"x\":[0.0,1.3734311666115986,1.3734311666115986,0.0],\"xaxis\":\"x\",\"y\":[-4225.0,-4225.0,-4235.0,-4235.0],\"yaxis\":\"y\",\"type\":\"scatter\"},{\"hoverinfo\":\"text\",\"marker\":{\"color\":\"rgb(0,116,217)\"},\"mode\":\"lines\",\"text\":[\"parcc_acci\\u00f3n regional cambio_clim\\u8c29tico_consulta_corecc\",\"\",\"\",\"mesa_seminario_chilo\\u00e9_municipalidad_conservaci\\u00f3n\"],\"x\":[1.3871262727015798,1.4642767263129122,1.4642767263129122,1.3734311666115986],\"xaxis\":\"x\",\"y\":[-4210.0,-4210.0,-4230.0,-4230.0],\"yaxis\":\"y\",\"type\":\"scatter\"},{\"hoverinfo\":\"text\",\"marker\":{\"color\":\"rgb(0,116,217)\"},\"mode\":\"lines\",\"text\":[\"seremis_tardanza_autoridades_nombramiento_nuevo gobierno asuma\",\"\",\"\",\"puelche_hualaihu\\u00e9_transportes_bimodal_caleta\"],\"x\":[0.0,1.3847771993313263,1.3847771993313263,0.0],\"xaxis\":\"x\",\"y\":[-4245.0,-4245.0,-4255.0,-4255.0],\"yaxis\":\"y\",\"type\":\"scatter\"},{\"hoverinfo\":\"text\",\"marker\":{\"color\":\"rgb(0,116,217)\"},\"mode\":\"lines\",\"text\":[\"seremis_tardanza_autoridades_nombramiento_nuevo gobierno asuma\",\"\",\"\",\"puelche_hualaihu\\u00e9_transportes_bimodal_caleta\"],\"x\":[1.4642767263129122,1.4715532056920635,1.4715532056920635,1.3847771993313263],\"xaxis\":\"x\",\"y\":[-4220.0,-4220.0,-4250.0,-4250.0],\"yaxis\":\"y\",\"type\":\"scatter\"},{\"hoverinfo\":\"text\",\"marker\":{\"color\":\"rgb(0,116,217)\"},\"mode\":\"lines\",\"text\":[\"energ\\u00eda_carteras_diplomado derecho administrativo_seremis_seremi\",\"\",\"\",\"rd_enzo jaramillo_seremis_jaramillo_ps\"],\"x\":[0.0,1.2451592419596942,1.2451592419596942,0.0],\"xaxis\":\"x\",\"y\":[-4265.0,-4265.0,-4275.0,-4275.0],\"yaxis\":\"y\",\"type\":\"scatter\"},{\"hoverinfo\":\"text\",\"marker\":{\"color\":\"rgb(0,116,217)\"},\"mode\":\"lines\",\"text\":[\"energ\\u00eda_seremis_rd_diplomado_gabinete regional\",\"\",\"\",\"carvacho_presidente gabriel_seremi_universidad chile_carvacho d\\u00edaz\"],\"x\":[1.2451592419596942,1.3601004456105203,1.3601004456105203,0.0],\"xaxis\":\"x\",\"y\":[-4270.0,-4270.0,-4285.0,-4285.0],\"yaxis\":\"y\",\"type\":\"scatter\"},{\"hoverinfo\":\"text\",\"marker\":{\"color\":\"rgb(0,116,217)\"},\"mode\":\"lines\",\"text\":[\"energ\\u00eda_seremis_rd_diplomado_gabinete regional\",\"\",\"\",\"carvacho_presidente gabriel_seremi_universidad chile_carvacho d\\u00edaz\"],\"x\":[1.4715532056920635,1.5357440446617063,1.5357440446617063,1.3601004456105203],\"xaxis\":\"x\",\"y\":[-4235.0,-4235.0,-4277.5,-4277.5],\"yaxis\":\"y\",\"type\":\"scatter\"},{\"hoverinfo\":\"text\",\"marker\":{\"color\":\"rgb(0,116,217)\"},\"mode\":\"lines\",\"text\":[\"cplt_portal transparencia_integridad_ley_p\\u00fablica\",\"\",\"\",\"convencional_agua_distrito_ruralidad seguridad alimentaria_j\\u00fcrgensen\"],\"x\":[0.0,1.3801797423996276,1.3801797423996276,0.0],\"xaxis\":\"x\",\"y\":[-4295.0,-4295.0,-4305.0,-4305.0],\"yaxis\":\"y\",\"type\":\"scatter\"},{\"hoverinfo\":\"text\",\"marker\":{\"color\":\"rgb(0,116,217)\"},\"mode\":\"lines\",\"text\":[\"convenci\\u00f3n_agrollanquihue_ideas_convencionales_voz\",\"\",\"\",\"cabildo_mirasol_ampuero_adriana ampuero_dom\\u00ednguez\"],\"x\":[0.0,1.2619438365808013,1.2619438365808013,0.0],\"xaxis\":\"x\",\"y\":[-4315.0,-4315.0,-4325.0,-4325.0],\"yaxis\":\"y\",\"type\":\"scatter\"},{\"hoverinfo\":\"text\",\"marker\":{\"color\":\"rgb(0,116,217)\"},\"mode\":\"lines\",\"text\":[\"convenci\\u00f3n_agrollanquihue_ideas_convencionales_voz\",\"\",\"\",\"cabildo_nueva_agrollanquihue_participaci\\u00f3n_convenci\\u00f3n constitucional\"],\"x\":[1.3801797423996276,1.4273964408724265,1.4273964408724265,1.2619438365808013],\"xaxis\":\"x\",\"y\":[-4300.0,-4300.0,-4320.0,-4320.0],\"yaxis\":\"y\",\"type\":\"scatter\"},{\"hoverinfo\":\"text\",\"marker\":{\"color\":\"rgb(0,116,217)\"},\"mode\":\"lines\",\"text\":[\"convenci\\u00f3n_agrollanquihue_ideas_convencionales_voz\",\"\",\"\",\"cabildo_nueva_agrollanquihue_participaci\\u00f3n_convenci\\u00f3n constitucional\"],\"x\":[1.5357440446617063,1.5927582473229143,1.5927582473229143,1.4273964408724265],\"xaxis\":\"x\",\"y\":[-4256.25,-4256.25,-4310.0,-4310.0],\"yaxis\":\"y\",\"type\":\"scatter\"},{\"hoverinfo\":\"text\",\"marker\":{\"color\":\"rgb(0,116,217)\"},\"mode\":\"lines\",\"text\":[\"convenci\\u00f3n_agrollanquihue_ideas_convencionales_voz\",\"\",\"\",\"cabildo_nueva_agrollanquihue_participaci\\u00f3n_convenci\\u00f3n constitucional\"],\"x\":[1.3907328407832227,1.615381383199302,1.615381383199302,1.5927582473229143],\"xaxis\":\"x\",\"y\":[-4180.0,-4180.0,-4283.125,-4283.125],\"yaxis\":\"y\",\"type\":\"scatter\"},{\"hoverinfo\":\"text\",\"marker\":{\"color\":\"rgb(0,116,217)\"},\"mode\":\"lines\",\"text\":[\"supersol_ley_leviante_interiores_carnada\",\"\",\"\",\"indespa_caleta_sindicato_encargada regional indespa_seremi econom\\u00eda\"],\"x\":[0.0,1.2530635681839724,1.2530635681839724,0.0],\"xaxis\":\"x\",\"y\":[-4335.0,-4335.0,-4345.0,-4345.0],\"yaxis\":\"y\",\"type\":\"scatter\"},{\"hoverinfo\":\"text\",\"marker\":{\"color\":\"rgb(0,116,217)\"},\"mode\":\"lines\",\"text\":[\"indespa_sindicato_supersol_ley caletas_encargada regional indespa\",\"\",\"\",\"chinquihue_pesca_teuquil_kazuhisa_shibuya kazuhisa\"],\"x\":[1.2530635681839724,1.361809480848463,1.361809480848463,0.0],\"xaxis\":\"x\",\"y\":[-4340.0,-4340.0,-4355.0,-4355.0],\"yaxis\":\"y\",\"type\":\"scatter\"},{\"hoverinfo\":\"text\",\"marker\":{\"color\":\"rgb(0,116,217)\"},\"mode\":\"lines\",\"text\":[\"formulaci\\u00f3n_fndr_injuv_conversatorios_desarrollo social humano\",\"\",\"\",\"organizaciones_comunidadmujer_postular_adulto_mayores\"],\"x\":[0.0,1.3221083758998164,1.3221083758998164,0.0],\"xaxis\":\"x\",\"y\":[-4365.0,-4365.0,-4375.0,-4375.0],\"yaxis\":\"y\",\"type\":\"scatter\"},{\"hoverinfo\":\"text\",\"marker\":{\"color\":\"rgb(0,116,217)\"},\"mode\":\"lines\",\"text\":[\"programa mujeres jefas_hogar_fosis_sernameg_equidad\",\"\",\"\",\"indap_prodemu_campesina_indap prodemu_m\\u00f3dulo\"],\"x\":[0.0,1.305936847220693,1.305936847220693,0.0],\"xaxis\":\"x\",\"y\":[-4395.0,-4395.0,-4405.0,-4405.0],\"yaxis\":\"y\",\"type\":\"scatter\"},{\"hoverinfo\":\"text\",\"marker\":{\"color\":\"rgb(0,116,217)\"},\"mode\":\"lines\",\"text\":[\"palena_dfl 15_dfl_extremas_chilo\\u00e9 palena\",\"\",\"\",\"indap_prodemu_campesina_indap prodemu_m\\u00f3dulo\"],\"x\":[0.0,1.4097585179103334,1.4097585179103334,1.305936847220693],\"xaxis\":\"x\",\"y\":[-4385.0,-4385.0,-4400.0,-4400.0],\"yaxis\":\"y\",\"type\":\"scatter\"},{\"hoverinfo\":\"text\",\"marker\":{\"color\":\"rgb(0,116,217)\"},\"mode\":\"lines\",\"text\":[\"praderas_censo_fertilizaci\\u00f3n_odepa_unidades productivas\",\"\",\"\",\"sag_animal_exportaci\\u00f3n_red crianceros_declaraci\\u00f3n existencia\"],\"x\":[0.0,1.349178305874227,1.349178305874227,0.0],\"xaxis\":\"x\",\"y\":[-4415.0,-4415.0,-4425.0,-4425.0],\"yaxis\":\"y\",\"type\":\"scatter\"},{\"hoverinfo\":\"text\",\"marker\":{\"color\":\"rgb(0,116,217)\"},\"mode\":\"lines\",\"text\":[\"praderas_censo_fertilizaci\\u00f3n_odepa_unidades productivas\",\"\",\"\",\"sag_animal_exportaci\\u00f3n_red crianceros_declaraci\\u00f3n existencia\"],\"x\":[1.4097585179103334,1.4489107123855531,1.4489107123855531,1.349178305874227],\"xaxis\":\"x\",\"y\":[-4392.5,-4392.5,-4420.0,-4420.0],\"yaxis\":\"y\",\"type\":\"scatter\"},{\"hoverinfo\":\"text\",\"marker\":{\"color\":\"rgb(0,116,217)\"},\"mode\":\"lines\",\"text\":[\"praderas_censo_fertilizaci\\u00f3n_odepa_unidades productivas\",\"\",\"\",\"sag_animal_exportaci\\u00f3n_red crianceros_declaraci\\u00f3n existencia\"],\"x\":[1.3221083758998164,1.4792193053546767,1.4792193053546767,1.4489107123855531],\"xaxis\":\"x\",\"y\":[-4370.0,-4370.0,-4406.25,-4406.25],\"yaxis\":\"y\",\"type\":\"scatter\"},{\"hoverinfo\":\"text\",\"marker\":{\"color\":\"rgb(0,116,217)\"},\"mode\":\"lines\",\"text\":[\"perros_ataques_agrollanquihue_ganado fauna silvestre_schwerter\",\"\",\"\",\"gatos_animal_subdere_tenencia responsable mascotas_protegida\"],\"x\":[0.0,1.2272456285587505,1.2272456285587505,0.0],\"xaxis\":\"x\",\"y\":[-4435.0,-4435.0,-4445.0,-4445.0],\"yaxis\":\"y\",\"type\":\"scatter\"},{\"hoverinfo\":\"text\",\"marker\":{\"color\":\"rgb(0,116,217)\"},\"mode\":\"lines\",\"text\":[\"perros_ataques_agrollanquihue_ganado fauna silvestre_schwerter\",\"\",\"\",\"animal_mascota_tenencia responsable mascotas_subdere_asilvestrados\"],\"x\":[1.4792193053546767,1.5947141729396281,1.5947141729396281,1.2272456285587505],\"xaxis\":\"x\",\"y\":[-4388.125,-4388.125,-4440.0,-4440.0],\"yaxis\":\"y\",\"type\":\"scatter\"},{\"hoverinfo\":\"text\",\"marker\":{\"color\":\"rgb(0,116,217)\"},\"mode\":\"lines\",\"text\":[\"indespa_fundaci\\u00f3n chinquihue_chinquihue_directorio_ley\",\"\",\"\",\"animal_mascota_tenencia responsable mascotas_subdere_asilvestrados\"],\"x\":[1.361809480848463,1.6117643638279906,1.6117643638279906,1.5947141729396281],\"xaxis\":\"x\",\"y\":[-4347.5,-4347.5,-4414.0625,-4414.0625],\"yaxis\":\"y\",\"type\":\"scatter\"},{\"hoverinfo\":\"text\",\"marker\":{\"color\":\"rgb(0,116,217)\"},\"mode\":\"lines\",\"text\":[\"indespa_fundaci\\u00f3n chinquihue_chinquihue_directorio_ley\",\"\",\"\",\"animal_mascota_tenencia responsable mascotas_subdere_asilvestrados\"],\"x\":[1.615381383199302,1.6665566293391036,1.6665566293391036,1.6117643638279906],\"xaxis\":\"x\",\"y\":[-4231.5625,-4231.5625,-4380.78125,-4380.78125],\"yaxis\":\"y\",\"type\":\"scatter\"},{\"hoverinfo\":\"text\",\"marker\":{\"color\":\"rgb(0,116,217)\"},\"mode\":\"lines\",\"text\":[\"indespa_fundaci\\u00f3n chinquihue_chinquihue_directorio_ley\",\"\",\"\",\"animal_mascota_tenencia responsable mascotas_subdere_asilvestrados\"],\"x\":[1.7423610391497217,1.835028108788594,1.835028108788594,1.6665566293391036],\"xaxis\":\"x\",\"y\":[-4109.0625,-4109.0625,-4306.171875,-4306.171875],\"yaxis\":\"y\",\"type\":\"scatter\"},{\"hoverinfo\":\"text\",\"marker\":{\"color\":\"rgb(0,116,217)\"},\"mode\":\"lines\",\"text\":[\"pgu_beneficio_bono_pensi\\u00f3n garantizada universal_ips\",\"\",\"\",\"animal_mascota_tenencia responsable mascotas_subdere_asilvestrados\"],\"x\":[1.5512336437496,2.076643884568893,2.076643884568893,1.835028108788594],\"xaxis\":\"x\",\"y\":[-4031.25,-4031.25,-4207.6171875,-4207.6171875],\"yaxis\":\"y\",\"type\":\"scatter\"},{\"hoverinfo\":\"text\",\"marker\":{\"color\":\"rgb(255,220,0)\"},\"mode\":\"lines\",\"text\":[\"ocupados_ine_fuerza_pp_doce\",\"\",\"\",\"inactividad_laboral_ocupaci\\u00f3n_2020_term\\u00f3metro\"],\"x\":[0.0,0.9251297430972286,0.9251297430972286,0.0],\"xaxis\":\"x\",\"y\":[-4455.0,-4455.0,-4465.0,-4465.0],\"yaxis\":\"y\",\"type\":\"scatter\"},{\"hoverinfo\":\"text\",\"marker\":{\"color\":\"rgb(0,116,217)\"},\"mode\":\"lines\",\"text\":[\"exterior_armonizado_aduaneras_facilitaci\\u00f3n_comex\",\"\",\"\",\"us_exportaciones_2021_cobre_2020\"],\"x\":[0.0,1.2627656958420044,1.2627656958420044,0.0],\"xaxis\":\"x\",\"y\":[-4485.0,-4485.0,-4495.0,-4495.0],\"yaxis\":\"y\",\"type\":\"scatter\"},{\"hoverinfo\":\"text\",\"marker\":{\"color\":\"rgb(0,116,217)\"},\"mode\":\"lines\",\"text\":[\"subasta_wwwsubastaaduaneracl_electr\\u00f3nica_sitio wwwsubastaaduaneracl_valor m\\u00ednimo\",\"\",\"\",\"us_exportaciones_exterior_cobre_2021\"],\"x\":[0.0,1.3959367871293893,1.3959367871293893,1.2627656958420044],\"xaxis\":\"x\",\"y\":[-4475.0,-4475.0,-4490.0,-4490.0],\"yaxis\":\"y\",\"type\":\"scatter\"},{\"hoverinfo\":\"text\",\"marker\":{\"color\":\"rgb(0,116,217)\"},\"mode\":\"lines\",\"text\":[\"riqueza_ingresos_001_pobreza extrema_am\\u00e9rica latina caribe\",\"\",\"\",\"cr\\u00e9ditos_arriendo_camanchaca_cchc_mobysuite\"],\"x\":[0.0,1.357334262527663,1.357334262527663,0.0],\"xaxis\":\"x\",\"y\":[-4505.0,-4505.0,-4515.0,-4515.0],\"yaxis\":\"y\",\"type\":\"scatter\"},{\"hoverinfo\":\"text\",\"marker\":{\"color\":\"rgb(0,116,217)\"},\"mode\":\"lines\",\"text\":[\"deezer_m\\u00fasica digital_betterfly_folgueira_kushki\",\"\",\"\",\"global66_transbank_monedas_fintech_billetera\"],\"x\":[0.0,1.3511398986722654,1.3511398986722654,0.0],\"xaxis\":\"x\",\"y\":[-4525.0,-4525.0,-4535.0,-4535.0],\"yaxis\":\"y\",\"type\":\"scatter\"},{\"hoverinfo\":\"text\",\"marker\":{\"color\":\"rgb(0,116,217)\"},\"mode\":\"lines\",\"text\":[\"deezer_m\\u00fasica digital_betterfly_folgueira_kushki\",\"\",\"\",\"global66_transbank_monedas_fintech_billetera\"],\"x\":[1.357334262527663,1.396615504893725,1.396615504893725,1.3511398986722654],\"xaxis\":\"x\",\"y\":[-4510.0,-4510.0,-4530.0,-4530.0],\"yaxis\":\"y\",\"type\":\"scatter\"},{\"hoverinfo\":\"text\",\"marker\":{\"color\":\"rgb(0,116,217)\"},\"mode\":\"lines\",\"text\":[\"deezer_m\\u00fasica digital_betterfly_folgueira_kushki\",\"\",\"\",\"global66_transbank_monedas_fintech_billetera\"],\"x\":[1.3959367871293893,1.474199920177059,1.474199920177059,1.396615504893725],\"xaxis\":\"x\",\"y\":[-4482.5,-4482.5,-4520.0,-4520.0],\"yaxis\":\"y\",\"type\":\"scatter\"},{\"hoverinfo\":\"text\",\"marker\":{\"color\":\"rgb(0,116,217)\"},\"mode\":\"lines\",\"text\":[\"psicosociales_enfermedades_estrategias_mundial salud mental_trabajadores\",\"\",\"\",\"cristo_hogar_abrazos_piso protecci\\u00f3n_ni\\u00f1os ni\\u00f1as adolescentes\"],\"x\":[0.0,1.368198505616625,1.368198505616625,0.0],\"xaxis\":\"x\",\"y\":[-4555.0,-4555.0,-4565.0,-4565.0],\"yaxis\":\"y\",\"type\":\"scatter\"},{\"hoverinfo\":\"text\",\"marker\":{\"color\":\"rgb(0,116,217)\"},\"mode\":\"lines\",\"text\":[\"botiqu\\u00edn_terapeutas_puaucho_c\\u00e1ncer_ni\\u00f1as\",\"\",\"\",\"cristo_hogar_abrazos_piso protecci\\u00f3n_ni\\u00f1os ni\\u00f1as adolescentes\"],\"x\":[0.0,1.3742722324986025,1.3742722324986025,1.368198505616625],\"xaxis\":\"x\",\"y\":[-4545.0,-4545.0,-4560.0,-4560.0],\"yaxis\":\"y\",\"type\":\"scatter\"},{\"hoverinfo\":\"text\",\"marker\":{\"color\":\"rgb(0,116,217)\"},\"mode\":\"lines\",\"text\":[\"sharpie_tonos_slime_prendas_elmer\",\"\",\"\",\"colch\\u00f3n_si_pie_peso_espacio\"],\"x\":[0.0,1.306617236343109,1.306617236343109,0.0],\"xaxis\":\"x\",\"y\":[-4595.0,-4595.0,-4605.0,-4605.0],\"yaxis\":\"y\",\"type\":\"scatter\"},{\"hoverinfo\":\"text\",\"marker\":{\"color\":\"rgb(0,116,217)\"},\"mode\":\"lines\",\"text\":[\"notebook_smart tv_mouse_procesador_gamers\",\"\",\"\",\"sharpie_tonos_slime_puede_comodidad\"],\"x\":[0.0,1.3308775137490139,1.3308775137490139,1.306617236343109],\"xaxis\":\"x\",\"y\":[-4585.0,-4585.0,-4600.0,-4600.0],\"yaxis\":\"y\",\"type\":\"scatter\"},{\"hoverinfo\":\"text\",\"marker\":{\"color\":\"rgb(0,116,217)\"},\"mode\":\"lines\",\"text\":[\"colores_zapatillas_sharpie_estilo_elegir\",\"\",\"\",\"puedes_tauro_acuario_or\\u00e1culo_libra\"],\"x\":[1.3308775137490139,1.3692813415845426,1.3692813415845426,0.0],\"xaxis\":\"x\",\"y\":[-4592.5,-4592.5,-4615.0,-4615.0],\"yaxis\":\"y\",\"type\":\"scatter\"},{\"hoverinfo\":\"text\",\"marker\":{\"color\":\"rgb(0,116,217)\"},\"mode\":\"lines\",\"text\":[\"doomscrolling_videojuegos_redes sociales_emojis_padres\",\"\",\"\",\"puedes_tauro_acuario_or\\u00e1culo_libra\"],\"x\":[0.0,1.388483227373291,1.388483227373291,1.3692813415845426],\"xaxis\":\"x\",\"y\":[-4575.0,-4575.0,-4603.75,-4603.75],\"yaxis\":\"y\",\"type\":\"scatter\"},{\"hoverinfo\":\"text\",\"marker\":{\"color\":\"rgb(0,116,217)\"},\"mode\":\"lines\",\"text\":[\"doomscrolling_videojuegos_redes sociales_emojis_padres\",\"\",\"\",\"puedes_tauro_acuario_or\\u00e1culo_libra\"],\"x\":[1.3742722324986025,1.5132178245653298,1.5132178245653298,1.388483227373291],\"xaxis\":\"x\",\"y\":[-4552.5,-4552.5,-4589.375,-4589.375],\"yaxis\":\"y\",\"type\":\"scatter\"},{\"hoverinfo\":\"text\",\"marker\":{\"color\":\"rgb(0,116,217)\"},\"mode\":\"lines\",\"text\":[\"contrase\\u00f1as_dispositivos_informaci\\u00f3n_apps_ciberseguridad\",\"\",\"\",\"aliexpress_clientes_pago_apostar_blacksip\"],\"x\":[0.0,1.2837542303621252,1.2837542303621252,0.0],\"xaxis\":\"x\",\"y\":[-4625.0,-4625.0,-4635.0,-4635.0],\"yaxis\":\"y\",\"type\":\"scatter\"},{\"hoverinfo\":\"text\",\"marker\":{\"color\":\"rgb(0,116,217)\"},\"mode\":\"lines\",\"text\":[\"usuarios_ecommerce_check_point_aliexpress\",\"\",\"\",\"datos_empleados_adp_estudio_nube\"],\"x\":[1.2837542303621252,1.297794376277237,1.297794376277237,0.0],\"xaxis\":\"x\",\"y\":[-4630.0,-4630.0,-4645.0,-4645.0],\"yaxis\":\"y\",\"type\":\"scatter\"},{\"hoverinfo\":\"text\",\"marker\":{\"color\":\"rgb(0,116,217)\"},\"mode\":\"lines\",\"text\":[\"usuarios_ecommerce_check_point_aliexpress\",\"\",\"\",\"usuarios_mercado_informaci\\u00f3n_ecommerce_tecnolog\\u00eda\"],\"x\":[1.5132178245653298,1.5651465793796016,1.5651465793796016,1.297794376277237],\"xaxis\":\"x\",\"y\":[-4570.9375,-4570.9375,-4637.5,-4637.5],\"yaxis\":\"y\",\"type\":\"scatter\"},{\"hoverinfo\":\"text\",\"marker\":{\"color\":\"rgb(0,116,217)\"},\"mode\":\"lines\",\"text\":[\"alimentos_prote\\u00ednas_huevitos_dieta_cafe\\u00edna\",\"\",\"\",\"junaeb_preparaciones_huevos_productos_pan\"],\"x\":[0.0,1.2676636187295252,1.2676636187295252,0.0],\"xaxis\":\"x\",\"y\":[-4655.0,-4655.0,-4665.0,-4665.0],\"yaxis\":\"y\",\"type\":\"scatter\"},{\"hoverinfo\":\"text\",\"marker\":{\"color\":\"rgb(0,116,217)\"},\"mode\":\"lines\",\"text\":[\"gu\\u00eda_corfo_sernatur_lagos_gastron\\u00f3mico\",\"\",\"\",\"salm\\u00f3n_kilos per_158_corfo_yocomochoritos\"],\"x\":[0.0,1.1831606134514892,1.1831606134514892,0.0],\"xaxis\":\"x\",\"y\":[-4675.0,-4675.0,-4685.0,-4685.0],\"yaxis\":\"y\",\"type\":\"scatter\"},{\"hoverinfo\":\"text\",\"marker\":{\"color\":\"rgb(0,116,217)\"},\"mode\":\"lines\",\"text\":[\"gu\\u00eda_corfo_sernatur_lagos_gastron\\u00f3mico\",\"\",\"\",\"gu\\u00eda_corfo_sernatur_lagos_chileno\"],\"x\":[1.2676636187295252,1.5050018388888773,1.5050018388888773,1.1831606134514892],\"xaxis\":\"x\",\"y\":[-4660.0,-4660.0,-4680.0,-4680.0],\"yaxis\":\"y\",\"type\":\"scatter\"},{\"hoverinfo\":\"text\",\"marker\":{\"color\":\"rgb(0,116,217)\"},\"mode\":\"lines\",\"text\":[\"gu\\u00eda_corfo_sernatur_lagos_gastron\\u00f3mico\",\"\",\"\",\"gu\\u00eda_corfo_sernatur_lagos_chileno\"],\"x\":[1.5651465793796016,1.6507915709074246,1.6507915709074246,1.5050018388888773],\"xaxis\":\"x\",\"y\":[-4604.21875,-4604.21875,-4670.0,-4670.0],\"yaxis\":\"y\",\"type\":\"scatter\"},{\"hoverinfo\":\"text\",\"marker\":{\"color\":\"rgb(0,116,217)\"},\"mode\":\"lines\",\"text\":[\"gu\\u00eda_corfo_sernatur_lagos_gastron\\u00f3mico\",\"\",\"\",\"gu\\u00eda_corfo_sernatur_lagos_chileno\"],\"x\":[1.474199920177059,1.674056151349286,1.674056151349286,1.6507915709074246],\"xaxis\":\"x\",\"y\":[-4501.25,-4501.25,-4637.109375,-4637.109375],\"yaxis\":\"y\",\"type\":\"scatter\"},{\"hoverinfo\":\"text\",\"marker\":{\"color\":\"rgb(0,116,217)\"},\"mode\":\"lines\",\"text\":[\"ocupaci\\u00f3n_tasa desocupaci\\u00f3n_2020_fuerza_2021\",\"\",\"\",\"gu\\u00eda_corfo_sernatur_lagos_chileno\"],\"x\":[0.9251297430972286,1.891839953406392,1.891839953406392,1.674056151349286],\"xaxis\":\"x\",\"y\":[-4460.0,-4460.0,-4569.1796875,-4569.1796875],\"yaxis\":\"y\",\"type\":\"scatter\"},{\"hoverinfo\":\"text\",\"marker\":{\"color\":\"rgb(0,116,217)\"},\"mode\":\"lines\",\"text\":[\"tonga_metros_canarias_semeru_erupci\\u00f3n volc\\u00e1n submarino\",\"\",\"\",\"onemi_alerta tsunami_shoa_crudo_golfo\"],\"x\":[0.0,1.2228160495526035,1.2228160495526035,0.0],\"xaxis\":\"x\",\"y\":[-4705.0,-4705.0,-4715.0,-4715.0],\"yaxis\":\"y\",\"type\":\"scatter\"},{\"hoverinfo\":\"text\",\"marker\":{\"color\":\"rgb(0,116,217)\"},\"mode\":\"lines\",\"text\":[\"kentucky_beshear_illinois_tennessee_arkansas\",\"\",\"\",\"tsunami_alerta_onemi_evacuaci\\u00f3n_metros\"],\"x\":[0.0,1.4049146197896607,1.4049146197896607,1.2228160495526035],\"xaxis\":\"x\",\"y\":[-4695.0,-4695.0,-4710.0,-4710.0],\"yaxis\":\"y\",\"type\":\"scatter\"},{\"hoverinfo\":\"text\",\"marker\":{\"color\":\"rgb(0,116,217)\"},\"mode\":\"lines\",\"text\":[\"mm_meteorol\\u00f3gica_ni\\u00f1a_praderas_dmc\",\"\",\"\",\"lluvias_ca\\u00edda_onemi_sistema frontal_cortes\"],\"x\":[0.0,1.2552286956302303,1.2552286956302303,0.0],\"xaxis\":\"x\",\"y\":[-4725.0,-4725.0,-4735.0,-4735.0],\"yaxis\":\"y\",\"type\":\"scatter\"},{\"hoverinfo\":\"text\",\"marker\":{\"color\":\"rgb(0,116,217)\"},\"mode\":\"lines\",\"text\":[\"mm_precipitaciones_ca\\u00edda_grados_fen\\u00f3meno\",\"\",\"\",\"tormentas_alerta_temprana_chile dmc_onemi\"],\"x\":[1.2552286956302303,1.3905515489380904,1.3905515489380904,0.0],\"xaxis\":\"x\",\"y\":[-4730.0,-4730.0,-4745.0,-4745.0],\"yaxis\":\"y\",\"type\":\"scatter\"},{\"hoverinfo\":\"text\",\"marker\":{\"color\":\"rgb(0,116,217)\"},\"mode\":\"lines\",\"text\":[\"mm_precipitaciones_ca\\u00edda_grados_fen\\u00f3meno\",\"\",\"\",\"tormentas_alerta_temprana_chile dmc_onemi\"],\"x\":[1.4049146197896607,1.5175362496115623,1.5175362496115623,1.3905515489380904],\"xaxis\":\"x\",\"y\":[-4702.5,-4702.5,-4737.5,-4737.5],\"yaxis\":\"y\",\"type\":\"scatter\"},{\"hoverinfo\":\"text\",\"marker\":{\"color\":\"rgb(0,116,217)\"},\"mode\":\"lines\",\"text\":[\"siglo_caral_puerto varas_8500 a\\u00f1os_ac\",\"\",\"\",\"millones a\\u00f1os_f\\u00f3sil_investigadores_restos_chilesaurus\"],\"x\":[0.0,1.3129882420534236,1.3129882420534236,0.0],\"xaxis\":\"x\",\"y\":[-4755.0,-4755.0,-4765.0,-4765.0],\"yaxis\":\"y\",\"type\":\"scatter\"},{\"hoverinfo\":\"text\",\"marker\":{\"color\":\"rgb(0,116,217)\"},\"mode\":\"lines\",\"text\":[\"glaciares_nieve_hielo marino ant\\u00e1rtico_extensi\\u00f3n hielo_kil\\u00f3metros cuadrados\",\"\",\"\",\"asteroide_erupciones_luna_ryugu_contenido agua\"],\"x\":[0.0,1.3244931823010446,1.3244931823010446,0.0],\"xaxis\":\"x\",\"y\":[-4775.0,-4775.0,-4785.0,-4785.0],\"yaxis\":\"y\",\"type\":\"scatter\"},{\"hoverinfo\":\"text\",\"marker\":{\"color\":\"rgb(0,116,217)\"},\"mode\":\"lines\",\"text\":[\"nasa_tierra_l\\u00e1ctea_agujero negro_masa\",\"\",\"\",\"eei_tripulaci\\u00f3n_axiom_estaci\\u00f3n espacial internacional_shatner\"],\"x\":[0.0,1.2937572247801932,1.2937572247801932,0.0],\"xaxis\":\"x\",\"y\":[-4795.0,-4795.0,-4805.0,-4805.0],\"yaxis\":\"y\",\"type\":\"scatter\"},{\"hoverinfo\":\"text\",\"marker\":{\"color\":\"rgb(0,116,217)\"},\"mode\":\"lines\",\"text\":[\"nasa_tierra_l\\u00e1ctea_agujero negro_masa\",\"\",\"\",\"nasa_estrella_eei_agujeros negros_tierra\"],\"x\":[1.3244931823010446,1.3909214363594116,1.3909214363594116,1.2937572247801932],\"xaxis\":\"x\",\"y\":[-4780.0,-4780.0,-4800.0,-4800.0],\"yaxis\":\"y\",\"type\":\"scatter\"},{\"hoverinfo\":\"text\",\"marker\":{\"color\":\"rgb(0,116,217)\"},\"mode\":\"lines\",\"text\":[\"nasa_tierra_l\\u00e1ctea_agujero negro_masa\",\"\",\"\",\"nasa_estrella_eei_agujeros negros_tierra\"],\"x\":[1.3129882420534236,1.4270547901879445,1.4270547901879445,1.3909214363594116],\"xaxis\":\"x\",\"y\":[-4760.0,-4760.0,-4790.0,-4790.0],\"yaxis\":\"y\",\"type\":\"scatter\"},{\"hoverinfo\":\"text\",\"marker\":{\"color\":\"rgb(0,116,217)\"},\"mode\":\"lines\",\"text\":[\"estudio_ant\\u00e1rtica_condiciones_especie_cient\\u00edficos\",\"\",\"\",\"dr_uach_mur\\u00faa_pelillo_muestreo\"],\"x\":[0.0,1.2587156989657462,1.2587156989657462,0.0],\"xaxis\":\"x\",\"y\":[-4815.0,-4815.0,-4825.0,-4825.0],\"yaxis\":\"y\",\"type\":\"scatter\"},{\"hoverinfo\":\"text\",\"marker\":{\"color\":\"rgb(0,116,217)\"},\"mode\":\"lines\",\"text\":[\"estudio_ant\\u00e1rtica_condiciones_especie_cient\\u00edficos\",\"\",\"\",\"uach_dr_especies_universidad austral chile_carbono\"],\"x\":[1.4270547901879445,1.5120433001441174,1.5120433001441174,1.2587156989657462],\"xaxis\":\"x\",\"y\":[-4775.0,-4775.0,-4820.0,-4820.0],\"yaxis\":\"y\",\"type\":\"scatter\"},{\"hoverinfo\":\"text\",\"marker\":{\"color\":\"rgb(0,116,217)\"},\"mode\":\"lines\",\"text\":[\"estudio_ant\\u00e1rtica_condiciones_especie_cient\\u00edficos\",\"\",\"\",\"uach_dr_especies_universidad austral chile_carbono\"],\"x\":[1.5175362496115623,1.7517940789423567,1.7517940789423567,1.5120433001441174],\"xaxis\":\"x\",\"y\":[-4720.0,-4720.0,-4797.5,-4797.5],\"yaxis\":\"y\",\"type\":\"scatter\"},{\"hoverinfo\":\"text\",\"marker\":{\"color\":\"rgb(0,116,217)\"},\"mode\":\"lines\",\"text\":[\"estudio_ant\\u00e1rtica_condiciones_especie_cient\\u00edficos\",\"\",\"\",\"uach_dr_especies_universidad austral chile_carbono\"],\"x\":[1.891839953406392,1.9286339347016452,1.9286339347016452,1.7517940789423567],\"xaxis\":\"x\",\"y\":[-4514.58984375,-4514.58984375,-4758.75,-4758.75],\"yaxis\":\"y\",\"type\":\"scatter\"},{\"hoverinfo\":\"text\",\"marker\":{\"color\":\"rgb(40,35,35)\"},\"mode\":\"lines\",\"text\":[\"oliva_pimienta_dontinto_peralta dontinto_cocina don tinto\",\"\",\"\",\"oliva_minutos_ml_a\\u00f1adir_mezcla\"],\"x\":[0.0,0.85143490932792,0.85143490932792,0.0],\"xaxis\":\"x\",\"y\":[-4835.0,-4835.0,-4845.0,-4845.0],\"yaxis\":\"y\",\"type\":\"scatter\"},{\"hoverinfo\":\"text\",\"marker\":{\"color\":\"rgb(0,116,217)\"},\"mode\":\"lines\",\"text\":[\"oliva_pimienta_dontinto_peralta dontinto_cocina don tinto\",\"\",\"\",\"taza_oliva_sal pimienta_horno_minutos\"],\"x\":[1.9286339347016452,1.9467122992662582,1.9467122992662582,0.85143490932792],\"xaxis\":\"x\",\"y\":[-4636.669921875,-4636.669921875,-4840.0,-4840.0],\"yaxis\":\"y\",\"type\":\"scatter\"},{\"hoverinfo\":\"text\",\"marker\":{\"color\":\"rgb(0,116,217)\"},\"mode\":\"lines\",\"text\":[\"oliva_pimienta_dontinto_peralta dontinto_cocina don tinto\",\"\",\"\",\"taza_oliva_sal pimienta_horno_minutos\"],\"x\":[2.076643884568893,2.181037094124307,2.181037094124307,1.9467122992662582],\"xaxis\":\"x\",\"y\":[-4119.43359375,-4119.43359375,-4738.3349609375,-4738.3349609375],\"yaxis\":\"y\",\"type\":\"scatter\"},{\"hoverinfo\":\"text\",\"marker\":{\"color\":\"rgb(0,116,217)\"},\"mode\":\"lines\",\"text\":[\"oliva_pimienta_dontinto_peralta dontinto_cocina don tinto\",\"\",\"\",\"taza_oliva_sal pimienta_horno_minutos\"],\"x\":[2.186397472844297,2.271528174869596,2.271528174869596,2.181037094124307],\"xaxis\":\"x\",\"y\":[-3681.962890625,-3681.962890625,-4428.88427734375,-4428.88427734375],\"yaxis\":\"y\",\"type\":\"scatter\"},{\"hoverinfo\":\"text\",\"marker\":{\"color\":\"rgb(0,116,217)\"},\"mode\":\"lines\",\"text\":[\"oliva_pimienta_dontinto_peralta dontinto_cocina don tinto\",\"\",\"\",\"taza_oliva_sal pimienta_horno_minutos\"],\"x\":[2.1375547792474907,2.8166487299604097,2.8166487299604097,2.271528174869596],\"xaxis\":\"x\",\"y\":[-3084.6875,-3084.6875,-4055.423583984375,-4055.423583984375],\"yaxis\":\"y\",\"type\":\"scatter\"},{\"hoverinfo\":\"text\",\"marker\":{\"color\":\"rgb(0,116,217)\"},\"mode\":\"lines\",\"text\":[\"martinna_dios_gente_historia_said\",\"\",\"\",\"novela_quino_colombo_cornwell_mafalda\"],\"x\":[0.0,1.3272750215630813,1.3272750215630813,0.0],\"xaxis\":\"x\",\"y\":[-4855.0,-4855.0,-4865.0,-4865.0],\"yaxis\":\"y\",\"type\":\"scatter\"},{\"hoverinfo\":\"text\",\"marker\":{\"color\":\"rgb(0,116,217)\"},\"mode\":\"lines\",\"text\":[\"libro_literatura_escritor_gurnah_escribir\",\"\",\"\",\"onlyfans_movimiento_rosabetty_schmitt_tololopampa\"],\"x\":[0.0,1.1268736191138455,1.1268736191138455,0.0],\"xaxis\":\"x\",\"y\":[-4875.0,-4875.0,-4885.0,-4885.0],\"yaxis\":\"y\",\"type\":\"scatter\"},{\"hoverinfo\":\"text\",\"marker\":{\"color\":\"rgb(0,116,217)\"},\"mode\":\"lines\",\"text\":[\"libro_literatura_escritor_gurnah_escribir\",\"\",\"\",\"poes\\u00eda_editorial_tiempo_ediciones_historia\"],\"x\":[1.3272750215630813,1.433363905304442,1.433363905304442,1.1268736191138455],\"xaxis\":\"x\",\"y\":[-4860.0,-4860.0,-4880.0,-4880.0],\"yaxis\":\"y\",\"type\":\"scatter\"},{\"hoverinfo\":\"text\",\"marker\":{\"color\":\"rgb(0,116,217)\"},\"mode\":\"lines\",\"text\":[\"s\\u00faper_canal_siempre_programas_periodista\",\"\",\"\",\"cantante_carrera_m\\u00e9xico_amor_a\\u00f1os\"],\"x\":[0.0,1.1579383751089853,1.1579383751089853,0.0],\"xaxis\":\"x\",\"y\":[-4895.0,-4895.0,-4905.0,-4905.0],\"yaxis\":\"y\",\"type\":\"scatter\"},{\"hoverinfo\":\"text\",\"marker\":{\"color\":\"rgb(0,116,217)\"},\"mode\":\"lines\",\"text\":[\"s\\u00faper_cantante_siento_a\\u00f1os_programa\",\"\",\"\",\"disco_le\\u00f3n_bien_vivo_cantar\"],\"x\":[1.1579383751089853,1.272933535612015,1.272933535612015,0.0],\"xaxis\":\"x\",\"y\":[-4900.0,-4900.0,-4915.0,-4915.0],\"yaxis\":\"y\",\"type\":\"scatter\"},{\"hoverinfo\":\"text\",\"marker\":{\"color\":\"rgb(0,116,217)\"},\"mode\":\"lines\",\"text\":[\"s\\u00faper_cantante_siento_a\\u00f1os_programa\",\"\",\"\",\"disco_le\\u00f3n_bien_vivo_cantar\"],\"x\":[1.433363905304442,1.615562879984869,1.615562879984869,1.272933535612015],\"xaxis\":\"x\",\"y\":[-4870.0,-4870.0,-4907.5,-4907.5],\"yaxis\":\"y\",\"type\":\"scatter\"},{\"hoverinfo\":\"text\",\"marker\":{\"color\":\"rgb(0,116,217)\"},\"mode\":\"lines\",\"text\":[\"music_discos_canci\\u00f3n_asmr_grammy\",\"\",\"\",\"banda_abba_rauw_dance fever_temas\"],\"x\":[0.0,1.1202753202336073,1.1202753202336073,0.0],\"xaxis\":\"x\",\"y\":[-4935.0,-4935.0,-4945.0,-4945.0],\"yaxis\":\"y\",\"type\":\"scatter\"},{\"hoverinfo\":\"text\",\"marker\":{\"color\":\"rgb(0,116,217)\"},\"mode\":\"lines\",\"text\":[\"concierto_movistar arena_bad_lollapalooza_anunci\\u00f3\",\"\",\"\",\"the_music_canci\\u00f3n_bunny_bad\"],\"x\":[0.0,1.2390415219505848,1.2390415219505848,1.1202753202336073],\"xaxis\":\"x\",\"y\":[-4925.0,-4925.0,-4940.0,-4940.0],\"yaxis\":\"y\",\"type\":\"scatter\"},{\"hoverinfo\":\"text\",\"marker\":{\"color\":\"rgb(0,116,217)\"},\"mode\":\"lines\",\"text\":[\"concierto_movistar arena_bad_lollapalooza_anunci\\u00f3\",\"\",\"\",\"sheeran_rosal\\u00eda_motomami_ed sheeran_balvin\"],\"x\":[1.2390415219505848,1.281299027465896,1.281299027465896,0.0],\"xaxis\":\"x\",\"y\":[-4932.5,-4932.5,-4955.0,-4955.0],\"yaxis\":\"y\",\"type\":\"scatter\"},{\"hoverinfo\":\"text\",\"marker\":{\"color\":\"rgb(0,116,217)\"},\"mode\":\"lines\",\"text\":[\"concierto_movistar arena_bad_lollapalooza_anunci\\u00f3\",\"\",\"\",\"grammy_laferte_latin_mon laferte_bad bunny\"],\"x\":[1.281299027465896,1.2920955848397055,1.2920955848397055,0.0],\"xaxis\":\"x\",\"y\":[-4943.75,-4943.75,-4965.0,-4965.0],\"yaxis\":\"y\",\"type\":\"scatter\"},{\"hoverinfo\":\"text\",\"marker\":{\"color\":\"rgb(0,116,217)\"},\"mode\":\"lines\",\"text\":[\"concierto_movistar arena_bad_lollapalooza_anunci\\u00f3\",\"\",\"\",\"grammy_laferte_latin_mon laferte_bad bunny\"],\"x\":[1.615562879984869,1.957104815482211,1.957104815482211,1.2920955848397055],\"xaxis\":\"x\",\"y\":[-4888.75,-4888.75,-4954.375,-4954.375],\"yaxis\":\"y\",\"type\":\"scatter\"},{\"hoverinfo\":\"text\",\"marker\":{\"color\":\"rgb(0,116,217)\"},\"mode\":\"lines\",\"text\":[\"bestia_platino_mejor cortometraje_annie_covarrubias\",\"\",\"\",\"mejor pel\\u00edcula_bafta_coda_oro_perro\"],\"x\":[0.0,1.0765879264106906,1.0765879264106906,0.0],\"xaxis\":\"x\",\"y\":[-4975.0,-4975.0,-4985.0,-4985.0],\"yaxis\":\"y\",\"type\":\"scatter\"},{\"hoverinfo\":\"text\",\"marker\":{\"color\":\"rgb(0,116,217)\"},\"mode\":\"lines\",\"text\":[\"indira_garc\\u00eda m\\u00e1rquez_madre_spears_menem\",\"\",\"\",\"actriz_jappening_vicu\\u00f1a_su\\u00e1rez_jappening ja\"],\"x\":[0.0,1.293017204265479,1.293017204265479,0.0],\"xaxis\":\"x\",\"y\":[-4995.0,-4995.0,-5005.0,-5005.0],\"yaxis\":\"y\",\"type\":\"scatter\"},{\"hoverinfo\":\"text\",\"marker\":{\"color\":\"rgb(0,116,217)\"},\"mode\":\"lines\",\"text\":[\"actor_chris rock_gala_jada_pinkett\",\"\",\"\",\"baldwin_depp_hutchins_rodaje_alec\"],\"x\":[0.0,1.335315679897758,1.335315679897758,0.0],\"xaxis\":\"x\",\"y\":[-5015.0,-5015.0,-5025.0,-5025.0],\"yaxis\":\"y\",\"type\":\"scatter\"},{\"hoverinfo\":\"text\",\"marker\":{\"color\":\"rgb(0,116,217)\"},\"mode\":\"lines\",\"text\":[\"actor_chris rock_gala_jada_pinkett\",\"\",\"\",\"willis_bruce_emily_ulliel_pel\\u00edculas\"],\"x\":[1.335315679897758,1.3510629012931157,1.3510629012931157,0.0],\"xaxis\":\"x\",\"y\":[-5020.0,-5020.0,-5035.0,-5035.0],\"yaxis\":\"y\",\"type\":\"scatter\"},{\"hoverinfo\":\"text\",\"marker\":{\"color\":\"rgb(0,116,217)\"},\"mode\":\"lines\",\"text\":[\"actor_madre_indira_spears_menem\",\"\",\"\",\"willis_bruce_emily_ulliel_pel\\u00edculas\"],\"x\":[1.293017204265479,1.3886086648037166,1.3886086648037166,1.3510629012931157],\"xaxis\":\"x\",\"y\":[-5000.0,-5000.0,-5027.5,-5027.5],\"yaxis\":\"y\",\"type\":\"scatter\"},{\"hoverinfo\":\"text\",\"marker\":{\"color\":\"rgb(0,116,217)\"},\"mode\":\"lines\",\"text\":[\"pel\\u00edcula_netflix_batman_personaje_hbo\",\"\",\"\",\"pel\\u00edcula_c\\u00f3mo_stewart_hermanos_personajes\"],\"x\":[0.0,1.2075132391345587,1.2075132391345587,0.0],\"xaxis\":\"x\",\"y\":[-5055.0,-5055.0,-5065.0,-5065.0],\"yaxis\":\"y\",\"type\":\"scatter\"},{\"hoverinfo\":\"text\",\"marker\":{\"color\":\"rgb(0,116,217)\"},\"mode\":\"lines\",\"text\":[\"jes\\u00fas_pel\\u00edcula_nazareth_mes\\u00edas_scorsese\",\"\",\"\",\"pel\\u00edcula_netflix_hbo_disney_universo\"],\"x\":[0.0,1.3072066919516,1.3072066919516,1.2075132391345587],\"xaxis\":\"x\",\"y\":[-5045.0,-5045.0,-5060.0,-5060.0],\"yaxis\":\"y\",\"type\":\"scatter\"},{\"hoverinfo\":\"text\",\"marker\":{\"color\":\"rgb(0,116,217)\"},\"mode\":\"lines\",\"text\":[\"jes\\u00fas_pel\\u00edcula_nazareth_mes\\u00edas_scorsese\",\"\",\"\",\"ps5_ps4_pok\\u00e9mon_saga_jugadores\"],\"x\":[1.3072066919516,1.368103537557865,1.368103537557865,0.0],\"xaxis\":\"x\",\"y\":[-5052.5,-5052.5,-5075.0,-5075.0],\"yaxis\":\"y\",\"type\":\"scatter\"},{\"hoverinfo\":\"text\",\"marker\":{\"color\":\"rgb(0,116,217)\"},\"mode\":\"lines\",\"text\":[\"jes\\u00fas_pel\\u00edcula_nazareth_mes\\u00edas_scorsese\",\"\",\"\",\"ps5_ps4_pok\\u00e9mon_saga_jugadores\"],\"x\":[1.3886086648037166,1.521462594329429,1.521462594329429,1.368103537557865],\"xaxis\":\"x\",\"y\":[-5013.75,-5013.75,-5063.75,-5063.75],\"yaxis\":\"y\",\"type\":\"scatter\"},{\"hoverinfo\":\"text\",\"marker\":{\"color\":\"rgb(0,116,217)\"},\"mode\":\"lines\",\"text\":[\"mejor pel\\u00edcula_the_categor\\u00eda_bafta_perro\",\"\",\"\",\"ps5_ps4_pok\\u00e9mon_saga_jugadores\"],\"x\":[1.0765879264106906,1.5668826823127215,1.5668826823127215,1.521462594329429],\"xaxis\":\"x\",\"y\":[-4980.0,-4980.0,-5038.75,-5038.75],\"yaxis\":\"y\",\"type\":\"scatter\"},{\"hoverinfo\":\"text\",\"marker\":{\"color\":\"rgb(0,116,217)\"},\"mode\":\"lines\",\"text\":[\"mejor pel\\u00edcula_the_categor\\u00eda_bafta_perro\",\"\",\"\",\"ps5_ps4_pok\\u00e9mon_saga_jugadores\"],\"x\":[1.957104815482211,1.9858007716660737,1.9858007716660737,1.5668826823127215],\"xaxis\":\"x\",\"y\":[-4921.5625,-4921.5625,-5009.375,-5009.375],\"yaxis\":\"y\",\"type\":\"scatter\"},{\"hoverinfo\":\"text\",\"marker\":{\"color\":\"rgb(0,116,217)\"},\"mode\":\"lines\",\"text\":[\"mejor pel\\u00edcula_the_categor\\u00eda_bafta_perro\",\"\",\"\",\"ps5_ps4_pok\\u00e9mon_saga_jugadores\"],\"x\":[2.8166487299604097,2.911528671369958,2.911528671369958,1.9858007716660737],\"xaxis\":\"x\",\"y\":[-3570.0555419921875,-3570.0555419921875,-4965.46875,-4965.46875],\"yaxis\":\"y\",\"type\":\"scatter\"},{\"hoverinfo\":\"text\",\"marker\":{\"color\":\"rgb(61,153,112)\"},\"mode\":\"lines\",\"text\":[\"jsdcreateelement_jsdcreateelement jsidid_jsdcreateelement jsidid jssrcp_jsidid_jsidid jssrcp\",\"\",\"\",\"js_dlocation_comment name email_new date_dlocation http https\"],\"x\":[0.0,0.3695813753328943,0.3695813753328943,0.0],\"xaxis\":\"x\",\"y\":[-5095.0,-5095.0,-5105.0,-5105.0],\"yaxis\":\"y\",\"type\":\"scatter\"},{\"hoverinfo\":\"text\",\"marker\":{\"color\":\"rgb(61,153,112)\"},\"mode\":\"lines\",\"text\":[\"id_penal castro_fjsdgetelementsbytagname phttp_twitterwjs_fjsparentnodeinsertbefore\",\"\",\"\",\"fjsparentnodeinsertbefore_fundacionrem_fjsdgetelementsbytagname phttp_https if dgetelementbyid_fjsdgetelementsbytagname\"],\"x\":[0.0,0.5219533606186457,0.5219533606186457,0.3695813753328943],\"xaxis\":\"x\",\"y\":[-5085.0,-5085.0,-5100.0,-5100.0],\"yaxis\":\"y\",\"type\":\"scatter\"},{\"hoverinfo\":\"text\",\"marker\":{\"color\":\"rgb(0,116,217)\"},\"mode\":\"lines\",\"text\":[\"id_penal castro_fjsdgetelementsbytagname phttp_twitterwjs_fjsparentnodeinsertbefore\",\"\",\"\",\"test dlocation_phttp_jsidid_jsdcreateelement_js fjs document\"],\"x\":[2.911528671369958,3.529964950065254,3.529964950065254,0.5219533606186457],\"xaxis\":\"x\",\"y\":[-4267.762145996094,-4267.762145996094,-5092.5,-5092.5],\"yaxis\":\"y\",\"type\":\"scatter\"},{\"hoverinfo\":\"text\",\"marker\":{\"color\":\"rgb(0,116,217)\"},\"mode\":\"lines\",\"text\":[\"id_penal castro_fjsdgetelementsbytagname phttp_twitterwjs_fjsparentnodeinsertbefore\",\"\",\"\",\"test dlocation_phttp_jsidid_jsdcreateelement_js fjs document\"],\"x\":[2.354940720970548,4.535893017076697,4.535893017076697,3.529964950065254],\"xaxis\":\"x\",\"y\":[-2864.375,-2864.375,-4680.131072998047,-4680.131072998047],\"yaxis\":\"y\",\"type\":\"scatter\"},{\"hoverinfo\":\"text\",\"marker\":{\"color\":\"rgb(0,116,217)\"},\"mode\":\"lines\",\"text\":[\"id_penal castro_fjsdgetelementsbytagname phttp_twitterwjs_fjsparentnodeinsertbefore\",\"\",\"\",\"test dlocation_phttp_jsidid_jsdcreateelement_js fjs document\"],\"x\":[3.938277990350034,5.0693580406118475,5.0693580406118475,4.535893017076697],\"xaxis\":\"x\",\"y\":[-2002.8277587890625,-2002.8277587890625,-3772.2530364990234,-3772.2530364990234],\"yaxis\":\"y\",\"type\":\"scatter\"},{\"hoverinfo\":\"text\",\"marker\":{\"color\":\"rgb(0,116,217)\"},\"mode\":\"lines\",\"text\":[\"uci_provincia_covid19_ventilaci\\u00f3n_salud\",\"\",\"\",\"test dlocation_phttp_jsidid_jsdcreateelement_js fjs document\"],\"x\":[2.2583926708115936,5.439740221931331,5.439740221931331,5.0693580406118475],\"xaxis\":\"x\",\"y\":[-74.84375,-74.84375,-2887.540397644043,-2887.540397644043],\"yaxis\":\"y\",\"type\":\"scatter\"},{\"hoverinfo\":\"text\",\"hovertext\":[\"covid19_nuevos casos_camas_minsal_nivel nacional\",\"covid19_minsal_nuevos casos_camas_paris\",\"dosis_casos_red salud regional_covid_nuevos\",\"residencia_regi\\u00f3n_contagios_reportaron_integrada salud\",\"aislamiento_intermedio_coronavirus_ancud_internadas\",\"provincia_contagios_osorno_activos_camas uci\",\"covid19_minsal_nuevos casos_24 horas_salud\",\"mayores_senama_personas_100 l\\u00edderes_aroca\",\"ni\\u00f1os_campa\\u00f1a_viejito_correoschile_regalo\",\"jard\\u00edn infantil_junji_educaci\\u00f3n_cuna_fundaci\\u00f3n integra\",\"jard\\u00edn infantil_junji_educaci\\u00f3n_cuna_fundaci\\u00f3n integra\",\"adolescentes_ni\\u00f1as_servicio mejor ni\\u00f1ez_adolescencia_especializada\",\"terreno_servicios p\\u00fablicos_consultas_serem\\u00eda_oficina regularizaci\\u00f3n\",\"vecina_farmacia ciudadana_rahue_cenabast_f\\u00e1rmacos\",\"vecina_farmacia ciudadana_rahue_cenabast_f\\u00e1rmacos\",\"5g_\\u00f3ptica_localidades_hughes_social red\",\"templo_pauly_dise\\u00f1o_huyar bajo_casa pauly\",\"vivienda_hualaihu\\u00e9_comuna_ciudadana_cerro philippi\",\"subdere_cierre perimetral_verdes_junta vecinos_calle\",\"aniversario_batalla_casa chilota_464_alcalde\",\"aniversario_batalla_casa chilota_464_alcalde\",\"rampa_ril\\u00e1n_direcci\\u00f3n obras portuarias_refugio_borde\",\"chacao_isla_fry_va_proyecto\",\"chacao_isla_fry_va_proyecto\",\"urbanismo_minvu_materiales_proyecto_sue\\u00f1o\",\"superintendente_kauak_instituci\\u00f3n_a\\u00f1os_tercera compa\\u00f1\\u00eda bomberos\",\"superintendente_kauak_instituci\\u00f3n_a\\u00f1os_tercera compa\\u00f1\\u00eda bomberos\",\"proyectos_organizaciones sociales_concurso_fril_millones pesos\",\"proyectos_organizaciones sociales_concurso_fril_millones pesos\",\"gobernador_vallesp\\u00edn_vallespin_licitaciones_palena\",\"giovanna_delegada presidencial regional_vecinos_pailalef_trabajo\",\"gobernadores_vallespin_giovanna_boric_delegada presidencial regional\",\"gobernadores_vallespin_giovanna_boric_delegada presidencial regional\",\"gobernadores_vallespin_giovanna_boric_delegada presidencial regional\",\"essal_aguas servidas_varas_llanquihue_malos\",\"tenglo_borde_plan tenglo_limpieza playas_bienes\",\"microbasurales_vecinos_retiro_puntos_empresa\",\"humedal urbano_medio_protecci\\u00f3n_urbanos_bosque\",\"escasez_decreto_apr_consultivo_gobernador\",\"apr_aljibe_cami\\u00f3n_sectores_escasez\",\"aquasur_consejo_salmonchile_aquasur 2022_industria acu\\u00edcola\",\"aquasur_consejo_salmonchile_aquasur 2022_industria acu\\u00edcola\",\"turberas_agua_pomponales_comisi\\u00f3n medio ambiente_sbap\",\"turberas_agua_pomponales_comisi\\u00f3n medio ambiente_sbap\",\"planeta_reloj_inundaciones_kilotoneladas_impactos\",\"planeta_reloj_inundaciones_kilotoneladas_impactos\",\"planeta_reloj_inundaciones_kilotoneladas_impactos\",\"planeta_reloj_inundaciones_kilotoneladas_impactos\",\"ruta parques patagonia_conservaci\\u00f3n_pti_corfo_conaf\",\"ruta parques patagonia_conservaci\\u00f3n_pti_corfo_conaf\",\"primer tramo_observatorio_turismo_pilauco_dise\\u00f1o\",\"primer tramo_observatorio_turismo_pilauco_dise\\u00f1o\",\"productos_campesina_feria municipal emprendedores_navide\\u00f1a_purranque\",\"productos_campesina_feria municipal emprendedores_navide\\u00f1a_purranque\",\"productos_campesina_feria municipal emprendedores_navide\\u00f1a_purranque\",\"arqueolog\\u00eda_jornadas_proyecto explora_festival ciencia lagos_sede\",\"nativo_artes_artistas_galer\\u00eda_centro cultural bosque\",\"libro_universidad_ciencia tecnolog\\u00eda conocimiento_sede puerto montt_uach\",\"libro_universidad_ciencia tecnolog\\u00eda conocimiento_sede puerto montt_uach\",\"libro_universidad_ciencia tecnolog\\u00eda conocimiento_sede puerto montt_uach\",\"maillen_maillen puqueld\\u00f3n_slep_problemas_daem\",\"estudiantes_uach_sede_liceo_ciencias\",\"obras_complementarias_hospital_regional vialidad_serviu\",\"obras_complementarias_hospital_regional vialidad_serviu\",\"obras_complementarias_hospital_regional vialidad_serviu\",\"chilo\\u00e9_chile_mujeres_pa\\u00eds_di\\u00e1logo\",\"chilo\\u00e9_chile_mujeres_pa\\u00eds_di\\u00e1logo\",\"mascarilla_obligatorio_paso_espacios abiertos_metro\",\"comuna_fase_enero_evento_alcalde\",\"comuna_fase_enero_evento_alcalde\",\"pcr_pasos_negativo_deber\\u00e1n_declaraci\\u00f3n jurada\",\"becerra_seremi salud_paso_religiosas_brotes\",\"educacionales_cuarentena_presenciales_estrechos_casos positivos\",\"variante_vacunados_pauta completa_muertes_pa\\u00edses\",\"variante_vacunados_pauta completa_muertes_pa\\u00edses\",\"montagnier_imii_kalergis_medicina_vih\",\"montagnier_imii_kalergis_medicina_vih\",\"montagnier_imii_kalergis_medicina_vih\",\"beb\\u00e9_nacido_servicio salud_ancud_trabajador\",\"beb\\u00e9_nacido_servicio salud_ancud_trabajador\",\"atenciones_urgencia_cirug\\u00eda_consultas_cesfam\",\"atenciones_urgencia_cirug\\u00eda_consultas_cesfam\",\"c\\u00e1ncer mama_tratamiento_s\\u00edntomas_f\\u00edsica_especialista\",\"solar_puede_especialista_protector_lentes\",\"solar_puede_especialista_protector_lentes\",\"mujeres_g\\u00e9nero_acoso_encuesta_participaci\\u00f3n\",\"mujeres_g\\u00e9nero_acoso_encuesta_participaci\\u00f3n\",\"mujeres_g\\u00e9nero_acoso_encuesta_participaci\\u00f3n\",\"mujeres_g\\u00e9nero_acoso_encuesta_participaci\\u00f3n\",\"mujeres_g\\u00e9nero_acoso_encuesta_participaci\\u00f3n\",\"pan_parafina_canasta_iva_pesos\",\"banco_central_tasa inter\\u00e9s_mercado_retiros\",\"petr\\u00f3leo_pa\\u00edses_sanciones_opep_d\\u00f3lares\",\"petr\\u00f3leo_pa\\u00edses_sanciones_opep_d\\u00f3lares\",\"petr\\u00f3leo_pa\\u00edses_sanciones_opep_d\\u00f3lares\",\"c\\u00e1maras_seguridad p\\u00fablica_robos_pelluco_vecinos\",\"pelluco_c\\u00e1maras_artificiales_clandestinas_comuna\",\"senda_accidentes_fiscalizaciones_carabineros_marihuana\",\"samu_accidente tr\\u00e1nsito_lugar_carabineros_camioneta\",\"samu_accidente tr\\u00e1nsito_lugar_carabineros_camioneta\",\"hallazgo_m\\u00e9dico legal_cuerpo vida_personal_terceras\",\"fiscal_teiguel_pericias_mochilero_pdi\",\"fiscal_teiguel_pericias_mochilero_pdi\",\"fiscal_teiguel_pericias_mochilero_pdi\",\"llamas_vivienda_labocar_puerto varas_adulto\",\"incendio forestal_casas_camilo henr\\u00edquez_pucoihue_conaf\",\"incendio forestal_casas_camilo henr\\u00edquez_pucoihue_conaf\",\"incendio forestal_casas_camilo henr\\u00edquez_pucoihue_conaf\",\"incendio forestal_casas_camilo henr\\u00edquez_pucoihue_conaf\",\"macrozona_abstenciones_biob\\u00edo_provincias_c\\u00e1mara\",\"macrozona_abstenciones_biob\\u00edo_provincias_c\\u00e1mara\",\"retiros_appen_boric_presidente electo_se\\u00f1ales\",\"boric_pi\\u00f1era_presidente electo gabriel_siches_cambio mando\",\"boric_pi\\u00f1era_presidente electo gabriel_siches_cambio mando\",\"dominga_papers_pandora_sebasti\\u00e1n pi\\u00f1era_acusaci\\u00f3n constitucional presidente\",\"kast_boric_candidato_sichel_jos\\u00e9 antonio\",\"kast_boric_candidato_sichel_jos\\u00e9 antonio\",\"kast_boric_candidato_sichel_jos\\u00e9 antonio\",\"servel_mesa_electoral_vocal_noviembre\",\"servel_mesa_electoral_vocal_noviembre\",\"excepci\\u00f3n_araucan\\u00eda_biob\\u00edo_ataque_provincias\",\"apoyos_normas_pleno_convenci\\u00f3n constitucional_nueva\",\"convenci\\u00f3n_constituci\\u00f3n_c\\u00e1mara_comisi\\u00f3n sistema pol\\u00edtico_plebiscito\",\"convenci\\u00f3n_constituci\\u00f3n_c\\u00e1mara_comisi\\u00f3n sistema pol\\u00edtico_plebiscito\",\"chilo\\u00e9_firmas_15 mil_constituyente_convencionales\",\"chilo\\u00e9_firmas_15 mil_constituyente_convencionales\",\"chilo\\u00e9_firmas_15 mil_constituyente_convencionales\",\"minutos_\\u00e1rea_palestino_partido_uc\",\"colo_esteban valencia_cristi\\u00e1n_primer equipo_azules\",\"colo_esteban valencia_cristi\\u00e1n_primer equipo_azules\",\"colo_esteban valencia_cristi\\u00e1n_primer equipo_azules\",\"tobar_castrilli_zampedri_var_colo\",\"paraguay_catar_mundial_ecuador_victorias\",\"paraguay_catar_mundial_ecuador_victorias\",\"roja_ben_selecci\\u00f3n chilena_mart\\u00edn lasarte_duelo\",\"lasarte_brereton_mart\\u00edn lasarte_ben_selecci\\u00f3n chilena\",\"lasarte_brereton_mart\\u00edn lasarte_ben_selecci\\u00f3n chilena\",\"inter_champions_real_madrid_final\",\"inter_champions_real_madrid_final\",\"inter_champions_real_madrid_final\",\"deportistas_km_avosur_recorrido_corredores\",\"f\\u00fatbol_rama_certamen_montt_series\",\"aba_atl\\u00e9tico puerto_copa_\\u00e1nimas_puntos\",\"planos_juegos_400_medallas oro_araucan\\u00eda\",\"ind_mindep_lindemann_juegos deportivos escolares_actividad\",\"ind_mindep_lindemann_juegos deportivos escolares_actividad\",\"ind_mindep_lindemann_juegos deportivos escolares_actividad\",\"carelmapu_cultural_duelo regional_chilo\\u00e9_barducci\",\"bombo fica_cueca_competencia_festival osorno leche_jaivas\",\"raquel_montecarmelo_sello excelencia artesan\\u00eda_cester\\u00eda_sogas\",\"raquel_montecarmelo_sello excelencia artesan\\u00eda_cester\\u00eda_sogas\",\"arte_obra_gogh_torlonia_lisa\",\"arte_obra_gogh_torlonia_lisa\",\"hiriart_luc\\u00eda_dama_apartheid_garret\\u00f3n\",\"yarur_weitzler_ex_dar\\u00edo_juan carlos yarur\",\"monse\\u00f1or_fieles_vald\\u00e9s_parroquias_v\\u00eda crucis\",\"monse\\u00f1or_fieles_vald\\u00e9s_parroquias_v\\u00eda crucis\",\"monse\\u00f1or_fieles_vald\\u00e9s_parroquias_v\\u00eda crucis\",\"rancagua_rienda_caballos_asociaci\\u00f3n_mohr\",\"djokovic_tabilo_garin_jarry_novak\",\"djokovic_tabilo_garin_jarry_novak\",\"downing_boris_fiestas_reino unido_starmer\",\"downing_boris_fiestas_reino unido_starmer\",\"escaz\\u00fa_acuerdo escaz\\u00fa_democracia_cumbre am\\u00e9ricas_am\\u00e9rica latina caribe\",\"parejas_sexo_civil_iguales_ley matrimonio igualitario\",\"parejas_sexo_civil_iguales_ley matrimonio igualitario\",\"saab_expresidente_fujimori_capitolio_maduro\",\"izurieta_malversaci\\u00f3n caudales p\\u00fablicos_arraigo_espinosa_rutherford\",\"izurieta_malversaci\\u00f3n caudales p\\u00fablicos_arraigo_espinosa_rutherford\",\"corte_juez_apelaciones puerto montt_juramento_titular\",\"corte_juez_apelaciones puerto montt_juramento_titular\",\"corte_juez_apelaciones puerto montt_juramento_titular\",\"saesa_fontecilla_servicio cliente saesa_800 600_800 600 801\",\"santa_plan_puntos control_aduana puerto montt_servicios\",\"solo uso_pl\\u00e1sticos_plumavit_bombillas_expendio\",\"fonasa_devoluci\\u00f3n cotizaciones pagadas_exceso_rut_pago\",\"fonasa_devoluci\\u00f3n cotizaciones pagadas_exceso_rut_pago\",\"fonasa_devoluci\\u00f3n cotizaciones pagadas_exceso_rut_pago\",\"superficiales_datum_permanente continuo_consuntivo_solicitud derecho\",\"superficiales_datum_permanente continuo_consuntivo_solicitud derecho\",\"general_armada_capit\\u00e1n_unidad_iii\\u00aa\",\"sernapesca_kilos_ilegal_recursos_sernapesca lagos\",\"sernapesca_kilos_ilegal_recursos_sernapesca lagos\",\"sernapesca_extracci\\u00f3n_toxinas marinas_roja_floraciones\",\"mariscos_calbuco_sernapesca_contaminados_paralizante\",\"mariscos_calbuco_sernapesca_contaminados_paralizante\",\"mariscos_calbuco_sernapesca_contaminados_paralizante\",\"pgu_pensi\\u00f3n garantizada universal_solidario_mil_65\",\"sename_sence_reinserci\\u00f3n social juvenil_kalen_armasur\",\"prueba_pdt_postulaci\\u00f3n_rendir_sistema admisi\\u00f3n escolar\",\"carrera_estudiantes_pedagog\\u00eda_formaci\\u00f3n_uach\",\"profesores_veto_colegio_proceso desmunicipalizaci\\u00f3n_estatuto docente\",\"parcc_acci\\u00f3n regional cambio_clim\\u8c29tico_consulta_corecc\",\"seremis_tardanza_autoridades_nombramiento_nuevo gobierno asuma\",\"energ\\u00eda_seremis_rd_diplomado_gabinete regional\",\"energ\\u00eda_seremis_rd_diplomado_gabinete regional\",\"convenci\\u00f3n_agrollanquihue_ideas_convencionales_voz\",\"convenci\\u00f3n_agrollanquihue_ideas_convencionales_voz\",\"convenci\\u00f3n_agrollanquihue_ideas_convencionales_voz\",\"indespa_sindicato_supersol_ley caletas_encargada regional indespa\",\"praderas_censo_fertilizaci\\u00f3n_odepa_unidades productivas\",\"praderas_censo_fertilizaci\\u00f3n_odepa_unidades productivas\",\"perros_ataques_agrollanquihue_ganado fauna silvestre_schwerter\",\"indespa_fundaci\\u00f3n chinquihue_chinquihue_directorio_ley\",\"indespa_fundaci\\u00f3n chinquihue_chinquihue_directorio_ley\",\"indespa_fundaci\\u00f3n chinquihue_chinquihue_directorio_ley\",\"pgu_beneficio_bono_pensi\\u00f3n garantizada universal_ips\",\"deezer_m\\u00fasica digital_betterfly_folgueira_kushki\",\"deezer_m\\u00fasica digital_betterfly_folgueira_kushki\",\"colores_zapatillas_sharpie_estilo_elegir\",\"doomscrolling_videojuegos_redes sociales_emojis_padres\",\"usuarios_ecommerce_check_point_aliexpress\",\"usuarios_ecommerce_check_point_aliexpress\",\"gu\\u00eda_corfo_sernatur_lagos_gastron\\u00f3mico\",\"gu\\u00eda_corfo_sernatur_lagos_gastron\\u00f3mico\",\"gu\\u00eda_corfo_sernatur_lagos_gastron\\u00f3mico\",\"ocupaci\\u00f3n_tasa desocupaci\\u00f3n_2020_fuerza_2021\",\"mm_precipitaciones_ca\\u00edda_grados_fen\\u00f3meno\",\"mm_precipitaciones_ca\\u00edda_grados_fen\\u00f3meno\",\"nasa_tierra_l\\u00e1ctea_agujero negro_masa\",\"nasa_tierra_l\\u00e1ctea_agujero negro_masa\",\"estudio_ant\\u00e1rtica_condiciones_especie_cient\\u00edficos\",\"estudio_ant\\u00e1rtica_condiciones_especie_cient\\u00edficos\",\"estudio_ant\\u00e1rtica_condiciones_especie_cient\\u00edficos\",\"oliva_pimienta_dontinto_peralta dontinto_cocina don tinto\",\"oliva_pimienta_dontinto_peralta dontinto_cocina don tinto\",\"oliva_pimienta_dontinto_peralta dontinto_cocina don tinto\",\"oliva_pimienta_dontinto_peralta dontinto_cocina don tinto\",\"libro_literatura_escritor_gurnah_escribir\",\"s\\u00faper_cantante_siento_a\\u00f1os_programa\",\"s\\u00faper_cantante_siento_a\\u00f1os_programa\",\"concierto_movistar arena_bad_lollapalooza_anunci\\u00f3\",\"concierto_movistar arena_bad_lollapalooza_anunci\\u00f3\",\"concierto_movistar arena_bad_lollapalooza_anunci\\u00f3\",\"actor_chris rock_gala_jada_pinkett\",\"actor_madre_indira_spears_menem\",\"jes\\u00fas_pel\\u00edcula_nazareth_mes\\u00edas_scorsese\",\"jes\\u00fas_pel\\u00edcula_nazareth_mes\\u00edas_scorsese\",\"mejor pel\\u00edcula_the_categor\\u00eda_bafta_perro\",\"mejor pel\\u00edcula_the_categor\\u00eda_bafta_perro\",\"mejor pel\\u00edcula_the_categor\\u00eda_bafta_perro\",\"id_penal castro_fjsdgetelementsbytagname phttp_twitterwjs_fjsparentnodeinsertbefore\",\"id_penal castro_fjsdgetelementsbytagname phttp_twitterwjs_fjsparentnodeinsertbefore\",\"id_penal castro_fjsdgetelementsbytagname phttp_twitterwjs_fjsparentnodeinsertbefore\",\"uci_provincia_covid19_ventilaci\\u00f3n_salud\"],\"marker\":{\"color\":\"black\"},\"mode\":\"markers\",\"showlegend\":false,\"x\":[0.9150205118893933,1.0614444323120211,1.0098405475245495,0.5778868676678798,1.1995330044417682,1.4424674576958216,1.331863831159898,1.300357745533765,1.365975774820773,1.1255400371565971,1.432333947270379,1.0322383943777762,1.3402260986445367,1.35108860736967,1.4628031299326676,1.2737052556055604,1.3658626111599437,1.3876778015733755,1.2661906311743136,1.4347488060667613,1.494342956485701,1.2868861210889855,1.3820040681970958,1.581395113302105,1.275488915575403,1.6888500976485632,1.684849573102865,1.2381926180949123,1.3374162846192583,1.375558676138996,1.2068495603206535,1.4393900998496276,1.5947642098341175,2.0141604629037406,1.1346560496087998,1.2379887130798766,1.5336719851741822,1.1243949536714752,1.295621257888679,1.3749060886815248,1.3849825557009807,1.348660384771139,1.3241308408140238,1.5321364595447486,1.5512384602914622,1.6895369059157415,1.6750841773623841,2.0896327603159395,1.2326916571907918,1.2966513489896816,1.3591931314300738,1.3778984664424958,1.2302467046657917,1.3316183807826947,1.715964289040683,1.3157571342072567,1.0554306112506908,1.3470937310468354,1.896530070252071,2.434403010088079,1.310382577041913,1.016172731310155,1.198457002040782,1.3110535641018486,1.3047727131502815,1.6181113937602216,1.6363103958362715,1.2479955774448837,1.2047307134259846,1.4059079155470053,1.5488192195981938,1.219941294724481,1.1869193888810097,1.1058217639666248,1.4866618589327756,1.3047740418994587,1.5470167608745813,1.7940500691803878,1.2941257112174815,1.3222131229807537,1.2628901086619257,1.410656998821643,1.1781114075615513,1.3093365126967882,1.2180055034053732,1.1931937103064887,1.26499952949431,1.4605272378296728,1.6856432779433377,2.0753858300784827,1.2826897391476775,1.1428387211497752,1.6131997096491568,2.404101106802541,2.1338167069936027,1.2504416201078066,1.3153924289496766,1.3764462899683831,1.0672478848850722,1.7082621965062557,1.2774132065611383,1.2986972406211739,1.3563591638957073,1.9879046224975119,1.3637944223882656,1.44185354695901,1.9934036909896555,2.9121319279962306,2.491011809007618,1.0899552222713509,1.2606704906349262,1.3673287638067597,1.2370324157152015,1.4043016554580687,1.4639834037217392,0.8989309649220205,1.3455047466515375,1.5889118341770736,1.1031735961451452,1.9827901526977594,1.3953104409781754,1.116266072771839,1.0773213042934895,1.2413702872859396,1.1549102463549268,2.361818073473868,3.6530548263214158,0.9834027205662466,1.2343344825312086,1.2173045471286268,1.2184816594774759,1.2916537193866218,1.2858005206234298,1.4304352732195558,1.2138150165384214,1.245758359883176,1.5515613299031805,0.917658450782157,1.6773341871097496,1.5679496312513514,1.1972640326338562,1.1499964207152833,1.0829830043984363,0.926952836335774,1.3101868087065012,1.4576408314613372,1.717807720270264,1.2700160471288455,1.2399685620341039,1.4158052757588777,1.3883524543392356,1.3947508557791461,1.437547597080659,1.3575535865440156,1.453188125895359,1.2394200220166378,1.5032567929784764,1.5336029216752876,1.3433257777410417,1.1301285783758113,1.6040614087928486,1.2901156338061142,1.3348618182572143,1.2948912093147675,1.4236303257852123,1.377271053915381,1.327470887276598,1.4058941142725834,1.5172063455167857,1.5477605423086116,1.439081877680949,1.8281286548954105,1.3823741025554137,1.3652382494923032,1.3722176845776943,1.3852097051653325,1.3943132794946436,1.44762660949678,1.5135474360677825,1.456770310206173,1.3212577055206216,1.2664559289331354,1.6831448709012498,1.191395455379066,1.2284746721497504,1.8947123957870298,1.9113630065978247,0.9327459897346911,1.151128399029665,1.2323105151189828,1.5844725113237605,1.270600676510091,1.3871262727015798,1.4642767263129122,1.2451592419596942,1.4715532056920635,1.3801797423996276,1.5357440446617063,1.3907328407832227,1.2530635681839724,1.4097585179103334,1.3221083758998164,1.4792193053546767,1.361809480848463,1.615381383199302,1.7423610391497217,1.5512336437496,1.357334262527663,1.3959367871293893,1.3308775137490139,1.3742722324986025,1.2837542303621252,1.5132178245653298,1.2676636187295252,1.5651465793796016,1.474199920177059,0.9251297430972286,1.2552286956302303,1.4049146197896607,1.3244931823010446,1.3129882420534236,1.4270547901879445,1.5175362496115623,1.891839953406392,1.9286339347016452,2.076643884568893,2.186397472844297,2.1375547792474907,1.3272750215630813,1.1579383751089853,1.433363905304442,1.2390415219505848,1.281299027465896,1.615562879984869,1.335315679897758,1.293017204265479,1.3072066919516,1.3886086648037166,1.0765879264106906,1.957104815482211,2.8166487299604097,2.911528671369958,2.354940720970548,3.938277990350034,2.2583926708115936],\"y\":[-20.0,-16.25,-92.5,-70.0,-132.5,-86.875,-33.125,-202.5,-213.75,-260.0,-226.875,-180.0,-340.0,-380.0,-350.0,-320.0,-430.0,-440.0,-410.0,-432.5,-344.375,-520.0,-530.0,-403.4375,-292.5,-383.359375,-213.59375,-610.0,-617.5,-626.25,-670.0,-680.0,-638.125,-348.26171875,-770.0,-750.0,-765.0,-730.0,-840.0,-850.0,-942.5,-912.5,-990.0,-934.375,-967.1875,-866.25,-759.375,-507.412109375,-1100.0,-1080.0,-1093.75,-1052.5,-1190.0,-1153.75,-1082.1875,-1220.0,-1260.0,-1230.0,-1128.90625,-676.6552734375,-1332.5,-1310.0,-1440.0,-1412.5,-1382.5,-1406.25,-1328.125,-1500.0,-1530.0,-1496.25,-1518.125,-1620.0,-1600.0,-1660.0,-1615.0,-1702.5,-1642.5,-1545.3125,-1770.0,-1750.0,-1802.5,-1763.75,-1890.0,-1886.25,-1860.0,-1950.0,-1930.0,-1880.3125,-1790.625,-1612.34375,-2002.5,-1980.0,-1996.875,-1731.8359375,-1383.125,-2110.0,-2106.25,-2072.5,-2160.0,-2097.8125,-2200.0,-2242.5,-2210.0,-2133.90625,-2280.0,-2290.0,-2182.890625,-1629.443359375,-933.21044921875,-2380.0,-2352.5,-2410.0,-2452.5,-2420.0,-2443.125,-2580.0,-2534.375,-2472.8125,-2610.0,-2516.875,-2370.0,-2670.0,-2700.0,-2677.5,-2650.0,-2469.21875,-1435.108642578125,-2780.0,-2812.5,-2787.5,-2743.75,-2850.0,-2892.5,-2860.0,-2932.5,-2943.75,-2881.875,-2980.0,-2918.125,-2774.6875,-3060.0,-3040.0,-3020.0,-3100.0,-3142.5,-3110.0,-3037.5,-3200.0,-3180.0,-3250.0,-3230.0,-3280.0,-3243.75,-3320.0,-3265.625,-3350.0,-3290.9375,-3193.75,-3402.5,-3380.0,-3258.984375,-3480.0,-3460.0,-3530.0,-3562.5,-3526.25,-3620.0,-3616.25,-3551.25,-3592.1875,-3475.0,-3328.8671875,-3702.5,-3750.0,-3790.0,-3830.0,-3800.0,-3760.0,-3790.0,-3716.25,-3932.5,-3902.5,-3773.75,-3980.0,-3987.5,-3849.0625,-3441.26953125,-4020.0,-4070.0,-4140.0,-4081.875,-4170.0,-4210.0,-4220.0,-4270.0,-4235.0,-4300.0,-4256.25,-4180.0,-4340.0,-4392.5,-4370.0,-4388.125,-4347.5,-4231.5625,-4109.0625,-4031.25,-4510.0,-4482.5,-4592.5,-4552.5,-4630.0,-4570.9375,-4660.0,-4604.21875,-4501.25,-4460.0,-4730.0,-4702.5,-4780.0,-4760.0,-4775.0,-4720.0,-4514.58984375,-4636.669921875,-4119.43359375,-3681.962890625,-3084.6875,-4860.0,-4900.0,-4870.0,-4932.5,-4943.75,-4888.75,-5020.0,-5000.0,-5052.5,-5013.75,-4980.0,-4921.5625,-3570.0555419921875,-4267.762145996094,-2864.375,-2002.8277587890625,-74.84375],\"type\":\"scatter\"},{\"hoverinfo\":\"text\",\"hovertext\":[\"covid19_nuevos casos_camas_minsal_nivel nacional\",\"r\\u00edos_casos activos_lanco_paillaco_panguipulli\",\"uci_nuevos casos_osorno_corresponden provincia_covid\",\"osorno_purranque_seremi salud_fecha corte_cansino\",\"aislamiento_covid_ancud_curaco v\\u00e9lez_v\\u00e9lez\",\"ancud_coronavirus_quell\\u00f3n_tratamiento intermedio_quemchi\",\"ancud_coronavirus_quell\\u00f3n_tratamiento intermedio_quemchi\",\"ancud_coronavirus_quell\\u00f3n_tratamiento intermedio_quemchi\",\"adultos_senama_vales_personas dependencia_cuidados\",\"senda_drogas_residencias_familias power_ni\\u00f1os primero\",\"junji_jard\\u00edn infantil_educaci\\u00f3n_actividades_familias\",\"junji_jard\\u00edn infantil_educaci\\u00f3n_actividades_familias\",\"proyecto_guevara_propia_antukuyen_seremi vivienda\",\"dominio_moreno_bienes nacionales jorge_propietario_t\\u00edtulo\",\"parque_luis ebel_martes domingo_acceso_ornato\",\"parque_luis ebel_martes domingo_acceso_ornato\",\"biblioteca p\\u00fablica_sede_65_cmpc_proyecto\",\"comuna_consulta ciudadana alerce_sat\\u00e9lite_17 octubre_16 17\",\"comuna_consulta ciudadana alerce_sat\\u00e9lite_17 octubre_16 17\",\"ceremonia_barrientos_ciudadanos destacados_municipal_castro\",\"alcalde_ceremonia_barrientos_juan_a\\u00f1os\",\"alcalde_ceremonia_barrientos_juan_a\\u00f1os\",\"obras portuarias_explanada_mejoramiento borde costero_luminarias_sector\",\"puente chacao_chacao_consorcio_cpc_horas extras\",\"puente chacao_chacao_consorcio_cpc_horas extras\",\"puente chacao_chacao_consorcio_cpc_horas extras\",\"carro_cuartel_francke_sexta_gobierno regional\",\"cuartel_cuerpo_compa\\u00f1\\u00eda bomberos_carros_sexta\",\"cuartel_cuerpo_compa\\u00f1\\u00eda bomberos_carros_sexta\",\"canal dalcahue_dalcahue_quinchao_transportes telecomunicaciones_trato directo\",\"gobernadores regionales_vallespin_boric_patricio vallespin_gabriel boric\",\"consejeros_regionalizaci\\u00f3n_ciencias_ulagos_gobernador\",\"consejeros_regionalizaci\\u00f3n_ciencias_ulagos_gobernador\",\"consejeros_regionalizaci\\u00f3n_ciencias_ulagos_gobernador\",\"puntra_roble_sma_superintendencia medio ambiente_cal austral\",\"puntra_roble_sma_superintendencia medio ambiente_cal austral\",\"residuos s\\u00f3lidos domiciliarios_relleno sanitario_luxemburgo_manejo_estrategia\",\"residuos s\\u00f3lidos domiciliarios_medio_manejo_relleno sanitario_comunidad\",\"residuos s\\u00f3lidos domiciliarios_medio_manejo_relleno sanitario_comunidad\",\"indap_cambio_sistemas_agricultores_cnr\",\"subdere_carelmapu_familias_millones_pablo hern\\u00e1ndez\",\"subdere_apr_carelmapu_vecinos_agua potable rural\",\"calefactores_episodios cr\\u00edticos_plan descontaminaci\\u00f3n_recambio_calidad\",\"econom\\u00eda circular_sustentabilidad_corfo_eurochile_residuos\",\"cultivo_productores_variedades_aquasur_salm\\u00f3n\",\"cultivo_productores_variedades_aquasur_salm\\u00f3n\",\"carbono_cambio_vegetaci\\u00f3n_sequ\\u00eda_mapbiomas\",\"carbono_cambio_vegetaci\\u00f3n_sequ\\u00eda_mapbiomas\",\"cop26_cumbre_glasgow_calentamiento global_grados\",\"cop26_cumbre_glasgow_calentamiento global_grados\",\"cop26_cumbre_glasgow_calentamiento global_grados\",\"cop26_cumbre_glasgow_calentamiento global_grados\",\"parque_visitantes_conaf_aichele_jorge aichele\",\"manquemapu_tour_relv_experiencias_mall\",\"quehui_sabingo_programa sabingo_chilevisi\\u00f3n_atractivos tur\\u00edsticos isla\",\"quehui_sabingo_programa sabingo_chilevisi\\u00f3n_atractivos tur\\u00edsticos isla\",\"sercotec_centro negocios_vitrina_emprendimiento_capacitaciones\",\"sercotec_centro negocios_mujeres_corfo_saesa\",\"conekta_destilado_chilwe_alimentos saludables_universidad\",\"conekta_destilado_chilwe_alimentos saludables_universidad\",\"sede_jornadas_uach_proyecto explora_escuela arqueolog\\u00eda\",\"tnch_teatro nacional_sala 13_temporales_funci\\u00f3n\",\"lago_artes_centro cultural_obra_horas\",\"teatro lago_artes_festival_musical_artistas\",\"teatro lago_artes_festival_musical_artistas\",\"teatro lago_artes_festival_musical_artistas\",\"establecimiento_liceo_superintendencia_denuncia_apoderados\",\"apoderados_maillen_chacao_estudiantes_corporaci\\u00f3n\",\"apoderados_maillen_chacao_estudiantes_corporaci\\u00f3n\",\"auditor\\u00eda_funcionarios_corporaci\\u00f3n municipal_asistentes educaci\\u00f3n_recursos\",\"ovejer\\u00eda_buses_locomoci\\u00f3n_l\\u00ednea_horarios\",\"castro_afectados_henr\\u00edquez_vera_levantemos\",\"castro_afectados_henr\\u00edquez_vera_levantemos\",\"pol\\u00edtico_boric_ser_conducta_guerra\",\"pol\\u00edtico_boric_ser_conducta_guerra\",\"aforo_chuyaca_toque queda_locales_olegario mohr\",\"reservas_puyehue_demanda_octay_pandemia\",\"reservas_puyehue_demanda_octay_pandemia\",\"apertura_samor\\u00e9_pasos_cardenal_futaleuf\\u00fa\",\"apertura_samor\\u00e9_cardenal_futaleuf\\u00fa_extranjeros residentes\",\"pcr_cuarentena_examen_marinovic_diputada jenny \\u00e1lvarez\",\"pcr_cuarentena_examen_marinovic_diputada jenny \\u00e1lvarez\",\"twele_vacaciones_casos_mascarillas_yarza\",\"twele_vacaciones_casos_mascarillas_yarza\",\"covid19_pfizer_infecci\\u00f3n_estudio_f\\u00e1rmaco\",\"tb_pesquisa_francisca werner_detecci\\u00f3n_expectoraci\\u00f3n\",\"tb_pesquisa_francisca werner_detecci\\u00f3n_expectoraci\\u00f3n\",\"tb_pesquisa_francisca werner_detecci\\u00f3n_expectoraci\\u00f3n\",\"ancud_familia_nacido_trabajador_lactante\",\"urgencia_cirug\\u00eda_consultas_espera_servicio salud reloncav\\u00ed\",\"primaria_comisi\\u00f3n salud_unidad calidad_chilena municipalidades_usuarios\",\"primaria_comisi\\u00f3n salud_unidad calidad_chilena municipalidades_usuarios\",\"atenciones_reloncav\\u00ed_urgencia_servicio salud reloncav\\u00ed_cesfam\",\"sarscov2_prote\\u00ednas_cerebro_revista_nariz\",\"donantes_trasplante_hospital_compatible_c\\u00e9lulas madre sangu\\u00edneas\",\"ni\\u00f1as_granovetter_cyt_carreras_ingenier\\u00eda\",\"g\\u00e9nero_hombres_laboral_ni\\u00f1as_estudio\",\"g\\u00e9nero_hombres_laboral_ni\\u00f1as_estudio\",\"g\\u00e9nero_hombres_laboral_ni\\u00f1as_estudio\",\"pan_canasta_iva_alimentos_pesos\",\"enap_pan_municipios_gas precio_fne\",\"kiev_mosc\\u00fa_militar_rusos_mari\\u00fapol\",\"kiev_mosc\\u00fa_rusos_militar_mari\\u00fapol\",\"kiev_mosc\\u00fa_rusos_militar_mari\\u00fapol\",\"kiev_mosc\\u00fa_rusos_militar_mari\\u00fapol\",\"accidentes_senda_carabineros_conducir_bajo influencia alcohol\",\"pelluco_carabineros_fuegos_vecinos_clandestinas\",\"hechos_denisse_carabineros_querella_violenta\",\"hechos_denisse_carabineros_querella_violenta\",\"coca\\u00edna_tr\\u00e1fico_detectives_sativa_detenci\\u00f3n\",\"coca\\u00edna_tr\\u00e1fico_detectives_sativa_detenci\\u00f3n\",\"cad\\u00e1ver_servicio m\\u00e9dico legal_homicidios_muerte_r\\u00edo\",\"b\\u00fasqueda_astete_h\\u00e9ctor astete_cocham\\u00f3_h\\u00e9ctor\",\"bote_volc\\u00e1n calbuco_accidental muerte_rescatarla_chamiza\",\"bote_volc\\u00e1n calbuco_accidental muerte_rescatarla_chamiza\",\"compa\\u00f1\\u00edas_cuerpo bomberos_lugar_propagaci\\u00f3n_viviendas\",\"incendios forestales_conaf_fuego_onemi_emergencia\",\"incendios forestales_conaf_fuego_onemi_viviendas\",\"incendios forestales_conaf_fuego_onemi_viviendas\",\"incendios forestales_conaf_fuego_onemi_viviendas\",\"incendios forestales_conaf_fuego_onemi_viviendas\",\"araucan\\u00eda_mapuche_violencia_biob\\u00edo_excepci\\u00f3n constitucional\",\"araucan\\u00eda_siches_ministra_izkia_izkia siches\",\"jara_reforma_ministra_40 horas_jeannette\",\"boric_pi\\u00f1era_presidente electo gabriel_siches_cambio mando\",\"monsalve_mapuche_ministra interior_paro_dialogar\",\"monsalve_mapuche_ministra interior_paro_dialogar\",\"proyecto_cuarto_c\\u00e1mara_gobierno_parlamentarios\",\"acusaci\\u00f3n_proyecto_diputados_pi\\u00f1era_presidente\",\"boric_kast_sichel_antonio kast_debate\",\"boric_kast_sichel_antonio kast_debate\",\"boric_kast_sichel_antonio kast_debate\",\"sichel_kast_chilo\\u00e9_boric_creo\",\"sichel_kast_chilo\\u00e9_boric_creo\",\"locales votaci\\u00f3n_servel_transporte_horas_ren\\u00e9 schmidt\",\"servel_electoral_locales votaci\\u00f3n_mesa_21 noviembre\",\"servel_electoral_locales votaci\\u00f3n_mesa_21 noviembre\",\"pleno_convenci\\u00f3n constitucional_pr\\u00f3rroga tres meses_comisiones_103\",\"pleno_convenci\\u00f3n constitucional_pr\\u00f3rroga tres meses_comisiones_103\",\"pleno_convenci\\u00f3n constitucional_pr\\u00f3rroga tres meses_comisiones_103\",\"pleno_nueva constituci\\u00f3n_convencionales_derechos_normas\",\"pleno_nueva constituci\\u00f3n_convencionales_derechos_normas\",\"partido_huachipato_audax italiano_libertadores_tabla\",\"partido_huachipato_audax italiano_libertadores_tabla\",\"colo_jugador_roggiero_\\u00e1lvaro brun_universidad cat\\u00f3lica\",\"club_mairena_volante_refuerzo_lobos\",\"club_mairena_volante_refuerzo_lobos\",\"sanci\\u00f3n_anfp_calama_arturo_tres partidos\",\"qatar_mundial_copa_conmebol_dinamarca\",\"colo_santiago morning_torneo_isidora_paranaense\",\"lasarte_ar\\u00e1nguiz_selecci\\u00f3n chilena_mart\\u00edn lasarte_brasil\",\"selecci\\u00f3n_lasarte_roja_sorpresas_m\\u00e9xico\",\"alexis_inter_medios italianos_nota_lautaro mart\\u00ednez\",\"alexis_inter_medios italianos_nota_lautaro mart\\u00ednez\",\"alexis_inter_medios italianos_nota_lautaro mart\\u00ednez\",\"ancud_deportistas_toros inclusi\\u00f3n_mtb_participaci\\u8d38n\",\"ancud_deportistas_toros inclusi\\u00f3n_mtb_participaci\\u8d38n\",\"ancud_deportistas_toros inclusi\\u00f3n_mtb_participaci\\u8d38n\",\"araucan\\u00eda_juegos araucan\\u00eda_araucan\\u00eda 2021_puntos frente_chilenas\",\"mindep_deportivos_actividad_f\\u00edsica_escolares\",\"ind_mindep_deportiva_lindemann_deporte claus lindemann\",\"ind_mindep_deportiva_lindemann_deporte claus lindemann\",\"hospital puerto montt_escultor_hpm_pandemia_jard\\u00edn infinito\",\"corea_misil hipers\\u00f3nico_norte_pionyang_jap\\u00f3n\",\"cultura_aforos_jaivas_vivo_piedra joe\",\"leonel_1962_chile_sifup_aramburu\",\"leonel_1962_chile_sifup_aramburu\",\"monse\\u00f1or_iglesia cat\\u00f3lica_papa_ramos_francisco\",\"monse\\u00f1or_iglesia cat\\u00f3lica_papa_ramos_francisco\",\"rally_cornejo_categor\\u00eda_segundo_r2\",\"endler_christiane endler_christiane_lyon_iffhs\",\"endler_christiane endler_christiane_lyon_iffhs\",\"endler_christiane endler_christiane_lyon_iffhs\",\"endler_christiane endler_christiane_lyon_iffhs\",\"kazajist\\u00e1n_almaty_siria_rehenes_primer ministro\",\"kazajist\\u00e1n_almaty_siria_rehenes_primer ministro\",\"electoral_daniel ortega_sandinista_legitimidad_asamblea nacional\",\"karina oliva_servel_ciper_137 millones_apruebo\",\"registro civil_parejas_sexo_iguales_amor\",\"registro civil_parejas_sexo_iguales_amor\",\"pandora papers_para\\u00edsos fiscales_millones d\\u00f3lares_islas v\\u00edrgenes brit\\u00e1nicas_suisse\",\"sexual_criminal_trata_organizaci\\u00f3n_personas fines explotaci\\u00f3n\",\"sexual_criminal_trata_organizaci\\u00f3n_personas fines explotaci\\u00f3n\",\"casinos_populares_corte apelaciones valdivia_m\\u00e1quinas_patente\",\"casinos_populares_juzgado_corte apelaciones valdivia_fallo\",\"casinos_populares_juzgado_corte apelaciones valdivia_fallo\",\"casinos_populares_juzgado_corte apelaciones valdivia_fallo\",\"corte programado_clientes_luz_sectores_mejoramiento asegurar servicio\",\"saesa_cuotas_servicio cliente saesa_800 600_b\\u00e1sicos\",\"sistema t\\u00e1ctico_operaci\\u00f3n policial_il\\u00edcitos_alza_carabineros comunidad\",\"consumidores_sernac_garant\\u00eda legal_ley_derecho\",\"chileatiende_estafa_denuncias_beneficios_funcionarios\",\"chileatiende_estafa_denuncias_beneficios_funcionarios\",\"chileatiende_estafa_denuncias_beneficios_funcionarios\",\"lebron_nba_asistencias_curry_knicks\",\"lebron_nba_asistencias_curry_knicks\",\"lebron_nba_asistencias_curry_knicks\",\"sernapesca_kilos_recursos_juzgado letras_ilegal\",\"lancha_quell\\u00f3n_b\\u00fasqueda_melinka_avi\\u00f3n\",\"videla_quinta zona naval_islas_chul\\u00edn_evacuaci\\u00f3n\",\"videla_quinta zona naval_islas_chul\\u00edn_evacuaci\\u00f3n\",\"videla_quinta zona naval_islas_chul\\u00edn_evacuaci\\u00f3n\",\"mariscos_calbuco_sernapesca_contaminados_paralizante\",\"mariscos_calbuco_sernapesca_contaminados_paralizante\",\"ips_beneficio_aporte familiar_monto_aguinaldo navidad\",\"ips_beneficio_aporte familiar_monto_aguinaldo navidad\",\"ife_sence_subsidio_protege_mil\",\"sence_ife_cursos_protege_postular\",\"sence_ife_cursos_protege_postular\",\"beca_pdt_podr\\u00e1n_postular_resultados\",\"beca_prueba_pdt_postular_2022\",\"secretarios_educaci\\u00f3n_generales corporaciones municipales_general corporaci\\u00f3n_secretaria\",\"mesa_seminario_chilo\\u00e9_municipalidad_conservaci\\u00f3n\",\"puelche_hualaihu\\u00e9_transportes_bimodal_caleta\",\"carvacho_presidente gabriel_seremi_universidad chile_carvacho d\\u00edaz\",\"cabildo_nueva_agrollanquihue_participaci\\u00f3n_convenci\\u00f3n constitucional\",\"cabildo_nueva_agrollanquihue_participaci\\u00f3n_convenci\\u00f3n constitucional\",\"cabildo_nueva_agrollanquihue_participaci\\u00f3n_convenci\\u00f3n constitucional\",\"indap_prodemu_campesina_indap prodemu_m\\u00f3dulo\",\"sag_animal_exportaci\\u00f3n_red crianceros_declaraci\\u00f3n existencia\",\"sag_animal_exportaci\\u00f3n_red crianceros_declaraci\\u00f3n existencia\",\"animal_mascota_tenencia responsable mascotas_subdere_asilvestrados\",\"animal_mascota_tenencia responsable mascotas_subdere_asilvestrados\",\"animal_mascota_tenencia responsable mascotas_subdere_asilvestrados\",\"animal_mascota_tenencia responsable mascotas_subdere_asilvestrados\",\"animal_mascota_tenencia responsable mascotas_subdere_asilvestrados\",\"us_exportaciones_exterior_cobre_2021\",\"global66_transbank_monedas_fintech_billetera\",\"global66_transbank_monedas_fintech_billetera\",\"cristo_hogar_abrazos_piso protecci\\u00f3n_ni\\u00f1os ni\\u00f1as adolescentes\",\"sharpie_tonos_slime_puede_comodidad\",\"puedes_tauro_acuario_or\\u00e1culo_libra\",\"puedes_tauro_acuario_or\\u00e1culo_libra\",\"usuarios_mercado_informaci\\u00f3n_ecommerce_tecnolog\\u00eda\",\"gu\\u00eda_corfo_sernatur_lagos_chileno\",\"gu\\u00eda_corfo_sernatur_lagos_chileno\",\"gu\\u00eda_corfo_sernatur_lagos_chileno\",\"gu\\u00eda_corfo_sernatur_lagos_chileno\",\"tsunami_alerta_onemi_evacuaci\\u00f3n_metros\",\"tormentas_alerta_temprana_chile dmc_onemi\",\"nasa_estrella_eei_agujeros negros_tierra\",\"nasa_estrella_eei_agujeros negros_tierra\",\"uach_dr_especies_universidad austral chile_carbono\",\"uach_dr_especies_universidad austral chile_carbono\",\"uach_dr_especies_universidad austral chile_carbono\",\"taza_oliva_sal pimienta_horno_minutos\",\"taza_oliva_sal pimienta_horno_minutos\",\"taza_oliva_sal pimienta_horno_minutos\",\"taza_oliva_sal pimienta_horno_minutos\",\"poes\\u00eda_editorial_tiempo_ediciones_historia\",\"disco_le\\u00f3n_bien_vivo_cantar\",\"the_music_canci\\u00f3n_bunny_bad\",\"grammy_laferte_latin_mon laferte_bad bunny\",\"willis_bruce_emily_ulliel_pel\\u00edculas\",\"pel\\u00edcula_netflix_hbo_disney_universo\",\"ps5_ps4_pok\\u00e9mon_saga_jugadores\",\"ps5_ps4_pok\\u00e9mon_saga_jugadores\",\"ps5_ps4_pok\\u00e9mon_saga_jugadores\",\"ps5_ps4_pok\\u00e9mon_saga_jugadores\",\"fjsparentnodeinsertbefore_fundacionrem_fjsdgetelementsbytagname phttp_https if dgetelementbyid_fjsdgetelementsbytagname\",\"test dlocation_phttp_jsidid_jsdcreateelement_js fjs document\",\"test dlocation_phttp_jsidid_jsdcreateelement_js fjs document\",\"test dlocation_phttp_jsidid_jsdcreateelement_js fjs document\",\"test dlocation_phttp_jsidid_jsdcreateelement_js fjs document\"],\"marker\":{\"color\":\"black\"},\"mode\":\"markers\",\"showlegend\":false,\"x\":[1.0296719165591488,1.220217445890403,0.9454669863091758,1.1015554550884386,1.0640773477667962,0.7452738114413444,1.4834949562340685,1.9779191903906816,1.2683193848313339,1.2852476605779408,1.3170476004134226,1.6622929842852145,1.1671754243801347,1.3087412026506702,1.3872117787359213,1.467929371846404,1.341376342745229,1.3180426552229747,1.4207758834905948,1.2886633596314558,1.3170948724363267,1.5080140646683216,1.235681257746136,1.28620171710568,1.4736047531933594,1.65849828787532,1.2357904310714736,1.2740924378585126,1.7043558137953458,1.1822882735214977,1.2176377622689405,1.236747904955725,1.4659333780902846,1.604713176406245,1.206861088595227,1.405158022761135,0.9973402221205169,1.255797574691907,1.595659854310709,1.2700643830493963,1.141425309762739,1.2126972574737318,1.2804621509038001,1.297121626368369,1.3031255660875287,1.461570161690369,1.3177854640236217,1.3390977512274638,1.1545539037345836,1.6089811984405569,1.9722148178574492,2.1111738564447258,1.053829876343215,1.3185872046657972,1.3626268063793645,1.437028667425875,1.209268658290801,1.2266425003303152,1.362448158289106,1.5154666598764668,1.2506239816285525,1.1416134404545295,1.2365946240436931,1.4574366945577644,1.666924733183608,2.1389992450554027,1.184317834040495,1.1733175311655368,1.4447267031087563,1.2186729427192362,1.276747674872635,1.3539224054234384,1.4393171330957215,1.2892713391685737,1.6894178356936251,1.297483830039563,1.154227169918853,1.4463421813460482,1.0863061562447838,1.243461826345322,1.3583580660698893,1.4183776423568564,1.292087683955907,1.383522046387954,1.2104283535863711,1.3638717592089782,1.4415766705413737,1.8032795934582977,1.3203056534090025,1.0819656504005535,1.254665783261261,1.332837418997593,1.408222920120827,1.2500300018369344,1.3458970765261642,1.2974505933728244,1.4482757996952338,1.8125354108950447,2.2164788690066963,1.0904567478181708,1.3102733981444294,0.6900962945727158,1.2494791545190802,2.099561623081066,2.5382957895004536,1.0963075490853447,1.283250981516594,1.3330070152599205,1.399633149364349,1.2913984669480847,1.489023143629257,0.9907406213844924,1.284274279592873,1.3747685152637208,1.5280766019253809,1.0418815545009834,0.8930016001209268,1.2363664266399763,1.5678405435683436,2.2678773706619695,3.2827325104076284,1.010343710964552,1.21614634239114,1.3085959064353851,1.1824336558764366,1.312371261435108,1.3959671149972346,1.2140261744164729,1.2704201360956753,1.1427329569080609,1.211777330301936,1.2718031283485476,1.346836075433238,1.510402853124017,1.0962358524968934,1.2561448775780126,2.2514694692640846,1.2283123965242742,1.282167968627805,1.347688316785849,1.3826049420125892,2.676743548223132,1.0551354477823816,1.1395877056093946,1.1352631474242172,1.3019270291836893,1.5039244218722203,1.3050516502222216,1.2451093097896089,1.3156256718820802,1.1120209612085814,1.2890014688403173,1.2401867421232777,1.3924548219858681,1.8423208674285012,1.3146670946630254,1.349678615828033,1.446650120917862,1.2717755569651885,1.1374407699099076,1.3674225769240411,1.8051606617059033,1.3740704546643494,1.423472350504511,1.3995327741129213,1.3818868001235558,1.3933063386796323,1.3659185642322624,1.576592399417893,1.1636973927101304,1.3954001427732263,1.4104565427221123,1.4806861896611314,1.6015988107894805,1.333171691706836,1.3657737210411964,1.3483205014255666,1.3774601930726686,1.3350782469991105,1.482194699861463,1.3944802357253325,1.349064362196185,1.4332300289179303,1.2640102387183367,1.2822882769143904,1.6607184820623047,1.7067101222887529,1.3204652197627402,1.2446143936300205,1.3936262337881458,1.3646382458755766,1.4004117228174513,1.430886972496187,1.4589907092249574,1.416368548003995,1.4259928752442603,1.5730935625300613,1.0162314416973548,1.2146757597748992,1.249759403823684,1.5103614243526136,1.8459109411173804,1.3600294455670074,2.004059244054747,1.2340704060597834,1.3093798968396202,1.2167581103534486,1.2849322234429625,1.412203808794962,1.309047074154075,1.3494443630468484,1.3581405142138538,1.3734311666115986,1.3847771993313263,1.3601004456105203,1.2619438365808013,1.4273964408724265,1.5927582473229143,1.305936847220693,1.349178305874227,1.4489107123855531,1.2272456285587505,1.5947141729396281,1.6117643638279906,1.6665566293391036,1.835028108788594,1.2627656958420044,1.3511398986722654,1.396615504893725,1.368198505616625,1.306617236343109,1.3692813415845426,1.388483227373291,1.297794376277237,1.1831606134514892,1.5050018388888773,1.6507915709074246,1.674056151349286,1.2228160495526035,1.3905515489380904,1.2937572247801932,1.3909214363594116,1.2587156989657462,1.5120433001441174,1.7517940789423567,0.85143490932792,1.9467122992662582,2.181037094124307,2.271528174869596,1.1268736191138455,1.272933535612015,1.1202753202336073,1.2920955848397055,1.3510629012931157,1.2075132391345587,1.368103537557865,1.521462594329429,1.5668826823127215,1.9858007716660737,0.3695813753328943,0.5219533606186457,3.529964950065254,4.535893017076697,5.0693580406118475],\"y\":[-27.5,-50.0,-100.0,-103.75,-140.0,-160.0,-146.25,-116.5625,-210.0,-240.0,-267.5,-247.1875,-300.0,-360.0,-387.5,-368.75,-450.0,-470.0,-455.0,-500.0,-492.5,-462.5,-540.0,-560.0,-545.0,-474.21875,-590.0,-582.5,-482.9296875,-650.0,-690.0,-710.0,-695.0,-666.5625,-790.0,-780.0,-820.0,-812.5,-788.75,-860.0,-890.0,-882.5,-920.0,-950.0,-970.0,-956.25,-1010.0,-1000.0,-1030.0,-998.59375,-932.421875,-845.8984375,-1060.0,-1107.5,-1130.0,-1111.875,-1170.0,-1162.5,-1197.5,-1175.625,-1240.0,-1290.0,-1282.5,-1271.25,-1250.625,-1189.765625,-1340.0,-1360.0,-1346.25,-1390.0,-1420.0,-1447.5,-1430.0,-1470.0,-1438.125,-1507.5,-1550.0,-1540.0,-1580.0,-1572.5,-1640.0,-1630.0,-1680.0,-1670.0,-1710.0,-1730.0,-1716.25,-1679.375,-1777.5,-1810.0,-1840.0,-1832.5,-1817.5,-1897.5,-1900.625,-1957.5,-1943.75,-1912.03125,-1851.328125,-2010.0,-2013.75,-2050.0,-2042.5,-2019.6875,-1875.76171875,-2080.0,-2117.5,-2140.0,-2123.125,-2180.0,-2170.0,-2220.0,-2250.0,-2253.75,-2231.875,-2300.0,-2330.0,-2322.5,-2306.25,-2244.5703125,-1937.0068359375,-2360.0,-2387.5,-2430.0,-2460.0,-2480.0,-2466.25,-2510.0,-2502.5,-2560.0,-2552.5,-2543.75,-2587.5,-2560.9375,-2630.0,-2620.0,-2568.4375,-2720.0,-2710.0,-2693.75,-2671.875,-2570.546875,-2760.0,-2752.5,-2820.0,-2823.75,-2805.625,-2870.0,-2900.0,-2903.75,-2940.0,-2954.375,-3000.0,-2990.0,-2954.0625,-3080.0,-3070.0,-3055.0,-3120.0,-3150.0,-3153.75,-3131.875,-3207.5,-3257.5,-3287.5,-3327.5,-3316.25,-3357.5,-3324.21875,-3410.0,-3440.0,-3432.5,-3417.5,-3398.75,-3500.0,-3490.0,-3537.5,-3570.0,-3590.0,-3576.25,-3627.5,-3650.0,-3633.125,-3680.0,-3672.5,-3632.34375,-3553.671875,-3710.0,-3730.0,-3770.0,-3810.0,-3850.0,-3840.0,-3820.0,-3880.0,-3872.5,-3831.25,-3910.0,-3940.0,-3960.0,-3946.25,-3924.375,-3996.25,-3922.65625,-4050.0,-4042.5,-4110.0,-4102.5,-4093.75,-4147.5,-4136.25,-4190.0,-4230.0,-4250.0,-4277.5,-4320.0,-4310.0,-4283.125,-4400.0,-4420.0,-4406.25,-4440.0,-4414.0625,-4380.78125,-4306.171875,-4207.6171875,-4490.0,-4530.0,-4520.0,-4560.0,-4600.0,-4603.75,-4589.375,-4637.5,-4680.0,-4670.0,-4637.109375,-4569.1796875,-4710.0,-4737.5,-4800.0,-4790.0,-4820.0,-4797.5,-4758.75,-4840.0,-4738.3349609375,-4428.88427734375,-4055.423583984375,-4880.0,-4907.5,-4940.0,-4954.375,-5027.5,-5060.0,-5063.75,-5038.75,-5009.375,-4965.46875,-5100.0,-5092.5,-4680.131072998047,-3772.2530364990234,-2887.540397644043],\"type\":\"scatter\"}],                        {\"autosize\":false,\"height\":7865,\"hovermode\":\"closest\",\"showlegend\":false,\"width\":1000,\"xaxis\":{\"mirror\":\"allticks\",\"rangemode\":\"tozero\",\"showgrid\":false,\"showline\":true,\"showticklabels\":true,\"ticks\":\"outside\",\"type\":\"linear\",\"zeroline\":false},\"yaxis\":{\"mirror\":\"allticks\",\"rangemode\":\"tozero\",\"showgrid\":false,\"showline\":true,\"showticklabels\":true,\"tickmode\":\"array\",\"ticks\":\"outside\",\"ticktext\":[\"166_minsal_covid19_positivi...\",\"51_casos_covid19_nivel naci...\",\"247_positividad_paris_peak\",\"384_variante \\u00f3micron_minsal...\",\"443_\\u00faltimas 24 horas_ant\\u00edge...\",\"251_r\\u00edos_casos activos_lanco\",\"102_confirmados_\\u00faltimas 24_...\",\"30_regi\\u00f3n_reportaron_contag...\",\"250_dosis_casos_red salud r...\",\"85_contagios_casos activos_...\",\"37_casos_total_corresponden...\",\"55_osorno_purranque_seremi ...\",\"379_pacientes_mansa_covid\",\"494_contagios_bown_uci\",\"175_aislamiento_covid_ancud\",\"160_aislamiento_intermedio_...\",\"262_neumon\\u00eda_cov2_sars cov2\",\"194_derechos_protecci\\u00f3n_ley\",\"372_mejor_servicio_sename\",\"221_fundaci\\u00f3n conecta mayor...\",\"242_senama_vales_gas\",\"225_cuidados_social familia...\",\"284_telet\\u00f3n_rehabilitaci\\u00f3n_...\",\"79_ni\\u00f1os_campa\\u00f1a_viejito\",\"256_senda_drogas_residencias\",\"96_ni\\u00f1os ni\\u00f1as_integra_jard...\",\"150_junji_jard\\u00edn infantil_e...\",\"263_junji_jardines infantil...\",\"389_materiales_familias_tar...\",\"482_comit\\u00e9_propia_antukuyen\",\"478_viviendas sociales_lagu...\",\"231_5g_localidades_telecomu...\",\"439_hughes_trabajo social r...\",\"431_karelia_universidad nor...\",\"297_bancoestado_autom\\u00e1tico_...\",\"328_terreno_servicios p\\u00fabli...\",\"207_dominio_moreno_bienes n...\",\"248_vecina_farmacia ciudada...\",\"139_pago permiso circulaci\\u00f3...\",\"467_parque_luis ebel_martes...\",\"308_subdere_esmeralda_calle\",\"227_subdere_59 millones_fut...\",\"483_chilo\\u00e9_caminos_isla\",\"201_intermodal_pasajeros_te...\",\"153_templo_pauly_dise\\u00f1o\",\"393_biblioteca p\\u00fablica_sede...\",\"108_vivienda_hualaihu\\u00e9_comuna\",\"253_comuna_consulta ciudada...\",\"196_aniversario_batalla_cas...\",\"428_aniversario_brecas_117\",\"115_barrientos_ciudadanos d...\",\"414_consejo monumentos naci...\",\"436_obra_castrochonchi_ranco\",\"409_rampa_ril\\u00e1n_direcci\\u00f3n o...\",\"352_obras portuarias_lumina...\",\"314_chacao_isla_fry\",\"142_puente chacao_chacao_co...\",\"331_superintendente_kauak_i...\",\"266_cuartel_francke_brigada...\",\"354_villa santa_regional bo...\",\"386_cucao_posta_lechagua\",\"48_proyectos_fondo_concurso\",\"313_desarrollo zonas_gonzal...\",\"497_vallespin_san_fril\",\"197_gobernador_vallesp\\u00edn_va...\",\"65_canal dalcahue_dalcahue_...\",\"145_vecinos_delegada presid...\",\"134_giovanna_pailalef_claud...\",\"410_vallespin_obras p\\u00fablica...\",\"234_vallespin_boric_patrici...\",\"374_cores_gobernador region...\",\"362_descentralizaci\\u00f3n_ulago...\",\"407_urbano_r\\u00edo maull\\u00edn_sant...\",\"24_humedal urbano_medio_bos...\",\"72_tenglo_plan tenglo_playas\",\"121_bienes_ba\\u00f1o_uso\",\"73_essal_obstrucciones_siss\",\"290_essal_llanquihue_amplia...\",\"291_ecoprial_planta_impacto\",\"127_puntra_roble_sma\",\"66_microbasurales_vecinos_r...\",\"71_domiciliarios_galp\\u00f3n_res...\",\"131_reduce_chilo\\u00e9_chilo\\u8305\",\"441_mesa_agua_apr\",\"400_escasez_general aguas_d...\",\"465_h\\u00eddrica_crisis agua_cam...\",\"377_indap_cambio clim\\u00e1tico_...\",\"47_apr_aljibe_cami\\u00f3n\",\"202_carelmapu_subdere_proye...\",\"282_subdere_moyano_pasajes\",\"369_energ\\u00eda el\\u00e9ctrica_islas...\",\"75_energ\\u00edas renovables_100 ...\",\"222_calefactores_episodios ...\",\"237_imagen chile_creadores_...\",\"355_eurochile_corfo_pyme\",\"319_lechero_pti_clim\\u00e1tico\",\"97_aquasur_consejo_salmonch...\",\"17_cultivo_inia_productores\",\"33_especie_chilo\\u00e9_vis\\u00f3n\",\"130_nauco_subterr\\u00e1neas_cuen...\",\"162_turberas_agua_pomponales\",\"296_carbono_cambio_vegetaci\\u00f3n\",\"323_planeta_reloj_inundacio...\",\"232_cop26_cumbre_glasgow\",\"489_wood_material reciclado...\",\"303_conaf_jorge aichele_con...\",\"508_biodiversidad_pumal\\u00edn_l...\",\"343_zoit_birregional_zoit l...\",\"401_creativo_lago llanquihu...\",\"119_ruta parques patagonia_...\",\"165_sernatur_turismo rural_...\",\"305_manquemapu_tour_relv\",\"418_primer tramo_observator...\",\"509_quehui_sabingo_programa...\",\"228_escuela pyme_transforma...\",\"38_emprendedores_saesa_corfo\",\"285_emprendedores_sercotec_...\",\"333_sercotec_vitrina_centro...\",\"356_feria municipal emprend...\",\"283_productos_purranque_nav...\",\"245_conekta_destilado_chilwe\",\"180_avonni_macrozona_tecnol...\",\"287_chilo\\u00e9_form\\u00f3 chilo\\u00e9_sub...\",\"209_arqueolog\\u00eda_jornadas_pr...\",\"485_universidad_congreso_cr...\",\"109_nativo_muestra_centro c...\",\"154_nativo_culturales_bosque\",\"12_teatro_lago_artes\",\"128_centro cultural_tnch_sa...\",\"235_biblioteca_pinocho_frut...\",\"13_docentes_uach_sede\",\"44_estudiantes_liceo_a\\u00f1o\",\"181_emociones_ni\\u00f1os ni\\u00f1as_r...\",\"50_escolares_asistencia_apo...\",\"35_establecimiento_liceo_su...\",\"259_maillen_maillen puqueld...\",\"304_apoderados_villa chacao...\",\"223_pileta_firmani_alcalde\",\"114_corporaci\\u00f3n_sindicato a...\",\"32_concejal_concejo_pileta\",\"21_comercio ambulante_orden...\",\"229_puerto montt_arriendos_...\",\"40_ovejer\\u00eda_buses_locomoci\\u00f3n\",\"29_regional vialidad_puente...\",\"53_complementarias_proyecto...\",\"4_castro_afectados_henr\\u00edquez\",\"34_chilo\\u00e9_chile_mujeres\",\"54_pol\\u00edtico_boric_ser\",\"212_retroceder\\u00e1n_comunas_pr...\",\"288_mascarilla_obligatorio_...\",\"350_pase movilidad_verano_a...\",\"249_aforo_chuyaca_toque queda\",\"87_actividad_muestras_visit...\",\"83_fase_costumbristas_masivas\",\"200_reservas_ocupaci\\u00f3n_puye...\",\"387_turismo_nui_subsecretario\",\"219_pcr_pasos_negativo\",\"206_samor\\u00e9_terrestres_c\\u00e1mar...\",\"276_futaleuf\\u00fa_paso fronteri...\",\"289_brote_establecimientos ...\",\"309_contactos estrechos_ser...\",\"22_vacunaci\\u00f3n_refuerzo_pobl...\",\"204_pfizer_1052_error\",\"463_becerra_seremi salud_paso\",\"122_pcr_cuarentena_examen\",\"63_variante \\u00f3micron_contagi...\",\"255_covid19_ola_variante \\u00f3m...\",\"498_minsal_trazabilidad_salud\",\"419_twele_vacaciones_casos\",\"470_covid19_oms_fauci\",\"260_medicamento_pfizer_moln...\",\"267_anticuerpos_estudio_cov...\",\"479_montagnier_imii_kalergis\",\"437_tb_pesquisa_francisca w...\",\"486_base_servicio salud chi...\",\"450_paciente_urgencia_baeza\",\"117_garc\\u00eda_joven_imagen\",\"339_espinoza_salud_lactante\",\"364_hospital_servicio salud...\",\"135_paro_cesfam_servicio\",\"141_urgencia_pacientes_covid\",\"31_cirug\\u00eda_hpm_espera\",\"152_fundaci\\u00f3n arturo_terren...\",\"312_primaria_reloncav\\u00ed_serv...\",\"368_primaria_comisi\\u00f3n salud...\",\"36_emocional_ni\\u00f1os_relaci\\u00f3n\",\"93_dormir_cambio hora_espec...\",\"168_solar_puede_especialista\",\"56_acv_s\\u00edntomas_riesgo\",\"84_precoz_tratamiento_falp\",\"58_sarscov2_prote\\u00ednas_cerebro\",\"60_donantes_trasplante_hosp...\",\"210_tribunales familia_v\\u00edct...\",\"192_escnna_conductas_ni\\u00f1os\",\"132_acoso sexual_encuesta_p...\",\"107_laboral_g\\u00e9nero_achs\",\"397_ni\\u00f1as_granovetter_cyt\",\"62_cr\\u00e9dito_empresas_fogape\",\"20_banco central_ipc_inter\\u00e9s\",\"344_impuesto_colectivos_con...\",\"120_pan_iva_estabilizaci\\u00f3n\",\"230_canasta_aceite_precio pan\",\"49_enap_chiguayante_gas pre...\",\"77_petr\\u00f3leo_pa\\u00edses_sanciones\",\"6_mosc\\u00fa_biden_kiev\",\"14_mari\\u00fapol_kiev_ucraniano\",\"268_marihuana_estudio_thc\",\"157_accidentes_senda_conducir\",\"220_carabineros_fin semana_...\",\"144_ret\\u00e9n_veh\\u00edculos policia...\",\"205_suplementeros_llevaron_...\",\"136_c\\u00e1maras_pelluco_p\\u00f3rticos\",\"236_artificiales_pelluco_co...\",\"395_ri\\u00f1a_calbucoy_querella\",\"158_hechos_denisse_carabine...\",\"174_chofer_siat_arraigo\",\"1_samu_accidente tr\\u00e1nsito_l...\",\"0_carabineros_robo_fiscal\",\"2_coca\\u00edna_tr\\u00e1fico_detectives\",\"477_fuerte descarga_joven t...\",\"446_sml_bote auxiliar_tena\\u00fan\",\"41_hallazgo_m\\u00e9dico legal_cu...\",\"118_r\\u00edo_m\\u00e9dico legal_h\\u00e9ctor...\",\"335_fiscal_teiguel_pericias\",\"329_foitzick_familia_ernesto\",\"91_b\\u00fasqueda_astete_h\\u00e9ctor a...\",\"385_bote_volc\\u00e1n calbuco_acc...\",\"363_braunau_nueva braunau_d...\",\"468_queilen_terceros_invest...\",\"170_llamas_vivienda_labocar\",\"10_compa\\u00f1\\u00edas_cuerpo bombero...\",\"381_incendio forestal_casas...\",\"113_conaf_incendio forestal...\",\"57_conaf_fuego_temporada\",\"26_incendiario_carabineros_...\",\"112_araucan\\u00eda_biob\\u00edo_ataque...\",\"275_excepci\\u00f3n_araucan\\u00eda_mul...\",\"203_macrozona_abstenciones_...\",\"59_excepci\\u00f3n_macrozona sur_...\",\"271_araucan\\u00eda_siches_ministra\",\"370_boric_rosanna_rosanna c...\",\"95_litio_jobet_b\\u00fcchi\",\"491_retiros_appen_boric\",\"244_jara_reforma_ministra\",\"503_boric_chahu\\u00e1n_segpres\",\"106_boric_pi\\u00f1era_cambio mando\",\"327_boric_c\\u00e1mara_presidente...\",\"101_allamand_pedro castillo...\",\"156_monsalve_mapuche_minist...\",\"25_dominga_papers_pandora\",\"11_proyecto_cuarto_diputados\",\"143_delitos_proyecto indult...\",\"340_kast_boric_diputado\",\"184_adherentes_boric_kast\",\"464_boric_kast_jos\\u00e9 antonio\",\"286_boric_kast_candidato\",\"417_sichel_boric_kast\",\"15_kast_boric_jos\\u00e9 antonio\",\"42_kast_candidato_pen\",\"252_sichel_kast_chilo\\u00e9\",\"226_servel_noviembre_excusas\",\"307_electoral_apoderados_se...\",\"506_horas_locales votaci\\u00f3n_...\",\"148_locales votaci\\u00f3n_servel...\",\"293_autonom\\u00eda_constituyente...\",\"43_chilo\\u00e9 regi\\u00f3n_chilo\\u00e9_con...\",\"176_propuestas_educaci\\u00f3n_no...\",\"94_pleno_constituci\\u00f3n_conve...\",\"189_convenci\\u00f3n_suprema_expr...\",\"164_plebiscito_nueva consti...\",\"138_convenci\\u00f3n_comisi\\u00f3n sis...\",\"270_comisi\\u00f3n forma_pleno_ar...\",\"391_pleno_convenci\\u00f3n consti...\",\"7_equipo_colo_dt\",\"82_colo_anfp_cuadro\",\"45_colo_fecha_curic\\u00f3\",\"178_partido_huachipato_auda...\",\"198_palestino_remat\\u00f3_partido\",\"99_colo_gol_arco\",\"405_gol_lucero_primer tiempo\",\"435_colo_esteban valencia_c...\",\"240_colo_universidad chile_...\",\"104_colo_jugador_roggiero\",\"183_club_mairena_volante\",\"471_deportes puerto montt_c...\",\"214_melipilla_provincial_anfp\",\"469_tobar_castrilli_zampedri\",\"452_sanci\\u00f3n_anfp_calama\",\"424_paraguay_catar_mundial\",\"92_qatar_mundial_grupo\",\"294_fase_copa libertadores_...\",\"321_colo_santiago morning_t...\",\"257_brereton_blackburn_ben\",\"28_roja_lasarte_ar\\u00e1nguiz\",\"382_bravo_lasarte_copa am\\u00e9r...\",\"502_lasarte_roja_colombia\",\"510_selecci\\u00f3n_lasarte_roja\",\"70_pellegrini_champions_eur...\",\"5_inter_minutos_goles\",\"69_inter_entrenador_leeds\",\"448_alexis_inter_medios ita...\",\"215_atl\\u00e9tico puerto_cdo_reb...\",\"19_aba_copa chile_deportes ...\",\"88_femenina_series_certamen\",\"68_pal\\u00edn_montt_puerto\",\"61_boxeo_t\\u00edtulo_pancora\",\"23_deportista_club_nya\",\"39_deportistas_km_avosur\",\"346_ancud_deportistas_toros...\",\"473_400_medallas_metros val...\",\"76_metros_juegos_planos\",\"300_b\\u00edo_asociaci\\u00f3n_araucan\\u00eda\",\"500_araucan\\u00eda_juegos arauca...\",\"292_fondeporte 2022_fondepo...\",\"171_juegos deportivos escol...\",\"137_ind_mindep_f\\u00edsica\",\"353_f\\u00fatbol femenino univers...\",\"348_fica_bombo_jaivas\",\"371_musicales_chora_compete...\",\"261_carelmapu_cultural_duel...\",\"332_cultura_trayectoria_pre...\",\"440_hospital puerto montt_e...\",\"462_vacarezza_karen_esposa ...\",\"444_ximena schott_schott_xi...\",\"490_raquel_montecarmelo_sel...\",\"3_blanco 324 of_bomberos132...\",\"421_corea_misil hipers\\u00f3nico...\",\"449_arte_obra_gogh\",\"392_beethoven_cantora_compa...\",\"412_cultura_aforos_jaivas\",\"454_yarur_weitzler_ex\",\"151_hiriart_luc\\u00eda_dama\",\"347_caszely_isabel ii_carlos\",\"311_leonel_1962_chile\",\"380_misa_ramos_santa\",\"306_monse\\u00f1or_vald\\u00e9s_francis...\",\"243_sexuales_ratzinger_papa...\",\"125_djokovic_novak_serbio\",\"8_tabilo_garin_jarry\",\"90_verstappen_gran premio_l...\",\"217_rally_cornejo_general\",\"298_r2_p\\u00e9rez_rc4\",\"359_rancagua_rienda_caballos\",\"315_niemann_joaqu\\u00edn niemann...\",\"155_endler_christiane endle...\",\"213_wimbledon_itf_federaci\\u00f3n\",\"216_millones_refugiados ucr...\",\"394_canal mancha_unido_nauf...\",\"67_downing street_downing_b...\",\"199_taiw\\u00e1n_pek\\u00edn_soberan\\u00eda\",\"149_kazajist\\u00e1n_almaty_siria\",\"238_silala_alegatos orales_...\",\"403_escaz\\u00fa_acuerdo escaz\\u00fa_d...\",\"278_boric_argentina_escaz\\u00fa\",\"193_electoral_daniel ortega...\",\"317_cores_elecciones chile_...\",\"460_scholz_spd_testera\",\"390_karina oliva_servel_ciper\",\"254_parejas_sexo_civil\",\"396_c\\u00e9dulas_identidad_ofici...\",\"456_semanas gestaci\\u00f3n_cl\\u00edni...\",\"406_documentos_bannon_expre...\",\"218_cabo verde_maduro_fujim...\",\"349_pandora papers_para\\u00edsos...\",\"224_izurieta_malversaci\\u00f3n c...\",\"383_sexual_criminal_trata\",\"265_corte_juez_apelaciones ...\",\"186_m\\u00e1quinas_querellas_cort...\",\"277_fallo_bomberos r\\u00edo_trab...\",\"481_escalera_ricke_essal\",\"411_suministro agua_essal_6...\",\"116_corte programado_client...\",\"179_saesa_fontecilla_servic...\",\"241_deuda_saesa_31\",\"492_nave_efectuando_mar\\u00edtima\",\"507_sernapesca_caleta bay_c...\",\"480_santa_plan_puntos control\",\"484_sistema t\\u00e1ctico_operaci...\",\"458_medidas control_motivos...\",\"398_multas_vial_conaset\",\"325_solo uso_pl\\u00e1sticos_plum...\",\"274_consumidores_sernac_gar...\",\"413_d\\u00edas a\\u00f1os_ley sanciona ...\",\"330_trabajadores_irrenuncia...\",\"433_fonasa_devoluci\\u00f3n cotiz...\",\"505_chileatiende_estafa_den...\",\"211_superficiales_datum_per...\",\"445_interesados deben dirig...\",\"496_lebron_nba_asistencias\",\"455_pesca recreativa_sernap...\",\"195_sernapesca_veda_merluza\",\"342_juzgado letras_armada_s...\",\"86_jefe_ceremonia_cambio ma...\",\"334_fuerza a\\u00e9rea_rebusca_od...\",\"161_lancha_mar\\u00edtima_melinka\",\"474_evacuaci\\u00f3n_chul\\u00edn_apoy\\u00f3\",\"301_videla_cirujano videla_...\",\"501_toxina_roja_fan\",\"295_sernapesca_marea roja_m...\",\"52_productos_calbuco_toxina\",\"358_angelm\\u00f3_precios_marea\",\"434_pgu_pensi\\u00f3n garantizada...\",\"173_garantizada_pgu_universal\",\"146_universal_pagos_rsh\",\"123_aporte familiar permane...\",\"375_ips_instituto previsi\\u00f3n...\",\"461_sename_edificio_lilian ...\",\"172_reinserci\\u00f3n_sename_sence\",\"322_fundaci\\u00f3n_cloud_inserci\\u00f3n\",\"182_cursos_sence_despega mipe\",\"191_sence_laborales_observa...\",\"100_ife_sala cuna_sence\",\"338_carrera_estudiantes_ped...\",\"264_pdt_rendici\\u00f3n_diciembre\",\"129_matr\\u00edcula_sistema admis...\",\"365_beneficios_gratuidad_es...\",\"457_veto_estatuto docente_d...\",\"476_proceso desmunicipaliza...\",\"360_escuela_santa elvira_ed...\",\"493_secretarios_educaci\\u00f3n_g...\",\"423_clases_ulagos_comunidad...\",\"415_rector_oui_universidade...\",\"430_parcc_acci\\u00f3n regional c...\",\"488_mesa_seminario_chilo\\u00e9\",\"472_seremis_tardanza_autori...\",\"425_puelche_hualaihu\\u00e9_trans...\",\"177_energ\\u00eda_carteras_diplom...\",\"318_rd_enzo jaramillo_seremis\",\"376_carvacho_presidente gab...\",\"373_cplt_portal transparenc...\",\"429_convencional_agua_distr...\",\"341_convenci\\u00f3n_agrollanquih...\",\"453_cabildo_mirasol_ampuero\",\"337_supersol_ley_leviante\",\"324_indespa_caleta_sindicato\",\"345_chinquihue_pesca_teuquil\",\"447_formulaci\\u00f3n_fndr_injuv\",\"366_organizaciones_comunida...\",\"504_palena_dfl 15_dfl\",\"233_programa mujeres jefas_...\",\"475_indap_prodemu_campesina\",\"361_praderas_censo_fertiliz...\",\"487_sag_animal_exportaci\\u00f3n\",\"459_perros_ataques_agrollan...\",\"126_gatos_animal_subdere\",\"208_ocupados_ine_fuerza\",\"357_inactividad_laboral_ocu...\",\"367_subasta_wwwsubastaaduan...\",\"427_exterior_armonizado_adu...\",\"111_us_exportaciones_2021\",\"442_riqueza_ingresos_001\",\"378_cr\\u00e9ditos_arriendo_caman...\",\"302_deezer_m\\u00fasica digital_b...\",\"420_global66_transbank_mone...\",\"426_botiqu\\u00edn_terapeutas_pua...\",\"299_psicosociales_enfermeda...\",\"351_cristo_hogar_abrazos\",\"466_doomscrolling_videojueg...\",\"422_notebook_smart tv_mouse\",\"140_sharpie_tonos_slime\",\"438_colch\\u00f3n_si_pie\",\"416_puedes_tauro_acuario\",\"98_contrase\\u00f1as_dispositivos...\",\"169_aliexpress_clientes_pago\",\"167_datos_empleados_adp\",\"78_alimentos_prote\\u00ednas_huev...\",\"159_junaeb_preparaciones_hu...\",\"133_gu\\u00eda_corfo_sernatur\",\"310_salm\\u00f3n_kilos per_158\",\"320_kentucky_beshear_illinois\",\"326_tonga_metros_canarias\",\"188_onemi_alerta tsunami_shoa\",\"258_mm_meteorol\\u00f3gica_ni\\u00f1a\",\"163_lluvias_ca\\u00edda_onemi\",\"316_tormentas_alerta_temprana\",\"124_siglo_caral_puerto varas\",\"103_millones a\\u00f1os_f\\u00f3sil_inv...\",\"273_glaciares_nieve_hielo m...\",\"404_asteroide_erupciones_luna\",\"64_nasa_tierra_l\\u00e1ctea\",\"239_eei_tripulaci\\u00f3n_axiom\",\"147_estudio_ant\\u00e1rtica_condi...\",\"246_dr_uach_mur\\u00faa\",\"187_oliva_pimienta_dontinto\",\"105_oliva_minutos_ml\",\"388_martinna_dios_gente\",\"281_novela_quino_colombo\",\"46_libro_literatura_escritor\",\"89_onlyfans_movimiento_rosa...\",\"74_s\\u00faper_canal_siempre\",\"16_cantante_carrera_m\\u00e9xico\",\"499_disco_le\\u00f3n_bien\",\"27_concierto_movistar arena...\",\"81_music_discos_canci\\u00f3n\",\"272_banda_abba_rauw\",\"408_sheeran_rosal\\u00eda_motomami\",\"399_grammy_laferte_latin\",\"336_bestia_platino_mejor co...\",\"280_mejor pel\\u00edcula_bafta_coda\",\"185_indira_garc\\u00eda m\\u00e1rquez_m...\",\"190_actriz_jappening_vicu\\u00f1a\",\"451_actor_chris rock_gala\",\"110_baldwin_depp_hutchins\",\"495_willis_bruce_emily\",\"402_jes\\u00fas_pel\\u00edcula_nazareth\",\"9_pel\\u00edcula_netflix_batman\",\"269_pel\\u00edcula_c\\u00f3mo_stewart\",\"18_ps5_ps4_pok\\u00e9mon\",\"432_id_penal castro_fjsdget...\",\"279_jsdcreateelement_jsdcre...\",\"80_js_dlocation_comment nam...\"],\"tickvals\":[-5.0,-15.0,-25.0,-35.0,-45.0,-55.0,-65.0,-75.0,-85.0,-95.0,-105.0,-115.0,-125.0,-135.0,-145.0,-155.0,-165.0,-175.0,-185.0,-195.0,-205.0,-215.0,-225.0,-235.0,-245.0,-255.0,-265.0,-275.0,-285.0,-295.0,-305.0,-315.0,-325.0,-335.0,-345.0,-355.0,-365.0,-375.0,-385.0,-395.0,-405.0,-415.0,-425.0,-435.0,-445.0,-455.0,-465.0,-475.0,-485.0,-495.0,-505.0,-515.0,-525.0,-535.0,-545.0,-555.0,-565.0,-575.0,-585.0,-595.0,-605.0,-615.0,-625.0,-635.0,-645.0,-655.0,-665.0,-675.0,-685.0,-695.0,-705.0,-715.0,-725.0,-735.0,-745.0,-755.0,-765.0,-775.0,-785.0,-795.0,-805.0,-815.0,-825.0,-835.0,-845.0,-855.0,-865.0,-875.0,-885.0,-895.0,-905.0,-915.0,-925.0,-935.0,-945.0,-955.0,-965.0,-975.0,-985.0,-995.0,-1005.0,-1015.0,-1025.0,-1035.0,-1045.0,-1055.0,-1065.0,-1075.0,-1085.0,-1095.0,-1105.0,-1115.0,-1125.0,-1135.0,-1145.0,-1155.0,-1165.0,-1175.0,-1185.0,-1195.0,-1205.0,-1215.0,-1225.0,-1235.0,-1245.0,-1255.0,-1265.0,-1275.0,-1285.0,-1295.0,-1305.0,-1315.0,-1325.0,-1335.0,-1345.0,-1355.0,-1365.0,-1375.0,-1385.0,-1395.0,-1405.0,-1415.0,-1425.0,-1435.0,-1445.0,-1455.0,-1465.0,-1475.0,-1485.0,-1495.0,-1505.0,-1515.0,-1525.0,-1535.0,-1545.0,-1555.0,-1565.0,-1575.0,-1585.0,-1595.0,-1605.0,-1615.0,-1625.0,-1635.0,-1645.0,-1655.0,-1665.0,-1675.0,-1685.0,-1695.0,-1705.0,-1715.0,-1725.0,-1735.0,-1745.0,-1755.0,-1765.0,-1775.0,-1785.0,-1795.0,-1805.0,-1815.0,-1825.0,-1835.0,-1845.0,-1855.0,-1865.0,-1875.0,-1885.0,-1895.0,-1905.0,-1915.0,-1925.0,-1935.0,-1945.0,-1955.0,-1965.0,-1975.0,-1985.0,-1995.0,-2005.0,-2015.0,-2025.0,-2035.0,-2045.0,-2055.0,-2065.0,-2075.0,-2085.0,-2095.0,-2105.0,-2115.0,-2125.0,-2135.0,-2145.0,-2155.0,-2165.0,-2175.0,-2185.0,-2195.0,-2205.0,-2215.0,-2225.0,-2235.0,-2245.0,-2255.0,-2265.0,-2275.0,-2285.0,-2295.0,-2305.0,-2315.0,-2325.0,-2335.0,-2345.0,-2355.0,-2365.0,-2375.0,-2385.0,-2395.0,-2405.0,-2415.0,-2425.0,-2435.0,-2445.0,-2455.0,-2465.0,-2475.0,-2485.0,-2495.0,-2505.0,-2515.0,-2525.0,-2535.0,-2545.0,-2555.0,-2565.0,-2575.0,-2585.0,-2595.0,-2605.0,-2615.0,-2625.0,-2635.0,-2645.0,-2655.0,-2665.0,-2675.0,-2685.0,-2695.0,-2705.0,-2715.0,-2725.0,-2735.0,-2745.0,-2755.0,-2765.0,-2775.0,-2785.0,-2795.0,-2805.0,-2815.0,-2825.0,-2835.0,-2845.0,-2855.0,-2865.0,-2875.0,-2885.0,-2895.0,-2905.0,-2915.0,-2925.0,-2935.0,-2945.0,-2955.0,-2965.0,-2975.0,-2985.0,-2995.0,-3005.0,-3015.0,-3025.0,-3035.0,-3045.0,-3055.0,-3065.0,-3075.0,-3085.0,-3095.0,-3105.0,-3115.0,-3125.0,-3135.0,-3145.0,-3155.0,-3165.0,-3175.0,-3185.0,-3195.0,-3205.0,-3215.0,-3225.0,-3235.0,-3245.0,-3255.0,-3265.0,-3275.0,-3285.0,-3295.0,-3305.0,-3315.0,-3325.0,-3335.0,-3345.0,-3355.0,-3365.0,-3375.0,-3385.0,-3395.0,-3405.0,-3415.0,-3425.0,-3435.0,-3445.0,-3455.0,-3465.0,-3475.0,-3485.0,-3495.0,-3505.0,-3515.0,-3525.0,-3535.0,-3545.0,-3555.0,-3565.0,-3575.0,-3585.0,-3595.0,-3605.0,-3615.0,-3625.0,-3635.0,-3645.0,-3655.0,-3665.0,-3675.0,-3685.0,-3695.0,-3705.0,-3715.0,-3725.0,-3735.0,-3745.0,-3755.0,-3765.0,-3775.0,-3785.0,-3795.0,-3805.0,-3815.0,-3825.0,-3835.0,-3845.0,-3855.0,-3865.0,-3875.0,-3885.0,-3895.0,-3905.0,-3915.0,-3925.0,-3935.0,-3945.0,-3955.0,-3965.0,-3975.0,-3985.0,-3995.0,-4005.0,-4015.0,-4025.0,-4035.0,-4045.0,-4055.0,-4065.0,-4075.0,-4085.0,-4095.0,-4105.0,-4115.0,-4125.0,-4135.0,-4145.0,-4155.0,-4165.0,-4175.0,-4185.0,-4195.0,-4205.0,-4215.0,-4225.0,-4235.0,-4245.0,-4255.0,-4265.0,-4275.0,-4285.0,-4295.0,-4305.0,-4315.0,-4325.0,-4335.0,-4345.0,-4355.0,-4365.0,-4375.0,-4385.0,-4395.0,-4405.0,-4415.0,-4425.0,-4435.0,-4445.0,-4455.0,-4465.0,-4475.0,-4485.0,-4495.0,-4505.0,-4515.0,-4525.0,-4535.0,-4545.0,-4555.0,-4565.0,-4575.0,-4585.0,-4595.0,-4605.0,-4615.0,-4625.0,-4635.0,-4645.0,-4655.0,-4665.0,-4675.0,-4685.0,-4695.0,-4705.0,-4715.0,-4725.0,-4735.0,-4745.0,-4755.0,-4765.0,-4775.0,-4785.0,-4795.0,-4805.0,-4815.0,-4825.0,-4835.0,-4845.0,-4855.0,-4865.0,-4875.0,-4885.0,-4895.0,-4905.0,-4915.0,-4925.0,-4935.0,-4945.0,-4955.0,-4965.0,-4975.0,-4985.0,-4995.0,-5005.0,-5015.0,-5025.0,-5035.0,-5045.0,-5055.0,-5065.0,-5075.0,-5085.0,-5095.0,-5105.0],\"type\":\"linear\",\"zeroline\":false,\"range\":[-5110.0,0.0]},\"template\":{\"data\":{\"barpolar\":[{\"marker\":{\"line\":{\"color\":\"white\",\"width\":0.5},\"pattern\":{\"fillmode\":\"overlay\",\"size\":10,\"solidity\":0.2}},\"type\":\"barpolar\"}],\"bar\":[{\"error_x\":{\"color\":\"#2a3f5f\"},\"error_y\":{\"color\":\"#2a3f5f\"},\"marker\":{\"line\":{\"color\":\"white\",\"width\":0.5},\"pattern\":{\"fillmode\":\"overlay\",\"size\":10,\"solidity\":0.2}},\"type\":\"bar\"}],\"carpet\":[{\"aaxis\":{\"endlinecolor\":\"#2a3f5f\",\"gridcolor\":\"#C8D4E3\",\"linecolor\":\"#C8D4E3\",\"minorgridcolor\":\"#C8D4E3\",\"startlinecolor\":\"#2a3f5f\"},\"baxis\":{\"endlinecolor\":\"#2a3f5f\",\"gridcolor\":\"#C8D4E3\",\"linecolor\":\"#C8D4E3\",\"minorgridcolor\":\"#C8D4E3\",\"startlinecolor\":\"#2a3f5f\"},\"type\":\"carpet\"}],\"choropleth\":[{\"colorbar\":{\"outlinewidth\":0,\"ticks\":\"\"},\"type\":\"choropleth\"}],\"contourcarpet\":[{\"colorbar\":{\"outlinewidth\":0,\"ticks\":\"\"},\"type\":\"contourcarpet\"}],\"contour\":[{\"colorbar\":{\"outlinewidth\":0,\"ticks\":\"\"},\"colorscale\":[[0.0,\"#0d0887\"],[0.1111111111111111,\"#46039f\"],[0.2222222222222222,\"#7201a8\"],[0.3333333333333333,\"#9c179e\"],[0.4444444444444444,\"#bd3786\"],[0.5555555555555556,\"#d8576b\"],[0.6666666666666666,\"#ed7953\"],[0.7777777777777778,\"#fb9f3a\"],[0.8888888888888888,\"#fdca26\"],[1.0,\"#f0f921\"]],\"type\":\"contour\"}],\"heatmapgl\":[{\"colorbar\":{\"outlinewidth\":0,\"ticks\":\"\"},\"colorscale\":[[0.0,\"#0d0887\"],[0.1111111111111111,\"#46039f\"],[0.2222222222222222,\"#7201a8\"],[0.3333333333333333,\"#9c179e\"],[0.4444444444444444,\"#bd3786\"],[0.5555555555555556,\"#d8576b\"],[0.6666666666666666,\"#ed7953\"],[0.7777777777777778,\"#fb9f3a\"],[0.8888888888888888,\"#fdca26\"],[1.0,\"#f0f921\"]],\"type\":\"heatmapgl\"}],\"heatmap\":[{\"colorbar\":{\"outlinewidth\":0,\"ticks\":\"\"},\"colorscale\":[[0.0,\"#0d0887\"],[0.1111111111111111,\"#46039f\"],[0.2222222222222222,\"#7201a8\"],[0.3333333333333333,\"#9c179e\"],[0.4444444444444444,\"#bd3786\"],[0.5555555555555556,\"#d8576b\"],[0.6666666666666666,\"#ed7953\"],[0.7777777777777778,\"#fb9f3a\"],[0.8888888888888888,\"#fdca26\"],[1.0,\"#f0f921\"]],\"type\":\"heatmap\"}],\"histogram2dcontour\":[{\"colorbar\":{\"outlinewidth\":0,\"ticks\":\"\"},\"colorscale\":[[0.0,\"#0d0887\"],[0.1111111111111111,\"#46039f\"],[0.2222222222222222,\"#7201a8\"],[0.3333333333333333,\"#9c179e\"],[0.4444444444444444,\"#bd3786\"],[0.5555555555555556,\"#d8576b\"],[0.6666666666666666,\"#ed7953\"],[0.7777777777777778,\"#fb9f3a\"],[0.8888888888888888,\"#fdca26\"],[1.0,\"#f0f921\"]],\"type\":\"histogram2dcontour\"}],\"histogram2d\":[{\"colorbar\":{\"outlinewidth\":0,\"ticks\":\"\"},\"colorscale\":[[0.0,\"#0d0887\"],[0.1111111111111111,\"#46039f\"],[0.2222222222222222,\"#7201a8\"],[0.3333333333333333,\"#9c179e\"],[0.4444444444444444,\"#bd3786\"],[0.5555555555555556,\"#d8576b\"],[0.6666666666666666,\"#ed7953\"],[0.7777777777777778,\"#fb9f3a\"],[0.8888888888888888,\"#fdca26\"],[1.0,\"#f0f921\"]],\"type\":\"histogram2d\"}],\"histogram\":[{\"marker\":{\"pattern\":{\"fillmode\":\"overlay\",\"size\":10,\"solidity\":0.2}},\"type\":\"histogram\"}],\"mesh3d\":[{\"colorbar\":{\"outlinewidth\":0,\"ticks\":\"\"},\"type\":\"mesh3d\"}],\"parcoords\":[{\"line\":{\"colorbar\":{\"outlinewidth\":0,\"ticks\":\"\"}},\"type\":\"parcoords\"}],\"pie\":[{\"automargin\":true,\"type\":\"pie\"}],\"scatter3d\":[{\"line\":{\"colorbar\":{\"outlinewidth\":0,\"ticks\":\"\"}},\"marker\":{\"colorbar\":{\"outlinewidth\":0,\"ticks\":\"\"}},\"type\":\"scatter3d\"}],\"scattercarpet\":[{\"marker\":{\"colorbar\":{\"outlinewidth\":0,\"ticks\":\"\"}},\"type\":\"scattercarpet\"}],\"scattergeo\":[{\"marker\":{\"colorbar\":{\"outlinewidth\":0,\"ticks\":\"\"}},\"type\":\"scattergeo\"}],\"scattergl\":[{\"marker\":{\"colorbar\":{\"outlinewidth\":0,\"ticks\":\"\"}},\"type\":\"scattergl\"}],\"scattermapbox\":[{\"marker\":{\"colorbar\":{\"outlinewidth\":0,\"ticks\":\"\"}},\"type\":\"scattermapbox\"}],\"scatterpolargl\":[{\"marker\":{\"colorbar\":{\"outlinewidth\":0,\"ticks\":\"\"}},\"type\":\"scatterpolargl\"}],\"scatterpolar\":[{\"marker\":{\"colorbar\":{\"outlinewidth\":0,\"ticks\":\"\"}},\"type\":\"scatterpolar\"}],\"scatter\":[{\"fillpattern\":{\"fillmode\":\"overlay\",\"size\":10,\"solidity\":0.2},\"type\":\"scatter\"}],\"scatterternary\":[{\"marker\":{\"colorbar\":{\"outlinewidth\":0,\"ticks\":\"\"}},\"type\":\"scatterternary\"}],\"surface\":[{\"colorbar\":{\"outlinewidth\":0,\"ticks\":\"\"},\"colorscale\":[[0.0,\"#0d0887\"],[0.1111111111111111,\"#46039f\"],[0.2222222222222222,\"#7201a8\"],[0.3333333333333333,\"#9c179e\"],[0.4444444444444444,\"#bd3786\"],[0.5555555555555556,\"#d8576b\"],[0.6666666666666666,\"#ed7953\"],[0.7777777777777778,\"#fb9f3a\"],[0.8888888888888888,\"#fdca26\"],[1.0,\"#f0f921\"]],\"type\":\"surface\"}],\"table\":[{\"cells\":{\"fill\":{\"color\":\"#EBF0F8\"},\"line\":{\"color\":\"white\"}},\"header\":{\"fill\":{\"color\":\"#C8D4E3\"},\"line\":{\"color\":\"white\"}},\"type\":\"table\"}]},\"layout\":{\"annotationdefaults\":{\"arrowcolor\":\"#2a3f5f\",\"arrowhead\":0,\"arrowwidth\":1},\"autotypenumbers\":\"strict\",\"coloraxis\":{\"colorbar\":{\"outlinewidth\":0,\"ticks\":\"\"}},\"colorscale\":{\"diverging\":[[0,\"#8e0152\"],[0.1,\"#c51b7d\"],[0.2,\"#de77ae\"],[0.3,\"#f1b6da\"],[0.4,\"#fde0ef\"],[0.5,\"#f7f7f7\"],[0.6,\"#e6f5d0\"],[0.7,\"#b8e186\"],[0.8,\"#7fbc41\"],[0.9,\"#4d9221\"],[1,\"#276419\"]],\"sequential\":[[0.0,\"#0d0887\"],[0.1111111111111111,\"#46039f\"],[0.2222222222222222,\"#7201a8\"],[0.3333333333333333,\"#9c179e\"],[0.4444444444444444,\"#bd3786\"],[0.5555555555555556,\"#d8576b\"],[0.6666666666666666,\"#ed7953\"],[0.7777777777777778,\"#fb9f3a\"],[0.8888888888888888,\"#fdca26\"],[1.0,\"#f0f921\"]],\"sequentialminus\":[[0.0,\"#0d0887\"],[0.1111111111111111,\"#46039f\"],[0.2222222222222222,\"#7201a8\"],[0.3333333333333333,\"#9c179e\"],[0.4444444444444444,\"#bd3786\"],[0.5555555555555556,\"#d8576b\"],[0.6666666666666666,\"#ed7953\"],[0.7777777777777778,\"#fb9f3a\"],[0.8888888888888888,\"#fdca26\"],[1.0,\"#f0f921\"]]},\"colorway\":[\"#636efa\",\"#EF553B\",\"#00cc96\",\"#ab63fa\",\"#FFA15A\",\"#19d3f3\",\"#FF6692\",\"#B6E880\",\"#FF97FF\",\"#FECB52\"],\"font\":{\"color\":\"#2a3f5f\"},\"geo\":{\"bgcolor\":\"white\",\"lakecolor\":\"white\",\"landcolor\":\"white\",\"showlakes\":true,\"showland\":true,\"subunitcolor\":\"#C8D4E3\"},\"hoverlabel\":{\"align\":\"left\"},\"hovermode\":\"closest\",\"mapbox\":{\"style\":\"light\"},\"paper_bgcolor\":\"white\",\"plot_bgcolor\":\"white\",\"polar\":{\"angularaxis\":{\"gridcolor\":\"#EBF0F8\",\"linecolor\":\"#EBF0F8\",\"ticks\":\"\"},\"bgcolor\":\"white\",\"radialaxis\":{\"gridcolor\":\"#EBF0F8\",\"linecolor\":\"#EBF0F8\",\"ticks\":\"\"}},\"scene\":{\"xaxis\":{\"backgroundcolor\":\"white\",\"gridcolor\":\"#DFE8F3\",\"gridwidth\":2,\"linecolor\":\"#EBF0F8\",\"showbackground\":true,\"ticks\":\"\",\"zerolinecolor\":\"#EBF0F8\"},\"yaxis\":{\"backgroundcolor\":\"white\",\"gridcolor\":\"#DFE8F3\",\"gridwidth\":2,\"linecolor\":\"#EBF0F8\",\"showbackground\":true,\"ticks\":\"\",\"zerolinecolor\":\"#EBF0F8\"},\"zaxis\":{\"backgroundcolor\":\"white\",\"gridcolor\":\"#DFE8F3\",\"gridwidth\":2,\"linecolor\":\"#EBF0F8\",\"showbackground\":true,\"ticks\":\"\",\"zerolinecolor\":\"#EBF0F8\"}},\"shapedefaults\":{\"line\":{\"color\":\"#2a3f5f\"}},\"ternary\":{\"aaxis\":{\"gridcolor\":\"#DFE8F3\",\"linecolor\":\"#A2B1C6\",\"ticks\":\"\"},\"baxis\":{\"gridcolor\":\"#DFE8F3\",\"linecolor\":\"#A2B1C6\",\"ticks\":\"\"},\"bgcolor\":\"white\",\"caxis\":{\"gridcolor\":\"#DFE8F3\",\"linecolor\":\"#A2B1C6\",\"ticks\":\"\"}},\"title\":{\"x\":0.05},\"xaxis\":{\"automargin\":true,\"gridcolor\":\"#EBF0F8\",\"linecolor\":\"#EBF0F8\",\"ticks\":\"\",\"title\":{\"standoff\":15},\"zerolinecolor\":\"#EBF0F8\",\"zerolinewidth\":2},\"yaxis\":{\"automargin\":true,\"gridcolor\":\"#EBF0F8\",\"linecolor\":\"#EBF0F8\",\"ticks\":\"\",\"title\":{\"standoff\":15},\"zerolinecolor\":\"#EBF0F8\",\"zerolinewidth\":2}}},\"title\":{\"font\":{\"size\":22,\"color\":\"Black\"},\"text\":\"<b>Hierarchical Clustering\",\"x\":0.5,\"xanchor\":\"center\",\"yanchor\":\"top\"},\"hoverlabel\":{\"font\":{\"size\":16,\"family\":\"Rockwell\"},\"bgcolor\":\"white\"},\"plot_bgcolor\":\"#ECEFF1\"},                        {\"responsive\": true}                    ).then(function(){\n",
       "                            \n",
       "var gd = document.getElementById('66ed14f2-5924-4e33-ae7c-79a29a6e5bba');\n",
       "var x = new MutationObserver(function (mutations, observer) {{\n",
       "        var display = window.getComputedStyle(gd).display;\n",
       "        if (!display || display === 'none') {{\n",
       "            console.log([gd, 'removed!']);\n",
       "            Plotly.purge(gd);\n",
       "            observer.disconnect();\n",
       "        }}\n",
       "}});\n",
       "\n",
       "// Listen for the removal of the full notebook cells\n",
       "var notebookContainer = gd.closest('#notebook-container');\n",
       "if (notebookContainer) {{\n",
       "    x.observe(notebookContainer, {childList: true});\n",
       "}}\n",
       "\n",
       "// Listen for the clearing of the current output cell\n",
       "var outputEl = gd.closest('.output');\n",
       "if (outputEl) {{\n",
       "    x.observe(outputEl, {childList: true});\n",
       "}}\n",
       "\n",
       "                        })                };                });            </script>        </div>"
      ]
     },
     "metadata": {},
     "output_type": "display_data"
    }
   ],
   "source": [
    "fig"
   ]
  },
  {
   "cell_type": "markdown",
   "id": "f867cfe4",
   "metadata": {},
   "source": [
    "<img src=\"https://github.com/rickiwasho/proyecto-titulo/blob/main/img/htopics.png?raw=true\">"
   ]
  },
  {
   "cell_type": "code",
   "execution_count": null,
   "id": "1862c444",
   "metadata": {},
   "outputs": [],
   "source": [
    "#BERTopic.load(\"out/save1\", embedding_model=nlp2"
   ]
  },
  {
   "cell_type": "code",
   "execution_count": null,
   "id": "e99e68a1",
   "metadata": {},
   "outputs": [],
   "source": [
    "labels=topic_model.generate_topic_labels()\n",
    "count = 0\n",
    "for doc in docs:  \n",
    "    df.at[df.index[df['content'] == doc], 'topic'] = labels[topics[count]+1]\n",
    "    count+=1"
   ]
  },
  {
   "cell_type": "code",
   "execution_count": null,
   "id": "9ca11107",
   "metadata": {},
   "outputs": [],
   "source": [
    "df.loc[df['topic'] == labels[75]]"
   ]
  },
  {
   "cell_type": "markdown",
   "id": "c1c01521",
   "metadata": {},
   "source": [
    "## 2. Análisis de sentimiento "
   ]
  },
  {
   "cell_type": "code",
   "execution_count": null,
   "id": "e24e5658",
   "metadata": {},
   "outputs": [],
   "source": [
    "#!pip install pysentimiento"
   ]
  },
  {
   "cell_type": "code",
   "execution_count": null,
   "id": "0a9ce8ef",
   "metadata": {},
   "outputs": [],
   "source": [
    "sub = df.copy()\n",
    "sub['title_sentiment_roBERTuito'] = \"\"\n",
    "sub['title_emotion_roBERTuito'] = \"\"\n",
    "sub['title_sentiment_BETO'] = \"\"\n",
    "sub['text_sentiment_BETO'] = \"\""
   ]
  },
  {
   "cell_type": "code",
   "execution_count": null,
   "id": "61631094",
   "metadata": {},
   "outputs": [],
   "source": [
    "# roBERTuito\n",
    "from pysentimiento import create_analyzer\n",
    "sentiment_analyzer = create_analyzer(task=\"sentiment\", lang=\"es\")\n",
    "emotion_analyzer = create_analyzer(task=\"emotion\", lang=\"es\")"
   ]
  },
  {
   "cell_type": "code",
   "execution_count": null,
   "id": "ece6e974",
   "metadata": {},
   "outputs": [],
   "source": [
    "# BETO\n",
    "from transformers import AutoTokenizer, AutoModelForSequenceClassification, pipeline\n",
    "model_name = \"finiteautomata/beto-sentiment-analysis\"\n",
    "model = AutoModelForSequenceClassification.from_pretrained(model_name)\n",
    "tokenizer = AutoTokenizer.from_pretrained(model_name)\n",
    "nlp = pipeline(\"sentiment-analysis\", model=model, tokenizer=tokenizer)"
   ]
  },
  {
   "cell_type": "code",
   "execution_count": null,
   "id": "82ce1e0b",
   "metadata": {},
   "outputs": [],
   "source": [
    "for index, row in tqdm(sub.iterrows(), desc='sub rows - sentiment', total=sub.shape[0]):\n",
    "    # análisis del título de la noticia\n",
    "    sub.at[index, \"title_sentiment_roBERTuito\"] = sentiment_analyzer.predict(row['title'])\n",
    "    sub.at[index, \"title_emotion_roBERTuito\"] = emotion_analyzer.predict(row['title'])\n",
    "    sub.at[index, 'title_sentiment_BETO'] = nlp(row['title'])\n",
    "    \n",
    "    # análisis del cuerpo de la noticia\n",
    "    count_neutral = 0\n",
    "    count_negative = 0\n",
    "    count_positive = 0\n",
    "    partition = row['text'].split(\".\")\n",
    "    for text in partition:\n",
    "        # Analizamos su sentimiento\n",
    "        sentiment_value = nlp(text)\n",
    "        if sentiment_value[0].get('label') == \"NEU\": count_neutral=count_neutral+1\n",
    "        if sentiment_value[0].get('label') == \"NEG\": count_negative=count_negative+1\n",
    "        if sentiment_value[0].get('label') == \"POS\": count_positive=count_positive+1\n",
    "            \n",
    "    sub.at[index, \"text_sentiment_BETO\"] = {\"NEU\": count_neutral, \"NEG\": count_negative, \"POS\": count_positive}"
   ]
  },
  {
   "cell_type": "code",
   "execution_count": null,
   "id": "37de7658",
   "metadata": {},
   "outputs": [],
   "source": [
    "pd.set_option(\"display.max_columns\", None, 'display.max_colwidth', None)\n",
    "sub[['title','title_sentiment_roBERTuito', 'title_emotion_roBERTuito','title_sentiment_BETO',\"text_sentiment_BETO\"]]"
   ]
  },
  {
   "cell_type": "code",
   "execution_count": null,
   "id": "4013270d",
   "metadata": {},
   "outputs": [],
   "source": []
  }
 ],
 "metadata": {
  "kernelspec": {
   "display_name": "Python 3 (ipykernel)",
   "language": "python",
   "name": "python3"
  },
  "language_info": {
   "codemirror_mode": {
    "name": "ipython",
    "version": 3
   },
   "file_extension": ".py",
   "mimetype": "text/x-python",
   "name": "python",
   "nbconvert_exporter": "python",
   "pygments_lexer": "ipython3",
   "version": "3.7.8rc1"
  }
 },
 "nbformat": 4,
 "nbformat_minor": 5
}
