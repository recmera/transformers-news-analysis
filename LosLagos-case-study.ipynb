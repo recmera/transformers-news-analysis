{
 "cells": [
  {
   "cell_type": "markdown",
   "id": "d69ae83a",
   "metadata": {},
   "source": [
    "todo:\n",
    "1. probar coherencia con distintos hiperparametros (o simplemente decidirse por uno -> me gusta esta opción)\n",
    "2. generar los ministerios (clusterizacion de topicos - > usando hierarchical topics es más simple, sin embargo, algunos topícos (de niveles más altos) presentan ruido y fusionan temas totalmente distintos (e.g. futbol + salud???))\n",
    "3. generar dataset noticias y dataset topics, empezar a contextualizar los datos en el tiempo y por comuna. \n",
    "4. estudiar sobre knowledge graph -> me tinca mucho :p\n"
   ]
  },
  {
   "cell_type": "code",
   "execution_count": 1,
   "id": "10692a59",
   "metadata": {},
   "outputs": [],
   "source": [
    "# prevent huge warning messages of bertmodel \n",
    "import warnings\n",
    "warnings.filterwarnings(\"ignore\") \n",
    "\n",
    "from tqdm import tqdm\n",
    "from tqdm.notebook import tqdm_notebook\n",
    "tqdm.pandas()\n",
    "\n",
    "import pandas as pd\n",
    "\n",
    "import sys\n",
    "sys.path.append('scripts/')"
   ]
  },
  {
   "cell_type": "markdown",
   "id": "cc89d3ec",
   "metadata": {},
   "source": [
    "About [preprocessing]( https://github.com/MaartenGr/BERTopic/issues/40), in words of Maarten Grootendorst, author of BERTopic:\n",
    "\n",
    "\n",
    "_\"In general, no, you do not need to preprocess your data. Like you said, keeping the original structure of the text is especially important for transformer-based models to understand the context._\n",
    "\n",
    "_However, there are exceptions to this. For example, if you were to have scraped documents with a lot of html tags, then it might be beneficial to remove those as they do not provide any interesting context.\"_"
   ]
  },
  {
   "cell_type": "code",
   "execution_count": 2,
   "id": "7ee428b3",
   "metadata": {
    "scrolled": true
   },
   "outputs": [
    {
     "name": "stderr",
     "output_type": "stream",
     "text": [
      "100%|██████████████████████████████████████████████████████████████████████████| 26127/26127 [00:19<00:00, 1318.22it/s]"
     ]
    },
    {
     "name": "stdout",
     "output_type": "stream",
     "text": [
      "number of news: 26127\n"
     ]
    },
    {
     "name": "stderr",
     "output_type": "stream",
     "text": [
      "\n"
     ]
    }
   ],
   "source": [
    "from preprocess import filter_by_media\n",
    "from preprocess import cluster_by_month\n",
    "from preprocess import find_cities\n",
    "\n",
    "df = pd.read_csv(\"data/loslagos-comunas.csv\")\n",
    "df = cluster_by_month(filter_by_media(df))\n",
    "df = df.drop_duplicates(subset='content', keep=\"first\")\n",
    "df.drop(columns=['comuna'], axis=1, inplace=True)\n",
    "df['cities'] =  df.content.progress_apply(lambda x: find_cities(str(x)))\n",
    "docs = df.content.tolist()\n",
    "\n",
    "print(\"number of news:\", len(df))"
   ]
  },
  {
   "cell_type": "code",
   "execution_count": 14,
   "id": "9b9a7555",
   "metadata": {},
   "outputs": [
    {
     "data": {
      "text/plain": [
       "laestrelladechiloe     6262\n",
       "elaustral              4828\n",
       "elllanquihue           4125\n",
       "radiosago              2319\n",
       "elcalbucano            1789\n",
       "elheraldoaustral       1442\n",
       "elinsular              1153\n",
       "seminariolocal          804\n",
       "elrepuertero            726\n",
       "elvacanudo              702\n",
       "elhuemul                386\n",
       "radioacogida            352\n",
       "radiopudeto             345\n",
       "enlanoticia             317\n",
       "fresiaahora             134\n",
       "elquellonino            133\n",
       "segundos33               95\n",
       "radioestrelladelmar      93\n",
       "soypuertomontt           62\n",
       "soyosorno                56\n",
       "soychiloe                 4\n",
       "Name: media_outlet, dtype: int64"
      ]
     },
     "execution_count": 14,
     "metadata": {},
     "output_type": "execute_result"
    }
   ],
   "source": [
    "df.media_outlet.value_counts()"
   ]
  },
  {
   "cell_type": "markdown",
   "id": "0ce13cbc",
   "metadata": {
    "cell_style": "center"
   },
   "source": [
    "### \"Document Clustering\" with [BERTopic](https://github.com/MaartenGr/BERTopic) (+[SentenceTransformer](https://huggingface.co/sentence-transformers/all-mpnet-base-v2) +[Word Embeddings](https://github.com/dccuchile/spanish-word-embeddings))"
   ]
  },
  {
   "cell_type": "code",
   "execution_count": 4,
   "id": "9cd196dc",
   "metadata": {},
   "outputs": [],
   "source": [
    "from gensim.models import KeyedVectors\n",
    "from bertopic.backend import WordDocEmbedder\n",
    "from sentence_transformers import SentenceTransformer\n",
    "\n",
    "ft  = KeyedVectors.load_word2vec_format(\"data/SBW-vectors-300-min5.bin.gz\", binary=True) \n",
    "embedding_model = SentenceTransformer(\"paraphrase-multilingual-MiniLM-L12-v2\")\n",
    "word_doc_embedder = WordDocEmbedder(embedding_model=embedding_model, word_embedding_model=ft)"
   ]
  },
  {
   "cell_type": "code",
   "execution_count": 5,
   "id": "1b15ab7e",
   "metadata": {},
   "outputs": [
    {
     "data": {
      "text/plain": [
       "{'calculate_probabilities': True,\n",
       " 'ctfidf_model': ClassTfidfTransformer(),\n",
       " 'diversity': 0.2,\n",
       " 'embedding_model': <bertopic.backend._word_doc.WordDocEmbedder at 0x1ec00d77788>,\n",
       " 'hdbscan_model': HDBSCAN(min_cluster_size=10, min_samples=5, prediction_data=True),\n",
       " 'language': None,\n",
       " 'low_memory': False,\n",
       " 'min_topic_size': 10,\n",
       " 'n_gram_range': (1, 3),\n",
       " 'nr_topics': None,\n",
       " 'seed_topic_list': None,\n",
       " 'top_n_words': 15,\n",
       " 'umap_model': UMAP(metric='cosine', min_dist=0.0, n_components=5, random_state=42),\n",
       " 'vectorizer_model': CountVectorizer(ngram_range=(1, 3)),\n",
       " 'verbose': True}"
      ]
     },
     "execution_count": 5,
     "metadata": {},
     "output_type": "execute_result"
    }
   ],
   "source": [
    "from topic_modeling import model_definition\n",
    "\n",
    "topic_model = model_definition(word_doc_embedder) #word_doc_embedder\n",
    "topic_model.get_params()"
   ]
  },
  {
   "cell_type": "code",
   "execution_count": 6,
   "id": "422af852",
   "metadata": {
    "scrolled": false
   },
   "outputs": [
    {
     "data": {
      "application/vnd.jupyter.widget-view+json": {
       "model_id": "5b6d121f7aa649f58d86e5453b376681",
       "version_major": 2,
       "version_minor": 0
      },
      "text/plain": [
       "Batches:   0%|          | 0/817 [00:00<?, ?it/s]"
      ]
     },
     "metadata": {},
     "output_type": "display_data"
    },
    {
     "name": "stderr",
     "output_type": "stream",
     "text": [
      "2022-12-15 00:21:59,789 - BERTopic - Transformed documents to Embeddings\n",
      "2022-12-15 00:23:01,287 - BERTopic - Reduced dimensionality\n",
      "2022-12-15 00:29:07,606 - BERTopic - Clustered reduced embeddings\n"
     ]
    }
   ],
   "source": [
    "topics, probs = topic_model.fit_transform(docs)\n",
    "\n",
    "clusters = topic_model.get_topic_info()"
   ]
  },
  {
   "cell_type": "markdown",
   "id": "854385a1",
   "metadata": {},
   "source": [
    "Generamos un dataframe con los clusters obtenidos y extraemos sus tokens más significativos"
   ]
  },
  {
   "cell_type": "code",
   "execution_count": 7,
   "id": "97442524",
   "metadata": {},
   "outputs": [
    {
     "name": "stderr",
     "output_type": "stream",
     "text": [
      "100%|███████████████████████████████████████████████████████████████████████████████| 478/478 [00:02<00:00, 166.38it/s]\n"
     ]
    }
   ],
   "source": [
    "clusters['most_freq_tokens'] = clusters.Topic.progress_apply(lambda x: topic_model.get_topic(x))"
   ]
  },
  {
   "cell_type": "code",
   "execution_count": 8,
   "id": "9c9fe15d",
   "metadata": {
    "scrolled": true
   },
   "outputs": [
    {
     "data": {
      "text/html": [
       "<div>\n",
       "<style scoped>\n",
       "    .dataframe tbody tr th:only-of-type {\n",
       "        vertical-align: middle;\n",
       "    }\n",
       "\n",
       "    .dataframe tbody tr th {\n",
       "        vertical-align: top;\n",
       "    }\n",
       "\n",
       "    .dataframe thead th {\n",
       "        text-align: right;\n",
       "    }\n",
       "</style>\n",
       "<table border=\"1\" class=\"dataframe\">\n",
       "  <thead>\n",
       "    <tr style=\"text-align: right;\">\n",
       "      <th></th>\n",
       "      <th>Topic</th>\n",
       "      <th>Count</th>\n",
       "      <th>Name</th>\n",
       "      <th>most_freq_tokens</th>\n",
       "    </tr>\n",
       "  </thead>\n",
       "  <tbody>\n",
       "    <tr>\n",
       "      <th>0</th>\n",
       "      <td>-1</td>\n",
       "      <td>10748</td>\n",
       "      <td>-1_parte_personas_ser_además</td>\n",
       "      <td>[(parte, 0.001092095937316581), (personas, 0.0...</td>\n",
       "    </tr>\n",
       "    <tr>\n",
       "      <th>1</th>\n",
       "      <td>0</td>\n",
       "      <td>486</td>\n",
       "      <td>0_ucrania_rusia_ruso_rusa</td>\n",
       "      <td>[(ucrania, 0.016083293518496796), (rusia, 0.01...</td>\n",
       "    </tr>\n",
       "    <tr>\n",
       "      <th>2</th>\n",
       "      <td>1</td>\n",
       "      <td>385</td>\n",
       "      <td>1_accidente_conductor_vehículo_colisión</td>\n",
       "      <td>[(accidente, 0.013586127284869442), (conductor...</td>\n",
       "    </tr>\n",
       "    <tr>\n",
       "      <th>3</th>\n",
       "      <td>2</td>\n",
       "      <td>217</td>\n",
       "      <td>2_m谩s_chilo茅_tambi茅n_regi贸n</td>\n",
       "      <td>[(m谩s, 0.006314027022407641), (chilo茅, 0.00473...</td>\n",
       "    </tr>\n",
       "    <tr>\n",
       "      <th>4</th>\n",
       "      <td>3</td>\n",
       "      <td>201</td>\n",
       "      <td>3_comisión_constitucional_pleno_constitución</td>\n",
       "      <td>[(comisión, 0.007116913316260138), (constituci...</td>\n",
       "    </tr>\n",
       "    <tr>\n",
       "      <th>...</th>\n",
       "      <td>...</td>\n",
       "      <td>...</td>\n",
       "      <td>...</td>\n",
       "      <td>...</td>\n",
       "    </tr>\n",
       "    <tr>\n",
       "      <th>473</th>\n",
       "      <td>472</td>\n",
       "      <td>10</td>\n",
       "      <td>472_indígenas_familias indígenas_indígena_fami...</td>\n",
       "      <td>[(indígenas, 0.020440527795508104), (familias ...</td>\n",
       "    </tr>\n",
       "    <tr>\n",
       "      <th>474</th>\n",
       "      <td>473</td>\n",
       "      <td>10</td>\n",
       "      <td>473_partido_minutos_gol_puesto 10 campeonato</td>\n",
       "      <td>[(partido, 0.009774374544295871), (minutos, 0....</td>\n",
       "    </tr>\n",
       "    <tr>\n",
       "      <th>475</th>\n",
       "      <td>474</td>\n",
       "      <td>10</td>\n",
       "      <td>474_comisión_autonomía_autónomas_territorial</td>\n",
       "      <td>[(comisión, 0.011075912597803187), (autonomía,...</td>\n",
       "    </tr>\n",
       "    <tr>\n",
       "      <th>476</th>\n",
       "      <td>475</td>\n",
       "      <td>10</td>\n",
       "      <td>475_departamento gobierno_departamento gobiern...</td>\n",
       "      <td>[(departamento gobierno, 0.017480715414542235)...</td>\n",
       "    </tr>\n",
       "    <tr>\n",
       "      <th>477</th>\n",
       "      <td>476</td>\n",
       "      <td>10</td>\n",
       "      <td>476_banco_sucursales_autoservicio_servicios fi...</td>\n",
       "      <td>[(banco, 0.017792243977712216), (sucursales, 0...</td>\n",
       "    </tr>\n",
       "  </tbody>\n",
       "</table>\n",
       "<p>478 rows × 4 columns</p>\n",
       "</div>"
      ],
      "text/plain": [
       "     Topic  Count                                               Name  \\\n",
       "0       -1  10748                       -1_parte_personas_ser_además   \n",
       "1        0    486                          0_ucrania_rusia_ruso_rusa   \n",
       "2        1    385            1_accidente_conductor_vehículo_colisión   \n",
       "3        2    217                        2_m谩s_chilo茅_tambi茅n_regi贸n   \n",
       "4        3    201       3_comisión_constitucional_pleno_constitución   \n",
       "..     ...    ...                                                ...   \n",
       "473    472     10  472_indígenas_familias indígenas_indígena_fami...   \n",
       "474    473     10       473_partido_minutos_gol_puesto 10 campeonato   \n",
       "475    474     10       474_comisión_autonomía_autónomas_territorial   \n",
       "476    475     10  475_departamento gobierno_departamento gobiern...   \n",
       "477    476     10  476_banco_sucursales_autoservicio_servicios fi...   \n",
       "\n",
       "                                      most_freq_tokens  \n",
       "0    [(parte, 0.001092095937316581), (personas, 0.0...  \n",
       "1    [(ucrania, 0.016083293518496796), (rusia, 0.01...  \n",
       "2    [(accidente, 0.013586127284869442), (conductor...  \n",
       "3    [(m谩s, 0.006314027022407641), (chilo茅, 0.00473...  \n",
       "4    [(comisión, 0.007116913316260138), (constituci...  \n",
       "..                                                 ...  \n",
       "473  [(indígenas, 0.020440527795508104), (familias ...  \n",
       "474  [(partido, 0.009774374544295871), (minutos, 0....  \n",
       "475  [(comisión, 0.011075912597803187), (autonomía,...  \n",
       "476  [(departamento gobierno, 0.017480715414542235)...  \n",
       "477  [(banco, 0.017792243977712216), (sucursales, 0...  \n",
       "\n",
       "[478 rows x 4 columns]"
      ]
     },
     "execution_count": 8,
     "metadata": {},
     "output_type": "execute_result"
    }
   ],
   "source": [
    "clusters"
   ]
  },
  {
   "cell_type": "code",
   "execution_count": 9,
   "id": "17509b91",
   "metadata": {},
   "outputs": [],
   "source": [
    "clusters.to_csv('data/clusters.csv', index=False)"
   ]
  },
  {
   "cell_type": "markdown",
   "id": "b95565ee",
   "metadata": {},
   "source": [
    "Etiquetamos las noticias con sus clusters"
   ]
  },
  {
   "cell_type": "code",
   "execution_count": 11,
   "id": "cae5ac05",
   "metadata": {},
   "outputs": [
    {
     "name": "stderr",
     "output_type": "stream",
     "text": [
      "100%|███████████████████████████████████████████████████████████████████████████| 26127/26127 [01:21<00:00, 322.26it/s]\n"
     ]
    }
   ],
   "source": [
    "df['topic'] = \"\"\n",
    "\n",
    "# label each row with his topic\n",
    "labels=[]\n",
    "for item in topic_model.generate_topic_labels():\n",
    "    item.partition(\"_\")[2]\n",
    "    labels.append(item)\n",
    "\n",
    "count = 0\n",
    "for doc in tqdm(docs):  \n",
    "    df.at[df.index[df['content'] == doc], 'topic'] = labels[topics[count]+1]\n",
    "    count+=1"
   ]
  },
  {
   "cell_type": "code",
   "execution_count": 12,
   "id": "40dd0a93",
   "metadata": {},
   "outputs": [],
   "source": [
    "df.to_csv('data/labeled_news.csv', index=False)"
   ]
  },
  {
   "cell_type": "code",
   "execution_count": 13,
   "id": "2935620d",
   "metadata": {},
   "outputs": [
    {
     "data": {
      "text/html": [
       "<div>\n",
       "<style scoped>\n",
       "    .dataframe tbody tr th:only-of-type {\n",
       "        vertical-align: middle;\n",
       "    }\n",
       "\n",
       "    .dataframe tbody tr th {\n",
       "        vertical-align: top;\n",
       "    }\n",
       "\n",
       "    .dataframe thead th {\n",
       "        text-align: right;\n",
       "    }\n",
       "</style>\n",
       "<table border=\"1\" class=\"dataframe\">\n",
       "  <thead>\n",
       "    <tr style=\"text-align: right;\">\n",
       "      <th></th>\n",
       "      <th>date</th>\n",
       "      <th>media_outlet</th>\n",
       "      <th>url</th>\n",
       "      <th>title</th>\n",
       "      <th>text</th>\n",
       "      <th>content</th>\n",
       "      <th>date_clustering</th>\n",
       "      <th>cities</th>\n",
       "      <th>topic</th>\n",
       "    </tr>\n",
       "  </thead>\n",
       "  <tbody>\n",
       "    <tr>\n",
       "      <th>0</th>\n",
       "      <td>2021-10-01</td>\n",
       "      <td>elheraldoaustral</td>\n",
       "      <td>https://www.eha.cl/noticia/local/reconocen-a-g...</td>\n",
       "      <td>Reconocen a guardaparques de la Región de Los ...</td>\n",
       "      <td>Distintos protagonistas de los parques naciona...</td>\n",
       "      <td>reconocen guardaparques región lagos actores c...</td>\n",
       "      <td>2021-10</td>\n",
       "      <td>[puyehue, chaiten]</td>\n",
       "      <td>508_guardaparques_parque nacional_parque</td>\n",
       "    </tr>\n",
       "    <tr>\n",
       "      <th>1</th>\n",
       "      <td>2021-10-01</td>\n",
       "      <td>elheraldoaustral</td>\n",
       "      <td>https://www.eha.cl/noticia/local/con-nuevos-ma...</td>\n",
       "      <td>Con nuevos materiales comienza plan piloto en ...</td>\n",
       "      <td>Centro de negocios Sercotec coordina acuerdos ...</td>\n",
       "      <td>nuevos materiales comienza plan piloto saltos ...</td>\n",
       "      <td>2021-10</td>\n",
       "      <td>[puerto varas]</td>\n",
       "      <td>489_good wood_wood_material reciclado</td>\n",
       "    </tr>\n",
       "    <tr>\n",
       "      <th>2</th>\n",
       "      <td>2021-10-01</td>\n",
       "      <td>elheraldoaustral</td>\n",
       "      <td>https://www.eha.cl/noticia/local/centro-de-sal...</td>\n",
       "      <td>Centro de Salud Familiar CESFAM Puerto Varas i...</td>\n",
       "      <td>Las horas se solicitan en el SOME o bien a tra...</td>\n",
       "      <td>centro salud familiar cesfam puerto varas invi...</td>\n",
       "      <td>2021-10</td>\n",
       "      <td>[puerto varas]</td>\n",
       "      <td>84_cáncer_mama_cáncer mama</td>\n",
       "    </tr>\n",
       "    <tr>\n",
       "      <th>3</th>\n",
       "      <td>2021-10-01</td>\n",
       "      <td>elheraldoaustral</td>\n",
       "      <td>https://www.eha.cl/noticia/local/alcalde-tomas...</td>\n",
       "      <td>Alcalde Tomás Gárate presidió por primera vez ...</td>\n",
       "      <td>Los y las consejeras destacaron el hecho de vo...</td>\n",
       "      <td>alcalde tomás gárate presidió primera vez octa...</td>\n",
       "      <td>2021-10</td>\n",
       "      <td>[castro, puerto varas]</td>\n",
       "      <td>328_gobierno terreno_bienes nacionales_trámites</td>\n",
       "    </tr>\n",
       "    <tr>\n",
       "      <th>4</th>\n",
       "      <td>2021-10-01</td>\n",
       "      <td>elheraldoaustral</td>\n",
       "      <td>https://www.eha.cl/noticia/local/galeria-de-ar...</td>\n",
       "      <td>Galería de Arte Machacoya realizará remate de ...</td>\n",
       "      <td>Hoy viernes a las 18:30 horas, en Machacoya At...</td>\n",
       "      <td>galería arte machacoya realizará remate obras ...</td>\n",
       "      <td>2021-10</td>\n",
       "      <td>[]</td>\n",
       "      <td>109_artista_arte_bosque nativo</td>\n",
       "    </tr>\n",
       "  </tbody>\n",
       "</table>\n",
       "</div>"
      ],
      "text/plain": [
       "         date      media_outlet  \\\n",
       "0  2021-10-01  elheraldoaustral   \n",
       "1  2021-10-01  elheraldoaustral   \n",
       "2  2021-10-01  elheraldoaustral   \n",
       "3  2021-10-01  elheraldoaustral   \n",
       "4  2021-10-01  elheraldoaustral   \n",
       "\n",
       "                                                 url  \\\n",
       "0  https://www.eha.cl/noticia/local/reconocen-a-g...   \n",
       "1  https://www.eha.cl/noticia/local/con-nuevos-ma...   \n",
       "2  https://www.eha.cl/noticia/local/centro-de-sal...   \n",
       "3  https://www.eha.cl/noticia/local/alcalde-tomas...   \n",
       "4  https://www.eha.cl/noticia/local/galeria-de-ar...   \n",
       "\n",
       "                                               title  \\\n",
       "0  Reconocen a guardaparques de la Región de Los ...   \n",
       "1  Con nuevos materiales comienza plan piloto en ...   \n",
       "2  Centro de Salud Familiar CESFAM Puerto Varas i...   \n",
       "3  Alcalde Tomás Gárate presidió por primera vez ...   \n",
       "4  Galería de Arte Machacoya realizará remate de ...   \n",
       "\n",
       "                                                text  \\\n",
       "0  Distintos protagonistas de los parques naciona...   \n",
       "1  Centro de negocios Sercotec coordina acuerdos ...   \n",
       "2  Las horas se solicitan en el SOME o bien a tra...   \n",
       "3  Los y las consejeras destacaron el hecho de vo...   \n",
       "4  Hoy viernes a las 18:30 horas, en Machacoya At...   \n",
       "\n",
       "                                             content date_clustering  \\\n",
       "0  reconocen guardaparques región lagos actores c...         2021-10   \n",
       "1  nuevos materiales comienza plan piloto saltos ...         2021-10   \n",
       "2  centro salud familiar cesfam puerto varas invi...         2021-10   \n",
       "3  alcalde tomás gárate presidió primera vez octa...         2021-10   \n",
       "4  galería arte machacoya realizará remate obras ...         2021-10   \n",
       "\n",
       "                   cities                                            topic  \n",
       "0      [puyehue, chaiten]         508_guardaparques_parque nacional_parque  \n",
       "1          [puerto varas]            489_good wood_wood_material reciclado  \n",
       "2          [puerto varas]                       84_cáncer_mama_cáncer mama  \n",
       "3  [castro, puerto varas]  328_gobierno terreno_bienes nacionales_trámites  \n",
       "4                      []                   109_artista_arte_bosque nativo  "
      ]
     },
     "execution_count": 13,
     "metadata": {},
     "output_type": "execute_result"
    }
   ],
   "source": [
    "df.head(4)"
   ]
  },
  {
   "cell_type": "markdown",
   "id": "76a4ec78",
   "metadata": {},
   "source": [
    "#### Evaluation: Coherence Score\n",
    "\n",
    "There is no one way to determine whether the coherence score is good or bad. The score and its value depends on the data that it's calculated from. For instance, in one case, the score of 0.5 might be good enough but in another case not acceptable. The only rule is that we want to **maximize** the score.\n",
    "\n",
    "Usually, the coherence score will increase with the number of topics . This increase will become smaller as the number of topics get higher. The trade-off between the number of topics and coherence score can be achieved using the so-called elbow technique. The method implies plotting coherence score as a function of number of topics. We use the elbow of the curve to select the number of topics.\n",
    "\n",
    "The idea behind this method is that we want to choose a point after which the diminishing increase of coherence score is no longer worth the additional increase of number of topics."
   ]
  },
  {
   "cell_type": "code",
   "execution_count": 15,
   "id": "4f1973aa",
   "metadata": {},
   "outputs": [],
   "source": [
    "#from coherence_eval import cv_umass_npmi\n",
    "\n",
    "#cv_coherence, umass_coherence, c_npmi_coherence = cv_umass_npmi(docs, topics, topic_model)"
   ]
  },
  {
   "cell_type": "code",
   "execution_count": null,
   "id": "2b190deb",
   "metadata": {},
   "outputs": [],
   "source": [
    "#cv_coherence, umass_coherence, c_npmi_coherence"
   ]
  },
  {
   "cell_type": "markdown",
   "id": "64d79b20",
   "metadata": {},
   "source": [
    "#### Hierarchical clustering"
   ]
  },
  {
   "cell_type": "code",
   "execution_count": null,
   "id": "a1685aea",
   "metadata": {},
   "outputs": [],
   "source": [
    "from scipy.cluster import hierarchy as sch\n",
    "\n",
    "# Hierarchical topics\n",
    "linkage_function = lambda x: sch.linkage(x, 'ward', optimal_ordering=True)\n",
    "hierarchical_topics = topic_model.hierarchical_topics(docs, linkage_function=linkage_function)"
   ]
  },
  {
   "cell_type": "code",
   "execution_count": null,
   "id": "964291f0",
   "metadata": {},
   "outputs": [],
   "source": [
    "pd.set_option(\"display.max_columns\", 20, 'display.max_colwidth', 50)\n",
    "hierarchical_topics.head(4)"
   ]
  },
  {
   "cell_type": "code",
   "execution_count": null,
   "id": "2e339c50",
   "metadata": {
    "scrolled": true
   },
   "outputs": [],
   "source": [
    "fig=topic_model.visualize_hierarchy(hierarchical_topics=hierarchical_topics)\n",
    "fig.write_image(\"img/htopics2.png\")\n",
    "fig"
   ]
  },
  {
   "cell_type": "markdown",
   "id": "0d638df0",
   "metadata": {},
   "source": [
    "<img src=\"https://raw.githubusercontent.com/rickiwasho/proyecto-titulo/main/img/htopics2xddddd.png\">"
   ]
  },
  {
   "cell_type": "code",
   "execution_count": null,
   "id": "e28b94ab",
   "metadata": {},
   "outputs": [],
   "source": [
    "#topic_model.save(\"out/save2\", save_embedding_model=True)"
   ]
  },
  {
   "cell_type": "code",
   "execution_count": null,
   "id": "a1f1f463",
   "metadata": {},
   "outputs": [],
   "source": [
    "#my_model = BERTopic.load(\"out/save2\")\n",
    "#new_topics, new_probs = my_model.transform(docs)\n",
    "#my_model.get_topic_info()"
   ]
  },
  {
   "cell_type": "markdown",
   "id": "49eb112e",
   "metadata": {},
   "source": [
    "#### Topics over time"
   ]
  },
  {
   "cell_type": "code",
   "execution_count": null,
   "id": "b846585b",
   "metadata": {},
   "outputs": [],
   "source": [
    "timestamps = df.date.tolist()\n",
    "\n",
    "# Es muy costoso (creo que se debe al word embedding)\n",
    "topics_over_time = topic_model.topics_over_time(docs=docs, \n",
    "                                                timestamps=timestamps, \n",
    "                                                global_tuning=False, \n",
    "                                                evolution_tuning=False, \n",
    "                                                nr_bins=20)"
   ]
  },
  {
   "cell_type": "code",
   "execution_count": null,
   "id": "837789f7",
   "metadata": {},
   "outputs": [],
   "source": [
    "topics_over_time.head(4)"
   ]
  },
  {
   "cell_type": "code",
   "execution_count": null,
   "id": "67b88e1f",
   "metadata": {},
   "outputs": [],
   "source": [
    "fig = topic_model.visualize_topics_over_time(topics_over_time, topics=art)\n",
    "fig.write_image(\"img/dtmt2v.png\")"
   ]
  },
  {
   "cell_type": "markdown",
   "id": "55f72320",
   "metadata": {},
   "source": [
    "<img src=\"https://raw.githubusercontent.com/rickiwasho/proyecto-titulo/main/img/dtmt2v.png\">"
   ]
  },
  {
   "cell_type": "markdown",
   "id": "cc0419e1",
   "metadata": {},
   "source": [
    "### 5 _most important_ keywords of documents using [KeyBERT](https://github.com/MaartenGr/KeyBERT) (+[Word Embeddings](https://github.com/dccuchile/spanish-word-embeddings))"
   ]
  },
  {
   "cell_type": "code",
   "execution_count": null,
   "id": "2f9d81b0",
   "metadata": {},
   "outputs": [],
   "source": [
    "from keyword_extraction import extract_ngram_keywords\n",
    "\n",
    "df['2gram_keywords'] = extract_ngram_keywords((2,2), ft, docs)\n",
    "df['3gram_keywords'] = extract_ngram_keywords((3,3), ft, docs)"
   ]
  },
  {
   "cell_type": "markdown",
   "id": "c1c01521",
   "metadata": {},
   "source": [
    "### Sentiment Analysis using [BETO](https://huggingface.co/finiteautomata/beto-sentiment-analysis?text=Te+quiero.+Te+amo.) + Sentiment Analysis/Emotion Analysis using [roBERTuito](https://huggingface.co/pysentimiento/robertuito-sentiment-analysis?text=Te+quiero.+Te+amo.)"
   ]
  },
  {
   "cell_type": "code",
   "execution_count": null,
   "id": "d3e1db86",
   "metadata": {},
   "outputs": [],
   "source": [
    "# BETO\n",
    "from transformers import AutoTokenizer, AutoModelForSequenceClassification, pipeline\n",
    "model_name = \"finiteautomata/beto-sentiment-analysis\"\n",
    "model = AutoModelForSequenceClassification.from_pretrained(model_name)\n",
    "tokenizer = AutoTokenizer.from_pretrained(model_name)\n",
    "nlp = pipeline(\"sentiment-analysis\", model=model, tokenizer=tokenizer)"
   ]
  },
  {
   "cell_type": "code",
   "execution_count": null,
   "id": "58ce81b4",
   "metadata": {},
   "outputs": [],
   "source": [
    "# roBERTuito\n",
    "from pysentimiento import create_analyzer\n",
    "sentiment_analyzer = create_analyzer(task=\"sentiment\", lang=\"es\")\n",
    "emotion_analyzer = create_analyzer(task=\"emotion\", lang=\"es\")"
   ]
  },
  {
   "cell_type": "code",
   "execution_count": null,
   "id": "82ce1e0b",
   "metadata": {},
   "outputs": [],
   "source": [
    "from sentiment_analysis import sentiment_emotion_analysis\n",
    "df = sentiment_emotion_analysis(df, sentiment_analyzer, emotion_analyzer, nlp)"
   ]
  },
  {
   "cell_type": "code",
   "execution_count": null,
   "id": "22c3a2b4",
   "metadata": {},
   "outputs": [],
   "source": [
    "df.head(5)"
   ]
  }
 ],
 "metadata": {
  "kernelspec": {
   "display_name": "Python 3 (ipykernel)",
   "language": "python",
   "name": "python3"
  },
  "language_info": {
   "codemirror_mode": {
    "name": "ipython",
    "version": 3
   },
   "file_extension": ".py",
   "mimetype": "text/x-python",
   "name": "python",
   "nbconvert_exporter": "python",
   "pygments_lexer": "ipython3",
   "version": "3.7.8rc1"
  }
 },
 "nbformat": 4,
 "nbformat_minor": 5
}
