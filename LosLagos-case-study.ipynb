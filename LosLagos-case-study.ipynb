{
 "cells": [
  {
   "cell_type": "code",
   "execution_count": null,
   "id": "10692a59",
   "metadata": {},
   "outputs": [],
   "source": [
    "from tqdm import tqdm\n",
    "from tqdm.notebook import tqdm_notebook\n",
    "tqdm.pandas()\n",
    "\n",
    "import pandas as pd"
   ]
  },
  {
   "cell_type": "code",
   "execution_count": null,
   "id": "7ee428b3",
   "metadata": {},
   "outputs": [],
   "source": [
    "from utils import filter_by_media\n",
    "from utils import cluster_by_month\n",
    "#from utils import preprocess\n",
    "\n",
    "df = pd.read_csv(\"data/loslagos-comunas.csv\")\n",
    "df = cluster_by_month(filter_by_media(df))\n",
    "#df['tokens'] =  df.content.progress_apply(lambda x: preprocess(str(x)))\n",
    "df.isna().any()"
   ]
  },
  {
   "cell_type": "code",
   "execution_count": null,
   "id": "4a2833b2",
   "metadata": {
    "scrolled": true
   },
   "outputs": [],
   "source": [
    "print(len(df))\n",
    "df.head(5)"
   ]
  },
  {
   "cell_type": "markdown",
   "id": "0ce13cbc",
   "metadata": {
    "cell_style": "center"
   },
   "source": [
    "## 1. Modelado de tópicos con BERTopic"
   ]
  },
  {
   "cell_type": "code",
   "execution_count": null,
   "id": "1b15ab7e",
   "metadata": {},
   "outputs": [],
   "source": [
    "from bertopic import BERTopic\n",
    "from sklearn.feature_extraction.text import CountVectorizer\n",
    "from gensim.models import KeyedVectors\n",
    "nlp2 = KeyedVectors.load_word2vec_format(\"data/SBW-vectors-300-min5.bin.gz\", binary=True) "
   ]
  },
  {
   "cell_type": "markdown",
   "id": "02f0819e",
   "metadata": {},
   "source": [
    "#### MODELO HECHO EN LA UCH https://github.com/dccuchile/spanish-word-embeddings\n",
    "\n",
    "Info sobre el preprocesamiento de bertopic: https://github.com/MaartenGr/BERTopic/issues/40"
   ]
  },
  {
   "cell_type": "code",
   "execution_count": null,
   "id": "c7e482a8",
   "metadata": {
    "scrolled": true
   },
   "outputs": [],
   "source": [
    "df['topic'] = \"\"\n",
    "docs = df.content.tolist()"
   ]
  },
  {
   "cell_type": "code",
   "execution_count": null,
   "id": "422af852",
   "metadata": {},
   "outputs": [],
   "source": [
    "vectorizer_model = CountVectorizer(ngram_range=(1, 3), stop_words=None)\n",
    "\n",
    "topic_model = BERTopic(language=\"multilingual\",\n",
    "                       embedding_model=nlp2,\n",
    "                       vectorizer_model=vectorizer_model,\n",
    "                       calculate_probabilities=True,\n",
    "                       verbose=True)\n",
    "\n",
    "topics, probs = topic_model.fit_transform(docs)\n",
    "topic_model.get_topic_info()"
   ]
  },
  {
   "cell_type": "code",
   "execution_count": null,
   "id": "e99e68a1",
   "metadata": {},
   "outputs": [],
   "source": [
    "labels=topic_model.generate_topic_labels()\n",
    "count = 0\n",
    "for doc in docs:  \n",
    "    df.at[df.index[df['content'] == doc], 'topic'] = labels[topics[count]+1]\n",
    "    count+=1"
   ]
  },
  {
   "cell_type": "code",
   "execution_count": null,
   "id": "9ca11107",
   "metadata": {},
   "outputs": [],
   "source": [
    "df.loc[df['topic'] == labels[75]]"
   ]
  },
  {
   "cell_type": "markdown",
   "id": "c1c01521",
   "metadata": {},
   "source": [
    "## 2. Análisis de sentimiento "
   ]
  },
  {
   "cell_type": "code",
   "execution_count": null,
   "id": "e24e5658",
   "metadata": {},
   "outputs": [],
   "source": [
    "#!pip install pysentimiento"
   ]
  },
  {
   "cell_type": "code",
   "execution_count": null,
   "id": "0a9ce8ef",
   "metadata": {},
   "outputs": [],
   "source": [
    "sub = df.copy()\n",
    "sub['title_sentiment_roBERTuito'] = \"\"\n",
    "sub['title_emotion_roBERTuito'] = \"\"\n",
    "sub['title_sentiment_BETO'] = \"\"\n",
    "sub['text_sentiment_BETO'] = \"\""
   ]
  },
  {
   "cell_type": "code",
   "execution_count": null,
   "id": "61631094",
   "metadata": {},
   "outputs": [],
   "source": [
    "# roBERTuito\n",
    "from pysentimiento import create_analyzer\n",
    "sentiment_analyzer = create_analyzer(task=\"sentiment\", lang=\"es\")\n",
    "emotion_analyzer = create_analyzer(task=\"emotion\", lang=\"es\")"
   ]
  },
  {
   "cell_type": "code",
   "execution_count": null,
   "id": "ece6e974",
   "metadata": {},
   "outputs": [],
   "source": [
    "# BETO\n",
    "from transformers import AutoTokenizer, AutoModelForSequenceClassification, pipeline\n",
    "model_name = \"finiteautomata/beto-sentiment-analysis\"\n",
    "model = AutoModelForSequenceClassification.from_pretrained(model_name)\n",
    "tokenizer = AutoTokenizer.from_pretrained(model_name)\n",
    "nlp = pipeline(\"sentiment-analysis\", model=model, tokenizer=tokenizer)"
   ]
  },
  {
   "cell_type": "code",
   "execution_count": null,
   "id": "82ce1e0b",
   "metadata": {},
   "outputs": [],
   "source": [
    "for index, row in tqdm(sub.iterrows(), desc='sub rows - sentiment', total=sub.shape[0]):\n",
    "    # análisis del título de la noticia\n",
    "    sub.at[index, \"title_sentiment_roBERTuito\"] = sentiment_analyzer.predict(row['title'])\n",
    "    sub.at[index, \"title_emotion_roBERTuito\"] = emotion_analyzer.predict(row['title'])\n",
    "    sub.at[index, 'title_sentiment_BETO'] = nlp(row['title'])\n",
    "    \n",
    "    # análisis del cuerpo de la noticia\n",
    "    count_neutral = 0\n",
    "    count_negative = 0\n",
    "    count_positive = 0\n",
    "    partition = row['text'].split(\".\")\n",
    "    for text in partition:\n",
    "        # Analizamos su sentimiento\n",
    "        sentiment_value = nlp(text)\n",
    "        if sentiment_value[0].get('label') == \"NEU\": count_neutral=count_neutral+1\n",
    "        if sentiment_value[0].get('label') == \"NEG\": count_negative=count_negative+1\n",
    "        if sentiment_value[0].get('label') == \"POS\": count_positive=count_positive+1\n",
    "            \n",
    "    sub.at[index, \"text_sentiment_BETO\"] = {\"NEU\": count_neutral, \"NEG\": count_negative, \"POS\": count_positive}"
   ]
  },
  {
   "cell_type": "code",
   "execution_count": null,
   "id": "37de7658",
   "metadata": {},
   "outputs": [],
   "source": [
    "pd.set_option(\"display.max_columns\", None, 'display.max_colwidth', None)\n",
    "sub[['title','title_sentiment_roBERTuito', 'title_emotion_roBERTuito','title_sentiment_BETO',\"text_sentiment_BETO\"]]"
   ]
  },
  {
   "cell_type": "code",
   "execution_count": null,
   "id": "4013270d",
   "metadata": {},
   "outputs": [],
   "source": []
  }
 ],
 "metadata": {
  "kernelspec": {
   "display_name": "Python 3 (ipykernel)",
   "language": "python",
   "name": "python3"
  },
  "language_info": {
   "codemirror_mode": {
    "name": "ipython",
    "version": 3
   },
   "file_extension": ".py",
   "mimetype": "text/x-python",
   "name": "python",
   "nbconvert_exporter": "python",
   "pygments_lexer": "ipython3",
   "version": "3.7.8rc1"
  }
 },
 "nbformat": 4,
 "nbformat_minor": 5
}
