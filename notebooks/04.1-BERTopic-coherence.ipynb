{
 "cells": [
  {
   "cell_type": "code",
   "execution_count": 1,
   "id": "928df22e",
   "metadata": {
    "scrolled": false
   },
   "outputs": [],
   "source": [
    "#nltk.download('stopwords')\n",
    "#nltk.download('punkt')\n",
    "#!python -m spacy download es_core_news_md\n",
    "#!python -m spacy validate\n",
    "\n",
    "import warnings\n",
    "import pandas as pd\n",
    "warnings.filterwarnings(\"ignore\", category=DeprecationWarning)\n",
    "pd.options.mode.chained_assignment = None  # default='warn'\n",
    "\n",
    "from tqdm import tqdm\n",
    "from tqdm.notebook import tqdm_notebook\n",
    "tqdm.pandas()\n",
    "import numpy as np\n",
    "\n",
    "from utils import clean_dataset_basedOn_media\n",
    "from utils import cluster_by_month"
   ]
  },
  {
   "cell_type": "code",
   "execution_count": 2,
   "id": "d0a29a4f",
   "metadata": {
    "scrolled": true
   },
   "outputs": [
    {
     "data": {
      "text/plain": [
       "date               False\n",
       "media_outlet       False\n",
       "url                False\n",
       "title              False\n",
       "text               False\n",
       "content            False\n",
       "comuna              True\n",
       "date_clustering    False\n",
       "dtype: bool"
      ]
     },
     "execution_count": 2,
     "metadata": {},
     "output_type": "execute_result"
    }
   ],
   "source": [
    "df = pd.read_csv(\"../data/loslagos-comunas.csv\")\n",
    "df = cluster_by_month(clean_dataset_basedOn_media(df))\n",
    "df.isna().any()"
   ]
  },
  {
   "cell_type": "code",
   "execution_count": 3,
   "id": "af70e054",
   "metadata": {},
   "outputs": [
    {
     "data": {
      "text/plain": [
       "2022-03    4617\n",
       "2021-12    4492\n",
       "2021-10    4370\n",
       "2021-11    4326\n",
       "2022-01    4182\n",
       "2022-02    3950\n",
       "2022-04    3384\n",
       "Name: date_clustering, dtype: int64"
      ]
     },
     "execution_count": 3,
     "metadata": {},
     "output_type": "execute_result"
    }
   ],
   "source": [
    "df.date_clustering.value_counts()"
   ]
  },
  {
   "cell_type": "code",
   "execution_count": 4,
   "id": "8dfa3d65",
   "metadata": {},
   "outputs": [],
   "source": [
    "# Obtenemos las etiquetas del value_counts \n",
    "months = df.date_clustering.value_counts().index.tolist()\n",
    "\n",
    "# se hará un análisis del primer mes\n",
    "import datetime\n",
    "dates = [datetime.datetime.strptime(ts, \"%Y-%m\") for ts in months]\n",
    "dates.sort()\n",
    "sorteddates = [datetime.datetime.strftime(ts, \"%Y-%m\") for ts in dates]"
   ]
  },
  {
   "cell_type": "code",
   "execution_count": 5,
   "id": "7a276786",
   "metadata": {},
   "outputs": [],
   "source": [
    "selected = df[df.date_clustering == sorteddates[0]]\n",
    "docs = selected.content.tolist()"
   ]
  },
  {
   "cell_type": "markdown",
   "id": "b50c1ded",
   "metadata": {},
   "source": [
    "# [BERTopic](https://maartengr.github.io/BERTopic/index.html)\n",
    "BERTopic is a topic modeling technique that leverages transformers and c-TF-IDF to create dense clusters allowing for easily interpretable topics whilst keeping important words in the topic descriptions."
   ]
  },
  {
   "cell_type": "code",
   "execution_count": 6,
   "id": "acb75c4a",
   "metadata": {
    "scrolled": false
   },
   "outputs": [
    {
     "data": {
      "application/vnd.jupyter.widget-view+json": {
       "model_id": "7d1f1a5539134a8087e2ae013770ecc6",
       "version_major": 2,
       "version_minor": 0
      },
      "text/plain": [
       "Batches:   0%|          | 0/137 [00:00<?, ?it/s]"
      ]
     },
     "metadata": {},
     "output_type": "display_data"
    },
    {
     "name": "stderr",
     "output_type": "stream",
     "text": [
      "2022-09-26 18:25:39,050 - BERTopic - Transformed documents to Embeddings\n",
      "2022-09-26 18:26:04,486 - BERTopic - Reduced dimensionality\n",
      "2022-09-26 18:26:06,208 - BERTopic - Clustered reduced embeddings\n"
     ]
    }
   ],
   "source": [
    "from bertopic import BERTopic\n",
    "import gensim.corpora as corpora\n",
    "from gensim.models.coherencemodel import CoherenceModel\n",
    "\n",
    "topic_model = BERTopic(verbose=True,\n",
    "                       calculate_probabilities=True,\n",
    "                       n_gram_range=(1, 3),\n",
    "                       language=\"spanish\")\n",
    "topics, _ = topic_model.fit_transform(docs)\n",
    "\n",
    "# Preprocess Documents\n",
    "documents = pd.DataFrame({\"Document\": docs,\n",
    "                          \"ID\": range(len(docs)),\n",
    "                          \"Topic\": topics})\n",
    "documents_per_topic = documents.groupby(['Topic'], as_index=False).agg({'Document': ' '.join})\n",
    "cleaned_docs = topic_model._preprocess_text(documents_per_topic.Document.values)\n",
    "\n",
    "# Extract vectorizer and analyzer from BERTopic\n",
    "vectorizer = topic_model.vectorizer_model\n",
    "analyzer = vectorizer.build_analyzer()\n",
    "\n",
    "# Extract features for Topic Coherence evaluation\n",
    "words = vectorizer.get_feature_names()\n",
    "tokens = [analyzer(doc) for doc in cleaned_docs]\n",
    "dictionary = corpora.Dictionary(tokens)\n",
    "corpus = [dictionary.doc2bow(token) for token in tokens]\n",
    "topic_words = [[words for words, _ in topic_model.get_topic(topic)] \n",
    "               for topic in range(len(set(topics))-1)]\n",
    "\n",
    "# Evaluate\n",
    "coherence_model = CoherenceModel(topics=topic_words, \n",
    "                                 texts=tokens, \n",
    "                                 corpus=corpus,\n",
    "                                 dictionary=dictionary, \n",
    "                                 coherence='c_v')\n",
    "coherence = coherence_model.get_coherence()"
   ]
  },
  {
   "cell_type": "code",
   "execution_count": 7,
   "id": "33620203",
   "metadata": {},
   "outputs": [
    {
     "data": {
      "text/plain": [
       "0.633956568177132"
      ]
     },
     "execution_count": 7,
     "metadata": {},
     "output_type": "execute_result"
    }
   ],
   "source": [
    "coherence"
   ]
  },
  {
   "cell_type": "code",
   "execution_count": null,
   "id": "10de7a96",
   "metadata": {},
   "outputs": [],
   "source": []
  },
  {
   "cell_type": "code",
   "execution_count": null,
   "id": "52ca0933",
   "metadata": {},
   "outputs": [],
   "source": []
  },
  {
   "cell_type": "markdown",
   "id": "e9e3cd50",
   "metadata": {},
   "source": [
    "https://github.com/MIND-Lab/OCTIS"
   ]
  }
 ],
 "metadata": {
  "kernelspec": {
   "display_name": "Python 3 (ipykernel)",
   "language": "python",
   "name": "python3"
  },
  "language_info": {
   "codemirror_mode": {
    "name": "ipython",
    "version": 3
   },
   "file_extension": ".py",
   "mimetype": "text/x-python",
   "name": "python",
   "nbconvert_exporter": "python",
   "pygments_lexer": "ipython3",
   "version": "3.7.11"
  }
 },
 "nbformat": 4,
 "nbformat_minor": 5
}
