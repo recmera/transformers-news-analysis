{
 "cells": [
  {
   "cell_type": "code",
   "execution_count": 1,
   "id": "928df22e",
   "metadata": {
    "scrolled": false
   },
   "outputs": [],
   "source": [
    "#nltk.download('stopwords')\n",
    "#nltk.download('punkt')\n",
    "#!python -m spacy download es_core_news_md\n",
    "#!python -m spacy validate\n",
    "\n",
    "import warnings\n",
    "import pandas as pd\n",
    "warnings.filterwarnings(\"ignore\", category=DeprecationWarning)\n",
    "pd.options.mode.chained_assignment = None  # default='warn'\n",
    "\n",
    "from tqdm import tqdm\n",
    "from tqdm.notebook import tqdm_notebook\n",
    "tqdm.pandas()\n",
    "import numpy as np\n",
    "\n",
    "from utils import clean_dataset_basedOn_media\n",
    "from utils import date_clustering"
   ]
  },
  {
   "cell_type": "code",
   "execution_count": 2,
   "id": "d0a29a4f",
   "metadata": {
    "scrolled": true
   },
   "outputs": [
    {
     "data": {
      "text/plain": [
       "date               False\n",
       "media_outlet       False\n",
       "url                False\n",
       "title              False\n",
       "text               False\n",
       "content            False\n",
       "comuna              True\n",
       "date_clustering    False\n",
       "dtype: bool"
      ]
     },
     "execution_count": 2,
     "metadata": {},
     "output_type": "execute_result"
    }
   ],
   "source": [
    "df = pd.read_csv(\"data/loslagos-comunas.csv\")\n",
    "df = date_clustering(clean_dataset_basedOn_media(df))\n",
    "df.isna().any()"
   ]
  },
  {
   "cell_type": "code",
   "execution_count": 3,
   "id": "8dfa3d65",
   "metadata": {},
   "outputs": [
    {
     "name": "stdout",
     "output_type": "stream",
     "text": [
      "29321 29321\n"
     ]
    }
   ],
   "source": [
    "docs = df.content.tolist()\n",
    "timestamps = df.date.tolist()\n",
    "\n",
    "print(len(docs),len(timestamps))"
   ]
  },
  {
   "cell_type": "markdown",
   "id": "b50c1ded",
   "metadata": {},
   "source": [
    "# [BERTopic](https://maartengr.github.io/BERTopic/index.html)\n",
    "BERTopic is a topic modeling technique that leverages transformers and c-TF-IDF to create dense clusters allowing for easily interpretable topics whilst keeping important words in the topic descriptions."
   ]
  },
  {
   "cell_type": "code",
   "execution_count": 4,
   "id": "72bd61fd",
   "metadata": {},
   "outputs": [],
   "source": [
    "#!pip install bertopic"
   ]
  },
  {
   "cell_type": "code",
   "execution_count": 5,
   "id": "1360e778",
   "metadata": {
    "scrolled": true
   },
   "outputs": [
    {
     "data": {
      "application/vnd.jupyter.widget-view+json": {
       "model_id": "f6f40ef417584868bbda8ca508c769c4",
       "version_major": 2,
       "version_minor": 0
      },
      "text/plain": [
       "Batches:   0%|          | 0/917 [00:00<?, ?it/s]"
      ]
     },
     "metadata": {},
     "output_type": "display_data"
    },
    {
     "name": "stderr",
     "output_type": "stream",
     "text": [
      "2022-09-11 19:15:23,886 - BERTopic - Transformed documents to Embeddings\n",
      "2022-09-11 19:15:59,177 - BERTopic - Reduced dimensionality\n",
      "2022-09-11 19:16:17,378 - BERTopic - Clustered reduced embeddings\n"
     ]
    }
   ],
   "source": [
    "from bertopic import BERTopic\n",
    "from sklearn.feature_extraction.text import CountVectorizer\n",
    "\n",
    "topic_model = BERTopic(language=\"spanish\", verbose=True) \n",
    "topics, probs = topic_model.fit_transform(docs)"
   ]
  },
  {
   "cell_type": "code",
   "execution_count": 6,
   "id": "7ab56dfb",
   "metadata": {},
   "outputs": [
    {
     "name": "stderr",
     "output_type": "stream",
     "text": [
      "100%|███████████████████████████████████████████████████████████████████████████████| 448/448 [00:03<00:00, 115.44it/s]\n"
     ]
    }
   ],
   "source": [
    "hierarchical_topics = topic_model.hierarchical_topics(docs, topics)"
   ]
  },
  {
   "cell_type": "markdown",
   "id": "8e269246",
   "metadata": {},
   "source": [
    "### [Linkage fuctions](https://docs.scipy.org/doc/scipy/reference/generated/scipy.cluster.hierarchy.linkage.html)"
   ]
  },
  {
   "cell_type": "code",
   "execution_count": 7,
   "id": "fb69cf48",
   "metadata": {},
   "outputs": [
    {
     "name": "stderr",
     "output_type": "stream",
     "text": [
      "100%|████████████████████████████████████████████████████████████████████████████████| 448/448 [00:04<00:00, 91.07it/s]\n"
     ]
    }
   ],
   "source": [
    "from scipy.cluster import hierarchy as sch\n",
    "# Hierarchical topics\n",
    "linkage_function = lambda x: sch.linkage(x, 'single', optimal_ordering=True)\n",
    "hierarchical_topics = topic_model.hierarchical_topics(docs, topics, linkage_function=linkage_function)"
   ]
  },
  {
   "cell_type": "markdown",
   "id": "d5922086",
   "metadata": {},
   "source": [
    "### Visualizations"
   ]
  },
  {
   "cell_type": "code",
   "execution_count": 8,
   "id": "8348bc83",
   "metadata": {
    "scrolled": false
   },
   "outputs": [],
   "source": [
    "fig = topic_model.visualize_hierarchy(hierarchical_topics=hierarchical_topics)\n",
    "fig.write_image(\"img/hierarchical.png\")"
   ]
  },
  {
   "cell_type": "markdown",
   "id": "1bca9349",
   "metadata": {},
   "source": [
    "<img src=\"img/hierarchical.png\" />\n"
   ]
  },
  {
   "cell_type": "code",
   "execution_count": null,
   "id": "847f2280",
   "metadata": {},
   "outputs": [],
   "source": []
  },
  {
   "cell_type": "markdown",
   "id": "8ae26ae1",
   "metadata": {},
   "source": [
    "## Topics over time "
   ]
  },
  {
   "cell_type": "code",
   "execution_count": 11,
   "id": "f80c7ab2",
   "metadata": {
    "scrolled": true
   },
   "outputs": [
    {
     "name": "stderr",
     "output_type": "stream",
     "text": [
      "20it [01:10,  3.54s/it]\n"
     ]
    }
   ],
   "source": [
    "topics_over_time = topic_model.topics_over_time(docs, topics, timestamps, nr_bins=20)"
   ]
  },
  {
   "cell_type": "code",
   "execution_count": 21,
   "id": "b084cd18",
   "metadata": {},
   "outputs": [
    {
     "data": {
      "application/vnd.plotly.v1+json": {
       "config": {
        "plotlyServerURL": "https://plot.ly"
       },
       "data": [
        {
         "hoverinfo": "text",
         "hovertext": [
          "<b>Topic 0</b><br>Words: accidente, conductor, camioneta, minibús, vehículo",
          "<b>Topic 0</b><br>Words: accidente, conductor, vehículo, colisión, siat",
          "<b>Topic 0</b><br>Words: accidente, conductor, vehículo, bus, tránsito",
          "<b>Topic 0</b><br>Words: accidente, conductor, tránsito, vehículo, colisión",
          "<b>Topic 0</b><br>Words: accidente, colisión, conductor, samu, vehículo",
          "<b>Topic 0</b><br>Words: colisión, accidente, samu, conductor, vehículo",
          "<b>Topic 0</b><br>Words: accidente, conductor, colisión, tránsito, vehículo",
          "<b>Topic 0</b><br>Words: accidente, conductor, siat, vehículo, colisión",
          "<b>Topic 0</b><br>Words: accidente, ruta, conductor, vehículo, tránsito",
          "<b>Topic 0</b><br>Words: accidente, conductor, vehículo, siat, tránsito",
          "<b>Topic 0</b><br>Words: accidente, vehículo, conductor, tránsito, colisión",
          "<b>Topic 0</b><br>Words: accidente, conductor, vehículo, colisión, tránsito",
          "<b>Topic 0</b><br>Words: accidente, conductor, tránsito, vehículo, atropellado",
          "<b>Topic 0</b><br>Words: accidente, conductor, vehículo, tránsito, colisión",
          "<b>Topic 0</b><br>Words: accidente, conductor, tránsito, bomberos, siat",
          "<b>Topic 0</b><br>Words: accidente, colisión, conductor, vehículo, tránsito",
          "<b>Topic 0</b><br>Words: accidente, conductor, vehículo, colisión, chofer"
         ],
         "marker": {
          "color": "#E69F00"
         },
         "mode": "lines",
         "name": "0_accidente_conductor_vehículo_tránsito",
         "type": "scatter",
         "x": [
          "2021-10-11T06:00:00",
          "2021-10-21T12:00:00",
          "2021-10-31T18:00:00",
          "2021-11-11T00:00:00",
          "2021-12-01T12:00:00",
          "2021-12-11T18:00:00",
          "2021-12-22T00:00:00",
          "2022-01-01T06:00:00",
          "2022-01-11T12:00:00",
          "2022-01-21T18:00:00",
          "2022-02-01T00:00:00",
          "2022-02-21T12:00:00",
          "2022-03-03T18:00:00",
          "2022-03-14T00:00:00",
          "2022-03-24T06:00:00",
          "2022-04-03T12:00:00",
          "2022-04-13T18:00:00"
         ],
         "y": [
          17,
          16,
          27,
          27,
          11,
          11,
          17,
          29,
          16,
          28,
          18,
          21,
          24,
          14,
          17,
          21,
          17
         ]
        },
        {
         "hoverinfo": "text",
         "hovertext": [
          "<b>Topic 1</b><br>Words: disco, canción, álbum, cantante, canciones",
          "<b>Topic 1</b><br>Words: canción, disco, música, cantante, canciones",
          "<b>Topic 1</b><br>Words: disco, canción, música, canciones, cantante",
          "<b>Topic 1</b><br>Words: disco, canción, álbum, canciones, banda",
          "<b>Topic 1</b><br>Words: canción, música, grammy, disco, álbum",
          "<b>Topic 1</b><br>Words: disco, música, canción, canciones, rap",
          "<b>Topic 1</b><br>Words: canciones, canción, disco, música, pop",
          "<b>Topic 1</b><br>Words: canciones, disco, canción, música, asmr",
          "<b>Topic 1</b><br>Words: disco, bowie, álbum, the, música",
          "<b>Topic 1</b><br>Words: disco, canción, canciones, música, álbum",
          "<b>Topic 1</b><br>Words: disco, canción, álbum, vai, yatra",
          "<b>Topic 1</b><br>Words: disco, canción, álbum, canciones, música",
          "<b>Topic 1</b><br>Words: disco, canción, música, álbum, canciones",
          "<b>Topic 1</b><br>Words: canción, disco, álbum, canciones, música",
          "<b>Topic 1</b><br>Words: disco, álbum, canción, canciones, fonsi",
          "<b>Topic 1</b><br>Words: hawkins, disco, taylor, canción, foo",
          "<b>Topic 1</b><br>Words: canción, disco, música, sheeran, álbum",
          "<b>Topic 1</b><br>Words: disco, canción, martin, reik, canciones"
         ],
         "marker": {
          "color": "#56B4E9"
         },
         "mode": "lines",
         "name": "1_disco_canción_canciones_música",
         "type": "scatter",
         "x": [
          "2021-09-30T19:04:48",
          "2021-10-11T06:00:00",
          "2021-10-21T12:00:00",
          "2021-10-31T18:00:00",
          "2021-11-11T00:00:00",
          "2021-11-21T06:00:00",
          "2021-12-01T12:00:00",
          "2021-12-11T18:00:00",
          "2022-01-01T06:00:00",
          "2022-01-21T18:00:00",
          "2022-02-01T00:00:00",
          "2022-02-11T06:00:00",
          "2022-02-21T12:00:00",
          "2022-03-03T18:00:00",
          "2022-03-14T00:00:00",
          "2022-03-24T06:00:00",
          "2022-04-03T12:00:00",
          "2022-04-13T18:00:00"
         ],
         "y": [
          22,
          16,
          12,
          15,
          20,
          23,
          13,
          16,
          11,
          22,
          14,
          20,
          23,
          22,
          13,
          16,
          17,
          15
         ]
        },
        {
         "hoverinfo": "text",
         "hovertext": [
          "<b>Topic 2</b><br>Words: desastres, incendios, bomberos, comité, forestales",
          "<b>Topic 2</b><br>Words: incendios, forestales, conaf, emergencias, bomberos",
          "<b>Topic 2</b><br>Words: incendios, forestales, incendio, forestal, conaf",
          "<b>Topic 2</b><br>Words: incendios, conaf, forestales, incendio, forestal",
          "<b>Topic 2</b><br>Words: incendios, forestales, conaf, incendio, hectáreas",
          "<b>Topic 2</b><br>Words: incendios, forestales, conaf, bomberos, forestal",
          "<b>Topic 2</b><br>Words: bomberos, incendios, forestales, conaf, forestal",
          "<b>Topic 2</b><br>Words: forestal, bomberos, incendio, conaf, incendios",
          "<b>Topic 2</b><br>Words: bomberos, conaf, incendio, forestal, incendios",
          "<b>Topic 2</b><br>Words: incendios, bomberos, conaf, forestales, forestal"
         ],
         "marker": {
          "color": "#009E73"
         },
         "mode": "lines",
         "name": "2_incendios_forestales_conaf_bomberos",
         "type": "scatter",
         "x": [
          "2021-09-30T19:04:48",
          "2021-10-31T18:00:00",
          "2021-12-01T12:00:00",
          "2021-12-11T18:00:00",
          "2021-12-22T00:00:00",
          "2022-01-01T06:00:00",
          "2022-01-11T12:00:00",
          "2022-02-01T00:00:00",
          "2022-02-11T06:00:00",
          "2022-02-21T12:00:00"
         ],
         "y": [
          14,
          15,
          27,
          13,
          51,
          13,
          18,
          15,
          11,
          13
         ]
        },
        {
         "hoverinfo": "text",
         "hovertext": [
          "<b>Topic 3</b><br>Words: carelmapu, agua, potable, subdere, proyectos",
          "<b>Topic 3</b><br>Words: hídrica, agua, potable, apr, escasez",
          "<b>Topic 3</b><br>Words: agua, potable, hídrica, familias, camiones",
          "<b>Topic 3</b><br>Words: agua, potable, hídrica, escasez, apr",
          "<b>Topic 3</b><br>Words: agua, potable, subdere, pozos, alcantarillado",
          "<b>Topic 3</b><br>Words: agua, potable, subdere, hídrica, apr",
          "<b>Topic 3</b><br>Words: agua, pozo, hídrica, potable, agrícola",
          "<b>Topic 3</b><br>Words: agua, potable, hídrica, aguas, subterráneas",
          "<b>Topic 3</b><br>Words: agua, hídrica, potable, escasez, 231",
          "<b>Topic 3</b><br>Words: agua, potable, hualaihué, rural, apr"
         ],
         "marker": {
          "color": "#F0E442"
         },
         "mode": "lines",
         "name": "3_agua_potable_hídrica_apr",
         "type": "scatter",
         "x": [
          "2021-10-11T06:00:00",
          "2021-10-21T12:00:00",
          "2021-12-22T00:00:00",
          "2022-01-01T06:00:00",
          "2022-01-11T12:00:00",
          "2022-02-11T06:00:00",
          "2022-02-21T12:00:00",
          "2022-03-14T00:00:00",
          "2022-03-24T06:00:00",
          "2022-04-03T12:00:00"
         ],
         "y": [
          19,
          15,
          20,
          14,
          11,
          24,
          12,
          25,
          12,
          11
         ]
        },
        {
         "hoverinfo": "text",
         "hovertext": [
          "<b>Topic 4</b><br>Words: incendio, siniestro, bomberos, llamas, trafún",
          "<b>Topic 4</b><br>Words: incendio, bomberos, llamas, emergencia, siniestro",
          "<b>Topic 4</b><br>Words: incendio, bomberos, llamas, siniestro, fuego",
          "<b>Topic 4</b><br>Words: bomberos, incendio, llamas, siniestro, emergencia",
          "<b>Topic 4</b><br>Words: incendio, bomberos, emergencia, siniestro, llamas",
          "<b>Topic 4</b><br>Words: incendio, bomberos, siniestro, cabañas, llamas",
          "<b>Topic 4</b><br>Words: incendio, bomberos, llamas, siniestro, fuego",
          "<b>Topic 4</b><br>Words: incendio, bomberos, llamas, fuego, siniestro",
          "<b>Topic 4</b><br>Words: incendio, bomberos, siniestro, llamas, mapuche"
         ],
         "marker": {
          "color": "#D55E00"
         },
         "mode": "lines",
         "name": "4_incendio_bomberos_llamas_siniestro",
         "type": "scatter",
         "x": [
          "2021-10-11T06:00:00",
          "2021-10-31T18:00:00",
          "2021-11-11T00:00:00",
          "2021-11-21T06:00:00",
          "2021-12-01T12:00:00",
          "2021-12-11T18:00:00",
          "2021-12-22T00:00:00",
          "2022-02-11T06:00:00",
          "2022-03-24T06:00:00"
         ],
         "y": [
          12,
          12,
          15,
          16,
          15,
          14,
          13,
          12,
          13
         ]
        },
        {
         "hoverinfo": "text",
         "hovertext": [
          "<b>Topic 5</b><br>Words: colo, católica, uc, paulucci, zampedri",
          "<b>Topic 5</b><br>Words: uc, zampedri, colo, cruzados, católica",
          "<b>Topic 5</b><br>Words: uc, colo, católica, paulucci, cruzados",
          "<b>Topic 5</b><br>Words: colo, paulucci, uc, católica, cruzados",
          "<b>Topic 5</b><br>Words: colo, uc, católica, paulucci, cruzados",
          "<b>Topic 5</b><br>Words: cruzados, católica, paulucci, uc, facundo",
          "<b>Topic 5</b><br>Words: paulucci, uc, colo, católica, clásico"
         ],
         "marker": {
          "color": "#0072B2"
         },
         "mode": "lines",
         "name": "5_uc_católica_colo_paulucci",
         "type": "scatter",
         "x": [
          "2021-10-21T12:00:00",
          "2021-10-31T18:00:00",
          "2021-11-11T00:00:00",
          "2021-11-21T06:00:00",
          "2021-12-01T12:00:00",
          "2022-03-14T00:00:00",
          "2022-04-13T18:00:00"
         ],
         "y": [
          14,
          13,
          14,
          16,
          19,
          12,
          13
         ]
        },
        {
         "hoverinfo": "text",
         "hovertext": [
          "<b>Topic 6</b><br>Words: uci, residencia, contagios, casos, activos",
          "<b>Topic 6</b><br>Words: residencia, uci, contagios, activos, casos",
          "<b>Topic 6</b><br>Words: casos, uci, contagios, residencia, confirmados",
          "<b>Topic 6</b><br>Words: confirmados, uci, casos, residencia, cáncer",
          "<b>Topic 6</b><br>Words: uci, contagios, casos, residencia, confirmados",
          "<b>Topic 6</b><br>Words: casos, contagios, uci, confirmados, reportaron"
         ],
         "marker": {
          "color": "#CC79A7"
         },
         "mode": "lines",
         "name": "6_uci_casos_contagios_residencia",
         "type": "scatter",
         "x": [
          "2021-11-11T00:00:00",
          "2021-11-21T06:00:00",
          "2022-01-21T18:00:00",
          "2022-02-01T00:00:00",
          "2022-02-21T12:00:00",
          "2022-04-03T12:00:00"
         ],
         "y": [
          12,
          12,
          13,
          13,
          12,
          11
         ]
        },
        {
         "hoverinfo": "text",
         "hovertext": [
          "<b>Topic 7</b><br>Words: perros, animal, animales, sag, mascotas",
          "<b>Topic 7</b><br>Words: mascotas, sag, caninos, brican, perros",
          "<b>Topic 7</b><br>Words: perros, mascotas, animales, mascota, gatos",
          "<b>Topic 7</b><br>Words: perros, mascotas, gatos, animales, animal",
          "<b>Topic 7</b><br>Words: mascotas, perros, animales, animal, mascota"
         ],
         "marker": {
          "color": "#E69F00"
         },
         "mode": "lines",
         "name": "7_perros_mascotas_animales_animal",
         "type": "scatter",
         "x": [
          "2021-10-31T18:00:00",
          "2021-12-11T18:00:00",
          "2022-02-21T12:00:00",
          "2022-03-03T18:00:00",
          "2022-03-24T06:00:00"
         ],
         "y": [
          16,
          11,
          18,
          15,
          12
         ]
        },
        {
         "hoverinfo": "text",
         "hovertext": [
          "<b>Topic 8</b><br>Words: teatro, música, combas, festival, concierto",
          "<b>Topic 8</b><br>Words: música, festival, teatro, musical, schmitt",
          "<b>Topic 8</b><br>Words: festival, musical, teatro, música, ensamble",
          "<b>Topic 8</b><br>Words: musicales, orquesta, teatro, música, festival",
          "<b>Topic 8</b><br>Words: música, musical, jazz, cueca, chora",
          "<b>Topic 8</b><br>Words: orquesta, musical, concierto, música, festival"
         ],
         "marker": {
          "color": "#56B4E9"
         },
         "mode": "lines",
         "name": "8_música_teatro_musical_festival",
         "type": "scatter",
         "x": [
          "2021-10-21T12:00:00",
          "2021-12-01T12:00:00",
          "2022-01-11T12:00:00",
          "2022-01-21T18:00:00",
          "2022-03-24T06:00:00",
          "2022-04-03T12:00:00"
         ],
         "y": [
          13,
          14,
          15,
          16,
          12,
          15
         ]
        },
        {
         "hoverinfo": "text",
         "hovertext": [
          "<b>Topic 9</b><br>Words: gurnah, nobel, poesía, escritor, sueca",
          "<b>Topic 9</b><br>Words: indira, garcía, poesía, márquez, gabo",
          "<b>Topic 9</b><br>Words: renato, botero, cárdenas, cultura, libro"
         ],
         "marker": {
          "color": "#009E73"
         },
         "mode": "lines",
         "name": "9_poesía_libro_poeta_escritor",
         "type": "scatter",
         "x": [
          "2021-09-30T19:04:48",
          "2022-01-11T12:00:00",
          "2022-04-13T18:00:00"
         ],
         "y": [
          11,
          12,
          21
         ]
        },
        {
         "hoverinfo": "text",
         "hovertext": [
          "<b>Topic 10</b><br>Words: emprendedores, sercotec, negocios, emprendimientos, pyme",
          "<b>Topic 10</b><br>Words: emprendedores, innovación, emprendimiento, savialab, ventas",
          "<b>Topic 10</b><br>Words: emprendedores, negocios, sercotec, emprendimientos, emprendimiento",
          "<b>Topic 10</b><br>Words: emprendedores, emprendimientos, negocios, asech, emprendimiento",
          "<b>Topic 10</b><br>Words: emprendedores, digital, innovación, emprendimiento, pyme"
         ],
         "marker": {
          "color": "#F0E442"
         },
         "mode": "lines",
         "name": "10_emprendedores_negocios_emprendimiento...",
         "type": "scatter",
         "x": [
          "2021-10-21T12:00:00",
          "2021-10-31T18:00:00",
          "2021-12-01T12:00:00",
          "2021-12-11T18:00:00",
          "2022-04-03T12:00:00"
         ],
         "y": [
          17,
          12,
          14,
          11,
          12
         ]
        },
        {
         "hoverinfo": "text",
         "hovertext": [
          "<b>Topic 11</b><br>Words: maradona, bienvenidos, actor, canal, matinal",
          "<b>Topic 11</b><br>Words: película, pascal, navidad, polera, inmundo"
         ],
         "marker": {
          "color": "#D55E00"
         },
         "mode": "lines",
         "name": "11_película_cine_actor_canal",
         "type": "scatter",
         "x": [
          "2021-10-21T12:00:00",
          "2021-12-22T00:00:00"
         ],
         "y": [
          12,
          11
         ]
        },
        {
         "hoverinfo": "text",
         "hovertext": [
          "<b>Topic 12</b><br>Words: gas, enap, licuado, chiguayante, municipios",
          "<b>Topic 12</b><br>Words: gas, gnl, licuado, amuch, melón",
          "<b>Topic 12</b><br>Words: gas, combustibles, precio, parafina, estabilización",
          "<b>Topic 12</b><br>Words: combustibles, precio, gas, precios, parafina",
          "<b>Topic 12</b><br>Words: gas, precio, parafina, iva, combustibles"
         ],
         "marker": {
          "color": "#0072B2"
         },
         "mode": "lines",
         "name": "12_gas_precio_licuado_combustibles",
         "type": "scatter",
         "x": [
          "2021-11-21T06:00:00",
          "2021-12-11T18:00:00",
          "2022-03-03T18:00:00",
          "2022-03-14T00:00:00",
          "2022-03-24T06:00:00"
         ],
         "y": [
          18,
          11,
          11,
          22,
          14
         ]
        },
        {
         "hoverinfo": "text",
         "hovertext": [
          "<b>Topic 13</b><br>Words: convención, pleno, quórum, constitución, votación",
          "<b>Topic 13</b><br>Words: convención, pleno, constitucional, comisión, constitución",
          "<b>Topic 13</b><br>Words: convención, senado, político, comisión, legislativo"
         ],
         "marker": {
          "color": "#CC79A7"
         },
         "mode": "lines",
         "name": "13_convención_constitucional_senado_cons...",
         "type": "scatter",
         "x": [
          "2022-02-11T06:00:00",
          "2022-03-14T00:00:00",
          "2022-03-24T06:00:00"
         ],
         "y": [
          11,
          14,
          20
         ]
        },
        {
         "hoverinfo": "text",
         "hovertext": [
          "<b>Topic 14</b><br>Words: chiloé, alcaldes, caminos, plan, alcalde",
          "<b>Topic 14</b><br>Words: reunión, alcaldes, delegada, chiloé, temas",
          "<b>Topic 14</b><br>Words: alcaldes, delegada, palena, corporaciones, asociación"
         ],
         "marker": {
          "color": "#E69F00"
         },
         "mode": "lines",
         "name": "14_chiloé_alcaldes_provincia_municipios",
         "type": "scatter",
         "x": [
          "2021-09-30T19:04:48",
          "2022-03-14T00:00:00",
          "2022-03-24T06:00:00"
         ],
         "y": [
          14,
          13,
          22
         ]
        },
        {
         "hoverinfo": "text",
         "hovertext": [
          "<b>Topic 15</b><br>Words: ucrania, rusia, putin, otan, moscú",
          "<b>Topic 15</b><br>Words: ucrania, putin, rusia, otan, guerra",
          "<b>Topic 15</b><br>Words: ucrania, rusia, putin, guerra, invasión",
          "<b>Topic 15</b><br>Words: ucrania, putin, rusia, kiev, guerra",
          "<b>Topic 15</b><br>Words: ucrania, rusia, putin, moscú, ruso"
         ],
         "marker": {
          "color": "#56B4E9"
         },
         "mode": "lines",
         "name": "15_ucrania_rusia_putin_otan",
         "type": "scatter",
         "x": [
          "2022-02-21T12:00:00",
          "2022-03-03T18:00:00",
          "2022-03-14T00:00:00",
          "2022-04-03T12:00:00",
          "2022-04-13T18:00:00"
         ],
         "y": [
          25,
          18,
          13,
          12,
          13
         ]
        },
        {
         "hoverinfo": "text",
         "hovertext": [
          "<b>Topic 16</b><br>Words: a帽o, chilo茅, m谩s, tambi茅n, y谩帽ez",
          "<b>Topic 16</b><br>Words: m谩s, tambi茅n, chilo茅, energ铆a, adem谩s"
         ],
         "marker": {
          "color": "#009E73"
         },
         "mode": "lines",
         "name": "16_m谩s_chilo茅_tambi茅n_regi贸n",
         "type": "scatter",
         "x": [
          "2022-03-14T00:00:00",
          "2022-04-03T12:00:00"
         ],
         "y": [
          13,
          12
         ]
        },
        {
         "hoverinfo": "text",
         "hovertext": [
          "<b>Topic 17</b><br>Words: dosis, vacunas, vacuna, vacunación, pfizer",
          "<b>Topic 17</b><br>Words: dosis, vacunación, refuerzo, vacuna, cuarta",
          "<b>Topic 17</b><br>Words: dosis, vacunación, vacuna, vacunas, refuerzo"
         ],
         "marker": {
          "color": "#F0E442"
         },
         "mode": "lines",
         "name": "17_dosis_vacunación_vacuna_vacunas",
         "type": "scatter",
         "x": [
          "2021-10-11T06:00:00",
          "2022-01-01T06:00:00",
          "2022-04-13T18:00:00"
         ],
         "y": [
          18,
          16,
          11
         ]
        },
        {
         "hoverinfo": "text",
         "hovertext": [
          "<b>Topic 18</b><br>Words: estrellas, planetas, espacial, solar, lucy"
         ],
         "marker": {
          "color": "#D55E00"
         },
         "mode": "lines",
         "name": "18_espacial_estrellas_nasa_telescopio",
         "type": "scatter",
         "x": [
          "2021-10-11T06:00:00"
         ],
         "y": [
          11
         ]
        },
        {
         "hoverinfo": "text",
         "hovertext": [
          "<b>Topic 19</b><br>Words: contagios, casos, ómicron, positividad, variante",
          "<b>Topic 19</b><br>Words: casos, contagios, minsal, positividad, ómicron",
          "<b>Topic 19</b><br>Words: casos, contagios, camas, positividad, activos",
          "<b>Topic 19</b><br>Words: contagios, casos, activos, camas, positividad"
         ],
         "marker": {
          "color": "#0072B2"
         },
         "mode": "lines",
         "name": "19_casos_contagios_ómicron_positividad",
         "type": "scatter",
         "x": [
          "2022-01-11T12:00:00",
          "2022-01-21T18:00:00",
          "2022-02-01T00:00:00",
          "2022-02-11T06:00:00"
         ],
         "y": [
          25,
          27,
          17,
          11
         ]
        },
        {
         "hoverinfo": "text",
         "hovertext": [
          "<b>Topic 20</b><br>Words: robo, especies, robos, habitado, receptación"
         ],
         "marker": {
          "color": "#CC79A7"
         },
         "mode": "lines",
         "name": "20_robo_especies_robos_ladrones",
         "type": "scatter",
         "x": [
          "2022-03-24T06:00:00"
         ],
         "y": [
          14
         ]
        },
        {
         "hoverinfo": "text",
         "hovertext": [
          "<b>Topic 21</b><br>Words: canal, dalcahue, ministra, transportes, hutt",
          "<b>Topic 21</b><br>Words: canal, transportes, conectividad, dalcahue, navieras",
          "<b>Topic 21</b><br>Words: conectividad, transportes, canal, puelche, marítima",
          "<b>Topic 21</b><br>Words: transportes, canal, conectividad, transporte, dalcahue",
          "<b>Topic 21</b><br>Words: transportes, conectividad, canal, alcaldes, gobernador"
         ],
         "marker": {
          "color": "#E69F00"
         },
         "mode": "lines",
         "name": "21_transportes_canal_conectividad_dalcah...",
         "type": "scatter",
         "x": [
          "2021-10-31T18:00:00",
          "2022-01-01T06:00:00",
          "2022-02-21T12:00:00",
          "2022-03-14T00:00:00",
          "2022-03-24T06:00:00"
         ],
         "y": [
          11,
          11,
          15,
          11,
          13
         ]
        },
        {
         "hoverinfo": "text",
         "hovertext": [
          "<b>Topic 22</b><br>Words: residuos, reciclaje, basura, contenedores, reciclado",
          "<b>Topic 22</b><br>Words: residuos, reciclaje, basura, relleno, toneladas"
         ],
         "marker": {
          "color": "#56B4E9"
         },
         "mode": "lines",
         "name": "22_residuos_reciclaje_basura_domiciliari...",
         "type": "scatter",
         "x": [
          "2021-12-22T00:00:00",
          "2022-01-21T18:00:00"
         ],
         "y": [
          13,
          12
         ]
        },
        {
         "hoverinfo": "text",
         "hovertext": [
          "<b>Topic 23</b><br>Words: pirámides, película, degypte, serie, actriz",
          "<b>Topic 23</b><br>Words: emily, collins, bombón, manga, duquesa"
         ],
         "marker": {
          "color": "#009E73"
         },
         "mode": "lines",
         "name": "23_película_actriz_personaje_cinta",
         "type": "scatter",
         "x": [
          "2021-10-31T18:00:00",
          "2021-12-11T18:00:00"
         ],
         "y": [
          13,
          11
         ]
        },
        {
         "hoverinfo": "text",
         "hovertext": [
          "<b>Topic 24</b><br>Words: mariscos, marea, extracción, toxinas, sernapesca",
          "<b>Topic 24</b><br>Words: mariscos, marea, roja, toxina, toxinas",
          "<b>Topic 24</b><br>Words: mariscos, marea, roja, toxinas, productos"
         ],
         "marker": {
          "color": "#F0E442"
         },
         "mode": "lines",
         "name": "24_mariscos_marea_roja_toxinas",
         "type": "scatter",
         "x": [
          "2022-03-14T00:00:00",
          "2022-04-03T12:00:00",
          "2022-04-13T18:00:00"
         ],
         "y": [
          13,
          63,
          13
         ]
        },
        {
         "hoverinfo": "text",
         "hovertext": [
          "<b>Topic 25</b><br>Words: brereton, blackburn, ben, rovers, premier",
          "<b>Topic 25</b><br>Words: brereton, ben, blackburn, rovers, championship"
         ],
         "marker": {
          "color": "#D55E00"
         },
         "mode": "lines",
         "name": "25_brereton_blackburn_ben_rovers",
         "type": "scatter",
         "x": [
          "2021-12-11T18:00:00",
          "2021-12-22T00:00:00"
         ],
         "y": [
          11,
          12
         ]
        },
        {
         "hoverinfo": "text",
         "hovertext": [
          "<b>Topic 26</b><br>Words: artes, cultural, arte, artista, telar"
         ],
         "marker": {
          "color": "#0072B2"
         },
         "mode": "lines",
         "name": "26_arte_artes_artista_cultural",
         "type": "scatter",
         "x": [
          "2021-10-31T18:00:00"
         ],
         "y": [
          13
         ]
        },
        {
         "hoverinfo": "text",
         "hovertext": [
          "<b>Topic 27</b><br>Words: colchón, dormir, diabetes, colesterol, sueño"
         ],
         "marker": {
          "color": "#CC79A7"
         },
         "mode": "lines",
         "name": "27_obesidad_diabetes_sueño_dormir",
         "type": "scatter",
         "x": [
          "2022-03-14T00:00:00"
         ],
         "y": [
          12
         ]
        },
        {
         "hoverinfo": "text",
         "hovertext": [
          "<b>Topic 28</b><br>Words: medallas, josafat, juegos, deportistas, bronce",
          "<b>Topic 28</b><br>Words: medallas, medalla, bronce, metros, oro",
          "<b>Topic 28</b><br>Words: medallas, metros, plata, oro, juegos"
         ],
         "marker": {
          "color": "#E69F00"
         },
         "mode": "lines",
         "name": "28_medallas_metros_bronce_medalla",
         "type": "scatter",
         "x": [
          "2021-10-31T18:00:00",
          "2021-11-21T06:00:00",
          "2021-12-01T12:00:00"
         ],
         "y": [
          13,
          17,
          13
         ]
        },
        {
         "hoverinfo": "text",
         "hovertext": [
          "<b>Topic 30</b><br>Words: autónomas, territoriales, constituyente, autonomía, convención"
         ],
         "marker": {
          "color": "#56B4E9"
         },
         "mode": "lines",
         "name": "30_chiloé_convención_firmas_autonomía",
         "type": "scatter",
         "x": [
          "2022-02-11T06:00:00"
         ],
         "y": [
          13
         ]
        },
        {
         "hoverinfo": "text",
         "hovertext": [
          "<b>Topic 31</b><br>Words: sal, taza, ingredientes, horno, aceite"
         ],
         "marker": {
          "color": "#009E73"
         },
         "mode": "lines",
         "name": "31_ingredientes_sal_aceite_taza",
         "type": "scatter",
         "x": [
          "2021-12-11T18:00:00"
         ],
         "y": [
          16
         ]
        },
        {
         "hoverinfo": "text",
         "hovertext": [
          "<b>Topic 32</b><br>Words: pesca, sernapesca, caladas, kilos, recreativa",
          "<b>Topic 32</b><br>Words: sernapesca, pesca, mar, recurso, fiscalización"
         ],
         "marker": {
          "color": "#F0E442"
         },
         "mode": "lines",
         "name": "32_sernapesca_pesca_recurso_kilos",
         "type": "scatter",
         "x": [
          "2022-02-11T06:00:00",
          "2022-04-03T12:00:00"
         ],
         "y": [
          11,
          16
         ]
        },
        {
         "hoverinfo": "text",
         "hovertext": [
          "<b>Topic 33</b><br>Words: reconstrucción, viviendas, incendio, familias, afectadas",
          "<b>Topic 33</b><br>Words: reconstrucción, familias, viviendas, gastando, dormitorios"
         ],
         "marker": {
          "color": "#D55E00"
         },
         "mode": "lines",
         "name": "33_reconstrucción_viviendas_familias_inc...",
         "type": "scatter",
         "x": [
          "2021-12-11T18:00:00",
          "2022-02-01T00:00:00"
         ],
         "y": [
          31,
          11
         ]
        },
        {
         "hoverinfo": "text",
         "hovertext": [
          "<b>Topic 34</b><br>Words: juicio, oral, tribunal, mónica, veredicto"
         ],
         "marker": {
          "color": "#0072B2"
         },
         "mode": "lines",
         "name": "34_tribunal_presidio_oral_juicio",
         "type": "scatter",
         "x": [
          "2022-01-11T12:00:00"
         ],
         "y": [
          11
         ]
        },
        {
         "hoverinfo": "text",
         "hovertext": [
          "<b>Topic 36</b><br>Words: justicia, artículo, artículos, pleno, convención",
          "<b>Topic 36</b><br>Words: derechos, desc, convención, derecho, constitucional"
         ],
         "marker": {
          "color": "#CC79A7"
         },
         "mode": "lines",
         "name": "36_convención_pleno_derechos_artículo",
         "type": "scatter",
         "x": [
          "2022-02-11T06:00:00",
          "2022-04-13T18:00:00"
         ],
         "y": [
          18,
          12
         ]
        },
        {
         "hoverinfo": "text",
         "hovertext": [
          "<b>Topic 37</b><br>Words: violación, sexual, liberona, sujeto, menor",
          "<b>Topic 37</b><br>Words: sexual, abuso, violación, giuffre, sujeto"
         ],
         "marker": {
          "color": "#E69F00"
         },
         "mode": "lines",
         "name": "37_sexual_violación_abuso_menor",
         "type": "scatter",
         "x": [
          "2021-12-01T12:00:00",
          "2022-02-01T00:00:00"
         ],
         "y": [
          14,
          12
         ]
        },
        {
         "hoverinfo": "text",
         "hovertext": [
          "<b>Topic 38</b><br>Words: drogas, gramos, droga, microtráfico, cocaína"
         ],
         "marker": {
          "color": "#56B4E9"
         },
         "mode": "lines",
         "name": "38_drogas_droga_gramos_cocaína",
         "type": "scatter",
         "x": [
          "2022-02-01T00:00:00"
         ],
         "y": [
          12
         ]
        },
        {
         "hoverinfo": "text",
         "hovertext": [
          "<b>Topic 39</b><br>Words: votación, elecciones, locales, servel, mesas",
          "<b>Topic 39</b><br>Words: votación, padrón, mesas, votantes, votos",
          "<b>Topic 39</b><br>Words: mesas, votación, locales, servel, votar"
         ],
         "marker": {
          "color": "#009E73"
         },
         "mode": "lines",
         "name": "39_votación_mesas_elecciones_servel",
         "type": "scatter",
         "x": [
          "2021-11-11T00:00:00",
          "2021-11-21T06:00:00",
          "2021-12-11T18:00:00"
         ],
         "y": [
          33,
          14,
          22
         ]
        },
        {
         "hoverinfo": "text",
         "hovertext": [
          "<b>Topic 40</b><br>Words: pileta, paredes, contraloría, enriquecimiento, firmani"
         ],
         "marker": {
          "color": "#F0E442"
         },
         "mode": "lines",
         "name": "40_contraloría_hijerra_pileta_concejales",
         "type": "scatter",
         "x": [
          "2021-10-11T06:00:00"
         ],
         "y": [
          13
         ]
        },
        {
         "hoverinfo": "text",
         "hovertext": [
          "<b>Topic 41</b><br>Words: ambiental, cota, humedales, ecoprial, colbún"
         ],
         "marker": {
          "color": "#D55E00"
         },
         "mode": "lines",
         "name": "41_ambiental_humedal_humedales_ecoprial",
         "type": "scatter",
         "x": [
          "2022-02-21T12:00:00"
         ],
         "y": [
          11
         ]
        },
        {
         "hoverinfo": "text",
         "hovertext": [
          "<b>Topic 42</b><br>Words: vocales, elecciones, servel, eligen, candidatos",
          "<b>Topic 42</b><br>Words: elecciones, vocal, votar, servel, vocales"
         ],
         "marker": {
          "color": "#0072B2"
         },
         "mode": "lines",
         "name": "42_elecciones_vocales_vocal_electoral",
         "type": "scatter",
         "x": [
          "2021-10-31T18:00:00",
          "2021-11-11T00:00:00"
         ],
         "y": [
          17,
          38
         ]
        },
        {
         "hoverinfo": "text",
         "hovertext": [
          "<b>Topic 43</b><br>Words: roja, paraguay, lasarte, aránguiz, clasificatorias"
         ],
         "marker": {
          "color": "#CC79A7"
         },
         "mode": "lines",
         "name": "43_roja_lasarte_selección_paraguay",
         "type": "scatter",
         "x": [
          "2021-10-31T18:00:00"
         ],
         "y": [
          15
         ]
        },
        {
         "hoverinfo": "text",
         "hovertext": [
          "<b>Topic 45</b><br>Words: ranco, provincial, taurino, palín, rengo"
         ],
         "marker": {
          "color": "#E69F00"
         },
         "mode": "lines",
         "name": "45_provincial_ranco_taurino_campeonato",
         "type": "scatter",
         "x": [
          "2021-10-11T06:00:00"
         ],
         "y": [
          11
         ]
        },
        {
         "hoverinfo": "text",
         "hovertext": [
          "<b>Topic 48</b><br>Words: clases, retorno, establecimientos, presenciales, escolar"
         ],
         "marker": {
          "color": "#56B4E9"
         },
         "mode": "lines",
         "name": "48_clases_retorno_escolar_educación",
         "type": "scatter",
         "x": [
          "2022-02-21T12:00:00"
         ],
         "y": [
          24
         ]
        },
        {
         "hoverinfo": "text",
         "hovertext": [
          "<b>Topic 49</b><br>Words: reconducción, colchane, migración, inmigrante, migratoria"
         ],
         "marker": {
          "color": "#009E73"
         },
         "mode": "lines",
         "name": "49_migración_reconducción_migrantes_migr...",
         "type": "scatter",
         "x": [
          "2022-02-11T06:00:00"
         ],
         "y": [
          15
         ]
        }
       ],
       "layout": {
        "height": 450,
        "hoverlabel": {
         "bgcolor": "white",
         "font": {
          "family": "Rockwell",
          "size": 16
         }
        },
        "legend": {
         "title": {
          "text": "<b>Global Topic Representation"
         }
        },
        "template": {
         "data": {
          "bar": [
           {
            "error_x": {
             "color": "rgb(36,36,36)"
            },
            "error_y": {
             "color": "rgb(36,36,36)"
            },
            "marker": {
             "line": {
              "color": "white",
              "width": 0.5
             },
             "pattern": {
              "fillmode": "overlay",
              "size": 10,
              "solidity": 0.2
             }
            },
            "type": "bar"
           }
          ],
          "barpolar": [
           {
            "marker": {
             "line": {
              "color": "white",
              "width": 0.5
             },
             "pattern": {
              "fillmode": "overlay",
              "size": 10,
              "solidity": 0.2
             }
            },
            "type": "barpolar"
           }
          ],
          "carpet": [
           {
            "aaxis": {
             "endlinecolor": "rgb(36,36,36)",
             "gridcolor": "white",
             "linecolor": "white",
             "minorgridcolor": "white",
             "startlinecolor": "rgb(36,36,36)"
            },
            "baxis": {
             "endlinecolor": "rgb(36,36,36)",
             "gridcolor": "white",
             "linecolor": "white",
             "minorgridcolor": "white",
             "startlinecolor": "rgb(36,36,36)"
            },
            "type": "carpet"
           }
          ],
          "choropleth": [
           {
            "colorbar": {
             "outlinewidth": 1,
             "tickcolor": "rgb(36,36,36)",
             "ticks": "outside"
            },
            "type": "choropleth"
           }
          ],
          "contour": [
           {
            "colorbar": {
             "outlinewidth": 1,
             "tickcolor": "rgb(36,36,36)",
             "ticks": "outside"
            },
            "colorscale": [
             [
              0,
              "#440154"
             ],
             [
              0.1111111111111111,
              "#482878"
             ],
             [
              0.2222222222222222,
              "#3e4989"
             ],
             [
              0.3333333333333333,
              "#31688e"
             ],
             [
              0.4444444444444444,
              "#26828e"
             ],
             [
              0.5555555555555556,
              "#1f9e89"
             ],
             [
              0.6666666666666666,
              "#35b779"
             ],
             [
              0.7777777777777778,
              "#6ece58"
             ],
             [
              0.8888888888888888,
              "#b5de2b"
             ],
             [
              1,
              "#fde725"
             ]
            ],
            "type": "contour"
           }
          ],
          "contourcarpet": [
           {
            "colorbar": {
             "outlinewidth": 1,
             "tickcolor": "rgb(36,36,36)",
             "ticks": "outside"
            },
            "type": "contourcarpet"
           }
          ],
          "heatmap": [
           {
            "colorbar": {
             "outlinewidth": 1,
             "tickcolor": "rgb(36,36,36)",
             "ticks": "outside"
            },
            "colorscale": [
             [
              0,
              "#440154"
             ],
             [
              0.1111111111111111,
              "#482878"
             ],
             [
              0.2222222222222222,
              "#3e4989"
             ],
             [
              0.3333333333333333,
              "#31688e"
             ],
             [
              0.4444444444444444,
              "#26828e"
             ],
             [
              0.5555555555555556,
              "#1f9e89"
             ],
             [
              0.6666666666666666,
              "#35b779"
             ],
             [
              0.7777777777777778,
              "#6ece58"
             ],
             [
              0.8888888888888888,
              "#b5de2b"
             ],
             [
              1,
              "#fde725"
             ]
            ],
            "type": "heatmap"
           }
          ],
          "heatmapgl": [
           {
            "colorbar": {
             "outlinewidth": 1,
             "tickcolor": "rgb(36,36,36)",
             "ticks": "outside"
            },
            "colorscale": [
             [
              0,
              "#440154"
             ],
             [
              0.1111111111111111,
              "#482878"
             ],
             [
              0.2222222222222222,
              "#3e4989"
             ],
             [
              0.3333333333333333,
              "#31688e"
             ],
             [
              0.4444444444444444,
              "#26828e"
             ],
             [
              0.5555555555555556,
              "#1f9e89"
             ],
             [
              0.6666666666666666,
              "#35b779"
             ],
             [
              0.7777777777777778,
              "#6ece58"
             ],
             [
              0.8888888888888888,
              "#b5de2b"
             ],
             [
              1,
              "#fde725"
             ]
            ],
            "type": "heatmapgl"
           }
          ],
          "histogram": [
           {
            "marker": {
             "line": {
              "color": "white",
              "width": 0.6
             }
            },
            "type": "histogram"
           }
          ],
          "histogram2d": [
           {
            "colorbar": {
             "outlinewidth": 1,
             "tickcolor": "rgb(36,36,36)",
             "ticks": "outside"
            },
            "colorscale": [
             [
              0,
              "#440154"
             ],
             [
              0.1111111111111111,
              "#482878"
             ],
             [
              0.2222222222222222,
              "#3e4989"
             ],
             [
              0.3333333333333333,
              "#31688e"
             ],
             [
              0.4444444444444444,
              "#26828e"
             ],
             [
              0.5555555555555556,
              "#1f9e89"
             ],
             [
              0.6666666666666666,
              "#35b779"
             ],
             [
              0.7777777777777778,
              "#6ece58"
             ],
             [
              0.8888888888888888,
              "#b5de2b"
             ],
             [
              1,
              "#fde725"
             ]
            ],
            "type": "histogram2d"
           }
          ],
          "histogram2dcontour": [
           {
            "colorbar": {
             "outlinewidth": 1,
             "tickcolor": "rgb(36,36,36)",
             "ticks": "outside"
            },
            "colorscale": [
             [
              0,
              "#440154"
             ],
             [
              0.1111111111111111,
              "#482878"
             ],
             [
              0.2222222222222222,
              "#3e4989"
             ],
             [
              0.3333333333333333,
              "#31688e"
             ],
             [
              0.4444444444444444,
              "#26828e"
             ],
             [
              0.5555555555555556,
              "#1f9e89"
             ],
             [
              0.6666666666666666,
              "#35b779"
             ],
             [
              0.7777777777777778,
              "#6ece58"
             ],
             [
              0.8888888888888888,
              "#b5de2b"
             ],
             [
              1,
              "#fde725"
             ]
            ],
            "type": "histogram2dcontour"
           }
          ],
          "mesh3d": [
           {
            "colorbar": {
             "outlinewidth": 1,
             "tickcolor": "rgb(36,36,36)",
             "ticks": "outside"
            },
            "type": "mesh3d"
           }
          ],
          "parcoords": [
           {
            "line": {
             "colorbar": {
              "outlinewidth": 1,
              "tickcolor": "rgb(36,36,36)",
              "ticks": "outside"
             }
            },
            "type": "parcoords"
           }
          ],
          "pie": [
           {
            "automargin": true,
            "type": "pie"
           }
          ],
          "scatter": [
           {
            "fillpattern": {
             "fillmode": "overlay",
             "size": 10,
             "solidity": 0.2
            },
            "type": "scatter"
           }
          ],
          "scatter3d": [
           {
            "line": {
             "colorbar": {
              "outlinewidth": 1,
              "tickcolor": "rgb(36,36,36)",
              "ticks": "outside"
             }
            },
            "marker": {
             "colorbar": {
              "outlinewidth": 1,
              "tickcolor": "rgb(36,36,36)",
              "ticks": "outside"
             }
            },
            "type": "scatter3d"
           }
          ],
          "scattercarpet": [
           {
            "marker": {
             "colorbar": {
              "outlinewidth": 1,
              "tickcolor": "rgb(36,36,36)",
              "ticks": "outside"
             }
            },
            "type": "scattercarpet"
           }
          ],
          "scattergeo": [
           {
            "marker": {
             "colorbar": {
              "outlinewidth": 1,
              "tickcolor": "rgb(36,36,36)",
              "ticks": "outside"
             }
            },
            "type": "scattergeo"
           }
          ],
          "scattergl": [
           {
            "marker": {
             "colorbar": {
              "outlinewidth": 1,
              "tickcolor": "rgb(36,36,36)",
              "ticks": "outside"
             }
            },
            "type": "scattergl"
           }
          ],
          "scattermapbox": [
           {
            "marker": {
             "colorbar": {
              "outlinewidth": 1,
              "tickcolor": "rgb(36,36,36)",
              "ticks": "outside"
             }
            },
            "type": "scattermapbox"
           }
          ],
          "scatterpolar": [
           {
            "marker": {
             "colorbar": {
              "outlinewidth": 1,
              "tickcolor": "rgb(36,36,36)",
              "ticks": "outside"
             }
            },
            "type": "scatterpolar"
           }
          ],
          "scatterpolargl": [
           {
            "marker": {
             "colorbar": {
              "outlinewidth": 1,
              "tickcolor": "rgb(36,36,36)",
              "ticks": "outside"
             }
            },
            "type": "scatterpolargl"
           }
          ],
          "scatterternary": [
           {
            "marker": {
             "colorbar": {
              "outlinewidth": 1,
              "tickcolor": "rgb(36,36,36)",
              "ticks": "outside"
             }
            },
            "type": "scatterternary"
           }
          ],
          "surface": [
           {
            "colorbar": {
             "outlinewidth": 1,
             "tickcolor": "rgb(36,36,36)",
             "ticks": "outside"
            },
            "colorscale": [
             [
              0,
              "#440154"
             ],
             [
              0.1111111111111111,
              "#482878"
             ],
             [
              0.2222222222222222,
              "#3e4989"
             ],
             [
              0.3333333333333333,
              "#31688e"
             ],
             [
              0.4444444444444444,
              "#26828e"
             ],
             [
              0.5555555555555556,
              "#1f9e89"
             ],
             [
              0.6666666666666666,
              "#35b779"
             ],
             [
              0.7777777777777778,
              "#6ece58"
             ],
             [
              0.8888888888888888,
              "#b5de2b"
             ],
             [
              1,
              "#fde725"
             ]
            ],
            "type": "surface"
           }
          ],
          "table": [
           {
            "cells": {
             "fill": {
              "color": "rgb(237,237,237)"
             },
             "line": {
              "color": "white"
             }
            },
            "header": {
             "fill": {
              "color": "rgb(217,217,217)"
             },
             "line": {
              "color": "white"
             }
            },
            "type": "table"
           }
          ]
         },
         "layout": {
          "annotationdefaults": {
           "arrowhead": 0,
           "arrowwidth": 1
          },
          "autotypenumbers": "strict",
          "coloraxis": {
           "colorbar": {
            "outlinewidth": 1,
            "tickcolor": "rgb(36,36,36)",
            "ticks": "outside"
           }
          },
          "colorscale": {
           "diverging": [
            [
             0,
             "rgb(103,0,31)"
            ],
            [
             0.1,
             "rgb(178,24,43)"
            ],
            [
             0.2,
             "rgb(214,96,77)"
            ],
            [
             0.3,
             "rgb(244,165,130)"
            ],
            [
             0.4,
             "rgb(253,219,199)"
            ],
            [
             0.5,
             "rgb(247,247,247)"
            ],
            [
             0.6,
             "rgb(209,229,240)"
            ],
            [
             0.7,
             "rgb(146,197,222)"
            ],
            [
             0.8,
             "rgb(67,147,195)"
            ],
            [
             0.9,
             "rgb(33,102,172)"
            ],
            [
             1,
             "rgb(5,48,97)"
            ]
           ],
           "sequential": [
            [
             0,
             "#440154"
            ],
            [
             0.1111111111111111,
             "#482878"
            ],
            [
             0.2222222222222222,
             "#3e4989"
            ],
            [
             0.3333333333333333,
             "#31688e"
            ],
            [
             0.4444444444444444,
             "#26828e"
            ],
            [
             0.5555555555555556,
             "#1f9e89"
            ],
            [
             0.6666666666666666,
             "#35b779"
            ],
            [
             0.7777777777777778,
             "#6ece58"
            ],
            [
             0.8888888888888888,
             "#b5de2b"
            ],
            [
             1,
             "#fde725"
            ]
           ],
           "sequentialminus": [
            [
             0,
             "#440154"
            ],
            [
             0.1111111111111111,
             "#482878"
            ],
            [
             0.2222222222222222,
             "#3e4989"
            ],
            [
             0.3333333333333333,
             "#31688e"
            ],
            [
             0.4444444444444444,
             "#26828e"
            ],
            [
             0.5555555555555556,
             "#1f9e89"
            ],
            [
             0.6666666666666666,
             "#35b779"
            ],
            [
             0.7777777777777778,
             "#6ece58"
            ],
            [
             0.8888888888888888,
             "#b5de2b"
            ],
            [
             1,
             "#fde725"
            ]
           ]
          },
          "colorway": [
           "#1F77B4",
           "#FF7F0E",
           "#2CA02C",
           "#D62728",
           "#9467BD",
           "#8C564B",
           "#E377C2",
           "#7F7F7F",
           "#BCBD22",
           "#17BECF"
          ],
          "font": {
           "color": "rgb(36,36,36)"
          },
          "geo": {
           "bgcolor": "white",
           "lakecolor": "white",
           "landcolor": "white",
           "showlakes": true,
           "showland": true,
           "subunitcolor": "white"
          },
          "hoverlabel": {
           "align": "left"
          },
          "hovermode": "closest",
          "mapbox": {
           "style": "light"
          },
          "paper_bgcolor": "white",
          "plot_bgcolor": "white",
          "polar": {
           "angularaxis": {
            "gridcolor": "rgb(232,232,232)",
            "linecolor": "rgb(36,36,36)",
            "showgrid": false,
            "showline": true,
            "ticks": "outside"
           },
           "bgcolor": "white",
           "radialaxis": {
            "gridcolor": "rgb(232,232,232)",
            "linecolor": "rgb(36,36,36)",
            "showgrid": false,
            "showline": true,
            "ticks": "outside"
           }
          },
          "scene": {
           "xaxis": {
            "backgroundcolor": "white",
            "gridcolor": "rgb(232,232,232)",
            "gridwidth": 2,
            "linecolor": "rgb(36,36,36)",
            "showbackground": true,
            "showgrid": false,
            "showline": true,
            "ticks": "outside",
            "zeroline": false,
            "zerolinecolor": "rgb(36,36,36)"
           },
           "yaxis": {
            "backgroundcolor": "white",
            "gridcolor": "rgb(232,232,232)",
            "gridwidth": 2,
            "linecolor": "rgb(36,36,36)",
            "showbackground": true,
            "showgrid": false,
            "showline": true,
            "ticks": "outside",
            "zeroline": false,
            "zerolinecolor": "rgb(36,36,36)"
           },
           "zaxis": {
            "backgroundcolor": "white",
            "gridcolor": "rgb(232,232,232)",
            "gridwidth": 2,
            "linecolor": "rgb(36,36,36)",
            "showbackground": true,
            "showgrid": false,
            "showline": true,
            "ticks": "outside",
            "zeroline": false,
            "zerolinecolor": "rgb(36,36,36)"
           }
          },
          "shapedefaults": {
           "fillcolor": "black",
           "line": {
            "width": 0
           },
           "opacity": 0.3
          },
          "ternary": {
           "aaxis": {
            "gridcolor": "rgb(232,232,232)",
            "linecolor": "rgb(36,36,36)",
            "showgrid": false,
            "showline": true,
            "ticks": "outside"
           },
           "baxis": {
            "gridcolor": "rgb(232,232,232)",
            "linecolor": "rgb(36,36,36)",
            "showgrid": false,
            "showline": true,
            "ticks": "outside"
           },
           "bgcolor": "white",
           "caxis": {
            "gridcolor": "rgb(232,232,232)",
            "linecolor": "rgb(36,36,36)",
            "showgrid": false,
            "showline": true,
            "ticks": "outside"
           }
          },
          "title": {
           "x": 0.05
          },
          "xaxis": {
           "automargin": true,
           "gridcolor": "rgb(232,232,232)",
           "linecolor": "rgb(36,36,36)",
           "showgrid": false,
           "showline": true,
           "ticks": "outside",
           "title": {
            "standoff": 15
           },
           "zeroline": false,
           "zerolinecolor": "rgb(36,36,36)"
          },
          "yaxis": {
           "automargin": true,
           "gridcolor": "rgb(232,232,232)",
           "linecolor": "rgb(36,36,36)",
           "showgrid": false,
           "showline": true,
           "ticks": "outside",
           "title": {
            "standoff": 15
           },
           "zeroline": false,
           "zerolinecolor": "rgb(36,36,36)"
          }
         }
        },
        "title": {
         "font": {
          "color": "Black",
          "size": 22
         },
         "text": "<b>Topics over Time",
         "x": 0.4,
         "xanchor": "center",
         "y": 0.95,
         "yanchor": "top"
        },
        "width": 1250,
        "xaxis": {
         "showgrid": true
        },
        "yaxis": {
         "showgrid": true,
         "title": {
          "text": "Frequency"
         }
        }
       }
      },
      "text/html": [
       "<div>                            <div id=\"318ae7a6-3ade-4c11-8748-730a55a98cf8\" class=\"plotly-graph-div\" style=\"height:450px; width:1250px;\"></div>            <script type=\"text/javascript\">                require([\"plotly\"], function(Plotly) {                    window.PLOTLYENV=window.PLOTLYENV || {};                                    if (document.getElementById(\"318ae7a6-3ade-4c11-8748-730a55a98cf8\")) {                    Plotly.newPlot(                        \"318ae7a6-3ade-4c11-8748-730a55a98cf8\",                        [{\"hoverinfo\":\"text\",\"hovertext\":[\"<b>Topic 0</b><br>Words: accidente, conductor, camioneta, minib\\u00fas, veh\\u00edculo\",\"<b>Topic 0</b><br>Words: accidente, conductor, veh\\u00edculo, colisi\\u00f3n, siat\",\"<b>Topic 0</b><br>Words: accidente, conductor, veh\\u00edculo, bus, tr\\u00e1nsito\",\"<b>Topic 0</b><br>Words: accidente, conductor, tr\\u00e1nsito, veh\\u00edculo, colisi\\u00f3n\",\"<b>Topic 0</b><br>Words: accidente, colisi\\u00f3n, conductor, samu, veh\\u00edculo\",\"<b>Topic 0</b><br>Words: colisi\\u00f3n, accidente, samu, conductor, veh\\u00edculo\",\"<b>Topic 0</b><br>Words: accidente, conductor, colisi\\u00f3n, tr\\u00e1nsito, veh\\u00edculo\",\"<b>Topic 0</b><br>Words: accidente, conductor, siat, veh\\u00edculo, colisi\\u00f3n\",\"<b>Topic 0</b><br>Words: accidente, ruta, conductor, veh\\u00edculo, tr\\u00e1nsito\",\"<b>Topic 0</b><br>Words: accidente, conductor, veh\\u00edculo, siat, tr\\u00e1nsito\",\"<b>Topic 0</b><br>Words: accidente, veh\\u00edculo, conductor, tr\\u00e1nsito, colisi\\u00f3n\",\"<b>Topic 0</b><br>Words: accidente, conductor, veh\\u00edculo, colisi\\u00f3n, tr\\u00e1nsito\",\"<b>Topic 0</b><br>Words: accidente, conductor, tr\\u00e1nsito, veh\\u00edculo, atropellado\",\"<b>Topic 0</b><br>Words: accidente, conductor, veh\\u00edculo, tr\\u00e1nsito, colisi\\u00f3n\",\"<b>Topic 0</b><br>Words: accidente, conductor, tr\\u00e1nsito, bomberos, siat\",\"<b>Topic 0</b><br>Words: accidente, colisi\\u00f3n, conductor, veh\\u00edculo, tr\\u00e1nsito\",\"<b>Topic 0</b><br>Words: accidente, conductor, veh\\u00edculo, colisi\\u00f3n, chofer\"],\"marker\":{\"color\":\"#E69F00\"},\"mode\":\"lines\",\"name\":\"0_accidente_conductor_veh\\u00edculo_tr\\u00e1nsito\",\"x\":[\"2021-10-11T06:00:00\",\"2021-10-21T12:00:00\",\"2021-10-31T18:00:00\",\"2021-11-11T00:00:00\",\"2021-12-01T12:00:00\",\"2021-12-11T18:00:00\",\"2021-12-22T00:00:00\",\"2022-01-01T06:00:00\",\"2022-01-11T12:00:00\",\"2022-01-21T18:00:00\",\"2022-02-01T00:00:00\",\"2022-02-21T12:00:00\",\"2022-03-03T18:00:00\",\"2022-03-14T00:00:00\",\"2022-03-24T06:00:00\",\"2022-04-03T12:00:00\",\"2022-04-13T18:00:00\"],\"y\":[17,16,27,27,11,11,17,29,16,28,18,21,24,14,17,21,17],\"type\":\"scatter\"},{\"hoverinfo\":\"text\",\"hovertext\":[\"<b>Topic 1</b><br>Words: disco, canci\\u00f3n, \\u00e1lbum, cantante, canciones\",\"<b>Topic 1</b><br>Words: canci\\u00f3n, disco, m\\u00fasica, cantante, canciones\",\"<b>Topic 1</b><br>Words: disco, canci\\u00f3n, m\\u00fasica, canciones, cantante\",\"<b>Topic 1</b><br>Words: disco, canci\\u00f3n, \\u00e1lbum, canciones, banda\",\"<b>Topic 1</b><br>Words: canci\\u00f3n, m\\u00fasica, grammy, disco, \\u00e1lbum\",\"<b>Topic 1</b><br>Words: disco, m\\u00fasica, canci\\u00f3n, canciones, rap\",\"<b>Topic 1</b><br>Words: canciones, canci\\u00f3n, disco, m\\u00fasica, pop\",\"<b>Topic 1</b><br>Words: canciones, disco, canci\\u00f3n, m\\u00fasica, asmr\",\"<b>Topic 1</b><br>Words: disco, bowie, \\u00e1lbum, the, m\\u00fasica\",\"<b>Topic 1</b><br>Words: disco, canci\\u00f3n, canciones, m\\u00fasica, \\u00e1lbum\",\"<b>Topic 1</b><br>Words: disco, canci\\u00f3n, \\u00e1lbum, vai, yatra\",\"<b>Topic 1</b><br>Words: disco, canci\\u00f3n, \\u00e1lbum, canciones, m\\u00fasica\",\"<b>Topic 1</b><br>Words: disco, canci\\u00f3n, m\\u00fasica, \\u00e1lbum, canciones\",\"<b>Topic 1</b><br>Words: canci\\u00f3n, disco, \\u00e1lbum, canciones, m\\u00fasica\",\"<b>Topic 1</b><br>Words: disco, \\u00e1lbum, canci\\u00f3n, canciones, fonsi\",\"<b>Topic 1</b><br>Words: hawkins, disco, taylor, canci\\u00f3n, foo\",\"<b>Topic 1</b><br>Words: canci\\u00f3n, disco, m\\u00fasica, sheeran, \\u00e1lbum\",\"<b>Topic 1</b><br>Words: disco, canci\\u00f3n, martin, reik, canciones\"],\"marker\":{\"color\":\"#56B4E9\"},\"mode\":\"lines\",\"name\":\"1_disco_canci\\u00f3n_canciones_m\\u00fasica\",\"x\":[\"2021-09-30T19:04:48\",\"2021-10-11T06:00:00\",\"2021-10-21T12:00:00\",\"2021-10-31T18:00:00\",\"2021-11-11T00:00:00\",\"2021-11-21T06:00:00\",\"2021-12-01T12:00:00\",\"2021-12-11T18:00:00\",\"2022-01-01T06:00:00\",\"2022-01-21T18:00:00\",\"2022-02-01T00:00:00\",\"2022-02-11T06:00:00\",\"2022-02-21T12:00:00\",\"2022-03-03T18:00:00\",\"2022-03-14T00:00:00\",\"2022-03-24T06:00:00\",\"2022-04-03T12:00:00\",\"2022-04-13T18:00:00\"],\"y\":[22,16,12,15,20,23,13,16,11,22,14,20,23,22,13,16,17,15],\"type\":\"scatter\"},{\"hoverinfo\":\"text\",\"hovertext\":[\"<b>Topic 2</b><br>Words: desastres, incendios, bomberos, comit\\u00e9, forestales\",\"<b>Topic 2</b><br>Words: incendios, forestales, conaf, emergencias, bomberos\",\"<b>Topic 2</b><br>Words: incendios, forestales, incendio, forestal, conaf\",\"<b>Topic 2</b><br>Words: incendios, conaf, forestales, incendio, forestal\",\"<b>Topic 2</b><br>Words: incendios, forestales, conaf, incendio, hect\\u00e1reas\",\"<b>Topic 2</b><br>Words: incendios, forestales, conaf, bomberos, forestal\",\"<b>Topic 2</b><br>Words: bomberos, incendios, forestales, conaf, forestal\",\"<b>Topic 2</b><br>Words: forestal, bomberos, incendio, conaf, incendios\",\"<b>Topic 2</b><br>Words: bomberos, conaf, incendio, forestal, incendios\",\"<b>Topic 2</b><br>Words: incendios, bomberos, conaf, forestales, forestal\"],\"marker\":{\"color\":\"#009E73\"},\"mode\":\"lines\",\"name\":\"2_incendios_forestales_conaf_bomberos\",\"x\":[\"2021-09-30T19:04:48\",\"2021-10-31T18:00:00\",\"2021-12-01T12:00:00\",\"2021-12-11T18:00:00\",\"2021-12-22T00:00:00\",\"2022-01-01T06:00:00\",\"2022-01-11T12:00:00\",\"2022-02-01T00:00:00\",\"2022-02-11T06:00:00\",\"2022-02-21T12:00:00\"],\"y\":[14,15,27,13,51,13,18,15,11,13],\"type\":\"scatter\"},{\"hoverinfo\":\"text\",\"hovertext\":[\"<b>Topic 3</b><br>Words: carelmapu, agua, potable, subdere, proyectos\",\"<b>Topic 3</b><br>Words: h\\u00eddrica, agua, potable, apr, escasez\",\"<b>Topic 3</b><br>Words: agua, potable, h\\u00eddrica, familias, camiones\",\"<b>Topic 3</b><br>Words: agua, potable, h\\u00eddrica, escasez, apr\",\"<b>Topic 3</b><br>Words: agua, potable, subdere, pozos, alcantarillado\",\"<b>Topic 3</b><br>Words: agua, potable, subdere, h\\u00eddrica, apr\",\"<b>Topic 3</b><br>Words: agua, pozo, h\\u00eddrica, potable, agr\\u00edcola\",\"<b>Topic 3</b><br>Words: agua, potable, h\\u00eddrica, aguas, subterr\\u00e1neas\",\"<b>Topic 3</b><br>Words: agua, h\\u00eddrica, potable, escasez, 231\",\"<b>Topic 3</b><br>Words: agua, potable, hualaihu\\u00e9, rural, apr\"],\"marker\":{\"color\":\"#F0E442\"},\"mode\":\"lines\",\"name\":\"3_agua_potable_h\\u00eddrica_apr\",\"x\":[\"2021-10-11T06:00:00\",\"2021-10-21T12:00:00\",\"2021-12-22T00:00:00\",\"2022-01-01T06:00:00\",\"2022-01-11T12:00:00\",\"2022-02-11T06:00:00\",\"2022-02-21T12:00:00\",\"2022-03-14T00:00:00\",\"2022-03-24T06:00:00\",\"2022-04-03T12:00:00\"],\"y\":[19,15,20,14,11,24,12,25,12,11],\"type\":\"scatter\"},{\"hoverinfo\":\"text\",\"hovertext\":[\"<b>Topic 4</b><br>Words: incendio, siniestro, bomberos, llamas, traf\\u00fan\",\"<b>Topic 4</b><br>Words: incendio, bomberos, llamas, emergencia, siniestro\",\"<b>Topic 4</b><br>Words: incendio, bomberos, llamas, siniestro, fuego\",\"<b>Topic 4</b><br>Words: bomberos, incendio, llamas, siniestro, emergencia\",\"<b>Topic 4</b><br>Words: incendio, bomberos, emergencia, siniestro, llamas\",\"<b>Topic 4</b><br>Words: incendio, bomberos, siniestro, caba\\u00f1as, llamas\",\"<b>Topic 4</b><br>Words: incendio, bomberos, llamas, siniestro, fuego\",\"<b>Topic 4</b><br>Words: incendio, bomberos, llamas, fuego, siniestro\",\"<b>Topic 4</b><br>Words: incendio, bomberos, siniestro, llamas, mapuche\"],\"marker\":{\"color\":\"#D55E00\"},\"mode\":\"lines\",\"name\":\"4_incendio_bomberos_llamas_siniestro\",\"x\":[\"2021-10-11T06:00:00\",\"2021-10-31T18:00:00\",\"2021-11-11T00:00:00\",\"2021-11-21T06:00:00\",\"2021-12-01T12:00:00\",\"2021-12-11T18:00:00\",\"2021-12-22T00:00:00\",\"2022-02-11T06:00:00\",\"2022-03-24T06:00:00\"],\"y\":[12,12,15,16,15,14,13,12,13],\"type\":\"scatter\"},{\"hoverinfo\":\"text\",\"hovertext\":[\"<b>Topic 5</b><br>Words: colo, cat\\u00f3lica, uc, paulucci, zampedri\",\"<b>Topic 5</b><br>Words: uc, zampedri, colo, cruzados, cat\\u00f3lica\",\"<b>Topic 5</b><br>Words: uc, colo, cat\\u00f3lica, paulucci, cruzados\",\"<b>Topic 5</b><br>Words: colo, paulucci, uc, cat\\u00f3lica, cruzados\",\"<b>Topic 5</b><br>Words: colo, uc, cat\\u00f3lica, paulucci, cruzados\",\"<b>Topic 5</b><br>Words: cruzados, cat\\u00f3lica, paulucci, uc, facundo\",\"<b>Topic 5</b><br>Words: paulucci, uc, colo, cat\\u00f3lica, cl\\u00e1sico\"],\"marker\":{\"color\":\"#0072B2\"},\"mode\":\"lines\",\"name\":\"5_uc_cat\\u00f3lica_colo_paulucci\",\"x\":[\"2021-10-21T12:00:00\",\"2021-10-31T18:00:00\",\"2021-11-11T00:00:00\",\"2021-11-21T06:00:00\",\"2021-12-01T12:00:00\",\"2022-03-14T00:00:00\",\"2022-04-13T18:00:00\"],\"y\":[14,13,14,16,19,12,13],\"type\":\"scatter\"},{\"hoverinfo\":\"text\",\"hovertext\":[\"<b>Topic 6</b><br>Words: uci, residencia, contagios, casos, activos\",\"<b>Topic 6</b><br>Words: residencia, uci, contagios, activos, casos\",\"<b>Topic 6</b><br>Words: casos, uci, contagios, residencia, confirmados\",\"<b>Topic 6</b><br>Words: confirmados, uci, casos, residencia, c\\u00e1ncer\",\"<b>Topic 6</b><br>Words: uci, contagios, casos, residencia, confirmados\",\"<b>Topic 6</b><br>Words: casos, contagios, uci, confirmados, reportaron\"],\"marker\":{\"color\":\"#CC79A7\"},\"mode\":\"lines\",\"name\":\"6_uci_casos_contagios_residencia\",\"x\":[\"2021-11-11T00:00:00\",\"2021-11-21T06:00:00\",\"2022-01-21T18:00:00\",\"2022-02-01T00:00:00\",\"2022-02-21T12:00:00\",\"2022-04-03T12:00:00\"],\"y\":[12,12,13,13,12,11],\"type\":\"scatter\"},{\"hoverinfo\":\"text\",\"hovertext\":[\"<b>Topic 7</b><br>Words: perros, animal, animales, sag, mascotas\",\"<b>Topic 7</b><br>Words: mascotas, sag, caninos, brican, perros\",\"<b>Topic 7</b><br>Words: perros, mascotas, animales, mascota, gatos\",\"<b>Topic 7</b><br>Words: perros, mascotas, gatos, animales, animal\",\"<b>Topic 7</b><br>Words: mascotas, perros, animales, animal, mascota\"],\"marker\":{\"color\":\"#E69F00\"},\"mode\":\"lines\",\"name\":\"7_perros_mascotas_animales_animal\",\"x\":[\"2021-10-31T18:00:00\",\"2021-12-11T18:00:00\",\"2022-02-21T12:00:00\",\"2022-03-03T18:00:00\",\"2022-03-24T06:00:00\"],\"y\":[16,11,18,15,12],\"type\":\"scatter\"},{\"hoverinfo\":\"text\",\"hovertext\":[\"<b>Topic 8</b><br>Words: teatro, m\\u00fasica, combas, festival, concierto\",\"<b>Topic 8</b><br>Words: m\\u00fasica, festival, teatro, musical, schmitt\",\"<b>Topic 8</b><br>Words: festival, musical, teatro, m\\u00fasica, ensamble\",\"<b>Topic 8</b><br>Words: musicales, orquesta, teatro, m\\u00fasica, festival\",\"<b>Topic 8</b><br>Words: m\\u00fasica, musical, jazz, cueca, chora\",\"<b>Topic 8</b><br>Words: orquesta, musical, concierto, m\\u00fasica, festival\"],\"marker\":{\"color\":\"#56B4E9\"},\"mode\":\"lines\",\"name\":\"8_m\\u00fasica_teatro_musical_festival\",\"x\":[\"2021-10-21T12:00:00\",\"2021-12-01T12:00:00\",\"2022-01-11T12:00:00\",\"2022-01-21T18:00:00\",\"2022-03-24T06:00:00\",\"2022-04-03T12:00:00\"],\"y\":[13,14,15,16,12,15],\"type\":\"scatter\"},{\"hoverinfo\":\"text\",\"hovertext\":[\"<b>Topic 9</b><br>Words: gurnah, nobel, poes\\u00eda, escritor, sueca\",\"<b>Topic 9</b><br>Words: indira, garc\\u00eda, poes\\u00eda, m\\u00e1rquez, gabo\",\"<b>Topic 9</b><br>Words: renato, botero, c\\u00e1rdenas, cultura, libro\"],\"marker\":{\"color\":\"#009E73\"},\"mode\":\"lines\",\"name\":\"9_poes\\u00eda_libro_poeta_escritor\",\"x\":[\"2021-09-30T19:04:48\",\"2022-01-11T12:00:00\",\"2022-04-13T18:00:00\"],\"y\":[11,12,21],\"type\":\"scatter\"},{\"hoverinfo\":\"text\",\"hovertext\":[\"<b>Topic 10</b><br>Words: emprendedores, sercotec, negocios, emprendimientos, pyme\",\"<b>Topic 10</b><br>Words: emprendedores, innovaci\\u00f3n, emprendimiento, savialab, ventas\",\"<b>Topic 10</b><br>Words: emprendedores, negocios, sercotec, emprendimientos, emprendimiento\",\"<b>Topic 10</b><br>Words: emprendedores, emprendimientos, negocios, asech, emprendimiento\",\"<b>Topic 10</b><br>Words: emprendedores, digital, innovaci\\u00f3n, emprendimiento, pyme\"],\"marker\":{\"color\":\"#F0E442\"},\"mode\":\"lines\",\"name\":\"10_emprendedores_negocios_emprendimiento...\",\"x\":[\"2021-10-21T12:00:00\",\"2021-10-31T18:00:00\",\"2021-12-01T12:00:00\",\"2021-12-11T18:00:00\",\"2022-04-03T12:00:00\"],\"y\":[17,12,14,11,12],\"type\":\"scatter\"},{\"hoverinfo\":\"text\",\"hovertext\":[\"<b>Topic 11</b><br>Words: maradona, bienvenidos, actor, canal, matinal\",\"<b>Topic 11</b><br>Words: pel\\u00edcula, pascal, navidad, polera, inmundo\"],\"marker\":{\"color\":\"#D55E00\"},\"mode\":\"lines\",\"name\":\"11_pel\\u00edcula_cine_actor_canal\",\"x\":[\"2021-10-21T12:00:00\",\"2021-12-22T00:00:00\"],\"y\":[12,11],\"type\":\"scatter\"},{\"hoverinfo\":\"text\",\"hovertext\":[\"<b>Topic 12</b><br>Words: gas, enap, licuado, chiguayante, municipios\",\"<b>Topic 12</b><br>Words: gas, gnl, licuado, amuch, mel\\u00f3n\",\"<b>Topic 12</b><br>Words: gas, combustibles, precio, parafina, estabilizaci\\u00f3n\",\"<b>Topic 12</b><br>Words: combustibles, precio, gas, precios, parafina\",\"<b>Topic 12</b><br>Words: gas, precio, parafina, iva, combustibles\"],\"marker\":{\"color\":\"#0072B2\"},\"mode\":\"lines\",\"name\":\"12_gas_precio_licuado_combustibles\",\"x\":[\"2021-11-21T06:00:00\",\"2021-12-11T18:00:00\",\"2022-03-03T18:00:00\",\"2022-03-14T00:00:00\",\"2022-03-24T06:00:00\"],\"y\":[18,11,11,22,14],\"type\":\"scatter\"},{\"hoverinfo\":\"text\",\"hovertext\":[\"<b>Topic 13</b><br>Words: convenci\\u00f3n, pleno, qu\\u00f3rum, constituci\\u00f3n, votaci\\u00f3n\",\"<b>Topic 13</b><br>Words: convenci\\u00f3n, pleno, constitucional, comisi\\u00f3n, constituci\\u00f3n\",\"<b>Topic 13</b><br>Words: convenci\\u00f3n, senado, pol\\u00edtico, comisi\\u00f3n, legislativo\"],\"marker\":{\"color\":\"#CC79A7\"},\"mode\":\"lines\",\"name\":\"13_convenci\\u00f3n_constitucional_senado_cons...\",\"x\":[\"2022-02-11T06:00:00\",\"2022-03-14T00:00:00\",\"2022-03-24T06:00:00\"],\"y\":[11,14,20],\"type\":\"scatter\"},{\"hoverinfo\":\"text\",\"hovertext\":[\"<b>Topic 14</b><br>Words: chilo\\u00e9, alcaldes, caminos, plan, alcalde\",\"<b>Topic 14</b><br>Words: reuni\\u00f3n, alcaldes, delegada, chilo\\u00e9, temas\",\"<b>Topic 14</b><br>Words: alcaldes, delegada, palena, corporaciones, asociaci\\u00f3n\"],\"marker\":{\"color\":\"#E69F00\"},\"mode\":\"lines\",\"name\":\"14_chilo\\u00e9_alcaldes_provincia_municipios\",\"x\":[\"2021-09-30T19:04:48\",\"2022-03-14T00:00:00\",\"2022-03-24T06:00:00\"],\"y\":[14,13,22],\"type\":\"scatter\"},{\"hoverinfo\":\"text\",\"hovertext\":[\"<b>Topic 15</b><br>Words: ucrania, rusia, putin, otan, mosc\\u00fa\",\"<b>Topic 15</b><br>Words: ucrania, putin, rusia, otan, guerra\",\"<b>Topic 15</b><br>Words: ucrania, rusia, putin, guerra, invasi\\u00f3n\",\"<b>Topic 15</b><br>Words: ucrania, putin, rusia, kiev, guerra\",\"<b>Topic 15</b><br>Words: ucrania, rusia, putin, mosc\\u00fa, ruso\"],\"marker\":{\"color\":\"#56B4E9\"},\"mode\":\"lines\",\"name\":\"15_ucrania_rusia_putin_otan\",\"x\":[\"2022-02-21T12:00:00\",\"2022-03-03T18:00:00\",\"2022-03-14T00:00:00\",\"2022-04-03T12:00:00\",\"2022-04-13T18:00:00\"],\"y\":[25,18,13,12,13],\"type\":\"scatter\"},{\"hoverinfo\":\"text\",\"hovertext\":[\"<b>Topic 16</b><br>Words: a\\u5e3do, chilo\\u8305, m\\u8c29s, tambi\\u8305n, y\\u8c29\\u5e3dez\",\"<b>Topic 16</b><br>Words: m\\u8c29s, tambi\\u8305n, chilo\\u8305, energ\\u94c6a, adem\\u8c29s\"],\"marker\":{\"color\":\"#009E73\"},\"mode\":\"lines\",\"name\":\"16_m\\u8c29s_chilo\\u8305_tambi\\u8305n_regi\\u8d38n\",\"x\":[\"2022-03-14T00:00:00\",\"2022-04-03T12:00:00\"],\"y\":[13,12],\"type\":\"scatter\"},{\"hoverinfo\":\"text\",\"hovertext\":[\"<b>Topic 17</b><br>Words: dosis, vacunas, vacuna, vacunaci\\u00f3n, pfizer\",\"<b>Topic 17</b><br>Words: dosis, vacunaci\\u00f3n, refuerzo, vacuna, cuarta\",\"<b>Topic 17</b><br>Words: dosis, vacunaci\\u00f3n, vacuna, vacunas, refuerzo\"],\"marker\":{\"color\":\"#F0E442\"},\"mode\":\"lines\",\"name\":\"17_dosis_vacunaci\\u00f3n_vacuna_vacunas\",\"x\":[\"2021-10-11T06:00:00\",\"2022-01-01T06:00:00\",\"2022-04-13T18:00:00\"],\"y\":[18,16,11],\"type\":\"scatter\"},{\"hoverinfo\":\"text\",\"hovertext\":[\"<b>Topic 18</b><br>Words: estrellas, planetas, espacial, solar, lucy\"],\"marker\":{\"color\":\"#D55E00\"},\"mode\":\"lines\",\"name\":\"18_espacial_estrellas_nasa_telescopio\",\"x\":[\"2021-10-11T06:00:00\"],\"y\":[11],\"type\":\"scatter\"},{\"hoverinfo\":\"text\",\"hovertext\":[\"<b>Topic 19</b><br>Words: contagios, casos, \\u00f3micron, positividad, variante\",\"<b>Topic 19</b><br>Words: casos, contagios, minsal, positividad, \\u00f3micron\",\"<b>Topic 19</b><br>Words: casos, contagios, camas, positividad, activos\",\"<b>Topic 19</b><br>Words: contagios, casos, activos, camas, positividad\"],\"marker\":{\"color\":\"#0072B2\"},\"mode\":\"lines\",\"name\":\"19_casos_contagios_\\u00f3micron_positividad\",\"x\":[\"2022-01-11T12:00:00\",\"2022-01-21T18:00:00\",\"2022-02-01T00:00:00\",\"2022-02-11T06:00:00\"],\"y\":[25,27,17,11],\"type\":\"scatter\"},{\"hoverinfo\":\"text\",\"hovertext\":[\"<b>Topic 20</b><br>Words: robo, especies, robos, habitado, receptaci\\u00f3n\"],\"marker\":{\"color\":\"#CC79A7\"},\"mode\":\"lines\",\"name\":\"20_robo_especies_robos_ladrones\",\"x\":[\"2022-03-24T06:00:00\"],\"y\":[14],\"type\":\"scatter\"},{\"hoverinfo\":\"text\",\"hovertext\":[\"<b>Topic 21</b><br>Words: canal, dalcahue, ministra, transportes, hutt\",\"<b>Topic 21</b><br>Words: canal, transportes, conectividad, dalcahue, navieras\",\"<b>Topic 21</b><br>Words: conectividad, transportes, canal, puelche, mar\\u00edtima\",\"<b>Topic 21</b><br>Words: transportes, canal, conectividad, transporte, dalcahue\",\"<b>Topic 21</b><br>Words: transportes, conectividad, canal, alcaldes, gobernador\"],\"marker\":{\"color\":\"#E69F00\"},\"mode\":\"lines\",\"name\":\"21_transportes_canal_conectividad_dalcah...\",\"x\":[\"2021-10-31T18:00:00\",\"2022-01-01T06:00:00\",\"2022-02-21T12:00:00\",\"2022-03-14T00:00:00\",\"2022-03-24T06:00:00\"],\"y\":[11,11,15,11,13],\"type\":\"scatter\"},{\"hoverinfo\":\"text\",\"hovertext\":[\"<b>Topic 22</b><br>Words: residuos, reciclaje, basura, contenedores, reciclado\",\"<b>Topic 22</b><br>Words: residuos, reciclaje, basura, relleno, toneladas\"],\"marker\":{\"color\":\"#56B4E9\"},\"mode\":\"lines\",\"name\":\"22_residuos_reciclaje_basura_domiciliari...\",\"x\":[\"2021-12-22T00:00:00\",\"2022-01-21T18:00:00\"],\"y\":[13,12],\"type\":\"scatter\"},{\"hoverinfo\":\"text\",\"hovertext\":[\"<b>Topic 23</b><br>Words: pir\\u00e1mides, pel\\u00edcula, degypte, serie, actriz\",\"<b>Topic 23</b><br>Words: emily, collins, bomb\\u00f3n, manga, duquesa\"],\"marker\":{\"color\":\"#009E73\"},\"mode\":\"lines\",\"name\":\"23_pel\\u00edcula_actriz_personaje_cinta\",\"x\":[\"2021-10-31T18:00:00\",\"2021-12-11T18:00:00\"],\"y\":[13,11],\"type\":\"scatter\"},{\"hoverinfo\":\"text\",\"hovertext\":[\"<b>Topic 24</b><br>Words: mariscos, marea, extracci\\u00f3n, toxinas, sernapesca\",\"<b>Topic 24</b><br>Words: mariscos, marea, roja, toxina, toxinas\",\"<b>Topic 24</b><br>Words: mariscos, marea, roja, toxinas, productos\"],\"marker\":{\"color\":\"#F0E442\"},\"mode\":\"lines\",\"name\":\"24_mariscos_marea_roja_toxinas\",\"x\":[\"2022-03-14T00:00:00\",\"2022-04-03T12:00:00\",\"2022-04-13T18:00:00\"],\"y\":[13,63,13],\"type\":\"scatter\"},{\"hoverinfo\":\"text\",\"hovertext\":[\"<b>Topic 25</b><br>Words: brereton, blackburn, ben, rovers, premier\",\"<b>Topic 25</b><br>Words: brereton, ben, blackburn, rovers, championship\"],\"marker\":{\"color\":\"#D55E00\"},\"mode\":\"lines\",\"name\":\"25_brereton_blackburn_ben_rovers\",\"x\":[\"2021-12-11T18:00:00\",\"2021-12-22T00:00:00\"],\"y\":[11,12],\"type\":\"scatter\"},{\"hoverinfo\":\"text\",\"hovertext\":[\"<b>Topic 26</b><br>Words: artes, cultural, arte, artista, telar\"],\"marker\":{\"color\":\"#0072B2\"},\"mode\":\"lines\",\"name\":\"26_arte_artes_artista_cultural\",\"x\":[\"2021-10-31T18:00:00\"],\"y\":[13],\"type\":\"scatter\"},{\"hoverinfo\":\"text\",\"hovertext\":[\"<b>Topic 27</b><br>Words: colch\\u00f3n, dormir, diabetes, colesterol, sue\\u00f1o\"],\"marker\":{\"color\":\"#CC79A7\"},\"mode\":\"lines\",\"name\":\"27_obesidad_diabetes_sue\\u00f1o_dormir\",\"x\":[\"2022-03-14T00:00:00\"],\"y\":[12],\"type\":\"scatter\"},{\"hoverinfo\":\"text\",\"hovertext\":[\"<b>Topic 28</b><br>Words: medallas, josafat, juegos, deportistas, bronce\",\"<b>Topic 28</b><br>Words: medallas, medalla, bronce, metros, oro\",\"<b>Topic 28</b><br>Words: medallas, metros, plata, oro, juegos\"],\"marker\":{\"color\":\"#E69F00\"},\"mode\":\"lines\",\"name\":\"28_medallas_metros_bronce_medalla\",\"x\":[\"2021-10-31T18:00:00\",\"2021-11-21T06:00:00\",\"2021-12-01T12:00:00\"],\"y\":[13,17,13],\"type\":\"scatter\"},{\"hoverinfo\":\"text\",\"hovertext\":[\"<b>Topic 30</b><br>Words: aut\\u00f3nomas, territoriales, constituyente, autonom\\u00eda, convenci\\u00f3n\"],\"marker\":{\"color\":\"#56B4E9\"},\"mode\":\"lines\",\"name\":\"30_chilo\\u00e9_convenci\\u00f3n_firmas_autonom\\u00eda\",\"x\":[\"2022-02-11T06:00:00\"],\"y\":[13],\"type\":\"scatter\"},{\"hoverinfo\":\"text\",\"hovertext\":[\"<b>Topic 31</b><br>Words: sal, taza, ingredientes, horno, aceite\"],\"marker\":{\"color\":\"#009E73\"},\"mode\":\"lines\",\"name\":\"31_ingredientes_sal_aceite_taza\",\"x\":[\"2021-12-11T18:00:00\"],\"y\":[16],\"type\":\"scatter\"},{\"hoverinfo\":\"text\",\"hovertext\":[\"<b>Topic 32</b><br>Words: pesca, sernapesca, caladas, kilos, recreativa\",\"<b>Topic 32</b><br>Words: sernapesca, pesca, mar, recurso, fiscalizaci\\u00f3n\"],\"marker\":{\"color\":\"#F0E442\"},\"mode\":\"lines\",\"name\":\"32_sernapesca_pesca_recurso_kilos\",\"x\":[\"2022-02-11T06:00:00\",\"2022-04-03T12:00:00\"],\"y\":[11,16],\"type\":\"scatter\"},{\"hoverinfo\":\"text\",\"hovertext\":[\"<b>Topic 33</b><br>Words: reconstrucci\\u00f3n, viviendas, incendio, familias, afectadas\",\"<b>Topic 33</b><br>Words: reconstrucci\\u00f3n, familias, viviendas, gastando, dormitorios\"],\"marker\":{\"color\":\"#D55E00\"},\"mode\":\"lines\",\"name\":\"33_reconstrucci\\u00f3n_viviendas_familias_inc...\",\"x\":[\"2021-12-11T18:00:00\",\"2022-02-01T00:00:00\"],\"y\":[31,11],\"type\":\"scatter\"},{\"hoverinfo\":\"text\",\"hovertext\":[\"<b>Topic 34</b><br>Words: juicio, oral, tribunal, m\\u00f3nica, veredicto\"],\"marker\":{\"color\":\"#0072B2\"},\"mode\":\"lines\",\"name\":\"34_tribunal_presidio_oral_juicio\",\"x\":[\"2022-01-11T12:00:00\"],\"y\":[11],\"type\":\"scatter\"},{\"hoverinfo\":\"text\",\"hovertext\":[\"<b>Topic 36</b><br>Words: justicia, art\\u00edculo, art\\u00edculos, pleno, convenci\\u00f3n\",\"<b>Topic 36</b><br>Words: derechos, desc, convenci\\u00f3n, derecho, constitucional\"],\"marker\":{\"color\":\"#CC79A7\"},\"mode\":\"lines\",\"name\":\"36_convenci\\u00f3n_pleno_derechos_art\\u00edculo\",\"x\":[\"2022-02-11T06:00:00\",\"2022-04-13T18:00:00\"],\"y\":[18,12],\"type\":\"scatter\"},{\"hoverinfo\":\"text\",\"hovertext\":[\"<b>Topic 37</b><br>Words: violaci\\u00f3n, sexual, liberona, sujeto, menor\",\"<b>Topic 37</b><br>Words: sexual, abuso, violaci\\u00f3n, giuffre, sujeto\"],\"marker\":{\"color\":\"#E69F00\"},\"mode\":\"lines\",\"name\":\"37_sexual_violaci\\u00f3n_abuso_menor\",\"x\":[\"2021-12-01T12:00:00\",\"2022-02-01T00:00:00\"],\"y\":[14,12],\"type\":\"scatter\"},{\"hoverinfo\":\"text\",\"hovertext\":[\"<b>Topic 38</b><br>Words: drogas, gramos, droga, microtr\\u00e1fico, coca\\u00edna\"],\"marker\":{\"color\":\"#56B4E9\"},\"mode\":\"lines\",\"name\":\"38_drogas_droga_gramos_coca\\u00edna\",\"x\":[\"2022-02-01T00:00:00\"],\"y\":[12],\"type\":\"scatter\"},{\"hoverinfo\":\"text\",\"hovertext\":[\"<b>Topic 39</b><br>Words: votaci\\u00f3n, elecciones, locales, servel, mesas\",\"<b>Topic 39</b><br>Words: votaci\\u00f3n, padr\\u00f3n, mesas, votantes, votos\",\"<b>Topic 39</b><br>Words: mesas, votaci\\u00f3n, locales, servel, votar\"],\"marker\":{\"color\":\"#009E73\"},\"mode\":\"lines\",\"name\":\"39_votaci\\u00f3n_mesas_elecciones_servel\",\"x\":[\"2021-11-11T00:00:00\",\"2021-11-21T06:00:00\",\"2021-12-11T18:00:00\"],\"y\":[33,14,22],\"type\":\"scatter\"},{\"hoverinfo\":\"text\",\"hovertext\":[\"<b>Topic 40</b><br>Words: pileta, paredes, contralor\\u00eda, enriquecimiento, firmani\"],\"marker\":{\"color\":\"#F0E442\"},\"mode\":\"lines\",\"name\":\"40_contralor\\u00eda_hijerra_pileta_concejales\",\"x\":[\"2021-10-11T06:00:00\"],\"y\":[13],\"type\":\"scatter\"},{\"hoverinfo\":\"text\",\"hovertext\":[\"<b>Topic 41</b><br>Words: ambiental, cota, humedales, ecoprial, colb\\u00fan\"],\"marker\":{\"color\":\"#D55E00\"},\"mode\":\"lines\",\"name\":\"41_ambiental_humedal_humedales_ecoprial\",\"x\":[\"2022-02-21T12:00:00\"],\"y\":[11],\"type\":\"scatter\"},{\"hoverinfo\":\"text\",\"hovertext\":[\"<b>Topic 42</b><br>Words: vocales, elecciones, servel, eligen, candidatos\",\"<b>Topic 42</b><br>Words: elecciones, vocal, votar, servel, vocales\"],\"marker\":{\"color\":\"#0072B2\"},\"mode\":\"lines\",\"name\":\"42_elecciones_vocales_vocal_electoral\",\"x\":[\"2021-10-31T18:00:00\",\"2021-11-11T00:00:00\"],\"y\":[17,38],\"type\":\"scatter\"},{\"hoverinfo\":\"text\",\"hovertext\":[\"<b>Topic 43</b><br>Words: roja, paraguay, lasarte, ar\\u00e1nguiz, clasificatorias\"],\"marker\":{\"color\":\"#CC79A7\"},\"mode\":\"lines\",\"name\":\"43_roja_lasarte_selecci\\u00f3n_paraguay\",\"x\":[\"2021-10-31T18:00:00\"],\"y\":[15],\"type\":\"scatter\"},{\"hoverinfo\":\"text\",\"hovertext\":[\"<b>Topic 45</b><br>Words: ranco, provincial, taurino, pal\\u00edn, rengo\"],\"marker\":{\"color\":\"#E69F00\"},\"mode\":\"lines\",\"name\":\"45_provincial_ranco_taurino_campeonato\",\"x\":[\"2021-10-11T06:00:00\"],\"y\":[11],\"type\":\"scatter\"},{\"hoverinfo\":\"text\",\"hovertext\":[\"<b>Topic 48</b><br>Words: clases, retorno, establecimientos, presenciales, escolar\"],\"marker\":{\"color\":\"#56B4E9\"},\"mode\":\"lines\",\"name\":\"48_clases_retorno_escolar_educaci\\u00f3n\",\"x\":[\"2022-02-21T12:00:00\"],\"y\":[24],\"type\":\"scatter\"},{\"hoverinfo\":\"text\",\"hovertext\":[\"<b>Topic 49</b><br>Words: reconducci\\u00f3n, colchane, migraci\\u00f3n, inmigrante, migratoria\"],\"marker\":{\"color\":\"#009E73\"},\"mode\":\"lines\",\"name\":\"49_migraci\\u00f3n_reconducci\\u00f3n_migrantes_migr...\",\"x\":[\"2022-02-11T06:00:00\"],\"y\":[15],\"type\":\"scatter\"}],                        {\"template\":{\"data\":{\"barpolar\":[{\"marker\":{\"line\":{\"color\":\"white\",\"width\":0.5},\"pattern\":{\"fillmode\":\"overlay\",\"size\":10,\"solidity\":0.2}},\"type\":\"barpolar\"}],\"bar\":[{\"error_x\":{\"color\":\"rgb(36,36,36)\"},\"error_y\":{\"color\":\"rgb(36,36,36)\"},\"marker\":{\"line\":{\"color\":\"white\",\"width\":0.5},\"pattern\":{\"fillmode\":\"overlay\",\"size\":10,\"solidity\":0.2}},\"type\":\"bar\"}],\"carpet\":[{\"aaxis\":{\"endlinecolor\":\"rgb(36,36,36)\",\"gridcolor\":\"white\",\"linecolor\":\"white\",\"minorgridcolor\":\"white\",\"startlinecolor\":\"rgb(36,36,36)\"},\"baxis\":{\"endlinecolor\":\"rgb(36,36,36)\",\"gridcolor\":\"white\",\"linecolor\":\"white\",\"minorgridcolor\":\"white\",\"startlinecolor\":\"rgb(36,36,36)\"},\"type\":\"carpet\"}],\"choropleth\":[{\"colorbar\":{\"outlinewidth\":1,\"tickcolor\":\"rgb(36,36,36)\",\"ticks\":\"outside\"},\"type\":\"choropleth\"}],\"contourcarpet\":[{\"colorbar\":{\"outlinewidth\":1,\"tickcolor\":\"rgb(36,36,36)\",\"ticks\":\"outside\"},\"type\":\"contourcarpet\"}],\"contour\":[{\"colorbar\":{\"outlinewidth\":1,\"tickcolor\":\"rgb(36,36,36)\",\"ticks\":\"outside\"},\"colorscale\":[[0.0,\"#440154\"],[0.1111111111111111,\"#482878\"],[0.2222222222222222,\"#3e4989\"],[0.3333333333333333,\"#31688e\"],[0.4444444444444444,\"#26828e\"],[0.5555555555555556,\"#1f9e89\"],[0.6666666666666666,\"#35b779\"],[0.7777777777777778,\"#6ece58\"],[0.8888888888888888,\"#b5de2b\"],[1.0,\"#fde725\"]],\"type\":\"contour\"}],\"heatmapgl\":[{\"colorbar\":{\"outlinewidth\":1,\"tickcolor\":\"rgb(36,36,36)\",\"ticks\":\"outside\"},\"colorscale\":[[0.0,\"#440154\"],[0.1111111111111111,\"#482878\"],[0.2222222222222222,\"#3e4989\"],[0.3333333333333333,\"#31688e\"],[0.4444444444444444,\"#26828e\"],[0.5555555555555556,\"#1f9e89\"],[0.6666666666666666,\"#35b779\"],[0.7777777777777778,\"#6ece58\"],[0.8888888888888888,\"#b5de2b\"],[1.0,\"#fde725\"]],\"type\":\"heatmapgl\"}],\"heatmap\":[{\"colorbar\":{\"outlinewidth\":1,\"tickcolor\":\"rgb(36,36,36)\",\"ticks\":\"outside\"},\"colorscale\":[[0.0,\"#440154\"],[0.1111111111111111,\"#482878\"],[0.2222222222222222,\"#3e4989\"],[0.3333333333333333,\"#31688e\"],[0.4444444444444444,\"#26828e\"],[0.5555555555555556,\"#1f9e89\"],[0.6666666666666666,\"#35b779\"],[0.7777777777777778,\"#6ece58\"],[0.8888888888888888,\"#b5de2b\"],[1.0,\"#fde725\"]],\"type\":\"heatmap\"}],\"histogram2dcontour\":[{\"colorbar\":{\"outlinewidth\":1,\"tickcolor\":\"rgb(36,36,36)\",\"ticks\":\"outside\"},\"colorscale\":[[0.0,\"#440154\"],[0.1111111111111111,\"#482878\"],[0.2222222222222222,\"#3e4989\"],[0.3333333333333333,\"#31688e\"],[0.4444444444444444,\"#26828e\"],[0.5555555555555556,\"#1f9e89\"],[0.6666666666666666,\"#35b779\"],[0.7777777777777778,\"#6ece58\"],[0.8888888888888888,\"#b5de2b\"],[1.0,\"#fde725\"]],\"type\":\"histogram2dcontour\"}],\"histogram2d\":[{\"colorbar\":{\"outlinewidth\":1,\"tickcolor\":\"rgb(36,36,36)\",\"ticks\":\"outside\"},\"colorscale\":[[0.0,\"#440154\"],[0.1111111111111111,\"#482878\"],[0.2222222222222222,\"#3e4989\"],[0.3333333333333333,\"#31688e\"],[0.4444444444444444,\"#26828e\"],[0.5555555555555556,\"#1f9e89\"],[0.6666666666666666,\"#35b779\"],[0.7777777777777778,\"#6ece58\"],[0.8888888888888888,\"#b5de2b\"],[1.0,\"#fde725\"]],\"type\":\"histogram2d\"}],\"histogram\":[{\"marker\":{\"line\":{\"color\":\"white\",\"width\":0.6}},\"type\":\"histogram\"}],\"mesh3d\":[{\"colorbar\":{\"outlinewidth\":1,\"tickcolor\":\"rgb(36,36,36)\",\"ticks\":\"outside\"},\"type\":\"mesh3d\"}],\"parcoords\":[{\"line\":{\"colorbar\":{\"outlinewidth\":1,\"tickcolor\":\"rgb(36,36,36)\",\"ticks\":\"outside\"}},\"type\":\"parcoords\"}],\"pie\":[{\"automargin\":true,\"type\":\"pie\"}],\"scatter3d\":[{\"line\":{\"colorbar\":{\"outlinewidth\":1,\"tickcolor\":\"rgb(36,36,36)\",\"ticks\":\"outside\"}},\"marker\":{\"colorbar\":{\"outlinewidth\":1,\"tickcolor\":\"rgb(36,36,36)\",\"ticks\":\"outside\"}},\"type\":\"scatter3d\"}],\"scattercarpet\":[{\"marker\":{\"colorbar\":{\"outlinewidth\":1,\"tickcolor\":\"rgb(36,36,36)\",\"ticks\":\"outside\"}},\"type\":\"scattercarpet\"}],\"scattergeo\":[{\"marker\":{\"colorbar\":{\"outlinewidth\":1,\"tickcolor\":\"rgb(36,36,36)\",\"ticks\":\"outside\"}},\"type\":\"scattergeo\"}],\"scattergl\":[{\"marker\":{\"colorbar\":{\"outlinewidth\":1,\"tickcolor\":\"rgb(36,36,36)\",\"ticks\":\"outside\"}},\"type\":\"scattergl\"}],\"scattermapbox\":[{\"marker\":{\"colorbar\":{\"outlinewidth\":1,\"tickcolor\":\"rgb(36,36,36)\",\"ticks\":\"outside\"}},\"type\":\"scattermapbox\"}],\"scatterpolargl\":[{\"marker\":{\"colorbar\":{\"outlinewidth\":1,\"tickcolor\":\"rgb(36,36,36)\",\"ticks\":\"outside\"}},\"type\":\"scatterpolargl\"}],\"scatterpolar\":[{\"marker\":{\"colorbar\":{\"outlinewidth\":1,\"tickcolor\":\"rgb(36,36,36)\",\"ticks\":\"outside\"}},\"type\":\"scatterpolar\"}],\"scatter\":[{\"fillpattern\":{\"fillmode\":\"overlay\",\"size\":10,\"solidity\":0.2},\"type\":\"scatter\"}],\"scatterternary\":[{\"marker\":{\"colorbar\":{\"outlinewidth\":1,\"tickcolor\":\"rgb(36,36,36)\",\"ticks\":\"outside\"}},\"type\":\"scatterternary\"}],\"surface\":[{\"colorbar\":{\"outlinewidth\":1,\"tickcolor\":\"rgb(36,36,36)\",\"ticks\":\"outside\"},\"colorscale\":[[0.0,\"#440154\"],[0.1111111111111111,\"#482878\"],[0.2222222222222222,\"#3e4989\"],[0.3333333333333333,\"#31688e\"],[0.4444444444444444,\"#26828e\"],[0.5555555555555556,\"#1f9e89\"],[0.6666666666666666,\"#35b779\"],[0.7777777777777778,\"#6ece58\"],[0.8888888888888888,\"#b5de2b\"],[1.0,\"#fde725\"]],\"type\":\"surface\"}],\"table\":[{\"cells\":{\"fill\":{\"color\":\"rgb(237,237,237)\"},\"line\":{\"color\":\"white\"}},\"header\":{\"fill\":{\"color\":\"rgb(217,217,217)\"},\"line\":{\"color\":\"white\"}},\"type\":\"table\"}]},\"layout\":{\"annotationdefaults\":{\"arrowhead\":0,\"arrowwidth\":1},\"autotypenumbers\":\"strict\",\"coloraxis\":{\"colorbar\":{\"outlinewidth\":1,\"tickcolor\":\"rgb(36,36,36)\",\"ticks\":\"outside\"}},\"colorscale\":{\"diverging\":[[0.0,\"rgb(103,0,31)\"],[0.1,\"rgb(178,24,43)\"],[0.2,\"rgb(214,96,77)\"],[0.3,\"rgb(244,165,130)\"],[0.4,\"rgb(253,219,199)\"],[0.5,\"rgb(247,247,247)\"],[0.6,\"rgb(209,229,240)\"],[0.7,\"rgb(146,197,222)\"],[0.8,\"rgb(67,147,195)\"],[0.9,\"rgb(33,102,172)\"],[1.0,\"rgb(5,48,97)\"]],\"sequential\":[[0.0,\"#440154\"],[0.1111111111111111,\"#482878\"],[0.2222222222222222,\"#3e4989\"],[0.3333333333333333,\"#31688e\"],[0.4444444444444444,\"#26828e\"],[0.5555555555555556,\"#1f9e89\"],[0.6666666666666666,\"#35b779\"],[0.7777777777777778,\"#6ece58\"],[0.8888888888888888,\"#b5de2b\"],[1.0,\"#fde725\"]],\"sequentialminus\":[[0.0,\"#440154\"],[0.1111111111111111,\"#482878\"],[0.2222222222222222,\"#3e4989\"],[0.3333333333333333,\"#31688e\"],[0.4444444444444444,\"#26828e\"],[0.5555555555555556,\"#1f9e89\"],[0.6666666666666666,\"#35b779\"],[0.7777777777777778,\"#6ece58\"],[0.8888888888888888,\"#b5de2b\"],[1.0,\"#fde725\"]]},\"colorway\":[\"#1F77B4\",\"#FF7F0E\",\"#2CA02C\",\"#D62728\",\"#9467BD\",\"#8C564B\",\"#E377C2\",\"#7F7F7F\",\"#BCBD22\",\"#17BECF\"],\"font\":{\"color\":\"rgb(36,36,36)\"},\"geo\":{\"bgcolor\":\"white\",\"lakecolor\":\"white\",\"landcolor\":\"white\",\"showlakes\":true,\"showland\":true,\"subunitcolor\":\"white\"},\"hoverlabel\":{\"align\":\"left\"},\"hovermode\":\"closest\",\"mapbox\":{\"style\":\"light\"},\"paper_bgcolor\":\"white\",\"plot_bgcolor\":\"white\",\"polar\":{\"angularaxis\":{\"gridcolor\":\"rgb(232,232,232)\",\"linecolor\":\"rgb(36,36,36)\",\"showgrid\":false,\"showline\":true,\"ticks\":\"outside\"},\"bgcolor\":\"white\",\"radialaxis\":{\"gridcolor\":\"rgb(232,232,232)\",\"linecolor\":\"rgb(36,36,36)\",\"showgrid\":false,\"showline\":true,\"ticks\":\"outside\"}},\"scene\":{\"xaxis\":{\"backgroundcolor\":\"white\",\"gridcolor\":\"rgb(232,232,232)\",\"gridwidth\":2,\"linecolor\":\"rgb(36,36,36)\",\"showbackground\":true,\"showgrid\":false,\"showline\":true,\"ticks\":\"outside\",\"zeroline\":false,\"zerolinecolor\":\"rgb(36,36,36)\"},\"yaxis\":{\"backgroundcolor\":\"white\",\"gridcolor\":\"rgb(232,232,232)\",\"gridwidth\":2,\"linecolor\":\"rgb(36,36,36)\",\"showbackground\":true,\"showgrid\":false,\"showline\":true,\"ticks\":\"outside\",\"zeroline\":false,\"zerolinecolor\":\"rgb(36,36,36)\"},\"zaxis\":{\"backgroundcolor\":\"white\",\"gridcolor\":\"rgb(232,232,232)\",\"gridwidth\":2,\"linecolor\":\"rgb(36,36,36)\",\"showbackground\":true,\"showgrid\":false,\"showline\":true,\"ticks\":\"outside\",\"zeroline\":false,\"zerolinecolor\":\"rgb(36,36,36)\"}},\"shapedefaults\":{\"fillcolor\":\"black\",\"line\":{\"width\":0},\"opacity\":0.3},\"ternary\":{\"aaxis\":{\"gridcolor\":\"rgb(232,232,232)\",\"linecolor\":\"rgb(36,36,36)\",\"showgrid\":false,\"showline\":true,\"ticks\":\"outside\"},\"baxis\":{\"gridcolor\":\"rgb(232,232,232)\",\"linecolor\":\"rgb(36,36,36)\",\"showgrid\":false,\"showline\":true,\"ticks\":\"outside\"},\"bgcolor\":\"white\",\"caxis\":{\"gridcolor\":\"rgb(232,232,232)\",\"linecolor\":\"rgb(36,36,36)\",\"showgrid\":false,\"showline\":true,\"ticks\":\"outside\"}},\"title\":{\"x\":0.05},\"xaxis\":{\"automargin\":true,\"gridcolor\":\"rgb(232,232,232)\",\"linecolor\":\"rgb(36,36,36)\",\"showgrid\":false,\"showline\":true,\"ticks\":\"outside\",\"title\":{\"standoff\":15},\"zeroline\":false,\"zerolinecolor\":\"rgb(36,36,36)\"},\"yaxis\":{\"automargin\":true,\"gridcolor\":\"rgb(232,232,232)\",\"linecolor\":\"rgb(36,36,36)\",\"showgrid\":false,\"showline\":true,\"ticks\":\"outside\",\"title\":{\"standoff\":15},\"zeroline\":false,\"zerolinecolor\":\"rgb(36,36,36)\"}}},\"xaxis\":{\"showgrid\":true},\"yaxis\":{\"showgrid\":true,\"title\":{\"text\":\"Frequency\"}},\"title\":{\"font\":{\"size\":22,\"color\":\"Black\"},\"text\":\"<b>Topics over Time\",\"y\":0.95,\"x\":0.4,\"xanchor\":\"center\",\"yanchor\":\"top\"},\"hoverlabel\":{\"font\":{\"size\":16,\"family\":\"Rockwell\"},\"bgcolor\":\"white\"},\"width\":1250,\"height\":450,\"legend\":{\"title\":{\"text\":\"<b>Global Topic Representation\"}}},                        {\"responsive\": true}                    ).then(function(){\n",
       "                            \n",
       "var gd = document.getElementById('318ae7a6-3ade-4c11-8748-730a55a98cf8');\n",
       "var x = new MutationObserver(function (mutations, observer) {{\n",
       "        var display = window.getComputedStyle(gd).display;\n",
       "        if (!display || display === 'none') {{\n",
       "            console.log([gd, 'removed!']);\n",
       "            Plotly.purge(gd);\n",
       "            observer.disconnect();\n",
       "        }}\n",
       "}});\n",
       "\n",
       "// Listen for the removal of the full notebook cells\n",
       "var notebookContainer = gd.closest('#notebook-container');\n",
       "if (notebookContainer) {{\n",
       "    x.observe(notebookContainer, {childList: true});\n",
       "}}\n",
       "\n",
       "// Listen for the clearing of the current output cell\n",
       "var outputEl = gd.closest('.output');\n",
       "if (outputEl) {{\n",
       "    x.observe(outputEl, {childList: true});\n",
       "}}\n",
       "\n",
       "                        })                };                });            </script>        </div>"
      ]
     },
     "metadata": {},
     "output_type": "display_data"
    }
   ],
   "source": [
    "asdf = topics_over_time.loc[topics_over_time.Frequency > 10]\n",
    "topic_model.visualize_topics_over_time(asdf, top_n_topics=50)"
   ]
  },
  {
   "cell_type": "code",
   "execution_count": null,
   "id": "094439a5",
   "metadata": {},
   "outputs": [],
   "source": []
  },
  {
   "cell_type": "markdown",
   "id": "aa632106",
   "metadata": {},
   "source": [
    "## Evaluations"
   ]
  },
  {
   "cell_type": "code",
   "execution_count": null,
   "id": "063717db",
   "metadata": {},
   "outputs": [],
   "source": []
  }
 ],
 "metadata": {
  "kernelspec": {
   "display_name": "Python 3 (ipykernel)",
   "language": "python",
   "name": "python3"
  },
  "language_info": {
   "codemirror_mode": {
    "name": "ipython",
    "version": 3
   },
   "file_extension": ".py",
   "mimetype": "text/x-python",
   "name": "python",
   "nbconvert_exporter": "python",
   "pygments_lexer": "ipython3",
   "version": "3.7.11"
  }
 },
 "nbformat": 4,
 "nbformat_minor": 5
}
