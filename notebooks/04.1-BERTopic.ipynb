{
 "cells": [
  {
   "cell_type": "code",
   "execution_count": 1,
   "id": "928df22e",
   "metadata": {
    "scrolled": false
   },
   "outputs": [],
   "source": [
    "#nltk.download('stopwords')\n",
    "#nltk.download('punkt')\n",
    "#!python -m spacy download es_core_news_md\n",
    "#!python -m spacy validate\n",
    "\n",
    "import warnings\n",
    "import pandas as pd\n",
    "warnings.filterwarnings(\"ignore\", category=DeprecationWarning)\n",
    "pd.options.mode.chained_assignment = None  # default='warn'\n",
    "\n",
    "from tqdm import tqdm\n",
    "from tqdm.notebook import tqdm_notebook\n",
    "tqdm.pandas()\n",
    "import numpy as np\n",
    "\n",
    "from utils import clean_dataset_basedOn_media\n",
    "from utils import cluster_by_month"
   ]
  },
  {
   "cell_type": "code",
   "execution_count": 2,
   "id": "d0a29a4f",
   "metadata": {
    "scrolled": true
   },
   "outputs": [
    {
     "data": {
      "text/plain": [
       "date               False\n",
       "media_outlet       False\n",
       "url                False\n",
       "title              False\n",
       "text               False\n",
       "content            False\n",
       "comuna              True\n",
       "date_clustering    False\n",
       "dtype: bool"
      ]
     },
     "execution_count": 2,
     "metadata": {},
     "output_type": "execute_result"
    }
   ],
   "source": [
    "df = pd.read_csv(\"../data/loslagos-comunas.csv\")\n",
    "df = cluster_by_month(clean_dataset_basedOn_media(df))\n",
    "df.isna().any()"
   ]
  },
  {
   "cell_type": "code",
   "execution_count": 3,
   "id": "af70e054",
   "metadata": {},
   "outputs": [
    {
     "data": {
      "text/plain": [
       "2022-03    4617\n",
       "2021-12    4492\n",
       "2021-10    4370\n",
       "2021-11    4326\n",
       "2022-01    4182\n",
       "2022-02    3950\n",
       "2022-04    3384\n",
       "Name: date_clustering, dtype: int64"
      ]
     },
     "execution_count": 3,
     "metadata": {},
     "output_type": "execute_result"
    }
   ],
   "source": [
    "df.date_clustering.value_counts()"
   ]
  },
  {
   "cell_type": "code",
   "execution_count": null,
   "id": "8dfa3d65",
   "metadata": {},
   "outputs": [],
   "source": [
    "# Obtenemos las etiquetas del value_counts \n",
    "months = df.date_clustering.value_counts().index.tolist()\n",
    "\n",
    "# se hará un análisis del primer mes\n",
    "import datetime\n",
    "dates = [datetime.datetime.strptime(ts, \"%Y-%m\") for ts in months]\n",
    "dates.sort()\n",
    "sorteddates = [datetime.datetime.strftime(ts, \"%Y-%m\") for ts in dates]"
   ]
  },
  {
   "cell_type": "code",
   "execution_count": null,
   "id": "a7e6b009",
   "metadata": {
    "scrolled": true
   },
   "outputs": [],
   "source": [
    "##### Queremos seleccionar por comuna?\n",
    "#selection = ['puerto montt']\n",
    "#mask = df.comuna.apply(lambda x: any(item for item in selection if item in x))\n",
    "#df1 = df[mask]"
   ]
  },
  {
   "cell_type": "markdown",
   "id": "b50c1ded",
   "metadata": {},
   "source": [
    "# [BERTopic](https://maartengr.github.io/BERTopic/index.html)\n",
    "BERTopic is a topic modeling technique that leverages transformers and c-TF-IDF to create dense clusters allowing for easily interpretable topics whilst keeping important words in the topic descriptions."
   ]
  },
  {
   "cell_type": "code",
   "execution_count": null,
   "id": "72bd61fd",
   "metadata": {},
   "outputs": [],
   "source": [
    "#!pip install bertopic\n",
    "from bertopic import BERTopic\n",
    "from sklearn.feature_extraction.text import CountVectorizer"
   ]
  },
  {
   "cell_type": "code",
   "execution_count": null,
   "id": "55bce74d",
   "metadata": {},
   "outputs": [],
   "source": [
    "selected = df[df.date_clustering == sorteddates[0]]\n",
    "docs = selected.content.tolist()\n",
    "topic_model = BERTopic(language=\"spanish\",\n",
    "                       calculate_probabilities=True,\n",
    "                       verbose=True,\n",
    "                       nr_topics=15)\n",
    "\n",
    "topics, probs = topic_model.fit_transform(docs)"
   ]
  },
  {
   "cell_type": "code",
   "execution_count": null,
   "id": "0ff8542e",
   "metadata": {},
   "outputs": [],
   "source": [
    "freq = topic_model.get_topic_info()\n",
    "print(freq)"
   ]
  },
  {
   "cell_type": "code",
   "execution_count": null,
   "id": "e49ea3a6",
   "metadata": {},
   "outputs": [],
   "source": [
    "fig = topic_model.visualize_topics()\n",
    "fig.write_image(\"../img/fig0411.png\")"
   ]
  },
  {
   "cell_type": "markdown",
   "id": "1dc273ce",
   "metadata": {},
   "source": [
    "<img src=\"../img/fig0411.png\"/>"
   ]
  },
  {
   "cell_type": "code",
   "execution_count": null,
   "id": "51cc81b9",
   "metadata": {},
   "outputs": [],
   "source": [
    "labels = topic_model.generate_topic_labels()\n",
    "print(labels)"
   ]
  },
  {
   "cell_type": "code",
   "execution_count": null,
   "id": "d8f0264b",
   "metadata": {
    "scrolled": true
   },
   "outputs": [],
   "source": [
    "topic_model.get_topic(0)  # Select the most frequent topic"
   ]
  },
  {
   "cell_type": "code",
   "execution_count": null,
   "id": "3749c6a5",
   "metadata": {},
   "outputs": [],
   "source": [
    "fig = topic_model.visualize_barchart()\n",
    "fig.write_image(\"../img/fig0412.png\")"
   ]
  },
  {
   "cell_type": "markdown",
   "id": "42287582",
   "metadata": {},
   "source": [
    "<img src=\"../img/fig0412.png\"/>"
   ]
  },
  {
   "cell_type": "code",
   "execution_count": null,
   "id": "fb125363",
   "metadata": {
    "scrolled": false
   },
   "outputs": [],
   "source": [
    "fig = topic_model.visualize_heatmap()\n",
    "fig.write_image(\"../img/fig0413.png\")"
   ]
  },
  {
   "cell_type": "markdown",
   "id": "181d072c",
   "metadata": {},
   "source": [
    "<img src=\"../img/fig0413.png\"/>"
   ]
  },
  {
   "cell_type": "code",
   "execution_count": null,
   "id": "08dd72ee",
   "metadata": {},
   "outputs": [],
   "source": [
    "fig = topic_model.visualize_hierarchy()\n",
    "fig.write_image(\"../img/fig0414.png\")"
   ]
  },
  {
   "cell_type": "markdown",
   "id": "ad65b0e0",
   "metadata": {},
   "source": [
    "<img src=\"../img/fig0414.png\"/>"
   ]
  },
  {
   "cell_type": "code",
   "execution_count": null,
   "id": "f0f9b863",
   "metadata": {
    "scrolled": false
   },
   "outputs": [],
   "source": [
    "fig = topic_model.visualize_documents(docs)\n",
    "fig.write_image(\"../img/fig0415.png\")"
   ]
  },
  {
   "cell_type": "markdown",
   "id": "17a8c723",
   "metadata": {},
   "source": [
    "<img src=\"../img/fig0415.png\"/>"
   ]
  },
  {
   "cell_type": "code",
   "execution_count": null,
   "id": "84a9c79a",
   "metadata": {
    "scrolled": false
   },
   "outputs": [],
   "source": [
    "labels=topic_model.generate_topic_labels()\n",
    "labels"
   ]
  },
  {
   "cell_type": "code",
   "execution_count": null,
   "id": "d279f147",
   "metadata": {},
   "outputs": [],
   "source": [
    "df['topic'] = \"\"\n",
    "count = 0\n",
    "for doc in docs:\n",
    "    \n",
    "    df.at[df.index[df['content'] == doc], 'topic'] = labels[topics[count]+1]\n",
    "    count+=1"
   ]
  },
  {
   "cell_type": "code",
   "execution_count": null,
   "id": "9b9636a3",
   "metadata": {},
   "outputs": [],
   "source": [
    "df.head(20)"
   ]
  },
  {
   "cell_type": "code",
   "execution_count": null,
   "id": "621a4445",
   "metadata": {},
   "outputs": [],
   "source": [
    "#topic_model.reduce_topics(docs, topics, nr_topics=7)"
   ]
  },
  {
   "cell_type": "code",
   "execution_count": null,
   "id": "7341400f",
   "metadata": {},
   "outputs": [],
   "source": [
    "#topic_model.get_representative_docs() # entrega el doc más representativo para los 7 topicos"
   ]
  }
 ],
 "metadata": {
  "kernelspec": {
   "display_name": "Python 3 (ipykernel)",
   "language": "python",
   "name": "python3"
  },
  "language_info": {
   "codemirror_mode": {
    "name": "ipython",
    "version": 3
   },
   "file_extension": ".py",
   "mimetype": "text/x-python",
   "name": "python",
   "nbconvert_exporter": "python",
   "pygments_lexer": "ipython3",
   "version": "3.7.11"
  }
 },
 "nbformat": 4,
 "nbformat_minor": 5
}
