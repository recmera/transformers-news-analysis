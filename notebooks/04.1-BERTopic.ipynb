{
 "cells": [
  {
   "cell_type": "code",
   "execution_count": 1,
   "id": "928df22e",
   "metadata": {
    "scrolled": false
   },
   "outputs": [],
   "source": [
    "#nltk.download('stopwords')\n",
    "#nltk.download('punkt')\n",
    "#!python -m spacy download es_core_news_md\n",
    "#!python -m spacy validate\n",
    "\n",
    "import warnings\n",
    "import pandas as pd\n",
    "warnings.filterwarnings(\"ignore\", category=DeprecationWarning)\n",
    "pd.options.mode.chained_assignment = None  # default='warn'\n",
    "\n",
    "from tqdm import tqdm\n",
    "from tqdm.notebook import tqdm_notebook\n",
    "tqdm.pandas()\n",
    "import numpy as np\n",
    "\n",
    "from utils import clean_dataset_basedOn_media\n",
    "from utils import cluster_by_month"
   ]
  },
  {
   "cell_type": "code",
   "execution_count": 2,
   "id": "d0a29a4f",
   "metadata": {
    "scrolled": true
   },
   "outputs": [
    {
     "data": {
      "text/plain": [
       "date               False\n",
       "media_outlet       False\n",
       "url                False\n",
       "title              False\n",
       "text               False\n",
       "content            False\n",
       "comuna              True\n",
       "date_clustering    False\n",
       "dtype: bool"
      ]
     },
     "execution_count": 2,
     "metadata": {},
     "output_type": "execute_result"
    }
   ],
   "source": [
    "df = pd.read_csv(\"../data/loslagos-comunas.csv\")\n",
    "df = cluster_by_month(clean_dataset_basedOn_media(df))\n",
    "df.isna().any()"
   ]
  },
  {
   "cell_type": "code",
   "execution_count": 3,
   "id": "af70e054",
   "metadata": {},
   "outputs": [
    {
     "data": {
      "text/plain": [
       "2022-03    4617\n",
       "2021-12    4492\n",
       "2021-10    4370\n",
       "2021-11    4326\n",
       "2022-01    4182\n",
       "2022-02    3950\n",
       "2022-04    3384\n",
       "Name: date_clustering, dtype: int64"
      ]
     },
     "execution_count": 3,
     "metadata": {},
     "output_type": "execute_result"
    }
   ],
   "source": [
    "df.date_clustering.value_counts()"
   ]
  },
  {
   "cell_type": "code",
   "execution_count": 4,
   "id": "8dfa3d65",
   "metadata": {},
   "outputs": [],
   "source": [
    "# Obtenemos las etiquetas del value_counts \n",
    "months = df.date_clustering.value_counts().index.tolist()\n",
    "\n",
    "# se hará un análisis del primer mes\n",
    "import datetime\n",
    "dates = [datetime.datetime.strptime(ts, \"%Y-%m\") for ts in months]\n",
    "dates.sort()\n",
    "sorteddates = [datetime.datetime.strftime(ts, \"%Y-%m\") for ts in dates]"
   ]
  },
  {
   "cell_type": "code",
   "execution_count": 5,
   "id": "a7e6b009",
   "metadata": {
    "scrolled": true
   },
   "outputs": [],
   "source": [
    "##### Queremos seleccionar por comuna?\n",
    "#selection = ['puerto montt']\n",
    "#mask = df.comuna.apply(lambda x: any(item for item in selection if item in x))\n",
    "#df1 = df[mask]"
   ]
  },
  {
   "cell_type": "markdown",
   "id": "b50c1ded",
   "metadata": {},
   "source": [
    "# [BERTopic](https://maartengr.github.io/BERTopic/index.html)\n",
    "BERTopic is a topic modeling technique that leverages transformers and c-TF-IDF to create dense clusters allowing for easily interpretable topics whilst keeping important words in the topic descriptions."
   ]
  },
  {
   "cell_type": "code",
   "execution_count": 6,
   "id": "72bd61fd",
   "metadata": {},
   "outputs": [],
   "source": [
    "#!pip install bertopic\n",
    "from bertopic import BERTopic\n",
    "from sklearn.feature_extraction.text import CountVectorizer"
   ]
  },
  {
   "cell_type": "code",
   "execution_count": 7,
   "id": "55bce74d",
   "metadata": {},
   "outputs": [
    {
     "data": {
      "application/vnd.jupyter.widget-view+json": {
       "model_id": "f0adf4637fde458c8b764c7ee72782d3",
       "version_major": 2,
       "version_minor": 0
      },
      "text/plain": [
       "Batches:   0%|          | 0/137 [00:00<?, ?it/s]"
      ]
     },
     "metadata": {},
     "output_type": "display_data"
    },
    {
     "name": "stderr",
     "output_type": "stream",
     "text": [
      "2022-09-29 17:00:25,976 - BERTopic - Transformed documents to Embeddings\n",
      "2022-09-29 17:01:05,720 - BERTopic - Reduced dimensionality\n",
      "2022-09-29 17:01:08,469 - BERTopic - Clustered reduced embeddings\n",
      "2022-09-29 17:01:16,054 - BERTopic - Reduced number of topics from 105 to 16\n"
     ]
    }
   ],
   "source": [
    "selected = df[df.date_clustering == sorteddates[0]]\n",
    "docs = selected.content.tolist()\n",
    "topic_model = BERTopic(language=\"spanish\",\n",
    "                       calculate_probabilities=True,\n",
    "                       verbose=True,\n",
    "                       nr_topics=15)\n",
    "\n",
    "topics, probs = topic_model.fit_transform(docs)"
   ]
  },
  {
   "cell_type": "code",
   "execution_count": 8,
   "id": "0ff8542e",
   "metadata": {},
   "outputs": [
    {
     "name": "stdout",
     "output_type": "stream",
     "text": [
      "    Topic  Count                                            Name\n",
      "0      -1   2825                    -1_años_personas_chile_parte\n",
      "1       0    166                  0_festival_teatro_música_artes\n",
      "2       1    155               1_torneo_deportes_provincial_colo\n",
      "3       2    140                    2_colo_partido_puntos_equipo\n",
      "4       3    111                 3_casos_nuevos_contagios_región\n",
      "5       4    104                4_dosis_salud_vacunación_vacunas\n",
      "6       5    103        5_educación_estudiantes_admisión_proceso\n",
      "7       6     96                6_hospital_salud_mayores_adultos\n",
      "8       7     95             7_bomberos_accidente_incendio_lugar\n",
      "9       8     94                   8_sichel_kast_candidato_boric\n",
      "10      9     92              9_roja_paraguay_selección_brereton\n",
      "11     10     90                 10_tribunal_años_juicio_víctima\n",
      "12     11     88          11_piñera_presidente_acusación_dominga\n",
      "13     12     72  12_regional_recursos_desarrollo_organizaciones\n",
      "14     13     70                  13_joven_muerte_cuerpo_persona\n",
      "15     14     69               14_mujer_carabineros_víctima_robo\n"
     ]
    }
   ],
   "source": [
    "freq = topic_model.get_topic_info()\n",
    "print(freq)"
   ]
  },
  {
   "cell_type": "code",
   "execution_count": 10,
   "id": "e49ea3a6",
   "metadata": {},
   "outputs": [],
   "source": [
    "fig = topic_model.visualize_topics()\n",
    "fig.write_image(\"../img/fig0411.png\")"
   ]
  },
  {
   "cell_type": "markdown",
   "id": "1dc273ce",
   "metadata": {},
   "source": [
    "<img src=\"https://github.com/rickiwasho/proyecto-titulo/blob/main/img/fig0411.png?raw=true\" />"
   ]
  },
  {
   "cell_type": "code",
   "execution_count": 11,
   "id": "51cc81b9",
   "metadata": {},
   "outputs": [
    {
     "name": "stdout",
     "output_type": "stream",
     "text": [
      "['-1_años_personas_chile', '0_festival_teatro_música', '1_torneo_deportes_provincial', '2_colo_partido_puntos', '3_casos_nuevos_contagios', '4_dosis_salud_vacunación', '5_educación_estudiantes_admisión', '6_hospital_salud_mayores', '7_bomberos_accidente_incendio', '8_sichel_kast_candidato', '9_roja_paraguay_selección', '10_tribunal_años_juicio', '11_piñera_presidente_acusación', '12_regional_recursos_desarrollo', '13_joven_muerte_cuerpo', '14_mujer_carabineros_víctima']\n"
     ]
    }
   ],
   "source": [
    "labels = topic_model.generate_topic_labels()\n",
    "print(labels)"
   ]
  },
  {
   "cell_type": "code",
   "execution_count": 12,
   "id": "d8f0264b",
   "metadata": {
    "scrolled": true
   },
   "outputs": [
    {
     "data": {
      "text/plain": [
       "[('festival', 0.03310644806723276),\n",
       " ('teatro', 0.02553253049535346),\n",
       " ('música', 0.024818606307270216),\n",
       " ('artes', 0.02086583709959196),\n",
       " ('cultural', 0.02011821746626615),\n",
       " ('arte', 0.019126513483863794),\n",
       " ('octubre', 0.016901393888092534),\n",
       " ('cultura', 0.01684748237058268),\n",
       " ('actividades', 0.015020860466265898),\n",
       " ('través', 0.014343368208111558)]"
      ]
     },
     "execution_count": 12,
     "metadata": {},
     "output_type": "execute_result"
    }
   ],
   "source": [
    "topic_model.get_topic(0)  # Select the most frequent topic"
   ]
  },
  {
   "cell_type": "code",
   "execution_count": 13,
   "id": "3749c6a5",
   "metadata": {},
   "outputs": [],
   "source": [
    "fig = topic_model.visualize_barchart()\n",
    "fig.write_image(\"../img/fig0412.png\")"
   ]
  },
  {
   "cell_type": "markdown",
   "id": "42287582",
   "metadata": {},
   "source": [
    "<img src=\"https://github.com/rickiwasho/proyecto-titulo/blob/main/img/fig0412.png?raw=true\" />"
   ]
  },
  {
   "cell_type": "code",
   "execution_count": 14,
   "id": "fb125363",
   "metadata": {
    "scrolled": false
   },
   "outputs": [],
   "source": [
    "fig = topic_model.visualize_heatmap()\n",
    "fig.write_image(\"../img/fig0413.png\")"
   ]
  },
  {
   "cell_type": "markdown",
   "id": "181d072c",
   "metadata": {},
   "source": [
    "<img src=\"https://github.com/rickiwasho/proyecto-titulo/blob/main/img/fig0413.png?raw=true\" />"
   ]
  },
  {
   "cell_type": "code",
   "execution_count": 15,
   "id": "08dd72ee",
   "metadata": {},
   "outputs": [],
   "source": [
    "fig = topic_model.visualize_hierarchy()\n",
    "fig.write_image(\"../img/fig0414.png\")"
   ]
  },
  {
   "cell_type": "markdown",
   "id": "ad65b0e0",
   "metadata": {},
   "source": [
    "<img src=\"https://github.com/rickiwasho/proyecto-titulo/blob/main/img/fig0414.png?raw=true\" />"
   ]
  },
  {
   "cell_type": "code",
   "execution_count": 16,
   "id": "f0f9b863",
   "metadata": {
    "scrolled": false
   },
   "outputs": [],
   "source": [
    "fig = topic_model.visualize_documents(docs)\n",
    "fig.write_image(\"../img/fig0415.png\")"
   ]
  },
  {
   "cell_type": "markdown",
   "id": "17a8c723",
   "metadata": {},
   "source": [
    "<img src=\"../img/fig0415.png\"/>"
   ]
  },
  {
   "cell_type": "code",
   "execution_count": 17,
   "id": "84a9c79a",
   "metadata": {
    "scrolled": false
   },
   "outputs": [
    {
     "data": {
      "text/plain": [
       "['-1_años_personas_chile',\n",
       " '0_festival_teatro_música',\n",
       " '1_torneo_deportes_provincial',\n",
       " '2_colo_partido_puntos',\n",
       " '3_casos_nuevos_contagios',\n",
       " '4_dosis_salud_vacunación',\n",
       " '5_educación_estudiantes_admisión',\n",
       " '6_hospital_salud_mayores',\n",
       " '7_bomberos_accidente_incendio',\n",
       " '8_sichel_kast_candidato',\n",
       " '9_roja_paraguay_selección',\n",
       " '10_tribunal_años_juicio',\n",
       " '11_piñera_presidente_acusación',\n",
       " '12_regional_recursos_desarrollo',\n",
       " '13_joven_muerte_cuerpo',\n",
       " '14_mujer_carabineros_víctima']"
      ]
     },
     "execution_count": 17,
     "metadata": {},
     "output_type": "execute_result"
    }
   ],
   "source": [
    "labels=topic_model.generate_topic_labels()\n",
    "labels"
   ]
  },
  {
   "cell_type": "code",
   "execution_count": 18,
   "id": "d279f147",
   "metadata": {},
   "outputs": [],
   "source": [
    "df['topic'] = \"\"\n",
    "count = 0\n",
    "for doc in docs:\n",
    "    \n",
    "    df.at[df.index[df['content'] == doc], 'topic'] = labels[topics[count]+1]\n",
    "    count+=1"
   ]
  },
  {
   "cell_type": "code",
   "execution_count": 25,
   "id": "1fbafc61",
   "metadata": {},
   "outputs": [
    {
     "data": {
      "text/html": [
       "<div>\n",
       "<style scoped>\n",
       "    .dataframe tbody tr th:only-of-type {\n",
       "        vertical-align: middle;\n",
       "    }\n",
       "\n",
       "    .dataframe tbody tr th {\n",
       "        vertical-align: top;\n",
       "    }\n",
       "\n",
       "    .dataframe thead th {\n",
       "        text-align: right;\n",
       "    }\n",
       "</style>\n",
       "<table border=\"1\" class=\"dataframe\">\n",
       "  <thead>\n",
       "    <tr style=\"text-align: right;\">\n",
       "      <th></th>\n",
       "      <th>date</th>\n",
       "      <th>media_outlet</th>\n",
       "      <th>url</th>\n",
       "      <th>title</th>\n",
       "      <th>text</th>\n",
       "      <th>content</th>\n",
       "      <th>comuna</th>\n",
       "      <th>date_clustering</th>\n",
       "      <th>topic</th>\n",
       "    </tr>\n",
       "  </thead>\n",
       "  <tbody>\n",
       "    <tr>\n",
       "      <th>4</th>\n",
       "      <td>2021-10-01</td>\n",
       "      <td>elheraldoaustral</td>\n",
       "      <td>https://www.eha.cl/noticia/local/galeria-de-ar...</td>\n",
       "      <td>Galería de Arte Machacoya realizará remate de ...</td>\n",
       "      <td>Hoy viernes a las 18:30 horas, en Machacoya At...</td>\n",
       "      <td>galería arte machacoya realizará remate obras ...</td>\n",
       "      <td>NaN</td>\n",
       "      <td>2021-10</td>\n",
       "      <td>0_festival_teatro_música</td>\n",
       "    </tr>\n",
       "    <tr>\n",
       "      <th>7</th>\n",
       "      <td>2021-10-01</td>\n",
       "      <td>seminariolocal</td>\n",
       "      <td>https://www.semanariolocal.cl/archivos/2207</td>\n",
       "      <td>Gremio médico rechaza cierre de camas críticas...</td>\n",
       "      <td>El Capítulo Médico Ancud y el Consejo Regional...</td>\n",
       "      <td>gremio médico rechaza cierre camas críticas im...</td>\n",
       "      <td>['ancud', 'puerto montt']</td>\n",
       "      <td>2021-10</td>\n",
       "      <td>6_hospital_salud_mayores</td>\n",
       "    </tr>\n",
       "    <tr>\n",
       "      <th>19</th>\n",
       "      <td>2021-10-01</td>\n",
       "      <td>elquellonino</td>\n",
       "      <td>https://elquellonino.cl/29951/exitoso-operativ...</td>\n",
       "      <td>Exitoso operativo de fisiatría se realizó en H...</td>\n",
       "      <td>Usuarios destacaron atenciones de especialista...</td>\n",
       "      <td>exitoso operativo fisiatría realizó hospital c...</td>\n",
       "      <td>['queilen']</td>\n",
       "      <td>2021-10</td>\n",
       "      <td>6_hospital_salud_mayores</td>\n",
       "    </tr>\n",
       "    <tr>\n",
       "      <th>20</th>\n",
       "      <td>2021-10-01</td>\n",
       "      <td>elquellonino</td>\n",
       "      <td>https://elquellonino.cl/29949/festival-cultura...</td>\n",
       "      <td>Festival “Cultura por Fibra” y II Encuentro Pr...</td>\n",
       "      <td>El Centro Cultural Municipal de Castro también...</td>\n",
       "      <td>festival “ cultura fibra ” ii encuentro provin...</td>\n",
       "      <td>['castro']</td>\n",
       "      <td>2021-10</td>\n",
       "      <td>0_festival_teatro_música</td>\n",
       "    </tr>\n",
       "    <tr>\n",
       "      <th>21</th>\n",
       "      <td>2021-10-01</td>\n",
       "      <td>elquellonino</td>\n",
       "      <td>https://elquellonino.cl/29946/comunidad-valora...</td>\n",
       "      <td>Comunidad valora compromiso y acciones impleme...</td>\n",
       "      <td>Director del servicio de salud en el encuentro...</td>\n",
       "      <td>comunidad valora compromiso acciones implement...</td>\n",
       "      <td>['queilen']</td>\n",
       "      <td>2021-10</td>\n",
       "      <td>6_hospital_salud_mayores</td>\n",
       "    </tr>\n",
       "    <tr>\n",
       "      <th>...</th>\n",
       "      <td>...</td>\n",
       "      <td>...</td>\n",
       "      <td>...</td>\n",
       "      <td>...</td>\n",
       "      <td>...</td>\n",
       "      <td>...</td>\n",
       "      <td>...</td>\n",
       "      <td>...</td>\n",
       "      <td>...</td>\n",
       "    </tr>\n",
       "    <tr>\n",
       "      <th>4372</th>\n",
       "      <td>2021-10-31</td>\n",
       "      <td>elvacanudo</td>\n",
       "      <td>https://www.elvacanudo.cl/noticia/sociedad/adu...</td>\n",
       "      <td>Adulto mayor queda en riesgo vital tras ser at...</td>\n",
       "      <td>Durante la jornada de este sábado, un hombre d...</td>\n",
       "      <td>adulto mayor queda riesgo vital tras ser atrop...</td>\n",
       "      <td>NaN</td>\n",
       "      <td>2021-10</td>\n",
       "      <td>7_bomberos_accidente_incendio</td>\n",
       "    </tr>\n",
       "    <tr>\n",
       "      <th>4378</th>\n",
       "      <td>2021-10-31</td>\n",
       "      <td>radiosago</td>\n",
       "      <td>https://www.radiosago.cl/investigan-homicidio-...</td>\n",
       "      <td>Investigan homicidio de hombre en Panguipulli:...</td>\n",
       "      <td>La Policía de Investigaciones investiga un hom...</td>\n",
       "      <td>investigan homicidio hombre panguipulli autor ...</td>\n",
       "      <td>NaN</td>\n",
       "      <td>2021-10</td>\n",
       "      <td>13_joven_muerte_cuerpo</td>\n",
       "    </tr>\n",
       "    <tr>\n",
       "      <th>4381</th>\n",
       "      <td>2021-10-31</td>\n",
       "      <td>radiosago</td>\n",
       "      <td>https://www.radiosago.cl/cristian-romero-asume...</td>\n",
       "      <td>Cristián Romero asume como interino en la “U” ...</td>\n",
       "      <td>Universidad de Chile confirmó en forma oficial...</td>\n",
       "      <td>cristián romero asume interino “ u ” cinco nom...</td>\n",
       "      <td>NaN</td>\n",
       "      <td>2021-10</td>\n",
       "      <td>2_colo_partido_puntos</td>\n",
       "    </tr>\n",
       "    <tr>\n",
       "      <th>4383</th>\n",
       "      <td>2021-10-31</td>\n",
       "      <td>radiosago</td>\n",
       "      <td>https://www.radiosago.cl/encuesta-pulso-ciudad...</td>\n",
       "      <td>Encuesta Pulso Ciudadano: Kast encabeza las pr...</td>\n",
       "      <td>Este domingo, durante el programa Mesa Central...</td>\n",
       "      <td>encuesta pulso ciudadano kast encabeza prefere...</td>\n",
       "      <td>NaN</td>\n",
       "      <td>2021-10</td>\n",
       "      <td>8_sichel_kast_candidato</td>\n",
       "    </tr>\n",
       "    <tr>\n",
       "      <th>4384</th>\n",
       "      <td>2021-10-31</td>\n",
       "      <td>radiosago</td>\n",
       "      <td>https://www.radiosago.cl/asoma-el-reemplazante...</td>\n",
       "      <td>Asoma el reemplazante del “Huevo” Valencia: Cr...</td>\n",
       "      <td>Momentos de mucha incertidumbre se viven en es...</td>\n",
       "      <td>asoma reemplazante “ huevo ” valencia cristián...</td>\n",
       "      <td>NaN</td>\n",
       "      <td>2021-10</td>\n",
       "      <td>2_colo_partido_puntos</td>\n",
       "    </tr>\n",
       "  </tbody>\n",
       "</table>\n",
       "<p>1547 rows × 9 columns</p>\n",
       "</div>"
      ],
      "text/plain": [
       "            date      media_outlet  \\\n",
       "4     2021-10-01  elheraldoaustral   \n",
       "7     2021-10-01    seminariolocal   \n",
       "19    2021-10-01      elquellonino   \n",
       "20    2021-10-01      elquellonino   \n",
       "21    2021-10-01      elquellonino   \n",
       "...          ...               ...   \n",
       "4372  2021-10-31        elvacanudo   \n",
       "4378  2021-10-31         radiosago   \n",
       "4381  2021-10-31         radiosago   \n",
       "4383  2021-10-31         radiosago   \n",
       "4384  2021-10-31         radiosago   \n",
       "\n",
       "                                                    url  \\\n",
       "4     https://www.eha.cl/noticia/local/galeria-de-ar...   \n",
       "7           https://www.semanariolocal.cl/archivos/2207   \n",
       "19    https://elquellonino.cl/29951/exitoso-operativ...   \n",
       "20    https://elquellonino.cl/29949/festival-cultura...   \n",
       "21    https://elquellonino.cl/29946/comunidad-valora...   \n",
       "...                                                 ...   \n",
       "4372  https://www.elvacanudo.cl/noticia/sociedad/adu...   \n",
       "4378  https://www.radiosago.cl/investigan-homicidio-...   \n",
       "4381  https://www.radiosago.cl/cristian-romero-asume...   \n",
       "4383  https://www.radiosago.cl/encuesta-pulso-ciudad...   \n",
       "4384  https://www.radiosago.cl/asoma-el-reemplazante...   \n",
       "\n",
       "                                                  title  \\\n",
       "4     Galería de Arte Machacoya realizará remate de ...   \n",
       "7     Gremio médico rechaza cierre de camas críticas...   \n",
       "19    Exitoso operativo de fisiatría se realizó en H...   \n",
       "20    Festival “Cultura por Fibra” y II Encuentro Pr...   \n",
       "21    Comunidad valora compromiso y acciones impleme...   \n",
       "...                                                 ...   \n",
       "4372  Adulto mayor queda en riesgo vital tras ser at...   \n",
       "4378  Investigan homicidio de hombre en Panguipulli:...   \n",
       "4381  Cristián Romero asume como interino en la “U” ...   \n",
       "4383  Encuesta Pulso Ciudadano: Kast encabeza las pr...   \n",
       "4384  Asoma el reemplazante del “Huevo” Valencia: Cr...   \n",
       "\n",
       "                                                   text  \\\n",
       "4     Hoy viernes a las 18:30 horas, en Machacoya At...   \n",
       "7     El Capítulo Médico Ancud y el Consejo Regional...   \n",
       "19    Usuarios destacaron atenciones de especialista...   \n",
       "20    El Centro Cultural Municipal de Castro también...   \n",
       "21    Director del servicio de salud en el encuentro...   \n",
       "...                                                 ...   \n",
       "4372  Durante la jornada de este sábado, un hombre d...   \n",
       "4378  La Policía de Investigaciones investiga un hom...   \n",
       "4381  Universidad de Chile confirmó en forma oficial...   \n",
       "4383  Este domingo, durante el programa Mesa Central...   \n",
       "4384  Momentos de mucha incertidumbre se viven en es...   \n",
       "\n",
       "                                                content  \\\n",
       "4     galería arte machacoya realizará remate obras ...   \n",
       "7     gremio médico rechaza cierre camas críticas im...   \n",
       "19    exitoso operativo fisiatría realizó hospital c...   \n",
       "20    festival “ cultura fibra ” ii encuentro provin...   \n",
       "21    comunidad valora compromiso acciones implement...   \n",
       "...                                                 ...   \n",
       "4372  adulto mayor queda riesgo vital tras ser atrop...   \n",
       "4378  investigan homicidio hombre panguipulli autor ...   \n",
       "4381  cristián romero asume interino “ u ” cinco nom...   \n",
       "4383  encuesta pulso ciudadano kast encabeza prefere...   \n",
       "4384  asoma reemplazante “ huevo ” valencia cristián...   \n",
       "\n",
       "                         comuna date_clustering                          topic  \n",
       "4                           NaN         2021-10       0_festival_teatro_música  \n",
       "7     ['ancud', 'puerto montt']         2021-10       6_hospital_salud_mayores  \n",
       "19                  ['queilen']         2021-10       6_hospital_salud_mayores  \n",
       "20                   ['castro']         2021-10       0_festival_teatro_música  \n",
       "21                  ['queilen']         2021-10       6_hospital_salud_mayores  \n",
       "...                         ...             ...                            ...  \n",
       "4372                        NaN         2021-10  7_bomberos_accidente_incendio  \n",
       "4378                        NaN         2021-10         13_joven_muerte_cuerpo  \n",
       "4381                        NaN         2021-10          2_colo_partido_puntos  \n",
       "4383                        NaN         2021-10        8_sichel_kast_candidato  \n",
       "4384                        NaN         2021-10          2_colo_partido_puntos  \n",
       "\n",
       "[1547 rows x 9 columns]"
      ]
     },
     "execution_count": 25,
     "metadata": {},
     "output_type": "execute_result"
    }
   ],
   "source": [
    "dfinv = df.loc[df.topic!=\"-1_años_personas_chile\"]\n",
    "dfinv = dfinv.loc[df.date_clustering==\"2021-10\"]\n",
    "dfinv"
   ]
  },
  {
   "cell_type": "code",
   "execution_count": 26,
   "id": "9ce114d9",
   "metadata": {},
   "outputs": [],
   "source": [
    "dfinv.to_csv('../2021-10-bertopic.csv', index=False)"
   ]
  },
  {
   "cell_type": "code",
   "execution_count": null,
   "id": "80e4b03a",
   "metadata": {},
   "outputs": [],
   "source": []
  },
  {
   "cell_type": "code",
   "execution_count": null,
   "id": "1c8baf9c",
   "metadata": {},
   "outputs": [],
   "source": []
  },
  {
   "cell_type": "code",
   "execution_count": null,
   "id": "621a4445",
   "metadata": {},
   "outputs": [],
   "source": [
    "#topic_model.reduce_topics(docs, topics, nr_topics=7)"
   ]
  },
  {
   "cell_type": "code",
   "execution_count": null,
   "id": "7341400f",
   "metadata": {},
   "outputs": [],
   "source": [
    "#topic_model.get_representative_docs() # entrega el doc más representativo para los 7 topicos"
   ]
  },
  {
   "cell_type": "code",
   "execution_count": null,
   "id": "e389f325",
   "metadata": {},
   "outputs": [],
   "source": []
  }
 ],
 "metadata": {
  "kernelspec": {
   "display_name": "Python 3 (ipykernel)",
   "language": "python",
   "name": "python3"
  },
  "language_info": {
   "codemirror_mode": {
    "name": "ipython",
    "version": 3
   },
   "file_extension": ".py",
   "mimetype": "text/x-python",
   "name": "python",
   "nbconvert_exporter": "python",
   "pygments_lexer": "ipython3",
   "version": "3.7.11"
  }
 },
 "nbformat": 4,
 "nbformat_minor": 5
}
