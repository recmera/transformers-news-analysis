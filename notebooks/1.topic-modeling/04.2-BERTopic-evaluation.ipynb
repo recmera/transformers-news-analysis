{
 "cells": [
  {
   "cell_type": "markdown",
   "id": "9c3b7044",
   "metadata": {},
   "source": [
    "https://github.com/MaartenGr/BERTopic_evaluation/blob/main/notebooks/Evaluation.ipynb"
   ]
  }
 ],
 "metadata": {
  "kernelspec": {
   "display_name": "Python 3 (ipykernel)",
   "language": "python",
   "name": "python3"
  },
  "language_info": {
   "codemirror_mode": {
    "name": "ipython",
    "version": 3
   },
   "file_extension": ".py",
   "mimetype": "text/x-python",
   "name": "python",
   "nbconvert_exporter": "python",
   "pygments_lexer": "ipython3",
   "version": "3.7.8rc1"
  }
 },
 "nbformat": 4,
 "nbformat_minor": 5
}
