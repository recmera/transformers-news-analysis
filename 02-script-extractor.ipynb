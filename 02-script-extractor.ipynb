{
 "cells": [
  {
   "cell_type": "markdown",
   "id": "3fc3ecb2",
   "metadata": {},
   "source": [
    "### Script extractor super-robusto\n",
    "\n",
    "La idea es que este script sea lo suficientemente robusto como para extraer las noticias de todos los diarios.\n",
    "\n",
    "Cada diario tiene su particularidad, ya sea:\n",
    "- mecanismos de protección frente a la extracción de texto automatizada\n",
    "- distinto diseño de su página, y por ende, distintos patrones de extracción\n",
    "- texto de compartir o publicidad incrustado y que ensucia la noticia \n",
    "- etc...\n",
    "\n",
    "\n",
    "#### 1. Mecanismos de protección\n",
    "-  Diarios que no presentan sus noticias en formato de texto, sino que realizan una captura de las planas del diario.\n",
    "\n",
    "- Diarios que impiden realizar peticiones http de forma frecuente (y en estos casos es inutil utilizar 'time.sleep' o simular distintos agentes.\n",
    "\n",
    "\n",
    "---\n",
    "\n",
    "\n",
    "\n",
    "\n",
    "- parametros\n",
    "\n",
    "1. trash -> Elimina la basura del texto\n",
    "2. xpath title, xpath content, xpath date"
   ]
  }
 ],
 "metadata": {
  "kernelspec": {
   "display_name": "Python 3 (ipykernel)",
   "language": "python",
   "name": "python3"
  },
  "language_info": {
   "codemirror_mode": {
    "name": "ipython",
    "version": 3
   },
   "file_extension": ".py",
   "mimetype": "text/x-python",
   "name": "python",
   "nbconvert_exporter": "python",
   "pygments_lexer": "ipython3",
   "version": "3.8.10"
  }
 },
 "nbformat": 4,
 "nbformat_minor": 5
}
