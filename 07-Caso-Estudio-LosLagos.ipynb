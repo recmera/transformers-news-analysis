{
 "cells": [
  {
   "cell_type": "markdown",
   "id": "f7ac14f8",
   "metadata": {},
   "source": [
    "<img src=\"img/los_lagos.png\" />\n",
    "\n",
    "Fuente: [wikipedia](https://es.wikipedia.org/wiki/Portal:Regi%C3%B3n_de_Los_Lagos/Comunas_de_Los_Lagos)"
   ]
  },
  {
   "cell_type": "code",
   "execution_count": 2,
   "id": "ae78ebcb",
   "metadata": {},
   "outputs": [],
   "source": [
    "comunas = [\"ancud\", \"castro\", \"chonchi\", \"curaco de vélez\", \"dalcahue\", \n",
    "           \"puqueldón\", \"queilén\", \"quemchi\", \"quellón\", \"quinchao\"\n",
    "           \"calbuco\", \"cochamó\", \"fresia\", \"frutillar\", \"llanquihue\"\n",
    "           \"los muermos\", \"maullin\", \"puerto montt\", \"puerto varas\", \"osorno\"\n",
    "           \"puerto octay\", \"purranque\", \"puyehue\", \"rio negro\", \"san juan de la costa\",\n",
    "           \"san pablo\", \"chaitén\", \"futaleufú\", \"hualaihué\", \"palena\"]"
   ]
  }
 ],
 "metadata": {
  "kernelspec": {
   "display_name": "Python 3 (ipykernel)",
   "language": "python",
   "name": "python3"
  },
  "language_info": {
   "codemirror_mode": {
    "name": "ipython",
    "version": 3
   },
   "file_extension": ".py",
   "mimetype": "text/x-python",
   "name": "python",
   "nbconvert_exporter": "python",
   "pygments_lexer": "ipython3",
   "version": "3.7.11"
  }
 },
 "nbformat": 4,
 "nbformat_minor": 5
}
